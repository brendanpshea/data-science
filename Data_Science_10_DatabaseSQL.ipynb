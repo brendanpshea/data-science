{
  "nbformat": 4,
  "nbformat_minor": 0,
  "metadata": {
    "colab": {
      "provenance": [],
      "authorship_tag": "ABX9TyO+Xs1YtmbQ5N8XNwemkbbf",
      "include_colab_link": true
    },
    "kernelspec": {
      "name": "python3",
      "display_name": "Python 3"
    },
    "language_info": {
      "name": "python"
    }
  },
  "cells": [
    {
      "cell_type": "markdown",
      "metadata": {
        "id": "view-in-github",
        "colab_type": "text"
      },
      "source": [
        "<a href=\"https://colab.research.google.com/github/brendanpshea/data-science/blob/main/Data_Science_10_DatabaseSQL.ipynb\" target=\"_parent\"><img src=\"https://colab.research.google.com/assets/colab-badge.svg\" alt=\"Open In Colab\"/></a>"
      ]
    },
    {
      "cell_type": "markdown",
      "source": [
        "# Introducing Databases:\n",
        "\n",
        "At the heart of data management is the concept of a **relational database**. The term 'relational' gives away its essence --- it's all about relationships. Many of you might be familiar with data frames from your work with Pandas. While data frames provide a two-dimensional structure, where each row represents an entry and each column signifies a feature or attribute of that entry, a relational database goes beyond.\n",
        "\n",
        "A relational database is a collection of interrelated **tables (or \"relations\")**. Each table in this database is akin to a data frame, but what sets a relational database apart is its ability to establish connections or relationships between these tables. These relationships allow for efficient organization, retrieval, and manipulation of data, especially when dealing with complex datasets.\n",
        "\n",
        "Let's draw a comparison for better understanding:\n",
        "\n",
        "1.  Data Frames\n",
        "\n",
        "    -   Two-dimensional: rows and columns.\n",
        "    -   Each row is an entry; each column is an attribute or feature.\n",
        "    -   Useful for linear datasets where relationships between data points are not the main focus.\n",
        "2.  Relational Databases\n",
        "\n",
        "    -   Multi-dimensional: comprises multiple tables.\n",
        "    -   Relationships between tables are defined using keys.\n",
        "    -   Designed to handle complex datasets where interrelations between data are essential.\n",
        "\n",
        "Now, with this foundational knowledge, let's dive into a practical application."
      ],
      "metadata": {
        "id": "onG_hINwp22_"
      }
    },
    {
      "cell_type": "markdown",
      "source": [
        "## Jurassic Park Database Case Study\n",
        "\n",
        "Imagine stepping into the vast and thrilling world of Jurassic Park. The park is teeming with a variety of dinosaurs, each housed in its unique enclosure. As park managers, it's crucial to keep track of every dinosaur, its characteristics, its habitat, feeding times, and so much more. A simple list or a single table won't suffice. This is where our relational database comes into play.\n",
        "\n",
        "In our case study, we'll be exploring a partial Jurassic Park database. This database contains tables that represent different entities like 'Dinosaurs', 'Enclosures', and perhaps 'Park Staff'. These tables not only store information about each entity but also define relationships. For instance, which dinosaur resides in which enclosure? Who is the caretaker responsible for a particular dinosaur? Answering such questions becomes seamless with our relational database.\n",
        "\n",
        "As we delve deeper into the world of SQL and databases, you'll see how this Jurassic Park scenario helps illuminate the power and flexibility of relational databases in managing and querying data."
      ],
      "metadata": {
        "id": "puc6RZvdqIoN"
      }
    },
    {
      "cell_type": "markdown",
      "source": [
        "## What is a Relational Database?\n",
        "A relational database is a collection of data items organized as a set of tables. Each table represents a category of data, making it easier to store, retrieve, and manage information.\n",
        "\n",
        "At the foundation of each table is the **entity**. Think of an entity as the main topic or subject of a table. In our Jurassic Park example, one entity could be 'Dinosaurs'. So, there would be a table dedicated to dinosaurs, containing all relevant information about them. Other potential tables for a theme park database might include things like:\n",
        "\n",
        "- Enclosures: to store data about the animals' living quarters\n",
        "- Employees: to store data about employes\n",
        "- Visitors: to record information about visitors to the park\n",
        "- And many others...\n",
        "\n",
        "Each entity has various **attributes**, which are specific pieces of information we want to capture about the entity. Attributes are represented as columns in a table. For the 'Dinosaurs' entity, attributes could include 'name', indicating the dinosaur's name, 'species' specifying its species type, and 'diet' detailing whether it's a herbivore, carnivore, or omnivore. Each row in this table would represent a specific dinosaur, and the data in that row would provide the details for each attribute.\n",
        "\n",
        "But databases aren't just about storing isolated chunks of data. They shine when showing **relationships** between data. In Jurassic Park, we might want to know which dinosaur resides in which enclosure. This relationship can be represented by linking our 'Dinosaurs' table to another table, 'Enclosures', using shared attributes. In our case, the shared attribute could be 'enclosure_number'.\n",
        "\n",
        "A vital component in our tables is the primary key. This is a unique identifier for each record in a table. In the 'Dinosaurs' table, this could be 'dinosaur_id'. No two dinosaurs would have the same 'dinosaur_id', ensuring that each record is distinct and easily identifiable.\n",
        "\n",
        "Lastly, we define each attribute with a specific data type to ensure consistency in the data we store. Data types determine the nature of data an attribute can hold. For example, 'dinosaur_id' might be an integer (whole number), 'name' would be text, and 'dob' (date of birth) would be a date. This ensures we store data consistently and helps prevent errors. For instance, in our 'Enclosures' table, the 'square_feet' attribute would be an integer, representing the size of the enclosure in square feet."
      ],
      "metadata": {
        "id": "j1Z5hI39sgCL"
      }
    },
    {
      "cell_type": "markdown",
      "source": [
        "## Two Tables at Jurrasic Park\n",
        "\n",
        "To see how this might look in a concrete case, let's look at (a small section) of a potential Jurrasic Park database.\n",
        "\n",
        "\n",
        "### Dinosaurs Table\n",
        "\n",
        "| dinosaur_id | name | species | diet | enclosure_number | dob | biography |\n",
        "| --- | --- | --- | --- | --- | --- | --- |\n",
        "| 1 | Rex | Tyrannosaurus | Carnivore | 5 | 1990-05-20 | The most fearsome dinosaur in the park. |\n",
        "| 2 | Daisy | Brachiosaurus | Herbivore | 3 | 1991-08-14 | Known for her gentle nature and tall neck. |\n",
        "| 3 | Spike | Triceratops | Herbivore | 4 | 1992-04-03 | Recognized by his three distinctive horns. |\n",
        "\n",
        "### Enclosures Table\n",
        "\n",
        "| enclosure_number | square_feet | security_level | habitat_type | notes |\n",
        "| --- | --- | --- | --- | --- |\n",
        "| 3 | 5000 | 2 | Tropical Forest | Ideal for herbivores. |\n",
        "| 4 | 3000 | 3 | Grassland | Open space for dinosaurs to roam freely. |\n",
        "| 5 | 4000 | 5 | Rocky Terrain | High security for predatory dinosaurs. |\n",
        "\n",
        "In these tables, we can see the key elements of relational databases\n",
        "\n",
        "- **Tables and Attributes.** The Dinosaurs Table represents different types of dinosaurs, while the Enclosures Table represents types of enclosures. Each column in these tables, like 'name', 'species', and 'diet' in the Dinosaurs Table or 'square_feet' and 'habitat_type' in the Enclosures Table, represents an **attribute** of that entity.\n",
        "- **Primary Keys.** The 'dinosaur_id' in the Dinosaurs Table and 'enclosure_number' in the Enclosures Table are primary keys. They uniquely identify each record. For example, the dinosaur with 'dinosaur_id' 1 is Rex.\n",
        "- **Relationships.**  The 'enclosure_number' in the Dinosaurs Table establishes a relationship with the Enclosures Table. It indicates which enclosure a specific dinosaur resides in. For instance, Rex (from the Dinosaurs Table) resides in the enclosure with 'enclosure_number' 5, which is a rocky terrain with high security (from the Enclosures Table).\n",
        "- **Data Types.**  The tables use different data types for their attributes. For example, 'name' stores text, 'dob' stores date values, and 'dinosaur_id' uses whole numbers.\n",
        "\n",
        "By understanding these tables and their attributes, we can see how relational databases organize information, define relationships between data points, and ensure each record's uniqueness, all of which are fundamental concepts in database management."
      ],
      "metadata": {
        "id": "rROGByZQIVXD"
      }
    },
    {
      "cell_type": "markdown",
      "source": [
        "## Diving into Records\n",
        "\n",
        "Within the structured confines of an SQL table, a **record** is a specific set of associated data that collectively provides comprehensive information about an entity. It encapsulates a singular instance of the entity the table represents. In essence, a record is a horizontal collection of values, each belonging to a specific column or attribute of the table.\n",
        "\n",
        "When drawing parallels with other data structures, it's tempting to equate a record in SQL with a row in a spreadsheet or a dataframe. On the surface, they seem quite similar, both representing horizontal collections of data. However, there are nuanced differences:\n",
        "\n",
        "1.  **Uniqueness--**In SQL tables, each record is often required to have a unique identifier, known as the primary key. This ensures that every record can be precisely identified and differentiated from all others. While spreadsheets and dataframes can have unique identifiers, they aren't inherently structured to enforce this uniqueness.\n",
        "\n",
        "2.  **Constraints--**SQL tables are rigid in their structure. They can have constraints that enforce specific rules on the data. For instance, a column might be set to only accept integer values or dates. On the other hand, a spreadsheet row or dataframe is more flexible, allowing any kind of data to be entered without such strict enforcement.\n",
        "\n",
        "3.  **Relational Integrity--**SQL tables are designed to maintain relational integrity. This means that records in one table can be related to records in another table through foreign keys. While you can create relationships in spreadsheets or dataframes, they don't natively support or enforce these relationships as SQL does.\n",
        "\n",
        "\n",
        "Venturing into the Jurassic landscape, consider the 'Dinosaurs' table. Each dinosaur, whether it's the towering T-Rex or the agile Velociraptor, occupies its own unique record in the table. This arrangement has several implications:\n",
        "\n",
        "1. Due to the primary key constraint, typically on a 'dinosaur_id' column, no two dinosaurs can share the same identifier. This ensures that even if there are two T-Rexes in the park, they each have a unique record in the database.\n",
        "\n",
        "2. The SQL table structure ensures that the data for each dinosaur is consistent. For example, the 'dob' (date of birth) column can only contain valid dates. If someone tried to enter text or a number that doesn't represent a date, the database would reject it.\n",
        "\n",
        "3.  Using the unique records of the 'Dinosaurs' table, we can delve into the relational aspects of the database. For instance, the 'enclosure_number' might be a foreign key linking each dinosaur to a specific enclosure in the 'Enclosures' table. This showcases how records in one table relate to records in another, providing a holistic view of the park's operations.\n",
        "\n",
        "In summary, while records in an SQL table might seem similar to rows in a spreadsheet or dataframe at first glance, their inherent properties, especially in terms of uniqueness, constraints, and relational capabilities, set them apart. These distinctions become evident when managing a complex system like a Jurassic Park database."
      ],
      "metadata": {
        "id": "a70RQv0sb0Tn"
      }
    },
    {
      "cell_type": "markdown",
      "source": [
        "## Launching PostgreSQL with SQL magic\n",
        "\n",
        "Before creating tables in **PostgreSQL** (an open-source database), let's set up the environment in a Google Colab notebook. Execute the following commands in a single cell:"
      ],
      "metadata": {
        "id": "wVm2SXrHb811"
      }
    },
    {
      "cell_type": "code",
      "source": [
        "# Install and launch PostgreSQL as a \"Superuser\"\n",
        "!apt install postgresql postgresql-contrib &>log\n",
        "!service postgresql start\n",
        "!sudo -u postgres psql -c \"CREATE USER root WITH SUPERUSER\"\n",
        "\n",
        "# set connection\n",
        "%load_ext sql\n",
        "%sql postgresql+psycopg2://@/postgres\n",
        ""
      ],
      "metadata": {
        "id": "qQ9KNw8vqHv6",
        "outputId": "2c2be891-63d3-489a-c037-b2a6e34ea7f3",
        "colab": {
          "base_uri": "https://localhost:8080/"
        }
      },
      "execution_count": 1,
      "outputs": [
        {
          "output_type": "stream",
          "name": "stdout",
          "text": [
            " * Starting PostgreSQL 14 database server\n",
            "   ...done.\n",
            "CREATE ROLE\n"
          ]
        }
      ]
    },
    {
      "cell_type": "markdown",
      "source": [
        "## Introduction to the CREATE TABLE Statement\n",
        "With PostgreSQL up and running, it's time to delve into one of the foundational SQL commands: the `CREATE TABLE` statement. This command allows us to define and create a new table in the database.\n",
        "\n",
        "The structure is straightforward:\n",
        "\n",
        "```sql\n",
        "CREATE TABLE table_name (\n",
        "   column1 datatype1 PRIMARY KEY,\n",
        "   column2 datatype2,\n",
        "   column3 datatype3,\n",
        "   ...\n",
        ");\n",
        "```\n",
        "\n",
        "-   `table_name`: This is the name you want to give to the new table.\n",
        "-   `column1, column2, ...`: These are the names of the columns that you want to create in the table.\n",
        "-   `datatype1, datatype2, ...`: Each column must have a data type associated with it, defining the kind of data it will store, such as `INTEGER`, `VARCHAR`, or `DATE`.\n",
        "-   `PRIMARY KEY`: This is an optional constraint you can add to a column, indicating it will be used as the unique identifier for the table.\n",
        "\n",
        "Let's create our Dinosaurs and Enclosures tables using the CREATE TABLE statement:"
      ],
      "metadata": {
        "id": "voGZEkhech08"
      }
    },
    {
      "cell_type": "code",
      "source": [
        "%%sql\n",
        "--First, we'll delete the tables if they already exist\n",
        "DROP TABLE IF EXISTS Enclosures CASCADE;\n",
        "DROP TABLE IF EXISTS Dinosaurs CASCADE;\n",
        "\n",
        "--Now, the actual table creation\n",
        "\n",
        "CREATE TABLE Enclosures (\n",
        "   enclosure_number INTEGER PRIMARY KEY,\n",
        "   square_feet INTEGER CHECK (square_feet > 0),\n",
        "   security_level INTEGER CHECK (security_level BETWEEN 1 AND 5),\n",
        "   habitat_type VARCHAR(128) NOT NULL,\n",
        "   notes TEXT\n",
        ");\n",
        "\n",
        "CREATE TABLE Dinosaurs (\n",
        "   dinosaur_id INTEGER PRIMARY KEY,\n",
        "   name VARCHAR(30) NOT NULL,\n",
        "   species VARCHAR(50),\n",
        "   diet VARCHAR(64) CHECK (diet IN ('Herbivore', 'Carnivore', 'Omnivore')),\n",
        "   enclosure_number INTEGER REFERENCES Enclosures(enclosure_number),\n",
        "   dob DATE,\n",
        "   biography TEXT\n",
        ");\n"
      ],
      "metadata": {
        "id": "GR7meq38cudy",
        "outputId": "a46ad151-6c33-43cf-f1c2-ec797dd608c5",
        "colab": {
          "base_uri": "https://localhost:8080/"
        }
      },
      "execution_count": 18,
      "outputs": [
        {
          "output_type": "stream",
          "name": "stdout",
          "text": [
            " * postgresql+psycopg2://@/postgres\n",
            "Done.\n",
            "Done.\n",
            "Done.\n",
            "Done.\n"
          ]
        },
        {
          "output_type": "execute_result",
          "data": {
            "text/plain": [
              "[]"
            ]
          },
          "metadata": {},
          "execution_count": 18
        }
      ]
    },
    {
      "cell_type": "markdown",
      "source": [
        "Here, two tables are being created: `Dinosaurs` and `Enclosures`. Each table has been designed to store specific sets of data, and certain rules (constraints) have been applied to ensure that the data is accurate and reliable.\n",
        "\n",
        "#### Dinosaurs Table\n",
        "\n",
        "1.  `dinosaur_id:` Every dinosaur gets a unique number (or ID). No two dinosaurs will share the same ID, ensuring that each one can be distinctly identified.\n",
        "\n",
        "2.  `name:` This is the name of the dinosaur, like \"Rex\" or \"Blue\". It's a mandatory field, so every dinosaur must have a name recorded.\n",
        "\n",
        "3. `species:` This indicates the species of the dinosaur, such as \"Tyrannosaurus\" or \"Velociraptor\".\n",
        "\n",
        "4.  `diet:` This tells us what the dinosaur eats. There are specific options for this: either 'Herbivore', 'Carnivore', or 'Omnivore'. Any other diet type will not be accepted.\n",
        "\n",
        "5.  `enclosure_number:` This number shows where the dinosaur is housed in the park. It refers to a specific enclosure from the `Enclosures` table. This creates a connection between the two tables.\n",
        "\n",
        "6.  `dob:` This is the dinosaur's date of birth.\n",
        "\n",
        "7.  `biography:` A text section that can contain more detailed information or stories about the dinosaur.\n",
        "\n",
        "#### Enclosures Table\n",
        "\n",
        "1.  `enclosure_number:` Every enclosure in the park gets a unique number. This ensures each enclosure can be clearly identified.\n",
        "\n",
        "2.  `square_feet:` This tells us the size of the enclosure. The size should always be a positive value.\n",
        "\n",
        "3.  `security_level:` This is an indication of the safety measures in place for the enclosure. The value can range from 1 to 5, with 1 being the least secure and 5 being the most secure.\n",
        "\n",
        "4.  `habitat_type:` Describes the type of environment the enclosure replicates, like a \"Tropical Forest\" or \"Desert\". This field is mandatory, so every enclosure must have a habitat type recorded.\n",
        "\n",
        "5.  `notes:` A text section where additional information or observations about the enclosure can be recorded.\n",
        "\n",
        "In essence, these tables allow for organized storage of data about dinosaurs and their living environments within the park. The established rules (constraints) ensure that the data stored is consistent, valid, and maintains the relationships between different pieces of information."
      ],
      "metadata": {
        "id": "FBwpau6hcuDC"
      }
    },
    {
      "cell_type": "markdown",
      "source": [
        "## Introduction to the INSERT INTO Statement\n",
        "\n",
        "In SQL, once you've established the structure of your tables, the next step is populating them with data. The `INSERT INTO` statement is used for this purpose. It allows you to insert new records (rows of data) into a table.\n",
        "\n",
        "```sql\n",
        "INSERT INTO table_name (column1, column2, column3, ...)\n",
        "VALUES (value1, value2, value3, ...);\n",
        "```\n",
        "\n",
        "-   table_name: The name of the table you wish to insert data into.\n",
        "-   column1, column2, ...: The names of the columns in the table where you want to insert data.\n",
        "-   value1, value2, ...: The corresponding values for these columns.\n",
        "\n",
        "It's essential to ensure that the order of columns matches the order of values, and the data types of the values match the data types of the columns.\n",
        "\n",
        "Let's populate our `Dinosaurs` and `Enclosures` tables with some sample data using the `INSERT INTO` statement:"
      ],
      "metadata": {
        "id": "QheiMac3eEiY"
      }
    },
    {
      "cell_type": "code",
      "source": [
        "%%sql\n",
        "\n",
        "--Add an enclosure\n",
        "INSERT INTO Enclosures (enclosure_number, square_feet, security_level, habitat_type, notes)\n",
        "VALUES (5, 4000, 5, 'Rocky Terrain', 'High security for predatory dinosaurs.');\n",
        "\n",
        "--Add a row to the Dinosaur Table\n",
        "INSERT INTO Dinosaurs (dinosaur_id, name, species, diet, enclosure_number, dob, biography)\n",
        "VALUES (1, 'Rex', 'Tyrannosaurus', 'Carnivore', 5, '1990-05-20', 'The most fearsome dinosaur in the park.');"
      ],
      "metadata": {
        "id": "oisNyC9xeMY3",
        "outputId": "5eff012b-7592-4bff-996b-383dbb3e8e5b",
        "colab": {
          "base_uri": "https://localhost:8080/"
        }
      },
      "execution_count": 19,
      "outputs": [
        {
          "output_type": "stream",
          "name": "stdout",
          "text": [
            " * postgresql+psycopg2://@/postgres\n",
            "1 rows affected.\n",
            "1 rows affected.\n"
          ]
        },
        {
          "output_type": "execute_result",
          "data": {
            "text/plain": [
              "[]"
            ]
          },
          "metadata": {},
          "execution_count": 19
        }
      ]
    },
    {
      "cell_type": "markdown",
      "source": [
        "In this  example:\n",
        "\n",
        "-   We're adding a record to the `Dinosaurs` table for a Tyrannosaurus named Rex, who is a carnivore, resides in enclosure number 5, and was born on May 20, 1990.\n",
        "-   We're also adding a record to the `Enclosures` table for an enclosure with the number 5, which has a size of 4000 square feet, a security level of 5, and is a rocky terrain.\n",
        "\n",
        "Now, let's use the `INSERT INTO` statement to add more records to these tables."
      ],
      "metadata": {
        "id": "HrrtTqCrcoHy"
      }
    },
    {
      "cell_type": "code",
      "source": [
        "%%sql\n",
        "INSERT INTO Enclosures (enclosure_number, square_feet, security_level, habitat_type, notes)\n",
        "VALUES\n",
        "(1, 30000, 3, 'Tropical Forest', 'Lush greenery for herbivores.'),\n",
        "(2, 25000, 4, 'Grassland', 'Open plains for dinosaurs to roam.'),\n",
        "(3, 45000, 2, 'Swamp', 'Wetland habitat suitable for diverse species.');"
      ],
      "metadata": {
        "id": "UL1ZEoMyenbm",
        "outputId": "8a261c18-447c-4738-f3a5-dca89e17a210",
        "colab": {
          "base_uri": "https://localhost:8080/"
        }
      },
      "execution_count": 20,
      "outputs": [
        {
          "output_type": "stream",
          "name": "stdout",
          "text": [
            " * postgresql+psycopg2://@/postgres\n",
            "3 rows affected.\n"
          ]
        },
        {
          "output_type": "execute_result",
          "data": {
            "text/plain": [
              "[]"
            ]
          },
          "metadata": {},
          "execution_count": 20
        }
      ]
    },
    {
      "cell_type": "code",
      "source": [
        "%%sql\n",
        "-- Inserting data for Dinosaurs\n",
        "INSERT INTO Dinosaurs (dinosaur_id, name, species, diet, enclosure_number, dob, biography)\n",
        "VALUES\n",
        "(2, 'Ruby', 'Tyrannosaurus', 'Carnivore', 5, '1991-07-25', 'Younger T-Rex, known for her vibrant scales.'),\n",
        "(3, 'Blue', 'Velociraptor', 'Carnivore', 2, '1992-03-17', 'The alpha of her raptor pack.'),\n",
        "(4, 'Echo', 'Velociraptor', 'Carnivore', 2, '1992-11-03', 'Blues second-in-command, fiercely loyal.'),\n",
        "(5, 'Sarah', 'Triceratops', 'Herbivore', 1, '1992-08-11', 'Easily recognizable with her large frill.'),\n",
        "(6, 'Tommy', 'Triceratops', 'Herbivore', 1, '1993-01-02', 'Youngest Triceratops, still growing his horns.'),\n",
        "(7, 'Pete', 'Pterodactyl', 'Carnivore', 3, '1991-02-28', 'Often seen soaring above the swamps.'),\n",
        "(8, 'Daisy', 'Brachiosaurus', 'Herbivore', 2, '1988-12-05', 'Oldest herbivore, with a gentle disposition.'),\n",
        "(9, 'Bella', 'Brachiosaurus', 'Herbivore', 2, '1989-06-16', 'Daisys close companion, often seen together.'),\n",
        "(10, 'Stego', 'Stegosaurus', 'Herbivore', 3, '1992-05-15', 'Known for the large plates along its spine.'),\n",
        "(11, 'Stella', 'Stegosaurus', 'Herbivore', 3, '1992-05-16', 'Stegos twin, with slightly smaller plates.'),\n",
        "(12, 'Spike', 'Spinosaurus', 'Carnivore', 1, '1993-06-09', 'Prefers staying near water bodies.'),\n",
        "(13, 'Dino', 'Dilophosaurus', 'Carnivore', 2, '1990-07-23', 'Identified by the frill around its neck.'),\n",
        "(14, 'Herbie', 'Hadrosaurus', 'Herbivore', 3, '1991-09-10', 'Loud calls can be heard across the park.'),\n",
        "(15, 'Hank', 'Hadrosaurus', 'Herbivore', 3, '1991-11-12', 'A bit more reclusive than Herbie.');\n"
      ],
      "metadata": {
        "id": "xmtcZPs4fpl8",
        "outputId": "64f150e7-f3f1-44b5-c490-f63f2678ccd8",
        "colab": {
          "base_uri": "https://localhost:8080/"
        }
      },
      "execution_count": 21,
      "outputs": [
        {
          "output_type": "stream",
          "name": "stdout",
          "text": [
            " * postgresql+psycopg2://@/postgres\n",
            "14 rows affected.\n"
          ]
        },
        {
          "output_type": "execute_result",
          "data": {
            "text/plain": [
              "[]"
            ]
          },
          "metadata": {},
          "execution_count": 21
        }
      ]
    },
    {
      "cell_type": "markdown",
      "source": [
        "## Exercise 1: Create a Table for Prehistoric Plants\n",
        "Create a table to record data about various prehistoric plants found in the park.\n",
        "\n",
        "Directions:\n",
        "\n",
        "1.  Name the table `PrehistoricPlants`.\n",
        "2.  The table should have the following columns:\n",
        "    -   `plant_id`: An integer that serves as the primary key.\n",
        "    -   `name`: A variable character string with a maximum length of 30, which should not be null.\n",
        "    -   `period`: A variable character string with a maximum length of 50 to denote the geological period (e.g., Jurassic, Cretaceous).\n",
        "    -   `dietary_use`: A variable character string with a maximum length of 64 to denote if it was a primary food source for herbivores or just decorative.\n",
        "\n",
        "You'll be using `CREATE TABLE` to do this."
      ],
      "metadata": {
        "id": "l2GVoNoVhMgR"
      }
    },
    {
      "cell_type": "code",
      "source": [
        "%%sql\n",
        "--Run this cell first to drop old tables\n",
        "DROP TABLE IF EXISTS PrehistoricPlants CASCADE;"
      ],
      "metadata": {
        "id": "XVdFFURChdHl",
        "outputId": "0e617739-a389-42f7-a303-0c641abd21a9",
        "colab": {
          "base_uri": "https://localhost:8080/"
        }
      },
      "execution_count": 22,
      "outputs": [
        {
          "output_type": "stream",
          "name": "stdout",
          "text": [
            " * postgresql+psycopg2://@/postgres\n",
            "Done.\n"
          ]
        },
        {
          "output_type": "execute_result",
          "data": {
            "text/plain": [
              "[]"
            ]
          },
          "metadata": {},
          "execution_count": 22
        }
      ]
    },
    {
      "cell_type": "code",
      "source": [
        "%%sql\n",
        "--Exercise 1 -- Your code below"
      ],
      "metadata": {
        "id": "LIqmx_wLhWl1"
      },
      "execution_count": null,
      "outputs": []
    },
    {
      "cell_type": "markdown",
      "source": [
        "## Exercise 2: Insert Data into the Prehistoric Plants Table\n",
        "\n",
        "Populate the `PrehistoricPlants` table with data. Directions:\n",
        "\n",
        "1.  Add the following plants to the `PrehistoricPlants` table:\n",
        "    -   Name: \"Cycadeoidea\", Period: \"Jurassic\", Dietary Use: \"Primary Food Source\"\n",
        "    -   Name: \"Williamsonia\", Period: \"Jurassic\", Dietary Use: \"Decorative\"\n",
        "2.  Ensure that each entry has a unique `plant_id`.\n",
        "\n",
        "Here, you'll be using the `INSERT INTO` statement."
      ],
      "metadata": {
        "id": "zzi8fkTrhuGo"
      }
    },
    {
      "cell_type": "code",
      "source": [
        "%%sql\n",
        "--Run this cell first to delete old data\n",
        "DELETE FROM PrehistoricPlants CASCADE;"
      ],
      "metadata": {
        "id": "XGO4P4T1iCD_"
      },
      "execution_count": null,
      "outputs": []
    },
    {
      "cell_type": "markdown",
      "source": [
        "## Introduction to SELECT...FROM...WHERE in SQL\n",
        "\n",
        "The essence of databases lies in the ability to query them, to ask questions and retrieve answers. The `SELECT` statement in SQL is the fundamental tool to achieve this. Let's dissect it piece by piece.\n",
        "\n",
        "### The Anatomy of a Simple Query\n",
        "\n",
        "Every query typically has three core components:\n",
        "\n",
        "-   What you want to select.\n",
        "-   From where you want to select it.\n",
        "-   Under what conditions you want to select.\n",
        "\n",
        "In SQL terms, these map to `SELECT`, `FROM`, and `WHERE`.\n",
        "\n",
        "### The SELECT Clause\n",
        "\n",
        "The `SELECT` clause determines which columns you want to view in your results. Think of it as shining a spotlight on specific parts of your table.\n",
        "\n",
        "```sql SELECT column_name\n",
        "```\n",
        "\n",
        "For instance, if you have a table of books and you only want to view the titles, you'd use:\n",
        "\n",
        "```sql\n",
        "SELECT title\n",
        "FROM books;\n",
        "```\n",
        "\n",
        "### The FROM Clause\n",
        "\n",
        "The `FROM` clause tells the database from which table you're trying to select data. It's like choosing a specific bookshelf in a vast library.\n",
        "\n",
        "```sql\n",
        "SELECT column_name FROM table_name\n",
        "```\n",
        "\n",
        "If you wanted to see all authors from a 'books' table, it'd be:\n",
        "\n",
        "```sql\n",
        "SELECT author\n",
        "FROM books;\n",
        "```\n",
        "\n",
        "### The WHERE Clause\n",
        "\n",
        "The `WHERE` clause allows you to filter your results based on conditions. It's akin to only selecting books of a certain genre from a shelf.\n",
        "\n",
        "```sql\n",
        "SELECT column_name FROM table_name WHERE condition\n",
        "```\n",
        "\n",
        "For our book example, if you wished to only view titles of books published after 2000:\n",
        "\n",
        "```sql\n",
        "SELECT title\n",
        "FROM books\n",
        "WHERE publication_year > 2000;\n",
        "```\n",
        "\n",
        "### SELECTing Multiple Columns\n",
        "\n",
        "You're not limited to selecting just one column. By separating column names with commas, you can retrieve multiple columns:\n",
        "\n",
        "```sql\n",
        "SELECT title, author\n",
        "FROM books;\n",
        "```\n",
        "\n",
        "This would display both the title and author for every book in the 'books' table."
      ],
      "metadata": {
        "id": "nNqxJ53ijR0F"
      }
    },
    {
      "cell_type": "markdown",
      "source": [
        "With our understanding of `SELECT`, `FROM`, and `WHERE`, let's consider the 'Dinosaurs' table. If you wanted to know the names and species of all herbivorous dinosaurs:"
      ],
      "metadata": {
        "id": "lO2fmIHnjSed"
      }
    },
    {
      "cell_type": "code",
      "source": [
        "%%sql\n",
        "SELECT name, species\n",
        "FROM Dinosaurs\n",
        "WHERE diet = 'Herbivore';\n"
      ],
      "metadata": {
        "id": "J7pMwgpIjWpO",
        "outputId": "2bd1ff55-d72a-4abe-afba-f453f4fe11ad",
        "colab": {
          "base_uri": "https://localhost:8080/",
          "height": 239
        }
      },
      "execution_count": 25,
      "outputs": [
        {
          "output_type": "stream",
          "name": "stdout",
          "text": [
            " * postgresql+psycopg2://@/postgres\n",
            "8 rows affected.\n"
          ]
        },
        {
          "output_type": "execute_result",
          "data": {
            "text/plain": [
              "[('Sarah', 'Triceratops'),\n",
              " ('Tommy', 'Triceratops'),\n",
              " ('Daisy', 'Brachiosaurus'),\n",
              " ('Bella', 'Brachiosaurus'),\n",
              " ('Stego', 'Stegosaurus'),\n",
              " ('Stella', 'Stegosaurus'),\n",
              " ('Herbie', 'Hadrosaurus'),\n",
              " ('Hank', 'Hadrosaurus')]"
            ],
            "text/html": [
              "<table>\n",
              "    <thead>\n",
              "        <tr>\n",
              "            <th>name</th>\n",
              "            <th>species</th>\n",
              "        </tr>\n",
              "    </thead>\n",
              "    <tbody>\n",
              "        <tr>\n",
              "            <td>Sarah</td>\n",
              "            <td>Triceratops</td>\n",
              "        </tr>\n",
              "        <tr>\n",
              "            <td>Tommy</td>\n",
              "            <td>Triceratops</td>\n",
              "        </tr>\n",
              "        <tr>\n",
              "            <td>Daisy</td>\n",
              "            <td>Brachiosaurus</td>\n",
              "        </tr>\n",
              "        <tr>\n",
              "            <td>Bella</td>\n",
              "            <td>Brachiosaurus</td>\n",
              "        </tr>\n",
              "        <tr>\n",
              "            <td>Stego</td>\n",
              "            <td>Stegosaurus</td>\n",
              "        </tr>\n",
              "        <tr>\n",
              "            <td>Stella</td>\n",
              "            <td>Stegosaurus</td>\n",
              "        </tr>\n",
              "        <tr>\n",
              "            <td>Herbie</td>\n",
              "            <td>Hadrosaurus</td>\n",
              "        </tr>\n",
              "        <tr>\n",
              "            <td>Hank</td>\n",
              "            <td>Hadrosaurus</td>\n",
              "        </tr>\n",
              "    </tbody>\n",
              "</table>"
            ]
          },
          "metadata": {},
          "execution_count": 25
        }
      ]
    }
  ]
}