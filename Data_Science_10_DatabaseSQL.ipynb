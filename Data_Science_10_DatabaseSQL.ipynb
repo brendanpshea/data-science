{
  "nbformat": 4,
  "nbformat_minor": 0,
  "metadata": {
    "colab": {
      "provenance": [],
      "authorship_tag": "ABX9TyOG1x0CUFii/51d4ISIig3g",
      "include_colab_link": true
    },
    "kernelspec": {
      "name": "python3",
      "display_name": "Python 3"
    },
    "language_info": {
      "name": "python"
    }
  },
  "cells": [
    {
      "cell_type": "markdown",
      "metadata": {
        "id": "view-in-github",
        "colab_type": "text"
      },
      "source": [
        "<a href=\"https://colab.research.google.com/github/brendanpshea/data-science/blob/main/Data_Science_10_DatabaseSQL.ipynb\" target=\"_parent\"><img src=\"https://colab.research.google.com/assets/colab-badge.svg\" alt=\"Open In Colab\"/></a>"
      ]
    },
    {
      "cell_type": "markdown",
      "source": [
        "# Introducing Databases:\n",
        "\n",
        "At the heart of data management is the concept of a **relational database**. The term 'relational' gives away its essence --- it's all about relationships. Many of you might be familiar with data frames from your work with Pandas. While data frames provide a two-dimensional structure, where each row represents an entry and each column signifies a feature or attribute of that entry, a relational database goes beyond.\n",
        "\n",
        "A relational database is a collection of interrelated **tables (or \"relations\")**. Each table in this database is akin to a data frame, but what sets a relational database apart is its ability to establish connections or relationships between these tables. These relationships allow for efficient organization, retrieval, and manipulation of data, especially when dealing with complex datasets.\n",
        "\n",
        "Let's draw a comparison for better understanding:\n",
        "\n",
        "1.  Data Frames\n",
        "\n",
        "    -   Two-dimensional: rows and columns.\n",
        "    -   Each row is an entry; each column is an attribute or feature.\n",
        "    -   Useful for linear datasets where relationships between data points are not the main focus.\n",
        "2.  Relational Databases\n",
        "\n",
        "    -   Multi-dimensional: comprises multiple tables.\n",
        "    -   Relationships between tables are defined using keys.\n",
        "    -   Designed to handle complex datasets where interrelations between data are essential.\n",
        "\n",
        "Now, with this foundational knowledge, let's dive into a practical application."
      ],
      "metadata": {
        "id": "onG_hINwp22_"
      }
    },
    {
      "cell_type": "markdown",
      "source": [
        "## Jurassic Park Database Case Study\n",
        "\n",
        "Imagine stepping into the vast and thrilling world of Jurassic Park. The park is teeming with a variety of dinosaurs, each housed in its unique enclosure. As park managers, it's crucial to keep track of every dinosaur, its characteristics, its habitat, feeding times, and so much more. A simple list or a single table won't suffice. This is where our relational database comes into play.\n",
        "\n",
        "In our case study, we'll be exploring a partial Jurassic Park database. This database contains tables that represent different entities like 'Dinosaurs', 'Enclosures', and perhaps 'Park Staff'. These tables not only store information about each entity but also define relationships. For instance, which dinosaur resides in which enclosure? Who is the caretaker responsible for a particular dinosaur? Answering such questions becomes seamless with our relational database.\n",
        "\n",
        "As we delve deeper into the world of SQL and databases, you'll see how this Jurassic Park scenario helps illuminate the power and flexibility of relational databases in managing and querying data."
      ],
      "metadata": {
        "id": "puc6RZvdqIoN"
      }
    },
    {
      "cell_type": "markdown",
      "source": [
        "## What is a Relational Database?\n",
        "A relational database is a collection of data items organized as a set of tables. Each table represents a category of data, making it easier to store, retrieve, and manage information.\n",
        "\n",
        "At the foundation of each table is the **entity**. Think of an entity as the main topic or subject of a table. In our Jurassic Park example, one entity could be 'Dinosaurs'. So, there would be a table dedicated to dinosaurs, containing all relevant information about them. Other potential tables for a theme park database might include things like:\n",
        "\n",
        "- Enclosures: to store data about the animals' living quarters\n",
        "- Employees: to store data about employes\n",
        "- Visitors: to record information about visitors to the park\n",
        "- And many others...\n",
        "\n",
        "Each entity has various **attributes**, which are specific pieces of information we want to capture about the entity. Attributes are represented as columns in a table. For the 'Dinosaurs' entity, attributes could include 'name', indicating the dinosaur's name, 'species' specifying its species type, and 'diet' detailing whether it's a herbivore, carnivore, or omnivore. Each row in this table would represent a specific dinosaur, and the data in that row would provide the details for each attribute.\n",
        "\n",
        "But databases aren't just about storing isolated chunks of data. They shine when showing **relationships** between data. In Jurassic Park, we might want to know which dinosaur resides in which enclosure. This relationship can be represented by linking our 'Dinosaurs' table to another table, 'Enclosures', using shared attributes. In our case, the shared attribute could be 'enclosure_number'.\n",
        "\n",
        "A vital component in our tables is the primary key. This is a unique identifier for each record in a table. In the 'Dinosaurs' table, this could be 'dinosaur_id'. No two dinosaurs would have the same 'dinosaur_id', ensuring that each record is distinct and easily identifiable.\n",
        "\n",
        "Lastly, we define each attribute with a specific data type to ensure consistency in the data we store. Data types determine the nature of data an attribute can hold. For example, 'dinosaur_id' might be an integer (whole number), 'name' would be text, and 'dob' (date of birth) would be a date. This ensures we store data consistently and helps prevent errors. For instance, in our 'Enclosures' table, the 'square_feet' attribute would be an integer, representing the size of the enclosure in square feet."
      ],
      "metadata": {
        "id": "j1Z5hI39sgCL"
      }
    },
    {
      "cell_type": "markdown",
      "source": [
        "## Two Tables at Jurrasic Park\n",
        "\n",
        "To see how this might look in a concrete case, let's look at (a small section) of a potential Jurrasic Park database.\n",
        "\n",
        "\n",
        "### Dinosaurs Table\n",
        "\n",
        "| dinosaur_id | name | species | diet | enclosure_number | dob | biography |\n",
        "| --- | --- | --- | --- | --- | --- | --- |\n",
        "| 1 | Rex | Tyrannosaurus | Carnivore | 5 | 1990-05-20 | The most fearsome dinosaur in the park. |\n",
        "| 2 | Daisy | Brachiosaurus | Herbivore | 3 | 1991-08-14 | Known for her gentle nature and tall neck. |\n",
        "| 3 | Spike | Triceratops | Herbivore | 4 | 1992-04-03 | Recognized by his three distinctive horns. |\n",
        "\n",
        "### Enclosures Table\n",
        "\n",
        "| enclosure_number | square_feet | security_level | habitat_type | notes |\n",
        "| --- | --- | --- | --- | --- |\n",
        "| 3 | 5000 | 2 | Tropical Forest | Ideal for herbivores. |\n",
        "| 4 | 3000 | 3 | Grassland | Open space for dinosaurs to roam freely. |\n",
        "| 5 | 4000 | 5 | Rocky Terrain | High security for predatory dinosaurs. |\n",
        "\n",
        "In these tables, we can see the key elements of relational databases\n",
        "\n",
        "- **Tables and Attributes.** The Dinosaurs Table represents different types of dinosaurs, while the Enclosures Table represents types of enclosures. Each column in these tables, like 'name', 'species', and 'diet' in the Dinosaurs Table or 'square_feet' and 'habitat_type' in the Enclosures Table, represents an **attribute** of that entity.\n",
        "- **Primary Keys.** The 'dinosaur_id' in the Dinosaurs Table and 'enclosure_number' in the Enclosures Table are primary keys. They uniquely identify each record. For example, the dinosaur with 'dinosaur_id' 1 is Rex.\n",
        "- **Relationships.**  The 'enclosure_number' in the Dinosaurs Table establishes a relationship with the Enclosures Table. It indicates which enclosure a specific dinosaur resides in. For instance, Rex (from the Dinosaurs Table) resides in the enclosure with 'enclosure_number' 5, which is a rocky terrain with high security (from the Enclosures Table).\n",
        "- **Data Types.**  The tables use different data types for their attributes. For example, 'name' stores text, 'dob' stores date values, and 'dinosaur_id' uses whole numbers.\n",
        "\n",
        "By understanding these tables and their attributes, we can see how relational databases organize information, define relationships between data points, and ensure each record's uniqueness, all of which are fundamental concepts in database management."
      ],
      "metadata": {
        "id": "rROGByZQIVXD"
      }
    },
    {
      "cell_type": "code",
      "source": [],
      "metadata": {
        "id": "qQ9KNw8vqHv6"
      },
      "execution_count": null,
      "outputs": []
    }
  ]
}