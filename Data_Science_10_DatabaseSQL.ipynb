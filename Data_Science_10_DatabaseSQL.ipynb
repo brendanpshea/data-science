{
  "nbformat": 4,
  "nbformat_minor": 0,
  "metadata": {
    "colab": {
      "provenance": [],
      "authorship_tag": "ABX9TyPvBRVpba6fS1NJSMIRMRpn",
      "include_colab_link": true
    },
    "kernelspec": {
      "name": "python3",
      "display_name": "Python 3"
    },
    "language_info": {
      "name": "python"
    }
  },
  "cells": [
    {
      "cell_type": "markdown",
      "metadata": {
        "id": "view-in-github",
        "colab_type": "text"
      },
      "source": [
        "<a href=\"https://colab.research.google.com/github/brendanpshea/data-science/blob/main/Data_Science_10_DatabaseSQL.ipynb\" target=\"_parent\"><img src=\"https://colab.research.google.com/assets/colab-badge.svg\" alt=\"Open In Colab\"/></a>"
      ]
    },
    {
      "cell_type": "code",
      "execution_count": null,
      "metadata": {
        "id": "t5xq2mm-pdep"
      },
      "outputs": [],
      "source": []
    },
    {
      "cell_type": "markdown",
      "source": [
        "# Introducing Databases:\n",
        "\n",
        "At the heart of data management is the concept of a **relational database**. The term 'relational' gives away its essence --- it's all about relationships. Many of you might be familiar with data frames from your work with Pandas. While data frames provide a two-dimensional structure, where each row represents an entry and each column signifies a feature or attribute of that entry, a relational database goes beyond.\n",
        "\n",
        "A relational database is a collection of interrelated **tables (or \"relations\")**. Each table in this database is akin to a data frame, but what sets a relational database apart is its ability to establish connections or relationships between these tables. These relationships allow for efficient organization, retrieval, and manipulation of data, especially when dealing with complex datasets.\n",
        "\n",
        "Let's draw a comparison for better understanding:\n",
        "\n",
        "1.  Data Frames\n",
        "\n",
        "    -   Two-dimensional: rows and columns.\n",
        "    -   Each row is an entry; each column is an attribute or feature.\n",
        "    -   Useful for linear datasets where relationships between data points are not the main focus.\n",
        "2.  Relational Databases\n",
        "\n",
        "    -   Multi-dimensional: comprises multiple tables.\n",
        "    -   Relationships between tables are defined using keys.\n",
        "    -   Designed to handle complex datasets where interrelations between data are essential.\n",
        "\n",
        "Now, with this foundational knowledge, let's dive into a practical application."
      ],
      "metadata": {
        "id": "onG_hINwp22_"
      }
    },
    {
      "cell_type": "markdown",
      "source": [
        "## Jurassic Park Database Case Study\n",
        "\n",
        "Imagine stepping into the vast and thrilling world of Jurassic Park. The park is teeming with a variety of dinosaurs, each housed in its unique enclosure. As park managers, it's crucial to keep track of every dinosaur, its characteristics, its habitat, feeding times, and so much more. A simple list or a single table won't suffice. This is where our relational database comes into play.\n",
        "\n",
        "In our case study, we'll be exploring a partial Jurassic Park database. This database contains tables that represent different entities like 'Dinosaurs', 'Enclosures', and perhaps 'Park Staff'. These tables not only store information about each entity but also define relationships. For instance, which dinosaur resides in which enclosure? Who is the caretaker responsible for a particular dinosaur? Answering such questions becomes seamless with our relational database.\n",
        "\n",
        "As we delve deeper into the world of SQL and databases, you'll see how this Jurassic Park scenario helps illuminate the power and flexibility of relational databases in managing and querying data."
      ],
      "metadata": {
        "id": "puc6RZvdqIoN"
      }
    },
    {
      "cell_type": "code",
      "source": [],
      "metadata": {
        "id": "qQ9KNw8vqHv6"
      },
      "execution_count": null,
      "outputs": []
    }
  ]
}