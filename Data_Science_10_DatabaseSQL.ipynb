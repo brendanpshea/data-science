{
  "nbformat": 4,
  "nbformat_minor": 0,
  "metadata": {
    "colab": {
      "provenance": [],
      "authorship_tag": "ABX9TyOFGulf+nrrB7jYlHK19gAX",
      "include_colab_link": true
    },
    "kernelspec": {
      "name": "python3",
      "display_name": "Python 3"
    },
    "language_info": {
      "name": "python"
    }
  },
  "cells": [
    {
      "cell_type": "markdown",
      "metadata": {
        "id": "view-in-github",
        "colab_type": "text"
      },
      "source": [
        "<a href=\"https://colab.research.google.com/github/brendanpshea/data-science/blob/main/Data_Science_10_DatabaseSQL.ipynb\" target=\"_parent\"><img src=\"https://colab.research.google.com/assets/colab-badge.svg\" alt=\"Open In Colab\"/></a>"
      ]
    },
    {
      "cell_type": "markdown",
      "source": [
        "# Introducing Databases\n",
        "\n",
        "At the heart of data management is the concept of a **relational database**. The term 'relational' gives away its essence --- it's all about relationships. Many of you might be familiar with data frames from your work with Pandas. While data frames provide a two-dimensional structure, where each row represents an entry and each column signifies a feature or attribute of that entry, a relational database goes beyond.\n",
        "\n",
        "A relational database is a collection of interrelated **tables (or \"relations\")**. Each table in this database is akin to a data frame, but what sets a relational database apart is its ability to establish connections or relationships between these tables. These relationships allow for efficient organization, retrieval, and manipulation of data, especially when dealing with complex datasets.\n",
        "\n",
        "Let's draw a comparison for better understanding:\n",
        "\n",
        "1.  Data Frames\n",
        "\n",
        "    -   Two-dimensional: rows and columns.\n",
        "    -   Each row is an entry; each column is an attribute or feature.\n",
        "    -   Useful for linear datasets where relationships between data points are not the main focus.\n",
        "2.  Relational Databases\n",
        "\n",
        "    -   Multi-dimensional: comprises multiple tables.\n",
        "    -   Relationships between tables are defined using keys.\n",
        "    -   Designed to handle complex datasets where interrelations between data are essential.\n",
        "\n",
        "Now, with this foundational knowledge, let's dive into a practical application."
      ],
      "metadata": {
        "id": "onG_hINwp22_"
      }
    },
    {
      "cell_type": "markdown",
      "source": [
        "## Jurassic Park Database Case Study\n",
        "\n",
        "Imagine stepping into the vast and thrilling world of Jurassic Park. The park is teeming with a variety of dinosaurs, each housed in its unique enclosure. As park managers, it's crucial to keep track of every dinosaur, its characteristics, its habitat, feeding times, and so much more. A simple list or a single table won't suffice. This is where our relational database comes into play.\n",
        "\n",
        "In our case study, we'll be exploring a partial Jurassic Park database. This database contains tables that represent different entities like 'Dinosaurs', 'Enclosures', and perhaps 'Park Staff'. These tables not only store information about each entity but also define relationships. For instance, which dinosaur resides in which enclosure? Who is the caretaker responsible for a particular dinosaur? Answering such questions becomes seamless with our relational database.\n",
        "\n",
        "As we delve deeper into the world of SQL and databases, you'll see how this Jurassic Park scenario helps illuminate the power and flexibility of relational databases in managing and querying data."
      ],
      "metadata": {
        "id": "puc6RZvdqIoN"
      }
    },
    {
      "cell_type": "markdown",
      "source": [
        "## What is a Relational Database?\n",
        "A relational database is a collection of data items organized as a set of tables. Each table represents a category of data, making it easier to store, retrieve, and manage information.\n",
        "\n",
        "At the foundation of each table is the **entity**. Think of an entity as the main topic or subject of a table. In our Jurassic Park example, one entity could be 'Dinosaurs'. So, there would be a table dedicated to dinosaurs, containing all relevant information about them. Other potential tables for a theme park database might include things like:\n",
        "\n",
        "- Enclosures: to store data about the animals' living quarters\n",
        "- Employees: to store data about employes\n",
        "- Visitors: to record information about visitors to the park\n",
        "- And many others...\n",
        "\n",
        "Each entity has various **attributes**, which are specific pieces of information we want to capture about the entity. Attributes are represented as columns in a table. For the 'Dinosaurs' entity, attributes could include 'name', indicating the dinosaur's name, 'species' specifying its species type, and 'diet' detailing whether it's a herbivore, carnivore, or omnivore. Each row in this table would represent a specific dinosaur, and the data in that row would provide the details for each attribute.\n",
        "\n",
        "But databases aren't just about storing isolated chunks of data. They shine when showing **relationships** between data. In Jurassic Park, we might want to know which dinosaur resides in which enclosure. This relationship can be represented by linking our 'Dinosaurs' table to another table, 'Enclosures', using shared attributes. In our case, the shared attribute could be 'enclosure_number'.\n",
        "\n",
        "A vital component in our tables is the primary key. This is a unique identifier for each record in a table. In the 'Dinosaurs' table, this could be 'dinosaur_id'. No two dinosaurs would have the same 'dinosaur_id', ensuring that each record is distinct and easily identifiable.\n",
        "\n",
        "Lastly, we define each attribute with a specific data type to ensure consistency in the data we store. Data types determine the nature of data an attribute can hold. For example, 'dinosaur_id' might be an integer (whole number), 'name' would be text, and 'dob' (date of birth) would be a date. This ensures we store data consistently and helps prevent errors. For instance, in our 'Enclosures' table, the 'square_feet' attribute would be an integer, representing the size of the enclosure in square feet."
      ],
      "metadata": {
        "id": "j1Z5hI39sgCL"
      }
    },
    {
      "cell_type": "markdown",
      "source": [
        "## Two Tables at Jurrasic Park\n",
        "\n",
        "To see how this might look in a concrete case, let's look at (a small section) of a potential Jurrasic Park database.\n",
        "\n",
        "\n",
        "### Dinosaurs Table\n",
        "\n",
        "| dinosaur_id | name | species | diet | enclosure_number | dob | biography |\n",
        "| --- | --- | --- | --- | --- | --- | --- |\n",
        "| 1 | Rex | Tyrannosaurus | Carnivore | 5 | 1990-05-20 | The most fearsome dinosaur in the park. |\n",
        "| 2 | Daisy | Brachiosaurus | Herbivore | 3 | 1991-08-14 | Known for her gentle nature and tall neck. |\n",
        "| 3 | Spike | Triceratops | Herbivore | 4 | 1992-04-03 | Recognized by his three distinctive horns. |\n",
        "\n",
        "### Enclosures Table\n",
        "\n",
        "| enclosure_number | square_feet | security_level | habitat_type | notes |\n",
        "| --- | --- | --- | --- | --- |\n",
        "| 3 | 5000 | 2 | Tropical Forest | Ideal for herbivores. |\n",
        "| 4 | 3000 | 3 | Grassland | Open space for dinosaurs to roam freely. |\n",
        "| 5 | 4000 | 5 | Rocky Terrain | High security for predatory dinosaurs. |\n",
        "\n",
        "In these tables, we can see the key elements of relational databases\n",
        "\n",
        "- **Tables and Attributes.** The Dinosaurs Table represents different types of dinosaurs, while the Enclosures Table represents types of enclosures. Each column in these tables, like 'name', 'species', and 'diet' in the Dinosaurs Table or 'square_feet' and 'habitat_type' in the Enclosures Table, represents an **attribute** of that entity.\n",
        "- **Primary Keys.** The 'dinosaur_id' in the Dinosaurs Table and 'enclosure_number' in the Enclosures Table are primary keys. They uniquely identify each record. For example, the dinosaur with 'dinosaur_id' 1 is Rex.\n",
        "- **Relationships.**  The 'enclosure_number' in the Dinosaurs Table establishes a relationship with the Enclosures Table. It indicates which enclosure a specific dinosaur resides in. For instance, Rex (from the Dinosaurs Table) resides in the enclosure with 'enclosure_number' 5, which is a rocky terrain with high security (from the Enclosures Table).\n",
        "- **Data Types.**  The tables use different data types for their attributes. For example, 'name' stores text, 'dob' stores date values, and 'dinosaur_id' uses whole numbers.\n",
        "\n",
        "By understanding these tables and their attributes, we can see how relational databases organize information, define relationships between data points, and ensure each record's uniqueness, all of which are fundamental concepts in database management."
      ],
      "metadata": {
        "id": "rROGByZQIVXD"
      }
    },
    {
      "cell_type": "markdown",
      "source": [
        "## Diving into Records\n",
        "\n",
        "Within the structured confines of an SQL table, a **record** is a specific set of associated data that collectively provides comprehensive information about an entity. It encapsulates a singular instance of the entity the table represents. In essence, a record is a horizontal collection of values, each belonging to a specific column or attribute of the table.\n",
        "\n",
        "When drawing parallels with other data structures, it's tempting to equate a record in SQL with a row in a spreadsheet or a dataframe. On the surface, they seem quite similar, both representing horizontal collections of data. However, there are nuanced differences:\n",
        "\n",
        "1.  **Uniqueness--**In SQL tables, each record is often required to have a unique identifier, known as the primary key. This ensures that every record can be precisely identified and differentiated from all others. While spreadsheets and dataframes can have unique identifiers, they aren't inherently structured to enforce this uniqueness.\n",
        "\n",
        "2.  **Constraints--**SQL tables are rigid in their structure. They can have constraints that enforce specific rules on the data. For instance, a column might be set to only accept integer values or dates. On the other hand, a spreadsheet row or dataframe is more flexible, allowing any kind of data to be entered without such strict enforcement.\n",
        "\n",
        "3.  **Relational Integrity--**SQL tables are designed to maintain relational integrity. This means that records in one table can be related to records in another table through foreign keys. While you can create relationships in spreadsheets or dataframes, they don't natively support or enforce these relationships as SQL does.\n",
        "\n",
        "\n",
        "Venturing into the Jurassic landscape, consider the 'Dinosaurs' table. Each dinosaur, whether it's the towering T-Rex or the agile Velociraptor, occupies its own unique record in the table. This arrangement has several implications:\n",
        "\n",
        "1. Due to the primary key constraint, typically on a 'dinosaur_id' column, no two dinosaurs can share the same identifier. This ensures that even if there are two T-Rexes in the park, they each have a unique record in the database.\n",
        "\n",
        "2. The SQL table structure ensures that the data for each dinosaur is consistent. For example, the 'dob' (date of birth) column can only contain valid dates. If someone tried to enter text or a number that doesn't represent a date, the database would reject it.\n",
        "\n",
        "3.  Using the unique records of the 'Dinosaurs' table, we can delve into the relational aspects of the database. For instance, the 'enclosure_number' might be a foreign key linking each dinosaur to a specific enclosure in the 'Enclosures' table. This showcases how records in one table relate to records in another, providing a holistic view of the park's operations.\n",
        "\n",
        "In summary, while records in an SQL table might seem similar to rows in a spreadsheet or dataframe at first glance, their inherent properties, especially in terms of uniqueness, constraints, and relational capabilities, set them apart. These distinctions become evident when managing a complex system like a Jurassic Park database."
      ],
      "metadata": {
        "id": "a70RQv0sb0Tn"
      }
    },
    {
      "cell_type": "markdown",
      "source": [
        "## Launching PostgreSQL with SQL magic\n",
        "\n",
        "Before creating tables in **PostgreSQL** (an open-source database), let's set up the environment in a Google Colab notebook. Execute the following commands in a single cell:"
      ],
      "metadata": {
        "id": "wVm2SXrHb811"
      }
    },
    {
      "cell_type": "code",
      "source": [
        "# Install and launch PostgreSQL as a \"Superuser\"\n",
        "!apt install postgresql postgresql-contrib &>log\n",
        "!service postgresql start\n",
        "!sudo -u postgres psql -c \"CREATE USER root WITH SUPERUSER\"\n",
        "\n",
        "# set connection\n",
        "%load_ext sql\n",
        "%sql postgresql+psycopg2://@/postgres\n"
      ],
      "metadata": {
        "id": "qQ9KNw8vqHv6",
        "outputId": "f5ef39e8-5931-4b8e-e620-1e9129e5a3a0",
        "colab": {
          "base_uri": "https://localhost:8080/"
        }
      },
      "execution_count": 1,
      "outputs": [
        {
          "output_type": "stream",
          "name": "stdout",
          "text": [
            " * Starting PostgreSQL 14 database server\n",
            "   ...done.\n",
            "CREATE ROLE\n"
          ]
        }
      ]
    },
    {
      "cell_type": "markdown",
      "source": [
        "## Introduction to the CREATE TABLE Statement\n",
        "With PostgreSQL up and running, it's time to delve into one of the foundational SQL commands: the `CREATE TABLE` statement. This command allows us to define and create a new table in the database.\n",
        "\n",
        "The structure is straightforward:\n",
        "\n",
        "```sql\n",
        "CREATE TABLE table_name (\n",
        "   column1 datatype1 PRIMARY KEY,\n",
        "   column2 datatype2,\n",
        "   column3 datatype3,\n",
        "   ...\n",
        ");\n",
        "```\n",
        "\n",
        "-   `table_name`: This is the name you want to give to the new table.\n",
        "-   `column1, column2, ...`: These are the names of the columns that you want to create in the table.\n",
        "-   `datatype1, datatype2, ...`: Each column must have a data type associated with it, defining the kind of data it will store, such as `INTEGER`, `VARCHAR`, or `DATE`.\n",
        "-   `PRIMARY KEY`: This is an optional constraint you can add to a column, indicating it will be used as the unique identifier for the table.\n",
        "\n",
        "Let's create our Dinosaurs and Enclosures tables using the CREATE TABLE statement:"
      ],
      "metadata": {
        "id": "voGZEkhech08"
      }
    },
    {
      "cell_type": "code",
      "source": [
        "%%sql\n",
        "--First, we'll delete the tables if they already exist\n",
        "DROP TABLE IF EXISTS Enclosures CASCADE;\n",
        "DROP TABLE IF EXISTS Dinosaurs CASCADE;\n",
        "\n",
        "--Now, the actual table creation\n",
        "\n",
        "CREATE TABLE Enclosures (\n",
        "   enclosure_number INTEGER PRIMARY KEY,\n",
        "   square_feet INTEGER CHECK (square_feet > 0),\n",
        "   security_level INTEGER CHECK (security_level BETWEEN 1 AND 5),\n",
        "   habitat_type VARCHAR(128) NOT NULL,\n",
        "   min_temp_c FLOAT,\n",
        "   max_temp_c FLOAT\n",
        ");\n",
        "\n",
        "CREATE TABLE Dinosaurs (\n",
        "   dinosaur_id INTEGER PRIMARY KEY,\n",
        "   name VARCHAR(30) NOT NULL,\n",
        "   species VARCHAR(50),\n",
        "   diet VARCHAR(64) CHECK (diet IN ('Herbivore', 'Carnivore', 'Omnivore')),\n",
        "   enclosure_number INTEGER REFERENCES Enclosures(enclosure_number),\n",
        "   dob DATE,\n",
        "   weight_kg INT,\n",
        "   length_m INT\n",
        ");\n"
      ],
      "metadata": {
        "id": "GR7meq38cudy",
        "outputId": "a37e0292-0070-403e-dd56-802cf8385d7e",
        "colab": {
          "base_uri": "https://localhost:8080/"
        }
      },
      "execution_count": 27,
      "outputs": [
        {
          "output_type": "stream",
          "name": "stdout",
          "text": [
            " * postgresql+psycopg2://@/postgres\n",
            "Done.\n",
            "Done.\n",
            "Done.\n",
            "Done.\n"
          ]
        },
        {
          "output_type": "execute_result",
          "data": {
            "text/plain": [
              "[]"
            ]
          },
          "metadata": {},
          "execution_count": 27
        }
      ]
    },
    {
      "cell_type": "markdown",
      "source": [
        "Here, two tables are being created: `Dinosaurs` and `Enclosures`. Each table has been designed to store specific sets of data, and certain rules (constraints) have been applied to ensure that the data is accurate and reliable.\n",
        "\n",
        "#### Enclosures Table\n",
        "\n",
        "1.  `enclosure_number:` Every enclosure in the park gets a unique number. This ensures each enclosure can be clearly identified.\n",
        "\n",
        "2.  `square_feet:` This tells us the size of the enclosure. The size should always be a positive value.\n",
        "\n",
        "3.  `security_level:` This is an indication of the safety measures in place for the enclosure. The value can range from 1 to 5, with 1 being the least secure and 5 being the most secure.\n",
        "\n",
        "4.  `habitat_type:` Describes the type of environment the enclosure replicates, like a \"Tropical Forest\" or \"Desert\". This field is mandatory, so every enclosure must have a habitat type recorded.\n",
        "\n",
        "5.  `min_temp_c` and `max_temp_c`: These record data about the minimum and maximum temperature.\n",
        "\n",
        "\n",
        "#### Dinosaurs Table\n",
        "\n",
        "1.  `dinosaur_id:` Every dinosaur gets a unique number (or ID). No two dinosaurs will share the same ID, ensuring that each one can be distinctly identified.\n",
        "\n",
        "2.  `name:` This is the name of the dinosaur, like \"Rex\" or \"Blue\". It's a mandatory field, so every dinosaur must have a name recorded.\n",
        "\n",
        "3. `species:` This indicates the species of the dinosaur, such as \"Tyrannosaurus\" or \"Velociraptor\".\n",
        "\n",
        "4.  `diet:` This tells us what the dinosaur eats. There are specific options for this: either 'Herbivore', 'Carnivore', or 'Omnivore'. Any other diet type will not be accepted.\n",
        "\n",
        "5.  `enclosure_number:` This number shows where the dinosaur is housed in the park. It refers to a specific enclosure from the `Enclosures` table. This creates a connection between the two tables.\n",
        "\n",
        "6.  `dob:` This is the dinosaur's date of birth.\n",
        "\n",
        "7.  `weight_kg` and `length_m`: These contain data about the dinosaur's weight and length.\n",
        "\n",
        "\n",
        "In essence, these tables allow for organized storage of data about dinosaurs and their living environments within the park. The established rules (constraints) ensure that the data stored is consistent, valid, and maintains the relationships between different pieces of information."
      ],
      "metadata": {
        "id": "FBwpau6hcuDC"
      }
    },
    {
      "cell_type": "markdown",
      "source": [
        "## Introduction to the INSERT INTO Statement\n",
        "\n",
        "In SQL, once you've established the structure of your tables, the next step is populating them with data. The `INSERT INTO` statement is used for this purpose. It allows you to insert new records (rows of data) into a table.\n",
        "\n",
        "```sql\n",
        "INSERT INTO table_name (column1, column2, column3, ...)\n",
        "VALUES (value1, value2, value3, ...);\n",
        "```\n",
        "\n",
        "-   table_name: The name of the table you wish to insert data into.\n",
        "-   column1, column2, ...: The names of the columns in the table where you want to insert data.\n",
        "-   value1, value2, ...: The corresponding values for these columns.\n",
        "\n",
        "It's essential to ensure that the order of columns matches the order of values, and the data types of the values match the data types of the columns.\n",
        "\n",
        "Let's populate our `Dinosaurs` and `Enclosures` tables with some sample data using the `INSERT INTO` statement:"
      ],
      "metadata": {
        "id": "QheiMac3eEiY"
      }
    },
    {
      "cell_type": "code",
      "source": [
        "%%sql\n",
        "--Delete existing data (in case you re-run this cell)\n",
        "DELETE FROM Enclosures;\n",
        "\n",
        "INSERT INTO Enclosures (enclosure_number, square_feet, security_level, habitat_type, min_temp_c, max_temp_c) VALUES\n",
        "(1, 50000, 5, 'Tropical Rainforest', 20, 35),\n",
        "(2, 250000, 4, 'Grasslands', 15, 28),\n",
        "(3, 180000, 3, 'Woodlands', 10, 25),\n",
        "(4, 36000, 2, 'Desert', 25, 40),\n",
        "(5, 22000, 5, 'Wetlands', 16, 30);\n"
      ],
      "metadata": {
        "id": "UL1ZEoMyenbm",
        "outputId": "35a532f4-78da-4d5e-b96b-b2d9ff4ed176",
        "colab": {
          "base_uri": "https://localhost:8080/"
        }
      },
      "execution_count": 28,
      "outputs": [
        {
          "output_type": "stream",
          "name": "stdout",
          "text": [
            " * postgresql+psycopg2://@/postgres\n",
            "0 rows affected.\n",
            "5 rows affected.\n"
          ]
        },
        {
          "output_type": "execute_result",
          "data": {
            "text/plain": [
              "[]"
            ]
          },
          "metadata": {},
          "execution_count": 28
        }
      ]
    },
    {
      "cell_type": "code",
      "source": [
        "%%sql\n",
        "--Delete existing data (in case you re-run this cell)\n",
        "DELETE FROM Dinosaurs;\n",
        "\n",
        "-- Inserting data for Dinosaurs\n",
        "INSERT INTO Dinosaurs (dinosaur_id, name, species, diet, enclosure_number, dob, weight_kg, length_m) VALUES\n",
        "(1, 'Rexie', 'Tyrannosaurus Rex', 'Carnivore', 1, '1990-07-18', 7000, 12),\n",
        "(2, 'Blue', 'Velociraptor', 'Carnivore', 2, '1993-05-14', NULL, 2),\n",
        "(3, 'Ducky', 'Brachiosaurus', 'Herbivore', 1, '1989-04-16', 50000, 30),\n",
        "(4, 'Spike', 'Stegosaurus', 'Herbivore', 3, NULL, 3100, 9),\n",
        "(5, 'Chomper', 'Tyrannosaurus Rex', 'Carnivore', 1, '1991-09-02', 8000, NULL),\n",
        "(6, 'Littlefoot', 'Apatosaurus', 'Herbivore', 2, '1988-11-07', 22000, 21),\n",
        "(7, 'Cera', 'Triceratops', 'Herbivore', 3, '1990-01-30', 6000, 8),\n",
        "(8, 'Petrie', 'Pteranodon', 'Carnivore', NULL, '1992-07-22', 20, 6),\n",
        "(9, 'Munch', 'Ankylosaurus', 'Herbivore', 4, '1993-12-11', 6000, 6.5),\n",
        "(10, 'Blink', 'Velociraptor', 'Carnivore', 2, '1994-03-15', NULL, 2.5),\n",
        "(11, 'Ivy', 'Diplodocus', 'Herbivore', 5, '1987-05-06', 12000, 27),\n",
        "(12, 'Echo', 'Velociraptor', 'Carnivore', 2, NULL, 90, 2),\n",
        "(13, 'Delta', 'Velociraptor', 'Carnivore', 2, '1995-10-23', 100, 2),\n",
        "(14, 'Ruby', 'Gallimimus', 'Omnivore', 5, '1992-04-01', 440, 6),\n",
        "(15, 'Scar', 'Allosaurus', 'Carnivore', 4, '1990-06-30', 1500, 8.5);\n"
      ],
      "metadata": {
        "id": "xmtcZPs4fpl8",
        "outputId": "c5e3708b-3961-4232-c561-77a3198c011d",
        "colab": {
          "base_uri": "https://localhost:8080/"
        }
      },
      "execution_count": 32,
      "outputs": [
        {
          "output_type": "stream",
          "name": "stdout",
          "text": [
            " * postgresql+psycopg2://@/postgres\n",
            "0 rows affected.\n",
            "15 rows affected.\n"
          ]
        },
        {
          "output_type": "execute_result",
          "data": {
            "text/plain": [
              "[]"
            ]
          },
          "metadata": {},
          "execution_count": 32
        }
      ]
    },
    {
      "cell_type": "markdown",
      "source": [
        "## Exercise 1: Create a Table for Prehistoric Plants\n",
        "Create a table to record data about various prehistoric plants found in the park.\n",
        "\n",
        "Directions:\n",
        "\n",
        "1.  Name the table `PrehistoricPlants`.\n",
        "2.  The table should have the following columns:\n",
        "    -   `plant_id`: An integer that serves as the primary key.\n",
        "    -   `name`: A variable character string with a maximum length of 30, which should not be null.\n",
        "    -   `period`: A variable character string with a maximum length of 50 to denote the geological period (e.g., Jurassic, Cretaceous).\n",
        "    -   `dietary_use`: A variable character string with a maximum length of 64 to denote if it was a primary food source for herbivores or just decorative.\n",
        "\n",
        "You'll be using `CREATE TABLE` to do this."
      ],
      "metadata": {
        "id": "l2GVoNoVhMgR"
      }
    },
    {
      "cell_type": "code",
      "source": [
        "%%sql\n",
        "--Run this cell if you need to drop old tables\n",
        "DROP TABLE IF EXISTS PrehistoricPlants CASCADE;"
      ],
      "metadata": {
        "id": "XVdFFURChdHl",
        "outputId": "ebaf0d9a-cb48-4da7-f253-303e1c084197",
        "colab": {
          "base_uri": "https://localhost:8080/"
        }
      },
      "execution_count": 6,
      "outputs": [
        {
          "output_type": "stream",
          "name": "stdout",
          "text": [
            " * postgresql+psycopg2://@/postgres\n",
            "Done.\n"
          ]
        },
        {
          "output_type": "execute_result",
          "data": {
            "text/plain": [
              "[]"
            ]
          },
          "metadata": {},
          "execution_count": 6
        }
      ]
    },
    {
      "cell_type": "code",
      "source": [
        "%%sql\n",
        "--Exercise 1 -- Your code below"
      ],
      "metadata": {
        "id": "LIqmx_wLhWl1",
        "colab": {
          "base_uri": "https://localhost:8080/"
        },
        "outputId": "89531e77-7dbd-446c-f04c-bf6eeaa7c573"
      },
      "execution_count": 7,
      "outputs": [
        {
          "output_type": "stream",
          "name": "stdout",
          "text": [
            " * postgresql+psycopg2://@/postgres\n",
            "(psycopg2.ProgrammingError) can't execute an empty query\n",
            "[SQL: --Exercise 1 -- Your code below]\n",
            "(Background on this error at: https://sqlalche.me/e/20/f405)\n"
          ]
        }
      ]
    },
    {
      "cell_type": "markdown",
      "source": [
        "## Exercise 2: Insert Data into the Prehistoric Plants Table\n",
        "\n",
        "Populate the `PrehistoricPlants` table with data. Directions:\n",
        "\n",
        "1.  Add the following plants to the `PrehistoricPlants` table:\n",
        "    -   Name: \"Cycadeoidea\", Period: \"Jurassic\", Dietary Use: \"Primary Food Source\"\n",
        "    -   Name: \"Williamsonia\", Period: \"Jurassic\", Dietary Use: \"Decorative\"\n",
        "2.  Ensure that each entry has a unique `plant_id`.\n",
        "\n",
        "Here, you'll be using the `INSERT INTO` statement."
      ],
      "metadata": {
        "id": "zzi8fkTrhuGo"
      }
    },
    {
      "cell_type": "code",
      "source": [
        "%%sql\n",
        "--Run this cell if you need to delete old data\n",
        "DELETE FROM PrehistoricPlants;"
      ],
      "metadata": {
        "id": "XGO4P4T1iCD_",
        "colab": {
          "base_uri": "https://localhost:8080/"
        },
        "outputId": "98a608b8-631b-4958-bfac-aec379480115"
      },
      "execution_count": 8,
      "outputs": [
        {
          "output_type": "stream",
          "name": "stdout",
          "text": [
            " * postgresql+psycopg2://@/postgres\n",
            "(psycopg2.errors.UndefinedTable) relation \"prehistoricplants\" does not exist\n",
            "LINE 2: DELETE FROM PrehistoricPlants CASCADE;\n",
            "                    ^\n",
            "\n",
            "[SQL: --Run this cell if you need to delete old data\n",
            "DELETE FROM PrehistoricPlants CASCADE;]\n",
            "(Background on this error at: https://sqlalche.me/e/20/f405)\n"
          ]
        }
      ]
    },
    {
      "cell_type": "markdown",
      "source": [
        "## Introduction to SELECT...FROM...WHERE in SQL\n",
        "\n",
        "The essence of databases lies in the ability to query them, to ask questions and retrieve answers. The `SELECT` statement in SQL is the fundamental tool to achieve this. Let's dissect it piece by piece.\n",
        "\n",
        "### The Anatomy of a Simple Query\n",
        "\n",
        "Every query typically has three core components:\n",
        "\n",
        "-   What you want to select.\n",
        "-   From where you want to select it.\n",
        "-   Under what conditions you want to select.\n",
        "\n",
        "In SQL terms, these map to `SELECT`, `FROM`, and `WHERE`.\n",
        "\n",
        "### The SELECT Clause\n",
        "\n",
        "The `SELECT` clause determines which columns you want to view in your results. Think of it as shining a spotlight on specific parts of your table.\n",
        "\n",
        "```sql\n",
        "SELECT column_name\n",
        "```\n",
        "\n",
        "For instance, if you have a table of books and you only want to view the titles, you'd use:\n",
        "\n",
        "```sql\n",
        "SELECT title\n",
        "FROM books;\n",
        "```\n",
        "\n",
        "### The FROM Clause\n",
        "\n",
        "The `FROM` clause tells the database from which table you're trying to select data. It's like choosing a specific bookshelf in a vast library.\n",
        "\n",
        "```sql\n",
        "SELECT column_name FROM table_name\n",
        "```\n",
        "\n",
        "If you wanted to see all authors from a 'books' table, it'd be:\n",
        "\n",
        "```sql\n",
        "SELECT author\n",
        "FROM books;\n",
        "```\n",
        "\n",
        "### The WHERE Clause\n",
        "\n",
        "The `WHERE` clause allows you to filter your results based on conditions. It's akin to only selecting books of a certain genre from a shelf.\n",
        "\n",
        "```sql\n",
        "SELECT column_name FROM table_name WHERE condition\n",
        "```\n",
        "\n",
        "For our book example, if you wished to only view titles of books published after 2000:\n",
        "\n",
        "```sql\n",
        "SELECT title\n",
        "FROM books\n",
        "WHERE publication_year > 2000;\n",
        "```\n",
        "\n",
        "### SELECTing Multiple Columns\n",
        "\n",
        "You're not limited to selecting just one column. By separating column names with commas, you can retrieve multiple columns:\n",
        "\n",
        "```sql\n",
        "SELECT title, author\n",
        "FROM books;\n",
        "```\n",
        "\n",
        "This would display both the title and author for every book in the 'books' table."
      ],
      "metadata": {
        "id": "nNqxJ53ijR0F"
      }
    },
    {
      "cell_type": "markdown",
      "source": [
        "With our understanding of `SELECT`, `FROM`, and `WHERE`, let's consider the 'Dinosaurs' table. If you wanted to know the names and species of all herbivorous dinosaurs:"
      ],
      "metadata": {
        "id": "lO2fmIHnjSed"
      }
    },
    {
      "cell_type": "code",
      "source": [
        "%%sql\n",
        "SELECT name, species\n",
        "FROM Dinosaurs\n",
        "WHERE diet = 'Herbivore';\n"
      ],
      "metadata": {
        "id": "J7pMwgpIjWpO",
        "outputId": "101192ab-a9ff-4329-8909-14cd822c801a",
        "colab": {
          "base_uri": "https://localhost:8080/",
          "height": 203
        }
      },
      "execution_count": 33,
      "outputs": [
        {
          "output_type": "stream",
          "name": "stdout",
          "text": [
            " * postgresql+psycopg2://@/postgres\n",
            "6 rows affected.\n"
          ]
        },
        {
          "output_type": "execute_result",
          "data": {
            "text/plain": [
              "[('Ducky', 'Brachiosaurus'),\n",
              " ('Spike', 'Stegosaurus'),\n",
              " ('Littlefoot', 'Apatosaurus'),\n",
              " ('Cera', 'Triceratops'),\n",
              " ('Munch', 'Ankylosaurus'),\n",
              " ('Ivy', 'Diplodocus')]"
            ],
            "text/html": [
              "<table>\n",
              "    <thead>\n",
              "        <tr>\n",
              "            <th>name</th>\n",
              "            <th>species</th>\n",
              "        </tr>\n",
              "    </thead>\n",
              "    <tbody>\n",
              "        <tr>\n",
              "            <td>Ducky</td>\n",
              "            <td>Brachiosaurus</td>\n",
              "        </tr>\n",
              "        <tr>\n",
              "            <td>Spike</td>\n",
              "            <td>Stegosaurus</td>\n",
              "        </tr>\n",
              "        <tr>\n",
              "            <td>Littlefoot</td>\n",
              "            <td>Apatosaurus</td>\n",
              "        </tr>\n",
              "        <tr>\n",
              "            <td>Cera</td>\n",
              "            <td>Triceratops</td>\n",
              "        </tr>\n",
              "        <tr>\n",
              "            <td>Munch</td>\n",
              "            <td>Ankylosaurus</td>\n",
              "        </tr>\n",
              "        <tr>\n",
              "            <td>Ivy</td>\n",
              "            <td>Diplodocus</td>\n",
              "        </tr>\n",
              "    </tbody>\n",
              "</table>"
            ]
          },
          "metadata": {},
          "execution_count": 33
        }
      ]
    },
    {
      "cell_type": "markdown",
      "source": [
        "## Filtering Data With `WHERE`\n",
        "\n",
        "The `WHERE` clause in SQL serves as a filter applied to rows in a database table, enabling the selection of records that fulfill a specific criterion. It's an indispensable tool for sifting through data. Here's a breakdown of its syntax:\n",
        "\n",
        "1.  **Comparison Operators** are symbols (such as `<', '=', '>', etc.) that denote how one value compares to another. They are foundational to most queries and can be used to filter data numerically, textually, and chronologically.\n",
        "\n",
        "2.  **Logical Operators** include `AND`, `OR`, and `NOT`. They allow for the combination of multiple conditions, either to narrow down results (`AND`) or broaden them (`OR`), or to specifically exclude certain records (`NOT`).\n",
        "\n",
        "3. The `BETWEEN` operator is used for range conditions and is inclusive, meaning it will select records where the column's value lies within the given range.\n",
        "\n",
        "4.  `IN` is used to filter records where a column's value matches any in a provided list. It's a shorthand for multiple `OR` conditions.\n",
        "\n",
        "5.  `LIKE` is used for pattern matching in strings. `%` represents any sequence of characters, and `_` represents a single character. For example:\n",
        "  - `LIKE 'The%'` means \"Find any string starting with \"The\".\n",
        "  - `LIKE '%y'` means \"Find any string ending with y.\n",
        "  - `LIKE '%Rex%` means \"Find any strings with \"Rex\" anywhere.\"\n",
        "\n",
        "6.  `IS NULL` checks for empty fields. A field with a `NULL` value is one that has been left blank during record creation."
      ],
      "metadata": {
        "id": "YAz7jE0mEsUR"
      }
    },
    {
      "cell_type": "code",
      "source": [
        "%%sql\n",
        "-- This query selects dinosaur names that are strictly herbivores.\n",
        "SELECT name, species\n",
        "FROM Dinosaurs\n",
        "-- 'diet = Herbivore' is a comparison operation checking for equality.\n",
        "WHERE diet = 'Herbivore';"
      ],
      "metadata": {
        "colab": {
          "base_uri": "https://localhost:8080/",
          "height": 203
        },
        "id": "IeZZo1tLEs5R",
        "outputId": "9bfe9619-d0b9-4861-f6de-0c48e529a5aa"
      },
      "execution_count": 35,
      "outputs": [
        {
          "output_type": "stream",
          "name": "stdout",
          "text": [
            " * postgresql+psycopg2://@/postgres\n",
            "6 rows affected.\n"
          ]
        },
        {
          "output_type": "execute_result",
          "data": {
            "text/plain": [
              "[('Ducky', 'Brachiosaurus'),\n",
              " ('Spike', 'Stegosaurus'),\n",
              " ('Littlefoot', 'Apatosaurus'),\n",
              " ('Cera', 'Triceratops'),\n",
              " ('Munch', 'Ankylosaurus'),\n",
              " ('Ivy', 'Diplodocus')]"
            ],
            "text/html": [
              "<table>\n",
              "    <thead>\n",
              "        <tr>\n",
              "            <th>name</th>\n",
              "            <th>species</th>\n",
              "        </tr>\n",
              "    </thead>\n",
              "    <tbody>\n",
              "        <tr>\n",
              "            <td>Ducky</td>\n",
              "            <td>Brachiosaurus</td>\n",
              "        </tr>\n",
              "        <tr>\n",
              "            <td>Spike</td>\n",
              "            <td>Stegosaurus</td>\n",
              "        </tr>\n",
              "        <tr>\n",
              "            <td>Littlefoot</td>\n",
              "            <td>Apatosaurus</td>\n",
              "        </tr>\n",
              "        <tr>\n",
              "            <td>Cera</td>\n",
              "            <td>Triceratops</td>\n",
              "        </tr>\n",
              "        <tr>\n",
              "            <td>Munch</td>\n",
              "            <td>Ankylosaurus</td>\n",
              "        </tr>\n",
              "        <tr>\n",
              "            <td>Ivy</td>\n",
              "            <td>Diplodocus</td>\n",
              "        </tr>\n",
              "    </tbody>\n",
              "</table>"
            ]
          },
          "metadata": {},
          "execution_count": 35
        }
      ]
    },
    {
      "cell_type": "code",
      "source": [
        "%%sql\n",
        "-- This query finds dinosaurs born before the year 2000 that are also carnivores.\n",
        "SELECT name, dob\n",
        "FROM Dinosaurs\n",
        "-- The logical operator 'AND' combines two conditions.\n",
        "WHERE diet = 'Carnivore' AND dob < '2000-01-01';"
      ],
      "metadata": {
        "colab": {
          "base_uri": "https://localhost:8080/",
          "height": 225
        },
        "id": "xBon61-BFX9J",
        "outputId": "e49d6692-d9c7-46f6-e962-9660a6d5916c"
      },
      "execution_count": 36,
      "outputs": [
        {
          "output_type": "stream",
          "name": "stdout",
          "text": [
            " * postgresql+psycopg2://@/postgres\n",
            "7 rows affected.\n"
          ]
        },
        {
          "output_type": "execute_result",
          "data": {
            "text/plain": [
              "[('Rexie', datetime.date(1990, 7, 18)),\n",
              " ('Blue', datetime.date(1993, 5, 14)),\n",
              " ('Chomper', datetime.date(1991, 9, 2)),\n",
              " ('Petrie', datetime.date(1992, 7, 22)),\n",
              " ('Blink', datetime.date(1994, 3, 15)),\n",
              " ('Delta', datetime.date(1995, 10, 23)),\n",
              " ('Scar', datetime.date(1990, 6, 30))]"
            ],
            "text/html": [
              "<table>\n",
              "    <thead>\n",
              "        <tr>\n",
              "            <th>name</th>\n",
              "            <th>dob</th>\n",
              "        </tr>\n",
              "    </thead>\n",
              "    <tbody>\n",
              "        <tr>\n",
              "            <td>Rexie</td>\n",
              "            <td>1990-07-18</td>\n",
              "        </tr>\n",
              "        <tr>\n",
              "            <td>Blue</td>\n",
              "            <td>1993-05-14</td>\n",
              "        </tr>\n",
              "        <tr>\n",
              "            <td>Chomper</td>\n",
              "            <td>1991-09-02</td>\n",
              "        </tr>\n",
              "        <tr>\n",
              "            <td>Petrie</td>\n",
              "            <td>1992-07-22</td>\n",
              "        </tr>\n",
              "        <tr>\n",
              "            <td>Blink</td>\n",
              "            <td>1994-03-15</td>\n",
              "        </tr>\n",
              "        <tr>\n",
              "            <td>Delta</td>\n",
              "            <td>1995-10-23</td>\n",
              "        </tr>\n",
              "        <tr>\n",
              "            <td>Scar</td>\n",
              "            <td>1990-06-30</td>\n",
              "        </tr>\n",
              "    </tbody>\n",
              "</table>"
            ]
          },
          "metadata": {},
          "execution_count": 36
        }
      ]
    },
    {
      "cell_type": "code",
      "source": [
        "%%sql\n",
        "-- This query retrieves the names of dinosaurs whose species fall within a set list.\n",
        "SELECT name\n",
        "FROM Dinosaurs\n",
        "-- 'IN' allows for matching against multiple values.\n",
        "WHERE species IN ('T-Rex', 'Velociraptor', 'Triceratops')"
      ],
      "metadata": {
        "colab": {
          "base_uri": "https://localhost:8080/",
          "height": 182
        },
        "id": "rgxbfkvKFgGZ",
        "outputId": "cc5260b7-922d-49fa-ac6e-6911da34c4f1"
      },
      "execution_count": 37,
      "outputs": [
        {
          "output_type": "stream",
          "name": "stdout",
          "text": [
            " * postgresql+psycopg2://@/postgres\n",
            "5 rows affected.\n"
          ]
        },
        {
          "output_type": "execute_result",
          "data": {
            "text/plain": [
              "[('Blue',), ('Cera',), ('Blink',), ('Echo',), ('Delta',)]"
            ],
            "text/html": [
              "<table>\n",
              "    <thead>\n",
              "        <tr>\n",
              "            <th>name</th>\n",
              "        </tr>\n",
              "    </thead>\n",
              "    <tbody>\n",
              "        <tr>\n",
              "            <td>Blue</td>\n",
              "        </tr>\n",
              "        <tr>\n",
              "            <td>Cera</td>\n",
              "        </tr>\n",
              "        <tr>\n",
              "            <td>Blink</td>\n",
              "        </tr>\n",
              "        <tr>\n",
              "            <td>Echo</td>\n",
              "        </tr>\n",
              "        <tr>\n",
              "            <td>Delta</td>\n",
              "        </tr>\n",
              "    </tbody>\n",
              "</table>"
            ]
          },
          "metadata": {},
          "execution_count": 37
        }
      ]
    },
    {
      "cell_type": "code",
      "source": [
        "%%sql\n",
        "-- Let's find enclosures that have between 10,000 and 40,000 sqft\n",
        "SELECT * -- This means select \"all columns\"\n",
        "FROM Enclosures\n",
        "WHERE square_feet BETWEEN 10000 AND 40000;"
      ],
      "metadata": {
        "colab": {
          "base_uri": "https://localhost:8080/",
          "height": 118
        },
        "id": "2akDil0MGxXh",
        "outputId": "1a2da110-f571-41c3-cf59-94f7b441d093"
      },
      "execution_count": 38,
      "outputs": [
        {
          "output_type": "stream",
          "name": "stdout",
          "text": [
            " * postgresql+psycopg2://@/postgres\n",
            "2 rows affected.\n"
          ]
        },
        {
          "output_type": "execute_result",
          "data": {
            "text/plain": [
              "[(4, 36000, 2, 'Desert', 25.0, 40.0), (5, 22000, 5, 'Wetlands', 16.0, 30.0)]"
            ],
            "text/html": [
              "<table>\n",
              "    <thead>\n",
              "        <tr>\n",
              "            <th>enclosure_number</th>\n",
              "            <th>square_feet</th>\n",
              "            <th>security_level</th>\n",
              "            <th>habitat_type</th>\n",
              "            <th>min_temp_c</th>\n",
              "            <th>max_temp_c</th>\n",
              "        </tr>\n",
              "    </thead>\n",
              "    <tbody>\n",
              "        <tr>\n",
              "            <td>4</td>\n",
              "            <td>36000</td>\n",
              "            <td>2</td>\n",
              "            <td>Desert</td>\n",
              "            <td>25.0</td>\n",
              "            <td>40.0</td>\n",
              "        </tr>\n",
              "        <tr>\n",
              "            <td>5</td>\n",
              "            <td>22000</td>\n",
              "            <td>5</td>\n",
              "            <td>Wetlands</td>\n",
              "            <td>16.0</td>\n",
              "            <td>30.0</td>\n",
              "        </tr>\n",
              "    </tbody>\n",
              "</table>"
            ]
          },
          "metadata": {},
          "execution_count": 38
        }
      ]
    },
    {
      "cell_type": "code",
      "source": [
        "%%sql\n",
        "-- This query searches for dinosaurs whose names start with 'S'\n",
        "SELECT name\n",
        "FROM Dinosaurs\n",
        "-- 'LIKE' with '%' wildcard matches any sequence of characters.\n",
        "WHERE name LIKE 'S%';"
      ],
      "metadata": {
        "colab": {
          "base_uri": "https://localhost:8080/",
          "height": 118
        },
        "id": "HSbwcig2Frc9",
        "outputId": "ea14e376-f95b-42a2-9da0-cd46cfaa1575"
      },
      "execution_count": 39,
      "outputs": [
        {
          "output_type": "stream",
          "name": "stdout",
          "text": [
            " * postgresql+psycopg2://@/postgres\n",
            "2 rows affected.\n"
          ]
        },
        {
          "output_type": "execute_result",
          "data": {
            "text/plain": [
              "[('Spike',), ('Scar',)]"
            ],
            "text/html": [
              "<table>\n",
              "    <thead>\n",
              "        <tr>\n",
              "            <th>name</th>\n",
              "        </tr>\n",
              "    </thead>\n",
              "    <tbody>\n",
              "        <tr>\n",
              "            <td>Spike</td>\n",
              "        </tr>\n",
              "        <tr>\n",
              "            <td>Scar</td>\n",
              "        </tr>\n",
              "    </tbody>\n",
              "</table>"
            ]
          },
          "metadata": {},
          "execution_count": 39
        }
      ]
    },
    {
      "cell_type": "code",
      "source": [
        "%%sql\n",
        "-- This query finds dinosaurs with no recorded date of birth.\n",
        "SELECT name\n",
        "FROM Dinosaurs\n",
        "-- 'IS NULL' checks for the absence of data.\n",
        "WHERE dob IS NULL;"
      ],
      "metadata": {
        "colab": {
          "base_uri": "https://localhost:8080/",
          "height": 118
        },
        "id": "6adXdgJ3GLOf",
        "outputId": "4ac74329-908f-4c62-f90b-c6fe35725051"
      },
      "execution_count": 40,
      "outputs": [
        {
          "output_type": "stream",
          "name": "stdout",
          "text": [
            " * postgresql+psycopg2://@/postgres\n",
            "2 rows affected.\n"
          ]
        },
        {
          "output_type": "execute_result",
          "data": {
            "text/plain": [
              "[('Spike',), ('Echo',)]"
            ],
            "text/html": [
              "<table>\n",
              "    <thead>\n",
              "        <tr>\n",
              "            <th>name</th>\n",
              "        </tr>\n",
              "    </thead>\n",
              "    <tbody>\n",
              "        <tr>\n",
              "            <td>Spike</td>\n",
              "        </tr>\n",
              "        <tr>\n",
              "            <td>Echo</td>\n",
              "        </tr>\n",
              "    </tbody>\n",
              "</table>"
            ]
          },
          "metadata": {},
          "execution_count": 40
        }
      ]
    },
    {
      "cell_type": "markdown",
      "source": [
        "## Overview of SQL JOIN\n",
        "\n",
        "The real power of relational databases comes in their abilities to \"relate\" different tables. To do this, the `JOIN` operation is a means to combine rows from two or more tables based on a related column between them, which is known as a \"key.\" An (INNER) JOIN specifically retrieves records that have matching values in both tables.\n",
        "\n",
        "To see how this works, imagine two tables as two different sets of information. An INNER JOIN effectively finds the intersection of these two sets, where the specified condition is met in both. It's akin to the overlapping section in a Venn diagram where both sets meet.\n",
        "\n",
        "```sql\n",
        "SELECT column_name(s)\n",
        "FROM table1\n",
        "INNER JOIN table2\n",
        "ON table1.column_name = table2.column_name;\n",
        "```\n",
        "\n",
        "Here, `table1` and `table2` are the tables from which you want to fetch data. The `ON` clause is critical as it specifies the column on which the join will be based. The result of this operation is a new table that combines columns from `table1` and `table2`, including only those rows where the join condition is true.\n",
        "\n",
        "For example, Consider a database with two tables: `Employees` and `Departments`.\n",
        "\n",
        "-   `Employees` might contain: EmployeeID, Name, DeptID.\n",
        "-   `Departments` might contain: DeptID, DepartmentName.\n",
        "\n",
        "If you want to list all employees along with their respective department names, you would use an INNER JOIN to join on the common column, which is `DeptID` in both tables.\n",
        "\n",
        "```sql\n",
        "SELECT Employees.Name, Departments.DepartmentName\n",
        "FROM Employees\n",
        "INNER JOIN Departments\n",
        "ON Employees.DeptID = Departments.DeptID;\n",
        "```\n",
        "\n",
        "This query joins the `Employees` table with the `Departments` table where the `DeptID` is matching in both tables, and selects the `Name` of the employee along with their `DepartmentName`. Only employees who have a department will be included in the results, thanks to the nature of the INNER JOIN."
      ],
      "metadata": {
        "id": "PcPJ6v6jO7lt"
      }
    },
    {
      "cell_type": "markdown",
      "source": [
        "### Example (SQL JOIN): Matching Dinosaurs to Their Enclosures\n",
        "\n",
        "To find out which dinosaur is in which enclosure, we can join the `Dinosaurs` table with the `Enclosures` table using the `enclosure_number` as the key."
      ],
      "metadata": {
        "id": "nNVejRSjFqeK"
      }
    },
    {
      "cell_type": "code",
      "source": [
        "%%sql\n",
        "SELECT Dinosaurs.name AS DinosaurName,\n",
        "  Enclosures.habitat_type AS HabitatType\n",
        "FROM Dinosaurs JOIN Enclosures\n",
        "  ON Dinosaurs.enclosure_number = Enclosures.enclosure_number;"
      ],
      "metadata": {
        "id": "sxIe7QMEPIYQ",
        "outputId": "4ca4522a-5f8b-47ea-a532-1a652fb58310",
        "colab": {
          "base_uri": "https://localhost:8080/",
          "height": 374
        }
      },
      "execution_count": 41,
      "outputs": [
        {
          "output_type": "stream",
          "name": "stdout",
          "text": [
            " * postgresql+psycopg2://@/postgres\n",
            "14 rows affected.\n"
          ]
        },
        {
          "output_type": "execute_result",
          "data": {
            "text/plain": [
              "[('Rexie', 'Tropical Rainforest'),\n",
              " ('Blue', 'Grasslands'),\n",
              " ('Ducky', 'Tropical Rainforest'),\n",
              " ('Spike', 'Woodlands'),\n",
              " ('Chomper', 'Tropical Rainforest'),\n",
              " ('Littlefoot', 'Grasslands'),\n",
              " ('Cera', 'Woodlands'),\n",
              " ('Munch', 'Desert'),\n",
              " ('Blink', 'Grasslands'),\n",
              " ('Ivy', 'Wetlands'),\n",
              " ('Echo', 'Grasslands'),\n",
              " ('Delta', 'Grasslands'),\n",
              " ('Ruby', 'Wetlands'),\n",
              " ('Scar', 'Desert')]"
            ],
            "text/html": [
              "<table>\n",
              "    <thead>\n",
              "        <tr>\n",
              "            <th>dinosaurname</th>\n",
              "            <th>habitattype</th>\n",
              "        </tr>\n",
              "    </thead>\n",
              "    <tbody>\n",
              "        <tr>\n",
              "            <td>Rexie</td>\n",
              "            <td>Tropical Rainforest</td>\n",
              "        </tr>\n",
              "        <tr>\n",
              "            <td>Blue</td>\n",
              "            <td>Grasslands</td>\n",
              "        </tr>\n",
              "        <tr>\n",
              "            <td>Ducky</td>\n",
              "            <td>Tropical Rainforest</td>\n",
              "        </tr>\n",
              "        <tr>\n",
              "            <td>Spike</td>\n",
              "            <td>Woodlands</td>\n",
              "        </tr>\n",
              "        <tr>\n",
              "            <td>Chomper</td>\n",
              "            <td>Tropical Rainforest</td>\n",
              "        </tr>\n",
              "        <tr>\n",
              "            <td>Littlefoot</td>\n",
              "            <td>Grasslands</td>\n",
              "        </tr>\n",
              "        <tr>\n",
              "            <td>Cera</td>\n",
              "            <td>Woodlands</td>\n",
              "        </tr>\n",
              "        <tr>\n",
              "            <td>Munch</td>\n",
              "            <td>Desert</td>\n",
              "        </tr>\n",
              "        <tr>\n",
              "            <td>Blink</td>\n",
              "            <td>Grasslands</td>\n",
              "        </tr>\n",
              "        <tr>\n",
              "            <td>Ivy</td>\n",
              "            <td>Wetlands</td>\n",
              "        </tr>\n",
              "        <tr>\n",
              "            <td>Echo</td>\n",
              "            <td>Grasslands</td>\n",
              "        </tr>\n",
              "        <tr>\n",
              "            <td>Delta</td>\n",
              "            <td>Grasslands</td>\n",
              "        </tr>\n",
              "        <tr>\n",
              "            <td>Ruby</td>\n",
              "            <td>Wetlands</td>\n",
              "        </tr>\n",
              "        <tr>\n",
              "            <td>Scar</td>\n",
              "            <td>Desert</td>\n",
              "        </tr>\n",
              "    </tbody>\n",
              "</table>"
            ]
          },
          "metadata": {},
          "execution_count": 41
        }
      ]
    },
    {
      "cell_type": "markdown",
      "source": [
        "This query selects the name of each dinosaur and the type of habitat they are in. The INNER JOIN clause creates a temporary table where each dinosaur is matched with its enclosure, but only where there's a valid enclosure number that exists in both tables."
      ],
      "metadata": {
        "id": "IssHPFR_Poez"
      }
    },
    {
      "cell_type": "markdown",
      "source": [
        "### Example (SQL JOIN): Finding Carnivorous Dinosaurs and Their Security Levels\n",
        "\n",
        "Suppose we want to identify all carnivorous dinosaurs and the security level of their enclosures."
      ],
      "metadata": {
        "id": "uH1TsS3kPtZC"
      }
    },
    {
      "cell_type": "code",
      "source": [
        "%%sql\n",
        "SELECT Dinosaurs.name AS DinosaurName,\n",
        "  Dinosaurs.diet,\n",
        "  Enclosures.security_level AS SecurityLevel\n",
        "FROM Dinosaurs INNER JOIN Enclosures\n",
        "  ON Dinosaurs.enclosure_number = Enclosures.enclosure_number\n",
        "WHERE Dinosaurs.diet = 'Carnivore';\n"
      ],
      "metadata": {
        "id": "ZW6jGK_6PuvX",
        "outputId": "385cd201-d358-4b6f-dd39-861664128d4c",
        "colab": {
          "base_uri": "https://localhost:8080/",
          "height": 225
        }
      },
      "execution_count": 42,
      "outputs": [
        {
          "output_type": "stream",
          "name": "stdout",
          "text": [
            " * postgresql+psycopg2://@/postgres\n",
            "7 rows affected.\n"
          ]
        },
        {
          "output_type": "execute_result",
          "data": {
            "text/plain": [
              "[('Rexie', 'Carnivore', 5),\n",
              " ('Blue', 'Carnivore', 4),\n",
              " ('Chomper', 'Carnivore', 5),\n",
              " ('Blink', 'Carnivore', 4),\n",
              " ('Echo', 'Carnivore', 4),\n",
              " ('Delta', 'Carnivore', 4),\n",
              " ('Scar', 'Carnivore', 2)]"
            ],
            "text/html": [
              "<table>\n",
              "    <thead>\n",
              "        <tr>\n",
              "            <th>dinosaurname</th>\n",
              "            <th>diet</th>\n",
              "            <th>securitylevel</th>\n",
              "        </tr>\n",
              "    </thead>\n",
              "    <tbody>\n",
              "        <tr>\n",
              "            <td>Rexie</td>\n",
              "            <td>Carnivore</td>\n",
              "            <td>5</td>\n",
              "        </tr>\n",
              "        <tr>\n",
              "            <td>Blue</td>\n",
              "            <td>Carnivore</td>\n",
              "            <td>4</td>\n",
              "        </tr>\n",
              "        <tr>\n",
              "            <td>Chomper</td>\n",
              "            <td>Carnivore</td>\n",
              "            <td>5</td>\n",
              "        </tr>\n",
              "        <tr>\n",
              "            <td>Blink</td>\n",
              "            <td>Carnivore</td>\n",
              "            <td>4</td>\n",
              "        </tr>\n",
              "        <tr>\n",
              "            <td>Echo</td>\n",
              "            <td>Carnivore</td>\n",
              "            <td>4</td>\n",
              "        </tr>\n",
              "        <tr>\n",
              "            <td>Delta</td>\n",
              "            <td>Carnivore</td>\n",
              "            <td>4</td>\n",
              "        </tr>\n",
              "        <tr>\n",
              "            <td>Scar</td>\n",
              "            <td>Carnivore</td>\n",
              "            <td>2</td>\n",
              "        </tr>\n",
              "    </tbody>\n",
              "</table>"
            ]
          },
          "metadata": {},
          "execution_count": 42
        }
      ]
    },
    {
      "cell_type": "markdown",
      "source": [
        "In this query, we're joining the `Dinosaurs` table with the `Enclosures` table, again on enclosure_number, but we're also filtering the results with a `WHERE` clause to only include dinosaurs whose diet is 'Carnivore'. This shows us the security levels for enclosures containing carnivorous species."
      ],
      "metadata": {
        "id": "jSysAiy4QEe1"
      }
    },
    {
      "cell_type": "markdown",
      "source": [
        "## GROUP BY Clause\n",
        "\n",
        "The `GROUP BY` clause in SQL is used to arrange identical data into groups. This clause comes in handy when, in conjunction with aggregate functions, one needs to summarize or aggregate identical data into single rows. It's commonly used with aggregate functions like COUNT, MAX, MIN, SUM, and AVG to perform the aggregation.\n",
        "The syntax is:\n",
        "\n",
        "```sql\n",
        "SELECT column_name(s), AGGREGATE_FUNCTION(column_name)\n",
        "FROM table_name\n",
        "WHERE condition\n",
        "GROUP BY column_name(s);\n",
        "```\n",
        "\n",
        "-   column_name(s): The columns by which the result set is grouped.\n",
        "-   AGGREGATE_FUNCTION: An SQL function like COUNT, SUM, AVG, MAX, or MIN.\n",
        "-   table_name: The name of the table from where to retrieve records.\n",
        "-   condition: A condition to filter the result set before it is grouped."
      ],
      "metadata": {
        "id": "ocwgVHJUQvdF"
      }
    },
    {
      "cell_type": "markdown",
      "source": [
        "## HAVING Clause\n",
        "\n",
        "The `HAVING` clause is like a `WHERE` clause but for grouped records. Since the `WHERE` clause cannot be used with aggregate functions, `HAVING` is used to filter the results returned by the `GROUP BY` clause.\n",
        "\n",
        "```sql\n",
        "SELECT column_name(s), AGGREGATE_FUNCTION(column_name)\n",
        "FROM table_name\n",
        "WHERE condition\n",
        "GROUP BY column_name(s)\n",
        "HAVING condition;\n",
        "```\n",
        "\n",
        "-   condition: In the context of `HAVING`, this condition is an aggregate function."
      ],
      "metadata": {
        "id": "FOR1XvlWQ_pY"
      }
    },
    {
      "cell_type": "markdown",
      "source": [
        "## Aggregate Functions\n",
        "Aggregate functions perform a calculation on a set of values and return a single value. They are used with the `SELECT` statement, and are often used with `GROUP BY` and `HAVING`.\n",
        "\n",
        "-   COUNT(): Returns the number of rows that matches a specified criterion.\n",
        "-   SUM(): Returns the total sum of a numeric column.\n",
        "-   AVG(): Returns the average value of a numeric column.\n",
        "-   MAX(): Returns the largest value of the selected column.\n",
        "-   MIN(): Returns the smallest value of the selected column."
      ],
      "metadata": {
        "id": "jVqQ7iW1RAxA"
      }
    },
    {
      "cell_type": "markdown",
      "source": [
        "### Example (SQL GROUP BY): Counting Dinosaurs Per Enclosure\n",
        "To get a sense of how we can use `GROUP BY` and `HAVING` with aggregate functions, let's try counting the number of dinosaurs per enclosure."
      ],
      "metadata": {
        "id": "YqZYRDsARR-W"
      }
    },
    {
      "cell_type": "code",
      "source": [
        "%%sql\n",
        "SELECT\n",
        "  Enclosures.enclosure_number,\n",
        "  Enclosures.habitat_type,\n",
        "  COUNT(Dinosaurs.dinosaur_id) AS \"Number of Dinosaurs\"\n",
        "FROM Dinosaurs JOIN Enclosures\n",
        "    ON Dinosaurs.enclosure_number = Enclosures.enclosure_number\n",
        "GROUP BY Enclosures.enclosure_number;\n"
      ],
      "metadata": {
        "id": "DxeMb9T6RfBc",
        "outputId": "c04a3e33-7586-4d79-d770-9604851afb27",
        "colab": {
          "base_uri": "https://localhost:8080/",
          "height": 182
        }
      },
      "execution_count": 45,
      "outputs": [
        {
          "output_type": "stream",
          "name": "stdout",
          "text": [
            " * postgresql+psycopg2://@/postgres\n",
            "5 rows affected.\n"
          ]
        },
        {
          "output_type": "execute_result",
          "data": {
            "text/plain": [
              "[(3, 'Woodlands', 2),\n",
              " (5, 'Wetlands', 2),\n",
              " (4, 'Desert', 2),\n",
              " (2, 'Grasslands', 5),\n",
              " (1, 'Tropical Rainforest', 3)]"
            ],
            "text/html": [
              "<table>\n",
              "    <thead>\n",
              "        <tr>\n",
              "            <th>enclosure_number</th>\n",
              "            <th>habitat_type</th>\n",
              "            <th>Number of Dinosaurs</th>\n",
              "        </tr>\n",
              "    </thead>\n",
              "    <tbody>\n",
              "        <tr>\n",
              "            <td>3</td>\n",
              "            <td>Woodlands</td>\n",
              "            <td>2</td>\n",
              "        </tr>\n",
              "        <tr>\n",
              "            <td>5</td>\n",
              "            <td>Wetlands</td>\n",
              "            <td>2</td>\n",
              "        </tr>\n",
              "        <tr>\n",
              "            <td>4</td>\n",
              "            <td>Desert</td>\n",
              "            <td>2</td>\n",
              "        </tr>\n",
              "        <tr>\n",
              "            <td>2</td>\n",
              "            <td>Grasslands</td>\n",
              "            <td>5</td>\n",
              "        </tr>\n",
              "        <tr>\n",
              "            <td>1</td>\n",
              "            <td>Tropical Rainforest</td>\n",
              "            <td>3</td>\n",
              "        </tr>\n",
              "    </tbody>\n",
              "</table>"
            ]
          },
          "metadata": {},
          "execution_count": 45
        }
      ]
    },
    {
      "cell_type": "markdown",
      "source": [
        "## Example (SQL GROUP BY)"
      ],
      "metadata": {
        "id": "-qmMO-MASJzO"
      }
    },
    {
      "cell_type": "code",
      "source": [
        "%%sql\n",
        "SELECT\n",
        "    Enclosures.habitat_type,\n",
        "    AVG(Dinosaurs.weight_kg) AS AverageWeight\n",
        "FROM Dinosaurs JOIN Enclosures\n",
        "  ON Dinosaurs.enclosure_number = Enclosures.enclosure_number\n",
        "GROUP BY Enclosures.habitat_type\n",
        "HAVING AVG(Dinosaurs.weight_kg) > 500;\n"
      ],
      "metadata": {
        "id": "8lW_CbxURNEl",
        "outputId": "8241984d-a931-4bd9-f808-d0bc22c280e8",
        "colab": {
          "base_uri": "https://localhost:8080/",
          "height": 182
        }
      },
      "execution_count": 46,
      "outputs": [
        {
          "output_type": "stream",
          "name": "stdout",
          "text": [
            " * postgresql+psycopg2://@/postgres\n",
            "5 rows affected.\n"
          ]
        },
        {
          "output_type": "execute_result",
          "data": {
            "text/plain": [
              "[('Tropical Rainforest', Decimal('21666.666666666667')),\n",
              " ('Wetlands', Decimal('6220.0000000000000000')),\n",
              " ('Grasslands', Decimal('7396.6666666666666667')),\n",
              " ('Desert', Decimal('3750.0000000000000000')),\n",
              " ('Woodlands', Decimal('4550.0000000000000000'))]"
            ],
            "text/html": [
              "<table>\n",
              "    <thead>\n",
              "        <tr>\n",
              "            <th>habitat_type</th>\n",
              "            <th>averageweight</th>\n",
              "        </tr>\n",
              "    </thead>\n",
              "    <tbody>\n",
              "        <tr>\n",
              "            <td>Tropical Rainforest</td>\n",
              "            <td>21666.666666666667</td>\n",
              "        </tr>\n",
              "        <tr>\n",
              "            <td>Wetlands</td>\n",
              "            <td>6220.0000000000000000</td>\n",
              "        </tr>\n",
              "        <tr>\n",
              "            <td>Grasslands</td>\n",
              "            <td>7396.6666666666666667</td>\n",
              "        </tr>\n",
              "        <tr>\n",
              "            <td>Desert</td>\n",
              "            <td>3750.0000000000000000</td>\n",
              "        </tr>\n",
              "        <tr>\n",
              "            <td>Woodlands</td>\n",
              "            <td>4550.0000000000000000</td>\n",
              "        </tr>\n",
              "    </tbody>\n",
              "</table>"
            ]
          },
          "metadata": {},
          "execution_count": 46
        }
      ]
    },
    {
      "cell_type": "markdown",
      "source": [
        "## Dr. Ian Malcolm's Guide to Writing Good Queries\n",
        "(For those who don't know, Dr. Ian Malcom is the \"crazy (but correct) scientist\" character in the Jurassic Park movies....\n",
        "\n",
        "### Know Your Territory\n",
        "\n",
        "Before you write a query, get to know your database like I know the Jurassic landscape -- intimately. Understand the lay of the land (your tables), the creatures that roam it (the data), and how they interact (relationships). Remember, a database without relationships is like a park without dinosaurs -- not much to see here.\n",
        "\n",
        "*Example:*\n",
        "```sql\n",
        "-- This is like recognizing that T-Rex doesn't want to be fed, it wants to hunt.\n",
        "-- So, we JOIN the 'Dinosaurs' table with the 'Enclosures' to see where the hunting happens.\n",
        "SELECT D.name, E.habitat_type\n",
        "FROM Dinosaurs D\n",
        "JOIN Enclosures E\n",
        "  ON D.enclosure_number = E.enclosure_number;\n",
        "```\n",
        "\n",
        "### The Butterfly Effect\n",
        "In SQL, as in chaos theory, a small error can have large repercussions. Ensure your questions are as clear as crystal -- vague questions lead to a database rampage.\n",
        "\n",
        "*Example:*\n",
        "```sql\n",
        "-- Imagine asking a T-Rex for a high-five. Bad idea.\n",
        "-- It's like running this without a WHERE clause. You'll get more than you bargained for.\n",
        "SELECT name, species\n",
        "FROM Dinosaurs;\n",
        "```\n",
        "\n",
        "### Life Starts Simple\n",
        "Your first query should be as simple as a single-celled organism. Start basic, get it right, then evolve. Complexity will find a way.\n",
        "\n",
        "```sql\n",
        "-- It's like hatching your first dinosaur -- thrilling, yet manageable.\n",
        "SELECT name\n",
        "FROM Dinosaurs\n",
        "WHERE diet = 'Carnivore';\n",
        "```\n",
        "\n",
        "### Survival of the Fittest Query\n",
        "Your queries should adapt and evolve. Introduce WHERE, GROUP BY, and HAVING like introducing new species into the park -- carefully and one at a time.\n",
        "\n",
        "*Example:*\n",
        "\n",
        "```sql\n",
        "-- It's like observing the food chain in action.\n",
        "-- We're looking for the top predators, but only the ones that weigh (on average) more than a ton.\n",
        "SELECT species, AVG(weight_kg) as average_weight\n",
        "FROM Dinosaurs\n",
        "WHERE diet = 'Carnivore'\n",
        "GROUP BY species\n",
        "HAVING AVG(weight_kg) > 1000;\n",
        "```\n",
        "\n",
        "### Expect Chaos\n",
        "No matter how well you plan, expect the unexpected. Your query might work on paper but fail in the wild. Test it, tweak it, and test again. And remember, if you don't document what you did, it's like it never happened.\n",
        "```sql\n",
        "-- Think you've contained the raptors? Think again.\n",
        "-- This query might return more 'velociraptors' than you thought existed.\n",
        "SELECT *\n",
        "FROM Dinosaurs\n",
        "WHERE species LIKE '%raptor%';\n",
        "```\n",
        "\n",
        "In essence, approach SQL with a mix of respect, caution, and a good sense of humor, much like how one would navigate a park filled with prehistoric creatures."
      ],
      "metadata": {
        "id": "Y3zfe5gsV7Yc"
      }
    },
    {
      "cell_type": "code",
      "source": [],
      "metadata": {
        "id": "id548miZX5Qb"
      },
      "execution_count": null,
      "outputs": []
    }
  ]
}