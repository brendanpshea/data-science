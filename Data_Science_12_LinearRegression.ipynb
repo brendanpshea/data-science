{
  "nbformat": 4,
  "nbformat_minor": 0,
  "metadata": {
    "colab": {
      "provenance": [],
      "authorship_tag": "ABX9TyOkAZ//Lavr0Fxobk0cvUK5",
      "include_colab_link": true
    },
    "kernelspec": {
      "name": "python3",
      "display_name": "Python 3"
    },
    "language_info": {
      "name": "python"
    }
  },
  "cells": [
    {
      "cell_type": "markdown",
      "metadata": {
        "id": "view-in-github",
        "colab_type": "text"
      },
      "source": [
        "<a href=\"https://colab.research.google.com/github/brendanpshea/data-science/blob/main/Data_Science_12_LinearRegression.ipynb\" target=\"_parent\"><img src=\"https://colab.research.google.com/assets/colab-badge.svg\" alt=\"Open In Colab\"/></a>"
      ]
    },
    {
      "cell_type": "markdown",
      "source": [
        "# Chapter: An Introduction to Linear Regression Using Boston Housing Data\n",
        "\n",
        "Welcome to the world of **linear regression**, a fundamental concept in the realm of data science and statistics! Imagine you're a detective trying to unravel mysteries hidden within numbers. Linear regression is one of your most reliable tools in this quest.\n",
        "\n",
        "In this chapter, we'll explore linear regression using a real-world dataset: the **Boston Housing Dataset**. This dataset, like a treasure map, contains information about various houses in Boston, including their price, the number of rooms, age, and more. By analyzing this data, we can start to understand the relationship between these features and how they affect house prices.\n",
        "\n",
        "At its core, **linear regression** is a way to predict a value based on one or more input values. Think of it like trying to draw a straight line through a set of points on a graph so that the line is as close as possible to all the points. This line helps us understand relationships between variables. For example, how does the size of a house (measured in rooms) relate to its price?\n",
        "\n",
        "- The **Dependent Variable** is what we want to predict. In our case, it's the house price.\n",
        "- **Independent Variables** are the factors we think might affect our dependent variable. For the Boston Housing data, this could be things like the number of rooms, age of the house, etc.\n",
        "\n",
        "We'll be using a Python library called **StatsModel** to perform our linear regression analysis. StatsModel is a powerful tool that makes it easier to explore data, estimate statistical models, and perform tests.\n",
        "\n",
        "After we've created our model, we'll want to know how good it is. For this, we use model metrics like:\n",
        "\n",
        "- The **R-squared** tells us how well our line fits the data. A higher R-squared value means a better fit.\n",
        "- The **Coefficients** numbers tell us how much our dependent variable (house price) changes with a one-unit change in our independent variables (like the number of rooms).\n",
        "\n",
        "Some questions we'll be exploring include the following:\n",
        "1. How does the number of rooms in a house relate to its price?\n",
        "2. Are there any surprising factors that affect the price of a house in Boston?\n",
        "3. How well does our linear regression model predict house prices?\n",
        "4. What does the R-squared value tell us about our model?\n",
        "5. How can we interpret the coefficients of our model in the context of house pricing?\n",
        "\n",
        "By the end of this chapter, you'll not only understand the basics of linear regression but also how to apply it to real-world data. Let's dive in and uncover the stories hidden in the Boston Housing dataset!\n"
      ],
      "metadata": {
        "id": "XSIuG5Nc9xP-"
      }
    },
    {
      "cell_type": "markdown",
      "source": [
        "## Loading and Explroring Boston Housing Data\n",
        "To start, let's load the Boston housing data and take a look at it. A quick look at the data dictionary (available many places online) reveals that the columns are:\n",
        "\n",
        "```\n",
        "PRICE - The price of the house.\n",
        "CRIM - per capita crime rate by town\n",
        "ZN - proportion of residential land zoned for lots over 25,000 sq.ft.\n",
        "INDUS - proportion of non-retail business acres per town.\n",
        "CHAS - Charles River dummy variable (1 if tract bounds river; 0 otherwise)\n",
        "NOX - nitric oxides concentration (parts per 10 million). Historically, this has often been used as a target variable.\n",
        "RM - average number of rooms per dwelling\n",
        "AGE - proportion of owner-occupied units built prior to 1940\n",
        "DIS - weighted distances to five Boston employment centres\n",
        "RAD - index of accessibility to radial highways\n",
        "TAX - full-value property-tax rate per $10,000\n",
        "PTRATIO - pupil-teacher ratio by town\n",
        "B - 1000(Bk - 0.63)^2 where Bk is the proportion of blacks by town\n",
        "LSTAT - % lower status of the population\n",
        "MEDV - Median value of owner-occupied homes in $1000's. This is our \"target' variable.\n",
        "```\n",
        "\n",
        "Here, our task will be to predict house price based on some of these other variables."
      ],
      "metadata": {
        "id": "HVTQLSAO-NMO"
      }
    },
    {
      "cell_type": "code",
      "execution_count": 1,
      "metadata": {
        "colab": {
          "base_uri": "https://localhost:8080/"
        },
        "id": "w5kvUuEb4ve3",
        "outputId": "8fb71c40-01ee-4608-929c-d8bb974a3b7f"
      },
      "outputs": [
        {
          "output_type": "stream",
          "name": "stdout",
          "text": [
            "\u001b[2K     \u001b[90m━━━━━━━━━━━━━━━━━━━━━━━━━━━━━━━━━━━━━━━━\u001b[0m \u001b[32m15.9/15.9 MB\u001b[0m \u001b[31m69.6 MB/s\u001b[0m eta \u001b[36m0:00:00\u001b[0m\n",
            "\u001b[?25h  Preparing metadata (setup.py) ... \u001b[?25l\u001b[?25hdone\n",
            "  Building wheel for pydataset (setup.py) ... \u001b[?25l\u001b[?25hdone\n",
            "initiated datasets repo at: /root/.pydataset/\n"
          ]
        }
      ],
      "source": [
        "!pip install pydataset -q # Install required packages\n",
        "from pydataset import data # Import required modules\n",
        "import pandas as pd"
      ]
    },
    {
      "cell_type": "code",
      "source": [
        "# Load the head\n",
        "boston_df = data('Boston')\n",
        "boston_df.head()"
      ],
      "metadata": {
        "colab": {
          "base_uri": "https://localhost:8080/",
          "height": 244
        },
        "id": "HSTfKirx6J_b",
        "outputId": "c9cd1af7-2051-4da7-860f-4859d748642d"
      },
      "execution_count": 12,
      "outputs": [
        {
          "output_type": "execute_result",
          "data": {
            "text/plain": [
              "      crim    zn  indus  chas    nox     rm   age     dis  rad  tax  ptratio   black  lstat  medv\n",
              "1  0.00632  18.0   2.31     0  0.538  6.575  65.2  4.0900    1  296     15.3  396.90   4.98  24.0\n",
              "2  0.02731   0.0   7.07     0  0.469  6.421  78.9  4.9671    2  242     17.8  396.90   9.14  21.6\n",
              "3  0.02729   0.0   7.07     0  0.469  7.185  61.1  4.9671    2  242     17.8  392.83   4.03  34.7\n",
              "4  0.03237   0.0   2.18     0  0.458  6.998  45.8  6.0622    3  222     18.7  394.63   2.94  33.4\n",
              "5  0.06905   0.0   2.18     0  0.458  7.147  54.2  6.0622    3  222     18.7  396.90   5.33  36.2"
            ],
            "text/html": [
              "\n",
              "  <div id=\"df-3534fde0-7aa8-44d7-b1cd-1eff2875ed9b\" class=\"colab-df-container\">\n",
              "    <div>\n",
              "<style scoped>\n",
              "    .dataframe tbody tr th:only-of-type {\n",
              "        vertical-align: middle;\n",
              "    }\n",
              "\n",
              "    .dataframe tbody tr th {\n",
              "        vertical-align: top;\n",
              "    }\n",
              "\n",
              "    .dataframe thead th {\n",
              "        text-align: right;\n",
              "    }\n",
              "</style>\n",
              "<table border=\"1\" class=\"dataframe\">\n",
              "  <thead>\n",
              "    <tr style=\"text-align: right;\">\n",
              "      <th></th>\n",
              "      <th>crim</th>\n",
              "      <th>zn</th>\n",
              "      <th>indus</th>\n",
              "      <th>chas</th>\n",
              "      <th>nox</th>\n",
              "      <th>rm</th>\n",
              "      <th>age</th>\n",
              "      <th>dis</th>\n",
              "      <th>rad</th>\n",
              "      <th>tax</th>\n",
              "      <th>ptratio</th>\n",
              "      <th>black</th>\n",
              "      <th>lstat</th>\n",
              "      <th>medv</th>\n",
              "    </tr>\n",
              "  </thead>\n",
              "  <tbody>\n",
              "    <tr>\n",
              "      <th>1</th>\n",
              "      <td>0.00632</td>\n",
              "      <td>18.0</td>\n",
              "      <td>2.31</td>\n",
              "      <td>0</td>\n",
              "      <td>0.538</td>\n",
              "      <td>6.575</td>\n",
              "      <td>65.2</td>\n",
              "      <td>4.0900</td>\n",
              "      <td>1</td>\n",
              "      <td>296</td>\n",
              "      <td>15.3</td>\n",
              "      <td>396.90</td>\n",
              "      <td>4.98</td>\n",
              "      <td>24.0</td>\n",
              "    </tr>\n",
              "    <tr>\n",
              "      <th>2</th>\n",
              "      <td>0.02731</td>\n",
              "      <td>0.0</td>\n",
              "      <td>7.07</td>\n",
              "      <td>0</td>\n",
              "      <td>0.469</td>\n",
              "      <td>6.421</td>\n",
              "      <td>78.9</td>\n",
              "      <td>4.9671</td>\n",
              "      <td>2</td>\n",
              "      <td>242</td>\n",
              "      <td>17.8</td>\n",
              "      <td>396.90</td>\n",
              "      <td>9.14</td>\n",
              "      <td>21.6</td>\n",
              "    </tr>\n",
              "    <tr>\n",
              "      <th>3</th>\n",
              "      <td>0.02729</td>\n",
              "      <td>0.0</td>\n",
              "      <td>7.07</td>\n",
              "      <td>0</td>\n",
              "      <td>0.469</td>\n",
              "      <td>7.185</td>\n",
              "      <td>61.1</td>\n",
              "      <td>4.9671</td>\n",
              "      <td>2</td>\n",
              "      <td>242</td>\n",
              "      <td>17.8</td>\n",
              "      <td>392.83</td>\n",
              "      <td>4.03</td>\n",
              "      <td>34.7</td>\n",
              "    </tr>\n",
              "    <tr>\n",
              "      <th>4</th>\n",
              "      <td>0.03237</td>\n",
              "      <td>0.0</td>\n",
              "      <td>2.18</td>\n",
              "      <td>0</td>\n",
              "      <td>0.458</td>\n",
              "      <td>6.998</td>\n",
              "      <td>45.8</td>\n",
              "      <td>6.0622</td>\n",
              "      <td>3</td>\n",
              "      <td>222</td>\n",
              "      <td>18.7</td>\n",
              "      <td>394.63</td>\n",
              "      <td>2.94</td>\n",
              "      <td>33.4</td>\n",
              "    </tr>\n",
              "    <tr>\n",
              "      <th>5</th>\n",
              "      <td>0.06905</td>\n",
              "      <td>0.0</td>\n",
              "      <td>2.18</td>\n",
              "      <td>0</td>\n",
              "      <td>0.458</td>\n",
              "      <td>7.147</td>\n",
              "      <td>54.2</td>\n",
              "      <td>6.0622</td>\n",
              "      <td>3</td>\n",
              "      <td>222</td>\n",
              "      <td>18.7</td>\n",
              "      <td>396.90</td>\n",
              "      <td>5.33</td>\n",
              "      <td>36.2</td>\n",
              "    </tr>\n",
              "  </tbody>\n",
              "</table>\n",
              "</div>\n",
              "    <div class=\"colab-df-buttons\">\n",
              "\n",
              "  <div class=\"colab-df-container\">\n",
              "    <button class=\"colab-df-convert\" onclick=\"convertToInteractive('df-3534fde0-7aa8-44d7-b1cd-1eff2875ed9b')\"\n",
              "            title=\"Convert this dataframe to an interactive table.\"\n",
              "            style=\"display:none;\">\n",
              "\n",
              "  <svg xmlns=\"http://www.w3.org/2000/svg\" height=\"24px\" viewBox=\"0 -960 960 960\">\n",
              "    <path d=\"M120-120v-720h720v720H120Zm60-500h600v-160H180v160Zm220 220h160v-160H400v160Zm0 220h160v-160H400v160ZM180-400h160v-160H180v160Zm440 0h160v-160H620v160ZM180-180h160v-160H180v160Zm440 0h160v-160H620v160Z\"/>\n",
              "  </svg>\n",
              "    </button>\n",
              "\n",
              "  <style>\n",
              "    .colab-df-container {\n",
              "      display:flex;\n",
              "      gap: 12px;\n",
              "    }\n",
              "\n",
              "    .colab-df-convert {\n",
              "      background-color: #E8F0FE;\n",
              "      border: none;\n",
              "      border-radius: 50%;\n",
              "      cursor: pointer;\n",
              "      display: none;\n",
              "      fill: #1967D2;\n",
              "      height: 32px;\n",
              "      padding: 0 0 0 0;\n",
              "      width: 32px;\n",
              "    }\n",
              "\n",
              "    .colab-df-convert:hover {\n",
              "      background-color: #E2EBFA;\n",
              "      box-shadow: 0px 1px 2px rgba(60, 64, 67, 0.3), 0px 1px 3px 1px rgba(60, 64, 67, 0.15);\n",
              "      fill: #174EA6;\n",
              "    }\n",
              "\n",
              "    .colab-df-buttons div {\n",
              "      margin-bottom: 4px;\n",
              "    }\n",
              "\n",
              "    [theme=dark] .colab-df-convert {\n",
              "      background-color: #3B4455;\n",
              "      fill: #D2E3FC;\n",
              "    }\n",
              "\n",
              "    [theme=dark] .colab-df-convert:hover {\n",
              "      background-color: #434B5C;\n",
              "      box-shadow: 0px 1px 3px 1px rgba(0, 0, 0, 0.15);\n",
              "      filter: drop-shadow(0px 1px 2px rgba(0, 0, 0, 0.3));\n",
              "      fill: #FFFFFF;\n",
              "    }\n",
              "  </style>\n",
              "\n",
              "    <script>\n",
              "      const buttonEl =\n",
              "        document.querySelector('#df-3534fde0-7aa8-44d7-b1cd-1eff2875ed9b button.colab-df-convert');\n",
              "      buttonEl.style.display =\n",
              "        google.colab.kernel.accessAllowed ? 'block' : 'none';\n",
              "\n",
              "      async function convertToInteractive(key) {\n",
              "        const element = document.querySelector('#df-3534fde0-7aa8-44d7-b1cd-1eff2875ed9b');\n",
              "        const dataTable =\n",
              "          await google.colab.kernel.invokeFunction('convertToInteractive',\n",
              "                                                    [key], {});\n",
              "        if (!dataTable) return;\n",
              "\n",
              "        const docLinkHtml = 'Like what you see? Visit the ' +\n",
              "          '<a target=\"_blank\" href=https://colab.research.google.com/notebooks/data_table.ipynb>data table notebook</a>'\n",
              "          + ' to learn more about interactive tables.';\n",
              "        element.innerHTML = '';\n",
              "        dataTable['output_type'] = 'display_data';\n",
              "        await google.colab.output.renderOutput(dataTable, element);\n",
              "        const docLink = document.createElement('div');\n",
              "        docLink.innerHTML = docLinkHtml;\n",
              "        element.appendChild(docLink);\n",
              "      }\n",
              "    </script>\n",
              "  </div>\n",
              "\n",
              "\n",
              "<div id=\"df-c881c4b1-27d0-4498-9dad-5d3fa1868aba\">\n",
              "  <button class=\"colab-df-quickchart\" onclick=\"quickchart('df-c881c4b1-27d0-4498-9dad-5d3fa1868aba')\"\n",
              "            title=\"Suggest charts\"\n",
              "            style=\"display:none;\">\n",
              "\n",
              "<svg xmlns=\"http://www.w3.org/2000/svg\" height=\"24px\"viewBox=\"0 0 24 24\"\n",
              "     width=\"24px\">\n",
              "    <g>\n",
              "        <path d=\"M19 3H5c-1.1 0-2 .9-2 2v14c0 1.1.9 2 2 2h14c1.1 0 2-.9 2-2V5c0-1.1-.9-2-2-2zM9 17H7v-7h2v7zm4 0h-2V7h2v10zm4 0h-2v-4h2v4z\"/>\n",
              "    </g>\n",
              "</svg>\n",
              "  </button>\n",
              "\n",
              "<style>\n",
              "  .colab-df-quickchart {\n",
              "      --bg-color: #E8F0FE;\n",
              "      --fill-color: #1967D2;\n",
              "      --hover-bg-color: #E2EBFA;\n",
              "      --hover-fill-color: #174EA6;\n",
              "      --disabled-fill-color: #AAA;\n",
              "      --disabled-bg-color: #DDD;\n",
              "  }\n",
              "\n",
              "  [theme=dark] .colab-df-quickchart {\n",
              "      --bg-color: #3B4455;\n",
              "      --fill-color: #D2E3FC;\n",
              "      --hover-bg-color: #434B5C;\n",
              "      --hover-fill-color: #FFFFFF;\n",
              "      --disabled-bg-color: #3B4455;\n",
              "      --disabled-fill-color: #666;\n",
              "  }\n",
              "\n",
              "  .colab-df-quickchart {\n",
              "    background-color: var(--bg-color);\n",
              "    border: none;\n",
              "    border-radius: 50%;\n",
              "    cursor: pointer;\n",
              "    display: none;\n",
              "    fill: var(--fill-color);\n",
              "    height: 32px;\n",
              "    padding: 0;\n",
              "    width: 32px;\n",
              "  }\n",
              "\n",
              "  .colab-df-quickchart:hover {\n",
              "    background-color: var(--hover-bg-color);\n",
              "    box-shadow: 0 1px 2px rgba(60, 64, 67, 0.3), 0 1px 3px 1px rgba(60, 64, 67, 0.15);\n",
              "    fill: var(--button-hover-fill-color);\n",
              "  }\n",
              "\n",
              "  .colab-df-quickchart-complete:disabled,\n",
              "  .colab-df-quickchart-complete:disabled:hover {\n",
              "    background-color: var(--disabled-bg-color);\n",
              "    fill: var(--disabled-fill-color);\n",
              "    box-shadow: none;\n",
              "  }\n",
              "\n",
              "  .colab-df-spinner {\n",
              "    border: 2px solid var(--fill-color);\n",
              "    border-color: transparent;\n",
              "    border-bottom-color: var(--fill-color);\n",
              "    animation:\n",
              "      spin 1s steps(1) infinite;\n",
              "  }\n",
              "\n",
              "  @keyframes spin {\n",
              "    0% {\n",
              "      border-color: transparent;\n",
              "      border-bottom-color: var(--fill-color);\n",
              "      border-left-color: var(--fill-color);\n",
              "    }\n",
              "    20% {\n",
              "      border-color: transparent;\n",
              "      border-left-color: var(--fill-color);\n",
              "      border-top-color: var(--fill-color);\n",
              "    }\n",
              "    30% {\n",
              "      border-color: transparent;\n",
              "      border-left-color: var(--fill-color);\n",
              "      border-top-color: var(--fill-color);\n",
              "      border-right-color: var(--fill-color);\n",
              "    }\n",
              "    40% {\n",
              "      border-color: transparent;\n",
              "      border-right-color: var(--fill-color);\n",
              "      border-top-color: var(--fill-color);\n",
              "    }\n",
              "    60% {\n",
              "      border-color: transparent;\n",
              "      border-right-color: var(--fill-color);\n",
              "    }\n",
              "    80% {\n",
              "      border-color: transparent;\n",
              "      border-right-color: var(--fill-color);\n",
              "      border-bottom-color: var(--fill-color);\n",
              "    }\n",
              "    90% {\n",
              "      border-color: transparent;\n",
              "      border-bottom-color: var(--fill-color);\n",
              "    }\n",
              "  }\n",
              "</style>\n",
              "\n",
              "  <script>\n",
              "    async function quickchart(key) {\n",
              "      const quickchartButtonEl =\n",
              "        document.querySelector('#' + key + ' button');\n",
              "      quickchartButtonEl.disabled = true;  // To prevent multiple clicks.\n",
              "      quickchartButtonEl.classList.add('colab-df-spinner');\n",
              "      try {\n",
              "        const charts = await google.colab.kernel.invokeFunction(\n",
              "            'suggestCharts', [key], {});\n",
              "      } catch (error) {\n",
              "        console.error('Error during call to suggestCharts:', error);\n",
              "      }\n",
              "      quickchartButtonEl.classList.remove('colab-df-spinner');\n",
              "      quickchartButtonEl.classList.add('colab-df-quickchart-complete');\n",
              "    }\n",
              "    (() => {\n",
              "      let quickchartButtonEl =\n",
              "        document.querySelector('#df-c881c4b1-27d0-4498-9dad-5d3fa1868aba button');\n",
              "      quickchartButtonEl.style.display =\n",
              "        google.colab.kernel.accessAllowed ? 'block' : 'none';\n",
              "    })();\n",
              "  </script>\n",
              "</div>\n",
              "    </div>\n",
              "  </div>\n"
            ]
          },
          "metadata": {},
          "execution_count": 12
        }
      ]
    },
    {
      "cell_type": "code",
      "source": [
        "# Get basic info on the data set\n",
        "boston_df.info()"
      ],
      "metadata": {
        "colab": {
          "base_uri": "https://localhost:8080/"
        },
        "id": "MrmpB_oy-xk2",
        "outputId": "bf593120-a3ad-4423-c24c-e245e7a47c6f"
      },
      "execution_count": 15,
      "outputs": [
        {
          "output_type": "stream",
          "name": "stdout",
          "text": [
            "<class 'pandas.core.frame.DataFrame'>\n",
            "Int64Index: 506 entries, 1 to 506\n",
            "Data columns (total 14 columns):\n",
            " #   Column   Non-Null Count  Dtype  \n",
            "---  ------   --------------  -----  \n",
            " 0   crim     506 non-null    float64\n",
            " 1   zn       506 non-null    float64\n",
            " 2   indus    506 non-null    float64\n",
            " 3   chas     506 non-null    int64  \n",
            " 4   nox      506 non-null    float64\n",
            " 5   rm       506 non-null    float64\n",
            " 6   age      506 non-null    float64\n",
            " 7   dis      506 non-null    float64\n",
            " 8   rad      506 non-null    int64  \n",
            " 9   tax      506 non-null    int64  \n",
            " 10  ptratio  506 non-null    float64\n",
            " 11  black    506 non-null    float64\n",
            " 12  lstat    506 non-null    float64\n",
            " 13  medv     506 non-null    float64\n",
            "dtypes: float64(11), int64(3)\n",
            "memory usage: 59.3 KB\n"
          ]
        }
      ]
    },
    {
      "cell_type": "markdown",
      "source": [
        "We can see here that the dataset comprises 506 entries, indexed from 1 to 506. Each entry corresponds to a different set of housing and area characteristics in Boston.\n",
        "-   There are 14 columns in total, each representing a different attribute of the housing or area, similar to the ones described in the first five rows of the dataset.\n",
        "-   The data types (`Dtype`) of these columns are either `float64` or `int64`. Float64 columns (like `crim`, `zn`, `indus`, etc.) represent numeric data with decimal points, whereas Int64 columns (like `chas`, `rad`, `tax`) represent integer values.\n",
        "-   Importantly, each column has 506 non-null counts, indicating there are no missing values in this dataset. This is crucial for analysis as it means the data is complete, and no imputation or handling of missing data is needed before proceeding with linear regression analysis.\n",
        "\n",
        "This dataset is well-structured and complete, making it an excellent candidate for regression analysis without the need for preliminary cleaning or data imputation steps. The diverse range of variables, both in type and measurement scale, provides a rich context for exploring linear relationships and building a regression model."
      ],
      "metadata": {
        "id": "nbiJQucKAtlJ"
      }
    },
    {
      "cell_type": "code",
      "source": [],
      "metadata": {
        "id": "lPeiJJ-PAt5W"
      },
      "execution_count": null,
      "outputs": []
    },
    {
      "cell_type": "markdown",
      "source": [
        "## What is Linear Regression?\n",
        "\n",
        "Linear Regression is a statistical method used to model the relationship between a dependent variable and one or more independent variables. The \"linear\" in linear regression refers to the fact that this relationship takes the form of a straight line.\n",
        "\n",
        "In its simplest form, with one independent variable, the linear regression model can be represented as:\n",
        "\n",
        "$$ y = \\beta_0 + \\beta_1x + \\epsilon $$\n",
        "\n",
        "Here:\n",
        "- $y$ is the dependent variable we're trying to predict or explain.\n",
        "- $x$ is the independent variable we're using for prediction.\n",
        "- $\\beta_0$ is the y-intercept of the regression line.\n",
        "- $\\beta_1$ represents the slope of the regression line, indicating how much \\( y \\) changes for a unit change in \\( x \\).\n",
        "- $\\epsilon$ represents the error term, accounting for the variability in \\( y \\) that cannot be explained by \\( x \\).\n",
        "\n",
        "Linear regression can help us to do two important things:\n",
        "1. We can **predit outcomes** when you have a continuous outcome variable (like house prices, temperatures, etc.) and one or more predictor variables.\n",
        "2. We can use linear regression to **explain** and understand the strength and direction (positive or negative) of the relationship between variables.\n",
        "\n",
        "Linear regression is often done the first (and sometimes only) technique used for these tasks, despite the (many) variations and alternatives that are available. This is for a a few reasons.\n",
        "\n",
        "1. Linear regression models are straightforward to understand and interpret, making them a popular choice for many practical applications.\n",
        "2. Linear regression forms the basis for understanding more complex models in statistics and machine learning. These often can't be understood without linear regression as a \"baseline.\"\n",
        "\n",
        "Linear regression is a powerful tool in statistics and data science, valued for its simplicity, interpretability, and versatility in various applications.\n",
        "\n"
      ],
      "metadata": {
        "id": "KvbBzuf9Bb1A"
      }
    },
    {
      "cell_type": "markdown",
      "source": [
        "## Some Terminology: Models, Fitting, Metrics\n",
        "A **model** is a mathematical representation that describes the relationship between variables. Data scientists using many \"models\" in their work, with linear regression being one of the most important ones. In linear regression, the model is  a line that best fits the observed data. In its simplest form, a linear regression model with one independent variable is:\n",
        "\n",
        "$$y = \\beta_0 + \\beta_1x$$\n",
        "\n",
        "as explained above. When we create models we *expect* that they will be imperfect (that is, we will never perfectly predict the dependent variable).\n",
        "\n",
        "**Fitting** a model means finding the line that best represents the relationship between the independent and dependent variables.\n",
        "\n",
        "- Technically, it involves calculating the intercept and slope that minimize the difference between the predicted and actual values of the dependent variable.\n",
        "- This process is known as \"minimizing the sum of squared residuals\" or the **Ordinary Least Squares (OLS)**.\n",
        "\n",
        "One we have fit, the model we can **evaluate it** by assessing its effectiveness and accuracy in describing the relationship between variables or in making predictions.\n",
        "\n",
        "- Key metrics for evaluation include R-squared, the F-statistic, p-values, and others.\n",
        "- The goal is to understand the model's strengths and limitations in representing the data and its predictive capabilities."
      ],
      "metadata": {
        "id": "OzgdmsRnF58e"
      }
    },
    {
      "cell_type": "markdown",
      "source": [
        "###  Syntax for Creating a Linear Regression Model Using Statsmodels\n",
        "\n",
        "To create a linear regression model using `statsmodels`, you typically follow these steps:\n",
        "\n",
        "```python\n",
        "import statsmodels.api as sm\n",
        "\n",
        "# Step 1: Prepare your data\n",
        "# X = ... (independent variables)\n",
        "# Y = ... (dependent variable)\n",
        "\n",
        "# Step 2: Add a constant to the independent variables\n",
        "X = sm.add_constant(X)\n",
        "\n",
        "# Step 3: Create a model\n",
        "model = sm.OLS(Y, X)\n",
        "\n",
        "# Step 4: Fit the model\n",
        "result = model.fit()\n",
        "\n",
        "# Step 5: Get the summary of the model\n",
        "print(result.summary())\n",
        "```\n",
        "The steps here are:\n",
        "\n",
        "1. First, import `statsmodels.api`.\n",
        "2. Define your independent variables (`X`) and dependent variable (`Y`).\n",
        "3.`statsmodels` doesn't automatically include the intercept (β0 in the equation), so you need to add a \"constant\" manually.\n",
        "4. Create an Ordinary Least Squares (OLS) model. OLS is a type of linear regression.\n",
        "5. Fit the model to your data.\n",
        "6. The summary provides detailed results including coefficients, R-squared value, p-values, etc."
      ],
      "metadata": {
        "id": "BKvFlBK9DDQL"
      }
    },
    {
      "cell_type": "markdown",
      "source": [
        "### Example: Using Number of Rooms to Predict Price\n",
        "Let's start with a simple exam, of using room to predict price."
      ],
      "metadata": {
        "id": "fj5OIOF7DGBu"
      }
    },
    {
      "cell_type": "code",
      "source": [
        "import statsmodels.api as sm\n",
        "\n",
        "# Independent variable: Average number of rooms\n",
        "X = boston_df['rm']\n",
        "\n",
        "# Dependent variable: Median value of owner-occupied homes\n",
        "Y = boston_df['medv']\n",
        "\n",
        "# Add a constant to the independent variable\n",
        "X = sm.add_constant(X)\n",
        "\n",
        "# Create an OLS model\n",
        "model = sm.OLS(Y, X)\n",
        "\n",
        "# Fit the model\n",
        "result = model.fit()\n",
        "\n",
        "# Print the summary of the model\n",
        "print(result.summary())\n"
      ],
      "metadata": {
        "colab": {
          "base_uri": "https://localhost:8080/"
        },
        "id": "qNOLg16tDFJN",
        "outputId": "217b6698-e92e-44a7-bb47-f9159094cdb0"
      },
      "execution_count": 16,
      "outputs": [
        {
          "output_type": "stream",
          "name": "stdout",
          "text": [
            "                            OLS Regression Results                            \n",
            "==============================================================================\n",
            "Dep. Variable:                   medv   R-squared:                       0.484\n",
            "Model:                            OLS   Adj. R-squared:                  0.483\n",
            "Method:                 Least Squares   F-statistic:                     471.8\n",
            "Date:                Fri, 17 Nov 2023   Prob (F-statistic):           2.49e-74\n",
            "Time:                        16:12:30   Log-Likelihood:                -1673.1\n",
            "No. Observations:                 506   AIC:                             3350.\n",
            "Df Residuals:                     504   BIC:                             3359.\n",
            "Df Model:                           1                                         \n",
            "Covariance Type:            nonrobust                                         \n",
            "==============================================================================\n",
            "                 coef    std err          t      P>|t|      [0.025      0.975]\n",
            "------------------------------------------------------------------------------\n",
            "const        -34.6706      2.650    -13.084      0.000     -39.877     -29.465\n",
            "rm             9.1021      0.419     21.722      0.000       8.279       9.925\n",
            "==============================================================================\n",
            "Omnibus:                      102.585   Durbin-Watson:                   0.684\n",
            "Prob(Omnibus):                  0.000   Jarque-Bera (JB):              612.449\n",
            "Skew:                           0.726   Prob(JB):                    1.02e-133\n",
            "Kurtosis:                       8.190   Cond. No.                         58.4\n",
            "==============================================================================\n",
            "\n",
            "Notes:\n",
            "[1] Standard Errors assume that the covariance matrix of the errors is correctly specified.\n"
          ]
        }
      ]
    },
    {
      "cell_type": "markdown",
      "source": [
        "### Making Sense of the Results\n",
        "So, what does this all mean? While the summary above gives a LOT of information, we can pay attention to a few numbers in particular.\n",
        "\n",
        "#### R-squared (0.484)\n",
        "**R-squared** (and **Adjusted R-Squared**) is a statistical measure that represents the proportion of the variance for the dependent variable (medv) that's explained by the independent variable(s) in the model. An R-squared of 0.484 means that 48.4% of the variance in the median value of homes can be explained by the model.\n",
        "\n",
        "#### F-statistic (471.8)\n",
        "The F-statistic tests the overall significance of the model. A higher value (471.8 in this case) generally indicates that the model is a better fit to the data. It suggests whether your linear model is better than a model with no independent variables.\n",
        "\n",
        "#### Prob (F-statistic) (2.49e-74)\n",
        "This **p-value** is the probability of observing the given F-statistic, assuming that the null hypothesis (that the model with no independent variables is the best model) is true. A very small value (close to zero) indicates that the model as a whole is **statistically significant**.\n",
        "\n",
        "#### Coefficients for `rm` (9.1021) and `const` (-34.6706)\n",
        "The **coefficient** for `rm` tells us how much the dependent variable (`medv`) is expected to increase when `rm` increases by one unit, holding other variables constant. Similarly, `const` is the y-intercept, the expected value of `medv` when all independent variables are 0.\n",
        "\n",
        "#### P>|t| (for `rm` < 0.000)\n",
        "This is the p-value associated with the coefficient of `rm`. A p-value is the probability of observing any value equal to or more extreme than the observed one, assuming that the null hypothesis (the coefficient is zero) is true. A small p-value (typically < 0.05) indicates that the variable is statistically significant in predicting `medv`.\n",
        "\n",
        "#### Summary\n",
        "The results above suggests that the \"number of rooms\" is, in fact, a pretty good predictor of price.\n"
      ],
      "metadata": {
        "id": "R-m_UaoeD4KV"
      }
    },
    {
      "cell_type": "markdown",
      "source": [
        "### Linear Regression in R\n",
        "In R, we can do linear regression in a very similar way.\n",
        "\n",
        "```r\n",
        "# Load the necessary library\n",
        "library(MASS) # Contains the Boston dataset\n",
        "\n",
        "# Load the Boston Housing dataset\n",
        "data(Boston)\n",
        "\n",
        "# Create the linear regression model\n",
        "# Here, 'medv' is the dependent variable, and 'rm' is the independent variable\n",
        "fit <- lm(medv ~ rm, data=Boston)\n",
        "\n",
        "# Print the summary of the model\n",
        "# This will provide detailed statistics about the model's performance\n",
        "summary(fit)\n",
        "```"
      ],
      "metadata": {
        "id": "AetlzrCyHo-G"
      }
    },
    {
      "cell_type": "markdown",
      "source": [
        "Here's what the output looks like in R."
      ],
      "metadata": {
        "id": "TwsX22-XHxZ5"
      }
    },
    {
      "cell_type": "code",
      "source": [
        "# Emulating R code in a Python environment\n",
        "\n",
        "import rpy2.robjects as robjects\n",
        "robjects.r('library(MASS)')\n",
        "robjects.r('data(Boston)')\n",
        "robjects.r('fit <- lm(medv ~ rm, data=Boston)')\n",
        "print(robjects.r('summary(fit)'))\n"
      ],
      "metadata": {
        "colab": {
          "base_uri": "https://localhost:8080/"
        },
        "id": "rAhFNbuIH3dP",
        "outputId": "cf69990d-c2fe-4904-c2c2-b1daf8186733"
      },
      "execution_count": 17,
      "outputs": [
        {
          "output_type": "stream",
          "name": "stdout",
          "text": [
            "\n",
            "Call:\n",
            "lm(formula = medv ~ rm, data = Boston)\n",
            "\n",
            "Residuals:\n",
            "    Min      1Q  Median      3Q     Max \n",
            "-23.346  -2.547   0.090   2.986  39.433 \n",
            "\n",
            "Coefficients:\n",
            "            Estimate Std. Error t value Pr(>|t|)    \n",
            "(Intercept)  -34.671      2.650  -13.08   <2e-16 ***\n",
            "rm             9.102      0.419   21.72   <2e-16 ***\n",
            "---\n",
            "Signif. codes:  0 ‘***’ 0.001 ‘**’ 0.01 ‘*’ 0.05 ‘.’ 0.1 ‘ ’ 1\n",
            "\n",
            "Residual standard error: 6.616 on 504 degrees of freedom\n",
            "Multiple R-squared:  0.4835,\tAdjusted R-squared:  0.4825 \n",
            "F-statistic: 471.8 on 1 and 504 DF,  p-value: < 2.2e-16\n",
            "\n",
            "\n"
          ]
        }
      ]
    },
    {
      "cell_type": "markdown",
      "source": [
        "### Exercise: You Try It\n",
        "Run a linear regression using a variable OTHER than rooms."
      ],
      "metadata": {
        "id": "Zcu4YUovFBJ5"
      }
    },
    {
      "cell_type": "code",
      "source": [
        "\n",
        "# Independent variable: Someting other than rooms!\n",
        "# X = boston_df['rm']\n",
        "# TODO\n",
        "\n",
        "\n",
        "# Dependent variable: Median value of owner-occupied homes\n",
        "Y = boston_df['medv']\n",
        "\n",
        "# Add a constant to the independent variable\n",
        "X = sm.add_constant(X)\n",
        "\n",
        "# Create an OLS model\n",
        "model = sm.OLS(Y, X)\n",
        "\n",
        "# Fit the model\n",
        "result = model.fit()\n",
        "\n",
        "# Print the summary of the model\n",
        "print(result.summary())"
      ],
      "metadata": {
        "id": "mVFxdedIClpt"
      },
      "execution_count": null,
      "outputs": []
    },
    {
      "cell_type": "markdown",
      "source": [
        "### Question: Making Sense of Regression\n",
        "Now, explain the results using the concepts we learned above. How does your model compare to the one that used rooms?"
      ],
      "metadata": {
        "id": "QYG3A4RcFdG3"
      }
    },
    {
      "cell_type": "markdown",
      "source": [
        "### My Answer:"
      ],
      "metadata": {
        "id": "GsaPiRPSHI_f"
      }
    },
    {
      "cell_type": "code",
      "source": [],
      "metadata": {
        "id": "5Bs8BPUmFcQL"
      },
      "execution_count": null,
      "outputs": []
    }
  ]
}