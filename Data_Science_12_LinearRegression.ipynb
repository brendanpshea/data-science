{
  "nbformat": 4,
  "nbformat_minor": 0,
  "metadata": {
    "colab": {
      "provenance": [],
      "authorship_tag": "ABX9TyMRAxD0OhF2hYdyWIkR7DXB",
      "include_colab_link": true
    },
    "kernelspec": {
      "name": "python3",
      "display_name": "Python 3"
    },
    "language_info": {
      "name": "python"
    }
  },
  "cells": [
    {
      "cell_type": "markdown",
      "metadata": {
        "id": "view-in-github",
        "colab_type": "text"
      },
      "source": [
        "<a href=\"https://colab.research.google.com/github/brendanpshea/data-science/blob/main/Data_Science_12_LinearRegression.ipynb\" target=\"_parent\"><img src=\"https://colab.research.google.com/assets/colab-badge.svg\" alt=\"Open In Colab\"/></a>"
      ]
    },
    {
      "cell_type": "markdown",
      "source": [
        "# Introduction To Linear Regression\n",
        "\n",
        "Welcome to the world of **linear regression**, a fundamental concept in the realm of data science and statistics! Imagine you're a detective trying to unravel mysteries hidden within numbers. Linear regression is one of your most reliable tools in this quest.\n",
        "\n",
        "In this chapter, we'll explore linear regression using a real-world dataset: the **Boston Housing Dataset**. This dataset, like a treasure map, contains information about various houses in Boston, including their price, the number of rooms, age, and more. By analyzing this data, we can start to understand the relationship between these features and how they affect house prices. We'll close the chapter with a case study on the topic of **racial bias**, which has been raised in the context of both this data set specifically and in the (real) world that it represents. We'll then consider how similar problems can arise in contemporay data sets and practices.\n",
        "\n",
        "By the end of this chapter, you'll not only understand the basics of linear regression but also how to apply it to real-world data. Let's dive in and uncover the stories hidden in the Boston Housing dataset!\n"
      ],
      "metadata": {
        "id": "XSIuG5Nc9xP-"
      }
    },
    {
      "cell_type": "markdown",
      "source": [
        "## Loading and Explroring Boston Housing Data\n",
        "To start, let's load the Boston housing data and take a look at it. A quick look at the data dictionary (available many places online) reveals that the columns are:\n",
        "\n",
        "```\n",
        "PRICE - The price of the house.\n",
        "CRIM - per capita crime rate by town\n",
        "ZN - proportion of residential land zoned for lots over 25,000 sq.ft.\n",
        "INDUS - proportion of non-retail business acres per town.\n",
        "CHAS - Charles River dummy variable (1 if tract bounds river; 0 otherwise)\n",
        "NOX - nitric oxides concentration (parts per 10 million). Historically, this has often been used as a target variable.\n",
        "RM - average number of rooms per dwelling\n",
        "AGE - proportion of owner-occupied units built prior to 1940\n",
        "DIS - weighted distances to five Boston employment centres\n",
        "RAD - index of accessibility to radial highways\n",
        "TAX - full-value property-tax rate per $10,000\n",
        "PTRATIO - pupil-teacher ratio by town\n",
        "B - 1000(Bk - 0.63)^2 where Bk is the proportion of blacks by town\n",
        "LSTAT - % lower status of the population\n",
        "MEDV - Median value of owner-occupied homes in $1000's. This is our \"target' variable.\n",
        "```\n",
        "\n",
        "Here, our task will be to predict house price based on some of these other variables."
      ],
      "metadata": {
        "id": "HVTQLSAO-NMO"
      }
    },
    {
      "cell_type": "code",
      "execution_count": null,
      "metadata": {
        "colab": {
          "base_uri": "https://localhost:8080/"
        },
        "id": "w5kvUuEb4ve3",
        "outputId": "e6dc8ca0-932a-48c6-bf12-1284b2d07cdb"
      },
      "outputs": [
        {
          "output_type": "stream",
          "name": "stdout",
          "text": [
            "\u001b[?25l     \u001b[90m━━━━━━━━━━━━━━━━━━━━━━━━━━━━━━━━━━━━━━━━\u001b[0m \u001b[32m0.0/15.9 MB\u001b[0m \u001b[31m?\u001b[0m eta \u001b[36m-:--:--\u001b[0m\r\u001b[2K     \u001b[90m━━━━━━━━━━━━━━━━━━━━━━━━━━━━━━━━━━━━━━━━\u001b[0m \u001b[32m0.1/15.9 MB\u001b[0m \u001b[31m3.5 MB/s\u001b[0m eta \u001b[36m0:00:05\u001b[0m\r\u001b[2K     \u001b[91m━━\u001b[0m\u001b[91m╸\u001b[0m\u001b[90m━━━━━━━━━━━━━━━━━━━━━━━━━━━━━━━━━━━━━\u001b[0m \u001b[32m1.2/15.9 MB\u001b[0m \u001b[31m16.8 MB/s\u001b[0m eta \u001b[36m0:00:01\u001b[0m\r\u001b[2K     \u001b[91m━━━━━━━━━━━━━\u001b[0m\u001b[91m╸\u001b[0m\u001b[90m━━━━━━━━━━━━━━━━━━━━━━━━━━\u001b[0m \u001b[32m5.4/15.9 MB\u001b[0m \u001b[31m51.6 MB/s\u001b[0m eta \u001b[36m0:00:01\u001b[0m\r\u001b[2K     \u001b[91m━━━━━━━━━━━━━━━━━━━━━━━━━━━━━━\u001b[0m\u001b[90m╺\u001b[0m\u001b[90m━━━━━━━━━\u001b[0m \u001b[32m12.0/15.9 MB\u001b[0m \u001b[31m164.7 MB/s\u001b[0m eta \u001b[36m0:00:01\u001b[0m\r\u001b[2K     \u001b[91m━━━━━━━━━━━━━━━━━━━━━━━━━━━━━━━━━━━━━━━\u001b[0m\u001b[91m╸\u001b[0m \u001b[32m15.9/15.9 MB\u001b[0m \u001b[31m197.0 MB/s\u001b[0m eta \u001b[36m0:00:01\u001b[0m\r\u001b[2K     \u001b[91m━━━━━━━━━━━━━━━━━━━━━━━━━━━━━━━━━━━━━━━\u001b[0m\u001b[91m╸\u001b[0m \u001b[32m15.9/15.9 MB\u001b[0m \u001b[31m197.0 MB/s\u001b[0m eta \u001b[36m0:00:01\u001b[0m\r\u001b[2K     \u001b[90m━━━━━━━━━━━━━━━━━━━━━━━━━━━━━━━━━━━━━━━━\u001b[0m \u001b[32m15.9/15.9 MB\u001b[0m \u001b[31m76.2 MB/s\u001b[0m eta \u001b[36m0:00:00\u001b[0m\n",
            "\u001b[?25h  Preparing metadata (setup.py) ... \u001b[?25l\u001b[?25hdone\n",
            "  Building wheel for pydataset (setup.py) ... \u001b[?25l\u001b[?25hdone\n",
            "initiated datasets repo at: /root/.pydataset/\n"
          ]
        }
      ],
      "source": [
        "!pip install pydataset -q # Install required packages\n",
        "from pydataset import data # Import required modules\n",
        "import pandas as pd"
      ]
    },
    {
      "cell_type": "code",
      "source": [
        "# Load the head\n",
        "boston_df = data('Boston')\n",
        "boston_df.head()"
      ],
      "metadata": {
        "colab": {
          "base_uri": "https://localhost:8080/",
          "height": 206
        },
        "id": "HSTfKirx6J_b",
        "outputId": "a87d2769-6f1d-4cd9-c619-c82f82b47d91"
      },
      "execution_count": null,
      "outputs": [
        {
          "output_type": "execute_result",
          "data": {
            "text/plain": [
              "      crim    zn  indus  chas    nox     rm   age     dis  rad  tax  ptratio   black  lstat  medv\n",
              "1  0.00632  18.0   2.31     0  0.538  6.575  65.2  4.0900    1  296     15.3  396.90   4.98  24.0\n",
              "2  0.02731   0.0   7.07     0  0.469  6.421  78.9  4.9671    2  242     17.8  396.90   9.14  21.6\n",
              "3  0.02729   0.0   7.07     0  0.469  7.185  61.1  4.9671    2  242     17.8  392.83   4.03  34.7\n",
              "4  0.03237   0.0   2.18     0  0.458  6.998  45.8  6.0622    3  222     18.7  394.63   2.94  33.4\n",
              "5  0.06905   0.0   2.18     0  0.458  7.147  54.2  6.0622    3  222     18.7  396.90   5.33  36.2"
            ],
            "text/html": [
              "\n",
              "  <div id=\"df-8a4e7d90-ad6b-4786-8501-7dc9dff412cf\" class=\"colab-df-container\">\n",
              "    <div>\n",
              "<style scoped>\n",
              "    .dataframe tbody tr th:only-of-type {\n",
              "        vertical-align: middle;\n",
              "    }\n",
              "\n",
              "    .dataframe tbody tr th {\n",
              "        vertical-align: top;\n",
              "    }\n",
              "\n",
              "    .dataframe thead th {\n",
              "        text-align: right;\n",
              "    }\n",
              "</style>\n",
              "<table border=\"1\" class=\"dataframe\">\n",
              "  <thead>\n",
              "    <tr style=\"text-align: right;\">\n",
              "      <th></th>\n",
              "      <th>crim</th>\n",
              "      <th>zn</th>\n",
              "      <th>indus</th>\n",
              "      <th>chas</th>\n",
              "      <th>nox</th>\n",
              "      <th>rm</th>\n",
              "      <th>age</th>\n",
              "      <th>dis</th>\n",
              "      <th>rad</th>\n",
              "      <th>tax</th>\n",
              "      <th>ptratio</th>\n",
              "      <th>black</th>\n",
              "      <th>lstat</th>\n",
              "      <th>medv</th>\n",
              "    </tr>\n",
              "  </thead>\n",
              "  <tbody>\n",
              "    <tr>\n",
              "      <th>1</th>\n",
              "      <td>0.00632</td>\n",
              "      <td>18.0</td>\n",
              "      <td>2.31</td>\n",
              "      <td>0</td>\n",
              "      <td>0.538</td>\n",
              "      <td>6.575</td>\n",
              "      <td>65.2</td>\n",
              "      <td>4.0900</td>\n",
              "      <td>1</td>\n",
              "      <td>296</td>\n",
              "      <td>15.3</td>\n",
              "      <td>396.90</td>\n",
              "      <td>4.98</td>\n",
              "      <td>24.0</td>\n",
              "    </tr>\n",
              "    <tr>\n",
              "      <th>2</th>\n",
              "      <td>0.02731</td>\n",
              "      <td>0.0</td>\n",
              "      <td>7.07</td>\n",
              "      <td>0</td>\n",
              "      <td>0.469</td>\n",
              "      <td>6.421</td>\n",
              "      <td>78.9</td>\n",
              "      <td>4.9671</td>\n",
              "      <td>2</td>\n",
              "      <td>242</td>\n",
              "      <td>17.8</td>\n",
              "      <td>396.90</td>\n",
              "      <td>9.14</td>\n",
              "      <td>21.6</td>\n",
              "    </tr>\n",
              "    <tr>\n",
              "      <th>3</th>\n",
              "      <td>0.02729</td>\n",
              "      <td>0.0</td>\n",
              "      <td>7.07</td>\n",
              "      <td>0</td>\n",
              "      <td>0.469</td>\n",
              "      <td>7.185</td>\n",
              "      <td>61.1</td>\n",
              "      <td>4.9671</td>\n",
              "      <td>2</td>\n",
              "      <td>242</td>\n",
              "      <td>17.8</td>\n",
              "      <td>392.83</td>\n",
              "      <td>4.03</td>\n",
              "      <td>34.7</td>\n",
              "    </tr>\n",
              "    <tr>\n",
              "      <th>4</th>\n",
              "      <td>0.03237</td>\n",
              "      <td>0.0</td>\n",
              "      <td>2.18</td>\n",
              "      <td>0</td>\n",
              "      <td>0.458</td>\n",
              "      <td>6.998</td>\n",
              "      <td>45.8</td>\n",
              "      <td>6.0622</td>\n",
              "      <td>3</td>\n",
              "      <td>222</td>\n",
              "      <td>18.7</td>\n",
              "      <td>394.63</td>\n",
              "      <td>2.94</td>\n",
              "      <td>33.4</td>\n",
              "    </tr>\n",
              "    <tr>\n",
              "      <th>5</th>\n",
              "      <td>0.06905</td>\n",
              "      <td>0.0</td>\n",
              "      <td>2.18</td>\n",
              "      <td>0</td>\n",
              "      <td>0.458</td>\n",
              "      <td>7.147</td>\n",
              "      <td>54.2</td>\n",
              "      <td>6.0622</td>\n",
              "      <td>3</td>\n",
              "      <td>222</td>\n",
              "      <td>18.7</td>\n",
              "      <td>396.90</td>\n",
              "      <td>5.33</td>\n",
              "      <td>36.2</td>\n",
              "    </tr>\n",
              "  </tbody>\n",
              "</table>\n",
              "</div>\n",
              "    <div class=\"colab-df-buttons\">\n",
              "\n",
              "  <div class=\"colab-df-container\">\n",
              "    <button class=\"colab-df-convert\" onclick=\"convertToInteractive('df-8a4e7d90-ad6b-4786-8501-7dc9dff412cf')\"\n",
              "            title=\"Convert this dataframe to an interactive table.\"\n",
              "            style=\"display:none;\">\n",
              "\n",
              "  <svg xmlns=\"http://www.w3.org/2000/svg\" height=\"24px\" viewBox=\"0 -960 960 960\">\n",
              "    <path d=\"M120-120v-720h720v720H120Zm60-500h600v-160H180v160Zm220 220h160v-160H400v160Zm0 220h160v-160H400v160ZM180-400h160v-160H180v160Zm440 0h160v-160H620v160ZM180-180h160v-160H180v160Zm440 0h160v-160H620v160Z\"/>\n",
              "  </svg>\n",
              "    </button>\n",
              "\n",
              "  <style>\n",
              "    .colab-df-container {\n",
              "      display:flex;\n",
              "      gap: 12px;\n",
              "    }\n",
              "\n",
              "    .colab-df-convert {\n",
              "      background-color: #E8F0FE;\n",
              "      border: none;\n",
              "      border-radius: 50%;\n",
              "      cursor: pointer;\n",
              "      display: none;\n",
              "      fill: #1967D2;\n",
              "      height: 32px;\n",
              "      padding: 0 0 0 0;\n",
              "      width: 32px;\n",
              "    }\n",
              "\n",
              "    .colab-df-convert:hover {\n",
              "      background-color: #E2EBFA;\n",
              "      box-shadow: 0px 1px 2px rgba(60, 64, 67, 0.3), 0px 1px 3px 1px rgba(60, 64, 67, 0.15);\n",
              "      fill: #174EA6;\n",
              "    }\n",
              "\n",
              "    .colab-df-buttons div {\n",
              "      margin-bottom: 4px;\n",
              "    }\n",
              "\n",
              "    [theme=dark] .colab-df-convert {\n",
              "      background-color: #3B4455;\n",
              "      fill: #D2E3FC;\n",
              "    }\n",
              "\n",
              "    [theme=dark] .colab-df-convert:hover {\n",
              "      background-color: #434B5C;\n",
              "      box-shadow: 0px 1px 3px 1px rgba(0, 0, 0, 0.15);\n",
              "      filter: drop-shadow(0px 1px 2px rgba(0, 0, 0, 0.3));\n",
              "      fill: #FFFFFF;\n",
              "    }\n",
              "  </style>\n",
              "\n",
              "    <script>\n",
              "      const buttonEl =\n",
              "        document.querySelector('#df-8a4e7d90-ad6b-4786-8501-7dc9dff412cf button.colab-df-convert');\n",
              "      buttonEl.style.display =\n",
              "        google.colab.kernel.accessAllowed ? 'block' : 'none';\n",
              "\n",
              "      async function convertToInteractive(key) {\n",
              "        const element = document.querySelector('#df-8a4e7d90-ad6b-4786-8501-7dc9dff412cf');\n",
              "        const dataTable =\n",
              "          await google.colab.kernel.invokeFunction('convertToInteractive',\n",
              "                                                    [key], {});\n",
              "        if (!dataTable) return;\n",
              "\n",
              "        const docLinkHtml = 'Like what you see? Visit the ' +\n",
              "          '<a target=\"_blank\" href=https://colab.research.google.com/notebooks/data_table.ipynb>data table notebook</a>'\n",
              "          + ' to learn more about interactive tables.';\n",
              "        element.innerHTML = '';\n",
              "        dataTable['output_type'] = 'display_data';\n",
              "        await google.colab.output.renderOutput(dataTable, element);\n",
              "        const docLink = document.createElement('div');\n",
              "        docLink.innerHTML = docLinkHtml;\n",
              "        element.appendChild(docLink);\n",
              "      }\n",
              "    </script>\n",
              "  </div>\n",
              "\n",
              "\n",
              "<div id=\"df-3538abf0-899c-4d70-a8c0-c30ad5263bb2\">\n",
              "  <button class=\"colab-df-quickchart\" onclick=\"quickchart('df-3538abf0-899c-4d70-a8c0-c30ad5263bb2')\"\n",
              "            title=\"Suggest charts\"\n",
              "            style=\"display:none;\">\n",
              "\n",
              "<svg xmlns=\"http://www.w3.org/2000/svg\" height=\"24px\"viewBox=\"0 0 24 24\"\n",
              "     width=\"24px\">\n",
              "    <g>\n",
              "        <path d=\"M19 3H5c-1.1 0-2 .9-2 2v14c0 1.1.9 2 2 2h14c1.1 0 2-.9 2-2V5c0-1.1-.9-2-2-2zM9 17H7v-7h2v7zm4 0h-2V7h2v10zm4 0h-2v-4h2v4z\"/>\n",
              "    </g>\n",
              "</svg>\n",
              "  </button>\n",
              "\n",
              "<style>\n",
              "  .colab-df-quickchart {\n",
              "      --bg-color: #E8F0FE;\n",
              "      --fill-color: #1967D2;\n",
              "      --hover-bg-color: #E2EBFA;\n",
              "      --hover-fill-color: #174EA6;\n",
              "      --disabled-fill-color: #AAA;\n",
              "      --disabled-bg-color: #DDD;\n",
              "  }\n",
              "\n",
              "  [theme=dark] .colab-df-quickchart {\n",
              "      --bg-color: #3B4455;\n",
              "      --fill-color: #D2E3FC;\n",
              "      --hover-bg-color: #434B5C;\n",
              "      --hover-fill-color: #FFFFFF;\n",
              "      --disabled-bg-color: #3B4455;\n",
              "      --disabled-fill-color: #666;\n",
              "  }\n",
              "\n",
              "  .colab-df-quickchart {\n",
              "    background-color: var(--bg-color);\n",
              "    border: none;\n",
              "    border-radius: 50%;\n",
              "    cursor: pointer;\n",
              "    display: none;\n",
              "    fill: var(--fill-color);\n",
              "    height: 32px;\n",
              "    padding: 0;\n",
              "    width: 32px;\n",
              "  }\n",
              "\n",
              "  .colab-df-quickchart:hover {\n",
              "    background-color: var(--hover-bg-color);\n",
              "    box-shadow: 0 1px 2px rgba(60, 64, 67, 0.3), 0 1px 3px 1px rgba(60, 64, 67, 0.15);\n",
              "    fill: var(--button-hover-fill-color);\n",
              "  }\n",
              "\n",
              "  .colab-df-quickchart-complete:disabled,\n",
              "  .colab-df-quickchart-complete:disabled:hover {\n",
              "    background-color: var(--disabled-bg-color);\n",
              "    fill: var(--disabled-fill-color);\n",
              "    box-shadow: none;\n",
              "  }\n",
              "\n",
              "  .colab-df-spinner {\n",
              "    border: 2px solid var(--fill-color);\n",
              "    border-color: transparent;\n",
              "    border-bottom-color: var(--fill-color);\n",
              "    animation:\n",
              "      spin 1s steps(1) infinite;\n",
              "  }\n",
              "\n",
              "  @keyframes spin {\n",
              "    0% {\n",
              "      border-color: transparent;\n",
              "      border-bottom-color: var(--fill-color);\n",
              "      border-left-color: var(--fill-color);\n",
              "    }\n",
              "    20% {\n",
              "      border-color: transparent;\n",
              "      border-left-color: var(--fill-color);\n",
              "      border-top-color: var(--fill-color);\n",
              "    }\n",
              "    30% {\n",
              "      border-color: transparent;\n",
              "      border-left-color: var(--fill-color);\n",
              "      border-top-color: var(--fill-color);\n",
              "      border-right-color: var(--fill-color);\n",
              "    }\n",
              "    40% {\n",
              "      border-color: transparent;\n",
              "      border-right-color: var(--fill-color);\n",
              "      border-top-color: var(--fill-color);\n",
              "    }\n",
              "    60% {\n",
              "      border-color: transparent;\n",
              "      border-right-color: var(--fill-color);\n",
              "    }\n",
              "    80% {\n",
              "      border-color: transparent;\n",
              "      border-right-color: var(--fill-color);\n",
              "      border-bottom-color: var(--fill-color);\n",
              "    }\n",
              "    90% {\n",
              "      border-color: transparent;\n",
              "      border-bottom-color: var(--fill-color);\n",
              "    }\n",
              "  }\n",
              "</style>\n",
              "\n",
              "  <script>\n",
              "    async function quickchart(key) {\n",
              "      const quickchartButtonEl =\n",
              "        document.querySelector('#' + key + ' button');\n",
              "      quickchartButtonEl.disabled = true;  // To prevent multiple clicks.\n",
              "      quickchartButtonEl.classList.add('colab-df-spinner');\n",
              "      try {\n",
              "        const charts = await google.colab.kernel.invokeFunction(\n",
              "            'suggestCharts', [key], {});\n",
              "      } catch (error) {\n",
              "        console.error('Error during call to suggestCharts:', error);\n",
              "      }\n",
              "      quickchartButtonEl.classList.remove('colab-df-spinner');\n",
              "      quickchartButtonEl.classList.add('colab-df-quickchart-complete');\n",
              "    }\n",
              "    (() => {\n",
              "      let quickchartButtonEl =\n",
              "        document.querySelector('#df-3538abf0-899c-4d70-a8c0-c30ad5263bb2 button');\n",
              "      quickchartButtonEl.style.display =\n",
              "        google.colab.kernel.accessAllowed ? 'block' : 'none';\n",
              "    })();\n",
              "  </script>\n",
              "</div>\n",
              "    </div>\n",
              "  </div>\n"
            ]
          },
          "metadata": {},
          "execution_count": 2
        }
      ]
    },
    {
      "cell_type": "code",
      "source": [
        "# Get basic info on the data set\n",
        "boston_df.info()"
      ],
      "metadata": {
        "colab": {
          "base_uri": "https://localhost:8080/"
        },
        "id": "MrmpB_oy-xk2",
        "outputId": "57743c87-4731-4eda-e3ad-51dcc8b75c18"
      },
      "execution_count": null,
      "outputs": [
        {
          "output_type": "stream",
          "name": "stdout",
          "text": [
            "<class 'pandas.core.frame.DataFrame'>\n",
            "Int64Index: 506 entries, 1 to 506\n",
            "Data columns (total 14 columns):\n",
            " #   Column   Non-Null Count  Dtype  \n",
            "---  ------   --------------  -----  \n",
            " 0   crim     506 non-null    float64\n",
            " 1   zn       506 non-null    float64\n",
            " 2   indus    506 non-null    float64\n",
            " 3   chas     506 non-null    int64  \n",
            " 4   nox      506 non-null    float64\n",
            " 5   rm       506 non-null    float64\n",
            " 6   age      506 non-null    float64\n",
            " 7   dis      506 non-null    float64\n",
            " 8   rad      506 non-null    int64  \n",
            " 9   tax      506 non-null    int64  \n",
            " 10  ptratio  506 non-null    float64\n",
            " 11  black    506 non-null    float64\n",
            " 12  lstat    506 non-null    float64\n",
            " 13  medv     506 non-null    float64\n",
            "dtypes: float64(11), int64(3)\n",
            "memory usage: 59.3 KB\n"
          ]
        }
      ]
    },
    {
      "cell_type": "markdown",
      "source": [
        "We can see here that the dataset comprises 506 entries, indexed from 1 to 506. Each entry corresponds to a different set of housing and area characteristics in Boston.\n",
        "-   There are 14 columns in total, each representing a different attribute of the housing or area, similar to the ones described in the first five rows of the dataset.\n",
        "-   The data types (`Dtype`) of these columns are either `float64` or `int64`. Float64 columns (like `crim`, `zn`, `indus`, etc.) represent numeric data with decimal points, whereas Int64 columns (like `chas`, `rad`, `tax`) represent integer values.\n",
        "-   Importantly, each column has 506 non-null counts, indicating there are no missing values in this dataset. This is crucial for analysis as it means the data is complete, and no imputation or handling of missing data is needed before proceeding with linear regression analysis.\n",
        "\n",
        "This dataset is well-structured and complete, making it an excellent candidate for regression analysis without the need for preliminary cleaning or data imputation steps. The diverse range of variables, both in type and measurement scale, provides a rich context for exploring linear relationships and building a regression model."
      ],
      "metadata": {
        "id": "nbiJQucKAtlJ"
      }
    },
    {
      "cell_type": "code",
      "source": [],
      "metadata": {
        "id": "lPeiJJ-PAt5W"
      },
      "execution_count": null,
      "outputs": []
    },
    {
      "cell_type": "markdown",
      "source": [
        "## What is Linear Regression?\n",
        "\n",
        "**Linear Regression** is a statistical method used to model the relationship between a dependent variable and one or more independent variables. The \"linear\" in linear regression refers to the fact that this relationship takes the form of a straight line.\n",
        "\n",
        "In its simplest form, with one independent variable, the linear regression model can be represented as:\n",
        "\n",
        "$$ y = \\beta_0 + \\beta_1x + \\epsilon $$\n",
        "\n",
        "Here:\n",
        "- $y$ is the dependent variable we're trying to predict or explain.\n",
        "- $x$ is the independent variable we're using for prediction.\n",
        "- $\\beta_0$ is the y-intercept of the regression line.\n",
        "- $\\beta_1$ represents the slope of the regression line, indicating how much \\( y \\) changes for a unit change in \\( x \\).\n",
        "- $\\epsilon$ represents the error term, accounting for the variability in \\( y \\) that cannot be explained by \\( x \\).\n",
        "\n",
        "At its core, linear regression is a way to predict a value based on one or more input values. Think of it like trying to draw a straight line through a set of points on a graph so that the line is as close as possible to all the points. This line helps us understand relationships between variables. For example, how does the size of a house (measured in rooms) relate to its price?\n",
        "\n",
        "- The **Dependent Variable** is what we want to predict. In our case, it's the house price.\n",
        "- **Independent Variables** are the factors we think might affect our dependent variable. For the Boston Housing data, this could be things like the number of rooms, age of the house, etc.\n",
        "\n",
        "We'll be using a Python library called **StatsModel** to perform our linear regression analysis. StatsModel is a powerful tool that makes it easier to explore data, estimate statistical models, and perform tests.\n",
        "\n",
        "After we've created our model, we'll want to know how good it is. For this, we use model metrics like:\n",
        "\n",
        "- The **R-squared** tells us how well our line fits the data. A higher R-squared value means a better fit.\n",
        "- The **Coefficients** numbers tell us how much our dependent variable (house price) changes with a one-unit change in our independent variables (like the number of rooms)."
      ],
      "metadata": {
        "id": "KvbBzuf9Bb1A"
      }
    },
    {
      "cell_type": "markdown",
      "source": [
        "## Some Terminology: Models, Fitting, Metrics\n",
        "A **model** is a mathematical representation that describes the relationship between variables. Data scientists using many \"models\" in their work, with linear regression being one of the most important ones. In linear regression, the model is  a line that best fits the observed data. In its simplest form, a linear regression model with one independent variable is:\n",
        "\n",
        "$$y = \\beta_0 + \\beta_1x$$\n",
        "\n",
        "as explained above. When we create models we *expect* that they will be imperfect (that is, we will never perfectly predict the dependent variable).\n",
        "\n",
        "**Fitting** a model means finding the line that best represents the relationship between the independent and dependent variables.\n",
        "\n",
        "- Technically, it involves calculating the intercept and slope that minimize the difference between the predicted and actual values of the dependent variable.\n",
        "- This process is known as \"minimizing the sum of squared residuals\" or the **Ordinary Least Squares (OLS)**.\n",
        "\n",
        "One we have fit, the model we can **evaluate it** by assessing its effectiveness and accuracy in describing the relationship between variables or in making predictions.\n",
        "\n",
        "- Key metrics for evaluation include R-squared, the F-statistic, p-values, and others.\n",
        "- The goal is to understand the model's strengths and limitations in representing the data and its predictive capabilities."
      ],
      "metadata": {
        "id": "OzgdmsRnF58e"
      }
    },
    {
      "cell_type": "markdown",
      "source": [
        "![mermaid-diagram-2023-11-26-100858.png](data:image/png;base64,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)"
      ],
      "metadata": {
        "id": "vVrftLuUZHH-"
      }
    },
    {
      "cell_type": "markdown",
      "source": [
        "###  Syntax for Creating a Linear Regression Model Using Statsmodels\n",
        "\n",
        "To create a linear regression model using `statsmodels`, you typically follow these steps:\n",
        "\n",
        "```python\n",
        "import statsmodels.api as sm\n",
        "\n",
        "# Step 1: Prepare your data\n",
        "# X = ... (independent variables)\n",
        "# Y = ... (dependent variable)\n",
        "\n",
        "# Step 2: Add a constant to the independent variables\n",
        "X = sm.add_constant(X)\n",
        "\n",
        "# Step 3: Create a model\n",
        "model = sm.OLS(Y, X)\n",
        "\n",
        "# Step 4: Fit the model\n",
        "result = model.fit()\n",
        "\n",
        "# Step 5: Get the summary of the model\n",
        "print(result.summary())\n",
        "```\n",
        "The steps here are:\n",
        "\n",
        "1. First, import `statsmodels.api`.\n",
        "2. Define your independent variables (`X`) and dependent variable (`Y`).\n",
        "3.`statsmodels` doesn't automatically include the intercept (β0 in the equation), so you need to add a \"constant\" manually.\n",
        "4. Create an Ordinary Least Squares (OLS) model. OLS is a type of linear regression.\n",
        "5. Fit the model to your data.\n",
        "6. The summary provides detailed results including coefficients, R-squared value, p-values, etc."
      ],
      "metadata": {
        "id": "BKvFlBK9DDQL"
      }
    },
    {
      "cell_type": "markdown",
      "source": [
        "### Example: Using Number of Rooms to Predict Price\n",
        "Let's start with a simple exam, of using room to predict price."
      ],
      "metadata": {
        "id": "fj5OIOF7DGBu"
      }
    },
    {
      "cell_type": "code",
      "source": [
        "import statsmodels.api as sm\n",
        "\n",
        "# Independent variable: Average number of rooms\n",
        "X = boston_df['rm']\n",
        "\n",
        "# Dependent variable: Median value of owner-occupied homes\n",
        "Y = boston_df['medv']\n",
        "\n",
        "# Add a constant to the independent variable\n",
        "X = sm.add_constant(X)\n",
        "\n",
        "# Create an OLS model\n",
        "model = sm.OLS(Y, X)\n",
        "\n",
        "# Fit the model\n",
        "result = model.fit()\n",
        "\n",
        "# Print the summary of the model\n",
        "print(result.summary())\n"
      ],
      "metadata": {
        "colab": {
          "base_uri": "https://localhost:8080/"
        },
        "id": "qNOLg16tDFJN",
        "outputId": "883b8431-fcda-4ffd-8ddc-76dea9f1397f"
      },
      "execution_count": null,
      "outputs": [
        {
          "output_type": "stream",
          "name": "stdout",
          "text": [
            "                            OLS Regression Results                            \n",
            "==============================================================================\n",
            "Dep. Variable:                   medv   R-squared:                       0.484\n",
            "Model:                            OLS   Adj. R-squared:                  0.483\n",
            "Method:                 Least Squares   F-statistic:                     471.8\n",
            "Date:                Fri, 17 Nov 2023   Prob (F-statistic):           2.49e-74\n",
            "Time:                        18:35:20   Log-Likelihood:                -1673.1\n",
            "No. Observations:                 506   AIC:                             3350.\n",
            "Df Residuals:                     504   BIC:                             3359.\n",
            "Df Model:                           1                                         \n",
            "Covariance Type:            nonrobust                                         \n",
            "==============================================================================\n",
            "                 coef    std err          t      P>|t|      [0.025      0.975]\n",
            "------------------------------------------------------------------------------\n",
            "const        -34.6706      2.650    -13.084      0.000     -39.877     -29.465\n",
            "rm             9.1021      0.419     21.722      0.000       8.279       9.925\n",
            "==============================================================================\n",
            "Omnibus:                      102.585   Durbin-Watson:                   0.684\n",
            "Prob(Omnibus):                  0.000   Jarque-Bera (JB):              612.449\n",
            "Skew:                           0.726   Prob(JB):                    1.02e-133\n",
            "Kurtosis:                       8.190   Cond. No.                         58.4\n",
            "==============================================================================\n",
            "\n",
            "Notes:\n",
            "[1] Standard Errors assume that the covariance matrix of the errors is correctly specified.\n"
          ]
        }
      ]
    },
    {
      "cell_type": "markdown",
      "source": [
        "### Making Sense of the Results\n",
        "So, what does this all mean? While the summary above gives a LOT of information, we can pay attention to a few numbers in particular.\n",
        "\n",
        "- **R-squared** (and **Adjusted R-Squared**) is a statistical measure that represents the proportion of the variance for the dependent variable (medv) that's explained by the independent variable(s) in the model. An R-squared of 0.484 means that 48.4% of the variance in the median value of homes can be explained by the model.\n",
        "\n",
        "- The **F-statistic** tests the overall significance of the model. A higher value (471.8 in this case) generally indicates that the model is a better fit to the data. It suggests whether your linear model is better than a model with no independent variables.\n",
        "\n",
        "- The **coefficient** for `rm` tells us how much the dependent variable (`medv`) is expected to increase when `rm` increases by one unit, holding other variables constant. Similarly, `const` is the y-intercept, the expected value of `medv` when all independent variables are 0.\n",
        "\n",
        "- **P>|t| (for `rm` < 0.000)** tell us the p-value associated with the coefficient of `rm`. A p-value is the probability of observing any value equal to or more extreme than the observed one, assuming that the null hypothesis (the coefficient is zero) is true. A small p-value (typically < 0.05) indicates that the variable is statistically significant in predicting `medv`.\n",
        "\n",
        "The results above suggests that the \"number of rooms\" is, in fact, a pretty good predictor of price.\n"
      ],
      "metadata": {
        "id": "R-m_UaoeD4KV"
      }
    },
    {
      "cell_type": "markdown",
      "source": [
        "### Linear Regression in R\n",
        "In R, we can do linear regression in a very similar way using R's built-in `lm` function.\n",
        "\n",
        "```r\n",
        "# Load the necessary library\n",
        "library(MASS) # Contains the Boston dataset\n",
        "\n",
        "# Load the Boston Housing dataset\n",
        "data(Boston)\n",
        "\n",
        "# Create the linear regression model\n",
        "# Here, 'medv' is the dependent variable, and 'rm' is the independent variable\n",
        "fit <- lm(medv ~ rm, data=Boston)\n",
        "\n",
        "# Print the summary of the model\n",
        "# This will provide detailed statistics about the model's performance\n",
        "summary(fit)\n",
        "```"
      ],
      "metadata": {
        "id": "AetlzrCyHo-G"
      }
    },
    {
      "cell_type": "markdown",
      "source": [
        "Here's what the output looks like in R. I've used Python's rpy2 library to run the R code."
      ],
      "metadata": {
        "id": "TwsX22-XHxZ5"
      }
    },
    {
      "cell_type": "code",
      "source": [
        "# Emulating R code in a Python environment\n",
        "\n",
        "import rpy2.robjects as robjects\n",
        "robjects.r('library(MASS)')\n",
        "robjects.r('data(Boston)')\n",
        "robjects.r('fit <- lm(medv ~ rm, data=Boston)')\n",
        "print(robjects.r('summary(fit)'))\n"
      ],
      "metadata": {
        "colab": {
          "base_uri": "https://localhost:8080/"
        },
        "id": "rAhFNbuIH3dP",
        "outputId": "46245d39-c27b-4e44-fff5-963b89cf6f2a"
      },
      "execution_count": null,
      "outputs": [
        {
          "output_type": "stream",
          "name": "stdout",
          "text": [
            "\n",
            "Call:\n",
            "lm(formula = medv ~ rm, data = Boston)\n",
            "\n",
            "Residuals:\n",
            "    Min      1Q  Median      3Q     Max \n",
            "-23.346  -2.547   0.090   2.986  39.433 \n",
            "\n",
            "Coefficients:\n",
            "            Estimate Std. Error t value Pr(>|t|)    \n",
            "(Intercept)  -34.671      2.650  -13.08   <2e-16 ***\n",
            "rm             9.102      0.419   21.72   <2e-16 ***\n",
            "---\n",
            "Signif. codes:  0 ‘***’ 0.001 ‘**’ 0.01 ‘*’ 0.05 ‘.’ 0.1 ‘ ’ 1\n",
            "\n",
            "Residual standard error: 6.616 on 504 degrees of freedom\n",
            "Multiple R-squared:  0.4835,\tAdjusted R-squared:  0.4825 \n",
            "F-statistic: 471.8 on 1 and 504 DF,  p-value: < 2.2e-16\n",
            "\n",
            "\n"
          ]
        }
      ]
    },
    {
      "cell_type": "markdown",
      "source": [
        "### Exercise: Regression\n",
        "Run a linear regression using a variable OTHER than rooms. (I've included Python starter code below, but you can also use R, using my code from above)."
      ],
      "metadata": {
        "id": "Zcu4YUovFBJ5"
      }
    },
    {
      "cell_type": "code",
      "source": [
        "\n",
        "# Independent variable: Someting other than rooms!\n",
        "# X = boston_df['rm']\n",
        "# TODO\n",
        "\n",
        "\n",
        "# Dependent variable: Median value of owner-occupied homes\n",
        "Y = boston_df['medv']\n",
        "\n",
        "# Add a constant to the independent variable\n",
        "X = sm.add_constant(X)\n",
        "\n",
        "# Create an OLS model\n",
        "model = sm.OLS(Y, X)\n",
        "\n",
        "# Fit the model\n",
        "result = model.fit()\n",
        "\n",
        "# Print the summary of the model\n",
        "print(result.summary())"
      ],
      "metadata": {
        "colab": {
          "base_uri": "https://localhost:8080/"
        },
        "id": "mVFxdedIClpt",
        "outputId": "994b9621-87d5-4d29-c334-f9d36923f0f5"
      },
      "execution_count": null,
      "outputs": [
        {
          "output_type": "stream",
          "name": "stdout",
          "text": [
            "                            OLS Regression Results                            \n",
            "==============================================================================\n",
            "Dep. Variable:                   medv   R-squared:                       0.484\n",
            "Model:                            OLS   Adj. R-squared:                  0.483\n",
            "Method:                 Least Squares   F-statistic:                     471.8\n",
            "Date:                Fri, 17 Nov 2023   Prob (F-statistic):           2.49e-74\n",
            "Time:                        18:35:21   Log-Likelihood:                -1673.1\n",
            "No. Observations:                 506   AIC:                             3350.\n",
            "Df Residuals:                     504   BIC:                             3359.\n",
            "Df Model:                           1                                         \n",
            "Covariance Type:            nonrobust                                         \n",
            "==============================================================================\n",
            "                 coef    std err          t      P>|t|      [0.025      0.975]\n",
            "------------------------------------------------------------------------------\n",
            "const        -34.6706      2.650    -13.084      0.000     -39.877     -29.465\n",
            "rm             9.1021      0.419     21.722      0.000       8.279       9.925\n",
            "==============================================================================\n",
            "Omnibus:                      102.585   Durbin-Watson:                   0.684\n",
            "Prob(Omnibus):                  0.000   Jarque-Bera (JB):              612.449\n",
            "Skew:                           0.726   Prob(JB):                    1.02e-133\n",
            "Kurtosis:                       8.190   Cond. No.                         58.4\n",
            "==============================================================================\n",
            "\n",
            "Notes:\n",
            "[1] Standard Errors assume that the covariance matrix of the errors is correctly specified.\n"
          ]
        }
      ]
    },
    {
      "cell_type": "markdown",
      "source": [
        "### Question: Making Sense of Regression\n",
        "Now, explain the results using the concepts we learned above. How does your model compare to the one that used rooms?"
      ],
      "metadata": {
        "id": "QYG3A4RcFdG3"
      }
    },
    {
      "cell_type": "markdown",
      "source": [
        "### My Answer:"
      ],
      "metadata": {
        "id": "GsaPiRPSHI_f"
      }
    },
    {
      "cell_type": "code",
      "source": [],
      "metadata": {
        "id": "5Bs8BPUmFcQL"
      },
      "execution_count": null,
      "outputs": []
    },
    {
      "cell_type": "markdown",
      "source": [
        "## What is Multiple Regression?\n",
        "\n",
        "**Multiple regression** is an extension of linear regression, where instead of using one, we use multiple independent variables to predict a dependent variable. It's like adding more ingredients into the mix to understand a recipe better.\n",
        "\n",
        "- In **simple linear regression**, we have one independent variable predicting a dependent variable. The formula looks like $ y = \\beta_0 + \\beta_1x $.\n",
        "- In **multiple regression**, the formula expands to include multiple independent variables. It looks like\n",
        "\n",
        "$$ y = \\beta_0 + \\beta_1x_1 + \\beta_2x_2 + ... + \\beta_nx_n$$ where:\n",
        "   - $ y $ is the dependent variable.\n",
        "   - $x_1, x_2, ..., x_n$ are the independent variables.\n",
        "   - $\\beta_0$ is the intercept.\n",
        "   - $\\beta_1, \\beta_2, ..., \\beta_n$ are the coefficients for each independent variable.\n",
        "\n",
        "Multiple regression can, in the right circumstances, provide a number of benefits.\n",
        "\n",
        "1. By including more variables, multiple regression can provide a more accurate and nuanced understanding of the relationships affecting the dependent variable.\n",
        "2. It allows us to explore and model more complex relationships that simple linear regression can't handle.\n",
        "3. Multiple regression helps in controlling for **confounding variables**, isolating the effect of each independent variable on the dependent variable.\n",
        "\n",
        "Multiple regression is widely used in fields like economics, social sciences, biology, and engineering, where the outcome is influenced by several factors. It provides a more comprehensive view of the dynamics at play, making it a powerful tool for prediction and analysis.\n"
      ],
      "metadata": {
        "id": "3suy1k60Kc4O"
      }
    },
    {
      "cell_type": "markdown",
      "source": [
        "### Example: Multiple Regression\n",
        "Let's predict the median value of owner-occupied homes (`medv) using two independent variables: the average number of rooms (`rm`) and the percentage of lower status population (`lstat`)."
      ],
      "metadata": {
        "id": "23_n5Wi7Lf5_"
      }
    },
    {
      "cell_type": "code",
      "source": [
        "import statsmodels.api as sm\n",
        "\n",
        "# Independent variables: 'rm' and 'lstat'\n",
        "X = boston_df[['rm', 'lstat']]\n",
        "\n",
        "# Dependent variable: 'medv'\n",
        "Y = boston_df['medv']\n",
        "\n",
        "# Add a constant to the independent variables\n",
        "X = sm.add_constant(X)\n",
        "\n",
        "# Create a multiple linear regression model\n",
        "model = sm.OLS(Y, X)\n",
        "\n",
        "# Fit the model\n",
        "result = model.fit()\n",
        "\n",
        "# Print the summary of the model\n",
        "print(result.summary())\n"
      ],
      "metadata": {
        "colab": {
          "base_uri": "https://localhost:8080/"
        },
        "id": "OfmmqRUMK-wZ",
        "outputId": "ad9d9249-845e-40eb-d570-33b3d2a06e17"
      },
      "execution_count": null,
      "outputs": [
        {
          "output_type": "stream",
          "name": "stdout",
          "text": [
            "                            OLS Regression Results                            \n",
            "==============================================================================\n",
            "Dep. Variable:                   medv   R-squared:                       0.639\n",
            "Model:                            OLS   Adj. R-squared:                  0.637\n",
            "Method:                 Least Squares   F-statistic:                     444.3\n",
            "Date:                Fri, 17 Nov 2023   Prob (F-statistic):          7.01e-112\n",
            "Time:                        18:35:21   Log-Likelihood:                -1582.8\n",
            "No. Observations:                 506   AIC:                             3172.\n",
            "Df Residuals:                     503   BIC:                             3184.\n",
            "Df Model:                           2                                         \n",
            "Covariance Type:            nonrobust                                         \n",
            "==============================================================================\n",
            "                 coef    std err          t      P>|t|      [0.025      0.975]\n",
            "------------------------------------------------------------------------------\n",
            "const         -1.3583      3.173     -0.428      0.669      -7.592       4.875\n",
            "rm             5.0948      0.444     11.463      0.000       4.222       5.968\n",
            "lstat         -0.6424      0.044    -14.689      0.000      -0.728      -0.556\n",
            "==============================================================================\n",
            "Omnibus:                      145.712   Durbin-Watson:                   0.834\n",
            "Prob(Omnibus):                  0.000   Jarque-Bera (JB):              457.690\n",
            "Skew:                           1.343   Prob(JB):                    4.11e-100\n",
            "Kurtosis:                       6.807   Cond. No.                         202.\n",
            "==============================================================================\n",
            "\n",
            "Notes:\n",
            "[1] Standard Errors assume that the covariance matrix of the errors is correctly specified.\n"
          ]
        }
      ]
    },
    {
      "cell_type": "markdown",
      "source": [
        "The results here--in particular, the higher **R-squared** suggests that we are doing a somewhat better job than before. You'll also notice that we now have *multiple* coefficients (for both `rm` and `lstat`), each of which have their own assocated p-values.\n",
        "\n",
        "So, more variable is better, right? In this case, it is probably is. However, we need to be *very* careful about this. As it turns out, adding more and more variables can lead to overfitting, one of the central problems of data science."
      ],
      "metadata": {
        "id": "MltDxENgL_1_"
      }
    },
    {
      "cell_type": "markdown",
      "source": [
        "### Example: Multiple Regression in R\n",
        "To do multiple regression in R, you'll again use `lm`\n",
        "\n",
        "```r\n",
        "lm(formula, data = data)\n",
        "```\n",
        "where:\n",
        "\n",
        "- `formula` is a formula specifying the dependent variable (y) and the independent variables (x). For example, `formula = y ~ x1 + x2 + x3` would specify that y is the dependent variable and x1, x2, and x3 are the independent variables.\n",
        "- `data` is an optional argument that specifies the data frame containing the variables. If not specified, the data frame in the current environment will be used.\n",
        "\n",
        "In our case, the code is"
      ],
      "metadata": {
        "id": "xeOoGmJrm14r"
      }
    },
    {
      "cell_type": "code",
      "source": [
        "# How to run multiple regression in R\n",
        "robjects.r('fit <- lm(medv ~ rm + lstat, data=Boston)')\n",
        "print(robjects.r('summary(fit)'))"
      ],
      "metadata": {
        "colab": {
          "base_uri": "https://localhost:8080/"
        },
        "id": "kaxFR4ZVN2ND",
        "outputId": "3040087b-098d-473b-c46f-862be7cd7ff3"
      },
      "execution_count": null,
      "outputs": [
        {
          "output_type": "stream",
          "name": "stdout",
          "text": [
            "\n",
            "Call:\n",
            "lm(formula = medv ~ rm + lstat, data = Boston)\n",
            "\n",
            "Residuals:\n",
            "    Min      1Q  Median      3Q     Max \n",
            "-18.076  -3.516  -1.010   1.909  28.131 \n",
            "\n",
            "Coefficients:\n",
            "            Estimate Std. Error t value Pr(>|t|)    \n",
            "(Intercept) -1.35827    3.17283  -0.428    0.669    \n",
            "rm           5.09479    0.44447  11.463   <2e-16 ***\n",
            "lstat       -0.64236    0.04373 -14.689   <2e-16 ***\n",
            "---\n",
            "Signif. codes:  0 ‘***’ 0.001 ‘**’ 0.01 ‘*’ 0.05 ‘.’ 0.1 ‘ ’ 1\n",
            "\n",
            "Residual standard error: 5.54 on 503 degrees of freedom\n",
            "Multiple R-squared:  0.6386,\tAdjusted R-squared:  0.6371 \n",
            "F-statistic: 444.3 on 2 and 503 DF,  p-value: < 2.2e-16\n",
            "\n",
            "\n"
          ]
        }
      ]
    },
    {
      "cell_type": "markdown",
      "source": [
        "## What is Overfitting? How Can I Avoid it?\n",
        "\n",
        "Overfitting is a common and significant issue in data science and machine learning, reflecting the classic problem of induction in philosophy. It occurs when a model is too closely aligned to the specificities of the training data, capturing noise and random fluctuations as if they were meaningful patterns. This leads to a model that performs well on the training data but poorly on new, unseen data.\n",
        "\n",
        "For example, onsider a model predicting house prices in the Boston Housing dataset. If the model is overly complex, it might start picking up on random variations in the training data (like a minor fluctuation in crime rate in a specific year) and treat these as significant, predictive features. Such a model might perform exceptionally well on the training dataset but fail to generalize to new data.\n",
        "\n",
        "### Common Ways to Alleviate Overfitting\n",
        "There are a number of common techniques for addressing overfitting (and, in fact, these tend to major topics in more advanced data science classes).\n",
        "\n",
        "1. **Simplifying the Model--** Sometimes, less is more. Reducing the complexity of the model, like using fewer variables in a regression, can help.\n",
        "2. **Cross-Validation--** This involves splitting the dataset into several smaller sets, using some for training and some for testing. By rotating which sets are used for training and testing, you can get a better sense of how the model performs on different data samples.\n",
        "3. **Regularization--** Techniques like Lasso and Ridge regression add a penalty for more complex models, effectively simplifying the model in a controlled way.\n",
        "4. **Pruning in Decision Trees--** In tree-based models, removing sections of the tree that provide little predictive power can prevent the model from being overly complex.\n",
        "\n",
        "### A Tough Problem with No Perfect Solution\n",
        "It should be empahsed, however, that there is no \"perfect\" solution to the problem of overfitting, and it is a challenge that must be confronted for each data set.\n",
        "\n",
        "- The challenge is finding the right balance between a model that is too simple (underfitting) and one that is too complex (overfitting).\n",
        "-  Every dataset and problem is unique, and what works for one may not work for another. It requires experimentation, intuition, and a deep understanding of the data.\n",
        "-  Avoiding overfitting is not a one-time fix but a continual process of model evaluation and adjustment.\n",
        "\n",
        "In the end, overfitting is a tough problem with no perfect solution. It represents a fundamental challenge in data science, where the goal is to create models that generalize well to new, unseen data, rather than just performing well on the data they were trained on.\n"
      ],
      "metadata": {
        "id": "K6Is6sSoM0A_"
      }
    },
    {
      "cell_type": "markdown",
      "source": [
        "## Glossary: Linear Regression\n",
        "| Term | Definition |\n",
        "| --- | --- |\n",
        "| Statistical Model | A mathematical representation of the relationships among different variables in a dataset. It is used to make predictions or inferences about the data, relying on probability theory to account for randomness and uncertainty in these relationships. |\n",
        "| Fit (a model) | The process of adjusting a statistical model so that it best captures the relationship between variables in a given dataset. This involves estimating the parameters of the model to minimize the difference between the observed data and the predictions made by the model. |\n",
        "| Linear Regression | A method for modeling the relationship between a dependent variable and one or more independent variables by fitting a linear equation to observed data. It assumes a straight-line relationship between the variables. |\n",
        "| Dependent Variable | The variable in a statistical model that is being predicted or explained. It is the outcome of interest and is dependent on the influence of the independent variables. |\n",
        "| Independent Variable | A variable in a statistical model that is presumed to influence or predict the dependent variable. It is not affected by other variables in the model and is used to explain variations in the dependent variable. |\n",
        "| Coefficient (Linear Regression) | A numerical value in linear regression that represents the degree and direction of the relationship between an independent variable and the dependent variable. It quantifies the change in the dependent variable for a one-unit change in the independent variable, holding other variables constant. |\n",
        "| P-value (of coefficient) | A measure used to assess the strength of evidence against the null hypothesis. In the context of a coefficient in linear regression, it tests the hypothesis that the coefficient is significantly different from zero. A low p-value suggests that the corresponding independent variable is statistically significant in predicting the dependent variable. |\n",
        "| R-squared | A statistical measure in regression analysis that represents the proportion of the variance in the dependent variable that is predictable from the independent variables. It ranges from 0 to 1, with higher values indicating a better fit of the model to the data. |\n",
        "| F-statistic | A value used to test the overall significance of a regression model. It compares the model with a null model that assumes no relationship between the independent and dependent variables. A higher F-statistic suggests that the regression model provides a better fit to the data than the null model. |\n",
        "| P-value (of F-statistic) | The probability of observing a value of the F-statistic as extreme as, or more extreme than, the observed value, assuming the null hypothesis is true. It helps determine whether the overall regression model is statistically significant. |\n",
        "| Multiple Regression | An extension of linear regression that involves two or more independent variables. It models the relationship between the dependent variable and multiple independent variables, allowing for the examination of complex relationships in data. |"
      ],
      "metadata": {
        "id": "DwyPPMtIzERv"
      }
    },
    {
      "cell_type": "markdown",
      "source": [
        "## Exercise: Build the Best Multiple Regression Model for Boston Housing Data\n",
        "\n",
        "Create a multiple regression model using the Boston Housing dataset to predict the median value of owner-occupied homes (`medv`). Your goal is to maximize the R-squared value, which measures the proportion of variance in the dependent variable that is predictable from the independent variables.\n",
        "\n",
        "Start by Using Python and `statsmodels`, create an initial multiple regression model. Begin with a few variables that you think might strongly predict `medv`. I've included starter code below. (If you'd rather use R, you can find code above).\n",
        "\n",
        "### Your Task\n",
        "Based on the initial model's summary, begin refining your model. Look at the p-values of the coefficients to determine their significance. A high p-value (> 0.05) suggests that the variable might not be a good predictor. Consider adding, removing, or replacing variables to improve the model. Think about potential interactions between variables and whether adding polynomial terms might help.\n",
        "    -   Repeat the process of refining and fitting the model. Each time, pay attention to the R-squared value and aim to increase it.\n",
        "    -   Be cautious of overfitting. Adding too many variables can make the model overly complex and less generalizable.\n",
        "\n",
        "Once you have a model with a satisfactorily high R-squared value, evaluate it critically. Ask yourself:\n",
        "        -   Does the model make logical sense?\n",
        "        -   Are there any variables that don't seem to belong?\n",
        "        -   How might this model perform on unseen data?\n",
        "\n",
        "\n",
        "Please provide a written summary of how you created your model, and evaluating its performance."
      ],
      "metadata": {
        "id": "ew84SqY4Oys8"
      }
    },
    {
      "cell_type": "code",
      "source": [
        "# Starter code - Python\n",
        "# Independent variables: You'll want to change these!\n",
        "X = boston_df[['rm', 'lstat']]\n",
        "\n",
        "# Dependent variable: 'medv'\n",
        "Y = boston_df['medv']\n",
        "\n",
        "# Add a constant to the independent variables\n",
        "X = sm.add_constant(X)\n",
        "\n",
        "# Create a multiple linear regression model\n",
        "model = sm.OLS(Y, X)\n",
        "\n",
        "# Fit the model\n",
        "result = model.fit()\n",
        "\n",
        "# Print the summary of the model\n",
        "print(result.summary())\n"
      ],
      "metadata": {
        "colab": {
          "base_uri": "https://localhost:8080/"
        },
        "id": "S3hEUCjEOzUi",
        "outputId": "e0ea7d8e-ec09-4501-9ed6-e4c2ab1f97fe"
      },
      "execution_count": null,
      "outputs": [
        {
          "output_type": "stream",
          "name": "stdout",
          "text": [
            "                            OLS Regression Results                            \n",
            "==============================================================================\n",
            "Dep. Variable:                   medv   R-squared:                       0.639\n",
            "Model:                            OLS   Adj. R-squared:                  0.637\n",
            "Method:                 Least Squares   F-statistic:                     444.3\n",
            "Date:                Fri, 17 Nov 2023   Prob (F-statistic):          7.01e-112\n",
            "Time:                        18:35:21   Log-Likelihood:                -1582.8\n",
            "No. Observations:                 506   AIC:                             3172.\n",
            "Df Residuals:                     503   BIC:                             3184.\n",
            "Df Model:                           2                                         \n",
            "Covariance Type:            nonrobust                                         \n",
            "==============================================================================\n",
            "                 coef    std err          t      P>|t|      [0.025      0.975]\n",
            "------------------------------------------------------------------------------\n",
            "const         -1.3583      3.173     -0.428      0.669      -7.592       4.875\n",
            "rm             5.0948      0.444     11.463      0.000       4.222       5.968\n",
            "lstat         -0.6424      0.044    -14.689      0.000      -0.728      -0.556\n",
            "==============================================================================\n",
            "Omnibus:                      145.712   Durbin-Watson:                   0.834\n",
            "Prob(Omnibus):                  0.000   Jarque-Bera (JB):              457.690\n",
            "Skew:                           1.343   Prob(JB):                    4.11e-100\n",
            "Kurtosis:                       6.807   Cond. No.                         202.\n",
            "==============================================================================\n",
            "\n",
            "Notes:\n",
            "[1] Standard Errors assume that the covariance matrix of the errors is correctly specified.\n"
          ]
        }
      ]
    },
    {
      "cell_type": "markdown",
      "source": [
        "## Case Study: Race and Housing Prices\n",
        "\n",
        "Here, we will explore the complex and often delicate interplay between racial demographics and housing prices within the context of the Boston Housing dataset. Our goal is to shed light on how these factors might be interrelated, acknowledging the broader societal and historical context that shapes these dynamics. We'll also talk about some flaws related to the dataset -- Boston Housing Data -- that we've been using so far in this chapter.\n",
        "\n",
        "The topic of race and housing prices is deeply intertwined with historical, social, and economic narratives. In many urban areas, housing markets have been influenced by a variety of factors including socio-economic status, urban planning decisions, and, notably, racial demographics. This has led to phenomena such as segregation, gentrification, and disparate living conditions across different communities.\n",
        "\n",
        "There has been lots of good, detailed research on this, and the goal here is not to reproduce this. Instead, we just want to show that race does matter, and that it *matters* how data scientists treat considerations of race (and of gender, religion, social class, and other common sources of bias) carefully."
      ],
      "metadata": {
        "id": "98NPS1fWkDK-"
      }
    },
    {
      "cell_type": "markdown",
      "source": [
        "### A Simple Model Without Race\n",
        "To begin with, let's construct a simple modeling of housing prices that does NOT consider race. Instead, we will consider only four factors:\n",
        "\n",
        "- The number of rooms the house has\n",
        "- The crime rate of the surrounding areas\n",
        "- THe percent of people who are low income\n",
        "- The age of the house\n",
        "\n",
        "Let's run this model and see what the results are. (I'm using R to keep things a little simpler)"
      ],
      "metadata": {
        "id": "gVmFstZalv1q"
      }
    },
    {
      "cell_type": "code",
      "source": [
        "robjects.r('fit <- lm(medv ~ crim + lstat + rm + age, data=Boston)')\n",
        "print(robjects.r('summary(fit)'))"
      ],
      "metadata": {
        "colab": {
          "base_uri": "https://localhost:8080/"
        },
        "id": "bA_uS5OYkLmI",
        "outputId": "e48a39ce-0ec5-4049-d78f-0879ce2095c8"
      },
      "execution_count": null,
      "outputs": [
        {
          "output_type": "stream",
          "name": "stdout",
          "text": [
            "\n",
            "Call:\n",
            "lm(formula = medv ~ crim + lstat + rm + age, data = Boston)\n",
            "\n",
            "Residuals:\n",
            "    Min      1Q  Median      3Q     Max \n",
            "-18.105  -3.501  -1.143   1.968  28.180 \n",
            "\n",
            "Coefficients:\n",
            "            Estimate Std. Error t value Pr(>|t|)    \n",
            "(Intercept) -2.34910    3.17079  -0.741  0.45913    \n",
            "crim        -0.10639    0.03216  -3.308  0.00101 ** \n",
            "lstat       -0.61258    0.05642 -10.857  < 2e-16 ***\n",
            "rm           5.11625    0.45083  11.349  < 2e-16 ***\n",
            "age          0.01259    0.01116   1.129  0.25950    \n",
            "---\n",
            "Signif. codes:  0 ‘***’ 0.001 ‘**’ 0.01 ‘*’ 0.05 ‘.’ 0.1 ‘ ’ 1\n",
            "\n",
            "Residual standard error: 5.488 on 501 degrees of freedom\n",
            "Multiple R-squared:  0.6468,\tAdjusted R-squared:  0.6439 \n",
            "F-statistic: 229.3 on 4 and 501 DF,  p-value: < 2.2e-16\n",
            "\n",
            "\n"
          ]
        }
      ]
    },
    {
      "cell_type": "markdown",
      "source": [
        "You'll see a few things here (which are hopefully familiar from our above discussion).\n",
        "\n",
        "- **Coefficients** in linear regression represent the expected change in the dependent variable (in this case, `medv`, median value of homes) for a one-unit change in an independent variable, assuming all other variables are held constant.  Example: The coefficient for `rm` is 5.11625. This means for each additional room, the median value of homes (`medv`) is expected to increase by about 5.12 units (thousands of dollars, in this context), assuming other factors remain constant.\n",
        "\n",
        "- **P-values** tell us about the statistical significance of each coefficient. A low p-value (usually less than 0.05) suggests that the variable is a significant predictor of the dependent variable.  -   Example: The p-value for `crim` is 0.00101, which is less than 0.05. This indicates that the crime rate (`crim`) is a statistically significant predictor of the median value of homes.\n",
        "\n",
        "-  The **F-statistic** tests the overall significance of the regression model. It checks whether at least one predictor variable has a non-zero coefficient. A higher value (like 229.3 in this case) usually indicates that the model is more significant and likely to be a better fit than a model with no independent variables. A very low **p-value for the F-statistic** (< 2.2e-16, as in this case) suggests the model as a whole is statistically significant.\n",
        "\n",
        "- **R-squared** is a measure of how well the independent variables explain the variance in the dependent variable. It ranges from 0 to 1.  An R-squared of 0.6468 means that about 64.68% of the variability in `medv` is explained by the variables `crim`, `lstat`, `rm`, and `age`. The closer this value is to 1, the better the model explains the dependent variable. The **Adjusted R-squared** is similar to R-squared but adjusts for the number of variables in the model. It's more reliable for models with multiple predictors."
      ],
      "metadata": {
        "id": "RM9Jx58Ao4ch"
      }
    },
    {
      "cell_type": "markdown",
      "source": [
        "### A Model With Race\n",
        "Now, let's see what happens when we include race into this model. That is, we want to find out what happens to the value of a home when:\n",
        "\n",
        "1. The crime rate, poverty rate, number of rooms, and age of house are all held fixed.\n",
        "2. The factor that changes is the proportion of African Americans who live in the surrounding community.\n",
        "\n",
        "We can specify this model as follows:"
      ],
      "metadata": {
        "id": "aqDsgH3Bo-3-"
      }
    },
    {
      "cell_type": "code",
      "source": [
        "robjects.r('fit <- lm(medv ~ crim + lstat + rm + age + black, data=Boston)')\n",
        "print(robjects.r('summary(fit)'))"
      ],
      "metadata": {
        "colab": {
          "base_uri": "https://localhost:8080/"
        },
        "id": "3OtPHNBdphzB",
        "outputId": "156a99f6-3ade-4370-9b0d-ea222f7b2ca8"
      },
      "execution_count": null,
      "outputs": [
        {
          "output_type": "stream",
          "name": "stdout",
          "text": [
            "\n",
            "Call:\n",
            "lm(formula = medv ~ crim + lstat + rm + age + black, data = Boston)\n",
            "\n",
            "Residuals:\n",
            "    Min      1Q  Median      3Q     Max \n",
            "-18.209  -3.405  -1.163   1.923  28.521 \n",
            "\n",
            "Coefficients:\n",
            "             Estimate Std. Error t value Pr(>|t|)    \n",
            "(Intercept) -7.755833   3.499833  -2.216 0.027137 *  \n",
            "crim        -0.077509   0.032872  -2.358 0.018763 *  \n",
            "lstat       -0.572063   0.057006 -10.035  < 2e-16 ***\n",
            "rm           5.282908   0.448474  11.780  < 2e-16 ***\n",
            "age          0.013451   0.011037   1.219 0.223512    \n",
            "black        0.010327   0.002967   3.481 0.000544 ***\n",
            "---\n",
            "Signif. codes:  0 ‘***’ 0.001 ‘**’ 0.01 ‘*’ 0.05 ‘.’ 0.1 ‘ ’ 1\n",
            "\n",
            "Residual standard error: 5.428 on 500 degrees of freedom\n",
            "Multiple R-squared:  0.6551,\tAdjusted R-squared:  0.6517 \n",
            "F-statistic: 189.9 on 5 and 500 DF,  p-value: < 2.2e-16\n",
            "\n",
            "\n"
          ]
        }
      ]
    },
    {
      "cell_type": "markdown",
      "source": [
        "Incorporating the 'black' variable (representing the proportion of Black residents) into the Boston Housing dataset's regression model brings some interesting changes and implications. Let's analyze what these changes mean, especially in terms of the effect of race on house prices. We see a few changes.\n",
        "\n",
        "1. A new coefficient for 'black' appears: 0.010327. This suggests that with each unit increase in the 'black' variable, the median value of homes (`medv`) increases by 0.010327 units, holding other variables constant.\n",
        "2. The p-value for 'black' is 0.000544, which is less than 0.05. This indicates that the proportion of Black residents is a statistically significant predictor of the median value of homes.\n",
        "3.  The Multiple R-Squared increased to 0.6551 from 0.6468. This implies that the model now explains approximately 65.51% of the variability in `medv`, an improvement over the previous model.\n",
        "4.  Adjusted R-Squared also increased to 0.6517, suggesting that the inclusion of 'black' improves the model's explanatory power, even after adjusting for the number of predictors.\n",
        "5. The F-statistic decreased slightly to 189.9, but its p-value remains highly significant, indicating the model is statistically significant.\n",
        "\n",
        "The significant coefficient and low p-value for 'black' imply that race, as represented in this dataset, plays a meaningful role in explaining housing prices in Boston. This aligns with broader societal observations about the impact of racial demographics on housing markets.\n",
        "\n",
        "More surprisingly, the positive coefficient for 'black' suggests a positive correlation with house prices. This might seem counterintuitive given the historical contexts of racial segregation and discrimination impacting housing prices. It's important to interpret this with caution and consider other socio-economic factors that might be influencing this relationship. (See next section for cavates). The addition of 'black' affects other coefficients slightly, indicating the complex interplay between these variables. It's a reminder that in real-world data, variables can interact in multifaceted ways."
      ],
      "metadata": {
        "id": "WueVN5vksIGb"
      }
    },
    {
      "cell_type": "markdown",
      "source": [
        "### Criticisms of the Boston Housing Data\n",
        "The Boston Housing dataset, a staple in regression analysis, has been subject to significant scrutiny, particularly in its handling and representation of race-related data. A key criticism lies in its oversimplified portrayal of race. The dataset's `black` variable, calculated as `1000(Bk - 0.63)^2`, where Bk represents the proportion of Black residents, reduces complex racial dynamics to a single numerical figure. This not only fails to capture the nuances and multifaceted nature of racial diversity but also overlooks the intersectionality of race with other social factors.\n",
        "\n",
        "Moreover, the historical context of the dataset, originating from studies in the 1970s, embeds it within a time when racial discrimination in housing was more overt and even legally sanctioned in some regions. This background is crucial as it can color the data with systemic biases and social injustices of that era, making modern interpretations potentially reflective of these outdated and unjust dynamics.\n",
        "\n",
        "This leads to another critical point: the potential for misinterpretation. For instance, interpreting a positive coefficient for the `black` variable in predictive models might be misleading, especially since the variable has been transformed by the original study's authors. Such a result could be misconstrued as indicating a positive impact of a higher Black population on housing prices, thus ignoring the historical and ongoing realities of racial discrimination in the housing market.\n",
        "\n",
        "Ethical considerations also come to the forefront when using this dataset. The inclusion of race as a predictive variable in models not only raises questions about the perpetuation of stereotypes and biases but also about the overall appropriateness and necessity of its use in statistical analysis. Data scientists bear an ethical responsibility to ensure that their use of data does not inadvertently reinforce existing societal biases or stereotypes. For example, it is NOT appropriate to use the racial composition of a neighborhood when deciding whether to give a bank customer a home loan (as was historically done).\n",
        "\n",
        "So, while the Boston Housing dataset serves as a valuable educational and research tool in data science, it requires a level of careful, critical, and ethically aware engagement, particularly concerning race-related variables. Users must be cognizant of the dataset's limitations, its historical context, and the broader implications of their analyses. It underscores the need for a responsible and context-aware approach in the utilization of data, especially when dealing with sensitive and complex social factors.\n"
      ],
      "metadata": {
        "id": "ob6xnXWWt_iM"
      }
    },
    {
      "cell_type": "markdown",
      "source": [
        "### Recognizing and Combating Bias in Data Science\n",
        "\n",
        "In the evolving field of data science, recognizing and combating bias is a crucial responsibility. Bias in data can lead to skewed results and have far-reaching consequences, particularly in areas like machine learning, healthcare, finance, and social media algorithms.\n",
        "\n",
        "#### Recognizing Bias\n",
        "\n",
        "The first step in combating bias is recognizing it. This starts with a deep understanding of the data sources. For instance, if a healthcare dataset predominantly includes data from urban hospitals, it may not accurately represent rural health trends, leading to biased healthcare predictions. Similarly, facial recognition technologies have shown biases based on the data they were trained on, which historically had underrepresentation of certain racial groups.\n",
        "\n",
        "Conducting thorough exploratory data analysis is another critical step. This involves looking for patterns or anomalies that might suggest bias, such as checking if a dataset used for credit scoring unintentionally excludes certain demographic groups, which could lead to unfair credit decisions.\n",
        "\n",
        "Being informed about societal contexts is essential, especially when dealing with human demographics. For example, if a job recommendation algorithm is trained on historical hiring data, it might perpetuate existing biases against certain groups unless the historical context of inequality is taken into account.\n",
        "\n",
        "#### Combating Bias\n",
        "\n",
        "To combat bias, ensuring diverse and inclusive data is key. In job recommendation algorithms, for instance, it’s important to include a wide range of demographic backgrounds to avoid reinforcing existing societal biases. Similarly, in natural language processing, algorithms trained on diverse linguistic data can better understand and serve a broader range of users.\n",
        "\n",
        "Adhering to ethical frameworks and guidelines is vital. Regular ethical audits of both the data and algorithms can help identify and address potential biases. For instance, banks employing algorithms for loan approval should regularly audit these algorithms to ensure they aren't unintentionally discriminating against certain groups.\n",
        "\n",
        "Algorithmic transparency is crucial for identifying how decisions are made. Transparent models in social media algorithms can help understand why certain content is promoted, making it easier to identify and correct biases.\n",
        "\n",
        "Collaboration with domain experts, especially in sociology, psychology, and ethics, can provide insights into potential biases in datasets. For instance, collaborating with sociologists can help identify societal trends that might impact data on consumer behaviors.\n",
        "\n",
        "Finally, combating bias is an ongoing process. Data scientists should continuously update models and algorithms to adapt to new data and changing societal norms. For example, as social norms around gender identity evolve, datasets and algorithms in marketing and retail must adapt to these changes to remain relevant and unbiased.\n",
        "\n",
        "In conclusion, recognizing and combating bias in data science requires a combination of technical diligence, ethical considerations, and an understanding of broader societal contexts. By employing these strategies, data scientists can ensure that their work contributes to fair and equitable outcomes in a world increasingly driven by data.\n"
      ],
      "metadata": {
        "id": "wQqIMVgkv-48"
      }
    },
    {
      "cell_type": "markdown",
      "source": [
        "### Questions\n",
        "1.  How do you think different variables in the Boston Housing dataset, such as the number of rooms (`rm`), crime rate (`crim`), and the proportion of Black residents (`black`), impact the median value of homes (`medv`)? Discuss why each variable might be significant.\n",
        "\n",
        "2.  Considering the `black` variable in the dataset, what are the ethical implications of including race as a factor in housing price analysis? Discuss the potential benefits and drawbacks of using such sensitive demographic data in statistical models.\n",
        "\n",
        "3.  The Boston Housing dataset was compiled in the 1970s. How might the historical context of that time have influenced the data, and why is it important to consider this context when analyzing and interpreting the data today?\n",
        "\n",
        "4.  How can data science be used to highlight or address social issues, such as inequality in housing? Discuss the responsibility of data scientists in ensuring their work benefits society and does not perpetuate biases.\n"
      ],
      "metadata": {
        "id": "PutJ4s1MxClO"
      }
    },
    {
      "cell_type": "markdown",
      "source": [
        "### My Answers\n",
        "1.\n",
        "\n",
        "2.\n",
        "\n",
        "3.\n",
        "\n",
        "4."
      ],
      "metadata": {
        "id": "wK9IpC8NxEI8"
      }
    },
    {
      "cell_type": "code",
      "source": [],
      "metadata": {
        "id": "eE45UBD9vBAc"
      },
      "execution_count": null,
      "outputs": []
    }
  ]
}