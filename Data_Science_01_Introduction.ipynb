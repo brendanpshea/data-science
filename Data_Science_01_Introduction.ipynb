{
  "nbformat": 4,
  "nbformat_minor": 0,
  "metadata": {
    "colab": {
      "provenance": [],
      "authorship_tag": "ABX9TyO3+f1iIWg1NWSxElhRuJJP",
      "include_colab_link": true
    },
    "kernelspec": {
      "name": "python3",
      "display_name": "Python 3"
    },
    "language_info": {
      "name": "python"
    }
  },
  "cells": [
    {
      "cell_type": "markdown",
      "metadata": {
        "id": "view-in-github",
        "colab_type": "text"
      },
      "source": [
        "<a href=\"https://colab.research.google.com/github/brendanpshea/data-science/blob/main/Data_Science_01_Introduction.ipynb\" target=\"_parent\"><img src=\"https://colab.research.google.com/assets/colab-badge.svg\" alt=\"Open In Colab\"/></a>"
      ]
    },
    {
      "cell_type": "markdown",
      "source": [
        "# What is Data Science?\n",
        "## Brendan Shea, PhD\n",
        "\n",
        "**Data Science** is an interdisciplinary field that uses scientific methods, processes, algorithms, and systems to extract knowledge and insights from structured and unstructured data. It leverages a combination of techniques from statistics, mathematics, computer science, and domain-specific knowledge to achieve this goal. Essentially, it's about using data to generate meaningful and actionable insights that can inform decision-making in various sectors.\n",
        "\n",
        "Let's break down these components:\n",
        "\n",
        "1.  **Statistical Methods:** Data science relies heavily on statistics as a way to make sense of data. Statistics provide tools to describe and summarize data (descriptive statistics) and to make claims or predictions about the data (inferential statistics). For example, a transportation company may use statistics to analyze travel times, number of passengers, fuel efficiency, etc.\n",
        "\n",
        "2.  **Programming:** This is the tool that allows data scientists to interact with data. By writing code, data scientists can collect, clean, analyze, and visualize data, as well as implement machine learning models. Python and R are popular languages in this field due to their readability and the wide array of data-focused libraries available.\n",
        "\n",
        "3.  **Domain Expertise:** While the above skills provide the technical foundation for data science, domain expertise is crucial for interpreting results and making sound decisions. This involves understanding the sector in which the data analysis is being applied. For example, in the transportation sector, understanding factors like peak travel times, common routes, and regulatory policies can greatly inform a data science project.\n",
        "\n",
        "For example, imagine a city government is trying to improve its public transportation system. A data scientist might be enlisted to help answer questions like:\n",
        "\n",
        "-   \"What are the peak hours for bus usage, and do we have sufficient buses to handle that load?\"\n",
        "-   \"Are there neighborhoods that are underserved by our current bus routes?\"\n",
        "-   \"How does weather impact the usage of public transportation?\"\n",
        "\n",
        "To answer these questions, the data scientist would collect data (perhaps from bus fare systems, GPS systems on buses, weather stations, etc.), clean and process the data, then use statistical methods to analyze it. They might use programming skills to automate the collection of data and to create visualizations of bus routes and usage patterns. Finally, they would use their understanding of the city and its transportation needs (the domain expertise) to interpret their findings and make recommendations.\n"
      ],
      "metadata": {
        "id": "jAVBICY5tzd_"
      }
    },
    {
      "cell_type": "markdown",
      "source": [
        "## Applications of Data Science\n",
        "Data science has wide-ranging applications across virtually every domain. Let's take a look at a few more examples:\n",
        "\n",
        "1.  **Healthcare:** In the healthcare sector, data science can be used for predictive modeling to identify disease trends and risk factors, optimize patient care paths, and even predict patient readmissions. For example, by analyzing patient records, clinical notes, and other health data, a data scientist can develop models to predict which patients are at higher risk of readmission after surgery. Such insights could then be used to improve post-operative care and reduce readmissions.\n",
        "\n",
        "2.  **Finance:** Data science plays a vital role in financial institutions for fraud detection, risk management, investment modeling, and customer segmentation. For instance, data scientists can build models to identify unusual patterns of transactions that might indicate fraudulent activities.\n",
        "\n",
        "3.  **Marketing and Sales:** In this domain, data science can be applied to forecast sales, analyze customer behavior, optimize pricing, and improve product recommendations. An e-commerce company might use data science to predict which products a customer is likely to buy based on their browsing history and previous purchases, thereby offering more personalized product recommendations.\n",
        "\n",
        "4.  **Agriculture:** Data science has also found applications in farming, where it can help predict crop yields, optimize resource usage, and even identify plant diseases. For instance, by analyzing satellite images, weather data, and soil information, a data scientist could help farmers identify the optimal time to plant and harvest crops, potentially increasing productivity.\n",
        "\n",
        "5.  **Sports:** In the sports industry, data science can be used for player performance analysis, game strategy, injury prediction, and fan engagement. A data scientist working with a basketball team, for example, could analyze player statistics to determine optimal lineups and strategies.\n",
        "\n",
        "6.  **Education:** Data science can be used to predict student performance, reduce dropout rates, personalize learning, and even improve curriculum design. For example, by analyzing data on student attendance, assignment scores, and engagement in online learning platforms, a data scientist could identify students who are at risk of falling behind and need additional support.\n",
        "\n",
        "In essence, data science is a versatile field with the potential to impact and transform virtually any domain. It's all about extracting insights from data to make informed decisions and predictions. And the beauty of it is that the fundamental techniques and approaches remain the same, whether you're analyzing bus routes, patient records, or basketball stats. It's the context and the specific questions you're asking that change."
      ],
      "metadata": {
        "id": "-Dns5tPsuYzU"
      }
    },
    {
      "cell_type": "markdown",
      "source": [
        "## Why Python?\n",
        "Python is a high-level, interpreted programming language known for its clear syntax and readability, which makes it a great choice for beginners in programming. \"High-level\" means that Python has a strong abstraction from the details of the computer system it runs on, making it easier to write and understand than lower-level languages. \"Interpreted\" means that Python code is not converted to machine language before it is run; instead, the Python interpreter reads and executes the code directly.\n",
        "\n",
        "Python is widely used in data science for several reasons:\n",
        "\n",
        "1.  **Ease of Learning:** Python's syntax is designed to be readable and straightforward, which makes it an excellent language for beginners. Its syntax allows programmers to express concepts in fewer lines of code than would be possible in languages like C++ or Java.\n",
        "\n",
        "2.  **Versatile Libraries:** Python has a broad range of libraries that are specific to data science. Libraries like NumPy and Pandas are used for data manipulation and analysis, Matplotlib and Seaborn for data visualization, and Sci-Kit Learn for machine learning. These libraries have pre-written code to help perform a lot of common tasks without having to code them from scratch.\n",
        "\n",
        "3.  **Community Support:** Python has a strong community in the field of data science. This means that if you run into problems or need to learn new techniques, there are plentiful resources and forums available to help.\n",
        "\n",
        "4.  **Integration:** Python can easily integrate with other languages and tools. This makes it flexible for different use cases in the data science workflow, from data gathering and cleaning to modeling and visualization.\n",
        "\n",
        "Let's return to our earlier example (of the transportation department). Suppose a city's transportation department wants to analyze traffic data to optimize signal timings at intersections. They have data on vehicle counts, pedestrian counts, and timings of signal changes.\n",
        "\n",
        "A data scientist could use Python to perform this analysis. They might use the Pandas library to load the traffic data into a DataFrame (a table-like data structure), and to clean and process the data (e.g., handling missing data, converting data types). They might then use Matplotlib or Seaborn to visualize the data, helping them understand patterns in traffic flow at different times of day. They might even use Sci-Kit Learn to build a machine learning model that predicts traffic flow based on time of day, day of the week, and weather conditions. Throughout this process, Python's clear syntax and powerful libraries make the data scientist's job easier."
      ],
      "metadata": {
        "id": "T1Zkb1nxvu7m"
      }
    },
    {
      "cell_type": "markdown",
      "source": [
        "## Basic Python Syntax\n",
        "In comparison to many other languages, Python has a straightforward syntax that beginners find easy to use, and that non-experts can use in their day-to-day lives. At the same time, it is (or can be) very powerful. Here, we'll explore some basic ideas.\n",
        "\n",
        "### Comments\n",
        "\n",
        " In Python, you can add **comments** to your code that the interpreter will ignore during execution. These are used to explain what your code is doing, and they are especially useful when working with others or when you might revisit your code in the future. To create a comment, use the hash symbol (`#`) before your comment.\n",
        "\n",
        " Comments can be used to write **pseudocode**, or a plain-langauge description of what our code does (or we hope that it does!). For example:"
      ],
      "metadata": {
        "id": "DIRs3uoVv_33"
      }
    },
    {
      "cell_type": "code",
      "source": [
        "# This is a comment - it doesn't do anything\n",
        "print(\"Hello, World\") # This line prints \"Hello, World!\""
      ],
      "metadata": {
        "colab": {
          "base_uri": "https://localhost:8080/"
        },
        "id": "z32cf1KrwLEs",
        "outputId": "a4a24cf2-ca68-4b43-d7be-82bfc2b0ee01"
      },
      "execution_count": null,
      "outputs": [
        {
          "output_type": "stream",
          "name": "stdout",
          "text": [
            "Hello, World\n"
          ]
        }
      ]
    },
    {
      "cell_type": "markdown",
      "source": [
        " ### Variables\n",
        " In Python, a **variable** is a named location used to store data in the memory. You create a variable by assigning a value to it with an equals sign (`=`). The variable can then be used elsewhere in your code to refer to that value. Python is dynamically-typed, which means you don't have to declare the data type of the variable when you create it, unlike some other languages. Common data types include:\n",
        "\n",
        "| Data Type | Description | Example |\n",
        "| ----------- | ----------- | ----------- |\n",
        "| int | Integer | A whole number, such as 1, 100, or -12345. |\n",
        "| float | Floating-point number | A number with a decimal point, such as 1.2345, -3.1415, or 0.0001. |\n",
        "| str | String | A sequence of characters, such as \"Hello, world!\", \"This is a string\", or '12345'. |\n",
        "| bool | Boolean | A value that can be either True or False. |\n",
        "| list | List of values | A sequence of values that can be heterogeneous, meaning it can contain values of different data types. Examples of lists are [1, 2, 3], [\"Hello\", \"world!\"], and [1.2345, -3.1415]. |\n",
        "\n",
        "\n",
        "\n",
        "\n",
        "Here's an example of declaring and using variables:"
      ],
      "metadata": {
        "id": "1TMSuj0ZxL_J"
      }
    },
    {
      "cell_type": "code",
      "source": [
        "# Assigning values to variables\n",
        "speed = 60  # This is an integer variable\n",
        "time = 2.5  # This is a float variable\n",
        "vehicle = 'Bus'  # This is a string variable\n",
        "\n",
        "# Using the variables\n",
        "distance = speed * time  # This calculates distance by multiplying speed and time\n",
        "print(distance) # prints the result"
      ],
      "metadata": {
        "colab": {
          "base_uri": "https://localhost:8080/"
        },
        "id": "uYLGw2UMxgkj",
        "outputId": "08914254-6672-4a1c-8cc1-e7408a2614ac"
      },
      "execution_count": null,
      "outputs": [
        {
          "output_type": "stream",
          "name": "stdout",
          "text": [
            "150.0\n"
          ]
        }
      ]
    },
    {
      "cell_type": "markdown",
      "source": [
        "In the above example, 'speed', 'time', and 'vehicle' are variables, which hold values 60, 2.5, and 'Bus', respectively. The 'distance' variable is calculated by multiplying the 'speed' and 'time' variables."
      ],
      "metadata": {
        "id": "adMFzQLrzRl3"
      }
    },
    {
      "cell_type": "markdown",
      "source": [
        "## Basic Math\n",
        "\n",
        "Python uses basic arithmetic operators for performing mathematical operations, and these can be used with numeric variables or directly with numbers.\n",
        "\n",
        "-   Addition (+): `3 + 4` will give `7`\n",
        "-   Subtraction (-): `10 - 3` will give `7`\n",
        "-   Multiplication (*): `4 * 5` will give `20`\n",
        "-   Division (/): `10 / 2` will give `5.0`\n",
        "-   Floor Division (//): `10 // 3` will give `3`. This operator performs integer or floor division, i.e., it returns the largest possible integer.\n",
        "-   Modulus (%): `10 % 3` will give `1`. This operator returns the remainder of the division.\n",
        "-   Exponentiation (\\*\\*): `2 ** 3` will give `8`. This operator raises the number to its left to the power of the number to its right.\n",
        "\n",
        "For example:"
      ],
      "metadata": {
        "id": "9Gf_ppWozS2G"
      }
    },
    {
      "cell_type": "code",
      "source": [
        "# Variables\n",
        "a = 10\n",
        "b = 3\n",
        "\n",
        "# Arithmetic operations\n",
        "addition = a + b  # results in 13\n",
        "subtraction = a - b  # results in 7\n",
        "multiplication = a * b  # results in 30\n",
        "division = a / b  # results in 3.3333333333333335\n",
        "floor_division = a // b  # results in 3\n",
        "modulus = a % b  # results in 1\n",
        "exponentiation = a ** b  # results in 1000\n",
        "\n",
        "# Print the results\n",
        "print(\"Addition:\", addition)\n",
        "print(\"Subtraction:\", subtraction)\n",
        "print(\"Multiplication:\", multiplication)\n",
        "print(\"Division:\", division)\n",
        "print(\"Floor division:\", floor_division)\n",
        "print(\"Modulus:\", modulus)\n",
        "print(\"Exponentiation:\", exponentiation)\n"
      ],
      "metadata": {
        "colab": {
          "base_uri": "https://localhost:8080/"
        },
        "id": "VbMVdJIizlys",
        "outputId": "f8cea880-2417-4b23-9f4c-3b361f759091"
      },
      "execution_count": null,
      "outputs": [
        {
          "output_type": "stream",
          "name": "stdout",
          "text": [
            "Addition: 13\n",
            "Subtraction: 7\n",
            "Multiplication: 30\n",
            "Division: 3.3333333333333335\n",
            "Floor division: 3\n",
            "Modulus: 1\n",
            "Exponentiation: 1000\n"
          ]
        }
      ]
    },
    {
      "cell_type": "markdown",
      "source": [
        "## Calling a Function with Parameters\n",
        "\n",
        "A **function** in Python is a reusable block of code that performs a specific task. You can use a function by \"calling\" it by its name, followed by parentheses. Some functions accept **parameters**, which are values that the function uses to perform its task.\n",
        "\n",
        "A very basic example of a function is the `print()` function. The `print()` function outputs the value of its parameter(s) to the screen. For example:"
      ],
      "metadata": {
        "id": "CSVECv-71K0L"
      }
    },
    {
      "cell_type": "code",
      "source": [
        "print(\"Hello, World\")"
      ],
      "metadata": {
        "colab": {
          "base_uri": "https://localhost:8080/"
        },
        "id": "WHPZ84jDzQ58",
        "outputId": "8ba9f31a-f929-43dc-8332-abc6f0868ace"
      },
      "execution_count": null,
      "outputs": [
        {
          "output_type": "stream",
          "name": "stdout",
          "text": [
            "Hello, World\n"
          ]
        }
      ]
    },
    {
      "cell_type": "markdown",
      "source": [
        "In this example, the string \"Hello, world!\" is a parameter to the `print()` function. When you run this code, Python calls the `print()` function, passing in \"Hello, world!\" as the parameter, and the `print()` function outputs \"Hello, world!\" to the screen.\n",
        "\n",
        "Functions can take multiple parameters. For instance, the `print()` function can take multiple parameters and will print all of them, separated by spaces. For example:"
      ],
      "metadata": {
        "id": "t4YAPoFn1Vlq"
      }
    },
    {
      "cell_type": "code",
      "source": [
        "print(\"Hello\",\"World\")"
      ],
      "metadata": {
        "colab": {
          "base_uri": "https://localhost:8080/"
        },
        "id": "9C-OCf8k1XF7",
        "outputId": "1a8d0d9e-4063-4c95-f03c-f66b8584cd56"
      },
      "execution_count": null,
      "outputs": [
        {
          "output_type": "stream",
          "name": "stdout",
          "text": [
            "Hello World\n"
          ]
        }
      ]
    },
    {
      "cell_type": "markdown",
      "source": [
        "This code will output: Hello, world!"
      ],
      "metadata": {
        "id": "Ar3juKSm1eRF"
      }
    },
    {
      "cell_type": "markdown",
      "source": [
        "### Basic Python Functions Useful in Data Science\n",
        "\n",
        "Python includes many built-in functions that can be particularly useful in data science. Let's take a look at a few examples:\n",
        "\n",
        "| Function | Description |\n",
        "| --- | --- |\n",
        "| `len(x)` | Returns the length (the number of items) of an object `x`. This is often used when you want to know how many items are in a list, string, dictionary, or other Python collection. |\n",
        "| `sum(x)` | Returns the sum of all items in an iterable `x` (like a list or a tuple). Useful when you need to add up all the numbers in a collection. |\n",
        "| `min(x)` | Returns the smallest item in an iterable `x`. Handy for finding the smallest number in a list, the earliest date in a timeline, or the shortest string in a collection, etc. |\n",
        "| `max(x)` | Returns the largest item in an iterable `x`. Opposite of `min(x)`, it's useful for finding the largest number, the latest date, the longest string, etc. |\n",
        "| `type(x)` | Returns the type of an object `x`. This can be helpful for understanding the data you're working with, especially when you're dealing with different data types (like integers, floats, strings, lists, etc.). |\n",
        "| `round(x, n)` | Returns a floating point number that is a rounded version of the specified number `x`, with `n` number of decimals. This is useful when you need to display a number with a specific number of deci |\n",
        "\n",
        "Here are some examples:"
      ],
      "metadata": {
        "id": "HEeFBYoL1fMj"
      }
    },
    {
      "cell_type": "code",
      "source": [
        "# Define a list of numbers\n",
        "numbers = [4.75, 3.12, 7.64, 5.29, 6.99, 1.75, 8.64, 3.33]\n",
        "\n",
        "# Print the length of the list\n",
        "print(\"Length of the list:\", len(numbers))\n",
        "\n",
        "# Print the sum of the numbers\n",
        "print(\"Sum of the numbers:\", sum(numbers))\n",
        "\n",
        "# Print the minimum number\n",
        "print(\"Minimum number:\", min(numbers))\n",
        "\n",
        "# Print the maximum number\n",
        "print(\"Maximum number:\", max(numbers))\n",
        "\n",
        "# Print the type of the list\n",
        "print(\"Type of the list:\", type(numbers))\n",
        "\n",
        "# Print a rounded version of the first number\n",
        "print(\"Rounded first number:\", round(numbers[0], 2))\n"
      ],
      "metadata": {
        "colab": {
          "base_uri": "https://localhost:8080/"
        },
        "id": "MNSRdWLB2XaI",
        "outputId": "15429402-4aa9-47e7-c040-39b30d15df24"
      },
      "execution_count": null,
      "outputs": [
        {
          "output_type": "stream",
          "name": "stdout",
          "text": [
            "Length of the list: 8\n",
            "Sum of the numbers: 41.51\n",
            "Minimum number: 1.75\n",
            "Maximum number: 8.64\n",
            "Type of the list: <class 'list'>\n",
            "Rounded first number: 4.75\n"
          ]
        }
      ]
    },
    {
      "cell_type": "markdown",
      "source": [
        "## Jupyter Notebooks and Google Colab\n",
        "\n",
        "This textbook is provided as a set of **Jupyter Notebooks** written using **Google Colab.** (If you are reading a hard copy or PDF, the link should be in the introduction). Jupyter notebooks and Google Colab are interactive environments that allow you to write and execute Python code in \"cells\", making the coding process more flexible and controllable. They have become very popular tools in data science due to their user-friendly nature, as well as their unique blend of features.\n",
        "\n",
        "A Jupyter notebook is a web-based interface that allows for the creation of documents that can contain live code, equations, visualizations, and explanatory text. This combination of elements makes them excellent for creating and sharing data science projects, as they allow for code, visual output, and explanatory text to be bundled together.\n",
        "\n",
        "Google Colab, short for Colaboratory, is a free Jupyter notebook environment that runs entirely in the cloud. It allows you to write and execute Python code right in your browser, with no setup required and easy access to resources like GPUs.\n",
        "\n",
        "These are widely-used tools in data science, for a number of reasons:\n",
        "\n",
        "1.  Interactive Programming: Both Jupyter notebooks and Google Colab offer an interactive programming environment where you can write a piece of code and run it to see its output immediately. This makes it easier to experiment, debug, and make incremental progress on your work.\n",
        "\n",
        "2.  Rich Output: Jupyter notebooks and Google Colab support rich output, meaning your code can produce more than just text. Outputs like charts, images, tables, or even interactive widgets can be created and rendered right in your notebook. This is particularly useful in data science, where visualizing data is often key to understanding it.\n",
        "\n",
        "3.  Documentation and Sharing: With Jupyter notebooks and Google Colab, you can intersperse code with text explanations, mathematical equations, and markdown formatting to document your work. This makes your work more understandable for others (and for yourself, when you look back on your work later!). Additionally, these notebooks can be easily shared, published, and even turned into slideshows or web pages, making them a great tool for collaborative work and reporting.\n",
        "\n",
        "4.  Accessibility and Compatibility: Jupyter notebooks can be run on any operating system (Windows, MacOS, Linux). Google Colab is even more accessible -- as a web application, it can be accessed from any device with an internet connection and a web browser. This also means you don't need a powerful computer to do intensive computations, as you can utilize Google's hardware.\n",
        "\n",
        "5.  Integration with Data Science Tools: Both Jupyter notebooks and Google Colab are compatible with many popular data science libraries, such as NumPy, Pandas, Matplotlib, and Scikit-Learn, allowing you to use these powerful tools right within your notebooks.\n",
        "\n",
        "In summary, Jupyter notebooks and Google Colab provide an interactive, versatile, and accessible platform for performing and sharing data science work, which makes them invaluable tools in this field."
      ],
      "metadata": {
        "id": "mxioIQ4b27Ky"
      }
    },
    {
      "cell_type": "markdown",
      "source": [
        "## Basic Operations in Google Colab\n",
        "\n",
        "Google Colab is a very user-friendly tool and doing basic operations is quite straightforward. Let's go through some of these basic operations.\n",
        "\n",
        "1.  Adding a Text Cell: To add a text cell, you can either click on `+ Text` in the top left corner of the screen or use the shortcut `Ctrl + M` then `T`. Text cells can contain notes, formatted text via markdown, mathematical equations written in LaTeX, HTML code, and even images.\n",
        "\n",
        "2.  Adding a Code Cell: To add a code cell, you can either click on `+ Code` in the top left corner or use the shortcut `Ctrl + M` then `C`. Code cells are used to write and run Python code.\n",
        "\n",
        "3.  Editing a Cell: To edit a cell, simply click on the cell and start typing. For text cells, clicking on the cell will open the markdown editor. For code cells, clicking on the cell will allow you to start typing code.\n",
        "\n",
        "4.  Running a Code Cell: To run a code cell, you can click on the play button on the left of the cell or use the shortcut `Ctrl + Enter`. If you want to run the cell and then automatically select the next cell, you can use `Shift + Enter` instead.\n",
        "\n",
        "5.  Saving a Notebook: Google Colab automatically saves your notebook to Google Drive as you work, but if you want to manually save, you can use the shortcut `Ctrl + S` or click on `File` in the menu, then `Save`.\n",
        "\n",
        "6.  Downloading a Notebook: To download your notebook, you can go to `File` in the menu, then `Download .ipynb` or `Download .py`. The `.ipynb` format is a Jupyter Notebook, and the `.py` format is a Python script."
      ],
      "metadata": {
        "id": "rAe5a5A04ApM"
      }
    },
    {
      "cell_type": "markdown",
      "source": [
        "## Exercise: Basic Python\n",
        "\n",
        "Create your own \"copy\" of this notebook (if you haven't already). Now complete each of the following exercises in the \"code cells\" just below the problems.\n",
        "1.  Write a Python script with at least three comments, where each comment explains what the following line of code does.\n",
        "\n",
        "2.  Declare five variables with the following names and values: 'year' (2023), 'month' (7), 'day' (13), 'hour' (12), 'minute' (30). Use the print() function to display the value of each variable.\n",
        "\n",
        "3.  Perform the following operations in Python, printing the result of each operation:\n",
        "\n",
        "    -   Add 123 and 456\n",
        "    -   Subtract 789 from 123\n",
        "    -   Multiply 321 by 654\n",
        "    -   Divide 987 by 321\n",
        "    -   Use floor division to divide 654 by 321\n",
        "    -   Get the remainder of the division of 789 by 123\n",
        "    -   Raise 2 to the power of 10\n",
        "4.  Write a Python script to calculate the area of a circle with a radius of 10 (Area = pi * radius^2). You can use 3.14 as the value of pi.\n",
        "\n",
        "5.  Call the print() function with the parameters 'Hello,', 'I', 'am', 'learning', 'Python!'. Notice how Python adds spaces between the parameters.\n",
        "\n",
        "6.  Define a list of numbers: 5, 10, 15, 20, 25. Use the len() function to print the length of the list.\n",
        "\n",
        "7.  Still using the list from exercise 6, use the sum() function to print the sum of the numbers in the list.\n",
        "\n",
        "8.  Now, use the min() function to print the smallest number in the list, and the max() function to print the largest number in the list.\n"
      ],
      "metadata": {
        "id": "mwySrPZWmpgA"
      }
    },
    {
      "cell_type": "code",
      "source": [
        "# Problem 1"
      ],
      "metadata": {
        "id": "vz3efRm0nHzp"
      },
      "execution_count": null,
      "outputs": []
    },
    {
      "cell_type": "code",
      "source": [
        "# Problem 2"
      ],
      "metadata": {
        "id": "wjcC24hEnH_O"
      },
      "execution_count": null,
      "outputs": []
    },
    {
      "cell_type": "code",
      "source": [
        "# Problem 3"
      ],
      "metadata": {
        "id": "53AkJEamnIDm"
      },
      "execution_count": null,
      "outputs": []
    },
    {
      "cell_type": "code",
      "source": [
        "# Problem 4"
      ],
      "metadata": {
        "id": "955U0qJHnIHq"
      },
      "execution_count": null,
      "outputs": []
    },
    {
      "cell_type": "code",
      "source": [
        "# Problem 5"
      ],
      "metadata": {
        "id": "hPn5ePHSnILW"
      },
      "execution_count": null,
      "outputs": []
    },
    {
      "cell_type": "code",
      "source": [
        "# Problem 6"
      ],
      "metadata": {
        "id": "2B07Df28nIPf"
      },
      "execution_count": null,
      "outputs": []
    },
    {
      "cell_type": "code",
      "source": [
        "# Problem 7"
      ],
      "metadata": {
        "id": "Z5ipKpwJnIT4"
      },
      "execution_count": null,
      "outputs": []
    },
    {
      "cell_type": "code",
      "source": [
        "# Problem 8"
      ],
      "metadata": {
        "id": "TOL7U3junIYV"
      },
      "execution_count": null,
      "outputs": []
    },
    {
      "cell_type": "markdown",
      "source": [
        "## Getting to Know the mtcars Dataset\n",
        "OK, let's get start exploring some data. We'll start with the `mtcars` dataset, a treasure trove of information about 32 different car models, specifically the 1973--74 models featured in the 1974 issue of Motor Trend US magazine. It's a rich dataset filled with various attributes of these cars, including:\n",
        "\n",
        "1.  `mpg`: How many miles can the car travel per US gallon? More is generally better!\n",
        "2.  `cyl`: The number of cylinders in the car's engine. More cylinders usually mean more power!\n",
        "3.  `disp`: The car's displacement, or the total volume of all the cylinders in its engine, measured in cubic inches.\n",
        "4.  `hp`: The gross horsepower of the car, a measure of how powerful the car's engine is.\n",
        "5.  `drat`: The rear axle ratio, which affects the car's performance and fuel efficiency.\n",
        "6.  `wt`: How much does the car weigh (in 1000 lbs units)?\n",
        "7.  `qsec`: The time the car takes to cover a quarter of a mile. Faster is usually more fun!\n",
        "8.  `vs`: A binary variable indicating the engine shape (V/S).\n",
        "9.  `am`: Is the car automatic (0) or manual (1)?\n",
        "10. `gear`: How many forward gears does the car have?\n",
        "11. `carb`: How many carburetors does the car have?\n",
        "\n",
        "Why are we using the mtcars dataset?  There are several reasons:\n",
        "\n",
        "1.  Manageable Size: The 'mtcars' dataset isn't too big or too small. It's just the right size for you to get your hands dirty without feeling overwhelmed.\n",
        "\n",
        "2.  Variety of Data Types: This dataset is like a mini buffet of data types. You'll get to work with continuous, discrete, and categorical variables - a perfect playground to start practicing!\n",
        "\n",
        "3.  Real-world Data: While it's a bit old (cars have changed quite a bit since the 1970s), this data is from real cars. So, you'll be applying your new data science skills to real-world examples, making your learning experience more relatable and practical.\n",
        "\n",
        "4.  Exploration Opportunities: The 'mtcars' dataset has enough depth to keep things interesting. You can try out different analysis techniques, ask various questions, and discover meaningful insights.\n",
        "\n",
        "Learning with the 'mtcars' dataset is like learning to drive in a safe, controlled environment before hitting the highway. It's designed to give you a solid foundation and make your first steps in data science as enjoyable and educational as possible! So, buckle up and let's dive in!"
      ],
      "metadata": {
        "id": "YAGxXPTAELhl"
      }
    },
    {
      "cell_type": "markdown",
      "source": [
        "## Loading the mtcars Dataset\n",
        "**Data loading** is the first, and one of the most crucial steps, in your data science journey. Here, we fetch the data from a specific source and load it into our Python environment.\n",
        "\n",
        "So, let's go ahead and load our first dataset, the 'mtcars' dataset!"
      ],
      "metadata": {
        "id": "u9GL6RClGJja"
      }
    },
    {
      "cell_type": "code",
      "execution_count": null,
      "metadata": {
        "colab": {
          "base_uri": "https://localhost:8080/",
          "height": 206
        },
        "id": "1ko1BU0oqxTI",
        "outputId": "7c5ca463-0bda-4753-84d8-62212475d879"
      },
      "outputs": [
        {
          "output_type": "execute_result",
          "data": {
            "text/plain": [
              "                    mpg  cyl   disp   hp  drat     wt   qsec  vs  am  gear  \\\n",
              "Mazda RX4          21.0    6  160.0  110  3.90  2.620  16.46   0   1     4   \n",
              "Mazda RX4 Wag      21.0    6  160.0  110  3.90  2.875  17.02   0   1     4   \n",
              "Datsun 710         22.8    4  108.0   93  3.85  2.320  18.61   1   1     4   \n",
              "Hornet 4 Drive     21.4    6  258.0  110  3.08  3.215  19.44   1   0     3   \n",
              "Hornet Sportabout  18.7    8  360.0  175  3.15  3.440  17.02   0   0     3   \n",
              "\n",
              "                   carb  \n",
              "Mazda RX4             4  \n",
              "Mazda RX4 Wag         4  \n",
              "Datsun 710            1  \n",
              "Hornet 4 Drive        1  \n",
              "Hornet Sportabout     2  "
            ],
            "text/html": [
              "\n",
              "\n",
              "  <div id=\"df-b4765723-a398-4b54-b140-551eec8b19b7\">\n",
              "    <div class=\"colab-df-container\">\n",
              "      <div>\n",
              "<style scoped>\n",
              "    .dataframe tbody tr th:only-of-type {\n",
              "        vertical-align: middle;\n",
              "    }\n",
              "\n",
              "    .dataframe tbody tr th {\n",
              "        vertical-align: top;\n",
              "    }\n",
              "\n",
              "    .dataframe thead th {\n",
              "        text-align: right;\n",
              "    }\n",
              "</style>\n",
              "<table border=\"1\" class=\"dataframe\">\n",
              "  <thead>\n",
              "    <tr style=\"text-align: right;\">\n",
              "      <th></th>\n",
              "      <th>mpg</th>\n",
              "      <th>cyl</th>\n",
              "      <th>disp</th>\n",
              "      <th>hp</th>\n",
              "      <th>drat</th>\n",
              "      <th>wt</th>\n",
              "      <th>qsec</th>\n",
              "      <th>vs</th>\n",
              "      <th>am</th>\n",
              "      <th>gear</th>\n",
              "      <th>carb</th>\n",
              "    </tr>\n",
              "  </thead>\n",
              "  <tbody>\n",
              "    <tr>\n",
              "      <th>Mazda RX4</th>\n",
              "      <td>21.0</td>\n",
              "      <td>6</td>\n",
              "      <td>160.0</td>\n",
              "      <td>110</td>\n",
              "      <td>3.90</td>\n",
              "      <td>2.620</td>\n",
              "      <td>16.46</td>\n",
              "      <td>0</td>\n",
              "      <td>1</td>\n",
              "      <td>4</td>\n",
              "      <td>4</td>\n",
              "    </tr>\n",
              "    <tr>\n",
              "      <th>Mazda RX4 Wag</th>\n",
              "      <td>21.0</td>\n",
              "      <td>6</td>\n",
              "      <td>160.0</td>\n",
              "      <td>110</td>\n",
              "      <td>3.90</td>\n",
              "      <td>2.875</td>\n",
              "      <td>17.02</td>\n",
              "      <td>0</td>\n",
              "      <td>1</td>\n",
              "      <td>4</td>\n",
              "      <td>4</td>\n",
              "    </tr>\n",
              "    <tr>\n",
              "      <th>Datsun 710</th>\n",
              "      <td>22.8</td>\n",
              "      <td>4</td>\n",
              "      <td>108.0</td>\n",
              "      <td>93</td>\n",
              "      <td>3.85</td>\n",
              "      <td>2.320</td>\n",
              "      <td>18.61</td>\n",
              "      <td>1</td>\n",
              "      <td>1</td>\n",
              "      <td>4</td>\n",
              "      <td>1</td>\n",
              "    </tr>\n",
              "    <tr>\n",
              "      <th>Hornet 4 Drive</th>\n",
              "      <td>21.4</td>\n",
              "      <td>6</td>\n",
              "      <td>258.0</td>\n",
              "      <td>110</td>\n",
              "      <td>3.08</td>\n",
              "      <td>3.215</td>\n",
              "      <td>19.44</td>\n",
              "      <td>1</td>\n",
              "      <td>0</td>\n",
              "      <td>3</td>\n",
              "      <td>1</td>\n",
              "    </tr>\n",
              "    <tr>\n",
              "      <th>Hornet Sportabout</th>\n",
              "      <td>18.7</td>\n",
              "      <td>8</td>\n",
              "      <td>360.0</td>\n",
              "      <td>175</td>\n",
              "      <td>3.15</td>\n",
              "      <td>3.440</td>\n",
              "      <td>17.02</td>\n",
              "      <td>0</td>\n",
              "      <td>0</td>\n",
              "      <td>3</td>\n",
              "      <td>2</td>\n",
              "    </tr>\n",
              "  </tbody>\n",
              "</table>\n",
              "</div>\n",
              "      <button class=\"colab-df-convert\" onclick=\"convertToInteractive('df-b4765723-a398-4b54-b140-551eec8b19b7')\"\n",
              "              title=\"Convert this dataframe to an interactive table.\"\n",
              "              style=\"display:none;\">\n",
              "\n",
              "  <svg xmlns=\"http://www.w3.org/2000/svg\" height=\"24px\"viewBox=\"0 0 24 24\"\n",
              "       width=\"24px\">\n",
              "    <path d=\"M0 0h24v24H0V0z\" fill=\"none\"/>\n",
              "    <path d=\"M18.56 5.44l.94 2.06.94-2.06 2.06-.94-2.06-.94-.94-2.06-.94 2.06-2.06.94zm-11 1L8.5 8.5l.94-2.06 2.06-.94-2.06-.94L8.5 2.5l-.94 2.06-2.06.94zm10 10l.94 2.06.94-2.06 2.06-.94-2.06-.94-.94-2.06-.94 2.06-2.06.94z\"/><path d=\"M17.41 7.96l-1.37-1.37c-.4-.4-.92-.59-1.43-.59-.52 0-1.04.2-1.43.59L10.3 9.45l-7.72 7.72c-.78.78-.78 2.05 0 2.83L4 21.41c.39.39.9.59 1.41.59.51 0 1.02-.2 1.41-.59l7.78-7.78 2.81-2.81c.8-.78.8-2.07 0-2.86zM5.41 20L4 18.59l7.72-7.72 1.47 1.35L5.41 20z\"/>\n",
              "  </svg>\n",
              "      </button>\n",
              "\n",
              "\n",
              "\n",
              "    <div id=\"df-bebf9110-d48a-4c0d-9d21-96faf4cc40c9\">\n",
              "      <button class=\"colab-df-quickchart\" onclick=\"quickchart('df-bebf9110-d48a-4c0d-9d21-96faf4cc40c9')\"\n",
              "              title=\"Suggest charts.\"\n",
              "              style=\"display:none;\">\n",
              "\n",
              "<svg xmlns=\"http://www.w3.org/2000/svg\" height=\"24px\"viewBox=\"0 0 24 24\"\n",
              "     width=\"24px\">\n",
              "    <g>\n",
              "        <path d=\"M19 3H5c-1.1 0-2 .9-2 2v14c0 1.1.9 2 2 2h14c1.1 0 2-.9 2-2V5c0-1.1-.9-2-2-2zM9 17H7v-7h2v7zm4 0h-2V7h2v10zm4 0h-2v-4h2v4z\"/>\n",
              "    </g>\n",
              "</svg>\n",
              "      </button>\n",
              "    </div>\n",
              "\n",
              "<style>\n",
              "  .colab-df-quickchart {\n",
              "    background-color: #E8F0FE;\n",
              "    border: none;\n",
              "    border-radius: 50%;\n",
              "    cursor: pointer;\n",
              "    display: none;\n",
              "    fill: #1967D2;\n",
              "    height: 32px;\n",
              "    padding: 0 0 0 0;\n",
              "    width: 32px;\n",
              "  }\n",
              "\n",
              "  .colab-df-quickchart:hover {\n",
              "    background-color: #E2EBFA;\n",
              "    box-shadow: 0px 1px 2px rgba(60, 64, 67, 0.3), 0px 1px 3px 1px rgba(60, 64, 67, 0.15);\n",
              "    fill: #174EA6;\n",
              "  }\n",
              "\n",
              "  [theme=dark] .colab-df-quickchart {\n",
              "    background-color: #3B4455;\n",
              "    fill: #D2E3FC;\n",
              "  }\n",
              "\n",
              "  [theme=dark] .colab-df-quickchart:hover {\n",
              "    background-color: #434B5C;\n",
              "    box-shadow: 0px 1px 3px 1px rgba(0, 0, 0, 0.15);\n",
              "    filter: drop-shadow(0px 1px 2px rgba(0, 0, 0, 0.3));\n",
              "    fill: #FFFFFF;\n",
              "  }\n",
              "</style>\n",
              "\n",
              "    <script>\n",
              "      async function quickchart(key) {\n",
              "        const containerElement = document.querySelector('#' + key);\n",
              "        const charts = await google.colab.kernel.invokeFunction(\n",
              "            'suggestCharts', [key], {});\n",
              "      }\n",
              "    </script>\n",
              "\n",
              "      <script>\n",
              "\n",
              "function displayQuickchartButton(domScope) {\n",
              "  let quickchartButtonEl =\n",
              "    domScope.querySelector('#df-bebf9110-d48a-4c0d-9d21-96faf4cc40c9 button.colab-df-quickchart');\n",
              "  quickchartButtonEl.style.display =\n",
              "    google.colab.kernel.accessAllowed ? 'block' : 'none';\n",
              "}\n",
              "\n",
              "        displayQuickchartButton(document);\n",
              "      </script>\n",
              "      <style>\n",
              "    .colab-df-container {\n",
              "      display:flex;\n",
              "      flex-wrap:wrap;\n",
              "      gap: 12px;\n",
              "    }\n",
              "\n",
              "    .colab-df-convert {\n",
              "      background-color: #E8F0FE;\n",
              "      border: none;\n",
              "      border-radius: 50%;\n",
              "      cursor: pointer;\n",
              "      display: none;\n",
              "      fill: #1967D2;\n",
              "      height: 32px;\n",
              "      padding: 0 0 0 0;\n",
              "      width: 32px;\n",
              "    }\n",
              "\n",
              "    .colab-df-convert:hover {\n",
              "      background-color: #E2EBFA;\n",
              "      box-shadow: 0px 1px 2px rgba(60, 64, 67, 0.3), 0px 1px 3px 1px rgba(60, 64, 67, 0.15);\n",
              "      fill: #174EA6;\n",
              "    }\n",
              "\n",
              "    [theme=dark] .colab-df-convert {\n",
              "      background-color: #3B4455;\n",
              "      fill: #D2E3FC;\n",
              "    }\n",
              "\n",
              "    [theme=dark] .colab-df-convert:hover {\n",
              "      background-color: #434B5C;\n",
              "      box-shadow: 0px 1px 3px 1px rgba(0, 0, 0, 0.15);\n",
              "      filter: drop-shadow(0px 1px 2px rgba(0, 0, 0, 0.3));\n",
              "      fill: #FFFFFF;\n",
              "    }\n",
              "  </style>\n",
              "\n",
              "      <script>\n",
              "        const buttonEl =\n",
              "          document.querySelector('#df-b4765723-a398-4b54-b140-551eec8b19b7 button.colab-df-convert');\n",
              "        buttonEl.style.display =\n",
              "          google.colab.kernel.accessAllowed ? 'block' : 'none';\n",
              "\n",
              "        async function convertToInteractive(key) {\n",
              "          const element = document.querySelector('#df-b4765723-a398-4b54-b140-551eec8b19b7');\n",
              "          const dataTable =\n",
              "            await google.colab.kernel.invokeFunction('convertToInteractive',\n",
              "                                                     [key], {});\n",
              "          if (!dataTable) return;\n",
              "\n",
              "          const docLinkHtml = 'Like what you see? Visit the ' +\n",
              "            '<a target=\"_blank\" href=https://colab.research.google.com/notebooks/data_table.ipynb>data table notebook</a>'\n",
              "            + ' to learn more about interactive tables.';\n",
              "          element.innerHTML = '';\n",
              "          dataTable['output_type'] = 'display_data';\n",
              "          await google.colab.output.renderOutput(dataTable, element);\n",
              "          const docLink = document.createElement('div');\n",
              "          docLink.innerHTML = docLinkHtml;\n",
              "          element.appendChild(docLink);\n",
              "        }\n",
              "      </script>\n",
              "    </div>\n",
              "  </div>\n"
            ]
          },
          "metadata": {},
          "execution_count": 4
        }
      ],
      "source": [
        "!pip install pydataset -q # Install required packages\n",
        "from pydataset import data # Import required modules\n",
        "import pandas as pd # More on this below\n",
        "\n",
        "mtcars_df = data('mtcars') # Load the mtcars dataset\n",
        "\n",
        "mtcars_df.head() # display first five rows\n"
      ]
    },
    {
      "cell_type": "markdown",
      "source": [
        "What's happening in this code?  Let's break it down:\n",
        "\n",
        "1.  `!pip install pydataset -q`: This line uses pip, Python's package manager, to install the 'pydataset' package. The 'pydataset' package contains a variety of datasets, including 'mtcars'. The `-q` flag stands for 'quiet', which means pip won't display all the download details. This keeps our notebook clean and tidy.\n",
        "\n",
        "2.  `from pydataset import data` & `import pandas as pd`: These lines import the necessary modules for our task. The 'data' function from the 'pydataset' package allows us to load datasets. 'pandas' is a powerful library for data manipulation and analysis in Python, and we import it with the alias 'pd' for convenience.\n",
        "\n",
        "3.  `mtcars_df = data('mtcars')`: Here, we're calling the 'data' function and passing 'mtcars' as the argument. This function fetches the 'mtcars' dataset and loads it into our Python environment. We assign this dataset to the variable `mtcars_df` so we can work with it in the future.\n",
        "\n",
        "4.  `dataset.head()`: Finally, we use the 'head' function to display the first five rows of our dataset. This is like peeking into the dataset, giving us a glimpse of what we're working with.\n",
        "\n",
        "You've successfully loaded your first dataset! This process of loading and inspecting data is fundamental in any data science project. It sets the stage for all the exciting analyses to come. Now, get ready to dive deeper into data exploration in the upcoming sections!"
      ],
      "metadata": {
        "id": "8-cSbwV8G_ZR"
      }
    },
    {
      "cell_type": "markdown",
      "source": [
        "## Understanding DataFrames in Python\n",
        "\n",
        "A DataFrame is a fundamental concept you'll come across frequently in your data science journey. So, what exactly is a DataFrame?\n",
        "\n",
        "A DataFrame, in Python, is essentially a table of data. It's a two-dimensional structure that organizes data into rows and columns, much like a spreadsheet or a SQL table. This organized structure allows for easy access and manipulation of data.\n",
        "\n",
        "Here are a few important characteristics of DataFrames:\n",
        "\n",
        "1.  Two-dimensional: A DataFrame has both rows and columns. Each row represents a separate observation (or instance), and each column represents a different attribute or feature of that observation.\n",
        "\n",
        "2.  Size-mutable: You can change the size of a DataFrame by adding or removing rows or columns. This is particularly useful when you need to clean your data or prepare it for analysis.\n",
        "\n",
        "3.  Heterogeneous: Each column in a DataFrame can contain different data types. This means you can have columns with integers, strings, floats, and even complex data types like lists or other DataFrames, all within the same DataFrame.\n",
        "\n",
        "4.  Labelled axes: Each row and column in a DataFrame has a label. Columns are typically labeled with variable names, and rows are typically labeled with an index, which can be like a serial number or a unique identifier for each row.\n",
        "\n",
        "Let's relate this to our 'mtcars' dataset. When we loaded the 'mtcars' dataset, we loaded it into a DataFrame. Each row in this DataFrame represents a different car model, and each column represents different attributes of these car models, like miles per gallon (`mpg`), number of cylinders (`cyl`), and weight (`wt`), among others.\n",
        "\n",
        "Here's what the first five rows of our DataFrame look like:"
      ],
      "metadata": {
        "id": "KDrYTtgHIhJ2"
      }
    },
    {
      "cell_type": "code",
      "source": [
        "mtcars_df.head()"
      ],
      "metadata": {
        "colab": {
          "base_uri": "https://localhost:8080/",
          "height": 206
        },
        "id": "zuFdZWkQIj9G",
        "outputId": "481a6e0c-d710-40de-ed19-7f8203ffe2fe"
      },
      "execution_count": null,
      "outputs": [
        {
          "output_type": "execute_result",
          "data": {
            "text/plain": [
              "                    mpg  cyl   disp   hp  drat     wt   qsec  vs  am  gear  \\\n",
              "Mazda RX4          21.0    6  160.0  110  3.90  2.620  16.46   0   1     4   \n",
              "Mazda RX4 Wag      21.0    6  160.0  110  3.90  2.875  17.02   0   1     4   \n",
              "Datsun 710         22.8    4  108.0   93  3.85  2.320  18.61   1   1     4   \n",
              "Hornet 4 Drive     21.4    6  258.0  110  3.08  3.215  19.44   1   0     3   \n",
              "Hornet Sportabout  18.7    8  360.0  175  3.15  3.440  17.02   0   0     3   \n",
              "\n",
              "                   carb  \n",
              "Mazda RX4             4  \n",
              "Mazda RX4 Wag         4  \n",
              "Datsun 710            1  \n",
              "Hornet 4 Drive        1  \n",
              "Hornet Sportabout     2  "
            ],
            "text/html": [
              "\n",
              "\n",
              "  <div id=\"df-4977f06d-9494-4dc7-a66e-138bee37727d\">\n",
              "    <div class=\"colab-df-container\">\n",
              "      <div>\n",
              "<style scoped>\n",
              "    .dataframe tbody tr th:only-of-type {\n",
              "        vertical-align: middle;\n",
              "    }\n",
              "\n",
              "    .dataframe tbody tr th {\n",
              "        vertical-align: top;\n",
              "    }\n",
              "\n",
              "    .dataframe thead th {\n",
              "        text-align: right;\n",
              "    }\n",
              "</style>\n",
              "<table border=\"1\" class=\"dataframe\">\n",
              "  <thead>\n",
              "    <tr style=\"text-align: right;\">\n",
              "      <th></th>\n",
              "      <th>mpg</th>\n",
              "      <th>cyl</th>\n",
              "      <th>disp</th>\n",
              "      <th>hp</th>\n",
              "      <th>drat</th>\n",
              "      <th>wt</th>\n",
              "      <th>qsec</th>\n",
              "      <th>vs</th>\n",
              "      <th>am</th>\n",
              "      <th>gear</th>\n",
              "      <th>carb</th>\n",
              "    </tr>\n",
              "  </thead>\n",
              "  <tbody>\n",
              "    <tr>\n",
              "      <th>Mazda RX4</th>\n",
              "      <td>21.0</td>\n",
              "      <td>6</td>\n",
              "      <td>160.0</td>\n",
              "      <td>110</td>\n",
              "      <td>3.90</td>\n",
              "      <td>2.620</td>\n",
              "      <td>16.46</td>\n",
              "      <td>0</td>\n",
              "      <td>1</td>\n",
              "      <td>4</td>\n",
              "      <td>4</td>\n",
              "    </tr>\n",
              "    <tr>\n",
              "      <th>Mazda RX4 Wag</th>\n",
              "      <td>21.0</td>\n",
              "      <td>6</td>\n",
              "      <td>160.0</td>\n",
              "      <td>110</td>\n",
              "      <td>3.90</td>\n",
              "      <td>2.875</td>\n",
              "      <td>17.02</td>\n",
              "      <td>0</td>\n",
              "      <td>1</td>\n",
              "      <td>4</td>\n",
              "      <td>4</td>\n",
              "    </tr>\n",
              "    <tr>\n",
              "      <th>Datsun 710</th>\n",
              "      <td>22.8</td>\n",
              "      <td>4</td>\n",
              "      <td>108.0</td>\n",
              "      <td>93</td>\n",
              "      <td>3.85</td>\n",
              "      <td>2.320</td>\n",
              "      <td>18.61</td>\n",
              "      <td>1</td>\n",
              "      <td>1</td>\n",
              "      <td>4</td>\n",
              "      <td>1</td>\n",
              "    </tr>\n",
              "    <tr>\n",
              "      <th>Hornet 4 Drive</th>\n",
              "      <td>21.4</td>\n",
              "      <td>6</td>\n",
              "      <td>258.0</td>\n",
              "      <td>110</td>\n",
              "      <td>3.08</td>\n",
              "      <td>3.215</td>\n",
              "      <td>19.44</td>\n",
              "      <td>1</td>\n",
              "      <td>0</td>\n",
              "      <td>3</td>\n",
              "      <td>1</td>\n",
              "    </tr>\n",
              "    <tr>\n",
              "      <th>Hornet Sportabout</th>\n",
              "      <td>18.7</td>\n",
              "      <td>8</td>\n",
              "      <td>360.0</td>\n",
              "      <td>175</td>\n",
              "      <td>3.15</td>\n",
              "      <td>3.440</td>\n",
              "      <td>17.02</td>\n",
              "      <td>0</td>\n",
              "      <td>0</td>\n",
              "      <td>3</td>\n",
              "      <td>2</td>\n",
              "    </tr>\n",
              "  </tbody>\n",
              "</table>\n",
              "</div>\n",
              "      <button class=\"colab-df-convert\" onclick=\"convertToInteractive('df-4977f06d-9494-4dc7-a66e-138bee37727d')\"\n",
              "              title=\"Convert this dataframe to an interactive table.\"\n",
              "              style=\"display:none;\">\n",
              "\n",
              "  <svg xmlns=\"http://www.w3.org/2000/svg\" height=\"24px\"viewBox=\"0 0 24 24\"\n",
              "       width=\"24px\">\n",
              "    <path d=\"M0 0h24v24H0V0z\" fill=\"none\"/>\n",
              "    <path d=\"M18.56 5.44l.94 2.06.94-2.06 2.06-.94-2.06-.94-.94-2.06-.94 2.06-2.06.94zm-11 1L8.5 8.5l.94-2.06 2.06-.94-2.06-.94L8.5 2.5l-.94 2.06-2.06.94zm10 10l.94 2.06.94-2.06 2.06-.94-2.06-.94-.94-2.06-.94 2.06-2.06.94z\"/><path d=\"M17.41 7.96l-1.37-1.37c-.4-.4-.92-.59-1.43-.59-.52 0-1.04.2-1.43.59L10.3 9.45l-7.72 7.72c-.78.78-.78 2.05 0 2.83L4 21.41c.39.39.9.59 1.41.59.51 0 1.02-.2 1.41-.59l7.78-7.78 2.81-2.81c.8-.78.8-2.07 0-2.86zM5.41 20L4 18.59l7.72-7.72 1.47 1.35L5.41 20z\"/>\n",
              "  </svg>\n",
              "      </button>\n",
              "\n",
              "\n",
              "\n",
              "    <div id=\"df-9f42bb17-66e3-4691-8c78-600768e47181\">\n",
              "      <button class=\"colab-df-quickchart\" onclick=\"quickchart('df-9f42bb17-66e3-4691-8c78-600768e47181')\"\n",
              "              title=\"Suggest charts.\"\n",
              "              style=\"display:none;\">\n",
              "\n",
              "<svg xmlns=\"http://www.w3.org/2000/svg\" height=\"24px\"viewBox=\"0 0 24 24\"\n",
              "     width=\"24px\">\n",
              "    <g>\n",
              "        <path d=\"M19 3H5c-1.1 0-2 .9-2 2v14c0 1.1.9 2 2 2h14c1.1 0 2-.9 2-2V5c0-1.1-.9-2-2-2zM9 17H7v-7h2v7zm4 0h-2V7h2v10zm4 0h-2v-4h2v4z\"/>\n",
              "    </g>\n",
              "</svg>\n",
              "      </button>\n",
              "    </div>\n",
              "\n",
              "<style>\n",
              "  .colab-df-quickchart {\n",
              "    background-color: #E8F0FE;\n",
              "    border: none;\n",
              "    border-radius: 50%;\n",
              "    cursor: pointer;\n",
              "    display: none;\n",
              "    fill: #1967D2;\n",
              "    height: 32px;\n",
              "    padding: 0 0 0 0;\n",
              "    width: 32px;\n",
              "  }\n",
              "\n",
              "  .colab-df-quickchart:hover {\n",
              "    background-color: #E2EBFA;\n",
              "    box-shadow: 0px 1px 2px rgba(60, 64, 67, 0.3), 0px 1px 3px 1px rgba(60, 64, 67, 0.15);\n",
              "    fill: #174EA6;\n",
              "  }\n",
              "\n",
              "  [theme=dark] .colab-df-quickchart {\n",
              "    background-color: #3B4455;\n",
              "    fill: #D2E3FC;\n",
              "  }\n",
              "\n",
              "  [theme=dark] .colab-df-quickchart:hover {\n",
              "    background-color: #434B5C;\n",
              "    box-shadow: 0px 1px 3px 1px rgba(0, 0, 0, 0.15);\n",
              "    filter: drop-shadow(0px 1px 2px rgba(0, 0, 0, 0.3));\n",
              "    fill: #FFFFFF;\n",
              "  }\n",
              "</style>\n",
              "\n",
              "    <script>\n",
              "      async function quickchart(key) {\n",
              "        const containerElement = document.querySelector('#' + key);\n",
              "        const charts = await google.colab.kernel.invokeFunction(\n",
              "            'suggestCharts', [key], {});\n",
              "      }\n",
              "    </script>\n",
              "\n",
              "      <script>\n",
              "\n",
              "function displayQuickchartButton(domScope) {\n",
              "  let quickchartButtonEl =\n",
              "    domScope.querySelector('#df-9f42bb17-66e3-4691-8c78-600768e47181 button.colab-df-quickchart');\n",
              "  quickchartButtonEl.style.display =\n",
              "    google.colab.kernel.accessAllowed ? 'block' : 'none';\n",
              "}\n",
              "\n",
              "        displayQuickchartButton(document);\n",
              "      </script>\n",
              "      <style>\n",
              "    .colab-df-container {\n",
              "      display:flex;\n",
              "      flex-wrap:wrap;\n",
              "      gap: 12px;\n",
              "    }\n",
              "\n",
              "    .colab-df-convert {\n",
              "      background-color: #E8F0FE;\n",
              "      border: none;\n",
              "      border-radius: 50%;\n",
              "      cursor: pointer;\n",
              "      display: none;\n",
              "      fill: #1967D2;\n",
              "      height: 32px;\n",
              "      padding: 0 0 0 0;\n",
              "      width: 32px;\n",
              "    }\n",
              "\n",
              "    .colab-df-convert:hover {\n",
              "      background-color: #E2EBFA;\n",
              "      box-shadow: 0px 1px 2px rgba(60, 64, 67, 0.3), 0px 1px 3px 1px rgba(60, 64, 67, 0.15);\n",
              "      fill: #174EA6;\n",
              "    }\n",
              "\n",
              "    [theme=dark] .colab-df-convert {\n",
              "      background-color: #3B4455;\n",
              "      fill: #D2E3FC;\n",
              "    }\n",
              "\n",
              "    [theme=dark] .colab-df-convert:hover {\n",
              "      background-color: #434B5C;\n",
              "      box-shadow: 0px 1px 3px 1px rgba(0, 0, 0, 0.15);\n",
              "      filter: drop-shadow(0px 1px 2px rgba(0, 0, 0, 0.3));\n",
              "      fill: #FFFFFF;\n",
              "    }\n",
              "  </style>\n",
              "\n",
              "      <script>\n",
              "        const buttonEl =\n",
              "          document.querySelector('#df-4977f06d-9494-4dc7-a66e-138bee37727d button.colab-df-convert');\n",
              "        buttonEl.style.display =\n",
              "          google.colab.kernel.accessAllowed ? 'block' : 'none';\n",
              "\n",
              "        async function convertToInteractive(key) {\n",
              "          const element = document.querySelector('#df-4977f06d-9494-4dc7-a66e-138bee37727d');\n",
              "          const dataTable =\n",
              "            await google.colab.kernel.invokeFunction('convertToInteractive',\n",
              "                                                     [key], {});\n",
              "          if (!dataTable) return;\n",
              "\n",
              "          const docLinkHtml = 'Like what you see? Visit the ' +\n",
              "            '<a target=\"_blank\" href=https://colab.research.google.com/notebooks/data_table.ipynb>data table notebook</a>'\n",
              "            + ' to learn more about interactive tables.';\n",
              "          element.innerHTML = '';\n",
              "          dataTable['output_type'] = 'display_data';\n",
              "          await google.colab.output.renderOutput(dataTable, element);\n",
              "          const docLink = document.createElement('div');\n",
              "          docLink.innerHTML = docLinkHtml;\n",
              "          element.appendChild(docLink);\n",
              "        }\n",
              "      </script>\n",
              "    </div>\n",
              "  </div>\n"
            ]
          },
          "metadata": {},
          "execution_count": 5
        }
      ]
    },
    {
      "cell_type": "markdown",
      "source": [
        "The numbers on the left are the indices, and the bold text at the top are the column labels.\n",
        "\n",
        "Understanding DataFrames is crucial in Python data science, as they form the primary structure in which you'll manipulate, analyze, and visualize data. With DataFrames, you can filter data, perform statistical analyses, create visualizations, and much more. They are a foundational piece of the Python data science ecosystem."
      ],
      "metadata": {
        "id": "xiGh2kNUJQou"
      }
    },
    {
      "cell_type": "markdown",
      "source": [
        "## Exploring a DataFrame: The mtcars Dataset\n",
        "\n",
        "Once we've loaded our data into a DataFrame (like our mtcars dataset), the next step is to explore it and understand its structure and contents. This is a crucial part of the data science process as it helps us get a sense of what we're working with.\n",
        "\n",
        "Let's explore some common ways to examine a DataFrame using Python's pandas library:\n",
        "\n",
        "### Understanding the shape of the DataFrame\n",
        "\n",
        "The `shape` attribute of a DataFrame returns a tuple representing the dimensions of the DataFrame - (number of rows, number of columns)"
      ],
      "metadata": {
        "id": "tYgGpzb3Jqul"
      }
    },
    {
      "cell_type": "code",
      "source": [
        "mtcars_df.shape"
      ],
      "metadata": {
        "colab": {
          "base_uri": "https://localhost:8080/"
        },
        "id": "PpsCwCmCJRPC",
        "outputId": "d9cf5722-23b4-4653-9c7a-8916a0575f40"
      },
      "execution_count": null,
      "outputs": [
        {
          "output_type": "execute_result",
          "data": {
            "text/plain": [
              "(32, 11)"
            ]
          },
          "metadata": {},
          "execution_count": 7
        }
      ]
    },
    {
      "cell_type": "markdown",
      "source": [
        "### Viewing the first and last few records\n",
        "\n",
        "The `head()` (see above) and `tail()` functions allow us to quickly glance at the first few and last few records of the DataFrame, respectively. By default, these functions return the first or last five records."
      ],
      "metadata": {
        "id": "-wIqqxqSJ98O"
      }
    },
    {
      "cell_type": "code",
      "source": [
        "mtcars_df.tail()"
      ],
      "metadata": {
        "colab": {
          "base_uri": "https://localhost:8080/",
          "height": 206
        },
        "id": "NJKVTOb2KIag",
        "outputId": "a5c330a4-ee25-4339-c26a-baefb9420518"
      },
      "execution_count": null,
      "outputs": [
        {
          "output_type": "execute_result",
          "data": {
            "text/plain": [
              "                 mpg  cyl   disp   hp  drat     wt  qsec  vs  am  gear  carb\n",
              "Lotus Europa    30.4    4   95.1  113  3.77  1.513  16.9   1   1     5     2\n",
              "Ford Pantera L  15.8    8  351.0  264  4.22  3.170  14.5   0   1     5     4\n",
              "Ferrari Dino    19.7    6  145.0  175  3.62  2.770  15.5   0   1     5     6\n",
              "Maserati Bora   15.0    8  301.0  335  3.54  3.570  14.6   0   1     5     8\n",
              "Volvo 142E      21.4    4  121.0  109  4.11  2.780  18.6   1   1     4     2"
            ],
            "text/html": [
              "\n",
              "\n",
              "  <div id=\"df-8f224e39-8ddf-4a08-84b8-66a35d983326\">\n",
              "    <div class=\"colab-df-container\">\n",
              "      <div>\n",
              "<style scoped>\n",
              "    .dataframe tbody tr th:only-of-type {\n",
              "        vertical-align: middle;\n",
              "    }\n",
              "\n",
              "    .dataframe tbody tr th {\n",
              "        vertical-align: top;\n",
              "    }\n",
              "\n",
              "    .dataframe thead th {\n",
              "        text-align: right;\n",
              "    }\n",
              "</style>\n",
              "<table border=\"1\" class=\"dataframe\">\n",
              "  <thead>\n",
              "    <tr style=\"text-align: right;\">\n",
              "      <th></th>\n",
              "      <th>mpg</th>\n",
              "      <th>cyl</th>\n",
              "      <th>disp</th>\n",
              "      <th>hp</th>\n",
              "      <th>drat</th>\n",
              "      <th>wt</th>\n",
              "      <th>qsec</th>\n",
              "      <th>vs</th>\n",
              "      <th>am</th>\n",
              "      <th>gear</th>\n",
              "      <th>carb</th>\n",
              "    </tr>\n",
              "  </thead>\n",
              "  <tbody>\n",
              "    <tr>\n",
              "      <th>Lotus Europa</th>\n",
              "      <td>30.4</td>\n",
              "      <td>4</td>\n",
              "      <td>95.1</td>\n",
              "      <td>113</td>\n",
              "      <td>3.77</td>\n",
              "      <td>1.513</td>\n",
              "      <td>16.9</td>\n",
              "      <td>1</td>\n",
              "      <td>1</td>\n",
              "      <td>5</td>\n",
              "      <td>2</td>\n",
              "    </tr>\n",
              "    <tr>\n",
              "      <th>Ford Pantera L</th>\n",
              "      <td>15.8</td>\n",
              "      <td>8</td>\n",
              "      <td>351.0</td>\n",
              "      <td>264</td>\n",
              "      <td>4.22</td>\n",
              "      <td>3.170</td>\n",
              "      <td>14.5</td>\n",
              "      <td>0</td>\n",
              "      <td>1</td>\n",
              "      <td>5</td>\n",
              "      <td>4</td>\n",
              "    </tr>\n",
              "    <tr>\n",
              "      <th>Ferrari Dino</th>\n",
              "      <td>19.7</td>\n",
              "      <td>6</td>\n",
              "      <td>145.0</td>\n",
              "      <td>175</td>\n",
              "      <td>3.62</td>\n",
              "      <td>2.770</td>\n",
              "      <td>15.5</td>\n",
              "      <td>0</td>\n",
              "      <td>1</td>\n",
              "      <td>5</td>\n",
              "      <td>6</td>\n",
              "    </tr>\n",
              "    <tr>\n",
              "      <th>Maserati Bora</th>\n",
              "      <td>15.0</td>\n",
              "      <td>8</td>\n",
              "      <td>301.0</td>\n",
              "      <td>335</td>\n",
              "      <td>3.54</td>\n",
              "      <td>3.570</td>\n",
              "      <td>14.6</td>\n",
              "      <td>0</td>\n",
              "      <td>1</td>\n",
              "      <td>5</td>\n",
              "      <td>8</td>\n",
              "    </tr>\n",
              "    <tr>\n",
              "      <th>Volvo 142E</th>\n",
              "      <td>21.4</td>\n",
              "      <td>4</td>\n",
              "      <td>121.0</td>\n",
              "      <td>109</td>\n",
              "      <td>4.11</td>\n",
              "      <td>2.780</td>\n",
              "      <td>18.6</td>\n",
              "      <td>1</td>\n",
              "      <td>1</td>\n",
              "      <td>4</td>\n",
              "      <td>2</td>\n",
              "    </tr>\n",
              "  </tbody>\n",
              "</table>\n",
              "</div>\n",
              "      <button class=\"colab-df-convert\" onclick=\"convertToInteractive('df-8f224e39-8ddf-4a08-84b8-66a35d983326')\"\n",
              "              title=\"Convert this dataframe to an interactive table.\"\n",
              "              style=\"display:none;\">\n",
              "\n",
              "  <svg xmlns=\"http://www.w3.org/2000/svg\" height=\"24px\"viewBox=\"0 0 24 24\"\n",
              "       width=\"24px\">\n",
              "    <path d=\"M0 0h24v24H0V0z\" fill=\"none\"/>\n",
              "    <path d=\"M18.56 5.44l.94 2.06.94-2.06 2.06-.94-2.06-.94-.94-2.06-.94 2.06-2.06.94zm-11 1L8.5 8.5l.94-2.06 2.06-.94-2.06-.94L8.5 2.5l-.94 2.06-2.06.94zm10 10l.94 2.06.94-2.06 2.06-.94-2.06-.94-.94-2.06-.94 2.06-2.06.94z\"/><path d=\"M17.41 7.96l-1.37-1.37c-.4-.4-.92-.59-1.43-.59-.52 0-1.04.2-1.43.59L10.3 9.45l-7.72 7.72c-.78.78-.78 2.05 0 2.83L4 21.41c.39.39.9.59 1.41.59.51 0 1.02-.2 1.41-.59l7.78-7.78 2.81-2.81c.8-.78.8-2.07 0-2.86zM5.41 20L4 18.59l7.72-7.72 1.47 1.35L5.41 20z\"/>\n",
              "  </svg>\n",
              "      </button>\n",
              "\n",
              "\n",
              "\n",
              "    <div id=\"df-a71ed541-99fd-4ed2-8dee-b1169b89c218\">\n",
              "      <button class=\"colab-df-quickchart\" onclick=\"quickchart('df-a71ed541-99fd-4ed2-8dee-b1169b89c218')\"\n",
              "              title=\"Suggest charts.\"\n",
              "              style=\"display:none;\">\n",
              "\n",
              "<svg xmlns=\"http://www.w3.org/2000/svg\" height=\"24px\"viewBox=\"0 0 24 24\"\n",
              "     width=\"24px\">\n",
              "    <g>\n",
              "        <path d=\"M19 3H5c-1.1 0-2 .9-2 2v14c0 1.1.9 2 2 2h14c1.1 0 2-.9 2-2V5c0-1.1-.9-2-2-2zM9 17H7v-7h2v7zm4 0h-2V7h2v10zm4 0h-2v-4h2v4z\"/>\n",
              "    </g>\n",
              "</svg>\n",
              "      </button>\n",
              "    </div>\n",
              "\n",
              "<style>\n",
              "  .colab-df-quickchart {\n",
              "    background-color: #E8F0FE;\n",
              "    border: none;\n",
              "    border-radius: 50%;\n",
              "    cursor: pointer;\n",
              "    display: none;\n",
              "    fill: #1967D2;\n",
              "    height: 32px;\n",
              "    padding: 0 0 0 0;\n",
              "    width: 32px;\n",
              "  }\n",
              "\n",
              "  .colab-df-quickchart:hover {\n",
              "    background-color: #E2EBFA;\n",
              "    box-shadow: 0px 1px 2px rgba(60, 64, 67, 0.3), 0px 1px 3px 1px rgba(60, 64, 67, 0.15);\n",
              "    fill: #174EA6;\n",
              "  }\n",
              "\n",
              "  [theme=dark] .colab-df-quickchart {\n",
              "    background-color: #3B4455;\n",
              "    fill: #D2E3FC;\n",
              "  }\n",
              "\n",
              "  [theme=dark] .colab-df-quickchart:hover {\n",
              "    background-color: #434B5C;\n",
              "    box-shadow: 0px 1px 3px 1px rgba(0, 0, 0, 0.15);\n",
              "    filter: drop-shadow(0px 1px 2px rgba(0, 0, 0, 0.3));\n",
              "    fill: #FFFFFF;\n",
              "  }\n",
              "</style>\n",
              "\n",
              "    <script>\n",
              "      async function quickchart(key) {\n",
              "        const containerElement = document.querySelector('#' + key);\n",
              "        const charts = await google.colab.kernel.invokeFunction(\n",
              "            'suggestCharts', [key], {});\n",
              "      }\n",
              "    </script>\n",
              "\n",
              "      <script>\n",
              "\n",
              "function displayQuickchartButton(domScope) {\n",
              "  let quickchartButtonEl =\n",
              "    domScope.querySelector('#df-a71ed541-99fd-4ed2-8dee-b1169b89c218 button.colab-df-quickchart');\n",
              "  quickchartButtonEl.style.display =\n",
              "    google.colab.kernel.accessAllowed ? 'block' : 'none';\n",
              "}\n",
              "\n",
              "        displayQuickchartButton(document);\n",
              "      </script>\n",
              "      <style>\n",
              "    .colab-df-container {\n",
              "      display:flex;\n",
              "      flex-wrap:wrap;\n",
              "      gap: 12px;\n",
              "    }\n",
              "\n",
              "    .colab-df-convert {\n",
              "      background-color: #E8F0FE;\n",
              "      border: none;\n",
              "      border-radius: 50%;\n",
              "      cursor: pointer;\n",
              "      display: none;\n",
              "      fill: #1967D2;\n",
              "      height: 32px;\n",
              "      padding: 0 0 0 0;\n",
              "      width: 32px;\n",
              "    }\n",
              "\n",
              "    .colab-df-convert:hover {\n",
              "      background-color: #E2EBFA;\n",
              "      box-shadow: 0px 1px 2px rgba(60, 64, 67, 0.3), 0px 1px 3px 1px rgba(60, 64, 67, 0.15);\n",
              "      fill: #174EA6;\n",
              "    }\n",
              "\n",
              "    [theme=dark] .colab-df-convert {\n",
              "      background-color: #3B4455;\n",
              "      fill: #D2E3FC;\n",
              "    }\n",
              "\n",
              "    [theme=dark] .colab-df-convert:hover {\n",
              "      background-color: #434B5C;\n",
              "      box-shadow: 0px 1px 3px 1px rgba(0, 0, 0, 0.15);\n",
              "      filter: drop-shadow(0px 1px 2px rgba(0, 0, 0, 0.3));\n",
              "      fill: #FFFFFF;\n",
              "    }\n",
              "  </style>\n",
              "\n",
              "      <script>\n",
              "        const buttonEl =\n",
              "          document.querySelector('#df-8f224e39-8ddf-4a08-84b8-66a35d983326 button.colab-df-convert');\n",
              "        buttonEl.style.display =\n",
              "          google.colab.kernel.accessAllowed ? 'block' : 'none';\n",
              "\n",
              "        async function convertToInteractive(key) {\n",
              "          const element = document.querySelector('#df-8f224e39-8ddf-4a08-84b8-66a35d983326');\n",
              "          const dataTable =\n",
              "            await google.colab.kernel.invokeFunction('convertToInteractive',\n",
              "                                                     [key], {});\n",
              "          if (!dataTable) return;\n",
              "\n",
              "          const docLinkHtml = 'Like what you see? Visit the ' +\n",
              "            '<a target=\"_blank\" href=https://colab.research.google.com/notebooks/data_table.ipynb>data table notebook</a>'\n",
              "            + ' to learn more about interactive tables.';\n",
              "          element.innerHTML = '';\n",
              "          dataTable['output_type'] = 'display_data';\n",
              "          await google.colab.output.renderOutput(dataTable, element);\n",
              "          const docLink = document.createElement('div');\n",
              "          docLink.innerHTML = docLinkHtml;\n",
              "          element.appendChild(docLink);\n",
              "        }\n",
              "      </script>\n",
              "    </div>\n",
              "  </div>\n"
            ]
          },
          "metadata": {},
          "execution_count": 9
        }
      ]
    },
    {
      "cell_type": "markdown",
      "source": [
        "## Understanding the data types of each column\n",
        "\n",
        "The `dtypes` attribute returns the data type of each column. This is important as the type of data in a column can influence the operations we can perform on it."
      ],
      "metadata": {
        "id": "uRh0KgfCKNH9"
      }
    },
    {
      "cell_type": "code",
      "source": [
        "mtcars_df.dtypes"
      ],
      "metadata": {
        "colab": {
          "base_uri": "https://localhost:8080/"
        },
        "id": "fifaddX7KWTW",
        "outputId": "90d8b6fa-e668-4f9a-d5b5-77bd9bf83174"
      },
      "execution_count": null,
      "outputs": [
        {
          "output_type": "execute_result",
          "data": {
            "text/plain": [
              "mpg     float64\n",
              "cyl       int64\n",
              "disp    float64\n",
              "hp        int64\n",
              "drat    float64\n",
              "wt      float64\n",
              "qsec    float64\n",
              "vs        int64\n",
              "am        int64\n",
              "gear      int64\n",
              "carb      int64\n",
              "dtype: object"
            ]
          },
          "metadata": {},
          "execution_count": 10
        }
      ]
    },
    {
      "cell_type": "markdown",
      "source": [
        "### Summarizing the DataFrame\n",
        "\n",
        "The `describe()` function generates descriptive statistics of the DataFrame. For numerical columns, it provides the count, mean, standard deviation, minimum and maximum values, and the values at the 25th, 50th, and 75th percentiles."
      ],
      "metadata": {
        "id": "tVC3YlGaKNbW"
      }
    },
    {
      "cell_type": "code",
      "source": [
        "mtcars_df.describe()"
      ],
      "metadata": {
        "colab": {
          "base_uri": "https://localhost:8080/",
          "height": 300
        },
        "id": "lYIksyI8Kgai",
        "outputId": "b0dda79f-df68-4a74-fcdb-1a315a63e5e2"
      },
      "execution_count": null,
      "outputs": [
        {
          "output_type": "execute_result",
          "data": {
            "text/plain": [
              "             mpg        cyl        disp          hp       drat         wt  \\\n",
              "count  32.000000  32.000000   32.000000   32.000000  32.000000  32.000000   \n",
              "mean   20.090625   6.187500  230.721875  146.687500   3.596563   3.217250   \n",
              "std     6.026948   1.785922  123.938694   68.562868   0.534679   0.978457   \n",
              "min    10.400000   4.000000   71.100000   52.000000   2.760000   1.513000   \n",
              "25%    15.425000   4.000000  120.825000   96.500000   3.080000   2.581250   \n",
              "50%    19.200000   6.000000  196.300000  123.000000   3.695000   3.325000   \n",
              "75%    22.800000   8.000000  326.000000  180.000000   3.920000   3.610000   \n",
              "max    33.900000   8.000000  472.000000  335.000000   4.930000   5.424000   \n",
              "\n",
              "            qsec         vs         am       gear     carb  \n",
              "count  32.000000  32.000000  32.000000  32.000000  32.0000  \n",
              "mean   17.848750   0.437500   0.406250   3.687500   2.8125  \n",
              "std     1.786943   0.504016   0.498991   0.737804   1.6152  \n",
              "min    14.500000   0.000000   0.000000   3.000000   1.0000  \n",
              "25%    16.892500   0.000000   0.000000   3.000000   2.0000  \n",
              "50%    17.710000   0.000000   0.000000   4.000000   2.0000  \n",
              "75%    18.900000   1.000000   1.000000   4.000000   4.0000  \n",
              "max    22.900000   1.000000   1.000000   5.000000   8.0000  "
            ],
            "text/html": [
              "\n",
              "\n",
              "  <div id=\"df-dc75ad92-368e-4827-b06e-a6d2b52d8c7e\">\n",
              "    <div class=\"colab-df-container\">\n",
              "      <div>\n",
              "<style scoped>\n",
              "    .dataframe tbody tr th:only-of-type {\n",
              "        vertical-align: middle;\n",
              "    }\n",
              "\n",
              "    .dataframe tbody tr th {\n",
              "        vertical-align: top;\n",
              "    }\n",
              "\n",
              "    .dataframe thead th {\n",
              "        text-align: right;\n",
              "    }\n",
              "</style>\n",
              "<table border=\"1\" class=\"dataframe\">\n",
              "  <thead>\n",
              "    <tr style=\"text-align: right;\">\n",
              "      <th></th>\n",
              "      <th>mpg</th>\n",
              "      <th>cyl</th>\n",
              "      <th>disp</th>\n",
              "      <th>hp</th>\n",
              "      <th>drat</th>\n",
              "      <th>wt</th>\n",
              "      <th>qsec</th>\n",
              "      <th>vs</th>\n",
              "      <th>am</th>\n",
              "      <th>gear</th>\n",
              "      <th>carb</th>\n",
              "    </tr>\n",
              "  </thead>\n",
              "  <tbody>\n",
              "    <tr>\n",
              "      <th>count</th>\n",
              "      <td>32.000000</td>\n",
              "      <td>32.000000</td>\n",
              "      <td>32.000000</td>\n",
              "      <td>32.000000</td>\n",
              "      <td>32.000000</td>\n",
              "      <td>32.000000</td>\n",
              "      <td>32.000000</td>\n",
              "      <td>32.000000</td>\n",
              "      <td>32.000000</td>\n",
              "      <td>32.000000</td>\n",
              "      <td>32.0000</td>\n",
              "    </tr>\n",
              "    <tr>\n",
              "      <th>mean</th>\n",
              "      <td>20.090625</td>\n",
              "      <td>6.187500</td>\n",
              "      <td>230.721875</td>\n",
              "      <td>146.687500</td>\n",
              "      <td>3.596563</td>\n",
              "      <td>3.217250</td>\n",
              "      <td>17.848750</td>\n",
              "      <td>0.437500</td>\n",
              "      <td>0.406250</td>\n",
              "      <td>3.687500</td>\n",
              "      <td>2.8125</td>\n",
              "    </tr>\n",
              "    <tr>\n",
              "      <th>std</th>\n",
              "      <td>6.026948</td>\n",
              "      <td>1.785922</td>\n",
              "      <td>123.938694</td>\n",
              "      <td>68.562868</td>\n",
              "      <td>0.534679</td>\n",
              "      <td>0.978457</td>\n",
              "      <td>1.786943</td>\n",
              "      <td>0.504016</td>\n",
              "      <td>0.498991</td>\n",
              "      <td>0.737804</td>\n",
              "      <td>1.6152</td>\n",
              "    </tr>\n",
              "    <tr>\n",
              "      <th>min</th>\n",
              "      <td>10.400000</td>\n",
              "      <td>4.000000</td>\n",
              "      <td>71.100000</td>\n",
              "      <td>52.000000</td>\n",
              "      <td>2.760000</td>\n",
              "      <td>1.513000</td>\n",
              "      <td>14.500000</td>\n",
              "      <td>0.000000</td>\n",
              "      <td>0.000000</td>\n",
              "      <td>3.000000</td>\n",
              "      <td>1.0000</td>\n",
              "    </tr>\n",
              "    <tr>\n",
              "      <th>25%</th>\n",
              "      <td>15.425000</td>\n",
              "      <td>4.000000</td>\n",
              "      <td>120.825000</td>\n",
              "      <td>96.500000</td>\n",
              "      <td>3.080000</td>\n",
              "      <td>2.581250</td>\n",
              "      <td>16.892500</td>\n",
              "      <td>0.000000</td>\n",
              "      <td>0.000000</td>\n",
              "      <td>3.000000</td>\n",
              "      <td>2.0000</td>\n",
              "    </tr>\n",
              "    <tr>\n",
              "      <th>50%</th>\n",
              "      <td>19.200000</td>\n",
              "      <td>6.000000</td>\n",
              "      <td>196.300000</td>\n",
              "      <td>123.000000</td>\n",
              "      <td>3.695000</td>\n",
              "      <td>3.325000</td>\n",
              "      <td>17.710000</td>\n",
              "      <td>0.000000</td>\n",
              "      <td>0.000000</td>\n",
              "      <td>4.000000</td>\n",
              "      <td>2.0000</td>\n",
              "    </tr>\n",
              "    <tr>\n",
              "      <th>75%</th>\n",
              "      <td>22.800000</td>\n",
              "      <td>8.000000</td>\n",
              "      <td>326.000000</td>\n",
              "      <td>180.000000</td>\n",
              "      <td>3.920000</td>\n",
              "      <td>3.610000</td>\n",
              "      <td>18.900000</td>\n",
              "      <td>1.000000</td>\n",
              "      <td>1.000000</td>\n",
              "      <td>4.000000</td>\n",
              "      <td>4.0000</td>\n",
              "    </tr>\n",
              "    <tr>\n",
              "      <th>max</th>\n",
              "      <td>33.900000</td>\n",
              "      <td>8.000000</td>\n",
              "      <td>472.000000</td>\n",
              "      <td>335.000000</td>\n",
              "      <td>4.930000</td>\n",
              "      <td>5.424000</td>\n",
              "      <td>22.900000</td>\n",
              "      <td>1.000000</td>\n",
              "      <td>1.000000</td>\n",
              "      <td>5.000000</td>\n",
              "      <td>8.0000</td>\n",
              "    </tr>\n",
              "  </tbody>\n",
              "</table>\n",
              "</div>\n",
              "      <button class=\"colab-df-convert\" onclick=\"convertToInteractive('df-dc75ad92-368e-4827-b06e-a6d2b52d8c7e')\"\n",
              "              title=\"Convert this dataframe to an interactive table.\"\n",
              "              style=\"display:none;\">\n",
              "\n",
              "  <svg xmlns=\"http://www.w3.org/2000/svg\" height=\"24px\"viewBox=\"0 0 24 24\"\n",
              "       width=\"24px\">\n",
              "    <path d=\"M0 0h24v24H0V0z\" fill=\"none\"/>\n",
              "    <path d=\"M18.56 5.44l.94 2.06.94-2.06 2.06-.94-2.06-.94-.94-2.06-.94 2.06-2.06.94zm-11 1L8.5 8.5l.94-2.06 2.06-.94-2.06-.94L8.5 2.5l-.94 2.06-2.06.94zm10 10l.94 2.06.94-2.06 2.06-.94-2.06-.94-.94-2.06-.94 2.06-2.06.94z\"/><path d=\"M17.41 7.96l-1.37-1.37c-.4-.4-.92-.59-1.43-.59-.52 0-1.04.2-1.43.59L10.3 9.45l-7.72 7.72c-.78.78-.78 2.05 0 2.83L4 21.41c.39.39.9.59 1.41.59.51 0 1.02-.2 1.41-.59l7.78-7.78 2.81-2.81c.8-.78.8-2.07 0-2.86zM5.41 20L4 18.59l7.72-7.72 1.47 1.35L5.41 20z\"/>\n",
              "  </svg>\n",
              "      </button>\n",
              "\n",
              "\n",
              "\n",
              "    <div id=\"df-4158acca-6ff4-465f-88d7-d168d8e3c3dd\">\n",
              "      <button class=\"colab-df-quickchart\" onclick=\"quickchart('df-4158acca-6ff4-465f-88d7-d168d8e3c3dd')\"\n",
              "              title=\"Suggest charts.\"\n",
              "              style=\"display:none;\">\n",
              "\n",
              "<svg xmlns=\"http://www.w3.org/2000/svg\" height=\"24px\"viewBox=\"0 0 24 24\"\n",
              "     width=\"24px\">\n",
              "    <g>\n",
              "        <path d=\"M19 3H5c-1.1 0-2 .9-2 2v14c0 1.1.9 2 2 2h14c1.1 0 2-.9 2-2V5c0-1.1-.9-2-2-2zM9 17H7v-7h2v7zm4 0h-2V7h2v10zm4 0h-2v-4h2v4z\"/>\n",
              "    </g>\n",
              "</svg>\n",
              "      </button>\n",
              "    </div>\n",
              "\n",
              "<style>\n",
              "  .colab-df-quickchart {\n",
              "    background-color: #E8F0FE;\n",
              "    border: none;\n",
              "    border-radius: 50%;\n",
              "    cursor: pointer;\n",
              "    display: none;\n",
              "    fill: #1967D2;\n",
              "    height: 32px;\n",
              "    padding: 0 0 0 0;\n",
              "    width: 32px;\n",
              "  }\n",
              "\n",
              "  .colab-df-quickchart:hover {\n",
              "    background-color: #E2EBFA;\n",
              "    box-shadow: 0px 1px 2px rgba(60, 64, 67, 0.3), 0px 1px 3px 1px rgba(60, 64, 67, 0.15);\n",
              "    fill: #174EA6;\n",
              "  }\n",
              "\n",
              "  [theme=dark] .colab-df-quickchart {\n",
              "    background-color: #3B4455;\n",
              "    fill: #D2E3FC;\n",
              "  }\n",
              "\n",
              "  [theme=dark] .colab-df-quickchart:hover {\n",
              "    background-color: #434B5C;\n",
              "    box-shadow: 0px 1px 3px 1px rgba(0, 0, 0, 0.15);\n",
              "    filter: drop-shadow(0px 1px 2px rgba(0, 0, 0, 0.3));\n",
              "    fill: #FFFFFF;\n",
              "  }\n",
              "</style>\n",
              "\n",
              "    <script>\n",
              "      async function quickchart(key) {\n",
              "        const containerElement = document.querySelector('#' + key);\n",
              "        const charts = await google.colab.kernel.invokeFunction(\n",
              "            'suggestCharts', [key], {});\n",
              "      }\n",
              "    </script>\n",
              "\n",
              "      <script>\n",
              "\n",
              "function displayQuickchartButton(domScope) {\n",
              "  let quickchartButtonEl =\n",
              "    domScope.querySelector('#df-4158acca-6ff4-465f-88d7-d168d8e3c3dd button.colab-df-quickchart');\n",
              "  quickchartButtonEl.style.display =\n",
              "    google.colab.kernel.accessAllowed ? 'block' : 'none';\n",
              "}\n",
              "\n",
              "        displayQuickchartButton(document);\n",
              "      </script>\n",
              "      <style>\n",
              "    .colab-df-container {\n",
              "      display:flex;\n",
              "      flex-wrap:wrap;\n",
              "      gap: 12px;\n",
              "    }\n",
              "\n",
              "    .colab-df-convert {\n",
              "      background-color: #E8F0FE;\n",
              "      border: none;\n",
              "      border-radius: 50%;\n",
              "      cursor: pointer;\n",
              "      display: none;\n",
              "      fill: #1967D2;\n",
              "      height: 32px;\n",
              "      padding: 0 0 0 0;\n",
              "      width: 32px;\n",
              "    }\n",
              "\n",
              "    .colab-df-convert:hover {\n",
              "      background-color: #E2EBFA;\n",
              "      box-shadow: 0px 1px 2px rgba(60, 64, 67, 0.3), 0px 1px 3px 1px rgba(60, 64, 67, 0.15);\n",
              "      fill: #174EA6;\n",
              "    }\n",
              "\n",
              "    [theme=dark] .colab-df-convert {\n",
              "      background-color: #3B4455;\n",
              "      fill: #D2E3FC;\n",
              "    }\n",
              "\n",
              "    [theme=dark] .colab-df-convert:hover {\n",
              "      background-color: #434B5C;\n",
              "      box-shadow: 0px 1px 3px 1px rgba(0, 0, 0, 0.15);\n",
              "      filter: drop-shadow(0px 1px 2px rgba(0, 0, 0, 0.3));\n",
              "      fill: #FFFFFF;\n",
              "    }\n",
              "  </style>\n",
              "\n",
              "      <script>\n",
              "        const buttonEl =\n",
              "          document.querySelector('#df-dc75ad92-368e-4827-b06e-a6d2b52d8c7e button.colab-df-convert');\n",
              "        buttonEl.style.display =\n",
              "          google.colab.kernel.accessAllowed ? 'block' : 'none';\n",
              "\n",
              "        async function convertToInteractive(key) {\n",
              "          const element = document.querySelector('#df-dc75ad92-368e-4827-b06e-a6d2b52d8c7e');\n",
              "          const dataTable =\n",
              "            await google.colab.kernel.invokeFunction('convertToInteractive',\n",
              "                                                     [key], {});\n",
              "          if (!dataTable) return;\n",
              "\n",
              "          const docLinkHtml = 'Like what you see? Visit the ' +\n",
              "            '<a target=\"_blank\" href=https://colab.research.google.com/notebooks/data_table.ipynb>data table notebook</a>'\n",
              "            + ' to learn more about interactive tables.';\n",
              "          element.innerHTML = '';\n",
              "          dataTable['output_type'] = 'display_data';\n",
              "          await google.colab.output.renderOutput(dataTable, element);\n",
              "          const docLink = document.createElement('div');\n",
              "          docLink.innerHTML = docLinkHtml;\n",
              "          element.appendChild(docLink);\n",
              "        }\n",
              "      </script>\n",
              "    </div>\n",
              "  </div>\n"
            ]
          },
          "metadata": {},
          "execution_count": 11
        }
      ]
    },
    {
      "cell_type": "markdown",
      "source": [
        "If we include the argument `include='all'`, it will also provide summaries for non-numerical columns.\n",
        "\n",
        "These are just a few of the many ways you can explore a DataFrame. As you advance in your data science journey, you'll learn more complex and powerful methods of DataFrame exploration, such as filtering, grouping, and visualizing data. But for now, understanding these basics will give you a good start."
      ],
      "metadata": {
        "id": "es7D6r1-Klqr"
      }
    },
    {
      "cell_type": "markdown",
      "source": [
        "## Questions: Data Frames\n",
        "Answer the following questions, using the code above as a guide (you shouldn't neeed to write any *new* code to answer them).\n",
        "\n",
        "1.  How many rows and columns does the `mtcars_df` DataFrame have? Use the `shape` attribute to find this information.\n",
        "\n",
        "2.  Using the `head()` and `tail()` functions, identify the first and the last record in the `mtcars_df` DataFrame.\n",
        "\n",
        "3.  What is the data type of the 'mpg' and 'cyl' columns in the `mtcars_df` DataFrame? Use the `dtypes` attribute to find this information.\n",
        "\n",
        "4.  Use the `describe()` function to find the mean (average) value of the 'mpg' column in the `mtcars_df` DataFrame.\n",
        "\n",
        "5.  Apart from the mean, what other statistical measures does the `describe()` function provide for numerical columns in a DataFrame?"
      ],
      "metadata": {
        "id": "9F5-XfxcuhsR"
      }
    },
    {
      "cell_type": "markdown",
      "source": [
        "## My Answers: Data Frames\n",
        "1.\n",
        "\n",
        "2.\n",
        "\n",
        "3.\n",
        "\n",
        "4.\n",
        "\n",
        "5."
      ],
      "metadata": {
        "id": "kjwQ0dcyuzpn"
      }
    },
    {
      "cell_type": "markdown",
      "source": [
        "## The Power of Data Science: Previewing What's to Come\n",
        "\n",
        "Now that you've gotten a taste of Python, pandas, and the `mtcars` dataset, you're probably curious about what you can actually do with these tools. The short answer? A lot!\n",
        "\n",
        "Data science allows us to dive deep into datasets and pull out insights that can influence decisions in a wide variety of fields, from business to science to politics and beyond. To give you a sense of the power of data science, let's take a look at some questions we might be able to answer with our `mtcars` dataset in the upcoming chapters:\n",
        "\n",
        "1.  Business: If we were car manufacturers, which car model should we highlight in our marketing materials for its fuel efficiency? This could be answered by identifying the car with the highest miles-per-gallon (`mpg`) rating.\n",
        "\n",
        "2.  Design: As car engineers, we might want to understand the relationship between a car's weight (`wt`) and its fuel efficiency (`mpg`). Are heavier cars less fuel-efficient? Data science can help us investigate this.\n",
        "\n",
        "3.  Quality Control: If we wanted to identify possible production anomalies, we could look for cars whose characteristics deviate significantly from the average.\n",
        "\n",
        "4.  Environmental Science: From a carbon emissions standpoint, how does the number of cylinders (`cyl`) in a car impact its fuel efficiency (`mpg`)? Understanding this could help guide environmental policies.\n",
        "\n",
        "5.  Consumer Behavior: Are consumers more likely to buy cars with automatic or manual transmissions? We could explore this question by analyzing the frequency of each transmission type in the dataset.\n",
        "\n",
        "6.  Automotive History: How have cars evolved over time? We could compare the characteristics of older car models to newer ones to understand trends in car manufacturing.\n",
        "\n",
        "7.  Performance: What attributes contribute to a car's horsepower (`hp`)? Can we predict a car's horsepower based on its other characteristics? These are questions that machine learning, a subset of data science, can help answer.\n",
        "\n",
        "These questions cover a wide range of contexts, showcasing how versatile data science is. Whether you're interested in business, engineering, environmental science, consumer behavior, history, or even machine learning, data science has something to offer you. And this is just the beginning. As we delve deeper into Python and pandas, you'll find that the possibilities are endless!"
      ],
      "metadata": {
        "id": "VbuHyz9LLp9Q"
      }
    },
    {
      "cell_type": "markdown",
      "source": [
        "## Science, Data Science, and Forms of Inquiry\n",
        "\n",
        "One of the fundamental aspects that distinguish science from other forms of inquiry is its basis in empirical evidence and systematic methodology. Scientific inquiry relies on observable, measurable evidence to test theories and make conclusions. It follows a methodical approach, often called the scientific method, which includes steps like forming a hypothesis, conducting experiments, collecting and analyzing data, and drawing conclusions.\n",
        "\n",
        "\n",
        "### The Scientific Method: A Closer Look\n",
        "\n",
        "The scientific method is a structured approach to discovering how things in the universe work. It's not just for chemists and physicists in laboratories - it's applicable in any situation where we need to investigate and understand patterns or behaviors.\n",
        "\n",
        "Let's take a more detailed look at the steps of the scientific method:\n",
        "\n",
        "1.  **Observation:** This is where it all starts. Scientists observe the world around them and ask questions about the phenomena they see. In the context of our car data, an observation might be noticing that some cars seem to consume less fuel than others.\n",
        "\n",
        "2.  **Question:** From these observations, we ask questions. For our car example, we might ask, \"What factors contribute to a car's fuel efficiency?\"\n",
        "\n",
        "3.  **Hypothesis:** A hypothesis is a proposed explanation for the phenomenon in question. It's an educated guess based on our current understanding. In the car scenario, our hypothesis could be, \"Cars with lower weights and smaller engines are more fuel-efficient.\"\n",
        "\n",
        "4.  **Experimentation:** Experiments are designed to test the hypothesis under controlled conditions. In data science, this could involve analyzing a dataset, like `mtcars`, to see if there's a relationship between weight, engine size (number of cylinders), and fuel efficiency.\n",
        "\n",
        "5.  **Data Collection & Analysis:** During and after the experiment, data is collected and analyzed. This could involve calculating the average miles per gallon for cars with different weights and engine sizes.\n",
        "\n",
        "6.  **Conclusion:** Based on the analysis, a conclusion is drawn about whether the hypothesis was correct or not. For example, we might conclude, \"Our data shows that, on average, cars with lower weights and smaller engines are more fuel-efficient.\"\n",
        "\n",
        "7.  **Communicate the Results:** Scientists share their findings with others. This can lead to new questions, hypotheses, and experiments.\n",
        "\n",
        "8.  **Repeat:** Science is a cyclical process. Even after a conclusion has been reached, it's back to the beginning - new observations lead to new questions, which lead to new hypotheses and experiments.\n",
        "\n",
        "Remember, while we've presented these steps in a linear fashion, the scientific process is not always this straightforward. There might be back-and-forths between steps, or some steps might be repeated several times before moving forward. The key is that it's a process of inquiry that is systematic, iterative, and grounded in empirical evidence. This is what sets (data) science apart from other forms of inquiry.\n"
      ],
      "metadata": {
        "id": "wF1_eTHHM-NF"
      }
    },
    {
      "cell_type": "markdown",
      "source": [
        "### Is Data Science A \"Science\"?\n",
        "It's safe to say that Data Scientists regularly apply the scienfic method. However, there's still some uncertaintly over whether we should really call Data Science a \"science\" in its own right.\n",
        "\n",
        "When we talk about knowledge and inquiry, we often categorize our understanding into three domains: Natural sciences, formal sciences, and engineering.\n",
        "\n",
        "1.  **Natural sciences**, including fields such as physics, chemistry, and biology, are concerned with understanding the physical universe. They make empirical claims about the world, which means their assertions are grounded in observable phenomena. These sciences generate hypotheses about how the world operates and test these hypotheses through observation and experimentation. For instance, a biologist might conduct an experiment to determine the effect of a specific pollutant on local wildlife populations. In this case, they are making an empirical claim about the world which can be tested and potentially falsified with data.\n",
        "\n",
        "2.  **Formal sciences**, like mathematics and logic, differ in that they do not make empirical claims about the world. Instead, they deal with abstract structures and symbolic systems. Formal sciences create and prove theorems within their established systems, independent of the physical world. For instance, in statistics (a branch of mathematics), the Central Limit Theorem holds true not because we've observed it in nature, but because it's a result derived from mathematical principles.\n",
        "\n",
        "3.  **Engineering** represents a different form of inquiry, focused on the application of scientific and mathematical principles to solve real-world problems. Engineers design, build, and optimize systems to meet specific goals. For example, a mechanical engineer might use principles of physics and material science to design a more fuel-efficient car engine.\n",
        "\n",
        "So, where does data science fit within these categories? Data science, as a field, spans all three of these domains. It uses mathematical and statistical methods (formal sciences) to understand and make predictions about the world (natural sciences) and applies these insights to solve practical problems (engineering).\n",
        "\n",
        "Data scientists might apply statistical models (a concept from the formal sciences) to a dataset about car performance and fuel efficiency (making empirical claims about the world as per natural sciences) to help a car manufacturer improve their next car model (applying the insights to solve a real-world problem, akin to engineering). Thus, data science is truly an interdisciplinary field, bridging the gap between formal sciences, natural sciences, and engineering to extract meaningful insights from data."
      ],
      "metadata": {
        "id": "6AQNG4rkOAM6"
      }
    },
    {
      "cell_type": "markdown",
      "source": [
        "## Questions: The Science of Data Science\n",
        "\n",
        "1. The scientific method provides a systematic way of understanding the world around us. But why is it important in the scientific community? Why is reproducibility a crucial aspect of the scientific method? Can you think of a situation where the scientific method might be used in your everyday life?\n",
        "\n",
        "2. Based on the descriptions of natural science, formal science, and engineering we discussed, can you come up with examples (other than the ones mentioned) of how a data scientist might operate in each of these domains? How do these activities contribute to the overall goals of data science?\n",
        "\n",
        "3. Do you agree with the argument that data science is more of a tool than a science? Why or why not? Consider the nature of the scientific method and the way data science often relies on empirical evidence and systematic techniques. How does the debate about whether data science is a science, a tool, or an engineering discipline affect how we approach problems in data science?"
      ],
      "metadata": {
        "id": "eDBxb7lNvO8h"
      }
    },
    {
      "cell_type": "markdown",
      "source": [
        "## My Answers: The Science of Data Science\n",
        "\n",
        "1.\n",
        "\n",
        "2.\n",
        "\n",
        "3."
      ],
      "metadata": {
        "id": "DaA0b4x9vXnG"
      }
    },
    {
      "cell_type": "code",
      "source": [],
      "metadata": {
        "id": "eVcvUX-cM9TH"
      },
      "execution_count": null,
      "outputs": []
    },
    {
      "cell_type": "code",
      "source": [],
      "metadata": {
        "id": "BEdtbE12KBYS"
      },
      "execution_count": null,
      "outputs": []
    }
  ]
}