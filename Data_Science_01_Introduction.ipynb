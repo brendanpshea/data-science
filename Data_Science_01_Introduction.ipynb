{
  "nbformat": 4,
  "nbformat_minor": 0,
  "metadata": {
    "colab": {
      "provenance": [],
      "authorship_tag": "ABX9TyNNo7i5N6qFQBcXBFyz9eoG",
      "include_colab_link": true
    },
    "kernelspec": {
      "name": "python3",
      "display_name": "Python 3"
    },
    "language_info": {
      "name": "python"
    }
  },
  "cells": [
    {
      "cell_type": "markdown",
      "metadata": {
        "id": "view-in-github",
        "colab_type": "text"
      },
      "source": [
        "<a href=\"https://colab.research.google.com/github/brendanpshea/data-science/blob/main/Data_Science_01_Introduction.ipynb\" target=\"_parent\"><img src=\"https://colab.research.google.com/assets/colab-badge.svg\" alt=\"Open In Colab\"/></a>"
      ]
    },
    {
      "cell_type": "markdown",
      "source": [
        "# What is Data Science?\n",
        "## Brendan Shea, PhD\n",
        "\n",
        "**Data Science** is an interdisciplinary field that uses scientific methods, processes, algorithms, and systems to extract knowledge and insights from structured and unstructured data. It leverages a combination of techniques from statistics, mathematics, computer science, and domain-specific knowledge to achieve this goal. Essentially, it's about using data to generate meaningful and actionable insights that can inform decision-making in various sectors.\n",
        "\n",
        "Let's break down these components:\n",
        "\n",
        "1.  **Statistical Methods:** Data science relies heavily on statistics as a way to make sense of data. Statistics provide tools to describe and summarize data (descriptive statistics) and to make claims or predictions about the data (inferential statistics). For example, a transportation company may use statistics to analyze travel times, number of passengers, fuel efficiency, etc.\n",
        "\n",
        "2.  **Programming:** This is the tool that allows data scientists to interact with data. By writing code, data scientists can collect, clean, analyze, and visualize data, as well as implement machine learning models. Python and R are popular languages in this field due to their readability and the wide array of data-focused libraries available.\n",
        "\n",
        "3.  **Domain Expertise:** While the above skills provide the technical foundation for data science, domain expertise is crucial for interpreting results and making sound decisions. This involves understanding the sector in which the data analysis is being applied. For example, in the transportation sector, understanding factors like peak travel times, common routes, and regulatory policies can greatly inform a data science project.\n",
        "\n",
        "For example, imagine a city government is trying to improve its public transportation system. A data scientist might be enlisted to help answer questions like:\n",
        "\n",
        "-   \"What are the peak hours for bus usage, and do we have sufficient buses to handle that load?\"\n",
        "-   \"Are there neighborhoods that are underserved by our current bus routes?\"\n",
        "-   \"How does weather impact the usage of public transportation?\"\n",
        "\n",
        "To answer these questions, the data scientist would collect data (perhaps from bus fare systems, GPS systems on buses, weather stations, etc.), clean and process the data, then use statistical methods to analyze it. They might use programming skills to automate the collection of data and to create visualizations of bus routes and usage patterns. Finally, they would use their understanding of the city and its transportation needs (the domain expertise) to interpret their findings and make recommendations.\n"
      ],
      "metadata": {
        "id": "jAVBICY5tzd_"
      }
    },
    {
      "cell_type": "markdown",
      "source": [
        "## Applications of Data Science\n",
        "ata science has wide-ranging applications across virtually every domain. Let's take a look at a few more examples:\n",
        "\n",
        "1.  **Healthcare:** In the healthcare sector, data science can be used for predictive modeling to identify disease trends and risk factors, optimize patient care paths, and even predict patient readmissions. For example, by analyzing patient records, clinical notes, and other health data, a data scientist can develop models to predict which patients are at higher risk of readmission after surgery. Such insights could then be used to improve post-operative care and reduce readmissions.\n",
        "\n",
        "2.  **Finance:** Data science plays a vital role in financial institutions for fraud detection, risk management, investment modeling, and customer segmentation. For instance, data scientists can build models to identify unusual patterns of transactions that might indicate fraudulent activities.\n",
        "\n",
        "3.  **Marketing and Sales:** In this domain, data science can be applied to forecast sales, analyze customer behavior, optimize pricing, and improve product recommendations. An e-commerce company might use data science to predict which products a customer is likely to buy based on their browsing history and previous purchases, thereby offering more personalized product recommendations.\n",
        "\n",
        "4.  **Agriculture:** Data science has also found applications in farming, where it can help predict crop yields, optimize resource usage, and even identify plant diseases. For instance, by analyzing satellite images, weather data, and soil information, a data scientist could help farmers identify the optimal time to plant and harvest crops, potentially increasing productivity.\n",
        "\n",
        "5.  **Sports:** In the sports industry, data science can be used for player performance analysis, game strategy, injury prediction, and fan engagement. A data scientist working with a basketball team, for example, could analyze player statistics to determine optimal lineups and strategies.\n",
        "\n",
        "6.  **Education:** Data science can be used to predict student performance, reduce dropout rates, personalize learning, and even improve curriculum design. For example, by analyzing data on student attendance, assignment scores, and engagement in online learning platforms, a data scientist could identify students who are at risk of falling behind and need additional support.\n",
        "\n",
        "In essence, data science is a versatile field with the potential to impact and transform virtually any domain. It's all about extracting insights from data to make informed decisions and predictions. And the beauty of it is that the fundamental techniques and approaches remain the same, whether you're analyzing bus routes, patient records, or basketball stats. It's the context and the specific questions you're asking that change."
      ],
      "metadata": {
        "id": "-Dns5tPsuYzU"
      }
    },
    {
      "cell_type": "markdown",
      "source": [
        "## Why Python?\n",
        "Python is a high-level, interpreted programming language known for its clear syntax and readability, which makes it a great choice for beginners in programming. \"High-level\" means that Python has a strong abstraction from the details of the computer system it runs on, making it easier to write and understand than lower-level languages. \"Interpreted\" means that Python code is not converted to machine language before it is run; instead, the Python interpreter reads and executes the code directly.\n",
        "\n",
        "Python is widely used in data science for several reasons:\n",
        "\n",
        "1.  **Ease of Learning:** Python's syntax is designed to be readable and straightforward, which makes it an excellent language for beginners. Its syntax allows programmers to express concepts in fewer lines of code than would be possible in languages like C++ or Java.\n",
        "\n",
        "2.  **Versatile Libraries:** Python has a broad range of libraries that are specific to data science. Libraries like NumPy and Pandas are used for data manipulation and analysis, Matplotlib and Seaborn for data visualization, and Sci-Kit Learn for machine learning. These libraries have pre-written code to help perform a lot of common tasks without having to code them from scratch.\n",
        "\n",
        "3.  **Community Support:** Python has a strong community in the field of data science. This means that if you run into problems or need to learn new techniques, there are plentiful resources and forums available to help.\n",
        "\n",
        "4.  **Integration:** Python can easily integrate with other languages and tools. This makes it flexible for different use cases in the data science workflow, from data gathering and cleaning to modeling and visualization.\n",
        "\n",
        "Let's return to our earlier example (of the transportation department). Suppose a city's transportation department wants to analyze traffic data to optimize signal timings at intersections. They have data on vehicle counts, pedestrian counts, and timings of signal changes.\n",
        "\n",
        "A data scientist could use Python to perform this analysis. They might use the Pandas library to load the traffic data into a DataFrame (a table-like data structure), and to clean and process the data (e.g., handling missing data, converting data types). They might then use Matplotlib or Seaborn to visualize the data, helping them understand patterns in traffic flow at different times of day. They might even use Sci-Kit Learn to build a machine learning model that predicts traffic flow based on time of day, day of the week, and weather conditions. Throughout this process, Python's clear syntax and powerful libraries make the data scientist's job easier."
      ],
      "metadata": {
        "id": "T1Zkb1nxvu7m"
      }
    },
    {
      "cell_type": "markdown",
      "source": [
        "## Basic Python Syntax\n",
        "In comparison to many other languages, Python has a straightforward syntax that beginners find easy to use, and that non-experts can use in their day-to-day lives. At the same time, it is (or can be) very powerful. Here, we'll explore some basic ideas.\n",
        "\n",
        "### Comments\n",
        "\n",
        " In Python, you can add **comments** to your code that the interpreter will ignore during execution. These are used to explain what your code is doing, and they are especially useful when working with others or when you might revisit your code in the future. To create a comment, use the hash symbol (`#`) before your comment.\n",
        "\n",
        " Comments can be used to write **pseudocode**, or a plain-langauge description of what our code does (or we hope that it does!). For example:"
      ],
      "metadata": {
        "id": "DIRs3uoVv_33"
      }
    },
    {
      "cell_type": "code",
      "source": [
        "# This is a comment - it doesn't do anything\n",
        "print(\"Hello, World\") # This line prints \"Hello, World!\""
      ],
      "metadata": {
        "colab": {
          "base_uri": "https://localhost:8080/"
        },
        "id": "z32cf1KrwLEs",
        "outputId": "a4a24cf2-ca68-4b43-d7be-82bfc2b0ee01"
      },
      "execution_count": null,
      "outputs": [
        {
          "output_type": "stream",
          "name": "stdout",
          "text": [
            "Hello, World\n"
          ]
        }
      ]
    },
    {
      "cell_type": "markdown",
      "source": [
        " ### Variables\n",
        " In Python, a **variable** is a named location used to store data in the memory. You create a variable by assigning a value to it with an equals sign (`=`). The variable can then be used elsewhere in your code to refer to that value. Python is dynamically-typed, which means you don't have to declare the data type of the variable when you create it, unlike some other languages. Common data types include:\n",
        "\n",
        "| Data Type | Description | Example |\n",
        "| ----------- | ----------- | ----------- |\n",
        "| int | Integer | A whole number, such as 1, 100, or -12345. |\n",
        "| float | Floating-point number | A number with a decimal point, such as 1.2345, -3.1415, or 0.0001. |\n",
        "| str | String | A sequence of characters, such as \"Hello, world!\", \"This is a string\", or '12345'. |\n",
        "| bool | Boolean | A value that can be either True or False. |\n",
        "| list | List of values | A sequence of values that can be heterogeneous, meaning it can contain values of different data types. Examples of lists are [1, 2, 3], [\"Hello\", \"world!\"], and [1.2345, -3.1415]. |\n",
        "\n",
        "\n",
        "\n",
        "\n",
        "Here's an example of declaring and using variables:"
      ],
      "metadata": {
        "id": "1TMSuj0ZxL_J"
      }
    },
    {
      "cell_type": "code",
      "source": [
        "# Assigning values to variables\n",
        "speed = 60  # This is an integer variable\n",
        "time = 2.5  # This is a float variable\n",
        "vehicle = 'Bus'  # This is a string variable\n",
        "\n",
        "# Using the variables\n",
        "distance = speed * time  # This calculates distance by multiplying speed and time\n",
        "print(distance) # prints the result"
      ],
      "metadata": {
        "colab": {
          "base_uri": "https://localhost:8080/"
        },
        "id": "uYLGw2UMxgkj",
        "outputId": "08914254-6672-4a1c-8cc1-e7408a2614ac"
      },
      "execution_count": null,
      "outputs": [
        {
          "output_type": "stream",
          "name": "stdout",
          "text": [
            "150.0\n"
          ]
        }
      ]
    },
    {
      "cell_type": "markdown",
      "source": [
        "In the above example, 'speed', 'time', and 'vehicle' are variables, which hold values 60, 2.5, and 'Bus', respectively. The 'distance' variable is calculated by multiplying the 'speed' and 'time' variables."
      ],
      "metadata": {
        "id": "adMFzQLrzRl3"
      }
    },
    {
      "cell_type": "markdown",
      "source": [
        "## Basic Math\n",
        "\n",
        "Python uses basic arithmetic operators for performing mathematical operations, and these can be used with numeric variables or directly with numbers.\n",
        "\n",
        "-   Addition (+): `3 + 4` will give `7`\n",
        "-   Subtraction (-): `10 - 3` will give `7`\n",
        "-   Multiplication (*): `4 * 5` will give `20`\n",
        "-   Division (/): `10 / 2` will give `5.0`\n",
        "-   Floor Division (//): `10 // 3` will give `3`. This operator performs integer or floor division, i.e., it returns the largest possible integer.\n",
        "-   Modulus (%): `10 % 3` will give `1`. This operator returns the remainder of the division.\n",
        "-   Exponentiation (\\*\\*): `2 ** 3` will give `8`. This operator raises the number to its left to the power of the number to its right.\n",
        "\n",
        "For example:"
      ],
      "metadata": {
        "id": "9Gf_ppWozS2G"
      }
    },
    {
      "cell_type": "code",
      "source": [
        "# Variables\n",
        "a = 10\n",
        "b = 3\n",
        "\n",
        "# Arithmetic operations\n",
        "addition = a + b  # results in 13\n",
        "subtraction = a - b  # results in 7\n",
        "multiplication = a * b  # results in 30\n",
        "division = a / b  # results in 3.3333333333333335\n",
        "floor_division = a // b  # results in 3\n",
        "modulus = a % b  # results in 1\n",
        "exponentiation = a ** b  # results in 1000\n",
        "\n",
        "# Print the results\n",
        "print(\"Addition:\", addition)\n",
        "print(\"Subtraction:\", subtraction)\n",
        "print(\"Multiplication:\", multiplication)\n",
        "print(\"Division:\", division)\n",
        "print(\"Floor division:\", floor_division)\n",
        "print(\"Modulus:\", modulus)\n",
        "print(\"Exponentiation:\", exponentiation)\n"
      ],
      "metadata": {
        "colab": {
          "base_uri": "https://localhost:8080/"
        },
        "id": "VbMVdJIizlys",
        "outputId": "f8cea880-2417-4b23-9f4c-3b361f759091"
      },
      "execution_count": null,
      "outputs": [
        {
          "output_type": "stream",
          "name": "stdout",
          "text": [
            "Addition: 13\n",
            "Subtraction: 7\n",
            "Multiplication: 30\n",
            "Division: 3.3333333333333335\n",
            "Floor division: 3\n",
            "Modulus: 1\n",
            "Exponentiation: 1000\n"
          ]
        }
      ]
    },
    {
      "cell_type": "markdown",
      "source": [
        "## Calling a Function with Parameters\n",
        "\n",
        "A **function** in Python is a reusable block of code that performs a specific task. You can use a function by \"calling\" it by its name, followed by parentheses. Some functions accept **parameters**, which are values that the function uses to perform its task.\n",
        "\n",
        "A very basic example of a function is the `print()` function. The `print()` function outputs the value of its parameter(s) to the screen. For example:"
      ],
      "metadata": {
        "id": "CSVECv-71K0L"
      }
    },
    {
      "cell_type": "code",
      "source": [
        "print(\"Hello, World\")"
      ],
      "metadata": {
        "colab": {
          "base_uri": "https://localhost:8080/"
        },
        "id": "WHPZ84jDzQ58",
        "outputId": "8ba9f31a-f929-43dc-8332-abc6f0868ace"
      },
      "execution_count": null,
      "outputs": [
        {
          "output_type": "stream",
          "name": "stdout",
          "text": [
            "Hello, World\n"
          ]
        }
      ]
    },
    {
      "cell_type": "markdown",
      "source": [
        "In this example, the string \"Hello, world!\" is a parameter to the `print()` function. When you run this code, Python calls the `print()` function, passing in \"Hello, world!\" as the parameter, and the `print()` function outputs \"Hello, world!\" to the screen.\n",
        "\n",
        "Functions can take multiple parameters. For instance, the `print()` function can take multiple parameters and will print all of them, separated by spaces. For example:"
      ],
      "metadata": {
        "id": "t4YAPoFn1Vlq"
      }
    },
    {
      "cell_type": "code",
      "source": [
        "print(\"Hello\",\"World\")"
      ],
      "metadata": {
        "colab": {
          "base_uri": "https://localhost:8080/"
        },
        "id": "9C-OCf8k1XF7",
        "outputId": "1a8d0d9e-4063-4c95-f03c-f66b8584cd56"
      },
      "execution_count": null,
      "outputs": [
        {
          "output_type": "stream",
          "name": "stdout",
          "text": [
            "Hello World\n"
          ]
        }
      ]
    },
    {
      "cell_type": "markdown",
      "source": [
        "This code will output: Hello, world!"
      ],
      "metadata": {
        "id": "Ar3juKSm1eRF"
      }
    },
    {
      "cell_type": "markdown",
      "source": [
        "### Basic Python Functions Useful in Data Science\n",
        "\n",
        "Python includes many built-in functions that can be particularly useful in data science. Let's take a look at a few examples:\n",
        "\n",
        "| Function | Description |\n",
        "| --- | --- |\n",
        "| `len(x)` | Returns the length (the number of items) of an object `x`. This is often used when you want to know how many items are in a list, string, dictionary, or other Python collection. |\n",
        "| `sum(x)` | Returns the sum of all items in an iterable `x` (like a list or a tuple). Useful when you need to add up all the numbers in a collection. |\n",
        "| `min(x)` | Returns the smallest item in an iterable `x`. Handy for finding the smallest number in a list, the earliest date in a timeline, or the shortest string in a collection, etc. |\n",
        "| `max(x)` | Returns the largest item in an iterable `x`. Opposite of `min(x)`, it's useful for finding the largest number, the latest date, the longest string, etc. |\n",
        "| `type(x)` | Returns the type of an object `x`. This can be helpful for understanding the data you're working with, especially when you're dealing with different data types (like integers, floats, strings, lists, etc.). |\n",
        "| `round(x, n)` | Returns a floating point number that is a rounded version of the specified number `x`, with `n` number of decimals. This is useful when you need to display a number with a specific number of deci |\n",
        "\n",
        "Here are some examples:"
      ],
      "metadata": {
        "id": "HEeFBYoL1fMj"
      }
    },
    {
      "cell_type": "code",
      "source": [
        "# Define a list of numbers\n",
        "numbers = [4.75, 3.12, 7.64, 5.29, 6.99, 1.75, 8.64, 3.33]\n",
        "\n",
        "# Print the length of the list\n",
        "print(\"Length of the list:\", len(numbers))\n",
        "\n",
        "# Print the sum of the numbers\n",
        "print(\"Sum of the numbers:\", sum(numbers))\n",
        "\n",
        "# Print the minimum number\n",
        "print(\"Minimum number:\", min(numbers))\n",
        "\n",
        "# Print the maximum number\n",
        "print(\"Maximum number:\", max(numbers))\n",
        "\n",
        "# Print the type of the list\n",
        "print(\"Type of the list:\", type(numbers))\n",
        "\n",
        "# Print a rounded version of the first number\n",
        "print(\"Rounded first number:\", round(numbers[0], 2))\n"
      ],
      "metadata": {
        "colab": {
          "base_uri": "https://localhost:8080/"
        },
        "id": "MNSRdWLB2XaI",
        "outputId": "15429402-4aa9-47e7-c040-39b30d15df24"
      },
      "execution_count": null,
      "outputs": [
        {
          "output_type": "stream",
          "name": "stdout",
          "text": [
            "Length of the list: 8\n",
            "Sum of the numbers: 41.51\n",
            "Minimum number: 1.75\n",
            "Maximum number: 8.64\n",
            "Type of the list: <class 'list'>\n",
            "Rounded first number: 4.75\n"
          ]
        }
      ]
    },
    {
      "cell_type": "markdown",
      "source": [
        "## Jupyter Notebooks and Google Colab\n",
        "\n",
        "This textbook is provided as a set of **Jupyter Notebooks** written using **Google Colab.** (If you are reading a hard copy or PDF, the link should be in the introduction). Jupyter notebooks and Google Colab are interactive environments that allow you to write and execute Python code in \"cells\", making the coding process more flexible and controllable. They have become very popular tools in data science due to their user-friendly nature, as well as their unique blend of features.\n",
        "\n",
        "A Jupyter notebook is a web-based interface that allows for the creation of documents that can contain live code, equations, visualizations, and explanatory text. This combination of elements makes them excellent for creating and sharing data science projects, as they allow for code, visual output, and explanatory text to be bundled together.\n",
        "\n",
        "Google Colab, short for Colaboratory, is a free Jupyter notebook environment that runs entirely in the cloud. It allows you to write and execute Python code right in your browser, with no setup required and easy access to resources like GPUs.\n",
        "\n",
        "These are widely-used tools in data science, for a number of reasons:\n",
        "\n",
        "1.  Interactive Programming: Both Jupyter notebooks and Google Colab offer an interactive programming environment where you can write a piece of code and run it to see its output immediately. This makes it easier to experiment, debug, and make incremental progress on your work.\n",
        "\n",
        "2.  Rich Output: Jupyter notebooks and Google Colab support rich output, meaning your code can produce more than just text. Outputs like charts, images, tables, or even interactive widgets can be created and rendered right in your notebook. This is particularly useful in data science, where visualizing data is often key to understanding it.\n",
        "\n",
        "3.  Documentation and Sharing: With Jupyter notebooks and Google Colab, you can intersperse code with text explanations, mathematical equations, and markdown formatting to document your work. This makes your work more understandable for others (and for yourself, when you look back on your work later!). Additionally, these notebooks can be easily shared, published, and even turned into slideshows or web pages, making them a great tool for collaborative work and reporting.\n",
        "\n",
        "4.  Accessibility and Compatibility: Jupyter notebooks can be run on any operating system (Windows, MacOS, Linux). Google Colab is even more accessible -- as a web application, it can be accessed from any device with an internet connection and a web browser. This also means you don't need a powerful computer to do intensive computations, as you can utilize Google's hardware.\n",
        "\n",
        "5.  Integration with Data Science Tools: Both Jupyter notebooks and Google Colab are compatible with many popular data science libraries, such as NumPy, Pandas, Matplotlib, and Scikit-Learn, allowing you to use these powerful tools right within your notebooks.\n",
        "\n",
        "In summary, Jupyter notebooks and Google Colab provide an interactive, versatile, and accessible platform for performing and sharing data science work, which makes them invaluable tools in this field."
      ],
      "metadata": {
        "id": "mxioIQ4b27Ky"
      }
    },
    {
      "cell_type": "markdown",
      "source": [
        "## Basic Operations in Google Colab\n",
        "\n",
        "Google Colab is a very user-friendly tool and doing basic operations is quite straightforward. Let's go through some of these basic operations.\n",
        "\n",
        "1.  Adding a Text Cell: To add a text cell, you can either click on `+ Text` in the top left corner of the screen or use the shortcut `Ctrl + M` then `T`. Text cells can contain notes, formatted text via markdown, mathematical equations written in LaTeX, HTML code, and even images.\n",
        "\n",
        "2.  Adding a Code Cell: To add a code cell, you can either click on `+ Code` in the top left corner or use the shortcut `Ctrl + M` then `C`. Code cells are used to write and run Python code.\n",
        "\n",
        "3.  Editing a Cell: To edit a cell, simply click on the cell and start typing. For text cells, clicking on the cell will open the markdown editor. For code cells, clicking on the cell will allow you to start typing code.\n",
        "\n",
        "4.  Running a Code Cell: To run a code cell, you can click on the play button on the left of the cell or use the shortcut `Ctrl + Enter`. If you want to run the cell and then automatically select the next cell, you can use `Shift + Enter` instead.\n",
        "\n",
        "5.  Saving a Notebook: Google Colab automatically saves your notebook to Google Drive as you work, but if you want to manually save, you can use the shortcut `Ctrl + S` or click on `File` in the menu, then `Save`.\n",
        "\n",
        "6.  Downloading a Notebook: To download your notebook, you can go to `File` in the menu, then `Download .ipynb` or `Download .py`. The `.ipynb` format is a Jupyter Notebook, and the `.py` format is a Python script."
      ],
      "metadata": {
        "id": "rAe5a5A04ApM"
      }
    },
    {
      "cell_type": "markdown",
      "source": [
        "## Exercises\n",
        "\n",
        "Now, let's practice everything you've learned so far with some exercises:\n",
        "\n",
        "1.  Create a new Google Colab notebook and name it \"Practice Notebook\".\n",
        "\n",
        "2.  Add a text cell at the top of your notebook, and write a brief introduction about yourself in it. Make sure to include a title for your notebook using markdown (Hint: use `#` for a title).\n",
        "\n",
        "3.  Add a code cell and write a simple Python program that prints \"Hello, world!\". Run the cell and make sure it prints out correctly.\n",
        "\n",
        "4.  Add a text cell under your program, and write a brief explanation of what your program does.\n",
        "\n",
        "5.  Create a Python list of 5 numbers of your choice. Use the `len()`, `sum()`, `min()`, `max()`, `type()`, and `round()` functions on your list and print out the results.\n",
        "\n",
        "6.  Write explanations of what each function does with your list in a new text cell.\n",
        "\n",
        "7.  Make sure to save your notebook when you're finished!\n",
        "\n",
        "This exercise should give you some practice using Google Colab and writing Python code. Remember, the best way to learn is by doing, so don't hesitate to play around and experiment!"
      ],
      "metadata": {
        "id": "ZXHbWEYX4F_h"
      }
    },
    {
      "cell_type": "code",
      "source": [],
      "metadata": {
        "id": "SmYK1BFvzQ-C"
      },
      "execution_count": null,
      "outputs": []
    },
    {
      "cell_type": "code",
      "execution_count": null,
      "metadata": {
        "colab": {
          "base_uri": "https://localhost:8080/"
        },
        "id": "1ko1BU0oqxTI",
        "outputId": "3e55bf85-89f5-4513-e3c7-db496fce5a18"
      },
      "outputs": [
        {
          "output_type": "stream",
          "name": "stdout",
          "text": [
            "Collecting pydataset\n",
            "  Downloading pydataset-0.2.0.tar.gz (15.9 MB)\n",
            "\u001b[2K     \u001b[90m━━━━━━━━━━━━━━━━━━━━━━━━━━━━━━━━━━━━━━━━\u001b[0m \u001b[32m15.9/15.9 MB\u001b[0m \u001b[31m42.5 MB/s\u001b[0m eta \u001b[36m0:00:00\u001b[0m\n",
            "\u001b[?25h  Preparing metadata (setup.py) ... \u001b[?25l\u001b[?25hdone\n",
            "Requirement already satisfied: pandas in /usr/local/lib/python3.10/dist-packages (from pydataset) (1.5.3)\n",
            "Requirement already satisfied: python-dateutil>=2.8.1 in /usr/local/lib/python3.10/dist-packages (from pandas->pydataset) (2.8.2)\n",
            "Requirement already satisfied: pytz>=2020.1 in /usr/local/lib/python3.10/dist-packages (from pandas->pydataset) (2022.7.1)\n",
            "Requirement already satisfied: numpy>=1.21.0 in /usr/local/lib/python3.10/dist-packages (from pandas->pydataset) (1.22.4)\n",
            "Requirement already satisfied: six>=1.5 in /usr/local/lib/python3.10/dist-packages (from python-dateutil>=2.8.1->pandas->pydataset) (1.16.0)\n",
            "Building wheels for collected packages: pydataset\n",
            "  Building wheel for pydataset (setup.py) ... \u001b[?25l\u001b[?25hdone\n",
            "  Created wheel for pydataset: filename=pydataset-0.2.0-py3-none-any.whl size=15939416 sha256=c14422d687a9a1d8c68417b3d523350c5806d337670886f02f07747f0ea6e9b4\n",
            "  Stored in directory: /root/.cache/pip/wheels/2b/83/5c/073c3755e8b7704e4677557b2055e61026c1a2342149214c13\n",
            "Successfully built pydataset\n",
            "Installing collected packages: pydataset\n",
            "Successfully installed pydataset-0.2.0\n",
            "initiated datasets repo at: /root/.pydataset/\n",
            "                    mpg  cyl   disp   hp  drat     wt   qsec  vs  am  gear  \\\n",
            "Mazda RX4          21.0    6  160.0  110  3.90  2.620  16.46   0   1     4   \n",
            "Mazda RX4 Wag      21.0    6  160.0  110  3.90  2.875  17.02   0   1     4   \n",
            "Datsun 710         22.8    4  108.0   93  3.85  2.320  18.61   1   1     4   \n",
            "Hornet 4 Drive     21.4    6  258.0  110  3.08  3.215  19.44   1   0     3   \n",
            "Hornet Sportabout  18.7    8  360.0  175  3.15  3.440  17.02   0   0     3   \n",
            "\n",
            "                   carb  \n",
            "Mazda RX4             4  \n",
            "Mazda RX4 Wag         4  \n",
            "Datsun 710            1  \n",
            "Hornet 4 Drive        1  \n",
            "Hornet Sportabout     2  \n"
          ]
        }
      ],
      "source": [
        "!pip install pydataset -q # Install required packages\n",
        "from pydataset import data # Import required modules\n",
        "dataset = data('mtcars') # Load the mtcars dataset\n",
        "\n",
        "# Display the first few rows of the dataset\n",
        "print(dataset.head())\n"
      ]
    }
  ]
}