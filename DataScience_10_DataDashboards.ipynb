{
  "nbformat": 4,
  "nbformat_minor": 0,
  "metadata": {
    "colab": {
      "provenance": [],
      "authorship_tag": "ABX9TyPLA4Rxw+Wvx2tYRmIp9Px/",
      "include_colab_link": true
    },
    "kernelspec": {
      "name": "python3",
      "display_name": "Python 3"
    },
    "language_info": {
      "name": "python"
    }
  },
  "cells": [
    {
      "cell_type": "markdown",
      "metadata": {
        "id": "view-in-github",
        "colab_type": "text"
      },
      "source": [
        "<a href=\"https://colab.research.google.com/github/brendanpshea/data-science/blob/main/DataScience_10_DataDashboards.ipynb\" target=\"_parent\"><img src=\"https://colab.research.google.com/assets/colab-badge.svg\" alt=\"Open In Colab\"/></a>"
      ]
    },
    {
      "cell_type": "markdown",
      "source": [
        "# Dashboads and Visualizations\n",
        "\n",
        "In the digital age, data drives decisions. Whether it's optimizing marketing strategies, tracking business performance, or identifying customer trends, data dashboards are essential tools for consolidating complex information into digestible, actionable insights. Imagine stepping into the role of an advertising executive managing a campaign for a new snack product, \"Crunch-O-Matic.\" With data flowing in from various channels, the ability to make informed, real-time decisions is crucial. Data dashboards provide a visual representation of the most critical metrics, empowering users to monitor progress and respond to emerging patterns at a glance. This chapter will guide you through the world of data dashboards, from fundamental principles to hands-on implementation using Plotly in Python. By mastering these skills, you'll be equipped to design and deploy dynamic dashboards that bring clarity to complex data, enhancing decision-making across industries.\n",
        "\n",
        "In this chapter, you'll learn to:\n",
        "\n",
        "1.  Understand the role of data dashboards in modern business and data science contexts.\n",
        "2.  Identify key components of effective data dashboards, including interactivity, layout, and visual design.\n",
        "3.  Create basic to advanced data visualizations using Plotly Express.\n",
        "4.  Build interactive, real-time dashboards using the Dash framework.\n",
        "5.  Integrate various types of charts---line, pie, bar, scatter, bubble, and more---into cohesive, user-friendly dashboards.\n",
        "6.  Implement best practices in dashboard design to convey clear, actionable insights.\n",
        "7.  Explore the development process from mockups to deployment of fully functional data dashboards.\n",
        "\n",
        "**Keywords:** Data dashboards, Plotly, Dash, interactivity, data visualization, business intelligence, Python, Jupyter notebooks, layout design, data storytelling.\n"
      ],
      "metadata": {
        "id": "VSTodiSR3sl-"
      }
    },
    {
      "cell_type": "markdown",
      "source": [
        "## Scenario: Mad Men-Style Ad Campaign for Crunch-O-Matic\n",
        "\n",
        "You're the head of a modern advertising agency, tasked with promoting \"Crunch-O-Matic,\" a new line of potato chips. Your client wants to dominate the snack market, but they're facing tough competition. You need to make data-driven decisions to ensure the success of your campaign.\n",
        "\n",
        "Key questions you need to answer:\n",
        "1. Who is the target audience for Crunch-O-Matic?\n",
        "2. What marketing channels are most effective for reaching this audience?\n",
        "3. How is the product performing in different regions?\n",
        "4. What impact are your advertising efforts having on sales?\n",
        "\n",
        "To answer these questions effectively, you decide to create a data dashboard that will help you visualize and analyze key information about your ad campaign and its results.\n",
        "\n",
        "This scenario illustrates how a data dashboard can be an invaluable tool in modern advertising and business decision-making. By consolidating and visualizing critical information, a dashboard allows you to quickly grasp complex data and make informed choices.\n",
        "\n",
        "In our Crunch-O-Matic example, a well-designed dashboard might include:\n",
        "\n",
        "1. **Demographic breakdown** of customers who purchase the product\n",
        "2. **Geographic heat map** showing sales performance across different regions\n",
        "3. **Line graph** tracking sales over time, with annotations for major ad campaign launches\n",
        "4. **Bar chart** comparing the effectiveness of different marketing channels (TV, social media, print, etc.)\n",
        "5. **Real-time social media sentiment analysis** gauge\n",
        "\n",
        "By having all this information available at a glance, you can quickly identify trends, spot potential issues, and make data-driven decisions to optimize your ad campaign.\n",
        "\n",
        "Throughout this chapter, we'll explore how to create such dashboards using **Plotly**, a powerful data visualization library for Python. **Plotly** allows you to create interactive, publication-quality graphs and charts that can be easily integrated into **Jupyter notebooks** or web applications.\n",
        "\n",
        "**Jupyter notebooks** are web-based interactive computing platforms that allow you to combine live code, visualizations, and narrative text. They're an excellent tool for data analysis and presentation, making them perfect for creating and sharing data dashboards.\n",
        "\n",
        "As we progress through this chapter, we'll delve deeper into the world of data dashboards, exploring their various types, design considerations, and how to create them using Plotly in Jupyter notebooks. By the end, you'll have the skills to create your own Mad Men-style data-driven ad campaigns, backed by powerful visualizations and analytics."
      ],
      "metadata": {
        "id": "GitU1F-S-dkm"
      }
    },
    {
      "cell_type": "markdown",
      "source": [
        "### Example Dasboard: Snack Sales By Region\n",
        "Let's begin by looking at example of a simple dashboard that allows us to see snack sales by region."
      ],
      "metadata": {
        "id": "SYId_ZFh-2nZ"
      }
    },
    {
      "cell_type": "code",
      "source": [
        "!pip install dash -q\n",
        "\n",
        "import pandas as pd\n",
        "import plotly.express as px\n",
        "from dash import Dash, dcc, html\n",
        "from dash.dependencies import Input, Output\n",
        "\n",
        "# Create sample data\n",
        "data = {\n",
        "    'Region': ['North', 'South', 'East', 'West'] * 3,\n",
        "    'Product': ['Chips', 'Chips', 'Chips', 'Chips', 'Popcorn', 'Popcorn', 'Popcorn', 'Popcorn', 'Pretzels', 'Pretzels', 'Pretzels', 'Pretzels'],\n",
        "    'Sales': [100, 120, 80, 150, 80, 90, 110, 70, 60, 50, 40, 30]\n",
        "}\n",
        "df = pd.DataFrame(data)\n",
        "\n",
        "# Initialize the Dash app\n",
        "app = Dash(__name__)\n",
        "\n",
        "# Define the layout\n",
        "app.layout = html.Div([\n",
        "    html.H1(\"Crunch-O-Matic Sales Dashboard\"),\n",
        "\n",
        "    dcc.Dropdown(\n",
        "        id='product-dropdown',\n",
        "        options=[{'label': i, 'value': i} for i in df['Product'].unique()],\n",
        "        value='Chips',\n",
        "        style={'width': '50%'}\n",
        "    ),\n",
        "\n",
        "    dcc.Graph(id='sales-bar-chart'),\n",
        "\n",
        "    dcc.Graph(id='sales-pie-chart')\n",
        "])\n",
        "\n",
        "# Define callback to update bar chart\n",
        "@app.callback(\n",
        "    Output('sales-bar-chart', 'figure'),\n",
        "    Input('product-dropdown', 'value')\n",
        ")\n",
        "def update_bar_chart(selected_product):\n",
        "    filtered_df = df[df['Product'] == selected_product]\n",
        "    fig = px.bar(filtered_df, x='Region', y='Sales', title=f'{selected_product} Sales by Region')\n",
        "    return fig\n",
        "\n",
        "# Define callback to update pie chart\n",
        "@app.callback(\n",
        "    Output('sales-pie-chart', 'figure'),\n",
        "    Input('product-dropdown', 'value')\n",
        ")\n",
        "def update_pie_chart(selected_product):\n",
        "    filtered_df = df[df['Product'] == selected_product]\n",
        "    fig = px.pie(filtered_df, values='Sales', names='Region', title=f'{selected_product} Sales Distribution')\n",
        "    return fig\n",
        "\n",
        "# Run the app\n",
        "app.run(jupyter_mode=\"inline\")\n"
      ],
      "metadata": {
        "colab": {
          "base_uri": "https://localhost:8080/",
          "height": 671
        },
        "id": "vJTsH0ZD-5Uu",
        "outputId": "d6f7b22c-3e79-4a1e-c5ce-d6f7c01e8085"
      },
      "execution_count": 19,
      "outputs": [
        {
          "output_type": "display_data",
          "data": {
            "text/plain": [
              "<IPython.core.display.Javascript object>"
            ],
            "application/javascript": [
              "(async (port, path, width, height, cache, element) => {\n",
              "    if (!google.colab.kernel.accessAllowed && !cache) {\n",
              "      return;\n",
              "    }\n",
              "    element.appendChild(document.createTextNode(''));\n",
              "    const url = await google.colab.kernel.proxyPort(port, {cache});\n",
              "    const iframe = document.createElement('iframe');\n",
              "    iframe.src = new URL(path, url).toString();\n",
              "    iframe.height = height;\n",
              "    iframe.width = width;\n",
              "    iframe.style.border = 0;\n",
              "    iframe.allow = [\n",
              "        'accelerometer',\n",
              "        'autoplay',\n",
              "        'camera',\n",
              "        'clipboard-read',\n",
              "        'clipboard-write',\n",
              "        'gyroscope',\n",
              "        'magnetometer',\n",
              "        'microphone',\n",
              "        'serial',\n",
              "        'usb',\n",
              "        'xr-spatial-tracking',\n",
              "    ].join('; ');\n",
              "    element.appendChild(iframe);\n",
              "  })(8050, \"/\", \"100%\", 650, false, window.element)"
            ]
          },
          "metadata": {}
        }
      ]
    },
    {
      "cell_type": "markdown",
      "source": [
        "You'll notice the following elements (don't worry about the details of the code for now--we'll come back to that later...):\n",
        "\n",
        "1. **Data Source**:\n",
        "   In our example, we're using a simple pandas DataFrame as our data source. In real-world scenarios, this could be connected to a database, API, or other data streams. The data includes information about product sales across different regions.\n",
        "\n",
        "2. **Interactivity**:\n",
        "   The dropdown menu allows users to select different products, demonstrating how dashboards can be interactive. This interactivity lets users explore the data from different angles.\n",
        "\n",
        "3. **Charts and Graphs**:\n",
        "   We've included two types of charts:\n",
        "   - A bar chart showing sales by region\n",
        "   - A pie chart showing the distribution of sales\n",
        "\n",
        "   These visualizations help users quickly understand the data without having to parse through raw numbers.\n",
        "\n",
        "4. **Layout**:\n",
        "   The dashboard is organized with a clear structure:\n",
        "   - A title at the top\n",
        "   - A dropdown for user input\n",
        "   - Two graphs arranged vertically\n",
        "\n",
        "   This layout guides the user's eye and helps tell a story with the data.\n",
        "\n",
        "5. **Real-time Updates**:\n",
        "   The `@app.callback` decorators define how the charts should update when the user interacts with the dropdown. This demonstrates how dashboards can provide real-time or near-real-time data updates.\n",
        "\n",
        "6. **Consistency in Design**:\n",
        "   Both charts use the same color scheme and styling, providing a cohesive look to the dashboard.\n",
        "\n",
        "7. **Titles and Labels**:\n",
        "   Each chart has a clear title that updates based on the selected product, helping users understand what they're looking at.\n",
        "\n",
        "8. **Multiple Views of the Same Data**:\n",
        "   By showing both a bar chart and a pie chart, we're providing multiple perspectives on the same data, allowing for deeper insights.\n",
        "\n",
        "This simple dashboard demonstrates several key principles:\n",
        "\n",
        "- **Data Visualization**: Converting raw data into visual representations that are easy to understand at a glance.\n",
        "- **Interactivity**: Allowing users to explore the data themselves rather than presenting static information.\n",
        "- **Customization**: The ability to focus on specific aspects of the data (in this case, different products).\n",
        "- **Comparative Analysis**: Enabling users to compare data across different categories (regions in this case).\n",
        "\n",
        "As you progress through the chapter, you can dive deeper into each of these elements, teaching students how to create more complex visualizations, handle larger datasets, and design dashboards for specific business needs. This example serves as a starting point to introduce the concept and spark students' interest in data visualization and dashboard creation."
      ],
      "metadata": {
        "id": "JXm-owgoA99s"
      }
    },
    {
      "cell_type": "markdown",
      "source": [
        "## What are some examples of data dashboards?\n",
        "\n",
        "Data dashboards come in many forms and serve various purposes across different industries. Let's explore some common types of dashboards and their real-world applications:\n",
        "\n",
        "### Business Intelligence (BI) Dashboards\n",
        "   \n",
        "**Business Intelligence dashboards** consolidate and visualize key performance indicators (KPIs) for a company. These dashboards help executives and managers make data-driven decisions.\n",
        "\n",
        "Example: A sales BI dashboard might include:\n",
        "- Total revenue over time (line chart)\n",
        "- Sales by product category (bar chart)\n",
        "- Top performing salespeople (leaderboard)\n",
        "- Geographic distribution of sales (map)\n",
        "\n",
        "### Financial Dashboards\n",
        "\n",
        "**Financial dashboards** provide a quick overview of an organization's financial health. They're crucial for CFOs, accountants, and financial analysts.\n",
        "\n",
        "Example: A financial dashboard could display:\n",
        "- Cash flow statement (waterfall chart)\n",
        "- Profit and loss summary (table)\n",
        "- Accounts receivable aging (stacked bar chart)\n",
        "- Budget vs. actual spending (combo chart)\n",
        "\n",
        "### Marketing Dashboards\n",
        "\n",
        "**Marketing dashboards** help track the performance of marketing campaigns across various channels. They're essential for marketing managers and digital marketers.\n",
        "\n",
        "Example: A digital marketing dashboard might show:\n",
        "- Website traffic sources (pie chart)\n",
        "- Social media engagement rates (line chart)\n",
        "- Email campaign open and click-through rates (bar chart)\n",
        "- ROI of different marketing channels (scatter plot)\n",
        "\n",
        "### Project Management Dashboards\n",
        "\n",
        "**Project management dashboards** provide a bird's-eye view of ongoing projects, helping project managers and team leads track progress and allocate resources effectively.\n",
        "\n",
        "Example: A project dashboard could include:\n",
        "- Project timeline and milestones (Gantt chart)\n",
        "- Task completion status (progress bars)\n",
        "- Team member workload (heat map)\n",
        "- Budget utilization (gauge chart)\n",
        "\n",
        "### Healthcare Dashboards\n",
        "\n",
        "**Healthcare dashboards** are used in hospitals and clinics to monitor patient care, resource allocation, and overall facility performance.\n",
        "\n",
        "Example: A hospital dashboard might display:\n",
        "- Patient admission and discharge rates (area chart)\n",
        "- Average length of stay (histogram)\n",
        "- Staff-to-patient ratios (bubble chart)\n",
        "- Equipment utilization rates (gauge chart)\n",
        "\n",
        "### Social Media Analytics Dashboards\n",
        "\n",
        "**Social media analytics dashboards** help businesses and influencers track their performance across various social platforms.\n",
        "\n",
        "Example: A social media dashboard could show:\n",
        "- Follower growth over time (line chart)\n",
        "- Post engagement rates (bar chart)\n",
        "- Sentiment analysis of comments (pie chart)\n",
        "- Best performing content types (grouped bar chart)\n",
        "\n",
        "### Operations Dashboards\n",
        "\n",
        "**Operations dashboards** are used in manufacturing and logistics to monitor production processes, supply chain efficiency, and resource utilization.\n",
        "\n",
        "Example: A manufacturing operations dashboard might include:\n",
        "- Production output vs. targets (bullet chart)\n",
        "- Machine downtime (Pareto chart)\n",
        "- Inventory levels (stacked area chart)\n",
        "- Quality control metrics (control chart)\n",
        "\n",
        "### Personal Finance Dashboards\n",
        "\n",
        "**Personal finance dashboards** help individuals track their spending, savings, and investments.\n",
        "\n",
        "Example: A personal finance dashboard could display:\n",
        "- Monthly income vs. expenses (stacked column chart)\n",
        "- Investment portfolio performance (treemap)\n",
        "- Savings goal progress (gauge chart)\n",
        "- Spending breakdown by category (donut chart)\n",
        "\n",
        "These examples demonstrate the versatility of data dashboards across various domains. Each type of dashboard is designed to present relevant information in an easily digestible format, enabling quick understanding and decision-making based on data. As you progress in your data science journey, you'll likely encounter and create many of these dashboard types, adapting them to specific needs and datasets."
      ],
      "metadata": {
        "id": "VYDavDULraqR"
      }
    },
    {
      "cell_type": "markdown",
      "source": [
        "## What considerations go into designing dashboards?\n",
        "\n",
        "When designing a data dashboard, several key factors need to be taken into account to ensure the dashboard is effective, informative, and user-friendly. Let's explore these considerations:\n",
        "\n",
        "###. Data source and attributes\n",
        "\n",
        "The foundation of any good dashboard is the data it presents. Understanding your data is crucial for creating meaningful visualizations.\n",
        "\n",
        "#### Field definitions\n",
        "\n",
        "**Field definitions** refer to the specific pieces of information in your dataset. For example, in our Crunch-O-Matic scenario, fields might include:\n",
        "\n",
        "- Product Name\n",
        "- Sales Amount\n",
        "- Date of Sale\n",
        "- Customer Age\n",
        "- Region\n",
        "\n",
        "It's important to clearly define what each field represents and how it's measured.\n",
        "\n",
        "#### Dimensions\n",
        "\n",
        "**Dimensions** are categorical fields that can be used to group or segment your data. They often answer questions like \"who,\" \"what,\" or \"where.\" In our example, dimensions could include:\n",
        "\n",
        "- Product Name\n",
        "- Region\n",
        "- Customer Age Group\n",
        "\n",
        "Dimensions help provide context and allow for more detailed analysis.\n",
        "\n",
        "#### Measures\n",
        "\n",
        "**Measures** are quantitative fields that can be aggregated (summed, averaged, etc.). They often answer questions like \"how many\" or \"how much.\" In our Crunch-O-Matic example, measures might include:\n",
        "\n",
        "- Sales Amount\n",
        "- Units Sold\n",
        "- Profit Margin\n",
        "\n",
        "Measures are what you typically want to analyze or track over time.\n",
        "\n",
        "#### Continuous/live data vs static data\n",
        "\n",
        "The nature of your data will influence how your dashboard is designed and updated:\n",
        "\n",
        "- **Continuous or live data** is constantly changing and updating. For example, real-time sales data or social media engagement metrics. Dashboards with live data need to be designed to update automatically and handle potential fluctuations.\n",
        "\n",
        "- **Static data** is fixed and doesn't change frequently. For example, historical sales data from previous years. Dashboards with static data might be updated less frequently but could focus more on in-depth analysis.\n",
        "\n",
        "### Consumer types\n",
        "\n",
        "Different users have different needs and levels of data literacy. Consider who will be using the dashboard:\n",
        "\n",
        "#### C-level executives\n",
        "\n",
        "- Need: High-level overview of key performance indicators (KPIs)\n",
        "- Design consideration: Simple, clear visualizations focusing on the most critical metrics\n",
        "\n",
        "#### Management\n",
        "\n",
        "- Need: Detailed performance metrics for their specific area of responsibility\n",
        "- Design consideration: More in-depth dashboards with the ability to drill down into specific data points\n",
        "\n",
        "#### External vendors/stakeholders\n",
        "\n",
        "- Need: Relevant data that doesn't expose sensitive company information\n",
        "- Design consideration: Carefully curated dashboards that provide necessary insights while maintaining data security\n",
        "\n",
        "#### General public\n",
        "\n",
        "- Need: Easy-to-understand information without technical jargon\n",
        "- Design consideration: Simple, intuitive visualizations with clear explanations and context\n",
        "\n",
        "#### Technical Experts\n",
        "\n",
        "- Need: Detailed, granular data with the ability to perform advanced analysis\n",
        "- Design consideration: Complex dashboards with multiple interactive features and the ability to export raw data\n",
        "\n",
        "By carefully considering these factors, you can create dashboards that are not only visually appealing but also highly functional and valuable to their intended users."
      ],
      "metadata": {
        "id": "SoMKC2B5sKOX"
      }
    },
    {
      "cell_type": "markdown",
      "source": [
        "## Development process\n",
        "\n",
        "Creating an effective data dashboard is a multi-step process that requires careful planning, design, and execution. Each stage of the development process is crucial in ensuring that the final product meets the needs of its users and effectively communicates the intended data story. Let's walk through the typical development process, exploring each step in detail.\n",
        "\n",
        "### Mockup/wireframe\n",
        "\n",
        "The journey of dashboard creation begins with a blueprint. A **mockup** or **wireframe** serves as a visual draft of your dashboard, allowing you to plan its layout and functionality before diving into the actual development. This crucial step helps you organize your thoughts, experiment with different layouts, and get early feedback from stakeholders.\n",
        "\n",
        "### Layout/presentation\n",
        "\n",
        "Thelayout of your dashboard is like the foundation of a house - it needs to be solid and well-planned. A good layout ensures that information is presented clearly and logically, making it easy for users to find what they need. When designing your layout, consider the following aspects:\n",
        "\n",
        "- Place the most important information where it will be seen first (typically top-left for Western audiences), establishing a clear **information hierarchy**.\n",
        "- Keep related visualizations close to each other, effectively **grouping related items**.\n",
        "- Don't overcrowd the dashboard. Allow for some empty space to make it easier to read, utilizing **white space** effectively.\n",
        "- Use a **consistent style** throughout the dashboard to create a cohesive look and feel.\n",
        "\n",
        "### Flow/navigation\n",
        "\n",
        "Just as a well-designed building guides visitors naturally from one area to another, your dashboard should have an intuitive flow. This involves thinking about how users will interact with your dashboard and move between different sections or levels of information. Consider these points:\n",
        "\n",
        "- Make it obvious how to use the dashboard, focusing on **intuitive design**.\n",
        "- Arrange elements in a way that makes sense for the data story you're telling, creating a logical order.\n",
        "- Plan where users can click, filter, or drill down for more information, incorporating thoughtful interactivity.\n",
        "\n",
        "### Data story planning\n",
        "\n",
        "Every good dashboard tells a story with data. Before you start building, it's important to plan out what narrative your dashboard will convey. This involves thinking about:\n",
        "\n",
        "- The main message you want to communicate through your **narrative**.\n",
        "- How the different elements of your dashboard support this message.\n",
        "- What questions the user should be able to answer by using your dashboard.\n"
      ],
      "metadata": {
        "id": "VqJSDNiItTnX"
      }
    },
    {
      "cell_type": "markdown",
      "source": [
        "### WHen Approval is Granted...\n",
        "\n",
        "Once you've crafted your mockup, the next step is to get the green light from stakeholders. This approval process is more than just a formality - it's an opportunity to ensure that your design aligns with the needs and expectations of those who will be using or overseeing the dashboard.\n",
        "\n",
        "The approval process might involve presenting your mockup to:\n",
        "\n",
        "- The **end-users** of the dashboard, who can provide valuable insights into usability and relevance.\n",
        "- Your **manager or team lead**, who can assess how well the dashboard meets project goals.\n",
        "- **Clients** (if you're creating the dashboard for external use), who can confirm that it meets their specific requirements.\n",
        "\n",
        "Be prepared to explain your design choices and how the dashboard meets the defined requirements. This is also a great opportunity to gather additional feedback that can help refine your design before moving into the development phase."
      ],
      "metadata": {
        "id": "uYZ32gapt-dA"
      }
    },
    {
      "cell_type": "markdown",
      "source": [
        "## Develop dashboard\n",
        "\n",
        "With approval in hand, it's time to bring your dashboard to life. This stage is where your planning and design work starts to take tangible form. The development process typically involves several key steps:\n",
        "\n",
        "1. Start by cleaning and structuring your data for use in the dashboard. This **data preparation** phase is crucial for ensuring accurate and meaningful visualizations.\n",
        "\n",
        "2. Use tools like Plotly to create the charts and graphs you planned in your mockup. This **visualization creation** step is where your data starts to tell its story visually.\n",
        "\n",
        "3. Implement filters, drill-downs, and other interactive elements. This **interactivity addition** allows users to explore the data more deeply and find insights relevant to their specific needs.\n",
        "\n",
        "4. Apply your chosen color scheme and fonts to make the dashboard visually appealing. This **styling** phase helps ensure your dashboard is not just functional, but also aesthetically pleasing.\n",
        "\n",
        "5. Ensure all elements of the dashboard work as intended with real data. This **testing** phase is critical for catching and fixing any issues before the dashboard goes live.\n",
        "\n",
        "## Deploy to production\n",
        "\n",
        "The final step in the dashboard development process is deploying it to production. This is where your creation goes from a development environment to being accessible by its intended users. The deployment process involves several important steps to ensure a smooth transition:\n",
        "\n",
        "1. Move your dashboard to where it will be permanently hosted, whether that's a server, cloud platform, or another **production environment**.\n",
        "\n",
        "2. Make sure your dashboard can access all necessary data sources in its new home by **setting up data connections**.\n",
        "\n",
        "3. Have a group of end-users test the dashboard in its production environment to catch any last-minute issues. This **user testing** phase can reveal problems that weren't apparent in development.\n",
        "\n",
        "4. Create **user guides or help documentation** if needed, especially for complex dashboards or those introducing new concepts to users.\n",
        "\n",
        "5. Provide **training** to users to ensure they can make the most of the dashboard's features and understand how to interpret the data presented.\n",
        "\n",
        "6. Set up systems to **monitor** the dashboard's performance and usage. This can help you identify any issues quickly and understand how the dashboard is being used.\n",
        "\n",
        "Remember, dashboard development is often an iterative process. After deployment, you may receive feedback from users that leads to further refinements and improvements. Being open to this feedback and willing to make adjustments is key to creating a truly effective and user-friendly dashboard."
      ],
      "metadata": {
        "id": "z--pFTmQtwCJ"
      }
    },
    {
      "cell_type": "markdown",
      "source": [
        "# Introduction to Plotly and Plotly Express\n",
        "\n",
        "Now that we've explored the general concepts of data dashboards, their types, and the development process, let's dive into a powerful tool that will help us bring our dashboards to life: Plotly.\n",
        "\n",
        "## What is Plotly?\n",
        "\n",
        "**Plotly** is a data visualization library that allows you to create interactive, publication-quality graphs and charts. It's particularly well-suited for creating dashboards because of its wide range of chart types and its ability to create web-based, interactive visualizations.\n",
        "\n",
        "Plotly has several components:\n",
        "\n",
        "1. **Plotly.js** is the core JavaScript library that powers the visualizations.\n",
        "2. **Plotly.py** is the Python library that allows you to create Plotly visualizations in Python.\n",
        "3. **Plotly Express** is a high-level interface for Plotly.py that makes it easy to create common charts with just a few lines of code.\n",
        "4. **Dash** is a framework for building analytical web applications, powered by Plotly visualizations.\n",
        "\n",
        "For our Mad Men-style ad campaign dashboards, we'll primarily focus on **Plotly Express** and **Dash**.\n",
        "\n",
        "## Plotly Express: The Quick and Easy Way to Create Charts\n",
        "\n",
        "**Plotly Express** is designed to simplify the process of creating common charts. It's part of the `plotly` library and is typically imported as `px`. Here's the basic format for creating charts with Plotly Express:\n",
        "\n",
        "```python\n",
        "import plotly.express as px\n",
        "\n",
        "# Create a figure\n",
        "fig = px.chart_type(data_frame=your_dataframe, x='x_column', y='y_column', ...)\n",
        "\n",
        "# Show the figure\n",
        "fig.show()\n",
        "```\n",
        "\n",
        "Let's break this down:\n",
        "\n",
        "- `px.chart_type`: This is where you specify the type of chart you want to create (e.g., `px.line`, `px.bar`, `px.scatter`).\n",
        "- `data_frame`: This is your pandas DataFrame containing the data you want to visualize.\n",
        "- `x` and `y`: These specify which columns from your DataFrame to use for the x and y axes.\n",
        "- Additional parameters can be used to customize colors, labels, titles, and more.\n",
        "\n",
        "For example, let's create a simple line chart showing Crunch-O-Matic's sales over time:\n"
      ],
      "metadata": {
        "id": "Ox6HkK8OtwLy"
      }
    },
    {
      "cell_type": "code",
      "source": [
        "import plotly.express as px\n",
        "import pandas as pd\n",
        "\n",
        "# Sample data\n",
        "data = {\n",
        "    'Date': ['2023-01-01', '2023-02-01', '2023-03-01', '2023-04-01'],\n",
        "    'Sales': [1000, 1200, 900, 1500]\n",
        "}\n",
        "df = pd.DataFrame(data)\n",
        "\n",
        "# Create the line chart\n",
        "fig = px.line(df, x='Date', y='Sales', title='Crunch-O-Matic Sales Over Time')\n",
        "\n",
        "# Show the figure\n",
        "fig.show()"
      ],
      "metadata": {
        "colab": {
          "base_uri": "https://localhost:8080/",
          "height": 542
        },
        "id": "FOnhUQfTvuqQ",
        "outputId": "f3b7771c-2c0a-4192-d1d1-73347577d967"
      },
      "execution_count": 1,
      "outputs": [
        {
          "output_type": "display_data",
          "data": {
            "text/html": [
              "<html>\n",
              "<head><meta charset=\"utf-8\" /></head>\n",
              "<body>\n",
              "    <div>            <script src=\"https://cdnjs.cloudflare.com/ajax/libs/mathjax/2.7.5/MathJax.js?config=TeX-AMS-MML_SVG\"></script><script type=\"text/javascript\">if (window.MathJax && window.MathJax.Hub && window.MathJax.Hub.Config) {window.MathJax.Hub.Config({SVG: {font: \"STIX-Web\"}});}</script>                <script type=\"text/javascript\">window.PlotlyConfig = {MathJaxConfig: 'local'};</script>\n",
              "        <script charset=\"utf-8\" src=\"https://cdn.plot.ly/plotly-2.24.1.min.js\"></script>                <div id=\"8cfa2101-1e96-4c44-b17c-6116b62504f2\" class=\"plotly-graph-div\" style=\"height:525px; width:100%;\"></div>            <script type=\"text/javascript\">                                    window.PLOTLYENV=window.PLOTLYENV || {};                                    if (document.getElementById(\"8cfa2101-1e96-4c44-b17c-6116b62504f2\")) {                    Plotly.newPlot(                        \"8cfa2101-1e96-4c44-b17c-6116b62504f2\",                        [{\"hovertemplate\":\"Date=%{x}\\u003cbr\\u003eSales=%{y}\\u003cextra\\u003e\\u003c\\u002fextra\\u003e\",\"legendgroup\":\"\",\"line\":{\"color\":\"#636efa\",\"dash\":\"solid\"},\"marker\":{\"symbol\":\"circle\"},\"mode\":\"lines\",\"name\":\"\",\"orientation\":\"v\",\"showlegend\":false,\"x\":[\"2023-01-01\",\"2023-02-01\",\"2023-03-01\",\"2023-04-01\"],\"xaxis\":\"x\",\"y\":[1000,1200,900,1500],\"yaxis\":\"y\",\"type\":\"scatter\"}],                        {\"template\":{\"data\":{\"histogram2dcontour\":[{\"type\":\"histogram2dcontour\",\"colorbar\":{\"outlinewidth\":0,\"ticks\":\"\"},\"colorscale\":[[0.0,\"#0d0887\"],[0.1111111111111111,\"#46039f\"],[0.2222222222222222,\"#7201a8\"],[0.3333333333333333,\"#9c179e\"],[0.4444444444444444,\"#bd3786\"],[0.5555555555555556,\"#d8576b\"],[0.6666666666666666,\"#ed7953\"],[0.7777777777777778,\"#fb9f3a\"],[0.8888888888888888,\"#fdca26\"],[1.0,\"#f0f921\"]]}],\"choropleth\":[{\"type\":\"choropleth\",\"colorbar\":{\"outlinewidth\":0,\"ticks\":\"\"}}],\"histogram2d\":[{\"type\":\"histogram2d\",\"colorbar\":{\"outlinewidth\":0,\"ticks\":\"\"},\"colorscale\":[[0.0,\"#0d0887\"],[0.1111111111111111,\"#46039f\"],[0.2222222222222222,\"#7201a8\"],[0.3333333333333333,\"#9c179e\"],[0.4444444444444444,\"#bd3786\"],[0.5555555555555556,\"#d8576b\"],[0.6666666666666666,\"#ed7953\"],[0.7777777777777778,\"#fb9f3a\"],[0.8888888888888888,\"#fdca26\"],[1.0,\"#f0f921\"]]}],\"heatmap\":[{\"type\":\"heatmap\",\"colorbar\":{\"outlinewidth\":0,\"ticks\":\"\"},\"colorscale\":[[0.0,\"#0d0887\"],[0.1111111111111111,\"#46039f\"],[0.2222222222222222,\"#7201a8\"],[0.3333333333333333,\"#9c179e\"],[0.4444444444444444,\"#bd3786\"],[0.5555555555555556,\"#d8576b\"],[0.6666666666666666,\"#ed7953\"],[0.7777777777777778,\"#fb9f3a\"],[0.8888888888888888,\"#fdca26\"],[1.0,\"#f0f921\"]]}],\"heatmapgl\":[{\"type\":\"heatmapgl\",\"colorbar\":{\"outlinewidth\":0,\"ticks\":\"\"},\"colorscale\":[[0.0,\"#0d0887\"],[0.1111111111111111,\"#46039f\"],[0.2222222222222222,\"#7201a8\"],[0.3333333333333333,\"#9c179e\"],[0.4444444444444444,\"#bd3786\"],[0.5555555555555556,\"#d8576b\"],[0.6666666666666666,\"#ed7953\"],[0.7777777777777778,\"#fb9f3a\"],[0.8888888888888888,\"#fdca26\"],[1.0,\"#f0f921\"]]}],\"contourcarpet\":[{\"type\":\"contourcarpet\",\"colorbar\":{\"outlinewidth\":0,\"ticks\":\"\"}}],\"contour\":[{\"type\":\"contour\",\"colorbar\":{\"outlinewidth\":0,\"ticks\":\"\"},\"colorscale\":[[0.0,\"#0d0887\"],[0.1111111111111111,\"#46039f\"],[0.2222222222222222,\"#7201a8\"],[0.3333333333333333,\"#9c179e\"],[0.4444444444444444,\"#bd3786\"],[0.5555555555555556,\"#d8576b\"],[0.6666666666666666,\"#ed7953\"],[0.7777777777777778,\"#fb9f3a\"],[0.8888888888888888,\"#fdca26\"],[1.0,\"#f0f921\"]]}],\"surface\":[{\"type\":\"surface\",\"colorbar\":{\"outlinewidth\":0,\"ticks\":\"\"},\"colorscale\":[[0.0,\"#0d0887\"],[0.1111111111111111,\"#46039f\"],[0.2222222222222222,\"#7201a8\"],[0.3333333333333333,\"#9c179e\"],[0.4444444444444444,\"#bd3786\"],[0.5555555555555556,\"#d8576b\"],[0.6666666666666666,\"#ed7953\"],[0.7777777777777778,\"#fb9f3a\"],[0.8888888888888888,\"#fdca26\"],[1.0,\"#f0f921\"]]}],\"mesh3d\":[{\"type\":\"mesh3d\",\"colorbar\":{\"outlinewidth\":0,\"ticks\":\"\"}}],\"scatter\":[{\"fillpattern\":{\"fillmode\":\"overlay\",\"size\":10,\"solidity\":0.2},\"type\":\"scatter\"}],\"parcoords\":[{\"type\":\"parcoords\",\"line\":{\"colorbar\":{\"outlinewidth\":0,\"ticks\":\"\"}}}],\"scatterpolargl\":[{\"type\":\"scatterpolargl\",\"marker\":{\"colorbar\":{\"outlinewidth\":0,\"ticks\":\"\"}}}],\"bar\":[{\"error_x\":{\"color\":\"#2a3f5f\"},\"error_y\":{\"color\":\"#2a3f5f\"},\"marker\":{\"line\":{\"color\":\"#E5ECF6\",\"width\":0.5},\"pattern\":{\"fillmode\":\"overlay\",\"size\":10,\"solidity\":0.2}},\"type\":\"bar\"}],\"scattergeo\":[{\"type\":\"scattergeo\",\"marker\":{\"colorbar\":{\"outlinewidth\":0,\"ticks\":\"\"}}}],\"scatterpolar\":[{\"type\":\"scatterpolar\",\"marker\":{\"colorbar\":{\"outlinewidth\":0,\"ticks\":\"\"}}}],\"histogram\":[{\"marker\":{\"pattern\":{\"fillmode\":\"overlay\",\"size\":10,\"solidity\":0.2}},\"type\":\"histogram\"}],\"scattergl\":[{\"type\":\"scattergl\",\"marker\":{\"colorbar\":{\"outlinewidth\":0,\"ticks\":\"\"}}}],\"scatter3d\":[{\"type\":\"scatter3d\",\"line\":{\"colorbar\":{\"outlinewidth\":0,\"ticks\":\"\"}},\"marker\":{\"colorbar\":{\"outlinewidth\":0,\"ticks\":\"\"}}}],\"scattermapbox\":[{\"type\":\"scattermapbox\",\"marker\":{\"colorbar\":{\"outlinewidth\":0,\"ticks\":\"\"}}}],\"scatterternary\":[{\"type\":\"scatterternary\",\"marker\":{\"colorbar\":{\"outlinewidth\":0,\"ticks\":\"\"}}}],\"scattercarpet\":[{\"type\":\"scattercarpet\",\"marker\":{\"colorbar\":{\"outlinewidth\":0,\"ticks\":\"\"}}}],\"carpet\":[{\"aaxis\":{\"endlinecolor\":\"#2a3f5f\",\"gridcolor\":\"white\",\"linecolor\":\"white\",\"minorgridcolor\":\"white\",\"startlinecolor\":\"#2a3f5f\"},\"baxis\":{\"endlinecolor\":\"#2a3f5f\",\"gridcolor\":\"white\",\"linecolor\":\"white\",\"minorgridcolor\":\"white\",\"startlinecolor\":\"#2a3f5f\"},\"type\":\"carpet\"}],\"table\":[{\"cells\":{\"fill\":{\"color\":\"#EBF0F8\"},\"line\":{\"color\":\"white\"}},\"header\":{\"fill\":{\"color\":\"#C8D4E3\"},\"line\":{\"color\":\"white\"}},\"type\":\"table\"}],\"barpolar\":[{\"marker\":{\"line\":{\"color\":\"#E5ECF6\",\"width\":0.5},\"pattern\":{\"fillmode\":\"overlay\",\"size\":10,\"solidity\":0.2}},\"type\":\"barpolar\"}],\"pie\":[{\"automargin\":true,\"type\":\"pie\"}]},\"layout\":{\"autotypenumbers\":\"strict\",\"colorway\":[\"#636efa\",\"#EF553B\",\"#00cc96\",\"#ab63fa\",\"#FFA15A\",\"#19d3f3\",\"#FF6692\",\"#B6E880\",\"#FF97FF\",\"#FECB52\"],\"font\":{\"color\":\"#2a3f5f\"},\"hovermode\":\"closest\",\"hoverlabel\":{\"align\":\"left\"},\"paper_bgcolor\":\"white\",\"plot_bgcolor\":\"#E5ECF6\",\"polar\":{\"bgcolor\":\"#E5ECF6\",\"angularaxis\":{\"gridcolor\":\"white\",\"linecolor\":\"white\",\"ticks\":\"\"},\"radialaxis\":{\"gridcolor\":\"white\",\"linecolor\":\"white\",\"ticks\":\"\"}},\"ternary\":{\"bgcolor\":\"#E5ECF6\",\"aaxis\":{\"gridcolor\":\"white\",\"linecolor\":\"white\",\"ticks\":\"\"},\"baxis\":{\"gridcolor\":\"white\",\"linecolor\":\"white\",\"ticks\":\"\"},\"caxis\":{\"gridcolor\":\"white\",\"linecolor\":\"white\",\"ticks\":\"\"}},\"coloraxis\":{\"colorbar\":{\"outlinewidth\":0,\"ticks\":\"\"}},\"colorscale\":{\"sequential\":[[0.0,\"#0d0887\"],[0.1111111111111111,\"#46039f\"],[0.2222222222222222,\"#7201a8\"],[0.3333333333333333,\"#9c179e\"],[0.4444444444444444,\"#bd3786\"],[0.5555555555555556,\"#d8576b\"],[0.6666666666666666,\"#ed7953\"],[0.7777777777777778,\"#fb9f3a\"],[0.8888888888888888,\"#fdca26\"],[1.0,\"#f0f921\"]],\"sequentialminus\":[[0.0,\"#0d0887\"],[0.1111111111111111,\"#46039f\"],[0.2222222222222222,\"#7201a8\"],[0.3333333333333333,\"#9c179e\"],[0.4444444444444444,\"#bd3786\"],[0.5555555555555556,\"#d8576b\"],[0.6666666666666666,\"#ed7953\"],[0.7777777777777778,\"#fb9f3a\"],[0.8888888888888888,\"#fdca26\"],[1.0,\"#f0f921\"]],\"diverging\":[[0,\"#8e0152\"],[0.1,\"#c51b7d\"],[0.2,\"#de77ae\"],[0.3,\"#f1b6da\"],[0.4,\"#fde0ef\"],[0.5,\"#f7f7f7\"],[0.6,\"#e6f5d0\"],[0.7,\"#b8e186\"],[0.8,\"#7fbc41\"],[0.9,\"#4d9221\"],[1,\"#276419\"]]},\"xaxis\":{\"gridcolor\":\"white\",\"linecolor\":\"white\",\"ticks\":\"\",\"title\":{\"standoff\":15},\"zerolinecolor\":\"white\",\"automargin\":true,\"zerolinewidth\":2},\"yaxis\":{\"gridcolor\":\"white\",\"linecolor\":\"white\",\"ticks\":\"\",\"title\":{\"standoff\":15},\"zerolinecolor\":\"white\",\"automargin\":true,\"zerolinewidth\":2},\"scene\":{\"xaxis\":{\"backgroundcolor\":\"#E5ECF6\",\"gridcolor\":\"white\",\"linecolor\":\"white\",\"showbackground\":true,\"ticks\":\"\",\"zerolinecolor\":\"white\",\"gridwidth\":2},\"yaxis\":{\"backgroundcolor\":\"#E5ECF6\",\"gridcolor\":\"white\",\"linecolor\":\"white\",\"showbackground\":true,\"ticks\":\"\",\"zerolinecolor\":\"white\",\"gridwidth\":2},\"zaxis\":{\"backgroundcolor\":\"#E5ECF6\",\"gridcolor\":\"white\",\"linecolor\":\"white\",\"showbackground\":true,\"ticks\":\"\",\"zerolinecolor\":\"white\",\"gridwidth\":2}},\"shapedefaults\":{\"line\":{\"color\":\"#2a3f5f\"}},\"annotationdefaults\":{\"arrowcolor\":\"#2a3f5f\",\"arrowhead\":0,\"arrowwidth\":1},\"geo\":{\"bgcolor\":\"white\",\"landcolor\":\"#E5ECF6\",\"subunitcolor\":\"white\",\"showland\":true,\"showlakes\":true,\"lakecolor\":\"white\"},\"title\":{\"x\":0.05},\"mapbox\":{\"style\":\"light\"}}},\"xaxis\":{\"anchor\":\"y\",\"domain\":[0.0,1.0],\"title\":{\"text\":\"Date\"}},\"yaxis\":{\"anchor\":\"x\",\"domain\":[0.0,1.0],\"title\":{\"text\":\"Sales\"}},\"legend\":{\"tracegroupgap\":0},\"title\":{\"text\":\"Crunch-O-Matic Sales Over Time\"}},                        {\"responsive\": true}                    ).then(function(){\n",
              "                            \n",
              "var gd = document.getElementById('8cfa2101-1e96-4c44-b17c-6116b62504f2');\n",
              "var x = new MutationObserver(function (mutations, observer) {{\n",
              "        var display = window.getComputedStyle(gd).display;\n",
              "        if (!display || display === 'none') {{\n",
              "            console.log([gd, 'removed!']);\n",
              "            Plotly.purge(gd);\n",
              "            observer.disconnect();\n",
              "        }}\n",
              "}});\n",
              "\n",
              "// Listen for the removal of the full notebook cells\n",
              "var notebookContainer = gd.closest('#notebook-container');\n",
              "if (notebookContainer) {{\n",
              "    x.observe(notebookContainer, {childList: true});\n",
              "}}\n",
              "\n",
              "// Listen for the clearing of the current output cell\n",
              "var outputEl = gd.closest('.output');\n",
              "if (outputEl) {{\n",
              "    x.observe(outputEl, {childList: true});\n",
              "}}\n",
              "\n",
              "                        })                };                            </script>        </div>\n",
              "</body>\n",
              "</html>"
            ]
          },
          "metadata": {}
        }
      ]
    },
    {
      "cell_type": "markdown",
      "source": [
        "\n",
        "This code will create an interactive line chart showing how Crunch-O-Matic's sales have changed over the first four months of 2023.\n",
        "\n",
        "As we move forward, we'll explore how to create various types of charts using Plotly Express, and how to combine these charts into interactive dashboards using Dash. This will allow us to create powerful, data-driven visualizations for our Mad Men-style ad campaigns, helping us make informed decisions about our fictional products like Crunch-O-Matic."
      ],
      "metadata": {
        "id": "yhgrBdLZvsij"
      }
    },
    {
      "cell_type": "markdown",
      "source": [
        "## Line Chart\n",
        "\n",
        "A line chart is one of the most common and versatile chart types. It's primarily used to display data that changes over time, making it perfect for showing trends, patterns, and fluctuations in your data.\n",
        "\n",
        "In a line chart, data points are plotted on a coordinate system and connected with straight line segments. The x-axis typically represents time intervals (like days, months, or years), while the y-axis represents the measured value. This makes it easy to see how a particular metric changes over time.\n",
        "\n",
        "When interpreting a line chart, pay attention to:\n",
        "- The overall trend: Is the line generally going up, down, or staying flat?\n",
        "- Peaks and valleys: Are there any notable high or low points?\n",
        "- Rate of change: How steep are the increases or decreases?\n",
        "- Cyclical patterns: Do you see any repeating patterns over time?\n",
        "\n",
        "For our Crunch-O-Matic campaign, we might use a line chart to track sales over time. This could help us identify seasonal trends, measure the impact of advertising campaigns, or forecast future sales.\n",
        "\n",
        "Let's create a line chart using Plotly Express:\n"
      ],
      "metadata": {
        "id": "cOapVURswzQJ"
      }
    },
    {
      "cell_type": "code",
      "source": [
        "import plotly.express as px\n",
        "import pandas as pd\n",
        "\n",
        "# Sample data\n",
        "data = {\n",
        "    'Date': ['2023-01-01', '2023-02-01', '2023-03-01', '2023-04-01', '2023-05-01', '2023-06-01'],\n",
        "    'Sales': [1000, 1200, 900, 1500, 1800, 1600]\n",
        "}\n",
        "df = pd.DataFrame(data)\n",
        "df['Date'] = pd.to_datetime(df['Date'])  # Convert to datetime\n",
        "\n",
        "# Create the line chart\n",
        "fig = px.line(df, x='Date', y='Sales', title='Crunch-O-Matic Monthly Sales')\n",
        "fig.update_xaxes(title='Month')\n",
        "fig.update_yaxes(title='Sales ($)')\n",
        "\n",
        "fig.show()"
      ],
      "metadata": {
        "colab": {
          "base_uri": "https://localhost:8080/",
          "height": 635
        },
        "id": "KzHH7njzw0Cd",
        "outputId": "9e787ec3-9aad-4fc1-c48b-279ff77eab0f"
      },
      "execution_count": 2,
      "outputs": [
        {
          "output_type": "stream",
          "name": "stderr",
          "text": [
            "/usr/local/lib/python3.10/dist-packages/_plotly_utils/basevalidators.py:105: FutureWarning:\n",
            "\n",
            "The behavior of DatetimeProperties.to_pydatetime is deprecated, in a future version this will return a Series containing python datetime objects instead of an ndarray. To retain the old behavior, call `np.array` on the result\n",
            "\n"
          ]
        },
        {
          "output_type": "display_data",
          "data": {
            "text/html": [
              "<html>\n",
              "<head><meta charset=\"utf-8\" /></head>\n",
              "<body>\n",
              "    <div>            <script src=\"https://cdnjs.cloudflare.com/ajax/libs/mathjax/2.7.5/MathJax.js?config=TeX-AMS-MML_SVG\"></script><script type=\"text/javascript\">if (window.MathJax && window.MathJax.Hub && window.MathJax.Hub.Config) {window.MathJax.Hub.Config({SVG: {font: \"STIX-Web\"}});}</script>                <script type=\"text/javascript\">window.PlotlyConfig = {MathJaxConfig: 'local'};</script>\n",
              "        <script charset=\"utf-8\" src=\"https://cdn.plot.ly/plotly-2.24.1.min.js\"></script>                <div id=\"2ce999e8-6ec4-492b-9f7f-785a84ff822f\" class=\"plotly-graph-div\" style=\"height:525px; width:100%;\"></div>            <script type=\"text/javascript\">                                    window.PLOTLYENV=window.PLOTLYENV || {};                                    if (document.getElementById(\"2ce999e8-6ec4-492b-9f7f-785a84ff822f\")) {                    Plotly.newPlot(                        \"2ce999e8-6ec4-492b-9f7f-785a84ff822f\",                        [{\"hovertemplate\":\"Date=%{x}\\u003cbr\\u003eSales=%{y}\\u003cextra\\u003e\\u003c\\u002fextra\\u003e\",\"legendgroup\":\"\",\"line\":{\"color\":\"#636efa\",\"dash\":\"solid\"},\"marker\":{\"symbol\":\"circle\"},\"mode\":\"lines\",\"name\":\"\",\"orientation\":\"v\",\"showlegend\":false,\"x\":[\"2023-01-01T00:00:00\",\"2023-02-01T00:00:00\",\"2023-03-01T00:00:00\",\"2023-04-01T00:00:00\",\"2023-05-01T00:00:00\",\"2023-06-01T00:00:00\"],\"xaxis\":\"x\",\"y\":[1000,1200,900,1500,1800,1600],\"yaxis\":\"y\",\"type\":\"scatter\"}],                        {\"template\":{\"data\":{\"histogram2dcontour\":[{\"type\":\"histogram2dcontour\",\"colorbar\":{\"outlinewidth\":0,\"ticks\":\"\"},\"colorscale\":[[0.0,\"#0d0887\"],[0.1111111111111111,\"#46039f\"],[0.2222222222222222,\"#7201a8\"],[0.3333333333333333,\"#9c179e\"],[0.4444444444444444,\"#bd3786\"],[0.5555555555555556,\"#d8576b\"],[0.6666666666666666,\"#ed7953\"],[0.7777777777777778,\"#fb9f3a\"],[0.8888888888888888,\"#fdca26\"],[1.0,\"#f0f921\"]]}],\"choropleth\":[{\"type\":\"choropleth\",\"colorbar\":{\"outlinewidth\":0,\"ticks\":\"\"}}],\"histogram2d\":[{\"type\":\"histogram2d\",\"colorbar\":{\"outlinewidth\":0,\"ticks\":\"\"},\"colorscale\":[[0.0,\"#0d0887\"],[0.1111111111111111,\"#46039f\"],[0.2222222222222222,\"#7201a8\"],[0.3333333333333333,\"#9c179e\"],[0.4444444444444444,\"#bd3786\"],[0.5555555555555556,\"#d8576b\"],[0.6666666666666666,\"#ed7953\"],[0.7777777777777778,\"#fb9f3a\"],[0.8888888888888888,\"#fdca26\"],[1.0,\"#f0f921\"]]}],\"heatmap\":[{\"type\":\"heatmap\",\"colorbar\":{\"outlinewidth\":0,\"ticks\":\"\"},\"colorscale\":[[0.0,\"#0d0887\"],[0.1111111111111111,\"#46039f\"],[0.2222222222222222,\"#7201a8\"],[0.3333333333333333,\"#9c179e\"],[0.4444444444444444,\"#bd3786\"],[0.5555555555555556,\"#d8576b\"],[0.6666666666666666,\"#ed7953\"],[0.7777777777777778,\"#fb9f3a\"],[0.8888888888888888,\"#fdca26\"],[1.0,\"#f0f921\"]]}],\"heatmapgl\":[{\"type\":\"heatmapgl\",\"colorbar\":{\"outlinewidth\":0,\"ticks\":\"\"},\"colorscale\":[[0.0,\"#0d0887\"],[0.1111111111111111,\"#46039f\"],[0.2222222222222222,\"#7201a8\"],[0.3333333333333333,\"#9c179e\"],[0.4444444444444444,\"#bd3786\"],[0.5555555555555556,\"#d8576b\"],[0.6666666666666666,\"#ed7953\"],[0.7777777777777778,\"#fb9f3a\"],[0.8888888888888888,\"#fdca26\"],[1.0,\"#f0f921\"]]}],\"contourcarpet\":[{\"type\":\"contourcarpet\",\"colorbar\":{\"outlinewidth\":0,\"ticks\":\"\"}}],\"contour\":[{\"type\":\"contour\",\"colorbar\":{\"outlinewidth\":0,\"ticks\":\"\"},\"colorscale\":[[0.0,\"#0d0887\"],[0.1111111111111111,\"#46039f\"],[0.2222222222222222,\"#7201a8\"],[0.3333333333333333,\"#9c179e\"],[0.4444444444444444,\"#bd3786\"],[0.5555555555555556,\"#d8576b\"],[0.6666666666666666,\"#ed7953\"],[0.7777777777777778,\"#fb9f3a\"],[0.8888888888888888,\"#fdca26\"],[1.0,\"#f0f921\"]]}],\"surface\":[{\"type\":\"surface\",\"colorbar\":{\"outlinewidth\":0,\"ticks\":\"\"},\"colorscale\":[[0.0,\"#0d0887\"],[0.1111111111111111,\"#46039f\"],[0.2222222222222222,\"#7201a8\"],[0.3333333333333333,\"#9c179e\"],[0.4444444444444444,\"#bd3786\"],[0.5555555555555556,\"#d8576b\"],[0.6666666666666666,\"#ed7953\"],[0.7777777777777778,\"#fb9f3a\"],[0.8888888888888888,\"#fdca26\"],[1.0,\"#f0f921\"]]}],\"mesh3d\":[{\"type\":\"mesh3d\",\"colorbar\":{\"outlinewidth\":0,\"ticks\":\"\"}}],\"scatter\":[{\"fillpattern\":{\"fillmode\":\"overlay\",\"size\":10,\"solidity\":0.2},\"type\":\"scatter\"}],\"parcoords\":[{\"type\":\"parcoords\",\"line\":{\"colorbar\":{\"outlinewidth\":0,\"ticks\":\"\"}}}],\"scatterpolargl\":[{\"type\":\"scatterpolargl\",\"marker\":{\"colorbar\":{\"outlinewidth\":0,\"ticks\":\"\"}}}],\"bar\":[{\"error_x\":{\"color\":\"#2a3f5f\"},\"error_y\":{\"color\":\"#2a3f5f\"},\"marker\":{\"line\":{\"color\":\"#E5ECF6\",\"width\":0.5},\"pattern\":{\"fillmode\":\"overlay\",\"size\":10,\"solidity\":0.2}},\"type\":\"bar\"}],\"scattergeo\":[{\"type\":\"scattergeo\",\"marker\":{\"colorbar\":{\"outlinewidth\":0,\"ticks\":\"\"}}}],\"scatterpolar\":[{\"type\":\"scatterpolar\",\"marker\":{\"colorbar\":{\"outlinewidth\":0,\"ticks\":\"\"}}}],\"histogram\":[{\"marker\":{\"pattern\":{\"fillmode\":\"overlay\",\"size\":10,\"solidity\":0.2}},\"type\":\"histogram\"}],\"scattergl\":[{\"type\":\"scattergl\",\"marker\":{\"colorbar\":{\"outlinewidth\":0,\"ticks\":\"\"}}}],\"scatter3d\":[{\"type\":\"scatter3d\",\"line\":{\"colorbar\":{\"outlinewidth\":0,\"ticks\":\"\"}},\"marker\":{\"colorbar\":{\"outlinewidth\":0,\"ticks\":\"\"}}}],\"scattermapbox\":[{\"type\":\"scattermapbox\",\"marker\":{\"colorbar\":{\"outlinewidth\":0,\"ticks\":\"\"}}}],\"scatterternary\":[{\"type\":\"scatterternary\",\"marker\":{\"colorbar\":{\"outlinewidth\":0,\"ticks\":\"\"}}}],\"scattercarpet\":[{\"type\":\"scattercarpet\",\"marker\":{\"colorbar\":{\"outlinewidth\":0,\"ticks\":\"\"}}}],\"carpet\":[{\"aaxis\":{\"endlinecolor\":\"#2a3f5f\",\"gridcolor\":\"white\",\"linecolor\":\"white\",\"minorgridcolor\":\"white\",\"startlinecolor\":\"#2a3f5f\"},\"baxis\":{\"endlinecolor\":\"#2a3f5f\",\"gridcolor\":\"white\",\"linecolor\":\"white\",\"minorgridcolor\":\"white\",\"startlinecolor\":\"#2a3f5f\"},\"type\":\"carpet\"}],\"table\":[{\"cells\":{\"fill\":{\"color\":\"#EBF0F8\"},\"line\":{\"color\":\"white\"}},\"header\":{\"fill\":{\"color\":\"#C8D4E3\"},\"line\":{\"color\":\"white\"}},\"type\":\"table\"}],\"barpolar\":[{\"marker\":{\"line\":{\"color\":\"#E5ECF6\",\"width\":0.5},\"pattern\":{\"fillmode\":\"overlay\",\"size\":10,\"solidity\":0.2}},\"type\":\"barpolar\"}],\"pie\":[{\"automargin\":true,\"type\":\"pie\"}]},\"layout\":{\"autotypenumbers\":\"strict\",\"colorway\":[\"#636efa\",\"#EF553B\",\"#00cc96\",\"#ab63fa\",\"#FFA15A\",\"#19d3f3\",\"#FF6692\",\"#B6E880\",\"#FF97FF\",\"#FECB52\"],\"font\":{\"color\":\"#2a3f5f\"},\"hovermode\":\"closest\",\"hoverlabel\":{\"align\":\"left\"},\"paper_bgcolor\":\"white\",\"plot_bgcolor\":\"#E5ECF6\",\"polar\":{\"bgcolor\":\"#E5ECF6\",\"angularaxis\":{\"gridcolor\":\"white\",\"linecolor\":\"white\",\"ticks\":\"\"},\"radialaxis\":{\"gridcolor\":\"white\",\"linecolor\":\"white\",\"ticks\":\"\"}},\"ternary\":{\"bgcolor\":\"#E5ECF6\",\"aaxis\":{\"gridcolor\":\"white\",\"linecolor\":\"white\",\"ticks\":\"\"},\"baxis\":{\"gridcolor\":\"white\",\"linecolor\":\"white\",\"ticks\":\"\"},\"caxis\":{\"gridcolor\":\"white\",\"linecolor\":\"white\",\"ticks\":\"\"}},\"coloraxis\":{\"colorbar\":{\"outlinewidth\":0,\"ticks\":\"\"}},\"colorscale\":{\"sequential\":[[0.0,\"#0d0887\"],[0.1111111111111111,\"#46039f\"],[0.2222222222222222,\"#7201a8\"],[0.3333333333333333,\"#9c179e\"],[0.4444444444444444,\"#bd3786\"],[0.5555555555555556,\"#d8576b\"],[0.6666666666666666,\"#ed7953\"],[0.7777777777777778,\"#fb9f3a\"],[0.8888888888888888,\"#fdca26\"],[1.0,\"#f0f921\"]],\"sequentialminus\":[[0.0,\"#0d0887\"],[0.1111111111111111,\"#46039f\"],[0.2222222222222222,\"#7201a8\"],[0.3333333333333333,\"#9c179e\"],[0.4444444444444444,\"#bd3786\"],[0.5555555555555556,\"#d8576b\"],[0.6666666666666666,\"#ed7953\"],[0.7777777777777778,\"#fb9f3a\"],[0.8888888888888888,\"#fdca26\"],[1.0,\"#f0f921\"]],\"diverging\":[[0,\"#8e0152\"],[0.1,\"#c51b7d\"],[0.2,\"#de77ae\"],[0.3,\"#f1b6da\"],[0.4,\"#fde0ef\"],[0.5,\"#f7f7f7\"],[0.6,\"#e6f5d0\"],[0.7,\"#b8e186\"],[0.8,\"#7fbc41\"],[0.9,\"#4d9221\"],[1,\"#276419\"]]},\"xaxis\":{\"gridcolor\":\"white\",\"linecolor\":\"white\",\"ticks\":\"\",\"title\":{\"standoff\":15},\"zerolinecolor\":\"white\",\"automargin\":true,\"zerolinewidth\":2},\"yaxis\":{\"gridcolor\":\"white\",\"linecolor\":\"white\",\"ticks\":\"\",\"title\":{\"standoff\":15},\"zerolinecolor\":\"white\",\"automargin\":true,\"zerolinewidth\":2},\"scene\":{\"xaxis\":{\"backgroundcolor\":\"#E5ECF6\",\"gridcolor\":\"white\",\"linecolor\":\"white\",\"showbackground\":true,\"ticks\":\"\",\"zerolinecolor\":\"white\",\"gridwidth\":2},\"yaxis\":{\"backgroundcolor\":\"#E5ECF6\",\"gridcolor\":\"white\",\"linecolor\":\"white\",\"showbackground\":true,\"ticks\":\"\",\"zerolinecolor\":\"white\",\"gridwidth\":2},\"zaxis\":{\"backgroundcolor\":\"#E5ECF6\",\"gridcolor\":\"white\",\"linecolor\":\"white\",\"showbackground\":true,\"ticks\":\"\",\"zerolinecolor\":\"white\",\"gridwidth\":2}},\"shapedefaults\":{\"line\":{\"color\":\"#2a3f5f\"}},\"annotationdefaults\":{\"arrowcolor\":\"#2a3f5f\",\"arrowhead\":0,\"arrowwidth\":1},\"geo\":{\"bgcolor\":\"white\",\"landcolor\":\"#E5ECF6\",\"subunitcolor\":\"white\",\"showland\":true,\"showlakes\":true,\"lakecolor\":\"white\"},\"title\":{\"x\":0.05},\"mapbox\":{\"style\":\"light\"}}},\"xaxis\":{\"anchor\":\"y\",\"domain\":[0.0,1.0],\"title\":{\"text\":\"Month\"}},\"yaxis\":{\"anchor\":\"x\",\"domain\":[0.0,1.0],\"title\":{\"text\":\"Sales ($)\"}},\"legend\":{\"tracegroupgap\":0},\"title\":{\"text\":\"Crunch-O-Matic Monthly Sales\"}},                        {\"responsive\": true}                    ).then(function(){\n",
              "                            \n",
              "var gd = document.getElementById('2ce999e8-6ec4-492b-9f7f-785a84ff822f');\n",
              "var x = new MutationObserver(function (mutations, observer) {{\n",
              "        var display = window.getComputedStyle(gd).display;\n",
              "        if (!display || display === 'none') {{\n",
              "            console.log([gd, 'removed!']);\n",
              "            Plotly.purge(gd);\n",
              "            observer.disconnect();\n",
              "        }}\n",
              "}});\n",
              "\n",
              "// Listen for the removal of the full notebook cells\n",
              "var notebookContainer = gd.closest('#notebook-container');\n",
              "if (notebookContainer) {{\n",
              "    x.observe(notebookContainer, {childList: true});\n",
              "}}\n",
              "\n",
              "// Listen for the clearing of the current output cell\n",
              "var outputEl = gd.closest('.output');\n",
              "if (outputEl) {{\n",
              "    x.observe(outputEl, {childList: true});\n",
              "}}\n",
              "\n",
              "                        })                };                            </script>        </div>\n",
              "</body>\n",
              "</html>"
            ]
          },
          "metadata": {}
        }
      ]
    },
    {
      "cell_type": "markdown",
      "source": [
        "This chart clearly shows how Crunch-O-Matic sales have fluctuated over the first half of 2023. We can see a dip in March, followed by a strong recovery and peak in May."
      ],
      "metadata": {
        "id": "Hk9jKKyFw9re"
      }
    },
    {
      "cell_type": "markdown",
      "source": [
        "## Pie Chart\n",
        "\n",
        "A pie chart is a circular graph that represents data as slices of a pie. Each slice's size is proportional to the quantity it represents. Pie charts are best used when you want to show the composition of something or the relative proportions of different categories within a whole.\n",
        "\n",
        "When interpreting a pie chart:\n",
        "- Look at the relative sizes of the slices. Larger slices represent a greater proportion of the whole.\n",
        "- Pay attention to how many slices there are. Too many slices can make a pie chart hard to read.\n",
        "- Remember that all slices should add up to 100% of the whole.\n",
        "\n",
        "Pie charts are great for showing market share, budget allocations, or survey results. In our Crunch-O-Matic campaign, we might use a pie chart to show the distribution of sales across different flavors.\n",
        "\n",
        "Here's how we can create a pie chart with Plotly Express:"
      ],
      "metadata": {
        "id": "O58w7292w_s0"
      }
    },
    {
      "cell_type": "code",
      "source": [
        "import plotly.express as px\n",
        "import pandas as pd\n",
        "\n",
        "# Sample data\n",
        "data = {\n",
        "    'Flavor': ['Original', 'Spicy', 'Cheesy', 'BBQ'],\n",
        "    'Sales': [5000, 3000, 2000, 1000]\n",
        "}\n",
        "df = pd.DataFrame(data)\n",
        "\n",
        "# Create the pie chart\n",
        "fig = px.pie(df, values='Sales', names='Flavor', title='Crunch-O-Matic Sales by Flavor')\n",
        "\n",
        "fig.show()"
      ],
      "metadata": {
        "colab": {
          "base_uri": "https://localhost:8080/",
          "height": 542
        },
        "id": "ry9IzBrLxF0g",
        "outputId": "9c024152-d07d-4a41-f20d-8d0c2d6c8da2"
      },
      "execution_count": 4,
      "outputs": [
        {
          "output_type": "display_data",
          "data": {
            "text/html": [
              "<html>\n",
              "<head><meta charset=\"utf-8\" /></head>\n",
              "<body>\n",
              "    <div>            <script src=\"https://cdnjs.cloudflare.com/ajax/libs/mathjax/2.7.5/MathJax.js?config=TeX-AMS-MML_SVG\"></script><script type=\"text/javascript\">if (window.MathJax && window.MathJax.Hub && window.MathJax.Hub.Config) {window.MathJax.Hub.Config({SVG: {font: \"STIX-Web\"}});}</script>                <script type=\"text/javascript\">window.PlotlyConfig = {MathJaxConfig: 'local'};</script>\n",
              "        <script charset=\"utf-8\" src=\"https://cdn.plot.ly/plotly-2.24.1.min.js\"></script>                <div id=\"a2a82862-267c-4ba9-b9d3-20bb67f6e7c0\" class=\"plotly-graph-div\" style=\"height:525px; width:100%;\"></div>            <script type=\"text/javascript\">                                    window.PLOTLYENV=window.PLOTLYENV || {};                                    if (document.getElementById(\"a2a82862-267c-4ba9-b9d3-20bb67f6e7c0\")) {                    Plotly.newPlot(                        \"a2a82862-267c-4ba9-b9d3-20bb67f6e7c0\",                        [{\"domain\":{\"x\":[0.0,1.0],\"y\":[0.0,1.0]},\"hovertemplate\":\"Flavor=%{label}\\u003cbr\\u003eSales=%{value}\\u003cextra\\u003e\\u003c\\u002fextra\\u003e\",\"labels\":[\"Original\",\"Spicy\",\"Cheesy\",\"BBQ\"],\"legendgroup\":\"\",\"name\":\"\",\"showlegend\":true,\"values\":[5000,3000,2000,1000],\"type\":\"pie\"}],                        {\"template\":{\"data\":{\"histogram2dcontour\":[{\"type\":\"histogram2dcontour\",\"colorbar\":{\"outlinewidth\":0,\"ticks\":\"\"},\"colorscale\":[[0.0,\"#0d0887\"],[0.1111111111111111,\"#46039f\"],[0.2222222222222222,\"#7201a8\"],[0.3333333333333333,\"#9c179e\"],[0.4444444444444444,\"#bd3786\"],[0.5555555555555556,\"#d8576b\"],[0.6666666666666666,\"#ed7953\"],[0.7777777777777778,\"#fb9f3a\"],[0.8888888888888888,\"#fdca26\"],[1.0,\"#f0f921\"]]}],\"choropleth\":[{\"type\":\"choropleth\",\"colorbar\":{\"outlinewidth\":0,\"ticks\":\"\"}}],\"histogram2d\":[{\"type\":\"histogram2d\",\"colorbar\":{\"outlinewidth\":0,\"ticks\":\"\"},\"colorscale\":[[0.0,\"#0d0887\"],[0.1111111111111111,\"#46039f\"],[0.2222222222222222,\"#7201a8\"],[0.3333333333333333,\"#9c179e\"],[0.4444444444444444,\"#bd3786\"],[0.5555555555555556,\"#d8576b\"],[0.6666666666666666,\"#ed7953\"],[0.7777777777777778,\"#fb9f3a\"],[0.8888888888888888,\"#fdca26\"],[1.0,\"#f0f921\"]]}],\"heatmap\":[{\"type\":\"heatmap\",\"colorbar\":{\"outlinewidth\":0,\"ticks\":\"\"},\"colorscale\":[[0.0,\"#0d0887\"],[0.1111111111111111,\"#46039f\"],[0.2222222222222222,\"#7201a8\"],[0.3333333333333333,\"#9c179e\"],[0.4444444444444444,\"#bd3786\"],[0.5555555555555556,\"#d8576b\"],[0.6666666666666666,\"#ed7953\"],[0.7777777777777778,\"#fb9f3a\"],[0.8888888888888888,\"#fdca26\"],[1.0,\"#f0f921\"]]}],\"heatmapgl\":[{\"type\":\"heatmapgl\",\"colorbar\":{\"outlinewidth\":0,\"ticks\":\"\"},\"colorscale\":[[0.0,\"#0d0887\"],[0.1111111111111111,\"#46039f\"],[0.2222222222222222,\"#7201a8\"],[0.3333333333333333,\"#9c179e\"],[0.4444444444444444,\"#bd3786\"],[0.5555555555555556,\"#d8576b\"],[0.6666666666666666,\"#ed7953\"],[0.7777777777777778,\"#fb9f3a\"],[0.8888888888888888,\"#fdca26\"],[1.0,\"#f0f921\"]]}],\"contourcarpet\":[{\"type\":\"contourcarpet\",\"colorbar\":{\"outlinewidth\":0,\"ticks\":\"\"}}],\"contour\":[{\"type\":\"contour\",\"colorbar\":{\"outlinewidth\":0,\"ticks\":\"\"},\"colorscale\":[[0.0,\"#0d0887\"],[0.1111111111111111,\"#46039f\"],[0.2222222222222222,\"#7201a8\"],[0.3333333333333333,\"#9c179e\"],[0.4444444444444444,\"#bd3786\"],[0.5555555555555556,\"#d8576b\"],[0.6666666666666666,\"#ed7953\"],[0.7777777777777778,\"#fb9f3a\"],[0.8888888888888888,\"#fdca26\"],[1.0,\"#f0f921\"]]}],\"surface\":[{\"type\":\"surface\",\"colorbar\":{\"outlinewidth\":0,\"ticks\":\"\"},\"colorscale\":[[0.0,\"#0d0887\"],[0.1111111111111111,\"#46039f\"],[0.2222222222222222,\"#7201a8\"],[0.3333333333333333,\"#9c179e\"],[0.4444444444444444,\"#bd3786\"],[0.5555555555555556,\"#d8576b\"],[0.6666666666666666,\"#ed7953\"],[0.7777777777777778,\"#fb9f3a\"],[0.8888888888888888,\"#fdca26\"],[1.0,\"#f0f921\"]]}],\"mesh3d\":[{\"type\":\"mesh3d\",\"colorbar\":{\"outlinewidth\":0,\"ticks\":\"\"}}],\"scatter\":[{\"fillpattern\":{\"fillmode\":\"overlay\",\"size\":10,\"solidity\":0.2},\"type\":\"scatter\"}],\"parcoords\":[{\"type\":\"parcoords\",\"line\":{\"colorbar\":{\"outlinewidth\":0,\"ticks\":\"\"}}}],\"scatterpolargl\":[{\"type\":\"scatterpolargl\",\"marker\":{\"colorbar\":{\"outlinewidth\":0,\"ticks\":\"\"}}}],\"bar\":[{\"error_x\":{\"color\":\"#2a3f5f\"},\"error_y\":{\"color\":\"#2a3f5f\"},\"marker\":{\"line\":{\"color\":\"#E5ECF6\",\"width\":0.5},\"pattern\":{\"fillmode\":\"overlay\",\"size\":10,\"solidity\":0.2}},\"type\":\"bar\"}],\"scattergeo\":[{\"type\":\"scattergeo\",\"marker\":{\"colorbar\":{\"outlinewidth\":0,\"ticks\":\"\"}}}],\"scatterpolar\":[{\"type\":\"scatterpolar\",\"marker\":{\"colorbar\":{\"outlinewidth\":0,\"ticks\":\"\"}}}],\"histogram\":[{\"marker\":{\"pattern\":{\"fillmode\":\"overlay\",\"size\":10,\"solidity\":0.2}},\"type\":\"histogram\"}],\"scattergl\":[{\"type\":\"scattergl\",\"marker\":{\"colorbar\":{\"outlinewidth\":0,\"ticks\":\"\"}}}],\"scatter3d\":[{\"type\":\"scatter3d\",\"line\":{\"colorbar\":{\"outlinewidth\":0,\"ticks\":\"\"}},\"marker\":{\"colorbar\":{\"outlinewidth\":0,\"ticks\":\"\"}}}],\"scattermapbox\":[{\"type\":\"scattermapbox\",\"marker\":{\"colorbar\":{\"outlinewidth\":0,\"ticks\":\"\"}}}],\"scatterternary\":[{\"type\":\"scatterternary\",\"marker\":{\"colorbar\":{\"outlinewidth\":0,\"ticks\":\"\"}}}],\"scattercarpet\":[{\"type\":\"scattercarpet\",\"marker\":{\"colorbar\":{\"outlinewidth\":0,\"ticks\":\"\"}}}],\"carpet\":[{\"aaxis\":{\"endlinecolor\":\"#2a3f5f\",\"gridcolor\":\"white\",\"linecolor\":\"white\",\"minorgridcolor\":\"white\",\"startlinecolor\":\"#2a3f5f\"},\"baxis\":{\"endlinecolor\":\"#2a3f5f\",\"gridcolor\":\"white\",\"linecolor\":\"white\",\"minorgridcolor\":\"white\",\"startlinecolor\":\"#2a3f5f\"},\"type\":\"carpet\"}],\"table\":[{\"cells\":{\"fill\":{\"color\":\"#EBF0F8\"},\"line\":{\"color\":\"white\"}},\"header\":{\"fill\":{\"color\":\"#C8D4E3\"},\"line\":{\"color\":\"white\"}},\"type\":\"table\"}],\"barpolar\":[{\"marker\":{\"line\":{\"color\":\"#E5ECF6\",\"width\":0.5},\"pattern\":{\"fillmode\":\"overlay\",\"size\":10,\"solidity\":0.2}},\"type\":\"barpolar\"}],\"pie\":[{\"automargin\":true,\"type\":\"pie\"}]},\"layout\":{\"autotypenumbers\":\"strict\",\"colorway\":[\"#636efa\",\"#EF553B\",\"#00cc96\",\"#ab63fa\",\"#FFA15A\",\"#19d3f3\",\"#FF6692\",\"#B6E880\",\"#FF97FF\",\"#FECB52\"],\"font\":{\"color\":\"#2a3f5f\"},\"hovermode\":\"closest\",\"hoverlabel\":{\"align\":\"left\"},\"paper_bgcolor\":\"white\",\"plot_bgcolor\":\"#E5ECF6\",\"polar\":{\"bgcolor\":\"#E5ECF6\",\"angularaxis\":{\"gridcolor\":\"white\",\"linecolor\":\"white\",\"ticks\":\"\"},\"radialaxis\":{\"gridcolor\":\"white\",\"linecolor\":\"white\",\"ticks\":\"\"}},\"ternary\":{\"bgcolor\":\"#E5ECF6\",\"aaxis\":{\"gridcolor\":\"white\",\"linecolor\":\"white\",\"ticks\":\"\"},\"baxis\":{\"gridcolor\":\"white\",\"linecolor\":\"white\",\"ticks\":\"\"},\"caxis\":{\"gridcolor\":\"white\",\"linecolor\":\"white\",\"ticks\":\"\"}},\"coloraxis\":{\"colorbar\":{\"outlinewidth\":0,\"ticks\":\"\"}},\"colorscale\":{\"sequential\":[[0.0,\"#0d0887\"],[0.1111111111111111,\"#46039f\"],[0.2222222222222222,\"#7201a8\"],[0.3333333333333333,\"#9c179e\"],[0.4444444444444444,\"#bd3786\"],[0.5555555555555556,\"#d8576b\"],[0.6666666666666666,\"#ed7953\"],[0.7777777777777778,\"#fb9f3a\"],[0.8888888888888888,\"#fdca26\"],[1.0,\"#f0f921\"]],\"sequentialminus\":[[0.0,\"#0d0887\"],[0.1111111111111111,\"#46039f\"],[0.2222222222222222,\"#7201a8\"],[0.3333333333333333,\"#9c179e\"],[0.4444444444444444,\"#bd3786\"],[0.5555555555555556,\"#d8576b\"],[0.6666666666666666,\"#ed7953\"],[0.7777777777777778,\"#fb9f3a\"],[0.8888888888888888,\"#fdca26\"],[1.0,\"#f0f921\"]],\"diverging\":[[0,\"#8e0152\"],[0.1,\"#c51b7d\"],[0.2,\"#de77ae\"],[0.3,\"#f1b6da\"],[0.4,\"#fde0ef\"],[0.5,\"#f7f7f7\"],[0.6,\"#e6f5d0\"],[0.7,\"#b8e186\"],[0.8,\"#7fbc41\"],[0.9,\"#4d9221\"],[1,\"#276419\"]]},\"xaxis\":{\"gridcolor\":\"white\",\"linecolor\":\"white\",\"ticks\":\"\",\"title\":{\"standoff\":15},\"zerolinecolor\":\"white\",\"automargin\":true,\"zerolinewidth\":2},\"yaxis\":{\"gridcolor\":\"white\",\"linecolor\":\"white\",\"ticks\":\"\",\"title\":{\"standoff\":15},\"zerolinecolor\":\"white\",\"automargin\":true,\"zerolinewidth\":2},\"scene\":{\"xaxis\":{\"backgroundcolor\":\"#E5ECF6\",\"gridcolor\":\"white\",\"linecolor\":\"white\",\"showbackground\":true,\"ticks\":\"\",\"zerolinecolor\":\"white\",\"gridwidth\":2},\"yaxis\":{\"backgroundcolor\":\"#E5ECF6\",\"gridcolor\":\"white\",\"linecolor\":\"white\",\"showbackground\":true,\"ticks\":\"\",\"zerolinecolor\":\"white\",\"gridwidth\":2},\"zaxis\":{\"backgroundcolor\":\"#E5ECF6\",\"gridcolor\":\"white\",\"linecolor\":\"white\",\"showbackground\":true,\"ticks\":\"\",\"zerolinecolor\":\"white\",\"gridwidth\":2}},\"shapedefaults\":{\"line\":{\"color\":\"#2a3f5f\"}},\"annotationdefaults\":{\"arrowcolor\":\"#2a3f5f\",\"arrowhead\":0,\"arrowwidth\":1},\"geo\":{\"bgcolor\":\"white\",\"landcolor\":\"#E5ECF6\",\"subunitcolor\":\"white\",\"showland\":true,\"showlakes\":true,\"lakecolor\":\"white\"},\"title\":{\"x\":0.05},\"mapbox\":{\"style\":\"light\"}}},\"legend\":{\"tracegroupgap\":0},\"title\":{\"text\":\"Crunch-O-Matic Sales by Flavor\"}},                        {\"responsive\": true}                    ).then(function(){\n",
              "                            \n",
              "var gd = document.getElementById('a2a82862-267c-4ba9-b9d3-20bb67f6e7c0');\n",
              "var x = new MutationObserver(function (mutations, observer) {{\n",
              "        var display = window.getComputedStyle(gd).display;\n",
              "        if (!display || display === 'none') {{\n",
              "            console.log([gd, 'removed!']);\n",
              "            Plotly.purge(gd);\n",
              "            observer.disconnect();\n",
              "        }}\n",
              "}});\n",
              "\n",
              "// Listen for the removal of the full notebook cells\n",
              "var notebookContainer = gd.closest('#notebook-container');\n",
              "if (notebookContainer) {{\n",
              "    x.observe(notebookContainer, {childList: true});\n",
              "}}\n",
              "\n",
              "// Listen for the clearing of the current output cell\n",
              "var outputEl = gd.closest('.output');\n",
              "if (outputEl) {{\n",
              "    x.observe(outputEl, {childList: true});\n",
              "}}\n",
              "\n",
              "                        })                };                            </script>        </div>\n",
              "</body>\n",
              "</html>"
            ]
          },
          "metadata": {}
        }
      ]
    },
    {
      "cell_type": "markdown",
      "source": [
        "This pie chart quickly shows us that the Original flavor is our best seller, followed by Spicy. This insight could inform decisions about production volumes or where to focus future marketing efforts.\n"
      ],
      "metadata": {
        "id": "aSPEaUSgxTNo"
      }
    },
    {
      "cell_type": "markdown",
      "source": [
        "## Bubble Chart\n",
        "\n",
        "A bubble chart is a variation of a scatter plot where the data points are replaced with bubbles. In addition to the x and y axes, bubble charts have a third dimension represented by the size of the bubbles. This makes them excellent for displaying three dimensions of data simultaneously.\n",
        "\n",
        "When interpreting a bubble chart:\n",
        "- The position of the bubble on the x and y axes represents two variables.\n",
        "- The size of the bubble represents a third variable.\n",
        "- Sometimes, color is used as a fourth dimension to group bubbles into categories.\n",
        "\n",
        "Bubble charts are particularly useful for comparing multiple variables across different categories. In our Mad Men-style campaign, we might use a bubble chart to compare different advertising channels.\n",
        "\n",
        "Let's create a bubble chart using Plotly Express:\n"
      ],
      "metadata": {
        "id": "dFqQVTydxUIN"
      }
    },
    {
      "cell_type": "code",
      "source": [
        "import plotly.express as px\n",
        "import pandas as pd\n",
        "\n",
        "# Sample data\n",
        "data = {\n",
        "    'Channel': ['TV', 'Radio', 'Social Media', 'Print', 'Billboards'],\n",
        "    'Cost': [50000, 20000, 15000, 10000, 30000],\n",
        "    'Reach': [500000, 200000, 300000, 100000, 250000],\n",
        "    'Conversions': [5000, 2000, 4000, 1000, 1500]\n",
        "}\n",
        "df = pd.DataFrame(data)\n",
        "\n",
        "# Create the bubble chart\n",
        "fig = px.scatter(df, x='Cost', y='Reach', size='Conversions', color='Channel',\n",
        "                 hover_name='Channel', size_max=60,\n",
        "                 title='Advertising Channels: Cost vs. Reach vs. Conversions')\n",
        "\n",
        "fig.update_xaxes(title='Cost ($)')\n",
        "fig.update_yaxes(title='Reach (People)')\n",
        "\n",
        "fig.show()"
      ],
      "metadata": {
        "colab": {
          "base_uri": "https://localhost:8080/",
          "height": 542
        },
        "id": "-wxWAS1oxbgD",
        "outputId": "99560c69-8000-412f-e497-7b3a2438d79f"
      },
      "execution_count": 5,
      "outputs": [
        {
          "output_type": "display_data",
          "data": {
            "text/html": [
              "<html>\n",
              "<head><meta charset=\"utf-8\" /></head>\n",
              "<body>\n",
              "    <div>            <script src=\"https://cdnjs.cloudflare.com/ajax/libs/mathjax/2.7.5/MathJax.js?config=TeX-AMS-MML_SVG\"></script><script type=\"text/javascript\">if (window.MathJax && window.MathJax.Hub && window.MathJax.Hub.Config) {window.MathJax.Hub.Config({SVG: {font: \"STIX-Web\"}});}</script>                <script type=\"text/javascript\">window.PlotlyConfig = {MathJaxConfig: 'local'};</script>\n",
              "        <script charset=\"utf-8\" src=\"https://cdn.plot.ly/plotly-2.24.1.min.js\"></script>                <div id=\"d3f7f12d-c9ac-492d-a6c6-bef73a225b20\" class=\"plotly-graph-div\" style=\"height:525px; width:100%;\"></div>            <script type=\"text/javascript\">                                    window.PLOTLYENV=window.PLOTLYENV || {};                                    if (document.getElementById(\"d3f7f12d-c9ac-492d-a6c6-bef73a225b20\")) {                    Plotly.newPlot(                        \"d3f7f12d-c9ac-492d-a6c6-bef73a225b20\",                        [{\"hovertemplate\":\"\\u003cb\\u003e%{hovertext}\\u003c\\u002fb\\u003e\\u003cbr\\u003e\\u003cbr\\u003eChannel=TV\\u003cbr\\u003eCost=%{x}\\u003cbr\\u003eReach=%{y}\\u003cbr\\u003eConversions=%{marker.size}\\u003cextra\\u003e\\u003c\\u002fextra\\u003e\",\"hovertext\":[\"TV\"],\"legendgroup\":\"TV\",\"marker\":{\"color\":\"#636efa\",\"size\":[5000],\"sizemode\":\"area\",\"sizeref\":1.3888888888888888,\"symbol\":\"circle\"},\"mode\":\"markers\",\"name\":\"TV\",\"orientation\":\"v\",\"showlegend\":true,\"x\":[50000],\"xaxis\":\"x\",\"y\":[500000],\"yaxis\":\"y\",\"type\":\"scatter\"},{\"hovertemplate\":\"\\u003cb\\u003e%{hovertext}\\u003c\\u002fb\\u003e\\u003cbr\\u003e\\u003cbr\\u003eChannel=Radio\\u003cbr\\u003eCost=%{x}\\u003cbr\\u003eReach=%{y}\\u003cbr\\u003eConversions=%{marker.size}\\u003cextra\\u003e\\u003c\\u002fextra\\u003e\",\"hovertext\":[\"Radio\"],\"legendgroup\":\"Radio\",\"marker\":{\"color\":\"#EF553B\",\"size\":[2000],\"sizemode\":\"area\",\"sizeref\":1.3888888888888888,\"symbol\":\"circle\"},\"mode\":\"markers\",\"name\":\"Radio\",\"orientation\":\"v\",\"showlegend\":true,\"x\":[20000],\"xaxis\":\"x\",\"y\":[200000],\"yaxis\":\"y\",\"type\":\"scatter\"},{\"hovertemplate\":\"\\u003cb\\u003e%{hovertext}\\u003c\\u002fb\\u003e\\u003cbr\\u003e\\u003cbr\\u003eChannel=Social Media\\u003cbr\\u003eCost=%{x}\\u003cbr\\u003eReach=%{y}\\u003cbr\\u003eConversions=%{marker.size}\\u003cextra\\u003e\\u003c\\u002fextra\\u003e\",\"hovertext\":[\"Social Media\"],\"legendgroup\":\"Social Media\",\"marker\":{\"color\":\"#00cc96\",\"size\":[4000],\"sizemode\":\"area\",\"sizeref\":1.3888888888888888,\"symbol\":\"circle\"},\"mode\":\"markers\",\"name\":\"Social Media\",\"orientation\":\"v\",\"showlegend\":true,\"x\":[15000],\"xaxis\":\"x\",\"y\":[300000],\"yaxis\":\"y\",\"type\":\"scatter\"},{\"hovertemplate\":\"\\u003cb\\u003e%{hovertext}\\u003c\\u002fb\\u003e\\u003cbr\\u003e\\u003cbr\\u003eChannel=Print\\u003cbr\\u003eCost=%{x}\\u003cbr\\u003eReach=%{y}\\u003cbr\\u003eConversions=%{marker.size}\\u003cextra\\u003e\\u003c\\u002fextra\\u003e\",\"hovertext\":[\"Print\"],\"legendgroup\":\"Print\",\"marker\":{\"color\":\"#ab63fa\",\"size\":[1000],\"sizemode\":\"area\",\"sizeref\":1.3888888888888888,\"symbol\":\"circle\"},\"mode\":\"markers\",\"name\":\"Print\",\"orientation\":\"v\",\"showlegend\":true,\"x\":[10000],\"xaxis\":\"x\",\"y\":[100000],\"yaxis\":\"y\",\"type\":\"scatter\"},{\"hovertemplate\":\"\\u003cb\\u003e%{hovertext}\\u003c\\u002fb\\u003e\\u003cbr\\u003e\\u003cbr\\u003eChannel=Billboards\\u003cbr\\u003eCost=%{x}\\u003cbr\\u003eReach=%{y}\\u003cbr\\u003eConversions=%{marker.size}\\u003cextra\\u003e\\u003c\\u002fextra\\u003e\",\"hovertext\":[\"Billboards\"],\"legendgroup\":\"Billboards\",\"marker\":{\"color\":\"#FFA15A\",\"size\":[1500],\"sizemode\":\"area\",\"sizeref\":1.3888888888888888,\"symbol\":\"circle\"},\"mode\":\"markers\",\"name\":\"Billboards\",\"orientation\":\"v\",\"showlegend\":true,\"x\":[30000],\"xaxis\":\"x\",\"y\":[250000],\"yaxis\":\"y\",\"type\":\"scatter\"}],                        {\"template\":{\"data\":{\"histogram2dcontour\":[{\"type\":\"histogram2dcontour\",\"colorbar\":{\"outlinewidth\":0,\"ticks\":\"\"},\"colorscale\":[[0.0,\"#0d0887\"],[0.1111111111111111,\"#46039f\"],[0.2222222222222222,\"#7201a8\"],[0.3333333333333333,\"#9c179e\"],[0.4444444444444444,\"#bd3786\"],[0.5555555555555556,\"#d8576b\"],[0.6666666666666666,\"#ed7953\"],[0.7777777777777778,\"#fb9f3a\"],[0.8888888888888888,\"#fdca26\"],[1.0,\"#f0f921\"]]}],\"choropleth\":[{\"type\":\"choropleth\",\"colorbar\":{\"outlinewidth\":0,\"ticks\":\"\"}}],\"histogram2d\":[{\"type\":\"histogram2d\",\"colorbar\":{\"outlinewidth\":0,\"ticks\":\"\"},\"colorscale\":[[0.0,\"#0d0887\"],[0.1111111111111111,\"#46039f\"],[0.2222222222222222,\"#7201a8\"],[0.3333333333333333,\"#9c179e\"],[0.4444444444444444,\"#bd3786\"],[0.5555555555555556,\"#d8576b\"],[0.6666666666666666,\"#ed7953\"],[0.7777777777777778,\"#fb9f3a\"],[0.8888888888888888,\"#fdca26\"],[1.0,\"#f0f921\"]]}],\"heatmap\":[{\"type\":\"heatmap\",\"colorbar\":{\"outlinewidth\":0,\"ticks\":\"\"},\"colorscale\":[[0.0,\"#0d0887\"],[0.1111111111111111,\"#46039f\"],[0.2222222222222222,\"#7201a8\"],[0.3333333333333333,\"#9c179e\"],[0.4444444444444444,\"#bd3786\"],[0.5555555555555556,\"#d8576b\"],[0.6666666666666666,\"#ed7953\"],[0.7777777777777778,\"#fb9f3a\"],[0.8888888888888888,\"#fdca26\"],[1.0,\"#f0f921\"]]}],\"heatmapgl\":[{\"type\":\"heatmapgl\",\"colorbar\":{\"outlinewidth\":0,\"ticks\":\"\"},\"colorscale\":[[0.0,\"#0d0887\"],[0.1111111111111111,\"#46039f\"],[0.2222222222222222,\"#7201a8\"],[0.3333333333333333,\"#9c179e\"],[0.4444444444444444,\"#bd3786\"],[0.5555555555555556,\"#d8576b\"],[0.6666666666666666,\"#ed7953\"],[0.7777777777777778,\"#fb9f3a\"],[0.8888888888888888,\"#fdca26\"],[1.0,\"#f0f921\"]]}],\"contourcarpet\":[{\"type\":\"contourcarpet\",\"colorbar\":{\"outlinewidth\":0,\"ticks\":\"\"}}],\"contour\":[{\"type\":\"contour\",\"colorbar\":{\"outlinewidth\":0,\"ticks\":\"\"},\"colorscale\":[[0.0,\"#0d0887\"],[0.1111111111111111,\"#46039f\"],[0.2222222222222222,\"#7201a8\"],[0.3333333333333333,\"#9c179e\"],[0.4444444444444444,\"#bd3786\"],[0.5555555555555556,\"#d8576b\"],[0.6666666666666666,\"#ed7953\"],[0.7777777777777778,\"#fb9f3a\"],[0.8888888888888888,\"#fdca26\"],[1.0,\"#f0f921\"]]}],\"surface\":[{\"type\":\"surface\",\"colorbar\":{\"outlinewidth\":0,\"ticks\":\"\"},\"colorscale\":[[0.0,\"#0d0887\"],[0.1111111111111111,\"#46039f\"],[0.2222222222222222,\"#7201a8\"],[0.3333333333333333,\"#9c179e\"],[0.4444444444444444,\"#bd3786\"],[0.5555555555555556,\"#d8576b\"],[0.6666666666666666,\"#ed7953\"],[0.7777777777777778,\"#fb9f3a\"],[0.8888888888888888,\"#fdca26\"],[1.0,\"#f0f921\"]]}],\"mesh3d\":[{\"type\":\"mesh3d\",\"colorbar\":{\"outlinewidth\":0,\"ticks\":\"\"}}],\"scatter\":[{\"fillpattern\":{\"fillmode\":\"overlay\",\"size\":10,\"solidity\":0.2},\"type\":\"scatter\"}],\"parcoords\":[{\"type\":\"parcoords\",\"line\":{\"colorbar\":{\"outlinewidth\":0,\"ticks\":\"\"}}}],\"scatterpolargl\":[{\"type\":\"scatterpolargl\",\"marker\":{\"colorbar\":{\"outlinewidth\":0,\"ticks\":\"\"}}}],\"bar\":[{\"error_x\":{\"color\":\"#2a3f5f\"},\"error_y\":{\"color\":\"#2a3f5f\"},\"marker\":{\"line\":{\"color\":\"#E5ECF6\",\"width\":0.5},\"pattern\":{\"fillmode\":\"overlay\",\"size\":10,\"solidity\":0.2}},\"type\":\"bar\"}],\"scattergeo\":[{\"type\":\"scattergeo\",\"marker\":{\"colorbar\":{\"outlinewidth\":0,\"ticks\":\"\"}}}],\"scatterpolar\":[{\"type\":\"scatterpolar\",\"marker\":{\"colorbar\":{\"outlinewidth\":0,\"ticks\":\"\"}}}],\"histogram\":[{\"marker\":{\"pattern\":{\"fillmode\":\"overlay\",\"size\":10,\"solidity\":0.2}},\"type\":\"histogram\"}],\"scattergl\":[{\"type\":\"scattergl\",\"marker\":{\"colorbar\":{\"outlinewidth\":0,\"ticks\":\"\"}}}],\"scatter3d\":[{\"type\":\"scatter3d\",\"line\":{\"colorbar\":{\"outlinewidth\":0,\"ticks\":\"\"}},\"marker\":{\"colorbar\":{\"outlinewidth\":0,\"ticks\":\"\"}}}],\"scattermapbox\":[{\"type\":\"scattermapbox\",\"marker\":{\"colorbar\":{\"outlinewidth\":0,\"ticks\":\"\"}}}],\"scatterternary\":[{\"type\":\"scatterternary\",\"marker\":{\"colorbar\":{\"outlinewidth\":0,\"ticks\":\"\"}}}],\"scattercarpet\":[{\"type\":\"scattercarpet\",\"marker\":{\"colorbar\":{\"outlinewidth\":0,\"ticks\":\"\"}}}],\"carpet\":[{\"aaxis\":{\"endlinecolor\":\"#2a3f5f\",\"gridcolor\":\"white\",\"linecolor\":\"white\",\"minorgridcolor\":\"white\",\"startlinecolor\":\"#2a3f5f\"},\"baxis\":{\"endlinecolor\":\"#2a3f5f\",\"gridcolor\":\"white\",\"linecolor\":\"white\",\"minorgridcolor\":\"white\",\"startlinecolor\":\"#2a3f5f\"},\"type\":\"carpet\"}],\"table\":[{\"cells\":{\"fill\":{\"color\":\"#EBF0F8\"},\"line\":{\"color\":\"white\"}},\"header\":{\"fill\":{\"color\":\"#C8D4E3\"},\"line\":{\"color\":\"white\"}},\"type\":\"table\"}],\"barpolar\":[{\"marker\":{\"line\":{\"color\":\"#E5ECF6\",\"width\":0.5},\"pattern\":{\"fillmode\":\"overlay\",\"size\":10,\"solidity\":0.2}},\"type\":\"barpolar\"}],\"pie\":[{\"automargin\":true,\"type\":\"pie\"}]},\"layout\":{\"autotypenumbers\":\"strict\",\"colorway\":[\"#636efa\",\"#EF553B\",\"#00cc96\",\"#ab63fa\",\"#FFA15A\",\"#19d3f3\",\"#FF6692\",\"#B6E880\",\"#FF97FF\",\"#FECB52\"],\"font\":{\"color\":\"#2a3f5f\"},\"hovermode\":\"closest\",\"hoverlabel\":{\"align\":\"left\"},\"paper_bgcolor\":\"white\",\"plot_bgcolor\":\"#E5ECF6\",\"polar\":{\"bgcolor\":\"#E5ECF6\",\"angularaxis\":{\"gridcolor\":\"white\",\"linecolor\":\"white\",\"ticks\":\"\"},\"radialaxis\":{\"gridcolor\":\"white\",\"linecolor\":\"white\",\"ticks\":\"\"}},\"ternary\":{\"bgcolor\":\"#E5ECF6\",\"aaxis\":{\"gridcolor\":\"white\",\"linecolor\":\"white\",\"ticks\":\"\"},\"baxis\":{\"gridcolor\":\"white\",\"linecolor\":\"white\",\"ticks\":\"\"},\"caxis\":{\"gridcolor\":\"white\",\"linecolor\":\"white\",\"ticks\":\"\"}},\"coloraxis\":{\"colorbar\":{\"outlinewidth\":0,\"ticks\":\"\"}},\"colorscale\":{\"sequential\":[[0.0,\"#0d0887\"],[0.1111111111111111,\"#46039f\"],[0.2222222222222222,\"#7201a8\"],[0.3333333333333333,\"#9c179e\"],[0.4444444444444444,\"#bd3786\"],[0.5555555555555556,\"#d8576b\"],[0.6666666666666666,\"#ed7953\"],[0.7777777777777778,\"#fb9f3a\"],[0.8888888888888888,\"#fdca26\"],[1.0,\"#f0f921\"]],\"sequentialminus\":[[0.0,\"#0d0887\"],[0.1111111111111111,\"#46039f\"],[0.2222222222222222,\"#7201a8\"],[0.3333333333333333,\"#9c179e\"],[0.4444444444444444,\"#bd3786\"],[0.5555555555555556,\"#d8576b\"],[0.6666666666666666,\"#ed7953\"],[0.7777777777777778,\"#fb9f3a\"],[0.8888888888888888,\"#fdca26\"],[1.0,\"#f0f921\"]],\"diverging\":[[0,\"#8e0152\"],[0.1,\"#c51b7d\"],[0.2,\"#de77ae\"],[0.3,\"#f1b6da\"],[0.4,\"#fde0ef\"],[0.5,\"#f7f7f7\"],[0.6,\"#e6f5d0\"],[0.7,\"#b8e186\"],[0.8,\"#7fbc41\"],[0.9,\"#4d9221\"],[1,\"#276419\"]]},\"xaxis\":{\"gridcolor\":\"white\",\"linecolor\":\"white\",\"ticks\":\"\",\"title\":{\"standoff\":15},\"zerolinecolor\":\"white\",\"automargin\":true,\"zerolinewidth\":2},\"yaxis\":{\"gridcolor\":\"white\",\"linecolor\":\"white\",\"ticks\":\"\",\"title\":{\"standoff\":15},\"zerolinecolor\":\"white\",\"automargin\":true,\"zerolinewidth\":2},\"scene\":{\"xaxis\":{\"backgroundcolor\":\"#E5ECF6\",\"gridcolor\":\"white\",\"linecolor\":\"white\",\"showbackground\":true,\"ticks\":\"\",\"zerolinecolor\":\"white\",\"gridwidth\":2},\"yaxis\":{\"backgroundcolor\":\"#E5ECF6\",\"gridcolor\":\"white\",\"linecolor\":\"white\",\"showbackground\":true,\"ticks\":\"\",\"zerolinecolor\":\"white\",\"gridwidth\":2},\"zaxis\":{\"backgroundcolor\":\"#E5ECF6\",\"gridcolor\":\"white\",\"linecolor\":\"white\",\"showbackground\":true,\"ticks\":\"\",\"zerolinecolor\":\"white\",\"gridwidth\":2}},\"shapedefaults\":{\"line\":{\"color\":\"#2a3f5f\"}},\"annotationdefaults\":{\"arrowcolor\":\"#2a3f5f\",\"arrowhead\":0,\"arrowwidth\":1},\"geo\":{\"bgcolor\":\"white\",\"landcolor\":\"#E5ECF6\",\"subunitcolor\":\"white\",\"showland\":true,\"showlakes\":true,\"lakecolor\":\"white\"},\"title\":{\"x\":0.05},\"mapbox\":{\"style\":\"light\"}}},\"xaxis\":{\"anchor\":\"y\",\"domain\":[0.0,1.0],\"title\":{\"text\":\"Cost ($)\"}},\"yaxis\":{\"anchor\":\"x\",\"domain\":[0.0,1.0],\"title\":{\"text\":\"Reach (People)\"}},\"legend\":{\"title\":{\"text\":\"Channel\"},\"tracegroupgap\":0,\"itemsizing\":\"constant\"},\"title\":{\"text\":\"Advertising Channels: Cost vs. Reach vs. Conversions\"}},                        {\"responsive\": true}                    ).then(function(){\n",
              "                            \n",
              "var gd = document.getElementById('d3f7f12d-c9ac-492d-a6c6-bef73a225b20');\n",
              "var x = new MutationObserver(function (mutations, observer) {{\n",
              "        var display = window.getComputedStyle(gd).display;\n",
              "        if (!display || display === 'none') {{\n",
              "            console.log([gd, 'removed!']);\n",
              "            Plotly.purge(gd);\n",
              "            observer.disconnect();\n",
              "        }}\n",
              "}});\n",
              "\n",
              "// Listen for the removal of the full notebook cells\n",
              "var notebookContainer = gd.closest('#notebook-container');\n",
              "if (notebookContainer) {{\n",
              "    x.observe(notebookContainer, {childList: true});\n",
              "}}\n",
              "\n",
              "// Listen for the clearing of the current output cell\n",
              "var outputEl = gd.closest('.output');\n",
              "if (outputEl) {{\n",
              "    x.observe(outputEl, {childList: true});\n",
              "}}\n",
              "\n",
              "                        })                };                            </script>        </div>\n",
              "</body>\n",
              "</html>"
            ]
          },
          "metadata": {}
        }
      ]
    },
    {
      "cell_type": "markdown",
      "source": [
        "In this bubble chart, each bubble represents an advertising channel. The x-axis shows the cost, the y-axis shows the reach, and the size of the bubble indicates the number of conversions. This allows us to quickly compare the efficiency of different channels. For instance, we might notice that while TV advertising has the highest cost and reach, social media provides a high number of conversions relative to its cost and reach."
      ],
      "metadata": {
        "id": "0VOps-kLxiNZ"
      }
    },
    {
      "cell_type": "markdown",
      "source": [
        "## Scatter Plot\n",
        "\n",
        "A scatter plot is used to display the relationship between two continuous variables. Each point on the plot represents an individual data point, with its position determined by its values for the two variables being compared.\n",
        "\n",
        "Scatter plots are excellent for:\n",
        "- Identifying correlations between variables\n",
        "- Spotting outliers or unusual patterns in the data\n",
        "- Visualizing the distribution of data points\n",
        "\n",
        "When interpreting a scatter plot:\n",
        "- Look for overall patterns: Do the points form a line, curve, or cluster?\n",
        "- Check for correlation: A positive correlation means both variables increase together, while a negative correlation means one decreases as the other increases.\n",
        "- Identify outliers: Points that are far from the main cluster may warrant further investigation.\n",
        "\n",
        "In our Crunch-O-Matic campaign, we might use a scatter plot to examine the relationship between advertising spend and sales across different regions.\n",
        "\n",
        "Here's how to create a scatter plot using Plotly Express:"
      ],
      "metadata": {
        "id": "kEEbv6dwvQsn"
      }
    },
    {
      "cell_type": "code",
      "source": [
        "import plotly.express as px\n",
        "import pandas as pd\n",
        "import numpy as np\n",
        "\n",
        "# Generate sample data\n",
        "np.random.seed(42)\n",
        "data = {\n",
        "    'Region': [f'Region {i}' for i in range(1, 51)],\n",
        "    'Ad Spend': np.random.randint(10000, 100000, 50),\n",
        "    'Sales': np.random.randint(50000, 500000, 50)\n",
        "}\n",
        "df = pd.DataFrame(data)\n",
        "\n",
        "# Create the scatter plot\n",
        "fig = px.scatter(df, x='Ad Spend', y='Sales', hover_name='Region',\n",
        "                 title='Advertising Spend vs Sales by Region')\n",
        "\n",
        "fig.update_xaxes(title='Advertising Spend ($)')\n",
        "fig.update_yaxes(title='Sales ($)')\n",
        "\n",
        "fig.show()"
      ],
      "metadata": {
        "id": "fEaitqY_vRZU",
        "outputId": "80fff26a-b3fb-42a5-ee1b-c28ac12d5cd7",
        "colab": {
          "base_uri": "https://localhost:8080/",
          "height": 542
        }
      },
      "execution_count": 1,
      "outputs": [
        {
          "output_type": "display_data",
          "data": {
            "text/html": [
              "<html>\n",
              "<head><meta charset=\"utf-8\" /></head>\n",
              "<body>\n",
              "    <div>            <script src=\"https://cdnjs.cloudflare.com/ajax/libs/mathjax/2.7.5/MathJax.js?config=TeX-AMS-MML_SVG\"></script><script type=\"text/javascript\">if (window.MathJax && window.MathJax.Hub && window.MathJax.Hub.Config) {window.MathJax.Hub.Config({SVG: {font: \"STIX-Web\"}});}</script>                <script type=\"text/javascript\">window.PlotlyConfig = {MathJaxConfig: 'local'};</script>\n",
              "        <script charset=\"utf-8\" src=\"https://cdn.plot.ly/plotly-2.24.1.min.js\"></script>                <div id=\"ab0e9b76-ca16-49dd-aa4a-e8ab2d2f2a6c\" class=\"plotly-graph-div\" style=\"height:525px; width:100%;\"></div>            <script type=\"text/javascript\">                                    window.PLOTLYENV=window.PLOTLYENV || {};                                    if (document.getElementById(\"ab0e9b76-ca16-49dd-aa4a-e8ab2d2f2a6c\")) {                    Plotly.newPlot(                        \"ab0e9b76-ca16-49dd-aa4a-e8ab2d2f2a6c\",                        [{\"hovertemplate\":\"\\u003cb\\u003e%{hovertext}\\u003c\\u002fb\\u003e\\u003cbr\\u003e\\u003cbr\\u003eAd Spend=%{x}\\u003cbr\\u003eSales=%{y}\\u003cextra\\u003e\\u003c\\u002fextra\\u003e\",\"hovertext\":[\"Region 1\",\"Region 2\",\"Region 3\",\"Region 4\",\"Region 5\",\"Region 6\",\"Region 7\",\"Region 8\",\"Region 9\",\"Region 10\",\"Region 11\",\"Region 12\",\"Region 13\",\"Region 14\",\"Region 15\",\"Region 16\",\"Region 17\",\"Region 18\",\"Region 19\",\"Region 20\",\"Region 21\",\"Region 22\",\"Region 23\",\"Region 24\",\"Region 25\",\"Region 26\",\"Region 27\",\"Region 28\",\"Region 29\",\"Region 30\",\"Region 31\",\"Region 32\",\"Region 33\",\"Region 34\",\"Region 35\",\"Region 36\",\"Region 37\",\"Region 38\",\"Region 39\",\"Region 40\",\"Region 41\",\"Region 42\",\"Region 43\",\"Region 44\",\"Region 45\",\"Region 46\",\"Region 47\",\"Region 48\",\"Region 49\",\"Region 50\"],\"legendgroup\":\"\",\"marker\":{\"color\":\"#636efa\",\"symbol\":\"circle\"},\"mode\":\"markers\",\"name\":\"\",\"orientation\":\"v\",\"showlegend\":false,\"x\":[25795,10860,86820,64886,16265,92386,47194,97498,54131,70263,26023,51090,77221,74820,10769,69735,72955,74925,77969,15311,93104,63707,95305,38693,81932,35658,94478,28431,12747,69150,75725,94654,45773,77435,66886,76803,41551,21394,79092,13890,51606,90038,97313,20627,18792,83969,53001,86552,33897,78148],\"xaxis\":\"x\",\"y\":[302801,174243,301995,432318,204555,436502,98555,306508,329303,422654,156530,130077,348064,250551,331601,258261,290181,391097,365139,221829,321836,488974,252283,246769,87065,273165,149299,475822,61534,90397,307750,403531,313160,105591,270884,73247,74300,132798,59268,398951,324329,244776,267851,482315,451787,286584,88044,363358,426896,98984],\"yaxis\":\"y\",\"type\":\"scatter\"}],                        {\"template\":{\"data\":{\"histogram2dcontour\":[{\"type\":\"histogram2dcontour\",\"colorbar\":{\"outlinewidth\":0,\"ticks\":\"\"},\"colorscale\":[[0.0,\"#0d0887\"],[0.1111111111111111,\"#46039f\"],[0.2222222222222222,\"#7201a8\"],[0.3333333333333333,\"#9c179e\"],[0.4444444444444444,\"#bd3786\"],[0.5555555555555556,\"#d8576b\"],[0.6666666666666666,\"#ed7953\"],[0.7777777777777778,\"#fb9f3a\"],[0.8888888888888888,\"#fdca26\"],[1.0,\"#f0f921\"]]}],\"choropleth\":[{\"type\":\"choropleth\",\"colorbar\":{\"outlinewidth\":0,\"ticks\":\"\"}}],\"histogram2d\":[{\"type\":\"histogram2d\",\"colorbar\":{\"outlinewidth\":0,\"ticks\":\"\"},\"colorscale\":[[0.0,\"#0d0887\"],[0.1111111111111111,\"#46039f\"],[0.2222222222222222,\"#7201a8\"],[0.3333333333333333,\"#9c179e\"],[0.4444444444444444,\"#bd3786\"],[0.5555555555555556,\"#d8576b\"],[0.6666666666666666,\"#ed7953\"],[0.7777777777777778,\"#fb9f3a\"],[0.8888888888888888,\"#fdca26\"],[1.0,\"#f0f921\"]]}],\"heatmap\":[{\"type\":\"heatmap\",\"colorbar\":{\"outlinewidth\":0,\"ticks\":\"\"},\"colorscale\":[[0.0,\"#0d0887\"],[0.1111111111111111,\"#46039f\"],[0.2222222222222222,\"#7201a8\"],[0.3333333333333333,\"#9c179e\"],[0.4444444444444444,\"#bd3786\"],[0.5555555555555556,\"#d8576b\"],[0.6666666666666666,\"#ed7953\"],[0.7777777777777778,\"#fb9f3a\"],[0.8888888888888888,\"#fdca26\"],[1.0,\"#f0f921\"]]}],\"heatmapgl\":[{\"type\":\"heatmapgl\",\"colorbar\":{\"outlinewidth\":0,\"ticks\":\"\"},\"colorscale\":[[0.0,\"#0d0887\"],[0.1111111111111111,\"#46039f\"],[0.2222222222222222,\"#7201a8\"],[0.3333333333333333,\"#9c179e\"],[0.4444444444444444,\"#bd3786\"],[0.5555555555555556,\"#d8576b\"],[0.6666666666666666,\"#ed7953\"],[0.7777777777777778,\"#fb9f3a\"],[0.8888888888888888,\"#fdca26\"],[1.0,\"#f0f921\"]]}],\"contourcarpet\":[{\"type\":\"contourcarpet\",\"colorbar\":{\"outlinewidth\":0,\"ticks\":\"\"}}],\"contour\":[{\"type\":\"contour\",\"colorbar\":{\"outlinewidth\":0,\"ticks\":\"\"},\"colorscale\":[[0.0,\"#0d0887\"],[0.1111111111111111,\"#46039f\"],[0.2222222222222222,\"#7201a8\"],[0.3333333333333333,\"#9c179e\"],[0.4444444444444444,\"#bd3786\"],[0.5555555555555556,\"#d8576b\"],[0.6666666666666666,\"#ed7953\"],[0.7777777777777778,\"#fb9f3a\"],[0.8888888888888888,\"#fdca26\"],[1.0,\"#f0f921\"]]}],\"surface\":[{\"type\":\"surface\",\"colorbar\":{\"outlinewidth\":0,\"ticks\":\"\"},\"colorscale\":[[0.0,\"#0d0887\"],[0.1111111111111111,\"#46039f\"],[0.2222222222222222,\"#7201a8\"],[0.3333333333333333,\"#9c179e\"],[0.4444444444444444,\"#bd3786\"],[0.5555555555555556,\"#d8576b\"],[0.6666666666666666,\"#ed7953\"],[0.7777777777777778,\"#fb9f3a\"],[0.8888888888888888,\"#fdca26\"],[1.0,\"#f0f921\"]]}],\"mesh3d\":[{\"type\":\"mesh3d\",\"colorbar\":{\"outlinewidth\":0,\"ticks\":\"\"}}],\"scatter\":[{\"fillpattern\":{\"fillmode\":\"overlay\",\"size\":10,\"solidity\":0.2},\"type\":\"scatter\"}],\"parcoords\":[{\"type\":\"parcoords\",\"line\":{\"colorbar\":{\"outlinewidth\":0,\"ticks\":\"\"}}}],\"scatterpolargl\":[{\"type\":\"scatterpolargl\",\"marker\":{\"colorbar\":{\"outlinewidth\":0,\"ticks\":\"\"}}}],\"bar\":[{\"error_x\":{\"color\":\"#2a3f5f\"},\"error_y\":{\"color\":\"#2a3f5f\"},\"marker\":{\"line\":{\"color\":\"#E5ECF6\",\"width\":0.5},\"pattern\":{\"fillmode\":\"overlay\",\"size\":10,\"solidity\":0.2}},\"type\":\"bar\"}],\"scattergeo\":[{\"type\":\"scattergeo\",\"marker\":{\"colorbar\":{\"outlinewidth\":0,\"ticks\":\"\"}}}],\"scatterpolar\":[{\"type\":\"scatterpolar\",\"marker\":{\"colorbar\":{\"outlinewidth\":0,\"ticks\":\"\"}}}],\"histogram\":[{\"marker\":{\"pattern\":{\"fillmode\":\"overlay\",\"size\":10,\"solidity\":0.2}},\"type\":\"histogram\"}],\"scattergl\":[{\"type\":\"scattergl\",\"marker\":{\"colorbar\":{\"outlinewidth\":0,\"ticks\":\"\"}}}],\"scatter3d\":[{\"type\":\"scatter3d\",\"line\":{\"colorbar\":{\"outlinewidth\":0,\"ticks\":\"\"}},\"marker\":{\"colorbar\":{\"outlinewidth\":0,\"ticks\":\"\"}}}],\"scattermapbox\":[{\"type\":\"scattermapbox\",\"marker\":{\"colorbar\":{\"outlinewidth\":0,\"ticks\":\"\"}}}],\"scatterternary\":[{\"type\":\"scatterternary\",\"marker\":{\"colorbar\":{\"outlinewidth\":0,\"ticks\":\"\"}}}],\"scattercarpet\":[{\"type\":\"scattercarpet\",\"marker\":{\"colorbar\":{\"outlinewidth\":0,\"ticks\":\"\"}}}],\"carpet\":[{\"aaxis\":{\"endlinecolor\":\"#2a3f5f\",\"gridcolor\":\"white\",\"linecolor\":\"white\",\"minorgridcolor\":\"white\",\"startlinecolor\":\"#2a3f5f\"},\"baxis\":{\"endlinecolor\":\"#2a3f5f\",\"gridcolor\":\"white\",\"linecolor\":\"white\",\"minorgridcolor\":\"white\",\"startlinecolor\":\"#2a3f5f\"},\"type\":\"carpet\"}],\"table\":[{\"cells\":{\"fill\":{\"color\":\"#EBF0F8\"},\"line\":{\"color\":\"white\"}},\"header\":{\"fill\":{\"color\":\"#C8D4E3\"},\"line\":{\"color\":\"white\"}},\"type\":\"table\"}],\"barpolar\":[{\"marker\":{\"line\":{\"color\":\"#E5ECF6\",\"width\":0.5},\"pattern\":{\"fillmode\":\"overlay\",\"size\":10,\"solidity\":0.2}},\"type\":\"barpolar\"}],\"pie\":[{\"automargin\":true,\"type\":\"pie\"}]},\"layout\":{\"autotypenumbers\":\"strict\",\"colorway\":[\"#636efa\",\"#EF553B\",\"#00cc96\",\"#ab63fa\",\"#FFA15A\",\"#19d3f3\",\"#FF6692\",\"#B6E880\",\"#FF97FF\",\"#FECB52\"],\"font\":{\"color\":\"#2a3f5f\"},\"hovermode\":\"closest\",\"hoverlabel\":{\"align\":\"left\"},\"paper_bgcolor\":\"white\",\"plot_bgcolor\":\"#E5ECF6\",\"polar\":{\"bgcolor\":\"#E5ECF6\",\"angularaxis\":{\"gridcolor\":\"white\",\"linecolor\":\"white\",\"ticks\":\"\"},\"radialaxis\":{\"gridcolor\":\"white\",\"linecolor\":\"white\",\"ticks\":\"\"}},\"ternary\":{\"bgcolor\":\"#E5ECF6\",\"aaxis\":{\"gridcolor\":\"white\",\"linecolor\":\"white\",\"ticks\":\"\"},\"baxis\":{\"gridcolor\":\"white\",\"linecolor\":\"white\",\"ticks\":\"\"},\"caxis\":{\"gridcolor\":\"white\",\"linecolor\":\"white\",\"ticks\":\"\"}},\"coloraxis\":{\"colorbar\":{\"outlinewidth\":0,\"ticks\":\"\"}},\"colorscale\":{\"sequential\":[[0.0,\"#0d0887\"],[0.1111111111111111,\"#46039f\"],[0.2222222222222222,\"#7201a8\"],[0.3333333333333333,\"#9c179e\"],[0.4444444444444444,\"#bd3786\"],[0.5555555555555556,\"#d8576b\"],[0.6666666666666666,\"#ed7953\"],[0.7777777777777778,\"#fb9f3a\"],[0.8888888888888888,\"#fdca26\"],[1.0,\"#f0f921\"]],\"sequentialminus\":[[0.0,\"#0d0887\"],[0.1111111111111111,\"#46039f\"],[0.2222222222222222,\"#7201a8\"],[0.3333333333333333,\"#9c179e\"],[0.4444444444444444,\"#bd3786\"],[0.5555555555555556,\"#d8576b\"],[0.6666666666666666,\"#ed7953\"],[0.7777777777777778,\"#fb9f3a\"],[0.8888888888888888,\"#fdca26\"],[1.0,\"#f0f921\"]],\"diverging\":[[0,\"#8e0152\"],[0.1,\"#c51b7d\"],[0.2,\"#de77ae\"],[0.3,\"#f1b6da\"],[0.4,\"#fde0ef\"],[0.5,\"#f7f7f7\"],[0.6,\"#e6f5d0\"],[0.7,\"#b8e186\"],[0.8,\"#7fbc41\"],[0.9,\"#4d9221\"],[1,\"#276419\"]]},\"xaxis\":{\"gridcolor\":\"white\",\"linecolor\":\"white\",\"ticks\":\"\",\"title\":{\"standoff\":15},\"zerolinecolor\":\"white\",\"automargin\":true,\"zerolinewidth\":2},\"yaxis\":{\"gridcolor\":\"white\",\"linecolor\":\"white\",\"ticks\":\"\",\"title\":{\"standoff\":15},\"zerolinecolor\":\"white\",\"automargin\":true,\"zerolinewidth\":2},\"scene\":{\"xaxis\":{\"backgroundcolor\":\"#E5ECF6\",\"gridcolor\":\"white\",\"linecolor\":\"white\",\"showbackground\":true,\"ticks\":\"\",\"zerolinecolor\":\"white\",\"gridwidth\":2},\"yaxis\":{\"backgroundcolor\":\"#E5ECF6\",\"gridcolor\":\"white\",\"linecolor\":\"white\",\"showbackground\":true,\"ticks\":\"\",\"zerolinecolor\":\"white\",\"gridwidth\":2},\"zaxis\":{\"backgroundcolor\":\"#E5ECF6\",\"gridcolor\":\"white\",\"linecolor\":\"white\",\"showbackground\":true,\"ticks\":\"\",\"zerolinecolor\":\"white\",\"gridwidth\":2}},\"shapedefaults\":{\"line\":{\"color\":\"#2a3f5f\"}},\"annotationdefaults\":{\"arrowcolor\":\"#2a3f5f\",\"arrowhead\":0,\"arrowwidth\":1},\"geo\":{\"bgcolor\":\"white\",\"landcolor\":\"#E5ECF6\",\"subunitcolor\":\"white\",\"showland\":true,\"showlakes\":true,\"lakecolor\":\"white\"},\"title\":{\"x\":0.05},\"mapbox\":{\"style\":\"light\"}}},\"xaxis\":{\"anchor\":\"y\",\"domain\":[0.0,1.0],\"title\":{\"text\":\"Advertising Spend ($)\"}},\"yaxis\":{\"anchor\":\"x\",\"domain\":[0.0,1.0],\"title\":{\"text\":\"Sales ($)\"}},\"legend\":{\"tracegroupgap\":0},\"title\":{\"text\":\"Advertising Spend vs Sales by Region\"}},                        {\"responsive\": true}                    ).then(function(){\n",
              "                            \n",
              "var gd = document.getElementById('ab0e9b76-ca16-49dd-aa4a-e8ab2d2f2a6c');\n",
              "var x = new MutationObserver(function (mutations, observer) {{\n",
              "        var display = window.getComputedStyle(gd).display;\n",
              "        if (!display || display === 'none') {{\n",
              "            console.log([gd, 'removed!']);\n",
              "            Plotly.purge(gd);\n",
              "            observer.disconnect();\n",
              "        }}\n",
              "}});\n",
              "\n",
              "// Listen for the removal of the full notebook cells\n",
              "var notebookContainer = gd.closest('#notebook-container');\n",
              "if (notebookContainer) {{\n",
              "    x.observe(notebookContainer, {childList: true});\n",
              "}}\n",
              "\n",
              "// Listen for the clearing of the current output cell\n",
              "var outputEl = gd.closest('.output');\n",
              "if (outputEl) {{\n",
              "    x.observe(outputEl, {childList: true});\n",
              "}}\n",
              "\n",
              "                        })                };                            </script>        </div>\n",
              "</body>\n",
              "</html>"
            ]
          },
          "metadata": {}
        }
      ]
    },
    {
      "cell_type": "markdown",
      "source": [
        "This scatter plot allows us to see if there's a relationship between how much we spend on advertising in a region and the resulting sales. A positive correlation would suggest that increased ad spend generally leads to higher sales, while outliers might indicate regions where our advertising is particularly effective or ineffective."
      ],
      "metadata": {
        "id": "vh9ImmodvVr6"
      }
    },
    {
      "cell_type": "markdown",
      "source": [
        "## 5. Bar Chart\n",
        "\n",
        "Bar charts are one of the most common and easily understood chart types. They use rectangular bars to represent data, where the length of each bar is proportional to the value it represents. Bar charts can be vertical (column charts) or horizontal.\n",
        "\n",
        "Bar charts are ideal for:\n",
        "- Comparing values across different categories\n",
        "- Showing the distribution of a variable across groups\n",
        "- Displaying rankings or ordered data\n",
        "\n",
        "When interpreting a bar chart:\n",
        "- Compare the lengths of the bars to understand relative values\n",
        "- Pay attention to the order of the bars (if they're arranged in a meaningful way)\n",
        "- Look for patterns or trends across categories\n",
        "\n",
        "For our Crunch-O-Matic campaign, we might use a bar chart to compare sales across different product flavors or packaging sizes.\n",
        "\n",
        "Let's create a bar chart with Plotly Express:"
      ],
      "metadata": {
        "id": "INOZNfcwvjbu"
      }
    },
    {
      "cell_type": "code",
      "source": [
        "import plotly.express as px\n",
        "import pandas as pd\n",
        "\n",
        "# Sample data\n",
        "data = {\n",
        "    'Package Size': ['Small', 'Medium', 'Large', 'Family', 'Party'],\n",
        "    'Sales': [10000, 25000, 30000, 20000, 15000]\n",
        "}\n",
        "df = pd.DataFrame(data)\n",
        "\n",
        "# Create the bar chart\n",
        "fig = px.bar(df, x='Package Size', y='Sales',\n",
        "             title='Crunch-O-Matic Sales by Package Size')\n",
        "\n",
        "fig.update_xaxes(title='Package Size')\n",
        "fig.update_yaxes(title='Sales ($)')\n",
        "\n",
        "fig.show()"
      ],
      "metadata": {
        "id": "akY5eI0hBJzF",
        "colab": {
          "base_uri": "https://localhost:8080/",
          "height": 542
        },
        "outputId": "ab9b9770-2c69-48bd-9be8-2d8147563401"
      },
      "execution_count": 2,
      "outputs": [
        {
          "output_type": "display_data",
          "data": {
            "text/html": [
              "<html>\n",
              "<head><meta charset=\"utf-8\" /></head>\n",
              "<body>\n",
              "    <div>            <script src=\"https://cdnjs.cloudflare.com/ajax/libs/mathjax/2.7.5/MathJax.js?config=TeX-AMS-MML_SVG\"></script><script type=\"text/javascript\">if (window.MathJax && window.MathJax.Hub && window.MathJax.Hub.Config) {window.MathJax.Hub.Config({SVG: {font: \"STIX-Web\"}});}</script>                <script type=\"text/javascript\">window.PlotlyConfig = {MathJaxConfig: 'local'};</script>\n",
              "        <script charset=\"utf-8\" src=\"https://cdn.plot.ly/plotly-2.24.1.min.js\"></script>                <div id=\"0c7af8b7-bf27-42be-867a-264b9902cf4a\" class=\"plotly-graph-div\" style=\"height:525px; width:100%;\"></div>            <script type=\"text/javascript\">                                    window.PLOTLYENV=window.PLOTLYENV || {};                                    if (document.getElementById(\"0c7af8b7-bf27-42be-867a-264b9902cf4a\")) {                    Plotly.newPlot(                        \"0c7af8b7-bf27-42be-867a-264b9902cf4a\",                        [{\"alignmentgroup\":\"True\",\"hovertemplate\":\"Package Size=%{x}\\u003cbr\\u003eSales=%{y}\\u003cextra\\u003e\\u003c\\u002fextra\\u003e\",\"legendgroup\":\"\",\"marker\":{\"color\":\"#636efa\",\"pattern\":{\"shape\":\"\"}},\"name\":\"\",\"offsetgroup\":\"\",\"orientation\":\"v\",\"showlegend\":false,\"textposition\":\"auto\",\"x\":[\"Small\",\"Medium\",\"Large\",\"Family\",\"Party\"],\"xaxis\":\"x\",\"y\":[10000,25000,30000,20000,15000],\"yaxis\":\"y\",\"type\":\"bar\"}],                        {\"template\":{\"data\":{\"histogram2dcontour\":[{\"type\":\"histogram2dcontour\",\"colorbar\":{\"outlinewidth\":0,\"ticks\":\"\"},\"colorscale\":[[0.0,\"#0d0887\"],[0.1111111111111111,\"#46039f\"],[0.2222222222222222,\"#7201a8\"],[0.3333333333333333,\"#9c179e\"],[0.4444444444444444,\"#bd3786\"],[0.5555555555555556,\"#d8576b\"],[0.6666666666666666,\"#ed7953\"],[0.7777777777777778,\"#fb9f3a\"],[0.8888888888888888,\"#fdca26\"],[1.0,\"#f0f921\"]]}],\"choropleth\":[{\"type\":\"choropleth\",\"colorbar\":{\"outlinewidth\":0,\"ticks\":\"\"}}],\"histogram2d\":[{\"type\":\"histogram2d\",\"colorbar\":{\"outlinewidth\":0,\"ticks\":\"\"},\"colorscale\":[[0.0,\"#0d0887\"],[0.1111111111111111,\"#46039f\"],[0.2222222222222222,\"#7201a8\"],[0.3333333333333333,\"#9c179e\"],[0.4444444444444444,\"#bd3786\"],[0.5555555555555556,\"#d8576b\"],[0.6666666666666666,\"#ed7953\"],[0.7777777777777778,\"#fb9f3a\"],[0.8888888888888888,\"#fdca26\"],[1.0,\"#f0f921\"]]}],\"heatmap\":[{\"type\":\"heatmap\",\"colorbar\":{\"outlinewidth\":0,\"ticks\":\"\"},\"colorscale\":[[0.0,\"#0d0887\"],[0.1111111111111111,\"#46039f\"],[0.2222222222222222,\"#7201a8\"],[0.3333333333333333,\"#9c179e\"],[0.4444444444444444,\"#bd3786\"],[0.5555555555555556,\"#d8576b\"],[0.6666666666666666,\"#ed7953\"],[0.7777777777777778,\"#fb9f3a\"],[0.8888888888888888,\"#fdca26\"],[1.0,\"#f0f921\"]]}],\"heatmapgl\":[{\"type\":\"heatmapgl\",\"colorbar\":{\"outlinewidth\":0,\"ticks\":\"\"},\"colorscale\":[[0.0,\"#0d0887\"],[0.1111111111111111,\"#46039f\"],[0.2222222222222222,\"#7201a8\"],[0.3333333333333333,\"#9c179e\"],[0.4444444444444444,\"#bd3786\"],[0.5555555555555556,\"#d8576b\"],[0.6666666666666666,\"#ed7953\"],[0.7777777777777778,\"#fb9f3a\"],[0.8888888888888888,\"#fdca26\"],[1.0,\"#f0f921\"]]}],\"contourcarpet\":[{\"type\":\"contourcarpet\",\"colorbar\":{\"outlinewidth\":0,\"ticks\":\"\"}}],\"contour\":[{\"type\":\"contour\",\"colorbar\":{\"outlinewidth\":0,\"ticks\":\"\"},\"colorscale\":[[0.0,\"#0d0887\"],[0.1111111111111111,\"#46039f\"],[0.2222222222222222,\"#7201a8\"],[0.3333333333333333,\"#9c179e\"],[0.4444444444444444,\"#bd3786\"],[0.5555555555555556,\"#d8576b\"],[0.6666666666666666,\"#ed7953\"],[0.7777777777777778,\"#fb9f3a\"],[0.8888888888888888,\"#fdca26\"],[1.0,\"#f0f921\"]]}],\"surface\":[{\"type\":\"surface\",\"colorbar\":{\"outlinewidth\":0,\"ticks\":\"\"},\"colorscale\":[[0.0,\"#0d0887\"],[0.1111111111111111,\"#46039f\"],[0.2222222222222222,\"#7201a8\"],[0.3333333333333333,\"#9c179e\"],[0.4444444444444444,\"#bd3786\"],[0.5555555555555556,\"#d8576b\"],[0.6666666666666666,\"#ed7953\"],[0.7777777777777778,\"#fb9f3a\"],[0.8888888888888888,\"#fdca26\"],[1.0,\"#f0f921\"]]}],\"mesh3d\":[{\"type\":\"mesh3d\",\"colorbar\":{\"outlinewidth\":0,\"ticks\":\"\"}}],\"scatter\":[{\"fillpattern\":{\"fillmode\":\"overlay\",\"size\":10,\"solidity\":0.2},\"type\":\"scatter\"}],\"parcoords\":[{\"type\":\"parcoords\",\"line\":{\"colorbar\":{\"outlinewidth\":0,\"ticks\":\"\"}}}],\"scatterpolargl\":[{\"type\":\"scatterpolargl\",\"marker\":{\"colorbar\":{\"outlinewidth\":0,\"ticks\":\"\"}}}],\"bar\":[{\"error_x\":{\"color\":\"#2a3f5f\"},\"error_y\":{\"color\":\"#2a3f5f\"},\"marker\":{\"line\":{\"color\":\"#E5ECF6\",\"width\":0.5},\"pattern\":{\"fillmode\":\"overlay\",\"size\":10,\"solidity\":0.2}},\"type\":\"bar\"}],\"scattergeo\":[{\"type\":\"scattergeo\",\"marker\":{\"colorbar\":{\"outlinewidth\":0,\"ticks\":\"\"}}}],\"scatterpolar\":[{\"type\":\"scatterpolar\",\"marker\":{\"colorbar\":{\"outlinewidth\":0,\"ticks\":\"\"}}}],\"histogram\":[{\"marker\":{\"pattern\":{\"fillmode\":\"overlay\",\"size\":10,\"solidity\":0.2}},\"type\":\"histogram\"}],\"scattergl\":[{\"type\":\"scattergl\",\"marker\":{\"colorbar\":{\"outlinewidth\":0,\"ticks\":\"\"}}}],\"scatter3d\":[{\"type\":\"scatter3d\",\"line\":{\"colorbar\":{\"outlinewidth\":0,\"ticks\":\"\"}},\"marker\":{\"colorbar\":{\"outlinewidth\":0,\"ticks\":\"\"}}}],\"scattermapbox\":[{\"type\":\"scattermapbox\",\"marker\":{\"colorbar\":{\"outlinewidth\":0,\"ticks\":\"\"}}}],\"scatterternary\":[{\"type\":\"scatterternary\",\"marker\":{\"colorbar\":{\"outlinewidth\":0,\"ticks\":\"\"}}}],\"scattercarpet\":[{\"type\":\"scattercarpet\",\"marker\":{\"colorbar\":{\"outlinewidth\":0,\"ticks\":\"\"}}}],\"carpet\":[{\"aaxis\":{\"endlinecolor\":\"#2a3f5f\",\"gridcolor\":\"white\",\"linecolor\":\"white\",\"minorgridcolor\":\"white\",\"startlinecolor\":\"#2a3f5f\"},\"baxis\":{\"endlinecolor\":\"#2a3f5f\",\"gridcolor\":\"white\",\"linecolor\":\"white\",\"minorgridcolor\":\"white\",\"startlinecolor\":\"#2a3f5f\"},\"type\":\"carpet\"}],\"table\":[{\"cells\":{\"fill\":{\"color\":\"#EBF0F8\"},\"line\":{\"color\":\"white\"}},\"header\":{\"fill\":{\"color\":\"#C8D4E3\"},\"line\":{\"color\":\"white\"}},\"type\":\"table\"}],\"barpolar\":[{\"marker\":{\"line\":{\"color\":\"#E5ECF6\",\"width\":0.5},\"pattern\":{\"fillmode\":\"overlay\",\"size\":10,\"solidity\":0.2}},\"type\":\"barpolar\"}],\"pie\":[{\"automargin\":true,\"type\":\"pie\"}]},\"layout\":{\"autotypenumbers\":\"strict\",\"colorway\":[\"#636efa\",\"#EF553B\",\"#00cc96\",\"#ab63fa\",\"#FFA15A\",\"#19d3f3\",\"#FF6692\",\"#B6E880\",\"#FF97FF\",\"#FECB52\"],\"font\":{\"color\":\"#2a3f5f\"},\"hovermode\":\"closest\",\"hoverlabel\":{\"align\":\"left\"},\"paper_bgcolor\":\"white\",\"plot_bgcolor\":\"#E5ECF6\",\"polar\":{\"bgcolor\":\"#E5ECF6\",\"angularaxis\":{\"gridcolor\":\"white\",\"linecolor\":\"white\",\"ticks\":\"\"},\"radialaxis\":{\"gridcolor\":\"white\",\"linecolor\":\"white\",\"ticks\":\"\"}},\"ternary\":{\"bgcolor\":\"#E5ECF6\",\"aaxis\":{\"gridcolor\":\"white\",\"linecolor\":\"white\",\"ticks\":\"\"},\"baxis\":{\"gridcolor\":\"white\",\"linecolor\":\"white\",\"ticks\":\"\"},\"caxis\":{\"gridcolor\":\"white\",\"linecolor\":\"white\",\"ticks\":\"\"}},\"coloraxis\":{\"colorbar\":{\"outlinewidth\":0,\"ticks\":\"\"}},\"colorscale\":{\"sequential\":[[0.0,\"#0d0887\"],[0.1111111111111111,\"#46039f\"],[0.2222222222222222,\"#7201a8\"],[0.3333333333333333,\"#9c179e\"],[0.4444444444444444,\"#bd3786\"],[0.5555555555555556,\"#d8576b\"],[0.6666666666666666,\"#ed7953\"],[0.7777777777777778,\"#fb9f3a\"],[0.8888888888888888,\"#fdca26\"],[1.0,\"#f0f921\"]],\"sequentialminus\":[[0.0,\"#0d0887\"],[0.1111111111111111,\"#46039f\"],[0.2222222222222222,\"#7201a8\"],[0.3333333333333333,\"#9c179e\"],[0.4444444444444444,\"#bd3786\"],[0.5555555555555556,\"#d8576b\"],[0.6666666666666666,\"#ed7953\"],[0.7777777777777778,\"#fb9f3a\"],[0.8888888888888888,\"#fdca26\"],[1.0,\"#f0f921\"]],\"diverging\":[[0,\"#8e0152\"],[0.1,\"#c51b7d\"],[0.2,\"#de77ae\"],[0.3,\"#f1b6da\"],[0.4,\"#fde0ef\"],[0.5,\"#f7f7f7\"],[0.6,\"#e6f5d0\"],[0.7,\"#b8e186\"],[0.8,\"#7fbc41\"],[0.9,\"#4d9221\"],[1,\"#276419\"]]},\"xaxis\":{\"gridcolor\":\"white\",\"linecolor\":\"white\",\"ticks\":\"\",\"title\":{\"standoff\":15},\"zerolinecolor\":\"white\",\"automargin\":true,\"zerolinewidth\":2},\"yaxis\":{\"gridcolor\":\"white\",\"linecolor\":\"white\",\"ticks\":\"\",\"title\":{\"standoff\":15},\"zerolinecolor\":\"white\",\"automargin\":true,\"zerolinewidth\":2},\"scene\":{\"xaxis\":{\"backgroundcolor\":\"#E5ECF6\",\"gridcolor\":\"white\",\"linecolor\":\"white\",\"showbackground\":true,\"ticks\":\"\",\"zerolinecolor\":\"white\",\"gridwidth\":2},\"yaxis\":{\"backgroundcolor\":\"#E5ECF6\",\"gridcolor\":\"white\",\"linecolor\":\"white\",\"showbackground\":true,\"ticks\":\"\",\"zerolinecolor\":\"white\",\"gridwidth\":2},\"zaxis\":{\"backgroundcolor\":\"#E5ECF6\",\"gridcolor\":\"white\",\"linecolor\":\"white\",\"showbackground\":true,\"ticks\":\"\",\"zerolinecolor\":\"white\",\"gridwidth\":2}},\"shapedefaults\":{\"line\":{\"color\":\"#2a3f5f\"}},\"annotationdefaults\":{\"arrowcolor\":\"#2a3f5f\",\"arrowhead\":0,\"arrowwidth\":1},\"geo\":{\"bgcolor\":\"white\",\"landcolor\":\"#E5ECF6\",\"subunitcolor\":\"white\",\"showland\":true,\"showlakes\":true,\"lakecolor\":\"white\"},\"title\":{\"x\":0.05},\"mapbox\":{\"style\":\"light\"}}},\"xaxis\":{\"anchor\":\"y\",\"domain\":[0.0,1.0],\"title\":{\"text\":\"Package Size\"}},\"yaxis\":{\"anchor\":\"x\",\"domain\":[0.0,1.0],\"title\":{\"text\":\"Sales ($)\"}},\"legend\":{\"tracegroupgap\":0},\"title\":{\"text\":\"Crunch-O-Matic Sales by Package Size\"},\"barmode\":\"relative\"},                        {\"responsive\": true}                    ).then(function(){\n",
              "                            \n",
              "var gd = document.getElementById('0c7af8b7-bf27-42be-867a-264b9902cf4a');\n",
              "var x = new MutationObserver(function (mutations, observer) {{\n",
              "        var display = window.getComputedStyle(gd).display;\n",
              "        if (!display || display === 'none') {{\n",
              "            console.log([gd, 'removed!']);\n",
              "            Plotly.purge(gd);\n",
              "            observer.disconnect();\n",
              "        }}\n",
              "}});\n",
              "\n",
              "// Listen for the removal of the full notebook cells\n",
              "var notebookContainer = gd.closest('#notebook-container');\n",
              "if (notebookContainer) {{\n",
              "    x.observe(notebookContainer, {childList: true});\n",
              "}}\n",
              "\n",
              "// Listen for the clearing of the current output cell\n",
              "var outputEl = gd.closest('.output');\n",
              "if (outputEl) {{\n",
              "    x.observe(outputEl, {childList: true});\n",
              "}}\n",
              "\n",
              "                        })                };                            </script>        </div>\n",
              "</body>\n",
              "</html>"
            ]
          },
          "metadata": {}
        }
      ]
    },
    {
      "cell_type": "markdown",
      "source": [
        "This bar chart clearly shows which package sizes are most popular among our customers. We can quickly see that the Large size is our best seller, followed by Medium, while the Small and Party sizes have lower sales."
      ],
      "metadata": {
        "id": "ePpIk2wAv28q"
      }
    },
    {
      "cell_type": "markdown",
      "source": [
        "## Histogram\n",
        "\n",
        "A histogram is used to visualize the distribution of a continuous variable. It divides the range of values into intervals (bins) and shows the frequency of data points falling into each bin.\n",
        "\n",
        "Histograms are useful for:\n",
        "- Understanding the shape of data distribution (e.g., normal, skewed, bimodal)\n",
        "- Identifying the central tendency and spread of the data\n",
        "- Spotting outliers or unusual patterns in the data\n",
        "\n",
        "When interpreting a histogram:\n",
        "- Look at the overall shape: Is it symmetric, skewed, or multi-modal?\n",
        "- Identify the peak(s): Where are the most common values?\n",
        "- Check the spread: How wide is the distribution?\n",
        "\n",
        "In our Crunch-O-Matic campaign, we might use a histogram to analyze the distribution of customer purchase amounts or the age of our customers.\n",
        "\n",
        "Here's how to create a histogram using Plotly Express:"
      ],
      "metadata": {
        "id": "JUFnNVvnv66A"
      }
    },
    {
      "cell_type": "code",
      "source": [
        "import plotly.express as px\n",
        "import pandas as pd\n",
        "import numpy as np\n",
        "\n",
        "# Generate sample data\n",
        "np.random.seed(42)\n",
        "data = {\n",
        "    'Purchase Amount': np.random.lognormal(mean=2, sigma=0.5, size=1000)\n",
        "}\n",
        "df = pd.DataFrame(data)\n",
        "\n",
        "# Create the histogram\n",
        "fig = px.histogram(df, x='Purchase Amount', nbins=30,\n",
        "                   title='Distribution of Crunch-O-Matic Purchase Amounts')\n",
        "\n",
        "fig.update_xaxes(title='Purchase Amount ($)')\n",
        "fig.update_yaxes(title='Frequency')\n",
        "\n",
        "fig.show()"
      ],
      "metadata": {
        "id": "cyfOnmeDwEun",
        "outputId": "d0ce9d78-1627-45ff-ebf1-07aebb5d4756",
        "colab": {
          "base_uri": "https://localhost:8080/",
          "height": 542
        }
      },
      "execution_count": 3,
      "outputs": [
        {
          "output_type": "display_data",
          "data": {
            "text/html": [
              "<html>\n",
              "<head><meta charset=\"utf-8\" /></head>\n",
              "<body>\n",
              "    <div>            <script src=\"https://cdnjs.cloudflare.com/ajax/libs/mathjax/2.7.5/MathJax.js?config=TeX-AMS-MML_SVG\"></script><script type=\"text/javascript\">if (window.MathJax && window.MathJax.Hub && window.MathJax.Hub.Config) {window.MathJax.Hub.Config({SVG: {font: \"STIX-Web\"}});}</script>                <script type=\"text/javascript\">window.PlotlyConfig = {MathJaxConfig: 'local'};</script>\n",
              "        <script charset=\"utf-8\" src=\"https://cdn.plot.ly/plotly-2.24.1.min.js\"></script>                <div id=\"5e81d171-4b28-4ee8-80dc-866e01a7b675\" class=\"plotly-graph-div\" style=\"height:525px; width:100%;\"></div>            <script type=\"text/javascript\">                                    window.PLOTLYENV=window.PLOTLYENV || {};                                    if (document.getElementById(\"5e81d171-4b28-4ee8-80dc-866e01a7b675\")) {                    Plotly.newPlot(                        \"5e81d171-4b28-4ee8-80dc-866e01a7b675\",                        [{\"alignmentgroup\":\"True\",\"bingroup\":\"x\",\"hovertemplate\":\"Purchase Amount=%{x}\\u003cbr\\u003ecount=%{y}\\u003cextra\\u003e\\u003c\\u002fextra\\u003e\",\"legendgroup\":\"\",\"marker\":{\"color\":\"#636efa\",\"pattern\":{\"shape\":\"\"}},\"name\":\"\",\"nbinsx\":30,\"offsetgroup\":\"\",\"orientation\":\"v\",\"showlegend\":false,\"x\":[9.47216100987194,6.895491894221445,10.214867622433228,15.823796715499308,6.572690835415946,6.572744790114264,16.274612979553005,10.845143375075379,5.843107766131876,9.691798591077474,5.86082954173784,5.854058159457974,8.33931547599255,2.8387388245260103,3.1190893485212103,5.578144729637361,4.453028559376904,8.646232408054852,4.692605454615296,3.646792993058863,15.376254201713406,6.600278530657781,7.642800566796019,3.6241722119058517,5.628306725833048,7.810439957527582,4.155792778909829,8.916014208987708,5.472199593309779,6.386287573232365,5.469278431255862,18.65546424629654,7.339358108402551,4.354215844927973,11.148137638872413,4.013156846072368,8.202441037764961,2.77365220705283,3.8034440132555454,8.15336412317999,10.689193629845098,8.050096996358691,6.973908714790017,6.356310838442798,3.5280277537270686,5.155571093942172,5.8689785954668325,12.535456050388332,8.774143386232396,3.0601989259099454,8.688862079210239,6.094939640652083,5.2674111546211835,10.032583483403334,12.37279067555634,11.77101389129201,4.856855627942518,6.330592363277925,8.720108806928227,12.034440293160579,5.814837735309618,6.734008019722067,4.249632518646081,4.062898714548886,11.092430194298204,14.557699287079522,7.127745171721768,12.204032732289644,8.853545608565774,5.351838371352939,8.852481389853962,15.942974838900914,7.257874231955468,16.156490022236696,1.9939696444035306,11.144557389012425,7.717755119491166,6.362976842008066,7.735966194657102,2.73523004184195,6.6204547178122315,8.833543935158136,15.470686230165782,5.702273134466682,4.932042480738401,5.74954935220157,11.677933774129398,8.709161824470893,5.669607538319751,9.550884008623774,7.7565587413741435,11.992992192761749,5.201637360594025,6.272461909999834,6.073566069567024,3.554599952333477,8.568221103407264,8.419307970416765,7.407972079132843,6.571265509225655,3.641204847626716,5.987520213117337,6.225431403624709,4.947395939805426,6.816574985477115,9.043311542584629,18.97444266165007,8.063025888020759,8.404566552726111,7.11906959564987,2.8309557977359323,7.291746282620862,7.6149628284078235,25.320669949899077,6.711480165290974,8.59150282456042,7.26191897218336,4.119208285533791,13.084278660522068,10.761409239197,10.97385881913329,4.689407644188411,14.900535553122385,3.665902189441984,9.908852474155998,22.09227086871327,4.502945946831266,5.566971196401168,7.766547143559168,5.7446108563087135,3.4030370552923515,7.646755860735353,4.344228328835568,9.363285232792087,4.665933319994945,16.03810097755352,4.994680039196343,6.29005139696246,11.097930047097394,3.9930998809610303,8.279064403795237,14.204678428506977,3.307717527246643,8.10366905819691,8.414373690494898,10.923445427473405,3.980966561901234,3.8181716922734537,9.592396782084801,8.57192507252058,8.374961035083286,8.786567235396326,5.259245835615756,8.298932139057271,8.555173918973669,5.169749790806495,18.78178008641723,9.364411190013957,4.072871387819688,10.260245879478418,4.538784136702234,10.95222138470689,13.187874243711725,4.902076254723831,11.961439067121853,9.082872193535438,11.145435924686797,19.0753417155951,6.5358731011373905,5.068940988723552,4.736236273593321,4.914032351023984,7.109622479530125,8.763330155176488,8.485386084588836,11.174022051699065,7.437248431317009,15.283396431382211,6.473206516705959,28.791626066848785,10.103012774614156,4.81348436364008,4.3256125091505915,9.404950575619038,6.607917870460761,10.559228818349863,9.361624304944545,7.124827701890859,4.838492188862241,3.464527943286082,5.910571480590043,11.338447647358402,8.223919103807129,3.9635124349020003,8.057396286285115,8.95900068311461,4.7496516660740875,7.979394672218066,7.6072699255508915,4.172497807480486,8.836524826415145,9.780516193585692,12.699030114199749,12.514663365215997,3.7104950932135674,4.623201729174244,9.559329930016187,9.55336048131032,9.559389289325166,50.72230452561523,9.830062137469598,13.036887248815278,11.905504804223796,10.233796501696428,6.311449580588285,10.799335562497363,5.020790506552996,6.563937795906462,5.79687063401385,7.697819213296623,23.507729532291847,2.9048083152521125,10.4137817294978,3.2990747962995433,5.835932515481707,12.736543448838997,7.630398023619134,4.310817714384453,5.1672888230396525,10.379148840952586,5.128517772212139,8.233649003945201,7.559355384472768,5.334524893756856,21.58442618454525,10.144782269141544,2.684323408098702,8.111048603662585,5.3074249154375845,11.315988841963183,4.971589613813599,6.977088987384524,9.511424352147076,11.391615440087646,4.054599016435882,6.251049577689298,5.827146004647931,5.329915496373515,17.862921147065144,9.047521524251732,3.933611744633471,11.692305472437331,21.35056276847336,12.381861634133706,3.45670221330712,5.800145268703297,13.921794677725725,5.187050686684974,9.224931035509462,10.884252574788874,4.648454339390211,7.172378449358988,1.4613582770271392,4.427371996883691,6.512451268603197,3.959462996068749,16.713314077976264,3.6144124490562826,5.929724520195256,7.888218274571268,15.189989791189898,3.6040886042188847,13.218030917324372,7.4269593136881475,4.5233174532829175,9.309652239290354,8.162331472105702,5.473353836831052,7.651494915167183,6.094234751529546,7.82057962477499,10.28889684163316,16.33007350297006,3.979245588043822,21.46699602981142,2.7841875303378885,6.849032849707627,9.916089136012243,8.503653833253985,5.4121706418657824,6.6587972478096145,5.774776374747075,5.503133303261375,11.299981047567952,8.833115140844537,5.2254723849632665,11.586028560014048,8.616248321731986,11.094295523538763,10.123044119624517,4.881743811900036,5.584022975088288,10.73647478145752,10.026034227573394,7.312236684979347,7.835492177614711,13.996852009881335,5.497064956803266,9.713811032107513,6.678568537442994,6.627047617023619,12.79927368547823,11.164154720937926,11.097887978425543,14.192865426302799,7.467064281908633,10.391378642230105,6.327255815515719,8.689219994250902,6.923548815717956,7.7562423409053025,9.950059317578967,4.908113530884877,21.035124544401878,4.468225318178123,4.026532942351287,13.184678513336404,10.977320228747695,10.095198436955396,10.116550586622775,7.343948300319323,4.717942597724613,7.674493356384214,5.266779863713226,12.031880877790426,6.865242133019054,4.8902889983314966,6.292176769789325,9.083555829553054,5.574138206469615,4.898307818050096,8.34651098761235,8.351851790181422,5.734659705135688,5.838540476459403,8.298086687734843,3.582130837134552,3.6556287857546685,5.159181223949957,6.641092108556057,8.631806255580551,15.451067711166019,11.345597822024118,6.821168114795746,7.319133129645762,4.476024739956193,7.3209743863498185,6.395986476108652,8.682932178138007,4.886051573899374,9.579958472110293,15.900800541826518,6.997968731788728,9.032740963305207,10.434023906985765,6.045956878266864,8.2651364532367,7.4357258436877505,7.758880429785772,5.020327185992472,7.4801667695293474,9.478244744808814,15.265140098396417,11.936911582129312,21.68435924955998,5.034560425350125,11.429072385170736,8.098436374586027,22.085062314248162,4.932524161455604,4.855631080154618,5.475609957599937,2.554999780754,5.680972819801302,5.055282161549467,7.966114778767829,8.765977084758893,18.879665050825505,11.884225340515206,5.5375278913366435,4.715206277465592,9.449478792513764,3.818598217449112,18.462273560112582,13.32604059399352,5.843980598298139,3.1375201773168975,14.540475683551366,6.977774855734564,13.720734501873089,3.3293802334942546,5.475658204754039,7.408454513375327,7.564681895730367,5.900087989413463,10.08879060243066,4.332695151897475,6.881318372443117,7.847129654781305,9.556479604413884,10.546641194526268,4.2109107483851185,3.431312752497008,13.996935474129138,8.724690598674929,5.082263492388864,16.047867709526177,7.829019801293526,13.325088238175722,7.642763410349742,20.704974024423194,17.77282172781781,6.524197295278252,12.010550543635471,10.203063055749084,14.648175358028436,4.56098345263255,10.412694949921388,12.543620923749115,3.066786457304357,4.0892874761467555,2.665479352688546,6.457850889353551,10.577944521224339,15.661078000802618,7.667935320895907,16.68162430834508,3.7059857060944705,3.152856225719796,7.186657274985912,8.953394413563736,7.269246390205088,2.6281467762106696,7.0670276923403135,3.8488147730485345,10.327768870938606,8.875539507119163,4.618454414640662,5.714841377146457,4.350945766502188,7.161077449058614,11.912296194000868,4.513789194066616,9.506951403972149,5.668197640854686,4.970714457836841,7.0040238528568235,4.403408229933131,5.602289465554882,4.0595050353468904,19.734385409241735,7.520493614141102,5.207694513395305,8.223451038807681,6.985495829980339,6.616160390403507,10.045083893727444,10.791446774367957,5.667507496946693,5.540533964939378,6.439649746347983,2.3374005074853295,3.463932377146716,14.63531046401309,16.818573761574022,6.523962783707046,9.85795241796106,8.633284962925702,34.44763704419824,12.933068173697995,6.931257154045391,4.582431624881269,3.3094328816853342,8.180324485104743,5.0623187400538106,3.628695238382544,5.347951326143085,4.3026279973603705,17.17699206219054,11.48245109908664,7.359659582855458,15.486552542291886,7.6804961952098605,4.803562832439994,15.824542198939605,9.674127189185544,4.398998594388587,6.7182698659222515,4.769258648919345,3.700989197217988,11.741020947345142,19.196122782597786,3.671925607253373,9.791205828304532,5.337080152133671,5.7917663150885685,5.494804656359521,4.797066643457797,7.570512858551529,4.876973981599043,8.458978425923577,7.2057617227738975,6.556952758855976,4.693685848370391,5.537894280406697,10.780032851367306,9.49208785113203,4.532267551956571,7.76530824644297,10.758472263272838,3.2068763363859745,9.695676807290276,5.305203442487124,9.828627829131328,5.044862616043023,2.9968416466992687,3.2747082497016136,7.568860088355846,8.41369933690798,4.701312323217221,10.168515484925873,3.219544754160154,7.1489114522596235,4.032924923288479,5.333896096500754,7.566263372862704,4.805654845684879,6.096545064683141,12.220885381628227,5.537560524470224,11.221662432771195,4.200260607088757,9.630181653824733,15.192232998740447,2.147228090157173,4.960727345703113,9.86049197673414,6.675721624474443,8.895743791571922,5.46305090025647,7.715990730720505,6.8357171120114195,13.248588663939382,8.391425591930258,8.747792046967218,6.013828196741805,5.790374025113742,5.951961958267113,9.000013444686404,5.986504941349579,8.541079700578383,20.85722475641446,11.422240224012729,6.277603089113262,13.471912480541004,6.025270131583356,2.6669559607558657,4.463605486713559,2.8996905937411985,6.1981028790620885,7.457417611397186,17.08530361289273,8.70122383869873,6.6223463162832195,11.186445146692677,2.4459469425086713,8.312889641545356,10.86376127846811,3.527914408108683,13.09037230690737,8.75170207007856,6.003580510842592,10.139015807551814,22.9966011495393,8.092462942188499,8.365451376798447,5.872729693699055,4.831117538187989,11.19164937030537,4.81606924994992,7.658247093603361,5.819249354979296,9.388541091887658,8.730573429605863,12.413318541467582,5.7258545265004885,6.456339603477592,4.529529822243017,5.917140863360838,8.923160915303102,10.788646253407613,4.659542828772082,11.413569562644303,14.55331684367069,9.085842670681508,18.885565616384557,5.018371107386978,3.9656613904221074,3.0363006275031763,15.611723770369947,10.249027552706638,7.186524423617756,8.499304300612938,4.209127898984245,25.100204406966252,7.8822278893714435,7.804475859830024,10.621532535526393,9.398072507614017,8.264275033159466,4.976678856500834,9.353346358437038,18.935003538644303,14.479154915677858,16.388720328001995,5.7224221112382105,4.505043693352776,6.938645204350127,7.597828297617111,12.769962829023504,3.17011443035858,15.875470144317498,6.8277558745385925,5.9688809544947645,4.454646961686096,3.2302891846138353,11.15162572244182,7.664957622404949,3.876836748552686,3.866928853048011,6.247039367740408,17.02207043020145,6.489622251472069,3.484862272832742,6.534713256247384,6.447150273569995,1.9185250324143133,7.191160523757368,6.583277587328903,10.465699362781756,18.624502406378376,12.978349094400128,6.45952415408171,4.249226836780317,26.75389048945471,7.611111484628558,7.440697883238561,7.300460705058767,8.15835357120942,6.874506052332245,5.546510529282062,5.621342584307163,7.269033687455353,5.631003199313451,5.173643135127618,7.79291598399929,6.504611528609802,15.673893505887145,1.963080839003985,12.752832782695007,13.777579489151295,2.6203421053132288,6.2255152061104555,6.136653536823526,3.6555411973145118,5.008275559793991,4.240630992965693,17.7455578337268,11.796928448038349,13.954158266886928,10.599809529289418,4.201636593007364,5.684481208626433,9.437463817060689,4.010580907556998,10.553939632376734,6.552438699719583,6.1262915298889284,10.543188210117508,9.226978659326369,6.168877650590882,13.192716561736665,4.303670814007134,10.053972232918724,9.939837067993517,6.329535041780355,8.697768609710794,3.9528751958492387,11.728403033301937,6.736556786002212,5.6895917093660655,12.484708967888162,5.195683344210955,3.653805955325756,3.392901358224087,10.00419970841845,3.8953569714084977,17.767964542215577,2.6091781744420444,17.25717819462387,8.21127930088598,7.040248332599567,5.626797522487427,9.021116051414808,7.251313673429226,12.828265018664597,7.823357610239849,7.965748246287096,6.160721478949149,7.181635826787366,8.618412340249222,3.142176785953087,3.765600293123157,10.714865185637644,8.048073283060264,6.739652271472532,7.457475607496515,8.791548415612883,5.641331729252064,5.007053594969675,8.14922334442108,4.530415291824824,9.062331055517525,3.154115783384248,12.361388929620519,9.358628399217327,8.39817875245003,12.077515393101589,16.991907855552387,12.27034078908971,2.943392666782056,3.8970174986432102,5.406439327238822,7.486081714801106,9.57187882105075,5.140385586196827,8.112315850030175,5.06476902162823,5.442514065492504,3.657096225744373,4.657055478912099,3.7590177899223054,4.536080773660733,12.513660634028742,4.596524872934717,27.555193576855693,9.456089735754281,8.104488644609388,4.8105966010543835,10.487194481668624,5.541033783557274,7.853858245743793,26.576896058523456,7.042548095997419,13.126546933634982,5.198716600020863,7.2609142797061,17.910736147383727,5.400634631983256,18.287619100515332,10.526290319463884,5.577644820152281,10.137119344895979,12.016458176310728,10.083545945681719,3.369915399538913,5.136805622692292,6.5289144055000286,7.119114042511185,10.077810721991112,8.075626897548236,3.7898552306418285,8.936097078872947,10.027114489943566,9.775656101387623,12.68462160861893,11.211735892923723,9.296054284193845,7.134321446262292,3.220444950007397,9.159660453156516,8.197619797868832,8.463725292487522,3.9025325418437258,4.30368541895119,12.510601772840456,7.244354117472963,10.389029033118334,7.494423330733227,7.499812871376574,11.812306396697691,5.708621842137504,7.752848998101161,5.864178215902256,5.946197182784831,6.330719775272947,8.257045912198226,5.816075311505443,13.844361845545908,4.724191092287313,6.729926200992495,5.93065386511616,15.2333780119249,8.152114881527359,12.378019389126639,3.5156337702183187,8.444582681000721,11.528421230607577,7.699396850115118,12.587952270555013,5.70507297674884,14.949438193384953,23.32321139273326,6.16310506648737,5.913564259932535,15.282253275780977,16.27753722239555,5.689201966810429,5.988893026453983,6.418007399201462,3.772638954383772,4.667735389473352,4.472419854516488,5.033427771104938,7.262016581448577,8.30707337947198,16.042641106672644,4.485378927283949,12.087371129308684,6.639293637182798,7.2085523332076775,10.354381320029102,4.2149553118165075,8.945985400867839,8.030333863407627,9.451993125368315,8.538491236162828,25.220321290185474,5.371622518597234,5.666102675030571,5.410977371932617,5.597171833395781,5.372570309358674,13.390001417340875,15.03306523357851,5.554602443063767,4.873547997645572,9.353099429847097,5.606286054103351,10.139776017121061,8.178113580804334,3.4629746408246977,16.018632895913402,18.13672406419361,5.439056752546158,6.086962689970928,8.524400476526067,8.734043145456438,10.27046331475693,20.188280633423872,6.763404491301464,4.957251121498601,3.7074354565563516,5.127073251138551,7.267675585736544,18.12475950129966,5.704152112706234,8.263878057333146,7.32862968246089,13.385829356969968,26.13998705392601,5.666465833085467,5.785068946591871,12.45448051054706,10.391059207490715,18.603573071119428,9.89435203337237,6.1740433942751265,9.927685956949547,12.862959059642838,11.136645762028422,9.522305706635043,12.595471502524383,13.258618518736686,14.747587285160881,10.220085429533922,6.796725552720581,7.951470206602953,13.507626924064487,4.911268037167713,8.884752936728171,6.069829974184348,7.4960214875493305,14.002360622634361,8.129907403487705,7.56262440960174,3.743690649410595,10.73089305612326,10.20361521738415,21.793840012969817,6.3351334719398045,8.244737877646,8.370317709082588,16.260301394284582,7.04524015726495,8.49528040555978,10.013640913916756,8.11167645713684,5.910811861080642,8.142074470071806,12.63936152183536,4.422664534401281,7.897014977132683,5.206665296204406,13.430433848750775,3.4501114939502533,5.587539763163484,8.922765547813093,16.16360345993294,7.150089466776505,5.597948753680225,18.926792952310795,3.5822570039407395,2.4610719859944403,9.207397389333597,5.748695087924585,4.43436129810561,10.529472433931234,8.346984675063965,5.573151454152483,3.895600348888571,11.42985354072857,10.227708828842008,7.031584475416573,18.602918890873255,4.327359829216698,3.4460802115178177,5.22808976185739,7.222542168429323,8.34505981339864,6.549455857935206,8.811235762363765,3.952033623834743,15.208923105716952,7.091695210770293,12.918338820121406,8.77022685481174,9.28478101374252,9.824542974824585,9.242886974754626,10.18953669873683,14.361862633557054,8.151977899389857,10.532880903408769,7.064852602463667,15.181211955173126,5.268806408605521,18.18269316115741,7.242171009786619,3.6132673602415593,7.877827811700602,5.256546074627172,11.249478527830538,5.331795297957932,5.911551294731184,2.872634734286358,5.893481091861091,2.1991267212743906,3.3469470041151133,10.807143255851834,10.945189879344246,9.140625155576162,4.556304728457126,7.214871066960453,7.375758397179289,4.140504562469609,15.669233669799198,11.4579194425392,6.616178339090341,7.489057232879428,8.200469461007389,2.662146003563162,6.530028506459615,5.254095543480866,4.478060349857298,6.420203747423113,18.153134824945912,10.179963550688539,5.55340084582815,9.838383220239523],\"xaxis\":\"x\",\"yaxis\":\"y\",\"type\":\"histogram\"}],                        {\"template\":{\"data\":{\"histogram2dcontour\":[{\"type\":\"histogram2dcontour\",\"colorbar\":{\"outlinewidth\":0,\"ticks\":\"\"},\"colorscale\":[[0.0,\"#0d0887\"],[0.1111111111111111,\"#46039f\"],[0.2222222222222222,\"#7201a8\"],[0.3333333333333333,\"#9c179e\"],[0.4444444444444444,\"#bd3786\"],[0.5555555555555556,\"#d8576b\"],[0.6666666666666666,\"#ed7953\"],[0.7777777777777778,\"#fb9f3a\"],[0.8888888888888888,\"#fdca26\"],[1.0,\"#f0f921\"]]}],\"choropleth\":[{\"type\":\"choropleth\",\"colorbar\":{\"outlinewidth\":0,\"ticks\":\"\"}}],\"histogram2d\":[{\"type\":\"histogram2d\",\"colorbar\":{\"outlinewidth\":0,\"ticks\":\"\"},\"colorscale\":[[0.0,\"#0d0887\"],[0.1111111111111111,\"#46039f\"],[0.2222222222222222,\"#7201a8\"],[0.3333333333333333,\"#9c179e\"],[0.4444444444444444,\"#bd3786\"],[0.5555555555555556,\"#d8576b\"],[0.6666666666666666,\"#ed7953\"],[0.7777777777777778,\"#fb9f3a\"],[0.8888888888888888,\"#fdca26\"],[1.0,\"#f0f921\"]]}],\"heatmap\":[{\"type\":\"heatmap\",\"colorbar\":{\"outlinewidth\":0,\"ticks\":\"\"},\"colorscale\":[[0.0,\"#0d0887\"],[0.1111111111111111,\"#46039f\"],[0.2222222222222222,\"#7201a8\"],[0.3333333333333333,\"#9c179e\"],[0.4444444444444444,\"#bd3786\"],[0.5555555555555556,\"#d8576b\"],[0.6666666666666666,\"#ed7953\"],[0.7777777777777778,\"#fb9f3a\"],[0.8888888888888888,\"#fdca26\"],[1.0,\"#f0f921\"]]}],\"heatmapgl\":[{\"type\":\"heatmapgl\",\"colorbar\":{\"outlinewidth\":0,\"ticks\":\"\"},\"colorscale\":[[0.0,\"#0d0887\"],[0.1111111111111111,\"#46039f\"],[0.2222222222222222,\"#7201a8\"],[0.3333333333333333,\"#9c179e\"],[0.4444444444444444,\"#bd3786\"],[0.5555555555555556,\"#d8576b\"],[0.6666666666666666,\"#ed7953\"],[0.7777777777777778,\"#fb9f3a\"],[0.8888888888888888,\"#fdca26\"],[1.0,\"#f0f921\"]]}],\"contourcarpet\":[{\"type\":\"contourcarpet\",\"colorbar\":{\"outlinewidth\":0,\"ticks\":\"\"}}],\"contour\":[{\"type\":\"contour\",\"colorbar\":{\"outlinewidth\":0,\"ticks\":\"\"},\"colorscale\":[[0.0,\"#0d0887\"],[0.1111111111111111,\"#46039f\"],[0.2222222222222222,\"#7201a8\"],[0.3333333333333333,\"#9c179e\"],[0.4444444444444444,\"#bd3786\"],[0.5555555555555556,\"#d8576b\"],[0.6666666666666666,\"#ed7953\"],[0.7777777777777778,\"#fb9f3a\"],[0.8888888888888888,\"#fdca26\"],[1.0,\"#f0f921\"]]}],\"surface\":[{\"type\":\"surface\",\"colorbar\":{\"outlinewidth\":0,\"ticks\":\"\"},\"colorscale\":[[0.0,\"#0d0887\"],[0.1111111111111111,\"#46039f\"],[0.2222222222222222,\"#7201a8\"],[0.3333333333333333,\"#9c179e\"],[0.4444444444444444,\"#bd3786\"],[0.5555555555555556,\"#d8576b\"],[0.6666666666666666,\"#ed7953\"],[0.7777777777777778,\"#fb9f3a\"],[0.8888888888888888,\"#fdca26\"],[1.0,\"#f0f921\"]]}],\"mesh3d\":[{\"type\":\"mesh3d\",\"colorbar\":{\"outlinewidth\":0,\"ticks\":\"\"}}],\"scatter\":[{\"fillpattern\":{\"fillmode\":\"overlay\",\"size\":10,\"solidity\":0.2},\"type\":\"scatter\"}],\"parcoords\":[{\"type\":\"parcoords\",\"line\":{\"colorbar\":{\"outlinewidth\":0,\"ticks\":\"\"}}}],\"scatterpolargl\":[{\"type\":\"scatterpolargl\",\"marker\":{\"colorbar\":{\"outlinewidth\":0,\"ticks\":\"\"}}}],\"bar\":[{\"error_x\":{\"color\":\"#2a3f5f\"},\"error_y\":{\"color\":\"#2a3f5f\"},\"marker\":{\"line\":{\"color\":\"#E5ECF6\",\"width\":0.5},\"pattern\":{\"fillmode\":\"overlay\",\"size\":10,\"solidity\":0.2}},\"type\":\"bar\"}],\"scattergeo\":[{\"type\":\"scattergeo\",\"marker\":{\"colorbar\":{\"outlinewidth\":0,\"ticks\":\"\"}}}],\"scatterpolar\":[{\"type\":\"scatterpolar\",\"marker\":{\"colorbar\":{\"outlinewidth\":0,\"ticks\":\"\"}}}],\"histogram\":[{\"marker\":{\"pattern\":{\"fillmode\":\"overlay\",\"size\":10,\"solidity\":0.2}},\"type\":\"histogram\"}],\"scattergl\":[{\"type\":\"scattergl\",\"marker\":{\"colorbar\":{\"outlinewidth\":0,\"ticks\":\"\"}}}],\"scatter3d\":[{\"type\":\"scatter3d\",\"line\":{\"colorbar\":{\"outlinewidth\":0,\"ticks\":\"\"}},\"marker\":{\"colorbar\":{\"outlinewidth\":0,\"ticks\":\"\"}}}],\"scattermapbox\":[{\"type\":\"scattermapbox\",\"marker\":{\"colorbar\":{\"outlinewidth\":0,\"ticks\":\"\"}}}],\"scatterternary\":[{\"type\":\"scatterternary\",\"marker\":{\"colorbar\":{\"outlinewidth\":0,\"ticks\":\"\"}}}],\"scattercarpet\":[{\"type\":\"scattercarpet\",\"marker\":{\"colorbar\":{\"outlinewidth\":0,\"ticks\":\"\"}}}],\"carpet\":[{\"aaxis\":{\"endlinecolor\":\"#2a3f5f\",\"gridcolor\":\"white\",\"linecolor\":\"white\",\"minorgridcolor\":\"white\",\"startlinecolor\":\"#2a3f5f\"},\"baxis\":{\"endlinecolor\":\"#2a3f5f\",\"gridcolor\":\"white\",\"linecolor\":\"white\",\"minorgridcolor\":\"white\",\"startlinecolor\":\"#2a3f5f\"},\"type\":\"carpet\"}],\"table\":[{\"cells\":{\"fill\":{\"color\":\"#EBF0F8\"},\"line\":{\"color\":\"white\"}},\"header\":{\"fill\":{\"color\":\"#C8D4E3\"},\"line\":{\"color\":\"white\"}},\"type\":\"table\"}],\"barpolar\":[{\"marker\":{\"line\":{\"color\":\"#E5ECF6\",\"width\":0.5},\"pattern\":{\"fillmode\":\"overlay\",\"size\":10,\"solidity\":0.2}},\"type\":\"barpolar\"}],\"pie\":[{\"automargin\":true,\"type\":\"pie\"}]},\"layout\":{\"autotypenumbers\":\"strict\",\"colorway\":[\"#636efa\",\"#EF553B\",\"#00cc96\",\"#ab63fa\",\"#FFA15A\",\"#19d3f3\",\"#FF6692\",\"#B6E880\",\"#FF97FF\",\"#FECB52\"],\"font\":{\"color\":\"#2a3f5f\"},\"hovermode\":\"closest\",\"hoverlabel\":{\"align\":\"left\"},\"paper_bgcolor\":\"white\",\"plot_bgcolor\":\"#E5ECF6\",\"polar\":{\"bgcolor\":\"#E5ECF6\",\"angularaxis\":{\"gridcolor\":\"white\",\"linecolor\":\"white\",\"ticks\":\"\"},\"radialaxis\":{\"gridcolor\":\"white\",\"linecolor\":\"white\",\"ticks\":\"\"}},\"ternary\":{\"bgcolor\":\"#E5ECF6\",\"aaxis\":{\"gridcolor\":\"white\",\"linecolor\":\"white\",\"ticks\":\"\"},\"baxis\":{\"gridcolor\":\"white\",\"linecolor\":\"white\",\"ticks\":\"\"},\"caxis\":{\"gridcolor\":\"white\",\"linecolor\":\"white\",\"ticks\":\"\"}},\"coloraxis\":{\"colorbar\":{\"outlinewidth\":0,\"ticks\":\"\"}},\"colorscale\":{\"sequential\":[[0.0,\"#0d0887\"],[0.1111111111111111,\"#46039f\"],[0.2222222222222222,\"#7201a8\"],[0.3333333333333333,\"#9c179e\"],[0.4444444444444444,\"#bd3786\"],[0.5555555555555556,\"#d8576b\"],[0.6666666666666666,\"#ed7953\"],[0.7777777777777778,\"#fb9f3a\"],[0.8888888888888888,\"#fdca26\"],[1.0,\"#f0f921\"]],\"sequentialminus\":[[0.0,\"#0d0887\"],[0.1111111111111111,\"#46039f\"],[0.2222222222222222,\"#7201a8\"],[0.3333333333333333,\"#9c179e\"],[0.4444444444444444,\"#bd3786\"],[0.5555555555555556,\"#d8576b\"],[0.6666666666666666,\"#ed7953\"],[0.7777777777777778,\"#fb9f3a\"],[0.8888888888888888,\"#fdca26\"],[1.0,\"#f0f921\"]],\"diverging\":[[0,\"#8e0152\"],[0.1,\"#c51b7d\"],[0.2,\"#de77ae\"],[0.3,\"#f1b6da\"],[0.4,\"#fde0ef\"],[0.5,\"#f7f7f7\"],[0.6,\"#e6f5d0\"],[0.7,\"#b8e186\"],[0.8,\"#7fbc41\"],[0.9,\"#4d9221\"],[1,\"#276419\"]]},\"xaxis\":{\"gridcolor\":\"white\",\"linecolor\":\"white\",\"ticks\":\"\",\"title\":{\"standoff\":15},\"zerolinecolor\":\"white\",\"automargin\":true,\"zerolinewidth\":2},\"yaxis\":{\"gridcolor\":\"white\",\"linecolor\":\"white\",\"ticks\":\"\",\"title\":{\"standoff\":15},\"zerolinecolor\":\"white\",\"automargin\":true,\"zerolinewidth\":2},\"scene\":{\"xaxis\":{\"backgroundcolor\":\"#E5ECF6\",\"gridcolor\":\"white\",\"linecolor\":\"white\",\"showbackground\":true,\"ticks\":\"\",\"zerolinecolor\":\"white\",\"gridwidth\":2},\"yaxis\":{\"backgroundcolor\":\"#E5ECF6\",\"gridcolor\":\"white\",\"linecolor\":\"white\",\"showbackground\":true,\"ticks\":\"\",\"zerolinecolor\":\"white\",\"gridwidth\":2},\"zaxis\":{\"backgroundcolor\":\"#E5ECF6\",\"gridcolor\":\"white\",\"linecolor\":\"white\",\"showbackground\":true,\"ticks\":\"\",\"zerolinecolor\":\"white\",\"gridwidth\":2}},\"shapedefaults\":{\"line\":{\"color\":\"#2a3f5f\"}},\"annotationdefaults\":{\"arrowcolor\":\"#2a3f5f\",\"arrowhead\":0,\"arrowwidth\":1},\"geo\":{\"bgcolor\":\"white\",\"landcolor\":\"#E5ECF6\",\"subunitcolor\":\"white\",\"showland\":true,\"showlakes\":true,\"lakecolor\":\"white\"},\"title\":{\"x\":0.05},\"mapbox\":{\"style\":\"light\"}}},\"xaxis\":{\"anchor\":\"y\",\"domain\":[0.0,1.0],\"title\":{\"text\":\"Purchase Amount ($)\"}},\"yaxis\":{\"anchor\":\"x\",\"domain\":[0.0,1.0],\"title\":{\"text\":\"Frequency\"}},\"legend\":{\"tracegroupgap\":0},\"title\":{\"text\":\"Distribution of Crunch-O-Matic Purchase Amounts\"},\"barmode\":\"relative\"},                        {\"responsive\": true}                    ).then(function(){\n",
              "                            \n",
              "var gd = document.getElementById('5e81d171-4b28-4ee8-80dc-866e01a7b675');\n",
              "var x = new MutationObserver(function (mutations, observer) {{\n",
              "        var display = window.getComputedStyle(gd).display;\n",
              "        if (!display || display === 'none') {{\n",
              "            console.log([gd, 'removed!']);\n",
              "            Plotly.purge(gd);\n",
              "            observer.disconnect();\n",
              "        }}\n",
              "}});\n",
              "\n",
              "// Listen for the removal of the full notebook cells\n",
              "var notebookContainer = gd.closest('#notebook-container');\n",
              "if (notebookContainer) {{\n",
              "    x.observe(notebookContainer, {childList: true});\n",
              "}}\n",
              "\n",
              "// Listen for the clearing of the current output cell\n",
              "var outputEl = gd.closest('.output');\n",
              "if (outputEl) {{\n",
              "    x.observe(outputEl, {childList: true});\n",
              "}}\n",
              "\n",
              "                        })                };                            </script>        </div>\n",
              "</body>\n",
              "</html>"
            ]
          },
          "metadata": {}
        }
      ]
    },
    {
      "cell_type": "markdown",
      "source": [
        "This histogram shows the distribution of purchase amounts for Crunch-O-Matic products. We can see if most purchases are clustered around a certain amount, if there's a long tail of high-value purchases, or if the distribution is multi-modal (suggesting different customer segments with distinct purchasing behaviors).\n",
        "\n",
        "By understanding these chart types and when to use them, we can create more insightful and impactful dashboards for our Mad Men-style Crunch-O-Matic campaign. Each chart type offers a unique perspective on our data, helping us make informed decisions about product development, marketing strategies, and sales tactics.\n",
        "\n"
      ],
      "metadata": {
        "id": "IXtWfKRhwD--"
      }
    },
    {
      "cell_type": "markdown",
      "source": [
        "## 7. Waterfall Chart\n",
        "\n",
        "A waterfall chart, also known as a bridge chart or a flying bricks chart, is used to show how an initial value is affected by a series of intermediate positive or negative values, resulting in a final value. Each bar or column starts at the level left by the previous bar, making it easy to see how each factor contributes to the total.\n",
        "\n",
        "Waterfall charts are particularly useful for:\n",
        "- Visualizing financial statements, showing how various factors contribute to a total profit or loss\n",
        "- Displaying the cumulative effect of sequential changes\n",
        "- Illustrating the components of a complex calculation\n",
        "\n",
        "When interpreting a waterfall chart:\n",
        "- Start from the left: The first bar usually represents the initial value\n",
        "- Follow the \"flow\": Each subsequent bar shows an increase (usually in green) or decrease (usually in red)\n",
        "- End at the right: The final bar represents the end result after all changes\n",
        "\n",
        "For our Crunch-O-Matic campaign, we might use a waterfall chart to break down our quarterly profits, showing how different factors contribute to or detract from our bottom line.\n",
        "\n",
        "Here's how to create a waterfall chart using Plotly:"
      ],
      "metadata": {
        "id": "A2rv4HHOwhu1"
      }
    },
    {
      "cell_type": "code",
      "source": [
        "import plotly.graph_objects as go\n",
        "import pandas as pd\n",
        "\n",
        "# Sample data\n",
        "data = {\n",
        "    'Category': ['Start', 'Sales', 'Marketing', 'Operations', 'Taxes', 'End'],\n",
        "    'Amount': [0, 500000, -150000, -200000, -50000, 100000],\n",
        "    'Text': ['Start', '+500k', '-150k', '-200k', '-50k', 'Profit']\n",
        "}\n",
        "df = pd.DataFrame(data)\n",
        "\n",
        "# Calculate cumulative sum\n",
        "df['Cumulative'] = df['Amount'].cumsum()\n",
        "\n",
        "# Create the waterfall chart\n",
        "fig = go.Figure(go.Waterfall(\n",
        "    name = \"Quarterly Profit Breakdown\",\n",
        "    orientation = \"v\",\n",
        "    measure = [\"absolute\", \"relative\", \"relative\", \"relative\", \"relative\", \"total\"],\n",
        "    x = df['Category'],\n",
        "    textposition = \"outside\",\n",
        "    text = df['Text'],\n",
        "    y = df['Amount'],\n",
        "    connector = {\"line\":{\"color\":\"rgb(63, 63, 63)\"}},\n",
        "))\n",
        "\n",
        "fig.update_layout(\n",
        "    title = \"Crunch-O-Matic Quarterly Profit Breakdown\",\n",
        "    showlegend = False\n",
        ")\n",
        "\n",
        "fig.show()"
      ],
      "metadata": {
        "id": "KIBwtWvLwidn",
        "outputId": "7e42aed1-a7be-4627-a4e2-efbef67d2cd8",
        "colab": {
          "base_uri": "https://localhost:8080/",
          "height": 542
        }
      },
      "execution_count": 4,
      "outputs": [
        {
          "output_type": "display_data",
          "data": {
            "text/html": [
              "<html>\n",
              "<head><meta charset=\"utf-8\" /></head>\n",
              "<body>\n",
              "    <div>            <script src=\"https://cdnjs.cloudflare.com/ajax/libs/mathjax/2.7.5/MathJax.js?config=TeX-AMS-MML_SVG\"></script><script type=\"text/javascript\">if (window.MathJax && window.MathJax.Hub && window.MathJax.Hub.Config) {window.MathJax.Hub.Config({SVG: {font: \"STIX-Web\"}});}</script>                <script type=\"text/javascript\">window.PlotlyConfig = {MathJaxConfig: 'local'};</script>\n",
              "        <script charset=\"utf-8\" src=\"https://cdn.plot.ly/plotly-2.24.1.min.js\"></script>                <div id=\"cb3fddc8-be14-4014-9415-e047dac9bca0\" class=\"plotly-graph-div\" style=\"height:525px; width:100%;\"></div>            <script type=\"text/javascript\">                                    window.PLOTLYENV=window.PLOTLYENV || {};                                    if (document.getElementById(\"cb3fddc8-be14-4014-9415-e047dac9bca0\")) {                    Plotly.newPlot(                        \"cb3fddc8-be14-4014-9415-e047dac9bca0\",                        [{\"connector\":{\"line\":{\"color\":\"rgb(63, 63, 63)\"}},\"measure\":[\"absolute\",\"relative\",\"relative\",\"relative\",\"relative\",\"total\"],\"name\":\"Quarterly Profit Breakdown\",\"orientation\":\"v\",\"text\":[\"Start\",\"+500k\",\"-150k\",\"-200k\",\"-50k\",\"Profit\"],\"textposition\":\"outside\",\"x\":[\"Start\",\"Sales\",\"Marketing\",\"Operations\",\"Taxes\",\"End\"],\"y\":[0,500000,-150000,-200000,-50000,100000],\"type\":\"waterfall\"}],                        {\"template\":{\"data\":{\"histogram2dcontour\":[{\"type\":\"histogram2dcontour\",\"colorbar\":{\"outlinewidth\":0,\"ticks\":\"\"},\"colorscale\":[[0.0,\"#0d0887\"],[0.1111111111111111,\"#46039f\"],[0.2222222222222222,\"#7201a8\"],[0.3333333333333333,\"#9c179e\"],[0.4444444444444444,\"#bd3786\"],[0.5555555555555556,\"#d8576b\"],[0.6666666666666666,\"#ed7953\"],[0.7777777777777778,\"#fb9f3a\"],[0.8888888888888888,\"#fdca26\"],[1.0,\"#f0f921\"]]}],\"choropleth\":[{\"type\":\"choropleth\",\"colorbar\":{\"outlinewidth\":0,\"ticks\":\"\"}}],\"histogram2d\":[{\"type\":\"histogram2d\",\"colorbar\":{\"outlinewidth\":0,\"ticks\":\"\"},\"colorscale\":[[0.0,\"#0d0887\"],[0.1111111111111111,\"#46039f\"],[0.2222222222222222,\"#7201a8\"],[0.3333333333333333,\"#9c179e\"],[0.4444444444444444,\"#bd3786\"],[0.5555555555555556,\"#d8576b\"],[0.6666666666666666,\"#ed7953\"],[0.7777777777777778,\"#fb9f3a\"],[0.8888888888888888,\"#fdca26\"],[1.0,\"#f0f921\"]]}],\"heatmap\":[{\"type\":\"heatmap\",\"colorbar\":{\"outlinewidth\":0,\"ticks\":\"\"},\"colorscale\":[[0.0,\"#0d0887\"],[0.1111111111111111,\"#46039f\"],[0.2222222222222222,\"#7201a8\"],[0.3333333333333333,\"#9c179e\"],[0.4444444444444444,\"#bd3786\"],[0.5555555555555556,\"#d8576b\"],[0.6666666666666666,\"#ed7953\"],[0.7777777777777778,\"#fb9f3a\"],[0.8888888888888888,\"#fdca26\"],[1.0,\"#f0f921\"]]}],\"heatmapgl\":[{\"type\":\"heatmapgl\",\"colorbar\":{\"outlinewidth\":0,\"ticks\":\"\"},\"colorscale\":[[0.0,\"#0d0887\"],[0.1111111111111111,\"#46039f\"],[0.2222222222222222,\"#7201a8\"],[0.3333333333333333,\"#9c179e\"],[0.4444444444444444,\"#bd3786\"],[0.5555555555555556,\"#d8576b\"],[0.6666666666666666,\"#ed7953\"],[0.7777777777777778,\"#fb9f3a\"],[0.8888888888888888,\"#fdca26\"],[1.0,\"#f0f921\"]]}],\"contourcarpet\":[{\"type\":\"contourcarpet\",\"colorbar\":{\"outlinewidth\":0,\"ticks\":\"\"}}],\"contour\":[{\"type\":\"contour\",\"colorbar\":{\"outlinewidth\":0,\"ticks\":\"\"},\"colorscale\":[[0.0,\"#0d0887\"],[0.1111111111111111,\"#46039f\"],[0.2222222222222222,\"#7201a8\"],[0.3333333333333333,\"#9c179e\"],[0.4444444444444444,\"#bd3786\"],[0.5555555555555556,\"#d8576b\"],[0.6666666666666666,\"#ed7953\"],[0.7777777777777778,\"#fb9f3a\"],[0.8888888888888888,\"#fdca26\"],[1.0,\"#f0f921\"]]}],\"surface\":[{\"type\":\"surface\",\"colorbar\":{\"outlinewidth\":0,\"ticks\":\"\"},\"colorscale\":[[0.0,\"#0d0887\"],[0.1111111111111111,\"#46039f\"],[0.2222222222222222,\"#7201a8\"],[0.3333333333333333,\"#9c179e\"],[0.4444444444444444,\"#bd3786\"],[0.5555555555555556,\"#d8576b\"],[0.6666666666666666,\"#ed7953\"],[0.7777777777777778,\"#fb9f3a\"],[0.8888888888888888,\"#fdca26\"],[1.0,\"#f0f921\"]]}],\"mesh3d\":[{\"type\":\"mesh3d\",\"colorbar\":{\"outlinewidth\":0,\"ticks\":\"\"}}],\"scatter\":[{\"fillpattern\":{\"fillmode\":\"overlay\",\"size\":10,\"solidity\":0.2},\"type\":\"scatter\"}],\"parcoords\":[{\"type\":\"parcoords\",\"line\":{\"colorbar\":{\"outlinewidth\":0,\"ticks\":\"\"}}}],\"scatterpolargl\":[{\"type\":\"scatterpolargl\",\"marker\":{\"colorbar\":{\"outlinewidth\":0,\"ticks\":\"\"}}}],\"bar\":[{\"error_x\":{\"color\":\"#2a3f5f\"},\"error_y\":{\"color\":\"#2a3f5f\"},\"marker\":{\"line\":{\"color\":\"#E5ECF6\",\"width\":0.5},\"pattern\":{\"fillmode\":\"overlay\",\"size\":10,\"solidity\":0.2}},\"type\":\"bar\"}],\"scattergeo\":[{\"type\":\"scattergeo\",\"marker\":{\"colorbar\":{\"outlinewidth\":0,\"ticks\":\"\"}}}],\"scatterpolar\":[{\"type\":\"scatterpolar\",\"marker\":{\"colorbar\":{\"outlinewidth\":0,\"ticks\":\"\"}}}],\"histogram\":[{\"marker\":{\"pattern\":{\"fillmode\":\"overlay\",\"size\":10,\"solidity\":0.2}},\"type\":\"histogram\"}],\"scattergl\":[{\"type\":\"scattergl\",\"marker\":{\"colorbar\":{\"outlinewidth\":0,\"ticks\":\"\"}}}],\"scatter3d\":[{\"type\":\"scatter3d\",\"line\":{\"colorbar\":{\"outlinewidth\":0,\"ticks\":\"\"}},\"marker\":{\"colorbar\":{\"outlinewidth\":0,\"ticks\":\"\"}}}],\"scattermapbox\":[{\"type\":\"scattermapbox\",\"marker\":{\"colorbar\":{\"outlinewidth\":0,\"ticks\":\"\"}}}],\"scatterternary\":[{\"type\":\"scatterternary\",\"marker\":{\"colorbar\":{\"outlinewidth\":0,\"ticks\":\"\"}}}],\"scattercarpet\":[{\"type\":\"scattercarpet\",\"marker\":{\"colorbar\":{\"outlinewidth\":0,\"ticks\":\"\"}}}],\"carpet\":[{\"aaxis\":{\"endlinecolor\":\"#2a3f5f\",\"gridcolor\":\"white\",\"linecolor\":\"white\",\"minorgridcolor\":\"white\",\"startlinecolor\":\"#2a3f5f\"},\"baxis\":{\"endlinecolor\":\"#2a3f5f\",\"gridcolor\":\"white\",\"linecolor\":\"white\",\"minorgridcolor\":\"white\",\"startlinecolor\":\"#2a3f5f\"},\"type\":\"carpet\"}],\"table\":[{\"cells\":{\"fill\":{\"color\":\"#EBF0F8\"},\"line\":{\"color\":\"white\"}},\"header\":{\"fill\":{\"color\":\"#C8D4E3\"},\"line\":{\"color\":\"white\"}},\"type\":\"table\"}],\"barpolar\":[{\"marker\":{\"line\":{\"color\":\"#E5ECF6\",\"width\":0.5},\"pattern\":{\"fillmode\":\"overlay\",\"size\":10,\"solidity\":0.2}},\"type\":\"barpolar\"}],\"pie\":[{\"automargin\":true,\"type\":\"pie\"}]},\"layout\":{\"autotypenumbers\":\"strict\",\"colorway\":[\"#636efa\",\"#EF553B\",\"#00cc96\",\"#ab63fa\",\"#FFA15A\",\"#19d3f3\",\"#FF6692\",\"#B6E880\",\"#FF97FF\",\"#FECB52\"],\"font\":{\"color\":\"#2a3f5f\"},\"hovermode\":\"closest\",\"hoverlabel\":{\"align\":\"left\"},\"paper_bgcolor\":\"white\",\"plot_bgcolor\":\"#E5ECF6\",\"polar\":{\"bgcolor\":\"#E5ECF6\",\"angularaxis\":{\"gridcolor\":\"white\",\"linecolor\":\"white\",\"ticks\":\"\"},\"radialaxis\":{\"gridcolor\":\"white\",\"linecolor\":\"white\",\"ticks\":\"\"}},\"ternary\":{\"bgcolor\":\"#E5ECF6\",\"aaxis\":{\"gridcolor\":\"white\",\"linecolor\":\"white\",\"ticks\":\"\"},\"baxis\":{\"gridcolor\":\"white\",\"linecolor\":\"white\",\"ticks\":\"\"},\"caxis\":{\"gridcolor\":\"white\",\"linecolor\":\"white\",\"ticks\":\"\"}},\"coloraxis\":{\"colorbar\":{\"outlinewidth\":0,\"ticks\":\"\"}},\"colorscale\":{\"sequential\":[[0.0,\"#0d0887\"],[0.1111111111111111,\"#46039f\"],[0.2222222222222222,\"#7201a8\"],[0.3333333333333333,\"#9c179e\"],[0.4444444444444444,\"#bd3786\"],[0.5555555555555556,\"#d8576b\"],[0.6666666666666666,\"#ed7953\"],[0.7777777777777778,\"#fb9f3a\"],[0.8888888888888888,\"#fdca26\"],[1.0,\"#f0f921\"]],\"sequentialminus\":[[0.0,\"#0d0887\"],[0.1111111111111111,\"#46039f\"],[0.2222222222222222,\"#7201a8\"],[0.3333333333333333,\"#9c179e\"],[0.4444444444444444,\"#bd3786\"],[0.5555555555555556,\"#d8576b\"],[0.6666666666666666,\"#ed7953\"],[0.7777777777777778,\"#fb9f3a\"],[0.8888888888888888,\"#fdca26\"],[1.0,\"#f0f921\"]],\"diverging\":[[0,\"#8e0152\"],[0.1,\"#c51b7d\"],[0.2,\"#de77ae\"],[0.3,\"#f1b6da\"],[0.4,\"#fde0ef\"],[0.5,\"#f7f7f7\"],[0.6,\"#e6f5d0\"],[0.7,\"#b8e186\"],[0.8,\"#7fbc41\"],[0.9,\"#4d9221\"],[1,\"#276419\"]]},\"xaxis\":{\"gridcolor\":\"white\",\"linecolor\":\"white\",\"ticks\":\"\",\"title\":{\"standoff\":15},\"zerolinecolor\":\"white\",\"automargin\":true,\"zerolinewidth\":2},\"yaxis\":{\"gridcolor\":\"white\",\"linecolor\":\"white\",\"ticks\":\"\",\"title\":{\"standoff\":15},\"zerolinecolor\":\"white\",\"automargin\":true,\"zerolinewidth\":2},\"scene\":{\"xaxis\":{\"backgroundcolor\":\"#E5ECF6\",\"gridcolor\":\"white\",\"linecolor\":\"white\",\"showbackground\":true,\"ticks\":\"\",\"zerolinecolor\":\"white\",\"gridwidth\":2},\"yaxis\":{\"backgroundcolor\":\"#E5ECF6\",\"gridcolor\":\"white\",\"linecolor\":\"white\",\"showbackground\":true,\"ticks\":\"\",\"zerolinecolor\":\"white\",\"gridwidth\":2},\"zaxis\":{\"backgroundcolor\":\"#E5ECF6\",\"gridcolor\":\"white\",\"linecolor\":\"white\",\"showbackground\":true,\"ticks\":\"\",\"zerolinecolor\":\"white\",\"gridwidth\":2}},\"shapedefaults\":{\"line\":{\"color\":\"#2a3f5f\"}},\"annotationdefaults\":{\"arrowcolor\":\"#2a3f5f\",\"arrowhead\":0,\"arrowwidth\":1},\"geo\":{\"bgcolor\":\"white\",\"landcolor\":\"#E5ECF6\",\"subunitcolor\":\"white\",\"showland\":true,\"showlakes\":true,\"lakecolor\":\"white\"},\"title\":{\"x\":0.05},\"mapbox\":{\"style\":\"light\"}}},\"title\":{\"text\":\"Crunch-O-Matic Quarterly Profit Breakdown\"},\"showlegend\":false},                        {\"responsive\": true}                    ).then(function(){\n",
              "                            \n",
              "var gd = document.getElementById('cb3fddc8-be14-4014-9415-e047dac9bca0');\n",
              "var x = new MutationObserver(function (mutations, observer) {{\n",
              "        var display = window.getComputedStyle(gd).display;\n",
              "        if (!display || display === 'none') {{\n",
              "            console.log([gd, 'removed!']);\n",
              "            Plotly.purge(gd);\n",
              "            observer.disconnect();\n",
              "        }}\n",
              "}});\n",
              "\n",
              "// Listen for the removal of the full notebook cells\n",
              "var notebookContainer = gd.closest('#notebook-container');\n",
              "if (notebookContainer) {{\n",
              "    x.observe(notebookContainer, {childList: true});\n",
              "}}\n",
              "\n",
              "// Listen for the clearing of the current output cell\n",
              "var outputEl = gd.closest('.output');\n",
              "if (outputEl) {{\n",
              "    x.observe(outputEl, {childList: true});\n",
              "}}\n",
              "\n",
              "                        })                };                            </script>        </div>\n",
              "</body>\n",
              "</html>"
            ]
          },
          "metadata": {}
        }
      ]
    },
    {
      "cell_type": "markdown",
      "source": [
        "This waterfall chart clearly shows how we start with our sales revenue, subtract various expenses, and end up with our final profit figure. It provides a clear visualization of how each factor contributes to our overall financial performance.\n"
      ],
      "metadata": {
        "id": "bS-cFGhcwo-O"
      }
    },
    {
      "cell_type": "markdown",
      "source": [
        "## 8. Heat Map\n",
        "\n",
        "A heat map is a two-dimensional representation of data where values are depicted by colors. It's an excellent way to visualize complex data and identify patterns or trends that might be difficult to spot in other chart types.\n",
        "\n",
        "Heat maps are particularly useful for:\n",
        "- Showing variations in data across two dimensions\n",
        "- Identifying correlations between variables\n",
        "- Visualizing large datasets in a compact form\n",
        "\n",
        "When interpreting a heat map:\n",
        "- Look at the color scale: Usually, darker or more intense colors represent higher values\n",
        "- Identify patterns: Look for clusters of similar colors or gradients\n",
        "- Compare rows or columns: Analyze how values change across different categories\n",
        "\n",
        "In our Crunch-O-Matic campaign, we might use a heat map to visualize sales performance across different products and regions.\n",
        "\n",
        "Let's create a heat map using Plotly Express:"
      ],
      "metadata": {
        "id": "mYxD4cjywrpA"
      }
    },
    {
      "cell_type": "code",
      "source": [
        "import plotly.express as px\n",
        "import pandas as pd\n",
        "import numpy as np\n",
        "\n",
        "# Generate sample data\n",
        "np.random.seed(42)\n",
        "regions = ['North', 'South', 'East', 'West']\n",
        "products = ['Original', 'Spicy', 'Cheesy', 'BBQ']\n",
        "data = {\n",
        "    'Region': [region for region in regions for _ in range(len(products))],\n",
        "    'Product': products * len(regions),\n",
        "    'Sales': np.random.randint(10000, 100000, len(regions) * len(products))\n",
        "}\n",
        "df = pd.DataFrame(data)\n",
        "\n",
        "# Create the heat map\n",
        "fig = px.imshow(df.pivot(index='Region', columns='Product', values='Sales'),\n",
        "                labels=dict(x=\"Product\", y=\"Region\", color=\"Sales\"),\n",
        "                x=products, y=regions,\n",
        "                title='Crunch-O-Matic Sales Heat Map by Region and Product')\n",
        "\n",
        "fig.update_xaxes(side=\"top\")\n",
        "\n",
        "fig.show()"
      ],
      "metadata": {
        "id": "a7GpXLklwv4i",
        "outputId": "fbb08ff9-c1b9-49dc-d53a-4d36fe56ca89",
        "colab": {
          "base_uri": "https://localhost:8080/",
          "height": 542
        }
      },
      "execution_count": 5,
      "outputs": [
        {
          "output_type": "display_data",
          "data": {
            "text/html": [
              "<html>\n",
              "<head><meta charset=\"utf-8\" /></head>\n",
              "<body>\n",
              "    <div>            <script src=\"https://cdnjs.cloudflare.com/ajax/libs/mathjax/2.7.5/MathJax.js?config=TeX-AMS-MML_SVG\"></script><script type=\"text/javascript\">if (window.MathJax && window.MathJax.Hub && window.MathJax.Hub.Config) {window.MathJax.Hub.Config({SVG: {font: \"STIX-Web\"}});}</script>                <script type=\"text/javascript\">window.PlotlyConfig = {MathJaxConfig: 'local'};</script>\n",
              "        <script charset=\"utf-8\" src=\"https://cdn.plot.ly/plotly-2.24.1.min.js\"></script>                <div id=\"77710b96-bc64-4ed4-af21-72d15160c9b6\" class=\"plotly-graph-div\" style=\"height:525px; width:100%;\"></div>            <script type=\"text/javascript\">                                    window.PLOTLYENV=window.PLOTLYENV || {};                                    if (document.getElementById(\"77710b96-bc64-4ed4-af21-72d15160c9b6\")) {                    Plotly.newPlot(                        \"77710b96-bc64-4ed4-af21-72d15160c9b6\",                        [{\"coloraxis\":\"coloraxis\",\"name\":\"0\",\"x\":[\"Original\",\"Spicy\",\"Cheesy\",\"BBQ\"],\"y\":[\"North\",\"South\",\"East\",\"West\"],\"z\":[[51090,26023,54131,70263],[64886,86820,25795,10860],[97498,47194,16265,92386],[69735,10769,77221,74820]],\"type\":\"heatmap\",\"xaxis\":\"x\",\"yaxis\":\"y\",\"hovertemplate\":\"Product: %{x}\\u003cbr\\u003eRegion: %{y}\\u003cbr\\u003eSales: %{z}\\u003cextra\\u003e\\u003c\\u002fextra\\u003e\"}],                        {\"template\":{\"data\":{\"histogram2dcontour\":[{\"type\":\"histogram2dcontour\",\"colorbar\":{\"outlinewidth\":0,\"ticks\":\"\"},\"colorscale\":[[0.0,\"#0d0887\"],[0.1111111111111111,\"#46039f\"],[0.2222222222222222,\"#7201a8\"],[0.3333333333333333,\"#9c179e\"],[0.4444444444444444,\"#bd3786\"],[0.5555555555555556,\"#d8576b\"],[0.6666666666666666,\"#ed7953\"],[0.7777777777777778,\"#fb9f3a\"],[0.8888888888888888,\"#fdca26\"],[1.0,\"#f0f921\"]]}],\"choropleth\":[{\"type\":\"choropleth\",\"colorbar\":{\"outlinewidth\":0,\"ticks\":\"\"}}],\"histogram2d\":[{\"type\":\"histogram2d\",\"colorbar\":{\"outlinewidth\":0,\"ticks\":\"\"},\"colorscale\":[[0.0,\"#0d0887\"],[0.1111111111111111,\"#46039f\"],[0.2222222222222222,\"#7201a8\"],[0.3333333333333333,\"#9c179e\"],[0.4444444444444444,\"#bd3786\"],[0.5555555555555556,\"#d8576b\"],[0.6666666666666666,\"#ed7953\"],[0.7777777777777778,\"#fb9f3a\"],[0.8888888888888888,\"#fdca26\"],[1.0,\"#f0f921\"]]}],\"heatmap\":[{\"type\":\"heatmap\",\"colorbar\":{\"outlinewidth\":0,\"ticks\":\"\"},\"colorscale\":[[0.0,\"#0d0887\"],[0.1111111111111111,\"#46039f\"],[0.2222222222222222,\"#7201a8\"],[0.3333333333333333,\"#9c179e\"],[0.4444444444444444,\"#bd3786\"],[0.5555555555555556,\"#d8576b\"],[0.6666666666666666,\"#ed7953\"],[0.7777777777777778,\"#fb9f3a\"],[0.8888888888888888,\"#fdca26\"],[1.0,\"#f0f921\"]]}],\"heatmapgl\":[{\"type\":\"heatmapgl\",\"colorbar\":{\"outlinewidth\":0,\"ticks\":\"\"},\"colorscale\":[[0.0,\"#0d0887\"],[0.1111111111111111,\"#46039f\"],[0.2222222222222222,\"#7201a8\"],[0.3333333333333333,\"#9c179e\"],[0.4444444444444444,\"#bd3786\"],[0.5555555555555556,\"#d8576b\"],[0.6666666666666666,\"#ed7953\"],[0.7777777777777778,\"#fb9f3a\"],[0.8888888888888888,\"#fdca26\"],[1.0,\"#f0f921\"]]}],\"contourcarpet\":[{\"type\":\"contourcarpet\",\"colorbar\":{\"outlinewidth\":0,\"ticks\":\"\"}}],\"contour\":[{\"type\":\"contour\",\"colorbar\":{\"outlinewidth\":0,\"ticks\":\"\"},\"colorscale\":[[0.0,\"#0d0887\"],[0.1111111111111111,\"#46039f\"],[0.2222222222222222,\"#7201a8\"],[0.3333333333333333,\"#9c179e\"],[0.4444444444444444,\"#bd3786\"],[0.5555555555555556,\"#d8576b\"],[0.6666666666666666,\"#ed7953\"],[0.7777777777777778,\"#fb9f3a\"],[0.8888888888888888,\"#fdca26\"],[1.0,\"#f0f921\"]]}],\"surface\":[{\"type\":\"surface\",\"colorbar\":{\"outlinewidth\":0,\"ticks\":\"\"},\"colorscale\":[[0.0,\"#0d0887\"],[0.1111111111111111,\"#46039f\"],[0.2222222222222222,\"#7201a8\"],[0.3333333333333333,\"#9c179e\"],[0.4444444444444444,\"#bd3786\"],[0.5555555555555556,\"#d8576b\"],[0.6666666666666666,\"#ed7953\"],[0.7777777777777778,\"#fb9f3a\"],[0.8888888888888888,\"#fdca26\"],[1.0,\"#f0f921\"]]}],\"mesh3d\":[{\"type\":\"mesh3d\",\"colorbar\":{\"outlinewidth\":0,\"ticks\":\"\"}}],\"scatter\":[{\"fillpattern\":{\"fillmode\":\"overlay\",\"size\":10,\"solidity\":0.2},\"type\":\"scatter\"}],\"parcoords\":[{\"type\":\"parcoords\",\"line\":{\"colorbar\":{\"outlinewidth\":0,\"ticks\":\"\"}}}],\"scatterpolargl\":[{\"type\":\"scatterpolargl\",\"marker\":{\"colorbar\":{\"outlinewidth\":0,\"ticks\":\"\"}}}],\"bar\":[{\"error_x\":{\"color\":\"#2a3f5f\"},\"error_y\":{\"color\":\"#2a3f5f\"},\"marker\":{\"line\":{\"color\":\"#E5ECF6\",\"width\":0.5},\"pattern\":{\"fillmode\":\"overlay\",\"size\":10,\"solidity\":0.2}},\"type\":\"bar\"}],\"scattergeo\":[{\"type\":\"scattergeo\",\"marker\":{\"colorbar\":{\"outlinewidth\":0,\"ticks\":\"\"}}}],\"scatterpolar\":[{\"type\":\"scatterpolar\",\"marker\":{\"colorbar\":{\"outlinewidth\":0,\"ticks\":\"\"}}}],\"histogram\":[{\"marker\":{\"pattern\":{\"fillmode\":\"overlay\",\"size\":10,\"solidity\":0.2}},\"type\":\"histogram\"}],\"scattergl\":[{\"type\":\"scattergl\",\"marker\":{\"colorbar\":{\"outlinewidth\":0,\"ticks\":\"\"}}}],\"scatter3d\":[{\"type\":\"scatter3d\",\"line\":{\"colorbar\":{\"outlinewidth\":0,\"ticks\":\"\"}},\"marker\":{\"colorbar\":{\"outlinewidth\":0,\"ticks\":\"\"}}}],\"scattermapbox\":[{\"type\":\"scattermapbox\",\"marker\":{\"colorbar\":{\"outlinewidth\":0,\"ticks\":\"\"}}}],\"scatterternary\":[{\"type\":\"scatterternary\",\"marker\":{\"colorbar\":{\"outlinewidth\":0,\"ticks\":\"\"}}}],\"scattercarpet\":[{\"type\":\"scattercarpet\",\"marker\":{\"colorbar\":{\"outlinewidth\":0,\"ticks\":\"\"}}}],\"carpet\":[{\"aaxis\":{\"endlinecolor\":\"#2a3f5f\",\"gridcolor\":\"white\",\"linecolor\":\"white\",\"minorgridcolor\":\"white\",\"startlinecolor\":\"#2a3f5f\"},\"baxis\":{\"endlinecolor\":\"#2a3f5f\",\"gridcolor\":\"white\",\"linecolor\":\"white\",\"minorgridcolor\":\"white\",\"startlinecolor\":\"#2a3f5f\"},\"type\":\"carpet\"}],\"table\":[{\"cells\":{\"fill\":{\"color\":\"#EBF0F8\"},\"line\":{\"color\":\"white\"}},\"header\":{\"fill\":{\"color\":\"#C8D4E3\"},\"line\":{\"color\":\"white\"}},\"type\":\"table\"}],\"barpolar\":[{\"marker\":{\"line\":{\"color\":\"#E5ECF6\",\"width\":0.5},\"pattern\":{\"fillmode\":\"overlay\",\"size\":10,\"solidity\":0.2}},\"type\":\"barpolar\"}],\"pie\":[{\"automargin\":true,\"type\":\"pie\"}]},\"layout\":{\"autotypenumbers\":\"strict\",\"colorway\":[\"#636efa\",\"#EF553B\",\"#00cc96\",\"#ab63fa\",\"#FFA15A\",\"#19d3f3\",\"#FF6692\",\"#B6E880\",\"#FF97FF\",\"#FECB52\"],\"font\":{\"color\":\"#2a3f5f\"},\"hovermode\":\"closest\",\"hoverlabel\":{\"align\":\"left\"},\"paper_bgcolor\":\"white\",\"plot_bgcolor\":\"#E5ECF6\",\"polar\":{\"bgcolor\":\"#E5ECF6\",\"angularaxis\":{\"gridcolor\":\"white\",\"linecolor\":\"white\",\"ticks\":\"\"},\"radialaxis\":{\"gridcolor\":\"white\",\"linecolor\":\"white\",\"ticks\":\"\"}},\"ternary\":{\"bgcolor\":\"#E5ECF6\",\"aaxis\":{\"gridcolor\":\"white\",\"linecolor\":\"white\",\"ticks\":\"\"},\"baxis\":{\"gridcolor\":\"white\",\"linecolor\":\"white\",\"ticks\":\"\"},\"caxis\":{\"gridcolor\":\"white\",\"linecolor\":\"white\",\"ticks\":\"\"}},\"coloraxis\":{\"colorbar\":{\"outlinewidth\":0,\"ticks\":\"\"}},\"colorscale\":{\"sequential\":[[0.0,\"#0d0887\"],[0.1111111111111111,\"#46039f\"],[0.2222222222222222,\"#7201a8\"],[0.3333333333333333,\"#9c179e\"],[0.4444444444444444,\"#bd3786\"],[0.5555555555555556,\"#d8576b\"],[0.6666666666666666,\"#ed7953\"],[0.7777777777777778,\"#fb9f3a\"],[0.8888888888888888,\"#fdca26\"],[1.0,\"#f0f921\"]],\"sequentialminus\":[[0.0,\"#0d0887\"],[0.1111111111111111,\"#46039f\"],[0.2222222222222222,\"#7201a8\"],[0.3333333333333333,\"#9c179e\"],[0.4444444444444444,\"#bd3786\"],[0.5555555555555556,\"#d8576b\"],[0.6666666666666666,\"#ed7953\"],[0.7777777777777778,\"#fb9f3a\"],[0.8888888888888888,\"#fdca26\"],[1.0,\"#f0f921\"]],\"diverging\":[[0,\"#8e0152\"],[0.1,\"#c51b7d\"],[0.2,\"#de77ae\"],[0.3,\"#f1b6da\"],[0.4,\"#fde0ef\"],[0.5,\"#f7f7f7\"],[0.6,\"#e6f5d0\"],[0.7,\"#b8e186\"],[0.8,\"#7fbc41\"],[0.9,\"#4d9221\"],[1,\"#276419\"]]},\"xaxis\":{\"gridcolor\":\"white\",\"linecolor\":\"white\",\"ticks\":\"\",\"title\":{\"standoff\":15},\"zerolinecolor\":\"white\",\"automargin\":true,\"zerolinewidth\":2},\"yaxis\":{\"gridcolor\":\"white\",\"linecolor\":\"white\",\"ticks\":\"\",\"title\":{\"standoff\":15},\"zerolinecolor\":\"white\",\"automargin\":true,\"zerolinewidth\":2},\"scene\":{\"xaxis\":{\"backgroundcolor\":\"#E5ECF6\",\"gridcolor\":\"white\",\"linecolor\":\"white\",\"showbackground\":true,\"ticks\":\"\",\"zerolinecolor\":\"white\",\"gridwidth\":2},\"yaxis\":{\"backgroundcolor\":\"#E5ECF6\",\"gridcolor\":\"white\",\"linecolor\":\"white\",\"showbackground\":true,\"ticks\":\"\",\"zerolinecolor\":\"white\",\"gridwidth\":2},\"zaxis\":{\"backgroundcolor\":\"#E5ECF6\",\"gridcolor\":\"white\",\"linecolor\":\"white\",\"showbackground\":true,\"ticks\":\"\",\"zerolinecolor\":\"white\",\"gridwidth\":2}},\"shapedefaults\":{\"line\":{\"color\":\"#2a3f5f\"}},\"annotationdefaults\":{\"arrowcolor\":\"#2a3f5f\",\"arrowhead\":0,\"arrowwidth\":1},\"geo\":{\"bgcolor\":\"white\",\"landcolor\":\"#E5ECF6\",\"subunitcolor\":\"white\",\"showland\":true,\"showlakes\":true,\"lakecolor\":\"white\"},\"title\":{\"x\":0.05},\"mapbox\":{\"style\":\"light\"}}},\"xaxis\":{\"anchor\":\"y\",\"domain\":[0.0,1.0],\"scaleanchor\":\"y\",\"constrain\":\"domain\",\"title\":{\"text\":\"Product\"},\"side\":\"top\"},\"yaxis\":{\"anchor\":\"x\",\"domain\":[0.0,1.0],\"autorange\":\"reversed\",\"constrain\":\"domain\",\"title\":{\"text\":\"Region\"}},\"coloraxis\":{\"colorbar\":{\"title\":{\"text\":\"Sales\"}},\"colorscale\":[[0.0,\"#0d0887\"],[0.1111111111111111,\"#46039f\"],[0.2222222222222222,\"#7201a8\"],[0.3333333333333333,\"#9c179e\"],[0.4444444444444444,\"#bd3786\"],[0.5555555555555556,\"#d8576b\"],[0.6666666666666666,\"#ed7953\"],[0.7777777777777778,\"#fb9f3a\"],[0.8888888888888888,\"#fdca26\"],[1.0,\"#f0f921\"]]},\"title\":{\"text\":\"Crunch-O-Matic Sales Heat Map by Region and Product\"}},                        {\"responsive\": true}                    ).then(function(){\n",
              "                            \n",
              "var gd = document.getElementById('77710b96-bc64-4ed4-af21-72d15160c9b6');\n",
              "var x = new MutationObserver(function (mutations, observer) {{\n",
              "        var display = window.getComputedStyle(gd).display;\n",
              "        if (!display || display === 'none') {{\n",
              "            console.log([gd, 'removed!']);\n",
              "            Plotly.purge(gd);\n",
              "            observer.disconnect();\n",
              "        }}\n",
              "}});\n",
              "\n",
              "// Listen for the removal of the full notebook cells\n",
              "var notebookContainer = gd.closest('#notebook-container');\n",
              "if (notebookContainer) {{\n",
              "    x.observe(notebookContainer, {childList: true});\n",
              "}}\n",
              "\n",
              "// Listen for the clearing of the current output cell\n",
              "var outputEl = gd.closest('.output');\n",
              "if (outputEl) {{\n",
              "    x.observe(outputEl, {childList: true});\n",
              "}}\n",
              "\n",
              "                        })                };                            </script>        </div>\n",
              "</body>\n",
              "</html>"
            ]
          },
          "metadata": {}
        }
      ]
    },
    {
      "cell_type": "markdown",
      "source": [
        "This heat map allows us to quickly identify which products are performing well in which regions. We can easily spot any \"hot spots\" of high sales or areas that might need more marketing attention."
      ],
      "metadata": {
        "id": "vRpxFaJ0w1vJ"
      }
    },
    {
      "cell_type": "markdown",
      "source": [
        "## 9. Geographic Map\n",
        "\n",
        "Geographic maps, or choropleth maps, use color-coding to display how a measurement varies across a geographic area. They're excellent for visualizing data that has a spatial component.\n",
        "\n",
        "Geographic maps are useful for:\n",
        "- Showing regional variations in data\n",
        "- Identifying geographic patterns or trends\n",
        "- Comparing data across different locations\n",
        "\n",
        "When interpreting a geographic map:\n",
        "- Look at the color scale: Understand what the colors represent\n",
        "- Identify patterns: Look for clusters of similar colors or gradients across regions\n",
        "- Consider external factors: Think about how geographic features or regional characteristics might influence the data\n",
        "\n",
        "For our Crunch-O-Matic campaign, we might use a geographic map to visualize sales or market penetration across different states or countries.\n",
        "\n",
        "Here's how to create a geographic map using Plotly Express:"
      ],
      "metadata": {
        "id": "oUN8YuwTw7a6"
      }
    },
    {
      "cell_type": "code",
      "source": [
        "import plotly.express as px\n",
        "import pandas as pd\n",
        "\n",
        "# Sample data with state abbreviations\n",
        "data = {\n",
        "    'State': ['IL', 'IA', 'SD', 'WI', 'MN'],\n",
        "    'Sales': [500000, 400000, 300000, 350000, 250000]\n",
        "}\n",
        "df = pd.DataFrame(data)\n",
        "\n",
        "# Create the geographic map\n",
        "fig = px.choropleth(df,\n",
        "                    locations='State',\n",
        "                    locationmode=\"USA-states\",\n",
        "                    color='Sales',\n",
        "                    scope=\"usa\",\n",
        "                    color_continuous_scale=\"Viridis\",\n",
        "                    title='Crunch-O-Matic Sales by State')\n",
        "\n",
        "fig.show()\n"
      ],
      "metadata": {
        "id": "jmM678fVw_sX",
        "outputId": "0527d20b-9101-4016-f8ad-4b00cddce476",
        "colab": {
          "base_uri": "https://localhost:8080/",
          "height": 542
        }
      },
      "execution_count": 8,
      "outputs": [
        {
          "output_type": "display_data",
          "data": {
            "text/html": [
              "<html>\n",
              "<head><meta charset=\"utf-8\" /></head>\n",
              "<body>\n",
              "    <div>            <script src=\"https://cdnjs.cloudflare.com/ajax/libs/mathjax/2.7.5/MathJax.js?config=TeX-AMS-MML_SVG\"></script><script type=\"text/javascript\">if (window.MathJax && window.MathJax.Hub && window.MathJax.Hub.Config) {window.MathJax.Hub.Config({SVG: {font: \"STIX-Web\"}});}</script>                <script type=\"text/javascript\">window.PlotlyConfig = {MathJaxConfig: 'local'};</script>\n",
              "        <script charset=\"utf-8\" src=\"https://cdn.plot.ly/plotly-2.24.1.min.js\"></script>                <div id=\"b7102d83-2ec8-4c66-bec2-50dd820ec5cd\" class=\"plotly-graph-div\" style=\"height:525px; width:100%;\"></div>            <script type=\"text/javascript\">                                    window.PLOTLYENV=window.PLOTLYENV || {};                                    if (document.getElementById(\"b7102d83-2ec8-4c66-bec2-50dd820ec5cd\")) {                    Plotly.newPlot(                        \"b7102d83-2ec8-4c66-bec2-50dd820ec5cd\",                        [{\"coloraxis\":\"coloraxis\",\"geo\":\"geo\",\"hovertemplate\":\"State=%{location}\\u003cbr\\u003eSales=%{z}\\u003cextra\\u003e\\u003c\\u002fextra\\u003e\",\"locationmode\":\"USA-states\",\"locations\":[\"IL\",\"IA\",\"SD\",\"WI\",\"MN\"],\"name\":\"\",\"z\":[500000,400000,300000,350000,250000],\"type\":\"choropleth\"}],                        {\"template\":{\"data\":{\"histogram2dcontour\":[{\"type\":\"histogram2dcontour\",\"colorbar\":{\"outlinewidth\":0,\"ticks\":\"\"},\"colorscale\":[[0.0,\"#0d0887\"],[0.1111111111111111,\"#46039f\"],[0.2222222222222222,\"#7201a8\"],[0.3333333333333333,\"#9c179e\"],[0.4444444444444444,\"#bd3786\"],[0.5555555555555556,\"#d8576b\"],[0.6666666666666666,\"#ed7953\"],[0.7777777777777778,\"#fb9f3a\"],[0.8888888888888888,\"#fdca26\"],[1.0,\"#f0f921\"]]}],\"choropleth\":[{\"type\":\"choropleth\",\"colorbar\":{\"outlinewidth\":0,\"ticks\":\"\"}}],\"histogram2d\":[{\"type\":\"histogram2d\",\"colorbar\":{\"outlinewidth\":0,\"ticks\":\"\"},\"colorscale\":[[0.0,\"#0d0887\"],[0.1111111111111111,\"#46039f\"],[0.2222222222222222,\"#7201a8\"],[0.3333333333333333,\"#9c179e\"],[0.4444444444444444,\"#bd3786\"],[0.5555555555555556,\"#d8576b\"],[0.6666666666666666,\"#ed7953\"],[0.7777777777777778,\"#fb9f3a\"],[0.8888888888888888,\"#fdca26\"],[1.0,\"#f0f921\"]]}],\"heatmap\":[{\"type\":\"heatmap\",\"colorbar\":{\"outlinewidth\":0,\"ticks\":\"\"},\"colorscale\":[[0.0,\"#0d0887\"],[0.1111111111111111,\"#46039f\"],[0.2222222222222222,\"#7201a8\"],[0.3333333333333333,\"#9c179e\"],[0.4444444444444444,\"#bd3786\"],[0.5555555555555556,\"#d8576b\"],[0.6666666666666666,\"#ed7953\"],[0.7777777777777778,\"#fb9f3a\"],[0.8888888888888888,\"#fdca26\"],[1.0,\"#f0f921\"]]}],\"heatmapgl\":[{\"type\":\"heatmapgl\",\"colorbar\":{\"outlinewidth\":0,\"ticks\":\"\"},\"colorscale\":[[0.0,\"#0d0887\"],[0.1111111111111111,\"#46039f\"],[0.2222222222222222,\"#7201a8\"],[0.3333333333333333,\"#9c179e\"],[0.4444444444444444,\"#bd3786\"],[0.5555555555555556,\"#d8576b\"],[0.6666666666666666,\"#ed7953\"],[0.7777777777777778,\"#fb9f3a\"],[0.8888888888888888,\"#fdca26\"],[1.0,\"#f0f921\"]]}],\"contourcarpet\":[{\"type\":\"contourcarpet\",\"colorbar\":{\"outlinewidth\":0,\"ticks\":\"\"}}],\"contour\":[{\"type\":\"contour\",\"colorbar\":{\"outlinewidth\":0,\"ticks\":\"\"},\"colorscale\":[[0.0,\"#0d0887\"],[0.1111111111111111,\"#46039f\"],[0.2222222222222222,\"#7201a8\"],[0.3333333333333333,\"#9c179e\"],[0.4444444444444444,\"#bd3786\"],[0.5555555555555556,\"#d8576b\"],[0.6666666666666666,\"#ed7953\"],[0.7777777777777778,\"#fb9f3a\"],[0.8888888888888888,\"#fdca26\"],[1.0,\"#f0f921\"]]}],\"surface\":[{\"type\":\"surface\",\"colorbar\":{\"outlinewidth\":0,\"ticks\":\"\"},\"colorscale\":[[0.0,\"#0d0887\"],[0.1111111111111111,\"#46039f\"],[0.2222222222222222,\"#7201a8\"],[0.3333333333333333,\"#9c179e\"],[0.4444444444444444,\"#bd3786\"],[0.5555555555555556,\"#d8576b\"],[0.6666666666666666,\"#ed7953\"],[0.7777777777777778,\"#fb9f3a\"],[0.8888888888888888,\"#fdca26\"],[1.0,\"#f0f921\"]]}],\"mesh3d\":[{\"type\":\"mesh3d\",\"colorbar\":{\"outlinewidth\":0,\"ticks\":\"\"}}],\"scatter\":[{\"fillpattern\":{\"fillmode\":\"overlay\",\"size\":10,\"solidity\":0.2},\"type\":\"scatter\"}],\"parcoords\":[{\"type\":\"parcoords\",\"line\":{\"colorbar\":{\"outlinewidth\":0,\"ticks\":\"\"}}}],\"scatterpolargl\":[{\"type\":\"scatterpolargl\",\"marker\":{\"colorbar\":{\"outlinewidth\":0,\"ticks\":\"\"}}}],\"bar\":[{\"error_x\":{\"color\":\"#2a3f5f\"},\"error_y\":{\"color\":\"#2a3f5f\"},\"marker\":{\"line\":{\"color\":\"#E5ECF6\",\"width\":0.5},\"pattern\":{\"fillmode\":\"overlay\",\"size\":10,\"solidity\":0.2}},\"type\":\"bar\"}],\"scattergeo\":[{\"type\":\"scattergeo\",\"marker\":{\"colorbar\":{\"outlinewidth\":0,\"ticks\":\"\"}}}],\"scatterpolar\":[{\"type\":\"scatterpolar\",\"marker\":{\"colorbar\":{\"outlinewidth\":0,\"ticks\":\"\"}}}],\"histogram\":[{\"marker\":{\"pattern\":{\"fillmode\":\"overlay\",\"size\":10,\"solidity\":0.2}},\"type\":\"histogram\"}],\"scattergl\":[{\"type\":\"scattergl\",\"marker\":{\"colorbar\":{\"outlinewidth\":0,\"ticks\":\"\"}}}],\"scatter3d\":[{\"type\":\"scatter3d\",\"line\":{\"colorbar\":{\"outlinewidth\":0,\"ticks\":\"\"}},\"marker\":{\"colorbar\":{\"outlinewidth\":0,\"ticks\":\"\"}}}],\"scattermapbox\":[{\"type\":\"scattermapbox\",\"marker\":{\"colorbar\":{\"outlinewidth\":0,\"ticks\":\"\"}}}],\"scatterternary\":[{\"type\":\"scatterternary\",\"marker\":{\"colorbar\":{\"outlinewidth\":0,\"ticks\":\"\"}}}],\"scattercarpet\":[{\"type\":\"scattercarpet\",\"marker\":{\"colorbar\":{\"outlinewidth\":0,\"ticks\":\"\"}}}],\"carpet\":[{\"aaxis\":{\"endlinecolor\":\"#2a3f5f\",\"gridcolor\":\"white\",\"linecolor\":\"white\",\"minorgridcolor\":\"white\",\"startlinecolor\":\"#2a3f5f\"},\"baxis\":{\"endlinecolor\":\"#2a3f5f\",\"gridcolor\":\"white\",\"linecolor\":\"white\",\"minorgridcolor\":\"white\",\"startlinecolor\":\"#2a3f5f\"},\"type\":\"carpet\"}],\"table\":[{\"cells\":{\"fill\":{\"color\":\"#EBF0F8\"},\"line\":{\"color\":\"white\"}},\"header\":{\"fill\":{\"color\":\"#C8D4E3\"},\"line\":{\"color\":\"white\"}},\"type\":\"table\"}],\"barpolar\":[{\"marker\":{\"line\":{\"color\":\"#E5ECF6\",\"width\":0.5},\"pattern\":{\"fillmode\":\"overlay\",\"size\":10,\"solidity\":0.2}},\"type\":\"barpolar\"}],\"pie\":[{\"automargin\":true,\"type\":\"pie\"}]},\"layout\":{\"autotypenumbers\":\"strict\",\"colorway\":[\"#636efa\",\"#EF553B\",\"#00cc96\",\"#ab63fa\",\"#FFA15A\",\"#19d3f3\",\"#FF6692\",\"#B6E880\",\"#FF97FF\",\"#FECB52\"],\"font\":{\"color\":\"#2a3f5f\"},\"hovermode\":\"closest\",\"hoverlabel\":{\"align\":\"left\"},\"paper_bgcolor\":\"white\",\"plot_bgcolor\":\"#E5ECF6\",\"polar\":{\"bgcolor\":\"#E5ECF6\",\"angularaxis\":{\"gridcolor\":\"white\",\"linecolor\":\"white\",\"ticks\":\"\"},\"radialaxis\":{\"gridcolor\":\"white\",\"linecolor\":\"white\",\"ticks\":\"\"}},\"ternary\":{\"bgcolor\":\"#E5ECF6\",\"aaxis\":{\"gridcolor\":\"white\",\"linecolor\":\"white\",\"ticks\":\"\"},\"baxis\":{\"gridcolor\":\"white\",\"linecolor\":\"white\",\"ticks\":\"\"},\"caxis\":{\"gridcolor\":\"white\",\"linecolor\":\"white\",\"ticks\":\"\"}},\"coloraxis\":{\"colorbar\":{\"outlinewidth\":0,\"ticks\":\"\"}},\"colorscale\":{\"sequential\":[[0.0,\"#0d0887\"],[0.1111111111111111,\"#46039f\"],[0.2222222222222222,\"#7201a8\"],[0.3333333333333333,\"#9c179e\"],[0.4444444444444444,\"#bd3786\"],[0.5555555555555556,\"#d8576b\"],[0.6666666666666666,\"#ed7953\"],[0.7777777777777778,\"#fb9f3a\"],[0.8888888888888888,\"#fdca26\"],[1.0,\"#f0f921\"]],\"sequentialminus\":[[0.0,\"#0d0887\"],[0.1111111111111111,\"#46039f\"],[0.2222222222222222,\"#7201a8\"],[0.3333333333333333,\"#9c179e\"],[0.4444444444444444,\"#bd3786\"],[0.5555555555555556,\"#d8576b\"],[0.6666666666666666,\"#ed7953\"],[0.7777777777777778,\"#fb9f3a\"],[0.8888888888888888,\"#fdca26\"],[1.0,\"#f0f921\"]],\"diverging\":[[0,\"#8e0152\"],[0.1,\"#c51b7d\"],[0.2,\"#de77ae\"],[0.3,\"#f1b6da\"],[0.4,\"#fde0ef\"],[0.5,\"#f7f7f7\"],[0.6,\"#e6f5d0\"],[0.7,\"#b8e186\"],[0.8,\"#7fbc41\"],[0.9,\"#4d9221\"],[1,\"#276419\"]]},\"xaxis\":{\"gridcolor\":\"white\",\"linecolor\":\"white\",\"ticks\":\"\",\"title\":{\"standoff\":15},\"zerolinecolor\":\"white\",\"automargin\":true,\"zerolinewidth\":2},\"yaxis\":{\"gridcolor\":\"white\",\"linecolor\":\"white\",\"ticks\":\"\",\"title\":{\"standoff\":15},\"zerolinecolor\":\"white\",\"automargin\":true,\"zerolinewidth\":2},\"scene\":{\"xaxis\":{\"backgroundcolor\":\"#E5ECF6\",\"gridcolor\":\"white\",\"linecolor\":\"white\",\"showbackground\":true,\"ticks\":\"\",\"zerolinecolor\":\"white\",\"gridwidth\":2},\"yaxis\":{\"backgroundcolor\":\"#E5ECF6\",\"gridcolor\":\"white\",\"linecolor\":\"white\",\"showbackground\":true,\"ticks\":\"\",\"zerolinecolor\":\"white\",\"gridwidth\":2},\"zaxis\":{\"backgroundcolor\":\"#E5ECF6\",\"gridcolor\":\"white\",\"linecolor\":\"white\",\"showbackground\":true,\"ticks\":\"\",\"zerolinecolor\":\"white\",\"gridwidth\":2}},\"shapedefaults\":{\"line\":{\"color\":\"#2a3f5f\"}},\"annotationdefaults\":{\"arrowcolor\":\"#2a3f5f\",\"arrowhead\":0,\"arrowwidth\":1},\"geo\":{\"bgcolor\":\"white\",\"landcolor\":\"#E5ECF6\",\"subunitcolor\":\"white\",\"showland\":true,\"showlakes\":true,\"lakecolor\":\"white\"},\"title\":{\"x\":0.05},\"mapbox\":{\"style\":\"light\"}}},\"geo\":{\"domain\":{\"x\":[0.0,1.0],\"y\":[0.0,1.0]},\"center\":{},\"scope\":\"usa\"},\"coloraxis\":{\"colorbar\":{\"title\":{\"text\":\"Sales\"}},\"colorscale\":[[0.0,\"#440154\"],[0.1111111111111111,\"#482878\"],[0.2222222222222222,\"#3e4989\"],[0.3333333333333333,\"#31688e\"],[0.4444444444444444,\"#26828e\"],[0.5555555555555556,\"#1f9e89\"],[0.6666666666666666,\"#35b779\"],[0.7777777777777778,\"#6ece58\"],[0.8888888888888888,\"#b5de2b\"],[1.0,\"#fde725\"]]},\"legend\":{\"tracegroupgap\":0},\"title\":{\"text\":\"Crunch-O-Matic Sales by State\"}},                        {\"responsive\": true}                    ).then(function(){\n",
              "                            \n",
              "var gd = document.getElementById('b7102d83-2ec8-4c66-bec2-50dd820ec5cd');\n",
              "var x = new MutationObserver(function (mutations, observer) {{\n",
              "        var display = window.getComputedStyle(gd).display;\n",
              "        if (!display || display === 'none') {{\n",
              "            console.log([gd, 'removed!']);\n",
              "            Plotly.purge(gd);\n",
              "            observer.disconnect();\n",
              "        }}\n",
              "}});\n",
              "\n",
              "// Listen for the removal of the full notebook cells\n",
              "var notebookContainer = gd.closest('#notebook-container');\n",
              "if (notebookContainer) {{\n",
              "    x.observe(notebookContainer, {childList: true});\n",
              "}}\n",
              "\n",
              "// Listen for the clearing of the current output cell\n",
              "var outputEl = gd.closest('.output');\n",
              "if (outputEl) {{\n",
              "    x.observe(outputEl, {childList: true});\n",
              "}}\n",
              "\n",
              "                        })                };                            </script>        </div>\n",
              "</body>\n",
              "</html>"
            ]
          },
          "metadata": {}
        }
      ]
    },
    {
      "cell_type": "markdown",
      "source": [
        "This geographic map provides an immediate visual understanding of how Crunch-O-Matic sales vary across different states. We can quickly identify which states are our strongest markets and which might need additional marketing efforts."
      ],
      "metadata": {
        "id": "aQtEZMEvxrES"
      }
    },
    {
      "cell_type": "markdown",
      "source": [
        "## 10. Tree Map\n",
        "\n",
        "A tree map is a visualization that displays hierarchical data as a set of nested rectangles. The size of each rectangle represents a quantitative dimension of the data, while the hierarchy is shown through the nesting of these rectangles.\n",
        "\n",
        "Tree maps are particularly useful for:\n",
        "- Displaying hierarchical data structures\n",
        "- Showing proportions within a whole\n",
        "- Efficiently using space to display large amounts of data\n",
        "\n",
        "When interpreting a tree map:\n",
        "- Look at the size of rectangles: Larger rectangles represent larger values\n",
        "- Observe the hierarchy: Rectangles within larger rectangles represent sub-categories\n",
        "- Compare colors: Often, color is used to represent another dimension of the data\n",
        "\n",
        "For our Crunch-O-Matic campaign, we might use a tree map to visualize sales data across different regions and product types.\n",
        "\n",
        "Here's how to create a tree map using Plotly Express:"
      ],
      "metadata": {
        "id": "I3Oyi1m-yX1L"
      }
    },
    {
      "cell_type": "code",
      "source": [
        "import plotly.express as px\n",
        "import pandas as pd\n",
        "import numpy as np\n",
        "\n",
        "# Generate sample data\n",
        "np.random.seed(42)\n",
        "regions = ['North', 'South', 'East', 'West']\n",
        "products = ['Original', 'Spicy', 'Cheesy', 'BBQ']\n",
        "data = []\n",
        "for region in regions:\n",
        "    for product in products:\n",
        "        data.append({\n",
        "            'Region': region,\n",
        "            'Product': product,\n",
        "            'Sales': np.random.randint(10000, 100000)\n",
        "        })\n",
        "df = pd.DataFrame(data)\n",
        "\n",
        "# Create the tree map\n",
        "fig = px.treemap(df, path=[px.Constant(\"All Regions\"), 'Region', 'Product'], values='Sales',\n",
        "                 color='Sales', hover_data=['Sales'],\n",
        "                 color_continuous_scale='RdBu',\n",
        "                 title='Crunch-O-Matic Sales by Region and Product')\n",
        "\n",
        "fig.show()\n"
      ],
      "metadata": {
        "id": "B6jAXQ-ayYti",
        "outputId": "4eef9f4b-af91-45d8-89e8-783244414c17",
        "colab": {
          "base_uri": "https://localhost:8080/",
          "height": 542
        }
      },
      "execution_count": 9,
      "outputs": [
        {
          "output_type": "display_data",
          "data": {
            "text/html": [
              "<html>\n",
              "<head><meta charset=\"utf-8\" /></head>\n",
              "<body>\n",
              "    <div>            <script src=\"https://cdnjs.cloudflare.com/ajax/libs/mathjax/2.7.5/MathJax.js?config=TeX-AMS-MML_SVG\"></script><script type=\"text/javascript\">if (window.MathJax && window.MathJax.Hub && window.MathJax.Hub.Config) {window.MathJax.Hub.Config({SVG: {font: \"STIX-Web\"}});}</script>                <script type=\"text/javascript\">window.PlotlyConfig = {MathJaxConfig: 'local'};</script>\n",
              "        <script charset=\"utf-8\" src=\"https://cdn.plot.ly/plotly-2.24.1.min.js\"></script>                <div id=\"47d4c3c7-e892-499f-a57d-5043dc61c7dc\" class=\"plotly-graph-div\" style=\"height:525px; width:100%;\"></div>            <script type=\"text/javascript\">                                    window.PLOTLYENV=window.PLOTLYENV || {};                                    if (document.getElementById(\"47d4c3c7-e892-499f-a57d-5043dc61c7dc\")) {                    Plotly.newPlot(                        \"47d4c3c7-e892-499f-a57d-5043dc61c7dc\",                        [{\"branchvalues\":\"total\",\"customdata\":[[51090.0,51090.0],[64886.0,64886.0],[97498.0,97498.0],[69735.0,69735.0],[26023.0,26023.0],[86820.0,86820.0],[47194.0,47194.0],[10769.0,10769.0],[54131.0,54131.0],[25795.0,25795.0],[16265.0,16265.0],[77221.0,77221.0],[70263.0,70263.0],[10860.0,10860.0],[92386.0,92386.0],[74820.0,74820.0],[55355.09416050063,55355.09416050063],[66527.71550904911,66527.71550904911],[81047.65815909657,81047.65815909657],[71126.26298995894,71126.26298995894],[69378.43379662829,69378.43379662829]],\"domain\":{\"x\":[0.0,1.0],\"y\":[0.0,1.0]},\"hovertemplate\":\"labels=%{label}\\u003cbr\\u003eSales_sum=%{value}\\u003cbr\\u003eparent=%{parent}\\u003cbr\\u003eid=%{id}\\u003cbr\\u003eSales=%{color}\\u003cextra\\u003e\\u003c\\u002fextra\\u003e\",\"ids\":[\"All Regions\\u002fEast\\u002fBBQ\",\"All Regions\\u002fNorth\\u002fBBQ\",\"All Regions\\u002fSouth\\u002fBBQ\",\"All Regions\\u002fWest\\u002fBBQ\",\"All Regions\\u002fEast\\u002fCheesy\",\"All Regions\\u002fNorth\\u002fCheesy\",\"All Regions\\u002fSouth\\u002fCheesy\",\"All Regions\\u002fWest\\u002fCheesy\",\"All Regions\\u002fEast\\u002fOriginal\",\"All Regions\\u002fNorth\\u002fOriginal\",\"All Regions\\u002fSouth\\u002fOriginal\",\"All Regions\\u002fWest\\u002fOriginal\",\"All Regions\\u002fEast\\u002fSpicy\",\"All Regions\\u002fNorth\\u002fSpicy\",\"All Regions\\u002fSouth\\u002fSpicy\",\"All Regions\\u002fWest\\u002fSpicy\",\"All Regions\\u002fEast\",\"All Regions\\u002fNorth\",\"All Regions\\u002fSouth\",\"All Regions\\u002fWest\",\"All Regions\"],\"labels\":[\"BBQ\",\"BBQ\",\"BBQ\",\"BBQ\",\"Cheesy\",\"Cheesy\",\"Cheesy\",\"Cheesy\",\"Original\",\"Original\",\"Original\",\"Original\",\"Spicy\",\"Spicy\",\"Spicy\",\"Spicy\",\"East\",\"North\",\"South\",\"West\",\"All Regions\"],\"marker\":{\"coloraxis\":\"coloraxis\",\"colors\":[51090.0,64886.0,97498.0,69735.0,26023.0,86820.0,47194.0,10769.0,54131.0,25795.0,16265.0,77221.0,70263.0,10860.0,92386.0,74820.0,55355.09416050063,66527.71550904911,81047.65815909657,71126.26298995894,69378.43379662829]},\"name\":\"\",\"parents\":[\"All Regions\\u002fEast\",\"All Regions\\u002fNorth\",\"All Regions\\u002fSouth\",\"All Regions\\u002fWest\",\"All Regions\\u002fEast\",\"All Regions\\u002fNorth\",\"All Regions\\u002fSouth\",\"All Regions\\u002fWest\",\"All Regions\\u002fEast\",\"All Regions\\u002fNorth\",\"All Regions\\u002fSouth\",\"All Regions\\u002fWest\",\"All Regions\\u002fEast\",\"All Regions\\u002fNorth\",\"All Regions\\u002fSouth\",\"All Regions\\u002fWest\",\"All Regions\",\"All Regions\",\"All Regions\",\"All Regions\",\"\"],\"values\":[51090,64886,97498,69735,26023,86820,47194,10769,54131,25795,16265,77221,70263,10860,92386,74820,201507,188361,253343,232545,875756],\"type\":\"treemap\"}],                        {\"template\":{\"data\":{\"histogram2dcontour\":[{\"type\":\"histogram2dcontour\",\"colorbar\":{\"outlinewidth\":0,\"ticks\":\"\"},\"colorscale\":[[0.0,\"#0d0887\"],[0.1111111111111111,\"#46039f\"],[0.2222222222222222,\"#7201a8\"],[0.3333333333333333,\"#9c179e\"],[0.4444444444444444,\"#bd3786\"],[0.5555555555555556,\"#d8576b\"],[0.6666666666666666,\"#ed7953\"],[0.7777777777777778,\"#fb9f3a\"],[0.8888888888888888,\"#fdca26\"],[1.0,\"#f0f921\"]]}],\"choropleth\":[{\"type\":\"choropleth\",\"colorbar\":{\"outlinewidth\":0,\"ticks\":\"\"}}],\"histogram2d\":[{\"type\":\"histogram2d\",\"colorbar\":{\"outlinewidth\":0,\"ticks\":\"\"},\"colorscale\":[[0.0,\"#0d0887\"],[0.1111111111111111,\"#46039f\"],[0.2222222222222222,\"#7201a8\"],[0.3333333333333333,\"#9c179e\"],[0.4444444444444444,\"#bd3786\"],[0.5555555555555556,\"#d8576b\"],[0.6666666666666666,\"#ed7953\"],[0.7777777777777778,\"#fb9f3a\"],[0.8888888888888888,\"#fdca26\"],[1.0,\"#f0f921\"]]}],\"heatmap\":[{\"type\":\"heatmap\",\"colorbar\":{\"outlinewidth\":0,\"ticks\":\"\"},\"colorscale\":[[0.0,\"#0d0887\"],[0.1111111111111111,\"#46039f\"],[0.2222222222222222,\"#7201a8\"],[0.3333333333333333,\"#9c179e\"],[0.4444444444444444,\"#bd3786\"],[0.5555555555555556,\"#d8576b\"],[0.6666666666666666,\"#ed7953\"],[0.7777777777777778,\"#fb9f3a\"],[0.8888888888888888,\"#fdca26\"],[1.0,\"#f0f921\"]]}],\"heatmapgl\":[{\"type\":\"heatmapgl\",\"colorbar\":{\"outlinewidth\":0,\"ticks\":\"\"},\"colorscale\":[[0.0,\"#0d0887\"],[0.1111111111111111,\"#46039f\"],[0.2222222222222222,\"#7201a8\"],[0.3333333333333333,\"#9c179e\"],[0.4444444444444444,\"#bd3786\"],[0.5555555555555556,\"#d8576b\"],[0.6666666666666666,\"#ed7953\"],[0.7777777777777778,\"#fb9f3a\"],[0.8888888888888888,\"#fdca26\"],[1.0,\"#f0f921\"]]}],\"contourcarpet\":[{\"type\":\"contourcarpet\",\"colorbar\":{\"outlinewidth\":0,\"ticks\":\"\"}}],\"contour\":[{\"type\":\"contour\",\"colorbar\":{\"outlinewidth\":0,\"ticks\":\"\"},\"colorscale\":[[0.0,\"#0d0887\"],[0.1111111111111111,\"#46039f\"],[0.2222222222222222,\"#7201a8\"],[0.3333333333333333,\"#9c179e\"],[0.4444444444444444,\"#bd3786\"],[0.5555555555555556,\"#d8576b\"],[0.6666666666666666,\"#ed7953\"],[0.7777777777777778,\"#fb9f3a\"],[0.8888888888888888,\"#fdca26\"],[1.0,\"#f0f921\"]]}],\"surface\":[{\"type\":\"surface\",\"colorbar\":{\"outlinewidth\":0,\"ticks\":\"\"},\"colorscale\":[[0.0,\"#0d0887\"],[0.1111111111111111,\"#46039f\"],[0.2222222222222222,\"#7201a8\"],[0.3333333333333333,\"#9c179e\"],[0.4444444444444444,\"#bd3786\"],[0.5555555555555556,\"#d8576b\"],[0.6666666666666666,\"#ed7953\"],[0.7777777777777778,\"#fb9f3a\"],[0.8888888888888888,\"#fdca26\"],[1.0,\"#f0f921\"]]}],\"mesh3d\":[{\"type\":\"mesh3d\",\"colorbar\":{\"outlinewidth\":0,\"ticks\":\"\"}}],\"scatter\":[{\"fillpattern\":{\"fillmode\":\"overlay\",\"size\":10,\"solidity\":0.2},\"type\":\"scatter\"}],\"parcoords\":[{\"type\":\"parcoords\",\"line\":{\"colorbar\":{\"outlinewidth\":0,\"ticks\":\"\"}}}],\"scatterpolargl\":[{\"type\":\"scatterpolargl\",\"marker\":{\"colorbar\":{\"outlinewidth\":0,\"ticks\":\"\"}}}],\"bar\":[{\"error_x\":{\"color\":\"#2a3f5f\"},\"error_y\":{\"color\":\"#2a3f5f\"},\"marker\":{\"line\":{\"color\":\"#E5ECF6\",\"width\":0.5},\"pattern\":{\"fillmode\":\"overlay\",\"size\":10,\"solidity\":0.2}},\"type\":\"bar\"}],\"scattergeo\":[{\"type\":\"scattergeo\",\"marker\":{\"colorbar\":{\"outlinewidth\":0,\"ticks\":\"\"}}}],\"scatterpolar\":[{\"type\":\"scatterpolar\",\"marker\":{\"colorbar\":{\"outlinewidth\":0,\"ticks\":\"\"}}}],\"histogram\":[{\"marker\":{\"pattern\":{\"fillmode\":\"overlay\",\"size\":10,\"solidity\":0.2}},\"type\":\"histogram\"}],\"scattergl\":[{\"type\":\"scattergl\",\"marker\":{\"colorbar\":{\"outlinewidth\":0,\"ticks\":\"\"}}}],\"scatter3d\":[{\"type\":\"scatter3d\",\"line\":{\"colorbar\":{\"outlinewidth\":0,\"ticks\":\"\"}},\"marker\":{\"colorbar\":{\"outlinewidth\":0,\"ticks\":\"\"}}}],\"scattermapbox\":[{\"type\":\"scattermapbox\",\"marker\":{\"colorbar\":{\"outlinewidth\":0,\"ticks\":\"\"}}}],\"scatterternary\":[{\"type\":\"scatterternary\",\"marker\":{\"colorbar\":{\"outlinewidth\":0,\"ticks\":\"\"}}}],\"scattercarpet\":[{\"type\":\"scattercarpet\",\"marker\":{\"colorbar\":{\"outlinewidth\":0,\"ticks\":\"\"}}}],\"carpet\":[{\"aaxis\":{\"endlinecolor\":\"#2a3f5f\",\"gridcolor\":\"white\",\"linecolor\":\"white\",\"minorgridcolor\":\"white\",\"startlinecolor\":\"#2a3f5f\"},\"baxis\":{\"endlinecolor\":\"#2a3f5f\",\"gridcolor\":\"white\",\"linecolor\":\"white\",\"minorgridcolor\":\"white\",\"startlinecolor\":\"#2a3f5f\"},\"type\":\"carpet\"}],\"table\":[{\"cells\":{\"fill\":{\"color\":\"#EBF0F8\"},\"line\":{\"color\":\"white\"}},\"header\":{\"fill\":{\"color\":\"#C8D4E3\"},\"line\":{\"color\":\"white\"}},\"type\":\"table\"}],\"barpolar\":[{\"marker\":{\"line\":{\"color\":\"#E5ECF6\",\"width\":0.5},\"pattern\":{\"fillmode\":\"overlay\",\"size\":10,\"solidity\":0.2}},\"type\":\"barpolar\"}],\"pie\":[{\"automargin\":true,\"type\":\"pie\"}]},\"layout\":{\"autotypenumbers\":\"strict\",\"colorway\":[\"#636efa\",\"#EF553B\",\"#00cc96\",\"#ab63fa\",\"#FFA15A\",\"#19d3f3\",\"#FF6692\",\"#B6E880\",\"#FF97FF\",\"#FECB52\"],\"font\":{\"color\":\"#2a3f5f\"},\"hovermode\":\"closest\",\"hoverlabel\":{\"align\":\"left\"},\"paper_bgcolor\":\"white\",\"plot_bgcolor\":\"#E5ECF6\",\"polar\":{\"bgcolor\":\"#E5ECF6\",\"angularaxis\":{\"gridcolor\":\"white\",\"linecolor\":\"white\",\"ticks\":\"\"},\"radialaxis\":{\"gridcolor\":\"white\",\"linecolor\":\"white\",\"ticks\":\"\"}},\"ternary\":{\"bgcolor\":\"#E5ECF6\",\"aaxis\":{\"gridcolor\":\"white\",\"linecolor\":\"white\",\"ticks\":\"\"},\"baxis\":{\"gridcolor\":\"white\",\"linecolor\":\"white\",\"ticks\":\"\"},\"caxis\":{\"gridcolor\":\"white\",\"linecolor\":\"white\",\"ticks\":\"\"}},\"coloraxis\":{\"colorbar\":{\"outlinewidth\":0,\"ticks\":\"\"}},\"colorscale\":{\"sequential\":[[0.0,\"#0d0887\"],[0.1111111111111111,\"#46039f\"],[0.2222222222222222,\"#7201a8\"],[0.3333333333333333,\"#9c179e\"],[0.4444444444444444,\"#bd3786\"],[0.5555555555555556,\"#d8576b\"],[0.6666666666666666,\"#ed7953\"],[0.7777777777777778,\"#fb9f3a\"],[0.8888888888888888,\"#fdca26\"],[1.0,\"#f0f921\"]],\"sequentialminus\":[[0.0,\"#0d0887\"],[0.1111111111111111,\"#46039f\"],[0.2222222222222222,\"#7201a8\"],[0.3333333333333333,\"#9c179e\"],[0.4444444444444444,\"#bd3786\"],[0.5555555555555556,\"#d8576b\"],[0.6666666666666666,\"#ed7953\"],[0.7777777777777778,\"#fb9f3a\"],[0.8888888888888888,\"#fdca26\"],[1.0,\"#f0f921\"]],\"diverging\":[[0,\"#8e0152\"],[0.1,\"#c51b7d\"],[0.2,\"#de77ae\"],[0.3,\"#f1b6da\"],[0.4,\"#fde0ef\"],[0.5,\"#f7f7f7\"],[0.6,\"#e6f5d0\"],[0.7,\"#b8e186\"],[0.8,\"#7fbc41\"],[0.9,\"#4d9221\"],[1,\"#276419\"]]},\"xaxis\":{\"gridcolor\":\"white\",\"linecolor\":\"white\",\"ticks\":\"\",\"title\":{\"standoff\":15},\"zerolinecolor\":\"white\",\"automargin\":true,\"zerolinewidth\":2},\"yaxis\":{\"gridcolor\":\"white\",\"linecolor\":\"white\",\"ticks\":\"\",\"title\":{\"standoff\":15},\"zerolinecolor\":\"white\",\"automargin\":true,\"zerolinewidth\":2},\"scene\":{\"xaxis\":{\"backgroundcolor\":\"#E5ECF6\",\"gridcolor\":\"white\",\"linecolor\":\"white\",\"showbackground\":true,\"ticks\":\"\",\"zerolinecolor\":\"white\",\"gridwidth\":2},\"yaxis\":{\"backgroundcolor\":\"#E5ECF6\",\"gridcolor\":\"white\",\"linecolor\":\"white\",\"showbackground\":true,\"ticks\":\"\",\"zerolinecolor\":\"white\",\"gridwidth\":2},\"zaxis\":{\"backgroundcolor\":\"#E5ECF6\",\"gridcolor\":\"white\",\"linecolor\":\"white\",\"showbackground\":true,\"ticks\":\"\",\"zerolinecolor\":\"white\",\"gridwidth\":2}},\"shapedefaults\":{\"line\":{\"color\":\"#2a3f5f\"}},\"annotationdefaults\":{\"arrowcolor\":\"#2a3f5f\",\"arrowhead\":0,\"arrowwidth\":1},\"geo\":{\"bgcolor\":\"white\",\"landcolor\":\"#E5ECF6\",\"subunitcolor\":\"white\",\"showland\":true,\"showlakes\":true,\"lakecolor\":\"white\"},\"title\":{\"x\":0.05},\"mapbox\":{\"style\":\"light\"}}},\"coloraxis\":{\"colorbar\":{\"title\":{\"text\":\"Sales\"}},\"colorscale\":[[0.0,\"rgb(103,0,31)\"],[0.1,\"rgb(178,24,43)\"],[0.2,\"rgb(214,96,77)\"],[0.3,\"rgb(244,165,130)\"],[0.4,\"rgb(253,219,199)\"],[0.5,\"rgb(247,247,247)\"],[0.6,\"rgb(209,229,240)\"],[0.7,\"rgb(146,197,222)\"],[0.8,\"rgb(67,147,195)\"],[0.9,\"rgb(33,102,172)\"],[1.0,\"rgb(5,48,97)\"]]},\"legend\":{\"tracegroupgap\":0},\"title\":{\"text\":\"Crunch-O-Matic Sales by Region and Product\"}},                        {\"responsive\": true}                    ).then(function(){\n",
              "                            \n",
              "var gd = document.getElementById('47d4c3c7-e892-499f-a57d-5043dc61c7dc');\n",
              "var x = new MutationObserver(function (mutations, observer) {{\n",
              "        var display = window.getComputedStyle(gd).display;\n",
              "        if (!display || display === 'none') {{\n",
              "            console.log([gd, 'removed!']);\n",
              "            Plotly.purge(gd);\n",
              "            observer.disconnect();\n",
              "        }}\n",
              "}});\n",
              "\n",
              "// Listen for the removal of the full notebook cells\n",
              "var notebookContainer = gd.closest('#notebook-container');\n",
              "if (notebookContainer) {{\n",
              "    x.observe(notebookContainer, {childList: true});\n",
              "}}\n",
              "\n",
              "// Listen for the clearing of the current output cell\n",
              "var outputEl = gd.closest('.output');\n",
              "if (outputEl) {{\n",
              "    x.observe(outputEl, {childList: true});\n",
              "}}\n",
              "\n",
              "                        })                };                            </script>        </div>\n",
              "</body>\n",
              "</html>"
            ]
          },
          "metadata": {}
        }
      ]
    },
    {
      "cell_type": "markdown",
      "source": [
        "This tree map allows us to quickly see which regions and products are contributing most to our overall sales. The hierarchical structure shows how each product performs within each region, giving us a comprehensive view of our sales distribution."
      ],
      "metadata": {
        "id": "4lBIHfeCyfrF"
      }
    },
    {
      "cell_type": "markdown",
      "source": [
        "## 11. Stacked Chart\n",
        "\n",
        "A stacked chart is a visualization that shows how different parts contribute to a whole, while also displaying how this composition changes over a dimension (often time). It can be created with bars (stacked bar chart) or areas (stacked area chart).\n",
        "\n",
        "Stacked charts are useful for:\n",
        "- Showing how parts of a whole change over time or categories\n",
        "- Comparing total amounts across categories\n",
        "- Visualizing both absolute and relative contributions\n",
        "\n",
        "When interpreting a stacked chart:\n",
        "- Look at the total height: This represents the total across all categories\n",
        "- Observe individual segment heights: These show the contribution of each category\n",
        "- Compare segments across the x-axis: This shows how contributions change\n",
        "\n",
        "For our Crunch-O-Matic campaign, we might use a stacked area chart to show how sales of different flavors have changed over time.\n",
        "\n",
        "Let's create a stacked area chart using Plotly Express:"
      ],
      "metadata": {
        "id": "rqZ60EB_yiZF"
      }
    },
    {
      "cell_type": "code",
      "source": [
        "import plotly.express as px\n",
        "import pandas as pd\n",
        "import numpy as np\n",
        "\n",
        "# Generate sample data\n",
        "np.random.seed(42)\n",
        "dates = pd.date_range(start='2023-01-01', end='2023-12-31', freq='M')\n",
        "flavors = ['Original', 'Spicy', 'Cheesy', 'BBQ']\n",
        "data = []\n",
        "for date in dates:\n",
        "    for flavor in flavors:\n",
        "        data.append({\n",
        "            'Date': date,\n",
        "            'Flavor': flavor,\n",
        "            'Sales': np.random.randint(5000, 20000)\n",
        "        })\n",
        "df = pd.DataFrame(data)\n",
        "\n",
        "# Create the stacked area chart\n",
        "fig = px.area(df, x='Date', y='Sales', color='Flavor',\n",
        "              title='Crunch-O-Matic Sales by Flavor Over Time')\n",
        "\n",
        "fig.show()"
      ],
      "metadata": {
        "id": "sCKvO8wVyos-",
        "outputId": "1faf1d04-ce0a-4e83-9433-1b227ff13ee0",
        "colab": {
          "base_uri": "https://localhost:8080/",
          "height": 635
        }
      },
      "execution_count": 10,
      "outputs": [
        {
          "output_type": "stream",
          "name": "stderr",
          "text": [
            "/usr/local/lib/python3.10/dist-packages/_plotly_utils/basevalidators.py:105: FutureWarning:\n",
            "\n",
            "The behavior of DatetimeProperties.to_pydatetime is deprecated, in a future version this will return a Series containing python datetime objects instead of an ndarray. To retain the old behavior, call `np.array` on the result\n",
            "\n"
          ]
        },
        {
          "output_type": "display_data",
          "data": {
            "text/html": [
              "<html>\n",
              "<head><meta charset=\"utf-8\" /></head>\n",
              "<body>\n",
              "    <div>            <script src=\"https://cdnjs.cloudflare.com/ajax/libs/mathjax/2.7.5/MathJax.js?config=TeX-AMS-MML_SVG\"></script><script type=\"text/javascript\">if (window.MathJax && window.MathJax.Hub && window.MathJax.Hub.Config) {window.MathJax.Hub.Config({SVG: {font: \"STIX-Web\"}});}</script>                <script type=\"text/javascript\">window.PlotlyConfig = {MathJaxConfig: 'local'};</script>\n",
              "        <script charset=\"utf-8\" src=\"https://cdn.plot.ly/plotly-2.24.1.min.js\"></script>                <div id=\"589bce53-b974-4f69-8339-27930ec5acb5\" class=\"plotly-graph-div\" style=\"height:525px; width:100%;\"></div>            <script type=\"text/javascript\">                                    window.PLOTLYENV=window.PLOTLYENV || {};                                    if (document.getElementById(\"589bce53-b974-4f69-8339-27930ec5acb5\")) {                    Plotly.newPlot(                        \"589bce53-b974-4f69-8339-27930ec5acb5\",                        [{\"fillpattern\":{\"shape\":\"\"},\"hovertemplate\":\"Flavor=Original\\u003cbr\\u003eDate=%{x}\\u003cbr\\u003eSales=%{y}\\u003cextra\\u003e\\u003c\\u002fextra\\u003e\",\"legendgroup\":\"Original\",\"line\":{\"color\":\"#636efa\"},\"marker\":{\"symbol\":\"circle\"},\"mode\":\"lines\",\"name\":\"Original\",\"orientation\":\"v\",\"showlegend\":true,\"stackgroup\":\"1\",\"x\":[\"2023-01-31T00:00:00\",\"2023-02-28T00:00:00\",\"2023-03-31T00:00:00\",\"2023-04-30T00:00:00\",\"2023-05-31T00:00:00\",\"2023-06-30T00:00:00\",\"2023-07-31T00:00:00\",\"2023-08-31T00:00:00\",\"2023-09-30T00:00:00\",\"2023-10-31T00:00:00\",\"2023-11-30T00:00:00\",\"2023-12-31T00:00:00\"],\"xaxis\":\"x\",\"y\":[12270,10191,11265,10578,16111,15583,10311,9555,18035,7558,14167,8005],\"yaxis\":\"y\",\"type\":\"scatter\"},{\"fillpattern\":{\"shape\":\"\"},\"hovertemplate\":\"Flavor=Spicy\\u003cbr\\u003eDate=%{x}\\u003cbr\\u003eSales=%{y}\\u003cextra\\u003e\\u003c\\u002fextra\\u003e\",\"legendgroup\":\"Spicy\",\"line\":{\"color\":\"#EF553B\"},\"marker\":{\"symbol\":\"circle\"},\"mode\":\"lines\",\"name\":\"Spicy\",\"orientation\":\"v\",\"showlegend\":true,\"stackgroup\":\"1\",\"x\":[\"2023-01-31T00:00:00\",\"2023-02-28T00:00:00\",\"2023-03-31T00:00:00\",\"2023-04-30T00:00:00\",\"2023-05-31T00:00:00\",\"2023-06-30T00:00:00\",\"2023-07-31T00:00:00\",\"2023-08-31T00:00:00\",\"2023-09-30T00:00:00\",\"2023-10-31T00:00:00\",\"2023-11-30T00:00:00\",\"2023-12-31T00:00:00\"],\"xaxis\":\"x\",\"y\":[5860,16964,5466,19423,13322,18803,10051,8385,16096,12849,14998,9658],\"yaxis\":\"y\",\"type\":\"scatter\"},{\"fillpattern\":{\"shape\":\"\"},\"hovertemplate\":\"Flavor=Cheesy\\u003cbr\\u003eDate=%{x}\\u003cbr\\u003eSales=%{y}\\u003cextra\\u003e\\u003c\\u002fextra\\u003e\",\"legendgroup\":\"Cheesy\",\"line\":{\"color\":\"#00cc96\"},\"marker\":{\"symbol\":\"circle\"},\"mode\":\"lines\",\"name\":\"Cheesy\",\"orientation\":\"v\",\"showlegend\":true,\"stackgroup\":\"1\",\"x\":[\"2023-01-31T00:00:00\",\"2023-02-28T00:00:00\",\"2023-03-31T00:00:00\",\"2023-04-30T00:00:00\",\"2023-05-31T00:00:00\",\"2023-06-30T00:00:00\",\"2023-07-31T00:00:00\",\"2023-08-31T00:00:00\",\"2023-09-30T00:00:00\",\"2023-10-31T00:00:00\",\"2023-11-30T00:00:00\",\"2023-12-31T00:00:00\"],\"xaxis\":\"x\",\"y\":[10390,16284,18526,16636,6685,11949,11420,17309,13666,7047,5189,6899],\"yaxis\":\"y\",\"type\":\"scatter\"},{\"fillpattern\":{\"shape\":\"\"},\"hovertemplate\":\"Flavor=BBQ\\u003cbr\\u003eDate=%{x}\\u003cbr\\u003eSales=%{y}\\u003cextra\\u003e\\u003c\\u002fextra\\u003e\",\"legendgroup\":\"BBQ\",\"line\":{\"color\":\"#ab63fa\"},\"marker\":{\"symbol\":\"circle\"},\"mode\":\"lines\",\"name\":\"BBQ\",\"orientation\":\"v\",\"showlegend\":true,\"stackgroup\":\"1\",\"x\":[\"2023-01-31T00:00:00\",\"2023-02-28T00:00:00\",\"2023-03-31T00:00:00\",\"2023-04-30T00:00:00\",\"2023-05-31T00:00:00\",\"2023-06-30T00:00:00\",\"2023-07-31T00:00:00\",\"2023-08-31T00:00:00\",\"2023-09-30T00:00:00\",\"2023-10-31T00:00:00\",\"2023-11-30T00:00:00\",\"2023-12-31T00:00:00\"],\"xaxis\":\"x\",\"y\":[18418,10734,9426,16363,5769,7433,6184,11396,14274,7747,7734,12734],\"yaxis\":\"y\",\"type\":\"scatter\"}],                        {\"template\":{\"data\":{\"histogram2dcontour\":[{\"type\":\"histogram2dcontour\",\"colorbar\":{\"outlinewidth\":0,\"ticks\":\"\"},\"colorscale\":[[0.0,\"#0d0887\"],[0.1111111111111111,\"#46039f\"],[0.2222222222222222,\"#7201a8\"],[0.3333333333333333,\"#9c179e\"],[0.4444444444444444,\"#bd3786\"],[0.5555555555555556,\"#d8576b\"],[0.6666666666666666,\"#ed7953\"],[0.7777777777777778,\"#fb9f3a\"],[0.8888888888888888,\"#fdca26\"],[1.0,\"#f0f921\"]]}],\"choropleth\":[{\"type\":\"choropleth\",\"colorbar\":{\"outlinewidth\":0,\"ticks\":\"\"}}],\"histogram2d\":[{\"type\":\"histogram2d\",\"colorbar\":{\"outlinewidth\":0,\"ticks\":\"\"},\"colorscale\":[[0.0,\"#0d0887\"],[0.1111111111111111,\"#46039f\"],[0.2222222222222222,\"#7201a8\"],[0.3333333333333333,\"#9c179e\"],[0.4444444444444444,\"#bd3786\"],[0.5555555555555556,\"#d8576b\"],[0.6666666666666666,\"#ed7953\"],[0.7777777777777778,\"#fb9f3a\"],[0.8888888888888888,\"#fdca26\"],[1.0,\"#f0f921\"]]}],\"heatmap\":[{\"type\":\"heatmap\",\"colorbar\":{\"outlinewidth\":0,\"ticks\":\"\"},\"colorscale\":[[0.0,\"#0d0887\"],[0.1111111111111111,\"#46039f\"],[0.2222222222222222,\"#7201a8\"],[0.3333333333333333,\"#9c179e\"],[0.4444444444444444,\"#bd3786\"],[0.5555555555555556,\"#d8576b\"],[0.6666666666666666,\"#ed7953\"],[0.7777777777777778,\"#fb9f3a\"],[0.8888888888888888,\"#fdca26\"],[1.0,\"#f0f921\"]]}],\"heatmapgl\":[{\"type\":\"heatmapgl\",\"colorbar\":{\"outlinewidth\":0,\"ticks\":\"\"},\"colorscale\":[[0.0,\"#0d0887\"],[0.1111111111111111,\"#46039f\"],[0.2222222222222222,\"#7201a8\"],[0.3333333333333333,\"#9c179e\"],[0.4444444444444444,\"#bd3786\"],[0.5555555555555556,\"#d8576b\"],[0.6666666666666666,\"#ed7953\"],[0.7777777777777778,\"#fb9f3a\"],[0.8888888888888888,\"#fdca26\"],[1.0,\"#f0f921\"]]}],\"contourcarpet\":[{\"type\":\"contourcarpet\",\"colorbar\":{\"outlinewidth\":0,\"ticks\":\"\"}}],\"contour\":[{\"type\":\"contour\",\"colorbar\":{\"outlinewidth\":0,\"ticks\":\"\"},\"colorscale\":[[0.0,\"#0d0887\"],[0.1111111111111111,\"#46039f\"],[0.2222222222222222,\"#7201a8\"],[0.3333333333333333,\"#9c179e\"],[0.4444444444444444,\"#bd3786\"],[0.5555555555555556,\"#d8576b\"],[0.6666666666666666,\"#ed7953\"],[0.7777777777777778,\"#fb9f3a\"],[0.8888888888888888,\"#fdca26\"],[1.0,\"#f0f921\"]]}],\"surface\":[{\"type\":\"surface\",\"colorbar\":{\"outlinewidth\":0,\"ticks\":\"\"},\"colorscale\":[[0.0,\"#0d0887\"],[0.1111111111111111,\"#46039f\"],[0.2222222222222222,\"#7201a8\"],[0.3333333333333333,\"#9c179e\"],[0.4444444444444444,\"#bd3786\"],[0.5555555555555556,\"#d8576b\"],[0.6666666666666666,\"#ed7953\"],[0.7777777777777778,\"#fb9f3a\"],[0.8888888888888888,\"#fdca26\"],[1.0,\"#f0f921\"]]}],\"mesh3d\":[{\"type\":\"mesh3d\",\"colorbar\":{\"outlinewidth\":0,\"ticks\":\"\"}}],\"scatter\":[{\"fillpattern\":{\"fillmode\":\"overlay\",\"size\":10,\"solidity\":0.2},\"type\":\"scatter\"}],\"parcoords\":[{\"type\":\"parcoords\",\"line\":{\"colorbar\":{\"outlinewidth\":0,\"ticks\":\"\"}}}],\"scatterpolargl\":[{\"type\":\"scatterpolargl\",\"marker\":{\"colorbar\":{\"outlinewidth\":0,\"ticks\":\"\"}}}],\"bar\":[{\"error_x\":{\"color\":\"#2a3f5f\"},\"error_y\":{\"color\":\"#2a3f5f\"},\"marker\":{\"line\":{\"color\":\"#E5ECF6\",\"width\":0.5},\"pattern\":{\"fillmode\":\"overlay\",\"size\":10,\"solidity\":0.2}},\"type\":\"bar\"}],\"scattergeo\":[{\"type\":\"scattergeo\",\"marker\":{\"colorbar\":{\"outlinewidth\":0,\"ticks\":\"\"}}}],\"scatterpolar\":[{\"type\":\"scatterpolar\",\"marker\":{\"colorbar\":{\"outlinewidth\":0,\"ticks\":\"\"}}}],\"histogram\":[{\"marker\":{\"pattern\":{\"fillmode\":\"overlay\",\"size\":10,\"solidity\":0.2}},\"type\":\"histogram\"}],\"scattergl\":[{\"type\":\"scattergl\",\"marker\":{\"colorbar\":{\"outlinewidth\":0,\"ticks\":\"\"}}}],\"scatter3d\":[{\"type\":\"scatter3d\",\"line\":{\"colorbar\":{\"outlinewidth\":0,\"ticks\":\"\"}},\"marker\":{\"colorbar\":{\"outlinewidth\":0,\"ticks\":\"\"}}}],\"scattermapbox\":[{\"type\":\"scattermapbox\",\"marker\":{\"colorbar\":{\"outlinewidth\":0,\"ticks\":\"\"}}}],\"scatterternary\":[{\"type\":\"scatterternary\",\"marker\":{\"colorbar\":{\"outlinewidth\":0,\"ticks\":\"\"}}}],\"scattercarpet\":[{\"type\":\"scattercarpet\",\"marker\":{\"colorbar\":{\"outlinewidth\":0,\"ticks\":\"\"}}}],\"carpet\":[{\"aaxis\":{\"endlinecolor\":\"#2a3f5f\",\"gridcolor\":\"white\",\"linecolor\":\"white\",\"minorgridcolor\":\"white\",\"startlinecolor\":\"#2a3f5f\"},\"baxis\":{\"endlinecolor\":\"#2a3f5f\",\"gridcolor\":\"white\",\"linecolor\":\"white\",\"minorgridcolor\":\"white\",\"startlinecolor\":\"#2a3f5f\"},\"type\":\"carpet\"}],\"table\":[{\"cells\":{\"fill\":{\"color\":\"#EBF0F8\"},\"line\":{\"color\":\"white\"}},\"header\":{\"fill\":{\"color\":\"#C8D4E3\"},\"line\":{\"color\":\"white\"}},\"type\":\"table\"}],\"barpolar\":[{\"marker\":{\"line\":{\"color\":\"#E5ECF6\",\"width\":0.5},\"pattern\":{\"fillmode\":\"overlay\",\"size\":10,\"solidity\":0.2}},\"type\":\"barpolar\"}],\"pie\":[{\"automargin\":true,\"type\":\"pie\"}]},\"layout\":{\"autotypenumbers\":\"strict\",\"colorway\":[\"#636efa\",\"#EF553B\",\"#00cc96\",\"#ab63fa\",\"#FFA15A\",\"#19d3f3\",\"#FF6692\",\"#B6E880\",\"#FF97FF\",\"#FECB52\"],\"font\":{\"color\":\"#2a3f5f\"},\"hovermode\":\"closest\",\"hoverlabel\":{\"align\":\"left\"},\"paper_bgcolor\":\"white\",\"plot_bgcolor\":\"#E5ECF6\",\"polar\":{\"bgcolor\":\"#E5ECF6\",\"angularaxis\":{\"gridcolor\":\"white\",\"linecolor\":\"white\",\"ticks\":\"\"},\"radialaxis\":{\"gridcolor\":\"white\",\"linecolor\":\"white\",\"ticks\":\"\"}},\"ternary\":{\"bgcolor\":\"#E5ECF6\",\"aaxis\":{\"gridcolor\":\"white\",\"linecolor\":\"white\",\"ticks\":\"\"},\"baxis\":{\"gridcolor\":\"white\",\"linecolor\":\"white\",\"ticks\":\"\"},\"caxis\":{\"gridcolor\":\"white\",\"linecolor\":\"white\",\"ticks\":\"\"}},\"coloraxis\":{\"colorbar\":{\"outlinewidth\":0,\"ticks\":\"\"}},\"colorscale\":{\"sequential\":[[0.0,\"#0d0887\"],[0.1111111111111111,\"#46039f\"],[0.2222222222222222,\"#7201a8\"],[0.3333333333333333,\"#9c179e\"],[0.4444444444444444,\"#bd3786\"],[0.5555555555555556,\"#d8576b\"],[0.6666666666666666,\"#ed7953\"],[0.7777777777777778,\"#fb9f3a\"],[0.8888888888888888,\"#fdca26\"],[1.0,\"#f0f921\"]],\"sequentialminus\":[[0.0,\"#0d0887\"],[0.1111111111111111,\"#46039f\"],[0.2222222222222222,\"#7201a8\"],[0.3333333333333333,\"#9c179e\"],[0.4444444444444444,\"#bd3786\"],[0.5555555555555556,\"#d8576b\"],[0.6666666666666666,\"#ed7953\"],[0.7777777777777778,\"#fb9f3a\"],[0.8888888888888888,\"#fdca26\"],[1.0,\"#f0f921\"]],\"diverging\":[[0,\"#8e0152\"],[0.1,\"#c51b7d\"],[0.2,\"#de77ae\"],[0.3,\"#f1b6da\"],[0.4,\"#fde0ef\"],[0.5,\"#f7f7f7\"],[0.6,\"#e6f5d0\"],[0.7,\"#b8e186\"],[0.8,\"#7fbc41\"],[0.9,\"#4d9221\"],[1,\"#276419\"]]},\"xaxis\":{\"gridcolor\":\"white\",\"linecolor\":\"white\",\"ticks\":\"\",\"title\":{\"standoff\":15},\"zerolinecolor\":\"white\",\"automargin\":true,\"zerolinewidth\":2},\"yaxis\":{\"gridcolor\":\"white\",\"linecolor\":\"white\",\"ticks\":\"\",\"title\":{\"standoff\":15},\"zerolinecolor\":\"white\",\"automargin\":true,\"zerolinewidth\":2},\"scene\":{\"xaxis\":{\"backgroundcolor\":\"#E5ECF6\",\"gridcolor\":\"white\",\"linecolor\":\"white\",\"showbackground\":true,\"ticks\":\"\",\"zerolinecolor\":\"white\",\"gridwidth\":2},\"yaxis\":{\"backgroundcolor\":\"#E5ECF6\",\"gridcolor\":\"white\",\"linecolor\":\"white\",\"showbackground\":true,\"ticks\":\"\",\"zerolinecolor\":\"white\",\"gridwidth\":2},\"zaxis\":{\"backgroundcolor\":\"#E5ECF6\",\"gridcolor\":\"white\",\"linecolor\":\"white\",\"showbackground\":true,\"ticks\":\"\",\"zerolinecolor\":\"white\",\"gridwidth\":2}},\"shapedefaults\":{\"line\":{\"color\":\"#2a3f5f\"}},\"annotationdefaults\":{\"arrowcolor\":\"#2a3f5f\",\"arrowhead\":0,\"arrowwidth\":1},\"geo\":{\"bgcolor\":\"white\",\"landcolor\":\"#E5ECF6\",\"subunitcolor\":\"white\",\"showland\":true,\"showlakes\":true,\"lakecolor\":\"white\"},\"title\":{\"x\":0.05},\"mapbox\":{\"style\":\"light\"}}},\"xaxis\":{\"anchor\":\"y\",\"domain\":[0.0,1.0],\"title\":{\"text\":\"Date\"}},\"yaxis\":{\"anchor\":\"x\",\"domain\":[0.0,1.0],\"title\":{\"text\":\"Sales\"}},\"legend\":{\"title\":{\"text\":\"Flavor\"},\"tracegroupgap\":0},\"title\":{\"text\":\"Crunch-O-Matic Sales by Flavor Over Time\"}},                        {\"responsive\": true}                    ).then(function(){\n",
              "                            \n",
              "var gd = document.getElementById('589bce53-b974-4f69-8339-27930ec5acb5');\n",
              "var x = new MutationObserver(function (mutations, observer) {{\n",
              "        var display = window.getComputedStyle(gd).display;\n",
              "        if (!display || display === 'none') {{\n",
              "            console.log([gd, 'removed!']);\n",
              "            Plotly.purge(gd);\n",
              "            observer.disconnect();\n",
              "        }}\n",
              "}});\n",
              "\n",
              "// Listen for the removal of the full notebook cells\n",
              "var notebookContainer = gd.closest('#notebook-container');\n",
              "if (notebookContainer) {{\n",
              "    x.observe(notebookContainer, {childList: true});\n",
              "}}\n",
              "\n",
              "// Listen for the clearing of the current output cell\n",
              "var outputEl = gd.closest('.output');\n",
              "if (outputEl) {{\n",
              "    x.observe(outputEl, {childList: true});\n",
              "}}\n",
              "\n",
              "                        })                };                            </script>        </div>\n",
              "</body>\n",
              "</html>"
            ]
          },
          "metadata": {}
        }
      ]
    },
    {
      "cell_type": "markdown",
      "source": [
        "This stacked area chart shows how sales of each Crunch-O-Matic flavor have evolved over the year, as well as how they contribute to total sales. We can easily see seasonal trends and changes in flavor popularity."
      ],
      "metadata": {
        "id": "VngkveKnyt20"
      }
    },
    {
      "cell_type": "markdown",
      "source": [
        "## 12. Word Cloud\n",
        "\n",
        "A word cloud, also known as a tag cloud, is a visual representation of text data where the size of each word indicates its frequency or importance. While not a traditional chart type, word clouds can be a powerful way to visualize text data, especially for marketing and social media analysis.\n",
        "\n",
        "Word clouds are useful for:\n",
        "- Quickly conveying the most prominent terms in a body of text\n",
        "- Identifying common themes or topics\n",
        "- Creating visually appealing representations of qualitative data\n",
        "\n",
        "When interpreting a word cloud:\n",
        "- Look at word size: Larger words appear more frequently in the source text\n",
        "- Observe word placement: Central or prominently placed words are often more important\n",
        "- Consider color: Sometimes color is used to represent another dimension, like sentiment\n",
        "\n",
        "For our Crunch-O-Matic campaign, we might use a word cloud to visualize customer feedback or social media mentions.\n",
        "\n",
        "Creating a word cloud in Plotly is a bit more complex, so we'll use the `wordcloud` library along with Plotly to display it:\n"
      ],
      "metadata": {
        "id": "dQH3BERuywxK"
      }
    },
    {
      "cell_type": "code",
      "source": [
        "import plotly.express as px\n",
        "from wordcloud import WordCloud\n",
        "import matplotlib.pyplot as plt\n",
        "import numpy as np\n",
        "from PIL import Image\n",
        "\n",
        "# Sample text data (this would usually come from customer reviews or social media posts)\n",
        "text = \"\"\"\n",
        "Crunchy delicious snack flavor texture satisfying crispy tasty\n",
        "addictive mouthwatering savory spicy cheesy crisp crunchy yummy\n",
        "flavorful irresistible munchies snacktime craving delightful\n",
        "scrumptious tempting zesty bold tangy satisfying delectable\n",
        "\"\"\"\n",
        "\n",
        "# Generate the word cloud\n",
        "wordcloud = WordCloud(width=800, height=400, background_color='white').generate(text)\n",
        "\n",
        "# Convert the word cloud to an image\n",
        "wordcloud_image = wordcloud.to_image()\n",
        "\n",
        "# Convert the image to a numpy array\n",
        "wordcloud_array = np.array(wordcloud_image)\n",
        "\n",
        "# Create a Plotly figure from the numpy array\n",
        "fig = px.imshow(wordcloud_array)\n",
        "\n",
        "# Update the layout\n",
        "fig.update_layout(\n",
        "    title='Crunch-O-Matic Customer Feedback Word Cloud',\n",
        "    xaxis={'showticklabels': False},\n",
        "    yaxis={'showticklabels': False}\n",
        ")\n",
        "\n",
        "fig.show()"
      ],
      "metadata": {
        "id": "dYQvdEBxy1dE",
        "outputId": "1593c82d-0161-4ec7-b338-7a07fb3ee12f",
        "colab": {
          "base_uri": "https://localhost:8080/",
          "height": 542
        }
      },
      "execution_count": 11,
      "outputs": [
        {
          "output_type": "display_data",
          "data": {
            "text/html": [
              "<html>\n",
              "<head><meta charset=\"utf-8\" /></head>\n",
              "<body>\n",
              "    <div>            <script src=\"https://cdnjs.cloudflare.com/ajax/libs/mathjax/2.7.5/MathJax.js?config=TeX-AMS-MML_SVG\"></script><script type=\"text/javascript\">if (window.MathJax && window.MathJax.Hub && window.MathJax.Hub.Config) {window.MathJax.Hub.Config({SVG: {font: \"STIX-Web\"}});}</script>                <script type=\"text/javascript\">window.PlotlyConfig = {MathJaxConfig: 'local'};</script>\n",
              "        <script charset=\"utf-8\" src=\"https://cdn.plot.ly/plotly-2.24.1.min.js\"></script>                <div id=\"fac3e832-b9f1-48ac-a3dd-794c84cf3850\" class=\"plotly-graph-div\" style=\"height:525px; width:100%;\"></div>            <script type=\"text/javascript\">                                    window.PLOTLYENV=window.PLOTLYENV || {};                                    if (document.getElementById(\"fac3e832-b9f1-48ac-a3dd-794c84cf3850\")) {                    Plotly.newPlot(                        \"fac3e832-b9f1-48ac-a3dd-794c84cf3850\",                        [{\"name\":\"0\",\"source\":\"data:image\\u002fpng;base64,iVBORw0KGgoAAAANSUhEUgAAAyAAAAGQCAIAAADZR5NjAAEAAElEQVR4XuzddXQbV9YA8DszYgYzM4XJYeakoTZtUk6Zt9xut+233Xa3tIUtMzdN2oapYU4cctgUM4Mki3Ho+0OOLI1BMsZ25nd6euz7nmxF1khXD+5DaJoGFovFYrFYLFb34TADrJ733\\u002fz7TbhuasjyWaG3M9tYrVld\\u002flax5cL88HvGqOYy21gsFovF6ntQZoDF6mMIGs83ncIpZ77pFLONxWKxWKw+iU2wWH0dB+GmyTJ5qGCIYjKzjcVisVisPomdIuxmf1Z+QNP0LTHPMhv6ib55\\u002f2+PfYkZYrFYLBarD2NHsLoTQeN5ppNmQs9s6Cf6+\\u002f1nsVgsFquPYBOs7lRhzcMpFzPaf\\u002fT3+89isVgsVh\\u002fBThF2pyvmbGaoX+nv95\\u002fFYrH6PpqswK0\\u002fkM7jNFlJ004EUyNoCMYdjglmY\\u002fyJjPdlmjISji2k4wBF5NGUBgBFUDXKHcIV3owJZnv3dDTeQTqPYLxxAvXv3nEPl\\u002fFV3PYzgkWIQo4xhldoqgG3fkc6DtJkJQ0EikVgvMlcyQMIFuPdzc1lfg+3fMKTvsCVPEZTGtzyJencR5G1CMJHsGiOYDZX8pS7p6NxFek8gPFGC9TrfX7EVS7jK7jtl1bv0gDQzxKsr4pfrHeUvTpo7SndzoMNf5A0MVQxZUH4vSRNbK35Ktd4goPyRilnzgq7AwHE+4ZmQp+l3XrFfNbgaiBpQs4LSpQMnxS0RMkL9e4G7dZQyDOd\\u002fK38bQB4Mf0HCUfhDtpI86GGP2vtpXWOMjtpAYAya86rl5Z53Q4mB984J+xO7wgAoIARNH5UsynHeLzRVUcDpeAGp0hHTw6+UcyRAQAN9Ju5dzhI2xPJH4UImp7lJZaLP5T+EwAY9\\u002fCt3LtspPnp1M9VvHAAsJOWS4ajV8zZdY4yC2FAABFz5BHCxJHKGWmyTM+toAv3HwAIGj+t23XZeEzjrHJRDglHESfOmBC0OEKYyOwKsLd+9aGGdbPD7pgSfJOFMBzRbCwwnzbhOg7CU\\u002fJC0mSZ00NWePc\\u002f3bhrS\\u002fWX3pG27gZc\\u002fas9m\\u002fqVmKM4pt2UY8xq9SFlqHWUHtdsKbPmmAk9SROM1iB+5JMpnzKCLBaL1RWk86BD\\u002fxDQDk+EJutpsp7CL+G2NaLQLAQNae5N2+yaSTRlao4A0GQNSdaQjl1c8QM82SueOEe0knQeIV0nKbIcxWK9bgEAALSLcGwGAI7wZkYqQzr2Og1\\u002fo2mrJ0IRpRRRitvX8OXvcIQ3efVtRpN1FJ7naLyTpjRNEdpBU0YSDeVe7cMV30M6D5CuMxSeh3LTr4avop3uu8QV3TrwsivodwkWAOCU64R2+47a79zfntTtkHKUGmflBcNhAHBS9sOaDXJucKZ6nucm+abTf1Z+4KKan9A6Z63OWZvduGdp5KPDldM98U6wEabLxuMAwEX5BI3jlBNDOGKO3LuPABN5f+uGIOjXRS\\u002fWOko9EY2zWuOsvmQ8+nDiu1KuCgEkQphUYrlY6yjzJFjltjz3FxXWfM8NDbjGRpqFmMSdXbkoxwcFDzvI5qsFAIy41ohr80wnJwYtmRe+yhPv9P3Xu+p\\u002fKXtD46z2RIy49oLh8EXDkbnhd08MWuLVt5kJ19U5yn4q\\u002fZeFMLgjOLjsdouUo\\u002fLpBxDEj0iXjbWRJithanTVUjTF6NBSpe3KYc36OkeZJ8J4SJu7Alw0HF5f9TFFkwJMFC5McJF2rauGokkAUPPDwwRxUcIU7\\u002f4sjf3k8dqHAGBxfDaCYMzmbuUktYer76aBmBTxo4gTzmxmsfor2mn8O9AOjDeBJ\\u002fs7ykkGhEeTNRReQDh2AYL5ZFcAgIgwwXyarOcIFqK8MSgnmqbtlCvbZfoXRZTg1m85ohUoJ9ndl8Of60JVNNVI2P7kSZ\\u002fz+TkAhGMXTRkBUK7I56MshV9wGB4GGkd5I3nSFzHuCEAwCi\\u002fALZ8Qjr+chmcRVIXxW3mXpIgch\\u002f4+BBXzpM+gvDEIIqLIGtJ5GOVmePpg\\u002fCkoJ5EiinHbT3z52163BgAgHDtpygSAcYQ+d2nA6H8JFgDsrV99W+xLCZLB22q+Pa8\\u002fcESzEUXQBxPfCRXErK\\u002f8KNd04qLxsCfBqrYXra14l6SJaFHq7LA7okWpCKANjvJDmnU5xqwNVZ+IOLIU6Sjf39ABQfzI59O+dX+9rvLDC4bD0aLU+xL+7durFUc1GymanBN25zDFVAlHacK1J3Q7jmk3m3Dd3vrflkU9DgBRwuQSy8U6e+kwxRT3rcqsuXxUKOEqqu1FFE2iCAYANfZiAIgUNV1mPFQwSDbeROgGyyfGijIUvBCcclbaCnbUfqt11hzXbhmpmhnCj3Z37tz9d1L2n8r+pXPWSjiKueF3J4iHCDGp1ll1sOHPXNOJnbU\\u002fKnmhGbJxzJsB1NpLV5e9yUOFSyJvjRGn81CB0aUtspwPE8QxesaLh8SLh7i\\u002ffj\\u002f\\u002fQQPe9CGpHZuqP\\u002fP7kLpZCdPm6i8omhymmLok8hEuygcAjbPqx9LXTLguXjx4SeSjzT+X1ev0zlwbUQ0AeuclNsFiDRg0ZaDJWgDgSv+Gcoe5gwgWg2ExjPk+D778HfCakEEQKcafxleE2rXzAGjSecyTYAHC5Qhvwq3fEPZ1POkzjDEhwv4nAGD8yQgW6R13mf4FNI5yUoWqtYDw3UGUO4iv\\u002fBL0DxGOnU7jy6KQwy2zBdKVjXIzBOp1CCJ2RzAsEuON8e2FcMSrXMZXCfsmnvQfCOozk0DYfwcATDALwZhTSQNDvxyUS5Nlpssy+ahoSvBNAOCkbJnqedGiFB4qGKteAAANjkpP5x0135E0ESqIuTfhjXjxYA7CxRAsXJiwMuaFDNk4Guit1V+5xy16mYtyLI16bHLwjTKuGkVQBS9kXvgq9\\u002fydp6JmlCgZADyjXBRNVtmuhAsTokVpLsrhGaqptZcCQJTw6mUGsCTq0bvi\\u002fm+kcqaaH44hmAATJUtHrIh5HgBooEssFz09O+eYZrPOWYshnHsSXh+umCbjqrkoL1yYcGvsizGiNADYVfszDa2cwlRhyxdikkeT3x+tmhPCj1Zwg2PF6TNDbx0kH8\\u002fs2nGBPKRuV8xnXJQDRdBFkQ+6sysACOZHTQ5eBgAXDIdbvfOszqJP1T9Tbd3NDLdNyc8QcSLF3Gi1YASzjcXqtxBUgaAKACCsvwJtZza3zme5ixvKTUfQYACgKa13nCNaCQA0WUs6j3jHPRF3Bw+KKCNd2QDAlTzsya483EupaLKa8dM8eLL\\u002f82RXbeEKlyOIFGi7O8PzoMlq0nkcALii27zjA0m\\u002fTLDCBE2zy2peuHutVbQo1R2RcdUA4Jkda3TVVtjyAWBS8DIO4pkXbjI9dAUAGHBNkeU8o6kXKHmhwxRTGcFkyXAAsJFmJ2WDqzmTJ8GqdZS6KEekMMkdd\\u002f\\u002fTAKDWXgxXszE3xhI0tzBBnHvpmGd6rtPO6vcDwFDFZM9ImIc7x2101dbaSxhNbvMj7uGjQma0OwTykLoZcS0ASDlqPuoz+xnEjwQAnHLaCJ9FD6yuMLqu1Fr32\\u002fAqZkPb+FjQ7Jjts6K3CrBgZhuL1Y8hPOkLAEA4ttkaxrtM\\u002f6bwHGaXwCBYEAAA+CweRTlJGG8UABC2P7zjhH0dAIWgao5gjnecws+6v8B4rUw4oNx095gT6TrDbAMARIDxfFb0tg4RcUQrAICw\\u002fQJeH1xx2x8ANIJFYvym+ZmBp18mWJ4VQiiCuocfpBylO8JBOABAA+1eslNhK3DH48WD3F94CxPECTAxeGUqvSlW3DxR7eFZJ+QulyDlqqRclY0wmXAdAJRZcwEgUpjkzqU8d7vGXgK+I1htcSdYgaxnaocJ1xlxDXjltd7U\\u002fKYJnXpHuW8LAAAX5cWKWvlbdItAHlI391PIShgYg5fuxxlFUF7PpIDXpwZbFjPEYl2vOKLbBarvUU4aTelx6zd27QK7ZhZu\\u002fc57jTkD6TzqMr3u0K20a6bZ6kfa6jKstYkUnsfsBwAAHOFKACCcu2nK6AkS9nUAwBHe1GKLos79hXs8rKWr42QNzAYABFUBBLQWkyu+GwCliFKvkTDaPaA1UJe3uzFnVfsFDsJjRLAWo1PuTNlKND3DJFczMAYpR+EgrWZcz2zoedKr+xDbFyVMzsNP1jrKZFx1uTvBEiXJuUEchFthLQAAC2EwE3oFN5ixMr3YcuGKObvWXmYitA7SilMuksbJ7pgMNeGN7i+2VH\\u002fJ2Ojnzb0nkUGEyVCkpy6nAB9SAEiVjsYQjKDx\\u002fQ1rZ4be5h7wsxLGo5pNAJAsGclFmc8xVmfRDfbjzBiLdR3D+DOFwTNJVxZh+5N07KSIQpfpddzyBV\\u002fxAWM4hyZrHPpHKPw8AADCQ7EYlJMEiARBBKTzEE238hrLES5ymf5F0xbCvokrvhsASNcpiigDAI7oVkbnALSzWKKVeZJWIVgMJphJOvbgtp\\u002fd\\u002f0DSeYwmqwE47sGtgapfJlitzn+1wU\\u002fPdp47LXVLduLhXp\\u002fuV6QwKc90st5RniodVWHLl3AUKl4YAEQIEyts+Wa8sc5RDr7zg0Zcu7bi3SpbIQBwEK6SFxrMj+ajQi7KKzSf954p66ymhw0BBEHafIRbfWw78rfrsAAfUgCQcdVzw+\\u002fZUfPtoYZ1lwxHQwWxLspRZbvipOxybvANkQ8yb9Dd9M5LpcbfG53n7YQGARBwgoWc8BDhhAjxTDG3aceo29bSTASQhfFZDqKhQP+1xp7lILUYIpDzU+OkN0dK5np3BgArXlVl2aGxnzTjxThlxhC+iBMZLMxMlN8l5LS5ktTozCs1\\u002falznHOQDRSN8zGlkBMWJMyMkSwRc6OYvX05Sf3x2gdNrkI5L3VC+Fc8TAEAdqK+0PCd0VVgchUSlA0Achs\\u002fzm382PuGi+JPor7LPnJ0HxQZf\\u002faOTI9aJ+MleUcAYH\\u002fVTRTtmhW95bLu\\u002fXLzRh4qS1M9Hi1ZaHDmnte+YXaVyHnJw4P\\u002fT8ZLYdzQRRmLDb\\u002fU2Q5Z8SoAEHOjI8QzE+V3cFA\\u002f60hYrG6H8cZjvPFA\\u002f4ewb3JZPqbJGqf+YWHwHu9F6A79oxR+HkGVPNnrHMFc72VSds10mmglwQJEiAmXELbVhP0Pd4LlHr7CeGNQTgKz79VNizRVj2CtXOk02QBe3TqNK7qHdOwhHftosgbBIppW3Atmdv0n92X9MsEKnGfq0Iw3Knit\\u002fCHdY1dSbuvjWwy2q+NhvcmdOTU4yo241koYPYvBY8XpFbb8Knuh1lkDXlsIAWBtxX+rbIUiTHpDxIPp8rHei88+uvKY09nVBMtTA+y22JfSZGN82vqP8eqFXIS7ufoLI64x4A0chKfkhabLMicGLXFPHPecMtP6C9p\\u002fu1NQDBHQQFjxKitepbWfdpCaIeoXGP1J2llvO3K24RWcMiMIhgIHp8xa+xmt\\u002fYwJL0pXPubpaSfq9lUupsE9BYxwUBFBWU2uQpOrsNK8bXLkTxJunKezGw1Uju7DYuMv3kE7UW8n6hsdFyLFzASOwZNdKfiDJoR\\u002fwb26S8hFGRod5wFAzIky42UU7RJgQXysabr2KuZYplow0knpXaTeQWqNzvYm7m14daHhx2LjryjCsRG15xpeFXHCTtU\\u002fS1BWiib0zsun6p+dGb0Z8foVBmfOibrHnaQemh522uS6YnJdqbRsGx\\u002f2hd888vrxzxd+P3u69OEn5yxcOpLZxup2iJAjuhXjT7dpptG0lXDs4YpXuVsospzCzwEAT\\u002fo8R7jY+0YAFE1qfCPNuKKVhG01hV+miEKUE086dkKL5e1unk1\\u002fpOsER7jctxEoPMc9SIbxuvpMwPgTUU4KRVwh7H9wxA8Qjt0AwBXdzuw3sAzwBCtWnOb+otSaM6JFglVrL3EP53ivJXLPP1pwgyfiUWUvYoaYEADo3g1okcJkBBCNs8pdiyFW1LTMKFqUBgDV9iL3hJ1nAVajq67KdgUAZoXdPkQxyR10o4H2t7w9oPuv4IXIuGoTrqu0FfTfBEvrrN5d94uSF3pfwr\\u002flXPdy0d5AUNbLuncB6ET5HcmKe\\u002fiYmgbKSWi1juxa6\\u002f442c3MGwAAwOn65wRY8KiQt0KE4xEENeNlFzRv6BxnC\\u002fXfxUqXijhNH3mFnLAoyXwepggXz1DwB2GIgKBslZZtl3XvuihjXuOnY0Lf8\\u002f3BkN\\u002f4uTu7ChVNSpTfIeelowjXQdbrHOfMrtKWo0fePNmVSjBsfNjn3uNAcl7qtKimZbb7Kpda8LIE+W3Jins9HVoVJp4WJp4GADaiZk\\u002fFAmazFxqoUtPamdGbhJzQYzUP6J2XT9Y9GSTMHBXyloOoP1i90opXGp15Cn7Tgj8nqXVnV8HCcYPVz8l4SQB0o+Piee2\\u002fzK6SU\\u002fVPT41cgyID\\u002fPUwEDhOZh25AgDHDxewCVYPoFp+rgAABAtDEDFN28F71o+6uioLVTQHAQCAsG+kaTMj6IFyh6LcDArPJexbMN5ImjIiiJQjWMjsB4BgERh\\u002fKuk8hFu+4AhuAETg1Ui7LB8BAIKFYbxuWIfOFd\\u002fjNL5E2DcjWALQNgSLHsDL291a+UsPJHJucJJ0BAAc0WxgnLJHA32g4Q8AkHHVSZLhnriSFwIAJdZLjNLeRlybY\\u002fSzlMRdkFPvqvebowROgInU\\u002fIhGV31TgiVuKobrroZQZy\\u002fVOWtQBPUUT3dSTVt\\u002fhZjU\\u002fYXHBf1BB9ne8FXg93+UchYAnGrc2eiqZbYBQJfX0feCw5r1dtIyIWhRb2ZXAGAlqknaCQBpykf5mBoAEEAFnJAoyfwxof+VcuOZN2iCjA\\u002f\\u002fIlQ0CUEwAETKjR8d8jaK8Gig6m1HvfuNDPnPYPXzasEoDBEAAAcVxctuiZPdAgAa+ynvngBgJ+oKjT8AQKz0xnFhnwYLx\\u002fEwOQcVSbjxsdIbB6ufZfQHAAAEQVDwyq6CBKPGh33R+7NsMdJlEm4chgjjZMsBAKcs6crHMYQv5saoBSMBwOwq8XQu0H\\u002ftJPUSbvy4sI+vZo2ISjBsbOhHCKAmV2G15S9P5+sZl4uNn5wiFPKmz+6pzSjXM8Kxy6G7Ebd+Q+EX3avaadpK4Redhr+5Cy545xwoJwEQEQDglq9ostIdpMkal\\u002fltp\\u002fHF9usjuJdbkc69hHv4SrgUkNY37rhLLVBEkV23knSdANoJQFB4rlP\\u002fCOnYBQA82WvQyirnDuMIlyGogiJKCPtaaFre3oMrRvqCgf+JbUH4vV9an9c4q34ofXV22J1NhUadFYca\\u002fswznQSABeH3YV6fXNNlY4stF\\u002fSu+t8r3psVdruaF4FTzhLrxV21P\\u002flNO2JEaSd1f5lw3Y6a76aGLBdz5DjltBAGLsr3TFZ2QqQw6YLhUJHlAg8VhAma3oDFHJmaH17nqCBoVzA\\u002fmoc2ffII4kXyUIGLchzVbIwUJrrPAjLi2pO6v45rt\\u002fBRoScDaynw+z8peGmuKaveUfFl0QuTgpcmSoZJOUoHZbPgeo2zOs90UspR3hT9pPdN+hobYQaAIvP5dNlYGVfdo4vDvIk44QiC0TRZYvotRXFfgC8xYaKpEm6sd0TACZFwY0yuIhtR4x1vVZBgdInxN5wyUTThPU5TZfmLpkkMEQxSP+3VvT0cVASAeLKrYOG4sWEfYS0q6PQCGa\\u002fpQ4V7AA9DhFJe0xITPhYEADjV9BGfBqrSsh0AEuQrUN8tMmJutEowTOc4V2vbHy1d5N3kF0WTdY7yBke5xlnd6Kq1EEYrYbCRFpLGCQonaQJDOFyUz0G4XJQv5shlXLWMo5Ry1UH8yDBBrIIX0mvPug7517sDed3xtUaTrmx36amWeNLnUO7Q5u8RAU\\u002f6rMv0BoVfsDVMQlAZTbvcZ+zwpE\\u002fTtAO3fNHc2RdHsNRl+g+F57nrmrY6P+iGcpL4qu+d+oco\\u002fJxDx\\u002fjTc3jy1ziC+b7BzkKEHOEK3PoV6TwGwOGIbmF2GHAGfoIVzI+6M+6V38rfrrRd+b7kVe8mFMEWht\\u002fPKHE5WjX7kvFouTU3z3TSnYG5iTDpnXGvMH4CwyD5xOPardX2ohO67Sd02z3xueF3Twpa2tyvg6JEyRcMh6psVxIlw7y34MWI0s7pDwBAmrR5no6L8maG3vpX7Q\\u002fV9qIPCh4WYGKSxt2jdzNCV+KU64hmg6czQ+D3n4cK7o7755qKdyttBXvqft0Dv3q3AsAQuc\\u002fsZEeVWC6d1O1wUDYnaXNQVhOhA4BTup0FptN8TMTHRAJUND\\u002f8HnfZs84ZrZp9xZxdYD5TkN9c4oWDcOW8oBTJyCkhyz1LzQJB0uQFw8Ec4\\u002fEae4mdtHAQroyrihMPHqueH3q1bJsbF5Umye8sNPyY1\\u002fhppXlbnGx5lGRBi8VJTCqB18vuVXxMDVBEUk5mQws8zJMfk95Xvd55EQBUguFclDne2RYOKiYoW1bdoyZXYahocmbo+4yUpdfw0KZ\\u002flHvwjN\\u002f8bwR3EkldLRFkdhURlBUAlPwhnj4eYm60znHOe7irfWa88bLxeIH5TKWtwPsArpYIGidI3P11o6vOtxF4qCBEEB0jSosTD4oVZ4haDDmzelrgl213wfhTebLXSOchiiikKS3QLkD4KBaO8kZzRbej3OGM\\u002flzx\\u002fSg3A7d8RREFNKlBUDnKm8AV34vxJ5OOXU3PrdYgqIwjWEDYN9CUHuUOQrmDmT28YLxxwuADuPV70rGHIisAKBQLR3kTueL7Wq6L7wqu+G7c+i0AyRHMbqswxEAy8BMsAIgTD3oq5bPjuq35ptN6Vz0NlIyrThAPnRC0yF1Y0huGcFbFv5al3XbZeEzrrKZoUspVpUhHTg25WcpRCjFJq9UH3DAEuzfhjSOajbmmE3pXHUVTQkyi5keE8rt0rXrWVzHqPMWI0t0JlvcWQgCYELQ4TBB\\u002fVLux3lFhJQwCTJIgHjI+aFGiZJh3ythSh+6\\u002flKt6IPGtXGPWBcPhanuRjTBxUK6Uo1TzI9KkY9JlY5k36AidqybXdIIRdFK2Bq8V+tNCbul0goVTzkZXnYwb5C7o5UHQuM5Zm+XcnmM68WjS+4zKF20x4tpfy\\u002f7jfQYiSRPuYxDPNO6eEXrrtBCflVUZqidFnKgC\\u002fZcWvOyy7r2cxg9DhZMT5bcHCdtc0MZrLwPzGVilabLWtr\\u002fBlmVyFTlJLU5ZKNpJ0a2\\u002fFDtJHQB06CwaDOGfrn\\u002fO6MwDACV\\u002f0LXKrgCA8atbuydNj4yDbCr2c6i6zUW1uO95uq0qsVw6ot1YbD7vdzA7EC7KUWUrrLIVHtduRQAZrZqzOPJhZidWj+noZdstEETMFd\\u002fDFd\\u002fDbGgbxpuAqSYwowCYYK44vJwZ9cJXfMhXfMiMtgFBVTzpc9DiBMNW8aTPtTzrMDBNQ7acgb683Q2h6W54pWCx+hEHaf2q+EWts3qEcsZo1Ww5N8g9R0zTlIOyV9mubKv52kU5ZoTeOj3E\\u002fyA2SZNfF7\\u002fgrvXalpuinxyumMYIUrSrxrqvwrxJaz\\u002ft3vcXLp4xKuQ\\u002fmO9Sia2lmRTtGh3ydqRknnccAI7XPqSxn4yXrRga9JI74l6vbcHLAYCPqSTcWB6mwBAhTpncS7UYlREOV9+pd16Kld44PPj\\u002fPMG2eA57BgAlf7DeeRkAGRP6boR4tm9HJvci9wzV3\\u002fwucvfwLHJvq0yD2VU8JfJnJX8oABicuYeqb5Nw42ZGb3J3uKD9d5lp3SD100nyuwGgwXYsq+4xAOCh8rYm5XioYmb0Zmb0qgZn5ZbqL92F6HrI\\u002fPB7JwR1bI6S1Wmdvmz7tUv6TUcbvpwa+rcMRXs7SHqOy\\u002fwObvkcxWKFIYcCXB3Rr10XI1gslrcTuh1aZ3WUKOXGqCcYTVKAYH5kgflMjvF4yzmdVl00HG7\\u002fZRoA9tT9OlQ+hVFhFUV4UZL5UZL5NqKm2PhLqfH3Wuv+HN2HQ4P+4d0tcDRQ7uxKyksYEfy6kt88KaCxn2CshXdz16xykA3MhnZlhr4fLp55SfdOiXHN2YZXRBGRCr7P2Gpf45mBnRL5C6PMWCCOabfsqfu5e8vgteT3yPnaav2mP0+dP1NWV2PAcUKuEKuCJGkZEeOnpA4fFc\\u002fhND+7ls97z2S0r932tFDEW\\u002fvTsSMH8hrqjHwBNy0jYsnNmZkTmAkrAGzbmP3xuzu8IyvunHDfozO9I61qqDdu25B97kxpTZXeZnVKpAKFSpyaHjFmfNLUmU3PileeXXPqeNGgodEffrXK58ZXffLfHVs3ZIeEyn\\u002fZ8ASC9sb7bucuW62zeG3pA4+k7sRaGS69Zjp0rzCEg6HdsGK9E2iynrD+BAAccaBrT\\u002fs7NsFiXXfcmVNbS6womtI5awBAHtj840XDYWaoBROuK7flxotbXwYh4kQMUb8owIJyGz+ptuzqdIJldOa7x66GBb3inV0BgIPUen\\u002froeQPqrcd0TnOkbSdMXLWjjDRNAAYrH7eglc02I6drHtyatRv7R4a6H4xvWaD5VJeMgcVEZRN78zpUIJFA725+ovsxj3Mhu6m5IUG8SOYUS+ns4pef+lPp7N5a7NOa9ZpzYX5tTs2n1u96UlVkMSrOwBAzoXKH78+WFne9Kd3uYjTJ4pPnyi+bdWkVQ9N9+0L0THqCVNSTUabQW+rqWqkqID+WJv+PP31J3sIvDn1NBpsRoOtvERjNNg8CdbSWzJPHS\\u002fKuVhZUlifkBzq6ezmchEHducAwPzFI3onu4LOXraV1tYXp19bgd+rIcqlQ5RLmdGeRFN6BBECoCR+yWV6maatKCdhAJ\\u002fuzMAmWF0y7tcv66yWx0eOe25MZ9Z0P7Br49GqilfHT7stYxizjdVj3IeFF5qzs3TbRyimecqKOilbuTX\\u002fqGZTnaMMQzgtz41uVZW9kBlqTZWtsK0Ey839xk\\u002fQNgC6cx\\u002fv3AXTwT0R5oOuMG\\u002fxjTSJlMwr0H9NUNa8xs\\u002fbKMrQJgTQMSHvHq65y+wqPln35KSIH9raS8hFJQBgxauZDb0FRThRkgVlpnWFhu\\u002fDxdPdBSwC8VfNd72QXQFAinQkM+SFpuHDt7c7ncTw0XH3PTozNi6Yw8U09cayEs2xQ\\u002fkYhrbMrgDg3Tc2K1Xi1965ZcToeL6AW1bS8O2n+86cLP7tx6NpgyLHTUrx7jxsVNywUXHur+9c9nF9ndG7tVU7Np\\u002f9\\u002fIOdABAaJr9x5bghI2LkcpHRYK0o02YdLZyzoHlbxqjMxOjYoMpy7Zb1Z576+8LmHwEAAEcP5lssDhRF5i0ezmjqOZ27bCusp70a+4q+ea\\u002fcnMYXSMduz7cIIuErPuuWog\\u002f9AptgXTMuktxTVgwAu8uK2ASrN2Wq5+cYsyps+Ttqvt1R860AE3ERPk47PUXC+KjoxugngvlRvrdrBU65HKSVGW2NmWh0f1Fh3qx1nAkXTVcKhgqwIACgaFznyHYfIxMsHNu57AoApLxEBFAaqELjj8OCXnGnOxa8PLfxf42Oc8zeAAAg4cbFyW4uNf1ebPzFQdTHy1fKeCkIoE5SZ8aLG2zH42Q3y3g+Wyi8cVDxuLBPDlffbnDmnm14ZUzou63eeaVgqN55qcqyPUI8M1g03n0nnWSj+5\\u002ffO9KUD9dZD5pchUeq705VPqgSDOegEhepd5ANOse5Wuu+EcFvMAphnNXvy\\u002fLaS9uj2p8fNJvs2gYTANy+anJqetNAV3ikMjxSOX6yT57kjcDJNz+8LSqmaSA2ISn09f+ueGTVN+Ulml+\\u002fP8xIsDrKanF+8+leAEhMDnvv87vEkqbcOjhUlpQaPmOuz25NBIGlN4\\u002f55L2\\u002f9u26dP\\u002fjMyUSnwR319bzADBuUoo6qJf2UXb0si007b9s2KZ1FjlJCwB8UdC8GnK0+o5xwT4rCy2E5pT253LLSQdpEHFUCZJJY4LuEmAyAHCSlm8KFy+MekPrKDnbuFbBi5oX+U+Ccu6u+beVaBykWDg++H73D8kz7txX++4tcV\\u002fYCP1p3S86RwkHFcRJxk4IflDEaZrvDvxeNTgK\\u002fih7xPPttLCnByuYq\\u002f0KTHv21Ly1PPZTF2U9rf1V6yyigQriJ45W3xEnGefds8J6Jlu3usFxBfet+DNCdcvEEOYuDRSLptAQmmpEUDnGn8iVPN292xL7ODbBumZ4GDY7LvF4dcXipHRmG6sncRDuvQn\\u002fvmA4mGPMqnOU2QiTk7ZzUb6KFxYiiE4QDx2unCbEWhkSaAlvd5e+N9fVYgokba80b600bwUAFOGjCMddQQAAhJywIeoXPTfpKD6mTFLcVWj4sdK8tcayV8gJc5GNLsrIQcUTwr\\u002fOqn2UpH1eEN0Gq58naXuFeUu1dXe1tfmzplukxE8JHBEnIjP0w2O1D9ZY9+Trv0hTPsrsAZAkv7PKst1FGrLqHkMRHopwScqOIvwb4rO8u9XbjtZY9xCUFafMLlLvDmY3\\u002fJ2PqTmomIOKgwWZHS1V5cHHgiaEf3Wy\\u002fimjq+BUfatjdZT3NwZcs6PmO+9Iz+Eg3HixT0bCIJUJpTKh2WTftjE7bVAkXxDQAMCQETGe7MqNw8UW3zj6k\\u002ff+upJXq9Oau5LQHDuUb7U4AeCJ5+d7sqt2zF4w7Psv91stzt3bL9y4onmLcX2d8Xx2KQD0ZtX4jl62AkweIx4TIx5zvvFPO2kYG3wvCpi7Q7jQZ1ha7yrfUP60gzRGi0fLuGE6Z8kF\\u002fYZy66nlsZ+6cywAyDFstxDaaPGoEvPRI\\u002fWfmvEGFT+OBipb91ukaGiMONPz07J1v5VajkeJRqUr5mkchfnG3bW2y7fEfcnHJNCRe6XgRS+MesNOGEstx0otPhcdw\\u002fnGP4vNh8NFg9Plc414bbnl1Laql5dG\\u002fzdK3PTXKbNkbat6RcYNGxt0D4Zw8ow7GxxXQgVpo4PuCBG0krLzZP\\u002fHk\\u002fnfQDNQsQnWtfTN3GXMEKtXYAg2UjlzpNL\\u002fGt728bBA1y0JUJH7iwjxbBdp1NpPWfByF2UiKTsXlUq48WHiKfGyle7ZtE7LUD2l4A8qMf5mwctsRLUAU4eLZ6YqHxRywpT8DK2jlbUaKMIZEfx6tHRJhWlDo\\u002fOCg9AAAA9TirlRocLJLXfwtaQSDB8e\\u002fM+zDS8X6L+WcOOjWuRkQk7Y1MjV+fovtfZTDlJL05iIG8lYJQYAeuflCjNzH5\\u002fJVQRQ5P6apslOJ1gAIOUlTo9aV2HeWGPdZ3IVEpSFi8oFnGAVf2iEeJbYd\\u002fhqb93qdkrytgUBRMyRizlyPirEEC4FJEG5CNrlIO0WQs84HMIjTjKYi7a3PBlB4N5HZnz0zvZD+3LPnSmdvWDYzHlDklLCmP18JSQxVzsBQGpGU2GaksL6riRYuZeqAEChFGcM8T\\u002fQCwACIXfuDcM3rD25df2ZZbeM9ZwRv3vbeZqG0DD56LGJPjfoSR29bKPFo6LFowAg37jTThpGqm5pazn57po37aRxcfTbMeKmkisntT+e1v58XPP1jLDn3JE6e85diWt4qOjP8sfKLCeGKpdOCf2bxlH4e9lDVbbz3glWsfnooui3Yq9GDtb977JhS3bjbxOCH4SO3CseKoqXTAQAJ2VpP8EqMh+aHPrYMOVN7m8v6Tcfqv\\u002fobOMfngTrhPYHFEGXxrwn44YDQJp87k\\u002fFtxnwqlhxJnvSVEvsI8JidR4H4bZfGs1DwWtaA87H1KnKh1KVTfUO\\u002fFoUf4oZumpC+FfMEECEeHardRMmRrQ3HhMkGBUkaG+WCgCChWOXJJxnRgEAIFqyMFrCXFvjTcSJHBn8BjPqK035cJqSOcXQqhlR672\\u002fVfAzGHdsWNArw4Je8Y64YQg\\u002fXrYyXraS2eBL46wOZBG0GwJItCg1Qz4uVpQRImg+U6ElG2k24Tqts7rBUalxVlXZCw2uBvA3P+i2cOnIoGDp91\\u002fsLy1uWL\\u002fmxPo1J2Ljg+cvGTF\\u002f8QihsPW3Vam0lTRCoWpK9E3GDqeP3hp1FgAIi1AwG9q2ZPmYjX+cqq5sPHuqZNTYBACgadi9\\u002fQIAzF8ysteWt0OnLttA1NguahyFidLJnuwKAEapbj2n+\\u002f2Kcd\\u002fU0KfckWBBCg8VAUCoILXenhcnmQAAKn4cAFhxneeGABAuHOzJrgBgbPCqHMPWAuMed4LVExS8qGHKGz3fZigWHq7\\u002fWOO44v6WpHGto1jJi3FnVwDARYXhwoxSS5aF0HiCLA82wWJ1A4omPy58gnHao5gjfzTpfe\\u002fIgBQlSi40t77CyVuceBAzxOqrTjfuDLCUaJJk+LzwVQFW\\u002fRZhUhEmDRPEwdVNCBbCUGHLjxa2MrfS0tiJyWMnJl\\u002fILtu9\\u002fcLRg\\u002fnlpZov\\u002f7f7j1+OP\\u002f\\u002fqEne+wkCSPpOebp66h54xpM5xF1Ds0A8Jj1SOm5icdeTKlvWn3Xf43JnS+jojhqHzbhjO7N3DeuKyrbadB4AIYfPqfgDgoHwpN1TvqjC6qsScIAAQXT1ygIeKAUDCCQIADOEigJK0z0soY9JNiCkUvGi9q8JG6EVdOHutHZGiYd7LKDGEI8Dkrqu7Z2igAGjvk+Xg6qkJRADnSVyH2ASL1Q0qbVd0zlpGkOrhukF9xDDFVL+v1DGitDBBHDPK6pNImrwQ2PDVjNCV00NWMKMdIeEoMmQ+K4j9cm\\u002f3+9sLC\\u002fbturT6hyOaetPr\\u002f\\u002fjz69UPh4Yxto6C0dj0vujN0Ni04E+maBrK6hyFUgwADXUmZkO7lt6SmXXkyoljhQ31xpBQuXv4atyklFZ3QfaonrhszYQGAI40fHak4TNmG4CTsoqhKZe6GkN8vwVGWi9ocXqSkKPQuyrspKGHEiyh13lTbgiCeAqscBC+khdtcFXZSYMQUwAASRN19jweKpLzmqaeWd6uWYK1dOPq\\u002fEZN7r1P\\u002fpp7\\u002fpOzJ3CSXJKc\\u002fur46ThFvnJk787SQgGHc0vqkBfGTvak0+3URNhdVvTgrk0AcPrOR4JFYnfQ3f\\u002fobQ8ECcVfXzy9o+RKpclA0nSkRDYjJuGREZkqQZsvMTUW06+5F45VV5Qb9RbcJePxg4TioSFh06Ljb0hMZXTmIKiTJL6+cGZ7SYHfX7E698LLR3w2fj8yPPPFsVO8IwxOklide3FHSUGhXmfD8SCRaGx41H1DRg8JbmWNBQBUmIw\\u002fXs4+Xl1RaTY6SVItFIWIxMOCw+fEJU2IjOGgKPMGXVZsucAMXTeGyCdlabdV25vWCbXEQwWLIgOdEGRdcxW2PBvhP28YrZrdxeyqK\\u002fgC7oIlIzMnJN9zy2d2myvryJWlNzdPS7kVFTA\\u002f8wBAXk61+4uExNZfPQKUNihy17bzOq256Eqd39VgHiNGx8cmBJeXaHZtu7D8tnHHD+cDwMJlvbe83aNnLlsaAOIl4xW8aGYLgJhzdcNBwON+rQ2jtox0JxRpWibfltFBd+6peXNz5QvDlTehCDfP+JeV0E4IftA7TWR5XLMECwAcBPHj5XOvH9\\u002fv\\u002fvany+dCRJJCvXZTYR4AWHHXF+dPRkqld2QM975VR52rr\\u002f3s\\u002fMl8ncYTKTY0FhsatxUXbFp2e6i4lU9OP14++5+sQzjVPADT6LA3OuxX9NpGu61lgoUgyLKNv+XqGjyRdn5FgkI5Jy5J77DrHPZyo570d1RRhcl4z1\\u002friw1Nm\\u002fwBoNZi3lSYt7kw7x\\u002fjpz0wdLRXXwCAg5WlD+\\u002fe7CCal9PWWy31VsslTf3a\\u002fIvHb38o5GoC2o2u5wQLRbDbYv\\u002f+a9l\\u002fah2lzDYAGVe9Iua5Dn0OZl1bRebzzFALYo58XvgqZrTH0BTd6hKloGCpSMRzOnC7rZUJmvycakb2Q+Dktg1nACBtUGQXB40mTUv76uPdDjv+6Xt\\u002fvfPxHQFubASAZTdn\\u002fu+d7Qd2X46OUTvseFiEYlRm7y1v9+iJy9Y9AxglHulZJM7grqcQODtpYERshB4Aemj4KhCpsllGV\\u002fUp7U8H6j4AACU\\u002fdmb4C+ny5goRLG\\u002fXMsECgPdOHflm7tLxETH\\u002fPLZv\\u002fZWcL86f5CDoxqW3p6iCnj2wY2dp4ebCvC4mWC8e2kXQ1ItjpyxNTg8RSWotpp8un\\u002fvm4plaq\\u002fm900f\\u002fO435zFiTd\\u002fG1Y\\u002fsBIFIqu2\\u002fI6LHhUSqBUOewFekb95YXL09tZUr+q\\u002fOnAv8V4yNixkfEuL+e+NvX1eb2PitbcdfdO9aVGvXBIvFLY6dOiIxR8AXFhsaPz2btKi38T9bBaKl8Xnyypz8N8NKh3Q6CmBAZ8+LYKclKNQ\\u002fFaizmgkbtrrJCDoL0RHblpGwBVu0bqGRc9UNJ\\u002f71gOHjZeKzWXmonzRyEHyyIGiQbn6me186qZ1YfVG7LY4ZaGKdeyL+6LbQXHD2Uv37NicnT04cMj42OVQtFPLvdVVmmW7\\u002fmhL7RCgCt5igIgrz67NqHn5w9elySUMQrL9V888neijItANx+z2Rm7w6SK0R3PzDtq4\\u002f35F6qenTVtzfdOjZjSJRYLDCZbA11pgvZZQ4n\\u002ftSLrex7mDlvyHdf7K+q0P215RwALFgyMuABnW7WicsWQ\\u002fkAQNJEq\\u002fv1IkXDT8PPVdZzbSVYHVVvz\\u002ff+1kboja5qCSfYPT3n0f696l46Z+nZxrVjgu4aG7SK2cZq4RonWLPjkmbHJQHAoyPGrr+SY3G5Hh85bkRoOADcNWjEztLCQr3PropOsBH4hzMWLEvOcH8bJZW\\u002fPH5amUm\\u002fp6x4b3mxb18wu5xvnjgEABnqkN8Xr5Dy+O54uEQ6OCh0aXLrBas69Cs65JsLZ0qNei6K\\u002fXbDLcnKphHmQUEhX81ZsnzzmjN11W+fPDQnLgm9+hJlcNhrrWYAeGLkuGHBTZ9cY2TyGJl8dlwrL8HdosRy+TpZbtWO7qr7wLrm6h3lzFALwwOr8t9taMi9VOWujNDSqoemp6S3soHrrvun\\u002frX1\\u002fH9e3cCI37Zq0tiJzZ\\u002fKAOD8mbIt609bLU6r1WG1ODUNJgDYuiH7xNFCsZgvEvPFEv5DT84JCvZZEnTTreOcDvynbw9Vlmv\\u002f9\\u002fZ27yYAGDE6nhFx4wu48xYN\\u002f3N11rkzpRiGzlk4jNmjF3X0spVzI7SOohrbhTjJeGYbQJRoeIggtdRyvMC0J1XWvJPXRdlMeG0Qv8OvwA2OgjJLlud3ndL+SAOdKp\\u002fl28vPvepe1bYLBOWUccMommDrMvh1jR+gNHXTJtg4udK9lG5ESNMrRbhECgAmVytD3x0SLZV7Uh+PKVHxe8qK9Q67xeWS8Jqz\\u002fl2lhWaXEwDemDzLk1351aFf0SF\\u002fFFwGgMVJaZ7syuOuQSPO1FWXGQ052gbPYiyFQKjgCwxOx+rcC8NDwoWcQMftu6LYcp4ZYrH6JyOu9VvjO5gfqeCFMKM9afS4xEefnnvmZHF5qdbQaHHhJI\\u002fHCQ6RDRoafcOyUakZEcwbAAAAl8f58ucH1\\u002f589OjBfPdhz6kZETeuGDtmfBKjZ1Wl7uhBn8ESALBZneWlzSsrbr93MiPBAoDb7pk8eUb6to3ZF7LL62oNLiculQmVasnQ4THT5wxhdPZYvHzM+jUnKIqeMCVVpe7STGUvG6xYVGw+vKvmjSTpNB4qclDmBMmkRGnzcOC8yP\\u002fbWPHMnpq3Luo3BfETKJo0Ew11tpwk2bRZ4S96\\u002faSAhAuHbK96NU4yTsoNbXAU1NlzFbyoUerbGN383qty6yknaXFR1mrbBbh6diEPFfNQUZxkbKunL7QlUTr5gn79vtp399W+CwAAiJijChWmjw++T8mLZXRmXeMEK0jYNMyOIYiQw7UReIio6XrjoigAUDRN0jTWhUHkzPBW6uB51kU5SEICzdlPdn0NAKiFolGhrb9mtapDvyJwtVZzjcUEAK3emVi5wv1FQaPGk2AhAC9kTv7HkT3biguOVVfclDJoWXLGoKCefTMotlxkhlis\\u002fsmIa5mhFqJEzFWYPU0o4i29JXPpLc0lkQKBuwixhH\\u002ffozPve9TPCM0Ny0bdsMx\\u002fLa5WRccGPfLUXGa0XZ4R996s3t4tosWj5kf+K1v3W7H5MEWTEm5wgsRnx5WMG74i7utzjb+XmI\\u002fmG\\u002fdgCEfMCUqVzx6kaGW21K8E6cRhqhvP6tZUWM9wUWGafO6E4AfdxR28+b1X2yr\\u002fQXsdVFBsPlxsbton+2jqHr8L2z3spOFA3ft2wpAqm+1eB0bSLjPeUG45UW\\u002fPvy3+e3eJeZbHNU6w+BjzDvAw5h+bpunAt1205NlU2Cp3NRcPjc0KANFSuXfQrw79isA1WJtWRP7jyJ5\\u002f+G489GZ0+gzy3ZYxLFQs+e+pI\\u002fmN2m8vnvn24plkpfrW9KEr0oaKud0\\u002foGXEtVpn074kFqu\\u002fM+PNu0naEsxnd6R3ydYNZyiKjohUjhjTSvmuPi5ROtl7cKglASYdH3y\\u002f51RBb3xM8nha06YuABgXfK\\u002f3iYGPpe31fO1G0q4k6dQkqf\\u002f56PbvVcuf3FKqbLb3tKbHvUnrPV8fqvu4wnr61vjvlLymZcRu7mr1tfZLvTBH2b90\\u002f479Dul83uTLe8cfQ4eqElAdr54HHfwVgfPkZSiCYG3\\u002f13Ir78zYxJ03r1qz6JabUgaJudxCve714wemrf32SFUZo2fXXc\\u002f7B1kDj4UwMkMtyLlBzBArYDqtefOfpwFg2crmA3NYrWK+sl9rNfYLUm4YI7sCAHdheifVsT2S1wPmAFI\\u002f1Wi3M0OdohaKAKDGYmY2XAue+dOv5y6dFdvhBZLu7Yr\\u002fnjxrU2Hex2ezai3mh3dv2X3zqkipjNm1C4rYBVisAQQPoCC1iNOdV9D1wGS08wVcFEUK82s\\u002ffneH3e6KilEvXNLP5gdZfFRiwusthEbCaVo8DQBWQpdj2AaAhAmYC5FZ\\u002fSnBEnA4cHUWj+GCpo4Z6pQRIeF\\u002fFlyut1pytA09vXTJryipPEwsqbNaztbXdCLBchNyuLemD50ekzB97XdW3LWnvGjV4G57XaOBLrFcYkZZrH6L8D2rpFXcnt8MP8B88ObW44cLPN+KxPyX\\u002f30jh8tcDcLq40aobtlf9\\u002f7vpQ8lSieLOUEuymrEayospwnamRl0N1vMvaUemdvqIe6lUVk1FYwJwVqL+a+S5qu3K+YlpIg4XAD4v6N77QTObO51K9OGAsCvOefLjAZmGwAAMOqUuqc4WwoTS9wLsKx4d\\u002f6j6hxl1gCmVFis\\u002foKkmyv0toXdnd5RYeEKVZCEw0EVSvG02YM+\\u002ff6+xORAi7+z+o4MxcKFUf8OEiQWmQ+e0v54Sb9Z5yhJkE5aGvN+ZtDdzN6s\\u002fjWCNTsu6UhVeYXJ+Nierc9nTo6XK+0Efqy64q0Th6jW84oOUwmEz4yZ+O+sg9n1NTes\\u002f+X+oaNHhkbIeHy9015tNmfVVDgI\\u002fM0pc5g36zEPDBvzV+mVgkbt0o2\\u002fPjhszKSo2GCR2OJyNdisxQbdnrKiYJH4g+kLPP13lRZ+e\\u002fHM\\u002fISUzPCoRIVKzOVZcbzYoPv24hmt3QYAk6O6cydtsZldgMUaUFquaOyP1u18jhm6ph5+as7DT\\u002fXey+YAkC6f1zfLo8dLJsRLJjCjrDb0pwTr1vSh24oLTtVW7S4r2l1W5IkrBcIf5t+4cuvvXn077\\u002f6ho+0E8eGZY8WGxpcO72a0Toxkru\\u002frkOPVFT\\u002fnnDO7nGaXy+xy1lnMAPBL7vm95cVSHl\\u002fC48l4\\u002fFfGTw+7WuJBzOX+vGD5I3u2nK2veffUkXdPHfH5cQA3JKZ5f0sDZNfXuItNtPTcmElDr1Yf7RbsAiwWi8VisVrVnxIsLor9uvDm7y9lby8pKDE04hQVKpJMj0l4fOS4EJHYXWCTeZtOeWLkuAUJKatzzx+vqawyGx0EoeALgkXiseHRS5JaL+YeoFKjfmcp81QZi8tV6GouWP\\u002fEyPGeBAsAQsWSdUtu3VlauKkw96KmrtFh52OcEJE4Xq6cFZc0Jy7J0xMApkbH\\u002fXPijMOVZYV6ndZudZEkH+OES6SjwyJvTx867GoR125B0HhFAIeKsFgsFot1HUI6XaWJdZ0rsVz8ofSfzKgXCUfxYvoPzCiL1YftrV99qGEdM+rrwcR3okUpzCiLxWL56k+L3Fl9ShFbAYvFYrFYrDb09hShGW+sthfrXDU6Z60R11oJo5U0OUkbSRMEjdM0hSEcDOFyUZ4QkwgxiZgjk3ODFbxgJS80mB+t5oWjSF9PCmmgtc4ajbNS46jSuWrNhN6C662EEaddBOUiaQJDOBjCwVAuHxWKOTIxJpNwVWpeuJofHsKPVvMjkG6rwNojrISpzlGabzrJbGANUAP+srURJhPRaMIb6x0VzDYWq\\u002f+jaKraXlhjL9E5qzWuGqNL46TsLsrhohwIIByEx0V5Io5MxlXLOeoQQUyEMCFcGM9Hm2ox9mUuylFrL613lNU7K4wujZnQmwkDTjnd77YogrpfmkSYVMSRybnBKl5oMD86Upik4of19Fttb0wR2ghToeXcFXN2mTXXhDcvNuoEDsINEURHiVJjRWmx4nQ5t7nc2bVF0mSFLa\\u002fEcrHSdqXKVuikbMweARNikmhRSoJkWIZsrJLXdMjgNUTRlNZVXWcvq3OU1TlK6+xlZkLP7NSLnk39queO2j2s2bCn7hdmtMvGqOYujnyYGe3bBthli1NOM9FowhtNeKOJ0JlxvQnXmXCdmdCb8UaC7s7yJYG7I+7lVOloZrRdgUxijlbNXhL5KDPau\\u002f6q\\u002ff64disz6qu77udAvWx\\u002fK38rz3SKGQUAADk36Lm0b5jRFggav2w4mmc6VWK96CA79q6EIliMKC1FOmqYYoqMq2Y2X2uNrrpLhqNFlvOVtnySbvMol14wVj3\\u002fhogHmVEA6NERLBroAtOZs\\u002fq9BeZsqpv+\\u002fQSN19hLauwlp3R\\u002fAUAwPzJZOipVOjpOPOiafER2UrY848lc04kSyyUn1T3V5O2k5Yr57BXz2Z21P4QLEzJV84YppnBRPrNfj7GTlnpHea2jrM5eWucoa3BUXKu3H1bvGwCXbYE52+jSmAidCW80440motGE6xxkKwWK+6MxqjlHNBsouvns3pYuGo7MD7+XhwqYDb2FoqmLBuaW55ZGKv2cQs1qixHXOkirAGvzGFwz3nhct\\u002fVs4z4b2cmDSSiaLLPmlFlz9tb\\u002fmiIdNSloWay4S3u8ugUNdK4xK0u3vdyay2zre3okwaKBvmQ4eqjhzwZnJbOtW2mc1Rpn9XHtFglHMUg+fphiWu8sPqVossB85pz+QKH5bI8mH7X2ks3Vn++u+3lqyM3j1AuwnqlwSAOdY8xyj07VOcqNuIbZg3UdGDCX7brKDzr6Yb0fkXODU6Sj8k2nmQ1eXJTjouHwaNU1Kz1VZDlvIQzMqK9gfmS0KJUZZQWs3lHRasZD0mSWduuBht9dVPdsq6doKt90Ot90Ok02Zn74vSped9b66ZAC85nddb809J95\\u002fO5\\u002fw653VGyp\\u002fqLCls9s6EkWwnBS99dJ3V+hgtix6vljVHOZPbqJCdedbtydrd9rxhuZbT3GTlp21v5wunHn8qino0TJzOYuwynn7xX\\u002fZUZZ15OBfdkOMGNUc9tPsADgTOOea5hgXTAcZIZaGMEOX3VNvaO8ZYKlcVavKX9b46xixLtFvul0ieXSwoj7e3\\u002fo0UoYt9V8c9l4jNnQt3VzgnVK99eO2u8DOW6ih9Q7yostF3vilbrBUXFUu+mi4fC1mu7VOWu\\u002fLXlpXvg949QLmW0sVhcM4Mt2QEqWjlTyQvWuemaDl2p7Ua29JFyYwGzoeU7K3tbKIQ8UQYcrpzGjrI6od5YzIvmm0+sq\\u002f9eVFcB+uSjHxqpPa+2lCyLu6+kV4h419uLfyt824lpmQ5\\u002fXbQsgaKA3V3++tebra\\u002fgy7TamBz63WQjDZ0XPnNMfuFbZlRtJk9trvvW7xJXFCtDAvmwHKgSQQEanTjcyD6LoHbnGLJxyMqO+kiUjpRwlM8rqiDp7mfe35\\u002fUHfit\\u002fq0ezK48Tuu3rKz\\u002fqnXOlrpjPflP8Un\\u002fMrqC7Eiwa6A2VH59p3MNs6HUqXliCZCgz2mUSjiJDNpYZvUb21q8+3biLGWWxOmjAX7YD2CjlTL8rMi8ajnTXKpwOOR\\u002fA\\u002fOBIVW\\u002fPMQ08Dc7mpUh5ppMbqz\\u002ftnYzH7YLh0N661cxodyu2XFhT\\u002fnaPLnTuUX4u0QAdqP89kIuqF4xWzemhcctJwcsuG48zo9fIjprvIoSJkUKfc3JYXcdHhTxUcE3elnrf9XDZDlRijjxDPu6S4SizwYuTsl02Huvl5TImXFdqucyM+hJxZKnSMcxoF1xXl62Hg7QZcY2cG1xtL\\u002fqj4v32N5b2hMOa9ZGipAzZOGZDN9E5a9eUv9uh7IqL8qOEKQpekBCTCjEJhnDspNlGWmyEscpW2F0FhjgIV8kLUfHCVLwwJT88XjyI2eOqbkiwSq2XDzb8wYwGxl2TkIPwuCifg\\u002fBIGidol40wWwhDhx5WNwzh9NyrSaQwKV48pNR6idkQGCEmkXJVvKZ\\u002fJuEgrQ7SaictnfhnAgBB45uqPnsk6f2e2OV+PRurnj9WPZ+gcRthspFmG2GykiYbYXZ\\u002fbSNN1qtxG2n2Ow\\u002fSl10nl+0Alqma136CBQCnG3f38mN7wXDI7zjKcMVUDMGY0S64fi5bhjpHhQiTrav8MPDrjovyFdwgHirkoQIKKJxyukth+\\u002f2rtWpr9Vdx4kEiTMps6DKCxtdUvBPgjCcfFY5RzU2Xj40UJrfz1Gp01RZbLmZpt2qc1cy2NggwkTuRavqPH6bihcm4QQF+IOxqgkXS5NbqrwL\\u002f2yi4wQmSofGSwaGCWCU3VIC1WSjWRpi0rhqts7rGXlJjL6q1l\\u002fp9DmXIx4k5Mma0+0wOXhZggiXCpFGilGhRSoggJpgfpeKFtTqeTwOtcVZV2a5U2gpyjFl20sLs0bY6R1m2fk+3rAvmovwHE99hRv35s\\u002fKD9pfZCjHJnXGvMqNdJuH2+NINDsKVcdV+a+vhlMtGmuodFb+UvcFs69sG9mW7Kv5fnf40f7px1zn9fmbU19Kox0L4McxopwTzI5mhgMWJB4UIYtrfsl5lu1LnKAsTxDEbesx5wyFmqIUeyvkG\\u002fGXbUqnlUq4xS+usYTb4UvPD06VjY8XpkaLkVpe+ETReZy8ttebkmk5U2a4wm9tmIQz76tcsaqPMZlcc0WysdzBX8beEItiU4JsmBC0SYhJmWwsqXrhKFT5aNSfPdHJHzfeBFCRaEf1cknQEMxqwVt71O+Si4XCAO0JTpaMnBC0KfKWFiCOL4chiRGnuq5Gg8UpbQanlcqHlbLWtqNX3hm7JNtqRLB0RJoirc5QxGwAAAEOwOPHgZOmIZMmIEEFAr78IICH86BB+9EjlzAXh918wHDqu3RLg4wkAhzUbumVuBQGkE4WI\\u002fNY+xRBOJ35sP8JFeXI0iO7se\\u002fk1NLAv265MnReY\\u002fZQ\\u002fAIAQfkwfeWKPUc3ZXvMtM+rrTOPutspMd7tae0n7CR8ARAgTQwWxzGgv6r+XbUvHtJuZIS8IIOmysZOCl\\u002fl9unIQbpQoJUqUMjl4Wa29ZG\\u002f9b1fM2cxObchu3DMleFn3Hs9gxDVHNOuZ0RaEmGRlzPOBvzq5IYBkyMbFijLWVrxbZs1hNvvaUP3pkymf8lEhsyEwXU2wsnTbmKEWRJh0adTj6bJMZkNHcBBuvHhwvHjwjNCVVsJYYD5z2XisxHLRs60viB8ZLx7se6PuNzF4yfrKj7wjKIImSUYMlk9Il41tp66uX1yUN1o1e4Ry+u66n\\u002f0eMeFmcDXkm06l95nV96z+4nq7bAeq4Yrpe+p+bX\\u002ft0QXD4blhq7goj9nQAwIZvhrVM8NXLIZQQeyNUU9ECBOZDf6ECxPujHvlsvH45urPAinYS9LEMe2WBeH3MRu64JhmM065mFFffFT4QOLbnR4DFnNk98T\\u002f6+eyN4otF5htXsx446GGdXPC7mQ2BKZLCZbeVV9rL2FGffFR0f2Jb3X6UWiVmCMfqZw5UjnTTlpyjMfP6vdV2q70zjbvofLJe+t+cw8tqvnhI5WzRiintzro2jkYwpkffm+sOOP3ivcCOajkguEwm2CxOuQ6vGwHKgEmGqKYnN3uPlAHab1sPDZCOZ3Z0N0omrpoOMyM+uIg3CGKycwoq7tlquctCL+v1XUpARosnxDEj\\u002fix9J9WwsRsa+GC4fDcsLu78uu8OUhbtn4fM9rC4shHuvgChSLY8uinPit8uv1TB07otk8KXtq5dWZdekQKzWeZoRaWRT3WxUehHUJMMlo1Z7RqjtZZLem+LKcdKIJNDFpcaDk7Tn1DsnRE16fnWpUhG7cg\\u002fN5tNd8wG1ooMp8jaaK7ntms68F1eNkOYJmqee0nWABwpnF3LyRYgRyPky4fG8haGVZXzAq9fWrIcma048IEcbfH\\u002fuO7klf8FsmzEaYr5rNdHO32yDVltT8oCwCD5ROGdkemLuEoFkc+\\u002fFv528wGLzjlPK3b1bmHtEt70GocpcyQLxUvPEM+nhntAUH8yHYW3nav8UE33BX3fynSkT2UXbmNVS8YrpjGjLbgpOyVtgJmlMVq2\\u002fV52Q5UEcIEv2vOKmz5fpdGdV0gx+P00PJ2lsfEoMWdSwVaFS1KnRG6khltTeBrtvzKMWYxQy1MDFrKDHVWmixTxQtnRn11upxNlxIsrb91soPk43o0CxnYZobdhra949Sj2l7EDLFYbWMv2wEmUz2PGWrhjN7PKFcXBXI8jpwblCgZxoyyuk+CZMjc8FXMaNdMDFqq5IUyoy0UWc4zQ51C0kSJ5SIz6italNKNZ\\u002fIigEwIuoEZ9aV1Vjc4K5nRAHQpwbITFmbIl4IbwgyxAqbgBg9TTGFGW6ixFzNDLFbb2Mt2gBkin+x33u28\\u002fqDfehldEcjxOCOU09nEvefwUeGyqCe6\\u002fRHGEGxy8DJmtAWDq8GMNzKjHRdIYZdB8gnMUNekyfyXvfWb9rWqSwmW34lSPtbJzY0st1HKWcxQCzpnLTPEYrWNvWwHGC7K83twsntjATPaffzOoSCAsPODPWpy8I2Kbq2V4DFUMZmDcJnRFuoCKFvlVyATMtGiVGaoa+TcYClXxYz66lB5MI8uJVg8fy\\u002fEJlzHDLE6IlKU7PeZzT7IrA5hL9uBZ4zK\\u002fyxhz539HMjxOLHijEBmmlidI+bIxvub5+o0PioKZG43kLqgfjW6\\u002fIwXYAjWidoTfsX4S9rqO7WKsUsJlhjzU3+5slNJH8vDXf+NGfVlIQydrlvNug6xl+3AE8yPjBcPYUZ9lVtzAz8hpEMCOR6HLX\\u002fVo0ar5vBQATPafeIlfp5dAKDHG5ihjjO4\\u002fFRXl3ND\\u002fA46dIKKF8YM+TJ06l\\u002fXtQSLI2eGfF0xn7ESRmaU1RHh\\u002fo65oIEmaD812VgsD\\u002fayHZACWeqe3TODWH7ri\\u002fJRYe\\u002fsS70+IYCMVs5mRrtVhDCBGWrBgnfDUcpmws9CLmEXqnm3w2+RcAdp81v7tKUuJViRIj\\u002fbg0ma3FrzNTPK6gghx399s0784VnXLfayHZDSZWMlHAUz6uuc\\u002foDfFcQdFcjxOIPlE3t0fOU6FyVKVvB6dmNKCD+aGWrBb24UCL\\u002fvZX4zoc7xu00EAli92lKXEqwEf4PSAJBjPH6g4XdmlBWwQP7wBO1n\\u002f07fVJJTNT\\u002f4YZezm1\\u002fxWe1jL9sBCUOwUSo\\u002fe2JspDnXeIIZ7Rq\\u002fw1cAMFLFzg\\u002f2oLRuqvDZDhFH5rectbPj+UdLLn97UXuocl4gHwA6MVPUpQQrXJgg5vhZzwEA++vXbqz6tBPZHwsAhAFU6KdpPwsg+qZzB\\u002fOYIVbPYy\\u002fbgWpMAEe\\u002fn\\u002fFX9r1DAjkeJ4gfGSNKY0ZZ3SeQFehdhAAi8veiQfgbfAoEivjJSfxWA+kcZwCnLnZi7Zeff0z7EEAyA9i9AgBn9fs+uvL4Of1+djl2R6Fd+xv1ZdkHcpkhVs9jL9uBSs4NTpWNZkZ9lVkvd2Nhl2LLBb\\u002fH44xUzmCGWN2Hg3DDBPHMaA\\u002fgIn7OC8c7PsDTkt8ZQDvpp4xf59hJKzPUAhflM0P++Bn082uceuFR7Sa\\u002f86YAYMJ1G6o+OaRZNzn4xmGKqZ1IBlkDw6GNZ3b8dLj4cpXVaAOAJVFPeJpWPj3\\u002f7n8s8XxbV67d+\\u002fuJ03sv15VrbRaHKkQ2Ymr6nS8uUocr3B32\\u002f3nyv4\\u002f+8OFfL1rN9jXv7yi5XElRdMLgqJVPz8+czZwIO3sgd+3\\u002fdhZdKLdbfT4D3fTo7Lv+sfj2wS8iCLL68jtcns9FsXvN8Q\\u002f\\u002f9vNNj86+\\u002f183ecf7NfayHajGqObmm04zo15ooM\\u002fod88Nu5vZ0Cl+y1+hCDq8549BvJ6FC+OxAA786DoO6ifBorvjY1gACZb\\u002fTKgT\\u002fOZtXJQXyDQiQ1dHR0Qc2cSg5ndEv3TO2k1Vn72f\\u002f+D++rVmohs2HbD6HalSPGp6xi1PzJGrpQBw10uL73llqfu\\u002fUTMGeffc8MXe1f\\u002fdRuDkqBkZs1eO5wm4u1Yfe37x+4xlW+s\\u002f3\\u002fPqyk8QBGbfOn7oxJT8M6Wv3f75+cP53n1O7r70yopPNNWNd\\u002f598aNvr0weFgMAqSPj\\u002fvnLo8sensnjc2cszzTrrSd2XvC+FQAc2ngGAGbcMpYR79fYy3agSpaO9Ftu6px+v9\\u002fjewPhohx5ppPMqK9kyQgpe553TwoOYPl5PyLnBjFDvgyuhm7fqAEA9U4\\u002fGzWUXD+XVau6OoIFANNCVlwxZ9fYS5gNbbMQhgMNvx\\u002fWrEuTZY5WzUmUDPO7dIA1YIyclj5yWjoA7FmbZdSZb3psNo\\u002ff+rjIrc8sWHz\\u002f9Kikpmc2gZN\\u002fX\\u002fZhzsmik7suTl48ytPt6NazD\\u002f3nlqUPNs1EbPv+0Gcvrln\\u002f2Z7hU5pXfvz81hYUQ97a8FRYTBAAzFo5ftXIl6uKG0bPHMThYgAw787JW749uPu3LO+fbNSZLxzJj8+ITBgU5QkODOxlOyAhgIxWzdlT9wuzwYuVMOWZTg3u8nkjOcbjfhfEjGDLX\\u002fUwvwWc+pdIYWI2tLdMkKDxaltRrDid2dAFNNBVtgJm1JeaH8EMBaAbEiwMwZZHP\\u002fNV0fNOys5saxdJkznGrBxjloIXMkIxfYRyut\\u002fPXv0UQeMWXG8iGi2EwUFanaTdSdmclB2nXATlwmn3\\u002f5045SJovPnrq03MH3fdUIbIlCHNKys5XGzWinE5J4uqiuq9ekFkQsiSB5qnIebdMfHzl9YWXWz+RIK7iNKcqqjkUHd2BQBCMT99TMLJXRe1tXp3MD4jMnl47NmDubo6ozqsqVLUkc1nSYKauWKc50cNGOxlO1CNUs7cX7+m\\u002fTGqM427u55g+Z0fFHFkgZzyxuqKAZZgBVKlvdyW270JVoOjwuFvkXvnNmp0Q4IFAMH8yDvjXv257PXO7TkyuBoONPx+sOGPGHH6cMXUwfKJfidi+zIX5aixF1fbizTOaq2zWuusZss2dhdlqBwAXA6fIeIhE1MQpHkohcPjyJQSm7n5qUhTNE3TXK7Ps909cOW0Neev8+6Y9Mlzq\\u002feuzVrxVNMa8EMbT6MYOv2mHt8FfU2wl+2AJObIM+TjLhmOMhu8lFgu6l31XcmMAzkeZ5hiit+9\\u002fawuCmRHcD8SJogXYpL2V0Sd1x+cHHxjNw6fn9XvY4ZaiBP7LF8JULc9+2PF6Q8mvr26\\u002fC29y2d0IXA00OXW3HJr7vaab9NlY0cqZyRKh3fjg9ijCBovt+YWms8WWy42OCvYXVfdgiKpw5uzs3acLy+oNeksdqvT6WhlPE8RxKxkgaKId+kKnoAblRRaVVxv0JrdnQkXkZ9dKpQIIhKaC\\u002fRNv2nMN\\u002f+3bs\\u002fVBEtbo885WTxyWroq1E\\u002fp8\\u002f7rOr9sB6pM1bz2Eywa6DONe2aH3cFsCFggx+Owpzv3Ar\\u002fVE\\u002foXDMEGyce3X0xE46zKN51O76bqXw7Slt24lxn1JecG+63P3KpuS7AAIFQQ+2jSBztqvz2nP8Bs6wiCxi8Zj14yHpVx1aOUs8ao5vg96fpaoYEutVw+p9+fazrRuWEAVlsIF\\u002fHyLR9fPHYlJjV87Nyh4bFBYrmo+FLlHx\\u002ftZPTEOP430dz27MJ3H\\u002fn+5Zs\\u002fXvbQDA6Ps2fNcV2t4d7\\u002fu9F7z6BQIpi8eOSetVm5p4ozMhMPbTpD0\\u002fSAnB\\u002f0dh1etgNenHhQiCCm\\u002fQLrZ\\u002fX7ZobeinZ2A5rf+qIRwoQwf8d8sboukErU\\u002fctQxZT2EywA2F+\\u002fJlk6ols2NR9q+NPvMolhismd+9DYnQkWAAgw0Y1Rfxsin7yj9jttlw8WNeG6Aw2\\u002fH9KsS5dlTgha3LlJ0B5C0Pg5\\u002ff4jmo2d\\u002fujPat\\u002fuNVkXj10ZOS39jbVPoFjTdlfcd3IwcNOXZ1aXNKz+77aPn10NANEp4U9\\u002ffNecW5nLUObdOWnP2qw9a7MyMhOPbDkrlAgmLhzB6DPwXD+X7fVjjGrO9ppvmVEvFsKQbz6dIevM54dAjscZqZzFDLF6wMCbhI0TDwoVxNS3+wSrc5Rtrf5qWdTjzIYOyjedOqbdzIz6whDOWPUCZjQwPfK3SZaOeFzy0UndjsOadVbCxGzuIOrqotpoUerk4GVpsszO5ZLdhQb6vP7gnrpf2P3qXcQT8ACAcJGt7iIsy6sGgKnLxniyKwAoyalq7tERZXk16z7dfdtzC+98cRGzzUtGZmJ0StjRrWdXPDnvytkyd20IZqcBamBftteb4Yrpe+p+bX9Y\\u002fXTj7s4lWH6HrzgId6hiMjPK6gEDL8FCAJkReuua8neYDb7O6vfJuKoZobd2+oWl1HppfdVHgcx0y7hqZjQwXa2D1RYMwSYELXom9avZYXeIAjjsJRCVtoLfyt\\u002f+ovDZPNMpZltv0Tprvit5eUPVx2x21XURcUEAcCmrkNkAAABB4QoAqC3TeCLFlyq3\\u002feDnlb0tF49dcdpdoTFqAieZbb7m3j7RYrCteX8HTdMDrPyVXwP1sr0OCTDREH8pTrH5vAFvvr4CFMjxOOmysQNv6qpvGngJFgBkyMZFCv2veTrY8OfPZW904tMgDfRR7aYfS1\\u002fzu3lQhElnht7GjAasZ\\u002f82PFQwJfimceqFZ\\u002fX7jmu3dstsWq2j9Lfyt2LF6QvC748QJjCbe1KOMWtj1adOys+fhBWgBaumHN127u0Hvp28eKRIKrQYrePnD594Q9OU3JRlo9d88Ne6T3draw0hkaqqorpj28\\u002fNWD52z9os3x8TkIk3jNj89b4P\\u002f\\u002fbzh3\\u002f7GQAQBFGGyNJGx6\\u002f6x9LoFJ99zrNXjv\\u002fxP5v3rz8VEqUaOjHFu+k6McAu2+tWpmpedrtrWWigsxv3dPT9gz0eh9ULlkQ9+lXRC+1XGwGAIvO5DwoeGqWcOT5oUSC7Ygkav2A4dEyzSRPYWoiFEfd3ZZ9mzyZYbjxUME69MFM1P8908qTur1LrJWaPjiu35n1Z9NxY9YLZYXd0ooB9JxzTbt5Z+yMz2nF8VCTlKiQcpZgjF6AiASbiYyIuyuchAh7K56ICHur5gs9DBacbdx9s+IP5UwaEEVPTX\\u002fnhod8\\u002f2nl02zmSIIMjVePnD\\u002fe0hsUEvbX+qR\\u002ff3JT11wXCRcSkhD3z8d3Tl2dmtSi27pdRZ\\u002f74mV+NOsuMm8cqg2UAgLvwhqrGU3suF5wt++rI\\u002f4nlIk9nmUoyft6wI1uyZywf61394XozMC7b61mEMCFSmFRtL2I2eMnW75sestLvCbve\\u002fJa\\u002fknHVidLhzCiL1RHhgvjZYXcE8p7rohxZuu0ndDtCBbEx4rRoUaqSGyLAxEJMwkG4DspqJ602wlxjLy635VbaCvyOWnmMUy8cqpjCjHZEbyRYbiiCDpKPHyQf3+CsPK3bdcFwqP1aF37RQJ\\u002fQbS8wn1kR81wgw4ld0ensiovyooQp4cKEcGF8EC9CxQ\\u002fv6MxLJw6Y7Ecm3jDCM2TVUtro+Lc3PM0I\\u002fln4gefrGTePnXFzK7N4v+W+6\\u002f3t5y+uzT6Q88Xh\\u002f4tO9hms+uWdrb+9t\\u002f3yyeKxc3wOLnSnVQN+\\u002f2Ag+vVly8pUz9tY9Skz6sWMNxaYzwS+4z2Q43FGKKd3elkMi+UxIWhxuTXP7\\u002fPNjQa6zlFW5yg7pWNuM++cVOno+eH3MKMd1HsJlkcIP3phxP1zw+\\u002fOM57M1u8tsVz0u8qsHXpX\\u002fbfF\\u002f1gS+UjPHSmabzq9q\\u002fYnZrRdMq56kHx8umxstCi1W7aSsrri0vHC0Gg1I7sCAJFUAADuM6c9jDpz1l8XBo1N8hzR08sONmR9VvTzypjFN0XNZ7Z1XLb+0tt5n3u+fTb1gXHqkV7t7XnozEsG3PT7+M+gH162LAAYIp+8s\\u002fbH9nPi7MbdgSdYOcYsv8fjsOWvWN0CAWRFzHNryt8uMGcz23pYuixzRczznS5i4nENEiw3DsIdopg0RDHJiGvP6w+eNxzs9P5wgsY3VH3ipBxj1d3whsRgxDXrq\\u002f4X+HtJtCh1UvDSdNlY9jNc3yGWCxsqG7U1+qAIpSfYWG\\u002f86+ejCIKkjfZZEvTDG5twF7H88Tnewf4rRRL\\u002ffNpDJtxyRHMq19T6foLA9ZfLluXGRXnDldOytNuYDV6umM8aca3fQ3bd\\u002fM4PxokHDbDDW1jXEIZwVsa+uK7ywxxjZ5beds6koKWzw+7s0Lx5W65ZguUh5wZNDVk+NWR5uTUvW7\\u002f3svGY309ILdFAb6\\u002f5RsJRDJKPZ7Z1zV+1PwQ4ZSvCpDdEPDhEMYnZwLrWbnps9kdP\\u002f\\u002fr4jDcnLRqhCpPbzI7aMs2ZfTkuB3778zdExAcDwMfPrubyOEUXK3JPFU+8YcS4eUOZP6V\\u002fknIlmarhAFBjr+96guXRxy9blscY1bz2Eywa6OzGvTNCVzIbWjDhulKLn6V47PJ2VvfiINyVMS+c1P21s\\u002fYHgu5kHcQASTiKRZEPda52SauufYLlEStOjxWnLwi\\u002f96x+\\u002f+nGnVpnDbNHu2igN1R9HC6M78bPT+XWvAAT53BB\\u002fB1xL3e6WgarR827Y5IiSLb1uwOHN2dbjDYuj6MOU0xcOGLu7ROHTU5197l47IqmqlERLL3xkVl3vbTY9wdcA\\u002f1l\\u002fLMPXrYsb8H8yHjxkPb3KJzV75sWcovfj+x+j8fhoYJBXT5DmsVqaax6frxk8J66X\\u002fN7ptoLhnBGq+bMCr1dgDVveOq6PpRguQkw8YSgReODbigwnT6q3VxuzWX2aJuLcmyq+uzehDeYDZ11XLuFGWpNqCD2noTXe6zuS3uvaKwAjZs3tP1BqW9P\\u002fIsZuqY4COek7tzG6l0VthoBxh+pGHxH3DIFl7lhuMRSsb5qR5652EE6QvhBU4LHLoqYxUU7c12fN+T8WbmjzFrJx\\u002fgjFBm3xy4L\\u002fOf0qcuWxZCpntd+gmXEtYWWc6nSUcwGXxf81RcdLJ\\u002fIbg5l9ZAQfvTtsS\\u002fV2It\\u002fLX\\u002fTjDcymztLiElGKKdPDFrSE+Mjgb6A9jIEkDRZZposs9R6eW\\u002fd6gpbPrNHG0qtl\\u002fNNp9ICXrPZDhOuyzf7T5Z5qOC22Bd7LLsCnGrleGPWgHdGf7HAXDJEnjojZEKptfKQ5kS+ufidoS+JOUJPn1ONFz4o+IaDckYrh0i5kmJL+ZqKzecNOa9m\\u002fI2LdmxrxanGC+\\u002flf8VFOZmq4WKO6JIx\\u002f5VL\\u002f2V28qcvXLasltJlYyUcRfvFq8427m0\\u002fwaq1l7R\\u002fegkAjFLNYoZYrO5jwDW7637pluxKylEmSIZmyMelSkf3XLHWnvq53SVePPiBxLcuG4\\u002fvqPk2wOLpRzQbu+WVusB8hqIpZrSFaSG3qHjhzGj3IdgE67qUZyp6Me2R0aqmUbdvStbsrju8sXrnHbHL3BETbvms8CchJnhzyPPhwqYNj79XbltXuX1NxZa74m5yRwJB0uS3JWsQBHlt0NPJ0ngAoGjqnfwvzuov+502atU1vGz7NZqii3KqywpqLUYbTcON909l9ugUDMFGqWYdaljHbPBSYD5tJYxijpzZcJXf4asgfgR77iSr5xSYz6yr\\u002fLCdJdEJkqE0TRlxnZ00uygHRZMAwEG5HIQnwMRSjlLKVal5YaGCuHBhQjA\\u002fknn7HtDXEyy3wfIJiZKhf1Z+UGg+x2xrocKWr3FWd\\u002f3hKzKfZ4ZaEGDicZ09BjJAAb4\\u002fsQaYVGmCJ7sCgBXRi\\u002fbUHTmsOelJsA5qsmykfUXMIk92BQDLoxbsqz+6u+7wLdE3CLBAK6hdMubrXcZM1TB3dgUAKILeEn3DWf1l344dc00u2\\u002f7r2M6L37+9raZc6\\u002f4WxVB3gkWR1AfPr8Vx4rHXb5IpxT63CdgY1ZzDDevbWUFF0uQ5w4FJQUuZDQAAQAN90XCEGfU1gq3OwOoxx7Sbd9X+1NYTWMyRL418tA9+QuvMx9NrQohJbo99OU02htnQmjzTCWao46rs\\u002frdcDZFP6ulCoJ04LIw1AMRLYry\\u002flXElEcJQvctoxJsO3sozFQHAELnPmAGGoBmyZCflKrSUesfbV2KpAIBUWaJ3MF4cjXW5DEzvX7b91PpvDv77kR892ZU3FEP1GtPhbeeP725vHVX75NzglHZnAAHgnP4AM3RVqeVy+5\\u002f0UAQdoZjGjLJY3eGwZsPO2h\\u002fbyq6iRCmPJX3QB7Mr6EcJFgBgCLYi5vlAPuN2aI1tq1yUI5CJ3mRpoDUbO03rrGKGWNcBKYc5ViHnSgHAiFvc3za6DACgbLHsXcmTA4DOaWDE22HEzQDAWEGPIqj3eq9O683Ltp8qvFT13VtbASBjdPyLH93x0eanGB3GzR4MACf25DDiHZKpnscM+WpwVNTYi5lRAAC4aPQzfJUkGSHlqphRFqvLLhmP7qn7hRm9Kk486J74f\\u002fXZ515\\u002fSrAAgINwl0Q+yoy2UOsoY4Y6SO+qbytf9tbTx9bqXfWdOCqcNSAxnpBtVbKlaRqunvbTQczbdH0Ey63XLtt+auP3h2ianjB3yPt\\u002fPjFt8ciUoT6DlwAQnRgKADVlXRrMTpaOVPBCmFFf51sbxCJpMtdftRq2\\u002fBWrJ+hd9ZuqPmNGr1Lxwm6L\\u002fXtf3rjazxIsAIgVZ4QKYplRXxZc38WKZE7Kzgy1gCGcntjY6a3U2qVFMKz+y3R1pMrDgJvh6jgWAKh5Crg6juVNj5sAQMVTMOLtkHGlAGC6OvnoRgNtIazeka7oncu2n7p8shgAbnuizcMDVCEyAGhs6NJnLQSQMaq5zKivS8ZjLXf2lFgutn\\u002fYjgiT9s0JGlZ\\u002ft6P2exflYEavWhL5aM\\u002ft3+8W\\u002fS\\u002fBAoD2txMDAA20s+29BoFwkf4TLD4qbGsUobsEeM7lNYH6e\\u002fJ0orQ3y6PYUub9rRE31dkb1DylJ8EaJE8FgMvGAu9uJE3lGq9wUW6SJM473r54cTQA5JtLvIOVthqcIrwjXdQLl20\\u002fpdeaASA6sc3hJZGUDwAuZ1f\\u002fHKOUM9vfkW4hDC0rZuUYjzMiDMMUU9r\\u002fsSxWJ9Q7ytspKxojSkuQDGFG+xg\\u002f75F9k9+BbgAg6a6+GPmFdGoaJnAWwhDI9qtrhYvymCFfTsru3ijL6oQiS3m2vvmt7veKbTTQk4ObxwmmBo+TciXbavfX2us9wfVVOwy4aUbIBCHWgWHzoYo0OVd2pvFC0dWsjqTJPyq3+3Tqsj5y2fZBAhEPAMyGNpNLvcYMADIVc1leR4k58gy5n2NALhmOen9LA+23HOBItvwVqwdk6\\u002fcyQ14GyycyQ31Pv\\u002fzYwUX8vLUDQBc39wVyczvZbRMorTqp+6svv98E+BCJOcxV2KxAjFIOeTf\\u002fy5HKwcF8dbGl\\u002fIq5JFwQsiyqeYpHzBE+lXLfO3mfP3\\u002fxrTHKoVKupNhSdsVcmiCJuT12qbsPSZPnDbl20mEj7MWWcgA403jJQtiEmEDKEQ9VpLu7cRDO\\u002fQkrPyj45p+XP8hUDedhvAJTMUETMaKIKnvd1V\\u002fYVb1w2fZTMclhuWdKz2cVzlw2mtkGAABnj1wBgJZrszohUzWPkUIx5JlPLaYf8dQ\\u002fK7fmtr8MNFyYECaIY0ZZrC4rtlxkhryEC5tqyvRl\\u002fTLBshBGZsgXAggf7dIGKH4ABxJRNOkgbd17dJGHhTBkabcyo32JhKNghlqoc5QmSoYxo6wAPJR4e4G5eGP1rguGPAHGnxYy7o7YZSLM51k9VJ721tC\\u002f\\u002f1m5\\u002fYIh1046gwXqm6MXLomYzb9aActG2N\\u002fO+9z7Joc0Jw5pTgCACBP+NPYDT3ycesTf0x9dV7XjZON5PsoboRx0Z+yNf1Ru68YEqxcu235q8oJhuWdKv3tra\\u002fLg6Jjk5qpmbjXl2vXfHACAGUtHMpo6IU48KIQf3eCsZDZcZSNM5bbcePFg97f5ptO+7Uyj2PJXrB5A0oTG0eazFAB4\\u002feG1ol8mWDWO1vcSe8i4arRrG6Dk3CBmqDX1jrJYcQYz2h121v4YyEL7ayiQBf7l1jw2weqoaSHjp4WMB4Bx6pHj1H7eU2NEEc+mPsCMXiXlSv6c8AUz2oaRysEjlU1vq24PJd7+UOLt3pGu6IXLtp9acNuEHauPVxY3PLbwvWmLR6aPjAMAmqZP7svJO1u27dfjVpM9fWTcxLnNhWe7Yox67vaab5lRLwWm054Eq8B8xrfRBwfhDlVMYUZZrC6zEab2N\\u002fIbcU1P7+Lvuv63BgunnIXms8yor2B+FDPUQUJMIsD8r3goabEgtFtcMBzyezDFNafmRTBDLVwxZzNDrOtS71y2\\u002fRSPz3n9+wci44IJnNy7\\u002fvQnL\\u002f8JADRFv3b\\u002fd79\\u002fvs9qsselhL\\u002f8+SoE7Z5Fn8MV09vf2X7l6l9K76rXOqt9G32kyTL7+DYuVj9FAXM3K8NFw2FmqO\\u002fpfIJ1rTZUn9Btb+c0IrcYcTcciRVIdpxrPNF+lt0JFbb8zdWBjjpcQ4FMgVfbiwI\\u002f8ZfVCwb8ZdtPhcWoP9n2zO1Pzg2JUHrH1WHy25+c+8HGv6lDu20towATDVFMZka9aJxVJlwHAH432Yxk5wdZPcPv2pvLxuOtlm3rUzo\\u002fRfjJlb+lSkeNUc\\u002frzc+dtfaSAw2\\u002fM6MtJEtGMEMdFy1KLbH4GaCqc5TlmU5myPxszAlchS3\\u002fl7I3+kWBg1BBLBfl4f7Oot5fv\\u002fbu+H\\u002f2dD0LVoAG\\u002fGXbfwnF\\u002fDuemnvHU3O1dQZdvQloWhEkDY1SMft1h0zVvOzGPcyolzJrzlDFlGLLBWaDFxlXnSQdzoyyWN2Bj4qkHGX7BzRtqPqk0l44LXh5n63k3vkEy0Fas3Tbs3TbY8XpwxRTB8sn9vRYcbW96Ney\\u002f\\u002fh9R1fxwiJFycxox6VIR7V\\u002f\\u002frzbrtqf48WDu+Xffl5\\u002fYHP1F9dqjKGjOAg3XjzE7yRgseXCoYY\\u002fp4XcwmxgXQsD\\u002frIdAILCFEFhCma0W0UIEyKFSdX2ImbDVRW2\\u002fCGKyWW2XGaDlxHK6ewHJ1bPiRWnX263BhsN9CndX2cadydKhsaJB4cJ4pS8EAlHwUX5GMLpC0\\u002fOzidYHuXWvHJr3vaab5OlI9JkmanS0YHsL+sQgsaPa7ceqF8bSPKRqZ7fLY9stChVylX5PZGw0VX7W\\u002fnbd8f\\u002fk4NwmW0BsxKmbTVfXzYeYzb0bemyTL8JFgDsr1\\u002fLRfkTg5YwG1jXzkC9bFkBylTP21j1KTN6Va29VOOotLVboGGEYgYzxGJ1n8HySe0nWG4UTRaaz\\u002fmdzm4VB+FiCJeHCSQchYQjV\\u002fHCQvjRYcL4SGFytxwU1g0JlhtJE\\u002fmm0\\u002fmm0wggEcLEBMnQBPHgaHFaF\\u002fddm3DdecOhk7od7jUBfkm5qjGqOcxopyCAjFHN2V+\\u002fltnQQpk156uiF5ZHPx0q6HChGjtpOaHbcUyzqY\\u002fvGWzVEMWkv2p\\u002faOcoAzca6J21P1baCuaE3anihTObWdfOwLtsByqn3UXgpFjWpb+LtyHyyTtrf2zrDByts7rC5nNIAEOsOEPNZ69lVg\\u002fKkI9rv6RI1xE0TtC4k7IxRlK4KD9WlD5YPiFDPr4rY\\u002fzdlmB50EBX24uq7UVHNBsQQIL4kRHCxDBhXBAvQs2PUHCD268l6KIceld9g6Oyyl5YZs2ptZd0aBX53LC7298g0yGZqvlHNBsDWRFV5yj7sui5YYqpmep5EcJEZnMLLspRbLmYa8y6bDzW\\u002fuf7aSE3a5zVfk+ruCb4qGiEcvpJ3V\\u002fMhtbkGLNyjSfSZWPT5WNjRelKHrPejwcNtJ20WHC9hTCYCYMZbzTgGiOuMbg0Cl7I7bEvMW9wLZA06aRsTtKmcVYx21qwEsYGZ6UAFfExEQ8V9MGhmoF02Q5IH774+6Gt5\\u002f4qbS5d1kVclDdcOS1Lu43ZAAAANtJ8TLuZGfXST093HmCX7cCGALIk6tHvSl5ueT5mT8MpZ5HlfJHl\\u002fLaab0YoZ0wKXtK5oYHuT7C80UBrnFUaZ5V30QEeKhBz5EJMjCFcDsIDAAoInHI5KZuVMDm6UB59iGLSsG4tyiLmyKYGL99bv5rZ0BqCxrP1e7P1e5W80ChhcoQoUcZR8TGxABXRQBGUy05ajbhW56qttZfUOcoCqdI+WjV7ZuhtZ\\u002fX7+maCBQDTQm45pz\\u002fgdxDLjQY613Qi13QCAISYRMyRCTAJF+FTQJA0QVC4g7I5SKuTtLX19hxI7YxOIGnCQdqclNVB2hykzUFZnU1f2Jyk1f2Fg7Q6KZuDbPrC76Iib55\\u002fNbjLaWIiPioSYCLB1S98\\u002fo+J3K\\u002fpXv8Xd8t4dYD6+2U7IFnNAV1iHTJGNa+tBAsA2inQwEMFfeGgEvayHfBiRGmLIh7eUv1FW+8IPY2g8dONu87q944PWjQ9ZEVHPwf2bILVKhflcLkc7e0N6JQwQdzSyMeY0S6bGLzkouFwh0Yp9a56vav+kvEos6GDUqWjFkU8DABx4kHMtj5DwlFMC7l5d90vzAZ\\u002f7KSlremJ3lRkOb+67M32BxG7Fw20g7Q6SKuxI7+Tg3DvjHv1Gh5u2r8u24HHZu7+JQTB\\u002fMh48ZCWpzv7NVg+saPvNN2LvWyvH6NVswWYaFPVZ9dwFQ1Jk0c1m\\u002fJNp1fGPB8qiGU2t63zdbD6lBBBzKr4f\\u002fXENc9BuCtin++Jn9y+VOnolbEvuk8EU\\u002fHCAimbfq1MCl4WL+6vryAkTfTmy3SnETQeyJBn\\u002f9Jzl+3AYzP7X6jQCZnq5tMtA3fNy1+xl+11ZbB84mPJH3ZjOaTO0Tqrvyp+sf3aJQzXYASr28WLB6+MeV7UY4cKh\\u002fCjV8Q8\\u002f1v5W712qQxTTL0x6gnvY0NixentH9F6DSGArIh57tuSf7Qzp8BiMfT0Zds3bfm5k1exrsHIDHWHdNk4CUdhIQzMhrap+eGx4nRmlMXqGTTQlbaCfNOpDs0j9RCccv5a9p\\u002fARyX7d4KFADIhaNGcsLt6+gizFOnIlTEv\\u002fFH5fiAL3rsCAWRKyE0zQ29jLKiMEw3qswkWAIg5slXxr\\u002f1Y+hqbY7H86rXLtg\\u002f64p8bmKFrCkOwUapZgRT887jmw1es64SdtJzS7Typ29F+udFeRtD42op3H076r4oXxmxrofNThFGiFGaod4UIYh5IfGte+D298zKdJhtzf8Kbcm4ws6H7SDiKu+P\\u002fOSv09pbbVeIkfXcZlpucG\\u002fRQ4jtJkuHMBlZfcr1dtn0TiqEd\\u002fY\\u002f5I7rPGNWcli84bUERdLhiGjPKYnUrB2n7q\\u002faH9\\u002fIf2Fu\\u002fuk9lV2520rKh6uNA1t13fgTrzrhXyq15x7Sbr5jPkDTJbO5JKl749NBbhimmBv660C0ihAlPpPxvZ+2P2Y17A3lwA4ci6EjlzFmht4s5cmYbAACE8KPFHJm13bp\\u002f15wAE98V\\u002f39nGnfvrvvZ78FzrGviOrxs+5rIuOBvD3S41Mh9096sKdcyo91Bzg1OkY4qMJ9hNrQmSTK8L68HZQ0ABebsLdVfBFhC71opt+ad0+\\u002f3O5rb+QQLAGLF6bHidCthumg4nGc6VWHL7dGXbAzhpEpHj1LNTpaOuFav0XxUtCTy0Uz1\\u002fP31awtMp7ueZmEIJ102dkboSr9nw8WKMjx7hvssBJAxqrmD5ROPa7ee1O3o9n2C7lX\\u002frK64Di\\u002fbPkWu7kypEbGsB7cCZKrnBZhgjfD3jsJidRoN9PaabwIsrMhDBWGCuEhRkooX5i6KIcCEEMArDEWTNE3htMtFOR2kxUoYjbiu0VVX7yjv0BvWwYY\\u002fhyumtT8S36UEy03MkY0PumF80A1Oyl5mzam0FVTartTaSzp0X9uCAKLmR8SI0lKko5KlI\\u002frIhqNwQfztsS\\u002fpXfVn9ftzTScaHBXMHv5wUX60KGWQbPwQxeQAC8XGiQf1\\u002fQTLTYhJZobeOjVkeb7p9CXDkVLr5U4\\u002fGVAEVfHCIoRJ0aKUKGFKuDCB2YPVKdfhZdtHyJSdSbBE0m6r4d5SsnSkghdicDUwG3wJMUm6LJMZZbG6A0WTG6o+vmA4zGzwhSFYmmzsGNWcBMnQbv\\u002fApnFWXzFnn9XvC+Q9Xe+qLzCfSZeNZTZ4QWi6q2MwbbEQBq2zutFVZ8R1JlxnIfQ2wuyu+eak7BRNkjRB0SQAoAjGQbgclCvEpGKOTIzJlbwQNT9CzYsIF8YHmH9cQ0ZcW2HLr7WXapxVJlxrxvUuyoHTLgCag\\u002fC4KI+L8EUcmYIbrOSFuA+1DRfEt5\\u002f5DiQ00LX2klp7Sb2zotFZayb0ZsLgIh0E7aJoEkM4HJTLQXjuUpZSjlLCVco4qiB+RBA\\u002fKogfgSHd8DGg6wpqNcs++fXc60\\u002fwOX3i\\u002fvSQ6+eyvSZ+en9HYkbUpPlDmQ3+vPHwD8d3XerGSu4MhzUb9virZjdOvXBhxP3MaGeRBLX5m\\u002f2HNp6uLKx12l1iuSgsJuiGe6bOua25hOlPb25a88EOrxvBo2\\u002ffuvj+6d6RASyQh6gT+uajuq7yf96VjVuVKBm2LOqxHl0JDQA00Kd1u7bXfut+oWvHYPnEFTHPMaNeevCtQsJRSDiKQIpkjl3zucZuLbn3eWZDu\\u002fZVFN+7Z73n2y9mLFkQn+rVzvRz7tl\\u002fnzr4xoRZK1I6\\u002fOoGABuLcp46tP2pEROfHsl8csu5QUPkk4bIJzHigWiwWd4+fehoTbnOYeNjnEiJ7O2Jc0eFRjL7ta2jj0PvQwCJECYGcoJQX3a8yP9nmgEg8Mu22017\\u002fgujtZV65ffPG\\u002fvY4gnMaP9097MLmKHATF8yMia5zdOlui6QwYCRqu6cH3xj1RcndjaXFDLpLCadhV411asLJA6JGTdvmKnRYtSaq0v8DLANPIE8RJ3QBx\\u002fVc\\u002foDfrOreeGrJgQtDuSJ2kUIIJnqeTKuenX5m8w2X4XmczTQ7dylHkywetqIkIivZy1rdNg2FeWeqAuoQgYXRXloL40b5TU2zNv445VVz\\u002fCx9h7kJw5sPVFXOSQobG5sMg1QbtLHyBTMTu3qxOPA6oSjhWXMEIvVWybNHzZp\\u002fjBmtPuc1e9jhnyFC+LDBfHMaGdlH8h1pw43PjLrlifny9USm9lReaU2Ktln6\\u002fukRSMnLRrp\\u002fnpB6MMU2dtn0l1DAT5EndDXHlUDrtle8w0z6mtG6K0Tg5Ywoz0pTTZmmGJK+1OWTspW7ygPE8QxG65q772\\u002fj1MJhHNjkwGg2NgYSGJxV8bIuzKanlW94Eh1GTPUggV3nairjJUpNi++E0PazILb19HHob+7+bPfcqrrmVGAh6aPfXK2zzhHvdHy2f6sIwVljVZ7kFQ0MyPp0RnjFCKf9UCXq+u\\u002fO3zmUmWd1mKVCvgRCtmU1Phbxw5VSUTuDjsuFvxx6mJejcbscALAiP\\u002f7xHNb9290EsTUt75BAA699CCP45O+b8zOeXn97nsmjXp+AXvWHqvvKrfm+q1g173DV6d2XwSA4EjVA\\u002f+6GUERABDLhGmj2RWWza6fh+hww\\u002fr2j8FJl42dHnILM9rzpoesbD\\u002fBAoA6R9nATLD6uENVpcxQC9UWEwDEyZSdzq6uQ7ePH64x+xwtfKig9GxZNSNzKmlovOubPww2x4SkmEiV\\u002fEqt9tfj544UlK555FZPz5PFlff\\u002fsEHE405OiVOKhQ0my4XKuq8PnrptXPNQgUIkmJgcNzE57qej2Y1W+99mT8DQpp2MI2MjAIDP4SwanrY66\\u002fyBvOK5Q3yqTO24WAAAi0ewZa9ZfVq2fi8z5AtDOEO79UDumtIGAEgaGuNOHVgtXScPkY00nzccYEa9oAg6O+xOZrRXqPnhSl6o3tXK53kPfbtbQ65BgnWwqvSjc8dydQ0iLndqVMLfx0zltTaJVms1\\u002f+\\u002fcsYOVJTqHPVgknhub\\u002fOSICUp+h7fSXNTWLdr8s+fb\\u002f0ycc0fa8Obmqw5Xl312PuuSrt6K+xy3\\u002fsCQMa9kTvd8y0HRg1Wln57Pym1soGg6XRX8xPDxM6KbVxdtKclbnX8hV1dvcjkBIOXH5kWpTwwf\\u002f9yoyQCwr6L4v9lH6m3mRocdAA5VlcZ+9667z4zoxB\\u002fm3OT+uq1VX6N++8zkchSuetY7eP1YOjLD+9uShsYv9p8YFBnqnRUBwAt\\u002f\\u002fKW32b9adeOk5Fh35NO9WZ\\u002fvP\\u002fH+ziNv3DjbHVlz8gJJUd\\u002ffd9OgyKbVLTQN5Tq9Utz8NJuQFDshKRYANmXnNFrt90we1XKR+\\u002fIxQ1Znnd+QneOdYDVa7SeKK1PDglLDe3ZJJmsg0dWbSvOqTQYbAiBTiePTIlQhPXuakJOyXTYeZ0Z9pcsyRZiUGe0Cu8UJAEIxn9nAuuo6eYjO6ffjlM97LsNg+cRgfgcWJXevePHg9hMsM97IDHlhvlX0tF3lhQ\\u002fv28RDsblxKXIe\\u002f2hN+Y1bf2V2Aigy6G7ZvkbvtE+OjIuWyPP0mh9ysg9WlmxcfEdHc6xEueqbWcv0Tvvu8qK9FUXMZgAA2FdRfN+e9dFSxTMjJ\\u002fFQ9I\\u002fCy5e0dcODwx8fPn5IkM+E94naivezj4wJi1qePLjCbDhYWXLv7vWr56+YGNH0Lq7kC6dGxk2NjPv28hmdw\\u002fbcqMme0anRoU2VrsLF0sUJaQDQ6LB\\u002fc\\u002fl0glx1c\\u002fJgd1OcTOn+ghUIJ0E8s3Y7hqIf3LqAizVPz50prc6taZg9KMmTXQHA\\u002fVPHfH\\u002fkzPYL+f+3ZIa7M0XTAIB4DR8iCMQFdfhPkBoWNDgy9HhReYPJEiJr2j2369IVkqIW+6aDLFZbTu7LWf3R7sJLzFn+1OGxtz4xe+yMnnoiXTQc8XsCWPeWvyJwksB76VzXfur6eYj8np2cJr2WlUEkbZT+9mj\\u002f2unVBIugqFeO70EA1i68dURwOACQNH3\\u002fng37K4sZc2RPHtzW6LD9NPfmqVHx7sgHZ49+dO74W6cOvTt5nndPv8Rc3pzYZAAwOh1tJVjvnT2Coehv81dES+UAcFPy4El\\u002ffFVibJwelcC5Oh\\u002fkdrSm\\u002fJ\\u002fjZt47aJT725\\u002fzzr16fM\\u002fXl055EqzJkXGTI+MA4M\\u002fCyzqH7cEhY1oucs9Qh2SoQwCg2KD75vLpaKn80WHX+JzwfuqtbQev1GnfW7kgWqXwjp8qrQSAUXE+n3sEXE6EQlaiaSzXGpJC1QAwf0jK3pyi+79fv2rSqJtGD1ZfXXfVCcvHDH5t075NZ3MfnNb0crDjYgGGIjcMS\\u002fPtyGK14qf3d6z9tPV5uoLz5a\\u002fd9+3Kx2d1egdi+7IbW\\u002f+9HjKuuluOwHrz\\u002fq+rixt0tXqjzuIuD7R\\u002f3cn96056Ogwam\\u002fT+9heab9BxFoPt4MbTp\\u002fdcKsmp0mtMKILIg6TJw2Lm3DZx3DzmFoF\\u002fLP\\u002ff2YO5Qyak\\u002fHdL6zvtP33ht23fHwyOVP187i3vebrGeuPGL\\u002fee3ne5vkJH4mRwpHLEtIybHpsdHtvKWLW7JsI9ryxb8dR8fYPpz092ntx1UVOj5wm4YTFB4+YNu+OFRZ7OHX2Ibh\\u002fygq7WcOszC+7+x1JP0O34jvOv3\\u002fU5AKzJfU\\u002fZw4OgnUYDXWEtYEa9IIAEeKxyDxFy\\u002fAzcknR7eTDzvb9HHa0pb7BZ5sYmu7MrAMAQ5OmRE\\u002fdXFnt3O1lXeVlXPy8uxZNdAcAjQ8d+dfHU5uLc\\u002f0ycze3WnYAukszTNSQq1O7sCgDEXN7IkMi9FUW1VrMn6BYvU95zNbsCgFtTh\\u002f4za+8lXXtDiKwesvPSlT9OXbp5zJAFQ5llKeqMZgB4e\\u002fuht7cfYjQBgNnZ9Jlj\\u002ftBUi9P1v93H\\u002frf72Cd7s2ZmJN43ZfSQqM5s0lk4LO2dHYc9CVa90XK2vHpiUmywtDNVJVnXldMH8tzZVWxK2A13TEwdHiNXS4AGvdZccL5826\\u002fHK4vq1366d9Co+NHT0pk37po6R1m1vfWPnR7DFdO65QSFsrxqq8mOcTFVmNyosxAugi\\u002fkSRTNn2rkQX7ezNrnsDlXjfqHxehzSJemulFT3Xh8x\\u002fmbHp39wOs3ezfNu2PS2YO5l7MKa8s04XHM3Ah3EQc3nAKAObdN8M6uTuy68M6D39qtzeMW1SUN1SUNO389+tSHd85aMd4T96atNZTmVP3j5v\\u002fpG0zuiMuBFxkq1GEK7249\\u002fRD1NRpHpZPy+XsxyHnBbR0f1zswhMsM+eKi7c3h9mqCdUlbBwCjfYs8DVKHclDUu97pidpKAMgMa5pQcxNyuJFSebFBV2rUpyiDvJu6iAKaBmAkbe6BKzuBewcBYFx4jPdQGxfFlHyhxdXeFDKrJ1Q2Gv+5cW9SqPqlG6Yx2wDcz6bpaQmtzveFSJtrYN48ZsgNw9K2nMv7\\u002fdTF3ZcL9+QU3jdlzDNzO1zSTMznzRucsvFsztnympGxETsuFdA0sPODrEBs+ekIAIyakvbat\\u002fdxuM0vRCGRytRhMQtum\\u002fDa\\u002fd9lH87f+P3hbk+w\\u002fA5fIYD4PXAtQF8f+5fn62cXvptzsmjiwhEvfHmfV5cuEYj4ExeN1NXqpywZPWhccmi02ml35Z0u+eIfa6uL6zd8sXfu7ZNiUps+2wPAhAXDZWqJSWfZ\\u002fduxVkaAtp+zGGwIisz1qup55VzZv+\\u002f5inAR6WMS7nllWdroBBRFy\\u002fOr13yw4+jWs+8\\u002f\\u002fqNcLRkzq5URl+JLFf+84zOhWHDnB4sHj00WiHiaan32wZyEQdHe3Xr6IeprLISRGfIlxq7x2JuT9NlQ1RK\\u002f3WMqejXB0jlsABAk9PlMjyGInCcwOJt3adZYTQDw+on9r5\\u002fY39zvKrOrvSnPThBgnAS5qtTYqLPb1EIRAOAUeb6hRszltVwRFSRkziIhCNL1EwlZHUKQ1LNrt+Mk+eGtCwXcVp7DoTIJAIxLirlzwghmWwtCHnfF2KErxg49WVz50rpd3x46PSk5LjPBJ78PxE1jBm88m7P5bO7I2Ihdl66I+bxZGUnMTixWCwUXKgDgvpdu8M6uPDhc7P5\\u002fLMo+nH\\u002flYgWzrWtwyuW3umO8ZLCa35yU9HFPfXin95JKDlc4euagV75\\u002f6JGpr9M0fe5wnneCxeFxZq0Yv+HzPXvWZt319yWMzXq71xwHgJHTMkKi1Z7gly\\u002f\\u002fTriIuPTIdzY9y+M3jW0kDol55YeH31j15bFtZz95\\u002frcfTv8H4zAH\\u002fHJPFScOjn5v2\\u002fNCSdP7cUi0etC46\\u002f31wUaamSFfIn8zdD2tsd0V7uBvDpH5POgFPs9iAADw7Ht3cw8\\u002fzIpJemDImJb\\u002fhYqbhx+6y5MjJjhI4o5df6wrvLy5OO+e3evrbJa\\u002fDR\\u002fP81o37YZ1x1B5F5HUNa4Ld819sOvo5ar6lxdNTwxpfu3zNiYhCgBOFFcyG9o1NjH6b7MnAMD5ihpmGwCfywEAvO2ifCNjIxJCVLsuF1Y2Gi9V1c0ZnNxq8sdiMThsLgCIbbuAZExSKAA47cwB9S46q9\\u002fr9+jJMaqOrXm9tryzK4\\u002f4QVHuRUgGTdP0nMe8OyYBgLZGf\\u002fZgrnfcE3F3cKspbcg9VQwANz8x15Ndedzx\\u002fA0A0FCpO3swh9Hk9uC\\u002fb\\u002fFkVyw3h7+nHw8VMkO9q9Zewgz5UvPa+\\u002fjRq28AaoEIALQOnzlXiqa9h68AIEwsAYCJEbGeteQ9bWliRqlR\\u002f79zx146tgsAkhTq\\u002f06ef0tKKyO9vcn9YsEYHiMoyow70dZeR64ThwtKfzqWvXBY6k2jBzPbrhqbED04KvRAXvHW83mLhjfPqlidrqpGo6duwtnymmHR4ZjXJ9dLVXUAECxrZeFUjFqRX6s5U1o1LS2B2XbVTaMH\\u002f3fH4S8PnKRptvwVK1AhEcrqMo3D7hK18QZst7kAICSCOaDeFRRNHtVuZkZ9ybjq9s+y7S+UwTJ9g4kkmJ+OYlLCMzITc08V7\\u002frt2KgZzcdD7VmbRVO0XC0dP3+4J5h3uum9dsiEFE\\u002fQI35QlEQushhtOSeLW84S8gTcIeOTGUFWO4fMuLnaLUDa0wy4ps5Rxoz6Cmq3hESvJliD1aEAcKa++oHBYzzBKwatiyS9dxGOD4\\u002f56Nzx4zXlvZZgFei1X1069eSICc+M7PDim7YIOBwAwCmKzxwFC5SYywOAeptPjn9JW0dQVMuhteuE2eF8ad0uBJBIpfybQ6e9m2LVijmDm1\\u002fC3l+58J5v1734x87VWedTw4IJiqo1mM9X1MwbkvLm8rnuPo\\u002f\\u002fshlBkKFRYWEKKU3TOdUNOdX1CSGq+UOYq+YBYEXm0N2XC59du2Pe4BSxgGeyO2ZmJM0e5DPIv3RExv92Hdt2Pj9cIc2M91ldwWK1ZcLcIX9+tf\\u002f8scIJc5lvzG7Zh\\u002fIBYMK81ls754LhsKHdGokAME69AOtvZ9KfO5R3as+lksuV2hq9xWh3OVy4iyBwktnvqnl3TMo9VZy147zFYPMsJ9+z5jgAzF453nvS1qBtms9qqzKZMkRmMdoa61tZVyRXS1Hs2s9+9DU8zM8AVftlPHua3xWKHIQbzG\\u002fvdb5XE6xJkbFBQvHeiqLzmtrhweEAQFDUh2ePMbqND48ZFhy+p6JoY1HOsqTmTxVW3FVhNqSrQrz6do8TtRV2Ao+SyAmKYtRl6LRYqSJX13CytnJmTCKzLTCD1KEIwO7ywhdHT1UJhABgwV1vn\\u002fazZmJg01vteqsdAL4+eIrRNDU13jvBilbJ1z9x+w9HsvfmFG05l8fF0BCZZPGI9OWjm9+lHpiWufdy0fmKWkthmYjHi1BI\\u002fzZ7wu3jh7c6tTc+Keaj2xd9c\\u002fDU7pxCkqLC5NKZLZZYKcXCGRmJuy5dWTQ8\\u002fToeZGR1zIrHZh3deeHrf2+OTgqNTmS+vhXnVH\\u002f9702hUaoVj85iNHWak7Lvqf+VGfXFQwVjVE0fRfoFTXXjv+\\u002f5quBsKQBweZzwuOCYlDCRVMgTcrP359jMDuYNAABg6rIxX778u83s2L\\u002fu5OL7pwPA5ROF7irq8+70+bzt94J2L25p9cLv\\u002fWrsZNs5Zd8h5fgZlNU5a2ykuXuL3AbIRphO6LYzo75ixOlclMeMemnljaTncFHs3xNmP7Jv04rta+bGpQgwzpmGapwkU5VBRQadd89Ppy9auWPtU4e2\\u002f5R7Nk0VQtJUtcWUXV99Q0La+1MWAABBUYeqSi240+RyXtLUAcDeiiKD0yHh8ZR8obsSldvBqhKj02nGne5z+o5WlwGAlMuX8njToxPdz\\u002fp5cSnf52Q\\u002ff+Sv54\\u002f8BQAIQLBIMiI4\\u002fIXRU5IUra\\u002fy8euO9BF\\u002flV15\\u002fMCWhfGpEh7f6HTMjU2eF9fK2HJbIsTSRQnpW0ry5mz4fnp0gpMkT9ZWSHj8RIW60mxw9wn8cRgYYtSK3DefZkbbIBcKnpoz8ak5PnXwvd0zadQ9kzowSjp7EHPIqiX3M2oJu3+Q1Zo1n+7x\\u002fhYBBOOgHC4266Yxaz7Z8\\u002fDcdzNGxSekR0gVIpqmTXpr0eWqgvMVKIq8+vW9QlF7L+UdcqB+bfsVqAFgnHqBAGtlrrzP+s+9XxWcLZWpxI+9c9v4BcO9l0ndN\\u002fbVthIsvpA37cbMHT8d3v3bMXeCtWdtFgAMGpcUleSzKk4V1lQvQFdnDI1p5X2hsd4AAMqQa1lWwMOo87N+vC9of34NAGig84wnRqlmMxt63paaLx3+thAmS0cwQ756NcECgPlxKd\\u002fPuenjc8d3ll0RcjjTohL+kTntf+eOMRKsGKlix9JVX186tbO8cENRDhdFQ8XSG5MHrUwZ6u5gcjnv3bPe+ybri3LWF+UAgJTHv3znk574vbvXk141IP4qu\\u002fJX2RX318X3PMdBUZ3D9veju3QO27KkQe5Ngi6SrLGY9leWXNDU7rnpPhmvvUIXbZkUEfvVzKWfXTixo+wKSVEREpn7SOYOeW\\u002fK\\u002fEiJbEtJ3oaiHDlfMDM68e+jp\\u002f7n1AFPghX448DqBY1W+\\u002f684pFxkfGtlYdgsX5+\\u002fy9myNflU8WXTxUzgiRJv3bft0Ixf8PltxhNnVBmzcny99GchwomBi9lRvuw2jJNfnYpAKx6ednUZc1LUACApuiWy9u9zbtz8o6fDhddrKgoqI1ICDm27SwAzLtjMqNbRmbTh6uLx6\\u002fMjmHWuyq+VOHO4dLHtLlGs9vxBTwAaLxaW8tbwbkyZqjvkXAUEo7CQhiYDV6OabeMUM5Ae3eqen\\u002f92hxjFjPqC0WwYfIpzKivHkywbl32sVZjvu3uifc8MM07PiM60fvwPgB4a+LctyYyx6IVfMELo6e8MLr1f4BKICy\\u002f7wVmtDUl9z7PDPn6v+N7D1eX7l52T6LvYJW7dvzpuir3HN+ypEHe85Ue2bc9xgxdNS8upf0hq0SFuv1\\u002fBR\\u002fj\\u002fH3M1L+Pmeod\\u002fGDqwg+mLnR\\u002fHfjjwOoFH+466iLI+yZ3YFSMdV2RKa\\u002fxmJAZb\\u002fy94j2K9jN\\u002fNCl46TWZl+k0m6VpgEqqYD7C+\\u002f48YTW1t1Y6ZXhs4uDo4suVBzeeSh+dYDHYxDLhlCXMqzgkSjVqxqDs\\u002fTl\\u002ffrxz6tLRPEHzCBlN06v\\u002fuw0A1OGKUdN6b\\u002fQ6LDaoprTh4pECwkVweM3v5prqxqNbsr069l2JkqEXDIeZUS8aZ9URzcapIcuZDT2DBnpv3erDGp9hi1ZlyMZKuSpm1FcPJlj9xYm6yiiJnJFdAYCUywcAk6v1gWUWy+O1TXu5GJZX03C2vGb2oKTp6Z1cdcca8H4\\u002f+wYz1IsshOGnstfbHzAAAClXNTFoCTPat0UnhQlEfIfN+eenu5KHx4bFBgGAprpx63cHN3y5VygR2K9mYK2ad+ekz15cc3LnRfcS9ek3ZfKFrUzIPvTvW56c\\u002fWbFldoXlr5\\u002f76tXC40W1Kx5f\\u002fvxHecB4JE3V3onOj1t\\u002fPxhZw\\u002fm1pZr3rz\\u002f61UvL4tICHHaXecP53372nqK6h\\u002fVGdNkme0nWACwr\\u002f43NT9isHwCs6G7GXDN5qrPiyznmQ0tIIBMDr6RGW2h954KfZaMx6+2mGqt5nBx8ye2Bpvlt4ILCMCIkAivvixWK06VVNUazCqJcNWkUe5KWixWX1PvqFhd\\u002fqbeX+FEAJgbdhev3frUvePIluwD60\\u002fZTHaryW412SmSAoBf3tmy46fDIqlALBOKpMJnPr7bnQnxBNy7Xlry9at\\u002fXDlXtmrUPyRykcuJuxw4ANzxwiKXA\\u002f\\u002fj452Mn+9t+vKx3\\u002fxzXUlOlaamEQDm3cmcH3SLSQl\\u002ffc0Tr9\\u002f9Rf6ZkheWvO\\u002fdhHHQR966ddKikd7Bnjb\\u002fzsmHNp65fKLw+I7z7gzPTaYSv7H2CcY9dOvQo9oL0mXj\\u002fM4S0kD\\u002fWfl+o6tucvAyv5UdOsdOWo5pN2dpt7mo9hJxjxHKGRFC\\u002fx+k2QQLHhqS+eLRnQs3\\u002fTQ\\u002fLiVUJDHjrnKT\\u002flBVqYMknhoxsWUxdxaLYcczq5ghFqvPsJOWw5r1x7Vb\\u002fc4MAkCiZNgwhc+ahGul5HLl8e3nGEGz3mrWNy89fuK92z2pwI2PzEoYHLXu011leTUGjUkiFw2fnLb0oZkjp2V4Jx+tkshFkxeP2vfHCVOjNXFITNLQGGaPq4ZMSPnuxBsbv9qbtfNCXZmWoqjgCOXwKenLHp7JWBTfCzg8zlsbnt701b7Dm85UFdUROKkOV4yZNeTWZxaoQuVSpdj7sXLr6KPa0zAEG6deuLd+NbPBF0VTe+p+yTVmzQ67I1EyjNncWRRNVdjyzukPXDIexalAD4mRcBSzw+5gRluDeB8C2L3aWoPVB+2pKPop9+wlbZ3J5eShWKhYMjw4YmXKkAkRscyuLBarZ0x7\\u002fgujtZWPj\\u002ffPG\\u002fvY4ut9XFBXZzSbbHEp4QBQYcu3EAYlL1TJDRVgTaWbGGigdc6aGntxjjGrwHyGpAlmj9bwUeFjyR8qeaHMBharxxA0\\u002fr+Cx4y4htnQhhBBzDDFlBTpqFBBbCcGtEiaaHBWVlrzy235ReZzfo\\u002frYUARdFX8a\\u002fHiIcyG1rAjWAAAs2OSZsf42X4\\u002f8Nic+JUqTVGNtrBaW1KnM1odVofL6nDZnDgAiPhcEZ8n4nOlIn5kkDw2RBkToogNUSaGq7mcXt3Q0VJZvf5EXnlBlaa8Xl\\u002fbaHLfZwQBPpcjFfFDFJLoIEVqVPDwxIhBcWG9WfWeoujCGm1OeV1pbWN5g77BYNGabDaHy0kQCCBcDsrncuRigUIiDFfJYoIVSRFBQ+PDw1R9ZTWxw0XkVzbkVtQX1Wjr9eY6vcVotTtchMNFoCgi5HEFPI6Qx1VIhJFBski1PEItT4xQp0UFX\\u002fOnxID39b83H95+\\u002fq\\u002fSDwAg13ji2NUi7AJMxEfFPJTHRflclI8A6qTsTtJmJvSBfyL3uCHiATa7YvUyDsJdGvXoz6WvB3iqb4OjYk\\u002fdr3vqfhVikjBBfLAgSskNkXKVAkzCQ\\u002fkYwkEAoWiSpEmCdjlIm5OyWQmTCdeZcK3OVdvoqqNoZk3\\u002fwC0Ivy\\u002fA7ArYBOs6ZHW4Dl8q2Z195XhumYtoc8rASJCe4YTzxTWeuIDHGZ4YmZkSPTo1elBMKNq1Anpfbs\\u002f6avsJRvCxxRPunzeWEQQAo9WxOStn3ZGLlRoDsw0AAAjSZXW46hrNF0tqt5\\u002fKAwCFRDhvdOotU4bFh\\u002fnZ7tEVVVrj4Uslx3LKzhVV2104s7kJTbooh4swWh0VDYaLJbWehqgg+fRhSYvGZyRHBHn17z2NZtvu7CuHLpVkF1bhbTwlSApwgjTZAADKG\\u002fQXSpqfEjwuJyMmZGh8+Pj02DGp0YyjRfsIgqRe+HbbgQvMCggec0el\\u002fueeeX3zzgOAtY0yTg7S5iBtzGinjFTOHK6czoyyWD0vSTJ8WsjNBxr+YDa0y05aSq2XSq2XmA09ZmHE\\u002fWPVC5jRtnUmwWqoN23blH0uu6y6Sm+zOiUSgVIlTkkPzxyXNHUG8\\u002fw1DENdLuLPNScO78+rrTFQFBUSJh87PmnlHRPkV88l8OZyEds3nz20P6+8TOtw4EqleOjwmJtWZCZ7nYLO0NGb1NYYNv55+vzZsroaA44TcoVYpZakZURMmJQyfFQc5+pB6C8\\u002f\\u002f\\u002fuprKJBQ6L+98Xdvj+gycfv79y6MTskVPbrn4\\u002f3fqHeTrC78J\\u002f3ZP+050zbSYB\\u002fDhdxIq\\u002f8RF45AKhl4gWZaYvGdXNmcKVKy4gQJLXmwLmvdpywOlyMpvYZLPa1B8\\u002f\\u002fcejCgsz0p5ZNUrd2yGCnGa2OrSdzd57Ozyn3v3C4HVVa4y\\u002f7sn\\u002fZlz0mJfrJZZMHxfbeEEJeZcOv+7L3nC1sK68KhAsnzhfXnC+u+XlvtkwkmDIkYemEQaOSo5j9rh2cIJ\\u002f\\u002fZtuhS22e27p0wqBXb5\\u002fdm4OdHeUpQ9BDokWpiyIfYkZZrN4yI\\u002fRWC2E83biL2dA3cFH+4siHhyumMRva1eEEa9O60199ts\\u002f7aCej0WY02spKNUaDrWWChSLI3x76sbiw+R2oslxXWa47tD\\u002fvk69XqYN8JkdqawwvP7+2slzniWgaTPt2X96\\u002f5\\u002fKDj81avrKVUY2O3uTUieLXX17ndDavSNBpzTqtubCgdseWc79teEKllrjjy5aPOZVVlHOpqqSoPiGJ+Z7nchEH9uQAwPxFI\\u002fpFdrX1RO5Hm47qTMw1j12hM1l\\u002f2Zv9y97stOiQzx5fppK2kjF3wpUqn8n4ukbzM19tyats8A52CEXT207mHs0p\\u002fc+qeRMy4pjNHefOS\\u002faeLWxnCLATTl+pvPPd326bPvLJpZN6etKtrtH8yZajf53O795FmCabY9vJ3NTo4L6TYLkI8tmvtx69XMpsuOrW6SOeXz6tDydXAABWc3uVnLooRBBzZ9wrHKS5sBOL1fsWRT7EQ\\u002fnHtFuYDddaED9yZcwLoYI2tz60pWMJ1o4t5z77324ACA2T37Qic8iwGLlCZDDYKsq0J44Vzp7fVGbd2++rs0iSuv+RGTNmD1IHSTX1pk3rT69be1LTYPrhm0PPvXSDp6fN5nrpmTXVVY0qleSBx2YMHxknlQkry7W\\u002f\\u002fnj02OGCrz7dGxYunzQ1zetnd\\u002fgmNA3\\u002fe3eH00kMHxV3\\u002f8PTY+ODORxM02AqK2k4ergAw1BPdgUAozITomPVleW6zRuyn36BOSp49FCBxeJAUWT+Dd22o6GHkBT1+q97t5zIYTZ0HxdBdld2BQCVGoPdhQt5XADIq6h\\u002f7NONeks3vLsYLPa\\u002ffb75tTtn3zC2S5UAn\\u002flqSzszTV1E07B6\\u002f9krVZqPHl3ifgR6wvaTeW\\u002f9vr+jw4EB4nKwGzKZH7SuFRdOPP3VluO55cyGq+6bl\\u002fn44jYPU+p2O37LytpzedriETOXjfYEv39nm1eX1mlrjcxQNwkVxN4d\\u002f08h1vzSx2JdEwgg88LvCRPEba35OsByCT2Ni\\u002fKmBN80KXhZ5z5+dCDBslqcX3++DwASk0Pf\\u002f+ROsYTvjgeHyJJTwmbOGezT+yqHA\\u002f\\u002f7q0tmzm1qDQ2XP\\u002fT4rOoqfdbRK1lHr3j3XLf2RHVVI4eLvfvx7bFxTVNOSSlhr725\\u002fKlHfsq5VPXNF\\u002fsnTk71Hi7q6E3MJrumwQQAt989KTW9qcBVeIQiPEIxfhKz5DqCwNLlYz55f+e+3ZcfeHSGROJTGGbntvMAMH5iCmMQrq+haPqFb7fvP1\\u002fEbOhWyycFuugvEBRNF9XohsSFldU1PvrpRkN3ZFduJEX985fdKqmoK+NYEWo5M9TdTl+pfP6bbR8\\u002furTbJ61Iivr3b3v\\u002fn72zjmvr7OL4E3fH3V2LU3e3rV1tW7t17r69e+fyzrt13rXdOuva1d1bSpEaUNzdJRB3ef8IDeEhgRtIIEC+n\\u002f2RnHPDyuXJvb97niNHs6yotmdH+zOpJNg6FsiVqhd+Pq7bzjbKcyunPbSw31gVa\\u002fPLR8fkUkXxzRpDgXXg58sGh4wqAdSYdV6vmipFtGNn9IlhzfahhB9r\\u002fglJw0\\u002frgUXhYlizZzqtYeIcYR9izMjozEwvF4vkAIBnX1qkV1dD4uLK1KsrPfFJfgAAAV8qEffVuZw7lQ8AmDMvXC+V9Ky8Nx4A0NLUU1XZZmg39yM0OolGJwEATh7NkcuGzkNasDiKQiXIZcrzpwsM7e1t\\u002fDu5dQCAJStjDe02yPfHM62trgg47LLkEcWEBlLR1ClVKJ\\u002f76ZgF1ZUOjUb75m9nuLps7WFx\\u002f9wpo5AKnVlc9\\u002fv527B1ZMgUqud\\u002fOmZVdQUAuGeqJdX2sJEpVM\\u002f9eNSUukKhwOv3zR5ldQUAiJ0aCACITg2A7GgM2smdNch\\u002faIyFlxwOjV\\u002fkuuVB33fs6sqOrcHEO232fXez77ue5GDYZ32YeKdZTve9ErJzpfuTI1FXwKwIVnFREwCAyaKER5qRXREZ7QmbAOA49Iaj5XIVmUIAAHR2CDraBQCA0Agj47Xd3Fm6F7XVnfrU9WF8BIUCDz8+a\\u002fsXZ65eLs3LqVuwOGrugoiAIJPd4YhE3KKlMYf23zh+OGf12kR9NOHc6XytFji7MBIS\\u002ffp9wMYobewY\\u002fCaNw2IifVzigjx8nNjuDnQGhUTEYXFYjFimEErlQomsqYtf2dxV1dJV0dwlkhqv+l4YF0wjIRXcCMmvaSmsbTVaLYhGoWL83RKCPUM9ndw4DBqJgMOihRI5Tyyra++5XdGYXVrfLRxMP\\u002fHFsm2Hr368ZTHsQIYLi7YoPlhXpWgUChEf7OEY4ukU7OnoxKDSyUQ6hUjEYUVSuVAqb+jkFda23ihvrGvrhj\\u002fZn1\\u002fOXF+SFOrMtMzejUajfW3XycziOthhAkcGNdCd48yisWlkAg6LRaOFMrlQIu\\u002fii6tbuc1dfI2x7C13DiMx2OxMBYsjVSif\\u002feFoTmUT7AAAAIBGo97ZNH9lipHRotbm3Z1blQoVbsA0FTdvh52X3oCMhjwy+5PmOqSNggYHjcJEM2fOc95Ix8HzwezYsR0CqDEB1JhGSUVOz8UiXoZcY+GHbQg23jWQFhvFnO5JDh5Gey2jwN\\u002fzQejmigAALq5M2DEohllNA9H3veB2iXQvtn9xZvsXZ\\u002fqO6I\\u002fQINNzGB8BACxbOcXBkfbrjrTa6o6D+24c3HfD28dhyYrYxctjSMZ61668N\\u002f7wgZvNTd25t2riEv0AAFot0AW0lth8evvPJ7ON3gUBAEQ89uEFiWtmRLGM7eZw6PBDrUarLa5vv15Sn11aX1Dbqtb09RFZM93yEYsT10tgEwAEHPa+GdGb5k4ZqDl05YEx\\u002fm6rUsMVStXhzKKdZ24MIrPO3ip\\u002feGGiv+swbzCb58cPFFjBHo4zo\\u002fxnRfmFeDob3dlzYFAAAJG+rksTQwEAN8sbdpy6nlvVDB93F5lC9ffl3JfuMT7v3Fw+\\u002fffKNdOJ3jpQKJAY7LUgLmhauK\\u002fTgJNsiEKpKm\\u002fqvF7WcLO8oaCmVZ\\u002fsv2pquNHffTSRyJXPfH8kr9r4icVi0B9vWbwgDk4JGDUGqisAAIM9RH0rmdaXooBFDycdBADgTPQKZ0yNZ8+nYXufP+3YsXE8yUGe5KDlbo\\u002fViYsrhLl14qJ2Wb0awUyCIcGh8c5Ebxeiryc5yJ8axRhZsMooRr7qptD1fDf36om52\\u002fVgKHp1AGrQrJP+amEYHwEAgOTUwOTUwDu59edP52dcLa+v6\\u002frp2wv7\\u002f8p+7a3lOglliKsbMzk1MDuj4tjhHJ03L6e2vY2PwaAX2XZ6eydfdK3IeF26C5v207P3+jibcZFFo1CRPi6RPi6PLknii2UXcitO3yy7U9Mc4OYQ6Wu8HYZlCfd2\\u002ft9DS7ycmLBjAHgcdv2smFnR\\u002fi\\u002f8dKy8f0GiHo1Wu\\u002f9q\\u002fpvr58AOZAS6O6SGeetSp9049HumRi5NCnVhmZeNlxjsFR\\u002fkufvszR9PZMG+uxzLKn5u5TTsiLeHLt2pOpCeD1v7Mzcm4OkVUxE2DMPjsJG+rpG+ro8uThLLFGn51Wdul92qaBqTsJAhYpni6e+PGLbpMgSPw3756LLpEb6wY6yhsweTswAACr1PYM1z3pTEWdIureuUN\\u002fco23mKDqGKJ1EJpWqhSqtUa5VarRaLxuPQBCqWycBxHAkebqQAb0roCPc77NgZKzAorD81WjckR6VVtklrO+XN3Yq2HkWbUMWTqAQStVChkam1SrVWpdVq0Sg0BoVDozBYFI6AIZEwNDKGSsLQ6DgOC+\\u002fExDmx8M5svAsaNdJL6+CYIbCYLAoAQLcrZ3FYrN7rywefrE2eGtjfaZxhfMSQmCneMVO8n39Feel80V97Mjo7BB+8deiXPx5zdoFTmFevTcjOqLieVdnRLnBypuvCV8lTAwcPzo05WSX1A8UlAACFAtseX2GWuoJgUIhrpketmR7VwhVYPEfKKDMj\\u002fT57ZCkBZ8ZydWHRdr9037qP\\u002f2rm8mEfAACAs7fKXls7a9ja5aEFiTgMZs30qNRwn0EV\\u002fmCgUahHFycp1eqdp2\\u002fAPgAAAAKJLLeqaYSbbjyR9KO9F2GrAQwK8cPNi4YtOyhE\\u002fNKk0KVJoRK5kkwYZnDFIoik8qe+P1JY2wo7AAAAkAm4r59YmRhsJGlhbHnmozUefk6wtT8UWr9IMw3LotFYAbRYQ6PFKeEdKOrZDwBg4\\u002f3nuX8Gu+2Yif18WgQsCudBDvIgj1kQGjlm3F1CwtwAANwuYVVFv0xzi+DsynBwpAEASoqMp00MZBgfGQiBiFuyIvbbHVsIRJxEooAKG3XExvn4+DpqNdpzp\\u002fKlUkVmejkAYNnKKfBxNkaZicZRKaHeoZ5DXM0R4sahh1m\\u002fK2akr+vnZqorHRQi\\u002fn8PLTalfoRSeYGJOzES4oM8vnly5bQIX1M\\u002fHzlPLk2N9TeSR6jjVvnwl7eOX87cGEQHu3MYe9\\u002fYNGx1ZcjYqiuhVP7Et4dMqSsaifDTs\\u002ffaoLoCACzdlBqdEgBb+7P8ganPfLQGtlqZelG6SNkmUrZJ1F2wz4752M\\u002fnZMMMgTV9VgiRiAMAfP\\u002f1OSQleOayeHkMAODEkdyWph7YBwAAQKOBAzLmfkQ74CfocHCkkcl4AIBUYrwz0Kq1CQCAyxeKrmdWyWRKF1fmwM1EW6OD15ujBhHuYzKp3wYhE3CfPLwYb7660hHl5zrNtHTIqRipdrEIKBR4dEkSbL1LSUM7bDKH1m7BwWsFsPUubBp514tr3Th02GFLIFGwAons8e2HTLXUZ1FJv7ywJspvNPayrUR0auDSTamw1ZqotLIOaRFstTNc7OdzEmLGfYvBIG9+ZOaO7y8WFzY9uXX3mnVJYREeFCpBwJd2tPPv5NbLZcoXBjTkRM7aDcnX0srqajqfeey3tRuS4xJ8WWyKRKLo5ooa67uyrlWw2NTX314xko9kpJcf2n9j2syQqBgvDy8OmYyXShWN9dyD+270dIsBAKZk07wFEbt\\u002fvtLU2H3mRB4AYMmKWCQX\\u002fbFFZmIeDpVo4Yo\\u002fq\\u002fLQwgT3kfWdWjczJt3EjJTyJuNBvtEnJdTblU1v7Tay\\u002f95grJQSOfvS7pgag4NCgc+2LrWdUdOmGLLhKl8se+LbQ6ZCto4M6o7n70WYW2ZHT5skX601fg2xMwzs53MSYobAAgCsWZ8klyt\\u002f353eWM\\u002f9+vPTkDc2zgeymAWJhP9024YP3jpUUtT8644rv+64Ah0way7cbMncj2i12uLCpuJC43GLhx6dFRRi\\u002fBmXQMQtXhb9797reTl1GAx64VIjPettDaqJ1gktJnKSbBAaibBpzki3YhODPfE4rEKpgh0AVA\\u002fVKGE0mRLofuqGEYHV0SOETYhRqtRG6zF1rE6NjA8yo+XKWEExVt6rhyeSPrb9YGWz8T0Xdw7j5+fv9XAYkUafnLRIbsEmOyPAfj4nIeYJLADAps3TZswKPXE0Nz+3rq2Nr5AraXQSi02NivGaM3+kBUQcB9o3P26+drXs8vni8rIWPk+CJ2DZHKq7Bzt1WlDqDCNJbWZ9JD7J\\u002f6nnF9y+WVNf18nrFiuUajwe6+RED4\\u002f0WLpyii7JzBQr7ok\\u002fuO+GRqNNnR7EHqrkxxYwNbvmSn71q2tnjUKrzJGzPDlsyOjFkGAx6BBPx4IaI6k5nSZ2UceECG+XUzfg1g8AAIVKLVeqhpGCBgDIKqkzNWUIj8M+tTwFttokFKJJgdUtlDy+\\u002fWBVCxd2AAAA8HFm7Xh+zeD9JuyYwi4ILIv9fE5ChnPV9vTmPPX8fNg6gH+OPAeb7jJ1evCFjP\\u002fCVgAAACg0asbs0BmzQ2GHaZB\\u002fhEzGr16bsHptAuxAAPpuy6ulNp\\u002feriPUy3gmewdPtPPMjSeWjoOb68K4YNg0LILcjQsssUyhUKqGneBlWQYZLyNTDFNgpRfWwqa7rEgO0zUPs32oJgQWVyB+bPuhmlbj6irIw\\u002fGnZ+8x9ZhhZ3Bk6p5uufGNdTvDwH4+JyfjIIxhIxw\\u002fnKPRaN3cWVPiTSZN2xSJQSZr+385ff3XczeNNnGwHRgUYoSvZfLxaWTju6UAAKnCyNbhmMCg9Bt2aYhK3dfW1SyySupg012WJQ39QGIjUIxlDXbxxY98c9CUuor0cdn5wprxoq5+\\u002fezk\\u002fh8vwVYDujsEh3ZeuX21DHZYjWbJbX2jQTsjx34+JyfDeSyehHC7hMcO3QYA3HNf38AcG8eFTUsK8bpR1gA7ANBqwXfHMjOK6l68Z\\u002frotAkdBlG+riPvgKBjkEk+CpWtCCwcBgOb+hjOpbmdJ2ozkb\\u002flyKBG+w22IW5TDMzB6uCJHvvmYH2H8drh+CCP7U+uGtueEWZx4OfLHBfGuqfmwo67yKXKXf87EZHgFz8zBPZZAaVG2iC6BlutjFIjaRBltEpzu+XVImWrUiPWAg0WRaLgnJh4HxdSjDd1BhnrAH9sPDAm53PMkauFDeJrzeKbPYoaiapTqZGgAAaPplJxLgy8lxMp0o0cR8cNMwd0vKwWu8AyiYAvJRBxaDSqoqz12y\\u002fPSKUKTy\\u002fO0hXW7exnWR5akGBUYOnIq25+8It9SSFeD86LSwn1sZCYsRihXhbrsDVIIpeJxh0TAVNVdQCAhOBhXtfGBFr\\u002fLcIekfTRbw40dPAMjXqmRfh+9egyG9n2tRQsRxoAoLm2E3ZYCJGyrVtepf9PoGyGNH2XrPzXimmGFlPcH3AWjzYv6U2i6rzT\\u002fUcV\\u002f4xKK4NcCq1IIRf1yGtqhZevd3zjTZ0ey9nKIhiv9YYQKpuP1j+s1Ij1FjQKt9xrB4dgJJfXFHK14Ej9Zomq35mf5\\u002f6ZF2WqoQVi1M4nX1F\\u002fqG6ToWWmy9v+9IWGlsERKJsO1q43tCD8CYb\\u002f\\u002fmj2A3EOj+vfqrXyPO6vpbzDSnh6oFqq7paquztlJVWCswAAB2LoCq9fgDmD\\u002f6y0WqzEhLoMWZavPj2Zda2v7yiZQvjv+6uxuEHCDDZHUojXksSQ0zcH21m4UdZwo6zB24m1ZkbU8qSwQTaqRhlvJxZssmMOFSbGBAEAIn1sNGxpFIpBAFKqUD7zwxFT6mpebOAnDy8Zdnd+m4VAwgEAhHwJ7Bgx19o+qRddVWjGrNqjgn\\u002fiRud3Ss3Qv5oWaOpEVxvEGdHszTGcLaih8ltoOPepzq+mtb6nt2i0yrTW91d5\\u002f4pBmQxpQ2S2fwapqwjW+kHU1ZifzzFBpOzrPc5XNF5seZ2vMPlgbwgBTTNLXVlvtVgJu8AyiYsrk82hCvgSKo0UG+f94NaZHp7jr5XOf9bNKa5rN7WZoqe+o+erg1e\\u002fPZoxK8p\\u002fRXJYSpj3mJcZ2nj3yyHhi2X17T3tPGEnX8wVSMQyuVimlMoVMqVKrlTJFSrdC4VSLVOq5AqV3FgjiZHQwjXS9EFHgNvYB8+Ro68iVGs0r\\u002fxyssREN9HlyWHv3b9AX4wykeB1iQAAaCsIxx5F1VipAS3QZHd8XcY7AjsGRaNV53F\\u002f7ZZXzXZ9H40yGZnW4Ueb1yLJqeCf0Fv4ivobHd+lOr9icJRJyvnH60RXDS2OxLB4hycMLRBjeD7HEJGq9yvZI68+0\\u002fSCTD3E7UaPJxVprdUorBZrYBdYJnnyuflPPjd0saSNQyURdryw5tkfjphqFGSIUqW+kFtxIbeCTSMvig9ekRIe7OEIHzRasPoPX7N95ErV7YqmvOrmwtq28qYOvhiOYI8yplr5AwA8EczMthFwWAwe2xs2fv+vC6bS9u+bEf3Gujm2ts1tEbQa7b4fLgIAXL04OsuajA+75EN3s3MgMA5Oexu22gxZ7V+W84\\u002fDVgBoOHcWwZeIYWi1Wrma3y2v0t+\\u002f9dSL0jPaP53hMvRvl+L0Qqe0qEfRV05bxj\\u002fqQUn2og6xQ8dXNN7o\\u002fNbQgkdTZ7m+j0bZb5owYmU7AECi4p5vfhVSVyiAJmDoRAxTrVXK1DzDHVsAgKfpWCDE6KwWi2NfKxMfZyb1j1c3fHkw7VBGIewzQbdQsvdK3t4recEejvdMi1yaGDpILyIrQSfbymbl4ChU6qsF1SdvlF4vazDaznSs6BL0u5bpQaEAZ5yU1wGD8NW3xzIGaZrq7sAYX+rqk2f\\u002f6OnsK0Hgc0Wvrf\\u002fBwN+LVqNtbeRy2\\u002fgAgKkLLd\\u002ffOMHhKbnaSKSzoOevLlm5\\u002fi0N55bg8KSB3yRYFKKvbQnvAHS\\u002fxKDwIcxV4cz7qDi4drhHUZvP\\u002fb1GeMkwk6lKcM6FFBvEWGZwoBEwKMJstw+P1z9imLKT0f7JauKfJKzJHQmNVnW17T2Vpt8z0jSX\\u002f9BwQ+ytj9X5HFsk6i6NVpXW+q5Y1Zv3ScDQQhir3ClJTsRww9CRWNXRLi1oEmfXizLIWAcaDlGpzaitFotjF1iTAiIe+9bGeYviQz4\\u002fcAVJKEtPeVPnJ\\u002fsubz9ybXly2P1z40azI7Y+bmGzSOTK\\u002fVfv\\u002fH05lysYOidg9JHIFLAJAAAAhUgYR1lKuiZY+9Lu\\u002fHZusD6N249c83Zizozyhx22ChqNLs9vUNwd6qpSqgtvVPc\\u002fpB9BUV5rn5gDW0eMKzkONgEAAKgUnDF8S8DQfGizDS0jga9ovNX5o6GFgnWa7\\u002f4ZmxBoaNTDwvvOcn3Pkzr1WtvHGm3fM0x2x9fulEQK1njDPz1MvE+y0wsZ7Z\\u002fqLTI1P73to4UeX5lKAMrh7jTUQwCAMOa9PtSZhhajjMn5HHM0WnVWx5dt0ju6t+GstVM4j+DQRtrsUbBOfrR5frR5Kq1MoGiC3cYY5dViWewCaxIRH+Sx7837T98s3XH6RpM5E+4kcuX+q\\u002fkHrhUsmBL0+JJkn1EZ64azbRFwKa\\u002fyiwNp7aa34cYcudL4CELCuCrUoBDxF\\u002fMqvziQBjv6o9Fq\\u002f\\u002fPrmd9eWTeGm9pm8fr2+5UKVfGt2ltpJYd3XSWQ8KkLI+GDAEABQKGTQqf4TF8ajbX5Rw6E3OjcbjiVD4cmLfL4moH3NjjECP60+RJVp+G9Vq2VF\\u002fXsS3I02dFaTxBjWaskp1p4QW9pltws7vk3nLXO4KheWiW5Rd3\\u002fGFo4hKAEx2cMLXYgKvgnAQAAoKY5v44kUIRFEdmEANhqjNFfLRbELrAmF2gUallS2OKEkPM5FX9ezCk1Xck\\u002fEI1Ge\\u002fZ2+fmcitVTI55eMZVluvP4xEapUn9+IO3gtQLYMSxQKEDE4UgEnEar5ZkYazM8TLX4wo2r+3Rrt\\u002fC\\u002fv53RIOiKK1Uon\\u002f\\u002fx6F+vb3RgGHl0tkFweGzM1MCYqYHnD9wkkPCvfd2v3n6i0iUraxJfN7QkODw15P1SRwRrfQX\\u002fpGGFWjn\\u002feAx7CwEzdEFMqvOrnbJSgbIvanK762dXcjyb0C\\u002fqKVcL0ts+0oK+1r44NHm22weYsUiRHndEsjYgUVfIGavVYinsAmsygkGjFyeELE4Iya1q\\u002fvdq\\u002fqU7lch7hWu02kMZhRfzKl9dM2vp+OkGbikUKvVLO45nFtfBDhO4cxh+rmxPR6Yzi+ZApzCpRCqRQCHhSXgciYAj4XFEfO938Nzt8jd+Pd3\\u002f0yPCVJtWtXposWI7CCRm1Aq080TP\\u002f3zs15fuG95kobHCL9S9uc5kT40JRhm\\u002fXyEYGeuI\\u002fJaMAuhgxoqbnd\\u002frLSqNrFGcFUBfZHCUcXQ66UTD45q74RC1Vnm19b0V3rsxqL4E08z2z\\u002fWJRDqmOr827H6YkwoaztWwG5ZFGKvVYinG02VIh0ApaZFyW6TcVml3i7SrVdYjVslkaoX+P6VWhUFhcCgMDo0lYHA0LJmBpzBwZBae5kpku5E4riS2O9mBgLY\\u002fkYApAe5TAty7hZJTN0qPZRdXmxg8MhC+WPbW72dvlje+tXHu+IqIjJB3\\u002fjg3pLpyYFDmxQYmh3pPCXAfpIm8tTElMkxFtsYRoZ5OpoKvJfXtb+05+\\u002fkjy0zIS1vEL8xtkggsjVZVJ+zX+MCXNses+nl3ciJkaZPeQXjL5BCCEh2fut6xXW\\u002fpUdTe7Pw+xekl3dsK\\u002fok6UZreCwAIZqzwo80ztNgxRRhzLRplyXvB2K4Wi2D8EmxTaIG2XtxRyKst4NUW8mrbZN3wEQPQaFVKoAJqOVCCDsCD3QCgUWgvsmMgzT2A5h7J8Amme2JQNp3xY1XYNPID8+IemBdXXN9+8kbJmVtlCFsMHL9e3CUQf\\u002fvUyjFvmjU6HLxWcO52v9RXiAA3zhNLU2ZHB9hCNyZTAkskVWi1YBzpD0M8HJlvbZibGOz1xq+nzuf09QE25GJe5Q8nMp9ZgbQCfMzZ8Mz8pZtSYetEpFNWDLWJ8qAkG74dEibBB4siGpYEtknu9LmHIoy5tlWSW28wuKaUd9iTkuJBSREomq539mkvAACL4J\\u002fs9IKhxc4g+NMXwKaRMearZeQYvwTbAhqtJqen6lJbblZXiUBp4SotjVZTJ26vE7dfaMsFAJAxhCiWXzw7aLpjpDORCR89aQj3dg73dn7xnhmX71QdSM\\u002fPrWqGjxhAVkndN4evvbxm6Pqa8Q5fLPv+eCZsNWDj7NiX751pC9JKB5NKMtpgVq3R8MVS5nhLocNi0A\\u002fMi3tiSbJuDM6HDy5s7RYW1rbCxwEAANh99qavM3u8bGHTWRQ6a3zkjY2QdmkRZOEgy3TWgwJoEpYlVPb93YXKFgC0puoBBzLN+U2ubItht6T0tv+t9N6d1r8vAxZNnOP6geHuoZ1BYOA9iRgmbB0ZtrBaRogtCqxSQcOFttwr7fk9ir4+MVZFopZf7yq93lX6fcWxELrnTKeo+S5xDoTRS4WzKfBYzKL44EXxwZXNXX9czDlzq0ytGSxD66\\u002fLucmh3lPDfWDHxOLAtfxBAnsv3TvjgbnGK7QRYvHEKGcWFTbdpYUrGF8CK9LX9Z1N8wPcejttAgDwOOw3T6x44PN\\u002fTDWsf\\u002f\\u002fvC24O9Fh\\u002fd9hhZ+zokVcZvsWhKUQMy9CCBFz\\u002f2XxaoFFoxIMM7IMgYGizXN873fSMRttbZitT9xytf0iu5hselur0CsJkajsAALY5Ex4RYgurZYTYlsC6xS3\\u002fo+5iIa8WdowiZYLGMkHjruozKQ5hy92TE9jBppKFJzyB7g4fbl745LKUn05mn7pZMkgh1\\u002ffHM1PDbG5ctGU5mlkMm+4yM9JvhOoKACBTWDg1yplFg013qWnjhnk7w1ZbZWli6AebFw78GrJp5O+eWrX5y\\u002f0iqRxyAQCUKvVLO078+dqG0WzeZmdwBMp+QXGlRoxw5vHgyNV8s26ZTqTIKZxHb3f9rLdA6iqQvmQ0M3UmANYozbOR1TISbCJ1Rgu0GZ1Fj9\\u002fa\\u002fuqdnWOrrvSotZqMzqLX7+zafP3zs6231drBQjgTGzcO\\u002fcPNC399aZ0r2+RXqKyxI7u0HrZOIGrbupu5\\u002fS7BetAo1H82zIWt5iOSGVEJI8HftS\\u002feA1FsYpyfbeLKpg9UVzr8XDlfPLLUVAogTyR97sejRuWXTaFSqbs7jMThOpp7jv9+bd8PFysLG2Hf+ESqQlpGYxZKjdn9TaLYmwZmQOtg4n1SnHvT3u0ghIA2+Tg3bGxntQwb4xem0aRO3Pbs7R\\u002feKthTLrDFi0ijpPPTkn2bsj7tkPFg32Qixt9tzyvrPByZsOMu14pqYNMEIr\\u002fGeK4PACA+yMOZaYHnobZuC2+Ih3ia7FmcU9EEm8YtyaHe\\u002f1lvssV5bVv3a7tODb7HPebkZ1U+mPrB9jf+NTTmXit\\u002fYuHnP7135PcvTz+34ut931809I5TlFoLZ9PexXR03SSoma5vD5yWoxutMy4G1NgU1hjRaEurZZiMpcBSalS7a84+cuPrIn4d7LMxaDiS0yROftfhxKQOEi24WW6L+thS1LebrF2dEekHm4ZFZbOFC\\u002fX9XTn6JlsQlS1dTV3GA3LjkXunRT4wz+QWbXZp\\u002fef\\u002fpsFWWyL7QpFarVGr+zrvSyXyL1\\u002feKxXLCSQ8y4EGAPj9q9Pl+X0tE8cpak1fS+4xB4smEdBwVB6HJg402hkTbGq1DA\\u002fj199RoJhf\\u002f2nJvkaJhW8qVmKLr4ULUMcpIZ5O82IDz+UYaVXQYmIHbWLQY7rH+iA7p8hRqtQW37bDYtAJQZ7XiozvuZ++WfrYEvNqnm2ZF1ZPb+rkXck3Ps7v3\\u002fR8H2fWhtmxsMM2qMhvAACkGsxyPrfvRk+n0NGV+fXh5zkujM+e\\u002fyvteO7pvdnB0V59HxuHoFBow\\u002fABGcvxRjDgb0iGV7+W3f41T1EHGWVq\\u002ftW2DxZ5fI0a0+jDqKEdJLV2rLGp1TI8xkZgHW\\u002fO\\u002frb8qOpuEYeNE0hzn+oYDlsnK1PDfYwKLJlCJVUoSXgzusCNI6QKk89SDnQLFNjfLG8Um5jNPBKmR\\u002fiaElj\\u002fpudvmR+va3kwAUCjUP97aMnD2\\u002f4tbTCuU788dNXLiWWbta66BCyfIBe95cy+bADAxucWcFwYAIB7HpmZdjy35LbxP+U4AosiKkHfvg8Bw9Q3+RxlqgXnKwWnYCsAAIBWSU4+948YzhbYMRFRaU0+Oo45trNahs1oi3SVVr2t7NC2skPjRV0Be\\u002fiqPxzTekKpGjd\\u002fU3PBmp48jWRM3pAcsNBkQ4g5MYGm\\u002fuVcgeSftDuwdTxDxGO\\u002ffXKlqXw4jUb7+u5TVS1WSZsdIXyuGADg4MbUva0ubm6obCeRCbNXTtFZPPydAACdrTzd2\\u002fELlPMkV\\u002fMM344aAkVTVscXhhYoXpXH\\u002fbVdmm9omagoNVbKc7IANrJaRoLxi6+V4CvFL+b+fLw5G3bYMPbwFUS3UAyb7kIhTtimfGSCyV+NJx7pI2BpY8e1QquUCHDo5FlR\\u002fWbZGrLj1HVTpZHjFAcG5dunVpEJxsOoYpni+Z+Odgtt7o6Cw2MBACpF7\\u002fPJ5aO3AQCpiyIJpN5VRyITAAAKuckw6niBinM1fCtT89R3JwOOGmqt8krrO4alZBgUbpHH12Ssg96iBZorre9BvRsmJHK1hWtrLIgtrJYRMnoCS6CUvJj7s2W7MKAAypnIjGcHLXdPXuc1a4vfgicDl78QfM9Tgcu3+i\\u002fa6D17oWt8AjvIk+yIHu4knIHhq26FmKeAr9G3ubW7q9KPN+XJ1ONsBZhLWaPxtDkXFs1U\\u002fvsEwMV0T6kyE0PxEKJSaz7ee9EiYTCjDJJ4JFUoX95xwuL9t8aWIA\\u002fHz7YuNdVPv4UreHHHcYWNhVqdPdkAgIaqNgCAXKq4eOg2AGD+mr4mAlKxHNzVYeMaNqGf3Ndo1VxZmaFlFLjZ+R1X3m\\u002fIUrzDU67kuBkubxs2+JaoOtPbPjY4yjaB17m515GBWWi2gy2slhEySt9YnbqqEZmsdUcOEYOLZPrFswNjWYE+FGc8GtGvoNSomySdFcKmYn59Mb++RtSqRbAUjYav\\u002fq2\\u002fubvq6sEZz3hTep94tped\\u002f626d7jVb9XX\\u002fkh9jIabmFW+MoXq5I0S2AoAACDYwxE2TSD8TPeUyique2JpCmxFzBcH0iye3m7IlAD31DCfrJI62AEAAKC8qfO5H49uf2rlREqemxbh+8q9Mz8\\u002fkAY7AAAAFNS0vvfn+f89tBh2jB0xqYF15a2\\u002ffnZqwzPzT\\u002f+dJegR+wS7Rqf0TQVpqukAAOjKCcc1TsQIyNIuLXAiRUJG61EvSi\\u002flHTa0eFCSw1lrAABu5LhI1obCnr16V6M4q7hnfzhrXd\\u002fRNgYWDd9ozN3y4yksGfKwLGO+WkYOInUyQoQq6St5O6pFLbDDHNAoVCI7ZKl7UjInFIfGwO6hwKExvlQXX6rLQtd4AECPQnSDW3aDW5rdVSpTm0wuHhi+AgBkdFQw8WQvSu8dt4jXtKc6w4XEeDpobiGv6d\\u002f6m\\u002fvqrz8aMKvfZ0adPy\\u002fllDd1rkqJiAv0MNGjcTh88PcFU+NiUsJ8YNMEItKnLwEZorCuLaeyKS7QA3YMhUaj\\u002ffpw+r\\u002fpVk\\u002f1eGH19BtlDaZ6Qd2qaNz8xb4vHl3m7cSCfeaj0WqrmruCxlptb5gd29DJ22ciyezMrTIfZ5btFFGu3DL99D\\u002fZ+VmV+VmVOsuW15YaHlB4owYA4BU4es33Uf1DI5aqNXMlT4GG71YKzkSyNxkcYkVEyrZrbf8ztJAw7Bku\\u002f9XHgeIcHm2R3DaMb93q+smZFOVADNVbhoeVzufAjuRStcmGMgPRAk2rJAe22gxju1osgtX3dJQa1Wt5OyuEQ48NNgURg9vkM2f\\u002f1Lc+jdk63TFiGOpqICw8dZFr\\u002fLsRDxyd\\u002ft5b4ZuSHUIHtoo2Gr4CALRKeVFMT\\u002f0XZk91hhZoP4i+Z7lH7JsRy8MYbhdaTc5UGTVkCtWpG6WPfnNgxXu\\u002f7Tp7w+jQX7MQyxRv\\u002fnbmzC3jEVo8FrMwLgi2TiAcGJRBZsu8\\u002f5dJ3WkKrkD82PaDf13OhR1WINDd4dHFSbDVgMrmrvs+\\u002fuvHE1nC4TY912i0uVXNn\\u002f17ZeGbO1\\u002ffbbw4a5R5dc2saRG+sPUuP5\\u002fKNloMOya4eHHe\\u002fmmLgwsTAEBjkp\\u002f9eG3SnDDDAzLP5gMA4maEGBqtCg7Tr5bF3LiIKTAovA+tX6U9T1HXLLllaLESGq06rfVdhUZkYENNd\\u002fmv4Xg7NAo3y\\u002fU9wy6jGq3qSuu7So3JxFOEWOl84tBkNKpf7JkrM2NVt0sLJNbplm4RxnC1WAqrR7C2lR0qFTTAVmRgUOglbolbfBdwrDZ3mYjBz3OJnecS2y7jnWjOPtVyo0fR+w00Gr4CAAiVMkdib6yeKxddaS8Nprsmcvx0llCG2\\u002fnWor6jx5qmTt4Px7N+OJ7lzmGkhvtMDfOOD\\u002fI0KxudJ5IeySz6J+1OJ9\\u002fw2tSPlakR42t48DBYkRxeYmIvr7GT9+g3Bz59eMkgO4l6BBLZ\\u002fqv5f1\\u002fONVeTjYRHFifeKGvIqzb5nKNQqnaeufHXpdxFCcFzYwLjgzwIQ3Vw4Itl1a3c3KqmvKrm\\u002fJpWfZsJqjmry3qg0ahPH17y0Ff7K5u7YB8AWi1454\\u002fzbhzGILHJ0SR+VugfWW8LeRIak4zq\\u002f7Cn1WhXb521eqt2NAUWNPlEpGpTa+UYFMHQODzCmGuqBOcMLVntX6zy\\u002fh2Htu4FJKdrR4es36NvOGutBwV+8GDgvZKcnsts\\u002f1xvESpbMto\\u002fm+36gcFRZmO988kmBHTJSvVvWyW5Co1oYGTLKPndf8ImG2OsVoulGOIaOkKONmWdaR2m3vSjur4VvtGP2q+OwHo4E5mP+C\\u002fe7Dv\\u002fdMvNfQ1pVCzJaPgKAMAhUPVJ7kcac9RazRqvBL0XjUKJVSb3HMeQZi7\\u002fQHr+gfR8FAq4sRkBbhx\\u002fNwd\\u002fVw6bRqKSCFQSQXdflCmUUqWqiy9u7uLXt\\u002ffkVDWXN3YMnoLNopKeWjb8JKTxwoqUsF9OXzdVg1bZ3LXh072L44NXpIRHeDsP7C\\u002fVwRPdrmi6VdF4PqdcYqwcbOuixLLGjsziOthhCTBo9NdPrNj8xb7BY5lShfJIZtGRzCIMGu3vxvF2YrmwaFQSHo\\u002fDKlVqqVwplilEMnljJ7+ho2c0BeLwoBDx3z616oHP\\u002f+niG4lAKJSqF38+9tdrG13YNpHbhEKh6Kx+cY5eOxo1bXFfD9LRgY7v19FUo1U1iLJ8abMNjcPDgRjqTZ1RL0rXW4TKlqtt7892\\u002fQCDMluaa7QqJENamsTXC3v+MbSwCQHxDk8aWvQEM1Y0ia8b\\u002fgtrhZfdyPHBjBUGR5mH9c6nMynCUGCptLKSngMxnIcMDjFOteB8s\\u002fgGbLUxxmS1WBAr\\u002fs+K+HXfVxyDrQhAAdQar+mP+S\\u002fBIUtgtyA4NHalR+py92SuwmTxagTTI6OjsoTfggLgz9osJp68zCNa722TCmhYCzyXWA+tFjRz+c1c\\u002flVLtAZAo1H\\u002fe2jxhA9fAQBIeNzzq6e9+8d52HEXhVJ1LLv4WHYxFoP2cmIxyEQSASuWKfkSGU8k5ZnuBQ8AWJEc\\u002fsyKqXuv5FlJYAEAGBTij8\\u002fe88S3hxo7ebBvAGqNpqKps6LJeMXoOMKFRdv+xMqtX\\u002f9rtFiSK5A89+PR315ZZ1ZMdzLgQoqBLLncXzwoSTg0GbIPg2SnF3SBFr2lQZRxpvG56S5vMvoLEVPI1Pwa4cUqwelw5jp\\u002fuvGtBj0SVVd620eGBXYYFGGW63uY\\u002fptrhkxzfqNTVipR9a3\\u002f6x3bnYgRLELvToW5WO98elGmFfccMLTc6f7dkRThTu577B9IjfDitXbbr5EEYNRXi2WxVg6WSCV9r\\u002fCPYXQTJWJw\\u002f4t+6OnAFaOvrvSgUWhHAgO23uUh\\u002f2lStWJjxk8bMn7iKyTPBc8nYXqvzhqtppDX6EMd4wzfUQONQn3wwMLkUG\\u002fYMUFZkRw+f8rQqWYqtaamlZtX3ZxVUp9f01LX1j24uloYH\\u002fzO\\u002ffMAAPHmZ8qbhRuHvueVdYMkk01IwrydP96yeGCSpY7Klq7\\u002f\\u002fHp68BjtJIRN8GPg+32v+YrGU41Pd5muk9cCDcIMawrWaZrLf6AWAx2yosN1919t+6BOdHVgcya1VtEjr6kTpd3q\\u002fOFY\\u002fcP\\u002fVC+\\u002f3vF1l6x8yL4EWqBJa31P1r9HZZLTc0y8j6EFgoChz3R5y7D7qForv9L6jmHCtVlY73y6kuMGtDNQXWh+Nbdrp1wtMLQDALRA0y4tPN\\u002f8alrrexqtGvR2WDX+1bARRnO1WBxriZifKk90yeG\\u002f7pAwcJRPY7aG0hHJ0rEijOH+U9Lmf+tuaoB2oWvEQre+qtECXpMWgLku\\u002fRJUJyoUIv5\\u002fDy221Kjj8cKHmxdyBeLcKpPJTOayZnrUf9bP0d3+A90dGRSiVbfe2DTyby+v237k2j9peZNHVMyJCXhu1bRvjvT2UoG4VlS77VD6K2v6pdPaGtw2vlAg8QkapZQJAFBR7Puv9W8E1S2vPN7wCAPvzSEE4tFULdCotHKFWihT86QqrkTNJWMd7vM9aPgRU\\u002fhQZ6Y4vZjd8bXhPU8LNNWC89WC8wCg8GgKAcPAovBKrVSpkSjUIi0wXgY7OHnc39qkdwwt3tTpIYyVhhajuJLjItgbCrv\\u002f1lt4irrrHV9Pc\\u002f6PwVHIseL5jHN4\\u002fELz64ZnUqNV3en+vaDnLw4hmIZzw6MpCo1Ypu7pkpX3T\\u002fMHU51fLeMfG0Tn2QKjtlosjlUEVn5P9ekWs1OvnIjMr2If9ySPg\\u002fBPIsdPn9VuSAzL6+r84X39LAyNZN1tyqQQr7c3zXPnmIzzTVQIOOxPz97z+YG0QxmFsM9MiHjsa2tnr57a1+sFhQJxgR6X71QZHGV58FjMq2tnzYr2\\u002f+rg1fLxvwmIkM3z4xs6eIczjf\\u002fV\\u002fr6c6+PMWjN9tFOdkPPLR8fST905U7sNdliNAPrCemFagzgTsvMV9XxFPWQcBqHMe\\u002fBoSkb752qtHPYBrUIjgqTAMGiV5OVzfze0kLGOyBVSHOfRVsntLoO6vAr+KVdyvD9tvsFRSLHe+fSkpEayNxpqQR0arbpTVtIpK4HsekKZq4MYy7tkZTYusMCorBZrYPktQqVG9WXZQSRtPA2hYUmfxzw6LtTVuGD9rJjdL903JybA1Ci6YRPp4\\u002fLtU6t+fu7eSaiudOBx2Lc2zvt06xI2bfj5E9MjfP\\u002f5z\\u002f2G6kpHQpAnZLESCUGee\\u002f+z6eMtiy24Y4jHYRfFB\\u002f93wzzYYRu8uWFOUojJ6Pin+6\\u002fcLB9mvfMoIBZaMa5pFBRAz3R9140cBzsshz994QqvnU5E4+VEQ4JG4QgYJmy9i0zNu9r2nmEkAwXQM13eJmDoBkcNBhqFnenyHtTMM6v9C4GyydCCEKuez3iHx2PYm83a7Iti36+bncwhBsM+m8Sqq8VKWD6C9VfdpUaJeY\\u002fFeDT2k+itPhSLXejtAACmBLhPCXDni2XphTWZxXW5Vc2D9FkYEi8n5sxI\\u002f6VJoRO7YztyFsYFz47yP3mz9M9LuXVtQ6dK6CDhcXNjA++dFhnj7wb7AAAAxI+WwAIAoFGoJYkhSxJDiurazudWXC2obujgwQchwIVFiw1wTwz2mhcbQLVy6HQkYNDoLx9dtvnL\\u002fTWtRnr\\u002fqDWaV345+cer631c2LDPBpCIRltgAQBwaPJCj6+LevYVdv8jU\\u002ffAbkvAIvgt8\\u002fq5TnS1qGd\\u002fh9R4fBECBdAcYrA\\u002fbV4AfREBY+oxT5ve9iHU5CmSvdGVPMXQMiQMvGey4\\u002fMZ7Z\\u002fpLUqN5ErLO8u8dgySI28K651PFEBPcXjUmRyTx\\u002f11yNPoQAxOdHxWn3fvQBy99h8jxGqrxVqgLNVSVgdfKV6f+T+pemAQbzDei3xgllM0bLVjadp5osqmztr27uYufgdP1MkXCyQykVQhlSuVarVao0EBFBaDJuCwDAqRRSO7seleTswgD8dIX1dnJqLGKpOTuvaevKrmvOrmurZuvkTGF8tEUgUGjSLgsBQi3plFc+PQA9w4Mf7uRjs42A6t3YLi+vaShvbGDl57j7CTL5bIlTKFUqXW4HEYIh5HxGNJeJwjg+rhwPBwZHg6MkO9nCZtLHM0eXzBZw2V7botwjUZH3bJ+fARA3AgMA5Oexu2Dgu1VtkgutYmzeuUlUpUXQq1SAOUODSVgKbhMVQazpVNCGATAjmEYDJ26FZwphAqWxvFWZ2yYp68TqzqUGrEGq0aiybi0CQChsnAeTLwXhxisCtpCgFjE501ho1Vz2eXrLRZcqtdmi9QNsvVQqVGhAIYAobBwHs4ESM8qdOGHQSyKcbFarGwwPql+vTeusuwdVBWeqS+GHwPbLVhEs+8D5sGcHPxu7DJjh07k57Te7OzLxTNWhE7d3W83vjrZycNDjHOqb+yJCLZWAksO3bsDANLPkwLlJIjjXAG3+D4UFyeClwOW22bgYOcVVqNSClTazUAAF+qYwTTHTrAjh07dgAAv3x0TC5VFN+sMRRYB34276HUjh074wJLCqz9DWlmbQ5iUZh3IjYR0GbvZI8tl+a9DpsAUGs1xfzm7WXnu+XiF0MXwe7RpUchrBG11YrbakVtTZJOkUomUcskKrlELQMAkDAEEgZPwhCpOKIrkeNO5riTHDzIDr4UF+Ldhl52JgxKjapc0FQv6WiUdDSKO9vlPRKVXKpWSNVyhUaJQ2EJGBwejaXhyA4EhiOB4UJkBdDcA2nug7SCmzB0K4SVwuZWaXeHnNch6+mQ8fhKiUytUGiUcrVSplECAHAoDBaNwaOxVCyJiiXRcWQHAt2BwHAkMN3JHE+yk4M5g7xipwZev1gcnRoA2dEYtIPLYCe8q42vUVu98rzfapF0tsvsq8WOneFjMYElVcvNDV\\u002fd4zlt1CbhWBsMCh3F9Pw2\\u002fv7VV7\\u002fdXnb+\\u002fajV8BHWp1zQeK2zKKOzqE7cDvsMUGokAmXvvJciUKe3Y1DoAJp7JMMnkukbxfRl4cds39rOyGmUdGZ1ldzurijoqZFrjEzm0SHXKnXeLrmgVtRm6GLjaYmc4CROaCInmIKFo7bjlwph001ueZmgsVzQ2Ilgo02u1cg1SjEA+imlECQMwY\\u002fqEkTzCKZ7hNG9vShO8BEGvLtzq1KhwuHhC6+bt8POS29ARkMemf1Jc515xUPIK8oaJZ3ZXSW37KvFjh2LAn\\u002fPh01aR4HEnPAVE0\\u002fd7DucbiK2DAVLiGP7XGvv65sCodZq5l5+Dbb254f4Z8MZ3rDVNDK18nhz1sHGax0yHuwzB7VWUy5oLBc0Hmy8hgKoMIbXDKeoGY6RriRLFlWNi\\u002fSRdZkft8uGrvFh4WlHplsm2W7I0\\u002fJB5IMznIbu0qTWajI7i440ZeX1jLSZVrdCeLb19tnW2wQ0brZz9Ar3lDBzlqVNodFqcrorM7qKMzuLBz\\u002fPw0Cqlhfz64v5va2MWHhaDMtvCiswxSHUwVhcZ6C6AgAw2BTY1B8yzWzVMmRAWq3VZHYWH23KzB2Hq2Vb2aHjzdmw1RgLXOLeDN8AW22Dh258CUlVUzwesHSD92zYase2MfJVHx5nWm7CpkF5xG\\u002fxhHzQwWOwfOVgc1GGpEPGQyiwJGr5kcbMA43pPBPP1sNGC7S6e8ZPlSeCaO7fxj095MXajlWpFLYMKbAutOX+UnUKSVTGLOQape7eGcsKeCJgaTB99BpJjByBUnKy5caxpsz2kT1+IKdHIbzSnn+lPR8AEEBzm+YYMdc5dsgOf3T2EFW6FLrZV0vyoBfYS+15O6pOjfCpbCCjtlpWeqQiFFhpHfnPBq+iYUmwY6ypFDYjVFcYFHqha1\\u002fSnp3xgmUEVrO0q4BXC1tN40JkL3FLgK3jH55CktlR4UQ0IydjIB1yHmwyRnZXybayQxa\\u002fmw5EoVHZ1dWYUylshk0GVItavik\\u002fUmjOd3AY5PVUPXHr2wWucc8FrbL9p6MuuWBP7bnzrTkKjZExz6NDlbClStiyp+Z8IM3946iHnIhM+AgAAADPfLTGw2+wjUUAAIVmtj6gYIz3JKsWtX5bfiSfVwM7LIq1V4s\\u002f1TWC4VPEr4MdA1BoVOdab6\\u002fxnA47xppzrbdhkwmSOCFse87GOMQyAutsC9KFomOt1ww0ysIdxkeNnyuMlPxoAeiUCS63l\\u002fIUkof8R\\u002fRN7hzqmVKpUf1QefxoUxbssA4pDpNitKKNUykyKbCONGV+X3FMV8RqbbRAe671dn5PzVvhGyOYPrDbNpCpFfvq0\\u002fY1XJGpTaYTjTICpdjodqGOpZtSYdMAlj8wNXba0IPGDTEawTrWlPVdxTGVVg07rIC1V8tKj1QkAgsAcLL5uq0JLI1Wc6n9Dmw1wVK3JNhkZzxgGYF1oS0XNpmGhiUtdUuEreOHnyuvwKa7oABqkVvkE0FzYIc5DB7B6lGI3sz\\u002ftVQwejM9kh1CYZOdUYcrF\\u002fQohFDlgVKj2lZ26Eyr2XM\\u002fR0ibrPvFvJ\\u002f+E7ZhjnMM7BtrsrtKvio7OIxJ81ZlsVuibp73sIlODYxODYStg0LtL7CUGvU35YdPtdwwNI4C1lsts5yifqg8jiRBok7cXsirjWT6wo6x42Z3eY9CCFuNwcLT7BfhcYoFBFa9uL1NhnRUCABguUfKuN5y+jhmDWwCAAUAGUsIobu6kEw+pyJkkKyIZmnXK3m\\u002ftErNONsjhIYlRTJ8YKudsaBS2JzICdG\\u002fVWhUr93Zeaen2uCQ0UOpUX9U\\u002fLdIJV3hngL7xgiFRvVT5YkjTebVMo8CaBRqiesYPFIaRrCUGtXr+btzuysN\\u002fKOHlVYLDo1d4pqwt97kE68hJ5qv25TAOt+aA5tMsMAlDjNuN3yQ89J3x26W1L+0ftY9M4dINh1HWEBg3equgE2DstDFKtMuR42l7tGwyaKYElhNkq4Xcn+yeA3U4CRwgsfvZu4Eo1LYohdYaq3m3cI\\u002fxkpd6dBotd+UH3YgMFJtYBO5SdL1TuHvNaJW2GEDxLODTWVfWRUKpldgqbWa94r+HCt1pcNKq2W5e8q+hjQNgnkkNpXqLlbJMjuLYasJJmS+MoRCpU6\\u002fUw0ASMurnkgCywL3zltck10JBuJPdfOeKEOdJSrFja6aE015J5ru3OiqEavM6FIxCD0KkVIDZ0h0yHgvjrq6AvYELFvCMM\\u002f9k5J\\u002fsrtKDJxjg0ar\\u002fbDo7zGXNRXCpmdyvh\\u002fzf4Yplo1RAo0+tfzz0n+R386thzVWiyuJncAOhq3G0KW6w9YxIq2jYJB+Y4aEM7wnzB1zEPBYzIwYfzIBtygJ0V9zvDDSCJZSo8rnmfEYPdclFjaNQ+Qa1Q\\u002flF\\u002f+tv2mYRUtAY1d6Tnk+ZAEFa7x4ByFaoO2S8w27TwlV0tfu7ByFgkEINAqdZLAnZWds0Quso01ZF9vy+jvHDKla\\u002fr+Sf35OeB6LwsC+USG3u\\u002fKtgj1mNeEbTVh4aqrjEE8pKpVa0C1mO8HVxx3NPdcvFklE8rgZwYGRZvc7IGMJAIATzddtR1hYY7Ws8ki9wS2DrcawnVT384j\\u002fIkvGc76yWWx7diVsGv+MVGAV8mrNKtWZ7WTd\\u002fbVRQKFRPXljT253vQOBNss5xIFA0wLQJRfmcGv\\u002frb9ZxGvanbKVNLIksw45Ty+wNFrNB0V\\u002fDd6c3UqEMbzoODJstTNGtEi5YpWMKxf8VHkC9g0KBUv0JDu6kThORCYJQyBi8BgUWq5WStSyDhm\\u002fVcqtEjWb9S2GqBK27K27\\u002fOBY9A3O6a58I3\\u002fXwIiv7bDINWFIMZGfVfnuw7vmr0l8\\u002ftP79Mbca+UfPblHKpYDAH7\\u002f8vTml5esf2Ze32cQQMESmyRdP1Qehx2DMu5WSxIn1JnIQtIZ2EZS3dtlPQi7GhEx+NmWrgywM5qMVGCVChphk2ncSBzLtgUfE\\u002f6oycztrn88cPZjgbMMcw\\u002fVWs3OyrSfK6\\u002f8Xp0x0kJCgzSsndVnkG\\u002fC0nHkYJpHCN3LjcxxJjAdiUwiBk9A4\\u002fBorFglE6mkIpWMrxTXitqqRS01orZGSccg5f0pnCGevO2MJlqgPdVy42JbLpLNBRRARTF9ZzpFRbP8fCmug5ewabSaSmFzZlfJxbbcFikXdiPg77rLS92SOOZM5Rs5taK2dwp\\u002fH7m6wqEx\\u002flS3ELqnO8nBmch0JrJoODIBjSNgcFgUVqFRKjQqvlLUoxC1y3qaJV2Nks5KYQvCyh4kEYjsC0VqtUat7vtFpBL5ly\\u002fvlYrlBBKeTCH0dAl\\u002f\\u002f+p07PSg4Ggvg88NQb2440BDukytgB0DGNerBY1CrXBP2Vl9GnYYwxZS3c+35mjB0EljAIBZTtFkE83M7IwLRiqwqky35xlILCsANo1DTjXnRzI9nhwgoTAo9BNBc7I6q860FI5QYOlbYd3glu2rTzN0GcWL4jTTKWq6Y0QQzQP23YWIweuvaPo8U7lGeaen+ia37Aa3rEnS1Xc0AMDeoMH2+BFB7IqAxq30SL3Xc5ozkQX7TIBGoYPpnsF0zy2+CzK7in+pOtUoMW\\u002fsnVyj3Ft\\u002f+dmgVbDDanDlgjfyd4lVMtiBGFcSe5pjxHTHyFC6Fw5tMshExOAAAAMnOotU0mJ+fT6vJr+nulTQqDH2oBLN9BuyhzsAoCK\\u002fAQCQurAvt\\u002ffcvhs9nUJHV+bXh5\\u002fnuDA+e\\u002f6vtOO5p\\u002fdmmyWw\\u002fqi9AJsGMDFWyxK3xD2155BIbVtIdT\\u002ffhrR+EIk6t2PLjFhgCVtgk2liWP6waRzSLOm5x8tkIWQ40\\u002f1gw0j7EulaYfUohJ+U7Bv8WSeZE7rGa3o827wOhHoIaFwSJySJE\\u002fIsAC1S7pX2\\u002fLOtt3SXSyci03+ijOKePMx3iXsiYOmwYwNoFGq6Y0SKQ+jvtRf+rruEpDhLz4nm6w\\u002f4zGPihxj5YhE0Ws07hb8Pb\\u002foNCqCSHULXes2YMrLnPSqWpPvuAACEKuktbnl2V0lWV4mh5lvmjii9vbtDAADwCXLRW87sywYAbHxuAceFAQC455GZacdzS24j2ldCzoRZLSw8dYZj1KX2oRMTx7yrewm\\u002fHqEe9SA7RI11sE1HW7fw0JX8m6UNjR08sVRBIxPYdHK4r0tqpO\\u002f8hH63nh+PZP568sbT9057aEkily\\u002f+\\u002feztjPya9h4hAYt1c6TPiPF\\u002fbEW\\u002fPh2H0go++fOioWXz4oRn1wzx12nu5O+7mHerrKGlk69QqVk0sgODEu7nMjPGPyHUC4vp21aa+\\u002fyPfJHs3LbHSUT8nlM3L96uaOsWEvHYCF+XdXNjp0ZZ\\u002ffSOSGDJ1MpmKRz2GITYCSGwyFg8TyGBrXfhKSS63NKRoNsi\\u002fKrs0CA99Pypbs8GrbSgZnUjcTb5zNnkM6eIV3em9SYdR4GPsGPD0LCk18LWTXeMgB3mg0VhtvotCqF7vlf4pxLxnBmFRnWhLXet1wzYYQX21afphyubxRR24HNBK30ofVLGItCwpDnOMXOcY5QadU53xfm2nMzOYhwaO+T4SB18rhgA4ODG1L2tLm5uqGwnkQmzV07RWTz8nQAAna083duRM\\u002fFWy0qPVCQCC4x1qvs5xOGrxWPRO20g+y\\u002flffNvulLVFx3kiaQ8kbSmhdsjlEICS0dnj6iyqfOZbYe5fLHOIleoBPUyRyasp71dWLNiA3giaY9Q0tjB02iG1uhZhbWv\\u002fnhCruhbaZ08USdPVFrffuRq4akvH3VgwHeuO5XNPx3Nqmvt3dNXKFVZRXVZRXUPL0t6avXU\\u002fsdamBEJrFpxK\\u002fKnFhaeOsiwiHFELNv7ant5vbjLm+IAuerFXWntZdOczGu4PJBmKfdwY0ZGZxHsAAAAgEahNvnMfch3gZU6VEUwfawx18KO9XAmMj+LedTHouXcUx3CP4zc\\u002fGbBr8i\\u002f42dbb1nwlmmKWlHbb7XnYetQ0HHkl0LunWXlIhscGpPsEJrsECpRy2tFbQQ0Dj7CGDg8VqVSqxRqLBYDALh89DYAIHVRJIHUWytDIhMAAAr50Ll3SJiQqyWK6etLdUEyO3kMU92VGvUVZONx0LYx3flIeuEXe68AAFw59I0LpkwJ8mBSST1CaW0r91p+zbJU40m6ZQ0dL317jEzAPf7gvJhAdxIB194tvF5cH+QJb5fHh3jGh\\u002fSWxy5\\u002fbVcrV9DfD6PVgo9+vyhXqBJCvZ69d5qvGweHxbR3C6ubu67kVmEw6IHqCgDw7u6zbDrlq2dWJoR6EvG46paubw9cyy6q+\\u002fXkjQg\\u002f1xnRfvAHLMeIBFYNgtWsx9fST41jxaMBs661VzyY+csm39QkBz8HAg0A0CET3OTW\\u002fF2brQHaxwNnw58xk3px+7cVR2ErAAAACpb4QeTmOPZINZydCYMjgfF9\\u002fLOOVnh6SXYIfdhv0a7qM7DDBNWi1gZxhxfFCXZYDi3Qflq6H3mkREcw3fODyAeRpxmNHDKGEM7whq0mcPZk15W3NlS1BUV5yaWKi4duAwDmr+kLYOhqCXH4EV2udUzg1bLSPfWb8sOw1Rhjlep+nVsqUJrc\\u002fTAkkRM8MO1vlBFJ5dv\\u002fTQcABHk5\\u002fvLafVRS786MM5sW4u20ONlkhm5BVUuQl+Ou19eRib1PCK4cekyge\\u002f+jhoNALOvoEQIAti5LCvPtVRTujgx3R8aMGJObOUqV5vuX7vFy7v36B3o4bnt25ab3\\u002f6pp4e46nm1VgTWiEMiQY4kN8aFOEIEVxnD7Yso6tVb7Y8WlzVk7l17ZtvTKtoeyd\\u002f1UcRmNQn0bvymAZslHQ0MYOMrXU560qys7esgYwqcxj1jjfqljo\\u002ffsIJoZV0Zz5zqYy5X2\\u002fHJzKpcBAMmc0O\\u002fjnh5NdWUuMamBAIBfPzuVn1217dV9gh6xT7BrdEpfilhTTQcAgOVA01uGx8ReLQtc40jIau7SOvKFKilstT7IG5KNyWwliCu5VSKpHADwxqa5enWFkJfWzdKrKwtCpxDpFCIA4FBavsxgl3BwpgR76NWVDhwWs3ZODACgpK69k2cyD2fkjExgmdP60rIR6bFltkvoidkvvBi6cKZzSBjDLYzhPtsl9LXwJSdmvZjkYFJHjxAShvBV7ONmXb\\u002fsTHheCllj1VoENAr9dNBK2Gqa2xa9ZUJotJrfas7B1kFJ5oR+GLUZh7ZA7Md6rNwyHU\\u002fE5WdVvrHxx\\u002fRTdwAAW15banhA4Y0aAIBX4EgvoRN7tZAxhPkuvVlrgzMmXd0FSskNbilsNQYTQXPaUaCgqgUAwKaTowLcYN+gEPDYKUEesNUSoFDgmXunAQAu3KpY+uovX++\\u002fWt7QAR80gMABW5MAgPC7AbDKRkQ1B8NjRNcdsya3IClXHkew8JTNftM2+02DHdYBjUK9FbExgGbeQrczsZnhFDnP+qMRopl+EUyfIl4d7DBGIbIOisPjzN0SV4T4U93ej3rQxtUVAMDFi\\u002fP2T1u2\\u002f+dAVxuPxiRveXVp0px+99fMs\\u002fkAgLgZIxqrMBlWy0qP1OPN2bDVGKOf6n65\\u002fQ6SRhIAgAUucUM2px0FdCnqbg5mxzuZVBIajYKtFuKemVGOTOoPhzOqmrr+Pp\\u002fz9\\u002fkcPzfOqhmRq2ZEkgnGUx7pZCPhNza9t4c2TzT8Vi9DMqJLj1kCi4Mf4x3lcc1azxlTHcJhq51JDB6NtWAnocFZ5paE8JYpUkk7ZDxrzDbWAu0\\u002f9Vdgq2loWNKHUZsRppmPOfGzQv\\u002fIelvIk9CYZFT\\u002fPp9ajXb11lmrt2pHIrAmyWrxp7oilHejn+qOPGZmI9OddSV9wxBKgzeqHTnTo\\u002f2mR\\u002fvdLms8kVl8JaeypoW7bV\\u002fa72duvb91UXK4kcRHtcZIjzrt3WoMq\\u002f5jR7RF2CUfIuffkGF3WxlfaIF2kN7ow8Od5PCw\\u002fyLYamdys8pjqvWSaSCmO0YO0ooTwrLTfPXc6ake2At3EJ4LXuVG4sBWGwaFQtFZFEhdAQBQaNS0xVHTFkeTKEYexBEyeVbLSvdU2GSCE83XYZPVaJR0lgoaYKsxQuleFm8jMjzYdBIAoK1bCDtsg\\u002fgQz\\u002fe3Ljr\\u002fzZP\\u002f3TzfmU3j8sWv\\u002fXjCaB0iT2gk365b0FttwKRasevs8AWWWqvhK3u7XAwJAY3Tj3af2GR0VMSdfhe2joxnglaMlwdxO6MDDo3Z4D0btloNCpYYSkfaQ7xeYpW5madabsAm00Qz\\u002fea7mOwGPNmYVKtlllMUwv6lo5nqPh67t0f4uQIAOnkiJHlOYwURj109I\\u002fK3NzcQ8ViJTJF+pxo+AoCyeiP\\u002f\\u002fqKaXmVvNEPLUgxfYCEZcaWHTRhp\\u002fct4QaSSw6aREUr3Srk72caOHR3THSNZyO4iliKaibR6o1NmRuYAQoQqaXpHIWw1AQqgngteDVsnMZNqteDQ2CWuiLbYRi3VXQu0F1pzYasxiBjcHJuZ7jwnLpBEwAEAPvv7MvKSPatiqsuaE4uqK1oUy4zIkqLaVkgjKlXqg1fyAQARfq5GW2dZiuELLAWCibN6xnb202giUlpYYN3vMxc22Zn0LHdPhk1Wxg9x9Vm3wvJ7CpmdRQrEva9SHEKtWitnPbQabWVh04WDt47svnp411XYPVwm22pZ7p6CMA3o5KjsEhb01CAcDT7DMcp2tnqYVNITq1IBAAVVLfd\\u002f8NeR9MLq5q72bmFFQ2f6nept+9L+98dF+DNWJi236uFP9v19Pqekrl0iUwAAJHJlSV37f385rdvySw73gT4CAEChUC9sP3r+ZrlIKtdotFVNXS99d6y2tRsAsHVZEny0RRl+krvcHIFl+4U8g3OkMQePxi51jwYAHKi\\u002fBbsNuNFlJEQ5bNh4mn3ish0IJp6KPEJgKZC3WeGak5qJkBvcMthkmo3ec2DTeCDzbMGvn55sqe\\u002fNM0Nj0Pc8MhMAoFFrtr26T6lUPf3BvXSW2U\\u002fbk3C1uJLYieyQ6wh6IoxOqjvy8Ti2sz+oY9OCOJlCteNoVl1r98e\\u002fX4C8iaFIN4KNcqu04cDlfJFULpLKRVJFe48QAHAwLf9afg2VhKeQCFQS\\u002fsV1s5xYfcFXrVZbUNWi6x8xkKdWTw3zMbLwHl+Zeuxa4Zs7TkH2h5clTbdml1EwEoGlUCN9oAQA4Md5CtGnRSexaIxOYH1cdBx2W40FrnEY68zDsTN+SeaEIHxAtyDIi1TEaguXPWu0mpzuSthqAl+qy3gc9HRoZ9qu\\u002fxm\\u002fsKAx6J5OQW5GRey0oEXrzI5FTbbVomOlRwoSgQWs39VdoVFd7SiArcZwI3GiWda93w+DrcuS5sYFHkoruF3W2MLlyxUqOoXowKDEBnksSh5+WSsAoKGddzkX\\u002fl6LpYoaKVf\\u002f9pHlyYYCKyXC55UNs7OL62pbuFyBRKlU43EYZzYtOsD93llR+tZWEDgsZu97D\\u002fx26uaV3Ko2roCIx4X5Om+cPyU10op\\u002fdx3DF1iTKoL1Uli\\u002fIr6ZziFT2EbKQQEAOdy69I5y2DpcpjlEwCY7k54kzhgENek4Mg6NQdLIB\\u002fleHkJKBA0IB4wAAGwnhQU5lYVNuz85AQAIi\\u002fdd\\u002fsBUNx+H51d+Y3hA8vyI3IyK6xeKhyGwJttq0ZHECXUhspFszKV15D8bvMp6SSwZnUViFSIRudgtATWcrghWx8eV\\u002ffKGWbDVGE+tnop8fPK9s6LunRUFWweFTMSvnxe7fl4s7BgUpUpNJRGeXTP92TWj2vkMjERgmTUODD\\u002fOBdY67347tbOcQ1Z7Gq9RImMIlhJYFCwxlDGiGKydCQnyIXeWhYQhKDVDCx2zYttIyOupgk2mmets3sXXFjjy61WtVpu6MPLtnx+CfQAAADz9nQEALXVmNFnVM9lWiw40CrXcPXln9WnYMQBdqrv1mo4izKNHo1CLkOXm2xlHjNL2ky3K8hHAwvc2gR0IFTf8XjUQMUx\\u002f+\\u002f6gHQgOgW7BxoxmgTAObVb5CxIqhc2wyQSeZMfx1ftKR9GNagDAxmcXwI67sJ3oAIDuDrPTlSbhatGzxC0RYTsu66W69yiECMcBxbODR61RmZ1RY\\u002fj3b7PSqpDEiscLe6c9kcAxuVNOwxHRFlJFgXR32GRn0hNE84BNowXC8R3GC6lHQJXQeE7rQGwwhQUJPV1CAICnvxPsuAuZRgAAKORmB3sm4WrRw8JTZzgi2oHSpbrDVktwsS0PYd\\u002fppTaW3m7HIgxfCiB8ONCh0Jp9abBZwhjuFKzJMNU0x6DcJe\\u002fD1mERQLVPHrQD4zWxZnoOiUQtb5UOnUmjI4YZAJvGA0QyHgAg5JncUOvpFAIA6GyzSwgn22qBWOkxxl3dz7Uh2h+k48ip9kloE5GRCCxEEWAdZiVs2dHhjbjU2c7kwZ3sAJsmNNXCFi3iMEcwfcwCNiPBK9AFAHAnG66o0pN7rQIAEBRldkbmZFstEFFMX1+q8coyCGt0da8VtSEMvi5wiTMrYGFnvDB8gWXmFqFdYJmNfUvezkDGY47RSGg2qNkeHBwa6z4+T870JdEAgN2fnGioNDI3pqW+69DOKwCAOaumwL6hmGyrZSAIRxNao6s7wvAVAGCxfX\\u002fQOlza\\u002ftTt3S9Zu5voIIxEYJkRwTJrro6N8335xdzueth6l0ttJZfaSmCr+VCwRCIGD1vtTHpY+MkydUoH8kaUnmRHS6U\\u002fjjJLNqZ6+jv1dAqfXvrlV6\\u002f8c3pvNgBAq9XeuFS854tTz634WsiThE7xmboQUUaRIZNttQxkgWscCWMyo8MQy6a6a7Tai215sNUYwXTPcTp4wM6QDP96RMCYEcHiIR4Lbfvsqrp6p8ekwLrSVvptGdzxdhiwJ\\u002f2V0Y5RmDizE3HGNV1yPmwygce4zTfCE7Af\\u002fPqou4+jSqm+eOjWd\\u002f89AADQarTvPbJ7\\u002f4+XxAKpT5Drf3\\u002fcgkKbXY092VbLQMgYwnwXRJE\\u002fy6a65\\u002fRUIly6CCcn2hmPjEBgoXHIQywCpdjUmMYJBh1HarPE+FKzdmBHh0nyF7RxGPjJdcvsRHaXAgBwxvMziYsX57uTL216fqGTG8vQznFhbHp+4bYjz3GckfZGN2SyrRajjEmq+3lkG454NHauy\\u002fjr3GYHIWZs8w2Ejae1IMuQ0Gi1fKV4lCe6jwkilQxriX0Ks3ZgR4eZJ79f5xe71i\\u002famTSO72TjGjwai7D6fcKAfItwvAd9SRTC\\u002fS8svP+FhV1tPG67AGi1TAeaswcbPg4xk3C1GMWf6hrB9Cni1cGOAViqq7tULb\\u002fWWQRbjTHTKYo64v+dHZtlRFLArCsaTyGCTeMKuUal+w8AoNZq9G\\u002f1\\u002f4lV8vSO8gutxd4UC1Tu2KDAapEIvi66Ov3Ed09kHLzaWm0PaI0+ZpXuTgxEiGu7Jky+kYMLMzjaKzjGeyTqCkzK1WKKUU51v9pRiDDtGEl6u1YL1BqNWoOon9YEZjyehxF9A9kEM65oXXI+wopZ2yTpTF93qx\\u002fKL\\u002f1QfsnA2Y+tATNg0zAY9fmsQ7IpIO5EfbFAKbvQXH6hudydwljnF7vWN9qJNPEDkzbCJAxIIJ9VRzbdnW5yMglXiylmOUX\\u002fUHkcyUP+yebrIx+bg3B\\u002f0JXEjmX5w9YBfPH35QOX7gAALv\\u002fwNI08eRf5eDwPIxNY5jwyNko6EzjBsHX88O\\u002f0p7O7qrI6q250VbPwFAYOjusSMDhPMnutd0KSw9DfmfHIB3GL\\u002fhsz71xT+YHaO9ntdc1i\\u002frbCtO1F6XPdAzf4T5nu4mdzknDCMQmb5SAXWDYY9B1bJuFqMQUOjVnimrC3\\u002fgrsGECduL2IVxfB9IEdiOmU8+\\u002fwqmGrMRa5IprufLPYZE3VpGI8nocRXZI4eDPyLhslw5lUajsE0V2C6C6b\\u002faZNP\\u002f\\u002fxA36pD\\u002ftbIkw13iBgsCu8w1d4hzeL+Qdr8w\\u002fVFTSL+eebys83lXtSmOv8Y9f4RjkS7QEt6zH05XiCgXxWnV1gDWDSrZZBWOGRsq8hDUliw\\u002fHm7JEIrAutOUj+LwinO7d3C+vbemDr5GOcnocR5WC5kc3oYtcg6YBN45Ngur1nCXCnMJ6PmHF12TN\\u002fzNq40juCjMU1inlfFlyZevy7pzMPZbTVDn2BsWMHAcgjWNhxK7D+3n7uva27Ms4UwA47lsOFyE5kh8BWY4ywq\\u002fv5thzYZIw4VqAzgjncN8Zh2MYajNPzMKJLkg\\u002fFjJyqBvEEEVhrvBKYeDJsnZSgAJjq7DvV2VeiUlxuqdpfk5fVXne2qexsU5kXlfVQUOIG\\u002f1j7PoWd0UGLIGxgm1y\\u002fWFxV1OQf7jFtsdmtRO0gZ6VHynVuKWwdgC7VfXiZWOWCxjqxkXb8A0GS3g7GrbCwOOP0PIwoguVlTuvkTjm\\u002fRyGEreOQRW6RyRM0y2p4tEgEu8pvfFN0Nau9DgCAQaEwKFSDqOf93HNLzu4s4SG63NgY4\\u002fVWPfEgIG4IN37ncbU1cgEAU2aM4xTVcUESJ9SFiKgwc9hd3RGGr+g48nTHCNg6AK0W3CppgK2Tj\\u002fF7HpDKI6Pg0Fg3EqL1qqOIPy5FqB2jaAG41lbzeMaBmSe\\u002f316UXivsZuJJj4YkX1n69NVlzzwRmkrG4muE3A2X\\u002f6wVdsMftm2UGjVssjNGIM+sQp6tZWso5CoAgKMrE3bYsShoFGq5ezJsNYYu1R22DoVaq7nUfge2GmOeyxQkTTTyKpp6hMPfrJwwjN\\u002fzMPTfeHC8Kc5Nki7YaoJCXi0S2T6O4MpFPQoxAIBNoLInTdNkgVJ2qLbgr6qcurvKKZDhuCUwYaVPBOnuAKVXo2Y\\u002fGBj\\u002fcPq+Ml7HN0VXt6es7vu8zaPS2gWWrYB8JJd83AosRxdmc12nTIKoc5KdkbDULXFP7TkkT1DDSHW\\u002fwS1D0gkCALDE1cj+oEqtqW3hljd0VjZ0VjR2VDR0CsQywwPmPP2D4VuI+xfFPb9uJmwdgFAizyqsLaxqrWjoaOkSCMUyuVJNJuIoJLyHEzPAwyE5wic5whuDHk7wRSSVX7tTc7OkoaaZ28YVSGQKhUpNJuApJLybI8PLmRnh5xof6unhxIQ\\u002faYCVzsOGt\\u002f+oaurVKguSgj9+Yml\\u002f\\u002f2Ck5Va9+t1x\\u002fds\\u002f37s\\u002fxNvJwG+SkQosP4prZmcxbDWBBSc9jS1CpWx3dfqp5judsr5NT2cifal7zMMB06lYosGxE4pSXvtflTnH6oukaiUAAI1CzXEL3ByYkOrsAx8KgDOJ9mHc4rWXfs\\u002fuGGeRSyTXXzujA\\u002fKZUXylBDaNExLnhh3ZfbX4do1XoDPss2NRmHjqDMeoS+15sGMAw+jqjrBJaSDNPYDmBlsBeOvn05duV8BWC6HRaq\\u002fdqTl0Of9WaYNKDffqFErkQom8jSu8Xdq470KeA5Py\\u002fLqZi5IR1QTokMgUv564se9inlwB79SLpHKRVN7eLcwrbzqWXgQA8HPnLE0N27gwDosxIuOsdB7Wzo355PeLutdXcqq6BRI2HWku9cmMPpET6OmIUF2BEW4RAgDM0viVwmbkfZltli65aGPGT3uqr3HlIl+qYxzbZwrb25vi0CkX\\u002flqdvjHjZ64c0UPMuOO+S78vO7drX02eVK2k4QgPByddXvLUjmlrjaorHRFsVwAAXzHO\\u002fujjd7Np4kHHIb0Ido\\u002fbFM+1j89hOdIO7rgiFcthnx1LswrZaEJzu7qLVNKsrhLYaowlJtLbtdZM\\u002fXztu+OvfHssu6huoLoaSBdP\\u002fPaO098duAY7TNDGFT700T+\\u002fn741UF0ZpaaZeyqrxKi6AlY7D4tTQqmk3vakSpX6+LWi\\u002fn6T9AilmQV9saEV083YhRtpBCuS6YtGoTXaof9mAACVVp3dVTLfJQ52jCu2l51rlHTf5534ZNAclsG2IFcu+qni8sGGW9+Unf8w+h6DT0wQcrqaAAD+dM6DgQn3+ESRsUOHFnT9YNgEpPdIW0CskqmRrWc7o4AjgQGbTNAtH68Ci+VI+\\u002fiPx997ZPcr933\\u002f2FsrIxP90CbuPXZGTiTT15fqUitqgx0DMKur+5X2fCRlFjg0dp7LFNgKAABg1YzIuBBPQ0ttC\\u002ffg5Xz92+fum0HAm7xlB3sNFlaZlxh8Na9f+1MyER\\u002fg4cBhUChEnESubGjrqWnmGnbw+uP0rXBflznxgQYfMoJKrXnt++M1zVy9BY1G+bs7uDsyKCS8RqMVSuT1bT3NHTzDH37PLJMFs1Y6DyQCbtm08H0XcnVvD6cVPLgkAY1gYsq566V6VYrDYhanhPb3D4bJfyVCyBhCEM29TNAIO0yQ3lE43gXWtY6KKJbnmxHLITuHQH0rckWFsO1aRznkmhjMcg3YHJRgVsd2mVo5zz3Ik8KEHTaMYNzuNE1IHBALrA5ZD2waJ+z\\u002f8RK3ne\\u002fgwijJqXtj4494Io7BoqDQRr5nv2e8DZvsmM9K99Rvyg\\u002fD1gGY1dUdYf3gdMcIU9uOKZE+Kf0t2YV1hsJi1czIYY+ImZ8Y9OOhjNYuQaCn47yEoBmx\\u002fv7uDpC6aOMKfz6SeSqzLw7385HMIQXWlZzK0rq+UvH7F8U9uCSRRYN\\u002fR6lcmVPWmF1Yd\\u002fFWhVimWJIaBh2gx3rn4b650fsv5upkXmuXIKugdlq0H3zQAE4Y7A\\u002fOjPVnUM1IARqpwAIARDP9kQusW93lMrWSiDhx1QaRqpUhpnuNhjPcy\\u002fmtsHVCsHvGOtg0FEw8ace0tbDVthGq7ALLhnAgIB0XgbD\\u002fkA2y54tThm8VMmVnK8\\u002fQYseyLHCN21F1SqoeekP2ZMsNJAKrVdqNMMPY1P6gtcGg0f\\u002fdMp9MxEf6m7x5uXBo7z2yCIfFHL1aqLPUtnTXt\\u002fV4u7D6H9iPjPy+X3xhUojRBHMAAImAmxbtNy3a7+WNs2tbucNTSCPE05mVFO59vag3J\\u002fjwlYIhBVZlY2dFQ98QGrP2B4FFBFYsy39\\u002fQxpsNYFMrbzWWTjfRIx0XBBEc26WmHxWbpXy\\u002fGnGQ5QTDLVWa6pfFAZxdzQbpEPGg012xg5HAhM2maBbIRSppFQT4QFbZv0z82CTHWtCxhDmu0w53pwNOwaQ1nHn2aCVlKHqls61IcrWciayprCGCAhZj6Rwb9hkjGfWTD9xrVit6d0UK6hqGVxgdfL6co4j\\u002fIfuPa7bQISto8V9c2P1AiuzoLaVK3DlDPYIdzKjL57nxKIlRSA6h3osILCiWX4ENA55jfSRpsxxLbAeC5z1wu29GZ0V0xyDIFd6R3l6R8VnsfdB9omBFoC9VTnH64urBF0CpWyQeVvV6\\u002f4Lm8YPrdJx1rVrYuNDMaOwrlrUGs0c4pHUBtn88hLYZMfKrPJIRSKwZGrlpfa8Fe7QnhXMhdbezJ7BWeyKKOlnbGFQiYGeDmX1vZNXuHxxfz8MmdC3H6X\\u002flM0yNdrX1YHe2iUAAGi02iNphU\\u002fdOxU+6C5qjebs9b7W\\u002f8umhZn757OAwCJhCMkOoVc7CmCHCUr49WWCxhB6vyy2cQSHQJ3lHPLszb9i2F5hDDc6jqTVarsV4mJ+czGvOZbt3Srl7aq6algK8WjArL7Pj1u+LLjyc2kWbJ1wtEj7sjXtjDleFCc8GotwImEBr2Y8Ciw7o48f1TWC6YOkm+jplpuDC6xSQUOzdOhmkCiAWuyWAFttEpZB\\u002fwKhZIiN1Ah\\u002fV336\\u002fJms0ugAt9WmE9jHHDQKtWZ2tL5A8lh64WOrUkzVM2bm13YLejNGUCiwfFp4f\\u002f\\u002fQWEBgAQDmOscgF1gAgEONGf8N3wBbxwkbM37Wvcjrrs\\u002frhjs8GTVODIF1oDYfALDQI+SBgDgXMn14QwYR6v8xrONrlPTtuNsZczAotC\\u002fVtRxZlmd+T80DPrDRjh2jrHKfikRglQka68Xt3qYjqRfbEIWvprADnImD7bXZDoZdRjV39wpNsWJ6xG8nbkjkSgCARqv93+8Xj6YX3b8obnZcoCnhMrasnBG542i2QqkCAHQLJFdyKucnBsMHAQAAOJHZl94eG+QxeH9Uo1hGYCU7hJExBAmCnEEdl9vz7veZM8iStWU+mIgtGJAgUykBAF8mLSdj8bAPMUgGRIAxnStXIWyCTXbGlACqG0KBVcSvVWhUyKfr2JnMzHSK+r7yGJLe6+dabz8WYLzxt0arudLeV+A2CGOV3j4QhVJVVNNW1dRV09zF5Uv4YplAJJMplHKlSq5QyRUqhcqMTstsOvk\\u002fW+a\\u002f88tpfc5ISW3bmz+dYtFIi1JCF6eEhvrY1o2eQSUuSArW9w49dKXAqMDii2SZBvn75qa367DMlQiPxk51DL+ATMgDANRazY6qU\\u002f+Lfhh2jAdWeMTCpsnBQo+Qw3UF5fzOWI477EMMwpufVC3XAi0KacDLYrRIufY2DbZGOMP7VMsN2GoMmVp5vatkhpPt7lDYsR1waMwS14S99VdgxwDOt+U+4r\\u002fEaP7NHV4Nkg63VCxpumMkbB118iqa\\u002f72Ul5Vfqws4WYpFySE0MuHjPRc6e\\u002frUao9Q+s\\u002f53H\\u002fO5\\u002fq4spdPC186NYzD6GsbObbcNzdGL7ByyhprW7p93dj9DwFnr5cq7wpNCgk\\u002fNwFOuUaCxSJ4i13N213O6irJ7+nX98yOjfNB\\u002fKKV3hGPpO\\u002ffVph2uaWyqKe1gt9p9D\\u002f4kwYgFFhqrWZMhE6xfR657ZHIMfJ8aYrLyMIJNsXf28+9t3VXxhkzsizsWIQVHilGZRNEl5x\\u002fh2f8bpWGbL3Nc4lFeOmzEnyR7KVvjj72yf6LNyssq650TI3yPfzpw8+snT5w\\u002fkxda\\u002fd3B64tf2XXB7vP1beZLMAfTUJ9nCP8+tpVHE4z8kc0HI8zPzGYaLq16SAM5zNGmcIODKC5VQlbYIdpvqk48kvCCwj3jGyKzM7KW9zaTplAoVEZraX7Mm49bBr\\u002f4NGYALrDpZbKH0oyYV9\\u002fBqkiJA9V8KynS85n4Eb7iecmtww22RlrHAgMf6prtQhRe7nsrhK+Ujz6K2ckXL9YXFXU5B\\u002fuMW2xPfY2qrgQ2YnskOvcvkoxU1xqy5vCCoCMGq0mvbO3ZdTgLHFLgk2jSBdP\\u002fNgn+xs7eIZGLxdWYpiXruU6g0qkU4hEPI5EwJEIuMc+3Z9facatXAcRj928JGHDgimXblUcuVp4p6LJ8OaoVKlPZBSfyS5dP3\\u002fKk\\u002fdOxWOHk8JrQdbOjS6q6b2knMwoeXrNdEMJVd3cZVgRObz9QWBBgQUAWOc18+Pif2CraWpFbb9Un346cAXssG2+K7+wuypd9xo9nhs+mctHeRf+qOxt94ICgIRgVM5AOPjBmo4YUi\\u002fu8KcaGYlqPTRa7U1uOWy1YwMkckIQCiy5RnmkMXOL3wLYYcO0NXIBAFNmmBGos2MpVnmkIhFY6R0FLwTfA1X25PNqkKRw+VPdgmjDT6sYOR\\u002fsPmeormKD3F9YPzPMd+ieVcMAj8UsTgldnBLa2iU4lVVyOqu0sb0vaqVSa\\u002f46ezu\\u002fqvn7V9YY9ncYfeYlBm\\u002ffn64rEhRJ5eeul62c0aeiDMNXvm6cQbqzDo4lBdYc59id1WfM6tN4sOFaMic0jj1mvdeGwaGG235Up\\u002f\\u002fFrvGjOo5t1HeUOV5fDABY7RP5ZOhUHxobgyC0PhDkjblrRK1znGNgqzXJ7ankK4do+mJnTJjmGPEPglwZHUeaMtd7zx5H4yIUchUAwNGVCTvsWJ9ETogLkd0mG6L7nVAlzempSOaEGhqvdRYZvjXF2Ka3F1a3ZhfV6d+mRvlue36lYZ3gQJAMhB4SVwf6IyuSH1mRfKukYe\\u002f53Iz8Gr2rsKr1sz8uvf\\u002foIoPDRxs8FrNyRuRvJ3uTOw+nFegFlkajPZPdt5WxYrrZ3Rn0DHaWzQWDQt+LeDSmDi3Qfly8d8jFbVM4EGiBdOcQuuukUlcAAN3T23tTFvrTOcNTV8Cc0XL5vL4v5OiAMJPazugTzvBGXnTMV4r\\u002frrsEW20YRxcmAEAmUcAOO9YHjUKtcE+GrcZI74B3AzMQCCwcGju2jbUv367Qv0ahwOv3zxlcXQEAeEIpbBoBCWFeX7+w6pf\\u002frHNm0\\u002fTGM9klhpGtMeHe2VHouxM\\u002fS2rbKht7s4evF9Xp26ti0OhBxiYOyRAn2lxWeaQ6E5mwdVC6FcJX83aOSUbz8Pg0dm2tqPPT4pPZnVXVwo5GcffA\\u002f+DPTAieDpsKALjeMaI0cG+KE2wyQZmgAXnjj5HTrRBmdPaFhe3YGkvNCQPsa0hrkgzd+9FGSJwbBgAovj3aTxR2dCxxS0TS1S+zs1hj0J+vUtiMZLtmmmM4HQfnfY8mTR18\\u002fWsvZ5ab4xCPuEKJvJUrgK0jJjbI\\u002fftX7tV3xtJqgX5kzVjhzKbNiPXXvz1+rff6f+Z6X\\u002fhqeozfwLR95Fg4BkNA454IWP5+0Z+wY1AaJZ1v5O\\u002feFvs4ETP8BkujBgGDcyYy9tXd2FdnMuBxZ+mHsGn8sykgTq3VvHj96Dz3oBCGM4dIJmCwRjspLPMyKfn9EKdVKTXq9I7CRa7xsMM6\\u002fFl7cQybb9kZkoWu8TurTys1iDr0KDWqT0v3bZ\\u002fy1LgYi7n28Tlpx3MP7rgya8UUEoUAu+1YGSaeOsMx6lJ7HuzoD18pLubXRzJ9dW+zu0r6+42zxNWMBwMIPK6f7JMrVMOYkSyS9j2mMqhDT+q8mlet0Rgr3RoxPq7sSH\\u002fXvIpm3duuoYbw6LHIeTDKfXNi0nKqdK8v3Cx\\u002fccNMlVqTfrcxPRhBersOCwssAMBs5+hjzVl3zGzBUMKvfyH3p0+it7LwVNhnY7yWu7+U3xLJ9AhnulMR18RNACIPfS5TqwAAx+uLj4PBgj2DCCwHAp2BoyBMdTrVcmN0BFaLlHuy5TpstWNLMHCU+S5xp1tuwg4TFPHqfqo88UzQSthhe7AcaR\\u002f\\u002f8fh7j+x+5b7vH3trZWSiH9omW2BPYFZ5pA4psAAA17mlBgJr6NR4JyIzjj2c\\u002fkk66JR+95e61m4HptnlsYY\\u002fZEhNI5Urdx3Lhq2WQ6boe4hFLpIsch6MkhDm5evGrm3pBgBw+eI7Fc1imUIi692s5zAoqVE+hsebi+UFFgDguaBVj9z82jCaioQyQeNTt7\\u002f9LPoRL8S7SGNCvbhrjkvYtrjxOupn2IQwkSbBDE4k0xdJ7gIAoJBXW8Sri2D6wA6LotFqPyv9F2FoxM4Ystl3wYW2HOR\\u002fqYON17woToMPkrMF9v94idvOd3BhlOTUvbHxRzwRx2BRUHezQwz5PeNt2GTHEkQyff2orjVDVare5JY\\u002f6r8EACBQSsqFQ08XWDSy6c7eLiw8FqPvq37kakF8qGf\\u002fQ4bGz51z+Xal7nVLJ7+8viPY2\\u002fgdVqFU\\u002ffenU82dfVuKQ9IjlGbm18xNCCIhKAksrGotq2\\u002fXv\\u002fV3dzBwDoZFzoMp1syJ+eKvy7rX2YV1IoPZi0unhg2ZrzY4VhFYflTX9V4zkXTIhWiVdj91+7vng1ePbVbg4Gzxm36prUSsklOwSAX4xODQvC2waVjEs4MQCiwAwPeVx36Mf24kF6kh+af+ir3n7bjAmchc7p5yuDEDdpjm67LDKIBajiyLeazY88Upw7cKmbKzlWdosTMKrHRP+br8MGztT7WoRaiS0rCknO5KjdEWiAagAMrc\\u002ftsQeBw2NtjjRnFvrtL5G+UeTsyty5PwOCM3bpVaY3T23\\u002fRov13H+sLzb+04\\u002fc2Lq90HZGLdKmnY9k9aVVMXAACFAkP9cr2IpPL3d5\\u002f74u8rM2L9UyN9EkK9jMaWhBL5qczin49k6X+sA5OSGO7V7yDTWOQ8mGLZ1LAfDmboolaF1a1dPJHeNcL9QWAlgQUA2Oq\\u002fOJ9XM4y+2CKV9OPivVc7Cl4OuZeF7ys6sB2C6M6FvKYll78KZbixCVQ8GjMwD+ndqFWQxY4esxpzlwka\\u002f224ut57FuywEBfacnZVn4GtdmyVB3zmnmm5JUVc\\u002faAF2m1lh9pk3Vv9FltVpo+E9c\\u002fMg012Rp35rnE7qk4NXlij0WoLeDVTHcJze3pjQoMQw\\u002fJ3JbFhq5k8uCRBLywAAL+euHHwcn6kvyuLTtZqtRKZkieScvni9m7hi+tn3Ts7yuCjvYT5uqRE+Og7NdS1dq99c8\\u002fUKN9gbycqCS+SKlq7BLnlTU13G2UFejreOzv60z8u3v0BQyORKc5ml57NLgUAMKkkX3cOk0qikPAajVYokbV0CmpbuJAefePBeWYFh0Z+HkxBJuKXpIYevJwPACioatGPx4kKcPN2YfU71HysJbAwKPQ7EQ88cuMrGhDfRQAAeyNJREFUoWo4BZ8ZnUX5PdXrvWff4zmVhBntQBFfKb7FrbjBLXsp5J6B\\u002f\\u002fcXbu\\u002fVvbjeZTLsMRkEllqrBcD4Y87gmcVuJE4QzQP5TOVfqk\\u002f7U10TzJFlCDnbeuuL0gNaE7+FHRuEhac9GbhsW9kh2GEaLdD+XXe5TND4Rth6R8RdQiyCFmgLemryeNVbfAdrfLr55SWwyc6oQ8YQ5rvGHWvKgh39KeU3THUIR5JkvMRtROErHYlhXuvnT9l3IVdvEYhlmQW1BocMzdtbFzz04T\\u002ft3b0zE5UqdVpuVVpub3K3IcHeTt++dI90BLN0eCJpXvlg13YMGv3Gg3NnGpTvIcEi58EU982N1QksvboClghfAesJLACAM5H5Rtj6\\u002fxb8BjuQIVRJd1af3t+Qts5r1nL3ZGtXusrUikJ+XV5PVW53ZYWwSSe3nw9eBR8HwLUFJufATGy0AOytyjleX1wl6BIoZYNEyAcZlaNjsVtCxaBfQkM0Ws1bBXs+jNqcyAmBfcNFqVHvqj69v+Eq7LBj86xwT0nvKLzd3dfdBwk53ZUPZH\\u002f2oM+8tV4zkdTkjwSNVlvMr8voLLrSkd8h47mROIMLLDs2wkr3lCEFVqWwuUchbJT09kwyBQVLtNTQ8Zc2zHJkUnYcydInIZmLI5P621sb3t159lZpA+y7CxqNumdm1PPrZ+omxrDpZF2X88Hh0MnLpoWfv1GuUCIqwU4I83r+vhmmksAGZ+TnwRS+buz4UM\\u002fbpX1JdSQCbn6SBR7prSiwAABTHcMf9lv4a8052IEYgVKys\\u002fr0ntpzSZzQBS5TUhzCLDi7sEsuKOHXFfHri\\u002fh1FYImlRbRn42Gm0SVg4Z8WXDl59Ihrj4ImecyZUfVSZka6XOSXKN8I\\u002f\\u002fXh\\u002f0WbvSePfLxRPk91dvKD9eL+9It7YwvXgu976EbX4pVMtgxKDK14pfq04eaMlZ7TF3hnmLxZzauXJDbU5nTXXmdW4ZkgoodW8OP6hrB9Cni1cEOAxolnUhSX+Y6xxLQQ+d9IwGFAg8uSVg+PeJUZnFOWVNVU6dAJJMr1RQSnkYmcBiUAA+HIC+n6TG+8CcNcGRRf3xtTV5509nrZYXVre3dQpFUjsVgWDSSlzMrNth9UUqopxNTf3ykv+tVg24FpiAT8e9uXfjyxlk5ZU13KprqW3uau\\u002fg9AolMoZIrVVgMhkzAsRlkPzdOmK\\u002fL7LgAD4P\\u002fhblY5DyY4r65MYYCa25CkEUm+VhMrJjiQd\\u002f5IpXs35GFCpQadUZnUUZnERGDC2P4RDF9o5h+QTR3Knborh56ZGpFg6SzXtxeL26vFDZXCJt7FL0hU7NIPPM+bBrAzcXvwqbxz4HafADAQo+QBwLiXMj0kYQBaFjSSvep+xvSYIdpNFrNruozV9rvPB6wNIETPDDvbUg0Wu2t7vJ\\u002f6q8gCe\\u002fbsWWciMy3Iza9mf+buaXKAACuXLCr+swftRfi2UEznKKSOSHM4baGUWhUdeL2MkFDCb+hRFDfIO6Aj7Az3ljlPnVwgdUh451oHrqli8XH47BopPsXxd+\\u002fKB52mENssEdssAdsNcaXz62ETaahkggzY\\u002f3N3fUbHhY5DwPB9R8+bZH9QTAKAgsA8FTgcrFKegpxA5tBkKmVud2Vud29CYZ0HNmNxHEjcdh4GhGD1\\u002f2HQ2GUWrVSoxKrZHylmK8Ud8h47bKeHgs9Uw6MYKm0GpFSptZqAAC+VMcI5ljO9bQeMpUSAPBl0nIy1gL9YDf6zD7enI08W1lHtaj1tTu7vCnO812mpDqE+VJdhlRaPQphCb\\u002fhZnd5ekchEkntSXac4xzze+0F2GHHlkjmhD4btHJ7+RHYgQyFRpXVVZLVVQIAcCNxQuie\\u002flQ3JyLTmchi42lEDI6AwePRWLVWo9KoFRqVSCXhKyV8hahDzm+TdrfKuuvF7S1SOHXXenDb+EKBxCfIFXbYsSgznaK+rzw2SABSpVXf4PZ1+jaKH9U1hG6xPgJ2RoFTWX1tYz2dWbFBlrmJj4bAAgC8HLJWoVFdaOvLULMIAqVEoJSUCYbuR2JBLs17HTYBoNZqivnN28vOd8vFL4Yugt0TgoUeIYfrCsr5nbEcCyw+Bo6y2Xf+z1UnYQcC6sXtu6rP7Ko+Q8ESA2jurkS2I5FBxhDwaJxaq5arlVKNolsuaJP1tEi5SMZZ6MGhMW9H3O9O4vxRe9Ge\\u002fG7jrPaY2iLlHmhIhx1m0iLltki5l9vvwA5b4pePjqWfunOmdhvssGNRcGjMErfEvXW9jZGGh8XDV3asikgqT8+r0b8dyXRniFESWGgU6s3wDW4kzkQNDGBQ6Cim57fx96+++u32svPvR62Gjxj\\u002ffBC\\u002fSK3VPJK+f1PAlBiOuxOJamrcdRDDETYZ4z6vGVc7CkoFJvMuh0SskuX3VOcDi235PeK\\u002fJIjmDgBwI3GapeNmmN2k5anA5QCAkWss20csNC\\u002fhzM6wWeGevK\\u002f+yrBjkzg0xpb7ONoZyMVbFfokfQwavXSqyUkk5mL8BmkNUAD1kN9Cb4rzZyX75Rqk2c3jCwqWEMf2udZeDjsmBHg0JoDucKml8oeSTNjXnyGrCHWgUeg3wzc8cWu7udnKVmKGU9R9XjN0rwNp7naBZfugAOrpwBV0HHl39VnYN7GQiGziOzIZcCGyEzkh1xFMwjFKikM4A0eBrXZsmH8v3tG\\u002fnh0X4MgcZlLmQEZakGUuc5xjtsc95Uwcaf8umwWPwfKVw2n9Zft8lHfhq8I0kVIOAEABQMbiTP0Hf9I0nmTHDyI3D943a3RI4AS\\u002fHb5Jn9EVSLPANqid0eEBn3mvhq61YH2xDSIWTsyrim2yyj0VNiFmqX1\\u002fcFxxJaeysrGv6caGBZaMPo7BJSmE7rkn+ZWd1WeONmUOOwxrm\\u002fAUksyOCiciHXZMCI7XFwMAVvtEPhk61YfGxlioL3YcO\\u002fCNsPWfluzTVQmMCVFM34+ithjWReo2Cu2MF5a6JYXQvT4o+svGu2+c3pudfaFo1orYuav7yqB+\\u002fWzoTMSuVj5ssmM1EjkhLkR2m6wbdgyFA4GRMILpznZGmW6B5Iu\\u002frujfpkT6RAW4GfhHyhgILAAACUN4LmjVXOfYL0r\\u002frbPtC+JAfq4wkv+oBaBTJrjcXspTSB7ynw67JwQ6\\u002ffHelIVUHNzdfoTMd5lCxRLfK\\u002fxzTPaOF7jEvRK6FsonC7ALrPGGP9V1R8IL31cePdV802YLFH756Jhcqii+WWMosA78bOSSYmcMQaNQK9yTf6k+DTuGYpFr\\u002fMgb9dkZHYpr2t7bdbbz7vBBHBbz\\u002fLreFBFLMTYCS0c4w3tn4ksnmrP\\u002fqb\\u002fSKR83z2c\\u002fV\\u002fYJXggUQC1yi3wiaA7smBA8HTb1vdxz1zvq57lb\\u002fhEtxSHs27inPireO2SLZAuCQaGfDFy+xtOIIGbhqQ4EepdcADvs2DBEDO6VkLVL3ZK+rziGpBvk6BM7NfD6xeLo1ADIjsagHVwYkNGQrja+Rj1mId5JyBK3xN9qzyk1iLpP61lsifE4dqzBjiNZBVUtTBqJgMNKFcrqpq7aln4RysdWpfi7OxhaRs5YCiwAAA6Nucdz2nL3lLOtt\\u002f6pv9Ii5cJHjBFoFGoKKxBvrBXvxzFrYFNvThIhhO7qQhrsKjmu2RQQp9ZqXrx+dJ57UAjDmUMkEzBYo22olnkNpwojmO65M\\u002fGln6pOnGjOHoW94wiGz3PBqwfZCgykeXTJ+5qj2BkvhNK9foh\\u002f9lJ73p6a86Op143CxFMNi\\u002fbf3blVqVDh8PCF183bYeelNyCjIY\\u002fM\\u002fqS5box\\u002fl0kFE0+d6RR1sS0PdpgmmuXvTrLwHdqOpejkiW6WmKxYX5QcsnmJ5ZPn4O\\u002f5mIBDY5a7Jy9xS0zvKLzQlnOru9zc5wZLgQKoILrHTKeoBS5THEzMhV3qHg2bJgeRhz6XqVUAgOP1xcdBMew2YHgCCwBAxOBeDL5nlXvqjupTw67iGRIHAuNR\\u002f8ULXOOMqkM9gTT37C67wBqvzHWOneMcc4tbfqgx4ya3fJQ3DTEo9BR24AKXuFlO0dDMg4HqCgDAYA9Rd0amwf2N7Vible6pZgmsJa728NX4A41GPbg44cl7plooqbgfRr7qYwUGhZ7tHD3bOVqglFztKLjUnlfAqx3GKIxhwCHQo5i+caygFIdQDmFipqiPnBCmM2yyDr5Ul0+jt1YJW443Z19sy5WY2e19EKKYvqs8ps5wisSihp7zYy8kHO+gACqRE5LICWmRcq+052d0FpUJGq2qtKhY0hR2QBInZLpjpFmzDunsISrDKXS7wBptIpm+flTXGlEr7DAGBUuc6TRJn73HBZH+bnWt3S2dApFUrlCqqWS8uyMzPtRz9czIkUxIHByU1vp7McNGqpYX8+sLebWF\\u002fLpSfoO5Y1UGgYmn+lFcAmjugTS3ULq3B9ke17VRZGrF7e6K69zSm9xys3qy68GhMREM3wR2UKpjuA9llDSiHdukSy7I7iop5teVCRobJB0j34lGo9DuJE4w3SOU7h3G8AqmeQwjx\\u002fnU31kefk7RKXBiliEfPbkn82yBvZP7KHOsKevr8sOw1RjL3ZNfDjGSPWJnMmPTAssQjVbTIu1ulXW3Srmt0u4WKbdLzpeqFTK1QqZWyDVKmVqh0WoxKDQWjcagMAQ0joIl6v5j4akcPJ1NoDsSGO4kjgfZkYId\\u002fuPg9+UXZWrlM8HziBgjGVp2rEe3QlgpbK4Stuj++l1yPl8plquVCo1KqVVhURgShkDCEMhYgiOB4Ul29KI4eZGdQuhe9r+UnYFI1fIKYXOTpLNdxuuQ9bTJenoUIplaodAoZWqlXKMEQItBYbAoDA6NIWOIVByRiiWx8FQHAsOBwHAhsrzITh5kx5FMPUdOflZlU23n0k3D789kZxgcb87eVnYIthrjp4TnQulesNXO5GbcCCzbYdHlL0kY\\u002fJGZz8GOiU6nrLecdUgciUPsd9ixY8eO7fPYzW8qhE2wdQA+FOc9ya\\u002fCVjuTHhvKwRovcOWiZe4xsHUSkHxsO2wyAcJROXbs2LFjs1QKm5GoKwDAYnv3djvGMDtdwA4LT0FZo95gosDEk2CTHTt27Iw3TrbcgE3GwKIwC1ziYKsdO\\u002fYI1jCY7xqe3lGu0WqGkc06rvl5mpEUTqVG0y2XFHS3nGks02q1u2esS3Lyhg+yY8eOnXGFTK282JYLW42R4hDKwtuTIuwYwZ6DZTZSteKx678F0l1eDl1EwVp4aMz4pVUi2HjlL4FCdmbRY04k++XGjh0745gzrbc+K9kPW43xSfTDKQ7D7PxnZ2JjF1hmk9VZ1SblfV9+UQ20kQwPFxIDMyCU9Z+IZZBlMnCuqeypzEMPBMa\\u002fN2Uh7LNjxwQZZ\\u002fI\\u002ffup33esHX1684Zn5\\u002ff3mMbyfVny79uvX9nW3C+Jnhbz2zf1Y3GgUBo4Jk+c3HSFP3\\u002f4OybQlDoF+YOpbk203ww5C7FuEZvPUzd7LNwAgo7PCwNPH5BRYqc6+AIC0lipgF1h2xhU7PjjaXNsJALh2Oj9lQeTslVPgIyYKk+c3HQl14jYk6goAsNA+3dmOaewCy2y+TbgfNtkBAABAwuAAAO1SIeywY8e2aW\\u002fqG\\u002ftq+HriMXl+05FwshlRejsAYPHEHY+z49+M45cLZQpVfLjX208uopLt+TBmYxdYZjPDKRg22QEAAFAn6gYAYEel7+I44vbFwo8f+GHKnPC3\\u002f34W9tmxDVw8OYIese61V4ANtftvreeqVGoHFwaJYpnbm83+praDUqM635YDW40RxfT1JDvC1gnBnbKmPUd6VWb67ap\\u002fTuc8usbe5NZs7LFNO5ZBqVF\\u002fWZAGAPCjcWDf5Cb3crFEKL1+2oypsXZGmcfeXunu60iiEJY9MDVlQQTsHiOkYvmjcz95bN6nNy9bbOi4bf6mNsXVjkKBUgJbjbHcPRk2TRSa2niDvLWDEHsEyw5SthWmwaa7dMrE2R11jSIeAGCpVyjsntxMmRN+5re0qSvsnXJsl\\u002fB4312X\\u002fwNbx5r87Cq12sLT7m3zN7UpjjZlwiZj0HHkWRN3urOnK8vwbaD3xAzUWRu7wDKbf+tvdsgED\\u002flPH9ijoUMm+F\\u002fRyaXu0fNdwyHXBOCHkqGvOwmOnluC7E2N+xE\\u002fL\\u002fJI68+w1Y6docjLMF5DY8d6FPHrivh1sNUYi10TcOgJewONDnZ\\u002faHXy0UsFSpV6dlLQusX2YojhMGHXh\\u002fU401JQIWh7NHAW7ADAiUgvE7RI1fIJKbCcSTTYdBciButJZc5zC1rvHzs6s2\\u002ft2Jnw5GWUwyY7Vub32guwyRhoFHq151TYOrF47L6pj903wX9Ha2MXWGbTIOYmcPwIJp5dIpkeed2I6nvHHVkrJt18azt2xgpuG7+xugO22rEmRby6W1xEonamU6QLkQ1b7djpj3GVYGcQ+AqpC4kOW+\\u002fiQKDxFFLYamfEqFXq9MM30w7eqMyrFXSLcHgc05HuF+mZvCR2\\u002fqZphkc+P\\u002fuDslvV\\u002f9Z\\u002fT2dRT+y8dP6va02VbUALnLw401cnPPDmasODy2\\u002fXXPk3uzCzvLm6XSFTUugkr2C3mWuSljw827AH49NT36nKr9\\u002f89r0bX19h8Ole9rx\\u002f8J8vTgTH+32b9q7e+OGm7zKO3da\\u002f9Q51\\u002f+XW\\u002f\\u002fRv9UjFslXOj+u8BRllB74+XX67RiyQMJ0Y0TNCN76+wiPABf4MAOf\\u002funbu9\\u002fSaokaJEF5sUdNCvjg7vpJsLDvZ07I\\u002fbWzQarVZ5wthqx1rogXa7yuPwVYTrPOaBZvs2BmAXWCZDQVH6FGYrDERKKVEDA62Tgg0Wi16jKZc93Tw39\\u002fwbemNKt1bPBEnk8hbatpbatpxBBwksHR0NHC\\u002ffmp39qk8AACBhJdLFfWlzQHR\\u002feYklt2qfn72B7rXRAqB48bqaecVZVcUZVfculDw4cGX9Ecu3Dyj6qU\\u002fz\\u002f91bcNry6FR31qN9uI\\u002fmQCAxZtnGtqnrYxnONIFXcL6spaGsmZD10Caq9sv\\u002fJ3x1RO7AAo4urM1Gk1Xc\\u002felfzKzTuR8m\\u002faOV4i74cHbntp97o90HAEbOyucwiCX365pqWkHAPhHeUVNCwlLCTQ8eBjUV7TdvFxSUdBQW9bK7xZJRXI8EUemEd19HP3D3actigqL94U\\u002fYxq1WnPt1J3MswVVxc09nUIsFs1xYUQk+M1eFReR4AcAwBHMuApZ5Kfdvlr29pZfYOtdfjj1sl9YvxOOHI1ak5Nenp9dVZpb29XGF\\u002fIkCpmSQMLT2RQXT7Z\\u002fmHtYnG\\u002fs9CDSgJZCWo22orCxtrSlprSlpqS5tqxVIpLpvZ8+9+enz\\u002f1pcHgf9z4665E3jYh+HSP\\u002fTblt\\u002fAenfahRawAA7j6Ou64g0u6drbzN0z7UarRgqE9JJfKss4U3r5TUlLTwuEKZRMFgUxzdWNEpAdOXxPiHD\\u002fHPsyAnmq+XCRphqzESOMEhdE\\u002fYasfOAIa+GNmBCKG7ZnVW8pVSBo4EucQqeWZnZRB9YnaXmXny+3V+sWv9ogdJxrIGWo32\\u002ffXbS29Wk6jEze\\u002fcO\\u002fOeRLYLU61St9V33TpfEJ5sXE988+xvnU3c13Y+lrJsCplGkoplhdfKGQ79\\u002fuUhCf7zNk4NiPaetjLB0YMNAFApVId\\u002fOLf77X9vns0vyCiLmhaiO3LOutRd\\u002f93fWttRmFmuN+rIvVLc2dRNpBBmre1Xsz37vpTZ96UAAM7sufrNM78augaiUqi+emLX7PuSH\\u002ftkA8uJAQAovl754cbvejr4ez44\\u002fM7evgZaeWkl5\\u002f5IxxNx3159zzfcAwCgUqo\\u002ffeina0dvcVxZT3y+SX+kuUjF8gsHb578M3PgzpRULJeK5dw2fsH1qiO7r4bF+bz4+XoPPyfosIFUFjZte\\u002fWfuvJWvUUOgFgoa6hsP703e\\u002fqS6Gc+WkOjw98jU1j2p1mcc\\u002ftv7P\\u002fpYms9F7JLRDKJSNbWwL2TWXloZxqegN115U1HV6bhMUK+5IVV3xhabASOC2PK9ODbaaUAgOa6ztLcutApPvBBA7h0+LZOXQEA5q81WfVy5p\\u002fsP7ed7enq15qY2y7gtgvK8ur3\\u002f3gpZUHk0x\\u002fcy3E2uWNgKdpk3TuqTsFWEzzkuwA22bFjDHsfLLNZ7RknVMqeuflHrajT0N4k6Xnu1l88hWSlx8QsuGiRCL4uujr9xHdPZBy82lqtGa0plteO3iq9WY1Co\\u002f537JXVTy1guzABABgsxt3fedWT8wNjfaDjddQVN3526o25G6aSaSQAAIlCTFwUHRzvBx326i+PrX56oU5dAQCweOx9Ly4NivMFAOgDZgAAKoM8bWU8AOD8n9f0Rh06y8x7k0hUIuQyi8BYn9d2Pq5TVwCA8ORA3XbknbRiw8OyTuQAAKauiNepKwAAFodZ\\u002f+pyAMDti4VqldrwYLPIz6766b0jA9XVQEpy6l5b90Nb4xB9wEty6l7f8IOhHoK4djr\\u002f9Q0\\u002fYrCIrkIW\\u002fGnO7qx59yYkzgkLjvF29eZQ6CQoKmkuEpHswyd+++aN\\u002fQPV1UB8Q9wgdWU9LPKbLjBQSBcP3TLwmOTykd7NcRQaNe+e+P5OAABQqzXbXv3n2zcPQOoKIvt84fMrt1UXDxEAHiFKjfr9wr\\u002fEqr6Q4SAkc0LDGP0C4XbsmMIewTKbRW6R6R3lp5vzV1\\u002f91pfq6EZiogCqTcavFnZogXa2S+hyj1j4MxOCTQFxJ+qLBUrZhebyC83l7hTGOr\\u002fYtb7RTiQqfKhF0WUyJcyPCksyHqwyStLiWL0EMRd3f5eKnFqxoF9606ItMy\\u002fty7p29NbTXz2g11IiviTrZA4YsD84DBY9OAOF7nfzC4zxAQCIBVKFTIkn9u47c1t7AAAuPv3a0ujeatSanna+g\\u002fswc2+T5oZ5+jvpBJaTGyt+VkhgpKertwOVTlLIlS11XRln8q9f7FV7PV3CXz48+s4vD\\u002ff7EQbwu0XvP7pbKpbr3pIohMUbkmOnBTM5VIlIVlfRdvV4bklOXV156+cv\\u002fN3\\u002fo0aw7E\\u002fzDHB++csNhpbPX\\u002fz7ylFEzbsHolZr3ntkd+GNar0Fh8dGJvqFxvmyHGkkCkEkkLbUdlYUNFbkN6jVmkUbjHSnpLMoZ2q3GVr+\\u002fenSb5\\u002f3xlTe+PaBmcuHc1WxyG+aMj+CxiQLeRIAQPqpO0+8uxqHH+zGUZ7foJfpcdODOS69zwyGfPuffy8c7NVqRDJ+9sq4mKmBTm4sLA7D6xIW59Se\\u002f\\u002fdmd4cAAMBtF7y7ded3J19m9Q8\\u002fWwot0H5eur9U0AA7jIFGoZ8IXApbh4Ivkt4uarhT2lRS3cYTSgUimUSmIBJwFBLemUP3dGGGBbhGB7sP2Wvq9a+Opd+uAgCwGeRTPz9p6LpRUHf5ekVJdVtrJ18qVxJwWDaT4u3Kigp2T4nxDfIZItj825Hrv\\u002fybCVsN+PLV1VOnwE+nyBFJ5Bm5NbeL6muauO1dAolMqVCqyEQ8hYR3dWJ4urDCA1ziw73cnZnwJ\\u002ftTVNn66Dt7da\\u002fffnLRkhm91fpCsezS9Yq0m5XNHbzObhEOi+EwKYHejjMTAqfH+RMGXa73v\\u002fZ7dWOX7vX81JAPnjXj75t+u+r1r\\u002fry9vb87\\u002f5g3377V4P9j+2Y4uOYe2NYXn\\u002fVZtWKOvVxLFcSc4NP8v2+KWOVqGRtPohb9N+Yeeeayg\\u002fU3slur2sW87cVpm0vSp\\u002frHrjBf8p0Fz8r\\u002fdp1JU0AgPCUINgxKIExiJ4yZWJ52sHreVdKGspbBFyhRChTyJUqhQoAoO0foouaFuIR4NJU1Xb10I1Fd+VU2oHrCpnSK8Q9NCnA8OBh4BMBZ3WQaL0yTq1WA9ArsHS7nLwOvv4wAEB3Gw8AgEKhKAyyod0sUCjUhmfmF1yvXrwxOSjKC\\u002fKGTvGZe0\\u002f8tdP5nzz7h273J\\u002ftCEbeNb\\u002fT2CQDY9b8T+pEsLl6cz\\u002fY+5eTO0nujkgNWPDjt5J+ZP757uKW+9+o2CJb9aZZl9ycnDNXVgvuSNr+8mO1kZFdLxJdmnSuYviwGdtg2WBxm9oopx\\u002f\\u002fIAACI+NLrF4unL4mGDzLg0uG+2g6j+4NXT+SdP3BT9zooyuvtHVscXJiGB8TPCr3vybmfPvunroU9t13ww9uH3vppi+ExFkGj1XxVduhCWy7sMMEytyQfipGiE1O0dQn+Pnn7xJVCuUIFuSRShUSq6OwWFVW2nLlWAgBwdaR\\u002f9vKqIWUWAKBHIFGpNVgMGgBQ08T96OezpdVthgdI5crmdl5zOy\\u002frTu3P+zN+\\u002fWhTqL8Z\\u002f2wLIpEq9hy98e\\u002fZ3IFnQCSRiyTydq7wTmnTiSuFAAA\\u002fD87iGeHrl8TpfrXBqWvujaCfTi\\u002f+as9liVShd8kVKpFEXt\\u002fSfTG73NWR\\u002ftKWOdOm+Ou9EGsWxn62q7c3R9rNyh6BhEVHehU9dbVveyHQ2xFSV8C+RTg8UAB1n3fi8VkvXJz3+t5pT+6d9sS5ua+emfPyg35TJ\\u002fZkdQIGu8I7\\u002fM9Zm64ue+a58OnuFIZaqznfVP7Q1X9mn\\u002fzhp9KsTpkI\\u002fsyI0UWSaCwK7BgUIoLZbcXXK7dEvvr1079ePXwDhQIhCf4z701ctnW20cI9AMDCB2eA\\u002fruE5\\u002f5MBwAs3jLS8BUAQLeVOSSJC2MAAOmHb3YaTOo98sM5AEDktOARblPOXhX3\\u002fKf3DVRXeqYviZ6zqq8lfYGBsDCkp0uoD5OgMeh3f3nYUA\\u002fpWfbA1BWbjRQoQFj2p1mWjpaeE79n6N9ueXXpi5+tM6quAABUBmnBfUkDM9xtnwX3JelfD75LqFKpr57I072mMckp8yP6+4Farfn1s5O61ywH2od7HoXUlQ4SmfDGdw\\u002fo5XvWucLaspb+h4yULrngjfxfT7XcgB0moOPIW\\u002f0XwVbTXMgq2\\u002fjKnoPn8gZqC6OIpQpvNyMLeyBaLeDyxACAm4X1j7z9N6SuIJh0UrAffOOHwOOw1ogLtHcJHn1n75\\u002fHbyI8AzVN3DPpxUjUFQCgrpkLANi25\\u002fKHP501VFcQrZ2CV784uvdUn+iHWDgtVD\\u002fHWqlS66QeEngCaVZejf7tslnwUge2H8H6LT3ny1PpsBUAAMCex9cm+A1zD8hSOBCoDgQqbLUCJ\\u002fJK39h3Fraaw96n10d7ucLW4eJOYTwfMeO5iBlZ7bWHagsuNJc3inlfFlz5uvDqfPegDf5Tprr4Ivm+arXgyO3iw7eLqtq4UqWSQyUnB3g9OjvR17HvQqMbcysWmKzcHB5yieKDDd\\u002fyOgVR00P+89uTutQuHR9s\\u002fK6pysg1a\\u002f790\\u002fZ8cKj4emVTVZtHgEtDWXNFTi0Wj527wQJjUBFe35KXxKQsm5J9MvexhDdTlsZS6OSy29UVubVUJuXprx6Aj0Z2hs0idUGkPkTR1crr57tL2rFc\\u002fYyX6UuifYJNLrz1z8w\\u002f8WemrkjNFJb9aZbl6K\\u002fpqrt5b1OmB697am5\\u002f\\u002fwTBP9zdL9StprQFAJBztaynS2hqw+7W5RJ9rHH2iikDNxMzzxZ0NPfoXq95fA7d9IMTiUxYvD75r2\\u002fOAQC0Wm36qTu+IW7wQcNCqVEdbsrYU3NBqu7ddEbC04ErGDiT\\u002f1qInQezfj2UDVsBIBFxLDqZQsJLZMrObpFC2ac8Fk0Lw+Pg02WKzm4Rlyd+\\u002fatjMrlSZ0GjUGwmhUElKtWazm6hVNZrT43xG1I8bVoWv2FpnEAk4wulPKGUL5R2cIVf7bkMH2cOKrXmP18fr2ni6i1oNMrPw8HNiUEh47UarVAsb2jtaW7nGabzrpo3WHDUkLrm7n\\u002fP5h4416vmKSR8qL+LLvjU1iUoqW4zHDP13V9XqWTCitmReoseEgG3dGb4\\u002fjO9UcyjlwruX5E45BkDAJzLLFXd\\u002fV\\u002fgsJiF00L7+wGwfYFlx5ZBATDV2Xeqs69EpbjcUrW\\u002fJi+rve5sU9nZpjIvKuuhoMQNQzV2f\\u002ffQhUO3ivRv2\\u002fmiYzklFwor9zy+Ntyj96nLK8StsaK19KbxYMmwKcws53UKAACv7XzcUF0BAHra+23A6WE5MZIWx2SdyLm4N3PLO\\u002fde\\u002fvc6ACB12RQGx\\u002fjNxhqgUKi3\\u002fnzmjWWfFWaWXzt6S6PWsF1Zix+atfHV5U5eDvDRyM6wWTi6MfWvdXk5Aym82fdgN\\u002fh2EpNDDZviU3Sr7\\u002fiBWPanWRbDMczrn55n4JlozF+buOODowAAtVqTdix39VbjUduLQ+0PZp\\u002fvW40zlg321wQA6Fpv6MjPqgIvG\\u002fgA6JIL5BqFE4E1+EVGj1yjLOU3XGzPTWsvEKn6ZVgOSQI7aKFrPGw1wYWsMkhdOTvQ1y2akhzt4+vB0Rs1Wm1ja09OcWPWnZob+XUr5hi5\\u002fZuipqlr98FsnbqKDfVYvyRuSpinPhKj1YKG1u7r+XXnMkoQ5k6hUSgmjcSkkbwBAACIJPIRCqy0m5WlNe36txuXxj+wIpE5oMhXKlfmljRez6+7fL1cLFUsnh4GHWCKxraer3+\\u002fAgBwcaA\\u002fu2nmrMRAtEEOK18k\\u002ffXQ9QPncvXibfufaUlRPs7GrtX3Loj592zvka2dguw7tVNjhz5phvuD0+P9GVT4VwN2gWVn5LRIBAdr84\\u002fXF9UKuwEAGBQKANAg6nk\\u002f99yflbe3p64OYxq\\u002fkd+objS89+uRKJTvH7n077MbdW9Tlk7JPJ5z48ydqjt1ATE+\\u002fQ4dAVKxDACAQqNYzr3bEDqaq9vLc0zeoRdvnpl1IiftQPaWd+69dvgmsND+oFnsfPOfwszy13Y9Pnf9EJEzhGfYLDAGAXyNxnisqKqwr59QiIkyTz3+4e6DSyLL\\u002fjQL0tMlbK7tTcGkMcmRSSbzPCYAc1bF7f7khEqpBgBcPHzbqMAS8iR6xekb4hYQYWSHofjuX4fOohjdHDSEbfDdbGvsi4XoSOvI\\u002f77iGBqFciAwXIlsJyKThCEQMXgCBkdE4wkYnFqrFqvkEpWsWyGsFrU2Sjo1WuMrdnAYOMobYethqwm6eOKPd5wztKxZGPv8A7MG7nyhUShvN7a3G\\u002fue+dFiqYJCwkMHDMJXv11WKFU4HOb1rfOXzuzN9daDQgHdTx7DGYKG22fzU0Oevd\\u002fIggEAkAi4qbF+U2P9Xnxwdl0zV68REeLuxPj5\\u002fQ0OTDiyyKCSXtw828OFue2uTJRIFT\\u002ftu\\u002fbe00v6HwgAAJ4urMRInxsFdbq3Ry7mDymwqho6K+t7KzkAAMtnGRfHdoFlNt0KMRqgmPh+eXC3ubX5PY2ORNoC14iJ2mgUQgtARlvNX1U5l1sqdTFeJp601i\\u002f6gYB4NAr1V1XOH5W3a4TcDZf\\u002fPDr\\u002fYV8aG\\u002f48AGfyy2HTXYqb2pu6+R5sBgBg9n0ph747W1vU+Mbyz7d+cN+0VQk0FkWj1nS38QqzKgRc4con5sOfR4CuxlCr0Z7YeWn1Uwt0xry0ku3P\\u002fmZKNwAA4udHOrizW2s7L+\\u002fPbqpqc\\u002fZ2iJ0NX92szZnfr6LQKBcfR5VSbdhufiAIz\\u002fBA6ipaS27X1ZW3tjVyBT0SEV8ilyoVcqVCrpTf3XowhUat6by7dUgk44dsYuTqbSTwpseyP82yNNf0XWEDIz0NPBMQOouSNDc882wBAKCmpLm2rGXght3VE3k6BQb6N3fQIxXL9X9NQY94se9L\\u002fdyDIuju3XmE0Gi1HTJeh4wHOywECqDeCFvHIQyx8PTsPXnLMOVo07L4ZzYZ1xaGmKWuAAC6vcU3H1u4yNjOlC3Q2SPSvw4PMLmtrweNRvl5mv3lfXXrvIHqSs\\u002fahbGZuTV65XT5RsVLm+fQjSWqrlkYoz8sO6+2rUvg4jDYX9wwfOXEpiVG6QJ\\u002fMHaBZTb\\u002f1t\\u002fcXXX14IxnvCm9q2F72fnfqnsTn3+rvvZH6mM0nJE\\u002f4YRBoJQdqi34qyqnTtitswQyHLcEJqz0iSDdFZevRs1+MDD+4fR9ZbyOb4qubk9Z3ff5u1S1w4+khlR3dOtu\\u002f1gc5oMDL76z9uvaosZvnv3tm2d\\u002fI5DxCplSV8sWPy9yeALLI9B1zrqUy\\u002fuzf37t7yM\\u002fnGM5Mdrru3o6+KFJAUu3zt711n74AwAAANAY9IL7p+397Phv7x0AACx8YIbRxkLZp\\u002fLyr5aIBVKxQNJY0QYAaG\\u002foevvebRQ6icwgU+ikdS8vow634m\\u002fmPUnn\\u002f7r20ryP9BYCGe\\u002fs6RA\\u002fP3Ldy8uYjn3XBYRnWI9KqT71d9aJ3zOa63oDM8NAIurLa6EiqMchG7ve6bHsT7MshjukLEcjWw8TjAVrE3UCCwBw8dCtR\\u002f+7sr+\\u002fb38Qi8XMWd1XDKFHn541DNRqjVqtMQygjg6b\\u002feanOCDdt5LKlUcv9p4iAICfB+eJ9dMN\\u002fJZk2hR\\u002fm1VXAAAysU8yltf17RVaEE8XVlKUD2ztz5bVSXrlpFSqL2aX3zM\\u002fut8RAAAAUmP9XB3prZ0CAIBGqz16qeCJdSYrZtRqzbmMUv3bJTPDTOVs2QWW2WR0VDDxZC9K71Z6Ea9pT3WGC4nxdNDcQl7Tv\\u002fU399VffzRgVr\\u002fPjBgKAc+mkPhSmfpuf+QxoZTX\\u002fldlzrH6IqlaCQBAo1Bz3AI3ByakOvvAhwLgTKJ9GLd47aXfszvqYR8AAADJ3fRMo0jkCv1rJ0\\u002fOd1ffu7g3I\\u002f3IreqCejFfQqGRmE6M0ET\\u002feRunGnzIPF7Z8Wh4StCZPVdbqtv5XUJXX6dVTy2499lFDeUtABgXWACARQ\\u002fO\\u002fOfzEx2NXBQatfAB41fPW+fzT+2+YmiRieU3z+Xr3y7bOmd4AquhvEWt1qAxaK1WqxMTWi2QSxUN5S0N5S3Xjt76+fpH1LuPdMjPMACgrYH7ztZdjVXwpZDBpjI4FBqDTCQTCCScTKLIvWYyMAYAkEn7JBHhbvuuQSCSB3t2t+xPsyxioUz\\u002fmjKKwm6siJ8Zwnai69pTXTmWu\\u002fWN5WgDudNc21l+p\\u002febnjQv3Gj2uuEZGxfMcore7GvG81tBebPU4EuHsOPA8Fi\\u002fxIiEtR3CA1x1XbsAAOeulUYFua+aG9X\\u002fkJEyLW6IjTwAQFSwO4dJ0RVdAgAKK5qNCiw0CnXP\\u002fJgf9qbr3p64UvjImlRTf7usO7U9d4uuUCiwbKaR+kEddoFlNq1SXgzLC3V3puye6gwt0H4QfU8ix2+5R2wRr+lCa7HFBdacMP857\\u002fhrtUAglfVIpDyxtEcs7RH3vuZJpD1iWY9YWt\\u002fV0yM2L3kTOfdd+j2nq0n3moYjrPWLeTAg3pPK7HdQfyLYrgAAvonp1xTCYPdCBqnfHQtHwC5+aNbih2YZGo2y\\u002fco7sMkEGCxm2SNzlj0yB7L7R3mdE\\u002f0OGfU4ezucFe6Brf15bvuW57Zvga3GIFGIpv5fPmEekKuupOn52R9gsZj3\\u002f31hypwI\\u002ff6gVqutK2l+Z822jkbuxX+yVj3Ze0tAfoZFfOmr637oauPp3hJI+AVrE1MWRARFelL656UW364dXGARDJ5cFYMqPB36mSpGsexPsywEg20dmelC8QkDGoOeuzr+wI7LAICeTmFOennC7L4IysXDt\\u002fSvjaa3g\\u002f7y1yvQ+T\\u002ffP2jgHJpRDl8lcIL\\u002fG75Rf6lHQm5J7xUSAIBCgdlJQQZOS0LAY6P7jyi1NZbPjthz9LqumFGj1X6268LxK4Ubl8bPSgw0JVzMJdDbCTYNAI1Chfq5ZOT21kiV1cIPkHqWz47YeSBLt\\u002ffazZek3ayclxIMHwQA6L8\\u002fGBPiMUh\\u002fVLvAMhuhUuZI7N0O4MpFV9pLg+muiZxeKR3KcDvfaiSt2CKgUIBBJjLIRODAgn0AAAC+OJW+Jz0HtloInbryp3MeDEy4xyeKjB06nKDLzWITjIdqAl04uXXNsBUAAAAKBULcHGHrpOfID+dlYvnmt+9NXNjvIQyFQvmGeyQvjj3+y8WOhi69HfkZ\\u002fvPrs3p15eHn9NHvjznfHR8EAfVfHQjlbn9UgCxiIeT3bbQNxLI\\u002fzbLQmX0Lm8\\u002ftyziZwMxfm6gTWACAi4dv6QWWVqu9cjRX95rlSIufGaJ7DcEwCGvJJAqfIFcDp20Rzw76MHILwvpEPdUNfXvr3m5sc1O2kePn6WApmWIlWHTyG4\\u002fMf++H0\\u002foLRml129vfnmTSSQunhi2cFho6VHeuIXEdNE1Kj487Wy+wmu5e5QbCoJLmpwbrxdORi\\u002flGBRZf1K\\u002f9lan0dh02\\u002fReyTTgEKk\\u002fRexE\\u002f0pij1mrWeCXovWgUSqyamM+ys1wDfpu54dziJ+4PiEOirgAAMrVynnvQUk\\u002fjGQyLo40sXx1zwwPYVOOybDLT1dwNAKCxjWy+AACaq9sAAIYtJxCeYa1Gm3a89+4IAHj5yw2m1BUAQMQ3Ho\\u002fUg8ag9anoEpFs8GFzAIDudgFsMsCyP82yGJ6lyqK+0MUExtPfST\\u002fs+frFYv3worK8+va7nW\\u002fn3ZNgKtREoZP0W4edrTwkinlMWOSa8GnM1mGUK\\u002fFFfd8ON8d+CY6WhTEetqQXTA398rV7HNn9WkXyBNL9Z3Ie\\u002fu9f61\\u002f+7a8Tt\\u002fSbd8PAaLr6QBgGPZxVas0gXU\\u002fXLIzVv84tadQ3izfkfGaZ8m7rOwoJP3vQAW7GvwZ2BiGC6ZHRUVnCbynlt\\u002fxZm8XEk5d59IUT2qQCGtZaTy1jy+4Z62aYOQ+HiSftmLb2rVjjSQwJfh5rk4zIf19H1rur58JWOwD4RngCAI79dKG5ul+gu6ul54eX\\u002f8y5VIQn4qav6pP7CM8wjyvSZx9znOkhsd5610AaKttg0wACDMb+VOQ3GHiMUF1iPMamx7I\\u002fzYK4eHH0jQa6OwSVBu0kJjD68kCFTKnPeb92ui+\\u002fcP6avhU4kOiUAN0LrUabl1HR3zn2kDCEV0PXvhG2DosyL3alQyDqk4xUCqLb\\u002f\\u002fAgEcwWf2NCaozvv9sefmrDdPaAlNP6lu4f9qavfnbnxzvONbQYkTJDgrAvq2G6PQBAJOlL64QI8XU2LHg8crFvVesx3B+c9\\u002f\\u002f27jo8imttAPhZd4u7ExdChOBOcYq0UKMt9Xvrt\\u002fJVb11v7dYvLRWKFCsUChQJLiEQd3dP1n1n5\\u002ftjybI5OzNZC4Qwv6dPn+SdZZOszL5zznveMymeTfhEkAmW0+6PnqpFDHee+faOM9\\u002fKDZon4+ZxaFeePzNqLpW1RvCvzryQiL2xcu47t81Pjwjis5l0GjXCR\\u002fLonIm\\u002fP3EnOXyF6bZnFgVF+bfWdK5Pe2F92gvPzHnn6dlv3ZPw7F2xT\\u002f\\u002f5\\u002fVEWl\\u002fn8hof9h\\u002fYpcOQR1qivfioIJcPsTHDm4JXPVALJ2VdmzAEAp\\u002f\\u002fCOElZ6TSGonO1cHQoz96bZ2XMuDpGuOO7K3NnHmHd3hsAIBtN84\\u002fTl4y3Fp+d3F9k+eLs4KsiPj08NIZo6ifHZvOcvT+dsjly\\u002fU33S9048V+LgybCBxxm2z2cNnTv9psWm8W4Z1n2ni8f\\u002fvc\\u002fF41PCIHW2xlNyP4TZXe98MtXm08aB3t8OMjaSJ2Ybad4AADmum+rVfPHW78+cKrc2ijfoqG1r9qmigtzexxbDiWAJFuJouBvJ967vemiGaC3BCbfEnR1hKBE1oYCMCcAe0aMhGlFZtKKzCQ4SsIi8hZ8ffbNvd8dzTtY2Frd2dnUS6NTBRJ+6rT49JlJC+6dDrWktxj2ERbaNJLp7ZSiZpSC89lwbPclR8ZpZi3P+Omjvyxb1pz4s2DNP+bgfej++ctp\\u002fXDl4Z69N89asX7G4e0XLXVppw8U\\u002f\\u002f173i1rXP94tiX2vprpenwbPndw+ewpt6Tk7rkMACg6W6NW6jqaens6pJajmO2vbM1Ymr7ps0NdLf0AgLL8hl0bTqx6aCZ8o2uLRqFO9km8M2J2gjAMPuYkIZ\\u002fdPrgRu3Jw\\u002fpQEAGAwaAumJiyYmtDZqzh4uuLQ6YrWriuvGQCACTFv3n+puLrjvy+v5jiwWNjCdsEmAa1uyDmBT7jQeG5O3Je\\u002fnbQsElRp9EfOVS212WDHdvgqMsQ7edwwRYTkCJYrsr2j\\u002fpOx9tOMO2yzKwDAeEnYyXkvrYuaYhskkTyIK+Dc8fzSz3Nf39X+7UH5T\\u002fv7f9xa98XHB1+688VlmNmVIwRibtDguJdKrrXd7cTWiT8LvnhpOxzF4u0vnLFkvOVrBDG\\u002f+dBG6wewrfNHyiw7zRHz7L15VnhsgG3Dpy9e2r7xg\\u002f0EpUWNVR17f77SM49YXNrVidpjuy81VXfaHLzOrFmUyYgUnK4+93ep5VsmmzF9ydUqFkw0GvWhl5dZv\\u002f3hvT9\\u002feG+fxmZmDdLZ3L\\u002fju9wvX9kBHwDAhyX0Yble50SlUFPEkY\\u002fELP59yitvp97nfnYFABDa7JfSMzBMveDNKdBXuH5lzvbP1n\\u002f5ym1Qw\\u002fSy2o6PNx61jRBT2FS8EbC2VAAAMOg04olFBoNmu2fRH8euDtibzejfZyut3y7G785gRfSTSCTSTWLe6uxfPjlg+fq\\u002fL2\\u002fvbO6bdWtGQKgXigJpr6LictPhHXlFZ2sBADHJIS113Ybh+rk\\u002f9Ory\\u002fBOVlor49qbeR+d\\u002ftOjOSeOnxEp8BDqtoa2+58yhkksnKgEACRMiKguaoH8O8ey9edYT76xuqOiwDDKhKLrj+9y\\u002fNp9Lnxobmxoq8uIzWHStWt\\u002fbIW2p66m83CjrV\\u002fkFS5bfNw2+FzuB4d7Wv8VkRJ5Z+cWK9TPi08N9AsWIyaxSaGS9yr5ueVJGZGJmJPyPR1jqpBj\\u002fEC9LVXvhmZqqwmZLfOqCVNtVn3gm35Ky9p9zt3195aN014bjh7adz5gRH5saKpTwqVSKVq0f6FG01vfUlLRYdobG3IZopl\\u002faTL80hVHTqOps0\\u002fZ36Qa6tdJ+g0Jh1MiNaq1Jb0RNBjMCAMqk0plUBp\\u002fO8WOL\\u002fVjiCJ5\\u002frDAkXhjKp1\\u002fNhzwiLFBibWtZ39qn0xuJa3RuZpnJYZnJYUVVbW98daC7\\u002f0oyeuhMxf0rc0IDsJfJQ1o7pcM2GgUA2NaqhwYOf88r5qZt+vOi2YwCACrru+paemPCfAEAeSVN1pJ8Go3qyLaJZIJFIpHAreunn9xfaBkmMRmRrV8d2frVEfhGAETEBr7zy8PvPPrzsPv9SXwEr3+\\u002f\\u002frX7N1jm7LRq\\u002fa4NJ3ZtOAHdLCkz8u2fH16d9oplBhCPB+\\u002ftl08OdDb3q5U6jVKrVurUCp1aqdVprk4iPLnsM56QwxWwuXw2b\\u002fD\\u002fE+ckTR8cRYOwOMx3Nz3y3j9\\u002fLRvcj1yj0p09VGItAHfZI68tf37N10aDCQCg0xgwn5HH3lyJl2B5\\u002fC+1olAo81ZnWcYLL+aW9w+u3Bx2ftBq3b8WstjMXz87aOlbplbqTu0vOjVY0eUUIYObJolOk2BkYNdeemLojr8LLV8jiPlcYePsnNihNyENMT4+5IuXV9\\u002f9wi+WgioUBXklzQ4mWNVNPXDIjtmMVtZfXZcTH4ldXWDL31swLSPmZP6Vas79J8qeXjcLAGA7fDUlPcq+bN8eOUVIIpEAm8t899dHkrOJPqWmLkz9z47HRV5860J9YikToz\\u002fc8ljYONwz2vzbst\\u002f+5WEOjxUY5g0fs+Opezu5r\\u002fDkvsJLJyorLjc113T1dcm0ar1tcy8EMSuk6q6W\\u002foaK9tK8+rxj5bl7LhMnlBIfwQdbHlv\\u002f4hLbwik8PgGOzmrFjQ9\\u002f\\u002fX\\u002frMVuiO2Ik\\u002flKreauzLcXC1uzKL1iSOrhCcFgUCmXt43M\\u002f3PKPxIwI+Jgd7wDR1IWpcHRUmpAYYtuiYuuBS8O1jSOB8CCv5HFB1m\\u002f7ZY4u6Thb0AAVsNsrqGyVKa\\u002fOJKbGXf1BBFbblLofPV9tRlGjETl9+coVFABg6azh5wcBOYJFIpEsvPyEH237x8XciuN7C6qLmqV9KjNiFkq4Xn7CtEnjpi5MjRt\\u002fpSooYcLV8iBicePDvz7w3Kn9RWcPldSXt0v7lAwGzTtAlJIdPW91lvUOw2L82xt7h\\u002f5TDJ69N8+i0ai3PTp7+X3TLhwtL7lQV1XULOtTKmUaxGRmc5liH0FQhE9cWlj61DhHUgqrzBnxG0++cmTnxcunqhurOpRStdmM8gQcgZgbEuUblRg8Yer1GSCxpFPFNms2rSmX41ImRn+y88nKgqb845WlefU97VKFTG3Um9g8ltibHxLlF5Mckj41NiE93HZPntFMxOcsmJpgLYUuq+3csj\\u002f\\u002frqVEfStIAAC94WrJAZ87\\u002fCyzhVShOXiqYvEMohU8v\\u002fyRZ\\u002f2ayaDPyYmzOYgrMzksItjLMrfYL1MXV7VrtAbN4AIabzFvUhr2sDGETLBIJNIVFApl4pykiXOITlgAgEnzUw42fgpHcdDptNm3Zsy+9WoluL3X\\u002f7ceDuFw\\u002f942nngFDnkOk82YvmT8sFNsTuEJ2LfeP\\u002f3W+6fDB4Yzon8pAOCDzY\\u002fBIZckTIhwcEz0hrBuWfbB0xWWCh4AwNdbTyFm8z3LJg6bfHb0yIP8HB3dHOVkCu3ZwobZObGO9Osqq+2w3cEmOnRIoxliX205mRQTGBHsBR8AAADw+8HLl8pbrN\\u002fOmRTreG\\u002f9VfPGf\\u002fJzruXrC8WNtt2zFk5LxGulC3HoRiQSiUQikYYVFuT1+J0zrN+iKPh225m7X\\u002fxl\\u002f4ky+3WFUoUmr6Tpu9\\u002fPrPu\\u002fX+99aRN09Mal0ujf+e7Qkse+e+PrA4fOVPbhtGtXafS\\u002fHyx4+v1d1ok+HzEvK9mJ5ZwyhfbRN7btOVZi2UPQSqnWff7riS82nbBGeBzmY2uGX1xitWh6Enew31tZbeel8qvtaZYO1\\u002f7KihzBIpFIJBLJY+5YnNHY3r\\u002fv+JXuFQCAhta+d7\\u002f\\u002fGwAg4nNEAjaLydDqDVK5Rm3Tts3xwRWP0+mNKq1BrdGrNHqVRq\\u002fWGPqGFkJdKG7U6AxcDpPPZfG5LB6HyeeyuBwmlXBcTqM1\\u002fH2m8u8zlQAAsYATEeItFnB4HKbZjCrV+o5eeVNbP1RE9fwDcx0cHPIR8yalR+07XipXaT\\u002f84cjnvx5PjA7wFvOoVGrPgLKspgNqQ\\u002fr0ulnQpj3EuBzmwqmJu44UAQBKazqs2+OkxAaFBWEPmNkb2QQLMZuLmjsv1LXUdPU19kqlKo1ab0RQM4\\u002fFFLBZYT7iaD+vzMiQnJgw\\u002ftBm9lY0wudv5DT3yfIb2irau1v6ZW0DCpVOr9EbTWaEzWBwmQx\\u002fET\\u002fUWzwuwHtCRHBKaACbsK8GaSzpV2nKWrvK23ta+mSdMkWXXKXRG7RGk8FkYtBoHCbD8p8PnxviJbL8FxvoE+XnRXwmusl1yZSXGttLW7ta+2WtA3KZRqc1GA0mE4tO5zAZPgJehK8kys8rMzJ4fHgQ+XZzQduAvKS1q7qjt7lf1iFVSNVahVZnMCEmxMxi0LlMBpfF5LEYEh4n3FsS7iMO95VE+krCvMXwHZEc8\\u002fLD8yOCvb7Zetq2tzsAQK7S2u5XeN3llzY\\u002f8+Fu6Je0t\\u002fNw0c7DRVCQQgHTMmI+\\u002fNdyKI5JptQWVbbBURs0GvX59XOmZzq6TkKtNfzfg\\u002fOUat2Ji7UAAL3BVIh\\u002f\\u002f0+vmzls13V7q29JtyRY1uwKODN8BUYuwWrtl209X7Lncrlcg9FBTq7RyTW6tgH5uZrmTWcKaVTqrMSoOyal5cTAY4Mc5vAzuB7U0i\\u002fbe7liX0Flu\\u002fTK0hiIWm9Q6w29SnVZW\\u002ffBYgAA4DAZsxKilmUkTouLgG58M0t96XNksArBBbdPTP33yjlw9Popb+8+WlaXW15f190PHxuEmE06o0mq1gIA6rv78+qvDikL2KyUsID08KApseGpoYEeybXGwCPcKVP+WVDxV1F1Pc6jqjEYNQZjv0pT3XmlaJ1Jp81MiLo1I3FafKRnc9YDxdXPb7nSCQzywdoFS9MT4KirPth3YtOZQjgKAABg\\u002f3P3Rvo6enHsiOrO3j2XKo5XNrT2y+Bjg7QGo9Zg7FddacZ4vvZqzYoXnzsxOnRidGh2dGi4j9ga96wefVelorxZ3dCl65AZZWqTyoQaUYAyKEwWjSViiMUMSQA7KIgTEsmLDmA7tApsNLhzcWZ2Svgve\\u002fJy82qsJVl4aDRqdqqja0c8CDGjw2ZXeFAU4G2c7CXiLp6RdORcNTRzhyczOeyJu2bERvjBB\\u002fBp9UajCXn36aU7DhV89\\u002ftZaE8bqyA\\u002f0bP3zYY6mjooItgrIyn0ss3kIIfFmDsp3uYmw\\u002fB8gqXQ6r4+cmHr+WLE7OjThpjNR8vqjpbVZUWFvLRsZlzg1b38hJxrNGra2DvwzZELh0pqhl32CdEajAeKqw8UV8cG+Pxz3qS5yY4m4KTRDzGjB4qrNp8tKm0dfodjAkqd\\u002flxN87ma5q+PnPcX8eckxSxNT0gNC4Bvd9No6Zd9n3txX0Gl42cJC4MJOVxae7i0NtLX6x\\u002fzchamxnk0yxo7zte2fH30fGGTW3vsDKg0B4urDxZXAwCi\\u002fLxuzUhckp7gL3JinoUACtDL0rwjXQeaNY3wMQAAAHpUpzfrFEZ5K2gulRdZggK64OWEtyVMok4cFke6D+xq2wpH8QVxgl9P\\u002fACOuicmzPftJ5c83qfIK20uqmyrbe6Vq7QKlc6EmFlMuoDHDvIVhgd5pcWHZKeEO9JX6UbB5TBffXTB0+tmFVS0Fle1N3cOdPbIBxQavd6kN5roNBqXzfAScSNCvBOjAmZmjwv2F8N34QCFSufrxV+zMGP+lIRj56tP5td19Mr7ZWoGneYl5sWG+87IGjc9M5q4dTux1fPTbROs2Tmxju\\u002fkAzyeYBU0tT+35UC3fMj0rePyG9pu+++WpxZMWT8903LelPA83GnXnsGEfHcs74cT+c6e6yE1XX1Pbdo3JTb8jZVzgyRC+DDpRnOmuunjv04RDFm5pluu2nKuSMxl35wJlhFBNhzP\\u002f1\\u002fuRSNyddTdBY29A89vOfD7+eK3b5tPzmTZ6lWq39mTe7SsDj7gnoaegU8Pnvn80NmccWEf37FI7PBaekwKo\\u002fyHxq9rlFc7NzqIRqE7kl2NKv4+wmWzUpbZbGnnGgcn45ySkxZxfuu\\u002f4KiH8Lms6Zkxjs\\u002f6Ocs6PCYRclffkr76lvShxz2AwaDZfuvsPKMnE6y9lyte23nYnWkLAABiNn964HRZa9fHdyyi06gS3sgm9W0D8id++bOmqw8+4KqzNc23\\u002fXfzh2sXTiVnDG9YKp3hrT+O\\u002fVVUBR\\u002fwECqFsjLLuTfq2NAuVTzxy5\\u002fW+T73XWpsX\\u002fHZpn+vnLtsgsem8G5oRc0dT23a36fEXrTlPjOKdkoVbmZXGkTzcfXbvfqrK\\u002fMdlyxKg0Okm5WTs02uOHiqwvp1aIBkfHyIzcHhOVSu74jteSWv7PjbzezK6nBp7ZOb9hkRxNtm70yPK2zqWPvVVg9mVxYyje6xn\\u002fbsuXR1223SDaS2q3\\u002fVF7+NXHYFAJgcGx4oFsDRsa6wqWPNl1s8mF1Z6Iyml34\\u002f9OnBM\\u002fCBm8\\u002fF+tYHNuwauezK4vaJbjVVRwH6U+N3rmVXAIAkMsEiXSsqjd62e\\u002fuSmcM0CLTnmRGsU1WN7+zJ9Ww6ebKy4a0\\u002fjr25ah6NSvFU3marqLnjoR93a20ayHqQGUVf3XnYjIKVWU4\\u002fJWNDoFjYp1TrHKtwHD2Kmjse+2mvQouxMsODbst2d7IA3GiPcGFTx8M\\u002f7taMzNsNAPDjiXytwfjK8lnwgZtGS7\\u002fsyU37Rvr1wKLTl2cMv8ctgWJZQakcu8afR+eHcyMDOcEcKodOZWgRjcak1iDqPn1vu7bVhJpoFFqCwNGh33hB0rKg1SqTEvrPYL7aGYFEIpCbV2OdhaTRqIumO\\u002f1p7oEEq21A\\u002ftyWA8PmQBE+kqlxEbGBPgEiAZfJMCCIUqtvl8qrOnrz6lsxy7Z255eLuRwWne7x83JNZ9+jG\\u002fcQZ1dUCiUu0NeyfEbMZYt5HACAVK2VqrWNvQMX6lrxlj5ZoCh4Y\\u002ffRYC\\u002fhxOhQ+NhN4O8X1wMALKvqpGqtTKOVqXVStVaq0crUWkuwX6XxeIWTO8rauh\\u002fYsMvxjygmnRYkFgZKBAI2i8NkIGazUqtX6gztUjnm69nCi8+dmeDKkhbIDfQI13T2PbLxj2HfxcESYXZ0aGyAT7CXiM9mMmk0rcE4oNY290mLWzoLmjqI37BbzhWxGfR\\u002fLXKil+BY8sr2w0rt1WbT9qgUSkKQX2pYQIiXKEgi5DIZbCYDAKDQ6hQanUyja+gZqOnqq+vuJ3ic56eME7k3P3is+xAcAoBH598ecneG10Q6BfsjCUGRDm2b1NDPpjn600O54aFcjHV5RrNBaVJ+XfdJu\\u002fZq8TKJZG\\u002fn4L7dAIAZWTE+EqeXd2C\\u002fmh2HouDVHYfVeqJrgqyokMfnT86MDIYPDEJRcLmp\\u002fccT+aeq4OUkG09egiLuU+r0T23ap9ThnowkPM690ybcPjGV+FTSLVf9dOrS7xdKDDZNMmwhZvMzv+3f++w6XwEPPnZzYDPogWIB3nRYt1w1+70NcPQ6aZcq\\u002fvHTHkeyq7SwwLnJMROjQ+MCfek4PfFUOkN9T39JS9f5upZLDW22b5AVGYl4\\u002f8oFo\\u002f8RVmh1T\\u002fz6J8EpgkIBC9Pi7p6SnhYWCB+zoTOaDpfW\\u002fnAin+DCZuPJS7GBPh5sqXCjOFZeX9DUDkcH+Qn590xNX5mV7EjtFIqC+p7+czXNZ2ubLzW0Qe+INTluzQ\\u002f26ntqVfDkO5PKfD7uNeL+CzQKDS9hchaDyvRiejOp2J0XSSSLExdra5uv1jOsXUi0PRcedxOs3ZfK8hva4OggGpX64pIZd00ZDx8YikIBmZHBmZHBp6oaX9lxeGCwI8sIeW3nkRb8rjDrpk14cv5kR\\u002fpv+Yv4\\u002f7d05v3TM5\\u002fd\\u002fFdRM\\u002fZyaLlG9++dR765\\u002f1b4AGk0Qczos7\\u002ftt7YCwrMoLe7BWVm2bUTw8NnMtLDAtLDAe6amI2ZzQVPHweLqw6W1UrV2Zbajcxxjw2s7j7QNyOHooAgfyYd3LEwO8YcP2GEz6MsmJCxJj998tuizg2f0JuxU+I1dR+MD\\u002fcYF3GALzdy0+Sz2pBsAYGZC1PtrbhFyhk+tLCgUEOPvHePvvW7aBIMJOV\\u002fXsr+gMreiXmc0xfh7p0cQpUHDqlfVwCEA5vkvJs6uSKRrbECusW5ECADISYtIiXXlJepWgqUzmr4+ch6ODqJRKZ\\u002fetdipvlDT4yO3\\u002fGPNAxt24fX5dN+x8vojpbVwFAAAAItOf3P1XGcvf\\u002f1F\\u002fI0Pr3ph60G8ddEnqxpzK+pnJ0bDB0ijxobjF8vaiKpugyTCD9YsyMAfhSVAo1KzokKyokJeWT6rpKUrwkcC32LssvS3g6ODsqJCvr5vOY\\u002flxFgClUK5Z2p6Wljgoz\\u002f9gdnEWGc0vb7r8OZ\\u002frPVsG9LRTKHVXWrEvspNCQ347O4lTPqQpeaOY9JpM+IjZ8RHagzGI6W1Are7EjaqMV4Mk7ynwiES6fqpqO9665uDfdIrZR4MOu2Ju2YMvYmj3Eqwdl4sJag1eXbhNKeyK4tQb\\u002fG39996x9fbCOYUXKYzmt778zgcHfTGKqezKwsWnf6fOxfd\\u002fuWWms4++BgAAIAvDp2dmRB185zxbyydMuX3uXlw1EZmZPB\\u002f1y0jni92BI1KdXMA4MZiMCEEb7ekEP\\u002fv1q9wbd+b1LCADQ+uXPftdswp3ZKWrm3ni++cPB4+MEaVtXbjlcA+vWCKy9mVLS6T4WZtu0WPvguKCOgCH5YT\\u002fbtJJM\\u002fasONsaW2nWMBhMelanbG+tbepfcD2Bg+unhwV6mMbcZzrtSAoCraeK4ajgzIig++d5sqcJQAg2t\\u002f7mYUjck2z82Jpl0wJRwEAAKzNSXOnlQ6DRvtwzUIGDftcVtfdb19eRholvj5yHq+KDgCQHhH03foV7mdXNyGCCzABm\\u002fXlumWuZVcWScH+r6\\u002fA3ern22N5mLnXmNTUJ4VDAAAAuEzGxGh487HrS22CZ+H92USFdyTSSOuVqvNLm4+cq9p\\u002fouzYhWoou5o\\u002fJeGeZdm2Eae4nmBdbGjFe2MDAF5cOsOd8Zo1Oaken0kxIgheybwXj\\u002fP8kulw1EmxgT5L0uPh6KBt53GTUdJ11C5V\\u002fFlwtZUcxE\\u002fI\\u002f+KepY4U5JEgiNn8w4l8ODromYVT3d9xZXlG4pRY7KrnAZVmy7kiODpGKXAWD\\u002fqL+O6chEeCFoF7dLFpI9jpkERyGZVKWbc8+9\\u002f\\u002fWOjOm8j1BOvvEoxyRYtJ48KSgoevWiVApVDum+7iABie4xUNeNfT903PcOdi2oqgBd\\u002fZmmbLNsCkUWV3fhne9AoA4N8r53jzR3YvgbHqVFUj3tstxEu02kOV\\u002fgRD3VvPFzu7r+gNCu8DYNi+GNee3gznggxyNR\\u002fpukoZF5gaF+wj4XNYDBqNKuJzEqID7l6atf3T9Y+tnUal4ry7HONiVoGiILf8aodTCEGe4bgFabHv\\u002fXmcYO7GWXsuYw9U8FjMtZPS4KhLUsMCovy8GnqGjDFamFH0VFWjR+oYSJ5iRtE\\u002f8BvuT4kN90jDqpsT3tsNAHDvtAk0quuXdrYSgvwmjQs7X9sCHwCgQ6q4UNsyGWeIaywRc7EHgXoUqm65yv2RQhJplEgeF+jxnROXzkpZ6vY2kXhcPM3VdvX14mzIwGEypsdHwlHnCdisnBiPFRAotLoz1U1wFAAAwKRxYU6tYyI2Ab+KGfNjgHQdlbR04Y2yAAAemT0RDpEcozOa8IoOGTQawUy6Cwh2ddw\\u002fkvsdjR4BOF3QUBRsu0BWJpBI142LI1iFOG2fAACZkcEemW4DAGRHh+Kdpp2VV9eKmM1wFAAAwLQ4D6SDVkkh\\u002fjsvlsFRAAAAZW3wChrS9XW6GvfVFRvg41pTBhIA4FJDG97Yc1ZUiOM9mRwxIz6SQaMZEYwfd7q6CUVxZ9DGjAnhQVQKBXM+dOPJS5PHhWdFhcAHrjkdopMbpQiK8TTdVNQmVZOmoVXT3KZp6dF3aRC1xqTRmbVUQKVTGXw6X0gX+bEDgjmhMfzYCF40BYzxl2+rprlKWd6kru\\u002fRd8sMAzqzHkFNTCpLQBf4sQLCeJHxgsRx\\u002fHgqxcXBIJeZUXOtqqpMXtymbenWdWkRjd6sY1AYLBrbi+ntxwoI5YbH8OPCuRFUCvbiNuByglXc0gmHBnnwzZwe7rEFJufwR4+menQSISEId8lxU59UYzByyYrpUYNgTHFhWhwcIjnsfB3uA4tXlu4yHouZHhF0sR5j25MBlaayoycxGPctOTYIOKyU0ADMc7IJMT\\u002fy4x+vrZi9ItPpbdScZUYRmVEmM0rlBqnUKJUbpTKDVGaUyoxSuVGqQzCalgEACqX5j16+B45iSRSmPDnuBTh6g+jT9xTLCopkl+vVNWYU41LfDMwmxKRDtH363obBbmFChmii15TZfvMlTCca575R\\u002fmKXbsgIiIAu\\u002fDD1vwR5gON+avwub+AsFHw18d0QjnPTTQaz4XRv7qm+3G4dxutWh2h1iLZX31OuKDnYuVfIEE3xmTnXbwGP7u5895HuA7vatlq\\u002fZdM4n4\\u002f\\u002fn81xAAAwmo2n+o4d7vpLbpRBh\\u002fSoXm\\u002fWK4zyJnXDxYFzAAAenZ8qSl8ZslZAF0I3Bi4nWHVduLtVJLpX3m4rxt\\u002fF5hP2Cpux95HgMhl4A+yukfCw6yEAACgKOqSKGH8n3iqkkYOY0erOqzshQKbFR8AhksPK8bu2Eu+H45q0sEDMBAsAUNzSOeYTLADAnZPHYyZYAAC9yfTqjsM7L5Y9vWCKB69+7eVLL\\u002fzU+B0cvbmhAC2VF+V2\\u002f12lxK31JKAwyo90HzjRe3RR4PIFAUsdHM3K8Z66p327bURpUpQrSlJE6bZBF+jN+iIZvBI\\u002flBvubHZ1ceDcjtbNSpOj7cQVRvnBzr3Hew7fGnTbDL+5Dj4OjrBkcrZLWVs1zRsbv+3UYScM9tQm1SXphTvC7oMPAABcrsEiaNAQG+ixrIjPZnqkQtOIII292L9wuKebQfDZRM2O8bpwka69pt4BvFZJAg7Lkf1wSHiqcTruUiggYQTSnST8+6zq6IFDY9HCtNgwbzEctVHU3HHf9zvu+mbb4dJagmWzJA+SGgZeK3vum7pPXcuurIxmw972HT80fI0Ch564Sd5T7SfULvTDw04uKJJesl8HOsnbie3VDWbDhoavNjZ+63h2ZaVDtNtaf\\u002f1v7Ucau2Yf7hgwXF2UViYv\\u002fqj6LcezK4s4QSLe1pbw0+CIPqUar806m0H37LL2AJEHhpcae6QmBGNUFgAQ5iOGQ+4RsLEfaIthd7sjXTO1+HsGxwf6km33XdajUCm02PNBfkK+pwo0bRFcJuGlemMMjUp9f80tw75oi5o7n\\u002flt\\u002f7wPfvj26AWC5R0kj5AwvVhUouttp1yW5tnObREQMSTxAnhGuEReoEXc\\u002ffS5MHAGitAotGyvyVAQjwZRf1L9zmUp0bYZw6pUlH1Y9YbMiD1i4gKp8coHQam88Nv6z4xm7NyGQLJoPBwa5MrJrk+J+zwFijGmId3hkRGsVvy9Zv8uqUnCb+jlcXg71JKuPYLRxGg\\u002fchrXdV0y3E\\u002fuUC8RHPKEUG\\u002fcu+0YsV1NR5vx4UFP3jL580PDD1R0y1VfHTn\\u002f7bELk8eFr8hMmpUY7ZHtdEj25gcsxps2ZdM4oZxwX7Y\\u002fj8bj0nmI2aRB1O3atiZ1vf0okcXR7oOpogmxguEX4U72nl6hKLWNGM3Gy9K8qT6zbINOkRulVQp4KC5FlM6nOzQIYjAb\\u002flv7UbMGe10Rg8oYx4\\u002f3YnoLGSIaha4wyhVGWa2qWmXCOEt367o+q3nvubjXMMuenCU1DAAA2rQtPzR8Y78Ig0ah8ekCPl3ApnF0iFZhlNuPvaV4NsEawB+G8ebjViC5xiMLjnoUuGf8a0xnIBOs0aIb\\u002f1UR5OWB9+1Ni+Dt5i3gwSFP4DAZHCZDi9VXc0CtMSFmOs2VofobzkOzsqlU6ucHz2CuKIQgZvR0ddPp6iYBh7UwNW5VdnJyiFvls6mi9NcT34ejQ31S867aNOTlkSBMvi3kLtsIHjbNA58F11iWJGdv+44Bw5UxEjqFHidITBVPSBSm+LB8MWuJTKjpQv+ZA517rP\\u002fK1l+df8QKXoKjdtLEGVwaVzN0yOpC\\u002f1l3EqyLA+ft5ygnOzw\\u002fuKn5hyZ1AxwFwI8VsCxoVYp4PIsKP79m1FynqjnSfaBUXggd6tZ1bWj48ulx\\u002f+d+5b7UMKA3676r\\u002f0JvvjruLmSIJntPTxAmR\\u002fNj6ZQhaZLSpGhSN5QrSkplhf2GviBOsDcTtyzKlQRLhrWJvYVH8iFbIrf3bwcA9OG07Lr2EAdOfKRro0+B+6rw8eg0981mQI17ASbBaYnpPgmPg5lgoSjoV2k8MhB+Q3hgRmZikN+rOw8TDNBClFr99ryS7XklsQE+ayalLpuQ6NpKZw6Ny+EM88ah2X0csmmcIM4Ilt5fX1QKbY7\\u002fgh2tm8O5kdN8Z2d55dinERA6hT7VZ2a6OPP7hi9qlHAjt2plRZu2ZdiicgaVkemVc6o31zZYr6rp0\\u002ff6sFysLr3QD88PCujCZFEaFMSU1382f+A8HAVgfsDiZUGroQzGikqhxgriYwXxhdL8X5t\\u002fgKY4a5RVf3XuWRq0yjboAqmhf3vrb336K8WaTCpzSdDKmb7z8MqqBHRhimh8imj8mtB7apVVasKCMFcu7AjmuTzYsdOC7dJbHaLSOT2rShrzCDYSEeMvBSUNi2CYlsvywNsZE0FOoDXiPtFj0qRxYXufWXff9Axnx+1quvre\\u002fiN31rv\\u002f+2j\\u002fKbJCy1Om+sx6OeHtlxLemuozc9jsyopH5z8a\\u002fTTm0Ei1ogIOYZnkPR2KoADNsyuiclC7trVdCy\\u002fUzfae7MgAkgbR7GzbDEcBWBy4YmXwWrzsyla6JOufMf+yz3gOde3r0LZBQWflS8+f7Ttp+VrEkDwX99p8\\u002f8X2P8seBVBiBQnp4kz4gA3n3oEWeC0EAQAMuit3SIDuiS01CDJC0k2L4GXMIktS3EDwdnP2I99xDBruU6bHWSs6hvHZzOcXT9\\u002f\\u002fr3uXpicMW\\u002fkOUekMv5y+PP\\u002fDH9\\u002fYfdTxYTASHhaVFcaNgKMO4NJ4y4Nvg6MA1Kgq4RCWSF50ABveVsTltYT2w1cAgMl2ORym3J6\\u002flXalVBmSiUuDVkJBAjH82HXhD0FBBEWghhQuMJqvXIBxadwX4l937cnC48r5DrNpsoWnthiz8sgZmeCjlHTTMuDnAQSf1qRhEXQB8Pj5wYrgRGHEWUE85oV6iz9Yu2Dfc\\u002feuzk52tozdhJh35JUu\\u002fPinzw+dxZx7JV0DmZKJ9nXc9iNJeOwbKPTqu61dTB1nRs2Wppq2wrgRwZxQKGjPaDbmdv8NBRlUxqqQO6DgsDK9csbx4QL\\u002fEnlhq6YZCrrmnoiHMIcM3YF7ViJAcJY0459bXUNx8vILk0fuhDTGUPFfxni7KpEcwcDPdfC6pbiP4KqPeXOnyxE+kjdXzTv60oOPz5vkJ3SuFs1gQjYcv7j801\\u002fx+riSRhSVQovmx0JB1dBVAgRysBtinYYiw6pSltv3NLfP3jAVyy7bt62a6TvPy5ne9FYrQtbAIQDO9B2HQ85LEqYST\\u002fa5ZvjpT3sEF0MmT38yoZ6oCufgt965b3rG\\u002fJRxcHTEBEngyxHS9UIwD0gOebqDhf92M+GnQW4iGKYi+H2uC6MJ91cdOd587mNzcx6enX2isnHXxdIzNU0EA42QdqnigQ27Hp8\\u002fidz+\\u002fNoL5YZBzdN1iNaMIo4UP4kY4kRhSpm82DZ4WXrx9tB7HKl8ssqzm1ikU+gOtr\\u002fKl2LUtjv4b+1F8WJ8WX69gwXpFvkD59eE3uPIA0Jgjv8COOQJTjzKVgQJlscHkz1SP0FwhvXicUZi7w7S6EfwqlDh9NElOYKDX28+cg+sSofdOggAwGHiPtHXBcFg20ijUalzkqLnJEX3KFR\\u002fFlTuuVSOt8UFxIyi\\u002f\\u002f373IBK+9KymfAx0kjiYXWZ0iJaB3flm+Q9DUqw1CZVqbzI8dEazO1xUkTjHfkFzChSrYQrxnxZfqHccCjouHRJ1uGuv2wjGkTToK6L4cfZBp0iYXonCJPhqCfA44eOIOjFoNDinuZco\\u002fVEgiXmXrtfmHSjIHhVjJ6+HjciX\\u002fxmV1K1Fg55iByndwyVQvHs3hLu8\\u002fhVqAv8hPwHZ2btf+6+Xx+9fUl6vINFh7+dLdyRVwpHSSOJQ8VY0WzfjwpPmjiDS4Pfj3lYFet4sLfH8XGovL1V26JD4Le8m6lMkjAVDgFg3wHVKTH8WMyeZO5zJcEi6BLk8RMo3nnTKQTbORM0RSSNbQT1KOQadXcQbG81QpmrUqfH21ZSwuMQ1IxeFwR9BK+9jMjgD9cuzH35wcfm5hBsVG\\u002f13p\\u002fH6\\u002fD3mCJ5nnuf+3QKPcsrBwqWyYuhdq8ELgzANVtChigZK8uxh1l+HsQOgUPOCGQHwyEAWjRNcMgZ0byRKhNy5dRDcEXYJYdXY7qJoGu84wjO+DfPThokCEHzyYaeAThEcligBPft1tqPu2mVOwjuNhD\\u002f4up6IWjEer148bmPz5t05P8eeHbRNAFhb2eDCfnyMLygjDSa2TfEMqGmfOkFKIhJbpRW2bXdmug1xcGCpy5dBxwCIJCDkSE5TsgQ2c9OdujaoIhT\\u002fNgBcMhDXKlO8BPxWXQ6ZrcbuUan1OkFbKK3qFM8MpYQ44+7YKGmi7wau0kR7BBc09UHh0gOE7BZwRJhO9alS79K49nzg0VzH24hUWygDxy63toHMB6Z0YDDZDwwI3NVVvJ7e4\\u002f\\u002fVQT3ELc6Vl5X191PcFIlDcuEmrp0HV26jj59r8IoU5qUOkSrQ3RG1GA0Gw1mg9FsMKJGo9lg7dLksgheVBAnuEPbbhvM6z8z03eubQRT3sA5++lIB9cPgsFt\\u002fiC+LLd2ZAIA+LL8oRE4qWEABajL03xcGu6YkZtcSbCoFEqYj6gWJzWp6+pPj4D7m7mspV8Gh5wn4XECxYJOrKZ5Cq2ubUAeMjJ70JJGs\\u002fhAXzg0qEOq6JIpCWaWScQSgv0wEywAQEV7z8ToUDjqnvK2bjg0KA7\\u002fWYYQnJsR\\u002fCWKzpKqtUr8evzRQMxlf3THwthAn88OYlfqoCg4Vl5HJlguaNY0lsgKKhRlrZomE4oxQjFCcryn7W7bZhtpVNd367r8hxu5sV8\\u002fGMaNdHxrI4URY2jZ\\u002fT0lOXb3gKCIyqS07xnmIC4dLlPzFFemCAEA0X64766K9iFLKN3RLVd56mSUEor7Sjpf2wKHSDcBAYdFkFifI18VbhgfjnuJVdSMMWvgpqKWTjg0iOCNDyEo9FZ6bq+tSs+dHkfUgzOzbp+IW2dDnjOdYkJNZ\\u002fqOv1n+f+9Xvv5X555Gdd21zK4AADleWA2xhts2p03bYt\\u002fU1PHdnQEAttsnWzm+XxAeFlbhvx7B+FkOYlCG3xjHNfCD7iCC1gb5jW7Nhtoqbe2CQ66aEhsBhwYdr2yAQ6SbQ3Y07qXYoZJqOERy2JRY3GXYZ6ox6l7dodTpS1qwTxQCDis5xNEEi6hth4cu8wAAJZ47p4205xZPw5vMJefQHVetrHir\\u002fKXfmjd26oZM0l1LQoYoUZgCBfP6z9pP\\u002f9myH76iU+hZXpOgIAETCs9v0il0+w2\\u002fnYU5BmZwey51JLiYYBFMAubVtXqqX\\u002fPFBjh9dtnMhEi8du5nqps8UkpPuuFMi4uEQ4Mu1LXgTXKRhhUb4IM3wVrc0tHr0bWExysa8Drv58SE0ag4b3s7eMkE8OjanTM1TXBotOKxmLMSo+AoAAAAhVaH95iTbB3q2vd5zQc9+uGzai6N58cKCOdGxgoSUkTpmZKcKT4zZvvNjxckwTd1if2+gQOGvlol7mUk5vY4qeIJ9gXmhOB3H3FK5yDM9uN4n+\\u002fXF+5FG7HEYD8hh63QYgzKKbS683Ut0+Ii4APOO1XVBIdc5SPgZUQEX2rEuIZAzObfzhY9eYuLvWVJN67J48LxlmsgZvTnU5dfWT4LPkByzJLx8T+cyIejACBmdO\\u002fligdnZsEHXLU7vwwODVqU5kTvQT8hbh1GGX6Nl1N6FKoS\\u002fNnMUSjKzwsOAQAAQFGg1BkIOsmRAAB\\u002fdf6xr2M3HB0UzAlNFKZE8KIC2cG+LD8GFXuW6ljPoSqlW02eLCy5EVQbfmHgTKwg3jZi5c72OFYMCtxzGEERE2pyqo+8PZ0ZoxuU\\u002fc8aDVwcwaJRqTPica\\u002f+t18ogUPOK2zqaPVEhbvVmklpcGjQ5nOFI9ShhzSa8dnMeSkxcHTQ9rySerLlj6tWZuG2E9x8tggzqXVBWVt3fgN2TYKIy8YbgMHkL+LjlWHVdvV7pDvoH5fKHd+gZjQwYw0VWLDxZ1RJAIByRcn+jj\\u002fgKABUCnWqz6w3kj58LfG9VSF3ZEgmBnFC8LIrD6JT6FmSHChYIL1oNGPXF16wa0YqZIgwm3wSYNM8XCxloUcwpuxZWD\\u002frunMxwQIAzMPfwu9EZYP7n0y\\u002fnimAQ+6ZlxyD12NapTO8u\\u002fc4HCXdBFZnw6UJVibE\\u002fOrOw9dxY5MbWriPGG8Yu0eh+u1sERx1yeeH4I8Bq5WZSXgJEyYalRrph925AzGbDxbXwFEnaQzGTWcK4ejohrnyGgDAZtDJBIuAGUW2tfxqPx3GpfGeHvfS3eHrA9i4NTYjx779ug7RFsswPmf1Zn2x7DIUnOg1xb5SnpiYgfGG0tr1dneW\\u002fQgWjULjOzd3eY0493jZmpkQideq0YyiH+w7CUedUd7WfaSsFo66h0GjPTYXTuGtDpfWejylI41+WVEhBAWFJS1d7+zJhaMkx\\u002fxzHm497DdHzjf3yeCok\\u002fZcKsdbzsZm0O+fkQlHh5OKv+Rw24ViOOSkLw+f8\\u002fhGFyMKMaOnqhrhKAAAgEhf7KlDkkWR7HKvHp5WplJoT8e+iDclhwcxe+wCLxyrw0LeAFzJDgAolRVibI9jV8U1LC+WDxwCwJGKNGI9OvgexAyJy02wRpTrCRaNSiVYx3uutnnLuSI46hid0fTqjsP4g9OuW52dHOmLkVNbfLz\\u002f1M6LuPUc7vDIhj+kEfLULVPgkI2dF8ve2ZN7Y83sjBIpoQFzkqLhKAAAAJ3R9Pgve91pwlLe3v02fu67dlIawYYTeHJiwuDQoPK27t35rpfCnKxs+G1khq80BqOnFhVBDhRX4fV5Hh+Ou4qcBAAokGJUH871XxDGxa2rwaNCsAcRXWNfRFWuKFWZ4B9xWXYRili6lULBYQXb5XMAgM6hLU+dJTNKNQi8KC2I4+HWep7ieoIFALhr8niCjZ8\\u002f3H\\u002fyhPMdEAwm5NnNf43QMmAalfr26vlUnPUGZhT9964jH+4\\u002f6alZoV6leuPJS8s\\u002f\\u002fZXcXGI0y4oKWUhYDb31fPFDP+zC+7BxVrtUsfcyvPvEWPXK8tl8NnZ9SUPPwIMbdrm2MV95W\\u002ffDP+zG238wQCz4B\\u002f5YNYGpcREsOu7M1\\u002ft\\u002fHnet8uFsTfOzm\\u002f8iqGdyR0Fj+6z3Nnz81ynP7u9U193\\u002f9h+4+evMBCeK225CdSqM1XnTfFxZMaNyeNNAR9jvcmNGESgdNJgN5XJ4vNY+M3NEOFZC6ea2Nh1ajH8eysW9NLq+3EqwBBzWg7NwVwOZEPNTm\\u002fZtPQ8\\u002fVQTaBuT3\\u002f2\\u002fnSefTMselRwStJ5w7+PV0wbJPfj1SWuvyCbG2q\\u002f+3s4WPbPxjznsbPjlwmtwbdfR79dbZxAMeefWti\\u002f\\u002fz87dHL7iWEKAoqO\\u002fu\\u002f+nU5TVfbpn\\u002fwY\\u002ffHsuDbzFG+Yv4zy\\u002fGnVkoa+te9cVveFXqmMwouvV88T3fbid4Il5fMYfHws7qiAnYrDnJ2ENuAACNwXj3t9sxVyLjMSLI10fOP\\u002fbTH3i5oEcMqDQ\\u002fn7q89JNf7vx629bzxW0DcvgWTjpYXH3n19vUeuzy52CJcDJ+nzOSwWyQGaVQ0Jvp49oWMS1q7Fla12AWqucPnLf9tlxebBha+e5s+ysrX5a\\u002fFxPuSV6hKLWvTnNcuQJjCV2sIAEOjQ64l2sOWjc1\\u002fa\\u002fCqurOXvgAAAAAE2J+Z0\\u002fuoeLqx+dPzorCGC20ahuQbzlX\\u002fPuF4hE9E1k8ecuU6s7e09VN8IFBLf2yp3\\u002fbHywRLhofPyM+MjHEj+C6FjGj7VJ5U6+0qVda2tqVV9\\u002faT3bVutGIuez\\u002f3LnooR93E8y2aA3Gr46c\\u002f+FE\\u002fsyEqDlJMRMigvBaPQEAUBR0y5VNfdLqzt7Lje0FTR03Vv2NB63OTilq7vzjEvb8WpdMed\\u002f3O2YlRt87bUJmZAjO4DIAABhMyNGyug0nLtZ0Eg1vPzAjk2CB87DWz8g8WFyNd22l0OrW\\u002f2\\u002fn8oyER2ZPJNgGAAAgVWsPFFX\\u002fcvryteymVtzSWdzSCQAI8xZPjYuYGhueFOLvg7Oyx55coztV3fjLqYLKDqJ284\\u002fNzcGbBCABALQIxoJ0MdOVqjWVSWnfS91Nk72nlcqHzFbXqarlRpmIIbZ8WyCD5zfTxBO4NEdfRZBkUdqp3iFDoVLDQJO6PpIXYxt0XKH0EhRhUpkxfKIpiOsIN29wEINGe3\\u002fNLWu\\u002f2mow4U6rXWpsv+\\u002f7HWHe4imx4fFBvoFiIZfJMJnNGr2hU65s6BkoaOzAfEszaLSfH1l9\\u002f\\u002f92Ety5C2hUyqd3L7n3u+3Eu\\u002fq0SxUbjl\\u002fccPwijUoN8xYFioUiLpvFoCOIWa03aAxGtd6g1OrbpQpPTSni0ZtMKp1BqdOrdAaVTm\\u002f52vKtUqdXDx5S6vQEjS1e3HbIm88VsJl8NovPZvJZV74QsFk8FlPAYVkjfDaTIKEcFmJG1Xq9UmcY\\u002fMX0SsvvqTcotVd+T5VOr9IbCHKOQyU1Fe3dg78PS8Bm8lhMweC30C\\u002fPYzHdP+FnR4e+uXLuKzsOwweG0hlNh0pqDpXUAAC8eJwgidBfxOcwGQwaTWc0afQGtd4g0+ha++We6kRg74Z7hF9fMae5T1bQhDv2c7yi\\u002fnhFvb+IPzE6NC7QN8RLJOSwmHSazmiSqrUt\\u002fbKSlq5LjW2q4basmRoX8dSCqXDUGQlBfgtS4w4WY0zxWCBm8+788j2XKhKC\\u002fLKjQ2L8vcU8jpDDQsyoxmDsliubemUlrZ0lLV2YrTi9+dwfHlq14rNN8AGPaumXbTlXZKmCFXPZ4wJ8Yvy9Q71FfDbL8hRzmQy9CdEZjGq9sV0qb+2XV3X2Vrb3DDtsnxEZvDwjEY6SbEBzcBZMlxoxXBq44M5gD6YUcTrUEAsFaKHskmXvZxNqKpUXWQ9ZuFDebjXRayqUYAEALvSfdS3BqlNVDxjg66t0cZabjbVGjgd+rbhA3zdXzXvp90PwgaFa+mUt52VwlNCLS2eMDw+K9vPGTL\\u002fcwWUyNj60+rGf9xQ2Db8zGmI2N\\u002fZKG3vhUd9rYOpb36l0Bo8kcK39MoL0C0KnUQVs1qEX1uMV0GD6\\u002fNDZzWcLNZ7oGKTQ6sracOeAIBQK4LGYzy+eTtBzwRG3ZibpTcg7e3KH\\u002fZixGFBrB9RaT3WhdMQN+ggz6bTv1t\\u002f60A+7LeMreLrlqj8LKgGohA84ZmJ06Bf3LHW8dTuel5fNvFDXQpCbAgDMKFre3l3e7txTT6GA99csiA3w8RXwPNvOnoBMo8tvaHNqHhaPr4D38R2LyOErYjwajwIoUGKkNjn9dJtQ06GufXDUbXQKPdtr8vGeIVeSRdIrCVa1skI3tI2CiCG232bHcdH8cUGcEKhw6kzf8bn+C1yYM4W2rLaY4jMDDo0abtVgWS2bkPDE\\u002fMlw1D0PzMy6Y1IaACA+yBc+5gkCDuuHB1fNTXYlj75mpGqtR7IrZ5kQs1StxdyRgIBKp\\u002ffIZ7+zUBSodAaP\\u002fOg1Oan\\u002fuXPRqO3xc+M+wjwW8\\u002fsHVkwaN1K1qDMSor65\\u002f1aPPHFefO5ndy+h0zxzbrT1yvLZll0aR+icNqK8+NwfH1qF15qHZEWl0Lh0eEKtQ9tqdHKzvD3t2+1ruTzCvmK9VlVlyauK7NtfeTvd\\u002fgqyKHA5FEFQZHvrZmcH5y4OnGtQ10HBSF7MqC3AAp5KsAAAj86Z+MKS6Z66tnlgZtazC68M9ccFjtTJiM2gf3HP0leWz2LSMQZ1STenW1Jjdz51V2ygD3yA5B4Bm\\u002fX9+hV3T0mHD7iHQgEPzcr+6t5lHsmuLLKiQj65c7EHTwtUCuWFJdMtV4xgJM9pIyQu0Pf3x++I9ocLlkmYInnwUgkTaiq0q20icLbv5NHug3DUQ8K4EcFD+xogKFKpKEMBWiIbUp4FsDYxdFaGZGKE3QNSKi\\u002fc1bYVChKoU1Vvav4RjgJwa\\u002fBtcGg08ViCBQC4d1rGN\\u002ffd6sVzq2M9m0H\\u002fcO1Ca3YFRv5q787J4\\u002fc+u27GiC08jvLzIhfd3Fgifb22P3Hns4umOTVDShoWjUp9adnM\\u002fz2wMhB\\u002ffYBTIn0lvzxy+9MLpnh83mpucsyPD60iWMfgOCGH\\u002fc39t947LcMa8eA5TchhO9Ww3ll0GvXh2dnbHr8jSCKEj5FwJAiT4RAAe9t3QFsBYkIBuqd9+29YyYQH2Q9iVSrLWjXN8qFjZhG8aPebzlMA5Z7wB2h2pWlHuw\\u002f+3roJWrGIqVCa\\u002f3Xdp\\u002fa7+uR4T40TjOqKQI9d81lMj4\\u002f845l7vvj77J5LFQ4WstiamRD18vJZwUPfyfEjf7UX5i3+5r7l+Q1tG09eOl3d6PwvjoHHYi5IjV2ZlUw25bsRMWi0B2ZkrshM2ny2cHte6YCHVoYK2KyFaXGrsjHOvzePKbHh+\\u002f5176YzhT+fvuxyD15\\u002fEf+BGVm3TUzx4DgTZEJE8J6n7\\u002fnyyLnfL5QQLC8lQKGAFZlJzyyY6jW0CYgHE6zUsIC\\u002fX1y\\u002f+Wzh3oJKz26oyqLTF6fHDbte8sZiRhEtotWZdfaf60azqU\\u002ffw6Fx2TSOfTbglExJzp727dCcYL+h79Oa9x6M+mcgG7tjJwrQYtnlA517WzRN1iCdQjehnl8uM9F7yu72383o1fqTOlWNxK6lgvvDVxbBnNDbQu\\u002fe1vILFD\\u002fec7hEVrAsaHWaeIL9xoUoQOtVNYe7D5Rg7efjzw5YG7oOjo4yHk6wAAA+At7bq+ffPz1zy7mifYWVwy78AQAwaLQ5SdHrpk1IC8PIRQQcVpBE2DHyq52zokKyokKa+2QHiqoOl9a60OyURqUkhwTkxITlxISODw8auVM\\u002f6drw4nGemD\\u002f5kdkTj1fUHy2vO13V5Frz8Uhfr8yo4EkxYTMTo9xZoTlmcJiMh2dn3zVl\\u002fIGi6j2Xy4uaiYrfbdFp1CmxEUvT4+cmx4zoyI2FgMN6edms+6dn7sgr\\u002fbOgAm9vPnsiLnvZhIS1k9IifCTwMQDCfSRsBt1TLWn8RfxnF017asHUS41tp6oaL9a3Vnf2Ya5hdASdRs2ICJ6TFLMkPV7Exe0jPWopjPLTfbk6RKdFNFpEo0W0g\\u002f\\u002fX6hCN\\u002fQ4wVr367lfL\\u002fmX5mkFlcmgcDo3DpnIsKZflWw6NGytIGHbURMQQT\\u002feZc6wHXvjVrm19q\\u002fylZNH4RGFyECeEQ+OaUURlUsmM0npVTZWyXGoYsL09g8p4atz\\u002fbWre0G23OYybBHRhsijNNnHp0nUUSC\\u002fa3AQwqIxML1ca9mKa6Tu3S9t+ovcoFO839P3U9B2dQh8niPNm+goZIjqFoTQp5EZZnapaYcRu6sanCx6LfsY+JxttKM4WMjvFYEIKmzvy6lpruvqaeqUDao1GbzSjKJfFELJZ4T6SGH\\u002fvjMjgybHhXCYD\\u002fsfXW59SXdzSVdra1dwnbZcqehVqrcGoNRpRFHCZDC6LwWUyeSxGoEQY4SOJ9JVE+Epi\\u002fL1d63BIuiEgZrSuu6+0tbuqo6dDquiUKwdUWp3RqDOaUBRlMxhsBp3DZHBZjECRINRbHOIlCvMRp4QGuDlvPuYNqDR59a3FLZ2NvdLWfplco9MYjIjZzGYwuEyGn5Af6i2K8vNKjwhKDw\\u002fiXL9zRU1X3+XG9sr2nqY+abdcJdfodEYTYjazGXQui+kr4EX6SmICvCdGh6WEBri\\u002fntFlOqOpprOvoae\\u002fqU\\u002fWJVP2KFRStVap06v1RoPJZETMiNlMo1KZdBqXyfDic3wEvFAvcaSvJDHEPznE34PVbJAXSh6HPjLTJVmPRD1pG3FTs6bx\\u002fcrX4ajnzPNftCrkDjhqR4NoPqz6tzuJEY1CeyjqifHijK0tv5wcmpf8J+0bPt3dyesi2aXv6r+AozYyJTkPRv0TjroBBeiWlp9P23VtcBafLnhq3IuhXFcKb450H7Cv\\u002fXo\\u002f5QuJS43KhjVSbyQLJp02MTp0YvSQerobhY+ANycpGm8zNdJNiEalxAX63nAVyqOfF5+7MC2OeMOi0SA2wCc24AZY\\u002fcBm0FPDAlLDAuADpGuFS+P+M+ZfH1W9Zb\\u002fTnyNYVPYj0U9a+iPEC5OgBMsjUkTpfLqA4Neb5APXabmJAih3hd3vx\\u002fL\\u002fo\\u002f13M+riCGswJ\\u002fQfMc96M2+AtyEY6QSLRBozPq56UGWSvpm8Cz5AqFp56bemd63frg17Pknk4YYmI6RQmru77cs5\\u002fnfO9Btmnc6N+zeSSCPHjxXwUsJbGxq+bFI3wMcIhXLDH4z8pz\\u002f7SsFMnCDRvrGW+2gUWrbXpNyhDbGsRAxJgmBESkXn+S+KFST82rTB2Sb1dAr9loAlCwOXj9q2ovZumF+URLoRhXJi7wh\\u002fUWNSFstONqnL4cMjpkvX9HXtM\\u002f9O3k6njPiE2vX6G0mkUc6b6fNc3Guneo8d7T5k34Lcni\\u002fLf37A4ineM2xbT3Fp3HBepLNZmiMmeU\\u002fHS7By3G5\\u002fRSCcG\\u002flq4ruXBi4c6\\u002fm7SV0PH7bDpwsmek+Z779IxMCoaBzNyASLRBpBXLowUZgDAOjTt1\\u002fL5KNOVQSHRsz1+htJN5yPUr+CQ54Wzo38LmMTHL1+6BT6bL9bZvrOrVJW1Cgr61W1UuOAxqTSmXU0Cp1FZYkZEh+WXwQvKk6QaN9Ay+L\\u002f4t+EQ54Qyg2\\u002fXo8VBVCyvCZleU3q0nWUK0rqVbXduk6ZUapDtCgALCpLQBf6sf1DuRGx\\u002fIRYQbyb6zqt5vkvmue\\u002fCI6OGDLBIpHGoDplERxyCQVct0ptEmnMoFJoicIUd\\u002facGasC2EEB7KA5fgvgA2MCmWCRSBhqlYXHe37v0jUyqOxx\\u002fPT5AffQsCb+Fcb+3J7fa5UFapOcT5ckCrNn+q\\u002fh0lxZ4OPgXZXKzlyWHu3UNujNGg5N4M0KTBVNy\\u002fZeaD2aP\\u002fB3p65Rh6gBAG+W3W79hzP8Vs\\u002f1v8v6rdTQXSg9XqO8LDX26BENny6J4afN9l8rZAzphUOj0CsUF0717OrWNTNpnFhBxi0B6\\u002fh0se1tHOTgH0gikUhjA8ZnBol0k6tU5G1t\\u002fpBOZSQIc9g0XoOqZEP9S\\u002fCNAOjVt\\u002f3Y8IrGpIwWjJcw\\u002fLp1zef7\\u002f6pRFTwc\\u002faGzeYMjd4UCdFfr58WyU2wabxw\\u002fnUsXKox9DaqyCF6S9X64dEGMID1GkH6ub6\\u002fapJjjfyd1cGg9nBtvvRkA4Gzf3rz+g4HsyHH88Qwqu0ldfll6tFFd9kTsf23LtqqU+a3dVVG81Aleczu1DUXS4y3qysdi\\u002fsOmwbutEXPkDySRSKSxhEywSKQhEBTZ1\\u002f49hUJZH\\u002fl2CDcWAGBGzVua36tWXoaqPne2fqYxKddFvBYjuLK\\u002fXm731uM92w93\\u002fnpriHP9Yxy5q\\u002fz+Q8WyUyHc2HURr3FoV\\u002fbcNaFGBL3aMDqanxbNTwMAFEpz1SbFVN9b8YrcZ\\u002frdnuO92Id1pak0giI\\u002fNb7WrK6sUuQn26wBbFZX3BX+Urww2\\u002fLtvo7vL\\u002fYfOtW7a36Acz2UHfkDSSQSaSwZqWUCJNINqkFVojRJ4wRZluwKAEClUGf5rx16K9CkLu\\u002fQNiQIJ1ozBgDANN+VDCqzRH4KcWZ3Cwfv6lz\\u002fPgDAypAnrdkVAIBOYbCoQ7ZhcRCfLrZmVwAAGoU2XjwLANCnb796IwDCuPHW7AoAMNvvDgqgFMlO2txkeA7+gSQSiTSWkAkWiTREh7YeABDGGzKhFsiOgpaxNKrLAQDhvCGbZjCoLDHD12g29Os7bOPEHLkrlUnWr+\\u002f0ZYX42mRFniVgSAAAJnTI3laBnCGboPPoQh9WkNI4oDLJbOPEHPkDSSQSaYwhpwhJpCHUJhkAAKrjplKobBpPi6isEbmxDwBwsHPjwc6NV283SGd2YnNoR+5KYewHAIiZHmsib0bNZfKzlYq8Hn2rxqQwmHVGrG3a7AukeHRxr75dbVI4XuruyB9IIpFIYwyZYJFIGOzbE1DB0EYsKAoAiBdmeTODhsQBAAAI6c7sbOXAXVn6ONv\\u002fVq5BUNMvjW82qsv8WKFxwiwvpj+bxuvUNpzq3Q3f1I4rHaUd+ANJJBJpjCETLBJpCC5dBABQmYZsSYsC1Hb4CgAgZHgBAKJ4qZN8ltjGXeDIXQnoEjA4FOS+AumxRnVZND9tXcTr1sp9k3nI5KCFGlHAkSsjfCIoTsCRP5BEIpHGGLIGi0QaIogTBQBoUVfaBnt0LSabxXoAgEh+MgCgQV1qG3SNI3clZHiLGb49ulapoRs+hoVBYQIAbBcY2urWNQMAUsXTbNdFdumarF9btWtqbb+1lIIJGd48ZxIsR\\u002f5AEolEGmPIBItEGiKan8ani6uU+W2DuQWCIrnd24beCkTyUoI5MVWKi8VDl9TpzVrMTIWAg3eV47MYBejuti\\u002f1Q4uWLOVZEC9WAACgSV0BHwAAACBk+AAABgxd1kintuHiwKGrtxjUrq2rVl6yfpvbvQ0F6HjxDJubDM\\u002fBP5BEIpHGEgqKOl9RQSKNaeXy87+3fGxpNMqgMFs0lSbUxKSyevVtbybvst5Mauje2PCazNgbwo0NYIebUbPM2NuqqUoWTVkZ8iQAAEGROlWhHtHoEE2p\\u002fEyTuny8ZFY4N55F5XLpAkvDKgfvCgBgRs3bWj6qVORx6cJx\\u002fHQOja80Sds0tUGcyDvD4T6o9arinxvfYFLZSaLJbCpHi6gTRBMtOwYCAKSG7q9qn0ZQY6p4uojh26dvr1BcSBPPKJTmWhu+F0pzd7d9GSfIrFUVxAoyxQzfdm1dq6bamxX4aPR\\u002f2LQrvSEc\\u002fBsd+QNJJBJpLCETLBIJQ7Xy8ome7V3aRgaVFSuYcEvAvbk9vxdIj9omWAAALaI607unUnFBauihURhChiScl5TpNS+YEwMA0JgU71fea3t7KzaN+0riZtsI8V1ZoAAtlOYWSHO7dU1Gs55DE\\u002fixw7K9bkmyaQ1qZdnipk\\u002ffbgaIiOEzL+Aea4IFAGjV1Bzt\\u002fq1D24CgJl9WyGSfpani6e9XrMv2XmCbYL2QsLFFXXmqd3eProVJ48QJMuYP3SrH8b\\u002fRkT+QRCKRxgwywSKRSCQSiUTyMLIGi0QikUgkEsnDyASLRCKRSCQSycP+H8ENFh95qbf8AAAAAElFTkSuQmCC\",\"type\":\"image\",\"xaxis\":\"x\",\"yaxis\":\"y\",\"hovertemplate\":\"x: %{x}\\u003cbr\\u003ey: %{y}\\u003cbr\\u003ecolor: [%{z[0]}, %{z[1]}, %{z[2]}]\\u003cextra\\u003e\\u003c\\u002fextra\\u003e\"}],                        {\"template\":{\"data\":{\"histogram2dcontour\":[{\"type\":\"histogram2dcontour\",\"colorbar\":{\"outlinewidth\":0,\"ticks\":\"\"},\"colorscale\":[[0.0,\"#0d0887\"],[0.1111111111111111,\"#46039f\"],[0.2222222222222222,\"#7201a8\"],[0.3333333333333333,\"#9c179e\"],[0.4444444444444444,\"#bd3786\"],[0.5555555555555556,\"#d8576b\"],[0.6666666666666666,\"#ed7953\"],[0.7777777777777778,\"#fb9f3a\"],[0.8888888888888888,\"#fdca26\"],[1.0,\"#f0f921\"]]}],\"choropleth\":[{\"type\":\"choropleth\",\"colorbar\":{\"outlinewidth\":0,\"ticks\":\"\"}}],\"histogram2d\":[{\"type\":\"histogram2d\",\"colorbar\":{\"outlinewidth\":0,\"ticks\":\"\"},\"colorscale\":[[0.0,\"#0d0887\"],[0.1111111111111111,\"#46039f\"],[0.2222222222222222,\"#7201a8\"],[0.3333333333333333,\"#9c179e\"],[0.4444444444444444,\"#bd3786\"],[0.5555555555555556,\"#d8576b\"],[0.6666666666666666,\"#ed7953\"],[0.7777777777777778,\"#fb9f3a\"],[0.8888888888888888,\"#fdca26\"],[1.0,\"#f0f921\"]]}],\"heatmap\":[{\"type\":\"heatmap\",\"colorbar\":{\"outlinewidth\":0,\"ticks\":\"\"},\"colorscale\":[[0.0,\"#0d0887\"],[0.1111111111111111,\"#46039f\"],[0.2222222222222222,\"#7201a8\"],[0.3333333333333333,\"#9c179e\"],[0.4444444444444444,\"#bd3786\"],[0.5555555555555556,\"#d8576b\"],[0.6666666666666666,\"#ed7953\"],[0.7777777777777778,\"#fb9f3a\"],[0.8888888888888888,\"#fdca26\"],[1.0,\"#f0f921\"]]}],\"heatmapgl\":[{\"type\":\"heatmapgl\",\"colorbar\":{\"outlinewidth\":0,\"ticks\":\"\"},\"colorscale\":[[0.0,\"#0d0887\"],[0.1111111111111111,\"#46039f\"],[0.2222222222222222,\"#7201a8\"],[0.3333333333333333,\"#9c179e\"],[0.4444444444444444,\"#bd3786\"],[0.5555555555555556,\"#d8576b\"],[0.6666666666666666,\"#ed7953\"],[0.7777777777777778,\"#fb9f3a\"],[0.8888888888888888,\"#fdca26\"],[1.0,\"#f0f921\"]]}],\"contourcarpet\":[{\"type\":\"contourcarpet\",\"colorbar\":{\"outlinewidth\":0,\"ticks\":\"\"}}],\"contour\":[{\"type\":\"contour\",\"colorbar\":{\"outlinewidth\":0,\"ticks\":\"\"},\"colorscale\":[[0.0,\"#0d0887\"],[0.1111111111111111,\"#46039f\"],[0.2222222222222222,\"#7201a8\"],[0.3333333333333333,\"#9c179e\"],[0.4444444444444444,\"#bd3786\"],[0.5555555555555556,\"#d8576b\"],[0.6666666666666666,\"#ed7953\"],[0.7777777777777778,\"#fb9f3a\"],[0.8888888888888888,\"#fdca26\"],[1.0,\"#f0f921\"]]}],\"surface\":[{\"type\":\"surface\",\"colorbar\":{\"outlinewidth\":0,\"ticks\":\"\"},\"colorscale\":[[0.0,\"#0d0887\"],[0.1111111111111111,\"#46039f\"],[0.2222222222222222,\"#7201a8\"],[0.3333333333333333,\"#9c179e\"],[0.4444444444444444,\"#bd3786\"],[0.5555555555555556,\"#d8576b\"],[0.6666666666666666,\"#ed7953\"],[0.7777777777777778,\"#fb9f3a\"],[0.8888888888888888,\"#fdca26\"],[1.0,\"#f0f921\"]]}],\"mesh3d\":[{\"type\":\"mesh3d\",\"colorbar\":{\"outlinewidth\":0,\"ticks\":\"\"}}],\"scatter\":[{\"fillpattern\":{\"fillmode\":\"overlay\",\"size\":10,\"solidity\":0.2},\"type\":\"scatter\"}],\"parcoords\":[{\"type\":\"parcoords\",\"line\":{\"colorbar\":{\"outlinewidth\":0,\"ticks\":\"\"}}}],\"scatterpolargl\":[{\"type\":\"scatterpolargl\",\"marker\":{\"colorbar\":{\"outlinewidth\":0,\"ticks\":\"\"}}}],\"bar\":[{\"error_x\":{\"color\":\"#2a3f5f\"},\"error_y\":{\"color\":\"#2a3f5f\"},\"marker\":{\"line\":{\"color\":\"#E5ECF6\",\"width\":0.5},\"pattern\":{\"fillmode\":\"overlay\",\"size\":10,\"solidity\":0.2}},\"type\":\"bar\"}],\"scattergeo\":[{\"type\":\"scattergeo\",\"marker\":{\"colorbar\":{\"outlinewidth\":0,\"ticks\":\"\"}}}],\"scatterpolar\":[{\"type\":\"scatterpolar\",\"marker\":{\"colorbar\":{\"outlinewidth\":0,\"ticks\":\"\"}}}],\"histogram\":[{\"marker\":{\"pattern\":{\"fillmode\":\"overlay\",\"size\":10,\"solidity\":0.2}},\"type\":\"histogram\"}],\"scattergl\":[{\"type\":\"scattergl\",\"marker\":{\"colorbar\":{\"outlinewidth\":0,\"ticks\":\"\"}}}],\"scatter3d\":[{\"type\":\"scatter3d\",\"line\":{\"colorbar\":{\"outlinewidth\":0,\"ticks\":\"\"}},\"marker\":{\"colorbar\":{\"outlinewidth\":0,\"ticks\":\"\"}}}],\"scattermapbox\":[{\"type\":\"scattermapbox\",\"marker\":{\"colorbar\":{\"outlinewidth\":0,\"ticks\":\"\"}}}],\"scatterternary\":[{\"type\":\"scatterternary\",\"marker\":{\"colorbar\":{\"outlinewidth\":0,\"ticks\":\"\"}}}],\"scattercarpet\":[{\"type\":\"scattercarpet\",\"marker\":{\"colorbar\":{\"outlinewidth\":0,\"ticks\":\"\"}}}],\"carpet\":[{\"aaxis\":{\"endlinecolor\":\"#2a3f5f\",\"gridcolor\":\"white\",\"linecolor\":\"white\",\"minorgridcolor\":\"white\",\"startlinecolor\":\"#2a3f5f\"},\"baxis\":{\"endlinecolor\":\"#2a3f5f\",\"gridcolor\":\"white\",\"linecolor\":\"white\",\"minorgridcolor\":\"white\",\"startlinecolor\":\"#2a3f5f\"},\"type\":\"carpet\"}],\"table\":[{\"cells\":{\"fill\":{\"color\":\"#EBF0F8\"},\"line\":{\"color\":\"white\"}},\"header\":{\"fill\":{\"color\":\"#C8D4E3\"},\"line\":{\"color\":\"white\"}},\"type\":\"table\"}],\"barpolar\":[{\"marker\":{\"line\":{\"color\":\"#E5ECF6\",\"width\":0.5},\"pattern\":{\"fillmode\":\"overlay\",\"size\":10,\"solidity\":0.2}},\"type\":\"barpolar\"}],\"pie\":[{\"automargin\":true,\"type\":\"pie\"}]},\"layout\":{\"autotypenumbers\":\"strict\",\"colorway\":[\"#636efa\",\"#EF553B\",\"#00cc96\",\"#ab63fa\",\"#FFA15A\",\"#19d3f3\",\"#FF6692\",\"#B6E880\",\"#FF97FF\",\"#FECB52\"],\"font\":{\"color\":\"#2a3f5f\"},\"hovermode\":\"closest\",\"hoverlabel\":{\"align\":\"left\"},\"paper_bgcolor\":\"white\",\"plot_bgcolor\":\"#E5ECF6\",\"polar\":{\"bgcolor\":\"#E5ECF6\",\"angularaxis\":{\"gridcolor\":\"white\",\"linecolor\":\"white\",\"ticks\":\"\"},\"radialaxis\":{\"gridcolor\":\"white\",\"linecolor\":\"white\",\"ticks\":\"\"}},\"ternary\":{\"bgcolor\":\"#E5ECF6\",\"aaxis\":{\"gridcolor\":\"white\",\"linecolor\":\"white\",\"ticks\":\"\"},\"baxis\":{\"gridcolor\":\"white\",\"linecolor\":\"white\",\"ticks\":\"\"},\"caxis\":{\"gridcolor\":\"white\",\"linecolor\":\"white\",\"ticks\":\"\"}},\"coloraxis\":{\"colorbar\":{\"outlinewidth\":0,\"ticks\":\"\"}},\"colorscale\":{\"sequential\":[[0.0,\"#0d0887\"],[0.1111111111111111,\"#46039f\"],[0.2222222222222222,\"#7201a8\"],[0.3333333333333333,\"#9c179e\"],[0.4444444444444444,\"#bd3786\"],[0.5555555555555556,\"#d8576b\"],[0.6666666666666666,\"#ed7953\"],[0.7777777777777778,\"#fb9f3a\"],[0.8888888888888888,\"#fdca26\"],[1.0,\"#f0f921\"]],\"sequentialminus\":[[0.0,\"#0d0887\"],[0.1111111111111111,\"#46039f\"],[0.2222222222222222,\"#7201a8\"],[0.3333333333333333,\"#9c179e\"],[0.4444444444444444,\"#bd3786\"],[0.5555555555555556,\"#d8576b\"],[0.6666666666666666,\"#ed7953\"],[0.7777777777777778,\"#fb9f3a\"],[0.8888888888888888,\"#fdca26\"],[1.0,\"#f0f921\"]],\"diverging\":[[0,\"#8e0152\"],[0.1,\"#c51b7d\"],[0.2,\"#de77ae\"],[0.3,\"#f1b6da\"],[0.4,\"#fde0ef\"],[0.5,\"#f7f7f7\"],[0.6,\"#e6f5d0\"],[0.7,\"#b8e186\"],[0.8,\"#7fbc41\"],[0.9,\"#4d9221\"],[1,\"#276419\"]]},\"xaxis\":{\"gridcolor\":\"white\",\"linecolor\":\"white\",\"ticks\":\"\",\"title\":{\"standoff\":15},\"zerolinecolor\":\"white\",\"automargin\":true,\"zerolinewidth\":2},\"yaxis\":{\"gridcolor\":\"white\",\"linecolor\":\"white\",\"ticks\":\"\",\"title\":{\"standoff\":15},\"zerolinecolor\":\"white\",\"automargin\":true,\"zerolinewidth\":2},\"scene\":{\"xaxis\":{\"backgroundcolor\":\"#E5ECF6\",\"gridcolor\":\"white\",\"linecolor\":\"white\",\"showbackground\":true,\"ticks\":\"\",\"zerolinecolor\":\"white\",\"gridwidth\":2},\"yaxis\":{\"backgroundcolor\":\"#E5ECF6\",\"gridcolor\":\"white\",\"linecolor\":\"white\",\"showbackground\":true,\"ticks\":\"\",\"zerolinecolor\":\"white\",\"gridwidth\":2},\"zaxis\":{\"backgroundcolor\":\"#E5ECF6\",\"gridcolor\":\"white\",\"linecolor\":\"white\",\"showbackground\":true,\"ticks\":\"\",\"zerolinecolor\":\"white\",\"gridwidth\":2}},\"shapedefaults\":{\"line\":{\"color\":\"#2a3f5f\"}},\"annotationdefaults\":{\"arrowcolor\":\"#2a3f5f\",\"arrowhead\":0,\"arrowwidth\":1},\"geo\":{\"bgcolor\":\"white\",\"landcolor\":\"#E5ECF6\",\"subunitcolor\":\"white\",\"showland\":true,\"showlakes\":true,\"lakecolor\":\"white\"},\"title\":{\"x\":0.05},\"mapbox\":{\"style\":\"light\"}}},\"xaxis\":{\"anchor\":\"y\",\"domain\":[0.0,1.0],\"showticklabels\":false},\"yaxis\":{\"anchor\":\"x\",\"domain\":[0.0,1.0],\"showticklabels\":false},\"margin\":{\"t\":60},\"title\":{\"text\":\"Crunch-O-Matic Customer Feedback Word Cloud\"}},                        {\"responsive\": true}                    ).then(function(){\n",
              "                            \n",
              "var gd = document.getElementById('fac3e832-b9f1-48ac-a3dd-794c84cf3850');\n",
              "var x = new MutationObserver(function (mutations, observer) {{\n",
              "        var display = window.getComputedStyle(gd).display;\n",
              "        if (!display || display === 'none') {{\n",
              "            console.log([gd, 'removed!']);\n",
              "            Plotly.purge(gd);\n",
              "            observer.disconnect();\n",
              "        }}\n",
              "}});\n",
              "\n",
              "// Listen for the removal of the full notebook cells\n",
              "var notebookContainer = gd.closest('#notebook-container');\n",
              "if (notebookContainer) {{\n",
              "    x.observe(notebookContainer, {childList: true});\n",
              "}}\n",
              "\n",
              "// Listen for the clearing of the current output cell\n",
              "var outputEl = gd.closest('.output');\n",
              "if (outputEl) {{\n",
              "    x.observe(outputEl, {childList: true});\n",
              "}}\n",
              "\n",
              "                        })                };                            </script>        </div>\n",
              "</body>\n",
              "</html>"
            ]
          },
          "metadata": {}
        }
      ]
    },
    {
      "cell_type": "markdown",
      "source": [
        "\n",
        "This word cloud gives us an immediate visual sense of the most common words used in customer feedback about Crunch-O-Matic. We can quickly identify which attributes of our product are most frequently mentioned, helping us understand what resonates with our customers."
      ],
      "metadata": {
        "id": "lceZqTRFy9qS"
      }
    },
    {
      "cell_type": "markdown",
      "source": [
        "## How to Combine Visualizations into a Dashboard\n",
        "\n",
        "Now that we've explored various chart types and visualization techniques, let's bring it all together by creating a dashboard. A dashboard combines multiple visualizations to provide a comprehensive view of our data, allowing us to monitor different aspects of our Crunch-O-Matic campaign at a glance.\n",
        "\n",
        "We'll use Plotly Dash to create our dashboard. Dash is a Python framework for building analytical web applications, which is perfect for creating interactive dashboards.\n",
        "\n",
        "(Note: This is the same dashboard we saw at the beginning of the chapter).\n",
        "\n",
        "### Importing Libraries and Creating Data\n",
        "First, let's import the libraries and create some sammple data."
      ],
      "metadata": {
        "id": "XfVuyylmzimK"
      }
    },
    {
      "cell_type": "code",
      "source": [
        "!pip install dash -q\n",
        "import pandas as pd\n",
        "import plotly.express as px\n",
        "from dash import Dash, dcc, html\n",
        "from dash.dependencies import Input, Output\n",
        "\n",
        "# Create sample data\n",
        "data = {\n",
        "    'Region': ['North', 'South', 'East', 'West'] * 3,\n",
        "    'Product': ['Chips', 'Chips', 'Chips', 'Chips', 'Popcorn', 'Popcorn', 'Popcorn', 'Popcorn', 'Pretzels', 'Pretzels', 'Pretzels', 'Pretzels'],\n",
        "    'Sales': [100, 120, 80, 150, 80, 90, 110, 70, 60, 50, 40, 30]\n",
        "}\n",
        "df = pd.DataFrame(data)"
      ],
      "metadata": {
        "id": "xOpx37syzjQa"
      },
      "execution_count": 20,
      "outputs": []
    },
    {
      "cell_type": "markdown",
      "source": [
        "Here, we're importing the necessary libraries:\n",
        "- `pandas` for data manipulation\n",
        "- `plotly.express` for creating interactive plots\n",
        "- `Dash`, `dcc` (Dash Core Components), and `html` from the `dash` library for building the web application\n",
        "- `Input` and `Output` from `dash.dependencies` for creating interactive callbacks\n",
        "\n",
        "We then create a sample dataset as a dictionary and convert it to a pandas DataFrame. This data represents sales figures for different products across various regions.\n",
        "\n",
        "### Initializing the Dash App"
      ],
      "metadata": {
        "id": "4XUrKHIf00JV"
      }
    },
    {
      "cell_type": "code",
      "source": [
        "app = Dash(__name__)"
      ],
      "metadata": {
        "id": "UeUYzmas1Dcb"
      },
      "execution_count": 21,
      "outputs": []
    },
    {
      "cell_type": "markdown",
      "source": [
        "This line creates a new Dash application instance. The `__name__` argument helps Dash locate resources in the app's directory.\n",
        "\n",
        "### Defining the Layout"
      ],
      "metadata": {
        "id": "h6kbFp2O1G17"
      }
    },
    {
      "cell_type": "code",
      "source": [
        "app.layout = html.Div([\n",
        "    html.H1(\"Crunch-O-Matic Sales Dashboard\"),\n",
        "\n",
        "    dcc.Dropdown(\n",
        "        id='product-dropdown',\n",
        "        options=[{'label': i, 'value': i} for i in df['Product'].unique()],\n",
        "        value='Chips',\n",
        "        style={'width': '50%'}\n",
        "    ),\n",
        "\n",
        "    dcc.Graph(id='sales-bar-chart'),\n",
        "\n",
        "    dcc.Graph(id='sales-pie-chart')\n",
        "])"
      ],
      "metadata": {
        "id": "Ce2eHeq31RVj"
      },
      "execution_count": 22,
      "outputs": []
    },
    {
      "cell_type": "markdown",
      "source": [
        "This section defines the layout of our dashboard:\n",
        "- `html.H1`: Creates a header with the dashboard title\n",
        "- `dcc.Dropdown`: Creates a dropdown menu for selecting products\n",
        "  - `options`: List of dictionaries defining the dropdown options, generated from unique product names in our DataFrame\n",
        "  - `value`: The default selected value\n",
        "  - `style`: CSS styling to set the width of the dropdown\n",
        "- `dcc.Graph`: Creates placeholder elements for our charts, which will be populated by our callback functions\n",
        "\n",
        "### Defining Callbacks"
      ],
      "metadata": {
        "id": "yrZknNt41Vdh"
      }
    },
    {
      "cell_type": "code",
      "source": [
        "@app.callback(\n",
        "    Output('sales-bar-chart', 'figure'),\n",
        "    Input('product-dropdown', 'value')\n",
        ")\n",
        "def update_bar_chart(selected_product):\n",
        "    filtered_df = df[df['Product'] == selected_product]\n",
        "    fig = px.bar(filtered_df, x='Region', y='Sales', title=f'{selected_product} Sales by Region')\n",
        "    return fig\n",
        "\n",
        "@app.callback(\n",
        "    Output('sales-pie-chart', 'figure'),\n",
        "    Input('product-dropdown', 'value')\n",
        ")\n",
        "def update_pie_chart(selected_product):\n",
        "    filtered_df = df[df['Product'] == selected_product]\n",
        "    fig = px.pie(filtered_df, values='Sales', names='Region', title=f'{selected_product} Sales Distribution')\n",
        "    return fig\n"
      ],
      "metadata": {
        "id": "oulctxvx1eCK"
      },
      "execution_count": 23,
      "outputs": []
    },
    {
      "cell_type": "markdown",
      "source": [
        "These are our callback functions, which make the dashboard interactive:\n",
        "\n",
        "- Each `@app.callback` decorator defines how a part of the layout should be updated in response to user input\n",
        "- The `Output` specifies which component will be updated (in this case, our graph figures)\n",
        "- The `Input` specifies which component's value will trigger the update (our product dropdown)\n",
        "- The functions filter the DataFrame based on the selected product and create appropriate charts using Plotly Express\n",
        "- `px.bar` creates a bar chart showing sales by region for the selected product\n",
        "- `px.pie` creates a pie chart showing the distribution of sales across regions for the selected product\n",
        "\n",
        "### Running the App"
      ],
      "metadata": {
        "id": "9B6TQSiq1iSQ"
      }
    },
    {
      "cell_type": "code",
      "source": [
        "app.run(jupyter_mode=\"inline\")"
      ],
      "metadata": {
        "id": "z1eJqkKa1xPf",
        "outputId": "6b98d089-96ca-45ef-d9cd-8c35ba88e2e5",
        "colab": {
          "base_uri": "https://localhost:8080/",
          "height": 671
        }
      },
      "execution_count": 24,
      "outputs": [
        {
          "output_type": "display_data",
          "data": {
            "text/plain": [
              "<IPython.core.display.Javascript object>"
            ],
            "application/javascript": [
              "(async (port, path, width, height, cache, element) => {\n",
              "    if (!google.colab.kernel.accessAllowed && !cache) {\n",
              "      return;\n",
              "    }\n",
              "    element.appendChild(document.createTextNode(''));\n",
              "    const url = await google.colab.kernel.proxyPort(port, {cache});\n",
              "    const iframe = document.createElement('iframe');\n",
              "    iframe.src = new URL(path, url).toString();\n",
              "    iframe.height = height;\n",
              "    iframe.width = width;\n",
              "    iframe.style.border = 0;\n",
              "    iframe.allow = [\n",
              "        'accelerometer',\n",
              "        'autoplay',\n",
              "        'camera',\n",
              "        'clipboard-read',\n",
              "        'clipboard-write',\n",
              "        'gyroscope',\n",
              "        'magnetometer',\n",
              "        'microphone',\n",
              "        'serial',\n",
              "        'usb',\n",
              "        'xr-spatial-tracking',\n",
              "    ].join('; ');\n",
              "    element.appendChild(iframe);\n",
              "  })(8050, \"/\", \"100%\", 650, false, window.element)"
            ]
          },
          "metadata": {}
        }
      ]
    },
    {
      "cell_type": "markdown",
      "source": [
        "This line runs the Dash app. The `jupyter_mode=\"inline\"` argument allows the app to run inline in a Jupyter notebook.\n",
        "\n",
        "## How It All Works Together\n",
        "\n",
        "1. When the app starts, it displays the layout with the title, dropdown (initially set to 'Chips'), and empty placeholders for the charts.\n",
        "2. The callback functions immediately run with the default 'Chips' value, populating the charts with data for chips.\n",
        "3. When a user selects a different product from the dropdown, it triggers both callback functions:\n",
        "   - `update_bar_chart` creates a new bar chart for the selected product\n",
        "   - `update_pie_chart` creates a new pie chart for the selected product\n",
        "4. Dash automatically updates the `figure` property of both `dcc.Graph` components with the new charts.\n",
        "\n",
        "This creates an interactive dashboard where users can explore sales data for different Crunch-O-Matic products across regions, with the visualizations updating in real-time based on user selection.\n"
      ],
      "metadata": {
        "id": "0geF_j6_11bj"
      }
    },
    {
      "cell_type": "markdown",
      "source": [
        "## Key Points Summary\n",
        "\n",
        "-   **Data dashboards** provide a consolidated view of critical metrics, aiding decision-making in business, marketing, finance, and other fields.\n",
        "-   Plotly and Plotly Express enable the creation of interactive, publication-quality charts such as line, bar, scatter, and pie charts.\n",
        "-   Dash is a framework for building interactive web applications powered by Plotly visualizations, ideal for real-time dashboard updates.\n",
        "-   Designing an effective dashboard involves careful consideration of layout, user flow, and data interactivity, tailored to the needs of different audiences.\n",
        "-   Hands-on examples, including bar charts, pie charts, scatter plots, and more, illustrate how to visualize sales data for a product like Crunch-O-Matic across various regions and channels."
      ],
      "metadata": {
        "id": "JIoKT7QW4DKY"
      }
    },
    {
      "cell_type": "code",
      "source": [],
      "metadata": {
        "id": "ZRorgCjb4IfW"
      },
      "execution_count": null,
      "outputs": []
    }
  ]
}