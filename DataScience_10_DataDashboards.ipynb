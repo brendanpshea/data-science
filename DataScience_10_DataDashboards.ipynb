{
  "nbformat": 4,
  "nbformat_minor": 0,
  "metadata": {
    "colab": {
      "provenance": [],
      "authorship_tag": "ABX9TyPZ1NHZfJTa/51c5lwhFPsG",
      "include_colab_link": true
    },
    "kernelspec": {
      "name": "python3",
      "display_name": "Python 3"
    },
    "language_info": {
      "name": "python"
    }
  },
  "cells": [
    {
      "cell_type": "markdown",
      "metadata": {
        "id": "view-in-github",
        "colab_type": "text"
      },
      "source": [
        "<a href=\"https://colab.research.google.com/github/brendanpshea/data-science/blob/main/DataScience_10_DataDashboards.ipynb\" target=\"_parent\"><img src=\"https://colab.research.google.com/assets/colab-badge.svg\" alt=\"Open In Colab\"/></a>"
      ]
    },
    {
      "cell_type": "markdown",
      "source": [
        "# Introduction to Data Dashboards\n",
        "\n",
        "In today's data-driven world, making sense of vast amounts of information can be challenging. This is where **data dashboards** come in handy. A **data dashboard** is a visual display of the most important information needed to achieve one or more objectives, consolidated and arranged on a single screen so the information can be monitored at a glance.\n",
        "\n",
        "Imagine you're Don Draper from the TV show Mad Men, but instead of relying solely on your gut instincts and creative flair, you have access to powerful data tools. You're tasked with creating an advertising campaign for a new, fictitious snack food called \"Crunch-O-Matic.\" How would you go about making decisions about your ad strategy? This is where a data dashboard can be incredibly useful.\n",
        "\n",
        "Let's set the scene:\n",
        "\n",
        "## Scenario: Mad Men-Style Ad Campaign for Crunch-O-Matic\n",
        "\n",
        "You're the head of a modern advertising agency in the spirit of Mad Men, tasked with promoting \"Crunch-O-Matic,\" a new line of potato chips. Your client wants to dominate the snack market, but they're facing tough competition. You need to make data-driven decisions to ensure the success of your campaign.\n",
        "\n",
        "Key questions you need to answer:\n",
        "1. Who is the target audience for Crunch-O-Matic?\n",
        "2. What marketing channels are most effective for reaching this audience?\n",
        "3. How is the product performing in different regions?\n",
        "4. What impact are your advertising efforts having on sales?\n",
        "\n",
        "To answer these questions effectively, you decide to create a data dashboard that will help you visualize and analyze key information about your ad campaign and its results.\n",
        "\n",
        "This scenario illustrates how a data dashboard can be an invaluable tool in modern advertising and business decision-making. By consolidating and visualizing critical information, a dashboard allows you to quickly grasp complex data and make informed choices.\n",
        "\n",
        "In our Crunch-O-Matic example, a well-designed dashboard might include:\n",
        "\n",
        "1. **Demographic breakdown** of customers who purchase the product\n",
        "2. **Geographic heat map** showing sales performance across different regions\n",
        "3. **Line graph** tracking sales over time, with annotations for major ad campaign launches\n",
        "4. **Bar chart** comparing the effectiveness of different marketing channels (TV, social media, print, etc.)\n",
        "5. **Real-time social media sentiment analysis** gauge\n",
        "\n",
        "By having all this information available at a glance, you can quickly identify trends, spot potential issues, and make data-driven decisions to optimize your ad campaign.\n",
        "\n",
        "Throughout this chapter, we'll explore how to create such dashboards using **Plotly**, a powerful data visualization library for Python. **Plotly** allows you to create interactive, publication-quality graphs and charts that can be easily integrated into **Jupyter notebooks** or web applications.\n",
        "\n",
        "**Jupyter notebooks** are web-based interactive computing platforms that allow you to combine live code, visualizations, and narrative text. They're an excellent tool for data analysis and presentation, making them perfect for creating and sharing data dashboards.\n",
        "\n",
        "As we progress through this chapter, we'll delve deeper into the world of data dashboards, exploring their various types, design considerations, and how to create them using Plotly in Jupyter notebooks. By the end, you'll have the skills to create your own Mad Men-style data-driven ad campaigns, backed by powerful visualizations and analytics."
      ],
      "metadata": {
        "id": "GitU1F-S-dkm"
      }
    },
    {
      "cell_type": "markdown",
      "source": [
        "### Example Dasboard: Snack Sales By Region\n",
        "Let's begin by looking at example of a simple dashboard that allows us to see snack sales by region."
      ],
      "metadata": {
        "id": "SYId_ZFh-2nZ"
      }
    },
    {
      "cell_type": "code",
      "source": [
        "!pip install dash -q\n",
        "\n",
        "import pandas as pd\n",
        "import plotly.express as px\n",
        "from dash import Dash, dcc, html\n",
        "from dash.dependencies import Input, Output\n",
        "\n",
        "# Create sample data\n",
        "data = {\n",
        "    'Region': ['North', 'South', 'East', 'West'] * 3,\n",
        "    'Product': ['Chips', 'Chips', 'Chips', 'Chips', 'Popcorn', 'Popcorn', 'Popcorn', 'Popcorn', 'Pretzels', 'Pretzels', 'Pretzels', 'Pretzels'],\n",
        "    'Sales': [100, 120, 80, 150, 80, 90, 110, 70, 60, 50, 40, 30]\n",
        "}\n",
        "df = pd.DataFrame(data)\n",
        "\n",
        "# Initialize the Dash app\n",
        "app = Dash(__name__)\n",
        "\n",
        "# Define the layout\n",
        "app.layout = html.Div([\n",
        "    html.H1(\"Crunch-O-Matic Sales Dashboard\"),\n",
        "\n",
        "    dcc.Dropdown(\n",
        "        id='product-dropdown',\n",
        "        options=[{'label': i, 'value': i} for i in df['Product'].unique()],\n",
        "        value='Chips',\n",
        "        style={'width': '50%'}\n",
        "    ),\n",
        "\n",
        "    dcc.Graph(id='sales-bar-chart'),\n",
        "\n",
        "    dcc.Graph(id='sales-pie-chart')\n",
        "])\n",
        "\n",
        "# Define callback to update bar chart\n",
        "@app.callback(\n",
        "    Output('sales-bar-chart', 'figure'),\n",
        "    Input('product-dropdown', 'value')\n",
        ")\n",
        "def update_bar_chart(selected_product):\n",
        "    filtered_df = df[df['Product'] == selected_product]\n",
        "    fig = px.bar(filtered_df, x='Region', y='Sales', title=f'{selected_product} Sales by Region')\n",
        "    return fig\n",
        "\n",
        "# Define callback to update pie chart\n",
        "@app.callback(\n",
        "    Output('sales-pie-chart', 'figure'),\n",
        "    Input('product-dropdown', 'value')\n",
        ")\n",
        "def update_pie_chart(selected_product):\n",
        "    filtered_df = df[df['Product'] == selected_product]\n",
        "    fig = px.pie(filtered_df, values='Sales', names='Region', title=f'{selected_product} Sales Distribution')\n",
        "    return fig\n",
        "\n",
        "# Run the app\n",
        "app.run(jupyter_mode=\"inline\")\n"
      ],
      "metadata": {
        "colab": {
          "base_uri": "https://localhost:8080/",
          "height": 671
        },
        "id": "vJTsH0ZD-5Uu",
        "outputId": "e84c1b36-cf06-456f-834b-40459a562e50"
      },
      "execution_count": null,
      "outputs": [
        {
          "output_type": "display_data",
          "data": {
            "text/plain": [
              "<IPython.core.display.Javascript object>"
            ],
            "application/javascript": [
              "(async (port, path, width, height, cache, element) => {\n",
              "    if (!google.colab.kernel.accessAllowed && !cache) {\n",
              "      return;\n",
              "    }\n",
              "    element.appendChild(document.createTextNode(''));\n",
              "    const url = await google.colab.kernel.proxyPort(port, {cache});\n",
              "    const iframe = document.createElement('iframe');\n",
              "    iframe.src = new URL(path, url).toString();\n",
              "    iframe.height = height;\n",
              "    iframe.width = width;\n",
              "    iframe.style.border = 0;\n",
              "    iframe.allow = [\n",
              "        'accelerometer',\n",
              "        'autoplay',\n",
              "        'camera',\n",
              "        'clipboard-read',\n",
              "        'clipboard-write',\n",
              "        'gyroscope',\n",
              "        'magnetometer',\n",
              "        'microphone',\n",
              "        'serial',\n",
              "        'usb',\n",
              "        'xr-spatial-tracking',\n",
              "    ].join('; ');\n",
              "    element.appendChild(iframe);\n",
              "  })(8050, \"/\", \"100%\", 650, false, window.element)"
            ]
          },
          "metadata": {}
        }
      ]
    },
    {
      "cell_type": "markdown",
      "source": [
        "You'll notice the following elements (don't worry about the details of the code for now--we'll come back to that later...):\n",
        "\n",
        "1. **Data Source**:\n",
        "   In our example, we're using a simple pandas DataFrame as our data source. In real-world scenarios, this could be connected to a database, API, or other data streams. The data includes information about product sales across different regions.\n",
        "\n",
        "2. **Interactivity**:\n",
        "   The dropdown menu allows users to select different products, demonstrating how dashboards can be interactive. This interactivity lets users explore the data from different angles.\n",
        "\n",
        "3. **Charts and Graphs**:\n",
        "   We've included two types of charts:\n",
        "   - A bar chart showing sales by region\n",
        "   - A pie chart showing the distribution of sales\n",
        "\n",
        "   These visualizations help users quickly understand the data without having to parse through raw numbers.\n",
        "\n",
        "4. **Layout**:\n",
        "   The dashboard is organized with a clear structure:\n",
        "   - A title at the top\n",
        "   - A dropdown for user input\n",
        "   - Two graphs arranged vertically\n",
        "\n",
        "   This layout guides the user's eye and helps tell a story with the data.\n",
        "\n",
        "5. **Real-time Updates**:\n",
        "   The `@app.callback` decorators define how the charts should update when the user interacts with the dropdown. This demonstrates how dashboards can provide real-time or near-real-time data updates.\n",
        "\n",
        "6. **Consistency in Design**:\n",
        "   Both charts use the same color scheme and styling, providing a cohesive look to the dashboard.\n",
        "\n",
        "7. **Titles and Labels**:\n",
        "   Each chart has a clear title that updates based on the selected product, helping users understand what they're looking at.\n",
        "\n",
        "8. **Multiple Views of the Same Data**:\n",
        "   By showing both a bar chart and a pie chart, we're providing multiple perspectives on the same data, allowing for deeper insights.\n",
        "\n",
        "This simple dashboard demonstrates several key principles:\n",
        "\n",
        "- **Data Visualization**: Converting raw data into visual representations that are easy to understand at a glance.\n",
        "- **Interactivity**: Allowing users to explore the data themselves rather than presenting static information.\n",
        "- **Customization**: The ability to focus on specific aspects of the data (in this case, different products).\n",
        "- **Comparative Analysis**: Enabling users to compare data across different categories (regions in this case).\n",
        "\n",
        "As you progress through the chapter, you can dive deeper into each of these elements, teaching students how to create more complex visualizations, handle larger datasets, and design dashboards for specific business needs. This example serves as a starting point to introduce the concept and spark students' interest in data visualization and dashboard creation."
      ],
      "metadata": {
        "id": "JXm-owgoA99s"
      }
    },
    {
      "cell_type": "markdown",
      "source": [
        "## What are some examples of data dashboards?\n",
        "\n",
        "Data dashboards come in many forms and serve various purposes across different industries. Let's explore some common types of dashboards and their real-world applications:\n",
        "\n",
        "### Business Intelligence (BI) Dashboards\n",
        "   \n",
        "**Business Intelligence dashboards** consolidate and visualize key performance indicators (KPIs) for a company. These dashboards help executives and managers make data-driven decisions.\n",
        "\n",
        "Example: A sales BI dashboard might include:\n",
        "- Total revenue over time (line chart)\n",
        "- Sales by product category (bar chart)\n",
        "- Top performing salespeople (leaderboard)\n",
        "- Geographic distribution of sales (map)\n",
        "\n",
        "### Financial Dashboards\n",
        "\n",
        "**Financial dashboards** provide a quick overview of an organization's financial health. They're crucial for CFOs, accountants, and financial analysts.\n",
        "\n",
        "Example: A financial dashboard could display:\n",
        "- Cash flow statement (waterfall chart)\n",
        "- Profit and loss summary (table)\n",
        "- Accounts receivable aging (stacked bar chart)\n",
        "- Budget vs. actual spending (combo chart)\n",
        "\n",
        "### Marketing Dashboards\n",
        "\n",
        "**Marketing dashboards** help track the performance of marketing campaigns across various channels. They're essential for marketing managers and digital marketers.\n",
        "\n",
        "Example: A digital marketing dashboard might show:\n",
        "- Website traffic sources (pie chart)\n",
        "- Social media engagement rates (line chart)\n",
        "- Email campaign open and click-through rates (bar chart)\n",
        "- ROI of different marketing channels (scatter plot)\n",
        "\n",
        "### Project Management Dashboards\n",
        "\n",
        "**Project management dashboards** provide a bird's-eye view of ongoing projects, helping project managers and team leads track progress and allocate resources effectively.\n",
        "\n",
        "Example: A project dashboard could include:\n",
        "- Project timeline and milestones (Gantt chart)\n",
        "- Task completion status (progress bars)\n",
        "- Team member workload (heat map)\n",
        "- Budget utilization (gauge chart)\n",
        "\n",
        "### Healthcare Dashboards\n",
        "\n",
        "**Healthcare dashboards** are used in hospitals and clinics to monitor patient care, resource allocation, and overall facility performance.\n",
        "\n",
        "Example: A hospital dashboard might display:\n",
        "- Patient admission and discharge rates (area chart)\n",
        "- Average length of stay (histogram)\n",
        "- Staff-to-patient ratios (bubble chart)\n",
        "- Equipment utilization rates (gauge chart)\n",
        "\n",
        "### Social Media Analytics Dashboards\n",
        "\n",
        "**Social media analytics dashboards** help businesses and influencers track their performance across various social platforms.\n",
        "\n",
        "Example: A social media dashboard could show:\n",
        "- Follower growth over time (line chart)\n",
        "- Post engagement rates (bar chart)\n",
        "- Sentiment analysis of comments (pie chart)\n",
        "- Best performing content types (grouped bar chart)\n",
        "\n",
        "### Operations Dashboards\n",
        "\n",
        "**Operations dashboards** are used in manufacturing and logistics to monitor production processes, supply chain efficiency, and resource utilization.\n",
        "\n",
        "Example: A manufacturing operations dashboard might include:\n",
        "- Production output vs. targets (bullet chart)\n",
        "- Machine downtime (Pareto chart)\n",
        "- Inventory levels (stacked area chart)\n",
        "- Quality control metrics (control chart)\n",
        "\n",
        "### Personal Finance Dashboards\n",
        "\n",
        "**Personal finance dashboards** help individuals track their spending, savings, and investments.\n",
        "\n",
        "Example: A personal finance dashboard could display:\n",
        "- Monthly income vs. expenses (stacked column chart)\n",
        "- Investment portfolio performance (treemap)\n",
        "- Savings goal progress (gauge chart)\n",
        "- Spending breakdown by category (donut chart)\n",
        "\n",
        "These examples demonstrate the versatility of data dashboards across various domains. Each type of dashboard is designed to present relevant information in an easily digestible format, enabling quick understanding and decision-making based on data. As you progress in your data science journey, you'll likely encounter and create many of these dashboard types, adapting them to specific needs and datasets."
      ],
      "metadata": {
        "id": "VYDavDULraqR"
      }
    },
    {
      "cell_type": "markdown",
      "source": [
        "## What considerations go into designing dashboards?\n",
        "\n",
        "When designing a data dashboard, several key factors need to be taken into account to ensure the dashboard is effective, informative, and user-friendly. Let's explore these considerations:\n",
        "\n",
        "###. Data source and attributes\n",
        "\n",
        "The foundation of any good dashboard is the data it presents. Understanding your data is crucial for creating meaningful visualizations.\n",
        "\n",
        "#### Field definitions\n",
        "\n",
        "**Field definitions** refer to the specific pieces of information in your dataset. For example, in our Crunch-O-Matic scenario, fields might include:\n",
        "\n",
        "- Product Name\n",
        "- Sales Amount\n",
        "- Date of Sale\n",
        "- Customer Age\n",
        "- Region\n",
        "\n",
        "It's important to clearly define what each field represents and how it's measured.\n",
        "\n",
        "#### Dimensions\n",
        "\n",
        "**Dimensions** are categorical fields that can be used to group or segment your data. They often answer questions like \"who,\" \"what,\" or \"where.\" In our example, dimensions could include:\n",
        "\n",
        "- Product Name\n",
        "- Region\n",
        "- Customer Age Group\n",
        "\n",
        "Dimensions help provide context and allow for more detailed analysis.\n",
        "\n",
        "#### Measures\n",
        "\n",
        "**Measures** are quantitative fields that can be aggregated (summed, averaged, etc.). They often answer questions like \"how many\" or \"how much.\" In our Crunch-O-Matic example, measures might include:\n",
        "\n",
        "- Sales Amount\n",
        "- Units Sold\n",
        "- Profit Margin\n",
        "\n",
        "Measures are what you typically want to analyze or track over time.\n",
        "\n",
        "#### Continuous/live data vs static data\n",
        "\n",
        "The nature of your data will influence how your dashboard is designed and updated:\n",
        "\n",
        "- **Continuous or live data** is constantly changing and updating. For example, real-time sales data or social media engagement metrics. Dashboards with live data need to be designed to update automatically and handle potential fluctuations.\n",
        "\n",
        "- **Static data** is fixed and doesn't change frequently. For example, historical sales data from previous years. Dashboards with static data might be updated less frequently but could focus more on in-depth analysis.\n",
        "\n",
        "### Consumer types\n",
        "\n",
        "Different users have different needs and levels of data literacy. Consider who will be using the dashboard:\n",
        "\n",
        "#### C-level executives\n",
        "\n",
        "- Need: High-level overview of key performance indicators (KPIs)\n",
        "- Design consideration: Simple, clear visualizations focusing on the most critical metrics\n",
        "\n",
        "#### Management\n",
        "\n",
        "- Need: Detailed performance metrics for their specific area of responsibility\n",
        "- Design consideration: More in-depth dashboards with the ability to drill down into specific data points\n",
        "\n",
        "#### External vendors/stakeholders\n",
        "\n",
        "- Need: Relevant data that doesn't expose sensitive company information\n",
        "- Design consideration: Carefully curated dashboards that provide necessary insights while maintaining data security\n",
        "\n",
        "#### General public\n",
        "\n",
        "- Need: Easy-to-understand information without technical jargon\n",
        "- Design consideration: Simple, intuitive visualizations with clear explanations and context\n",
        "\n",
        "#### Technical Experts\n",
        "\n",
        "- Need: Detailed, granular data with the ability to perform advanced analysis\n",
        "- Design consideration: Complex dashboards with multiple interactive features and the ability to export raw data\n",
        "\n",
        "By carefully considering these factors, you can create dashboards that are not only visually appealing but also highly functional and valuable to their intended users."
      ],
      "metadata": {
        "id": "SoMKC2B5sKOX"
      }
    },
    {
      "cell_type": "markdown",
      "source": [
        "## Development process\n",
        "\n",
        "Creating an effective data dashboard is a multi-step process that requires careful planning, design, and execution. Each stage of the development process is crucial in ensuring that the final product meets the needs of its users and effectively communicates the intended data story. Let's walk through the typical development process, exploring each step in detail.\n",
        "\n",
        "### Mockup/wireframe\n",
        "\n",
        "The journey of dashboard creation begins with a blueprint. A **mockup** or **wireframe** serves as a visual draft of your dashboard, allowing you to plan its layout and functionality before diving into the actual development. This crucial step helps you organize your thoughts, experiment with different layouts, and get early feedback from stakeholders.\n",
        "\n",
        "### Layout/presentation\n",
        "\n",
        "Thelayout of your dashboard is like the foundation of a house - it needs to be solid and well-planned. A good layout ensures that information is presented clearly and logically, making it easy for users to find what they need. When designing your layout, consider the following aspects:\n",
        "\n",
        "- Place the most important information where it will be seen first (typically top-left for Western audiences), establishing a clear **information hierarchy**.\n",
        "- Keep related visualizations close to each other, effectively **grouping related items**.\n",
        "- Don't overcrowd the dashboard. Allow for some empty space to make it easier to read, utilizing **white space** effectively.\n",
        "- Use a **consistent style** throughout the dashboard to create a cohesive look and feel.\n",
        "\n",
        "### Flow/navigation\n",
        "\n",
        "Just as a well-designed building guides visitors naturally from one area to another, your dashboard should have an intuitive flow. This involves thinking about how users will interact with your dashboard and move between different sections or levels of information. Consider these points:\n",
        "\n",
        "- Make it obvious how to use the dashboard, focusing on **intuitive design**.\n",
        "- Arrange elements in a way that makes sense for the data story you're telling, creating a logical order.\n",
        "- Plan where users can click, filter, or drill down for more information, incorporating thoughtful interactivity.\n",
        "\n",
        "### Data story planning\n",
        "\n",
        "Every good dashboard tells a story with data. Before you start building, it's important to plan out what narrative your dashboard will convey. This involves thinking about:\n",
        "\n",
        "- The main message you want to communicate through your **narrative**.\n",
        "- How the different elements of your dashboard support this message.\n",
        "- What questions the user should be able to answer by using your dashboard.\n"
      ],
      "metadata": {
        "id": "VqJSDNiItTnX"
      }
    },
    {
      "cell_type": "markdown",
      "source": [
        "### WHen Approval is Granted...\n",
        "\n",
        "Once you've crafted your mockup, the next step is to get the green light from stakeholders. This approval process is more than just a formality - it's an opportunity to ensure that your design aligns with the needs and expectations of those who will be using or overseeing the dashboard.\n",
        "\n",
        "The approval process might involve presenting your mockup to:\n",
        "\n",
        "- The **end-users** of the dashboard, who can provide valuable insights into usability and relevance.\n",
        "- Your **manager or team lead**, who can assess how well the dashboard meets project goals.\n",
        "- **Clients** (if you're creating the dashboard for external use), who can confirm that it meets their specific requirements.\n",
        "\n",
        "Be prepared to explain your design choices and how the dashboard meets the defined requirements. This is also a great opportunity to gather additional feedback that can help refine your design before moving into the development phase."
      ],
      "metadata": {
        "id": "uYZ32gapt-dA"
      }
    },
    {
      "cell_type": "markdown",
      "source": [
        "## Develop dashboard\n",
        "\n",
        "With approval in hand, it's time to bring your dashboard to life. This stage is where your planning and design work starts to take tangible form. The development process typically involves several key steps:\n",
        "\n",
        "1. Start by cleaning and structuring your data for use in the dashboard. This **data preparation** phase is crucial for ensuring accurate and meaningful visualizations.\n",
        "\n",
        "2. Use tools like Plotly to create the charts and graphs you planned in your mockup. This **visualization creation** step is where your data starts to tell its story visually.\n",
        "\n",
        "3. Implement filters, drill-downs, and other interactive elements. This **interactivity addition** allows users to explore the data more deeply and find insights relevant to their specific needs.\n",
        "\n",
        "4. Apply your chosen color scheme and fonts to make the dashboard visually appealing. This **styling** phase helps ensure your dashboard is not just functional, but also aesthetically pleasing.\n",
        "\n",
        "5. Ensure all elements of the dashboard work as intended with real data. This **testing** phase is critical for catching and fixing any issues before the dashboard goes live.\n",
        "\n",
        "## Deploy to production\n",
        "\n",
        "The final step in the dashboard development process is deploying it to production. This is where your creation goes from a development environment to being accessible by its intended users. The deployment process involves several important steps to ensure a smooth transition:\n",
        "\n",
        "1. Move your dashboard to where it will be permanently hosted, whether that's a server, cloud platform, or another **production environment**.\n",
        "\n",
        "2. Make sure your dashboard can access all necessary data sources in its new home by **setting up data connections**.\n",
        "\n",
        "3. Have a group of end-users test the dashboard in its production environment to catch any last-minute issues. This **user testing** phase can reveal problems that weren't apparent in development.\n",
        "\n",
        "4. Create **user guides or help documentation** if needed, especially for complex dashboards or those introducing new concepts to users.\n",
        "\n",
        "5. Provide **training** to users to ensure they can make the most of the dashboard's features and understand how to interpret the data presented.\n",
        "\n",
        "6. Set up systems to **monitor** the dashboard's performance and usage. This can help you identify any issues quickly and understand how the dashboard is being used.\n",
        "\n",
        "Remember, dashboard development is often an iterative process. After deployment, you may receive feedback from users that leads to further refinements and improvements. Being open to this feedback and willing to make adjustments is key to creating a truly effective and user-friendly dashboard."
      ],
      "metadata": {
        "id": "z--pFTmQtwCJ"
      }
    },
    {
      "cell_type": "markdown",
      "source": [
        "# Introduction to Plotly and Plotly Express\n",
        "\n",
        "Now that we've explored the general concepts of data dashboards, their types, and the development process, let's dive into a powerful tool that will help us bring our dashboards to life: Plotly.\n",
        "\n",
        "## What is Plotly?\n",
        "\n",
        "**Plotly** is a data visualization library that allows you to create interactive, publication-quality graphs and charts. It's particularly well-suited for creating dashboards because of its wide range of chart types and its ability to create web-based, interactive visualizations.\n",
        "\n",
        "Plotly has several components:\n",
        "\n",
        "1. **Plotly.js** is the core JavaScript library that powers the visualizations.\n",
        "2. **Plotly.py** is the Python library that allows you to create Plotly visualizations in Python.\n",
        "3. **Plotly Express** is a high-level interface for Plotly.py that makes it easy to create common charts with just a few lines of code.\n",
        "4. **Dash** is a framework for building analytical web applications, powered by Plotly visualizations.\n",
        "\n",
        "For our Mad Men-style ad campaign dashboards, we'll primarily focus on **Plotly Express** and **Dash**.\n",
        "\n",
        "## Plotly Express: The Quick and Easy Way to Create Charts\n",
        "\n",
        "**Plotly Express** is designed to simplify the process of creating common charts. It's part of the `plotly` library and is typically imported as `px`. Here's the basic format for creating charts with Plotly Express:\n",
        "\n",
        "```python\n",
        "import plotly.express as px\n",
        "\n",
        "# Create a figure\n",
        "fig = px.chart_type(data_frame=your_dataframe, x='x_column', y='y_column', ...)\n",
        "\n",
        "# Show the figure\n",
        "fig.show()\n",
        "```\n",
        "\n",
        "Let's break this down:\n",
        "\n",
        "- `px.chart_type`: This is where you specify the type of chart you want to create (e.g., `px.line`, `px.bar`, `px.scatter`).\n",
        "- `data_frame`: This is your pandas DataFrame containing the data you want to visualize.\n",
        "- `x` and `y`: These specify which columns from your DataFrame to use for the x and y axes.\n",
        "- Additional parameters can be used to customize colors, labels, titles, and more.\n",
        "\n",
        "For example, let's create a simple line chart showing Crunch-O-Matic's sales over time:\n"
      ],
      "metadata": {
        "id": "Ox6HkK8OtwLy"
      }
    },
    {
      "cell_type": "code",
      "source": [
        "import plotly.express as px\n",
        "import pandas as pd\n",
        "\n",
        "# Sample data\n",
        "data = {\n",
        "    'Date': ['2023-01-01', '2023-02-01', '2023-03-01', '2023-04-01'],\n",
        "    'Sales': [1000, 1200, 900, 1500]\n",
        "}\n",
        "df = pd.DataFrame(data)\n",
        "\n",
        "# Create the line chart\n",
        "fig = px.line(df, x='Date', y='Sales', title='Crunch-O-Matic Sales Over Time')\n",
        "\n",
        "# Show the figure\n",
        "fig.show()"
      ],
      "metadata": {
        "id": "FOnhUQfTvuqQ",
        "outputId": "f3b7771c-2c0a-4192-d1d1-73347577d967",
        "colab": {
          "base_uri": "https://localhost:8080/",
          "height": 542
        }
      },
      "execution_count": 1,
      "outputs": [
        {
          "output_type": "display_data",
          "data": {
            "text/html": [
              "<html>\n",
              "<head><meta charset=\"utf-8\" /></head>\n",
              "<body>\n",
              "    <div>            <script src=\"https://cdnjs.cloudflare.com/ajax/libs/mathjax/2.7.5/MathJax.js?config=TeX-AMS-MML_SVG\"></script><script type=\"text/javascript\">if (window.MathJax && window.MathJax.Hub && window.MathJax.Hub.Config) {window.MathJax.Hub.Config({SVG: {font: \"STIX-Web\"}});}</script>                <script type=\"text/javascript\">window.PlotlyConfig = {MathJaxConfig: 'local'};</script>\n",
              "        <script charset=\"utf-8\" src=\"https://cdn.plot.ly/plotly-2.24.1.min.js\"></script>                <div id=\"8cfa2101-1e96-4c44-b17c-6116b62504f2\" class=\"plotly-graph-div\" style=\"height:525px; width:100%;\"></div>            <script type=\"text/javascript\">                                    window.PLOTLYENV=window.PLOTLYENV || {};                                    if (document.getElementById(\"8cfa2101-1e96-4c44-b17c-6116b62504f2\")) {                    Plotly.newPlot(                        \"8cfa2101-1e96-4c44-b17c-6116b62504f2\",                        [{\"hovertemplate\":\"Date=%{x}\\u003cbr\\u003eSales=%{y}\\u003cextra\\u003e\\u003c\\u002fextra\\u003e\",\"legendgroup\":\"\",\"line\":{\"color\":\"#636efa\",\"dash\":\"solid\"},\"marker\":{\"symbol\":\"circle\"},\"mode\":\"lines\",\"name\":\"\",\"orientation\":\"v\",\"showlegend\":false,\"x\":[\"2023-01-01\",\"2023-02-01\",\"2023-03-01\",\"2023-04-01\"],\"xaxis\":\"x\",\"y\":[1000,1200,900,1500],\"yaxis\":\"y\",\"type\":\"scatter\"}],                        {\"template\":{\"data\":{\"histogram2dcontour\":[{\"type\":\"histogram2dcontour\",\"colorbar\":{\"outlinewidth\":0,\"ticks\":\"\"},\"colorscale\":[[0.0,\"#0d0887\"],[0.1111111111111111,\"#46039f\"],[0.2222222222222222,\"#7201a8\"],[0.3333333333333333,\"#9c179e\"],[0.4444444444444444,\"#bd3786\"],[0.5555555555555556,\"#d8576b\"],[0.6666666666666666,\"#ed7953\"],[0.7777777777777778,\"#fb9f3a\"],[0.8888888888888888,\"#fdca26\"],[1.0,\"#f0f921\"]]}],\"choropleth\":[{\"type\":\"choropleth\",\"colorbar\":{\"outlinewidth\":0,\"ticks\":\"\"}}],\"histogram2d\":[{\"type\":\"histogram2d\",\"colorbar\":{\"outlinewidth\":0,\"ticks\":\"\"},\"colorscale\":[[0.0,\"#0d0887\"],[0.1111111111111111,\"#46039f\"],[0.2222222222222222,\"#7201a8\"],[0.3333333333333333,\"#9c179e\"],[0.4444444444444444,\"#bd3786\"],[0.5555555555555556,\"#d8576b\"],[0.6666666666666666,\"#ed7953\"],[0.7777777777777778,\"#fb9f3a\"],[0.8888888888888888,\"#fdca26\"],[1.0,\"#f0f921\"]]}],\"heatmap\":[{\"type\":\"heatmap\",\"colorbar\":{\"outlinewidth\":0,\"ticks\":\"\"},\"colorscale\":[[0.0,\"#0d0887\"],[0.1111111111111111,\"#46039f\"],[0.2222222222222222,\"#7201a8\"],[0.3333333333333333,\"#9c179e\"],[0.4444444444444444,\"#bd3786\"],[0.5555555555555556,\"#d8576b\"],[0.6666666666666666,\"#ed7953\"],[0.7777777777777778,\"#fb9f3a\"],[0.8888888888888888,\"#fdca26\"],[1.0,\"#f0f921\"]]}],\"heatmapgl\":[{\"type\":\"heatmapgl\",\"colorbar\":{\"outlinewidth\":0,\"ticks\":\"\"},\"colorscale\":[[0.0,\"#0d0887\"],[0.1111111111111111,\"#46039f\"],[0.2222222222222222,\"#7201a8\"],[0.3333333333333333,\"#9c179e\"],[0.4444444444444444,\"#bd3786\"],[0.5555555555555556,\"#d8576b\"],[0.6666666666666666,\"#ed7953\"],[0.7777777777777778,\"#fb9f3a\"],[0.8888888888888888,\"#fdca26\"],[1.0,\"#f0f921\"]]}],\"contourcarpet\":[{\"type\":\"contourcarpet\",\"colorbar\":{\"outlinewidth\":0,\"ticks\":\"\"}}],\"contour\":[{\"type\":\"contour\",\"colorbar\":{\"outlinewidth\":0,\"ticks\":\"\"},\"colorscale\":[[0.0,\"#0d0887\"],[0.1111111111111111,\"#46039f\"],[0.2222222222222222,\"#7201a8\"],[0.3333333333333333,\"#9c179e\"],[0.4444444444444444,\"#bd3786\"],[0.5555555555555556,\"#d8576b\"],[0.6666666666666666,\"#ed7953\"],[0.7777777777777778,\"#fb9f3a\"],[0.8888888888888888,\"#fdca26\"],[1.0,\"#f0f921\"]]}],\"surface\":[{\"type\":\"surface\",\"colorbar\":{\"outlinewidth\":0,\"ticks\":\"\"},\"colorscale\":[[0.0,\"#0d0887\"],[0.1111111111111111,\"#46039f\"],[0.2222222222222222,\"#7201a8\"],[0.3333333333333333,\"#9c179e\"],[0.4444444444444444,\"#bd3786\"],[0.5555555555555556,\"#d8576b\"],[0.6666666666666666,\"#ed7953\"],[0.7777777777777778,\"#fb9f3a\"],[0.8888888888888888,\"#fdca26\"],[1.0,\"#f0f921\"]]}],\"mesh3d\":[{\"type\":\"mesh3d\",\"colorbar\":{\"outlinewidth\":0,\"ticks\":\"\"}}],\"scatter\":[{\"fillpattern\":{\"fillmode\":\"overlay\",\"size\":10,\"solidity\":0.2},\"type\":\"scatter\"}],\"parcoords\":[{\"type\":\"parcoords\",\"line\":{\"colorbar\":{\"outlinewidth\":0,\"ticks\":\"\"}}}],\"scatterpolargl\":[{\"type\":\"scatterpolargl\",\"marker\":{\"colorbar\":{\"outlinewidth\":0,\"ticks\":\"\"}}}],\"bar\":[{\"error_x\":{\"color\":\"#2a3f5f\"},\"error_y\":{\"color\":\"#2a3f5f\"},\"marker\":{\"line\":{\"color\":\"#E5ECF6\",\"width\":0.5},\"pattern\":{\"fillmode\":\"overlay\",\"size\":10,\"solidity\":0.2}},\"type\":\"bar\"}],\"scattergeo\":[{\"type\":\"scattergeo\",\"marker\":{\"colorbar\":{\"outlinewidth\":0,\"ticks\":\"\"}}}],\"scatterpolar\":[{\"type\":\"scatterpolar\",\"marker\":{\"colorbar\":{\"outlinewidth\":0,\"ticks\":\"\"}}}],\"histogram\":[{\"marker\":{\"pattern\":{\"fillmode\":\"overlay\",\"size\":10,\"solidity\":0.2}},\"type\":\"histogram\"}],\"scattergl\":[{\"type\":\"scattergl\",\"marker\":{\"colorbar\":{\"outlinewidth\":0,\"ticks\":\"\"}}}],\"scatter3d\":[{\"type\":\"scatter3d\",\"line\":{\"colorbar\":{\"outlinewidth\":0,\"ticks\":\"\"}},\"marker\":{\"colorbar\":{\"outlinewidth\":0,\"ticks\":\"\"}}}],\"scattermapbox\":[{\"type\":\"scattermapbox\",\"marker\":{\"colorbar\":{\"outlinewidth\":0,\"ticks\":\"\"}}}],\"scatterternary\":[{\"type\":\"scatterternary\",\"marker\":{\"colorbar\":{\"outlinewidth\":0,\"ticks\":\"\"}}}],\"scattercarpet\":[{\"type\":\"scattercarpet\",\"marker\":{\"colorbar\":{\"outlinewidth\":0,\"ticks\":\"\"}}}],\"carpet\":[{\"aaxis\":{\"endlinecolor\":\"#2a3f5f\",\"gridcolor\":\"white\",\"linecolor\":\"white\",\"minorgridcolor\":\"white\",\"startlinecolor\":\"#2a3f5f\"},\"baxis\":{\"endlinecolor\":\"#2a3f5f\",\"gridcolor\":\"white\",\"linecolor\":\"white\",\"minorgridcolor\":\"white\",\"startlinecolor\":\"#2a3f5f\"},\"type\":\"carpet\"}],\"table\":[{\"cells\":{\"fill\":{\"color\":\"#EBF0F8\"},\"line\":{\"color\":\"white\"}},\"header\":{\"fill\":{\"color\":\"#C8D4E3\"},\"line\":{\"color\":\"white\"}},\"type\":\"table\"}],\"barpolar\":[{\"marker\":{\"line\":{\"color\":\"#E5ECF6\",\"width\":0.5},\"pattern\":{\"fillmode\":\"overlay\",\"size\":10,\"solidity\":0.2}},\"type\":\"barpolar\"}],\"pie\":[{\"automargin\":true,\"type\":\"pie\"}]},\"layout\":{\"autotypenumbers\":\"strict\",\"colorway\":[\"#636efa\",\"#EF553B\",\"#00cc96\",\"#ab63fa\",\"#FFA15A\",\"#19d3f3\",\"#FF6692\",\"#B6E880\",\"#FF97FF\",\"#FECB52\"],\"font\":{\"color\":\"#2a3f5f\"},\"hovermode\":\"closest\",\"hoverlabel\":{\"align\":\"left\"},\"paper_bgcolor\":\"white\",\"plot_bgcolor\":\"#E5ECF6\",\"polar\":{\"bgcolor\":\"#E5ECF6\",\"angularaxis\":{\"gridcolor\":\"white\",\"linecolor\":\"white\",\"ticks\":\"\"},\"radialaxis\":{\"gridcolor\":\"white\",\"linecolor\":\"white\",\"ticks\":\"\"}},\"ternary\":{\"bgcolor\":\"#E5ECF6\",\"aaxis\":{\"gridcolor\":\"white\",\"linecolor\":\"white\",\"ticks\":\"\"},\"baxis\":{\"gridcolor\":\"white\",\"linecolor\":\"white\",\"ticks\":\"\"},\"caxis\":{\"gridcolor\":\"white\",\"linecolor\":\"white\",\"ticks\":\"\"}},\"coloraxis\":{\"colorbar\":{\"outlinewidth\":0,\"ticks\":\"\"}},\"colorscale\":{\"sequential\":[[0.0,\"#0d0887\"],[0.1111111111111111,\"#46039f\"],[0.2222222222222222,\"#7201a8\"],[0.3333333333333333,\"#9c179e\"],[0.4444444444444444,\"#bd3786\"],[0.5555555555555556,\"#d8576b\"],[0.6666666666666666,\"#ed7953\"],[0.7777777777777778,\"#fb9f3a\"],[0.8888888888888888,\"#fdca26\"],[1.0,\"#f0f921\"]],\"sequentialminus\":[[0.0,\"#0d0887\"],[0.1111111111111111,\"#46039f\"],[0.2222222222222222,\"#7201a8\"],[0.3333333333333333,\"#9c179e\"],[0.4444444444444444,\"#bd3786\"],[0.5555555555555556,\"#d8576b\"],[0.6666666666666666,\"#ed7953\"],[0.7777777777777778,\"#fb9f3a\"],[0.8888888888888888,\"#fdca26\"],[1.0,\"#f0f921\"]],\"diverging\":[[0,\"#8e0152\"],[0.1,\"#c51b7d\"],[0.2,\"#de77ae\"],[0.3,\"#f1b6da\"],[0.4,\"#fde0ef\"],[0.5,\"#f7f7f7\"],[0.6,\"#e6f5d0\"],[0.7,\"#b8e186\"],[0.8,\"#7fbc41\"],[0.9,\"#4d9221\"],[1,\"#276419\"]]},\"xaxis\":{\"gridcolor\":\"white\",\"linecolor\":\"white\",\"ticks\":\"\",\"title\":{\"standoff\":15},\"zerolinecolor\":\"white\",\"automargin\":true,\"zerolinewidth\":2},\"yaxis\":{\"gridcolor\":\"white\",\"linecolor\":\"white\",\"ticks\":\"\",\"title\":{\"standoff\":15},\"zerolinecolor\":\"white\",\"automargin\":true,\"zerolinewidth\":2},\"scene\":{\"xaxis\":{\"backgroundcolor\":\"#E5ECF6\",\"gridcolor\":\"white\",\"linecolor\":\"white\",\"showbackground\":true,\"ticks\":\"\",\"zerolinecolor\":\"white\",\"gridwidth\":2},\"yaxis\":{\"backgroundcolor\":\"#E5ECF6\",\"gridcolor\":\"white\",\"linecolor\":\"white\",\"showbackground\":true,\"ticks\":\"\",\"zerolinecolor\":\"white\",\"gridwidth\":2},\"zaxis\":{\"backgroundcolor\":\"#E5ECF6\",\"gridcolor\":\"white\",\"linecolor\":\"white\",\"showbackground\":true,\"ticks\":\"\",\"zerolinecolor\":\"white\",\"gridwidth\":2}},\"shapedefaults\":{\"line\":{\"color\":\"#2a3f5f\"}},\"annotationdefaults\":{\"arrowcolor\":\"#2a3f5f\",\"arrowhead\":0,\"arrowwidth\":1},\"geo\":{\"bgcolor\":\"white\",\"landcolor\":\"#E5ECF6\",\"subunitcolor\":\"white\",\"showland\":true,\"showlakes\":true,\"lakecolor\":\"white\"},\"title\":{\"x\":0.05},\"mapbox\":{\"style\":\"light\"}}},\"xaxis\":{\"anchor\":\"y\",\"domain\":[0.0,1.0],\"title\":{\"text\":\"Date\"}},\"yaxis\":{\"anchor\":\"x\",\"domain\":[0.0,1.0],\"title\":{\"text\":\"Sales\"}},\"legend\":{\"tracegroupgap\":0},\"title\":{\"text\":\"Crunch-O-Matic Sales Over Time\"}},                        {\"responsive\": true}                    ).then(function(){\n",
              "                            \n",
              "var gd = document.getElementById('8cfa2101-1e96-4c44-b17c-6116b62504f2');\n",
              "var x = new MutationObserver(function (mutations, observer) {{\n",
              "        var display = window.getComputedStyle(gd).display;\n",
              "        if (!display || display === 'none') {{\n",
              "            console.log([gd, 'removed!']);\n",
              "            Plotly.purge(gd);\n",
              "            observer.disconnect();\n",
              "        }}\n",
              "}});\n",
              "\n",
              "// Listen for the removal of the full notebook cells\n",
              "var notebookContainer = gd.closest('#notebook-container');\n",
              "if (notebookContainer) {{\n",
              "    x.observe(notebookContainer, {childList: true});\n",
              "}}\n",
              "\n",
              "// Listen for the clearing of the current output cell\n",
              "var outputEl = gd.closest('.output');\n",
              "if (outputEl) {{\n",
              "    x.observe(outputEl, {childList: true});\n",
              "}}\n",
              "\n",
              "                        })                };                            </script>        </div>\n",
              "</body>\n",
              "</html>"
            ]
          },
          "metadata": {}
        }
      ]
    },
    {
      "cell_type": "markdown",
      "source": [
        "\n",
        "This code will create an interactive line chart showing how Crunch-O-Matic's sales have changed over the first four months of 2023.\n",
        "\n",
        "As we move forward, we'll explore how to create various types of charts using Plotly Express, and how to combine these charts into interactive dashboards using Dash. This will allow us to create powerful, data-driven visualizations for our Mad Men-style ad campaigns, helping us make informed decisions about our fictional products like Crunch-O-Matic."
      ],
      "metadata": {
        "id": "yhgrBdLZvsij"
      }
    },
    {
      "cell_type": "markdown",
      "source": [
        "## Line Chart\n",
        "\n",
        "A line chart is one of the most common and versatile chart types. It's primarily used to display data that changes over time, making it perfect for showing trends, patterns, and fluctuations in your data.\n",
        "\n",
        "In a line chart, data points are plotted on a coordinate system and connected with straight line segments. The x-axis typically represents time intervals (like days, months, or years), while the y-axis represents the measured value. This makes it easy to see how a particular metric changes over time.\n",
        "\n",
        "When interpreting a line chart, pay attention to:\n",
        "- The overall trend: Is the line generally going up, down, or staying flat?\n",
        "- Peaks and valleys: Are there any notable high or low points?\n",
        "- Rate of change: How steep are the increases or decreases?\n",
        "- Cyclical patterns: Do you see any repeating patterns over time?\n",
        "\n",
        "For our Crunch-O-Matic campaign, we might use a line chart to track sales over time. This could help us identify seasonal trends, measure the impact of advertising campaigns, or forecast future sales.\n",
        "\n",
        "Let's create a line chart using Plotly Express:\n"
      ],
      "metadata": {
        "id": "cOapVURswzQJ"
      }
    },
    {
      "cell_type": "code",
      "source": [
        "import plotly.express as px\n",
        "import pandas as pd\n",
        "\n",
        "# Sample data\n",
        "data = {\n",
        "    'Date': ['2023-01-01', '2023-02-01', '2023-03-01', '2023-04-01', '2023-05-01', '2023-06-01'],\n",
        "    'Sales': [1000, 1200, 900, 1500, 1800, 1600]\n",
        "}\n",
        "df = pd.DataFrame(data)\n",
        "df['Date'] = pd.to_datetime(df['Date'])  # Convert to datetime\n",
        "\n",
        "# Create the line chart\n",
        "fig = px.line(df, x='Date', y='Sales', title='Crunch-O-Matic Monthly Sales')\n",
        "fig.update_xaxes(title='Month')\n",
        "fig.update_yaxes(title='Sales ($)')\n",
        "\n",
        "fig.show()"
      ],
      "metadata": {
        "id": "KzHH7njzw0Cd",
        "outputId": "9e787ec3-9aad-4fc1-c48b-279ff77eab0f",
        "colab": {
          "base_uri": "https://localhost:8080/",
          "height": 635
        }
      },
      "execution_count": 2,
      "outputs": [
        {
          "output_type": "stream",
          "name": "stderr",
          "text": [
            "/usr/local/lib/python3.10/dist-packages/_plotly_utils/basevalidators.py:105: FutureWarning:\n",
            "\n",
            "The behavior of DatetimeProperties.to_pydatetime is deprecated, in a future version this will return a Series containing python datetime objects instead of an ndarray. To retain the old behavior, call `np.array` on the result\n",
            "\n"
          ]
        },
        {
          "output_type": "display_data",
          "data": {
            "text/html": [
              "<html>\n",
              "<head><meta charset=\"utf-8\" /></head>\n",
              "<body>\n",
              "    <div>            <script src=\"https://cdnjs.cloudflare.com/ajax/libs/mathjax/2.7.5/MathJax.js?config=TeX-AMS-MML_SVG\"></script><script type=\"text/javascript\">if (window.MathJax && window.MathJax.Hub && window.MathJax.Hub.Config) {window.MathJax.Hub.Config({SVG: {font: \"STIX-Web\"}});}</script>                <script type=\"text/javascript\">window.PlotlyConfig = {MathJaxConfig: 'local'};</script>\n",
              "        <script charset=\"utf-8\" src=\"https://cdn.plot.ly/plotly-2.24.1.min.js\"></script>                <div id=\"2ce999e8-6ec4-492b-9f7f-785a84ff822f\" class=\"plotly-graph-div\" style=\"height:525px; width:100%;\"></div>            <script type=\"text/javascript\">                                    window.PLOTLYENV=window.PLOTLYENV || {};                                    if (document.getElementById(\"2ce999e8-6ec4-492b-9f7f-785a84ff822f\")) {                    Plotly.newPlot(                        \"2ce999e8-6ec4-492b-9f7f-785a84ff822f\",                        [{\"hovertemplate\":\"Date=%{x}\\u003cbr\\u003eSales=%{y}\\u003cextra\\u003e\\u003c\\u002fextra\\u003e\",\"legendgroup\":\"\",\"line\":{\"color\":\"#636efa\",\"dash\":\"solid\"},\"marker\":{\"symbol\":\"circle\"},\"mode\":\"lines\",\"name\":\"\",\"orientation\":\"v\",\"showlegend\":false,\"x\":[\"2023-01-01T00:00:00\",\"2023-02-01T00:00:00\",\"2023-03-01T00:00:00\",\"2023-04-01T00:00:00\",\"2023-05-01T00:00:00\",\"2023-06-01T00:00:00\"],\"xaxis\":\"x\",\"y\":[1000,1200,900,1500,1800,1600],\"yaxis\":\"y\",\"type\":\"scatter\"}],                        {\"template\":{\"data\":{\"histogram2dcontour\":[{\"type\":\"histogram2dcontour\",\"colorbar\":{\"outlinewidth\":0,\"ticks\":\"\"},\"colorscale\":[[0.0,\"#0d0887\"],[0.1111111111111111,\"#46039f\"],[0.2222222222222222,\"#7201a8\"],[0.3333333333333333,\"#9c179e\"],[0.4444444444444444,\"#bd3786\"],[0.5555555555555556,\"#d8576b\"],[0.6666666666666666,\"#ed7953\"],[0.7777777777777778,\"#fb9f3a\"],[0.8888888888888888,\"#fdca26\"],[1.0,\"#f0f921\"]]}],\"choropleth\":[{\"type\":\"choropleth\",\"colorbar\":{\"outlinewidth\":0,\"ticks\":\"\"}}],\"histogram2d\":[{\"type\":\"histogram2d\",\"colorbar\":{\"outlinewidth\":0,\"ticks\":\"\"},\"colorscale\":[[0.0,\"#0d0887\"],[0.1111111111111111,\"#46039f\"],[0.2222222222222222,\"#7201a8\"],[0.3333333333333333,\"#9c179e\"],[0.4444444444444444,\"#bd3786\"],[0.5555555555555556,\"#d8576b\"],[0.6666666666666666,\"#ed7953\"],[0.7777777777777778,\"#fb9f3a\"],[0.8888888888888888,\"#fdca26\"],[1.0,\"#f0f921\"]]}],\"heatmap\":[{\"type\":\"heatmap\",\"colorbar\":{\"outlinewidth\":0,\"ticks\":\"\"},\"colorscale\":[[0.0,\"#0d0887\"],[0.1111111111111111,\"#46039f\"],[0.2222222222222222,\"#7201a8\"],[0.3333333333333333,\"#9c179e\"],[0.4444444444444444,\"#bd3786\"],[0.5555555555555556,\"#d8576b\"],[0.6666666666666666,\"#ed7953\"],[0.7777777777777778,\"#fb9f3a\"],[0.8888888888888888,\"#fdca26\"],[1.0,\"#f0f921\"]]}],\"heatmapgl\":[{\"type\":\"heatmapgl\",\"colorbar\":{\"outlinewidth\":0,\"ticks\":\"\"},\"colorscale\":[[0.0,\"#0d0887\"],[0.1111111111111111,\"#46039f\"],[0.2222222222222222,\"#7201a8\"],[0.3333333333333333,\"#9c179e\"],[0.4444444444444444,\"#bd3786\"],[0.5555555555555556,\"#d8576b\"],[0.6666666666666666,\"#ed7953\"],[0.7777777777777778,\"#fb9f3a\"],[0.8888888888888888,\"#fdca26\"],[1.0,\"#f0f921\"]]}],\"contourcarpet\":[{\"type\":\"contourcarpet\",\"colorbar\":{\"outlinewidth\":0,\"ticks\":\"\"}}],\"contour\":[{\"type\":\"contour\",\"colorbar\":{\"outlinewidth\":0,\"ticks\":\"\"},\"colorscale\":[[0.0,\"#0d0887\"],[0.1111111111111111,\"#46039f\"],[0.2222222222222222,\"#7201a8\"],[0.3333333333333333,\"#9c179e\"],[0.4444444444444444,\"#bd3786\"],[0.5555555555555556,\"#d8576b\"],[0.6666666666666666,\"#ed7953\"],[0.7777777777777778,\"#fb9f3a\"],[0.8888888888888888,\"#fdca26\"],[1.0,\"#f0f921\"]]}],\"surface\":[{\"type\":\"surface\",\"colorbar\":{\"outlinewidth\":0,\"ticks\":\"\"},\"colorscale\":[[0.0,\"#0d0887\"],[0.1111111111111111,\"#46039f\"],[0.2222222222222222,\"#7201a8\"],[0.3333333333333333,\"#9c179e\"],[0.4444444444444444,\"#bd3786\"],[0.5555555555555556,\"#d8576b\"],[0.6666666666666666,\"#ed7953\"],[0.7777777777777778,\"#fb9f3a\"],[0.8888888888888888,\"#fdca26\"],[1.0,\"#f0f921\"]]}],\"mesh3d\":[{\"type\":\"mesh3d\",\"colorbar\":{\"outlinewidth\":0,\"ticks\":\"\"}}],\"scatter\":[{\"fillpattern\":{\"fillmode\":\"overlay\",\"size\":10,\"solidity\":0.2},\"type\":\"scatter\"}],\"parcoords\":[{\"type\":\"parcoords\",\"line\":{\"colorbar\":{\"outlinewidth\":0,\"ticks\":\"\"}}}],\"scatterpolargl\":[{\"type\":\"scatterpolargl\",\"marker\":{\"colorbar\":{\"outlinewidth\":0,\"ticks\":\"\"}}}],\"bar\":[{\"error_x\":{\"color\":\"#2a3f5f\"},\"error_y\":{\"color\":\"#2a3f5f\"},\"marker\":{\"line\":{\"color\":\"#E5ECF6\",\"width\":0.5},\"pattern\":{\"fillmode\":\"overlay\",\"size\":10,\"solidity\":0.2}},\"type\":\"bar\"}],\"scattergeo\":[{\"type\":\"scattergeo\",\"marker\":{\"colorbar\":{\"outlinewidth\":0,\"ticks\":\"\"}}}],\"scatterpolar\":[{\"type\":\"scatterpolar\",\"marker\":{\"colorbar\":{\"outlinewidth\":0,\"ticks\":\"\"}}}],\"histogram\":[{\"marker\":{\"pattern\":{\"fillmode\":\"overlay\",\"size\":10,\"solidity\":0.2}},\"type\":\"histogram\"}],\"scattergl\":[{\"type\":\"scattergl\",\"marker\":{\"colorbar\":{\"outlinewidth\":0,\"ticks\":\"\"}}}],\"scatter3d\":[{\"type\":\"scatter3d\",\"line\":{\"colorbar\":{\"outlinewidth\":0,\"ticks\":\"\"}},\"marker\":{\"colorbar\":{\"outlinewidth\":0,\"ticks\":\"\"}}}],\"scattermapbox\":[{\"type\":\"scattermapbox\",\"marker\":{\"colorbar\":{\"outlinewidth\":0,\"ticks\":\"\"}}}],\"scatterternary\":[{\"type\":\"scatterternary\",\"marker\":{\"colorbar\":{\"outlinewidth\":0,\"ticks\":\"\"}}}],\"scattercarpet\":[{\"type\":\"scattercarpet\",\"marker\":{\"colorbar\":{\"outlinewidth\":0,\"ticks\":\"\"}}}],\"carpet\":[{\"aaxis\":{\"endlinecolor\":\"#2a3f5f\",\"gridcolor\":\"white\",\"linecolor\":\"white\",\"minorgridcolor\":\"white\",\"startlinecolor\":\"#2a3f5f\"},\"baxis\":{\"endlinecolor\":\"#2a3f5f\",\"gridcolor\":\"white\",\"linecolor\":\"white\",\"minorgridcolor\":\"white\",\"startlinecolor\":\"#2a3f5f\"},\"type\":\"carpet\"}],\"table\":[{\"cells\":{\"fill\":{\"color\":\"#EBF0F8\"},\"line\":{\"color\":\"white\"}},\"header\":{\"fill\":{\"color\":\"#C8D4E3\"},\"line\":{\"color\":\"white\"}},\"type\":\"table\"}],\"barpolar\":[{\"marker\":{\"line\":{\"color\":\"#E5ECF6\",\"width\":0.5},\"pattern\":{\"fillmode\":\"overlay\",\"size\":10,\"solidity\":0.2}},\"type\":\"barpolar\"}],\"pie\":[{\"automargin\":true,\"type\":\"pie\"}]},\"layout\":{\"autotypenumbers\":\"strict\",\"colorway\":[\"#636efa\",\"#EF553B\",\"#00cc96\",\"#ab63fa\",\"#FFA15A\",\"#19d3f3\",\"#FF6692\",\"#B6E880\",\"#FF97FF\",\"#FECB52\"],\"font\":{\"color\":\"#2a3f5f\"},\"hovermode\":\"closest\",\"hoverlabel\":{\"align\":\"left\"},\"paper_bgcolor\":\"white\",\"plot_bgcolor\":\"#E5ECF6\",\"polar\":{\"bgcolor\":\"#E5ECF6\",\"angularaxis\":{\"gridcolor\":\"white\",\"linecolor\":\"white\",\"ticks\":\"\"},\"radialaxis\":{\"gridcolor\":\"white\",\"linecolor\":\"white\",\"ticks\":\"\"}},\"ternary\":{\"bgcolor\":\"#E5ECF6\",\"aaxis\":{\"gridcolor\":\"white\",\"linecolor\":\"white\",\"ticks\":\"\"},\"baxis\":{\"gridcolor\":\"white\",\"linecolor\":\"white\",\"ticks\":\"\"},\"caxis\":{\"gridcolor\":\"white\",\"linecolor\":\"white\",\"ticks\":\"\"}},\"coloraxis\":{\"colorbar\":{\"outlinewidth\":0,\"ticks\":\"\"}},\"colorscale\":{\"sequential\":[[0.0,\"#0d0887\"],[0.1111111111111111,\"#46039f\"],[0.2222222222222222,\"#7201a8\"],[0.3333333333333333,\"#9c179e\"],[0.4444444444444444,\"#bd3786\"],[0.5555555555555556,\"#d8576b\"],[0.6666666666666666,\"#ed7953\"],[0.7777777777777778,\"#fb9f3a\"],[0.8888888888888888,\"#fdca26\"],[1.0,\"#f0f921\"]],\"sequentialminus\":[[0.0,\"#0d0887\"],[0.1111111111111111,\"#46039f\"],[0.2222222222222222,\"#7201a8\"],[0.3333333333333333,\"#9c179e\"],[0.4444444444444444,\"#bd3786\"],[0.5555555555555556,\"#d8576b\"],[0.6666666666666666,\"#ed7953\"],[0.7777777777777778,\"#fb9f3a\"],[0.8888888888888888,\"#fdca26\"],[1.0,\"#f0f921\"]],\"diverging\":[[0,\"#8e0152\"],[0.1,\"#c51b7d\"],[0.2,\"#de77ae\"],[0.3,\"#f1b6da\"],[0.4,\"#fde0ef\"],[0.5,\"#f7f7f7\"],[0.6,\"#e6f5d0\"],[0.7,\"#b8e186\"],[0.8,\"#7fbc41\"],[0.9,\"#4d9221\"],[1,\"#276419\"]]},\"xaxis\":{\"gridcolor\":\"white\",\"linecolor\":\"white\",\"ticks\":\"\",\"title\":{\"standoff\":15},\"zerolinecolor\":\"white\",\"automargin\":true,\"zerolinewidth\":2},\"yaxis\":{\"gridcolor\":\"white\",\"linecolor\":\"white\",\"ticks\":\"\",\"title\":{\"standoff\":15},\"zerolinecolor\":\"white\",\"automargin\":true,\"zerolinewidth\":2},\"scene\":{\"xaxis\":{\"backgroundcolor\":\"#E5ECF6\",\"gridcolor\":\"white\",\"linecolor\":\"white\",\"showbackground\":true,\"ticks\":\"\",\"zerolinecolor\":\"white\",\"gridwidth\":2},\"yaxis\":{\"backgroundcolor\":\"#E5ECF6\",\"gridcolor\":\"white\",\"linecolor\":\"white\",\"showbackground\":true,\"ticks\":\"\",\"zerolinecolor\":\"white\",\"gridwidth\":2},\"zaxis\":{\"backgroundcolor\":\"#E5ECF6\",\"gridcolor\":\"white\",\"linecolor\":\"white\",\"showbackground\":true,\"ticks\":\"\",\"zerolinecolor\":\"white\",\"gridwidth\":2}},\"shapedefaults\":{\"line\":{\"color\":\"#2a3f5f\"}},\"annotationdefaults\":{\"arrowcolor\":\"#2a3f5f\",\"arrowhead\":0,\"arrowwidth\":1},\"geo\":{\"bgcolor\":\"white\",\"landcolor\":\"#E5ECF6\",\"subunitcolor\":\"white\",\"showland\":true,\"showlakes\":true,\"lakecolor\":\"white\"},\"title\":{\"x\":0.05},\"mapbox\":{\"style\":\"light\"}}},\"xaxis\":{\"anchor\":\"y\",\"domain\":[0.0,1.0],\"title\":{\"text\":\"Month\"}},\"yaxis\":{\"anchor\":\"x\",\"domain\":[0.0,1.0],\"title\":{\"text\":\"Sales ($)\"}},\"legend\":{\"tracegroupgap\":0},\"title\":{\"text\":\"Crunch-O-Matic Monthly Sales\"}},                        {\"responsive\": true}                    ).then(function(){\n",
              "                            \n",
              "var gd = document.getElementById('2ce999e8-6ec4-492b-9f7f-785a84ff822f');\n",
              "var x = new MutationObserver(function (mutations, observer) {{\n",
              "        var display = window.getComputedStyle(gd).display;\n",
              "        if (!display || display === 'none') {{\n",
              "            console.log([gd, 'removed!']);\n",
              "            Plotly.purge(gd);\n",
              "            observer.disconnect();\n",
              "        }}\n",
              "}});\n",
              "\n",
              "// Listen for the removal of the full notebook cells\n",
              "var notebookContainer = gd.closest('#notebook-container');\n",
              "if (notebookContainer) {{\n",
              "    x.observe(notebookContainer, {childList: true});\n",
              "}}\n",
              "\n",
              "// Listen for the clearing of the current output cell\n",
              "var outputEl = gd.closest('.output');\n",
              "if (outputEl) {{\n",
              "    x.observe(outputEl, {childList: true});\n",
              "}}\n",
              "\n",
              "                        })                };                            </script>        </div>\n",
              "</body>\n",
              "</html>"
            ]
          },
          "metadata": {}
        }
      ]
    },
    {
      "cell_type": "markdown",
      "source": [
        "This chart clearly shows how Crunch-O-Matic sales have fluctuated over the first half of 2023. We can see a dip in March, followed by a strong recovery and peak in May."
      ],
      "metadata": {
        "id": "Hk9jKKyFw9re"
      }
    },
    {
      "cell_type": "markdown",
      "source": [
        "## Pie Chart\n",
        "\n",
        "A pie chart is a circular graph that represents data as slices of a pie. Each slice's size is proportional to the quantity it represents. Pie charts are best used when you want to show the composition of something or the relative proportions of different categories within a whole.\n",
        "\n",
        "When interpreting a pie chart:\n",
        "- Look at the relative sizes of the slices. Larger slices represent a greater proportion of the whole.\n",
        "- Pay attention to how many slices there are. Too many slices can make a pie chart hard to read.\n",
        "- Remember that all slices should add up to 100% of the whole.\n",
        "\n",
        "Pie charts are great for showing market share, budget allocations, or survey results. In our Crunch-O-Matic campaign, we might use a pie chart to show the distribution of sales across different flavors.\n",
        "\n",
        "Here's how we can create a pie chart with Plotly Express:"
      ],
      "metadata": {
        "id": "O58w7292w_s0"
      }
    },
    {
      "cell_type": "code",
      "source": [
        "import plotly.express as px\n",
        "import pandas as pd\n",
        "\n",
        "# Sample data\n",
        "data = {\n",
        "    'Flavor': ['Original', 'Spicy', 'Cheesy', 'BBQ'],\n",
        "    'Sales': [5000, 3000, 2000, 1000]\n",
        "}\n",
        "df = pd.DataFrame(data)\n",
        "\n",
        "# Create the pie chart\n",
        "fig = px.pie(df, values='Sales', names='Flavor', title='Crunch-O-Matic Sales by Flavor')\n",
        "\n",
        "fig.show()"
      ],
      "metadata": {
        "id": "ry9IzBrLxF0g",
        "outputId": "9c024152-d07d-4a41-f20d-8d0c2d6c8da2",
        "colab": {
          "base_uri": "https://localhost:8080/",
          "height": 542
        }
      },
      "execution_count": 4,
      "outputs": [
        {
          "output_type": "display_data",
          "data": {
            "text/html": [
              "<html>\n",
              "<head><meta charset=\"utf-8\" /></head>\n",
              "<body>\n",
              "    <div>            <script src=\"https://cdnjs.cloudflare.com/ajax/libs/mathjax/2.7.5/MathJax.js?config=TeX-AMS-MML_SVG\"></script><script type=\"text/javascript\">if (window.MathJax && window.MathJax.Hub && window.MathJax.Hub.Config) {window.MathJax.Hub.Config({SVG: {font: \"STIX-Web\"}});}</script>                <script type=\"text/javascript\">window.PlotlyConfig = {MathJaxConfig: 'local'};</script>\n",
              "        <script charset=\"utf-8\" src=\"https://cdn.plot.ly/plotly-2.24.1.min.js\"></script>                <div id=\"a2a82862-267c-4ba9-b9d3-20bb67f6e7c0\" class=\"plotly-graph-div\" style=\"height:525px; width:100%;\"></div>            <script type=\"text/javascript\">                                    window.PLOTLYENV=window.PLOTLYENV || {};                                    if (document.getElementById(\"a2a82862-267c-4ba9-b9d3-20bb67f6e7c0\")) {                    Plotly.newPlot(                        \"a2a82862-267c-4ba9-b9d3-20bb67f6e7c0\",                        [{\"domain\":{\"x\":[0.0,1.0],\"y\":[0.0,1.0]},\"hovertemplate\":\"Flavor=%{label}\\u003cbr\\u003eSales=%{value}\\u003cextra\\u003e\\u003c\\u002fextra\\u003e\",\"labels\":[\"Original\",\"Spicy\",\"Cheesy\",\"BBQ\"],\"legendgroup\":\"\",\"name\":\"\",\"showlegend\":true,\"values\":[5000,3000,2000,1000],\"type\":\"pie\"}],                        {\"template\":{\"data\":{\"histogram2dcontour\":[{\"type\":\"histogram2dcontour\",\"colorbar\":{\"outlinewidth\":0,\"ticks\":\"\"},\"colorscale\":[[0.0,\"#0d0887\"],[0.1111111111111111,\"#46039f\"],[0.2222222222222222,\"#7201a8\"],[0.3333333333333333,\"#9c179e\"],[0.4444444444444444,\"#bd3786\"],[0.5555555555555556,\"#d8576b\"],[0.6666666666666666,\"#ed7953\"],[0.7777777777777778,\"#fb9f3a\"],[0.8888888888888888,\"#fdca26\"],[1.0,\"#f0f921\"]]}],\"choropleth\":[{\"type\":\"choropleth\",\"colorbar\":{\"outlinewidth\":0,\"ticks\":\"\"}}],\"histogram2d\":[{\"type\":\"histogram2d\",\"colorbar\":{\"outlinewidth\":0,\"ticks\":\"\"},\"colorscale\":[[0.0,\"#0d0887\"],[0.1111111111111111,\"#46039f\"],[0.2222222222222222,\"#7201a8\"],[0.3333333333333333,\"#9c179e\"],[0.4444444444444444,\"#bd3786\"],[0.5555555555555556,\"#d8576b\"],[0.6666666666666666,\"#ed7953\"],[0.7777777777777778,\"#fb9f3a\"],[0.8888888888888888,\"#fdca26\"],[1.0,\"#f0f921\"]]}],\"heatmap\":[{\"type\":\"heatmap\",\"colorbar\":{\"outlinewidth\":0,\"ticks\":\"\"},\"colorscale\":[[0.0,\"#0d0887\"],[0.1111111111111111,\"#46039f\"],[0.2222222222222222,\"#7201a8\"],[0.3333333333333333,\"#9c179e\"],[0.4444444444444444,\"#bd3786\"],[0.5555555555555556,\"#d8576b\"],[0.6666666666666666,\"#ed7953\"],[0.7777777777777778,\"#fb9f3a\"],[0.8888888888888888,\"#fdca26\"],[1.0,\"#f0f921\"]]}],\"heatmapgl\":[{\"type\":\"heatmapgl\",\"colorbar\":{\"outlinewidth\":0,\"ticks\":\"\"},\"colorscale\":[[0.0,\"#0d0887\"],[0.1111111111111111,\"#46039f\"],[0.2222222222222222,\"#7201a8\"],[0.3333333333333333,\"#9c179e\"],[0.4444444444444444,\"#bd3786\"],[0.5555555555555556,\"#d8576b\"],[0.6666666666666666,\"#ed7953\"],[0.7777777777777778,\"#fb9f3a\"],[0.8888888888888888,\"#fdca26\"],[1.0,\"#f0f921\"]]}],\"contourcarpet\":[{\"type\":\"contourcarpet\",\"colorbar\":{\"outlinewidth\":0,\"ticks\":\"\"}}],\"contour\":[{\"type\":\"contour\",\"colorbar\":{\"outlinewidth\":0,\"ticks\":\"\"},\"colorscale\":[[0.0,\"#0d0887\"],[0.1111111111111111,\"#46039f\"],[0.2222222222222222,\"#7201a8\"],[0.3333333333333333,\"#9c179e\"],[0.4444444444444444,\"#bd3786\"],[0.5555555555555556,\"#d8576b\"],[0.6666666666666666,\"#ed7953\"],[0.7777777777777778,\"#fb9f3a\"],[0.8888888888888888,\"#fdca26\"],[1.0,\"#f0f921\"]]}],\"surface\":[{\"type\":\"surface\",\"colorbar\":{\"outlinewidth\":0,\"ticks\":\"\"},\"colorscale\":[[0.0,\"#0d0887\"],[0.1111111111111111,\"#46039f\"],[0.2222222222222222,\"#7201a8\"],[0.3333333333333333,\"#9c179e\"],[0.4444444444444444,\"#bd3786\"],[0.5555555555555556,\"#d8576b\"],[0.6666666666666666,\"#ed7953\"],[0.7777777777777778,\"#fb9f3a\"],[0.8888888888888888,\"#fdca26\"],[1.0,\"#f0f921\"]]}],\"mesh3d\":[{\"type\":\"mesh3d\",\"colorbar\":{\"outlinewidth\":0,\"ticks\":\"\"}}],\"scatter\":[{\"fillpattern\":{\"fillmode\":\"overlay\",\"size\":10,\"solidity\":0.2},\"type\":\"scatter\"}],\"parcoords\":[{\"type\":\"parcoords\",\"line\":{\"colorbar\":{\"outlinewidth\":0,\"ticks\":\"\"}}}],\"scatterpolargl\":[{\"type\":\"scatterpolargl\",\"marker\":{\"colorbar\":{\"outlinewidth\":0,\"ticks\":\"\"}}}],\"bar\":[{\"error_x\":{\"color\":\"#2a3f5f\"},\"error_y\":{\"color\":\"#2a3f5f\"},\"marker\":{\"line\":{\"color\":\"#E5ECF6\",\"width\":0.5},\"pattern\":{\"fillmode\":\"overlay\",\"size\":10,\"solidity\":0.2}},\"type\":\"bar\"}],\"scattergeo\":[{\"type\":\"scattergeo\",\"marker\":{\"colorbar\":{\"outlinewidth\":0,\"ticks\":\"\"}}}],\"scatterpolar\":[{\"type\":\"scatterpolar\",\"marker\":{\"colorbar\":{\"outlinewidth\":0,\"ticks\":\"\"}}}],\"histogram\":[{\"marker\":{\"pattern\":{\"fillmode\":\"overlay\",\"size\":10,\"solidity\":0.2}},\"type\":\"histogram\"}],\"scattergl\":[{\"type\":\"scattergl\",\"marker\":{\"colorbar\":{\"outlinewidth\":0,\"ticks\":\"\"}}}],\"scatter3d\":[{\"type\":\"scatter3d\",\"line\":{\"colorbar\":{\"outlinewidth\":0,\"ticks\":\"\"}},\"marker\":{\"colorbar\":{\"outlinewidth\":0,\"ticks\":\"\"}}}],\"scattermapbox\":[{\"type\":\"scattermapbox\",\"marker\":{\"colorbar\":{\"outlinewidth\":0,\"ticks\":\"\"}}}],\"scatterternary\":[{\"type\":\"scatterternary\",\"marker\":{\"colorbar\":{\"outlinewidth\":0,\"ticks\":\"\"}}}],\"scattercarpet\":[{\"type\":\"scattercarpet\",\"marker\":{\"colorbar\":{\"outlinewidth\":0,\"ticks\":\"\"}}}],\"carpet\":[{\"aaxis\":{\"endlinecolor\":\"#2a3f5f\",\"gridcolor\":\"white\",\"linecolor\":\"white\",\"minorgridcolor\":\"white\",\"startlinecolor\":\"#2a3f5f\"},\"baxis\":{\"endlinecolor\":\"#2a3f5f\",\"gridcolor\":\"white\",\"linecolor\":\"white\",\"minorgridcolor\":\"white\",\"startlinecolor\":\"#2a3f5f\"},\"type\":\"carpet\"}],\"table\":[{\"cells\":{\"fill\":{\"color\":\"#EBF0F8\"},\"line\":{\"color\":\"white\"}},\"header\":{\"fill\":{\"color\":\"#C8D4E3\"},\"line\":{\"color\":\"white\"}},\"type\":\"table\"}],\"barpolar\":[{\"marker\":{\"line\":{\"color\":\"#E5ECF6\",\"width\":0.5},\"pattern\":{\"fillmode\":\"overlay\",\"size\":10,\"solidity\":0.2}},\"type\":\"barpolar\"}],\"pie\":[{\"automargin\":true,\"type\":\"pie\"}]},\"layout\":{\"autotypenumbers\":\"strict\",\"colorway\":[\"#636efa\",\"#EF553B\",\"#00cc96\",\"#ab63fa\",\"#FFA15A\",\"#19d3f3\",\"#FF6692\",\"#B6E880\",\"#FF97FF\",\"#FECB52\"],\"font\":{\"color\":\"#2a3f5f\"},\"hovermode\":\"closest\",\"hoverlabel\":{\"align\":\"left\"},\"paper_bgcolor\":\"white\",\"plot_bgcolor\":\"#E5ECF6\",\"polar\":{\"bgcolor\":\"#E5ECF6\",\"angularaxis\":{\"gridcolor\":\"white\",\"linecolor\":\"white\",\"ticks\":\"\"},\"radialaxis\":{\"gridcolor\":\"white\",\"linecolor\":\"white\",\"ticks\":\"\"}},\"ternary\":{\"bgcolor\":\"#E5ECF6\",\"aaxis\":{\"gridcolor\":\"white\",\"linecolor\":\"white\",\"ticks\":\"\"},\"baxis\":{\"gridcolor\":\"white\",\"linecolor\":\"white\",\"ticks\":\"\"},\"caxis\":{\"gridcolor\":\"white\",\"linecolor\":\"white\",\"ticks\":\"\"}},\"coloraxis\":{\"colorbar\":{\"outlinewidth\":0,\"ticks\":\"\"}},\"colorscale\":{\"sequential\":[[0.0,\"#0d0887\"],[0.1111111111111111,\"#46039f\"],[0.2222222222222222,\"#7201a8\"],[0.3333333333333333,\"#9c179e\"],[0.4444444444444444,\"#bd3786\"],[0.5555555555555556,\"#d8576b\"],[0.6666666666666666,\"#ed7953\"],[0.7777777777777778,\"#fb9f3a\"],[0.8888888888888888,\"#fdca26\"],[1.0,\"#f0f921\"]],\"sequentialminus\":[[0.0,\"#0d0887\"],[0.1111111111111111,\"#46039f\"],[0.2222222222222222,\"#7201a8\"],[0.3333333333333333,\"#9c179e\"],[0.4444444444444444,\"#bd3786\"],[0.5555555555555556,\"#d8576b\"],[0.6666666666666666,\"#ed7953\"],[0.7777777777777778,\"#fb9f3a\"],[0.8888888888888888,\"#fdca26\"],[1.0,\"#f0f921\"]],\"diverging\":[[0,\"#8e0152\"],[0.1,\"#c51b7d\"],[0.2,\"#de77ae\"],[0.3,\"#f1b6da\"],[0.4,\"#fde0ef\"],[0.5,\"#f7f7f7\"],[0.6,\"#e6f5d0\"],[0.7,\"#b8e186\"],[0.8,\"#7fbc41\"],[0.9,\"#4d9221\"],[1,\"#276419\"]]},\"xaxis\":{\"gridcolor\":\"white\",\"linecolor\":\"white\",\"ticks\":\"\",\"title\":{\"standoff\":15},\"zerolinecolor\":\"white\",\"automargin\":true,\"zerolinewidth\":2},\"yaxis\":{\"gridcolor\":\"white\",\"linecolor\":\"white\",\"ticks\":\"\",\"title\":{\"standoff\":15},\"zerolinecolor\":\"white\",\"automargin\":true,\"zerolinewidth\":2},\"scene\":{\"xaxis\":{\"backgroundcolor\":\"#E5ECF6\",\"gridcolor\":\"white\",\"linecolor\":\"white\",\"showbackground\":true,\"ticks\":\"\",\"zerolinecolor\":\"white\",\"gridwidth\":2},\"yaxis\":{\"backgroundcolor\":\"#E5ECF6\",\"gridcolor\":\"white\",\"linecolor\":\"white\",\"showbackground\":true,\"ticks\":\"\",\"zerolinecolor\":\"white\",\"gridwidth\":2},\"zaxis\":{\"backgroundcolor\":\"#E5ECF6\",\"gridcolor\":\"white\",\"linecolor\":\"white\",\"showbackground\":true,\"ticks\":\"\",\"zerolinecolor\":\"white\",\"gridwidth\":2}},\"shapedefaults\":{\"line\":{\"color\":\"#2a3f5f\"}},\"annotationdefaults\":{\"arrowcolor\":\"#2a3f5f\",\"arrowhead\":0,\"arrowwidth\":1},\"geo\":{\"bgcolor\":\"white\",\"landcolor\":\"#E5ECF6\",\"subunitcolor\":\"white\",\"showland\":true,\"showlakes\":true,\"lakecolor\":\"white\"},\"title\":{\"x\":0.05},\"mapbox\":{\"style\":\"light\"}}},\"legend\":{\"tracegroupgap\":0},\"title\":{\"text\":\"Crunch-O-Matic Sales by Flavor\"}},                        {\"responsive\": true}                    ).then(function(){\n",
              "                            \n",
              "var gd = document.getElementById('a2a82862-267c-4ba9-b9d3-20bb67f6e7c0');\n",
              "var x = new MutationObserver(function (mutations, observer) {{\n",
              "        var display = window.getComputedStyle(gd).display;\n",
              "        if (!display || display === 'none') {{\n",
              "            console.log([gd, 'removed!']);\n",
              "            Plotly.purge(gd);\n",
              "            observer.disconnect();\n",
              "        }}\n",
              "}});\n",
              "\n",
              "// Listen for the removal of the full notebook cells\n",
              "var notebookContainer = gd.closest('#notebook-container');\n",
              "if (notebookContainer) {{\n",
              "    x.observe(notebookContainer, {childList: true});\n",
              "}}\n",
              "\n",
              "// Listen for the clearing of the current output cell\n",
              "var outputEl = gd.closest('.output');\n",
              "if (outputEl) {{\n",
              "    x.observe(outputEl, {childList: true});\n",
              "}}\n",
              "\n",
              "                        })                };                            </script>        </div>\n",
              "</body>\n",
              "</html>"
            ]
          },
          "metadata": {}
        }
      ]
    },
    {
      "cell_type": "markdown",
      "source": [
        "This pie chart quickly shows us that the Original flavor is our best seller, followed by Spicy. This insight could inform decisions about production volumes or where to focus future marketing efforts.\n"
      ],
      "metadata": {
        "id": "aSPEaUSgxTNo"
      }
    },
    {
      "cell_type": "markdown",
      "source": [
        "## Bubble Chart\n",
        "\n",
        "A bubble chart is a variation of a scatter plot where the data points are replaced with bubbles. In addition to the x and y axes, bubble charts have a third dimension represented by the size of the bubbles. This makes them excellent for displaying three dimensions of data simultaneously.\n",
        "\n",
        "When interpreting a bubble chart:\n",
        "- The position of the bubble on the x and y axes represents two variables.\n",
        "- The size of the bubble represents a third variable.\n",
        "- Sometimes, color is used as a fourth dimension to group bubbles into categories.\n",
        "\n",
        "Bubble charts are particularly useful for comparing multiple variables across different categories. In our Mad Men-style campaign, we might use a bubble chart to compare different advertising channels.\n",
        "\n",
        "Let's create a bubble chart using Plotly Express:\n"
      ],
      "metadata": {
        "id": "dFqQVTydxUIN"
      }
    },
    {
      "cell_type": "code",
      "source": [
        "import plotly.express as px\n",
        "import pandas as pd\n",
        "\n",
        "# Sample data\n",
        "data = {\n",
        "    'Channel': ['TV', 'Radio', 'Social Media', 'Print', 'Billboards'],\n",
        "    'Cost': [50000, 20000, 15000, 10000, 30000],\n",
        "    'Reach': [500000, 200000, 300000, 100000, 250000],\n",
        "    'Conversions': [5000, 2000, 4000, 1000, 1500]\n",
        "}\n",
        "df = pd.DataFrame(data)\n",
        "\n",
        "# Create the bubble chart\n",
        "fig = px.scatter(df, x='Cost', y='Reach', size='Conversions', color='Channel',\n",
        "                 hover_name='Channel', size_max=60,\n",
        "                 title='Advertising Channels: Cost vs. Reach vs. Conversions')\n",
        "\n",
        "fig.update_xaxes(title='Cost ($)')\n",
        "fig.update_yaxes(title='Reach (People)')\n",
        "\n",
        "fig.show()"
      ],
      "metadata": {
        "id": "-wxWAS1oxbgD",
        "outputId": "99560c69-8000-412f-e497-7b3a2438d79f",
        "colab": {
          "base_uri": "https://localhost:8080/",
          "height": 542
        }
      },
      "execution_count": 5,
      "outputs": [
        {
          "output_type": "display_data",
          "data": {
            "text/html": [
              "<html>\n",
              "<head><meta charset=\"utf-8\" /></head>\n",
              "<body>\n",
              "    <div>            <script src=\"https://cdnjs.cloudflare.com/ajax/libs/mathjax/2.7.5/MathJax.js?config=TeX-AMS-MML_SVG\"></script><script type=\"text/javascript\">if (window.MathJax && window.MathJax.Hub && window.MathJax.Hub.Config) {window.MathJax.Hub.Config({SVG: {font: \"STIX-Web\"}});}</script>                <script type=\"text/javascript\">window.PlotlyConfig = {MathJaxConfig: 'local'};</script>\n",
              "        <script charset=\"utf-8\" src=\"https://cdn.plot.ly/plotly-2.24.1.min.js\"></script>                <div id=\"d3f7f12d-c9ac-492d-a6c6-bef73a225b20\" class=\"plotly-graph-div\" style=\"height:525px; width:100%;\"></div>            <script type=\"text/javascript\">                                    window.PLOTLYENV=window.PLOTLYENV || {};                                    if (document.getElementById(\"d3f7f12d-c9ac-492d-a6c6-bef73a225b20\")) {                    Plotly.newPlot(                        \"d3f7f12d-c9ac-492d-a6c6-bef73a225b20\",                        [{\"hovertemplate\":\"\\u003cb\\u003e%{hovertext}\\u003c\\u002fb\\u003e\\u003cbr\\u003e\\u003cbr\\u003eChannel=TV\\u003cbr\\u003eCost=%{x}\\u003cbr\\u003eReach=%{y}\\u003cbr\\u003eConversions=%{marker.size}\\u003cextra\\u003e\\u003c\\u002fextra\\u003e\",\"hovertext\":[\"TV\"],\"legendgroup\":\"TV\",\"marker\":{\"color\":\"#636efa\",\"size\":[5000],\"sizemode\":\"area\",\"sizeref\":1.3888888888888888,\"symbol\":\"circle\"},\"mode\":\"markers\",\"name\":\"TV\",\"orientation\":\"v\",\"showlegend\":true,\"x\":[50000],\"xaxis\":\"x\",\"y\":[500000],\"yaxis\":\"y\",\"type\":\"scatter\"},{\"hovertemplate\":\"\\u003cb\\u003e%{hovertext}\\u003c\\u002fb\\u003e\\u003cbr\\u003e\\u003cbr\\u003eChannel=Radio\\u003cbr\\u003eCost=%{x}\\u003cbr\\u003eReach=%{y}\\u003cbr\\u003eConversions=%{marker.size}\\u003cextra\\u003e\\u003c\\u002fextra\\u003e\",\"hovertext\":[\"Radio\"],\"legendgroup\":\"Radio\",\"marker\":{\"color\":\"#EF553B\",\"size\":[2000],\"sizemode\":\"area\",\"sizeref\":1.3888888888888888,\"symbol\":\"circle\"},\"mode\":\"markers\",\"name\":\"Radio\",\"orientation\":\"v\",\"showlegend\":true,\"x\":[20000],\"xaxis\":\"x\",\"y\":[200000],\"yaxis\":\"y\",\"type\":\"scatter\"},{\"hovertemplate\":\"\\u003cb\\u003e%{hovertext}\\u003c\\u002fb\\u003e\\u003cbr\\u003e\\u003cbr\\u003eChannel=Social Media\\u003cbr\\u003eCost=%{x}\\u003cbr\\u003eReach=%{y}\\u003cbr\\u003eConversions=%{marker.size}\\u003cextra\\u003e\\u003c\\u002fextra\\u003e\",\"hovertext\":[\"Social Media\"],\"legendgroup\":\"Social Media\",\"marker\":{\"color\":\"#00cc96\",\"size\":[4000],\"sizemode\":\"area\",\"sizeref\":1.3888888888888888,\"symbol\":\"circle\"},\"mode\":\"markers\",\"name\":\"Social Media\",\"orientation\":\"v\",\"showlegend\":true,\"x\":[15000],\"xaxis\":\"x\",\"y\":[300000],\"yaxis\":\"y\",\"type\":\"scatter\"},{\"hovertemplate\":\"\\u003cb\\u003e%{hovertext}\\u003c\\u002fb\\u003e\\u003cbr\\u003e\\u003cbr\\u003eChannel=Print\\u003cbr\\u003eCost=%{x}\\u003cbr\\u003eReach=%{y}\\u003cbr\\u003eConversions=%{marker.size}\\u003cextra\\u003e\\u003c\\u002fextra\\u003e\",\"hovertext\":[\"Print\"],\"legendgroup\":\"Print\",\"marker\":{\"color\":\"#ab63fa\",\"size\":[1000],\"sizemode\":\"area\",\"sizeref\":1.3888888888888888,\"symbol\":\"circle\"},\"mode\":\"markers\",\"name\":\"Print\",\"orientation\":\"v\",\"showlegend\":true,\"x\":[10000],\"xaxis\":\"x\",\"y\":[100000],\"yaxis\":\"y\",\"type\":\"scatter\"},{\"hovertemplate\":\"\\u003cb\\u003e%{hovertext}\\u003c\\u002fb\\u003e\\u003cbr\\u003e\\u003cbr\\u003eChannel=Billboards\\u003cbr\\u003eCost=%{x}\\u003cbr\\u003eReach=%{y}\\u003cbr\\u003eConversions=%{marker.size}\\u003cextra\\u003e\\u003c\\u002fextra\\u003e\",\"hovertext\":[\"Billboards\"],\"legendgroup\":\"Billboards\",\"marker\":{\"color\":\"#FFA15A\",\"size\":[1500],\"sizemode\":\"area\",\"sizeref\":1.3888888888888888,\"symbol\":\"circle\"},\"mode\":\"markers\",\"name\":\"Billboards\",\"orientation\":\"v\",\"showlegend\":true,\"x\":[30000],\"xaxis\":\"x\",\"y\":[250000],\"yaxis\":\"y\",\"type\":\"scatter\"}],                        {\"template\":{\"data\":{\"histogram2dcontour\":[{\"type\":\"histogram2dcontour\",\"colorbar\":{\"outlinewidth\":0,\"ticks\":\"\"},\"colorscale\":[[0.0,\"#0d0887\"],[0.1111111111111111,\"#46039f\"],[0.2222222222222222,\"#7201a8\"],[0.3333333333333333,\"#9c179e\"],[0.4444444444444444,\"#bd3786\"],[0.5555555555555556,\"#d8576b\"],[0.6666666666666666,\"#ed7953\"],[0.7777777777777778,\"#fb9f3a\"],[0.8888888888888888,\"#fdca26\"],[1.0,\"#f0f921\"]]}],\"choropleth\":[{\"type\":\"choropleth\",\"colorbar\":{\"outlinewidth\":0,\"ticks\":\"\"}}],\"histogram2d\":[{\"type\":\"histogram2d\",\"colorbar\":{\"outlinewidth\":0,\"ticks\":\"\"},\"colorscale\":[[0.0,\"#0d0887\"],[0.1111111111111111,\"#46039f\"],[0.2222222222222222,\"#7201a8\"],[0.3333333333333333,\"#9c179e\"],[0.4444444444444444,\"#bd3786\"],[0.5555555555555556,\"#d8576b\"],[0.6666666666666666,\"#ed7953\"],[0.7777777777777778,\"#fb9f3a\"],[0.8888888888888888,\"#fdca26\"],[1.0,\"#f0f921\"]]}],\"heatmap\":[{\"type\":\"heatmap\",\"colorbar\":{\"outlinewidth\":0,\"ticks\":\"\"},\"colorscale\":[[0.0,\"#0d0887\"],[0.1111111111111111,\"#46039f\"],[0.2222222222222222,\"#7201a8\"],[0.3333333333333333,\"#9c179e\"],[0.4444444444444444,\"#bd3786\"],[0.5555555555555556,\"#d8576b\"],[0.6666666666666666,\"#ed7953\"],[0.7777777777777778,\"#fb9f3a\"],[0.8888888888888888,\"#fdca26\"],[1.0,\"#f0f921\"]]}],\"heatmapgl\":[{\"type\":\"heatmapgl\",\"colorbar\":{\"outlinewidth\":0,\"ticks\":\"\"},\"colorscale\":[[0.0,\"#0d0887\"],[0.1111111111111111,\"#46039f\"],[0.2222222222222222,\"#7201a8\"],[0.3333333333333333,\"#9c179e\"],[0.4444444444444444,\"#bd3786\"],[0.5555555555555556,\"#d8576b\"],[0.6666666666666666,\"#ed7953\"],[0.7777777777777778,\"#fb9f3a\"],[0.8888888888888888,\"#fdca26\"],[1.0,\"#f0f921\"]]}],\"contourcarpet\":[{\"type\":\"contourcarpet\",\"colorbar\":{\"outlinewidth\":0,\"ticks\":\"\"}}],\"contour\":[{\"type\":\"contour\",\"colorbar\":{\"outlinewidth\":0,\"ticks\":\"\"},\"colorscale\":[[0.0,\"#0d0887\"],[0.1111111111111111,\"#46039f\"],[0.2222222222222222,\"#7201a8\"],[0.3333333333333333,\"#9c179e\"],[0.4444444444444444,\"#bd3786\"],[0.5555555555555556,\"#d8576b\"],[0.6666666666666666,\"#ed7953\"],[0.7777777777777778,\"#fb9f3a\"],[0.8888888888888888,\"#fdca26\"],[1.0,\"#f0f921\"]]}],\"surface\":[{\"type\":\"surface\",\"colorbar\":{\"outlinewidth\":0,\"ticks\":\"\"},\"colorscale\":[[0.0,\"#0d0887\"],[0.1111111111111111,\"#46039f\"],[0.2222222222222222,\"#7201a8\"],[0.3333333333333333,\"#9c179e\"],[0.4444444444444444,\"#bd3786\"],[0.5555555555555556,\"#d8576b\"],[0.6666666666666666,\"#ed7953\"],[0.7777777777777778,\"#fb9f3a\"],[0.8888888888888888,\"#fdca26\"],[1.0,\"#f0f921\"]]}],\"mesh3d\":[{\"type\":\"mesh3d\",\"colorbar\":{\"outlinewidth\":0,\"ticks\":\"\"}}],\"scatter\":[{\"fillpattern\":{\"fillmode\":\"overlay\",\"size\":10,\"solidity\":0.2},\"type\":\"scatter\"}],\"parcoords\":[{\"type\":\"parcoords\",\"line\":{\"colorbar\":{\"outlinewidth\":0,\"ticks\":\"\"}}}],\"scatterpolargl\":[{\"type\":\"scatterpolargl\",\"marker\":{\"colorbar\":{\"outlinewidth\":0,\"ticks\":\"\"}}}],\"bar\":[{\"error_x\":{\"color\":\"#2a3f5f\"},\"error_y\":{\"color\":\"#2a3f5f\"},\"marker\":{\"line\":{\"color\":\"#E5ECF6\",\"width\":0.5},\"pattern\":{\"fillmode\":\"overlay\",\"size\":10,\"solidity\":0.2}},\"type\":\"bar\"}],\"scattergeo\":[{\"type\":\"scattergeo\",\"marker\":{\"colorbar\":{\"outlinewidth\":0,\"ticks\":\"\"}}}],\"scatterpolar\":[{\"type\":\"scatterpolar\",\"marker\":{\"colorbar\":{\"outlinewidth\":0,\"ticks\":\"\"}}}],\"histogram\":[{\"marker\":{\"pattern\":{\"fillmode\":\"overlay\",\"size\":10,\"solidity\":0.2}},\"type\":\"histogram\"}],\"scattergl\":[{\"type\":\"scattergl\",\"marker\":{\"colorbar\":{\"outlinewidth\":0,\"ticks\":\"\"}}}],\"scatter3d\":[{\"type\":\"scatter3d\",\"line\":{\"colorbar\":{\"outlinewidth\":0,\"ticks\":\"\"}},\"marker\":{\"colorbar\":{\"outlinewidth\":0,\"ticks\":\"\"}}}],\"scattermapbox\":[{\"type\":\"scattermapbox\",\"marker\":{\"colorbar\":{\"outlinewidth\":0,\"ticks\":\"\"}}}],\"scatterternary\":[{\"type\":\"scatterternary\",\"marker\":{\"colorbar\":{\"outlinewidth\":0,\"ticks\":\"\"}}}],\"scattercarpet\":[{\"type\":\"scattercarpet\",\"marker\":{\"colorbar\":{\"outlinewidth\":0,\"ticks\":\"\"}}}],\"carpet\":[{\"aaxis\":{\"endlinecolor\":\"#2a3f5f\",\"gridcolor\":\"white\",\"linecolor\":\"white\",\"minorgridcolor\":\"white\",\"startlinecolor\":\"#2a3f5f\"},\"baxis\":{\"endlinecolor\":\"#2a3f5f\",\"gridcolor\":\"white\",\"linecolor\":\"white\",\"minorgridcolor\":\"white\",\"startlinecolor\":\"#2a3f5f\"},\"type\":\"carpet\"}],\"table\":[{\"cells\":{\"fill\":{\"color\":\"#EBF0F8\"},\"line\":{\"color\":\"white\"}},\"header\":{\"fill\":{\"color\":\"#C8D4E3\"},\"line\":{\"color\":\"white\"}},\"type\":\"table\"}],\"barpolar\":[{\"marker\":{\"line\":{\"color\":\"#E5ECF6\",\"width\":0.5},\"pattern\":{\"fillmode\":\"overlay\",\"size\":10,\"solidity\":0.2}},\"type\":\"barpolar\"}],\"pie\":[{\"automargin\":true,\"type\":\"pie\"}]},\"layout\":{\"autotypenumbers\":\"strict\",\"colorway\":[\"#636efa\",\"#EF553B\",\"#00cc96\",\"#ab63fa\",\"#FFA15A\",\"#19d3f3\",\"#FF6692\",\"#B6E880\",\"#FF97FF\",\"#FECB52\"],\"font\":{\"color\":\"#2a3f5f\"},\"hovermode\":\"closest\",\"hoverlabel\":{\"align\":\"left\"},\"paper_bgcolor\":\"white\",\"plot_bgcolor\":\"#E5ECF6\",\"polar\":{\"bgcolor\":\"#E5ECF6\",\"angularaxis\":{\"gridcolor\":\"white\",\"linecolor\":\"white\",\"ticks\":\"\"},\"radialaxis\":{\"gridcolor\":\"white\",\"linecolor\":\"white\",\"ticks\":\"\"}},\"ternary\":{\"bgcolor\":\"#E5ECF6\",\"aaxis\":{\"gridcolor\":\"white\",\"linecolor\":\"white\",\"ticks\":\"\"},\"baxis\":{\"gridcolor\":\"white\",\"linecolor\":\"white\",\"ticks\":\"\"},\"caxis\":{\"gridcolor\":\"white\",\"linecolor\":\"white\",\"ticks\":\"\"}},\"coloraxis\":{\"colorbar\":{\"outlinewidth\":0,\"ticks\":\"\"}},\"colorscale\":{\"sequential\":[[0.0,\"#0d0887\"],[0.1111111111111111,\"#46039f\"],[0.2222222222222222,\"#7201a8\"],[0.3333333333333333,\"#9c179e\"],[0.4444444444444444,\"#bd3786\"],[0.5555555555555556,\"#d8576b\"],[0.6666666666666666,\"#ed7953\"],[0.7777777777777778,\"#fb9f3a\"],[0.8888888888888888,\"#fdca26\"],[1.0,\"#f0f921\"]],\"sequentialminus\":[[0.0,\"#0d0887\"],[0.1111111111111111,\"#46039f\"],[0.2222222222222222,\"#7201a8\"],[0.3333333333333333,\"#9c179e\"],[0.4444444444444444,\"#bd3786\"],[0.5555555555555556,\"#d8576b\"],[0.6666666666666666,\"#ed7953\"],[0.7777777777777778,\"#fb9f3a\"],[0.8888888888888888,\"#fdca26\"],[1.0,\"#f0f921\"]],\"diverging\":[[0,\"#8e0152\"],[0.1,\"#c51b7d\"],[0.2,\"#de77ae\"],[0.3,\"#f1b6da\"],[0.4,\"#fde0ef\"],[0.5,\"#f7f7f7\"],[0.6,\"#e6f5d0\"],[0.7,\"#b8e186\"],[0.8,\"#7fbc41\"],[0.9,\"#4d9221\"],[1,\"#276419\"]]},\"xaxis\":{\"gridcolor\":\"white\",\"linecolor\":\"white\",\"ticks\":\"\",\"title\":{\"standoff\":15},\"zerolinecolor\":\"white\",\"automargin\":true,\"zerolinewidth\":2},\"yaxis\":{\"gridcolor\":\"white\",\"linecolor\":\"white\",\"ticks\":\"\",\"title\":{\"standoff\":15},\"zerolinecolor\":\"white\",\"automargin\":true,\"zerolinewidth\":2},\"scene\":{\"xaxis\":{\"backgroundcolor\":\"#E5ECF6\",\"gridcolor\":\"white\",\"linecolor\":\"white\",\"showbackground\":true,\"ticks\":\"\",\"zerolinecolor\":\"white\",\"gridwidth\":2},\"yaxis\":{\"backgroundcolor\":\"#E5ECF6\",\"gridcolor\":\"white\",\"linecolor\":\"white\",\"showbackground\":true,\"ticks\":\"\",\"zerolinecolor\":\"white\",\"gridwidth\":2},\"zaxis\":{\"backgroundcolor\":\"#E5ECF6\",\"gridcolor\":\"white\",\"linecolor\":\"white\",\"showbackground\":true,\"ticks\":\"\",\"zerolinecolor\":\"white\",\"gridwidth\":2}},\"shapedefaults\":{\"line\":{\"color\":\"#2a3f5f\"}},\"annotationdefaults\":{\"arrowcolor\":\"#2a3f5f\",\"arrowhead\":0,\"arrowwidth\":1},\"geo\":{\"bgcolor\":\"white\",\"landcolor\":\"#E5ECF6\",\"subunitcolor\":\"white\",\"showland\":true,\"showlakes\":true,\"lakecolor\":\"white\"},\"title\":{\"x\":0.05},\"mapbox\":{\"style\":\"light\"}}},\"xaxis\":{\"anchor\":\"y\",\"domain\":[0.0,1.0],\"title\":{\"text\":\"Cost ($)\"}},\"yaxis\":{\"anchor\":\"x\",\"domain\":[0.0,1.0],\"title\":{\"text\":\"Reach (People)\"}},\"legend\":{\"title\":{\"text\":\"Channel\"},\"tracegroupgap\":0,\"itemsizing\":\"constant\"},\"title\":{\"text\":\"Advertising Channels: Cost vs. Reach vs. Conversions\"}},                        {\"responsive\": true}                    ).then(function(){\n",
              "                            \n",
              "var gd = document.getElementById('d3f7f12d-c9ac-492d-a6c6-bef73a225b20');\n",
              "var x = new MutationObserver(function (mutations, observer) {{\n",
              "        var display = window.getComputedStyle(gd).display;\n",
              "        if (!display || display === 'none') {{\n",
              "            console.log([gd, 'removed!']);\n",
              "            Plotly.purge(gd);\n",
              "            observer.disconnect();\n",
              "        }}\n",
              "}});\n",
              "\n",
              "// Listen for the removal of the full notebook cells\n",
              "var notebookContainer = gd.closest('#notebook-container');\n",
              "if (notebookContainer) {{\n",
              "    x.observe(notebookContainer, {childList: true});\n",
              "}}\n",
              "\n",
              "// Listen for the clearing of the current output cell\n",
              "var outputEl = gd.closest('.output');\n",
              "if (outputEl) {{\n",
              "    x.observe(outputEl, {childList: true});\n",
              "}}\n",
              "\n",
              "                        })                };                            </script>        </div>\n",
              "</body>\n",
              "</html>"
            ]
          },
          "metadata": {}
        }
      ]
    },
    {
      "cell_type": "markdown",
      "source": [
        "In this bubble chart, each bubble represents an advertising channel. The x-axis shows the cost, the y-axis shows the reach, and the size of the bubble indicates the number of conversions. This allows us to quickly compare the efficiency of different channels. For instance, we might notice that while TV advertising has the highest cost and reach, social media provides a high number of conversions relative to its cost and reach."
      ],
      "metadata": {
        "id": "0VOps-kLxiNZ"
      }
    },
    {
      "cell_type": "code",
      "source": [],
      "metadata": {
        "id": "akY5eI0hBJzF"
      },
      "execution_count": null,
      "outputs": []
    }
  ]
}