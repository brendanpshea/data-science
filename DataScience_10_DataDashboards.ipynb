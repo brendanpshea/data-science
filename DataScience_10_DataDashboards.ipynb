{
  "nbformat": 4,
  "nbformat_minor": 0,
  "metadata": {
    "colab": {
      "provenance": [],
      "authorship_tag": "ABX9TyOiFaldgpr5z+O9twKSFyw4",
      "include_colab_link": true
    },
    "kernelspec": {
      "name": "python3",
      "display_name": "Python 3"
    },
    "language_info": {
      "name": "python"
    }
  },
  "cells": [
    {
      "cell_type": "markdown",
      "metadata": {
        "id": "view-in-github",
        "colab_type": "text"
      },
      "source": [
        "<a href=\"https://colab.research.google.com/github/brendanpshea/data-science/blob/main/DataScience_10_DataDashboards.ipynb\" target=\"_parent\"><img src=\"https://colab.research.google.com/assets/colab-badge.svg\" alt=\"Open In Colab\"/></a>"
      ]
    },
    {
      "cell_type": "markdown",
      "source": [
        "# 1. Introduction to Data Dashboards\n",
        "\n",
        "In today's data-driven world, making sense of vast amounts of information can be challenging. This is where **data dashboards** come in handy. A **data dashboard** is a visual display of the most important information needed to achieve one or more objectives, consolidated and arranged on a single screen so the information can be monitored at a glance.\n",
        "\n",
        "Imagine you're Don Draper from the TV show Mad Men, but instead of relying solely on your gut instincts and creative flair, you have access to powerful data tools. You're tasked with creating an advertising campaign for a new, fictitious snack food called \"Crunch-O-Matic.\" How would you go about making decisions about your ad strategy? This is where a data dashboard can be incredibly useful.\n",
        "\n",
        "Let's set the scene:\n",
        "\n",
        "## Scenario: Mad Men-Style Ad Campaign for Crunch-O-Matic\n",
        "\n",
        "You're the head of a modern advertising agency in the spirit of Mad Men, tasked with promoting \"Crunch-O-Matic,\" a new line of potato chips. Your client wants to dominate the snack market, but they're facing tough competition. You need to make data-driven decisions to ensure the success of your campaign.\n",
        "\n",
        "Key questions you need to answer:\n",
        "1. Who is the target audience for Crunch-O-Matic?\n",
        "2. What marketing channels are most effective for reaching this audience?\n",
        "3. How is the product performing in different regions?\n",
        "4. What impact are your advertising efforts having on sales?\n",
        "\n",
        "To answer these questions effectively, you decide to create a data dashboard that will help you visualize and analyze key information about your ad campaign and its results.\n",
        "\n",
        "This scenario illustrates how a data dashboard can be an invaluable tool in modern advertising and business decision-making. By consolidating and visualizing critical information, a dashboard allows you to quickly grasp complex data and make informed choices.\n",
        "\n",
        "In our Crunch-O-Matic example, a well-designed dashboard might include:\n",
        "\n",
        "1. **Demographic breakdown** of customers who purchase the product\n",
        "2. **Geographic heat map** showing sales performance across different regions\n",
        "3. **Line graph** tracking sales over time, with annotations for major ad campaign launches\n",
        "4. **Bar chart** comparing the effectiveness of different marketing channels (TV, social media, print, etc.)\n",
        "5. **Real-time social media sentiment analysis** gauge\n",
        "\n",
        "By having all this information available at a glance, you can quickly identify trends, spot potential issues, and make data-driven decisions to optimize your ad campaign.\n",
        "\n",
        "Throughout this chapter, we'll explore how to create such dashboards using **Plotly**, a powerful data visualization library for Python. **Plotly** allows you to create interactive, publication-quality graphs and charts that can be easily integrated into **Jupyter notebooks** or web applications.\n",
        "\n",
        "**Jupyter notebooks** are web-based interactive computing platforms that allow you to combine live code, visualizations, and narrative text. They're an excellent tool for data analysis and presentation, making them perfect for creating and sharing data dashboards.\n",
        "\n",
        "As we progress through this chapter, we'll delve deeper into the world of data dashboards, exploring their various types, design considerations, and how to create them using Plotly in Jupyter notebooks. By the end, you'll have the skills to create your own Mad Men-style data-driven ad campaigns, backed by powerful visualizations and analytics."
      ],
      "metadata": {
        "id": "GitU1F-S-dkm"
      }
    },
    {
      "cell_type": "markdown",
      "source": [
        "### Example Dasboard: Snack Sales By Region\n",
        "Let's begin by looking at example of a simple dashboard that allows us to see snack sales by region."
      ],
      "metadata": {
        "id": "SYId_ZFh-2nZ"
      }
    },
    {
      "cell_type": "code",
      "source": [
        "!pip install dash -q\n",
        "\n",
        "import pandas as pd\n",
        "import plotly.express as px\n",
        "from dash import Dash, dcc, html\n",
        "from dash.dependencies import Input, Output\n",
        "\n",
        "# Create sample data\n",
        "data = {\n",
        "    'Region': ['North', 'South', 'East', 'West'] * 3,\n",
        "    'Product': ['Chips', 'Chips', 'Chips', 'Chips', 'Popcorn', 'Popcorn', 'Popcorn', 'Popcorn', 'Pretzels', 'Pretzels', 'Pretzels', 'Pretzels'],\n",
        "    'Sales': [100, 120, 80, 150, 80, 90, 110, 70, 60, 50, 40, 30]\n",
        "}\n",
        "df = pd.DataFrame(data)\n",
        "\n",
        "# Initialize the Dash app\n",
        "app = Dash(__name__)\n",
        "\n",
        "# Define the layout\n",
        "app.layout = html.Div([\n",
        "    html.H1(\"Crunch-O-Matic Sales Dashboard\"),\n",
        "\n",
        "    dcc.Dropdown(\n",
        "        id='product-dropdown',\n",
        "        options=[{'label': i, 'value': i} for i in df['Product'].unique()],\n",
        "        value='Chips',\n",
        "        style={'width': '50%'}\n",
        "    ),\n",
        "\n",
        "    dcc.Graph(id='sales-bar-chart'),\n",
        "\n",
        "    dcc.Graph(id='sales-pie-chart')\n",
        "])\n",
        "\n",
        "# Define callback to update bar chart\n",
        "@app.callback(\n",
        "    Output('sales-bar-chart', 'figure'),\n",
        "    Input('product-dropdown', 'value')\n",
        ")\n",
        "def update_bar_chart(selected_product):\n",
        "    filtered_df = df[df['Product'] == selected_product]\n",
        "    fig = px.bar(filtered_df, x='Region', y='Sales', title=f'{selected_product} Sales by Region')\n",
        "    return fig\n",
        "\n",
        "# Define callback to update pie chart\n",
        "@app.callback(\n",
        "    Output('sales-pie-chart', 'figure'),\n",
        "    Input('product-dropdown', 'value')\n",
        ")\n",
        "def update_pie_chart(selected_product):\n",
        "    filtered_df = df[df['Product'] == selected_product]\n",
        "    fig = px.pie(filtered_df, values='Sales', names='Region', title=f'{selected_product} Sales Distribution')\n",
        "    return fig\n",
        "\n",
        "# Run the app\n",
        "app.run(jupyter_mode=\"inline\")\n"
      ],
      "metadata": {
        "colab": {
          "base_uri": "https://localhost:8080/",
          "height": 671
        },
        "id": "vJTsH0ZD-5Uu",
        "outputId": "e84c1b36-cf06-456f-834b-40459a562e50"
      },
      "execution_count": 7,
      "outputs": [
        {
          "output_type": "display_data",
          "data": {
            "text/plain": [
              "<IPython.core.display.Javascript object>"
            ],
            "application/javascript": [
              "(async (port, path, width, height, cache, element) => {\n",
              "    if (!google.colab.kernel.accessAllowed && !cache) {\n",
              "      return;\n",
              "    }\n",
              "    element.appendChild(document.createTextNode(''));\n",
              "    const url = await google.colab.kernel.proxyPort(port, {cache});\n",
              "    const iframe = document.createElement('iframe');\n",
              "    iframe.src = new URL(path, url).toString();\n",
              "    iframe.height = height;\n",
              "    iframe.width = width;\n",
              "    iframe.style.border = 0;\n",
              "    iframe.allow = [\n",
              "        'accelerometer',\n",
              "        'autoplay',\n",
              "        'camera',\n",
              "        'clipboard-read',\n",
              "        'clipboard-write',\n",
              "        'gyroscope',\n",
              "        'magnetometer',\n",
              "        'microphone',\n",
              "        'serial',\n",
              "        'usb',\n",
              "        'xr-spatial-tracking',\n",
              "    ].join('; ');\n",
              "    element.appendChild(iframe);\n",
              "  })(8050, \"/\", \"100%\", 650, false, window.element)"
            ]
          },
          "metadata": {}
        }
      ]
    },
    {
      "cell_type": "markdown",
      "source": [
        "You'll notice the following elements (don't worry about the details of the code for now--we'll come back to that later...):\n",
        "\n",
        "1. **Data Source**:\n",
        "   In our example, we're using a simple pandas DataFrame as our data source. In real-world scenarios, this could be connected to a database, API, or other data streams. The data includes information about product sales across different regions.\n",
        "\n",
        "2. **Interactivity**:\n",
        "   The dropdown menu allows users to select different products, demonstrating how dashboards can be interactive. This interactivity lets users explore the data from different angles.\n",
        "\n",
        "3. **Charts and Graphs**:\n",
        "   We've included two types of charts:\n",
        "   - A bar chart showing sales by region\n",
        "   - A pie chart showing the distribution of sales\n",
        "\n",
        "   These visualizations help users quickly understand the data without having to parse through raw numbers.\n",
        "\n",
        "4. **Layout**:\n",
        "   The dashboard is organized with a clear structure:\n",
        "   - A title at the top\n",
        "   - A dropdown for user input\n",
        "   - Two graphs arranged vertically\n",
        "\n",
        "   This layout guides the user's eye and helps tell a story with the data.\n",
        "\n",
        "5. **Real-time Updates**:\n",
        "   The `@app.callback` decorators define how the charts should update when the user interacts with the dropdown. This demonstrates how dashboards can provide real-time or near-real-time data updates.\n",
        "\n",
        "6. **Consistency in Design**:\n",
        "   Both charts use the same color scheme and styling, providing a cohesive look to the dashboard.\n",
        "\n",
        "7. **Titles and Labels**:\n",
        "   Each chart has a clear title that updates based on the selected product, helping users understand what they're looking at.\n",
        "\n",
        "8. **Multiple Views of the Same Data**:\n",
        "   By showing both a bar chart and a pie chart, we're providing multiple perspectives on the same data, allowing for deeper insights.\n",
        "\n",
        "This simple dashboard demonstrates several key principles:\n",
        "\n",
        "- **Data Visualization**: Converting raw data into visual representations that are easy to understand at a glance.\n",
        "- **Interactivity**: Allowing users to explore the data themselves rather than presenting static information.\n",
        "- **Customization**: The ability to focus on specific aspects of the data (in this case, different products).\n",
        "- **Comparative Analysis**: Enabling users to compare data across different categories (regions in this case).\n",
        "\n",
        "As you progress through the chapter, you can dive deeper into each of these elements, teaching students how to create more complex visualizations, handle larger datasets, and design dashboards for specific business needs. This example serves as a starting point to introduce the concept and spark students' interest in data visualization and dashboard creation."
      ],
      "metadata": {
        "id": "JXm-owgoA99s"
      }
    },
    {
      "cell_type": "code",
      "source": [],
      "metadata": {
        "id": "akY5eI0hBJzF"
      },
      "execution_count": null,
      "outputs": []
    }
  ]
}