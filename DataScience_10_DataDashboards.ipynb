{
  "nbformat": 4,
  "nbformat_minor": 0,
  "metadata": {
    "colab": {
      "provenance": [],
      "authorship_tag": "ABX9TyMmjw+UhhGoKBinVY8ZpDiH",
      "include_colab_link": true
    },
    "kernelspec": {
      "name": "python3",
      "display_name": "Python 3"
    },
    "language_info": {
      "name": "python"
    }
  },
  "cells": [
    {
      "cell_type": "markdown",
      "metadata": {
        "id": "view-in-github",
        "colab_type": "text"
      },
      "source": [
        "<a href=\"https://colab.research.google.com/github/brendanpshea/data-science/blob/main/DataScience_10_DataDashboards.ipynb\" target=\"_parent\"><img src=\"https://colab.research.google.com/assets/colab-badge.svg\" alt=\"Open In Colab\"/></a>"
      ]
    },
    {
      "cell_type": "markdown",
      "source": [
        "# Dashboads and Visualizations\n",
        "### Brendan SHea, PhD\n",
        "\n",
        "In the digital age, data drives decisions. Whether it's optimizing marketing strategies, tracking business performance, or identifying customer trends, data dashboards are essential tools for consolidating complex information into digestible, actionable insights. Imagine stepping into the role of an advertising executive managing a campaign for a new snack product, \"Crunch-O-Matic.\" With data flowing in from various channels, the ability to make informed, real-time decisions is crucial. Data dashboards provide a visual representation of the most critical metrics, empowering users to monitor progress and respond to emerging patterns at a glance. This chapter will guide you through the world of data dashboards, from fundamental principles to hands-on implementation using Plotly in Python. By mastering these skills, you'll be equipped to design and deploy dynamic dashboards that bring clarity to complex data, enhancing decision-making across industries.\n",
        "\n",
        "In this chapter, you'll learn to:\n",
        "\n",
        "1.  Understand the role of data dashboards in modern business and data science contexts.\n",
        "2.  Identify key components of effective data dashboards, including interactivity, layout, and visual design.\n",
        "3.  Create basic to advanced data visualizations using Plotly Express.\n",
        "4.  Build interactive, real-time dashboards using the Dash framework.\n",
        "5.  Integrate various types of charts---line, pie, bar, scatter, bubble, and more---into cohesive, user-friendly dashboards.\n",
        "6.  Implement best practices in dashboard design to convey clear, actionable insights.\n",
        "7.  Explore the development process from mockups to deployment of fully functional data dashboards.\n",
        "\n",
        "**Keywords:** Data dashboards, Plotly, Dash, interactivity, data visualization, business intelligence, Python, Jupyter notebooks, layout design, data storytelling.\n"
      ],
      "metadata": {
        "id": "VSTodiSR3sl-"
      }
    },
    {
      "cell_type": "markdown",
      "source": [
        "## Scenario: Mad Men-Style Ad Campaign for Crunch-O-Matic\n",
        "\n",
        "You're the head of a modern advertising agency, tasked with promoting \"Crunch-O-Matic,\" a new line of potato chips. Your client wants to dominate the snack market, but they're facing tough competition. You need to make data-driven decisions to ensure the success of your campaign.\n",
        "\n",
        "Key questions you need to answer:\n",
        "1. Who is the target audience for Crunch-O-Matic?\n",
        "2. What marketing channels are most effective for reaching this audience?\n",
        "3. How is the product performing in different regions?\n",
        "4. What impact are your advertising efforts having on sales?\n",
        "\n",
        "To answer these questions effectively, you decide to create a data dashboard that will help you visualize and analyze key information about your ad campaign and its results.\n",
        "\n",
        "This scenario illustrates how a data dashboard can be an invaluable tool in modern advertising and business decision-making. By consolidating and visualizing critical information, a dashboard allows you to quickly grasp complex data and make informed choices.\n",
        "\n",
        "In our Crunch-O-Matic example, a well-designed dashboard might include:\n",
        "\n",
        "1. **Demographic breakdown** of customers who purchase the product\n",
        "2. **Geographic heat map** showing sales performance across different regions\n",
        "3. **Line graph** tracking sales over time, with annotations for major ad campaign launches\n",
        "4. **Bar chart** comparing the effectiveness of different marketing channels (TV, social media, print, etc.)\n",
        "5. **Real-time social media sentiment analysis** gauge\n",
        "\n",
        "By having all this information available at a glance, you can quickly identify trends, spot potential issues, and make data-driven decisions to optimize your ad campaign.\n",
        "\n",
        "Throughout this chapter, we'll explore how to create such dashboards using **Plotly**, a powerful data visualization library for Python. **Plotly** allows you to create interactive, publication-quality graphs and charts that can be easily integrated into **Jupyter notebooks** or web applications.\n",
        "\n",
        "**Jupyter notebooks** are web-based interactive computing platforms that allow you to combine live code, visualizations, and narrative text. They're an excellent tool for data analysis and presentation, making them perfect for creating and sharing data dashboards.\n",
        "\n",
        "As we progress through this chapter, we'll delve deeper into the world of data dashboards, exploring their various types, design considerations, and how to create them using Plotly in Jupyter notebooks. By the end, you'll have the skills to create your own Mad Men-style data-driven ad campaigns, backed by powerful visualizations and analytics."
      ],
      "metadata": {
        "id": "GitU1F-S-dkm"
      }
    },
    {
      "cell_type": "markdown",
      "source": [
        "### Example Dasboard: Snack Sales By Region\n",
        "Let's begin by looking at example of a simple dashboard that allows us to see snack sales by region."
      ],
      "metadata": {
        "id": "SYId_ZFh-2nZ"
      }
    },
    {
      "cell_type": "code",
      "source": [
        "# @title\n",
        "!pip install dash -q\n",
        "\n",
        "import pandas as pd\n",
        "import plotly.express as px\n",
        "from dash import Dash, dcc, html\n",
        "from dash.dependencies import Input, Output\n",
        "\n",
        "# Create sample data\n",
        "data = {\n",
        "    'Region': ['North', 'South', 'East', 'West'] * 3,\n",
        "    'Product': ['Chips', 'Chips', 'Chips', 'Chips', 'Popcorn', 'Popcorn', 'Popcorn', 'Popcorn', 'Pretzels', 'Pretzels', 'Pretzels', 'Pretzels'],\n",
        "    'Sales': [100, 120, 80, 150, 80, 90, 110, 70, 60, 50, 40, 30]\n",
        "}\n",
        "df = pd.DataFrame(data)\n",
        "\n",
        "# Initialize the Dash app\n",
        "app = Dash(__name__)\n",
        "\n",
        "# Define the layout\n",
        "app.layout = html.Div([\n",
        "    html.H1(\"Crunch-O-Matic Sales Dashboard\"),\n",
        "\n",
        "    dcc.Dropdown(\n",
        "        id='product-dropdown',\n",
        "        options=[{'label': i, 'value': i} for i in df['Product'].unique()],\n",
        "        value='Chips',\n",
        "        style={'width': '50%'}\n",
        "    ),\n",
        "\n",
        "    dcc.Graph(id='sales-bar-chart'),\n",
        "\n",
        "    dcc.Graph(id='sales-pie-chart')\n",
        "])\n",
        "\n",
        "# Define callback to update bar chart\n",
        "@app.callback(\n",
        "    Output('sales-bar-chart', 'figure'),\n",
        "    Input('product-dropdown', 'value')\n",
        ")\n",
        "def update_bar_chart(selected_product):\n",
        "    filtered_df = df[df['Product'] == selected_product]\n",
        "    fig = px.bar(filtered_df, x='Region', y='Sales', title=f'{selected_product} Sales by Region')\n",
        "    return fig\n",
        "\n",
        "# Define callback to update pie chart\n",
        "@app.callback(\n",
        "    Output('sales-pie-chart', 'figure'),\n",
        "    Input('product-dropdown', 'value')\n",
        ")\n",
        "def update_pie_chart(selected_product):\n",
        "    filtered_df = df[df['Product'] == selected_product]\n",
        "    fig = px.pie(filtered_df, values='Sales', names='Region', title=f'{selected_product} Sales Distribution')\n",
        "    return fig\n",
        "\n",
        "# Run the app\n",
        "app.run(jupyter_mode=\"inline\")\n"
      ],
      "metadata": {
        "colab": {
          "base_uri": "https://localhost:8080/",
          "height": 706
        },
        "id": "vJTsH0ZD-5Uu",
        "outputId": "912f11c6-9720-4c59-891a-62aa97ed71cc",
        "cellView": "form"
      },
      "execution_count": 1,
      "outputs": [
        {
          "output_type": "stream",
          "name": "stdout",
          "text": [
            "\u001b[2K   \u001b[90m━━━━━━━━━━━━━━━━━━━━━━━━━━━━━━━━━━━━━━━━\u001b[0m \u001b[32m7.8/7.8 MB\u001b[0m \u001b[31m23.0 MB/s\u001b[0m eta \u001b[36m0:00:00\u001b[0m\n",
            "\u001b[2K   \u001b[90m━━━━━━━━━━━━━━━━━━━━━━━━━━━━━━━━━━━━━━━━\u001b[0m \u001b[32m228.0/228.0 kB\u001b[0m \u001b[31m5.8 MB/s\u001b[0m eta \u001b[36m0:00:00\u001b[0m\n",
            "\u001b[?25h"
          ]
        },
        {
          "output_type": "display_data",
          "data": {
            "text/plain": [
              "<IPython.core.display.Javascript object>"
            ],
            "application/javascript": [
              "(async (port, path, width, height, cache, element) => {\n",
              "    if (!google.colab.kernel.accessAllowed && !cache) {\n",
              "      return;\n",
              "    }\n",
              "    element.appendChild(document.createTextNode(''));\n",
              "    const url = await google.colab.kernel.proxyPort(port, {cache});\n",
              "    const iframe = document.createElement('iframe');\n",
              "    iframe.src = new URL(path, url).toString();\n",
              "    iframe.height = height;\n",
              "    iframe.width = width;\n",
              "    iframe.style.border = 0;\n",
              "    iframe.allow = [\n",
              "        'accelerometer',\n",
              "        'autoplay',\n",
              "        'camera',\n",
              "        'clipboard-read',\n",
              "        'clipboard-write',\n",
              "        'gyroscope',\n",
              "        'magnetometer',\n",
              "        'microphone',\n",
              "        'serial',\n",
              "        'usb',\n",
              "        'xr-spatial-tracking',\n",
              "    ].join('; ');\n",
              "    element.appendChild(iframe);\n",
              "  })(8050, \"/\", \"100%\", 650, false, window.element)"
            ]
          },
          "metadata": {}
        }
      ]
    },
    {
      "cell_type": "markdown",
      "source": [
        "You'll notice the following elements (don't worry about the details of the code for now--we'll come back to that later...):\n",
        "\n",
        "1. **Data Source**:\n",
        "   In our example, we're using a simple pandas DataFrame as our data source. In real-world scenarios, this could be connected to a database, API, or other data streams. The data includes information about product sales across different regions.\n",
        "\n",
        "2. **Interactivity**:\n",
        "   The dropdown menu allows users to select different products, demonstrating how dashboards can be interactive. This interactivity lets users explore the data from different angles.\n",
        "\n",
        "3. **Charts and Graphs**:\n",
        "   We've included two types of charts:\n",
        "   - A bar chart showing sales by region\n",
        "   - A pie chart showing the distribution of sales\n",
        "\n",
        "   These visualizations help users quickly understand the data without having to parse through raw numbers.\n",
        "\n",
        "4. **Layout**:\n",
        "   The dashboard is organized with a clear structure:\n",
        "   - A title at the top\n",
        "   - A dropdown for user input\n",
        "   - Two graphs arranged vertically\n",
        "\n",
        "   This layout guides the user's eye and helps tell a story with the data.\n",
        "\n",
        "5. **Real-time Updates**:\n",
        "   The `@app.callback` decorators define how the charts should update when the user interacts with the dropdown. This demonstrates how dashboards can provide real-time or near-real-time data updates.\n",
        "\n",
        "6. **Consistency in Design**:\n",
        "   Both charts use the same color scheme and styling, providing a cohesive look to the dashboard.\n",
        "\n",
        "7. **Titles and Labels**:\n",
        "   Each chart has a clear title that updates based on the selected product, helping users understand what they're looking at.\n",
        "\n",
        "8. **Multiple Views of the Same Data**:\n",
        "   By showing both a bar chart and a pie chart, we're providing multiple perspectives on the same data, allowing for deeper insights.\n",
        "\n",
        "This simple dashboard demonstrates several key principles:\n",
        "\n",
        "- **Data Visualization**: Converting raw data into visual representations that are easy to understand at a glance.\n",
        "- **Interactivity**: Allowing users to explore the data themselves rather than presenting static information.\n",
        "- **Customization**: The ability to focus on specific aspects of the data (in this case, different products).\n",
        "- **Comparative Analysis**: Enabling users to compare data across different categories (regions in this case).\n",
        "\n",
        "As you progress through the chapter, you can dive deeper into each of these elements, teaching students how to create more complex visualizations, handle larger datasets, and design dashboards for specific business needs. This example serves as a starting point to introduce the concept and spark students' interest in data visualization and dashboard creation."
      ],
      "metadata": {
        "id": "JXm-owgoA99s"
      }
    },
    {
      "cell_type": "markdown",
      "source": [
        "## What are some examples of data dashboards?\n",
        "\n",
        "Data dashboards come in many forms and serve various purposes across different industries. Let's explore some common types of dashboards and their real-world applications:\n",
        "\n",
        "### Business Intelligence (BI) Dashboards\n",
        "   \n",
        "**Business Intelligence dashboards** consolidate and visualize key performance indicators (KPIs) for a company. These dashboards help executives and managers make data-driven decisions.\n",
        "\n",
        "Example: A sales BI dashboard might include:\n",
        "- Total revenue over time (line chart)\n",
        "- Sales by product category (bar chart)\n",
        "- Top performing salespeople (leaderboard)\n",
        "- Geographic distribution of sales (map)\n",
        "\n",
        "### Financial Dashboards\n",
        "\n",
        "**Financial dashboards** provide a quick overview of an organization's financial health. They're crucial for CFOs, accountants, and financial analysts.\n",
        "\n",
        "Example: A financial dashboard could display:\n",
        "- Cash flow statement (waterfall chart)\n",
        "- Profit and loss summary (table)\n",
        "- Accounts receivable aging (stacked bar chart)\n",
        "- Budget vs. actual spending (combo chart)\n",
        "\n",
        "### Marketing Dashboards\n",
        "\n",
        "**Marketing dashboards** help track the performance of marketing campaigns across various channels. They're essential for marketing managers and digital marketers.\n",
        "\n",
        "Example: A digital marketing dashboard might show:\n",
        "- Website traffic sources (pie chart)\n",
        "- Social media engagement rates (line chart)\n",
        "- Email campaign open and click-through rates (bar chart)\n",
        "- ROI of different marketing channels (scatter plot)\n",
        "\n",
        "### Project Management Dashboards\n",
        "\n",
        "**Project management dashboards** provide a bird's-eye view of ongoing projects, helping project managers and team leads track progress and allocate resources effectively.\n",
        "\n",
        "Example: A project dashboard could include:\n",
        "- Project timeline and milestones (Gantt chart)\n",
        "- Task completion status (progress bars)\n",
        "- Team member workload (heat map)\n",
        "- Budget utilization (gauge chart)\n",
        "\n",
        "### Healthcare Dashboards\n",
        "\n",
        "**Healthcare dashboards** are used in hospitals and clinics to monitor patient care, resource allocation, and overall facility performance.\n",
        "\n",
        "Example: A hospital dashboard might display:\n",
        "- Patient admission and discharge rates (area chart)\n",
        "- Average length of stay (histogram)\n",
        "- Staff-to-patient ratios (bubble chart)\n",
        "- Equipment utilization rates (gauge chart)\n",
        "\n",
        "### Social Media Analytics Dashboards\n",
        "\n",
        "**Social media analytics dashboards** help businesses and influencers track their performance across various social platforms.\n",
        "\n",
        "Example: A social media dashboard could show:\n",
        "- Follower growth over time (line chart)\n",
        "- Post engagement rates (bar chart)\n",
        "- Sentiment analysis of comments (pie chart)\n",
        "- Best performing content types (grouped bar chart)\n",
        "\n",
        "### Operations Dashboards\n",
        "\n",
        "**Operations dashboards** are used in manufacturing and logistics to monitor production processes, supply chain efficiency, and resource utilization.\n",
        "\n",
        "Example: A manufacturing operations dashboard might include:\n",
        "- Production output vs. targets (bullet chart)\n",
        "- Machine downtime (Pareto chart)\n",
        "- Inventory levels (stacked area chart)\n",
        "- Quality control metrics (control chart)\n",
        "\n",
        "### Personal Finance Dashboards\n",
        "\n",
        "**Personal finance dashboards** help individuals track their spending, savings, and investments.\n",
        "\n",
        "Example: A personal finance dashboard could display:\n",
        "- Monthly income vs. expenses (stacked column chart)\n",
        "- Investment portfolio performance (treemap)\n",
        "- Savings goal progress (gauge chart)\n",
        "- Spending breakdown by category (donut chart)\n",
        "\n",
        "These examples demonstrate the versatility of data dashboards across various domains. Each type of dashboard is designed to present relevant information in an easily digestible format, enabling quick understanding and decision-making based on data. As you progress in your data science journey, you'll likely encounter and create many of these dashboard types, adapting them to specific needs and datasets."
      ],
      "metadata": {
        "id": "VYDavDULraqR"
      }
    },
    {
      "cell_type": "markdown",
      "source": [
        "### Example: Another Dashboard\n",
        "Here's another example of a Plotly dashboard. This one allows users to select a month, and see the charts update based on this."
      ],
      "metadata": {
        "id": "qBKDc9moQ2ZZ"
      }
    },
    {
      "cell_type": "code",
      "source": [
        "# @title\n",
        "# Install Plotly if not already installed\n",
        "# Uncomment the following line if Plotly is not installed\n",
        "# !pip install plotly\n",
        "\n",
        "import plotly.graph_objects as go\n",
        "from plotly.subplots import make_subplots\n",
        "import pandas as pd\n",
        "\n",
        "# Sample Data\n",
        "# Monthly Sales Data\n",
        "sales_data = pd.DataFrame({\n",
        "    'Month': ['January', 'February', 'March', 'April', 'May', 'June'],\n",
        "    'Sales': [5000, 7000, 6000, 8000, 7500, 9000]\n",
        "})\n",
        "\n",
        "# Market Share Data\n",
        "market_share_data = pd.DataFrame({\n",
        "    'Brand': ['Crunch-O-Matic', 'SnackMaster', 'Yummy Bites', 'Snacky', 'Other'],\n",
        "    'Share': [35, 25, 20, 15, 5]\n",
        "})\n",
        "\n",
        "# Mad Men Themed Colors\n",
        "colors = {\n",
        "    'background': '#f5f0e1',  # Light beige\n",
        "    'header': '#8b0000',       # Dark red\n",
        "    'text': '#333333',         # Dark gray\n",
        "    'bar': '#8b0000',          # Dark red\n",
        "    'pie': ['#8b0000', '#ff8c00', '#ffd700', '#4682b4', '#808080']  # Complementary colors\n",
        "}\n",
        "\n",
        "# Create Subplots\n",
        "fig = make_subplots(\n",
        "    rows=1, cols=2,\n",
        "    specs=[[{\"type\": \"bar\"}, {\"type\": \"pie\"}]],\n",
        "    subplot_titles=(\"Monthly Sales\", \"Market Share\")\n",
        ")\n",
        "\n",
        "# Add Initial Bar Chart (All Months)\n",
        "fig.add_trace(\n",
        "    go.Bar(\n",
        "        x=sales_data['Month'],\n",
        "        y=sales_data['Sales'],\n",
        "        marker_color=colors['bar'],\n",
        "        name='Sales',\n",
        "        hovertemplate='Month: %{x}<br>Sales: $%{y}<extra></extra>',\n",
        "        visible=True  # Initially visible\n",
        "    ),\n",
        "    row=1, col=1\n",
        ")\n",
        "\n",
        "# Add Pie Chart\n",
        "fig.add_trace(\n",
        "    go.Pie(\n",
        "        labels=market_share_data['Brand'],\n",
        "        values=market_share_data['Share'],\n",
        "        marker=dict(colors=colors['pie']),\n",
        "        hoverinfo='label+percent',\n",
        "        textinfo='label+percent',\n",
        "        textfont=dict(color='black'),\n",
        "        name='Market Share',\n",
        "        visible=True  # Always visible\n",
        "    ),\n",
        "    row=1, col=2\n",
        ")\n",
        "\n",
        "# Define Dropdown Buttons\n",
        "dropdown_buttons = [\n",
        "    dict(\n",
        "        label=\"All Months\",\n",
        "        method=\"update\",\n",
        "        args=[\n",
        "            {\"visible\": [True, True]},\n",
        "            {\"title\": \"Monthly Sales - All Months\"}\n",
        "        ]\n",
        "    )\n",
        "]\n",
        "\n",
        "# Add a button for each month to filter the bar chart\n",
        "for i, month in enumerate(sales_data['Month']):\n",
        "    # To show only the selected month's bar, we need to create separate traces\n",
        "    # However, since we have only one bar trace, we'll simulate by updating the bar trace's data\n",
        "    # Instead of visibility, we'll update the y-values based on selection\n",
        "    # But Plotly's buttons don't support data updates directly, so a workaround is needed\n",
        "    # Alternatively, pre-create traces for each month\n",
        "    fig.add_trace(\n",
        "        go.Bar(\n",
        "            x=[month],\n",
        "            y=[sales_data.loc[sales_data['Month'] == month, 'Sales'].values[0]],\n",
        "            marker_color=colors['bar'],\n",
        "            name='Sales',\n",
        "            hovertemplate='Month: %{x}<br>Sales: $%{y}<extra></extra>',\n",
        "            visible=False  # Initially not visible\n",
        "        ),\n",
        "        row=1, col=1\n",
        "    )\n",
        "    # Update the dropdown_buttons with the new trace visibility\n",
        "    # The first trace is 'All Months', followed by individual month traces\n",
        "    # So, to show a specific month, we set only that trace to visible\n",
        "    dropdown_buttons.append(\n",
        "        dict(\n",
        "            label=month,\n",
        "            method=\"update\",\n",
        "            args=[\n",
        "                {\"visible\": [False] + [False]*(i) + [True] + [False]*(len(sales_data['Month'])-i-1) + [True]},\n",
        "                {\"title\": f\"Monthly Sales - {month}\"}\n",
        "            ]\n",
        "        )\n",
        "    )\n",
        "\n",
        "# Update Layout with Dropdown\n",
        "fig.update_layout(\n",
        "    updatemenus=[\n",
        "        dict(\n",
        "            active=0,\n",
        "            buttons=dropdown_buttons,\n",
        "            x=1.15,\n",
        "            y=1,\n",
        "            xanchor='left',\n",
        "            yanchor='top'\n",
        "        )\n",
        "    ],\n",
        "    title_text=\"Crunch-O-Matic Dashboard\",\n",
        "    title_x=0.5,\n",
        "    plot_bgcolor=colors['background'],\n",
        "    paper_bgcolor=colors['background'],\n",
        "    font=dict(\n",
        "        family=\"Playfair Display, serif\",\n",
        "        size=14,\n",
        "        color=colors['text']\n",
        "    ),\n",
        "    showlegend=True,\n",
        "    legend=dict(\n",
        "        font=dict(\n",
        "            family=\"Open Sans, sans-serif\",\n",
        "            size=12,\n",
        "            color=colors['text']\n",
        "        )\n",
        "    )\n",
        ")\n",
        "\n",
        "# Update Axes\n",
        "fig.update_yaxes(title_text=\"Sales ($)\", row=1, col=1)\n",
        "fig.update_xaxes(title_text=\"Month\", row=1, col=1)\n",
        "\n",
        "# Display the Dashboard\n",
        "fig.show()\n"
      ],
      "metadata": {
        "cellView": "form",
        "id": "bo42r8uyRmDk",
        "outputId": "a6f21282-73fe-463e-a8bd-b9043eecb008",
        "colab": {
          "base_uri": "https://localhost:8080/",
          "height": 542
        }
      },
      "execution_count": 4,
      "outputs": [
        {
          "output_type": "display_data",
          "data": {
            "text/html": [
              "<html>\n",
              "<head><meta charset=\"utf-8\" /></head>\n",
              "<body>\n",
              "    <div>            <script src=\"https://cdnjs.cloudflare.com/ajax/libs/mathjax/2.7.5/MathJax.js?config=TeX-AMS-MML_SVG\"></script><script type=\"text/javascript\">if (window.MathJax && window.MathJax.Hub && window.MathJax.Hub.Config) {window.MathJax.Hub.Config({SVG: {font: \"STIX-Web\"}});}</script>                <script type=\"text/javascript\">window.PlotlyConfig = {MathJaxConfig: 'local'};</script>\n",
              "        <script charset=\"utf-8\" src=\"https://cdn.plot.ly/plotly-2.35.2.min.js\"></script>                <div id=\"55cffa18-9465-411e-9fa8-8b7f90a9545d\" class=\"plotly-graph-div\" style=\"height:525px; width:100%;\"></div>            <script type=\"text/javascript\">                                    window.PLOTLYENV=window.PLOTLYENV || {};                                    if (document.getElementById(\"55cffa18-9465-411e-9fa8-8b7f90a9545d\")) {                    Plotly.newPlot(                        \"55cffa18-9465-411e-9fa8-8b7f90a9545d\",                        [{\"hovertemplate\":\"Month: %{x}\\u003cbr\\u003eSales: $%{y}\\u003cextra\\u003e\\u003c\\u002fextra\\u003e\",\"marker\":{\"color\":\"#8b0000\"},\"name\":\"Sales\",\"visible\":true,\"x\":[\"January\",\"February\",\"March\",\"April\",\"May\",\"June\"],\"y\":[5000,7000,6000,8000,7500,9000],\"type\":\"bar\",\"xaxis\":\"x\",\"yaxis\":\"y\"},{\"hoverinfo\":\"label+percent\",\"labels\":[\"Crunch-O-Matic\",\"SnackMaster\",\"Yummy Bites\",\"Snacky\",\"Other\"],\"marker\":{\"colors\":[\"#8b0000\",\"#ff8c00\",\"#ffd700\",\"#4682b4\",\"#808080\"]},\"name\":\"Market Share\",\"textfont\":{\"color\":\"black\"},\"textinfo\":\"label+percent\",\"values\":[35,25,20,15,5],\"visible\":true,\"type\":\"pie\",\"domain\":{\"x\":[0.55,1.0],\"y\":[0.0,1.0]}},{\"hovertemplate\":\"Month: %{x}\\u003cbr\\u003eSales: $%{y}\\u003cextra\\u003e\\u003c\\u002fextra\\u003e\",\"marker\":{\"color\":\"#8b0000\"},\"name\":\"Sales\",\"visible\":false,\"x\":[\"January\"],\"y\":[5000],\"type\":\"bar\",\"xaxis\":\"x\",\"yaxis\":\"y\"},{\"hovertemplate\":\"Month: %{x}\\u003cbr\\u003eSales: $%{y}\\u003cextra\\u003e\\u003c\\u002fextra\\u003e\",\"marker\":{\"color\":\"#8b0000\"},\"name\":\"Sales\",\"visible\":false,\"x\":[\"February\"],\"y\":[7000],\"type\":\"bar\",\"xaxis\":\"x\",\"yaxis\":\"y\"},{\"hovertemplate\":\"Month: %{x}\\u003cbr\\u003eSales: $%{y}\\u003cextra\\u003e\\u003c\\u002fextra\\u003e\",\"marker\":{\"color\":\"#8b0000\"},\"name\":\"Sales\",\"visible\":false,\"x\":[\"March\"],\"y\":[6000],\"type\":\"bar\",\"xaxis\":\"x\",\"yaxis\":\"y\"},{\"hovertemplate\":\"Month: %{x}\\u003cbr\\u003eSales: $%{y}\\u003cextra\\u003e\\u003c\\u002fextra\\u003e\",\"marker\":{\"color\":\"#8b0000\"},\"name\":\"Sales\",\"visible\":false,\"x\":[\"April\"],\"y\":[8000],\"type\":\"bar\",\"xaxis\":\"x\",\"yaxis\":\"y\"},{\"hovertemplate\":\"Month: %{x}\\u003cbr\\u003eSales: $%{y}\\u003cextra\\u003e\\u003c\\u002fextra\\u003e\",\"marker\":{\"color\":\"#8b0000\"},\"name\":\"Sales\",\"visible\":false,\"x\":[\"May\"],\"y\":[7500],\"type\":\"bar\",\"xaxis\":\"x\",\"yaxis\":\"y\"},{\"hovertemplate\":\"Month: %{x}\\u003cbr\\u003eSales: $%{y}\\u003cextra\\u003e\\u003c\\u002fextra\\u003e\",\"marker\":{\"color\":\"#8b0000\"},\"name\":\"Sales\",\"visible\":false,\"x\":[\"June\"],\"y\":[9000],\"type\":\"bar\",\"xaxis\":\"x\",\"yaxis\":\"y\"}],                        {\"template\":{\"data\":{\"histogram2dcontour\":[{\"type\":\"histogram2dcontour\",\"colorbar\":{\"outlinewidth\":0,\"ticks\":\"\"},\"colorscale\":[[0.0,\"#0d0887\"],[0.1111111111111111,\"#46039f\"],[0.2222222222222222,\"#7201a8\"],[0.3333333333333333,\"#9c179e\"],[0.4444444444444444,\"#bd3786\"],[0.5555555555555556,\"#d8576b\"],[0.6666666666666666,\"#ed7953\"],[0.7777777777777778,\"#fb9f3a\"],[0.8888888888888888,\"#fdca26\"],[1.0,\"#f0f921\"]]}],\"choropleth\":[{\"type\":\"choropleth\",\"colorbar\":{\"outlinewidth\":0,\"ticks\":\"\"}}],\"histogram2d\":[{\"type\":\"histogram2d\",\"colorbar\":{\"outlinewidth\":0,\"ticks\":\"\"},\"colorscale\":[[0.0,\"#0d0887\"],[0.1111111111111111,\"#46039f\"],[0.2222222222222222,\"#7201a8\"],[0.3333333333333333,\"#9c179e\"],[0.4444444444444444,\"#bd3786\"],[0.5555555555555556,\"#d8576b\"],[0.6666666666666666,\"#ed7953\"],[0.7777777777777778,\"#fb9f3a\"],[0.8888888888888888,\"#fdca26\"],[1.0,\"#f0f921\"]]}],\"heatmap\":[{\"type\":\"heatmap\",\"colorbar\":{\"outlinewidth\":0,\"ticks\":\"\"},\"colorscale\":[[0.0,\"#0d0887\"],[0.1111111111111111,\"#46039f\"],[0.2222222222222222,\"#7201a8\"],[0.3333333333333333,\"#9c179e\"],[0.4444444444444444,\"#bd3786\"],[0.5555555555555556,\"#d8576b\"],[0.6666666666666666,\"#ed7953\"],[0.7777777777777778,\"#fb9f3a\"],[0.8888888888888888,\"#fdca26\"],[1.0,\"#f0f921\"]]}],\"heatmapgl\":[{\"type\":\"heatmapgl\",\"colorbar\":{\"outlinewidth\":0,\"ticks\":\"\"},\"colorscale\":[[0.0,\"#0d0887\"],[0.1111111111111111,\"#46039f\"],[0.2222222222222222,\"#7201a8\"],[0.3333333333333333,\"#9c179e\"],[0.4444444444444444,\"#bd3786\"],[0.5555555555555556,\"#d8576b\"],[0.6666666666666666,\"#ed7953\"],[0.7777777777777778,\"#fb9f3a\"],[0.8888888888888888,\"#fdca26\"],[1.0,\"#f0f921\"]]}],\"contourcarpet\":[{\"type\":\"contourcarpet\",\"colorbar\":{\"outlinewidth\":0,\"ticks\":\"\"}}],\"contour\":[{\"type\":\"contour\",\"colorbar\":{\"outlinewidth\":0,\"ticks\":\"\"},\"colorscale\":[[0.0,\"#0d0887\"],[0.1111111111111111,\"#46039f\"],[0.2222222222222222,\"#7201a8\"],[0.3333333333333333,\"#9c179e\"],[0.4444444444444444,\"#bd3786\"],[0.5555555555555556,\"#d8576b\"],[0.6666666666666666,\"#ed7953\"],[0.7777777777777778,\"#fb9f3a\"],[0.8888888888888888,\"#fdca26\"],[1.0,\"#f0f921\"]]}],\"surface\":[{\"type\":\"surface\",\"colorbar\":{\"outlinewidth\":0,\"ticks\":\"\"},\"colorscale\":[[0.0,\"#0d0887\"],[0.1111111111111111,\"#46039f\"],[0.2222222222222222,\"#7201a8\"],[0.3333333333333333,\"#9c179e\"],[0.4444444444444444,\"#bd3786\"],[0.5555555555555556,\"#d8576b\"],[0.6666666666666666,\"#ed7953\"],[0.7777777777777778,\"#fb9f3a\"],[0.8888888888888888,\"#fdca26\"],[1.0,\"#f0f921\"]]}],\"mesh3d\":[{\"type\":\"mesh3d\",\"colorbar\":{\"outlinewidth\":0,\"ticks\":\"\"}}],\"scatter\":[{\"fillpattern\":{\"fillmode\":\"overlay\",\"size\":10,\"solidity\":0.2},\"type\":\"scatter\"}],\"parcoords\":[{\"type\":\"parcoords\",\"line\":{\"colorbar\":{\"outlinewidth\":0,\"ticks\":\"\"}}}],\"scatterpolargl\":[{\"type\":\"scatterpolargl\",\"marker\":{\"colorbar\":{\"outlinewidth\":0,\"ticks\":\"\"}}}],\"bar\":[{\"error_x\":{\"color\":\"#2a3f5f\"},\"error_y\":{\"color\":\"#2a3f5f\"},\"marker\":{\"line\":{\"color\":\"#E5ECF6\",\"width\":0.5},\"pattern\":{\"fillmode\":\"overlay\",\"size\":10,\"solidity\":0.2}},\"type\":\"bar\"}],\"scattergeo\":[{\"type\":\"scattergeo\",\"marker\":{\"colorbar\":{\"outlinewidth\":0,\"ticks\":\"\"}}}],\"scatterpolar\":[{\"type\":\"scatterpolar\",\"marker\":{\"colorbar\":{\"outlinewidth\":0,\"ticks\":\"\"}}}],\"histogram\":[{\"marker\":{\"pattern\":{\"fillmode\":\"overlay\",\"size\":10,\"solidity\":0.2}},\"type\":\"histogram\"}],\"scattergl\":[{\"type\":\"scattergl\",\"marker\":{\"colorbar\":{\"outlinewidth\":0,\"ticks\":\"\"}}}],\"scatter3d\":[{\"type\":\"scatter3d\",\"line\":{\"colorbar\":{\"outlinewidth\":0,\"ticks\":\"\"}},\"marker\":{\"colorbar\":{\"outlinewidth\":0,\"ticks\":\"\"}}}],\"scattermapbox\":[{\"type\":\"scattermapbox\",\"marker\":{\"colorbar\":{\"outlinewidth\":0,\"ticks\":\"\"}}}],\"scatterternary\":[{\"type\":\"scatterternary\",\"marker\":{\"colorbar\":{\"outlinewidth\":0,\"ticks\":\"\"}}}],\"scattercarpet\":[{\"type\":\"scattercarpet\",\"marker\":{\"colorbar\":{\"outlinewidth\":0,\"ticks\":\"\"}}}],\"carpet\":[{\"aaxis\":{\"endlinecolor\":\"#2a3f5f\",\"gridcolor\":\"white\",\"linecolor\":\"white\",\"minorgridcolor\":\"white\",\"startlinecolor\":\"#2a3f5f\"},\"baxis\":{\"endlinecolor\":\"#2a3f5f\",\"gridcolor\":\"white\",\"linecolor\":\"white\",\"minorgridcolor\":\"white\",\"startlinecolor\":\"#2a3f5f\"},\"type\":\"carpet\"}],\"table\":[{\"cells\":{\"fill\":{\"color\":\"#EBF0F8\"},\"line\":{\"color\":\"white\"}},\"header\":{\"fill\":{\"color\":\"#C8D4E3\"},\"line\":{\"color\":\"white\"}},\"type\":\"table\"}],\"barpolar\":[{\"marker\":{\"line\":{\"color\":\"#E5ECF6\",\"width\":0.5},\"pattern\":{\"fillmode\":\"overlay\",\"size\":10,\"solidity\":0.2}},\"type\":\"barpolar\"}],\"pie\":[{\"automargin\":true,\"type\":\"pie\"}]},\"layout\":{\"autotypenumbers\":\"strict\",\"colorway\":[\"#636efa\",\"#EF553B\",\"#00cc96\",\"#ab63fa\",\"#FFA15A\",\"#19d3f3\",\"#FF6692\",\"#B6E880\",\"#FF97FF\",\"#FECB52\"],\"font\":{\"color\":\"#2a3f5f\"},\"hovermode\":\"closest\",\"hoverlabel\":{\"align\":\"left\"},\"paper_bgcolor\":\"white\",\"plot_bgcolor\":\"#E5ECF6\",\"polar\":{\"bgcolor\":\"#E5ECF6\",\"angularaxis\":{\"gridcolor\":\"white\",\"linecolor\":\"white\",\"ticks\":\"\"},\"radialaxis\":{\"gridcolor\":\"white\",\"linecolor\":\"white\",\"ticks\":\"\"}},\"ternary\":{\"bgcolor\":\"#E5ECF6\",\"aaxis\":{\"gridcolor\":\"white\",\"linecolor\":\"white\",\"ticks\":\"\"},\"baxis\":{\"gridcolor\":\"white\",\"linecolor\":\"white\",\"ticks\":\"\"},\"caxis\":{\"gridcolor\":\"white\",\"linecolor\":\"white\",\"ticks\":\"\"}},\"coloraxis\":{\"colorbar\":{\"outlinewidth\":0,\"ticks\":\"\"}},\"colorscale\":{\"sequential\":[[0.0,\"#0d0887\"],[0.1111111111111111,\"#46039f\"],[0.2222222222222222,\"#7201a8\"],[0.3333333333333333,\"#9c179e\"],[0.4444444444444444,\"#bd3786\"],[0.5555555555555556,\"#d8576b\"],[0.6666666666666666,\"#ed7953\"],[0.7777777777777778,\"#fb9f3a\"],[0.8888888888888888,\"#fdca26\"],[1.0,\"#f0f921\"]],\"sequentialminus\":[[0.0,\"#0d0887\"],[0.1111111111111111,\"#46039f\"],[0.2222222222222222,\"#7201a8\"],[0.3333333333333333,\"#9c179e\"],[0.4444444444444444,\"#bd3786\"],[0.5555555555555556,\"#d8576b\"],[0.6666666666666666,\"#ed7953\"],[0.7777777777777778,\"#fb9f3a\"],[0.8888888888888888,\"#fdca26\"],[1.0,\"#f0f921\"]],\"diverging\":[[0,\"#8e0152\"],[0.1,\"#c51b7d\"],[0.2,\"#de77ae\"],[0.3,\"#f1b6da\"],[0.4,\"#fde0ef\"],[0.5,\"#f7f7f7\"],[0.6,\"#e6f5d0\"],[0.7,\"#b8e186\"],[0.8,\"#7fbc41\"],[0.9,\"#4d9221\"],[1,\"#276419\"]]},\"xaxis\":{\"gridcolor\":\"white\",\"linecolor\":\"white\",\"ticks\":\"\",\"title\":{\"standoff\":15},\"zerolinecolor\":\"white\",\"automargin\":true,\"zerolinewidth\":2},\"yaxis\":{\"gridcolor\":\"white\",\"linecolor\":\"white\",\"ticks\":\"\",\"title\":{\"standoff\":15},\"zerolinecolor\":\"white\",\"automargin\":true,\"zerolinewidth\":2},\"scene\":{\"xaxis\":{\"backgroundcolor\":\"#E5ECF6\",\"gridcolor\":\"white\",\"linecolor\":\"white\",\"showbackground\":true,\"ticks\":\"\",\"zerolinecolor\":\"white\",\"gridwidth\":2},\"yaxis\":{\"backgroundcolor\":\"#E5ECF6\",\"gridcolor\":\"white\",\"linecolor\":\"white\",\"showbackground\":true,\"ticks\":\"\",\"zerolinecolor\":\"white\",\"gridwidth\":2},\"zaxis\":{\"backgroundcolor\":\"#E5ECF6\",\"gridcolor\":\"white\",\"linecolor\":\"white\",\"showbackground\":true,\"ticks\":\"\",\"zerolinecolor\":\"white\",\"gridwidth\":2}},\"shapedefaults\":{\"line\":{\"color\":\"#2a3f5f\"}},\"annotationdefaults\":{\"arrowcolor\":\"#2a3f5f\",\"arrowhead\":0,\"arrowwidth\":1},\"geo\":{\"bgcolor\":\"white\",\"landcolor\":\"#E5ECF6\",\"subunitcolor\":\"white\",\"showland\":true,\"showlakes\":true,\"lakecolor\":\"white\"},\"title\":{\"x\":0.05},\"mapbox\":{\"style\":\"light\"}}},\"xaxis\":{\"anchor\":\"y\",\"domain\":[0.0,0.45],\"title\":{\"text\":\"Month\"}},\"yaxis\":{\"anchor\":\"x\",\"domain\":[0.0,1.0],\"title\":{\"text\":\"Sales ($)\"}},\"annotations\":[{\"font\":{\"size\":16},\"showarrow\":false,\"text\":\"Monthly Sales\",\"x\":0.225,\"xanchor\":\"center\",\"xref\":\"paper\",\"y\":1.0,\"yanchor\":\"bottom\",\"yref\":\"paper\"},{\"font\":{\"size\":16},\"showarrow\":false,\"text\":\"Market Share\",\"x\":0.775,\"xanchor\":\"center\",\"xref\":\"paper\",\"y\":1.0,\"yanchor\":\"bottom\",\"yref\":\"paper\"}],\"title\":{\"text\":\"Crunch-O-Matic Dashboard\",\"x\":0.5},\"font\":{\"family\":\"Playfair Display, serif\",\"size\":14,\"color\":\"#333333\"},\"legend\":{\"font\":{\"family\":\"Open Sans, sans-serif\",\"size\":12,\"color\":\"#333333\"}},\"updatemenus\":[{\"active\":0,\"buttons\":[{\"args\":[{\"visible\":[true,true]},{\"title\":\"Monthly Sales - All Months\"}],\"label\":\"All Months\",\"method\":\"update\"},{\"args\":[{\"visible\":[false,true,false,false,false,false,false,true]},{\"title\":\"Monthly Sales - January\"}],\"label\":\"January\",\"method\":\"update\"},{\"args\":[{\"visible\":[false,false,true,false,false,false,false,true]},{\"title\":\"Monthly Sales - February\"}],\"label\":\"February\",\"method\":\"update\"},{\"args\":[{\"visible\":[false,false,false,true,false,false,false,true]},{\"title\":\"Monthly Sales - March\"}],\"label\":\"March\",\"method\":\"update\"},{\"args\":[{\"visible\":[false,false,false,false,true,false,false,true]},{\"title\":\"Monthly Sales - April\"}],\"label\":\"April\",\"method\":\"update\"},{\"args\":[{\"visible\":[false,false,false,false,false,true,false,true]},{\"title\":\"Monthly Sales - May\"}],\"label\":\"May\",\"method\":\"update\"},{\"args\":[{\"visible\":[false,false,false,false,false,false,true,true]},{\"title\":\"Monthly Sales - June\"}],\"label\":\"June\",\"method\":\"update\"}],\"x\":1.15,\"xanchor\":\"left\",\"y\":1,\"yanchor\":\"top\"}],\"plot_bgcolor\":\"#f5f0e1\",\"paper_bgcolor\":\"#f5f0e1\",\"showlegend\":true},                        {\"responsive\": true}                    ).then(function(){\n",
              "                            \n",
              "var gd = document.getElementById('55cffa18-9465-411e-9fa8-8b7f90a9545d');\n",
              "var x = new MutationObserver(function (mutations, observer) {{\n",
              "        var display = window.getComputedStyle(gd).display;\n",
              "        if (!display || display === 'none') {{\n",
              "            console.log([gd, 'removed!']);\n",
              "            Plotly.purge(gd);\n",
              "            observer.disconnect();\n",
              "        }}\n",
              "}});\n",
              "\n",
              "// Listen for the removal of the full notebook cells\n",
              "var notebookContainer = gd.closest('#notebook-container');\n",
              "if (notebookContainer) {{\n",
              "    x.observe(notebookContainer, {childList: true});\n",
              "}}\n",
              "\n",
              "// Listen for the clearing of the current output cell\n",
              "var outputEl = gd.closest('.output');\n",
              "if (outputEl) {{\n",
              "    x.observe(outputEl, {childList: true});\n",
              "}}\n",
              "\n",
              "                        })                };                            </script>        </div>\n",
              "</body>\n",
              "</html>"
            ]
          },
          "metadata": {}
        }
      ]
    },
    {
      "cell_type": "markdown",
      "source": [
        "## What considerations go into designing dashboards?\n",
        "\n",
        "When designing a data dashboard, several key factors need to be taken into account to ensure the dashboard is effective, informative, and user-friendly. Let's explore these considerations:\n",
        "\n",
        "### Data source and attributes\n",
        "\n",
        "The foundation of any good dashboard is the data it presents. Understanding your data is crucial for creating meaningful visualizations.\n",
        "\n",
        "#### Field definitions\n",
        "\n",
        "**Field definitions** refer to the specific pieces of information in your dataset. For example, in our Crunch-O-Matic scenario, fields might include:\n",
        "\n",
        "- Product Name\n",
        "- Sales Amount\n",
        "- Date of Sale\n",
        "- Customer Age\n",
        "- Region\n",
        "\n",
        "It's important to clearly define what each field represents and how it's measured.\n",
        "\n",
        "#### Dimensions\n",
        "\n",
        "**Dimensions** are categorical fields that can be used to group or segment your data. They often answer questions like \"who,\" \"what,\" or \"where.\" In our example, dimensions could include:\n",
        "\n",
        "- Product Name\n",
        "- Region\n",
        "- Customer Age Group\n",
        "\n",
        "Dimensions help provide context and allow for more detailed analysis.\n",
        "\n",
        "#### Measures\n",
        "\n",
        "**Measures** are quantitative fields that can be aggregated (summed, averaged, etc.). They often answer questions like \"how many\" or \"how much.\" In our Crunch-O-Matic example, measures might include:\n",
        "\n",
        "- Sales Amount\n",
        "- Units Sold\n",
        "- Profit Margin\n",
        "\n",
        "Measures are what you typically want to analyze or track over time.\n",
        "\n",
        "#### Continuous/live data vs static data\n",
        "\n",
        "The nature of your data will influence how your dashboard is designed and updated:\n",
        "\n",
        "- **Continuous or live data** is constantly changing and updating. For example, real-time sales data or social media engagement metrics. Dashboards with live data need to be designed to update automatically and handle potential fluctuations.\n",
        "\n",
        "- **Static data** is fixed and doesn't change frequently. For example, historical sales data from previous years. Dashboards with static data might be updated less frequently but could focus more on in-depth analysis.\n",
        "\n",
        "### Consumer types\n",
        "\n",
        "Different users have different needs and levels of data literacy. Consider who will be using the dashboard:\n",
        "\n",
        "#### C-level executives\n",
        "\n",
        "- Need: High-level overview of key performance indicators (KPIs)\n",
        "- Design consideration: Simple, clear visualizations focusing on the most critical metrics\n",
        "\n",
        "#### Management\n",
        "\n",
        "- Need: Detailed performance metrics for their specific area of responsibility\n",
        "- Design consideration: More in-depth dashboards with the ability to drill down into specific data points\n",
        "\n",
        "#### External vendors/stakeholders\n",
        "\n",
        "- Need: Relevant data that doesn't expose sensitive company information\n",
        "- Design consideration: Carefully curated dashboards that provide necessary insights while maintaining data security\n",
        "\n",
        "#### General public\n",
        "\n",
        "- Need: Easy-to-understand information without technical jargon\n",
        "- Design consideration: Simple, intuitive visualizations with clear explanations and context\n",
        "\n",
        "#### Technical Experts\n",
        "\n",
        "- Need: Detailed, granular data with the ability to perform advanced analysis\n",
        "- Design consideration: Complex dashboards with multiple interactive features and the ability to export raw data\n",
        "\n",
        "By carefully considering these factors, you can create dashboards that are not only visually appealing but also highly functional and valuable to their intended users."
      ],
      "metadata": {
        "id": "SoMKC2B5sKOX"
      }
    },
    {
      "cell_type": "markdown",
      "source": [
        "## Development process\n",
        "\n",
        "Creating an effective data dashboard is a multi-step process that requires careful planning, design, and execution. Each stage of the development process is crucial in ensuring that the final product meets the needs of its users and effectively communicates the intended data story. Let's walk through the typical development process, exploring each step in detail.\n",
        "\n",
        "### Mockup/wireframe\n",
        "\n",
        "The journey of dashboard creation begins with a blueprint. A **mockup** or **wireframe** serves as a visual draft of your dashboard, allowing you to plan its layout and functionality before diving into the actual development. This crucial step helps you organize your thoughts, experiment with different layouts, and get early feedback from stakeholders.\n",
        "\n",
        "### Layout/presentation\n",
        "\n",
        "Thelayout of your dashboard is like the foundation of a house - it needs to be solid and well-planned. A good layout ensures that information is presented clearly and logically, making it easy for users to find what they need. When designing your layout, consider the following aspects:\n",
        "\n",
        "- Place the most important information where it will be seen first (typically top-left for Western audiences), establishing a clear **information hierarchy**.\n",
        "- Keep related visualizations close to each other, effectively **grouping related items**.\n",
        "- Don't overcrowd the dashboard. Allow for some empty space to make it easier to read, utilizing **white space** effectively.\n",
        "- Use a **consistent style** throughout the dashboard to create a cohesive look and feel.\n",
        "\n",
        "### Flow/navigation\n",
        "\n",
        "Just as a well-designed building guides visitors naturally from one area to another, your dashboard should have an intuitive flow. This involves thinking about how users will interact with your dashboard and move between different sections or levels of information. Consider these points:\n",
        "\n",
        "- Make it obvious how to use the dashboard, focusing on **intuitive design**.\n",
        "- Arrange elements in a way that makes sense for the data story you're telling, creating a logical order.\n",
        "- Plan where users can click, filter, or drill down for more information, incorporating thoughtful interactivity.\n",
        "\n",
        "### Data story planning\n",
        "\n",
        "Every good dashboard tells a story with data. Before you start building, it's important to plan out what narrative your dashboard will convey. This involves thinking about:\n",
        "\n",
        "- The main message you want to communicate through your **narrative**.\n",
        "- How the different elements of your dashboard support this message.\n",
        "- What questions the user should be able to answer by using your dashboard.\n"
      ],
      "metadata": {
        "id": "VqJSDNiItTnX"
      }
    },
    {
      "cell_type": "markdown",
      "source": [
        "### WHen Approval is Granted...\n",
        "\n",
        "Once you've crafted your mockup, the next step is to get the green light from stakeholders. This approval process is more than just a formality - it's an opportunity to ensure that your design aligns with the needs and expectations of those who will be using or overseeing the dashboard.\n",
        "\n",
        "The approval process might involve presenting your mockup to:\n",
        "\n",
        "- The **end-users** of the dashboard, who can provide valuable insights into usability and relevance.\n",
        "- Your **manager or team lead**, who can assess how well the dashboard meets project goals.\n",
        "- **Clients** (if you're creating the dashboard for external use), who can confirm that it meets their specific requirements.\n",
        "\n",
        "Be prepared to explain your design choices and how the dashboard meets the defined requirements. This is also a great opportunity to gather additional feedback that can help refine your design before moving into the development phase."
      ],
      "metadata": {
        "id": "uYZ32gapt-dA"
      }
    },
    {
      "cell_type": "markdown",
      "source": [
        "## Develop dashboard\n",
        "\n",
        "With approval in hand, it's time to bring your dashboard to life. This stage is where your planning and design work starts to take tangible form. The development process typically involves several key steps:\n",
        "\n",
        "1. Start by cleaning and structuring your data for use in the dashboard. This **data preparation** phase is crucial for ensuring accurate and meaningful visualizations.\n",
        "\n",
        "2. Use tools like Plotly to create the charts and graphs you planned in your mockup. This **visualization creation** step is where your data starts to tell its story visually.\n",
        "\n",
        "3. Implement filters, drill-downs, and other interactive elements. This **interactivity addition** allows users to explore the data more deeply and find insights relevant to their specific needs.\n",
        "\n",
        "4. Apply your chosen color scheme and fonts to make the dashboard visually appealing. This **styling** phase helps ensure your dashboard is not just functional, but also aesthetically pleasing.\n",
        "\n",
        "5. Ensure all elements of the dashboard work as intended with real data. This **testing** phase is critical for catching and fixing any issues before the dashboard goes live.\n",
        "\n",
        "## Deploy to production\n",
        "\n",
        "The final step in the dashboard development process is deploying it to production. This is where your creation goes from a development environment to being accessible by its intended users. The deployment process involves several important steps to ensure a smooth transition:\n",
        "\n",
        "1. Move your dashboard to where it will be permanently hosted, whether that's a server, cloud platform, or another **production environment**.\n",
        "\n",
        "2. Make sure your dashboard can access all necessary data sources in its new home by **setting up data connections**.\n",
        "\n",
        "3. Have a group of end-users test the dashboard in its production environment to catch any last-minute issues. This **user testing** phase can reveal problems that weren't apparent in development.\n",
        "\n",
        "4. Create **user guides or help documentation** if needed, especially for complex dashboards or those introducing new concepts to users.\n",
        "\n",
        "5. Provide **training** to users to ensure they can make the most of the dashboard's features and understand how to interpret the data presented.\n",
        "\n",
        "6. Set up systems to **monitor** the dashboard's performance and usage. This can help you identify any issues quickly and understand how the dashboard is being used.\n",
        "\n",
        "Remember, dashboard development is often an iterative process. After deployment, you may receive feedback from users that leads to further refinements and improvements. Being open to this feedback and willing to make adjustments is key to creating a truly effective and user-friendly dashboard."
      ],
      "metadata": {
        "id": "z--pFTmQtwCJ"
      }
    },
    {
      "cell_type": "markdown",
      "source": [
        "# Introduction to Plotly and Plotly Express\n",
        "\n",
        "Now that we've explored the general concepts of data dashboards, their types, and the development process, let's dive into a powerful tool that will help us bring our dashboards to life: Plotly.\n",
        "\n",
        "## What is Plotly?\n",
        "\n",
        "**Plotly** is a data visualization library that allows you to create interactive, publication-quality graphs and charts. It's particularly well-suited for creating dashboards because of its wide range of chart types and its ability to create web-based, interactive visualizations.\n",
        "\n",
        "Plotly has several components:\n",
        "\n",
        "1. **Plotly.js** is the core JavaScript library that powers the visualizations.\n",
        "2. **Plotly.py** is the Python library that allows you to create Plotly visualizations in Python.\n",
        "3. **Plotly Express** is a high-level interface for Plotly.py that makes it easy to create common charts with just a few lines of code.\n",
        "4. **Dash** is a framework for building analytical web applications, powered by Plotly visualizations.\n",
        "\n",
        "For our Mad Men-style ad campaign dashboards, we'll primarily focus on **Plotly Express** and **Dash**.\n",
        "\n",
        "## Plotly Express: The Quick and Easy Way to Create Charts\n",
        "\n",
        "**Plotly Express** is designed to simplify the process of creating common charts. It's part of the `plotly` library and is typically imported as `px`. Here's the basic format for creating charts with Plotly Express:\n",
        "\n",
        "```python\n",
        "import plotly.express as px\n",
        "\n",
        "# Create a figure\n",
        "fig = px.chart_type(data_frame=your_dataframe, x='x_column', y='y_column', ...)\n",
        "\n",
        "# Show the figure\n",
        "fig.show()\n",
        "```\n",
        "\n",
        "Let's break this down:\n",
        "\n",
        "- `px.chart_type`: This is where you specify the type of chart you want to create (e.g., `px.line`, `px.bar`, `px.scatter`).\n",
        "- `data_frame`: This is your pandas DataFrame containing the data you want to visualize.\n",
        "- `x` and `y`: These specify which columns from your DataFrame to use for the x and y axes.\n",
        "- Additional parameters can be used to customize colors, labels, titles, and more.\n",
        "\n",
        "For example, let's create a simple line chart showing Crunch-O-Matic's sales over time:\n"
      ],
      "metadata": {
        "id": "Ox6HkK8OtwLy"
      }
    },
    {
      "cell_type": "code",
      "source": [
        "import plotly.express as px\n",
        "import pandas as pd\n",
        "\n",
        "# Sample data\n",
        "data = {\n",
        "    'Date': ['2023-01-01', '2023-02-01', '2023-03-01', '2023-04-01'],\n",
        "    'Sales': [1000, 1200, 900, 1500]\n",
        "}\n",
        "df = pd.DataFrame(data)\n",
        "\n",
        "# Create the line chart\n",
        "fig = px.line(df, x='Date', y='Sales', title='Crunch-O-Matic Sales Over Time')\n",
        "\n",
        "# Show the figure\n",
        "fig.show()"
      ],
      "metadata": {
        "colab": {
          "base_uri": "https://localhost:8080/",
          "height": 542
        },
        "id": "FOnhUQfTvuqQ",
        "outputId": "6b7a843e-7164-46fd-89f6-bc5a757fc7d8"
      },
      "execution_count": 15,
      "outputs": [
        {
          "output_type": "display_data",
          "data": {
            "text/html": [
              "<html>\n",
              "<head><meta charset=\"utf-8\" /></head>\n",
              "<body>\n",
              "    <div>            <script src=\"https://cdnjs.cloudflare.com/ajax/libs/mathjax/2.7.5/MathJax.js?config=TeX-AMS-MML_SVG\"></script><script type=\"text/javascript\">if (window.MathJax && window.MathJax.Hub && window.MathJax.Hub.Config) {window.MathJax.Hub.Config({SVG: {font: \"STIX-Web\"}});}</script>                <script type=\"text/javascript\">window.PlotlyConfig = {MathJaxConfig: 'local'};</script>\n",
              "        <script charset=\"utf-8\" src=\"https://cdn.plot.ly/plotly-2.35.2.min.js\"></script>                <div id=\"408ff5c4-5f90-405c-aa8c-8ac79b69fc3f\" class=\"plotly-graph-div\" style=\"height:525px; width:100%;\"></div>            <script type=\"text/javascript\">                                    window.PLOTLYENV=window.PLOTLYENV || {};                                    if (document.getElementById(\"408ff5c4-5f90-405c-aa8c-8ac79b69fc3f\")) {                    Plotly.newPlot(                        \"408ff5c4-5f90-405c-aa8c-8ac79b69fc3f\",                        [{\"hovertemplate\":\"Date=%{x}\\u003cbr\\u003eSales=%{y}\\u003cextra\\u003e\\u003c\\u002fextra\\u003e\",\"legendgroup\":\"\",\"line\":{\"color\":\"#636efa\",\"dash\":\"solid\"},\"marker\":{\"symbol\":\"circle\"},\"mode\":\"lines\",\"name\":\"\",\"orientation\":\"v\",\"showlegend\":false,\"x\":[\"2023-01-01\",\"2023-02-01\",\"2023-03-01\",\"2023-04-01\"],\"xaxis\":\"x\",\"y\":[1000,1200,900,1500],\"yaxis\":\"y\",\"type\":\"scatter\"}],                        {\"template\":{\"data\":{\"histogram2dcontour\":[{\"type\":\"histogram2dcontour\",\"colorbar\":{\"outlinewidth\":0,\"ticks\":\"\"},\"colorscale\":[[0.0,\"#0d0887\"],[0.1111111111111111,\"#46039f\"],[0.2222222222222222,\"#7201a8\"],[0.3333333333333333,\"#9c179e\"],[0.4444444444444444,\"#bd3786\"],[0.5555555555555556,\"#d8576b\"],[0.6666666666666666,\"#ed7953\"],[0.7777777777777778,\"#fb9f3a\"],[0.8888888888888888,\"#fdca26\"],[1.0,\"#f0f921\"]]}],\"choropleth\":[{\"type\":\"choropleth\",\"colorbar\":{\"outlinewidth\":0,\"ticks\":\"\"}}],\"histogram2d\":[{\"type\":\"histogram2d\",\"colorbar\":{\"outlinewidth\":0,\"ticks\":\"\"},\"colorscale\":[[0.0,\"#0d0887\"],[0.1111111111111111,\"#46039f\"],[0.2222222222222222,\"#7201a8\"],[0.3333333333333333,\"#9c179e\"],[0.4444444444444444,\"#bd3786\"],[0.5555555555555556,\"#d8576b\"],[0.6666666666666666,\"#ed7953\"],[0.7777777777777778,\"#fb9f3a\"],[0.8888888888888888,\"#fdca26\"],[1.0,\"#f0f921\"]]}],\"heatmap\":[{\"type\":\"heatmap\",\"colorbar\":{\"outlinewidth\":0,\"ticks\":\"\"},\"colorscale\":[[0.0,\"#0d0887\"],[0.1111111111111111,\"#46039f\"],[0.2222222222222222,\"#7201a8\"],[0.3333333333333333,\"#9c179e\"],[0.4444444444444444,\"#bd3786\"],[0.5555555555555556,\"#d8576b\"],[0.6666666666666666,\"#ed7953\"],[0.7777777777777778,\"#fb9f3a\"],[0.8888888888888888,\"#fdca26\"],[1.0,\"#f0f921\"]]}],\"heatmapgl\":[{\"type\":\"heatmapgl\",\"colorbar\":{\"outlinewidth\":0,\"ticks\":\"\"},\"colorscale\":[[0.0,\"#0d0887\"],[0.1111111111111111,\"#46039f\"],[0.2222222222222222,\"#7201a8\"],[0.3333333333333333,\"#9c179e\"],[0.4444444444444444,\"#bd3786\"],[0.5555555555555556,\"#d8576b\"],[0.6666666666666666,\"#ed7953\"],[0.7777777777777778,\"#fb9f3a\"],[0.8888888888888888,\"#fdca26\"],[1.0,\"#f0f921\"]]}],\"contourcarpet\":[{\"type\":\"contourcarpet\",\"colorbar\":{\"outlinewidth\":0,\"ticks\":\"\"}}],\"contour\":[{\"type\":\"contour\",\"colorbar\":{\"outlinewidth\":0,\"ticks\":\"\"},\"colorscale\":[[0.0,\"#0d0887\"],[0.1111111111111111,\"#46039f\"],[0.2222222222222222,\"#7201a8\"],[0.3333333333333333,\"#9c179e\"],[0.4444444444444444,\"#bd3786\"],[0.5555555555555556,\"#d8576b\"],[0.6666666666666666,\"#ed7953\"],[0.7777777777777778,\"#fb9f3a\"],[0.8888888888888888,\"#fdca26\"],[1.0,\"#f0f921\"]]}],\"surface\":[{\"type\":\"surface\",\"colorbar\":{\"outlinewidth\":0,\"ticks\":\"\"},\"colorscale\":[[0.0,\"#0d0887\"],[0.1111111111111111,\"#46039f\"],[0.2222222222222222,\"#7201a8\"],[0.3333333333333333,\"#9c179e\"],[0.4444444444444444,\"#bd3786\"],[0.5555555555555556,\"#d8576b\"],[0.6666666666666666,\"#ed7953\"],[0.7777777777777778,\"#fb9f3a\"],[0.8888888888888888,\"#fdca26\"],[1.0,\"#f0f921\"]]}],\"mesh3d\":[{\"type\":\"mesh3d\",\"colorbar\":{\"outlinewidth\":0,\"ticks\":\"\"}}],\"scatter\":[{\"fillpattern\":{\"fillmode\":\"overlay\",\"size\":10,\"solidity\":0.2},\"type\":\"scatter\"}],\"parcoords\":[{\"type\":\"parcoords\",\"line\":{\"colorbar\":{\"outlinewidth\":0,\"ticks\":\"\"}}}],\"scatterpolargl\":[{\"type\":\"scatterpolargl\",\"marker\":{\"colorbar\":{\"outlinewidth\":0,\"ticks\":\"\"}}}],\"bar\":[{\"error_x\":{\"color\":\"#2a3f5f\"},\"error_y\":{\"color\":\"#2a3f5f\"},\"marker\":{\"line\":{\"color\":\"#E5ECF6\",\"width\":0.5},\"pattern\":{\"fillmode\":\"overlay\",\"size\":10,\"solidity\":0.2}},\"type\":\"bar\"}],\"scattergeo\":[{\"type\":\"scattergeo\",\"marker\":{\"colorbar\":{\"outlinewidth\":0,\"ticks\":\"\"}}}],\"scatterpolar\":[{\"type\":\"scatterpolar\",\"marker\":{\"colorbar\":{\"outlinewidth\":0,\"ticks\":\"\"}}}],\"histogram\":[{\"marker\":{\"pattern\":{\"fillmode\":\"overlay\",\"size\":10,\"solidity\":0.2}},\"type\":\"histogram\"}],\"scattergl\":[{\"type\":\"scattergl\",\"marker\":{\"colorbar\":{\"outlinewidth\":0,\"ticks\":\"\"}}}],\"scatter3d\":[{\"type\":\"scatter3d\",\"line\":{\"colorbar\":{\"outlinewidth\":0,\"ticks\":\"\"}},\"marker\":{\"colorbar\":{\"outlinewidth\":0,\"ticks\":\"\"}}}],\"scattermapbox\":[{\"type\":\"scattermapbox\",\"marker\":{\"colorbar\":{\"outlinewidth\":0,\"ticks\":\"\"}}}],\"scatterternary\":[{\"type\":\"scatterternary\",\"marker\":{\"colorbar\":{\"outlinewidth\":0,\"ticks\":\"\"}}}],\"scattercarpet\":[{\"type\":\"scattercarpet\",\"marker\":{\"colorbar\":{\"outlinewidth\":0,\"ticks\":\"\"}}}],\"carpet\":[{\"aaxis\":{\"endlinecolor\":\"#2a3f5f\",\"gridcolor\":\"white\",\"linecolor\":\"white\",\"minorgridcolor\":\"white\",\"startlinecolor\":\"#2a3f5f\"},\"baxis\":{\"endlinecolor\":\"#2a3f5f\",\"gridcolor\":\"white\",\"linecolor\":\"white\",\"minorgridcolor\":\"white\",\"startlinecolor\":\"#2a3f5f\"},\"type\":\"carpet\"}],\"table\":[{\"cells\":{\"fill\":{\"color\":\"#EBF0F8\"},\"line\":{\"color\":\"white\"}},\"header\":{\"fill\":{\"color\":\"#C8D4E3\"},\"line\":{\"color\":\"white\"}},\"type\":\"table\"}],\"barpolar\":[{\"marker\":{\"line\":{\"color\":\"#E5ECF6\",\"width\":0.5},\"pattern\":{\"fillmode\":\"overlay\",\"size\":10,\"solidity\":0.2}},\"type\":\"barpolar\"}],\"pie\":[{\"automargin\":true,\"type\":\"pie\"}]},\"layout\":{\"autotypenumbers\":\"strict\",\"colorway\":[\"#636efa\",\"#EF553B\",\"#00cc96\",\"#ab63fa\",\"#FFA15A\",\"#19d3f3\",\"#FF6692\",\"#B6E880\",\"#FF97FF\",\"#FECB52\"],\"font\":{\"color\":\"#2a3f5f\"},\"hovermode\":\"closest\",\"hoverlabel\":{\"align\":\"left\"},\"paper_bgcolor\":\"white\",\"plot_bgcolor\":\"#E5ECF6\",\"polar\":{\"bgcolor\":\"#E5ECF6\",\"angularaxis\":{\"gridcolor\":\"white\",\"linecolor\":\"white\",\"ticks\":\"\"},\"radialaxis\":{\"gridcolor\":\"white\",\"linecolor\":\"white\",\"ticks\":\"\"}},\"ternary\":{\"bgcolor\":\"#E5ECF6\",\"aaxis\":{\"gridcolor\":\"white\",\"linecolor\":\"white\",\"ticks\":\"\"},\"baxis\":{\"gridcolor\":\"white\",\"linecolor\":\"white\",\"ticks\":\"\"},\"caxis\":{\"gridcolor\":\"white\",\"linecolor\":\"white\",\"ticks\":\"\"}},\"coloraxis\":{\"colorbar\":{\"outlinewidth\":0,\"ticks\":\"\"}},\"colorscale\":{\"sequential\":[[0.0,\"#0d0887\"],[0.1111111111111111,\"#46039f\"],[0.2222222222222222,\"#7201a8\"],[0.3333333333333333,\"#9c179e\"],[0.4444444444444444,\"#bd3786\"],[0.5555555555555556,\"#d8576b\"],[0.6666666666666666,\"#ed7953\"],[0.7777777777777778,\"#fb9f3a\"],[0.8888888888888888,\"#fdca26\"],[1.0,\"#f0f921\"]],\"sequentialminus\":[[0.0,\"#0d0887\"],[0.1111111111111111,\"#46039f\"],[0.2222222222222222,\"#7201a8\"],[0.3333333333333333,\"#9c179e\"],[0.4444444444444444,\"#bd3786\"],[0.5555555555555556,\"#d8576b\"],[0.6666666666666666,\"#ed7953\"],[0.7777777777777778,\"#fb9f3a\"],[0.8888888888888888,\"#fdca26\"],[1.0,\"#f0f921\"]],\"diverging\":[[0,\"#8e0152\"],[0.1,\"#c51b7d\"],[0.2,\"#de77ae\"],[0.3,\"#f1b6da\"],[0.4,\"#fde0ef\"],[0.5,\"#f7f7f7\"],[0.6,\"#e6f5d0\"],[0.7,\"#b8e186\"],[0.8,\"#7fbc41\"],[0.9,\"#4d9221\"],[1,\"#276419\"]]},\"xaxis\":{\"gridcolor\":\"white\",\"linecolor\":\"white\",\"ticks\":\"\",\"title\":{\"standoff\":15},\"zerolinecolor\":\"white\",\"automargin\":true,\"zerolinewidth\":2},\"yaxis\":{\"gridcolor\":\"white\",\"linecolor\":\"white\",\"ticks\":\"\",\"title\":{\"standoff\":15},\"zerolinecolor\":\"white\",\"automargin\":true,\"zerolinewidth\":2},\"scene\":{\"xaxis\":{\"backgroundcolor\":\"#E5ECF6\",\"gridcolor\":\"white\",\"linecolor\":\"white\",\"showbackground\":true,\"ticks\":\"\",\"zerolinecolor\":\"white\",\"gridwidth\":2},\"yaxis\":{\"backgroundcolor\":\"#E5ECF6\",\"gridcolor\":\"white\",\"linecolor\":\"white\",\"showbackground\":true,\"ticks\":\"\",\"zerolinecolor\":\"white\",\"gridwidth\":2},\"zaxis\":{\"backgroundcolor\":\"#E5ECF6\",\"gridcolor\":\"white\",\"linecolor\":\"white\",\"showbackground\":true,\"ticks\":\"\",\"zerolinecolor\":\"white\",\"gridwidth\":2}},\"shapedefaults\":{\"line\":{\"color\":\"#2a3f5f\"}},\"annotationdefaults\":{\"arrowcolor\":\"#2a3f5f\",\"arrowhead\":0,\"arrowwidth\":1},\"geo\":{\"bgcolor\":\"white\",\"landcolor\":\"#E5ECF6\",\"subunitcolor\":\"white\",\"showland\":true,\"showlakes\":true,\"lakecolor\":\"white\"},\"title\":{\"x\":0.05},\"mapbox\":{\"style\":\"light\"}}},\"xaxis\":{\"anchor\":\"y\",\"domain\":[0.0,1.0],\"title\":{\"text\":\"Date\"}},\"yaxis\":{\"anchor\":\"x\",\"domain\":[0.0,1.0],\"title\":{\"text\":\"Sales\"}},\"legend\":{\"tracegroupgap\":0},\"title\":{\"text\":\"Crunch-O-Matic Sales Over Time\"}},                        {\"responsive\": true}                    ).then(function(){\n",
              "                            \n",
              "var gd = document.getElementById('408ff5c4-5f90-405c-aa8c-8ac79b69fc3f');\n",
              "var x = new MutationObserver(function (mutations, observer) {{\n",
              "        var display = window.getComputedStyle(gd).display;\n",
              "        if (!display || display === 'none') {{\n",
              "            console.log([gd, 'removed!']);\n",
              "            Plotly.purge(gd);\n",
              "            observer.disconnect();\n",
              "        }}\n",
              "}});\n",
              "\n",
              "// Listen for the removal of the full notebook cells\n",
              "var notebookContainer = gd.closest('#notebook-container');\n",
              "if (notebookContainer) {{\n",
              "    x.observe(notebookContainer, {childList: true});\n",
              "}}\n",
              "\n",
              "// Listen for the clearing of the current output cell\n",
              "var outputEl = gd.closest('.output');\n",
              "if (outputEl) {{\n",
              "    x.observe(outputEl, {childList: true});\n",
              "}}\n",
              "\n",
              "                        })                };                            </script>        </div>\n",
              "</body>\n",
              "</html>"
            ]
          },
          "metadata": {}
        }
      ]
    },
    {
      "cell_type": "markdown",
      "source": [
        "\n",
        "This code will create an interactive line chart showing how Crunch-O-Matic's sales have changed over the first four months of 2023.\n",
        "\n",
        "As we move forward, we'll explore how to create various types of charts using Plotly Express, and how to combine these charts into interactive dashboards using Dash. This will allow us to create powerful, data-driven visualizations for our Mad Men-style ad campaigns, helping us make informed decisions about our fictional products like Crunch-O-Matic."
      ],
      "metadata": {
        "id": "yhgrBdLZvsij"
      }
    },
    {
      "cell_type": "markdown",
      "source": [
        "## Line Chart\n",
        "\n",
        "A line chart is one of the most common and versatile chart types. It's primarily used to display data that changes over time, making it perfect for showing trends, patterns, and fluctuations in your data.\n",
        "\n",
        "In a line chart, data points are plotted on a coordinate system and connected with straight line segments. The x-axis typically represents time intervals (like days, months, or years), while the y-axis represents the measured value. This makes it easy to see how a particular metric changes over time.\n",
        "\n",
        "When interpreting a line chart, pay attention to:\n",
        "- The overall trend: Is the line generally going up, down, or staying flat?\n",
        "- Peaks and valleys: Are there any notable high or low points?\n",
        "- Rate of change: How steep are the increases or decreases?\n",
        "- Cyclical patterns: Do you see any repeating patterns over time?\n",
        "\n",
        "For our Crunch-O-Matic campaign, we might use a line chart to track sales over time. This could help us identify seasonal trends, measure the impact of advertising campaigns, or forecast future sales.\n",
        "\n",
        "Let's create a line chart using Plotly Express:\n"
      ],
      "metadata": {
        "id": "cOapVURswzQJ"
      }
    },
    {
      "cell_type": "code",
      "source": [
        "import plotly.express as px\n",
        "import pandas as pd\n",
        "\n",
        "# Sample data\n",
        "data = {\n",
        "    'Date': ['2023-01-01', '2023-02-01', '2023-03-01', '2023-04-01', '2023-05-01', '2023-06-01'],\n",
        "    'Sales': [1000, 1200, 900, 1500, 1800, 1600]\n",
        "}\n",
        "df = pd.DataFrame(data)\n",
        "df['Date'] = pd.to_datetime(df['Date'])  # Convert to datetime\n",
        "\n",
        "# Create the line chart\n",
        "fig = px.line(df, x='Date', y='Sales', title='Crunch-O-Matic Monthly Sales')\n",
        "fig.update_xaxes(title='Month')\n",
        "fig.update_yaxes(title='Sales ($)')\n",
        "\n",
        "fig.show()"
      ],
      "metadata": {
        "colab": {
          "base_uri": "https://localhost:8080/",
          "height": 542
        },
        "id": "KzHH7njzw0Cd",
        "outputId": "d3ff2b7b-ada2-4898-e9b5-f9e7bbb7ff0c"
      },
      "execution_count": 16,
      "outputs": [
        {
          "output_type": "display_data",
          "data": {
            "text/html": [
              "<html>\n",
              "<head><meta charset=\"utf-8\" /></head>\n",
              "<body>\n",
              "    <div>            <script src=\"https://cdnjs.cloudflare.com/ajax/libs/mathjax/2.7.5/MathJax.js?config=TeX-AMS-MML_SVG\"></script><script type=\"text/javascript\">if (window.MathJax && window.MathJax.Hub && window.MathJax.Hub.Config) {window.MathJax.Hub.Config({SVG: {font: \"STIX-Web\"}});}</script>                <script type=\"text/javascript\">window.PlotlyConfig = {MathJaxConfig: 'local'};</script>\n",
              "        <script charset=\"utf-8\" src=\"https://cdn.plot.ly/plotly-2.35.2.min.js\"></script>                <div id=\"91e3a223-067a-41dc-9000-7a79d2a1e8a8\" class=\"plotly-graph-div\" style=\"height:525px; width:100%;\"></div>            <script type=\"text/javascript\">                                    window.PLOTLYENV=window.PLOTLYENV || {};                                    if (document.getElementById(\"91e3a223-067a-41dc-9000-7a79d2a1e8a8\")) {                    Plotly.newPlot(                        \"91e3a223-067a-41dc-9000-7a79d2a1e8a8\",                        [{\"hovertemplate\":\"Date=%{x}\\u003cbr\\u003eSales=%{y}\\u003cextra\\u003e\\u003c\\u002fextra\\u003e\",\"legendgroup\":\"\",\"line\":{\"color\":\"#636efa\",\"dash\":\"solid\"},\"marker\":{\"symbol\":\"circle\"},\"mode\":\"lines\",\"name\":\"\",\"orientation\":\"v\",\"showlegend\":false,\"x\":[\"2023-01-01T00:00:00\",\"2023-02-01T00:00:00\",\"2023-03-01T00:00:00\",\"2023-04-01T00:00:00\",\"2023-05-01T00:00:00\",\"2023-06-01T00:00:00\"],\"xaxis\":\"x\",\"y\":[1000,1200,900,1500,1800,1600],\"yaxis\":\"y\",\"type\":\"scatter\"}],                        {\"template\":{\"data\":{\"histogram2dcontour\":[{\"type\":\"histogram2dcontour\",\"colorbar\":{\"outlinewidth\":0,\"ticks\":\"\"},\"colorscale\":[[0.0,\"#0d0887\"],[0.1111111111111111,\"#46039f\"],[0.2222222222222222,\"#7201a8\"],[0.3333333333333333,\"#9c179e\"],[0.4444444444444444,\"#bd3786\"],[0.5555555555555556,\"#d8576b\"],[0.6666666666666666,\"#ed7953\"],[0.7777777777777778,\"#fb9f3a\"],[0.8888888888888888,\"#fdca26\"],[1.0,\"#f0f921\"]]}],\"choropleth\":[{\"type\":\"choropleth\",\"colorbar\":{\"outlinewidth\":0,\"ticks\":\"\"}}],\"histogram2d\":[{\"type\":\"histogram2d\",\"colorbar\":{\"outlinewidth\":0,\"ticks\":\"\"},\"colorscale\":[[0.0,\"#0d0887\"],[0.1111111111111111,\"#46039f\"],[0.2222222222222222,\"#7201a8\"],[0.3333333333333333,\"#9c179e\"],[0.4444444444444444,\"#bd3786\"],[0.5555555555555556,\"#d8576b\"],[0.6666666666666666,\"#ed7953\"],[0.7777777777777778,\"#fb9f3a\"],[0.8888888888888888,\"#fdca26\"],[1.0,\"#f0f921\"]]}],\"heatmap\":[{\"type\":\"heatmap\",\"colorbar\":{\"outlinewidth\":0,\"ticks\":\"\"},\"colorscale\":[[0.0,\"#0d0887\"],[0.1111111111111111,\"#46039f\"],[0.2222222222222222,\"#7201a8\"],[0.3333333333333333,\"#9c179e\"],[0.4444444444444444,\"#bd3786\"],[0.5555555555555556,\"#d8576b\"],[0.6666666666666666,\"#ed7953\"],[0.7777777777777778,\"#fb9f3a\"],[0.8888888888888888,\"#fdca26\"],[1.0,\"#f0f921\"]]}],\"heatmapgl\":[{\"type\":\"heatmapgl\",\"colorbar\":{\"outlinewidth\":0,\"ticks\":\"\"},\"colorscale\":[[0.0,\"#0d0887\"],[0.1111111111111111,\"#46039f\"],[0.2222222222222222,\"#7201a8\"],[0.3333333333333333,\"#9c179e\"],[0.4444444444444444,\"#bd3786\"],[0.5555555555555556,\"#d8576b\"],[0.6666666666666666,\"#ed7953\"],[0.7777777777777778,\"#fb9f3a\"],[0.8888888888888888,\"#fdca26\"],[1.0,\"#f0f921\"]]}],\"contourcarpet\":[{\"type\":\"contourcarpet\",\"colorbar\":{\"outlinewidth\":0,\"ticks\":\"\"}}],\"contour\":[{\"type\":\"contour\",\"colorbar\":{\"outlinewidth\":0,\"ticks\":\"\"},\"colorscale\":[[0.0,\"#0d0887\"],[0.1111111111111111,\"#46039f\"],[0.2222222222222222,\"#7201a8\"],[0.3333333333333333,\"#9c179e\"],[0.4444444444444444,\"#bd3786\"],[0.5555555555555556,\"#d8576b\"],[0.6666666666666666,\"#ed7953\"],[0.7777777777777778,\"#fb9f3a\"],[0.8888888888888888,\"#fdca26\"],[1.0,\"#f0f921\"]]}],\"surface\":[{\"type\":\"surface\",\"colorbar\":{\"outlinewidth\":0,\"ticks\":\"\"},\"colorscale\":[[0.0,\"#0d0887\"],[0.1111111111111111,\"#46039f\"],[0.2222222222222222,\"#7201a8\"],[0.3333333333333333,\"#9c179e\"],[0.4444444444444444,\"#bd3786\"],[0.5555555555555556,\"#d8576b\"],[0.6666666666666666,\"#ed7953\"],[0.7777777777777778,\"#fb9f3a\"],[0.8888888888888888,\"#fdca26\"],[1.0,\"#f0f921\"]]}],\"mesh3d\":[{\"type\":\"mesh3d\",\"colorbar\":{\"outlinewidth\":0,\"ticks\":\"\"}}],\"scatter\":[{\"fillpattern\":{\"fillmode\":\"overlay\",\"size\":10,\"solidity\":0.2},\"type\":\"scatter\"}],\"parcoords\":[{\"type\":\"parcoords\",\"line\":{\"colorbar\":{\"outlinewidth\":0,\"ticks\":\"\"}}}],\"scatterpolargl\":[{\"type\":\"scatterpolargl\",\"marker\":{\"colorbar\":{\"outlinewidth\":0,\"ticks\":\"\"}}}],\"bar\":[{\"error_x\":{\"color\":\"#2a3f5f\"},\"error_y\":{\"color\":\"#2a3f5f\"},\"marker\":{\"line\":{\"color\":\"#E5ECF6\",\"width\":0.5},\"pattern\":{\"fillmode\":\"overlay\",\"size\":10,\"solidity\":0.2}},\"type\":\"bar\"}],\"scattergeo\":[{\"type\":\"scattergeo\",\"marker\":{\"colorbar\":{\"outlinewidth\":0,\"ticks\":\"\"}}}],\"scatterpolar\":[{\"type\":\"scatterpolar\",\"marker\":{\"colorbar\":{\"outlinewidth\":0,\"ticks\":\"\"}}}],\"histogram\":[{\"marker\":{\"pattern\":{\"fillmode\":\"overlay\",\"size\":10,\"solidity\":0.2}},\"type\":\"histogram\"}],\"scattergl\":[{\"type\":\"scattergl\",\"marker\":{\"colorbar\":{\"outlinewidth\":0,\"ticks\":\"\"}}}],\"scatter3d\":[{\"type\":\"scatter3d\",\"line\":{\"colorbar\":{\"outlinewidth\":0,\"ticks\":\"\"}},\"marker\":{\"colorbar\":{\"outlinewidth\":0,\"ticks\":\"\"}}}],\"scattermapbox\":[{\"type\":\"scattermapbox\",\"marker\":{\"colorbar\":{\"outlinewidth\":0,\"ticks\":\"\"}}}],\"scatterternary\":[{\"type\":\"scatterternary\",\"marker\":{\"colorbar\":{\"outlinewidth\":0,\"ticks\":\"\"}}}],\"scattercarpet\":[{\"type\":\"scattercarpet\",\"marker\":{\"colorbar\":{\"outlinewidth\":0,\"ticks\":\"\"}}}],\"carpet\":[{\"aaxis\":{\"endlinecolor\":\"#2a3f5f\",\"gridcolor\":\"white\",\"linecolor\":\"white\",\"minorgridcolor\":\"white\",\"startlinecolor\":\"#2a3f5f\"},\"baxis\":{\"endlinecolor\":\"#2a3f5f\",\"gridcolor\":\"white\",\"linecolor\":\"white\",\"minorgridcolor\":\"white\",\"startlinecolor\":\"#2a3f5f\"},\"type\":\"carpet\"}],\"table\":[{\"cells\":{\"fill\":{\"color\":\"#EBF0F8\"},\"line\":{\"color\":\"white\"}},\"header\":{\"fill\":{\"color\":\"#C8D4E3\"},\"line\":{\"color\":\"white\"}},\"type\":\"table\"}],\"barpolar\":[{\"marker\":{\"line\":{\"color\":\"#E5ECF6\",\"width\":0.5},\"pattern\":{\"fillmode\":\"overlay\",\"size\":10,\"solidity\":0.2}},\"type\":\"barpolar\"}],\"pie\":[{\"automargin\":true,\"type\":\"pie\"}]},\"layout\":{\"autotypenumbers\":\"strict\",\"colorway\":[\"#636efa\",\"#EF553B\",\"#00cc96\",\"#ab63fa\",\"#FFA15A\",\"#19d3f3\",\"#FF6692\",\"#B6E880\",\"#FF97FF\",\"#FECB52\"],\"font\":{\"color\":\"#2a3f5f\"},\"hovermode\":\"closest\",\"hoverlabel\":{\"align\":\"left\"},\"paper_bgcolor\":\"white\",\"plot_bgcolor\":\"#E5ECF6\",\"polar\":{\"bgcolor\":\"#E5ECF6\",\"angularaxis\":{\"gridcolor\":\"white\",\"linecolor\":\"white\",\"ticks\":\"\"},\"radialaxis\":{\"gridcolor\":\"white\",\"linecolor\":\"white\",\"ticks\":\"\"}},\"ternary\":{\"bgcolor\":\"#E5ECF6\",\"aaxis\":{\"gridcolor\":\"white\",\"linecolor\":\"white\",\"ticks\":\"\"},\"baxis\":{\"gridcolor\":\"white\",\"linecolor\":\"white\",\"ticks\":\"\"},\"caxis\":{\"gridcolor\":\"white\",\"linecolor\":\"white\",\"ticks\":\"\"}},\"coloraxis\":{\"colorbar\":{\"outlinewidth\":0,\"ticks\":\"\"}},\"colorscale\":{\"sequential\":[[0.0,\"#0d0887\"],[0.1111111111111111,\"#46039f\"],[0.2222222222222222,\"#7201a8\"],[0.3333333333333333,\"#9c179e\"],[0.4444444444444444,\"#bd3786\"],[0.5555555555555556,\"#d8576b\"],[0.6666666666666666,\"#ed7953\"],[0.7777777777777778,\"#fb9f3a\"],[0.8888888888888888,\"#fdca26\"],[1.0,\"#f0f921\"]],\"sequentialminus\":[[0.0,\"#0d0887\"],[0.1111111111111111,\"#46039f\"],[0.2222222222222222,\"#7201a8\"],[0.3333333333333333,\"#9c179e\"],[0.4444444444444444,\"#bd3786\"],[0.5555555555555556,\"#d8576b\"],[0.6666666666666666,\"#ed7953\"],[0.7777777777777778,\"#fb9f3a\"],[0.8888888888888888,\"#fdca26\"],[1.0,\"#f0f921\"]],\"diverging\":[[0,\"#8e0152\"],[0.1,\"#c51b7d\"],[0.2,\"#de77ae\"],[0.3,\"#f1b6da\"],[0.4,\"#fde0ef\"],[0.5,\"#f7f7f7\"],[0.6,\"#e6f5d0\"],[0.7,\"#b8e186\"],[0.8,\"#7fbc41\"],[0.9,\"#4d9221\"],[1,\"#276419\"]]},\"xaxis\":{\"gridcolor\":\"white\",\"linecolor\":\"white\",\"ticks\":\"\",\"title\":{\"standoff\":15},\"zerolinecolor\":\"white\",\"automargin\":true,\"zerolinewidth\":2},\"yaxis\":{\"gridcolor\":\"white\",\"linecolor\":\"white\",\"ticks\":\"\",\"title\":{\"standoff\":15},\"zerolinecolor\":\"white\",\"automargin\":true,\"zerolinewidth\":2},\"scene\":{\"xaxis\":{\"backgroundcolor\":\"#E5ECF6\",\"gridcolor\":\"white\",\"linecolor\":\"white\",\"showbackground\":true,\"ticks\":\"\",\"zerolinecolor\":\"white\",\"gridwidth\":2},\"yaxis\":{\"backgroundcolor\":\"#E5ECF6\",\"gridcolor\":\"white\",\"linecolor\":\"white\",\"showbackground\":true,\"ticks\":\"\",\"zerolinecolor\":\"white\",\"gridwidth\":2},\"zaxis\":{\"backgroundcolor\":\"#E5ECF6\",\"gridcolor\":\"white\",\"linecolor\":\"white\",\"showbackground\":true,\"ticks\":\"\",\"zerolinecolor\":\"white\",\"gridwidth\":2}},\"shapedefaults\":{\"line\":{\"color\":\"#2a3f5f\"}},\"annotationdefaults\":{\"arrowcolor\":\"#2a3f5f\",\"arrowhead\":0,\"arrowwidth\":1},\"geo\":{\"bgcolor\":\"white\",\"landcolor\":\"#E5ECF6\",\"subunitcolor\":\"white\",\"showland\":true,\"showlakes\":true,\"lakecolor\":\"white\"},\"title\":{\"x\":0.05},\"mapbox\":{\"style\":\"light\"}}},\"xaxis\":{\"anchor\":\"y\",\"domain\":[0.0,1.0],\"title\":{\"text\":\"Month\"}},\"yaxis\":{\"anchor\":\"x\",\"domain\":[0.0,1.0],\"title\":{\"text\":\"Sales ($)\"}},\"legend\":{\"tracegroupgap\":0},\"title\":{\"text\":\"Crunch-O-Matic Monthly Sales\"}},                        {\"responsive\": true}                    ).then(function(){\n",
              "                            \n",
              "var gd = document.getElementById('91e3a223-067a-41dc-9000-7a79d2a1e8a8');\n",
              "var x = new MutationObserver(function (mutations, observer) {{\n",
              "        var display = window.getComputedStyle(gd).display;\n",
              "        if (!display || display === 'none') {{\n",
              "            console.log([gd, 'removed!']);\n",
              "            Plotly.purge(gd);\n",
              "            observer.disconnect();\n",
              "        }}\n",
              "}});\n",
              "\n",
              "// Listen for the removal of the full notebook cells\n",
              "var notebookContainer = gd.closest('#notebook-container');\n",
              "if (notebookContainer) {{\n",
              "    x.observe(notebookContainer, {childList: true});\n",
              "}}\n",
              "\n",
              "// Listen for the clearing of the current output cell\n",
              "var outputEl = gd.closest('.output');\n",
              "if (outputEl) {{\n",
              "    x.observe(outputEl, {childList: true});\n",
              "}}\n",
              "\n",
              "                        })                };                            </script>        </div>\n",
              "</body>\n",
              "</html>"
            ]
          },
          "metadata": {}
        }
      ]
    },
    {
      "cell_type": "markdown",
      "source": [
        "This chart clearly shows how Crunch-O-Matic sales have fluctuated over the first half of 2023. We can see a dip in March, followed by a strong recovery and peak in May."
      ],
      "metadata": {
        "id": "Hk9jKKyFw9re"
      }
    },
    {
      "cell_type": "markdown",
      "source": [
        "## Pie Chart\n",
        "\n",
        "A pie chart is a circular graph that represents data as slices of a pie. Each slice's size is proportional to the quantity it represents. Pie charts are best used when you want to show the composition of something or the relative proportions of different categories within a whole.\n",
        "\n",
        "When interpreting a pie chart:\n",
        "- Look at the relative sizes of the slices. Larger slices represent a greater proportion of the whole.\n",
        "- Pay attention to how many slices there are. Too many slices can make a pie chart hard to read.\n",
        "- Remember that all slices should add up to 100% of the whole.\n",
        "\n",
        "Pie charts are great for showing market share, budget allocations, or survey results. In our Crunch-O-Matic campaign, we might use a pie chart to show the distribution of sales across different flavors.\n",
        "\n",
        "Here's how we can create a pie chart with Plotly Express:"
      ],
      "metadata": {
        "id": "O58w7292w_s0"
      }
    },
    {
      "cell_type": "code",
      "source": [
        "import plotly.express as px\n",
        "import pandas as pd\n",
        "\n",
        "# Sample data\n",
        "data = {\n",
        "    'Flavor': ['Original', 'Spicy', 'Cheesy', 'BBQ'],\n",
        "    'Sales': [5000, 3000, 2000, 1000]\n",
        "}\n",
        "df = pd.DataFrame(data)\n",
        "\n",
        "# Create the pie chart\n",
        "fig = px.pie(df, values='Sales', names='Flavor', title='Crunch-O-Matic Sales by Flavor')\n",
        "\n",
        "fig.show()"
      ],
      "metadata": {
        "colab": {
          "base_uri": "https://localhost:8080/",
          "height": 542
        },
        "id": "ry9IzBrLxF0g",
        "outputId": "2364becd-958c-42c1-97a9-87b99a90c7dd"
      },
      "execution_count": 4,
      "outputs": [
        {
          "output_type": "display_data",
          "data": {
            "text/html": [
              "<html>\n",
              "<head><meta charset=\"utf-8\" /></head>\n",
              "<body>\n",
              "    <div>            <script src=\"https://cdnjs.cloudflare.com/ajax/libs/mathjax/2.7.5/MathJax.js?config=TeX-AMS-MML_SVG\"></script><script type=\"text/javascript\">if (window.MathJax && window.MathJax.Hub && window.MathJax.Hub.Config) {window.MathJax.Hub.Config({SVG: {font: \"STIX-Web\"}});}</script>                <script type=\"text/javascript\">window.PlotlyConfig = {MathJaxConfig: 'local'};</script>\n",
              "        <script charset=\"utf-8\" src=\"https://cdn.plot.ly/plotly-2.35.2.min.js\"></script>                <div id=\"c94a622f-f121-4c52-a45a-4c4c466f1d52\" class=\"plotly-graph-div\" style=\"height:525px; width:100%;\"></div>            <script type=\"text/javascript\">                                    window.PLOTLYENV=window.PLOTLYENV || {};                                    if (document.getElementById(\"c94a622f-f121-4c52-a45a-4c4c466f1d52\")) {                    Plotly.newPlot(                        \"c94a622f-f121-4c52-a45a-4c4c466f1d52\",                        [{\"domain\":{\"x\":[0.0,1.0],\"y\":[0.0,1.0]},\"hovertemplate\":\"Flavor=%{label}\\u003cbr\\u003eSales=%{value}\\u003cextra\\u003e\\u003c\\u002fextra\\u003e\",\"labels\":[\"Original\",\"Spicy\",\"Cheesy\",\"BBQ\"],\"legendgroup\":\"\",\"name\":\"\",\"showlegend\":true,\"values\":[5000,3000,2000,1000],\"type\":\"pie\"}],                        {\"template\":{\"data\":{\"histogram2dcontour\":[{\"type\":\"histogram2dcontour\",\"colorbar\":{\"outlinewidth\":0,\"ticks\":\"\"},\"colorscale\":[[0.0,\"#0d0887\"],[0.1111111111111111,\"#46039f\"],[0.2222222222222222,\"#7201a8\"],[0.3333333333333333,\"#9c179e\"],[0.4444444444444444,\"#bd3786\"],[0.5555555555555556,\"#d8576b\"],[0.6666666666666666,\"#ed7953\"],[0.7777777777777778,\"#fb9f3a\"],[0.8888888888888888,\"#fdca26\"],[1.0,\"#f0f921\"]]}],\"choropleth\":[{\"type\":\"choropleth\",\"colorbar\":{\"outlinewidth\":0,\"ticks\":\"\"}}],\"histogram2d\":[{\"type\":\"histogram2d\",\"colorbar\":{\"outlinewidth\":0,\"ticks\":\"\"},\"colorscale\":[[0.0,\"#0d0887\"],[0.1111111111111111,\"#46039f\"],[0.2222222222222222,\"#7201a8\"],[0.3333333333333333,\"#9c179e\"],[0.4444444444444444,\"#bd3786\"],[0.5555555555555556,\"#d8576b\"],[0.6666666666666666,\"#ed7953\"],[0.7777777777777778,\"#fb9f3a\"],[0.8888888888888888,\"#fdca26\"],[1.0,\"#f0f921\"]]}],\"heatmap\":[{\"type\":\"heatmap\",\"colorbar\":{\"outlinewidth\":0,\"ticks\":\"\"},\"colorscale\":[[0.0,\"#0d0887\"],[0.1111111111111111,\"#46039f\"],[0.2222222222222222,\"#7201a8\"],[0.3333333333333333,\"#9c179e\"],[0.4444444444444444,\"#bd3786\"],[0.5555555555555556,\"#d8576b\"],[0.6666666666666666,\"#ed7953\"],[0.7777777777777778,\"#fb9f3a\"],[0.8888888888888888,\"#fdca26\"],[1.0,\"#f0f921\"]]}],\"heatmapgl\":[{\"type\":\"heatmapgl\",\"colorbar\":{\"outlinewidth\":0,\"ticks\":\"\"},\"colorscale\":[[0.0,\"#0d0887\"],[0.1111111111111111,\"#46039f\"],[0.2222222222222222,\"#7201a8\"],[0.3333333333333333,\"#9c179e\"],[0.4444444444444444,\"#bd3786\"],[0.5555555555555556,\"#d8576b\"],[0.6666666666666666,\"#ed7953\"],[0.7777777777777778,\"#fb9f3a\"],[0.8888888888888888,\"#fdca26\"],[1.0,\"#f0f921\"]]}],\"contourcarpet\":[{\"type\":\"contourcarpet\",\"colorbar\":{\"outlinewidth\":0,\"ticks\":\"\"}}],\"contour\":[{\"type\":\"contour\",\"colorbar\":{\"outlinewidth\":0,\"ticks\":\"\"},\"colorscale\":[[0.0,\"#0d0887\"],[0.1111111111111111,\"#46039f\"],[0.2222222222222222,\"#7201a8\"],[0.3333333333333333,\"#9c179e\"],[0.4444444444444444,\"#bd3786\"],[0.5555555555555556,\"#d8576b\"],[0.6666666666666666,\"#ed7953\"],[0.7777777777777778,\"#fb9f3a\"],[0.8888888888888888,\"#fdca26\"],[1.0,\"#f0f921\"]]}],\"surface\":[{\"type\":\"surface\",\"colorbar\":{\"outlinewidth\":0,\"ticks\":\"\"},\"colorscale\":[[0.0,\"#0d0887\"],[0.1111111111111111,\"#46039f\"],[0.2222222222222222,\"#7201a8\"],[0.3333333333333333,\"#9c179e\"],[0.4444444444444444,\"#bd3786\"],[0.5555555555555556,\"#d8576b\"],[0.6666666666666666,\"#ed7953\"],[0.7777777777777778,\"#fb9f3a\"],[0.8888888888888888,\"#fdca26\"],[1.0,\"#f0f921\"]]}],\"mesh3d\":[{\"type\":\"mesh3d\",\"colorbar\":{\"outlinewidth\":0,\"ticks\":\"\"}}],\"scatter\":[{\"fillpattern\":{\"fillmode\":\"overlay\",\"size\":10,\"solidity\":0.2},\"type\":\"scatter\"}],\"parcoords\":[{\"type\":\"parcoords\",\"line\":{\"colorbar\":{\"outlinewidth\":0,\"ticks\":\"\"}}}],\"scatterpolargl\":[{\"type\":\"scatterpolargl\",\"marker\":{\"colorbar\":{\"outlinewidth\":0,\"ticks\":\"\"}}}],\"bar\":[{\"error_x\":{\"color\":\"#2a3f5f\"},\"error_y\":{\"color\":\"#2a3f5f\"},\"marker\":{\"line\":{\"color\":\"#E5ECF6\",\"width\":0.5},\"pattern\":{\"fillmode\":\"overlay\",\"size\":10,\"solidity\":0.2}},\"type\":\"bar\"}],\"scattergeo\":[{\"type\":\"scattergeo\",\"marker\":{\"colorbar\":{\"outlinewidth\":0,\"ticks\":\"\"}}}],\"scatterpolar\":[{\"type\":\"scatterpolar\",\"marker\":{\"colorbar\":{\"outlinewidth\":0,\"ticks\":\"\"}}}],\"histogram\":[{\"marker\":{\"pattern\":{\"fillmode\":\"overlay\",\"size\":10,\"solidity\":0.2}},\"type\":\"histogram\"}],\"scattergl\":[{\"type\":\"scattergl\",\"marker\":{\"colorbar\":{\"outlinewidth\":0,\"ticks\":\"\"}}}],\"scatter3d\":[{\"type\":\"scatter3d\",\"line\":{\"colorbar\":{\"outlinewidth\":0,\"ticks\":\"\"}},\"marker\":{\"colorbar\":{\"outlinewidth\":0,\"ticks\":\"\"}}}],\"scattermapbox\":[{\"type\":\"scattermapbox\",\"marker\":{\"colorbar\":{\"outlinewidth\":0,\"ticks\":\"\"}}}],\"scatterternary\":[{\"type\":\"scatterternary\",\"marker\":{\"colorbar\":{\"outlinewidth\":0,\"ticks\":\"\"}}}],\"scattercarpet\":[{\"type\":\"scattercarpet\",\"marker\":{\"colorbar\":{\"outlinewidth\":0,\"ticks\":\"\"}}}],\"carpet\":[{\"aaxis\":{\"endlinecolor\":\"#2a3f5f\",\"gridcolor\":\"white\",\"linecolor\":\"white\",\"minorgridcolor\":\"white\",\"startlinecolor\":\"#2a3f5f\"},\"baxis\":{\"endlinecolor\":\"#2a3f5f\",\"gridcolor\":\"white\",\"linecolor\":\"white\",\"minorgridcolor\":\"white\",\"startlinecolor\":\"#2a3f5f\"},\"type\":\"carpet\"}],\"table\":[{\"cells\":{\"fill\":{\"color\":\"#EBF0F8\"},\"line\":{\"color\":\"white\"}},\"header\":{\"fill\":{\"color\":\"#C8D4E3\"},\"line\":{\"color\":\"white\"}},\"type\":\"table\"}],\"barpolar\":[{\"marker\":{\"line\":{\"color\":\"#E5ECF6\",\"width\":0.5},\"pattern\":{\"fillmode\":\"overlay\",\"size\":10,\"solidity\":0.2}},\"type\":\"barpolar\"}],\"pie\":[{\"automargin\":true,\"type\":\"pie\"}]},\"layout\":{\"autotypenumbers\":\"strict\",\"colorway\":[\"#636efa\",\"#EF553B\",\"#00cc96\",\"#ab63fa\",\"#FFA15A\",\"#19d3f3\",\"#FF6692\",\"#B6E880\",\"#FF97FF\",\"#FECB52\"],\"font\":{\"color\":\"#2a3f5f\"},\"hovermode\":\"closest\",\"hoverlabel\":{\"align\":\"left\"},\"paper_bgcolor\":\"white\",\"plot_bgcolor\":\"#E5ECF6\",\"polar\":{\"bgcolor\":\"#E5ECF6\",\"angularaxis\":{\"gridcolor\":\"white\",\"linecolor\":\"white\",\"ticks\":\"\"},\"radialaxis\":{\"gridcolor\":\"white\",\"linecolor\":\"white\",\"ticks\":\"\"}},\"ternary\":{\"bgcolor\":\"#E5ECF6\",\"aaxis\":{\"gridcolor\":\"white\",\"linecolor\":\"white\",\"ticks\":\"\"},\"baxis\":{\"gridcolor\":\"white\",\"linecolor\":\"white\",\"ticks\":\"\"},\"caxis\":{\"gridcolor\":\"white\",\"linecolor\":\"white\",\"ticks\":\"\"}},\"coloraxis\":{\"colorbar\":{\"outlinewidth\":0,\"ticks\":\"\"}},\"colorscale\":{\"sequential\":[[0.0,\"#0d0887\"],[0.1111111111111111,\"#46039f\"],[0.2222222222222222,\"#7201a8\"],[0.3333333333333333,\"#9c179e\"],[0.4444444444444444,\"#bd3786\"],[0.5555555555555556,\"#d8576b\"],[0.6666666666666666,\"#ed7953\"],[0.7777777777777778,\"#fb9f3a\"],[0.8888888888888888,\"#fdca26\"],[1.0,\"#f0f921\"]],\"sequentialminus\":[[0.0,\"#0d0887\"],[0.1111111111111111,\"#46039f\"],[0.2222222222222222,\"#7201a8\"],[0.3333333333333333,\"#9c179e\"],[0.4444444444444444,\"#bd3786\"],[0.5555555555555556,\"#d8576b\"],[0.6666666666666666,\"#ed7953\"],[0.7777777777777778,\"#fb9f3a\"],[0.8888888888888888,\"#fdca26\"],[1.0,\"#f0f921\"]],\"diverging\":[[0,\"#8e0152\"],[0.1,\"#c51b7d\"],[0.2,\"#de77ae\"],[0.3,\"#f1b6da\"],[0.4,\"#fde0ef\"],[0.5,\"#f7f7f7\"],[0.6,\"#e6f5d0\"],[0.7,\"#b8e186\"],[0.8,\"#7fbc41\"],[0.9,\"#4d9221\"],[1,\"#276419\"]]},\"xaxis\":{\"gridcolor\":\"white\",\"linecolor\":\"white\",\"ticks\":\"\",\"title\":{\"standoff\":15},\"zerolinecolor\":\"white\",\"automargin\":true,\"zerolinewidth\":2},\"yaxis\":{\"gridcolor\":\"white\",\"linecolor\":\"white\",\"ticks\":\"\",\"title\":{\"standoff\":15},\"zerolinecolor\":\"white\",\"automargin\":true,\"zerolinewidth\":2},\"scene\":{\"xaxis\":{\"backgroundcolor\":\"#E5ECF6\",\"gridcolor\":\"white\",\"linecolor\":\"white\",\"showbackground\":true,\"ticks\":\"\",\"zerolinecolor\":\"white\",\"gridwidth\":2},\"yaxis\":{\"backgroundcolor\":\"#E5ECF6\",\"gridcolor\":\"white\",\"linecolor\":\"white\",\"showbackground\":true,\"ticks\":\"\",\"zerolinecolor\":\"white\",\"gridwidth\":2},\"zaxis\":{\"backgroundcolor\":\"#E5ECF6\",\"gridcolor\":\"white\",\"linecolor\":\"white\",\"showbackground\":true,\"ticks\":\"\",\"zerolinecolor\":\"white\",\"gridwidth\":2}},\"shapedefaults\":{\"line\":{\"color\":\"#2a3f5f\"}},\"annotationdefaults\":{\"arrowcolor\":\"#2a3f5f\",\"arrowhead\":0,\"arrowwidth\":1},\"geo\":{\"bgcolor\":\"white\",\"landcolor\":\"#E5ECF6\",\"subunitcolor\":\"white\",\"showland\":true,\"showlakes\":true,\"lakecolor\":\"white\"},\"title\":{\"x\":0.05},\"mapbox\":{\"style\":\"light\"}}},\"legend\":{\"tracegroupgap\":0},\"title\":{\"text\":\"Crunch-O-Matic Sales by Flavor\"}},                        {\"responsive\": true}                    ).then(function(){\n",
              "                            \n",
              "var gd = document.getElementById('c94a622f-f121-4c52-a45a-4c4c466f1d52');\n",
              "var x = new MutationObserver(function (mutations, observer) {{\n",
              "        var display = window.getComputedStyle(gd).display;\n",
              "        if (!display || display === 'none') {{\n",
              "            console.log([gd, 'removed!']);\n",
              "            Plotly.purge(gd);\n",
              "            observer.disconnect();\n",
              "        }}\n",
              "}});\n",
              "\n",
              "// Listen for the removal of the full notebook cells\n",
              "var notebookContainer = gd.closest('#notebook-container');\n",
              "if (notebookContainer) {{\n",
              "    x.observe(notebookContainer, {childList: true});\n",
              "}}\n",
              "\n",
              "// Listen for the clearing of the current output cell\n",
              "var outputEl = gd.closest('.output');\n",
              "if (outputEl) {{\n",
              "    x.observe(outputEl, {childList: true});\n",
              "}}\n",
              "\n",
              "                        })                };                            </script>        </div>\n",
              "</body>\n",
              "</html>"
            ]
          },
          "metadata": {}
        }
      ]
    },
    {
      "cell_type": "markdown",
      "source": [
        "This pie chart quickly shows us that the Original flavor is our best seller, followed by Spicy. This insight could inform decisions about production volumes or where to focus future marketing efforts.\n"
      ],
      "metadata": {
        "id": "aSPEaUSgxTNo"
      }
    },
    {
      "cell_type": "markdown",
      "source": [
        "## Bubble Chart\n",
        "\n",
        "A bubble chart is a variation of a scatter plot where the data points are replaced with bubbles. In addition to the x and y axes, bubble charts have a third dimension represented by the size of the bubbles. This makes them excellent for displaying three dimensions of data simultaneously.\n",
        "\n",
        "When interpreting a bubble chart:\n",
        "- The position of the bubble on the x and y axes represents two variables.\n",
        "- The size of the bubble represents a third variable.\n",
        "- Sometimes, color is used as a fourth dimension to group bubbles into categories.\n",
        "\n",
        "Bubble charts are particularly useful for comparing multiple variables across different categories. In our Mad Men-style campaign, we might use a bubble chart to compare different advertising channels.\n",
        "\n",
        "Let's create a bubble chart using Plotly Express:\n"
      ],
      "metadata": {
        "id": "dFqQVTydxUIN"
      }
    },
    {
      "cell_type": "code",
      "source": [
        "import plotly.express as px\n",
        "import pandas as pd\n",
        "\n",
        "# Sample data\n",
        "data = {\n",
        "    'Channel': ['TV', 'Radio', 'Social Media', 'Print', 'Billboards'],\n",
        "    'Cost': [50000, 20000, 15000, 10000, 30000],\n",
        "    'Reach': [500000, 200000, 300000, 100000, 250000],\n",
        "    'Conversions': [5000, 2000, 4000, 1000, 1500]\n",
        "}\n",
        "df = pd.DataFrame(data)\n",
        "\n",
        "# Create the bubble chart\n",
        "fig = px.scatter(df, x='Cost', y='Reach', size='Conversions', color='Channel',\n",
        "                 hover_name='Channel', size_max=60,\n",
        "                 title='Advertising Channels: Cost vs. Reach vs. Conversions')\n",
        "\n",
        "fig.update_xaxes(title='Cost ($)')\n",
        "fig.update_yaxes(title='Reach (People)')\n",
        "\n",
        "fig.show()"
      ],
      "metadata": {
        "colab": {
          "base_uri": "https://localhost:8080/",
          "height": 542
        },
        "id": "-wxWAS1oxbgD",
        "outputId": "90ab08f2-eebd-4b22-f4ff-d8d00b7998e6"
      },
      "execution_count": 5,
      "outputs": [
        {
          "output_type": "display_data",
          "data": {
            "text/html": [
              "<html>\n",
              "<head><meta charset=\"utf-8\" /></head>\n",
              "<body>\n",
              "    <div>            <script src=\"https://cdnjs.cloudflare.com/ajax/libs/mathjax/2.7.5/MathJax.js?config=TeX-AMS-MML_SVG\"></script><script type=\"text/javascript\">if (window.MathJax && window.MathJax.Hub && window.MathJax.Hub.Config) {window.MathJax.Hub.Config({SVG: {font: \"STIX-Web\"}});}</script>                <script type=\"text/javascript\">window.PlotlyConfig = {MathJaxConfig: 'local'};</script>\n",
              "        <script charset=\"utf-8\" src=\"https://cdn.plot.ly/plotly-2.35.2.min.js\"></script>                <div id=\"77ba470a-86b5-495f-a412-dba06030dc26\" class=\"plotly-graph-div\" style=\"height:525px; width:100%;\"></div>            <script type=\"text/javascript\">                                    window.PLOTLYENV=window.PLOTLYENV || {};                                    if (document.getElementById(\"77ba470a-86b5-495f-a412-dba06030dc26\")) {                    Plotly.newPlot(                        \"77ba470a-86b5-495f-a412-dba06030dc26\",                        [{\"hovertemplate\":\"\\u003cb\\u003e%{hovertext}\\u003c\\u002fb\\u003e\\u003cbr\\u003e\\u003cbr\\u003eChannel=TV\\u003cbr\\u003eCost=%{x}\\u003cbr\\u003eReach=%{y}\\u003cbr\\u003eConversions=%{marker.size}\\u003cextra\\u003e\\u003c\\u002fextra\\u003e\",\"hovertext\":[\"TV\"],\"legendgroup\":\"TV\",\"marker\":{\"color\":\"#636efa\",\"size\":[5000],\"sizemode\":\"area\",\"sizeref\":1.3888888888888888,\"symbol\":\"circle\"},\"mode\":\"markers\",\"name\":\"TV\",\"orientation\":\"v\",\"showlegend\":true,\"x\":[50000],\"xaxis\":\"x\",\"y\":[500000],\"yaxis\":\"y\",\"type\":\"scatter\"},{\"hovertemplate\":\"\\u003cb\\u003e%{hovertext}\\u003c\\u002fb\\u003e\\u003cbr\\u003e\\u003cbr\\u003eChannel=Radio\\u003cbr\\u003eCost=%{x}\\u003cbr\\u003eReach=%{y}\\u003cbr\\u003eConversions=%{marker.size}\\u003cextra\\u003e\\u003c\\u002fextra\\u003e\",\"hovertext\":[\"Radio\"],\"legendgroup\":\"Radio\",\"marker\":{\"color\":\"#EF553B\",\"size\":[2000],\"sizemode\":\"area\",\"sizeref\":1.3888888888888888,\"symbol\":\"circle\"},\"mode\":\"markers\",\"name\":\"Radio\",\"orientation\":\"v\",\"showlegend\":true,\"x\":[20000],\"xaxis\":\"x\",\"y\":[200000],\"yaxis\":\"y\",\"type\":\"scatter\"},{\"hovertemplate\":\"\\u003cb\\u003e%{hovertext}\\u003c\\u002fb\\u003e\\u003cbr\\u003e\\u003cbr\\u003eChannel=Social Media\\u003cbr\\u003eCost=%{x}\\u003cbr\\u003eReach=%{y}\\u003cbr\\u003eConversions=%{marker.size}\\u003cextra\\u003e\\u003c\\u002fextra\\u003e\",\"hovertext\":[\"Social Media\"],\"legendgroup\":\"Social Media\",\"marker\":{\"color\":\"#00cc96\",\"size\":[4000],\"sizemode\":\"area\",\"sizeref\":1.3888888888888888,\"symbol\":\"circle\"},\"mode\":\"markers\",\"name\":\"Social Media\",\"orientation\":\"v\",\"showlegend\":true,\"x\":[15000],\"xaxis\":\"x\",\"y\":[300000],\"yaxis\":\"y\",\"type\":\"scatter\"},{\"hovertemplate\":\"\\u003cb\\u003e%{hovertext}\\u003c\\u002fb\\u003e\\u003cbr\\u003e\\u003cbr\\u003eChannel=Print\\u003cbr\\u003eCost=%{x}\\u003cbr\\u003eReach=%{y}\\u003cbr\\u003eConversions=%{marker.size}\\u003cextra\\u003e\\u003c\\u002fextra\\u003e\",\"hovertext\":[\"Print\"],\"legendgroup\":\"Print\",\"marker\":{\"color\":\"#ab63fa\",\"size\":[1000],\"sizemode\":\"area\",\"sizeref\":1.3888888888888888,\"symbol\":\"circle\"},\"mode\":\"markers\",\"name\":\"Print\",\"orientation\":\"v\",\"showlegend\":true,\"x\":[10000],\"xaxis\":\"x\",\"y\":[100000],\"yaxis\":\"y\",\"type\":\"scatter\"},{\"hovertemplate\":\"\\u003cb\\u003e%{hovertext}\\u003c\\u002fb\\u003e\\u003cbr\\u003e\\u003cbr\\u003eChannel=Billboards\\u003cbr\\u003eCost=%{x}\\u003cbr\\u003eReach=%{y}\\u003cbr\\u003eConversions=%{marker.size}\\u003cextra\\u003e\\u003c\\u002fextra\\u003e\",\"hovertext\":[\"Billboards\"],\"legendgroup\":\"Billboards\",\"marker\":{\"color\":\"#FFA15A\",\"size\":[1500],\"sizemode\":\"area\",\"sizeref\":1.3888888888888888,\"symbol\":\"circle\"},\"mode\":\"markers\",\"name\":\"Billboards\",\"orientation\":\"v\",\"showlegend\":true,\"x\":[30000],\"xaxis\":\"x\",\"y\":[250000],\"yaxis\":\"y\",\"type\":\"scatter\"}],                        {\"template\":{\"data\":{\"histogram2dcontour\":[{\"type\":\"histogram2dcontour\",\"colorbar\":{\"outlinewidth\":0,\"ticks\":\"\"},\"colorscale\":[[0.0,\"#0d0887\"],[0.1111111111111111,\"#46039f\"],[0.2222222222222222,\"#7201a8\"],[0.3333333333333333,\"#9c179e\"],[0.4444444444444444,\"#bd3786\"],[0.5555555555555556,\"#d8576b\"],[0.6666666666666666,\"#ed7953\"],[0.7777777777777778,\"#fb9f3a\"],[0.8888888888888888,\"#fdca26\"],[1.0,\"#f0f921\"]]}],\"choropleth\":[{\"type\":\"choropleth\",\"colorbar\":{\"outlinewidth\":0,\"ticks\":\"\"}}],\"histogram2d\":[{\"type\":\"histogram2d\",\"colorbar\":{\"outlinewidth\":0,\"ticks\":\"\"},\"colorscale\":[[0.0,\"#0d0887\"],[0.1111111111111111,\"#46039f\"],[0.2222222222222222,\"#7201a8\"],[0.3333333333333333,\"#9c179e\"],[0.4444444444444444,\"#bd3786\"],[0.5555555555555556,\"#d8576b\"],[0.6666666666666666,\"#ed7953\"],[0.7777777777777778,\"#fb9f3a\"],[0.8888888888888888,\"#fdca26\"],[1.0,\"#f0f921\"]]}],\"heatmap\":[{\"type\":\"heatmap\",\"colorbar\":{\"outlinewidth\":0,\"ticks\":\"\"},\"colorscale\":[[0.0,\"#0d0887\"],[0.1111111111111111,\"#46039f\"],[0.2222222222222222,\"#7201a8\"],[0.3333333333333333,\"#9c179e\"],[0.4444444444444444,\"#bd3786\"],[0.5555555555555556,\"#d8576b\"],[0.6666666666666666,\"#ed7953\"],[0.7777777777777778,\"#fb9f3a\"],[0.8888888888888888,\"#fdca26\"],[1.0,\"#f0f921\"]]}],\"heatmapgl\":[{\"type\":\"heatmapgl\",\"colorbar\":{\"outlinewidth\":0,\"ticks\":\"\"},\"colorscale\":[[0.0,\"#0d0887\"],[0.1111111111111111,\"#46039f\"],[0.2222222222222222,\"#7201a8\"],[0.3333333333333333,\"#9c179e\"],[0.4444444444444444,\"#bd3786\"],[0.5555555555555556,\"#d8576b\"],[0.6666666666666666,\"#ed7953\"],[0.7777777777777778,\"#fb9f3a\"],[0.8888888888888888,\"#fdca26\"],[1.0,\"#f0f921\"]]}],\"contourcarpet\":[{\"type\":\"contourcarpet\",\"colorbar\":{\"outlinewidth\":0,\"ticks\":\"\"}}],\"contour\":[{\"type\":\"contour\",\"colorbar\":{\"outlinewidth\":0,\"ticks\":\"\"},\"colorscale\":[[0.0,\"#0d0887\"],[0.1111111111111111,\"#46039f\"],[0.2222222222222222,\"#7201a8\"],[0.3333333333333333,\"#9c179e\"],[0.4444444444444444,\"#bd3786\"],[0.5555555555555556,\"#d8576b\"],[0.6666666666666666,\"#ed7953\"],[0.7777777777777778,\"#fb9f3a\"],[0.8888888888888888,\"#fdca26\"],[1.0,\"#f0f921\"]]}],\"surface\":[{\"type\":\"surface\",\"colorbar\":{\"outlinewidth\":0,\"ticks\":\"\"},\"colorscale\":[[0.0,\"#0d0887\"],[0.1111111111111111,\"#46039f\"],[0.2222222222222222,\"#7201a8\"],[0.3333333333333333,\"#9c179e\"],[0.4444444444444444,\"#bd3786\"],[0.5555555555555556,\"#d8576b\"],[0.6666666666666666,\"#ed7953\"],[0.7777777777777778,\"#fb9f3a\"],[0.8888888888888888,\"#fdca26\"],[1.0,\"#f0f921\"]]}],\"mesh3d\":[{\"type\":\"mesh3d\",\"colorbar\":{\"outlinewidth\":0,\"ticks\":\"\"}}],\"scatter\":[{\"fillpattern\":{\"fillmode\":\"overlay\",\"size\":10,\"solidity\":0.2},\"type\":\"scatter\"}],\"parcoords\":[{\"type\":\"parcoords\",\"line\":{\"colorbar\":{\"outlinewidth\":0,\"ticks\":\"\"}}}],\"scatterpolargl\":[{\"type\":\"scatterpolargl\",\"marker\":{\"colorbar\":{\"outlinewidth\":0,\"ticks\":\"\"}}}],\"bar\":[{\"error_x\":{\"color\":\"#2a3f5f\"},\"error_y\":{\"color\":\"#2a3f5f\"},\"marker\":{\"line\":{\"color\":\"#E5ECF6\",\"width\":0.5},\"pattern\":{\"fillmode\":\"overlay\",\"size\":10,\"solidity\":0.2}},\"type\":\"bar\"}],\"scattergeo\":[{\"type\":\"scattergeo\",\"marker\":{\"colorbar\":{\"outlinewidth\":0,\"ticks\":\"\"}}}],\"scatterpolar\":[{\"type\":\"scatterpolar\",\"marker\":{\"colorbar\":{\"outlinewidth\":0,\"ticks\":\"\"}}}],\"histogram\":[{\"marker\":{\"pattern\":{\"fillmode\":\"overlay\",\"size\":10,\"solidity\":0.2}},\"type\":\"histogram\"}],\"scattergl\":[{\"type\":\"scattergl\",\"marker\":{\"colorbar\":{\"outlinewidth\":0,\"ticks\":\"\"}}}],\"scatter3d\":[{\"type\":\"scatter3d\",\"line\":{\"colorbar\":{\"outlinewidth\":0,\"ticks\":\"\"}},\"marker\":{\"colorbar\":{\"outlinewidth\":0,\"ticks\":\"\"}}}],\"scattermapbox\":[{\"type\":\"scattermapbox\",\"marker\":{\"colorbar\":{\"outlinewidth\":0,\"ticks\":\"\"}}}],\"scatterternary\":[{\"type\":\"scatterternary\",\"marker\":{\"colorbar\":{\"outlinewidth\":0,\"ticks\":\"\"}}}],\"scattercarpet\":[{\"type\":\"scattercarpet\",\"marker\":{\"colorbar\":{\"outlinewidth\":0,\"ticks\":\"\"}}}],\"carpet\":[{\"aaxis\":{\"endlinecolor\":\"#2a3f5f\",\"gridcolor\":\"white\",\"linecolor\":\"white\",\"minorgridcolor\":\"white\",\"startlinecolor\":\"#2a3f5f\"},\"baxis\":{\"endlinecolor\":\"#2a3f5f\",\"gridcolor\":\"white\",\"linecolor\":\"white\",\"minorgridcolor\":\"white\",\"startlinecolor\":\"#2a3f5f\"},\"type\":\"carpet\"}],\"table\":[{\"cells\":{\"fill\":{\"color\":\"#EBF0F8\"},\"line\":{\"color\":\"white\"}},\"header\":{\"fill\":{\"color\":\"#C8D4E3\"},\"line\":{\"color\":\"white\"}},\"type\":\"table\"}],\"barpolar\":[{\"marker\":{\"line\":{\"color\":\"#E5ECF6\",\"width\":0.5},\"pattern\":{\"fillmode\":\"overlay\",\"size\":10,\"solidity\":0.2}},\"type\":\"barpolar\"}],\"pie\":[{\"automargin\":true,\"type\":\"pie\"}]},\"layout\":{\"autotypenumbers\":\"strict\",\"colorway\":[\"#636efa\",\"#EF553B\",\"#00cc96\",\"#ab63fa\",\"#FFA15A\",\"#19d3f3\",\"#FF6692\",\"#B6E880\",\"#FF97FF\",\"#FECB52\"],\"font\":{\"color\":\"#2a3f5f\"},\"hovermode\":\"closest\",\"hoverlabel\":{\"align\":\"left\"},\"paper_bgcolor\":\"white\",\"plot_bgcolor\":\"#E5ECF6\",\"polar\":{\"bgcolor\":\"#E5ECF6\",\"angularaxis\":{\"gridcolor\":\"white\",\"linecolor\":\"white\",\"ticks\":\"\"},\"radialaxis\":{\"gridcolor\":\"white\",\"linecolor\":\"white\",\"ticks\":\"\"}},\"ternary\":{\"bgcolor\":\"#E5ECF6\",\"aaxis\":{\"gridcolor\":\"white\",\"linecolor\":\"white\",\"ticks\":\"\"},\"baxis\":{\"gridcolor\":\"white\",\"linecolor\":\"white\",\"ticks\":\"\"},\"caxis\":{\"gridcolor\":\"white\",\"linecolor\":\"white\",\"ticks\":\"\"}},\"coloraxis\":{\"colorbar\":{\"outlinewidth\":0,\"ticks\":\"\"}},\"colorscale\":{\"sequential\":[[0.0,\"#0d0887\"],[0.1111111111111111,\"#46039f\"],[0.2222222222222222,\"#7201a8\"],[0.3333333333333333,\"#9c179e\"],[0.4444444444444444,\"#bd3786\"],[0.5555555555555556,\"#d8576b\"],[0.6666666666666666,\"#ed7953\"],[0.7777777777777778,\"#fb9f3a\"],[0.8888888888888888,\"#fdca26\"],[1.0,\"#f0f921\"]],\"sequentialminus\":[[0.0,\"#0d0887\"],[0.1111111111111111,\"#46039f\"],[0.2222222222222222,\"#7201a8\"],[0.3333333333333333,\"#9c179e\"],[0.4444444444444444,\"#bd3786\"],[0.5555555555555556,\"#d8576b\"],[0.6666666666666666,\"#ed7953\"],[0.7777777777777778,\"#fb9f3a\"],[0.8888888888888888,\"#fdca26\"],[1.0,\"#f0f921\"]],\"diverging\":[[0,\"#8e0152\"],[0.1,\"#c51b7d\"],[0.2,\"#de77ae\"],[0.3,\"#f1b6da\"],[0.4,\"#fde0ef\"],[0.5,\"#f7f7f7\"],[0.6,\"#e6f5d0\"],[0.7,\"#b8e186\"],[0.8,\"#7fbc41\"],[0.9,\"#4d9221\"],[1,\"#276419\"]]},\"xaxis\":{\"gridcolor\":\"white\",\"linecolor\":\"white\",\"ticks\":\"\",\"title\":{\"standoff\":15},\"zerolinecolor\":\"white\",\"automargin\":true,\"zerolinewidth\":2},\"yaxis\":{\"gridcolor\":\"white\",\"linecolor\":\"white\",\"ticks\":\"\",\"title\":{\"standoff\":15},\"zerolinecolor\":\"white\",\"automargin\":true,\"zerolinewidth\":2},\"scene\":{\"xaxis\":{\"backgroundcolor\":\"#E5ECF6\",\"gridcolor\":\"white\",\"linecolor\":\"white\",\"showbackground\":true,\"ticks\":\"\",\"zerolinecolor\":\"white\",\"gridwidth\":2},\"yaxis\":{\"backgroundcolor\":\"#E5ECF6\",\"gridcolor\":\"white\",\"linecolor\":\"white\",\"showbackground\":true,\"ticks\":\"\",\"zerolinecolor\":\"white\",\"gridwidth\":2},\"zaxis\":{\"backgroundcolor\":\"#E5ECF6\",\"gridcolor\":\"white\",\"linecolor\":\"white\",\"showbackground\":true,\"ticks\":\"\",\"zerolinecolor\":\"white\",\"gridwidth\":2}},\"shapedefaults\":{\"line\":{\"color\":\"#2a3f5f\"}},\"annotationdefaults\":{\"arrowcolor\":\"#2a3f5f\",\"arrowhead\":0,\"arrowwidth\":1},\"geo\":{\"bgcolor\":\"white\",\"landcolor\":\"#E5ECF6\",\"subunitcolor\":\"white\",\"showland\":true,\"showlakes\":true,\"lakecolor\":\"white\"},\"title\":{\"x\":0.05},\"mapbox\":{\"style\":\"light\"}}},\"xaxis\":{\"anchor\":\"y\",\"domain\":[0.0,1.0],\"title\":{\"text\":\"Cost ($)\"}},\"yaxis\":{\"anchor\":\"x\",\"domain\":[0.0,1.0],\"title\":{\"text\":\"Reach (People)\"}},\"legend\":{\"title\":{\"text\":\"Channel\"},\"tracegroupgap\":0,\"itemsizing\":\"constant\"},\"title\":{\"text\":\"Advertising Channels: Cost vs. Reach vs. Conversions\"}},                        {\"responsive\": true}                    ).then(function(){\n",
              "                            \n",
              "var gd = document.getElementById('77ba470a-86b5-495f-a412-dba06030dc26');\n",
              "var x = new MutationObserver(function (mutations, observer) {{\n",
              "        var display = window.getComputedStyle(gd).display;\n",
              "        if (!display || display === 'none') {{\n",
              "            console.log([gd, 'removed!']);\n",
              "            Plotly.purge(gd);\n",
              "            observer.disconnect();\n",
              "        }}\n",
              "}});\n",
              "\n",
              "// Listen for the removal of the full notebook cells\n",
              "var notebookContainer = gd.closest('#notebook-container');\n",
              "if (notebookContainer) {{\n",
              "    x.observe(notebookContainer, {childList: true});\n",
              "}}\n",
              "\n",
              "// Listen for the clearing of the current output cell\n",
              "var outputEl = gd.closest('.output');\n",
              "if (outputEl) {{\n",
              "    x.observe(outputEl, {childList: true});\n",
              "}}\n",
              "\n",
              "                        })                };                            </script>        </div>\n",
              "</body>\n",
              "</html>"
            ]
          },
          "metadata": {}
        }
      ]
    },
    {
      "cell_type": "markdown",
      "source": [
        "In this bubble chart, each bubble represents an advertising channel. The x-axis shows the cost, the y-axis shows the reach, and the size of the bubble indicates the number of conversions. This allows us to quickly compare the efficiency of different channels. For instance, we might notice that while TV advertising has the highest cost and reach, social media provides a high number of conversions relative to its cost and reach."
      ],
      "metadata": {
        "id": "0VOps-kLxiNZ"
      }
    },
    {
      "cell_type": "markdown",
      "source": [
        "## Scatter Plot\n",
        "\n",
        "A scatter plot is used to display the relationship between two continuous variables. Each point on the plot represents an individual data point, with its position determined by its values for the two variables being compared.\n",
        "\n",
        "Scatter plots are excellent for:\n",
        "- Identifying correlations between variables\n",
        "- Spotting outliers or unusual patterns in the data\n",
        "- Visualizing the distribution of data points\n",
        "\n",
        "When interpreting a scatter plot:\n",
        "- Look for overall patterns: Do the points form a line, curve, or cluster?\n",
        "- Check for correlation: A positive correlation means both variables increase together, while a negative correlation means one decreases as the other increases.\n",
        "- Identify outliers: Points that are far from the main cluster may warrant further investigation.\n",
        "\n",
        "In our Crunch-O-Matic campaign, we might use a scatter plot to examine the relationship between advertising spend and sales across different regions.\n",
        "\n",
        "Here's how to create a scatter plot using Plotly Express:"
      ],
      "metadata": {
        "id": "kEEbv6dwvQsn"
      }
    },
    {
      "cell_type": "code",
      "source": [
        "import plotly.express as px\n",
        "import pandas as pd\n",
        "import numpy as np\n",
        "\n",
        "# Generate sample data\n",
        "np.random.seed(42)\n",
        "data = {\n",
        "    'Region': [f'Region {i}' for i in range(1, 51)],\n",
        "    'Ad Spend': np.random.randint(10000, 100000, 50),\n",
        "    'Sales': np.random.randint(50000, 500000, 50)\n",
        "}\n",
        "df = pd.DataFrame(data)\n",
        "\n",
        "# Create the scatter plot\n",
        "fig = px.scatter(df, x='Ad Spend', y='Sales', hover_name='Region',\n",
        "                 title='Advertising Spend vs Sales by Region')\n",
        "\n",
        "fig.update_xaxes(title='Advertising Spend ($)')\n",
        "fig.update_yaxes(title='Sales ($)')\n",
        "\n",
        "fig.show()"
      ],
      "metadata": {
        "id": "fEaitqY_vRZU",
        "outputId": "aa46cb0e-5f0f-484b-d172-ff28b04b7da6",
        "colab": {
          "base_uri": "https://localhost:8080/",
          "height": 542
        }
      },
      "execution_count": 6,
      "outputs": [
        {
          "output_type": "display_data",
          "data": {
            "text/html": [
              "<html>\n",
              "<head><meta charset=\"utf-8\" /></head>\n",
              "<body>\n",
              "    <div>            <script src=\"https://cdnjs.cloudflare.com/ajax/libs/mathjax/2.7.5/MathJax.js?config=TeX-AMS-MML_SVG\"></script><script type=\"text/javascript\">if (window.MathJax && window.MathJax.Hub && window.MathJax.Hub.Config) {window.MathJax.Hub.Config({SVG: {font: \"STIX-Web\"}});}</script>                <script type=\"text/javascript\">window.PlotlyConfig = {MathJaxConfig: 'local'};</script>\n",
              "        <script charset=\"utf-8\" src=\"https://cdn.plot.ly/plotly-2.35.2.min.js\"></script>                <div id=\"037d33b0-a5cc-4615-a7fc-f07f6146dad2\" class=\"plotly-graph-div\" style=\"height:525px; width:100%;\"></div>            <script type=\"text/javascript\">                                    window.PLOTLYENV=window.PLOTLYENV || {};                                    if (document.getElementById(\"037d33b0-a5cc-4615-a7fc-f07f6146dad2\")) {                    Plotly.newPlot(                        \"037d33b0-a5cc-4615-a7fc-f07f6146dad2\",                        [{\"hovertemplate\":\"\\u003cb\\u003e%{hovertext}\\u003c\\u002fb\\u003e\\u003cbr\\u003e\\u003cbr\\u003eAd Spend=%{x}\\u003cbr\\u003eSales=%{y}\\u003cextra\\u003e\\u003c\\u002fextra\\u003e\",\"hovertext\":[\"Region 1\",\"Region 2\",\"Region 3\",\"Region 4\",\"Region 5\",\"Region 6\",\"Region 7\",\"Region 8\",\"Region 9\",\"Region 10\",\"Region 11\",\"Region 12\",\"Region 13\",\"Region 14\",\"Region 15\",\"Region 16\",\"Region 17\",\"Region 18\",\"Region 19\",\"Region 20\",\"Region 21\",\"Region 22\",\"Region 23\",\"Region 24\",\"Region 25\",\"Region 26\",\"Region 27\",\"Region 28\",\"Region 29\",\"Region 30\",\"Region 31\",\"Region 32\",\"Region 33\",\"Region 34\",\"Region 35\",\"Region 36\",\"Region 37\",\"Region 38\",\"Region 39\",\"Region 40\",\"Region 41\",\"Region 42\",\"Region 43\",\"Region 44\",\"Region 45\",\"Region 46\",\"Region 47\",\"Region 48\",\"Region 49\",\"Region 50\"],\"legendgroup\":\"\",\"marker\":{\"color\":\"#636efa\",\"symbol\":\"circle\"},\"mode\":\"markers\",\"name\":\"\",\"orientation\":\"v\",\"showlegend\":false,\"x\":[25795,10860,86820,64886,16265,92386,47194,97498,54131,70263,26023,51090,77221,74820,10769,69735,72955,74925,77969,15311,93104,63707,95305,38693,81932,35658,94478,28431,12747,69150,75725,94654,45773,77435,66886,76803,41551,21394,79092,13890,51606,90038,97313,20627,18792,83969,53001,86552,33897,78148],\"xaxis\":\"x\",\"y\":[302801,174243,301995,432318,204555,436502,98555,306508,329303,422654,156530,130077,348064,250551,331601,258261,290181,391097,365139,221829,321836,488974,252283,246769,87065,273165,149299,475822,61534,90397,307750,403531,313160,105591,270884,73247,74300,132798,59268,398951,324329,244776,267851,482315,451787,286584,88044,363358,426896,98984],\"yaxis\":\"y\",\"type\":\"scatter\"}],                        {\"template\":{\"data\":{\"histogram2dcontour\":[{\"type\":\"histogram2dcontour\",\"colorbar\":{\"outlinewidth\":0,\"ticks\":\"\"},\"colorscale\":[[0.0,\"#0d0887\"],[0.1111111111111111,\"#46039f\"],[0.2222222222222222,\"#7201a8\"],[0.3333333333333333,\"#9c179e\"],[0.4444444444444444,\"#bd3786\"],[0.5555555555555556,\"#d8576b\"],[0.6666666666666666,\"#ed7953\"],[0.7777777777777778,\"#fb9f3a\"],[0.8888888888888888,\"#fdca26\"],[1.0,\"#f0f921\"]]}],\"choropleth\":[{\"type\":\"choropleth\",\"colorbar\":{\"outlinewidth\":0,\"ticks\":\"\"}}],\"histogram2d\":[{\"type\":\"histogram2d\",\"colorbar\":{\"outlinewidth\":0,\"ticks\":\"\"},\"colorscale\":[[0.0,\"#0d0887\"],[0.1111111111111111,\"#46039f\"],[0.2222222222222222,\"#7201a8\"],[0.3333333333333333,\"#9c179e\"],[0.4444444444444444,\"#bd3786\"],[0.5555555555555556,\"#d8576b\"],[0.6666666666666666,\"#ed7953\"],[0.7777777777777778,\"#fb9f3a\"],[0.8888888888888888,\"#fdca26\"],[1.0,\"#f0f921\"]]}],\"heatmap\":[{\"type\":\"heatmap\",\"colorbar\":{\"outlinewidth\":0,\"ticks\":\"\"},\"colorscale\":[[0.0,\"#0d0887\"],[0.1111111111111111,\"#46039f\"],[0.2222222222222222,\"#7201a8\"],[0.3333333333333333,\"#9c179e\"],[0.4444444444444444,\"#bd3786\"],[0.5555555555555556,\"#d8576b\"],[0.6666666666666666,\"#ed7953\"],[0.7777777777777778,\"#fb9f3a\"],[0.8888888888888888,\"#fdca26\"],[1.0,\"#f0f921\"]]}],\"heatmapgl\":[{\"type\":\"heatmapgl\",\"colorbar\":{\"outlinewidth\":0,\"ticks\":\"\"},\"colorscale\":[[0.0,\"#0d0887\"],[0.1111111111111111,\"#46039f\"],[0.2222222222222222,\"#7201a8\"],[0.3333333333333333,\"#9c179e\"],[0.4444444444444444,\"#bd3786\"],[0.5555555555555556,\"#d8576b\"],[0.6666666666666666,\"#ed7953\"],[0.7777777777777778,\"#fb9f3a\"],[0.8888888888888888,\"#fdca26\"],[1.0,\"#f0f921\"]]}],\"contourcarpet\":[{\"type\":\"contourcarpet\",\"colorbar\":{\"outlinewidth\":0,\"ticks\":\"\"}}],\"contour\":[{\"type\":\"contour\",\"colorbar\":{\"outlinewidth\":0,\"ticks\":\"\"},\"colorscale\":[[0.0,\"#0d0887\"],[0.1111111111111111,\"#46039f\"],[0.2222222222222222,\"#7201a8\"],[0.3333333333333333,\"#9c179e\"],[0.4444444444444444,\"#bd3786\"],[0.5555555555555556,\"#d8576b\"],[0.6666666666666666,\"#ed7953\"],[0.7777777777777778,\"#fb9f3a\"],[0.8888888888888888,\"#fdca26\"],[1.0,\"#f0f921\"]]}],\"surface\":[{\"type\":\"surface\",\"colorbar\":{\"outlinewidth\":0,\"ticks\":\"\"},\"colorscale\":[[0.0,\"#0d0887\"],[0.1111111111111111,\"#46039f\"],[0.2222222222222222,\"#7201a8\"],[0.3333333333333333,\"#9c179e\"],[0.4444444444444444,\"#bd3786\"],[0.5555555555555556,\"#d8576b\"],[0.6666666666666666,\"#ed7953\"],[0.7777777777777778,\"#fb9f3a\"],[0.8888888888888888,\"#fdca26\"],[1.0,\"#f0f921\"]]}],\"mesh3d\":[{\"type\":\"mesh3d\",\"colorbar\":{\"outlinewidth\":0,\"ticks\":\"\"}}],\"scatter\":[{\"fillpattern\":{\"fillmode\":\"overlay\",\"size\":10,\"solidity\":0.2},\"type\":\"scatter\"}],\"parcoords\":[{\"type\":\"parcoords\",\"line\":{\"colorbar\":{\"outlinewidth\":0,\"ticks\":\"\"}}}],\"scatterpolargl\":[{\"type\":\"scatterpolargl\",\"marker\":{\"colorbar\":{\"outlinewidth\":0,\"ticks\":\"\"}}}],\"bar\":[{\"error_x\":{\"color\":\"#2a3f5f\"},\"error_y\":{\"color\":\"#2a3f5f\"},\"marker\":{\"line\":{\"color\":\"#E5ECF6\",\"width\":0.5},\"pattern\":{\"fillmode\":\"overlay\",\"size\":10,\"solidity\":0.2}},\"type\":\"bar\"}],\"scattergeo\":[{\"type\":\"scattergeo\",\"marker\":{\"colorbar\":{\"outlinewidth\":0,\"ticks\":\"\"}}}],\"scatterpolar\":[{\"type\":\"scatterpolar\",\"marker\":{\"colorbar\":{\"outlinewidth\":0,\"ticks\":\"\"}}}],\"histogram\":[{\"marker\":{\"pattern\":{\"fillmode\":\"overlay\",\"size\":10,\"solidity\":0.2}},\"type\":\"histogram\"}],\"scattergl\":[{\"type\":\"scattergl\",\"marker\":{\"colorbar\":{\"outlinewidth\":0,\"ticks\":\"\"}}}],\"scatter3d\":[{\"type\":\"scatter3d\",\"line\":{\"colorbar\":{\"outlinewidth\":0,\"ticks\":\"\"}},\"marker\":{\"colorbar\":{\"outlinewidth\":0,\"ticks\":\"\"}}}],\"scattermapbox\":[{\"type\":\"scattermapbox\",\"marker\":{\"colorbar\":{\"outlinewidth\":0,\"ticks\":\"\"}}}],\"scatterternary\":[{\"type\":\"scatterternary\",\"marker\":{\"colorbar\":{\"outlinewidth\":0,\"ticks\":\"\"}}}],\"scattercarpet\":[{\"type\":\"scattercarpet\",\"marker\":{\"colorbar\":{\"outlinewidth\":0,\"ticks\":\"\"}}}],\"carpet\":[{\"aaxis\":{\"endlinecolor\":\"#2a3f5f\",\"gridcolor\":\"white\",\"linecolor\":\"white\",\"minorgridcolor\":\"white\",\"startlinecolor\":\"#2a3f5f\"},\"baxis\":{\"endlinecolor\":\"#2a3f5f\",\"gridcolor\":\"white\",\"linecolor\":\"white\",\"minorgridcolor\":\"white\",\"startlinecolor\":\"#2a3f5f\"},\"type\":\"carpet\"}],\"table\":[{\"cells\":{\"fill\":{\"color\":\"#EBF0F8\"},\"line\":{\"color\":\"white\"}},\"header\":{\"fill\":{\"color\":\"#C8D4E3\"},\"line\":{\"color\":\"white\"}},\"type\":\"table\"}],\"barpolar\":[{\"marker\":{\"line\":{\"color\":\"#E5ECF6\",\"width\":0.5},\"pattern\":{\"fillmode\":\"overlay\",\"size\":10,\"solidity\":0.2}},\"type\":\"barpolar\"}],\"pie\":[{\"automargin\":true,\"type\":\"pie\"}]},\"layout\":{\"autotypenumbers\":\"strict\",\"colorway\":[\"#636efa\",\"#EF553B\",\"#00cc96\",\"#ab63fa\",\"#FFA15A\",\"#19d3f3\",\"#FF6692\",\"#B6E880\",\"#FF97FF\",\"#FECB52\"],\"font\":{\"color\":\"#2a3f5f\"},\"hovermode\":\"closest\",\"hoverlabel\":{\"align\":\"left\"},\"paper_bgcolor\":\"white\",\"plot_bgcolor\":\"#E5ECF6\",\"polar\":{\"bgcolor\":\"#E5ECF6\",\"angularaxis\":{\"gridcolor\":\"white\",\"linecolor\":\"white\",\"ticks\":\"\"},\"radialaxis\":{\"gridcolor\":\"white\",\"linecolor\":\"white\",\"ticks\":\"\"}},\"ternary\":{\"bgcolor\":\"#E5ECF6\",\"aaxis\":{\"gridcolor\":\"white\",\"linecolor\":\"white\",\"ticks\":\"\"},\"baxis\":{\"gridcolor\":\"white\",\"linecolor\":\"white\",\"ticks\":\"\"},\"caxis\":{\"gridcolor\":\"white\",\"linecolor\":\"white\",\"ticks\":\"\"}},\"coloraxis\":{\"colorbar\":{\"outlinewidth\":0,\"ticks\":\"\"}},\"colorscale\":{\"sequential\":[[0.0,\"#0d0887\"],[0.1111111111111111,\"#46039f\"],[0.2222222222222222,\"#7201a8\"],[0.3333333333333333,\"#9c179e\"],[0.4444444444444444,\"#bd3786\"],[0.5555555555555556,\"#d8576b\"],[0.6666666666666666,\"#ed7953\"],[0.7777777777777778,\"#fb9f3a\"],[0.8888888888888888,\"#fdca26\"],[1.0,\"#f0f921\"]],\"sequentialminus\":[[0.0,\"#0d0887\"],[0.1111111111111111,\"#46039f\"],[0.2222222222222222,\"#7201a8\"],[0.3333333333333333,\"#9c179e\"],[0.4444444444444444,\"#bd3786\"],[0.5555555555555556,\"#d8576b\"],[0.6666666666666666,\"#ed7953\"],[0.7777777777777778,\"#fb9f3a\"],[0.8888888888888888,\"#fdca26\"],[1.0,\"#f0f921\"]],\"diverging\":[[0,\"#8e0152\"],[0.1,\"#c51b7d\"],[0.2,\"#de77ae\"],[0.3,\"#f1b6da\"],[0.4,\"#fde0ef\"],[0.5,\"#f7f7f7\"],[0.6,\"#e6f5d0\"],[0.7,\"#b8e186\"],[0.8,\"#7fbc41\"],[0.9,\"#4d9221\"],[1,\"#276419\"]]},\"xaxis\":{\"gridcolor\":\"white\",\"linecolor\":\"white\",\"ticks\":\"\",\"title\":{\"standoff\":15},\"zerolinecolor\":\"white\",\"automargin\":true,\"zerolinewidth\":2},\"yaxis\":{\"gridcolor\":\"white\",\"linecolor\":\"white\",\"ticks\":\"\",\"title\":{\"standoff\":15},\"zerolinecolor\":\"white\",\"automargin\":true,\"zerolinewidth\":2},\"scene\":{\"xaxis\":{\"backgroundcolor\":\"#E5ECF6\",\"gridcolor\":\"white\",\"linecolor\":\"white\",\"showbackground\":true,\"ticks\":\"\",\"zerolinecolor\":\"white\",\"gridwidth\":2},\"yaxis\":{\"backgroundcolor\":\"#E5ECF6\",\"gridcolor\":\"white\",\"linecolor\":\"white\",\"showbackground\":true,\"ticks\":\"\",\"zerolinecolor\":\"white\",\"gridwidth\":2},\"zaxis\":{\"backgroundcolor\":\"#E5ECF6\",\"gridcolor\":\"white\",\"linecolor\":\"white\",\"showbackground\":true,\"ticks\":\"\",\"zerolinecolor\":\"white\",\"gridwidth\":2}},\"shapedefaults\":{\"line\":{\"color\":\"#2a3f5f\"}},\"annotationdefaults\":{\"arrowcolor\":\"#2a3f5f\",\"arrowhead\":0,\"arrowwidth\":1},\"geo\":{\"bgcolor\":\"white\",\"landcolor\":\"#E5ECF6\",\"subunitcolor\":\"white\",\"showland\":true,\"showlakes\":true,\"lakecolor\":\"white\"},\"title\":{\"x\":0.05},\"mapbox\":{\"style\":\"light\"}}},\"xaxis\":{\"anchor\":\"y\",\"domain\":[0.0,1.0],\"title\":{\"text\":\"Advertising Spend ($)\"}},\"yaxis\":{\"anchor\":\"x\",\"domain\":[0.0,1.0],\"title\":{\"text\":\"Sales ($)\"}},\"legend\":{\"tracegroupgap\":0},\"title\":{\"text\":\"Advertising Spend vs Sales by Region\"}},                        {\"responsive\": true}                    ).then(function(){\n",
              "                            \n",
              "var gd = document.getElementById('037d33b0-a5cc-4615-a7fc-f07f6146dad2');\n",
              "var x = new MutationObserver(function (mutations, observer) {{\n",
              "        var display = window.getComputedStyle(gd).display;\n",
              "        if (!display || display === 'none') {{\n",
              "            console.log([gd, 'removed!']);\n",
              "            Plotly.purge(gd);\n",
              "            observer.disconnect();\n",
              "        }}\n",
              "}});\n",
              "\n",
              "// Listen for the removal of the full notebook cells\n",
              "var notebookContainer = gd.closest('#notebook-container');\n",
              "if (notebookContainer) {{\n",
              "    x.observe(notebookContainer, {childList: true});\n",
              "}}\n",
              "\n",
              "// Listen for the clearing of the current output cell\n",
              "var outputEl = gd.closest('.output');\n",
              "if (outputEl) {{\n",
              "    x.observe(outputEl, {childList: true});\n",
              "}}\n",
              "\n",
              "                        })                };                            </script>        </div>\n",
              "</body>\n",
              "</html>"
            ]
          },
          "metadata": {}
        }
      ]
    },
    {
      "cell_type": "markdown",
      "source": [
        "This scatter plot allows us to see if there's a relationship between how much we spend on advertising in a region and the resulting sales. A positive correlation would suggest that increased ad spend generally leads to higher sales, while outliers might indicate regions where our advertising is particularly effective or ineffective."
      ],
      "metadata": {
        "id": "vh9ImmodvVr6"
      }
    },
    {
      "cell_type": "markdown",
      "source": [
        "## Bar Chart\n",
        "\n",
        "Bar charts are one of the most common and easily understood chart types. They use rectangular bars to represent data, where the length of each bar is proportional to the value it represents. Bar charts can be vertical (column charts) or horizontal.\n",
        "\n",
        "Bar charts are ideal for:\n",
        "- Comparing values across different categories\n",
        "- Showing the distribution of a variable across groups\n",
        "- Displaying rankings or ordered data\n",
        "\n",
        "When interpreting a bar chart:\n",
        "- Compare the lengths of the bars to understand relative values\n",
        "- Pay attention to the order of the bars (if they're arranged in a meaningful way)\n",
        "- Look for patterns or trends across categories\n",
        "\n",
        "For our Crunch-O-Matic campaign, we might use a bar chart to compare sales across different product flavors or packaging sizes.\n",
        "\n",
        "Let's create a bar chart with Plotly Express:"
      ],
      "metadata": {
        "id": "INOZNfcwvjbu"
      }
    },
    {
      "cell_type": "code",
      "source": [
        "import plotly.express as px\n",
        "import pandas as pd\n",
        "\n",
        "# Sample data\n",
        "data = {\n",
        "    'Package Size': ['Small', 'Medium', 'Large', 'Family', 'Party'],\n",
        "    'Sales': [10000, 25000, 30000, 20000, 15000]\n",
        "}\n",
        "df = pd.DataFrame(data)\n",
        "\n",
        "# Create the bar chart\n",
        "fig = px.bar(df, x='Package Size', y='Sales',\n",
        "             title='Crunch-O-Matic Sales by Package Size')\n",
        "\n",
        "fig.update_xaxes(title='Package Size')\n",
        "fig.update_yaxes(title='Sales ($)')\n",
        "\n",
        "fig.show()"
      ],
      "metadata": {
        "id": "akY5eI0hBJzF",
        "colab": {
          "base_uri": "https://localhost:8080/",
          "height": 542
        },
        "outputId": "42c2b94e-723e-4d5f-b55f-f622628c38e3"
      },
      "execution_count": 7,
      "outputs": [
        {
          "output_type": "display_data",
          "data": {
            "text/html": [
              "<html>\n",
              "<head><meta charset=\"utf-8\" /></head>\n",
              "<body>\n",
              "    <div>            <script src=\"https://cdnjs.cloudflare.com/ajax/libs/mathjax/2.7.5/MathJax.js?config=TeX-AMS-MML_SVG\"></script><script type=\"text/javascript\">if (window.MathJax && window.MathJax.Hub && window.MathJax.Hub.Config) {window.MathJax.Hub.Config({SVG: {font: \"STIX-Web\"}});}</script>                <script type=\"text/javascript\">window.PlotlyConfig = {MathJaxConfig: 'local'};</script>\n",
              "        <script charset=\"utf-8\" src=\"https://cdn.plot.ly/plotly-2.35.2.min.js\"></script>                <div id=\"c68753bb-eb9f-477e-8c63-ed9acf7a0deb\" class=\"plotly-graph-div\" style=\"height:525px; width:100%;\"></div>            <script type=\"text/javascript\">                                    window.PLOTLYENV=window.PLOTLYENV || {};                                    if (document.getElementById(\"c68753bb-eb9f-477e-8c63-ed9acf7a0deb\")) {                    Plotly.newPlot(                        \"c68753bb-eb9f-477e-8c63-ed9acf7a0deb\",                        [{\"alignmentgroup\":\"True\",\"hovertemplate\":\"Package Size=%{x}\\u003cbr\\u003eSales=%{y}\\u003cextra\\u003e\\u003c\\u002fextra\\u003e\",\"legendgroup\":\"\",\"marker\":{\"color\":\"#636efa\",\"pattern\":{\"shape\":\"\"}},\"name\":\"\",\"offsetgroup\":\"\",\"orientation\":\"v\",\"showlegend\":false,\"textposition\":\"auto\",\"x\":[\"Small\",\"Medium\",\"Large\",\"Family\",\"Party\"],\"xaxis\":\"x\",\"y\":[10000,25000,30000,20000,15000],\"yaxis\":\"y\",\"type\":\"bar\"}],                        {\"template\":{\"data\":{\"histogram2dcontour\":[{\"type\":\"histogram2dcontour\",\"colorbar\":{\"outlinewidth\":0,\"ticks\":\"\"},\"colorscale\":[[0.0,\"#0d0887\"],[0.1111111111111111,\"#46039f\"],[0.2222222222222222,\"#7201a8\"],[0.3333333333333333,\"#9c179e\"],[0.4444444444444444,\"#bd3786\"],[0.5555555555555556,\"#d8576b\"],[0.6666666666666666,\"#ed7953\"],[0.7777777777777778,\"#fb9f3a\"],[0.8888888888888888,\"#fdca26\"],[1.0,\"#f0f921\"]]}],\"choropleth\":[{\"type\":\"choropleth\",\"colorbar\":{\"outlinewidth\":0,\"ticks\":\"\"}}],\"histogram2d\":[{\"type\":\"histogram2d\",\"colorbar\":{\"outlinewidth\":0,\"ticks\":\"\"},\"colorscale\":[[0.0,\"#0d0887\"],[0.1111111111111111,\"#46039f\"],[0.2222222222222222,\"#7201a8\"],[0.3333333333333333,\"#9c179e\"],[0.4444444444444444,\"#bd3786\"],[0.5555555555555556,\"#d8576b\"],[0.6666666666666666,\"#ed7953\"],[0.7777777777777778,\"#fb9f3a\"],[0.8888888888888888,\"#fdca26\"],[1.0,\"#f0f921\"]]}],\"heatmap\":[{\"type\":\"heatmap\",\"colorbar\":{\"outlinewidth\":0,\"ticks\":\"\"},\"colorscale\":[[0.0,\"#0d0887\"],[0.1111111111111111,\"#46039f\"],[0.2222222222222222,\"#7201a8\"],[0.3333333333333333,\"#9c179e\"],[0.4444444444444444,\"#bd3786\"],[0.5555555555555556,\"#d8576b\"],[0.6666666666666666,\"#ed7953\"],[0.7777777777777778,\"#fb9f3a\"],[0.8888888888888888,\"#fdca26\"],[1.0,\"#f0f921\"]]}],\"heatmapgl\":[{\"type\":\"heatmapgl\",\"colorbar\":{\"outlinewidth\":0,\"ticks\":\"\"},\"colorscale\":[[0.0,\"#0d0887\"],[0.1111111111111111,\"#46039f\"],[0.2222222222222222,\"#7201a8\"],[0.3333333333333333,\"#9c179e\"],[0.4444444444444444,\"#bd3786\"],[0.5555555555555556,\"#d8576b\"],[0.6666666666666666,\"#ed7953\"],[0.7777777777777778,\"#fb9f3a\"],[0.8888888888888888,\"#fdca26\"],[1.0,\"#f0f921\"]]}],\"contourcarpet\":[{\"type\":\"contourcarpet\",\"colorbar\":{\"outlinewidth\":0,\"ticks\":\"\"}}],\"contour\":[{\"type\":\"contour\",\"colorbar\":{\"outlinewidth\":0,\"ticks\":\"\"},\"colorscale\":[[0.0,\"#0d0887\"],[0.1111111111111111,\"#46039f\"],[0.2222222222222222,\"#7201a8\"],[0.3333333333333333,\"#9c179e\"],[0.4444444444444444,\"#bd3786\"],[0.5555555555555556,\"#d8576b\"],[0.6666666666666666,\"#ed7953\"],[0.7777777777777778,\"#fb9f3a\"],[0.8888888888888888,\"#fdca26\"],[1.0,\"#f0f921\"]]}],\"surface\":[{\"type\":\"surface\",\"colorbar\":{\"outlinewidth\":0,\"ticks\":\"\"},\"colorscale\":[[0.0,\"#0d0887\"],[0.1111111111111111,\"#46039f\"],[0.2222222222222222,\"#7201a8\"],[0.3333333333333333,\"#9c179e\"],[0.4444444444444444,\"#bd3786\"],[0.5555555555555556,\"#d8576b\"],[0.6666666666666666,\"#ed7953\"],[0.7777777777777778,\"#fb9f3a\"],[0.8888888888888888,\"#fdca26\"],[1.0,\"#f0f921\"]]}],\"mesh3d\":[{\"type\":\"mesh3d\",\"colorbar\":{\"outlinewidth\":0,\"ticks\":\"\"}}],\"scatter\":[{\"fillpattern\":{\"fillmode\":\"overlay\",\"size\":10,\"solidity\":0.2},\"type\":\"scatter\"}],\"parcoords\":[{\"type\":\"parcoords\",\"line\":{\"colorbar\":{\"outlinewidth\":0,\"ticks\":\"\"}}}],\"scatterpolargl\":[{\"type\":\"scatterpolargl\",\"marker\":{\"colorbar\":{\"outlinewidth\":0,\"ticks\":\"\"}}}],\"bar\":[{\"error_x\":{\"color\":\"#2a3f5f\"},\"error_y\":{\"color\":\"#2a3f5f\"},\"marker\":{\"line\":{\"color\":\"#E5ECF6\",\"width\":0.5},\"pattern\":{\"fillmode\":\"overlay\",\"size\":10,\"solidity\":0.2}},\"type\":\"bar\"}],\"scattergeo\":[{\"type\":\"scattergeo\",\"marker\":{\"colorbar\":{\"outlinewidth\":0,\"ticks\":\"\"}}}],\"scatterpolar\":[{\"type\":\"scatterpolar\",\"marker\":{\"colorbar\":{\"outlinewidth\":0,\"ticks\":\"\"}}}],\"histogram\":[{\"marker\":{\"pattern\":{\"fillmode\":\"overlay\",\"size\":10,\"solidity\":0.2}},\"type\":\"histogram\"}],\"scattergl\":[{\"type\":\"scattergl\",\"marker\":{\"colorbar\":{\"outlinewidth\":0,\"ticks\":\"\"}}}],\"scatter3d\":[{\"type\":\"scatter3d\",\"line\":{\"colorbar\":{\"outlinewidth\":0,\"ticks\":\"\"}},\"marker\":{\"colorbar\":{\"outlinewidth\":0,\"ticks\":\"\"}}}],\"scattermapbox\":[{\"type\":\"scattermapbox\",\"marker\":{\"colorbar\":{\"outlinewidth\":0,\"ticks\":\"\"}}}],\"scatterternary\":[{\"type\":\"scatterternary\",\"marker\":{\"colorbar\":{\"outlinewidth\":0,\"ticks\":\"\"}}}],\"scattercarpet\":[{\"type\":\"scattercarpet\",\"marker\":{\"colorbar\":{\"outlinewidth\":0,\"ticks\":\"\"}}}],\"carpet\":[{\"aaxis\":{\"endlinecolor\":\"#2a3f5f\",\"gridcolor\":\"white\",\"linecolor\":\"white\",\"minorgridcolor\":\"white\",\"startlinecolor\":\"#2a3f5f\"},\"baxis\":{\"endlinecolor\":\"#2a3f5f\",\"gridcolor\":\"white\",\"linecolor\":\"white\",\"minorgridcolor\":\"white\",\"startlinecolor\":\"#2a3f5f\"},\"type\":\"carpet\"}],\"table\":[{\"cells\":{\"fill\":{\"color\":\"#EBF0F8\"},\"line\":{\"color\":\"white\"}},\"header\":{\"fill\":{\"color\":\"#C8D4E3\"},\"line\":{\"color\":\"white\"}},\"type\":\"table\"}],\"barpolar\":[{\"marker\":{\"line\":{\"color\":\"#E5ECF6\",\"width\":0.5},\"pattern\":{\"fillmode\":\"overlay\",\"size\":10,\"solidity\":0.2}},\"type\":\"barpolar\"}],\"pie\":[{\"automargin\":true,\"type\":\"pie\"}]},\"layout\":{\"autotypenumbers\":\"strict\",\"colorway\":[\"#636efa\",\"#EF553B\",\"#00cc96\",\"#ab63fa\",\"#FFA15A\",\"#19d3f3\",\"#FF6692\",\"#B6E880\",\"#FF97FF\",\"#FECB52\"],\"font\":{\"color\":\"#2a3f5f\"},\"hovermode\":\"closest\",\"hoverlabel\":{\"align\":\"left\"},\"paper_bgcolor\":\"white\",\"plot_bgcolor\":\"#E5ECF6\",\"polar\":{\"bgcolor\":\"#E5ECF6\",\"angularaxis\":{\"gridcolor\":\"white\",\"linecolor\":\"white\",\"ticks\":\"\"},\"radialaxis\":{\"gridcolor\":\"white\",\"linecolor\":\"white\",\"ticks\":\"\"}},\"ternary\":{\"bgcolor\":\"#E5ECF6\",\"aaxis\":{\"gridcolor\":\"white\",\"linecolor\":\"white\",\"ticks\":\"\"},\"baxis\":{\"gridcolor\":\"white\",\"linecolor\":\"white\",\"ticks\":\"\"},\"caxis\":{\"gridcolor\":\"white\",\"linecolor\":\"white\",\"ticks\":\"\"}},\"coloraxis\":{\"colorbar\":{\"outlinewidth\":0,\"ticks\":\"\"}},\"colorscale\":{\"sequential\":[[0.0,\"#0d0887\"],[0.1111111111111111,\"#46039f\"],[0.2222222222222222,\"#7201a8\"],[0.3333333333333333,\"#9c179e\"],[0.4444444444444444,\"#bd3786\"],[0.5555555555555556,\"#d8576b\"],[0.6666666666666666,\"#ed7953\"],[0.7777777777777778,\"#fb9f3a\"],[0.8888888888888888,\"#fdca26\"],[1.0,\"#f0f921\"]],\"sequentialminus\":[[0.0,\"#0d0887\"],[0.1111111111111111,\"#46039f\"],[0.2222222222222222,\"#7201a8\"],[0.3333333333333333,\"#9c179e\"],[0.4444444444444444,\"#bd3786\"],[0.5555555555555556,\"#d8576b\"],[0.6666666666666666,\"#ed7953\"],[0.7777777777777778,\"#fb9f3a\"],[0.8888888888888888,\"#fdca26\"],[1.0,\"#f0f921\"]],\"diverging\":[[0,\"#8e0152\"],[0.1,\"#c51b7d\"],[0.2,\"#de77ae\"],[0.3,\"#f1b6da\"],[0.4,\"#fde0ef\"],[0.5,\"#f7f7f7\"],[0.6,\"#e6f5d0\"],[0.7,\"#b8e186\"],[0.8,\"#7fbc41\"],[0.9,\"#4d9221\"],[1,\"#276419\"]]},\"xaxis\":{\"gridcolor\":\"white\",\"linecolor\":\"white\",\"ticks\":\"\",\"title\":{\"standoff\":15},\"zerolinecolor\":\"white\",\"automargin\":true,\"zerolinewidth\":2},\"yaxis\":{\"gridcolor\":\"white\",\"linecolor\":\"white\",\"ticks\":\"\",\"title\":{\"standoff\":15},\"zerolinecolor\":\"white\",\"automargin\":true,\"zerolinewidth\":2},\"scene\":{\"xaxis\":{\"backgroundcolor\":\"#E5ECF6\",\"gridcolor\":\"white\",\"linecolor\":\"white\",\"showbackground\":true,\"ticks\":\"\",\"zerolinecolor\":\"white\",\"gridwidth\":2},\"yaxis\":{\"backgroundcolor\":\"#E5ECF6\",\"gridcolor\":\"white\",\"linecolor\":\"white\",\"showbackground\":true,\"ticks\":\"\",\"zerolinecolor\":\"white\",\"gridwidth\":2},\"zaxis\":{\"backgroundcolor\":\"#E5ECF6\",\"gridcolor\":\"white\",\"linecolor\":\"white\",\"showbackground\":true,\"ticks\":\"\",\"zerolinecolor\":\"white\",\"gridwidth\":2}},\"shapedefaults\":{\"line\":{\"color\":\"#2a3f5f\"}},\"annotationdefaults\":{\"arrowcolor\":\"#2a3f5f\",\"arrowhead\":0,\"arrowwidth\":1},\"geo\":{\"bgcolor\":\"white\",\"landcolor\":\"#E5ECF6\",\"subunitcolor\":\"white\",\"showland\":true,\"showlakes\":true,\"lakecolor\":\"white\"},\"title\":{\"x\":0.05},\"mapbox\":{\"style\":\"light\"}}},\"xaxis\":{\"anchor\":\"y\",\"domain\":[0.0,1.0],\"title\":{\"text\":\"Package Size\"}},\"yaxis\":{\"anchor\":\"x\",\"domain\":[0.0,1.0],\"title\":{\"text\":\"Sales ($)\"}},\"legend\":{\"tracegroupgap\":0},\"title\":{\"text\":\"Crunch-O-Matic Sales by Package Size\"},\"barmode\":\"relative\"},                        {\"responsive\": true}                    ).then(function(){\n",
              "                            \n",
              "var gd = document.getElementById('c68753bb-eb9f-477e-8c63-ed9acf7a0deb');\n",
              "var x = new MutationObserver(function (mutations, observer) {{\n",
              "        var display = window.getComputedStyle(gd).display;\n",
              "        if (!display || display === 'none') {{\n",
              "            console.log([gd, 'removed!']);\n",
              "            Plotly.purge(gd);\n",
              "            observer.disconnect();\n",
              "        }}\n",
              "}});\n",
              "\n",
              "// Listen for the removal of the full notebook cells\n",
              "var notebookContainer = gd.closest('#notebook-container');\n",
              "if (notebookContainer) {{\n",
              "    x.observe(notebookContainer, {childList: true});\n",
              "}}\n",
              "\n",
              "// Listen for the clearing of the current output cell\n",
              "var outputEl = gd.closest('.output');\n",
              "if (outputEl) {{\n",
              "    x.observe(outputEl, {childList: true});\n",
              "}}\n",
              "\n",
              "                        })                };                            </script>        </div>\n",
              "</body>\n",
              "</html>"
            ]
          },
          "metadata": {}
        }
      ]
    },
    {
      "cell_type": "markdown",
      "source": [
        "This bar chart clearly shows which package sizes are most popular among our customers. We can quickly see that the Large size is our best seller, followed by Medium, while the Small and Party sizes have lower sales."
      ],
      "metadata": {
        "id": "ePpIk2wAv28q"
      }
    },
    {
      "cell_type": "markdown",
      "source": [
        "## Histogram\n",
        "\n",
        "A histogram is used to visualize the distribution of a continuous variable. It divides the range of values into intervals (bins) and shows the frequency of data points falling into each bin.\n",
        "\n",
        "Histograms are useful for:\n",
        "- Understanding the shape of data distribution (e.g., normal, skewed, bimodal)\n",
        "- Identifying the central tendency and spread of the data\n",
        "- Spotting outliers or unusual patterns in the data\n",
        "\n",
        "When interpreting a histogram:\n",
        "- Look at the overall shape: Is it symmetric, skewed, or multi-modal?\n",
        "- Identify the peak(s): Where are the most common values?\n",
        "- Check the spread: How wide is the distribution?\n",
        "\n",
        "In our Crunch-O-Matic campaign, we might use a histogram to analyze the distribution of customer purchase amounts or the age of our customers.\n",
        "\n",
        "Here's how to create a histogram using Plotly Express:"
      ],
      "metadata": {
        "id": "JUFnNVvnv66A"
      }
    },
    {
      "cell_type": "code",
      "source": [
        "import plotly.express as px\n",
        "import pandas as pd\n",
        "import numpy as np\n",
        "\n",
        "# Generate sample data\n",
        "np.random.seed(42)\n",
        "data = {\n",
        "    'Purchase Amount': np.random.lognormal(mean=2, sigma=0.5, size=1000)\n",
        "}\n",
        "df = pd.DataFrame(data)\n",
        "\n",
        "# Create the histogram\n",
        "fig = px.histogram(df, x='Purchase Amount', nbins=30,\n",
        "                   title='Distribution of Crunch-O-Matic Purchase Amounts')\n",
        "\n",
        "fig.update_xaxes(title='Purchase Amount ($)')\n",
        "fig.update_yaxes(title='Frequency')\n",
        "\n",
        "fig.show()"
      ],
      "metadata": {
        "id": "cyfOnmeDwEun",
        "outputId": "a8ff7e47-a65f-487c-878c-67fc3ec3795d",
        "colab": {
          "base_uri": "https://localhost:8080/",
          "height": 542
        }
      },
      "execution_count": 8,
      "outputs": [
        {
          "output_type": "display_data",
          "data": {
            "text/html": [
              "<html>\n",
              "<head><meta charset=\"utf-8\" /></head>\n",
              "<body>\n",
              "    <div>            <script src=\"https://cdnjs.cloudflare.com/ajax/libs/mathjax/2.7.5/MathJax.js?config=TeX-AMS-MML_SVG\"></script><script type=\"text/javascript\">if (window.MathJax && window.MathJax.Hub && window.MathJax.Hub.Config) {window.MathJax.Hub.Config({SVG: {font: \"STIX-Web\"}});}</script>                <script type=\"text/javascript\">window.PlotlyConfig = {MathJaxConfig: 'local'};</script>\n",
              "        <script charset=\"utf-8\" src=\"https://cdn.plot.ly/plotly-2.35.2.min.js\"></script>                <div id=\"ddd385c8-e3f1-429c-a579-d1dd1b0ad168\" class=\"plotly-graph-div\" style=\"height:525px; width:100%;\"></div>            <script type=\"text/javascript\">                                    window.PLOTLYENV=window.PLOTLYENV || {};                                    if (document.getElementById(\"ddd385c8-e3f1-429c-a579-d1dd1b0ad168\")) {                    Plotly.newPlot(                        \"ddd385c8-e3f1-429c-a579-d1dd1b0ad168\",                        [{\"alignmentgroup\":\"True\",\"bingroup\":\"x\",\"hovertemplate\":\"Purchase Amount=%{x}\\u003cbr\\u003ecount=%{y}\\u003cextra\\u003e\\u003c\\u002fextra\\u003e\",\"legendgroup\":\"\",\"marker\":{\"color\":\"#636efa\",\"pattern\":{\"shape\":\"\"}},\"name\":\"\",\"nbinsx\":30,\"offsetgroup\":\"\",\"orientation\":\"v\",\"showlegend\":false,\"x\":[9.47216100987194,6.895491894221445,10.214867622433228,15.823796715499308,6.572690835415946,6.572744790114264,16.274612979553005,10.845143375075379,5.843107766131876,9.691798591077474,5.86082954173784,5.854058159457974,8.33931547599255,2.8387388245260103,3.1190893485212103,5.578144729637361,4.453028559376904,8.646232408054852,4.692605454615296,3.646792993058863,15.376254201713406,6.600278530657781,7.642800566796019,3.6241722119058517,5.628306725833048,7.810439957527582,4.155792778909829,8.916014208987708,5.472199593309779,6.386287573232365,5.469278431255862,18.65546424629654,7.339358108402551,4.354215844927973,11.148137638872413,4.013156846072368,8.202441037764961,2.77365220705283,3.8034440132555454,8.15336412317999,10.689193629845098,8.050096996358691,6.973908714790017,6.356310838442798,3.5280277537270686,5.155571093942172,5.8689785954668325,12.535456050388332,8.774143386232396,3.0601989259099454,8.688862079210239,6.094939640652083,5.2674111546211835,10.032583483403334,12.37279067555634,11.77101389129201,4.856855627942518,6.330592363277925,8.720108806928227,12.034440293160579,5.814837735309618,6.734008019722067,4.249632518646081,4.062898714548886,11.092430194298204,14.557699287079522,7.127745171721768,12.204032732289644,8.853545608565774,5.351838371352939,8.852481389853962,15.942974838900914,7.257874231955468,16.156490022236696,1.9939696444035306,11.144557389012425,7.717755119491166,6.362976842008066,7.735966194657102,2.73523004184195,6.6204547178122315,8.833543935158136,15.470686230165782,5.702273134466682,4.932042480738401,5.74954935220157,11.677933774129398,8.709161824470893,5.669607538319751,9.550884008623774,7.7565587413741435,11.992992192761749,5.201637360594025,6.272461909999834,6.073566069567024,3.554599952333477,8.568221103407264,8.419307970416765,7.407972079132843,6.571265509225655,3.641204847626716,5.987520213117337,6.225431403624709,4.947395939805426,6.816574985477115,9.043311542584629,18.97444266165007,8.063025888020759,8.404566552726111,7.11906959564987,2.8309557977359323,7.291746282620862,7.6149628284078235,25.320669949899077,6.711480165290974,8.59150282456042,7.26191897218336,4.119208285533791,13.084278660522068,10.761409239197,10.97385881913329,4.689407644188411,14.900535553122385,3.665902189441984,9.908852474155998,22.09227086871327,4.502945946831266,5.566971196401168,7.766547143559168,5.7446108563087135,3.4030370552923515,7.646755860735353,4.344228328835568,9.363285232792087,4.665933319994945,16.03810097755352,4.994680039196343,6.29005139696246,11.097930047097394,3.9930998809610303,8.279064403795237,14.204678428506977,3.307717527246643,8.10366905819691,8.414373690494898,10.923445427473405,3.980966561901234,3.8181716922734537,9.592396782084801,8.57192507252058,8.374961035083286,8.786567235396326,5.259245835615756,8.298932139057271,8.555173918973669,5.169749790806495,18.78178008641723,9.364411190013957,4.072871387819688,10.260245879478418,4.538784136702234,10.95222138470689,13.187874243711725,4.902076254723831,11.961439067121853,9.082872193535438,11.145435924686797,19.0753417155951,6.5358731011373905,5.068940988723552,4.736236273593321,4.914032351023984,7.109622479530125,8.763330155176488,8.485386084588836,11.174022051699065,7.437248431317009,15.283396431382211,6.473206516705959,28.791626066848785,10.103012774614156,4.81348436364008,4.3256125091505915,9.404950575619038,6.607917870460761,10.559228818349863,9.361624304944545,7.124827701890859,4.838492188862241,3.464527943286082,5.910571480590043,11.338447647358402,8.223919103807129,3.9635124349020003,8.057396286285115,8.95900068311461,4.7496516660740875,7.979394672218066,7.6072699255508915,4.172497807480486,8.836524826415145,9.780516193585692,12.699030114199749,12.514663365215997,3.7104950932135674,4.623201729174244,9.559329930016187,9.55336048131032,9.559389289325166,50.72230452561523,9.830062137469598,13.036887248815278,11.905504804223796,10.233796501696428,6.311449580588285,10.799335562497363,5.020790506552996,6.563937795906462,5.79687063401385,7.697819213296623,23.507729532291847,2.9048083152521125,10.4137817294978,3.2990747962995433,5.835932515481707,12.736543448838997,7.630398023619134,4.310817714384453,5.1672888230396525,10.379148840952586,5.128517772212139,8.233649003945201,7.559355384472768,5.334524893756856,21.58442618454525,10.144782269141544,2.684323408098702,8.111048603662585,5.3074249154375845,11.315988841963183,4.971589613813599,6.977088987384524,9.511424352147076,11.391615440087646,4.054599016435882,6.251049577689298,5.827146004647931,5.329915496373515,17.862921147065144,9.047521524251732,3.933611744633471,11.692305472437331,21.35056276847336,12.381861634133706,3.45670221330712,5.800145268703297,13.921794677725725,5.187050686684974,9.224931035509462,10.884252574788874,4.648454339390211,7.172378449358988,1.4613582770271392,4.427371996883691,6.512451268603197,3.959462996068749,16.713314077976264,3.6144124490562826,5.929724520195256,7.888218274571268,15.189989791189898,3.6040886042188847,13.218030917324372,7.4269593136881475,4.5233174532829175,9.309652239290354,8.162331472105702,5.473353836831052,7.651494915167183,6.094234751529546,7.82057962477499,10.28889684163316,16.33007350297006,3.979245588043822,21.46699602981142,2.7841875303378885,6.849032849707627,9.916089136012243,8.503653833253985,5.4121706418657824,6.6587972478096145,5.774776374747075,5.503133303261375,11.299981047567952,8.833115140844537,5.2254723849632665,11.586028560014048,8.616248321731986,11.094295523538763,10.123044119624517,4.881743811900036,5.584022975088288,10.73647478145752,10.026034227573394,7.312236684979347,7.835492177614711,13.996852009881335,5.497064956803266,9.713811032107513,6.678568537442994,6.627047617023619,12.79927368547823,11.164154720937926,11.097887978425543,14.192865426302799,7.467064281908633,10.391378642230105,6.327255815515719,8.689219994250902,6.923548815717956,7.7562423409053025,9.950059317578967,4.908113530884877,21.035124544401878,4.468225318178123,4.026532942351287,13.184678513336404,10.977320228747695,10.095198436955396,10.116550586622775,7.343948300319323,4.717942597724613,7.674493356384214,5.266779863713226,12.031880877790426,6.865242133019054,4.8902889983314966,6.292176769789325,9.083555829553054,5.574138206469615,4.898307818050096,8.34651098761235,8.351851790181422,5.734659705135688,5.838540476459403,8.298086687734843,3.582130837134552,3.6556287857546685,5.159181223949957,6.641092108556057,8.631806255580551,15.451067711166019,11.345597822024118,6.821168114795746,7.319133129645762,4.476024739956193,7.3209743863498185,6.395986476108652,8.682932178138007,4.886051573899374,9.579958472110293,15.900800541826518,6.997968731788728,9.032740963305207,10.434023906985765,6.045956878266864,8.2651364532367,7.4357258436877505,7.758880429785772,5.020327185992472,7.4801667695293474,9.478244744808814,15.265140098396417,11.936911582129312,21.68435924955998,5.034560425350125,11.429072385170736,8.098436374586027,22.085062314248162,4.932524161455604,4.855631080154618,5.475609957599937,2.554999780754,5.680972819801302,5.055282161549467,7.966114778767829,8.765977084758893,18.879665050825505,11.884225340515206,5.5375278913366435,4.715206277465592,9.449478792513764,3.818598217449112,18.462273560112582,13.32604059399352,5.843980598298139,3.1375201773168975,14.540475683551366,6.977774855734564,13.720734501873089,3.3293802334942546,5.475658204754039,7.408454513375327,7.564681895730367,5.900087989413463,10.08879060243066,4.332695151897475,6.881318372443117,7.847129654781305,9.556479604413884,10.546641194526268,4.2109107483851185,3.431312752497008,13.996935474129138,8.724690598674929,5.082263492388864,16.047867709526177,7.829019801293526,13.325088238175722,7.642763410349742,20.704974024423194,17.77282172781781,6.524197295278252,12.010550543635471,10.203063055749084,14.648175358028436,4.56098345263255,10.412694949921388,12.543620923749115,3.066786457304357,4.0892874761467555,2.665479352688546,6.457850889353551,10.577944521224339,15.661078000802618,7.667935320895907,16.68162430834508,3.7059857060944705,3.152856225719796,7.186657274985912,8.953394413563736,7.269246390205088,2.6281467762106696,7.0670276923403135,3.8488147730485345,10.327768870938606,8.875539507119163,4.618454414640662,5.714841377146457,4.350945766502188,7.161077449058614,11.912296194000868,4.513789194066616,9.506951403972149,5.668197640854686,4.970714457836841,7.0040238528568235,4.403408229933131,5.602289465554882,4.0595050353468904,19.734385409241735,7.520493614141102,5.207694513395305,8.223451038807681,6.985495829980339,6.616160390403507,10.045083893727444,10.791446774367957,5.667507496946693,5.540533964939378,6.439649746347983,2.3374005074853295,3.463932377146716,14.63531046401309,16.818573761574022,6.523962783707046,9.85795241796106,8.633284962925702,34.44763704419824,12.933068173697995,6.931257154045391,4.582431624881269,3.3094328816853342,8.180324485104743,5.0623187400538106,3.628695238382544,5.347951326143085,4.3026279973603705,17.17699206219054,11.48245109908664,7.359659582855458,15.486552542291886,7.6804961952098605,4.803562832439994,15.824542198939605,9.674127189185544,4.398998594388587,6.7182698659222515,4.769258648919345,3.700989197217988,11.741020947345142,19.196122782597786,3.671925607253373,9.791205828304532,5.337080152133671,5.7917663150885685,5.494804656359521,4.797066643457797,7.570512858551529,4.876973981599043,8.458978425923577,7.2057617227738975,6.556952758855976,4.693685848370391,5.537894280406697,10.780032851367306,9.49208785113203,4.532267551956571,7.76530824644297,10.758472263272838,3.2068763363859745,9.695676807290276,5.305203442487124,9.828627829131328,5.044862616043023,2.9968416466992687,3.2747082497016136,7.568860088355846,8.41369933690798,4.701312323217221,10.168515484925873,3.219544754160154,7.1489114522596235,4.032924923288479,5.333896096500754,7.566263372862704,4.805654845684879,6.096545064683141,12.220885381628227,5.537560524470224,11.221662432771195,4.200260607088757,9.630181653824733,15.192232998740447,2.147228090157173,4.960727345703113,9.86049197673414,6.675721624474443,8.895743791571922,5.46305090025647,7.715990730720505,6.8357171120114195,13.248588663939382,8.391425591930258,8.747792046967218,6.013828196741805,5.790374025113742,5.951961958267113,9.000013444686404,5.986504941349579,8.541079700578383,20.85722475641446,11.422240224012729,6.277603089113262,13.471912480541004,6.025270131583356,2.6669559607558657,4.463605486713559,2.8996905937411985,6.1981028790620885,7.457417611397186,17.08530361289273,8.70122383869873,6.6223463162832195,11.186445146692677,2.4459469425086713,8.312889641545356,10.86376127846811,3.527914408108683,13.09037230690737,8.75170207007856,6.003580510842592,10.139015807551814,22.9966011495393,8.092462942188499,8.365451376798447,5.872729693699055,4.831117538187989,11.19164937030537,4.81606924994992,7.658247093603361,5.819249354979296,9.388541091887658,8.730573429605863,12.413318541467582,5.7258545265004885,6.456339603477592,4.529529822243017,5.917140863360838,8.923160915303102,10.788646253407613,4.659542828772082,11.413569562644303,14.55331684367069,9.085842670681508,18.885565616384557,5.018371107386978,3.9656613904221074,3.0363006275031763,15.611723770369947,10.249027552706638,7.186524423617756,8.499304300612938,4.209127898984245,25.100204406966252,7.8822278893714435,7.804475859830024,10.621532535526393,9.398072507614017,8.264275033159466,4.976678856500834,9.353346358437038,18.935003538644303,14.479154915677858,16.388720328001995,5.7224221112382105,4.505043693352776,6.938645204350127,7.597828297617111,12.769962829023504,3.17011443035858,15.875470144317498,6.8277558745385925,5.9688809544947645,4.454646961686096,3.2302891846138353,11.15162572244182,7.664957622404949,3.876836748552686,3.866928853048011,6.247039367740408,17.02207043020145,6.489622251472069,3.484862272832742,6.534713256247384,6.447150273569995,1.9185250324143133,7.191160523757368,6.583277587328903,10.465699362781756,18.624502406378376,12.978349094400128,6.45952415408171,4.249226836780317,26.75389048945471,7.611111484628558,7.440697883238561,7.300460705058767,8.15835357120942,6.874506052332245,5.546510529282062,5.621342584307163,7.269033687455353,5.631003199313451,5.173643135127618,7.79291598399929,6.504611528609802,15.673893505887145,1.963080839003985,12.752832782695007,13.777579489151295,2.6203421053132288,6.2255152061104555,6.136653536823526,3.6555411973145118,5.008275559793991,4.240630992965693,17.7455578337268,11.796928448038349,13.954158266886928,10.599809529289418,4.201636593007364,5.684481208626433,9.437463817060689,4.010580907556998,10.553939632376734,6.552438699719583,6.1262915298889284,10.543188210117508,9.226978659326369,6.168877650590882,13.192716561736665,4.303670814007134,10.053972232918724,9.939837067993517,6.329535041780355,8.697768609710794,3.9528751958492387,11.728403033301937,6.736556786002212,5.6895917093660655,12.484708967888162,5.195683344210955,3.653805955325756,3.392901358224087,10.00419970841845,3.8953569714084977,17.767964542215577,2.6091781744420444,17.25717819462387,8.21127930088598,7.040248332599567,5.626797522487427,9.021116051414808,7.251313673429226,12.828265018664597,7.823357610239849,7.965748246287096,6.160721478949149,7.181635826787366,8.618412340249222,3.142176785953087,3.765600293123157,10.714865185637644,8.048073283060264,6.739652271472532,7.457475607496515,8.791548415612883,5.641331729252064,5.007053594969675,8.14922334442108,4.530415291824824,9.062331055517525,3.154115783384248,12.361388929620519,9.358628399217327,8.39817875245003,12.077515393101589,16.991907855552387,12.27034078908971,2.943392666782056,3.8970174986432102,5.406439327238822,7.486081714801106,9.57187882105075,5.140385586196827,8.112315850030175,5.06476902162823,5.442514065492504,3.657096225744373,4.657055478912099,3.7590177899223054,4.536080773660733,12.513660634028742,4.596524872934717,27.555193576855693,9.456089735754281,8.104488644609388,4.8105966010543835,10.487194481668624,5.541033783557274,7.853858245743793,26.576896058523456,7.042548095997419,13.126546933634982,5.198716600020863,7.2609142797061,17.910736147383727,5.400634631983256,18.287619100515332,10.526290319463884,5.577644820152281,10.137119344895979,12.016458176310728,10.083545945681719,3.369915399538913,5.136805622692292,6.5289144055000286,7.119114042511185,10.077810721991112,8.075626897548236,3.7898552306418285,8.936097078872947,10.027114489943566,9.775656101387623,12.68462160861893,11.211735892923723,9.296054284193845,7.134321446262292,3.220444950007397,9.159660453156516,8.197619797868832,8.463725292487522,3.9025325418437258,4.30368541895119,12.510601772840456,7.244354117472963,10.389029033118334,7.494423330733227,7.499812871376574,11.812306396697691,5.708621842137504,7.752848998101161,5.864178215902256,5.946197182784831,6.330719775272947,8.257045912198226,5.816075311505443,13.844361845545908,4.724191092287313,6.729926200992495,5.93065386511616,15.2333780119249,8.152114881527359,12.378019389126639,3.5156337702183187,8.444582681000721,11.528421230607577,7.699396850115118,12.587952270555013,5.70507297674884,14.949438193384953,23.32321139273326,6.16310506648737,5.913564259932535,15.282253275780977,16.27753722239555,5.689201966810429,5.988893026453983,6.418007399201462,3.772638954383772,4.667735389473352,4.472419854516488,5.033427771104938,7.262016581448577,8.30707337947198,16.042641106672644,4.485378927283949,12.087371129308684,6.639293637182798,7.2085523332076775,10.354381320029102,4.2149553118165075,8.945985400867839,8.030333863407627,9.451993125368315,8.538491236162828,25.220321290185474,5.371622518597234,5.666102675030571,5.410977371932617,5.597171833395781,5.372570309358674,13.390001417340875,15.03306523357851,5.554602443063767,4.873547997645572,9.353099429847097,5.606286054103351,10.139776017121061,8.178113580804334,3.4629746408246977,16.018632895913402,18.13672406419361,5.439056752546158,6.086962689970928,8.524400476526067,8.734043145456438,10.27046331475693,20.188280633423872,6.763404491301464,4.957251121498601,3.7074354565563516,5.127073251138551,7.267675585736544,18.12475950129966,5.704152112706234,8.263878057333146,7.32862968246089,13.385829356969968,26.13998705392601,5.666465833085467,5.785068946591871,12.45448051054706,10.391059207490715,18.603573071119428,9.89435203337237,6.1740433942751265,9.927685956949547,12.862959059642838,11.136645762028422,9.522305706635043,12.595471502524383,13.258618518736686,14.747587285160881,10.220085429533922,6.796725552720581,7.951470206602953,13.507626924064487,4.911268037167713,8.884752936728171,6.069829974184348,7.4960214875493305,14.002360622634361,8.129907403487705,7.56262440960174,3.743690649410595,10.73089305612326,10.20361521738415,21.793840012969817,6.3351334719398045,8.244737877646,8.370317709082588,16.260301394284582,7.04524015726495,8.49528040555978,10.013640913916756,8.11167645713684,5.910811861080642,8.142074470071806,12.63936152183536,4.422664534401281,7.897014977132683,5.206665296204406,13.430433848750775,3.4501114939502533,5.587539763163484,8.922765547813093,16.16360345993294,7.150089466776505,5.597948753680225,18.926792952310795,3.5822570039407395,2.4610719859944403,9.207397389333597,5.748695087924585,4.43436129810561,10.529472433931234,8.346984675063965,5.573151454152483,3.895600348888571,11.42985354072857,10.227708828842008,7.031584475416573,18.602918890873255,4.327359829216698,3.4460802115178177,5.22808976185739,7.222542168429323,8.34505981339864,6.549455857935206,8.811235762363765,3.952033623834743,15.208923105716952,7.091695210770293,12.918338820121406,8.77022685481174,9.28478101374252,9.824542974824585,9.242886974754626,10.18953669873683,14.361862633557054,8.151977899389857,10.532880903408769,7.064852602463667,15.181211955173126,5.268806408605521,18.18269316115741,7.242171009786619,3.6132673602415593,7.877827811700602,5.256546074627172,11.249478527830538,5.331795297957932,5.911551294731184,2.872634734286358,5.893481091861091,2.1991267212743906,3.3469470041151133,10.807143255851834,10.945189879344246,9.140625155576162,4.556304728457126,7.214871066960453,7.375758397179289,4.140504562469609,15.669233669799198,11.4579194425392,6.616178339090341,7.489057232879428,8.200469461007389,2.662146003563162,6.530028506459615,5.254095543480866,4.478060349857298,6.420203747423113,18.153134824945912,10.179963550688539,5.55340084582815,9.838383220239523],\"xaxis\":\"x\",\"yaxis\":\"y\",\"type\":\"histogram\"}],                        {\"template\":{\"data\":{\"histogram2dcontour\":[{\"type\":\"histogram2dcontour\",\"colorbar\":{\"outlinewidth\":0,\"ticks\":\"\"},\"colorscale\":[[0.0,\"#0d0887\"],[0.1111111111111111,\"#46039f\"],[0.2222222222222222,\"#7201a8\"],[0.3333333333333333,\"#9c179e\"],[0.4444444444444444,\"#bd3786\"],[0.5555555555555556,\"#d8576b\"],[0.6666666666666666,\"#ed7953\"],[0.7777777777777778,\"#fb9f3a\"],[0.8888888888888888,\"#fdca26\"],[1.0,\"#f0f921\"]]}],\"choropleth\":[{\"type\":\"choropleth\",\"colorbar\":{\"outlinewidth\":0,\"ticks\":\"\"}}],\"histogram2d\":[{\"type\":\"histogram2d\",\"colorbar\":{\"outlinewidth\":0,\"ticks\":\"\"},\"colorscale\":[[0.0,\"#0d0887\"],[0.1111111111111111,\"#46039f\"],[0.2222222222222222,\"#7201a8\"],[0.3333333333333333,\"#9c179e\"],[0.4444444444444444,\"#bd3786\"],[0.5555555555555556,\"#d8576b\"],[0.6666666666666666,\"#ed7953\"],[0.7777777777777778,\"#fb9f3a\"],[0.8888888888888888,\"#fdca26\"],[1.0,\"#f0f921\"]]}],\"heatmap\":[{\"type\":\"heatmap\",\"colorbar\":{\"outlinewidth\":0,\"ticks\":\"\"},\"colorscale\":[[0.0,\"#0d0887\"],[0.1111111111111111,\"#46039f\"],[0.2222222222222222,\"#7201a8\"],[0.3333333333333333,\"#9c179e\"],[0.4444444444444444,\"#bd3786\"],[0.5555555555555556,\"#d8576b\"],[0.6666666666666666,\"#ed7953\"],[0.7777777777777778,\"#fb9f3a\"],[0.8888888888888888,\"#fdca26\"],[1.0,\"#f0f921\"]]}],\"heatmapgl\":[{\"type\":\"heatmapgl\",\"colorbar\":{\"outlinewidth\":0,\"ticks\":\"\"},\"colorscale\":[[0.0,\"#0d0887\"],[0.1111111111111111,\"#46039f\"],[0.2222222222222222,\"#7201a8\"],[0.3333333333333333,\"#9c179e\"],[0.4444444444444444,\"#bd3786\"],[0.5555555555555556,\"#d8576b\"],[0.6666666666666666,\"#ed7953\"],[0.7777777777777778,\"#fb9f3a\"],[0.8888888888888888,\"#fdca26\"],[1.0,\"#f0f921\"]]}],\"contourcarpet\":[{\"type\":\"contourcarpet\",\"colorbar\":{\"outlinewidth\":0,\"ticks\":\"\"}}],\"contour\":[{\"type\":\"contour\",\"colorbar\":{\"outlinewidth\":0,\"ticks\":\"\"},\"colorscale\":[[0.0,\"#0d0887\"],[0.1111111111111111,\"#46039f\"],[0.2222222222222222,\"#7201a8\"],[0.3333333333333333,\"#9c179e\"],[0.4444444444444444,\"#bd3786\"],[0.5555555555555556,\"#d8576b\"],[0.6666666666666666,\"#ed7953\"],[0.7777777777777778,\"#fb9f3a\"],[0.8888888888888888,\"#fdca26\"],[1.0,\"#f0f921\"]]}],\"surface\":[{\"type\":\"surface\",\"colorbar\":{\"outlinewidth\":0,\"ticks\":\"\"},\"colorscale\":[[0.0,\"#0d0887\"],[0.1111111111111111,\"#46039f\"],[0.2222222222222222,\"#7201a8\"],[0.3333333333333333,\"#9c179e\"],[0.4444444444444444,\"#bd3786\"],[0.5555555555555556,\"#d8576b\"],[0.6666666666666666,\"#ed7953\"],[0.7777777777777778,\"#fb9f3a\"],[0.8888888888888888,\"#fdca26\"],[1.0,\"#f0f921\"]]}],\"mesh3d\":[{\"type\":\"mesh3d\",\"colorbar\":{\"outlinewidth\":0,\"ticks\":\"\"}}],\"scatter\":[{\"fillpattern\":{\"fillmode\":\"overlay\",\"size\":10,\"solidity\":0.2},\"type\":\"scatter\"}],\"parcoords\":[{\"type\":\"parcoords\",\"line\":{\"colorbar\":{\"outlinewidth\":0,\"ticks\":\"\"}}}],\"scatterpolargl\":[{\"type\":\"scatterpolargl\",\"marker\":{\"colorbar\":{\"outlinewidth\":0,\"ticks\":\"\"}}}],\"bar\":[{\"error_x\":{\"color\":\"#2a3f5f\"},\"error_y\":{\"color\":\"#2a3f5f\"},\"marker\":{\"line\":{\"color\":\"#E5ECF6\",\"width\":0.5},\"pattern\":{\"fillmode\":\"overlay\",\"size\":10,\"solidity\":0.2}},\"type\":\"bar\"}],\"scattergeo\":[{\"type\":\"scattergeo\",\"marker\":{\"colorbar\":{\"outlinewidth\":0,\"ticks\":\"\"}}}],\"scatterpolar\":[{\"type\":\"scatterpolar\",\"marker\":{\"colorbar\":{\"outlinewidth\":0,\"ticks\":\"\"}}}],\"histogram\":[{\"marker\":{\"pattern\":{\"fillmode\":\"overlay\",\"size\":10,\"solidity\":0.2}},\"type\":\"histogram\"}],\"scattergl\":[{\"type\":\"scattergl\",\"marker\":{\"colorbar\":{\"outlinewidth\":0,\"ticks\":\"\"}}}],\"scatter3d\":[{\"type\":\"scatter3d\",\"line\":{\"colorbar\":{\"outlinewidth\":0,\"ticks\":\"\"}},\"marker\":{\"colorbar\":{\"outlinewidth\":0,\"ticks\":\"\"}}}],\"scattermapbox\":[{\"type\":\"scattermapbox\",\"marker\":{\"colorbar\":{\"outlinewidth\":0,\"ticks\":\"\"}}}],\"scatterternary\":[{\"type\":\"scatterternary\",\"marker\":{\"colorbar\":{\"outlinewidth\":0,\"ticks\":\"\"}}}],\"scattercarpet\":[{\"type\":\"scattercarpet\",\"marker\":{\"colorbar\":{\"outlinewidth\":0,\"ticks\":\"\"}}}],\"carpet\":[{\"aaxis\":{\"endlinecolor\":\"#2a3f5f\",\"gridcolor\":\"white\",\"linecolor\":\"white\",\"minorgridcolor\":\"white\",\"startlinecolor\":\"#2a3f5f\"},\"baxis\":{\"endlinecolor\":\"#2a3f5f\",\"gridcolor\":\"white\",\"linecolor\":\"white\",\"minorgridcolor\":\"white\",\"startlinecolor\":\"#2a3f5f\"},\"type\":\"carpet\"}],\"table\":[{\"cells\":{\"fill\":{\"color\":\"#EBF0F8\"},\"line\":{\"color\":\"white\"}},\"header\":{\"fill\":{\"color\":\"#C8D4E3\"},\"line\":{\"color\":\"white\"}},\"type\":\"table\"}],\"barpolar\":[{\"marker\":{\"line\":{\"color\":\"#E5ECF6\",\"width\":0.5},\"pattern\":{\"fillmode\":\"overlay\",\"size\":10,\"solidity\":0.2}},\"type\":\"barpolar\"}],\"pie\":[{\"automargin\":true,\"type\":\"pie\"}]},\"layout\":{\"autotypenumbers\":\"strict\",\"colorway\":[\"#636efa\",\"#EF553B\",\"#00cc96\",\"#ab63fa\",\"#FFA15A\",\"#19d3f3\",\"#FF6692\",\"#B6E880\",\"#FF97FF\",\"#FECB52\"],\"font\":{\"color\":\"#2a3f5f\"},\"hovermode\":\"closest\",\"hoverlabel\":{\"align\":\"left\"},\"paper_bgcolor\":\"white\",\"plot_bgcolor\":\"#E5ECF6\",\"polar\":{\"bgcolor\":\"#E5ECF6\",\"angularaxis\":{\"gridcolor\":\"white\",\"linecolor\":\"white\",\"ticks\":\"\"},\"radialaxis\":{\"gridcolor\":\"white\",\"linecolor\":\"white\",\"ticks\":\"\"}},\"ternary\":{\"bgcolor\":\"#E5ECF6\",\"aaxis\":{\"gridcolor\":\"white\",\"linecolor\":\"white\",\"ticks\":\"\"},\"baxis\":{\"gridcolor\":\"white\",\"linecolor\":\"white\",\"ticks\":\"\"},\"caxis\":{\"gridcolor\":\"white\",\"linecolor\":\"white\",\"ticks\":\"\"}},\"coloraxis\":{\"colorbar\":{\"outlinewidth\":0,\"ticks\":\"\"}},\"colorscale\":{\"sequential\":[[0.0,\"#0d0887\"],[0.1111111111111111,\"#46039f\"],[0.2222222222222222,\"#7201a8\"],[0.3333333333333333,\"#9c179e\"],[0.4444444444444444,\"#bd3786\"],[0.5555555555555556,\"#d8576b\"],[0.6666666666666666,\"#ed7953\"],[0.7777777777777778,\"#fb9f3a\"],[0.8888888888888888,\"#fdca26\"],[1.0,\"#f0f921\"]],\"sequentialminus\":[[0.0,\"#0d0887\"],[0.1111111111111111,\"#46039f\"],[0.2222222222222222,\"#7201a8\"],[0.3333333333333333,\"#9c179e\"],[0.4444444444444444,\"#bd3786\"],[0.5555555555555556,\"#d8576b\"],[0.6666666666666666,\"#ed7953\"],[0.7777777777777778,\"#fb9f3a\"],[0.8888888888888888,\"#fdca26\"],[1.0,\"#f0f921\"]],\"diverging\":[[0,\"#8e0152\"],[0.1,\"#c51b7d\"],[0.2,\"#de77ae\"],[0.3,\"#f1b6da\"],[0.4,\"#fde0ef\"],[0.5,\"#f7f7f7\"],[0.6,\"#e6f5d0\"],[0.7,\"#b8e186\"],[0.8,\"#7fbc41\"],[0.9,\"#4d9221\"],[1,\"#276419\"]]},\"xaxis\":{\"gridcolor\":\"white\",\"linecolor\":\"white\",\"ticks\":\"\",\"title\":{\"standoff\":15},\"zerolinecolor\":\"white\",\"automargin\":true,\"zerolinewidth\":2},\"yaxis\":{\"gridcolor\":\"white\",\"linecolor\":\"white\",\"ticks\":\"\",\"title\":{\"standoff\":15},\"zerolinecolor\":\"white\",\"automargin\":true,\"zerolinewidth\":2},\"scene\":{\"xaxis\":{\"backgroundcolor\":\"#E5ECF6\",\"gridcolor\":\"white\",\"linecolor\":\"white\",\"showbackground\":true,\"ticks\":\"\",\"zerolinecolor\":\"white\",\"gridwidth\":2},\"yaxis\":{\"backgroundcolor\":\"#E5ECF6\",\"gridcolor\":\"white\",\"linecolor\":\"white\",\"showbackground\":true,\"ticks\":\"\",\"zerolinecolor\":\"white\",\"gridwidth\":2},\"zaxis\":{\"backgroundcolor\":\"#E5ECF6\",\"gridcolor\":\"white\",\"linecolor\":\"white\",\"showbackground\":true,\"ticks\":\"\",\"zerolinecolor\":\"white\",\"gridwidth\":2}},\"shapedefaults\":{\"line\":{\"color\":\"#2a3f5f\"}},\"annotationdefaults\":{\"arrowcolor\":\"#2a3f5f\",\"arrowhead\":0,\"arrowwidth\":1},\"geo\":{\"bgcolor\":\"white\",\"landcolor\":\"#E5ECF6\",\"subunitcolor\":\"white\",\"showland\":true,\"showlakes\":true,\"lakecolor\":\"white\"},\"title\":{\"x\":0.05},\"mapbox\":{\"style\":\"light\"}}},\"xaxis\":{\"anchor\":\"y\",\"domain\":[0.0,1.0],\"title\":{\"text\":\"Purchase Amount ($)\"}},\"yaxis\":{\"anchor\":\"x\",\"domain\":[0.0,1.0],\"title\":{\"text\":\"Frequency\"}},\"legend\":{\"tracegroupgap\":0},\"title\":{\"text\":\"Distribution of Crunch-O-Matic Purchase Amounts\"},\"barmode\":\"relative\"},                        {\"responsive\": true}                    ).then(function(){\n",
              "                            \n",
              "var gd = document.getElementById('ddd385c8-e3f1-429c-a579-d1dd1b0ad168');\n",
              "var x = new MutationObserver(function (mutations, observer) {{\n",
              "        var display = window.getComputedStyle(gd).display;\n",
              "        if (!display || display === 'none') {{\n",
              "            console.log([gd, 'removed!']);\n",
              "            Plotly.purge(gd);\n",
              "            observer.disconnect();\n",
              "        }}\n",
              "}});\n",
              "\n",
              "// Listen for the removal of the full notebook cells\n",
              "var notebookContainer = gd.closest('#notebook-container');\n",
              "if (notebookContainer) {{\n",
              "    x.observe(notebookContainer, {childList: true});\n",
              "}}\n",
              "\n",
              "// Listen for the clearing of the current output cell\n",
              "var outputEl = gd.closest('.output');\n",
              "if (outputEl) {{\n",
              "    x.observe(outputEl, {childList: true});\n",
              "}}\n",
              "\n",
              "                        })                };                            </script>        </div>\n",
              "</body>\n",
              "</html>"
            ]
          },
          "metadata": {}
        }
      ]
    },
    {
      "cell_type": "markdown",
      "source": [
        "This histogram shows the distribution of purchase amounts for Crunch-O-Matic products. We can see if most purchases are clustered around a certain amount, if there's a long tail of high-value purchases, or if the distribution is multi-modal (suggesting different customer segments with distinct purchasing behaviors).\n",
        "\n",
        "By understanding these chart types and when to use them, we can create more insightful and impactful dashboards for our Mad Men-style Crunch-O-Matic campaign. Each chart type offers a unique perspective on our data, helping us make informed decisions about product development, marketing strategies, and sales tactics.\n",
        "\n"
      ],
      "metadata": {
        "id": "IXtWfKRhwD--"
      }
    },
    {
      "cell_type": "markdown",
      "source": [
        "## Waterfall Chart\n",
        "\n",
        "A waterfall chart, also known as a bridge chart or a flying bricks chart, is used to show how an initial value is affected by a series of intermediate positive or negative values, resulting in a final value. Each bar or column starts at the level left by the previous bar, making it easy to see how each factor contributes to the total.\n",
        "\n",
        "Waterfall charts are particularly useful for:\n",
        "- Visualizing financial statements, showing how various factors contribute to a total profit or loss\n",
        "- Displaying the cumulative effect of sequential changes\n",
        "- Illustrating the components of a complex calculation\n",
        "\n",
        "When interpreting a waterfall chart:\n",
        "- Start from the left: The first bar usually represents the initial value\n",
        "- Follow the \"flow\": Each subsequent bar shows an increase (usually in green) or decrease (usually in red)\n",
        "- End at the right: The final bar represents the end result after all changes\n",
        "\n",
        "For our Crunch-O-Matic campaign, we might use a waterfall chart to break down our quarterly profits, showing how different factors contribute to or detract from our bottom line.\n",
        "\n",
        "Here's how to create a waterfall chart using Plotly:"
      ],
      "metadata": {
        "id": "A2rv4HHOwhu1"
      }
    },
    {
      "cell_type": "code",
      "source": [
        "import plotly.graph_objects as go\n",
        "import pandas as pd\n",
        "\n",
        "# Sample data\n",
        "data = {\n",
        "    'Category': ['Start', 'Sales', 'Marketing', 'Operations', 'Taxes', 'End'],\n",
        "    'Amount': [0, 500000, -150000, -200000, -50000, 100000],\n",
        "    'Text': ['Start', '+500k', '-150k', '-200k', '-50k', 'Profit']\n",
        "}\n",
        "df = pd.DataFrame(data)\n",
        "\n",
        "# Calculate cumulative sum\n",
        "df['Cumulative'] = df['Amount'].cumsum()\n",
        "\n",
        "# Create the waterfall chart\n",
        "fig = go.Figure(go.Waterfall(\n",
        "    name = \"Quarterly Profit Breakdown\",\n",
        "    orientation = \"v\",\n",
        "    measure = [\"absolute\", \"relative\", \"relative\", \"relative\", \"relative\", \"total\"],\n",
        "    x = df['Category'],\n",
        "    textposition = \"outside\",\n",
        "    text = df['Text'],\n",
        "    y = df['Amount'],\n",
        "    connector = {\"line\":{\"color\":\"rgb(63, 63, 63)\"}},\n",
        "))\n",
        "\n",
        "fig.update_layout(\n",
        "    title = \"Crunch-O-Matic Quarterly Profit Breakdown\",\n",
        "    showlegend = False\n",
        ")\n",
        "\n",
        "fig.show()"
      ],
      "metadata": {
        "id": "KIBwtWvLwidn",
        "outputId": "1fd7bff2-e01b-42a9-8490-7f72a44464f7",
        "colab": {
          "base_uri": "https://localhost:8080/",
          "height": 542
        }
      },
      "execution_count": 9,
      "outputs": [
        {
          "output_type": "display_data",
          "data": {
            "text/html": [
              "<html>\n",
              "<head><meta charset=\"utf-8\" /></head>\n",
              "<body>\n",
              "    <div>            <script src=\"https://cdnjs.cloudflare.com/ajax/libs/mathjax/2.7.5/MathJax.js?config=TeX-AMS-MML_SVG\"></script><script type=\"text/javascript\">if (window.MathJax && window.MathJax.Hub && window.MathJax.Hub.Config) {window.MathJax.Hub.Config({SVG: {font: \"STIX-Web\"}});}</script>                <script type=\"text/javascript\">window.PlotlyConfig = {MathJaxConfig: 'local'};</script>\n",
              "        <script charset=\"utf-8\" src=\"https://cdn.plot.ly/plotly-2.35.2.min.js\"></script>                <div id=\"539a5f7c-787a-4f77-84d6-8c676aa0bdf6\" class=\"plotly-graph-div\" style=\"height:525px; width:100%;\"></div>            <script type=\"text/javascript\">                                    window.PLOTLYENV=window.PLOTLYENV || {};                                    if (document.getElementById(\"539a5f7c-787a-4f77-84d6-8c676aa0bdf6\")) {                    Plotly.newPlot(                        \"539a5f7c-787a-4f77-84d6-8c676aa0bdf6\",                        [{\"connector\":{\"line\":{\"color\":\"rgb(63, 63, 63)\"}},\"measure\":[\"absolute\",\"relative\",\"relative\",\"relative\",\"relative\",\"total\"],\"name\":\"Quarterly Profit Breakdown\",\"orientation\":\"v\",\"text\":[\"Start\",\"+500k\",\"-150k\",\"-200k\",\"-50k\",\"Profit\"],\"textposition\":\"outside\",\"x\":[\"Start\",\"Sales\",\"Marketing\",\"Operations\",\"Taxes\",\"End\"],\"y\":[0,500000,-150000,-200000,-50000,100000],\"type\":\"waterfall\"}],                        {\"template\":{\"data\":{\"histogram2dcontour\":[{\"type\":\"histogram2dcontour\",\"colorbar\":{\"outlinewidth\":0,\"ticks\":\"\"},\"colorscale\":[[0.0,\"#0d0887\"],[0.1111111111111111,\"#46039f\"],[0.2222222222222222,\"#7201a8\"],[0.3333333333333333,\"#9c179e\"],[0.4444444444444444,\"#bd3786\"],[0.5555555555555556,\"#d8576b\"],[0.6666666666666666,\"#ed7953\"],[0.7777777777777778,\"#fb9f3a\"],[0.8888888888888888,\"#fdca26\"],[1.0,\"#f0f921\"]]}],\"choropleth\":[{\"type\":\"choropleth\",\"colorbar\":{\"outlinewidth\":0,\"ticks\":\"\"}}],\"histogram2d\":[{\"type\":\"histogram2d\",\"colorbar\":{\"outlinewidth\":0,\"ticks\":\"\"},\"colorscale\":[[0.0,\"#0d0887\"],[0.1111111111111111,\"#46039f\"],[0.2222222222222222,\"#7201a8\"],[0.3333333333333333,\"#9c179e\"],[0.4444444444444444,\"#bd3786\"],[0.5555555555555556,\"#d8576b\"],[0.6666666666666666,\"#ed7953\"],[0.7777777777777778,\"#fb9f3a\"],[0.8888888888888888,\"#fdca26\"],[1.0,\"#f0f921\"]]}],\"heatmap\":[{\"type\":\"heatmap\",\"colorbar\":{\"outlinewidth\":0,\"ticks\":\"\"},\"colorscale\":[[0.0,\"#0d0887\"],[0.1111111111111111,\"#46039f\"],[0.2222222222222222,\"#7201a8\"],[0.3333333333333333,\"#9c179e\"],[0.4444444444444444,\"#bd3786\"],[0.5555555555555556,\"#d8576b\"],[0.6666666666666666,\"#ed7953\"],[0.7777777777777778,\"#fb9f3a\"],[0.8888888888888888,\"#fdca26\"],[1.0,\"#f0f921\"]]}],\"heatmapgl\":[{\"type\":\"heatmapgl\",\"colorbar\":{\"outlinewidth\":0,\"ticks\":\"\"},\"colorscale\":[[0.0,\"#0d0887\"],[0.1111111111111111,\"#46039f\"],[0.2222222222222222,\"#7201a8\"],[0.3333333333333333,\"#9c179e\"],[0.4444444444444444,\"#bd3786\"],[0.5555555555555556,\"#d8576b\"],[0.6666666666666666,\"#ed7953\"],[0.7777777777777778,\"#fb9f3a\"],[0.8888888888888888,\"#fdca26\"],[1.0,\"#f0f921\"]]}],\"contourcarpet\":[{\"type\":\"contourcarpet\",\"colorbar\":{\"outlinewidth\":0,\"ticks\":\"\"}}],\"contour\":[{\"type\":\"contour\",\"colorbar\":{\"outlinewidth\":0,\"ticks\":\"\"},\"colorscale\":[[0.0,\"#0d0887\"],[0.1111111111111111,\"#46039f\"],[0.2222222222222222,\"#7201a8\"],[0.3333333333333333,\"#9c179e\"],[0.4444444444444444,\"#bd3786\"],[0.5555555555555556,\"#d8576b\"],[0.6666666666666666,\"#ed7953\"],[0.7777777777777778,\"#fb9f3a\"],[0.8888888888888888,\"#fdca26\"],[1.0,\"#f0f921\"]]}],\"surface\":[{\"type\":\"surface\",\"colorbar\":{\"outlinewidth\":0,\"ticks\":\"\"},\"colorscale\":[[0.0,\"#0d0887\"],[0.1111111111111111,\"#46039f\"],[0.2222222222222222,\"#7201a8\"],[0.3333333333333333,\"#9c179e\"],[0.4444444444444444,\"#bd3786\"],[0.5555555555555556,\"#d8576b\"],[0.6666666666666666,\"#ed7953\"],[0.7777777777777778,\"#fb9f3a\"],[0.8888888888888888,\"#fdca26\"],[1.0,\"#f0f921\"]]}],\"mesh3d\":[{\"type\":\"mesh3d\",\"colorbar\":{\"outlinewidth\":0,\"ticks\":\"\"}}],\"scatter\":[{\"fillpattern\":{\"fillmode\":\"overlay\",\"size\":10,\"solidity\":0.2},\"type\":\"scatter\"}],\"parcoords\":[{\"type\":\"parcoords\",\"line\":{\"colorbar\":{\"outlinewidth\":0,\"ticks\":\"\"}}}],\"scatterpolargl\":[{\"type\":\"scatterpolargl\",\"marker\":{\"colorbar\":{\"outlinewidth\":0,\"ticks\":\"\"}}}],\"bar\":[{\"error_x\":{\"color\":\"#2a3f5f\"},\"error_y\":{\"color\":\"#2a3f5f\"},\"marker\":{\"line\":{\"color\":\"#E5ECF6\",\"width\":0.5},\"pattern\":{\"fillmode\":\"overlay\",\"size\":10,\"solidity\":0.2}},\"type\":\"bar\"}],\"scattergeo\":[{\"type\":\"scattergeo\",\"marker\":{\"colorbar\":{\"outlinewidth\":0,\"ticks\":\"\"}}}],\"scatterpolar\":[{\"type\":\"scatterpolar\",\"marker\":{\"colorbar\":{\"outlinewidth\":0,\"ticks\":\"\"}}}],\"histogram\":[{\"marker\":{\"pattern\":{\"fillmode\":\"overlay\",\"size\":10,\"solidity\":0.2}},\"type\":\"histogram\"}],\"scattergl\":[{\"type\":\"scattergl\",\"marker\":{\"colorbar\":{\"outlinewidth\":0,\"ticks\":\"\"}}}],\"scatter3d\":[{\"type\":\"scatter3d\",\"line\":{\"colorbar\":{\"outlinewidth\":0,\"ticks\":\"\"}},\"marker\":{\"colorbar\":{\"outlinewidth\":0,\"ticks\":\"\"}}}],\"scattermapbox\":[{\"type\":\"scattermapbox\",\"marker\":{\"colorbar\":{\"outlinewidth\":0,\"ticks\":\"\"}}}],\"scatterternary\":[{\"type\":\"scatterternary\",\"marker\":{\"colorbar\":{\"outlinewidth\":0,\"ticks\":\"\"}}}],\"scattercarpet\":[{\"type\":\"scattercarpet\",\"marker\":{\"colorbar\":{\"outlinewidth\":0,\"ticks\":\"\"}}}],\"carpet\":[{\"aaxis\":{\"endlinecolor\":\"#2a3f5f\",\"gridcolor\":\"white\",\"linecolor\":\"white\",\"minorgridcolor\":\"white\",\"startlinecolor\":\"#2a3f5f\"},\"baxis\":{\"endlinecolor\":\"#2a3f5f\",\"gridcolor\":\"white\",\"linecolor\":\"white\",\"minorgridcolor\":\"white\",\"startlinecolor\":\"#2a3f5f\"},\"type\":\"carpet\"}],\"table\":[{\"cells\":{\"fill\":{\"color\":\"#EBF0F8\"},\"line\":{\"color\":\"white\"}},\"header\":{\"fill\":{\"color\":\"#C8D4E3\"},\"line\":{\"color\":\"white\"}},\"type\":\"table\"}],\"barpolar\":[{\"marker\":{\"line\":{\"color\":\"#E5ECF6\",\"width\":0.5},\"pattern\":{\"fillmode\":\"overlay\",\"size\":10,\"solidity\":0.2}},\"type\":\"barpolar\"}],\"pie\":[{\"automargin\":true,\"type\":\"pie\"}]},\"layout\":{\"autotypenumbers\":\"strict\",\"colorway\":[\"#636efa\",\"#EF553B\",\"#00cc96\",\"#ab63fa\",\"#FFA15A\",\"#19d3f3\",\"#FF6692\",\"#B6E880\",\"#FF97FF\",\"#FECB52\"],\"font\":{\"color\":\"#2a3f5f\"},\"hovermode\":\"closest\",\"hoverlabel\":{\"align\":\"left\"},\"paper_bgcolor\":\"white\",\"plot_bgcolor\":\"#E5ECF6\",\"polar\":{\"bgcolor\":\"#E5ECF6\",\"angularaxis\":{\"gridcolor\":\"white\",\"linecolor\":\"white\",\"ticks\":\"\"},\"radialaxis\":{\"gridcolor\":\"white\",\"linecolor\":\"white\",\"ticks\":\"\"}},\"ternary\":{\"bgcolor\":\"#E5ECF6\",\"aaxis\":{\"gridcolor\":\"white\",\"linecolor\":\"white\",\"ticks\":\"\"},\"baxis\":{\"gridcolor\":\"white\",\"linecolor\":\"white\",\"ticks\":\"\"},\"caxis\":{\"gridcolor\":\"white\",\"linecolor\":\"white\",\"ticks\":\"\"}},\"coloraxis\":{\"colorbar\":{\"outlinewidth\":0,\"ticks\":\"\"}},\"colorscale\":{\"sequential\":[[0.0,\"#0d0887\"],[0.1111111111111111,\"#46039f\"],[0.2222222222222222,\"#7201a8\"],[0.3333333333333333,\"#9c179e\"],[0.4444444444444444,\"#bd3786\"],[0.5555555555555556,\"#d8576b\"],[0.6666666666666666,\"#ed7953\"],[0.7777777777777778,\"#fb9f3a\"],[0.8888888888888888,\"#fdca26\"],[1.0,\"#f0f921\"]],\"sequentialminus\":[[0.0,\"#0d0887\"],[0.1111111111111111,\"#46039f\"],[0.2222222222222222,\"#7201a8\"],[0.3333333333333333,\"#9c179e\"],[0.4444444444444444,\"#bd3786\"],[0.5555555555555556,\"#d8576b\"],[0.6666666666666666,\"#ed7953\"],[0.7777777777777778,\"#fb9f3a\"],[0.8888888888888888,\"#fdca26\"],[1.0,\"#f0f921\"]],\"diverging\":[[0,\"#8e0152\"],[0.1,\"#c51b7d\"],[0.2,\"#de77ae\"],[0.3,\"#f1b6da\"],[0.4,\"#fde0ef\"],[0.5,\"#f7f7f7\"],[0.6,\"#e6f5d0\"],[0.7,\"#b8e186\"],[0.8,\"#7fbc41\"],[0.9,\"#4d9221\"],[1,\"#276419\"]]},\"xaxis\":{\"gridcolor\":\"white\",\"linecolor\":\"white\",\"ticks\":\"\",\"title\":{\"standoff\":15},\"zerolinecolor\":\"white\",\"automargin\":true,\"zerolinewidth\":2},\"yaxis\":{\"gridcolor\":\"white\",\"linecolor\":\"white\",\"ticks\":\"\",\"title\":{\"standoff\":15},\"zerolinecolor\":\"white\",\"automargin\":true,\"zerolinewidth\":2},\"scene\":{\"xaxis\":{\"backgroundcolor\":\"#E5ECF6\",\"gridcolor\":\"white\",\"linecolor\":\"white\",\"showbackground\":true,\"ticks\":\"\",\"zerolinecolor\":\"white\",\"gridwidth\":2},\"yaxis\":{\"backgroundcolor\":\"#E5ECF6\",\"gridcolor\":\"white\",\"linecolor\":\"white\",\"showbackground\":true,\"ticks\":\"\",\"zerolinecolor\":\"white\",\"gridwidth\":2},\"zaxis\":{\"backgroundcolor\":\"#E5ECF6\",\"gridcolor\":\"white\",\"linecolor\":\"white\",\"showbackground\":true,\"ticks\":\"\",\"zerolinecolor\":\"white\",\"gridwidth\":2}},\"shapedefaults\":{\"line\":{\"color\":\"#2a3f5f\"}},\"annotationdefaults\":{\"arrowcolor\":\"#2a3f5f\",\"arrowhead\":0,\"arrowwidth\":1},\"geo\":{\"bgcolor\":\"white\",\"landcolor\":\"#E5ECF6\",\"subunitcolor\":\"white\",\"showland\":true,\"showlakes\":true,\"lakecolor\":\"white\"},\"title\":{\"x\":0.05},\"mapbox\":{\"style\":\"light\"}}},\"title\":{\"text\":\"Crunch-O-Matic Quarterly Profit Breakdown\"},\"showlegend\":false},                        {\"responsive\": true}                    ).then(function(){\n",
              "                            \n",
              "var gd = document.getElementById('539a5f7c-787a-4f77-84d6-8c676aa0bdf6');\n",
              "var x = new MutationObserver(function (mutations, observer) {{\n",
              "        var display = window.getComputedStyle(gd).display;\n",
              "        if (!display || display === 'none') {{\n",
              "            console.log([gd, 'removed!']);\n",
              "            Plotly.purge(gd);\n",
              "            observer.disconnect();\n",
              "        }}\n",
              "}});\n",
              "\n",
              "// Listen for the removal of the full notebook cells\n",
              "var notebookContainer = gd.closest('#notebook-container');\n",
              "if (notebookContainer) {{\n",
              "    x.observe(notebookContainer, {childList: true});\n",
              "}}\n",
              "\n",
              "// Listen for the clearing of the current output cell\n",
              "var outputEl = gd.closest('.output');\n",
              "if (outputEl) {{\n",
              "    x.observe(outputEl, {childList: true});\n",
              "}}\n",
              "\n",
              "                        })                };                            </script>        </div>\n",
              "</body>\n",
              "</html>"
            ]
          },
          "metadata": {}
        }
      ]
    },
    {
      "cell_type": "markdown",
      "source": [
        "This waterfall chart clearly shows how we start with our sales revenue, subtract various expenses, and end up with our final profit figure. It provides a clear visualization of how each factor contributes to our overall financial performance.\n"
      ],
      "metadata": {
        "id": "bS-cFGhcwo-O"
      }
    },
    {
      "cell_type": "markdown",
      "source": [
        "## Heat Map\n",
        "\n",
        "A heat map is a two-dimensional representation of data where values are depicted by colors. It's an excellent way to visualize complex data and identify patterns or trends that might be difficult to spot in other chart types.\n",
        "\n",
        "Heat maps are particularly useful for:\n",
        "- Showing variations in data across two dimensions\n",
        "- Identifying correlations between variables\n",
        "- Visualizing large datasets in a compact form\n",
        "\n",
        "When interpreting a heat map:\n",
        "- Look at the color scale: Usually, darker or more intense colors represent higher values\n",
        "- Identify patterns: Look for clusters of similar colors or gradients\n",
        "- Compare rows or columns: Analyze how values change across different categories\n",
        "\n",
        "In our Crunch-O-Matic campaign, we might use a heat map to visualize sales performance across different products and regions.\n",
        "\n",
        "Let's create a heat map using Plotly Express:"
      ],
      "metadata": {
        "id": "mYxD4cjywrpA"
      }
    },
    {
      "cell_type": "code",
      "source": [
        "import plotly.express as px\n",
        "import pandas as pd\n",
        "import numpy as np\n",
        "\n",
        "# Generate sample data\n",
        "np.random.seed(42)\n",
        "regions = ['North', 'South', 'East', 'West']\n",
        "products = ['Original', 'Spicy', 'Cheesy', 'BBQ']\n",
        "data = {\n",
        "    'Region': [region for region in regions for _ in range(len(products))],\n",
        "    'Product': products * len(regions),\n",
        "    'Sales': np.random.randint(10000, 100000, len(regions) * len(products))\n",
        "}\n",
        "df = pd.DataFrame(data)\n",
        "\n",
        "# Create the heat map\n",
        "fig = px.imshow(df.pivot(index='Region', columns='Product', values='Sales'),\n",
        "                labels=dict(x=\"Product\", y=\"Region\", color=\"Sales\"),\n",
        "                x=products, y=regions,\n",
        "                title='Crunch-O-Matic Sales Heat Map by Region and Product')\n",
        "\n",
        "fig.update_xaxes(side=\"top\")\n",
        "\n",
        "fig.show()"
      ],
      "metadata": {
        "id": "a7GpXLklwv4i",
        "outputId": "8049a86d-0e59-4eb5-90c2-d2f78b7a8d2f",
        "colab": {
          "base_uri": "https://localhost:8080/",
          "height": 542
        }
      },
      "execution_count": 10,
      "outputs": [
        {
          "output_type": "display_data",
          "data": {
            "text/html": [
              "<html>\n",
              "<head><meta charset=\"utf-8\" /></head>\n",
              "<body>\n",
              "    <div>            <script src=\"https://cdnjs.cloudflare.com/ajax/libs/mathjax/2.7.5/MathJax.js?config=TeX-AMS-MML_SVG\"></script><script type=\"text/javascript\">if (window.MathJax && window.MathJax.Hub && window.MathJax.Hub.Config) {window.MathJax.Hub.Config({SVG: {font: \"STIX-Web\"}});}</script>                <script type=\"text/javascript\">window.PlotlyConfig = {MathJaxConfig: 'local'};</script>\n",
              "        <script charset=\"utf-8\" src=\"https://cdn.plot.ly/plotly-2.35.2.min.js\"></script>                <div id=\"8478334e-f48d-4bc8-8d7b-972fdb56c664\" class=\"plotly-graph-div\" style=\"height:525px; width:100%;\"></div>            <script type=\"text/javascript\">                                    window.PLOTLYENV=window.PLOTLYENV || {};                                    if (document.getElementById(\"8478334e-f48d-4bc8-8d7b-972fdb56c664\")) {                    Plotly.newPlot(                        \"8478334e-f48d-4bc8-8d7b-972fdb56c664\",                        [{\"coloraxis\":\"coloraxis\",\"name\":\"0\",\"x\":[\"Original\",\"Spicy\",\"Cheesy\",\"BBQ\"],\"y\":[\"North\",\"South\",\"East\",\"West\"],\"z\":[[51090,26023,54131,70263],[64886,86820,25795,10860],[97498,47194,16265,92386],[69735,10769,77221,74820]],\"type\":\"heatmap\",\"xaxis\":\"x\",\"yaxis\":\"y\",\"hovertemplate\":\"Product: %{x}\\u003cbr\\u003eRegion: %{y}\\u003cbr\\u003eSales: %{z}\\u003cextra\\u003e\\u003c\\u002fextra\\u003e\"}],                        {\"template\":{\"data\":{\"histogram2dcontour\":[{\"type\":\"histogram2dcontour\",\"colorbar\":{\"outlinewidth\":0,\"ticks\":\"\"},\"colorscale\":[[0.0,\"#0d0887\"],[0.1111111111111111,\"#46039f\"],[0.2222222222222222,\"#7201a8\"],[0.3333333333333333,\"#9c179e\"],[0.4444444444444444,\"#bd3786\"],[0.5555555555555556,\"#d8576b\"],[0.6666666666666666,\"#ed7953\"],[0.7777777777777778,\"#fb9f3a\"],[0.8888888888888888,\"#fdca26\"],[1.0,\"#f0f921\"]]}],\"choropleth\":[{\"type\":\"choropleth\",\"colorbar\":{\"outlinewidth\":0,\"ticks\":\"\"}}],\"histogram2d\":[{\"type\":\"histogram2d\",\"colorbar\":{\"outlinewidth\":0,\"ticks\":\"\"},\"colorscale\":[[0.0,\"#0d0887\"],[0.1111111111111111,\"#46039f\"],[0.2222222222222222,\"#7201a8\"],[0.3333333333333333,\"#9c179e\"],[0.4444444444444444,\"#bd3786\"],[0.5555555555555556,\"#d8576b\"],[0.6666666666666666,\"#ed7953\"],[0.7777777777777778,\"#fb9f3a\"],[0.8888888888888888,\"#fdca26\"],[1.0,\"#f0f921\"]]}],\"heatmap\":[{\"type\":\"heatmap\",\"colorbar\":{\"outlinewidth\":0,\"ticks\":\"\"},\"colorscale\":[[0.0,\"#0d0887\"],[0.1111111111111111,\"#46039f\"],[0.2222222222222222,\"#7201a8\"],[0.3333333333333333,\"#9c179e\"],[0.4444444444444444,\"#bd3786\"],[0.5555555555555556,\"#d8576b\"],[0.6666666666666666,\"#ed7953\"],[0.7777777777777778,\"#fb9f3a\"],[0.8888888888888888,\"#fdca26\"],[1.0,\"#f0f921\"]]}],\"heatmapgl\":[{\"type\":\"heatmapgl\",\"colorbar\":{\"outlinewidth\":0,\"ticks\":\"\"},\"colorscale\":[[0.0,\"#0d0887\"],[0.1111111111111111,\"#46039f\"],[0.2222222222222222,\"#7201a8\"],[0.3333333333333333,\"#9c179e\"],[0.4444444444444444,\"#bd3786\"],[0.5555555555555556,\"#d8576b\"],[0.6666666666666666,\"#ed7953\"],[0.7777777777777778,\"#fb9f3a\"],[0.8888888888888888,\"#fdca26\"],[1.0,\"#f0f921\"]]}],\"contourcarpet\":[{\"type\":\"contourcarpet\",\"colorbar\":{\"outlinewidth\":0,\"ticks\":\"\"}}],\"contour\":[{\"type\":\"contour\",\"colorbar\":{\"outlinewidth\":0,\"ticks\":\"\"},\"colorscale\":[[0.0,\"#0d0887\"],[0.1111111111111111,\"#46039f\"],[0.2222222222222222,\"#7201a8\"],[0.3333333333333333,\"#9c179e\"],[0.4444444444444444,\"#bd3786\"],[0.5555555555555556,\"#d8576b\"],[0.6666666666666666,\"#ed7953\"],[0.7777777777777778,\"#fb9f3a\"],[0.8888888888888888,\"#fdca26\"],[1.0,\"#f0f921\"]]}],\"surface\":[{\"type\":\"surface\",\"colorbar\":{\"outlinewidth\":0,\"ticks\":\"\"},\"colorscale\":[[0.0,\"#0d0887\"],[0.1111111111111111,\"#46039f\"],[0.2222222222222222,\"#7201a8\"],[0.3333333333333333,\"#9c179e\"],[0.4444444444444444,\"#bd3786\"],[0.5555555555555556,\"#d8576b\"],[0.6666666666666666,\"#ed7953\"],[0.7777777777777778,\"#fb9f3a\"],[0.8888888888888888,\"#fdca26\"],[1.0,\"#f0f921\"]]}],\"mesh3d\":[{\"type\":\"mesh3d\",\"colorbar\":{\"outlinewidth\":0,\"ticks\":\"\"}}],\"scatter\":[{\"fillpattern\":{\"fillmode\":\"overlay\",\"size\":10,\"solidity\":0.2},\"type\":\"scatter\"}],\"parcoords\":[{\"type\":\"parcoords\",\"line\":{\"colorbar\":{\"outlinewidth\":0,\"ticks\":\"\"}}}],\"scatterpolargl\":[{\"type\":\"scatterpolargl\",\"marker\":{\"colorbar\":{\"outlinewidth\":0,\"ticks\":\"\"}}}],\"bar\":[{\"error_x\":{\"color\":\"#2a3f5f\"},\"error_y\":{\"color\":\"#2a3f5f\"},\"marker\":{\"line\":{\"color\":\"#E5ECF6\",\"width\":0.5},\"pattern\":{\"fillmode\":\"overlay\",\"size\":10,\"solidity\":0.2}},\"type\":\"bar\"}],\"scattergeo\":[{\"type\":\"scattergeo\",\"marker\":{\"colorbar\":{\"outlinewidth\":0,\"ticks\":\"\"}}}],\"scatterpolar\":[{\"type\":\"scatterpolar\",\"marker\":{\"colorbar\":{\"outlinewidth\":0,\"ticks\":\"\"}}}],\"histogram\":[{\"marker\":{\"pattern\":{\"fillmode\":\"overlay\",\"size\":10,\"solidity\":0.2}},\"type\":\"histogram\"}],\"scattergl\":[{\"type\":\"scattergl\",\"marker\":{\"colorbar\":{\"outlinewidth\":0,\"ticks\":\"\"}}}],\"scatter3d\":[{\"type\":\"scatter3d\",\"line\":{\"colorbar\":{\"outlinewidth\":0,\"ticks\":\"\"}},\"marker\":{\"colorbar\":{\"outlinewidth\":0,\"ticks\":\"\"}}}],\"scattermapbox\":[{\"type\":\"scattermapbox\",\"marker\":{\"colorbar\":{\"outlinewidth\":0,\"ticks\":\"\"}}}],\"scatterternary\":[{\"type\":\"scatterternary\",\"marker\":{\"colorbar\":{\"outlinewidth\":0,\"ticks\":\"\"}}}],\"scattercarpet\":[{\"type\":\"scattercarpet\",\"marker\":{\"colorbar\":{\"outlinewidth\":0,\"ticks\":\"\"}}}],\"carpet\":[{\"aaxis\":{\"endlinecolor\":\"#2a3f5f\",\"gridcolor\":\"white\",\"linecolor\":\"white\",\"minorgridcolor\":\"white\",\"startlinecolor\":\"#2a3f5f\"},\"baxis\":{\"endlinecolor\":\"#2a3f5f\",\"gridcolor\":\"white\",\"linecolor\":\"white\",\"minorgridcolor\":\"white\",\"startlinecolor\":\"#2a3f5f\"},\"type\":\"carpet\"}],\"table\":[{\"cells\":{\"fill\":{\"color\":\"#EBF0F8\"},\"line\":{\"color\":\"white\"}},\"header\":{\"fill\":{\"color\":\"#C8D4E3\"},\"line\":{\"color\":\"white\"}},\"type\":\"table\"}],\"barpolar\":[{\"marker\":{\"line\":{\"color\":\"#E5ECF6\",\"width\":0.5},\"pattern\":{\"fillmode\":\"overlay\",\"size\":10,\"solidity\":0.2}},\"type\":\"barpolar\"}],\"pie\":[{\"automargin\":true,\"type\":\"pie\"}]},\"layout\":{\"autotypenumbers\":\"strict\",\"colorway\":[\"#636efa\",\"#EF553B\",\"#00cc96\",\"#ab63fa\",\"#FFA15A\",\"#19d3f3\",\"#FF6692\",\"#B6E880\",\"#FF97FF\",\"#FECB52\"],\"font\":{\"color\":\"#2a3f5f\"},\"hovermode\":\"closest\",\"hoverlabel\":{\"align\":\"left\"},\"paper_bgcolor\":\"white\",\"plot_bgcolor\":\"#E5ECF6\",\"polar\":{\"bgcolor\":\"#E5ECF6\",\"angularaxis\":{\"gridcolor\":\"white\",\"linecolor\":\"white\",\"ticks\":\"\"},\"radialaxis\":{\"gridcolor\":\"white\",\"linecolor\":\"white\",\"ticks\":\"\"}},\"ternary\":{\"bgcolor\":\"#E5ECF6\",\"aaxis\":{\"gridcolor\":\"white\",\"linecolor\":\"white\",\"ticks\":\"\"},\"baxis\":{\"gridcolor\":\"white\",\"linecolor\":\"white\",\"ticks\":\"\"},\"caxis\":{\"gridcolor\":\"white\",\"linecolor\":\"white\",\"ticks\":\"\"}},\"coloraxis\":{\"colorbar\":{\"outlinewidth\":0,\"ticks\":\"\"}},\"colorscale\":{\"sequential\":[[0.0,\"#0d0887\"],[0.1111111111111111,\"#46039f\"],[0.2222222222222222,\"#7201a8\"],[0.3333333333333333,\"#9c179e\"],[0.4444444444444444,\"#bd3786\"],[0.5555555555555556,\"#d8576b\"],[0.6666666666666666,\"#ed7953\"],[0.7777777777777778,\"#fb9f3a\"],[0.8888888888888888,\"#fdca26\"],[1.0,\"#f0f921\"]],\"sequentialminus\":[[0.0,\"#0d0887\"],[0.1111111111111111,\"#46039f\"],[0.2222222222222222,\"#7201a8\"],[0.3333333333333333,\"#9c179e\"],[0.4444444444444444,\"#bd3786\"],[0.5555555555555556,\"#d8576b\"],[0.6666666666666666,\"#ed7953\"],[0.7777777777777778,\"#fb9f3a\"],[0.8888888888888888,\"#fdca26\"],[1.0,\"#f0f921\"]],\"diverging\":[[0,\"#8e0152\"],[0.1,\"#c51b7d\"],[0.2,\"#de77ae\"],[0.3,\"#f1b6da\"],[0.4,\"#fde0ef\"],[0.5,\"#f7f7f7\"],[0.6,\"#e6f5d0\"],[0.7,\"#b8e186\"],[0.8,\"#7fbc41\"],[0.9,\"#4d9221\"],[1,\"#276419\"]]},\"xaxis\":{\"gridcolor\":\"white\",\"linecolor\":\"white\",\"ticks\":\"\",\"title\":{\"standoff\":15},\"zerolinecolor\":\"white\",\"automargin\":true,\"zerolinewidth\":2},\"yaxis\":{\"gridcolor\":\"white\",\"linecolor\":\"white\",\"ticks\":\"\",\"title\":{\"standoff\":15},\"zerolinecolor\":\"white\",\"automargin\":true,\"zerolinewidth\":2},\"scene\":{\"xaxis\":{\"backgroundcolor\":\"#E5ECF6\",\"gridcolor\":\"white\",\"linecolor\":\"white\",\"showbackground\":true,\"ticks\":\"\",\"zerolinecolor\":\"white\",\"gridwidth\":2},\"yaxis\":{\"backgroundcolor\":\"#E5ECF6\",\"gridcolor\":\"white\",\"linecolor\":\"white\",\"showbackground\":true,\"ticks\":\"\",\"zerolinecolor\":\"white\",\"gridwidth\":2},\"zaxis\":{\"backgroundcolor\":\"#E5ECF6\",\"gridcolor\":\"white\",\"linecolor\":\"white\",\"showbackground\":true,\"ticks\":\"\",\"zerolinecolor\":\"white\",\"gridwidth\":2}},\"shapedefaults\":{\"line\":{\"color\":\"#2a3f5f\"}},\"annotationdefaults\":{\"arrowcolor\":\"#2a3f5f\",\"arrowhead\":0,\"arrowwidth\":1},\"geo\":{\"bgcolor\":\"white\",\"landcolor\":\"#E5ECF6\",\"subunitcolor\":\"white\",\"showland\":true,\"showlakes\":true,\"lakecolor\":\"white\"},\"title\":{\"x\":0.05},\"mapbox\":{\"style\":\"light\"}}},\"xaxis\":{\"anchor\":\"y\",\"domain\":[0.0,1.0],\"scaleanchor\":\"y\",\"constrain\":\"domain\",\"title\":{\"text\":\"Product\"},\"side\":\"top\"},\"yaxis\":{\"anchor\":\"x\",\"domain\":[0.0,1.0],\"autorange\":\"reversed\",\"constrain\":\"domain\",\"title\":{\"text\":\"Region\"}},\"coloraxis\":{\"colorbar\":{\"title\":{\"text\":\"Sales\"}},\"colorscale\":[[0.0,\"#0d0887\"],[0.1111111111111111,\"#46039f\"],[0.2222222222222222,\"#7201a8\"],[0.3333333333333333,\"#9c179e\"],[0.4444444444444444,\"#bd3786\"],[0.5555555555555556,\"#d8576b\"],[0.6666666666666666,\"#ed7953\"],[0.7777777777777778,\"#fb9f3a\"],[0.8888888888888888,\"#fdca26\"],[1.0,\"#f0f921\"]]},\"title\":{\"text\":\"Crunch-O-Matic Sales Heat Map by Region and Product\"}},                        {\"responsive\": true}                    ).then(function(){\n",
              "                            \n",
              "var gd = document.getElementById('8478334e-f48d-4bc8-8d7b-972fdb56c664');\n",
              "var x = new MutationObserver(function (mutations, observer) {{\n",
              "        var display = window.getComputedStyle(gd).display;\n",
              "        if (!display || display === 'none') {{\n",
              "            console.log([gd, 'removed!']);\n",
              "            Plotly.purge(gd);\n",
              "            observer.disconnect();\n",
              "        }}\n",
              "}});\n",
              "\n",
              "// Listen for the removal of the full notebook cells\n",
              "var notebookContainer = gd.closest('#notebook-container');\n",
              "if (notebookContainer) {{\n",
              "    x.observe(notebookContainer, {childList: true});\n",
              "}}\n",
              "\n",
              "// Listen for the clearing of the current output cell\n",
              "var outputEl = gd.closest('.output');\n",
              "if (outputEl) {{\n",
              "    x.observe(outputEl, {childList: true});\n",
              "}}\n",
              "\n",
              "                        })                };                            </script>        </div>\n",
              "</body>\n",
              "</html>"
            ]
          },
          "metadata": {}
        }
      ]
    },
    {
      "cell_type": "markdown",
      "source": [
        "This heat map allows us to quickly identify which products are performing well in which regions. We can easily spot any \"hot spots\" of high sales or areas that might need more marketing attention."
      ],
      "metadata": {
        "id": "vRpxFaJ0w1vJ"
      }
    },
    {
      "cell_type": "markdown",
      "source": [
        "## Geographic Map (Choropleth)\n",
        "\n",
        "Geographic maps, or choropleth maps, use color-coding to display how a measurement varies across a geographic area. They're excellent for visualizing data that has a spatial component.\n",
        "\n",
        "Geographic maps are useful for:\n",
        "- Showing regional variations in data\n",
        "- Identifying geographic patterns or trends\n",
        "- Comparing data across different locations\n",
        "\n",
        "When interpreting a geographic map:\n",
        "- Look at the color scale: Understand what the colors represent\n",
        "- Identify patterns: Look for clusters of similar colors or gradients across regions\n",
        "- Consider external factors: Think about how geographic features or regional characteristics might influence the data\n",
        "\n",
        "For our Crunch-O-Matic campaign, we might use a geographic map to visualize sales or market penetration across different states or countries.\n",
        "\n",
        "Here's how to create a geographic map using Plotly Express:"
      ],
      "metadata": {
        "id": "oUN8YuwTw7a6"
      }
    },
    {
      "cell_type": "code",
      "source": [
        "import plotly.express as px\n",
        "import pandas as pd\n",
        "\n",
        "# Sample data with state abbreviations\n",
        "data = {\n",
        "    'State': ['IL', 'IA', 'SD', 'WI', 'MN'],\n",
        "    'Sales': [500000, 400000, 300000, 350000, 250000]\n",
        "}\n",
        "df = pd.DataFrame(data)\n",
        "\n",
        "# Create the geographic map\n",
        "fig = px.choropleth(df,\n",
        "                    locations='State',\n",
        "                    locationmode=\"USA-states\",\n",
        "                    color='Sales',\n",
        "                    scope=\"usa\",\n",
        "                    color_continuous_scale=\"Viridis\",\n",
        "                    title='Crunch-O-Matic Sales by State')\n",
        "\n",
        "fig.show()\n"
      ],
      "metadata": {
        "id": "jmM678fVw_sX",
        "outputId": "eca1c9a3-c8eb-479d-cd2f-2e00fd0a066c",
        "colab": {
          "base_uri": "https://localhost:8080/",
          "height": 542
        }
      },
      "execution_count": 11,
      "outputs": [
        {
          "output_type": "display_data",
          "data": {
            "text/html": [
              "<html>\n",
              "<head><meta charset=\"utf-8\" /></head>\n",
              "<body>\n",
              "    <div>            <script src=\"https://cdnjs.cloudflare.com/ajax/libs/mathjax/2.7.5/MathJax.js?config=TeX-AMS-MML_SVG\"></script><script type=\"text/javascript\">if (window.MathJax && window.MathJax.Hub && window.MathJax.Hub.Config) {window.MathJax.Hub.Config({SVG: {font: \"STIX-Web\"}});}</script>                <script type=\"text/javascript\">window.PlotlyConfig = {MathJaxConfig: 'local'};</script>\n",
              "        <script charset=\"utf-8\" src=\"https://cdn.plot.ly/plotly-2.35.2.min.js\"></script>                <div id=\"722f8889-1edb-4cdc-9d21-886c0085389e\" class=\"plotly-graph-div\" style=\"height:525px; width:100%;\"></div>            <script type=\"text/javascript\">                                    window.PLOTLYENV=window.PLOTLYENV || {};                                    if (document.getElementById(\"722f8889-1edb-4cdc-9d21-886c0085389e\")) {                    Plotly.newPlot(                        \"722f8889-1edb-4cdc-9d21-886c0085389e\",                        [{\"coloraxis\":\"coloraxis\",\"geo\":\"geo\",\"hovertemplate\":\"State=%{location}\\u003cbr\\u003eSales=%{z}\\u003cextra\\u003e\\u003c\\u002fextra\\u003e\",\"locationmode\":\"USA-states\",\"locations\":[\"IL\",\"IA\",\"SD\",\"WI\",\"MN\"],\"name\":\"\",\"z\":[500000,400000,300000,350000,250000],\"type\":\"choropleth\"}],                        {\"template\":{\"data\":{\"histogram2dcontour\":[{\"type\":\"histogram2dcontour\",\"colorbar\":{\"outlinewidth\":0,\"ticks\":\"\"},\"colorscale\":[[0.0,\"#0d0887\"],[0.1111111111111111,\"#46039f\"],[0.2222222222222222,\"#7201a8\"],[0.3333333333333333,\"#9c179e\"],[0.4444444444444444,\"#bd3786\"],[0.5555555555555556,\"#d8576b\"],[0.6666666666666666,\"#ed7953\"],[0.7777777777777778,\"#fb9f3a\"],[0.8888888888888888,\"#fdca26\"],[1.0,\"#f0f921\"]]}],\"choropleth\":[{\"type\":\"choropleth\",\"colorbar\":{\"outlinewidth\":0,\"ticks\":\"\"}}],\"histogram2d\":[{\"type\":\"histogram2d\",\"colorbar\":{\"outlinewidth\":0,\"ticks\":\"\"},\"colorscale\":[[0.0,\"#0d0887\"],[0.1111111111111111,\"#46039f\"],[0.2222222222222222,\"#7201a8\"],[0.3333333333333333,\"#9c179e\"],[0.4444444444444444,\"#bd3786\"],[0.5555555555555556,\"#d8576b\"],[0.6666666666666666,\"#ed7953\"],[0.7777777777777778,\"#fb9f3a\"],[0.8888888888888888,\"#fdca26\"],[1.0,\"#f0f921\"]]}],\"heatmap\":[{\"type\":\"heatmap\",\"colorbar\":{\"outlinewidth\":0,\"ticks\":\"\"},\"colorscale\":[[0.0,\"#0d0887\"],[0.1111111111111111,\"#46039f\"],[0.2222222222222222,\"#7201a8\"],[0.3333333333333333,\"#9c179e\"],[0.4444444444444444,\"#bd3786\"],[0.5555555555555556,\"#d8576b\"],[0.6666666666666666,\"#ed7953\"],[0.7777777777777778,\"#fb9f3a\"],[0.8888888888888888,\"#fdca26\"],[1.0,\"#f0f921\"]]}],\"heatmapgl\":[{\"type\":\"heatmapgl\",\"colorbar\":{\"outlinewidth\":0,\"ticks\":\"\"},\"colorscale\":[[0.0,\"#0d0887\"],[0.1111111111111111,\"#46039f\"],[0.2222222222222222,\"#7201a8\"],[0.3333333333333333,\"#9c179e\"],[0.4444444444444444,\"#bd3786\"],[0.5555555555555556,\"#d8576b\"],[0.6666666666666666,\"#ed7953\"],[0.7777777777777778,\"#fb9f3a\"],[0.8888888888888888,\"#fdca26\"],[1.0,\"#f0f921\"]]}],\"contourcarpet\":[{\"type\":\"contourcarpet\",\"colorbar\":{\"outlinewidth\":0,\"ticks\":\"\"}}],\"contour\":[{\"type\":\"contour\",\"colorbar\":{\"outlinewidth\":0,\"ticks\":\"\"},\"colorscale\":[[0.0,\"#0d0887\"],[0.1111111111111111,\"#46039f\"],[0.2222222222222222,\"#7201a8\"],[0.3333333333333333,\"#9c179e\"],[0.4444444444444444,\"#bd3786\"],[0.5555555555555556,\"#d8576b\"],[0.6666666666666666,\"#ed7953\"],[0.7777777777777778,\"#fb9f3a\"],[0.8888888888888888,\"#fdca26\"],[1.0,\"#f0f921\"]]}],\"surface\":[{\"type\":\"surface\",\"colorbar\":{\"outlinewidth\":0,\"ticks\":\"\"},\"colorscale\":[[0.0,\"#0d0887\"],[0.1111111111111111,\"#46039f\"],[0.2222222222222222,\"#7201a8\"],[0.3333333333333333,\"#9c179e\"],[0.4444444444444444,\"#bd3786\"],[0.5555555555555556,\"#d8576b\"],[0.6666666666666666,\"#ed7953\"],[0.7777777777777778,\"#fb9f3a\"],[0.8888888888888888,\"#fdca26\"],[1.0,\"#f0f921\"]]}],\"mesh3d\":[{\"type\":\"mesh3d\",\"colorbar\":{\"outlinewidth\":0,\"ticks\":\"\"}}],\"scatter\":[{\"fillpattern\":{\"fillmode\":\"overlay\",\"size\":10,\"solidity\":0.2},\"type\":\"scatter\"}],\"parcoords\":[{\"type\":\"parcoords\",\"line\":{\"colorbar\":{\"outlinewidth\":0,\"ticks\":\"\"}}}],\"scatterpolargl\":[{\"type\":\"scatterpolargl\",\"marker\":{\"colorbar\":{\"outlinewidth\":0,\"ticks\":\"\"}}}],\"bar\":[{\"error_x\":{\"color\":\"#2a3f5f\"},\"error_y\":{\"color\":\"#2a3f5f\"},\"marker\":{\"line\":{\"color\":\"#E5ECF6\",\"width\":0.5},\"pattern\":{\"fillmode\":\"overlay\",\"size\":10,\"solidity\":0.2}},\"type\":\"bar\"}],\"scattergeo\":[{\"type\":\"scattergeo\",\"marker\":{\"colorbar\":{\"outlinewidth\":0,\"ticks\":\"\"}}}],\"scatterpolar\":[{\"type\":\"scatterpolar\",\"marker\":{\"colorbar\":{\"outlinewidth\":0,\"ticks\":\"\"}}}],\"histogram\":[{\"marker\":{\"pattern\":{\"fillmode\":\"overlay\",\"size\":10,\"solidity\":0.2}},\"type\":\"histogram\"}],\"scattergl\":[{\"type\":\"scattergl\",\"marker\":{\"colorbar\":{\"outlinewidth\":0,\"ticks\":\"\"}}}],\"scatter3d\":[{\"type\":\"scatter3d\",\"line\":{\"colorbar\":{\"outlinewidth\":0,\"ticks\":\"\"}},\"marker\":{\"colorbar\":{\"outlinewidth\":0,\"ticks\":\"\"}}}],\"scattermapbox\":[{\"type\":\"scattermapbox\",\"marker\":{\"colorbar\":{\"outlinewidth\":0,\"ticks\":\"\"}}}],\"scatterternary\":[{\"type\":\"scatterternary\",\"marker\":{\"colorbar\":{\"outlinewidth\":0,\"ticks\":\"\"}}}],\"scattercarpet\":[{\"type\":\"scattercarpet\",\"marker\":{\"colorbar\":{\"outlinewidth\":0,\"ticks\":\"\"}}}],\"carpet\":[{\"aaxis\":{\"endlinecolor\":\"#2a3f5f\",\"gridcolor\":\"white\",\"linecolor\":\"white\",\"minorgridcolor\":\"white\",\"startlinecolor\":\"#2a3f5f\"},\"baxis\":{\"endlinecolor\":\"#2a3f5f\",\"gridcolor\":\"white\",\"linecolor\":\"white\",\"minorgridcolor\":\"white\",\"startlinecolor\":\"#2a3f5f\"},\"type\":\"carpet\"}],\"table\":[{\"cells\":{\"fill\":{\"color\":\"#EBF0F8\"},\"line\":{\"color\":\"white\"}},\"header\":{\"fill\":{\"color\":\"#C8D4E3\"},\"line\":{\"color\":\"white\"}},\"type\":\"table\"}],\"barpolar\":[{\"marker\":{\"line\":{\"color\":\"#E5ECF6\",\"width\":0.5},\"pattern\":{\"fillmode\":\"overlay\",\"size\":10,\"solidity\":0.2}},\"type\":\"barpolar\"}],\"pie\":[{\"automargin\":true,\"type\":\"pie\"}]},\"layout\":{\"autotypenumbers\":\"strict\",\"colorway\":[\"#636efa\",\"#EF553B\",\"#00cc96\",\"#ab63fa\",\"#FFA15A\",\"#19d3f3\",\"#FF6692\",\"#B6E880\",\"#FF97FF\",\"#FECB52\"],\"font\":{\"color\":\"#2a3f5f\"},\"hovermode\":\"closest\",\"hoverlabel\":{\"align\":\"left\"},\"paper_bgcolor\":\"white\",\"plot_bgcolor\":\"#E5ECF6\",\"polar\":{\"bgcolor\":\"#E5ECF6\",\"angularaxis\":{\"gridcolor\":\"white\",\"linecolor\":\"white\",\"ticks\":\"\"},\"radialaxis\":{\"gridcolor\":\"white\",\"linecolor\":\"white\",\"ticks\":\"\"}},\"ternary\":{\"bgcolor\":\"#E5ECF6\",\"aaxis\":{\"gridcolor\":\"white\",\"linecolor\":\"white\",\"ticks\":\"\"},\"baxis\":{\"gridcolor\":\"white\",\"linecolor\":\"white\",\"ticks\":\"\"},\"caxis\":{\"gridcolor\":\"white\",\"linecolor\":\"white\",\"ticks\":\"\"}},\"coloraxis\":{\"colorbar\":{\"outlinewidth\":0,\"ticks\":\"\"}},\"colorscale\":{\"sequential\":[[0.0,\"#0d0887\"],[0.1111111111111111,\"#46039f\"],[0.2222222222222222,\"#7201a8\"],[0.3333333333333333,\"#9c179e\"],[0.4444444444444444,\"#bd3786\"],[0.5555555555555556,\"#d8576b\"],[0.6666666666666666,\"#ed7953\"],[0.7777777777777778,\"#fb9f3a\"],[0.8888888888888888,\"#fdca26\"],[1.0,\"#f0f921\"]],\"sequentialminus\":[[0.0,\"#0d0887\"],[0.1111111111111111,\"#46039f\"],[0.2222222222222222,\"#7201a8\"],[0.3333333333333333,\"#9c179e\"],[0.4444444444444444,\"#bd3786\"],[0.5555555555555556,\"#d8576b\"],[0.6666666666666666,\"#ed7953\"],[0.7777777777777778,\"#fb9f3a\"],[0.8888888888888888,\"#fdca26\"],[1.0,\"#f0f921\"]],\"diverging\":[[0,\"#8e0152\"],[0.1,\"#c51b7d\"],[0.2,\"#de77ae\"],[0.3,\"#f1b6da\"],[0.4,\"#fde0ef\"],[0.5,\"#f7f7f7\"],[0.6,\"#e6f5d0\"],[0.7,\"#b8e186\"],[0.8,\"#7fbc41\"],[0.9,\"#4d9221\"],[1,\"#276419\"]]},\"xaxis\":{\"gridcolor\":\"white\",\"linecolor\":\"white\",\"ticks\":\"\",\"title\":{\"standoff\":15},\"zerolinecolor\":\"white\",\"automargin\":true,\"zerolinewidth\":2},\"yaxis\":{\"gridcolor\":\"white\",\"linecolor\":\"white\",\"ticks\":\"\",\"title\":{\"standoff\":15},\"zerolinecolor\":\"white\",\"automargin\":true,\"zerolinewidth\":2},\"scene\":{\"xaxis\":{\"backgroundcolor\":\"#E5ECF6\",\"gridcolor\":\"white\",\"linecolor\":\"white\",\"showbackground\":true,\"ticks\":\"\",\"zerolinecolor\":\"white\",\"gridwidth\":2},\"yaxis\":{\"backgroundcolor\":\"#E5ECF6\",\"gridcolor\":\"white\",\"linecolor\":\"white\",\"showbackground\":true,\"ticks\":\"\",\"zerolinecolor\":\"white\",\"gridwidth\":2},\"zaxis\":{\"backgroundcolor\":\"#E5ECF6\",\"gridcolor\":\"white\",\"linecolor\":\"white\",\"showbackground\":true,\"ticks\":\"\",\"zerolinecolor\":\"white\",\"gridwidth\":2}},\"shapedefaults\":{\"line\":{\"color\":\"#2a3f5f\"}},\"annotationdefaults\":{\"arrowcolor\":\"#2a3f5f\",\"arrowhead\":0,\"arrowwidth\":1},\"geo\":{\"bgcolor\":\"white\",\"landcolor\":\"#E5ECF6\",\"subunitcolor\":\"white\",\"showland\":true,\"showlakes\":true,\"lakecolor\":\"white\"},\"title\":{\"x\":0.05},\"mapbox\":{\"style\":\"light\"}}},\"geo\":{\"domain\":{\"x\":[0.0,1.0],\"y\":[0.0,1.0]},\"center\":{},\"scope\":\"usa\"},\"coloraxis\":{\"colorbar\":{\"title\":{\"text\":\"Sales\"}},\"colorscale\":[[0.0,\"#440154\"],[0.1111111111111111,\"#482878\"],[0.2222222222222222,\"#3e4989\"],[0.3333333333333333,\"#31688e\"],[0.4444444444444444,\"#26828e\"],[0.5555555555555556,\"#1f9e89\"],[0.6666666666666666,\"#35b779\"],[0.7777777777777778,\"#6ece58\"],[0.8888888888888888,\"#b5de2b\"],[1.0,\"#fde725\"]]},\"legend\":{\"tracegroupgap\":0},\"title\":{\"text\":\"Crunch-O-Matic Sales by State\"}},                        {\"responsive\": true}                    ).then(function(){\n",
              "                            \n",
              "var gd = document.getElementById('722f8889-1edb-4cdc-9d21-886c0085389e');\n",
              "var x = new MutationObserver(function (mutations, observer) {{\n",
              "        var display = window.getComputedStyle(gd).display;\n",
              "        if (!display || display === 'none') {{\n",
              "            console.log([gd, 'removed!']);\n",
              "            Plotly.purge(gd);\n",
              "            observer.disconnect();\n",
              "        }}\n",
              "}});\n",
              "\n",
              "// Listen for the removal of the full notebook cells\n",
              "var notebookContainer = gd.closest('#notebook-container');\n",
              "if (notebookContainer) {{\n",
              "    x.observe(notebookContainer, {childList: true});\n",
              "}}\n",
              "\n",
              "// Listen for the clearing of the current output cell\n",
              "var outputEl = gd.closest('.output');\n",
              "if (outputEl) {{\n",
              "    x.observe(outputEl, {childList: true});\n",
              "}}\n",
              "\n",
              "                        })                };                            </script>        </div>\n",
              "</body>\n",
              "</html>"
            ]
          },
          "metadata": {}
        }
      ]
    },
    {
      "cell_type": "markdown",
      "source": [
        "This geographic map provides an immediate visual understanding of how Crunch-O-Matic sales vary across different states. We can quickly identify which states are our strongest markets and which might need additional marketing efforts."
      ],
      "metadata": {
        "id": "aQtEZMEvxrES"
      }
    },
    {
      "cell_type": "markdown",
      "source": [
        "## Tree Map\n",
        "\n",
        "A tree map is a visualization that displays hierarchical data as a set of nested rectangles. The size of each rectangle represents a quantitative dimension of the data, while the hierarchy is shown through the nesting of these rectangles.\n",
        "\n",
        "Tree maps are particularly useful for:\n",
        "- Displaying hierarchical data structures\n",
        "- Showing proportions within a whole\n",
        "- Efficiently using space to display large amounts of data\n",
        "\n",
        "When interpreting a tree map:\n",
        "- Look at the size of rectangles: Larger rectangles represent larger values\n",
        "- Observe the hierarchy: Rectangles within larger rectangles represent sub-categories\n",
        "- Compare colors: Often, color is used to represent another dimension of the data\n",
        "\n",
        "For our Crunch-O-Matic campaign, we might use a tree map to visualize sales data across different regions and product types.\n",
        "\n",
        "Here's how to create a tree map using Plotly Express:"
      ],
      "metadata": {
        "id": "I3Oyi1m-yX1L"
      }
    },
    {
      "cell_type": "code",
      "source": [
        "import plotly.express as px\n",
        "import pandas as pd\n",
        "import numpy as np\n",
        "\n",
        "# Generate sample data\n",
        "np.random.seed(42)\n",
        "regions = ['North', 'South', 'East', 'West']\n",
        "products = ['Original', 'Spicy', 'Cheesy', 'BBQ']\n",
        "data = []\n",
        "for region in regions:\n",
        "    for product in products:\n",
        "        data.append({\n",
        "            'Region': region,\n",
        "            'Product': product,\n",
        "            'Sales': np.random.randint(10000, 100000)\n",
        "        })\n",
        "df = pd.DataFrame(data)\n",
        "\n",
        "# Create the tree map\n",
        "fig = px.treemap(df, path=[px.Constant(\"All Regions\"), 'Region', 'Product'], values='Sales',\n",
        "                 color='Sales', hover_data=['Sales'],\n",
        "                 color_continuous_scale='RdBu',\n",
        "                 title='Crunch-O-Matic Sales by Region and Product')\n",
        "\n",
        "fig.show()\n"
      ],
      "metadata": {
        "id": "B6jAXQ-ayYti",
        "outputId": "a4803502-040b-4e87-ddc6-cf07c28facb4",
        "colab": {
          "base_uri": "https://localhost:8080/",
          "height": 542
        }
      },
      "execution_count": 12,
      "outputs": [
        {
          "output_type": "display_data",
          "data": {
            "text/html": [
              "<html>\n",
              "<head><meta charset=\"utf-8\" /></head>\n",
              "<body>\n",
              "    <div>            <script src=\"https://cdnjs.cloudflare.com/ajax/libs/mathjax/2.7.5/MathJax.js?config=TeX-AMS-MML_SVG\"></script><script type=\"text/javascript\">if (window.MathJax && window.MathJax.Hub && window.MathJax.Hub.Config) {window.MathJax.Hub.Config({SVG: {font: \"STIX-Web\"}});}</script>                <script type=\"text/javascript\">window.PlotlyConfig = {MathJaxConfig: 'local'};</script>\n",
              "        <script charset=\"utf-8\" src=\"https://cdn.plot.ly/plotly-2.35.2.min.js\"></script>                <div id=\"a0eafbcc-7203-4f2d-8127-48e81a320809\" class=\"plotly-graph-div\" style=\"height:525px; width:100%;\"></div>            <script type=\"text/javascript\">                                    window.PLOTLYENV=window.PLOTLYENV || {};                                    if (document.getElementById(\"a0eafbcc-7203-4f2d-8127-48e81a320809\")) {                    Plotly.newPlot(                        \"a0eafbcc-7203-4f2d-8127-48e81a320809\",                        [{\"branchvalues\":\"total\",\"customdata\":[[51090.0,51090.0],[64886.0,64886.0],[97498.0,97498.0],[69735.0,69735.0],[26023.0,26023.0],[86820.0,86820.0],[47194.0,47194.0],[10769.0,10769.0],[54131.0,54131.0],[25795.0,25795.0],[16265.0,16265.0],[77221.0,77221.0],[70263.0,70263.0],[10860.0,10860.0],[92386.0,92386.0],[74820.0,74820.0],[55355.09416050063,55355.09416050063],[66527.71550904911,66527.71550904911],[81047.65815909657,81047.65815909657],[71126.26298995894,71126.26298995894],[69378.43379662829,69378.43379662829]],\"domain\":{\"x\":[0.0,1.0],\"y\":[0.0,1.0]},\"hovertemplate\":\"labels=%{label}\\u003cbr\\u003eSales_sum=%{value}\\u003cbr\\u003eparent=%{parent}\\u003cbr\\u003eid=%{id}\\u003cbr\\u003eSales=%{color}\\u003cextra\\u003e\\u003c\\u002fextra\\u003e\",\"ids\":[\"All Regions\\u002fEast\\u002fBBQ\",\"All Regions\\u002fNorth\\u002fBBQ\",\"All Regions\\u002fSouth\\u002fBBQ\",\"All Regions\\u002fWest\\u002fBBQ\",\"All Regions\\u002fEast\\u002fCheesy\",\"All Regions\\u002fNorth\\u002fCheesy\",\"All Regions\\u002fSouth\\u002fCheesy\",\"All Regions\\u002fWest\\u002fCheesy\",\"All Regions\\u002fEast\\u002fOriginal\",\"All Regions\\u002fNorth\\u002fOriginal\",\"All Regions\\u002fSouth\\u002fOriginal\",\"All Regions\\u002fWest\\u002fOriginal\",\"All Regions\\u002fEast\\u002fSpicy\",\"All Regions\\u002fNorth\\u002fSpicy\",\"All Regions\\u002fSouth\\u002fSpicy\",\"All Regions\\u002fWest\\u002fSpicy\",\"All Regions\\u002fEast\",\"All Regions\\u002fNorth\",\"All Regions\\u002fSouth\",\"All Regions\\u002fWest\",\"All Regions\"],\"labels\":[\"BBQ\",\"BBQ\",\"BBQ\",\"BBQ\",\"Cheesy\",\"Cheesy\",\"Cheesy\",\"Cheesy\",\"Original\",\"Original\",\"Original\",\"Original\",\"Spicy\",\"Spicy\",\"Spicy\",\"Spicy\",\"East\",\"North\",\"South\",\"West\",\"All Regions\"],\"marker\":{\"coloraxis\":\"coloraxis\",\"colors\":[51090.0,64886.0,97498.0,69735.0,26023.0,86820.0,47194.0,10769.0,54131.0,25795.0,16265.0,77221.0,70263.0,10860.0,92386.0,74820.0,55355.09416050063,66527.71550904911,81047.65815909657,71126.26298995894,69378.43379662829]},\"name\":\"\",\"parents\":[\"All Regions\\u002fEast\",\"All Regions\\u002fNorth\",\"All Regions\\u002fSouth\",\"All Regions\\u002fWest\",\"All Regions\\u002fEast\",\"All Regions\\u002fNorth\",\"All Regions\\u002fSouth\",\"All Regions\\u002fWest\",\"All Regions\\u002fEast\",\"All Regions\\u002fNorth\",\"All Regions\\u002fSouth\",\"All Regions\\u002fWest\",\"All Regions\\u002fEast\",\"All Regions\\u002fNorth\",\"All Regions\\u002fSouth\",\"All Regions\\u002fWest\",\"All Regions\",\"All Regions\",\"All Regions\",\"All Regions\",\"\"],\"values\":[51090,64886,97498,69735,26023,86820,47194,10769,54131,25795,16265,77221,70263,10860,92386,74820,201507,188361,253343,232545,875756],\"type\":\"treemap\"}],                        {\"template\":{\"data\":{\"histogram2dcontour\":[{\"type\":\"histogram2dcontour\",\"colorbar\":{\"outlinewidth\":0,\"ticks\":\"\"},\"colorscale\":[[0.0,\"#0d0887\"],[0.1111111111111111,\"#46039f\"],[0.2222222222222222,\"#7201a8\"],[0.3333333333333333,\"#9c179e\"],[0.4444444444444444,\"#bd3786\"],[0.5555555555555556,\"#d8576b\"],[0.6666666666666666,\"#ed7953\"],[0.7777777777777778,\"#fb9f3a\"],[0.8888888888888888,\"#fdca26\"],[1.0,\"#f0f921\"]]}],\"choropleth\":[{\"type\":\"choropleth\",\"colorbar\":{\"outlinewidth\":0,\"ticks\":\"\"}}],\"histogram2d\":[{\"type\":\"histogram2d\",\"colorbar\":{\"outlinewidth\":0,\"ticks\":\"\"},\"colorscale\":[[0.0,\"#0d0887\"],[0.1111111111111111,\"#46039f\"],[0.2222222222222222,\"#7201a8\"],[0.3333333333333333,\"#9c179e\"],[0.4444444444444444,\"#bd3786\"],[0.5555555555555556,\"#d8576b\"],[0.6666666666666666,\"#ed7953\"],[0.7777777777777778,\"#fb9f3a\"],[0.8888888888888888,\"#fdca26\"],[1.0,\"#f0f921\"]]}],\"heatmap\":[{\"type\":\"heatmap\",\"colorbar\":{\"outlinewidth\":0,\"ticks\":\"\"},\"colorscale\":[[0.0,\"#0d0887\"],[0.1111111111111111,\"#46039f\"],[0.2222222222222222,\"#7201a8\"],[0.3333333333333333,\"#9c179e\"],[0.4444444444444444,\"#bd3786\"],[0.5555555555555556,\"#d8576b\"],[0.6666666666666666,\"#ed7953\"],[0.7777777777777778,\"#fb9f3a\"],[0.8888888888888888,\"#fdca26\"],[1.0,\"#f0f921\"]]}],\"heatmapgl\":[{\"type\":\"heatmapgl\",\"colorbar\":{\"outlinewidth\":0,\"ticks\":\"\"},\"colorscale\":[[0.0,\"#0d0887\"],[0.1111111111111111,\"#46039f\"],[0.2222222222222222,\"#7201a8\"],[0.3333333333333333,\"#9c179e\"],[0.4444444444444444,\"#bd3786\"],[0.5555555555555556,\"#d8576b\"],[0.6666666666666666,\"#ed7953\"],[0.7777777777777778,\"#fb9f3a\"],[0.8888888888888888,\"#fdca26\"],[1.0,\"#f0f921\"]]}],\"contourcarpet\":[{\"type\":\"contourcarpet\",\"colorbar\":{\"outlinewidth\":0,\"ticks\":\"\"}}],\"contour\":[{\"type\":\"contour\",\"colorbar\":{\"outlinewidth\":0,\"ticks\":\"\"},\"colorscale\":[[0.0,\"#0d0887\"],[0.1111111111111111,\"#46039f\"],[0.2222222222222222,\"#7201a8\"],[0.3333333333333333,\"#9c179e\"],[0.4444444444444444,\"#bd3786\"],[0.5555555555555556,\"#d8576b\"],[0.6666666666666666,\"#ed7953\"],[0.7777777777777778,\"#fb9f3a\"],[0.8888888888888888,\"#fdca26\"],[1.0,\"#f0f921\"]]}],\"surface\":[{\"type\":\"surface\",\"colorbar\":{\"outlinewidth\":0,\"ticks\":\"\"},\"colorscale\":[[0.0,\"#0d0887\"],[0.1111111111111111,\"#46039f\"],[0.2222222222222222,\"#7201a8\"],[0.3333333333333333,\"#9c179e\"],[0.4444444444444444,\"#bd3786\"],[0.5555555555555556,\"#d8576b\"],[0.6666666666666666,\"#ed7953\"],[0.7777777777777778,\"#fb9f3a\"],[0.8888888888888888,\"#fdca26\"],[1.0,\"#f0f921\"]]}],\"mesh3d\":[{\"type\":\"mesh3d\",\"colorbar\":{\"outlinewidth\":0,\"ticks\":\"\"}}],\"scatter\":[{\"fillpattern\":{\"fillmode\":\"overlay\",\"size\":10,\"solidity\":0.2},\"type\":\"scatter\"}],\"parcoords\":[{\"type\":\"parcoords\",\"line\":{\"colorbar\":{\"outlinewidth\":0,\"ticks\":\"\"}}}],\"scatterpolargl\":[{\"type\":\"scatterpolargl\",\"marker\":{\"colorbar\":{\"outlinewidth\":0,\"ticks\":\"\"}}}],\"bar\":[{\"error_x\":{\"color\":\"#2a3f5f\"},\"error_y\":{\"color\":\"#2a3f5f\"},\"marker\":{\"line\":{\"color\":\"#E5ECF6\",\"width\":0.5},\"pattern\":{\"fillmode\":\"overlay\",\"size\":10,\"solidity\":0.2}},\"type\":\"bar\"}],\"scattergeo\":[{\"type\":\"scattergeo\",\"marker\":{\"colorbar\":{\"outlinewidth\":0,\"ticks\":\"\"}}}],\"scatterpolar\":[{\"type\":\"scatterpolar\",\"marker\":{\"colorbar\":{\"outlinewidth\":0,\"ticks\":\"\"}}}],\"histogram\":[{\"marker\":{\"pattern\":{\"fillmode\":\"overlay\",\"size\":10,\"solidity\":0.2}},\"type\":\"histogram\"}],\"scattergl\":[{\"type\":\"scattergl\",\"marker\":{\"colorbar\":{\"outlinewidth\":0,\"ticks\":\"\"}}}],\"scatter3d\":[{\"type\":\"scatter3d\",\"line\":{\"colorbar\":{\"outlinewidth\":0,\"ticks\":\"\"}},\"marker\":{\"colorbar\":{\"outlinewidth\":0,\"ticks\":\"\"}}}],\"scattermapbox\":[{\"type\":\"scattermapbox\",\"marker\":{\"colorbar\":{\"outlinewidth\":0,\"ticks\":\"\"}}}],\"scatterternary\":[{\"type\":\"scatterternary\",\"marker\":{\"colorbar\":{\"outlinewidth\":0,\"ticks\":\"\"}}}],\"scattercarpet\":[{\"type\":\"scattercarpet\",\"marker\":{\"colorbar\":{\"outlinewidth\":0,\"ticks\":\"\"}}}],\"carpet\":[{\"aaxis\":{\"endlinecolor\":\"#2a3f5f\",\"gridcolor\":\"white\",\"linecolor\":\"white\",\"minorgridcolor\":\"white\",\"startlinecolor\":\"#2a3f5f\"},\"baxis\":{\"endlinecolor\":\"#2a3f5f\",\"gridcolor\":\"white\",\"linecolor\":\"white\",\"minorgridcolor\":\"white\",\"startlinecolor\":\"#2a3f5f\"},\"type\":\"carpet\"}],\"table\":[{\"cells\":{\"fill\":{\"color\":\"#EBF0F8\"},\"line\":{\"color\":\"white\"}},\"header\":{\"fill\":{\"color\":\"#C8D4E3\"},\"line\":{\"color\":\"white\"}},\"type\":\"table\"}],\"barpolar\":[{\"marker\":{\"line\":{\"color\":\"#E5ECF6\",\"width\":0.5},\"pattern\":{\"fillmode\":\"overlay\",\"size\":10,\"solidity\":0.2}},\"type\":\"barpolar\"}],\"pie\":[{\"automargin\":true,\"type\":\"pie\"}]},\"layout\":{\"autotypenumbers\":\"strict\",\"colorway\":[\"#636efa\",\"#EF553B\",\"#00cc96\",\"#ab63fa\",\"#FFA15A\",\"#19d3f3\",\"#FF6692\",\"#B6E880\",\"#FF97FF\",\"#FECB52\"],\"font\":{\"color\":\"#2a3f5f\"},\"hovermode\":\"closest\",\"hoverlabel\":{\"align\":\"left\"},\"paper_bgcolor\":\"white\",\"plot_bgcolor\":\"#E5ECF6\",\"polar\":{\"bgcolor\":\"#E5ECF6\",\"angularaxis\":{\"gridcolor\":\"white\",\"linecolor\":\"white\",\"ticks\":\"\"},\"radialaxis\":{\"gridcolor\":\"white\",\"linecolor\":\"white\",\"ticks\":\"\"}},\"ternary\":{\"bgcolor\":\"#E5ECF6\",\"aaxis\":{\"gridcolor\":\"white\",\"linecolor\":\"white\",\"ticks\":\"\"},\"baxis\":{\"gridcolor\":\"white\",\"linecolor\":\"white\",\"ticks\":\"\"},\"caxis\":{\"gridcolor\":\"white\",\"linecolor\":\"white\",\"ticks\":\"\"}},\"coloraxis\":{\"colorbar\":{\"outlinewidth\":0,\"ticks\":\"\"}},\"colorscale\":{\"sequential\":[[0.0,\"#0d0887\"],[0.1111111111111111,\"#46039f\"],[0.2222222222222222,\"#7201a8\"],[0.3333333333333333,\"#9c179e\"],[0.4444444444444444,\"#bd3786\"],[0.5555555555555556,\"#d8576b\"],[0.6666666666666666,\"#ed7953\"],[0.7777777777777778,\"#fb9f3a\"],[0.8888888888888888,\"#fdca26\"],[1.0,\"#f0f921\"]],\"sequentialminus\":[[0.0,\"#0d0887\"],[0.1111111111111111,\"#46039f\"],[0.2222222222222222,\"#7201a8\"],[0.3333333333333333,\"#9c179e\"],[0.4444444444444444,\"#bd3786\"],[0.5555555555555556,\"#d8576b\"],[0.6666666666666666,\"#ed7953\"],[0.7777777777777778,\"#fb9f3a\"],[0.8888888888888888,\"#fdca26\"],[1.0,\"#f0f921\"]],\"diverging\":[[0,\"#8e0152\"],[0.1,\"#c51b7d\"],[0.2,\"#de77ae\"],[0.3,\"#f1b6da\"],[0.4,\"#fde0ef\"],[0.5,\"#f7f7f7\"],[0.6,\"#e6f5d0\"],[0.7,\"#b8e186\"],[0.8,\"#7fbc41\"],[0.9,\"#4d9221\"],[1,\"#276419\"]]},\"xaxis\":{\"gridcolor\":\"white\",\"linecolor\":\"white\",\"ticks\":\"\",\"title\":{\"standoff\":15},\"zerolinecolor\":\"white\",\"automargin\":true,\"zerolinewidth\":2},\"yaxis\":{\"gridcolor\":\"white\",\"linecolor\":\"white\",\"ticks\":\"\",\"title\":{\"standoff\":15},\"zerolinecolor\":\"white\",\"automargin\":true,\"zerolinewidth\":2},\"scene\":{\"xaxis\":{\"backgroundcolor\":\"#E5ECF6\",\"gridcolor\":\"white\",\"linecolor\":\"white\",\"showbackground\":true,\"ticks\":\"\",\"zerolinecolor\":\"white\",\"gridwidth\":2},\"yaxis\":{\"backgroundcolor\":\"#E5ECF6\",\"gridcolor\":\"white\",\"linecolor\":\"white\",\"showbackground\":true,\"ticks\":\"\",\"zerolinecolor\":\"white\",\"gridwidth\":2},\"zaxis\":{\"backgroundcolor\":\"#E5ECF6\",\"gridcolor\":\"white\",\"linecolor\":\"white\",\"showbackground\":true,\"ticks\":\"\",\"zerolinecolor\":\"white\",\"gridwidth\":2}},\"shapedefaults\":{\"line\":{\"color\":\"#2a3f5f\"}},\"annotationdefaults\":{\"arrowcolor\":\"#2a3f5f\",\"arrowhead\":0,\"arrowwidth\":1},\"geo\":{\"bgcolor\":\"white\",\"landcolor\":\"#E5ECF6\",\"subunitcolor\":\"white\",\"showland\":true,\"showlakes\":true,\"lakecolor\":\"white\"},\"title\":{\"x\":0.05},\"mapbox\":{\"style\":\"light\"}}},\"coloraxis\":{\"colorbar\":{\"title\":{\"text\":\"Sales\"}},\"colorscale\":[[0.0,\"rgb(103,0,31)\"],[0.1,\"rgb(178,24,43)\"],[0.2,\"rgb(214,96,77)\"],[0.3,\"rgb(244,165,130)\"],[0.4,\"rgb(253,219,199)\"],[0.5,\"rgb(247,247,247)\"],[0.6,\"rgb(209,229,240)\"],[0.7,\"rgb(146,197,222)\"],[0.8,\"rgb(67,147,195)\"],[0.9,\"rgb(33,102,172)\"],[1.0,\"rgb(5,48,97)\"]]},\"legend\":{\"tracegroupgap\":0},\"title\":{\"text\":\"Crunch-O-Matic Sales by Region and Product\"}},                        {\"responsive\": true}                    ).then(function(){\n",
              "                            \n",
              "var gd = document.getElementById('a0eafbcc-7203-4f2d-8127-48e81a320809');\n",
              "var x = new MutationObserver(function (mutations, observer) {{\n",
              "        var display = window.getComputedStyle(gd).display;\n",
              "        if (!display || display === 'none') {{\n",
              "            console.log([gd, 'removed!']);\n",
              "            Plotly.purge(gd);\n",
              "            observer.disconnect();\n",
              "        }}\n",
              "}});\n",
              "\n",
              "// Listen for the removal of the full notebook cells\n",
              "var notebookContainer = gd.closest('#notebook-container');\n",
              "if (notebookContainer) {{\n",
              "    x.observe(notebookContainer, {childList: true});\n",
              "}}\n",
              "\n",
              "// Listen for the clearing of the current output cell\n",
              "var outputEl = gd.closest('.output');\n",
              "if (outputEl) {{\n",
              "    x.observe(outputEl, {childList: true});\n",
              "}}\n",
              "\n",
              "                        })                };                            </script>        </div>\n",
              "</body>\n",
              "</html>"
            ]
          },
          "metadata": {}
        }
      ]
    },
    {
      "cell_type": "markdown",
      "source": [
        "This tree map allows us to quickly see which regions and products are contributing most to our overall sales. The hierarchical structure shows how each product performs within each region, giving us a comprehensive view of our sales distribution."
      ],
      "metadata": {
        "id": "4lBIHfeCyfrF"
      }
    },
    {
      "cell_type": "markdown",
      "source": [
        "## Stacked Chart\n",
        "\n",
        "A stacked chart is a visualization that shows how different parts contribute to a whole, while also displaying how this composition changes over a dimension (often time). It can be created with bars (stacked bar chart) or areas (stacked area chart).\n",
        "\n",
        "Stacked charts are useful for:\n",
        "- Showing how parts of a whole change over time or categories\n",
        "- Comparing total amounts across categories\n",
        "- Visualizing both absolute and relative contributions\n",
        "\n",
        "When interpreting a stacked chart:\n",
        "- Look at the total height: This represents the total across all categories\n",
        "- Observe individual segment heights: These show the contribution of each category\n",
        "- Compare segments across the x-axis: This shows how contributions change\n",
        "\n",
        "For our Crunch-O-Matic campaign, we might use a stacked area chart to show how sales of different flavors have changed over time.\n",
        "\n",
        "Let's create a stacked area chart using Plotly Express:"
      ],
      "metadata": {
        "id": "rqZ60EB_yiZF"
      }
    },
    {
      "cell_type": "code",
      "source": [
        "import plotly.express as px\n",
        "import pandas as pd\n",
        "import numpy as np\n",
        "\n",
        "# Generate sample data\n",
        "np.random.seed(42)\n",
        "dates = pd.date_range(start='2023-01-01', end='2023-12-31', freq='M')\n",
        "flavors = ['Original', 'Spicy', 'Cheesy', 'BBQ']\n",
        "data = []\n",
        "for date in dates:\n",
        "    for flavor in flavors:\n",
        "        data.append({\n",
        "            'Date': date,\n",
        "            'Flavor': flavor,\n",
        "            'Sales': np.random.randint(5000, 20000)\n",
        "        })\n",
        "df = pd.DataFrame(data)\n",
        "\n",
        "# Create the stacked area chart\n",
        "fig = px.area(df, x='Date', y='Sales', color='Flavor',\n",
        "              title='Crunch-O-Matic Sales by Flavor Over Time')\n",
        "\n",
        "fig.show()"
      ],
      "metadata": {
        "id": "sCKvO8wVyos-",
        "outputId": "b5b92817-ecdb-4b4e-f486-0e2821b9af48",
        "colab": {
          "base_uri": "https://localhost:8080/",
          "height": 611
        }
      },
      "execution_count": 13,
      "outputs": [
        {
          "output_type": "stream",
          "name": "stderr",
          "text": [
            "<ipython-input-13-612a2fc8d8ff>:7: FutureWarning:\n",
            "\n",
            "'M' is deprecated and will be removed in a future version, please use 'ME' instead.\n",
            "\n"
          ]
        },
        {
          "output_type": "display_data",
          "data": {
            "text/html": [
              "<html>\n",
              "<head><meta charset=\"utf-8\" /></head>\n",
              "<body>\n",
              "    <div>            <script src=\"https://cdnjs.cloudflare.com/ajax/libs/mathjax/2.7.5/MathJax.js?config=TeX-AMS-MML_SVG\"></script><script type=\"text/javascript\">if (window.MathJax && window.MathJax.Hub && window.MathJax.Hub.Config) {window.MathJax.Hub.Config({SVG: {font: \"STIX-Web\"}});}</script>                <script type=\"text/javascript\">window.PlotlyConfig = {MathJaxConfig: 'local'};</script>\n",
              "        <script charset=\"utf-8\" src=\"https://cdn.plot.ly/plotly-2.35.2.min.js\"></script>                <div id=\"30720103-c197-49aa-9076-9612e3f2c3fd\" class=\"plotly-graph-div\" style=\"height:525px; width:100%;\"></div>            <script type=\"text/javascript\">                                    window.PLOTLYENV=window.PLOTLYENV || {};                                    if (document.getElementById(\"30720103-c197-49aa-9076-9612e3f2c3fd\")) {                    Plotly.newPlot(                        \"30720103-c197-49aa-9076-9612e3f2c3fd\",                        [{\"fillpattern\":{\"shape\":\"\"},\"hovertemplate\":\"Flavor=Original\\u003cbr\\u003eDate=%{x}\\u003cbr\\u003eSales=%{y}\\u003cextra\\u003e\\u003c\\u002fextra\\u003e\",\"legendgroup\":\"Original\",\"line\":{\"color\":\"#636efa\"},\"marker\":{\"symbol\":\"circle\"},\"mode\":\"lines\",\"name\":\"Original\",\"orientation\":\"v\",\"showlegend\":true,\"stackgroup\":\"1\",\"x\":[\"2023-01-31T00:00:00\",\"2023-02-28T00:00:00\",\"2023-03-31T00:00:00\",\"2023-04-30T00:00:00\",\"2023-05-31T00:00:00\",\"2023-06-30T00:00:00\",\"2023-07-31T00:00:00\",\"2023-08-31T00:00:00\",\"2023-09-30T00:00:00\",\"2023-10-31T00:00:00\",\"2023-11-30T00:00:00\",\"2023-12-31T00:00:00\"],\"xaxis\":\"x\",\"y\":[12270,10191,11265,10578,16111,15583,10311,9555,18035,7558,14167,8005],\"yaxis\":\"y\",\"type\":\"scatter\"},{\"fillpattern\":{\"shape\":\"\"},\"hovertemplate\":\"Flavor=Spicy\\u003cbr\\u003eDate=%{x}\\u003cbr\\u003eSales=%{y}\\u003cextra\\u003e\\u003c\\u002fextra\\u003e\",\"legendgroup\":\"Spicy\",\"line\":{\"color\":\"#EF553B\"},\"marker\":{\"symbol\":\"circle\"},\"mode\":\"lines\",\"name\":\"Spicy\",\"orientation\":\"v\",\"showlegend\":true,\"stackgroup\":\"1\",\"x\":[\"2023-01-31T00:00:00\",\"2023-02-28T00:00:00\",\"2023-03-31T00:00:00\",\"2023-04-30T00:00:00\",\"2023-05-31T00:00:00\",\"2023-06-30T00:00:00\",\"2023-07-31T00:00:00\",\"2023-08-31T00:00:00\",\"2023-09-30T00:00:00\",\"2023-10-31T00:00:00\",\"2023-11-30T00:00:00\",\"2023-12-31T00:00:00\"],\"xaxis\":\"x\",\"y\":[5860,16964,5466,19423,13322,18803,10051,8385,16096,12849,14998,9658],\"yaxis\":\"y\",\"type\":\"scatter\"},{\"fillpattern\":{\"shape\":\"\"},\"hovertemplate\":\"Flavor=Cheesy\\u003cbr\\u003eDate=%{x}\\u003cbr\\u003eSales=%{y}\\u003cextra\\u003e\\u003c\\u002fextra\\u003e\",\"legendgroup\":\"Cheesy\",\"line\":{\"color\":\"#00cc96\"},\"marker\":{\"symbol\":\"circle\"},\"mode\":\"lines\",\"name\":\"Cheesy\",\"orientation\":\"v\",\"showlegend\":true,\"stackgroup\":\"1\",\"x\":[\"2023-01-31T00:00:00\",\"2023-02-28T00:00:00\",\"2023-03-31T00:00:00\",\"2023-04-30T00:00:00\",\"2023-05-31T00:00:00\",\"2023-06-30T00:00:00\",\"2023-07-31T00:00:00\",\"2023-08-31T00:00:00\",\"2023-09-30T00:00:00\",\"2023-10-31T00:00:00\",\"2023-11-30T00:00:00\",\"2023-12-31T00:00:00\"],\"xaxis\":\"x\",\"y\":[10390,16284,18526,16636,6685,11949,11420,17309,13666,7047,5189,6899],\"yaxis\":\"y\",\"type\":\"scatter\"},{\"fillpattern\":{\"shape\":\"\"},\"hovertemplate\":\"Flavor=BBQ\\u003cbr\\u003eDate=%{x}\\u003cbr\\u003eSales=%{y}\\u003cextra\\u003e\\u003c\\u002fextra\\u003e\",\"legendgroup\":\"BBQ\",\"line\":{\"color\":\"#ab63fa\"},\"marker\":{\"symbol\":\"circle\"},\"mode\":\"lines\",\"name\":\"BBQ\",\"orientation\":\"v\",\"showlegend\":true,\"stackgroup\":\"1\",\"x\":[\"2023-01-31T00:00:00\",\"2023-02-28T00:00:00\",\"2023-03-31T00:00:00\",\"2023-04-30T00:00:00\",\"2023-05-31T00:00:00\",\"2023-06-30T00:00:00\",\"2023-07-31T00:00:00\",\"2023-08-31T00:00:00\",\"2023-09-30T00:00:00\",\"2023-10-31T00:00:00\",\"2023-11-30T00:00:00\",\"2023-12-31T00:00:00\"],\"xaxis\":\"x\",\"y\":[18418,10734,9426,16363,5769,7433,6184,11396,14274,7747,7734,12734],\"yaxis\":\"y\",\"type\":\"scatter\"}],                        {\"template\":{\"data\":{\"histogram2dcontour\":[{\"type\":\"histogram2dcontour\",\"colorbar\":{\"outlinewidth\":0,\"ticks\":\"\"},\"colorscale\":[[0.0,\"#0d0887\"],[0.1111111111111111,\"#46039f\"],[0.2222222222222222,\"#7201a8\"],[0.3333333333333333,\"#9c179e\"],[0.4444444444444444,\"#bd3786\"],[0.5555555555555556,\"#d8576b\"],[0.6666666666666666,\"#ed7953\"],[0.7777777777777778,\"#fb9f3a\"],[0.8888888888888888,\"#fdca26\"],[1.0,\"#f0f921\"]]}],\"choropleth\":[{\"type\":\"choropleth\",\"colorbar\":{\"outlinewidth\":0,\"ticks\":\"\"}}],\"histogram2d\":[{\"type\":\"histogram2d\",\"colorbar\":{\"outlinewidth\":0,\"ticks\":\"\"},\"colorscale\":[[0.0,\"#0d0887\"],[0.1111111111111111,\"#46039f\"],[0.2222222222222222,\"#7201a8\"],[0.3333333333333333,\"#9c179e\"],[0.4444444444444444,\"#bd3786\"],[0.5555555555555556,\"#d8576b\"],[0.6666666666666666,\"#ed7953\"],[0.7777777777777778,\"#fb9f3a\"],[0.8888888888888888,\"#fdca26\"],[1.0,\"#f0f921\"]]}],\"heatmap\":[{\"type\":\"heatmap\",\"colorbar\":{\"outlinewidth\":0,\"ticks\":\"\"},\"colorscale\":[[0.0,\"#0d0887\"],[0.1111111111111111,\"#46039f\"],[0.2222222222222222,\"#7201a8\"],[0.3333333333333333,\"#9c179e\"],[0.4444444444444444,\"#bd3786\"],[0.5555555555555556,\"#d8576b\"],[0.6666666666666666,\"#ed7953\"],[0.7777777777777778,\"#fb9f3a\"],[0.8888888888888888,\"#fdca26\"],[1.0,\"#f0f921\"]]}],\"heatmapgl\":[{\"type\":\"heatmapgl\",\"colorbar\":{\"outlinewidth\":0,\"ticks\":\"\"},\"colorscale\":[[0.0,\"#0d0887\"],[0.1111111111111111,\"#46039f\"],[0.2222222222222222,\"#7201a8\"],[0.3333333333333333,\"#9c179e\"],[0.4444444444444444,\"#bd3786\"],[0.5555555555555556,\"#d8576b\"],[0.6666666666666666,\"#ed7953\"],[0.7777777777777778,\"#fb9f3a\"],[0.8888888888888888,\"#fdca26\"],[1.0,\"#f0f921\"]]}],\"contourcarpet\":[{\"type\":\"contourcarpet\",\"colorbar\":{\"outlinewidth\":0,\"ticks\":\"\"}}],\"contour\":[{\"type\":\"contour\",\"colorbar\":{\"outlinewidth\":0,\"ticks\":\"\"},\"colorscale\":[[0.0,\"#0d0887\"],[0.1111111111111111,\"#46039f\"],[0.2222222222222222,\"#7201a8\"],[0.3333333333333333,\"#9c179e\"],[0.4444444444444444,\"#bd3786\"],[0.5555555555555556,\"#d8576b\"],[0.6666666666666666,\"#ed7953\"],[0.7777777777777778,\"#fb9f3a\"],[0.8888888888888888,\"#fdca26\"],[1.0,\"#f0f921\"]]}],\"surface\":[{\"type\":\"surface\",\"colorbar\":{\"outlinewidth\":0,\"ticks\":\"\"},\"colorscale\":[[0.0,\"#0d0887\"],[0.1111111111111111,\"#46039f\"],[0.2222222222222222,\"#7201a8\"],[0.3333333333333333,\"#9c179e\"],[0.4444444444444444,\"#bd3786\"],[0.5555555555555556,\"#d8576b\"],[0.6666666666666666,\"#ed7953\"],[0.7777777777777778,\"#fb9f3a\"],[0.8888888888888888,\"#fdca26\"],[1.0,\"#f0f921\"]]}],\"mesh3d\":[{\"type\":\"mesh3d\",\"colorbar\":{\"outlinewidth\":0,\"ticks\":\"\"}}],\"scatter\":[{\"fillpattern\":{\"fillmode\":\"overlay\",\"size\":10,\"solidity\":0.2},\"type\":\"scatter\"}],\"parcoords\":[{\"type\":\"parcoords\",\"line\":{\"colorbar\":{\"outlinewidth\":0,\"ticks\":\"\"}}}],\"scatterpolargl\":[{\"type\":\"scatterpolargl\",\"marker\":{\"colorbar\":{\"outlinewidth\":0,\"ticks\":\"\"}}}],\"bar\":[{\"error_x\":{\"color\":\"#2a3f5f\"},\"error_y\":{\"color\":\"#2a3f5f\"},\"marker\":{\"line\":{\"color\":\"#E5ECF6\",\"width\":0.5},\"pattern\":{\"fillmode\":\"overlay\",\"size\":10,\"solidity\":0.2}},\"type\":\"bar\"}],\"scattergeo\":[{\"type\":\"scattergeo\",\"marker\":{\"colorbar\":{\"outlinewidth\":0,\"ticks\":\"\"}}}],\"scatterpolar\":[{\"type\":\"scatterpolar\",\"marker\":{\"colorbar\":{\"outlinewidth\":0,\"ticks\":\"\"}}}],\"histogram\":[{\"marker\":{\"pattern\":{\"fillmode\":\"overlay\",\"size\":10,\"solidity\":0.2}},\"type\":\"histogram\"}],\"scattergl\":[{\"type\":\"scattergl\",\"marker\":{\"colorbar\":{\"outlinewidth\":0,\"ticks\":\"\"}}}],\"scatter3d\":[{\"type\":\"scatter3d\",\"line\":{\"colorbar\":{\"outlinewidth\":0,\"ticks\":\"\"}},\"marker\":{\"colorbar\":{\"outlinewidth\":0,\"ticks\":\"\"}}}],\"scattermapbox\":[{\"type\":\"scattermapbox\",\"marker\":{\"colorbar\":{\"outlinewidth\":0,\"ticks\":\"\"}}}],\"scatterternary\":[{\"type\":\"scatterternary\",\"marker\":{\"colorbar\":{\"outlinewidth\":0,\"ticks\":\"\"}}}],\"scattercarpet\":[{\"type\":\"scattercarpet\",\"marker\":{\"colorbar\":{\"outlinewidth\":0,\"ticks\":\"\"}}}],\"carpet\":[{\"aaxis\":{\"endlinecolor\":\"#2a3f5f\",\"gridcolor\":\"white\",\"linecolor\":\"white\",\"minorgridcolor\":\"white\",\"startlinecolor\":\"#2a3f5f\"},\"baxis\":{\"endlinecolor\":\"#2a3f5f\",\"gridcolor\":\"white\",\"linecolor\":\"white\",\"minorgridcolor\":\"white\",\"startlinecolor\":\"#2a3f5f\"},\"type\":\"carpet\"}],\"table\":[{\"cells\":{\"fill\":{\"color\":\"#EBF0F8\"},\"line\":{\"color\":\"white\"}},\"header\":{\"fill\":{\"color\":\"#C8D4E3\"},\"line\":{\"color\":\"white\"}},\"type\":\"table\"}],\"barpolar\":[{\"marker\":{\"line\":{\"color\":\"#E5ECF6\",\"width\":0.5},\"pattern\":{\"fillmode\":\"overlay\",\"size\":10,\"solidity\":0.2}},\"type\":\"barpolar\"}],\"pie\":[{\"automargin\":true,\"type\":\"pie\"}]},\"layout\":{\"autotypenumbers\":\"strict\",\"colorway\":[\"#636efa\",\"#EF553B\",\"#00cc96\",\"#ab63fa\",\"#FFA15A\",\"#19d3f3\",\"#FF6692\",\"#B6E880\",\"#FF97FF\",\"#FECB52\"],\"font\":{\"color\":\"#2a3f5f\"},\"hovermode\":\"closest\",\"hoverlabel\":{\"align\":\"left\"},\"paper_bgcolor\":\"white\",\"plot_bgcolor\":\"#E5ECF6\",\"polar\":{\"bgcolor\":\"#E5ECF6\",\"angularaxis\":{\"gridcolor\":\"white\",\"linecolor\":\"white\",\"ticks\":\"\"},\"radialaxis\":{\"gridcolor\":\"white\",\"linecolor\":\"white\",\"ticks\":\"\"}},\"ternary\":{\"bgcolor\":\"#E5ECF6\",\"aaxis\":{\"gridcolor\":\"white\",\"linecolor\":\"white\",\"ticks\":\"\"},\"baxis\":{\"gridcolor\":\"white\",\"linecolor\":\"white\",\"ticks\":\"\"},\"caxis\":{\"gridcolor\":\"white\",\"linecolor\":\"white\",\"ticks\":\"\"}},\"coloraxis\":{\"colorbar\":{\"outlinewidth\":0,\"ticks\":\"\"}},\"colorscale\":{\"sequential\":[[0.0,\"#0d0887\"],[0.1111111111111111,\"#46039f\"],[0.2222222222222222,\"#7201a8\"],[0.3333333333333333,\"#9c179e\"],[0.4444444444444444,\"#bd3786\"],[0.5555555555555556,\"#d8576b\"],[0.6666666666666666,\"#ed7953\"],[0.7777777777777778,\"#fb9f3a\"],[0.8888888888888888,\"#fdca26\"],[1.0,\"#f0f921\"]],\"sequentialminus\":[[0.0,\"#0d0887\"],[0.1111111111111111,\"#46039f\"],[0.2222222222222222,\"#7201a8\"],[0.3333333333333333,\"#9c179e\"],[0.4444444444444444,\"#bd3786\"],[0.5555555555555556,\"#d8576b\"],[0.6666666666666666,\"#ed7953\"],[0.7777777777777778,\"#fb9f3a\"],[0.8888888888888888,\"#fdca26\"],[1.0,\"#f0f921\"]],\"diverging\":[[0,\"#8e0152\"],[0.1,\"#c51b7d\"],[0.2,\"#de77ae\"],[0.3,\"#f1b6da\"],[0.4,\"#fde0ef\"],[0.5,\"#f7f7f7\"],[0.6,\"#e6f5d0\"],[0.7,\"#b8e186\"],[0.8,\"#7fbc41\"],[0.9,\"#4d9221\"],[1,\"#276419\"]]},\"xaxis\":{\"gridcolor\":\"white\",\"linecolor\":\"white\",\"ticks\":\"\",\"title\":{\"standoff\":15},\"zerolinecolor\":\"white\",\"automargin\":true,\"zerolinewidth\":2},\"yaxis\":{\"gridcolor\":\"white\",\"linecolor\":\"white\",\"ticks\":\"\",\"title\":{\"standoff\":15},\"zerolinecolor\":\"white\",\"automargin\":true,\"zerolinewidth\":2},\"scene\":{\"xaxis\":{\"backgroundcolor\":\"#E5ECF6\",\"gridcolor\":\"white\",\"linecolor\":\"white\",\"showbackground\":true,\"ticks\":\"\",\"zerolinecolor\":\"white\",\"gridwidth\":2},\"yaxis\":{\"backgroundcolor\":\"#E5ECF6\",\"gridcolor\":\"white\",\"linecolor\":\"white\",\"showbackground\":true,\"ticks\":\"\",\"zerolinecolor\":\"white\",\"gridwidth\":2},\"zaxis\":{\"backgroundcolor\":\"#E5ECF6\",\"gridcolor\":\"white\",\"linecolor\":\"white\",\"showbackground\":true,\"ticks\":\"\",\"zerolinecolor\":\"white\",\"gridwidth\":2}},\"shapedefaults\":{\"line\":{\"color\":\"#2a3f5f\"}},\"annotationdefaults\":{\"arrowcolor\":\"#2a3f5f\",\"arrowhead\":0,\"arrowwidth\":1},\"geo\":{\"bgcolor\":\"white\",\"landcolor\":\"#E5ECF6\",\"subunitcolor\":\"white\",\"showland\":true,\"showlakes\":true,\"lakecolor\":\"white\"},\"title\":{\"x\":0.05},\"mapbox\":{\"style\":\"light\"}}},\"xaxis\":{\"anchor\":\"y\",\"domain\":[0.0,1.0],\"title\":{\"text\":\"Date\"}},\"yaxis\":{\"anchor\":\"x\",\"domain\":[0.0,1.0],\"title\":{\"text\":\"Sales\"}},\"legend\":{\"title\":{\"text\":\"Flavor\"},\"tracegroupgap\":0},\"title\":{\"text\":\"Crunch-O-Matic Sales by Flavor Over Time\"}},                        {\"responsive\": true}                    ).then(function(){\n",
              "                            \n",
              "var gd = document.getElementById('30720103-c197-49aa-9076-9612e3f2c3fd');\n",
              "var x = new MutationObserver(function (mutations, observer) {{\n",
              "        var display = window.getComputedStyle(gd).display;\n",
              "        if (!display || display === 'none') {{\n",
              "            console.log([gd, 'removed!']);\n",
              "            Plotly.purge(gd);\n",
              "            observer.disconnect();\n",
              "        }}\n",
              "}});\n",
              "\n",
              "// Listen for the removal of the full notebook cells\n",
              "var notebookContainer = gd.closest('#notebook-container');\n",
              "if (notebookContainer) {{\n",
              "    x.observe(notebookContainer, {childList: true});\n",
              "}}\n",
              "\n",
              "// Listen for the clearing of the current output cell\n",
              "var outputEl = gd.closest('.output');\n",
              "if (outputEl) {{\n",
              "    x.observe(outputEl, {childList: true});\n",
              "}}\n",
              "\n",
              "                        })                };                            </script>        </div>\n",
              "</body>\n",
              "</html>"
            ]
          },
          "metadata": {}
        }
      ]
    },
    {
      "cell_type": "markdown",
      "source": [
        "This stacked area chart shows how sales of each Crunch-O-Matic flavor have evolved over the year, as well as how they contribute to total sales. We can easily see seasonal trends and changes in flavor popularity."
      ],
      "metadata": {
        "id": "VngkveKnyt20"
      }
    },
    {
      "cell_type": "markdown",
      "source": [
        "## Word Cloud\n",
        "\n",
        "A word cloud, also known as a tag cloud, is a visual representation of text data where the size of each word indicates its frequency or importance. While not a traditional chart type, word clouds can be a powerful way to visualize text data, especially for marketing and social media analysis.\n",
        "\n",
        "Word clouds are useful for:\n",
        "- Quickly conveying the most prominent terms in a body of text\n",
        "- Identifying common themes or topics\n",
        "- Creating visually appealing representations of qualitative data\n",
        "\n",
        "When interpreting a word cloud:\n",
        "- Look at word size: Larger words appear more frequently in the source text\n",
        "- Observe word placement: Central or prominently placed words are often more important\n",
        "- Consider color: Sometimes color is used to represent another dimension, like sentiment\n",
        "\n",
        "For our Crunch-O-Matic campaign, we might use a word cloud to visualize customer feedback or social media mentions.\n",
        "\n",
        "Creating a word cloud in Plotly is a bit more complex, so we'll use the `wordcloud` library along with Plotly to display it:\n"
      ],
      "metadata": {
        "id": "dQH3BERuywxK"
      }
    },
    {
      "cell_type": "code",
      "source": [
        "!pip install wordcloud -q\n",
        "\n",
        "import plotly.express as px\n",
        "from wordcloud import WordCloud\n",
        "import matplotlib.pyplot as plt\n",
        "import numpy as np\n",
        "from PIL import Image\n",
        "\n",
        "# Sample text data (this would usually come from customer reviews or social media posts)\n",
        "text = \"\"\"\n",
        "Crunchy delicious snack flavor texture satisfying crispy tasty\n",
        "addictive mouthwatering savory spicy cheesy crisp crunchy yummy\n",
        "flavorful irresistible munchies snacktime craving delightful\n",
        "scrumptious tempting zesty bold tangy satisfying delectable\n",
        "\"\"\"\n",
        "\n",
        "# Generate the word cloud\n",
        "# Create a WordCloud object first\n",
        "wordcloud = WordCloud()\n",
        "# Generate the wordcloud from the text\n",
        "wordcloud.generate(text)\n",
        "\n",
        "# Convert the word cloud to an image\n",
        "# call to_image() on the wordcloud instance\n",
        "wordcloud_image = wordcloud.to_image()\n",
        "\n",
        "# Convert the image to a numpy array\n",
        "wordcloud_array = np.array(wordcloud_image)\n",
        "\n",
        "# Create a Plotly figure from the numpy array\n",
        "fig = px.imshow(wordcloud_array)\n",
        "\n",
        "# Update the layout\n",
        "fig.update_layout(\n",
        "    title='Crunch-O-Matic Customer Feedback Word Cloud',\n",
        "    xaxis={'showticklabels': False},\n",
        "    yaxis={'showticklabels': False}\n",
        ")\n",
        "\n",
        "fig.show()"
      ],
      "metadata": {
        "id": "dYQvdEBxy1dE",
        "outputId": "6da6174c-6a88-4471-e485-23cc591bbf9b",
        "colab": {
          "base_uri": "https://localhost:8080/",
          "height": 542
        }
      },
      "execution_count": 21,
      "outputs": [
        {
          "output_type": "display_data",
          "data": {
            "text/html": [
              "<html>\n",
              "<head><meta charset=\"utf-8\" /></head>\n",
              "<body>\n",
              "    <div>            <script src=\"https://cdnjs.cloudflare.com/ajax/libs/mathjax/2.7.5/MathJax.js?config=TeX-AMS-MML_SVG\"></script><script type=\"text/javascript\">if (window.MathJax && window.MathJax.Hub && window.MathJax.Hub.Config) {window.MathJax.Hub.Config({SVG: {font: \"STIX-Web\"}});}</script>                <script type=\"text/javascript\">window.PlotlyConfig = {MathJaxConfig: 'local'};</script>\n",
              "        <script charset=\"utf-8\" src=\"https://cdn.plot.ly/plotly-2.35.2.min.js\"></script>                <div id=\"5fbe1115-9d10-41df-8511-cb98a49747b4\" class=\"plotly-graph-div\" style=\"height:525px; width:100%;\"></div>            <script type=\"text/javascript\">                                    window.PLOTLYENV=window.PLOTLYENV || {};                                    if (document.getElementById(\"5fbe1115-9d10-41df-8511-cb98a49747b4\")) {                    Plotly.newPlot(                        \"5fbe1115-9d10-41df-8511-cb98a49747b4\",                        [{\"name\":\"0\",\"source\":\"data:image\\u002fpng;base64,iVBORw0KGgoAAAANSUhEUgAAAZAAAADICAIAAABJdyC1AACmMElEQVR4XuyddZwT1\\u002fbAz0gycc+6K4sv7lqg0FJoS6Huru\\u002f11V\\u002fd5bW\\u002f2nt1pU6FtpTi7s466+5xT0Z+fyRkJxPZZNldoOX74cMnOffOZGZn5txzj9wBOMc5znGOc5zjL8\\u002fk6cQPf8YdOJG0pyzptvukfvmO44lFjclFjclPvKTo6X26CXe0ETgzT+TvDM4VnOMc0SGWIK\\u002f9T3Vgj+ulJ4wiCdrWTPqbZo5uk8nRb37XsrqfZiIcbQTOwBP5m3NOYZ2jj2Tn8WRy9MO3LRWlHk4Tw4DJSFNR6YRBIsLRRuAMPJG\\u002fOShXcI5zRIdKjQKA2URzG85ITvvREnwkP4cnlZyJT9yZfGwcTsMhzj6PqGxK9P9Lzzg9Vt4jT8jYhxH876bbxNxtToEx4\\u002fm\\u002fb9AcP5Hww6+avPzTc8qxEu6YX31XteN44tufqAFg3Z4Er5cnM7v3k1Kp0QeflP+2Nf5gZdLmQwmv\\u002fleljce8TXkFvKLG5KmzBOz+\\u002f\\u002f1c\\u002feUvvunY5OnE179qD1YlbT+a+PgLCrEEYffcU5o4cSqxdLnoj53xh2uS1uyIT0717TnC0X76g+aN91X+nUhlaFFj8oWXiPySfuTCBaLjO1LmzRJyG84AzuRj49D7TXaOUwdB4PW3FckpGACMHsN79iX55ZfouJ3OMCIc82vPmnh8mDiVeOY15XWXdnW0UQDQ2d678eJ0MnEJ2Mf\\u002ftTTWkakZ+CPPyIUvK+65QQcAleWeqgrPoqXC3duc3s4KJTp5BvHyUyYAmDCFeO9LzeofbG++bFaq0Hsflv03X3Pjii6a6tn5VTdKCAHy6tMmi4UeM55oa\\u002fG19flo+5e5M85cdXAmHxuHAIVFYGIXZWNLAAABlIHBvrqDAD2I56TRot4n38uI0TwUHdQD6AMRjrmrkwIAfTcNAB1tVGszS21ExG5jHrxT7\\u002f187LA7Iwu\\u002f4gaJv\\u002fX3n+233SsjBEaXkwGAeYuEDAPrf3cAwF0PyI4ddj\\u002f9sNHbs66G\\u002fGlD3NwFwo1rHf7NM7Pxped1eP1NRw64\\u002ffI+H23\\u002fciYrhTP52DgETAnHapeIcLlGkC7EZV5JumTU\\u002fJS7ZibeIOGp2T3\\u002fArz6gnlMQfvcqZ3LFnffcp3+oX8aX3nezO3UXzAB32gamEDJmcjAH3NzIymRINjJQXPtaodQhMw6zzcrXLhEuGury2SkeTxkVCF\\u002f11af5QUAVRWejjZq4jTCLwGAXdudZ6x3vCCPl556hs5mzuRjCybgQKU8zbSEaxyUmcDEFYYdzbbSLNmEPR3fqgQpefIpR7p\\u002fZ3f+C2C1MlYr1dToG3IxHB5+3Kep+5fubrq5iUo56VXZv9fd7w9\\u002fvzMQx4zhsPxq8fwLhClpuEKF8ngBfqjOdurgXteipaL1axxxCdiYCcQDd+oBQCxFUAyMhgCL1KCnlaqA4dagO1WTFQk4nFMFw+DhexUjhvJHDeNnpvO8wm8+jAvsBf\\u002f5r+nxF3xWpxcEgRlTBEsXiSeOJbIyeFIxarPT9U3krn3ODz43n6gOG+VEELh0sXjFxZLCEXytBkMRMJromnrPvkOu39fb9xxw+q9g347t8\\u002f9qL79Y4nAyGaMbTebQf+0v\\u002fqddsVTidDEZoxqNYfqcCgEKi2aonW1fOikLgYnGaS9utpXiKN\\u002fi6baRhkzpWHbPc8QEw8AD9xqfeVGWlo4fOex+4mETt8eZx0Ac88NPKS64WPjyk6bD+13dXfRFy0RPvqxgd1jzs\\u002f3JlxVSGTr\\u002fAqHNSu\\u002fY5AQAq5mhSFAEqielCi06eqrPA8MAsJSUStOfMSgejjz5oJIrjYI\\u002fv0+YNS1gjiaToiOH8kcO5d90tfTaOzp\\u002f\\u002fdPObvUiEiI\\u002ffRE\\u002fO3BDrQbTarBJ4wT33CLPm9DU0uYzQft2bB99abn8YolQgFx+ieSDz0NMRyRidPECMQD8vt4+ENoKOArLQZqdlAUAXJQdARRBUO\\u002fEgGYo5HTEE\\u002f9KHDnkXjy\\u002fmys9s+n3Y541T\\u002fDnr47ff\\u002fY9b0OG+cZ2P5v+dDz+gmLWPMHc8wUb1jjcbgYASJI5fMA1fY7g43ct3m65Q3jxidihva6AjWNH10WnZvT46cZODJhjniJOF6PIrPd+njZJsObbBAC47s6uX\\u002f8McBOTQS61jdscUyYK1m9xbNhqLy7zGE1UQjy+cK7w9htkBB95\\u002fw3t1l1NZgtXHTx2v9Krrb783rLqV1trO4UikJGGTxhLXDBPVNdI+rUV9PXYdu93lld6CvJ4N1wpDamwliwSiYQIAKz83nel+p0AhWUnjcNUcw3OFjk\\u002fHkf547WXoAhGYCKaoRkI+rue4xxh4PEQiQzBcBAKEbkCtVp9uZeN9eSEKcTIMXyng5kxVzB3IdfXa7MyWzc4Fy0RFo4j3v1Pz03\\u002f7mvmT1dpnn5V+ccvdoUSve8RWclx98Y\\u002fezzufWPXNufzbyhvu0+6f5crJ593wx0STiQk3IlEidPlm4O5Pb4PHpLxC8Px\\u002fufmL763dut6nriKKs+2XY7GZvL159RKOTp3hvCXP7jBsQvniwDgz032W\\u002f\\u002fZM8YUl7t\\u002fX29\\u002f4kWDV4+w6duxfbzS\\u002fPpz6tHD+WNGEkeKuAPGlZdKAKCtg9q841QvTTgC7KYS\\u002fSaGodOkI3GU2Nfxfb3lyJHuNZPjL58Sf0Wr7QS75znOEY57H5IdrknafjQxNR2\\u002f8BLRzqLEo7XJ8y8QAsCzjxo7O6iPv9V8tkqTmY3ffHkI8+33n+1TZwna26kjB3qeh2OH3bdeqcvOxd9bqX7iRcWhva7br9bFpDtC8vtP9vf+z3zpFeKPv9dccrno4XsMraySnQgnMqDY7AxbW\\u002flZ9ZtPSeVlcy1TPxTX8PJhd\\u002fSiiaLk61VWh5MBgBuulHKa4uOwWVOFAPD1j1YqxOEPFlKeRiNI40pPgTMkcTQYDIeBSxw9x9+ZGVMEztZMZ2vmJRee0k1la8p0tmY+91gI99O7r2i8P\\u002fH0w8qYctZjPbaP\\u002fk\\u002frbM3sPJHOsdruu03u3U9+DlefDp8bN\\u002f+ubI6Qw9xbMx9ZP12TFpC1K9UQN75XyJb0fmIWT3e3s5ErPcc5zjFgCAhk6SLxmy+oN\\u002f6UeHxHSsOxtM4T6ZaGDAwDAEBChTOff8PQ3EoCwCP3KWqPpL77imbSuICygf7io6\\u002fMACCTopdeFKDgLr9EAgAHj7pCxjF7NfA2f1jXXNJ7YCfAuhFgkmzZBAlPjSA9imxfx\\u002fesLr0Qn4AtvFAwey6RkoZr41CXi+lopysrPH\\u002f86tyxzeXxMADg6cnpiw2tFp11nmDWHCIjC9doUKkMNRppfTdddNy9a7tr62aXw97rn2UwWHKJ8LW3FFwpi7W\\u002fO\\u002f5xp5ErjR0Mh3Hj+eMn8sdO4CcmYnIFKlegFMU47ExnB93URFaUkUcPuw\\u002fud\\u002ff6lxmEY0ZRGDOOP2MWMWESPy4BU6lQBIHubrqjndqz07Vlk6usJMSNHoxWi+4+Eu\\u002f\\u002f+s+7jH\\u002f81rvH5IKLhP\\u002f3X4X\\u002f69QxHV1dYaZPLDAcJk0mZs0l8gt46RmYVIYKhYjbxdjsTGc7VV9HnSj37N\\u002fnLjrqJk95furngnmid17RJCX4ogFuD9Oto9s6KKuNHjsqbFigvYOaOL\\u002f1mYeV110ukUrQm6+R3nyNtKLK885Hpi+\\u002ft3ofvX7hwGFXUZl75FD+TVdJV35v9Qrzc3iFI\\u002fgAsPIHn4RD5ljl5S8PV8QLfnm+orPWevETBSI5DyfQNa9VdjeECHpe9twwQozZjdxbIkBhjVDNp4FqtZfTTO\\u002fXkgOfj9x2l\\u002fi2uyV8fo\\u002f6FwgQuRzNy8cvXCJsbKAeud946IDbaIx553IFetd9kquvF+OB00eNBtVo0Lwh+LIVou5u+n9vWb9daTud8+fBQiBALl0hvPl2CTsZ3QuOIwSBKJRo3hB87jwAAJeL+fE7xzOP9z58DRwzZhMPPirNL+BOFlLTsNQ0bNwE\\u002fr3\\u002fku7d5XrpOUtFGfcePS0gCCy7XHTv\\u002fZL4k4rDj1CECEWIRoMOHc5btFgAABYLs\\u002fY3x8rPbZUVp6q35s4QrvosHkWhW0f957+mNevttQ0ebygAxxFrYwanPxudnrr74e6X3jTeeJX0+iskyYn4kFzef1\\u002fV3HOL\\u002fMpbO8tO9NVSCOLjlZa3X1JPGicoyOOVV3oA4MplEgBwuZlVq0MrLKvO\\u002fd0jJSnDZHNuyyxe32E3eX5+tlyVIrzo0SGf33WU0zljjIJh4Kv7i7InqmZen85uCpgSyon4Y91\\u002fNFlLWmxl\\u002fn\\u002fsDuEQCpHPvlHdc7+Ura04pKVjX\\u002f+ovupakUEfm8IaPpK3bqv2+pu52oqDRoM++Zzsg89VksCy2MFnoGtusnPw1X9qnnpeHqytQkIQiLc8JQIDd8wYDi+8Kv\\u002f4S1WwtuIweRqx+k\\u002fNdTdF5UkZUAgCeft95QuvyoO1VUikUmTFVaKsKMq\\u002fe+XZR5UoCg4nM3tJ25vvm6rrfNoKAHjR7b6ljXzuP4bc8U1Lrm7ftssBAENyeT9\\u002fER8cKOwz3\\u002f5ktdpoALj+Cp\\u002frfcVSCQD8vs5uCLMehr7FAQDdDXZlklCTIeqosQGAvtmhSgoxb1UlC7vrbQDQXc81vgL+Bh7KiaF8KsboC4bBB5+pxk\\u002fks4VuN1N5gtR30xIJkpyKeS88gsATz8kpOoahftIU\\u002fvufqkTigL91cxPV0kw5HYxcgebm4ezC\\u002fRmziJU\\u002fqK+4ROd09psNHCu\\u002fr3ZsXOdUqVGlClUqUaUKVarQW+4QR3n3R2bqdOK\\u002fHyk5fxAvbjdjMjEYCnI56q93AQCKgp9+6GXSNEDHjOPw\\u002fqeqGbMDJjIUCdVVnu5uGkMRTRyalY2jJ8dNFIV\\u002fPy2Li0dfe3GgEnmi4YlnZQsWBTxINitTX0fq9TRFglSGJCRiSckY25XU3U1vWt9TPNQ3CD7infRt3uGoquVamsmJ0WksAACgaVi\\u002fxbF+i+Pf9yueeECZkYYvWSj+9ufQ5k+sWKz0D6ttN14lvfJSyb9fMBSO5Gek4QCw8oewV02dIgQATbpI32zvrLWljVIAgCpFqG8N8UcztDqzxikBQJXCjckG\\u002fAkqTbsL1YtqLYedpIU56SazenTsPsFcc4N40tQebeV0Mm\\u002f9x\\u002fLDN3aLpUdl5OXjd94nXbRYgKLw7EtyvzwycfHYW+\\u002f1PJwkCV98Ylv5ma31ZCE+AGA4TJ9JPPCILG+I71yGjeA99YLs0X\\u002fFoBb7HaeTaW2h2Me5dJnwFB9+AEjPwN96X8HWVgwDG9c51\\u002f7uOLDX3d3tG9wwHDIy8MKx\\u002fKkz+LPnCvbvdXe092JhwcAc8wOPytjaqrubfus\\u002flj9\\u002fd5pZadAqNbrkEuFd\\u002f5DIZD69dcsdkqpKcvWPvSjZASIrB19+ZU+sqrTY88oL5oP73BxXg0iMjBnLnzaTmHe+IDUN++k7ewQ3lutkflPk+J3fCGL\\u002fffxctLAv69689YH5iQeUAJCdGVrfRXlsHD760nzjVVKtBps9TeCtnW7voDZtD3vJUAy54pURUi2x+vnyrjpb\\u002flTN1W+MxAnsj9dOAIBUzZ97e1bKcPmCe3NO7O4+9EvrhEuSr35jpL7ZwbH9A85hpGoBIMgYIoktXN\\u002f0NvsrB7UG\\u002fccDPRkZLhdz3eX6o4e5s+XKE+Q\\u002f7jQUHRM\\u002f8oSM0xSBV\\u002f9P7q8Xs9uYm67RHz7I3TNFwrbNrv17uj\\u002f4TOXXm5cuF\\u002f2yynFgH7fzWQ2CwNvvK\\u002fxPNQA0NlD33GYoD1pCkyKhppqsqSZ\\u002f\\u002fN4uECByRQw3Yj8yaSr\\u002fhlt65neVFeQ1K3TBDgG9jv7sI9u6P5xfrVKnpvn04zMvyI8e8jTUh9cBA8aChT22VUc7dfVync0awlq325hdO1y7drhefs48Zhy\\u002fqTHSoTa1+FpnTBZ88V1YM8Rops0WWiZFx4wiOOt55OfwHrpX0fM9EKEAkcvR9o4Qw9KEMb4Bo6UtRCtEfWwcjha7Dx93jR1FLDxP5M2w\\u002f+ansOlXJZs7SzZ3siW\\u002fPF\\u002fO\\u002fmrRuVe\\u002fUAEvVPgl3\\u002f+7hNXeQ4DCWt\\u002f8DvtrNCy5RMge8N94xRKsrfx8+qFtwiT+nHkhZq3BTJjEnzK9Z3B+4hFTsLby43Aw\\u002f7rXsHFHnP9gbr9HcmCfPrDX2c288wUFrFqWpkZq2eJuTklwME4n44zCvBoI7v6H1D9pslmZm67RB2srP22t1E3X6P\\u002fYpPFWRAtFyJ33Sh6+38jtN\\u002fCknFSaALB3lzuktuJw5FDYO9NLazt1tNhdOIJ\\u002f5TJJWyf16582s5mWStCEOKym3uP1WwMAw8Bvf9qvXi4Zksv74HXt6\\u002f8ztrZTcRps8fmih+9ToAjoDbRKGWL4idNiZXtSt+9xbN7uOF7qbuugGAa0GnTmFOFdN8kAQG+kOWU3fqI8tmA++tIy9nXignki72IPEeaD\\u002fUhoKzF6Lrmsx0zt7qa\\u002f\\u002foLrJOPwzv9Zo1RY17MG57ISz++rw1qbXro66d9+cVx+te94ps0g4uKxzlBjzlnKLXdI\\u002fJ8ZBv55l6FXbXUaGTqcN2FSj6Pgw\\u002f9Ze52W1teSX35q9+frLr5Y+OZ\\u002fLG2tvWw1oKi1IbRD3\\u002fjHY91\\u002f\\u002fpAoEiIP3CV\\u002f4K4er8iDT+nYSuHfL+pnTBGkpeDXrJBcs6LnihvN9EVXddx5k2z5ktBBCQyDOdOFc6ZznT4AYDDRl9\\u002fcoQ9\\u002ft0R5bBx+WG195SmVV1sdOuaK0LMf6eV6jFYv4opYqDWo33MEAJvXO73VqhEoLfa0RLGCmkiMzJ7To9d+\\u002fbkXbeVl146A4qaJkwPiAGc1Wi06qrDHvNq53VV0bDDujz4znzWxomn4eVVUV3DVdz0DHo4Dx\\u002fM9OFRX9kzupk4nprLM\\u002fFNh\\u002f2HX5AUtK7+3NrWQHg\\u002fjcDItbeTmHY7i8oDr2NFJTVrQ8tYHppp6j9vDWG30iWrPux+bR81o3nfIefBICBc1ADQ2kxdd1f7ZN5ZjJW69kfZ4GJJk9AZ670Hn068Yhk9t3rEn9IZeojw2DnYH8+1PPi9+uPSrfqcXC0vG13JFLIaNCAhU79nFLYYMyZFD7uQg5z+H0WP47DjXnl29mNxeOFkwowp5vdplZwvjWdYKAPz8Qy+W7Gln3ISeAy4v9fRqXnmprSYbG6i0dN+kbPxE\\u002fucfh57IDBzr1zofekzmvf1QFD76UrXyM9vH71u7OsNaKFFyotpzyz+7uNIg9Ab64Wf0Dz8TwqHxzkfmdz4yc6UADAMbtjo2bO373R7lsXHwLucQIf2q38EBIFc+ucq0FwCGKedwmgmsxygNJn9IgMKqqYrkd\\u002fRTV9N7t8IxPXtmGKiv7X0TADAF5oCo+3V5o9PLqMIAhXXkUKSh70xg5OieK3gilnTKE+Uev8IqHHcabOTWFuqTD6233um783EcbrhFfPX1oo3rnD9869i32zVwOWvR8OxbmqZ68qP\\u002fM3IbInLTvXKch3zwupHbcArgOLJiqRgA\\u002fthg18eeDd43cACgGd\\u002folyQe0mwtDWiPWAPEWfKxOYq5HgB0RLH+f2JSj+MTQaC4OoHVGC3KUO7JsxRtXM+5mEx0e5iIzxmCRIIIBD2hmOaIETQOjQ09p6ZWoxgG4WJPA8f\\u002fvWpRqtDLLu\\u002fxz\\u002fJ4yKLFwkWLhR3t1O+rnT99b6+pjuGkBgeRGH3gGeWzD+i4DQCfvN3\\u002fWT4XLxJpNRgAfLxyMNztXnAAqDEf8H5xkJZy43Z2s0YYkBfPQSoNSAjqtWDNiz2KbjJ5P+ga9jNztsNOTTAZe\\u002f8Dnl44iRTWKAJtfqyspekQBOQKVH\\u002fKax\\u002fHCkXBvx80bd7geuRxaUZWgNskPgG7+XbxzbeLjxxyf\\u002fmpbd0fztNrcLEZN4WIT+rFydNfyKToUw8rAeBYiXvrrr5PRWMl4MYq1m9gfwUAvbOFI2EjFPVoBJeLiXLNb0cUS\\u002fNIZX8dXdMvSKU9V8pmPWMekTCIWDcGAMRUdcC5PU5jodWWjc6Fc7r+dY+xpCjEBHzMOP6b\\u002f1Ou26adGxT1VqjQ1z7UbjyWuq0s9cs\\u002fEnMLfBPbPTVp8y8Sr96VvK0s9b\\u002ffxGtPJuVOnS38\\u002fLfEraWp64+kPPW62r\\u002fU\\u002fUUrJN9uSNpWlrr+SMrVt8q8Qj84jrz6ofal\\u002f2lxHFGo0Pe\\u002fj3\\u002fqDc3oCcS6wynrDqdce4ev\\u002f9BR\\u002fB82J20rS3vkRZV\\u002f2+XXSR98TvXLzuSVaxPnXyTedDz1lQ+0ACAUIY+8oPrjQMqfh1Luf0rFqbTLz+GNG00MzecvWShatyohJ5PHMPDAk7ooH\\u002fx+IUAfm9wd7K8AUGrYzJGwcbLurQhVhByi6ce+ax0OZvfOqNz5HGpY4Z6zHfafmj1OnJlwTCphLFVsHGXHrpc4FWI6Bj8UBb+vdvy+2jF8JO\\u002fSFaILlwjkgbZ\\u002fRib+3qfK31c7HnvA5E8Zv+oWmcvFLBzXDAAjxhLNDT59hyLIsmukNyxpd9jpl9\\u002fX3nSv\\u002fOXH9ADQ3EC+9qS+osSl0mCf\\u002fJIwf4n4jx+t5y8V3\\u002fYvxcO3dZUdd6m1GJ9gzWZoBseRF\\u002f+nsduYZx\\u002fopikw6pnbV3Qsv046c4HorisDnuKy4+7lc1vvf0rFD4x2TpwmuHJB6wc\\u002fJCy8RLx4cvOvu1OS0\\u002fAb7paLJehls1swHHn947gb7pGz3V533CC7\\u002fYYAvfnkS4Zd+yLFHzkgGLpk++3ezweeWN+6tSawvXcCFBYfE7mpGMJP7PsSRUEgQKIZS6OxntgZRm43c+dNBlbj3xH2EhfsZPczE86CHDFZSRKWLckw\\u002ffZy+ZDVl9FTUuQpKTK99Ix59nnEiqtEU6cT7ELCxUuFYjFyx00Gr63R1kLNWyyeOV+4Y6Pj6P6A5\\u002fnL900GHQUA29fbF17i8+s3nCwb7Gqnjux1paTjALD0CsnXH5pLjroAoCswndDtZl74r8aop19+TNfnCWlFidthZ6or3PU1Hoed6WgjtQnYBZdKrjy\\u002f1W5jAJhfvrFwFFZjC9nQRMbHYR4Pc6zY\\u002ffaHpt\\u002fXx6Au+oUAhTU78aYuZ32LrbzLWef3xEfAEJiKlpiMRRMBjKZSRMdaq0guRwkC8Q9ff0\\u002f0rBxxb4lyhKzx047DzpjNtF+xpsWyqGx6Zk+8Ra+j+8vjru2PFFC3m1m\\u002f1rl+rTMrB7\\u002fnn5ILLurJzpkzT3DhEqE3jebnrywWE33lLbKHnld987Fl5Qcm\\u002fxuq20\\u002fmwXo84F99ZNQ44vq75HGJGE1DQhL+81cWAEhIxluaQj9NK66XiSTIx2+a+qyt4KTNTtPgtDMAwNCgUmMYDp\\u002f\\u002flujvY7cF\\u002fMAb\\u002fzO98T8TWzL4BFzF7W2fG91tOfKJs5JuKlDMlPEiJWEBQGVFwNw+Jzeq+zKaVTiOHQnY84hRvaxM8pen5HjAH2Q0K+3jzOTIwZ4DHlLQ+xX3M4S1Cs3RIyHy7zivcuFFl\\u002fmQkx\\u002fDMfRKbTX5z7uMd99qYK9s4q+yAICNv9tuurj9rqs6l14hueDSntwghuaOu3wCeXtl\\u002fIbfbFed33bNorZDJzM8O9upxOTQledb19uvvaDt2jtkU+cE5DOeoi\\u002fJZKApEq46v3VmQaP3n3dWe0YRoLCclKXWfGh3+9cHOn\\u002f0MK4R6vlTE65id+DAcUZOmhLVvTN8ZO8P24F9LvbQOnNO\\u002f2Qbn70c2BfgxVtySS+Zt6edg\\u002ft7dE3eEF6US3fl5uHsnodZb5z3w1nJIJrkFQyD0YGJbP3Chj+dX33Rk9fqTz0bP1Xgdah3tJBGPRV5HTeCQARCpKmeBIBho4kJ030u\\u002fDWrrFfdIhsygo8gIFeifs89AJgMdFM9+did3U+\\u002focnO73maujqo9CyeVI4CAOcltdFAUczvq6x3PaKUKVAEgaRUfHjhGffchb7YNtJocrWb3B18NNKD0dVJ17KyUeadL4h8bQAgKRmLRmFZLAw7b\\u002f7yq0XsRa\\u002f+hjQ2UOw\\u002f9fyFQk64\\u002fUxj7e8Ov\\u002fWBIHDpih7rIwLLWKlPNA0b14Vw6FJkgM6K5naaOIUYoCxidkE+QSDe+3\\u002fkWOKL3xO3l6et2ppUXuT+\\u002fYcepRaMxUy\\u002f86LhPx9r\\u002fzyUcvVtsq8+NHvlv\\u002f9gXfmB+dm3NNvK0r7bmFQY9M7Ew\\u002fuc77xkeOPTOKXap+J3brYfPeD8dXfy2oMpCy8Re4WPvqT+cWvSRSskiy6R\\u002fLQt+aX\\u002fRZo2vf60vrWRXPlH4tbStLe\\u002fjEuNZS4\\u002fOHC1gIpIThTlJ4hy7aSpxVbWZj\\u002fhoSNF6G69U\\u002fLAo1L\\u002f12ceN0Wuf37qeflV1wXcu\\u002fOmd4VcRWTcBP43P6n9X\\u002f\\u002f4zfHPu4w9zQMAhkN5Xc8E\\u002fpXnzZ98EOlWi4mf12qGn6xk6tv66MtWiF78j9z\\u002ftbTYc+WlumhyRPrMKR7zG+8qLlziG\\u002fAcDmbRnK7IZaSZ2fiajb7VGgBg\\u002fVrnPbeFDrZ8+Z3av5SQzcpMG98RYU0FFIXvV2vYlZgQ9ZruvXLDLeJHn\\u002fQFzowGesJIbpz9HGxOPUoYMOzMSrpxlHoRyXj2d67a2\\u002fFdo7UosrYCgF9W2dnPzEP\\u002flkXwN807X8Ce50fm0AH39i09v37BRcLX3lJEE5xWqtDrbhL7n7S\\u002fDKt\\u002fsjc19jzww0bwvv5JHc1US61B\\u002fcUug8l\\u002f37T6o8ZCIfLxSpUmvJmTkIh9\\u002fKXKr61IEt57xxrYpYf9rHc+iyXI488ExNrZeBe55WirCBAEcv9D0ij\\u002fXAoleu2NPkMGAI4fDZGudY7+JcDkKzVs7XbU+9cajYauLvrd\\u002f7M++JjPyBIKka9+UL\\u002f5H8uqb+3spIfkFOz6m8VXXyfGMKBIYBc2R+DBfxh\\u002f\\u002fkOTkuq7e5ZcIpw6g\\u002fj6c9v2La7yMo\\u002ffyYUgkJSMZWXjowp5k6cRhWP5OA633aCHYv+e\\u002fgqQJNx7u+G7X9TEyZSc4SN4G3Zof\\u002f7BsXGd8\\u002fChnpWbEATiE7CsHHzsON7EKcTY8fxXnjcPfhVxTTX53JPmF171WYXZOfiaTdq3X7es+TVgxVGFEr3oYuE990vYKU6vv2yO8BKdH76133mfxK\\u002fdLl0uEovR11+2sE11HIeJk4l7\\u002fikZM54PACTZE5WLAIbD7fdIbrtbcvyoZ+c25+6d7vIyT3AJh1yOzjtfcPc\\u002fJUksv\\u002fgP30aaW2jHpiTPyVYMiRMlynARDxjGY3Pb2yyWOn33sdaOvQ0uQ4h8cYyPLd5yGwAYyjq23\\u002foTAPAk\\u002fNTz85NmZomT5YRSRLk8jg6rrqitbnWpuUbH3T4QBEWUQ+MTpmYoC+Kk6UqejEBQlLS77R0WU2V369aazoNNwWGBkPBlRPLcXM2YZHmuhi8T8CR8ykW6jU5bq9lY0dl9pKXrSDPt6aMNO\\u002fzuKTmXj\\u002fZ+rvnhePHbu\\u002f1NAQYLimCJojwRrmALvXXREcBwWPm9ml2dD9413StIXTctECJJyZh\\u002fJUmahttv1L\\u002f3scqvs8JNCb3k5eOffq2Ki+eOeBQFFjPtdDIiMSIWBSxh7uW2G\\u002fRbN4U2DxEERGJEIkGlUkQqQ6VSRCJFJFJULkf9mhcAtm9xbd\\u002fqslppq5mxWmmLhbFaGKuVtpiZCKvoCASIVIpIfLtFpVJEKkWlMuTGW3vWRz9R7vnxe4fVwlgstNXKWMy01cpYLbTVwvQ6xVu0WPiftxUhnz1vMgGPh0hlCMfn+uIzkRTWgB7zo0\\u002fK2OuOAmtNdwRAo8Wyc3Hv6\\u002fb8rP7J8fA\\u002fjZFjXv96RHrbXT3RNy\\u002f1dWRrM0VSoFSi2Tm4P\\u002ffK42Fuvtbwxbcqf89wU0KRGDlWEVC4yjDQ3ER1dVJWC0PTIBQhiUlYSirmX4fey4Y\\u002fnXffGnoCK4yXjHt6nnpEj7chGIaiS9\\u002fbV\\u002f3dMY7cr7BIm3vNgo\\u002fVoxLHPTVPGMc9cS9VXx8t+2BfOI2Tc\\u002fnorEtHiBJ77vBg9MXtB5\\u002fa4OgMa9sCAIqj+TeMz14+EhdGsltPfH6o\\u002fGNfzZ+faKaEQ2+blHfNGO9njrYCjoU1TDlXLUjROZvjhJk6Z5NakFZvOcLuEBKKhFuu03\\u002f2tZoda+fzkWBvKEXB4w+Ztm12NdSTWTmhnrkgKk+QFy\\u002fsfucDpXec9INhoIgiPBSSy68WPfOib9iPwMw5RLjo5Ogh7XZbiNuiYBjv13UarjSI\\u002fALev5\\u002fm\\u002fnG8XLNct39viNCYn7W\\u002fO9rbqHc+ULLLob0IRYhQxNXsvTLQx\\u002fzSs+aOduqhf8v8TziGQ34BLz+gVw8fvGt941VLZG0FAG++ZhlSwONcoIxMPCNo5XKPh7n\\u002fbuPeXa6uLroP2VgI4nsXGbeBxcZ1zn\\u002fdY+RKAQCALxfMeO8Sv4qhSdrRYSHtHkzIE2rFGOE7WgRDjSe6ejYLAhfz48anTnjhfFzEAwDKSTo6rQzNiBKl\\u002fp3kXlVI2t0nvjgcsOVJ4sansLUVafc4dTbaTRFqEaHwuRpVIxKmvH7h1htX0Z7Q3ka+jJj40iL1KK7ypT0UymP9iRho\\u002fPNEz9eoGXLj+B5t9f3x4ncCtBVwFJZWmLGn\\u002fRsnZZ0Sf+Ux3Vo5PyFT6ts4MjYrc+0K3Z33Sm66XRwuntrUSP37IeO+3W4AqKmOVmEBQFcXfdVlusUXC++4W5IZRQ5XYwP10\\u002fd2dh7QX4wjh9yL5nRde5P42htE0WThNjVSMS3w0u98+qFt3x73I0\\u002fIIie+HD3sfvUFS4SFsNlQFNx+o\\u002f6e+6U33iqOUOVeXUX++0GTd9numipSq410AADgcjKffmi7dIWQU4ITjpZm6s3XLL\\u002f94ginYfOvHevVVqTdU\\u002fTWzpbN1ZTTdy0QFJGkKeLGpybOzCKUwu6jLQFbBjHp1QtQHmpvM5e8u6d9T713woXy0NQF+SP\\u002fMQ0T8AAg\\u002f\\u002fpx9b+WuYwhZpdV3xyNm5imL25v2VLdsb\\u002fR2mT0+35k2eqR903TjEkGAGmmKmNxQe3PJextvSAoMu7p+X5t5TI6alcVte9psDYYKDeF4qg4Wa4anhA\\u002fJR3lYbaWmFNM864ZM+TG8d7PIbUVcBQWCpiLsgP43oVtcrcriWR2hwg4ncwbr1q++9p+\\u002fgWC2ecJUlIxjRZFEOjsoEuKPBvXOf9c4\\u002fC\\u002fVqSmipx3fsDmkaEoWP2j47efHWPG8adMJ8ZP5CckokoVKhajLidjtdKtLXRdDVlS7Nm7y1Ud3bJcZzUmE\\u002f3OG5aP37dOnkpMnMwfVcjTxmFyBSKRoC4XY7cxHe1UQz1VUuTZv9dVfNwT7nEaNMpKPNeu0A0fwZszXzBlKj8+EVNrUJoCnY7uaKf27nZv3+KMdQ1VioI3X7N88YltySXCCZP4Q4by5ApUJEJcTqa1lSo65tn4p3Pr5p7VFGqqycgaEwAoCl5+zvx\\u002fr1oKx\\u002fEmTCJycvGUNCw+HhOKEIEAQQCsNtpiZmqryfIyz7bNriOH3JH\\u002ftnET07wfKj472PhHBbuJoRlLvcFSb6hZVYTxI1lwXlAeamsx7bj9Z7a3i\\u002fbQDWvKPTb3hOcWAADKw5LPy6n9MYT7tutwy6Yrv7E2GrkNAOYa3Z5\\u002frZn92XJphhIAEmdmhVRYmUuHxU1I9X7WHWvd9+ifHkuP14UmaUuDwdJgaPij3C+MnpzLRw+9bZL3c\\u002fV3x0veDaGtgOPDmhx\\u002feZlhm8ndPlZzUZu90k4ax2gWb2n9iN3nHOEYgo5JRXMb6BOV9DFuWxCRO2ejw9PR\\u002fDLqUDvTwG0bFE77AfxlWLjmBu+E6\\u002fBzm5vWxzxL8vuwvOz515rO\\u002fY2s9h7m\\u002fXC1OEkGAM2bqg49vZHbHAXZy0eNuHcqALjNrrWLPuG0Iigy7\\u002furvZNKR6d1y7Xfe6yhfcQRYPuw9j2ytn1Xvfdz1rIRI\\u002f8x3fs5grYCTlpDtWkfSbsAoNZyaJhqzqT4FXWW0PPhcwwoGiQJA1yNxHMbTgExIktCM7nSMAzEAfw98Tuw0xcXoHhU08xw2NvM4bQVAOhL2r0fhNrQLvlesTUbvR94Ej6CcmfZ6pGJfhdY5cojfdBWHEirb+6fsWQYS1sdi6CtgKOwupz1NtIAAAZX6+aWDza3vF8XhdP9HP1ON9NKAtnF9OLUiIlUJCcHHcGVhmEgDuDvScvmau8HzeikGR9emjAlPShZO1q6Dke6HO6TfiuepJdpbzgot8\\u002fRjqBIsG5Vj0ryfWKgZXNVQFuf8NjdAJB6fv7oB2Z6JdXfHSt5d09ApyDC+rBphopmwYZzDAQ1dEkNHcKJcCqokYBofWQG4gD+ntT8UJQ4PVM1PAEAFHnaSa9eYGsxNfxR0bTuROTsgWAs9XquiIU\\u002fmyHYOAoAAdXQeNXIRHmORqgV8+UCXMzHBDhG4P5oY0hkOWrvB2uLyW0+VfMKAEibRzs2ufCR2V4NHo22Ao7CypVPbraVOEgLW3iOvwBCRCxCpC4IETw62xEhUjtzSncsZw\\u002f5\\u002fLFNnspT3Kcf2kPt\\u002fsdvw26fnHnJcK8qESfLh946seDmCZ0Hmup+LmnfWx9lprab5eHuAwiKpF9YkH\\u002fdOGF8X+aMfJmvKtvZFZueDYdAK57wwvleU46hmeZNPlM0MgEKK0M6ptZ8iC35+4AAokES49FUOWgEiBAAcYPTyHQ30idMDHdkwwDLQAsSkDQBIibBrWPaq6liGkIkIkIsnSdhC6SIwv+1ii6qpyMFXDDAU9BsLZIsQeQ44B7wuBiHgelsYqrsjBUApIgyHc2XgkKMyACAAOE8fAV7D5vJH2nosaOjPIAp2CIxIi2m9gW75FHAZuJLcOAdpDYbmW6\\u002fXI0kpKK5CkSNA88NLj3TWU+XW5mYI98cCESYxhtS4T7IbYia4D2ccPez35ZykkVv7qz9sSj3mjEp8\\u002fK8AUEEReInpcVPSjPX6Ire3NVrTgMA0K6+z3gwAT7huQXxk9P9EnubxVTVZWu1uI0O0u4mHR5JujLv6rBpTDyxLwuPdMQWzA3H+Kfn8SS+NDoERSa9tHDbTauc+kjVAsBRWB7aAVFq+78cGiRpNDYNAGigHYyNAUqESBOQtHgs9Qi1Xc90+HuigI3FZssRNQBYGRMDTDySpsGTdEybv4+fmDo30CckiIwHhBpNEEAvRZdiRFaIThciEgBwMDYHWAlEKEUUEkTeQFZ6++DAwwCzg8XDuJRIHA1Ud+DvcsqwojyANqYuBxmZhKa3U1yFFYck48CzMxa2tspFR2WgQwDACXYnYxcikkQkPR5LLaH2dTBNPRuHIXHKhXFj5rAlprqS+j8+laLKLN4ICaIYzp\\u002fSRTV3UI25vEIhKsEAr\\u002fIctdLGAv5EknGLUJmLcfARop2sT8QzKYYUIOIKzwErbQreQwZvaAqed8y1zUobtVhKEp5FM7QQFVd7juupdgSQYfzJCCBqLKmLai5172UfVWSszaajL20teXdP2vn5aRcMkedovHJZtnraO0vKP9ofLuGzXxh+91S\\u002fturY31j2\\u002fj5TVc8F8pIwJYMjYeNPH8OI0PnDsSLQiGmSrv+1NP3CAozABVrxhJcW7rp7dbicVS8BCqvatD9bNrHKtCemcsK\\u002fBt1MayNd2c2065l27+nzgD8Cm6xGErLR4XqqR2FloUPliNoNzsPUditjBAAeECOwSQlIz\\u002fDlJ6bObYxvdjACmZyA+PJ3QoIB7tVWRqa7jD5oY8xeuRARK0DjBJv3q4HpNFCdAKBANOOxuR5wH6cihWCiPIBWuj4bHaFCEvggcEPACjCJaDoAtDL1PRIkIwMd4mBsxfQer62KAJKODslFRw7HJppIvf9oY8VCG+o9ZUl4Vrn7AAAoUC2G8IpcO0WINI8\\u002f9phrGwLQRtXloKMbPGVD+BMAgGaoEvceGarOxEcUu3dx9gAA9Z4yCcvGBECK3bskqCKLN0JPtROIiIcQR11bs3kjrXRfzEOPxVWzqqhmVZGyIC57xajkOTneeWLBLRPNtfq2nXXcDfoDgVqUcdFQ7+eOvQ37Hl4bsnwHCXK0s3GbfRdaoA47ksWE8UTXkRe3mGt0+uL2cU\\u002fPAwDVsPjRD8488uIWblcWAQpLLUhTC1JTJSNcVM80dVf7V6wuMUAo48SJWaL4VEKu4ctUKF+A8QhAUNrjoj0uyu3yWPROQ6dT3+7oanZ0tZ5e444B5gR9lC3xgLuaLlJjCTJE5RcigKagOQBQSR3zKiAA8ICrhNo\\u002fA1+MBEZdY+ocE8lolhCROMF+lNpOQk+irIOxOfr6\\u002fEePCxx6pkONJCSi6Q10T24RHwg1ksgA00bXeyUIINnocAAoow\\u002f4Z9YMMPV0uQZJVCLaVDS7ii46uYNTQozKlah2JDEdAGwntQnJuGmgPOCLoDsYGwDYGbMQDShvDIeNNgIAybgx4AGAk7ExQA\\u002fjT+YhRNNJM7ZvGMo7Dz29se6nkslvXOgtysu9snCAFJZ2fKrfE3\\u002fii8MhtRUAEEpfgU5ILA1Gb4a7JE2BC3mnPjGs\\u002fOqIt1q7eVOVLEftnY2mLRpiqtHVfH+c2\\u002fskAQqrw1Hd4YjK9RUBvkytKpigzB\\u002fDl\\u002fnCChwwQogRQh6AQBUvTS\\u002fwCj02s6Wh3FRbbG4oP9WlXvsP7\\u002f2NAooC6vU6SRE5D\\u002fgMMJ2BIX83OE2MXoH47HwvMXWOiTgkGQBa6Fq2thpMWuk6NZaQiGQ0QI\\u002fCSkDTEUD0TIcTfJ4ICSIXImISPHqm09\\u002fNi4nRKRGt\\u002fBT+CADAAI2dvIdttMlMG0rdkSJNIlQKACJEZqd9QzJ7D8EE34goYOXuA2zH36mgK2478fmhYXdMBgBFQRy3uZ8Qanq0c4QVHVTDIqXd6Y63wjVjAABBkaRZWX0rFQxH+Yf7ZVkq75x0+F1TLLX6zoOhfQUBl6rdfkrpFYRcEz9hgSKvEEFith14Yplq6ETV0Iluk67r+A59+X7aE1VNWT\\u002fCByIRzVAiWhFIeQgfAxwFf8GEb4ASggQAXOCggjSFHawKCHj8YuocE14nupkxcBsGi06mhQSP12Xm950nIukA0Er3mAkSkAMADjyOs98PH3xu175hpU0EIhpFzGgla7uoZjWTNIqYAQDdVEsLWcPtDcAHwQj+VAIRlXt8c0D2Hox0VzZvpAKLy0ZwHdXmYrhBVQIRAsBwYgoKqJU2VXuOcTr0AUsD6yIioXTkKUOzlsHnSYmQxhFfLkiek82Vsug+0uIyOLxWWN61Y1u21vi9WqcOQzOHnt4488Nl0gwlgiLjn52\\u002f\\u002fZYfrc0hJt1hx5aYQFBUWzg7YcICJHidlxjhy9WJUy4wVh0dZIWlRZKGY5NxwD3gNjHdBtpBghsAMlCfDegFQ3AAoJgQl4piSE5OYEydYwIHHgB4j\\u002fC0QAPVTjemoNmJSEYVcxwAxIhUhqhI8HQwzf5uOMIHAApIy8kZMYc+O7C80EAddm3yf63xBEwlytz7AaDItRMAjrq2xGGpBrqT04ezhwr3QYCeiGEX1QwATsZ+1LUFAFLwvHqyzOt9Hy+YDyEe\\u002fAD4MgLBMVfEyFfi1AzvB1uzaSC0FQBYm3qefM3opKYN3MksiqNjnzjPWz4dDspN1f5YVHDLRACQpCrGPzP\\u002f4FMbIugsBEMZKkQoPByk3bPv4bUzP1rGlxE8KTHx5UXbb\\u002fuJtHHv8AD9kikd0+GosZO+05PyNCoiucEadj7pBReI0xdeL0mOpJ5jQle8m3T4LPbBgQ\\u002fECGwyBngTXVVJH\\u002fPnHPCB4Cgsr\\u002fZhWV49BAtj6hwTFFAoYBHmMoNAK1OXAtmJaHo1XcQAk4BkAEAH3cSeLlGMBwCcjP0gtdkvPHvppJpyeKOSsCwc4Td4QiR8cJBmqKa9s6Rjf2P77obuIy22FhPbfyRJVWSvGJW+2OcOb1rXn5MsNt1HW0ibGxfzAWDYXVOszSZDWU8QSTk0bsS901TDE7hLxARR9c3RhGmZyoI4AEiYmjH3qyuqvzvWua\\u002fR1mZhKBpBEWGcRJqpUo9KTJyaUf7pwZDLXUXA1mI6+MT6KW9ciGCoNEM57ql5+x\\u002fhxgcCFZZsXKu956\\u002fmpKxZsgmRFRZfps5eegdf1uOWDoahKbdJ5zJ1U24n0LTXh0UotLhIyu0KQHvcnUe2cqUDjAqJxwAnwXOCPsqOkPIRX7KcH69LW4CIUMA4jgwhwo2exNQ5JmyMWYFoZIhSx\\u002fgqyAYfE6OzMRYxIlUicXqmIwFJBYBWJsBtbAUzAIgQCQZ48Lx4kOmkmjqp0J6RKLHQ+qOu2G5OBEMTpmR4vTOUi3R220i7B8VRgUbMk\\u002fZMh\\u002fWlHdXfH\\u002fN\\u002f7V9Iu+fEl4e9njKBWjTzg0vNtTp7mwXBUWmGUpQgBQDKRe7915qJLy\\u002f050YFQ3voA\\u002f9eN\\u002fm1C2TZagAQJUj9NYCUm4pmwYle6TrcXPzObu9uE6akD71tUul7AbkjAQoLRTD2m589tBNHI1mJfKky++I7+VIltwEAABiKNFYfN1YesbbWhJzf8cQyUVyaLGu4LHMYLvD5BbsH3byCk3M3N+Pk5HPEI6nsrwBgZYwecPOAH4cktzONfjkOvGD\\u002fcUydY6KLaVUgmmQkqwEqo3EAe\\u002ft4J5L9iDchKx5JdYPTmy\\u002fOTr8CAAtjcDA2ISJORrMaae5M5C+Px+amXKS\\u002f5AUjcHGyPLALAAON604UvbGjzwsKR0PVN0cFGnH2ZSMBABCQZau9SseLs9t28IkNuuI2Q1mnfwGZkDg6rdtv+3n43VPSLyhAeT2u6mBtRZ+sTIyV2h+L5dlqr+GZe1Whqaq7eVOPbz1AYTlJi5wfb3T7Bm0ZP85JhtUdKI\\u002fIXHxrGG3F6Mv2t+9f57H58oNC4rGZTXUlproSBEFlmcO0o2cItaldR2MbwfoFr9tYiEjkiNrE6AAAASQZzcoMnA8CAA10C12TgRbkYaOtlMm7IQ\\u002f4I7BJWNAsL6bOMdFMV6ehuUJEMhqbVk4f8kYzAQAHnhZJMjDdHN+QnbF4w2EpaHYzHZuhHgFvQpYWTXLRdghMv\\u002fLCAFNNF43AJueiIz2Mu51p8A8JEkSegKQ30VV\\u002fyYIhL+Ya3fqLv0icnqUpTJKkKUUJElzER\\u002fkY7aE8FpelwagvbmveVGWpZ\\u002fndBwgGit\\u002fa1bq1JmPpMPWIREItAoZxm5yWOn373obGtRWk3QMA+pL2yAoLACin5\\u002fh\\u002ftld+eThlXq6mMFmaruTLBZgAp5yky2C3Npn0xe1tO2vNtb4slj5w\\u002fPUdknSlemQiABQ+OtvabDJW+KLMAY7fFPGwXPnkOsthB2kW4NJM6Zg68+FwU8L0869V5IzmSgFIh7Vxw1eWpr4Mp7hIStotXOmgMBabpULiGWCMTDcNlASREyCspcvikRQxImOXsGCAjcPmeJOzrIwJAUSESD3gaqXrM9AhnCWuou8chyRLESUOPBx4KjReACIrYzQxehI8JHiMTDc72x4AZIhyNDadACEA2BmLBzwEIiBAiABygNrkVbts8tHCNDQPAOyM1QMuHHg4wttB\\u002fubvEOsBeBmDzVQjCS5w8EGwi1zjT2hgk4EOyUFHIoB4wO1grBjgAkTkdcDtpv7wVhFFIFymO1vyV2LyrQUYju76Xym3YSDplx8N3smDx5Z9cvF6fR33oU4brz3vsUJZovjIt9U73irmtEYgwMJqtpXSDJUiGS7EpE7KWm3a32wLfQKK3MKQ2spt1tf++r7LFDAviJ7Tpa0A4Ci1MwPNT0DS5YiKBtrCGCvoI51MM4EKvDkEfiigDlFbveWBIkRKgruNrq+mi0WINAOGsHvG1DkJzdQiyWyJBFH4s66b6RqOvjAzhr3kulQ0V4skiRCpEMQecJsZg45pC1m4W0kfc4IjCckQIVIBiNzg5Ci1WA\\u002fAizchiwAhO\\u002f2KQz1doWPa05A8JRInQRQ0UE7GbgFjJ93sYEJv8ndm74e9u\\u002fP7nZh+lC\\u002fG5z48+s8nD3Hk0e+k8WDXpxdvWPjceG5Db3DDTK32ilZ7wEKuwWB8QfL0pVwpAOmw1vz6ntvEHdvPCmigaumyWijjyMvog2V0T5zbCwVkDV1cE\\u002fgeMRfj2Eh+z5Z4ibLzMWoX+2s0eMBdS5fWQuhBhQMDTANd0QBhL24fDgAA2pnGdrLHPRcOC2MsZXypT+c420kbHyeNjzpq1K+5GlyFFQ3awlkhAnwM07Dui7NUW53jHGcCCcOUi54fL40Xla9t3PD8Eb88f15K3nnJ9fs6p95WIFAQh76s9E67Qsp5QnzW\\u002fSNzZiUiCFKxvmn7W8WUmwYAoYJY8NTYlDEaDEcNjdZ1Tx3srDRF+NGQ\\u002fYUKYsnrk+LyFLgAu3PzhQBw+Kuq\\u002fZ+dCLcTAMidkzx6eRZfiFdubtn8yjEy4poT4Q7eT8wKC+MLNCOnc6UAnUe3Wlv6zZvbX+BCiTxruDgpW6BO5EnkGI8AQGiPy2O3uE3dju4WW1udra0uZBDzrAMjhLKMoZKUXIEqgS9TYXwBIAjlclBOu9tqtLfVWVtrba21DB3pjuk7CCJOSBcnZgq1qXy5iidWYHwCwXlA05THRXvcHpvJbda7TTpHV7Otvf6Upv9BxVun+dz7ifZSw6cXb5jz4Cic4MZk0ifGmVrtnyxdj6CIQM6PIJ\\u002f70Ci+hPfJkvUojl785pTJNxd4tdv4a3MpF\\u002fW\\u002fuWsAIGmUytDkC8uE+9GQ\\u002fR1G13c3bR9zeU7O7KQfbtvh7xxuJwCQNFL12aUbcD627L\\u002fTxl+XF3naGO7g\\u002fcSssJRDxmGEkCP02MwdBzdwhAPKyDteZWfVl3\\u002f5vNscEJXgy1TxExYo88YinDdeAmCYCBOIBKp4WeYwAKBJj6Wxomnzd5QrUriqH12\\u002fGRfcKM8czpZ0HtnStmcNW8KB8+u6kr3N21b5v+IiacKE85VDxqJ4z63saxJKcKGEUMZJU\\u002fPiATxWY+fRrfrSfTTZW5p21BAKrWbkdEXuaFwo4bYBAIbiGA4CMV+qFCdk+MUuY5e5rtRUW2Rra4h12sCwDn6Azh3lE8NueBrlBSQltez4pbtoJ1vSBxImnh8\\u002ffj5bQjptZZ89zfhfZR4KFEN3vlPizaJ023sy2jhyFEeHXZTx+WUbvX2O\\u002f1Trf+bNbfYhC1JzZydVb2ttPty7lznW\\u002fuE4\\u002fE2120a6beTRH2rGXJkbQWFFOHg\\u002ffVBYIfxknYc3nV4jhSdRshWWqmBC8oyLOXdbOFCcJ07MpNwBy6Sc4QjjerzjipzRKXOWY3xujmtIeBJF8vSL1cOn1P\\u002fxqcvYxW2OEZ5Yljj5QuWQsZxwczQQCq22cJZm1Iyyz5+J1dqi3C7vh4E7d9rtMlQeVQ+bxBaqhk48dYWlzBvLkRgrj0TWVgBg6XSEXGWBI5doBCiGXPN1z9jmtvm027FVtU6zZ9w1uec9Wnjoq6oDn58IuUM\\u002fsfYPh8Pgu1i2bqdYFemRjHDwfmJTWHy5WhTHTdOgXA59+Wn2p\\u002fKlCn\\u002feUfAI1itn1BIR0SBUJyEoytC0tnBW0tSLuM29IVDG5172j9rfPrR3NHDbokaeNSJ17uXB5nZMmOtLY9VWAOAdXQb63PWlezkKS6hJEsWl2jub2MKYECWk8+VqjrAfHx9rt5OmmM+XbzI2hUgWqVjfVLG+SZsnX\\u002frGFLvOWfxrPbdHIOH6M7E8LKKTSkoSJ7TpIpkFkQ\\u002feC3e6FBlZGjeREgCM1cdPr3kFADyxL4E4fvz8WLUVAJjrucHBMxwEwwllgjJvTB+eWC8YIUw\\u002f\\u002f9o+qxtt4eyMRTf0eXM\\u002futJ9XFEU0B7XIJy7vbPJ0dXMEaqGBqiwWAk2rxzdrY6uFo6wz9AkXfJr\\u002fYx7hwvkfEBAnixOGqnyNqVPjJPECQHA3GZ3GF3B78XhEKG\\u002ftcupypAKZHwAwFj57iEZe1UuX8wTKYnC5dmVmyOdaYSD9xObhSVJzeWKAEzVx7iiQYcnVQCAImdUwsQFnCaXodPe0Ug6rKTThiAIRogIZZxQm+zXcQxNWRtPBG50FqAaOkFVMIEtYWja1lZrri9zGbtIu5WhPJhATCi00tQ8WebwYF8eX6pMnnFJ48avOfJe0RbOSpq6mCvtgXF0tTp1baTT5q2ywvgCnkQuUCUIVAlsz6PHarQ0hk2ziABfrtYWzmJLBujcdaV7U2ZdxpYo8gpbd\\u002f1Kk30ZoREUVeSO5gjZ5tX8J8akjdOKtUIERdImxHWeMP72YMwKffMrx6beMfTab+cKFYSty7Hnw\\u002fLWIj0AJI1SX\\u002fDCBL4Yd9vJys0tfnMp3I+G6w8ANdtb8+cl37p2Iemkdv63tPiXunA7cdvI4tX113w1R6QiKje3HPzCl09+4UsTE4YpJXFChmby5iQ1H+le98xhCH\\u002fwfmJzPQy94Sn\\u002fc+6FocjiDx9jKO5Uc6DhON3NdaUtO37Ou+JBvzuDcjk6j241lB\\u002f02HyLT3AQqOJlGcOUQ8aRdkvN6ve4zUGcUU73YEy1xa07V7stoYs8+HJ16uzlkhTueMMwdMWXL4TbKiSyjKGZF9wESIg7x2no6Dy02dJQTjr9E\\u002fQAEAwXJ2ZIU\\u002fLkOaMIhbbjwPr2A+u5nYI4jece0vXetOlbfQU3NS8apOkFWYtvYUsYmir79Olwf65zBBODhYUJRBxtBQD2zqbB11bBEMq4tHlX+rWVofJIy7YfI\\u002fvRnfoOp76j88iWXqcGZz4t23\\u002fuLt7FlbJwm3S1v32YsfB6b2DUD4Kg6hFTI+tKNphAlDpnRbC2oklPy45fDOUHGCYga4YDQ5HW5mprc3XbvrXCuBSPNfRYEhMDeu7hXO99U1jKvDEcibm+7Jy2igmuqRwBgTKeKwJw6tq4otMBodCKk7K9nzsPbWrc8FVkbcUmcjbDmU\\u002fbnjWRn1gvDE01bf4ueCUMzmMcmYQJC4JzhimnvfbX9\\u002fRl+yJrKw6OzuY+uNs5DMK560r3cCTipCxCoeUIewXl8eVZIzjCfnS3\\u002f02IwcLiSRRcEYBTH6K+7DRiqi1u27eWK\\u002f3rYu9sin75MNJp05Xuix93HlsoUMZhfEE0+p0nUaiHTeZKGabuj09sbfVc+cAzOOfu6Gx2dDYL41LYQtXQiZFNs2DkWSNQXkCmGGm3WBq4SUmKwrSM66aIMzUIijo7TO3rS5tX+Ur2eApR2hUTVBMyBXEy0uYyFTVXv7fNrbOKs7TjPry2+NGf9Afr\\u002ffsZ8cIluIQ4et+33q\\u002fKsekZ10+VZGsph6drR2XtRzsou88NN\\u002fXXu8ue\\u002fo2Il6VdOVEQJ3V2WIoe\\u002ftHZbhKlq8d\\u002fcn3J47\\u002fo9tWyd4tJ+Mfu+84v6Uf4CUp3e6QZOsRkYfHEMq4IIJyH6LRAOm1NmwfkT3nG0rpzdUxZl8YTh7kiQETxaVxZKNRDJwYvgd11bJutrY4jHBwG7dx1pXs5EtWQ8cGO\\u002fMgEzwcNJw4xdIBNyleJR7xwsbW6s\\u002fjRn0ueXN2xoZS09ChT2uUhNJLGbw8cf2hV7Uc7lOMy8v45DwBstV22uu64OT0RfJ5MqByb3rHJF\\u002ftWFKaNeOlSW1138aM\\u002fV729STkmfcQLF7PfaJ988Zi42UNq\\u002frf1+IM\\u002ftq8rcXaYAcDeoDOVtiQs7LEKfbvdOCAhdVwhUV7YewSWe\\u002f9FACNClDuSdjNXdPrQFe852+d3MeEydsWqLJyGTsrt5GRa4qGGomCCc4Ypl6N9\\u002fzqOcHAYzHM3VB5JmnoRyu9xveMiqSxjmKk2oKA9ArhQIknN5wj15VxHmDBRgfLxtj+KbHXdAGA82shupRyesud8Zp25tFWUokq+uND7tWNjWfrVk1ACp10kAGhm5AIwndt8se+M66eYS1sq3\\u002fDVotgb9eM+uk4zLbdrhy9mJ0pTHbzpc+8S7KbiZq8QANrWFOU\\u002fsICvFLkNdgDQzsxjGKbr5G4jgBK8hNsuAAB+qtayt1z38664q+fy4pWogNe5crOrsRMAEm5ZiMnEKMHr\\u002fnEn4\\u002faoL5shSI\\u002fD7l1qOXDCsq9cddEkymQ3bS9CMDT9+evrH\\u002fVFt2IYJVCcxxUBUO6+xHcHBIbRlezmCv\\u002fSGKuOckW9wwQneYccijgIVPHBC2EbThyKpsxlIBjMc6c9LkPVEY5QNXQiRxIBRe5ojkVm72x06tvZEgCwVLY7mg0jX1mWdvkEvkrMaeXgaDNiIj6CoQDQuaUcE\\u002fLUk3xu3Lg5BboDdV7rDMExWUGS\\u002fkC9f0NbXbery6Io7DEt9QfrQr4womtHJWV3x88b6v0aN7dAt7eGtPoy1yNAuzytb6\\u002fu+Gw9ZbYb\\u002ftgvHJKKCvktr\\u002f\\u002fY8el67VVzAAAQEA3P7Pj4z6YXv3VUNjvrO\\u002fS\\u002f7rUV1bW+vdqyrxwATFuOSScNAQDRiEzL\\u002fgr\\u002fnmOwsBA8RGeGPv0hQi9OfVvkBU7\\u002felibq7iiKKCDXDbRxEklKXlcEYC+7LT5jAfz3AFAV7KX47+Tpg\\u002fhiWVR3nLB+aIh\\u002f3S0hzp851epl41LvnRsxg1TO7dU1Ly\\u002fzWPyTRoQDE1aPEo7I0+QKOfJhewXRri6rYZjTXFzh3RtP0FoJIoRyWXP\\u002fu5twsV8BEU85oCZh8fs4Ml7TtxjDD0voV1kx+byhIUjmn44RMTJ5MOSS55cze0UDgQSbr+w49N1tMtDJGuEBWnJ\\u002f1oGAO7mLgAABtre+z3xrosoq6Pj03WUlXtdKKuTsjkxmUgyLk\\u002f34w6\\u002fPAYLKzSxJOkPKLa2Xiot\\u002fno4ddwhOhooD3eEDGk7cxBqA7zOAEC5HI7uVo5w0BjMcwcAR1ezo7NnrgQACIJyEnfDwZerRQnpbAlDkeEsRMrurv9iz74rPjjx2jrluIyhj1\\u002fob8q5c3bG9VPb\\u002fiw+9o\\u002fvdi95t\\u002fLNTaztoHNTmXpCJi4htDPzSZvb7yknbS6GotnqCQB4MqFfD0am7Y8iUapKVpAYNyvfY3boD0Q7DddcNsOyt8zdogMAV0u3s7a95fUfW17\\u002fsXPlZm8HR0WT17xSnDcGABiSQomAa2HcdFQ2ZSiCoaSxJ\\u002fMjBoUVsj4z2At7unDqz4gEi0GDtFsGM4VHqE7kSBxdzTH5vPuRQT53L8H5DaqhE6NJvQ42r0y1xZGdrQxJd2wqb\\u002frugGxokl+onpLdubWiY2OZs8NMeyhJThxrC+jaWcVQjHpytmZqTteOE7TH97QyJG0qblFNzPT3FGdqCK3UeDyqikhbXbe5vC1u9hDtjLzOLeUhZ47B8BNVqgsmSsbkJt27VD57lKOiiew2JT94WfKDlynmjgYATCZKffzK5H8tk4zLsxysBABXUyeuliU\\u002feJlknM+Wd1Q0iUdl2Y5Ws3Ycy5SQvaaHnygHqEGActq5or80nlNOYooJb\\u002fETm36sgIuVQT53L4bKo0lTl7Bd73yZWpKS0+vkNDg+GC79SjM1RzYsyVTc4jbYCI00cdEIY1GPWedoNihGp8oKEikXqZ6UpZmWy9oUKLu7e0913JwC2fDkus8DnLl1n+0a\\u002ffqK\\u002fH\\u002fN79hUzpMLM2+abjnR3r2zl8P20\\u002fZHUfrVkwXx0qq3A2y6CLjb9JXXvcaWdH23jf2VMtubnv+GLWE8VOPTK9kSBENRIWE9HHCcMVhYIdNVQi+BdDqIPGT99aCDZjcDB4JiuJDrAyYdp0FreBnMc\\u002fdDe1yGyphd76K4VEIZYAp5rMZwr2hx6azSIYn5DywofPOKnLtmm0pbKl7uSSqsfHOTu9s66j+XjX5jhShVVfTgD6xNAQA6NpWpxme4uizsSB8AmEtbix5aJUpXj3j50tz7zjMebyp65KcobSUA6Nx6ApcS9ka9pXLwki7lM0akPnGVYd0hznHGYGGFzEs+cxTW6QpXnS6C\\u002fccDB8YXBM99Qg5gg8NgnjsbXeke9fAA17sie2QLIYwwWCryufNBQ8WhcJ5fS0X78fu\\u002f50pP4mgxHH9wFVuy\\u002fbzX2V\\u002f1++s4Ej\\u002fGouaj937LlQIAwO4l73JFgTAUDQwMUPpVOEw7ik07QmSNxGBheUKlXPHlGq7oHIMCPYir\\u002fYb0VFKu06M1YHDPnY2jq4WzGBaC4cogleQHQVBlri9Vyk\\u002ff6hBPI9oZeZgAb99Qym04HcSgsEK+YEIQe1HVOc4+gqqdAQBiqRz8y6Ar2cuRRFghS5KSwym9tLXVBeeCnZlgIr50SIJmWm727TNbfzvu1g92lCMkMSgsl1kXvDCDMGgB0nP0CoLE8Gc\\u002fEwi+7gCARrcw8V8MY9UR+uQCzV6EmiROpaGf4PlgOHf7GYgwUTHylWX5DyzQ76+t\\u002fXgnt\\u002fk0EcLUDwvDOPXtnHwcvkwVffrcObyEnGGdyYRcry7KldT\\u002fYtAet6HysHr4FLZQPXRSc+ePbAkAoDhPkTWSLaE9buMZsNpllFhrOnt1bw0+sQ31ttYQaWPSdF\\u002fm\\u002fjmi5Kx71GmPOzgwhwm4ccO\\u002fCcGzQkXemOD8HlnmMHYOBAAYa45zrLNzxEpsCsvaWsMVAShyAoaRc\\u002fRKcIrAmU\\u002fwYnvBqaR\\u002fExzdLfbORrYE4wvk2dynIDhf1BBU7XyOWIlRYTVVBrszpKn5wWWx5wgHgqAhVxY7w3EauDk4f2f3ZbCRxSnTwQihNG0IW+I268+ENw0rhyXM+\\u002fWm8366QZqp5radDcSmsCi30xz81gAE0Y6ayRX+5QhO9A9+c2c0EAotgmJc6RlPcF47TyzjS5Uc4d8EY9VRThqaJCWHPQ7Js0ciWMBV1pcfOF2VTGziJqcTSqFAK1aPSea2nQ3EprDAm\\u002fYWhHr4lOC3rf3FCE4OxIi+uKKiWTHuDMTaElDS5SV4hay\\u002fCbTHbeRmvSPsEhxFzuieFgAAxnBmpF917mt0GRz2NnPXvrNysYCYFZa5toTzUngAQDAsbe7lobN1\\u002fipQbq7CIuR9yUGTZhRwRWcD9vb6YJWtKpgQnAH\\u002fN0FXwq2FVpzMEcX4AklKDrvJ2lwd+fU8g4ahpG3jkk+2rPjS1sJ1Sp4VxKywGIbuPLKFKwUQJ2UnTlrElf6FCE7dwAhhrC8jwAihLGMYV3o2wNB08IoofJlKM3IqR\\u002fg3wdHdau8IcL0LtcleZ64sYyhn1n8WpV+d4cSssABAX7YveLFEAIgbO1dbOJsr\\u002fatg72gM9kEoggrxI6MdPSs4\\u002fn22EOxpBoDEyRfyZX9xb0A4gtd6945G0oyARB\\u002fK7TTVhCiLO0cf6EsGI0PTLdt\\u002fyl56Z\\u002fAcMGnqYkKubtm5OjiYeLZDuRwuQxen8l4zfEr38R3Bc6WQCLUpcWPOYoXu6G4x1RZz3lWF8vhZS26r\\u002ffX9YEfBXx5j1dGkaUvYWXXStPzuol3S1IDVWY1Vx0Jm3vpRF6akzM9TjkgUqMUoH3ObnC693VDa3n2oqX2nbx0+L5pxqZPeWOJot2xe\\u002fgUAyPO0WctHq0YmEWqRx+q2txg79jZUr+R6mcXJ8tnfXsMR7rn7J31RG0cYAAJJs3KS5uXL87SEUoggiNvisrcYDaXt7Tvr9MWtnOF7yn8vVY1ILHp1S+OaMtXIxKzlhcrhCTwp4dLbuw42VX992B44CS18cn7yeXmUi9y49FPSFvrv4+1Du6mNSz\\u002f1WF3QNwsLAKwtNR2HfSsHclAPn5J\\u002f+QPBr2DrFVwgVuSOFidkcBvOGEx13PpPXCRNnbMimheoCONSspfcftbluHNo2\\u002f178KoYhFyTu+w+zlMaDUJNMif2f3ZBe9yGwDfxiBMzhZpEzhImhvDzQZ6UmPDq4slvLU29YKgkTYmL+SgPE2jE8jxtxsUjsi7nFk57IdQiAEi9YOi09y9Lnp8vTJCiPIxQCpXDE7XjQuSaUC7SWN5hbzWH0wvBYAJ80htLxzxzfsK0TGGcBOVhCI56fyJrReHkty8WaEIv0yLNVGcuGzX57UsSZmQRKhHKw4Tx0rQLh878\\u002fArthIBwU8PqEgDACDxlfj5b7gcX8hKmZQFA+65ar7aCvllYXjr2rxNqkmSB1q8XQhmXsegGp6HDUHHIXF\\u002fu1LUFT6YAAEFRvlwjiksTxaeJEzOF2iQApGXHz7b2em7XMwNd8S5t4UxOJaA8e2TmhTc3b10VzquK8oi4MXO0hTP7lgZxRuEydbftWZM842KOHBdJs5bcbm2u6jyy1dpSHcG+xgVicVKWOClLljmMkGv0ZfstwYkyZw+6kr2aET1ePIwQcrwELkNnuPsZI\\u002fBJby6V52oBwN5ubv6zwlzTTTlJgUYsy9HET8lsWhN6RReUhyXOzhn54GxHu6XxjzJLTTcAiJLkcZPSO0PF\\u002fpzdtl23+dalST4vr\\u002fDJ+YHtIci7boJmbAoANK0tb91S5eyyISiIEmWKYQnxUzLtrSZnl5W7DQAAJM7OIVQiQ2l73arj1gYDRmBxkzOyrxyDEfi45xdtu\\u002fZrR7tvlSp9UaulXi\\u002fNUKVeOLT+lxBT5oSZ2ZgAB4CmP8v9wr4rLIahG9Z9kXXRrf5XLnMQKOMTJ1+QOPkCyu10G7vdVgPtcTM0jfH4KCHky1R8qSoa2+TMwW0xGCuPBi8nIk0bMuTqx0y1xZamSrepi3TaUZyHC8R8mUqSmidJyWXPGmiPW19+QDNyGmsHZxPdRTuFmsSQSxRIUnIlKbkMRVpba91mPeW0kU47gmEYj8AEIkKuIRRankT+VwosOnWt9o4GUXzPku2cMsMI7va86yd4tVXLxhPHX97iX9TYS+nbOyP8nQofn9exq+7IM+vZW9X9eJzVJTRMmKW4OMRPywSAzr31x1\\u002fumUiZa3Ttu+oqPtjr1SMhEWjEumMt+\\u002f75q3\\u002fhPWNFp7Gic8IrF2ICPP+mScde2Ojv3Phb6bB7p8tztfL8ONOJTr\\u002fcS\\u002fL8fABwdtu6D\\u002fYs6RP2h6OBJj01v36Qdt4V\\u002foBuSDC+QBiXEq6i\\u002feyiZcfP4qSs4IRJBMMUuaMVuaM58mCat\\u002f\\u002fo6Go5exUWADRv\\u002fREQTFUQOgkLwfA+TA\\u002fPXnSl+9gKiz04MQxtOMH1KHnBBHj60uEAYGsyBmsrH+F1i8fqPvbCxtBb9R8MHfoIKGdYCxoAqj4\\u002fyFkmtHNvvf54q2pUUuLM7OLXt\\u002fo3b15XMeS2yRiBp104tDhQYREqkWZMCgC0rD\\u002fBPoxTNXAYimxYv7Jlxy+0J9rp8VkN5XI0\\u002fPlFlF72YNr2\\u002fG6oOOTSdwR7gs4iGIZu2vxd294\\u002fOC8u\\u002fntirORmvfuxNp4IzobxohyeiIv5ANDwW0kf9E7r5krSMYC3kO54CwDET83Mv3kSLorBlcGQtL44hC+\\u002fY089AGAC3GtUevFYXa1bqgAg+bw8jtWWPC\\u002fP+25q9nwQTl1heeku2nni21cNJw4zp76oW2idfgZh72ys+uH\\u002fnHpubV1kaLerYf2XnUe2AgDD0E5dK7fHWQbTeXhz1ao3Y339Mod+uGFONzTJdb37iTAflGX7luo1lITIEOoVc3U3V9SvVH520NFpBYDca8ed9\\u002fP1Ix6YpRweVa27o8saUv9aG30eXnGqgi1v\\u002fK0UAHAxP2l2LluePC8fAIzlHf4NvZzSlJCN26xv3Ph1+4F16mGTFbmFwZOmyJAOq7m+zFh1zNpcyW0783CZuqt+eEM1dJK2cFavZ0qTHsOJw+37\\u002f2Qvim\\u002fvbGbPI85SHF3N1T+9I0nJ1YycJksviD4GylCkpalSX3HQXFfCbTsL4bjevVBOe3BY2Q9f7ps5unT2wJao8EfNBgiXzrbzpu\\u002fyb5mUtmgoLuKnXzQ8\\u002faLh1gZD7apjTWvLGTLsMEPaQ9t9HsvJMJ84wF4zlLabq7tlOZq0xUP9xpQkTSnP00KQeQX9qLC8uE26tj1r2vb8IVAniBMzRXGpfLmGL1VihBDF+QiK0qSHpjy0x03azG6LwW3RO3Vt9vYGlym2EaPovYe4osGFJj3dRTt1JXu8MS9xYiZfosAEIowQAgOUx+k26536dmtzlbmuNHgK2bL9p5btP3GEEWjbs6ZtzxqutE\\u002fU\\u002f\\u002fEpV3RqWJurrM1VKJ+QpuSJEtKFmiSeVMkTyVCch6CY93LTHpfbYnCbdC5jl6293t7REPI1lyE5k8\\u002fdi1PXam9v4Lwt1VB5JEK0FDmZwxilF5xLnzaKCbfJWfyfbVVfHEpbPCztggKBViJJV458YHbWZaMPP\\u002fmnpS502h2ChY4UeOd3ACGOvOG3khH3z1IOT5RmqCz1egBIWZAPALSHat1cxencPwoLE4nl46eIc4bwtXEoIQCaohx2t67bVlvV9Av3LSCpN94lzM5GQElAOgEgBQAA\\u002ffZN3ZvXcnqe+TA05X1cuQ1nCUlP3URbbO1vfMdtiB3a7TLVFptqQ8Sn+52Ef11B6i3dn\\u002fWPFusfgp7TCPNBAHBbfG4vvlLo6Ogxvc80nF3Wyk\\u002f3V31+QDshLevyQs2YFEm6cvzLF26\\u002f7puQrndeoAHlhyclvB+CbcOWDZUFd0zFhbzUC4aW\\u002fXcXACSdlwcA7bvq\\u002fHaZn37wYfE1cRl3P6SZu1CYnomJxAiGITw+LlOIMnMESSEig+c8tacFTCrip8VzpQPJgP4iQ4Z4Wk4XQk0SZ4Lv1LU5uprZEg5+C0VZMFB\\u002fon6EoZnOfQ37\\u002frG68tP9ACBKlCVMD5PMpJGETHqQpPs8J7YmY0ADAGl3t26qBIDk+fkIhiqGxosSZQDQHDQfhH6xsBIuvhyTSAGAslktpUWkUQ8oggnFRHyitbSI2xug+fP3UEKAicSYWCwbNU4x8SwO8J9FSKaP4idruz76jdswYAzcL7a\\u002f\\u002fi1XdFrh5F5Bb+YVAOiLWikXiRF42kXDG34tCZdAcKZR+\\u002f2xvBsnAoA4Rc5t84KAZmxqx25uKCZ+SgYAUE5PyHBBw68laYuHEUqhZmyKdnwqALh0tq4Djdx+p66weEq1IDUDAGi3u+G9N0izkdMhJLTLSbucHoNOkByQrX+OgUM0MofUmbjSgWTwf\\u002fG0gPIIzmrIDE2Fixv6IW3uprXlGRePkGWrh903o\\u002fStHcE6C+VhISNuAw1G4LiEcOls3AYAxbAE74dwme4AkHf9+K6DjbS758jjp2Z6g4ytW6opVwjT2FTZZarolA+Ji5+coR6bAgDNGwLSr\\u002fycqsIi4n0nYK+uiFJbnSMkotG5quVzLbuOqy4\\u002fz36owvDz9oSHrkZwtOPN752Vvkxf4chs1YrziPQE2uGy7SvVfbOBdrggyBWFigWZn\\u002f67890fLTuPA0DCv64QFGRgUhEAyM7zZXvWXvmUN7uPoWjlJTNl8yZgYqG7qaN75TpnRQMAZH76WOf7q20HylAhkfnZv20Hy712TcIDV3radLqv12NysWLJDHFhHq6R0zano7xe9+WfpMHS6y8CAD8tQX3NAmF+OkNR9iMnuj9fS1l8wbLMz\\u002f7d\\u002fvq3uEahvGQmrpaT3aa2Fz73dPpi22lv\\u002f5MXrwIA657ijrd+8Aq9JD11k6O4GmhGNn8iJgk4FwAQFeapVszlp8QhPN897yita322H3zwyrwxnJdNmGqLSUfY59lPxYd7teNTxSmKjItHqEcnN2+osNbpaZImVCJRokwzLpV2U\\u002fv+uZq72anhd\\u002fYHr1zgh1CKZn93je5Ic9ehJnNVt7PbBsDwFSLNmOTMZaMAwGN2tu+o5W4GAAAei0ueHzf1vWW13x411+hQHho3OSP3mnEAQDo83hllSBp+LRk5ZE7c1AxRgnc+GLpg61QVFioQej94TMaAhnPEDj81Dtcouj\\u002f6Le7uZbwkTfenaxSLpyqXzWl78QsAEA7PSnr0WvO2o\\u002fqvN2AyseqKeYlp8S3PfAq9+QS7P18LKJL07+tcNa2673yFEX7dIRqdi8cpuz76jXF7VMvnJjxwZeM9b9AOl6u+nZ8WbztQRuSkUCYbkZvq7c9PS7DuKQYAxuXBVTLD6h2eNh0vQaW5\\u002fgL0Vn7bK1\\u002f1+ou8eGXyszc7yuraXv0KFRDqq+YnPHBly1Mfe1sBQL5wMsrndX++lrY7hUPSPV1Gf1PjfW+iIkHS49f5JWzki6Z4OvRdH3PPhZeoSXjgSsOPW9te+IKfmZj40NWGH7caVu\\u002fgbt8HEEQ7eiZH1l20iyMJCWlz7733l7HPLVQOS5Bmqgpu484rdcdaOJI+IElTjn58Hi7i8SQELuZjhO+Rn\\u002fLOJZSTJO1uj9VF2j3HX9zkjdB5QVBEMy5VE6qU2mNxHXriT7c5dK6soaTNUNaRf9NETsUi5SQP\\u002f3utN7crJC2bK4fePc2rrYwVneyDYXNqCgtBUP8ywb09NufoFYTPM\\u002f2+izRYVJfPc1U1249V4nEKxWKfj0+1fK6zsqnrg9Xer+7WrtTX7pZMKLDuC5vs48U7L2Momna6SNbD7wXBsfaXV3oNnG6rI+WVO4nsZEdJrauulZ8aBwCC3FTr3mLZeeNxlYy2O3lxClddGwDQTnfHm74QsLOykZeokS\\u002f0FRhG\\u002fkXF0pm0w9Xxf98zHhIAKIst+dlbhCOyHcU13g78ZE3Tv97xKji\\u002fieSDYWibgwkzUUIJXshzERXmMh7SsHoHMIyjqMZ+rEpQkA6ruZv3AWX+WM6KQ47uFltraOsjGGe3bfedPyZMy0qak6sYFk8oRAiKuIwOV7et+0hz29Zq7gaxg4l4iiEBR+gHE+CYACdUIghMj7J3mPc\\u002f+FvizBx5vlYUL8VFfEDAY3NbGwxd+xsafi1xm0JrKwDgyQRVXxzUF7VlLR+lHJaAi\\u002fm+5WW+OmRvDZ3074Vyks0bTmRcPALCuNu9xKywxLlDZGMm8mRyXCbHJDL\\u002fSvvKqbOUU2exe7o72+vffZUtOXUQFBVl54nzhwmSU3kqDUoIGNJD2WyujlZrWbGl+Agnu0c9a756zvkAoN+xqXtTpLSJtFvuE6SmA0Dz5+\\u002fZa4PSFBBEUjBCOmyUIDUdF0sZmibNRntNpenwPldHG7czi9Qb7xJmZFsrSlq\\u002f+RS8+R9jJ0qGjeYplCifIK0Wd1e7vfqEYd9Ob3\\u002fSaAUA2ubweJ95hwvl8wAAwTFBbor++83+PbsbO0idWTg8u1eFFRlXbat\\u002fOua1ZTCFBABcda2iwjwAEOSmWPeWuJs6iJwUymihnW5Pu65n+5N4OvWokEAwlFNHFoxwWKajtM6rrQDAVdsKDENkJvoVlv1YVa87CUm4c0EFfKBoOJnxxFAUgvvu21MBF4iTpl7EEXYc2MCR9AID7TtrOetehaP7UNOaGe9ypRExVXTGugkw0LW\\u002fsWt\\u002fCJ93r2B8HAB0R5t1R5u5bb3hvei0h2oJSr\\u002fyE7PCIpJSpcNGcaWDgignP2Hp5bgsIDyB8AmUT\\u002fCUKsmQ4cqps1q+\\u002fIC09Chy09GD6tkLAEFko8Z2b\\u002f7Tf8ty4KnUXm1Fmoz2Ou6whssVSSuuF6Sk+SUIAF8bz9fGKyZMNezb2bXh98gGJi6VAYAgNT35ypswscQv5ymUPIWSJ1ca9u4AAKBZD5X7pG8SAQBAhQSgKGX1PY1eKIsNlYrYkpOEdU8EQ5nZvlUGTro5XHVtvAQ1gmFEToru6w2u6hYiO5nsNLjq27wHiWCobN548aThvDgVJhNFrwIwiUg6fZR0esBdhCu9CXkAAJQ54DSjJ9y52I9WqZbPlc0bb9l2lJ8WLxqVq\\u002ftqPatnX0AwPP38azlLX9k7GvsxE2396rjvfrT\\u002f\\u002fJvdZI50d51ZxHDrBYBgaNLcPADo2F3nCTPfhD4oLEvxUVd7z9RalJWnnDwDAKzlxaYjAR412sVN+jpFPPpuXCIFANrtdjTWutpbKbsNE4kFCcminHwAIOITE5Zd3fzZ\\u002f\\u002fybkCaDvb5GlJmDy5XC9CxHvW8M5yAbNc77wXz8EEep4TJF2i33ebUkZbNaT5R6dN0IjhMJSeLcAgTHlVNm4jJ52w9fsrfigEvlfE1cyjW3oQIBaTE7Gusomw0TiwltPD8uwXqijLtBELTdxVA0JhWzhZhU7KryjmMM24eKyQO69UIYJe5p7WZIUjAkDeHh7pYuZ02LZNIwlI+761q9HdTXLZJOG9X9+R+O8nrKaJXOHK29ZUngPkJD2Rz2ompjoAspUNf0lTDn4qpr7f58rfbmizTXX0DqzcbVO8ybD3E7xQJfpkqde4UkOTAXiWFad\\u002f0aIDk1zBbmtRcUrzynWLfR8e0q+8atjjMp+ayfSZyZTSiFANDwW6QZQ8wKy6Pv9uh7Mikwke\\u002fZ8Oh1tigevFPBo9d1b13n6e6ynijl5A2KsvNSrrkVUFSUmUPEJ7k6fA8VAJiPHhRl5gCAbPS48ArLF5Y2Hz0Y2AKJy67yaitrWVH7L9+ytTBPpUm++ma+Jk46fLSzqd5nJYUCk0gTV1yLYGj7L9+Zjx1kP1d8tZaO4jZkKMpZ0SAqzDP8st0r4afF42qZo6wOACijlZeg8ncWFmT4P\\u002fthnG6Ez+NKI8Aw7oZ28YRhrupmYBhXdbNq+RxgGOveEm+7eNwQ6+4iy45j3q9EeqJ\\u002fUy\\u002fhftFRUivISXE1tIfTLwOBdGah\\u002ftuNMTnapekFPLHcY9FTbpd3jWOMEAqU8dLUPFnmsODCya7jO06xFJzDZdd0qZToxYtFl10s+vYzjU5P\\u002f7ja9u2P9mNFbm7XsxxczM+\\u002feSIAmKq6ug\\u002f3rH4VDPePfoaj376JKwIAAHtNpenoAfnYSQAgTM9gKyxr2XH6wktQPiEdOqpzzU\\u002fBGdKC1HSeSgMAzqZ6t66L3STKzhNmZAOAu7uzbdVKjoPMo+9u+erjjLsfQnBcPXuB6fB+2h3aqERQlIhLbPn6Y1sl15vI+cUI6L\\u002fblPT0jdrbllp3HsdkItUV8101Lbb9pQBgP1YVd+clyktnOYpr+WlxioumB+sCZ3WzdPpo8YShZLcJFQv8DqMIuGrbxBOHWrYeBgB3SxcqEhCZSbqvfT4aT5tOODxLkJtKuzzisfniiUMDNg7\\u002fi4aft6W+fGfCA1eYNx6i7Q5coxAV5um+\\u002fNPvfooAgmGoiEB4GMLnYVIRbXdFU5OI8HAiI8H4xx5AkOC\\u002fTDhkGQWaEdO40jA4uprb90VykvYNvYH+5EvrJ19aU5KxSy8SLblQdOsN0spqz3c\\u002f2b\\u002f5wdbR2fu5n7FI0pS4iEe5SHGqIveaceIUBTBQ+vbO4GJDNmeZwoqAs7XJq7AwcY83BABot9taViQbPR4VCCRDhltKjrFbgTUfNB3jmlfyMRO8Hwy7t4V8MDz6bmtZkXTkGFQglI4oNB3ex+1xElvNiWBtFRPOysa25z9XXTE\\u002f8bFraafbdrBc99V6r5\\u002fSsuMYrlXI5o5TXjzT3dDe8faq+HuXczbXr9qCySVxty8FBPG0djdHo7DqWuXnT3R6Z50M46prFWSnuFt99nXXx79pb74o6YkbGJKyHa5offaz1NfvYW8e7hfJLmPz4x+oLj8v\\u002ft5lCJ9HGiyO4hraHbrKn43iginqaxd6PxNZIP74UQDo+vDXXud3DEnZjlbG37Ms\\u002fp5lAEBZ7I6i6q6PfvNmsZ06bouhbs3HA7rGWXMLtWe\\u002fKzEB06rRpETsn3dJH3tA9skX1qdfNDldER\\u002fxM5WMS0d6Y4J+Kj7cqz\\u002feY2qEpK8uspPICscnXHwFABh2b+taH3MRhmLitLgLLoH+KH6WDhuVuOI6ANDv3NK9cQ27SZSZk3LDnQBgO1Ha8vUn7CYEw7IefBoTiRmSrHn1KdrpYLdmPfCUdz5Y+\\u002fqzZJhEM9nIsQnLrgIAS\\u002fGRtlVfcVq9UUIA6Ph9lengXk7rOQYDBEl67Dra4zH+totxugFBMKVUe8tF1p3Hdd9Eiuglz7wkGgvL3tlUv\\u002fYzj9XIbegn4rTY5ZeKrrlCnJfDO3jE\\u002fflX1p9+s1MkLLlQ+PyTig2bnfc8EDplaZDxvjXHXN2948aoaumzrxiTfvFwgUpMk5Spsqvuh2Ptu3qfUJ99FhbKJ8R5BYLUDCIuAZNIMaEQ4fFRHEfCv+\\u002fPXl\\u002fjMep5CpUoZwgmElP2Hv+uOHeI1w1nrSjhaCuUz\\u002fdqK9rtDqetAMDd3eH9wNf6kv5D4u7q5IrOMSjwEtXCkdnND\\u002f\\u002fPVX8yAaUOPK3duFoe0C92KJej6\\u002fiOzsObIywjcyqcf57wmivE558ntNro73+yX3+brrSix4hb9Yvd6WT++4bqngdY25w+9tz1E1cUkZpvj9R8e4Qr7Y2zSmGhqHrGecppszmVEL3DMOZjh9Sz5iMYJh1RaNy\\u002fy98i9ccHg9ztqMCXMUC7wgZZAYBy+NQcJgyZYeAj8k7OMXCQOhPtcCkWTzP+sYd2ODGZWDxhqHBYZvv\\u002f+bJew2GuLUEQlFBo+TIVyhdgPAIAoVx20mG1dzRaW6pNdSXhvJb9wvdfaPYddN39L\\u002f3qNXaHM8S8r7WNCl9g89fkbFJYSSuukxSMAABgGFtVua36hLuznbRaaKeDdrulw0bFL+E6bvyYjx1Uz5oPALJR4\\u002fwKCxUIJPnDAIC0mG01J9j9AQCiXL03yjsmxP12jsGAcXnaXvxCtXxu4mPXYmIBbXe56tva3\\u002fjOdqCXoLalqdLSVMmVDiITZ7dXVEbyi1XWkIsu7U\\u002fL\\u002fbOPVO0d1KOPm7gNZwxnjcKSDh\\u002ft1Va009H85QfOZm4abuRltjx6naOhTpieKUhJ46u13ticdOgoBMcBwHL8cHDmJ+XwBa2wk\\u002fWSIfG3+vuf40zDWdnU+vznXOkZT2RtBQAWC11cyr1vTwUEAbfnjB5aUa7gTEU6otD7Qb9zc7C2AgBMFGlGBgDmk0FA6cgx3g+S4aO8H4LjgwDAkKTHoAMAhMfjKXqynDjwtfHeD+4unzPrHOc4S7n+Zv1Tz0Sq+DvtnDUKC5crvR9CaisA6HVpLUvJMcbjgZMKCxUIRZm5AOBsaXJ3tnM6e\\u002fEXFYpyhwS29CDOLfB+sIfJSj3HOfrGPbdJr14h9n5Wq9Dff9C216T89JVWrTprHtt+56w5c+Zkkos\\u002ft54NT6XxubfCQ7uc1vJiAOCrtURcoiR\\u002fmLdy2295BWM6uMf7QTllpnfyyIGn0kiGjgQA2u2yFB\\u002flNp\\u002fjHKfAlcvFKqXvCX3xKcWQPN6zL5tSkrGnHlEE9GMhFCJPPCY7uCe+uT7xRGnCbz9rkpN6ajyrKxKmTyOuWCE6sCeuuT5x\\u002f+64tDRf64E9cZ0tSZ0tSR++57MM2EyfSvz+i6a6IqGuMnHH5rg7b\\u002fNVUK5ZrbnnLskD\\u002f5SWHE1orEn86gtVYkK0JaV9I8RDeGbiamsRpmUCgKxwvKX0OLuJp1InX32zf92ICJiOHfSaV+L8oURSCgAwFBVB0Thbmy0lx6TDR\\u002fPV2sTLrmn\\u002f+Vt2sI+nVCdffbNXkel3buZkRZzjHKdIeip+rNgDAAlx2LKl4jvv133\\u002fk72pmXz1uRA6BQAwDL77Sj10KP76G9ajx91yGTpxAr+tPSDh+ZabxEIB8viTZrOFnjiB39zsa504tVMuQ3\\u002f4Vs3u7CUuDv1mpWrl1\\u002fZnnjcLBciIETyDscdxdvedkt273XfcY5DJkOeekn\\u002f6kXLh4p7SvX5n0BUWgqB8PkoIMYEQFQj8DiCeSiVMz6KdTtrloJxO2uXklFCYDu1TTJgKCCLOG5p6092W4qOkxYwJRcKMbOnw0QiOm47sl4+ZyN4kGHtNJWk24TK5KCvXO4W0nShlp2UF0\\u002fHbD0RcAj8uQVIwIvOfWdaKEo+uG8EwfnyiJH+YV1vZqsr1OzZztzxlED5PcfF5ovHDMYWU7DJYNu6xbNnP7dTfzJ71\\u002fIGD79hsof1xGRlzUAStrQtdINVf4Cq5YFQ+kZHMS0vEZBJURKACAcMwjNtDW22kwUy269zN7e6aJlddM\\u002fRpIZrTS5RXlqIZp5MGgCuWi\\u002fUG6udfHQDQ2kZptaEnRvPnCSZP4l95jX7TFt+wumETN5kmNwefPrvTW5+2b39PTSLDgNFEu90hPO4Z6ThBICu\\u002ftpdXeABg5+6ATA6agtvvNng3dDiY775STxjPP3BwoKodB1th5T7+EsLjc6UA0hFjpCN8vnAAAIZp+N\\u002fr7JJAV0dr5x8\\u002fxS26BFBUmJ4lTM\\u002fq6UzTui3rdNs2SPKGel+HERaGMR8\\u002fpJo+V5Sd5xVEmA96oZ3Opk\\u002feSVh2tTi3ABOJuTqRYUxH9neu+Sn6CrXoUSybLzvfl2nNS45TXb+UstjsB0sCew0q9fVbuKJ+hZ+Volg6VzgyD1DuM4kAIDiGigR4nBryM71CV2V9+\\u002fMfBHY8C4jyypaWe5YtFdtszB03ST77yuYhGQCI02Jmc+ibbepkwmyh\\u002fdoqJFu2uoKqaXvh2HFPTS256lv1h59Yv\\u002f\\u002fBwSlgLCn1+NXc7j1uABg2lPfXUViAcG\\u002fE0CAIe70UL8YDe5wtzcrJM4QZWZhYypAkaTU7GmpNB3Y7W5sBwNHcIBkynLMVB\\u002fPRg6rpc72fKZvVVlUR2B4CyuFoWfmROGeIbPQ4QVomLpEyFEWajfbaKtORA662Zu4G\\u002fYR4ymiuZNKo4Nv6L4P8wlmKS+cBFt0dAgAAzvJaruhsIMor++J\\u002fzKtWam67UVJdS77zgcUrnDyRKD8ROt1BpUQ7OnqxN3W6XjoE43Yz8xd13XGb5LabJY88KPtlteOJZ0x6vW8\\u002fRlPPDl0uxulkNJoYrmCsRFJYcVdfY969y1kXosBHPn2GdPw4W1GxYdNGf464aNgwfny8cUvoQZhIT1fMnFX17EMcuTA721ETEF8TDR2qnDdfteRCw8aNztqAO9LZ0tj241fsX2e3elf1jIy7u7Pyyfu50iiwVVfYqnvXbhyaPv0vVxQlGIrJfK7NHplKnpIyWSTSqlV5JOVsbNiRl7fEaKwtLvkaAmdziQljkpMnHjr8HgDMnvVcWdmqrOwFfJ7IbG4uK1\\u002flcpkBIClxXGrqVIFAQdNkQ+OOxsad3l9Rq\\u002fNGjryW01kmSykoWCYgFO0dx06cWH3yiADD+DnZCzWaAgRBOjqLa2rW0TQJADyeeMiQixXyDBTF7HZdecVPVuvJyphQSOdNUSxfwJX2huN4ULrvmU+YK8uRAMCO3c6Rk9oy0\\u002fGjx92uk1bMgUOuX9eEzvgzW+hws8VTxGJhXv2P5f\\u002fetC5ZInjmCflH7ysvXa7zNsmkPb9IEIhAgHR2xqwToyeSwoqAaecOhiQxcUDAzl5aai+NtPhWSJTnL3T89122RDpuvO7XX531IRSll5C\\u002f\\u002fleDoimTFZMH3NmU0YIDqJQ5Bw6+PabwloSEwj17X5ky+UGhUOVw6Nk9A0GSkycdPvweRbmGD7sqI2POiROrE+JHZ2aeV1zytcXSzOdLUbTnTtCoCzidAcBsbt6\\u002f\\u002f83c3AvZPQEgN\\u002fdCHCP27X8DQbCRI67JSJ\\u002fl9XClpU6jaXLX7pcAQC5Pczh893dIeMnxyisXcaUnoe1O2uFEMAwVC\\u002f3vvAEA2mp31URaO+kMJcyVZX\\u002f109FJcaZga9aFje3s3ee+8Xrx9GnEzl0DUjDkIZkff3KoVei\\u002fH5H5haNH8fh8xDsrnDaVDwClZaENwH4hhMJSzp8vyh9CmkyY1Pc3lU2aJB5diKCoo6bGsH5dYHcfsqlTpePGO6qr9H\\u002f84ZWoL1yMq1S4SoWJRN2rf6FsNkwqib\\u002f2OkwmJQ3Gzm++5sfHK+bOJVJSEm66GQDaP\\u002f2Ep1Ipz18oyMzEpFLa6ez85mteXJxi5qyOL78AgPhrrzNu3+ZqaGD\\u002f7oBCZKcSOWkAwJCUZXPYpWMGCNveY35PBwAAw1i3HiBAZbG2UpTbauuw27ooyu10mfh8SUSFBY2NO9xuKwB0dZclJIwGgKSk8Y1NO83mJgDw2lAROocDQbDEhDEHDr5NUW4AaG09kJEx26uwnC5jXPxIraagW1duNIYde7zILpgRHOR1ltdaNux2VjbQlp6oCILjmErGT0\\u002fiZyQzDtdAuA4HgZBXtudrILOmC0YN5yXEY++8b2ltp1RK1OFkHI4QJ772T+fRY56P31e+\\u002fJqlpNQjlSKTJxIffxrVslk8HJHKED4fEQgQpRK1WhivywwAFp4vmDCOv2+\\u002fu6uLTkhEr75SvGdvj4uKz0c++1j5wUc2iQR5\\u002fhn5gYPuQ4cHyoEFwQqLp40TFQxtefstQJDUBx8EAJ5aLSkc0\\u002fr+e8AwibfdTqSmuppCDGvm3btpp5Of4FuxAMEw0dChTa++ggqFSXfcYS8rI9LTcYWy7YMPGJJMuusufny8u72969tvBY9mtn\\u002fysXcrj07X+fVX8TfcYNy0KeSvDDLyxbOFYwoAgHG5B19hGX\\u002fcABQtmjACk0s8LR3GXzY7ik5AymSvdmAYmqLdAAAMgwTn0wV6AJ0uo\\u002fcDQ5MoggEAIVA4HQZ2Hz\\u002fBncNBEFIEQceNvdMvoSjf2N7Ssp\\u002f0OFJTp+XlXdTUvLuxcScTpjYTFRLiSaM4QvO6XYZvfCOfH75KXPDAvOOPrSY79RyPT8ZVExIXDT\\u002f20M+OFiNbHgFhksLRauRKAQBAOy1bkh1X98Vev6QP+49A6CsbhFqFfvWxZspEgmEAQeCbVbbWduqlpxUuF9z7UIjxyUMyyy7vfuRB2b13S+LjMLOZPl7kiabU5vZbJM8+7TeaeCdKEgDgXw8ZV35tB4COdrpwNP+KFSKpDOnqojdvcb3wcs8It2ato6WVev9dpUSCbN\\u002fpevDhga1DDFJYGrW7vQ0YBhjG3d4BALz4BFyjSbz1Nm8HlIhqpQSGohzV1fHXXQ8App0+54irpcW74CdlsSLR7SeAoMjRwIKhRAErFjnoMG6P4fs\\u002fDd\\u002f\\u002fyW0IA8PQfv1CED1GOwAwQZaIy2USCBQcoZfgzuFwuSwMQx84+HZI+66js6ijs0giSRgx\\u002fGq329rWdpjbAwAA+NlpnBdYkJ266M\\u002faS\\u002f3XB8RZGq40PHyVOPXSwsp3tnIbegj4I8S6\\u002f8hEeWVffkap1WALlnYePe7urEvxCtdvdj79aAiHlxeLhfn3k6Z\\u002fPxlaa+QMCV3R8f5H1vc\\u002fsnKlJzlyzL10WTdXehI+H3n5VcvLr4ae0vY7XIXl0ev5CYne8Zmn1QKAp6OdNBraPvoQaBrBsMg1xmwwiUS\\u002fdq2HvQ5U0LYMwyA8HoRfuJZxubwzUwTD+ImJ3OaBhMhKRYWxa9XTh83eGRc\\u002fwmprEwhUiQljPZ5I+WXtbUcyMucaTQ0WSyuPJyQIeWSneEgYhmprO5ydff6JE794PE6hQMHjS7zTTKUy227vcrnMTqfR47Ej4S01IjuVI7HtPsbJrhrywDxcxPeYfe6b7JunChLlmIBX8\\u002fEuW10I71hwh4R5BfFz8mk3pTtQZ67oyLh6oiRTXfDwgu49NV27qoc+cj7Kw3gKUeVbm20NegBQjEge+uj5hFZS+dZWW0NUP9HvnD9PcPt9+n0HAxxSzS1kwgBnk8dEUDB\\u002fYAlSWB0djsrK5Hvu9eh1pE4HAB6dzrJ3X+JttwNNA4K0f\\u002fIJgiKaS5fxExIQDOPFx+nXrqVMJu2Ky3nx8ahAgCuUhg0bKLMJUESzbBnQNMrnd377DeeHfDCM7fix5Pv+Qer1XkcVB3dHB2k0Jd19N2W2eNrbAQAlCM6vk4bQU5tTRDA8hys6szlx4tch+RenJE92OHSNjTsSE8dye7BobTuMYrxhQ5cThJyiXPUN2yIrrCH5SxWKLIKQASBKZbbV0lpS+i0AVFatycycO37c3Tye2OUy19dv8SosuTx92NDlGEZQlLurqySceQUAuJabt81xpcuHJwEDJc\\u002f+oRydmrZ8rHxYEibilz63VpSiyLltRtETv7E7A0BwB55cmLxk1JF7vvcbj42rDiecV1D59hbv17KX1gGAdlqOdnqurWE\\u002fALiNjrKX1knz4tOvmlD2ItcUCv4JTod+gYcjVht3IJfL0ZAOrL8JXIUFAPo\\u002f10LgBbIcOmg51JNgyQB0fvM1qx0AgKOS5DNmOCqrzHt2A4Bq0SJBRqbl0EG\\u002fSmLrpu5ffvF\\u002f9tLx2Wc9Xxim8+uver4CQKhfHwiEw3O5ojOA5mafY6Wi4mfvh4OHfJkTZnPTgYNvez8DQEurz4+7ddvjfmFb+5G29iMAAMA0N+\\u002f1781PmM5QwUplYEPTnpqadTU13FBMff2WKLNMUZGQIyF1ASOQMFFubzYAgL3FAACiNKViePKwJxYBgK0xxFQ0uIMwUW6r04Wb6uJiIu\\u002fe2aTVRajF\\u002fh062kwA4Gg2COJDpCIH\\u002f8RAsPeA646bJfsOuPw5DSgKN1wt2bYzUmroX5sQCqtfsJeXay5dJhqSDyhG22zGzZu5Pc5sUAFBZHGnKucYCILn3YwzIMzkbDcrRiYDgDBBDgD2RoOlurP81Q3sPmyCOzjbzeIMFSA9jinGQ2EC382vmZzpaDXWfbEv+aJRhMaXKyNMlAOAMEXpbA8IoXoJ\\u002fomB4PHnjOt\\u002fiTu2N9FbDfOve2R5ubykBGzuhaELpwafC5eG9W0NEAOlsDxdXW3vv8eVnj0QBVkxpVyfo+8EJTRwTCFjcUviwmHDn7zA0WZiaNpU2qoalz78qQsBQLe\\u002frm1dKV8pyrh6omxIQtYNU\\u002fSHGtrWlXI6uI32tj9LR710MeVwG440tfxeZKvXEVrJ8KcubN9QZixuTV4yShAno92kx+IzXhAMGfro+YRafOLtrcH7Dz4G1vH2G6XlnmkLOu6\\u002fWzZjKmEy02NG8bfvdl3+lrmxieR2\\u002fdswuB6zswfVNYul86b4vzIud+MtT7Haz9FvxD92q2BIJlvS\\u002fI+XKX3oONc5\\u002fubEZmER2alEQRY\\u002fJYGXEo9JRIiAQAV8xkPSTjfjcJI6o6e929Pe7apqcNe3BscE+wAqEhB5Gfz0JH56Ei9ejYqFqFiI4DjtdNFOF213kq2d7qZ2d22zo7ymvwr3UalYMMJXHf03YfCvLAAAimJyCUrwuPJzDACYQioaM5QoyOInxWEqOSLgA0XTVjtlc3ia2l0n6h2lVWRn\\u002f\\u002fjj8ASNsCCbn5vGT0s8+cxilMlKGS2uijrbgWJ3XTN3m+iIysJCCL7s\\u002fGmSGeOCAzrhoO1OZ0Wtfe9x+5EyxhOzBYtKxeIJI0RjhxIFWcE50CGhzFbb3uPmNdsoU9iMktCgKC9Bw09L5KUl8NMS+amJmFLG7RMLTbc\\u002fQ9ujdYsSeRkJj9\\u002fGlYah840vHMdirmeMwOBcWV5yPK6UYSoZppRjCimulGNKKaaUY3JJn6Pitj3Hut\\u002f\\u002fnisFAABeojbplYByUUpvar7\\u002f1VPRs5JpY9S3XsaWOIpOdP7nc7aEQ39d2Sgz3ZNeuZ+XqPV+Zjxk461P+cdvXK1QLF8gnjCyFy8Hw9gPl5l+3eJu6FklJVYEw3NlC6cJh+f2+cr66fzPZ46iSo6wdwtLNHaY6tqLYn2GUZFANGaoaMxQ2u7sevsrZ1lAeXME+KkJ0vlTxVNGs6vGogGTSWQLpkqmFepXrrHtOcptDoVo4kj5oum8lIRYf+uvwaBd2cTn7g65XusA4WnrcpbXClhJv5hKLhyZF04jRIN46hiOxLr9EEfS78Sa6e4H4eH85Hh3YxsAiCePVt90CcKPwoxFENG4YaLCAv03f1g2+tbajR6Ez1NdvVgyazy3oV+JqHEBZAuna++9KtZ7mg3Cw6NX2AiOxT1ys2TmuD5rEFQs0ty+PMq\\u002fGj81gZ+Z0uffOqsZ5Cs7yASvhyedNYEjiR5MKRMMDah5oC02x9FytmQg8Ge6x2f1TKDWb3bOms6NqwbDz0gGAOncSZo7VkSlrfxgqOqaxYpL53HlEUEIfsJjt0b53J0KkZ5V0fjhyisWcaUnoe1OxuVmKBoVCVAhEc4CtO8vom2+BOVeYUjKsmmv4uLzuA1+GIa2O2iHGxUSqEgQ7kfV1y\\u002f1tHS6qhq4DWcgNA00PchVR4N\\u002fZQcZx6FSzooIwtH5mFJGGULkKPSKeMpozh\\u002fBuucYQ\\u002fZWUXzKV\\u002fZUMt35mclCvUl17UXcBgCGomizDVAEFYs4RVF+5BfNdlU1BM\\u002fIQoMg2jsv52f5iof8kN0G+6FSd20zZbECRaNSMT8tUVhYwE+LWLLCMJTB7OnUh1zBIqzCQkUC9Q0Xc4S03WndcchxtNzd0Mp20yAYhidq+CkJRHaqYGSefy4NAJbwZeghsWzcK79gJntMcDe1O45VuOua3Q2tZLfRX8SDEHwiO1U8tVA8eTT3746iiuULOl74MEAYhLuuOZxhL546OmAWQ9HWXUd6vkak91uZhau6seGGx1GxEJOKUYkIlYowiRiVijCpWDgij5fqKybvRwb\\u002fylp3HI7giBSOzsfkAcmZtr3HGXcvS5S4qiONRgxFWbcflF80u0eEopIZ40y\\u002fbumRRI0kxHywl4VqoT+u7KlkuosKC0TjhrH1rLO02rbvuKOokjJafA8RgvDTE0Vjh0nnTUFFAn9Pb5Pq+qUtD\\u002fwnGsefeNIoYWFBgIiiDd+tNW\\u002fay4mD2Q+WGH\\u002faKBo3TH3zMs4vmn7d4qprJjt0ZKc+gm80rMISTRiBSkRsiau2qev\\u002fVlKmEGqPoShPc4enucO27zh8DbhaIZo4UjxlNIIgsZo5tNVu3XFIet5ksr3bsu2A\\u002fUAx2W3kdgIAAMbldpbVOMtqLOt3a\\u002f9xDa4JcBsL8jOJnDRXdSNbyMF+uMx+uIwrBQAA0dihiKTnj8OQpO6Tn1jt\\u002fQrD0FY7beWuyoZgWDS3dawM\\u002fpXVf76aK2IR\\u002f9itHIVl+P7PU09rsG47IF88i\\u002f3ESmaON\\u002f22NVzVajj4aYm8lHi2xF3b7GmOLnXz1K7sqWS6s1cEpIwW3ac\\u002fh3DhMYy7vtVd32rZtE\\u002f7z2s4mdK4RikaOzR4HVQuKKq4eC5H1v3xj7bdYf3I9kOlpN6U8PjtbDsD1yiNPwWsxxmS8Apr7DD2V4aiut7+OuQ9HQypM5rX7jCv3RGcxBwN5jXb7UfKnaXVUd5b7sa2zv98nvj0XYiAz5YLR+RFVlh\\u002fT07jlR1MyG6j4\\u002fgJ4eghfgmuUQhH5EY7zTmJeFqweRXaKu93+iXTnTKYO176yNMeKSWdMlk6X\\u002fss6YX7OAufSmaO61VhEblpeIKGLXEUV0bQVl7ctc2WDXtki6b7JeKphaY12zwtnaxeIQg7webEud3VTX0Y9GhHwPQ7Ski9yVlSFaW28uJp7TRv2M0Rnt7FYc5YTuOVHWSClzCTzI7R9Y6inLW6GLfHtv84WzJweDPdN25xThjH92a6Hz7qnnF+R01d2BkTF4bpevebyNrKC21zGL5fxxESOenhPJh+gktug\\u002f\\u002fsIbFs4XaTRBEYCWthodKABYhpR+9W6OnFuvVAgM8CgBevZn89h5dBuLLPfDdk52rd3rV6mzkGd16\\u002f4yiqJLsNbF+BaHQBJpdGaU4CgHBYDqYImK7aD5ZEn2R36tQ3kPc+GCmDITLW3Uejn7nbDxbT1y5GxT3uAlQk4CVpI1s93iV5e2AYV0VdgCQMZKeeMpjZcWp2Jko4wiosxuEE1p3NT0uE8KtWnQmQOiOpN+EsmxaVBnhqzuFlEK6s3ULd8FTadU+kHdli3PGL7th2E0X15\\u002f6jhWGsWw8oLlvQI8FQyYyxpt+39UgiIp5ayJFYdwzSfNCLVIoWjuTHx6GcYOP3P3H9YiGxrNvFFYWHISlXdZNwVD5biGuUkRUW54UalMUWvUL3dOrYCosd0glHWIXlaenE43osFEwll86ZGKWxd7ogu\\u002fRshYXgOMLn9Rpv+rsxCFf2lVuqpAp80iLl1MXqB97PsRjIPWv0O37pri2J6jHrR6zbD8kvPo\\u002ft3JXMHG9asz0aBY0I+KJxAf4+slPnjM586BcmTyC++VTjf1s9m2gUlqelw5s7Gj2e5g6OwkLF3MV\\u002fOHAN9qi1FQAwtoDOCK\\u002f3BzaswnIUVXJClaprL0KFAvOfOxnqdNr5EQhOC0JwLPL5\\u002fw0ZnCtrMZIbv+na+E2XJok\\u002feZFq4kLlgqvjWmodO1frtv+sM3YN0kWhzFb7oRK2HwqPUwmGZjtLq1m9QiMaN5yTcmndcTgaTddfvPCUorLa88C\\u002fDU3NVB9+1lFcxRX1RvAT1KvC4ji5uAlGkeEH6h+G6TUlKITy9mLdfYR79AiiWL4g6ZV\\u002fSmaNP0Ozw\\u002fup+PmvzSBf2e5Wd8UhS9VRa3ebSxXPv+jWxHe3j7zu8VQeEfbe61+sm4Oy3qNzvUs480E6hly8fmFoPu+F18zFpR6jiTaZA\\u002f5xu4bC09TOFfUG7eLGUnq9HzhJG5hU3Kuf3g8nnYWy2HpN+wp70zBOt\\u002f7rNVwpAB6nVt94ScqbjyhXLOSEM89xVjBoV1au4V14c8Ib64c\\u002ft6ogZ5Tkp3fa7ph6\\u002fLZJx957uG7yItWNTwU6awcM54k6jhdGOGYoFjiRCQZTygRDs9kSR0lVH8Kpp4LBRIuE0T78wbijTBY7NdxNAbNOhOBz0tbCgRB8fnIcW0J26NhfQxJJfdp2HeElaeUXzuI2AKBSseyCGbILZrgq6627jtj3Fw1onBuVivnpSbxEDa5RYgopKhaiAgLh8xE+jvB4Pf8PYoXtWc1AX9kxs+WzL9OOmSN3Wumdv+revLem8USPTbf7d73bxdz+UsYHj9X3bDOQWLbsV12z2P8VwTHx9LHmtTtYXbiEKMcZrPQrP598YX3wH7KDR1y6k++FjwnaYuWKBgBnWQ0n80MypbDXFwIBgHjyKE7dUojU1iB6ecKNP6z3NHWorr0o3FSWyMsg8jJUVy+2HSi2btrnqm3i9jgFiNx08cSRgpF5vP4Y8M\\u002fBZkCv7EMf5p44bP3g0fp9fxrczhAPm6HdHfW8oR+w7T6iXL4AIXryiqWzxkdWWJxynMGpdgaAlR\\u002f23OoeksnLwUsPJh0rcnfraPZ7Ha+5NYrUKoebKxoA7AdLVFcvZjv7pHMnWXce9rRGii2iEpF8aWB+PE3bektShV4VFgDY9h5zlFQpLjlPMmt8uIowhM+TTBsjmTbGVdVg+m2r4\\u002fgJbo8YEU0YoVg6N0rb8hx9Y+Cu7AMLS5urue5bNi21zmevimpX\\u002fQJtd9r2HmevJYAnaAQFWc7yWlavHoLLcaKqdu4PVKoAo6OoxBedUCrCem\\u002fCwQQ5pAYC2uawbNgju3CmX4II+HEP3ND19lfu+hZWxx5wlVx739XsgD4AWLYdJKNIcO1dYQEAbbHpv\\u002fjV\\u002fMd22cIZkpnjIqxWQeSmx\\u002f3reldVg37lb+76vqw9gskk6tuXB6fPnmMgGKAr67BRCAqcNz0rtDzKw1iMJAA4rFR9ee+B+X7EsmUfZ\\u002fETyawJ4RRWqHKcgxzJAHHBskiGSUyEe0tQv2P8bYtownB2rgyuUSQ+faf9cJn9UIm7roWy2IGmULGQl5IgHJUvmT6Wc6eRXYZoCgkhSoXlhew26lf+Zvxpg2TGOMnsCRGyvIjc9MSn7zL9ttX4y+aYwsC4WhH\\u002f2K3hVr+kbQ53U7unpYPsMtBWO2W1MXYn7fIwThfjctMut\\u002fbeq6NJlj0Hh36\\u002fsve8kVV5xPrNa81s4fnXxmUOE790Y2ylfP2Fu77VXdvMXgJFNH4YulIUXJkcXI4TQ7Xz3xLG6e5666v4x25hZ8kDiorGDxeNH94jCQNltna8+gltsXEbQhGDwvJC253mdbvM63YRuemSGePEE0dySo59oKh86Vw8QdP93vcR7mw2CA\\u002fX\\u002fvPaYG3FuD3WrQdsB4pd1Y297IqO2HqOiPTjlU3JFfz2ITdlsfygde6KsKpwELBs2afOWub\\u002fiuC4ZNoYc1AueHA5zuC7270kJ2Ft7RQn0J8Qh7k9jN4QwjN4GnE3tbe\\u002f+JH27isjjHYhcVbU6T74gdQZuQ1hiFlh+XFVNbiqGvRf\\u002fy6ZUiidN4UXGKH0Ip40ytPcYfptK7chFLJFM4JX9nKW1XS\\u002f913My7Sf4xQ49SsrEGF2C9fj47BSIlloT9ngYNtXpLziAnaQQTJrfLDC4pTjDGa1M4eP31UfOOR66sWAXIrbbpSMGsG\\u002f5KoutvBMwNPU3vbEO7IFUzmlBeHwNHeYN+y2bj8UbtgLSd8VlhfG6bZs2W\\u002fZekBUWKBYNj\\u002fYTS5fOte26wjZWwILguOyBVM5Qmd5bedrn0Wffh3Nn+kcUXIqV1bf7s4aIa44FDDMZBSIjJ2DlOAeEsbtse46wr7NeElxRF6Gq7LeL0EIvmjsUP9XGPRqZzYF+by3\\u002fset096933XdVQHle2cOCI9HZKexH0Oy24CKRSjBY2iGtjtom4Ns73ZVNzor6qKvymZzqgrLB8PYj5TZj1XIl8zmLHCM4Jh03pRe8zIEBVmcVeWAYXQf\\u002fxi9toJz1c4DQZ+u7L4\\u002fDZfendRW5zy6zafOhk+RXfaPpN2\\u002f6QM7DjbWLfs546Jkxli2whKNHcbOfoBBr3ZmIxYjwUntFgsjl8UcMRwEcLUi\\u002ftGb\\u002fa53xunWffmrrb9rA\\u002fpJYXmhadMvmxEUlS+ZwxYLRuZBqNuaDT87lSNxVtSRXQaOMDKcTP9z9BsxXtmf3m3NLRQ\\u002f\\u002fFGu3UIZuzxyNU8sx2qKbN\\u002f\\u002fX+g496AR\\u002fEId8YSR+pW\\u002fMy5fypJ4ymh\\u002fEwx6tTOH1lZqzCj+3gMB2QkjhvE6OmMYxQcHhIfH\\u002fev6Hm3lITtf\\u002f9x5ov\\u002f\\u002fdP2qsAAAwPTrFuncSWxziZeoYbWHBlcrOJJYX7XIS44PlwN5jn4h+ivrctDPXVM5do586ESpRIE7LFT5QeuBDQaKjMFbMUBYNu9jKyxEwBeNH+41BFCxSDgsp6froFc7c1i9xv7w\\u002fbKqGs+GLb456cxpgn8\\u002fKP\\u002fh56gCaoOJ7PxpbKeBZf3ugdBWMBAKiyEpV22zcGSeXxLNMi\\u002fBNZaUObarwlkW4xThLIMffHh\\u002fQ2K6sjTFHNxoPLjRyG043TgOl1EmC9sYF08Y4VVYorEFAa8aHfRqZw4v\\u002f595\\u002fFhi1Uqt2UK3d1BxWkwhR48ccz\\u002f\\u002fmpnb9XQjmTGO\\u002fdW2v4j9tR8ZkOeQ83gzbk\\u002fIe5oNbecmRqOBroTIIDxcdv40rvQUoK32gHf2oSgmFVPRpYr8henDlT3TYCjKuv0Qe3FawfBcVCSg7U7OaveDX+3MweFgFi\\u002fvXDhPOG0yoVJiZotr9z7Xmj8dnjPAUGWD8Hl44Oq+IbLb+on+V1gIjnOyEyhj7wNCsD0VzWtF\\u002fCguPo+TO3OKUGYrJ+mbyMuwHy4NlP296NuVZTN3hXbz96c\\u002fHm\\u002fdekB+4Ux\\u002f5S2CY4IReY7DZQLOfPA0pV+xoShYs86xZh13OD+zoBlgGHatuHjGWNMvm1k9+o3Q4QYiO5WfnsSVRods4TSOL8lZFroAgk2wx0o4PJcbNwyDZMY4dilTv+Cq4db6Ss+bzJGcjQz+lfWD4cgtz6dzpacDUmfkFEUKh+UQQzLZ9SKDVu38F4AhSTLwDbWKi8\\u002fT3HWFcPQQTCnr32Sj0BYWkZ+hvHyRu7HN+3LNaKN1KCpbND34Jde2vcc4kmCcFXUMSbHPDRHw1dct6frfdxG8ngiGKZYvkC2czm04ZZzltZxXWgiGZcsXz4p+OfAzk8G\\u002fsn5Ekv68cU8Ry+b97GVXiZw0znx\\u002f0Kqd\\u002fxrYdh3hPC\\u002fiiSPFE0eyJQHQNO1w0janp1Pnrm12ltc4y2ojPOl+QissL\\u002fy0RNXVi+HqxWR7t6Okyl3f6mnucLd2MM6AZStQsZCXHC8Yli2ZPpbzNlMAcJRUhSsxZcO43LZdRzjlqaKJI+MlYsP3a4OrbTGVXDx+uHThdHbNt6umiQhKj+gbzrIasr2bs46d4rIFRHaaef0uV1UjQ7K88iiKScWYXIKpFahI0OtL2fwgPBwVCVChABEJUCGBCgW+r0IBKhJwFpADAOncSYIhmbTdSTtcjMNJO5y0w0XbnbTTxdidtMMZ4ZW5bAbiyt7wZBrpYVa+1AQA970ZoqKTLwhtzp8WHMWVZJfBXweGJ2g4QZtTrHY+XVf2dGH+Y7uosCAGNw6KomIRKhbhcSrh8Fz5RbPJTp3p9229TsMjKSw\\u002feIJGynp0GZKk7U7G5UF4OCogQlecAQAAbbPrP\\u002fmZKw2DafVm8ZTRnDJuwbDsxGfvIbuNnuZ22moHHEMlIl6cGo9TsbsBgGXTXtNvW1Pefowj7yMMY\\u002fx1i+a25RyxcEyBcEwBQ1G0xc64PQiOIUIBKuD7J\\u002fBktzFKhaW5Y4V48miuNCLCUfmRg6G2XUe6P1zFlYanH6+sMp7n92FMvkBVW2zznHxfsRcev8fHcfrxvlBn+QLvNwTH2O65U6x2PhOu7CBDO1wdL3+sun5pNNXOIcHj1OqbLhVPHNn1ztcR1oyMSmFxQHCc826fkFAGc8ern0Zf1kjqTd3\\u002f+05739XBa0LjGgWuUXCEbCxb9utX\\u002fg4M42np4CVzi0j6hm33UcHQbMn0sdwGAATD+sHHz3lzU79wavs8lSv7xl017K8v3FBpMwVMqaRK\\u002fKMDo9mS04t1+0H5JaGr3nod53vh1K5CaAZin\\u002f0HHqeSzBofXL8VK4Lhudr7r+t89dNwFmVohXXqxVP2w6X6lb\\u002fHGhW2Hynrfv979Q2XRBjbOTAUZVy13rx2p\\u002fero6S6vxQWAOg\\u002f+wUAQuqss5TBubIdjS570CtUg8uhTy+UxWY\\u002fWCKePIojP43VzmcjqFikvOoCyZTR\\u002faVSBfmZ8gtnGX\\u002fZxG0AgHAKy7rtoLu2WTpvinBMQa\\u002fL9bNhSMpRdMKyYY+zLGC8jR7b3uPuuhbF5QtFhQXBplYADOMoqjT8sI79dhBnSVVwEXWfYUhK99GPjuMnFEvmRD0\\u002f791xeBoZnCt739xirgiAIpkvX+TGXk8vli37ghXWaax2PuvgJcfHP3RjQMYiwzjLa+1Hyz2NbZTFxvGKAgCgCMLDER4PU0jxeLUgL0NYOITzNgbZBTPMm\\u002faGXCErokYAAAThJcUJ8jPwRC2uVeIaJSYRIXwewuchPJxxe2ini7Y7yS6Dp7HN3dDqKK7sr4uNJ2hEY4YK8jJ4yXGoRIQKCYaiGaeLNJg9bV2u6kbH4TKyO7ogV39A5GcIh+bwc1J5cWpULESFAgYYxk3Slv9v7zyD47quA3xef9uxDYu+i0YABECAYIlEUqJIirLESLZEVcoaWY7kictIQ40Se6JJG2tcJhlHVqzYShSnMCOKUYlsi+rikBRFSiwAAZAoi7boi+272L6v5ceCy7cPi7LolPH9eu\\u002fcuzgXF9jzzj33nPvCnH+ScXqZcWdicDzRPzzLCnwNsXp\\u002f2TVFwc8OS1xyx89enc820TqYRpX\\u002fk2fEMQTW6XX\\u002f5tj0lKDZwXQa03NPSBwC97+9mbFwei6DBaDP25hj3DDSezIRm20VsEa4sUb71aZqi9JcLVfr8YCLGeqO9lwOSXusASQGi3V6xv7yF\\u002fPZX1\\u002fH+PQ3xSF2PhSx\\u002f+3LC\\u002fMhSEtB\\u002fo+fFktm2mTIvCQUU1B2S46hfGL4wg1hAm6s0X5V0ZnIZ18ur2xUAEAixicTGqzNoV8+0+9b1SOxJFBVFol7tbrVzjcQeK5evjWtkinw7qmFWSsASAyOi7NMAABLf0VFijkMFooRap1ZKl2r3Fij\\u002fQrz1AtmrZH42ZO9neeDTJwnKLT2JtVTPzY\\u002f9YL5H\\u002f+8T9p79VDtvSntfrWrnW8gZA1VkhBz+MtF7VSw7jSDhc4QYJ0jsK\\u002fRl6HoHEZt7XBjjXaNIMdEEVMAAKhW7pBjmZ9v86TuZtWRn460fRZg4jwAMHG+9XTgv38yUr9DqmsVwVQKSdLQqlc730CQ5vSq0mCYS6\\u002fOyRZEssnI8Wm315jj663LnS2Zba1xY412LUChcrN8U1fwc7GwO3ROfLsAIkEuEpImMcRCXCyc+b9wVVDu2S5Jwgp++qX4dllRyIw7Gp5utb7m8l2vatxc\\u002fRiO0Rc7\\u002fh0Atm78M4aNtPUcSzbhOL1n6\\u002fNX+95OsJGKor12d3tFyT6X1zowdmpz9WMIgrb3vhEIjuhzKmdqZdnY7BqzQlLny4cXW56NpSdacjO8tjqDwTIUbNLoLApNgUKdjxNTxa5Nuw+ndQIAgLPHn+f5zPld+rxaY2GjWldCUCqBZ+PRgN\\u002fVO247Fw27JT0RFGvY+T2VtgQA+trfsQ9+IekAAGqdZdPO7yIImoiHLp\\u002f6p0T8+i+z4NGaq\\u002faXVO0HgO7mo66x1pQ8hUyh37rvRwDgdXR1nP9PSev2\\u002fX9FybRD3R8N95wAAJW2ON9ys0ZXStJqnmfjscCkx2YfOh8OSIuKksxzfjaqdhGIDEPwgUiLn3EU0Bvy6Qpe4FyJ4dFoFwBsybkrwLjkmNrH2GN8RIMb+8KXaFRRq7612f\\u002fBRtUtLB9X4No4HyYQeiLen09XcAIrQ5Wdoc8RQMsVW1S4rl69xxkfdMRtAGCRN5TINrYEPgqxXgDYqLqFQGgMwbpDX0S4gJEyT1ORNsLksD856tr\\u002fqNF6KZhKdidI5MC3TZ+ugaMakiAkoUpPf2Gdnnm+JnZJCEdd\\u002fuBwgbEpZT4IXK7XlHcPvp\\u002feMQNKeS5NaboG3q2ruF8uM3Tbjpvzd5YX7mnpPjJ764I1ZiA9sROV0eLbbCEthZIjPJkxp\\u002fg2RQaDZa7aL1ctPPeSoJQ1Wx\\u002fT6EXVZCguV9FylSm\\u002fdMdg14ejfaeuNwEIPNfd\\u002fNrm3YdxQlZWe3fAMxAJplVF4ARd1XQIQVAQBGvL62JrBYse7SIhaQ0AmKvvKNmwL7XlimIETsgUqjyfs2e6wcpqfnREwQX\\u002fuwk+CgAkSpfIas\\u002f7fieIUr3kmKYreC7CBQDASEnjdwgg9nhfJb59MNJeo9oJALzAXZk8qcaNZfKm9skTg5G2ArqyU+RhDUbaVPhU2ZOJKmX4eGf4jAxT1Sh3tgQ+THVLIR5hCibB196k+pczDUNdkVCAlavwsno5QaKTXvaZF8tSoY+XDq9a9oDm63skaWiTH55d4XD7qPNSbdm9JKFMMCEAMOnrBEGY8GRIYZOAosSQ\\u002fWw8Eawovn0yNOL299KU1lIwZX9naV2wxumw\\u002fqD4FtMo8Vwd6\\u002fSKhfMFQXIO3i6RzZRZksFgWVuOodhUQZ+5+o4cQwUA9Fx+Y7pzxPNStx8nZA27vi9TGAAgEnS47VdiER+K4iptibGwAUXx0o0HAEBis2IRX2\\u002frmzXbHkcxonrLo62f\\u002fUrsClVsOkjLtQAw3HvC7+q9\\u002fjEAWNxoFw9Jq4vKd5dsuF3gOb+7Pxy0CzxHyXLUOgtJq6ePNtv56Qh+Vqe6jRHi3cGzMkwdYr1iawUAnMAmrVUaomgow8c5gWP4qdSwKBcCgAgXkGFzlxbJMU2I8wFAlAtK+19TIR4hI0xp2bI3Z6wvBgAkjepoEgDG+2MAkGempj6+qlAVJeoDt4olrNsXOnVBLFkBHJ6OKvNd+YaGIftZAMg31Lv8VpadV7JbIhECAIaLRuMBAOC4OIZeL8KdqXUxGiUwQ9Insebu2zz\\u002fkVZeOi8QRPvQnbLGarGMC4ZjV3rEkhQZDFYoMJa6ZuJTyaahyfHpzsJ0Kjbdl\\u002fw2jvaftnW+n3pk2Qe\\u002fGO071bDzezgpt9Tc6Z3ojITSXD63\\u002feq47VxB6Q6FOt+y8a6Bq+8m5bnFW4yFjQAQ8AwMWzNk6y9mtItHrTPrTNUBj83a8no86hc3yRR6jpOm+WY7Pz5mwhf4oERWWySrGYtZlfj1bZRrXLdfnMDiCAkACiwnJZSQDLHLMU2UmwQAXuAwJK3aXEyY8+XgJjuADFNFuSBkUiEeoS3SmhT+3SPdyYs1CFVRkvvs45Lolf+tj1f+MBmeZybcbYW5W4bsZ2lKk6MqabUelXa6BiJKmRQEPvXc4gVpTGaW1qw0zk6kpVPHsuIMdeVt21iXN6vzl4gik+7RP6XrKiXyyfdOz\\u002fTnyGCwFoxMaTQWNgBA0Dds63hfUqQSCTqGrB+X19+LIGhh+S29bW+LWwHA1nFcrTMrNYWFZbt8TqvP2UMr9BX19wIAkwh3Nx8VhDUUsk1CkIpo2N1x\\u002frccK7VN0bBHIsl2fkiUrlfvZXkGR4nu4LkEHx2NdW\\u002fJOcAJjCcxNhLtFH8cAPzMRKm8oUF9e4wPCzOsbihUtkm9l0IVncEzABDifDSqaNTcMRazuuJDBEpXKLZqiTxMQXgSIyPRLgNZ3KjZjwJmDX0B01RIRihVtnrgRi0fjPCx6yUHCI6TpYXKXU3KW7emHdwOEG23hs+1iiUrxqizuTjvJo2yWKs2J5iI2y92ydP+giSReZs\\u002fW2bVmAV8JBY6eVG1\\u002f2axMOfBr8m31E5+cCbabp2x3gNBiHwjXVsu31wz3VQBQGJgNPjxjP9LS2mwcgsbk3Ec++CXGUvq3PaO8vp7AUCbaTuP59nuS69t3n0Yw8kNmx++fPql6qZDGE4BCNaWY4nYojZNl4+R3pPTrVVGsp2fBB9r9qcFREej3aPRNOflnPe63ecFTtK\\u002fI\\u002fgZALRNfgIAzf4PTFSpl7H3hS+lOvACd9F\\u002fPHXL8LGu4OddqXsAcXgLMqmQ3K4RDN8\\u002fRJUX87G4EE8ICRYhCUwlz1idywfDnnmfgLTkhCKOQGgkz1CnURZPeK6IH8lxJiSnp4KJAJCjMqeuF8MsGrPF9+aHssZqcfIUAJBlRYYfHAKOZ5we1unlozEhwSI4hlAESpGYQYsbtBlPyEjCOjzOl\\u002f5nJvcKltZgqXWW5EXQn7mYKBELCAKPICgly0ExguekSc\\u002fRsLuv\\u002fe2qpkMkpWq67VmCVADASO8pn3Pltm+yxe\\u002fKvNiezuLn50bh7idNIT936m03AKi0+OGXyis3K7ouBF\\u002f+C1vQJ13CLB8oTQE9W9RMSDDOF48sMoFokYw6LpUV7aEpTbft+pMDADz+3rzyg2WFt3knB5SyXEvBLkn4csHMpDFbhFjC8fNXTT98UvIGCgAADCXyjUS+USqflVjXgPvXr3OBkLRBxFIaLEqWk7zYsue5tIZMEKQ8Hp0WLQZwjl7OMVSYSrYlrdWkd3Co+yNpp7WDIMTn7foteH5kMl00uqD9l3QccVsyd2G52X3QcPqdqRXx488XF1XSx34xtvdhwyPPFb7610PpfVcNPhh2vXw03jcsbVhZHJ6rVZa7IlH3ZDgt6jruaqMpbaFpS2nhrcHIxJW+t+orHxR3WDAzaVwArMs38cIrum99Y8Hn9iXhvAH\\u002f706ETl+ac6N2KQ0WRmSRi4EgGfzzJI7RFlPJtuS1a6x1MV7rcsML3JxTnGJh80OSquKinT29U7sQNwTGIsrWEQaAHCOx4x7dKz8aPPN7j2s88e2\\u002fKZZ2XRUEIXLxqu\\u002foe+wayGsXBB4EGHe1ShtAGBg9OTB6MnX\\u002f+eUXkxefnv\\u002f75MWX7b9OXtjdbXZ3GwB4\\u002fL2ztCaZWeNC4CZDrl+9Rm2wqA\\u002fcIqvfkNUbPIUEE+vsD59rjVy8KnAzLgPFZPHT54RjE0ABAPS2vT3ncia1oycBJ2QbGh9K3VpqDvhcvdGQS9RlhUAxUipaHAuYH6Uy32LZo1SYamoecLu7XK7OjTUPoChOkIoe6x\\u002fCEadBX52X38TzLE3n2Gwn\\u002fP6B6ur7EQTVaSvcnu7u7v8rLt7JJMITjlYEwZo2f6e55RWppmWA5wQmJgDA7oP6kI89954XAHwTCY1hxh3JpSX02SXW6SXyjZhGicgolCT4WIIPRxm7M9Zti1y8yjqkWyKrRa6+FsWIcddlacOysRwa4z2Drp5BlKbo+krSXEAW5+EmPSqjERmFUiTwgsBxfDTOhyOcL8i6vMy4M2Ebi\\u002fePpL0bYR4spcFKxAIyhR4AAp6BBZuYysYHk1lXE0MXTCVbMZys2fqYJDNrSZjTLyJptVS0OBYwP6GQfXj4TF7e5p6ePyQlnV1vAoDRWGs01oaHnACAANLZ+YZCYbJY9kSjHgKXt185UmrZG464AMBub6mpPjjhaNVqy1zuDtHPXkaGrdEdd+tiEe6ub5k+PeZKvqFeYyBW7NDR0MkLoZMrnVeVFThGKWRGilRtMH9t1HEhmcm5rKyARj4Wj1y8Grl4VdqwdMy4LrvG1PdanAYyEwHPVHwkLY07GwpKdxjy6wDAM9HZ2\\u002fbWSO9JAFCo88vq7pF2zUwWo035ONQMhkmZUyQVLY7Fzw+O0xs3PrSh8p48UwOKTT1swmEHALBsDMeoWCwgCFx19UGVqsDnGwAAlo2ybIwgFAZ99cTEUj5UZ+HNfx7b97DhH47XRkPc8d9O1S1Ub1OO9KYlxP8xI6O1TTWP15bd5\\u002fb19g5\\u002fIm1eBlZe43Iwh4eVSn0kaTWIUjQz4hq7XFK5FxCkqPxW52jLnKseCQpNQWnt3QCQiE32tr4BAMPWT3KMFWqtOd9ys9\\u002fV57bPUUOQ1WhTeRIZDROCoLlFm6XSxbGw+REEDru2ODXoq6MRj23wRGHhn1DUlJ1N3zwSUJTo6XmD56\\u002f\\u002f8HH7pdzcOgRBkwnQK0DHF8Gn91wxlVDid+f0tITOf+BL7\\u002fjHSzA8cfLiT6XS5WTlNS4Hc3hY0eDUyiXvWhR8FiJBp2O0GQBkSmPt9icyLqkIUpFvuTm1X5YCw6marY+hKA6CYG05xiQiACAIvLX5dY6NAUBl4wPJpeIsZDXagMeW9MiMBQ0SlwdB0LK6r8uVuWLh4lnY\\u002fITDTopU19U9atBX+wODOl1lTfX9SkXm8kmSVAEINTX319d9s6xsf1IYCAzptBUe73zTL5YEv4uxNofEb\\u002fq6+Im\\u002frz1z4HKddebJHEsnSqbdtu+HCIoBQMBj8050MIkIhpMEqcAJWf\\u002fVqcBKChQjNu38riqnGAAEnvO7e8OTDo5LYBhB0hqFOl+hNgEgLad\\u002fKSmdqWo6lPRoRvtO2TrTchFzi5qqmh4BgKBvuO3sb4SZSwKzHW3NtseTK1BB4F1jrSH\\u002fGMfFabneUFAvUxj87n6NzoKg2CynNfA8e\\u002fb485KmWVjw\\u002fMyT0tJ9fr\\u002fN5xtAELRp83eaW\\u002f4VABAEbWh4oq3tv9byfus668yHOZaE8aiv\\u002f+rvK+rvAwTR6Es1+tJUE8vEppsAnmPaz75SuelgbnETgmLa3GptblpZIwAIAi+kR9DzzNuT1iroHxmclnXlHG3R5lblFm1WaUssNXfaOt6TdEiR7Wj72t6SyXUKTQGCoLlFTblFTammoG+46+KRhl0\\u002fkKuW0s9a2PzMH5ers6xsf15eE47TwyOfA0CeqTEvv2ls7Py6tVrnK8AcBgsA7INfhgLjBaU7NXoLQakAgGWisYg36M2cAchzjPXy\\u002f472nzYVb9MYymiZFiNogefisclIcCLgHnCNt4sPXJerTOV13wAAjk1Ym49mdKD62t9R68y0XFdUfmvA3e91zFhbm9VomUSk9czLeebthoJNclUeTtAsE40EHa6x1omhC4LAR0LOpTVYkP38ZEUoZG9vPyKWTDhaJxytYsk666yzzjrrrLPOOuuss841\\u002fh\\u002fwqxnx1n8n+QAAAABJRU5ErkJggg==\",\"type\":\"image\",\"xaxis\":\"x\",\"yaxis\":\"y\",\"hovertemplate\":\"x: %{x}\\u003cbr\\u003ey: %{y}\\u003cbr\\u003ecolor: [%{z[0]}, %{z[1]}, %{z[2]}]\\u003cextra\\u003e\\u003c\\u002fextra\\u003e\"}],                        {\"template\":{\"data\":{\"histogram2dcontour\":[{\"type\":\"histogram2dcontour\",\"colorbar\":{\"outlinewidth\":0,\"ticks\":\"\"},\"colorscale\":[[0.0,\"#0d0887\"],[0.1111111111111111,\"#46039f\"],[0.2222222222222222,\"#7201a8\"],[0.3333333333333333,\"#9c179e\"],[0.4444444444444444,\"#bd3786\"],[0.5555555555555556,\"#d8576b\"],[0.6666666666666666,\"#ed7953\"],[0.7777777777777778,\"#fb9f3a\"],[0.8888888888888888,\"#fdca26\"],[1.0,\"#f0f921\"]]}],\"choropleth\":[{\"type\":\"choropleth\",\"colorbar\":{\"outlinewidth\":0,\"ticks\":\"\"}}],\"histogram2d\":[{\"type\":\"histogram2d\",\"colorbar\":{\"outlinewidth\":0,\"ticks\":\"\"},\"colorscale\":[[0.0,\"#0d0887\"],[0.1111111111111111,\"#46039f\"],[0.2222222222222222,\"#7201a8\"],[0.3333333333333333,\"#9c179e\"],[0.4444444444444444,\"#bd3786\"],[0.5555555555555556,\"#d8576b\"],[0.6666666666666666,\"#ed7953\"],[0.7777777777777778,\"#fb9f3a\"],[0.8888888888888888,\"#fdca26\"],[1.0,\"#f0f921\"]]}],\"heatmap\":[{\"type\":\"heatmap\",\"colorbar\":{\"outlinewidth\":0,\"ticks\":\"\"},\"colorscale\":[[0.0,\"#0d0887\"],[0.1111111111111111,\"#46039f\"],[0.2222222222222222,\"#7201a8\"],[0.3333333333333333,\"#9c179e\"],[0.4444444444444444,\"#bd3786\"],[0.5555555555555556,\"#d8576b\"],[0.6666666666666666,\"#ed7953\"],[0.7777777777777778,\"#fb9f3a\"],[0.8888888888888888,\"#fdca26\"],[1.0,\"#f0f921\"]]}],\"heatmapgl\":[{\"type\":\"heatmapgl\",\"colorbar\":{\"outlinewidth\":0,\"ticks\":\"\"},\"colorscale\":[[0.0,\"#0d0887\"],[0.1111111111111111,\"#46039f\"],[0.2222222222222222,\"#7201a8\"],[0.3333333333333333,\"#9c179e\"],[0.4444444444444444,\"#bd3786\"],[0.5555555555555556,\"#d8576b\"],[0.6666666666666666,\"#ed7953\"],[0.7777777777777778,\"#fb9f3a\"],[0.8888888888888888,\"#fdca26\"],[1.0,\"#f0f921\"]]}],\"contourcarpet\":[{\"type\":\"contourcarpet\",\"colorbar\":{\"outlinewidth\":0,\"ticks\":\"\"}}],\"contour\":[{\"type\":\"contour\",\"colorbar\":{\"outlinewidth\":0,\"ticks\":\"\"},\"colorscale\":[[0.0,\"#0d0887\"],[0.1111111111111111,\"#46039f\"],[0.2222222222222222,\"#7201a8\"],[0.3333333333333333,\"#9c179e\"],[0.4444444444444444,\"#bd3786\"],[0.5555555555555556,\"#d8576b\"],[0.6666666666666666,\"#ed7953\"],[0.7777777777777778,\"#fb9f3a\"],[0.8888888888888888,\"#fdca26\"],[1.0,\"#f0f921\"]]}],\"surface\":[{\"type\":\"surface\",\"colorbar\":{\"outlinewidth\":0,\"ticks\":\"\"},\"colorscale\":[[0.0,\"#0d0887\"],[0.1111111111111111,\"#46039f\"],[0.2222222222222222,\"#7201a8\"],[0.3333333333333333,\"#9c179e\"],[0.4444444444444444,\"#bd3786\"],[0.5555555555555556,\"#d8576b\"],[0.6666666666666666,\"#ed7953\"],[0.7777777777777778,\"#fb9f3a\"],[0.8888888888888888,\"#fdca26\"],[1.0,\"#f0f921\"]]}],\"mesh3d\":[{\"type\":\"mesh3d\",\"colorbar\":{\"outlinewidth\":0,\"ticks\":\"\"}}],\"scatter\":[{\"fillpattern\":{\"fillmode\":\"overlay\",\"size\":10,\"solidity\":0.2},\"type\":\"scatter\"}],\"parcoords\":[{\"type\":\"parcoords\",\"line\":{\"colorbar\":{\"outlinewidth\":0,\"ticks\":\"\"}}}],\"scatterpolargl\":[{\"type\":\"scatterpolargl\",\"marker\":{\"colorbar\":{\"outlinewidth\":0,\"ticks\":\"\"}}}],\"bar\":[{\"error_x\":{\"color\":\"#2a3f5f\"},\"error_y\":{\"color\":\"#2a3f5f\"},\"marker\":{\"line\":{\"color\":\"#E5ECF6\",\"width\":0.5},\"pattern\":{\"fillmode\":\"overlay\",\"size\":10,\"solidity\":0.2}},\"type\":\"bar\"}],\"scattergeo\":[{\"type\":\"scattergeo\",\"marker\":{\"colorbar\":{\"outlinewidth\":0,\"ticks\":\"\"}}}],\"scatterpolar\":[{\"type\":\"scatterpolar\",\"marker\":{\"colorbar\":{\"outlinewidth\":0,\"ticks\":\"\"}}}],\"histogram\":[{\"marker\":{\"pattern\":{\"fillmode\":\"overlay\",\"size\":10,\"solidity\":0.2}},\"type\":\"histogram\"}],\"scattergl\":[{\"type\":\"scattergl\",\"marker\":{\"colorbar\":{\"outlinewidth\":0,\"ticks\":\"\"}}}],\"scatter3d\":[{\"type\":\"scatter3d\",\"line\":{\"colorbar\":{\"outlinewidth\":0,\"ticks\":\"\"}},\"marker\":{\"colorbar\":{\"outlinewidth\":0,\"ticks\":\"\"}}}],\"scattermapbox\":[{\"type\":\"scattermapbox\",\"marker\":{\"colorbar\":{\"outlinewidth\":0,\"ticks\":\"\"}}}],\"scatterternary\":[{\"type\":\"scatterternary\",\"marker\":{\"colorbar\":{\"outlinewidth\":0,\"ticks\":\"\"}}}],\"scattercarpet\":[{\"type\":\"scattercarpet\",\"marker\":{\"colorbar\":{\"outlinewidth\":0,\"ticks\":\"\"}}}],\"carpet\":[{\"aaxis\":{\"endlinecolor\":\"#2a3f5f\",\"gridcolor\":\"white\",\"linecolor\":\"white\",\"minorgridcolor\":\"white\",\"startlinecolor\":\"#2a3f5f\"},\"baxis\":{\"endlinecolor\":\"#2a3f5f\",\"gridcolor\":\"white\",\"linecolor\":\"white\",\"minorgridcolor\":\"white\",\"startlinecolor\":\"#2a3f5f\"},\"type\":\"carpet\"}],\"table\":[{\"cells\":{\"fill\":{\"color\":\"#EBF0F8\"},\"line\":{\"color\":\"white\"}},\"header\":{\"fill\":{\"color\":\"#C8D4E3\"},\"line\":{\"color\":\"white\"}},\"type\":\"table\"}],\"barpolar\":[{\"marker\":{\"line\":{\"color\":\"#E5ECF6\",\"width\":0.5},\"pattern\":{\"fillmode\":\"overlay\",\"size\":10,\"solidity\":0.2}},\"type\":\"barpolar\"}],\"pie\":[{\"automargin\":true,\"type\":\"pie\"}]},\"layout\":{\"autotypenumbers\":\"strict\",\"colorway\":[\"#636efa\",\"#EF553B\",\"#00cc96\",\"#ab63fa\",\"#FFA15A\",\"#19d3f3\",\"#FF6692\",\"#B6E880\",\"#FF97FF\",\"#FECB52\"],\"font\":{\"color\":\"#2a3f5f\"},\"hovermode\":\"closest\",\"hoverlabel\":{\"align\":\"left\"},\"paper_bgcolor\":\"white\",\"plot_bgcolor\":\"#E5ECF6\",\"polar\":{\"bgcolor\":\"#E5ECF6\",\"angularaxis\":{\"gridcolor\":\"white\",\"linecolor\":\"white\",\"ticks\":\"\"},\"radialaxis\":{\"gridcolor\":\"white\",\"linecolor\":\"white\",\"ticks\":\"\"}},\"ternary\":{\"bgcolor\":\"#E5ECF6\",\"aaxis\":{\"gridcolor\":\"white\",\"linecolor\":\"white\",\"ticks\":\"\"},\"baxis\":{\"gridcolor\":\"white\",\"linecolor\":\"white\",\"ticks\":\"\"},\"caxis\":{\"gridcolor\":\"white\",\"linecolor\":\"white\",\"ticks\":\"\"}},\"coloraxis\":{\"colorbar\":{\"outlinewidth\":0,\"ticks\":\"\"}},\"colorscale\":{\"sequential\":[[0.0,\"#0d0887\"],[0.1111111111111111,\"#46039f\"],[0.2222222222222222,\"#7201a8\"],[0.3333333333333333,\"#9c179e\"],[0.4444444444444444,\"#bd3786\"],[0.5555555555555556,\"#d8576b\"],[0.6666666666666666,\"#ed7953\"],[0.7777777777777778,\"#fb9f3a\"],[0.8888888888888888,\"#fdca26\"],[1.0,\"#f0f921\"]],\"sequentialminus\":[[0.0,\"#0d0887\"],[0.1111111111111111,\"#46039f\"],[0.2222222222222222,\"#7201a8\"],[0.3333333333333333,\"#9c179e\"],[0.4444444444444444,\"#bd3786\"],[0.5555555555555556,\"#d8576b\"],[0.6666666666666666,\"#ed7953\"],[0.7777777777777778,\"#fb9f3a\"],[0.8888888888888888,\"#fdca26\"],[1.0,\"#f0f921\"]],\"diverging\":[[0,\"#8e0152\"],[0.1,\"#c51b7d\"],[0.2,\"#de77ae\"],[0.3,\"#f1b6da\"],[0.4,\"#fde0ef\"],[0.5,\"#f7f7f7\"],[0.6,\"#e6f5d0\"],[0.7,\"#b8e186\"],[0.8,\"#7fbc41\"],[0.9,\"#4d9221\"],[1,\"#276419\"]]},\"xaxis\":{\"gridcolor\":\"white\",\"linecolor\":\"white\",\"ticks\":\"\",\"title\":{\"standoff\":15},\"zerolinecolor\":\"white\",\"automargin\":true,\"zerolinewidth\":2},\"yaxis\":{\"gridcolor\":\"white\",\"linecolor\":\"white\",\"ticks\":\"\",\"title\":{\"standoff\":15},\"zerolinecolor\":\"white\",\"automargin\":true,\"zerolinewidth\":2},\"scene\":{\"xaxis\":{\"backgroundcolor\":\"#E5ECF6\",\"gridcolor\":\"white\",\"linecolor\":\"white\",\"showbackground\":true,\"ticks\":\"\",\"zerolinecolor\":\"white\",\"gridwidth\":2},\"yaxis\":{\"backgroundcolor\":\"#E5ECF6\",\"gridcolor\":\"white\",\"linecolor\":\"white\",\"showbackground\":true,\"ticks\":\"\",\"zerolinecolor\":\"white\",\"gridwidth\":2},\"zaxis\":{\"backgroundcolor\":\"#E5ECF6\",\"gridcolor\":\"white\",\"linecolor\":\"white\",\"showbackground\":true,\"ticks\":\"\",\"zerolinecolor\":\"white\",\"gridwidth\":2}},\"shapedefaults\":{\"line\":{\"color\":\"#2a3f5f\"}},\"annotationdefaults\":{\"arrowcolor\":\"#2a3f5f\",\"arrowhead\":0,\"arrowwidth\":1},\"geo\":{\"bgcolor\":\"white\",\"landcolor\":\"#E5ECF6\",\"subunitcolor\":\"white\",\"showland\":true,\"showlakes\":true,\"lakecolor\":\"white\"},\"title\":{\"x\":0.05},\"mapbox\":{\"style\":\"light\"}}},\"xaxis\":{\"anchor\":\"y\",\"domain\":[0.0,1.0],\"showticklabels\":false},\"yaxis\":{\"anchor\":\"x\",\"domain\":[0.0,1.0],\"showticklabels\":false},\"margin\":{\"t\":60},\"title\":{\"text\":\"Crunch-O-Matic Customer Feedback Word Cloud\"}},                        {\"responsive\": true}                    ).then(function(){\n",
              "                            \n",
              "var gd = document.getElementById('5fbe1115-9d10-41df-8511-cb98a49747b4');\n",
              "var x = new MutationObserver(function (mutations, observer) {{\n",
              "        var display = window.getComputedStyle(gd).display;\n",
              "        if (!display || display === 'none') {{\n",
              "            console.log([gd, 'removed!']);\n",
              "            Plotly.purge(gd);\n",
              "            observer.disconnect();\n",
              "        }}\n",
              "}});\n",
              "\n",
              "// Listen for the removal of the full notebook cells\n",
              "var notebookContainer = gd.closest('#notebook-container');\n",
              "if (notebookContainer) {{\n",
              "    x.observe(notebookContainer, {childList: true});\n",
              "}}\n",
              "\n",
              "// Listen for the clearing of the current output cell\n",
              "var outputEl = gd.closest('.output');\n",
              "if (outputEl) {{\n",
              "    x.observe(outputEl, {childList: true});\n",
              "}}\n",
              "\n",
              "                        })                };                            </script>        </div>\n",
              "</body>\n",
              "</html>"
            ]
          },
          "metadata": {}
        }
      ]
    },
    {
      "cell_type": "markdown",
      "source": [
        "\n",
        "This word cloud gives us an immediate visual sense of the most common words used in customer feedback about Crunch-O-Matic. We can quickly identify which attributes of our product are most frequently mentioned, helping us understand what resonates with our customers."
      ],
      "metadata": {
        "id": "lceZqTRFy9qS"
      }
    },
    {
      "cell_type": "markdown",
      "source": [
        "## How to Combine Visualizations into a Dashboard\n",
        "\n",
        "Now that we've explored various chart types and visualization techniques, let's bring it all together by creating a dashboard. A dashboard combines multiple visualizations to provide a comprehensive view of our data, allowing us to monitor different aspects of our Crunch-O-Matic campaign at a glance.\n",
        "\n",
        "We'll use Plotly Dash to create our dashboard. Dash is a Python framework for building analytical web applications, which is perfect for creating interactive dashboards.\n",
        "\n",
        "(Note: This is the same dashboard we saw at the beginning of the chapter).\n",
        "\n",
        "### Importing Libraries and Creating Data\n",
        "First, let's import the libraries and create some sammple data."
      ],
      "metadata": {
        "id": "XfVuyylmzimK"
      }
    },
    {
      "cell_type": "code",
      "source": [
        "!pip install dash -q\n",
        "import pandas as pd\n",
        "import plotly.express as px\n",
        "from dash import Dash, dcc, html\n",
        "from dash.dependencies import Input, Output\n",
        "\n",
        "# Create sample data\n",
        "data = {\n",
        "    'Region': ['North', 'South', 'East', 'West'] * 3,\n",
        "    'Product': ['Chips', 'Chips', 'Chips', 'Chips', 'Popcorn', 'Popcorn', 'Popcorn', 'Popcorn', 'Pretzels', 'Pretzels', 'Pretzels', 'Pretzels'],\n",
        "    'Sales': [100, 120, 80, 150, 80, 90, 110, 70, 60, 50, 40, 30]\n",
        "}\n",
        "df = pd.DataFrame(data)"
      ],
      "metadata": {
        "id": "xOpx37syzjQa"
      },
      "execution_count": 22,
      "outputs": []
    },
    {
      "cell_type": "markdown",
      "source": [
        "Here, we're importing the necessary libraries:\n",
        "- `pandas` for data manipulation\n",
        "- `plotly.express` for creating interactive plots\n",
        "- `Dash`, `dcc` (Dash Core Components), and `html` from the `dash` library for building the web application\n",
        "- `Input` and `Output` from `dash.dependencies` for creating interactive callbacks\n",
        "\n",
        "We then create a sample dataset as a dictionary and convert it to a pandas DataFrame. This data represents sales figures for different products across various regions.\n",
        "\n",
        "### Initializing the Dash App"
      ],
      "metadata": {
        "id": "4XUrKHIf00JV"
      }
    },
    {
      "cell_type": "code",
      "source": [
        "app = Dash(__name__)"
      ],
      "metadata": {
        "id": "UeUYzmas1Dcb"
      },
      "execution_count": 23,
      "outputs": []
    },
    {
      "cell_type": "markdown",
      "source": [
        "This line creates a new Dash application instance. The `__name__` argument helps Dash locate resources in the app's directory.\n",
        "\n",
        "### Defining the Layout"
      ],
      "metadata": {
        "id": "h6kbFp2O1G17"
      }
    },
    {
      "cell_type": "code",
      "source": [
        "app.layout = html.Div([\n",
        "    html.H1(\"Crunch-O-Matic Sales Dashboard\"),\n",
        "\n",
        "    dcc.Dropdown(\n",
        "        id='product-dropdown',\n",
        "        options=[{'label': i, 'value': i} for i in df['Product'].unique()],\n",
        "        value='Chips',\n",
        "        style={'width': '50%'}\n",
        "    ),\n",
        "\n",
        "    dcc.Graph(id='sales-bar-chart'),\n",
        "\n",
        "    dcc.Graph(id='sales-pie-chart')\n",
        "])"
      ],
      "metadata": {
        "id": "Ce2eHeq31RVj"
      },
      "execution_count": 24,
      "outputs": []
    },
    {
      "cell_type": "markdown",
      "source": [
        "This section defines the layout of our dashboard:\n",
        "- `html.H1`: Creates a header with the dashboard title\n",
        "- `dcc.Dropdown`: Creates a dropdown menu for selecting products\n",
        "  - `options`: List of dictionaries defining the dropdown options, generated from unique product names in our DataFrame\n",
        "  - `value`: The default selected value\n",
        "  - `style`: CSS styling to set the width of the dropdown\n",
        "- `dcc.Graph`: Creates placeholder elements for our charts, which will be populated by our callback functions\n",
        "\n",
        "### Defining Callbacks"
      ],
      "metadata": {
        "id": "yrZknNt41Vdh"
      }
    },
    {
      "cell_type": "code",
      "source": [
        "@app.callback(\n",
        "    Output('sales-bar-chart', 'figure'),\n",
        "    Input('product-dropdown', 'value')\n",
        ")\n",
        "def update_bar_chart(selected_product):\n",
        "    filtered_df = df[df['Product'] == selected_product]\n",
        "    fig = px.bar(filtered_df, x='Region', y='Sales', title=f'{selected_product} Sales by Region')\n",
        "    return fig\n",
        "\n",
        "@app.callback(\n",
        "    Output('sales-pie-chart', 'figure'),\n",
        "    Input('product-dropdown', 'value')\n",
        ")\n",
        "def update_pie_chart(selected_product):\n",
        "    filtered_df = df[df['Product'] == selected_product]\n",
        "    fig = px.pie(filtered_df, values='Sales', names='Region', title=f'{selected_product} Sales Distribution')\n",
        "    return fig\n"
      ],
      "metadata": {
        "id": "oulctxvx1eCK"
      },
      "execution_count": 25,
      "outputs": []
    },
    {
      "cell_type": "markdown",
      "source": [
        "These are our callback functions, which make the dashboard interactive:\n",
        "\n",
        "- Each `@app.callback` decorator defines how a part of the layout should be updated in response to user input\n",
        "- The `Output` specifies which component will be updated (in this case, our graph figures)\n",
        "- The `Input` specifies which component's value will trigger the update (our product dropdown)\n",
        "- The functions filter the DataFrame based on the selected product and create appropriate charts using Plotly Express\n",
        "- `px.bar` creates a bar chart showing sales by region for the selected product\n",
        "- `px.pie` creates a pie chart showing the distribution of sales across regions for the selected product\n",
        "\n",
        "### Running the App"
      ],
      "metadata": {
        "id": "9B6TQSiq1iSQ"
      }
    },
    {
      "cell_type": "code",
      "source": [
        "app.run(jupyter_mode=\"inline\")"
      ],
      "metadata": {
        "id": "z1eJqkKa1xPf",
        "outputId": "e6b1adc5-06a0-464b-b6d9-63041cab0e14",
        "colab": {
          "base_uri": "https://localhost:8080/",
          "height": 671
        }
      },
      "execution_count": 26,
      "outputs": [
        {
          "output_type": "display_data",
          "data": {
            "text/plain": [
              "<IPython.core.display.Javascript object>"
            ],
            "application/javascript": [
              "(async (port, path, width, height, cache, element) => {\n",
              "    if (!google.colab.kernel.accessAllowed && !cache) {\n",
              "      return;\n",
              "    }\n",
              "    element.appendChild(document.createTextNode(''));\n",
              "    const url = await google.colab.kernel.proxyPort(port, {cache});\n",
              "    const iframe = document.createElement('iframe');\n",
              "    iframe.src = new URL(path, url).toString();\n",
              "    iframe.height = height;\n",
              "    iframe.width = width;\n",
              "    iframe.style.border = 0;\n",
              "    iframe.allow = [\n",
              "        'accelerometer',\n",
              "        'autoplay',\n",
              "        'camera',\n",
              "        'clipboard-read',\n",
              "        'clipboard-write',\n",
              "        'gyroscope',\n",
              "        'magnetometer',\n",
              "        'microphone',\n",
              "        'serial',\n",
              "        'usb',\n",
              "        'xr-spatial-tracking',\n",
              "    ].join('; ');\n",
              "    element.appendChild(iframe);\n",
              "  })(8050, \"/\", \"100%\", 650, false, window.element)"
            ]
          },
          "metadata": {}
        }
      ]
    },
    {
      "cell_type": "markdown",
      "source": [
        "This line runs the Dash app. The `jupyter_mode=\"inline\"` argument allows the app to run inline in a Jupyter notebook.\n",
        "\n",
        "## How It All Works Together\n",
        "\n",
        "1. When the app starts, it displays the layout with the title, dropdown (initially set to 'Chips'), and empty placeholders for the charts.\n",
        "2. The callback functions immediately run with the default 'Chips' value, populating the charts with data for chips.\n",
        "3. When a user selects a different product from the dropdown, it triggers both callback functions:\n",
        "   - `update_bar_chart` creates a new bar chart for the selected product\n",
        "   - `update_pie_chart` creates a new pie chart for the selected product\n",
        "4. Dash automatically updates the `figure` property of both `dcc.Graph` components with the new charts.\n",
        "\n",
        "This creates an interactive dashboard where users can explore sales data for different Crunch-O-Matic products across regions, with the visualizations updating in real-time based on user selection.\n"
      ],
      "metadata": {
        "id": "0geF_j6_11bj"
      }
    },
    {
      "cell_type": "markdown",
      "source": [
        "## Key Points Summary\n",
        "\n",
        "-   **Data dashboards** provide a consolidated view of critical metrics, aiding decision-making in business, marketing, finance, and other fields.\n",
        "-   Plotly and Plotly Express enable the creation of interactive, publication-quality charts such as line, bar, scatter, and pie charts.\n",
        "-   Dash is a framework for building interactive web applications powered by Plotly visualizations, ideal for real-time dashboard updates.\n",
        "-   Designing an effective dashboard involves careful consideration of layout, user flow, and data interactivity, tailored to the needs of different audiences.\n",
        "-   Hands-on examples, including bar charts, pie charts, scatter plots, and more, illustrate how to visualize sales data for a product like Crunch-O-Matic across various regions and channels."
      ],
      "metadata": {
        "id": "JIoKT7QW4DKY"
      }
    },
    {
      "cell_type": "markdown",
      "source": [
        "## Review With Quizlet"
      ],
      "metadata": {
        "id": "ny9ycLk5Mm_n"
      }
    },
    {
      "cell_type": "code",
      "source": [
        "%%html\n",
        "<iframe src=\"https://quizlet.com/973359871/learn/embed?i=psvlh&x=1jj1\" height=\"500\" width=\"100%\" style=\"border:0\"></iframe>"
      ],
      "metadata": {
        "colab": {
          "base_uri": "https://localhost:8080/",
          "height": 521
        },
        "id": "SXKF2-xcMpG-",
        "outputId": "f1a7ede2-8484-4ebb-d9cc-bac99844f81a"
      },
      "execution_count": 27,
      "outputs": [
        {
          "output_type": "display_data",
          "data": {
            "text/plain": [
              "<IPython.core.display.HTML object>"
            ],
            "text/html": [
              "<iframe src=\"https://quizlet.com/973359871/learn/embed?i=psvlh&x=1jj1\" height=\"500\" width=\"100%\" style=\"border:0\"></iframe>\n"
            ]
          },
          "metadata": {}
        }
      ]
    },
    {
      "cell_type": "markdown",
      "source": [
        "## Glossary\n",
        "| **Term** | **Definition** |\n",
        "| --- | --- |\n",
        "| **Bar chart** | A visual representation of data using rectangular bars where the length of each bar is proportional to the value it represents. Bars can be vertical or horizontal. |\n",
        "| **Bubble chart** | A type of chart that displays data as bubbles where the size of each bubble represents an additional dimension of the data, typically used to show relationships between variables. |\n",
        "| **Choropleth** | A type of map where areas are shaded or colored in proportion to the value of the variable being represented, typically used to display geographical data. |\n",
        "| **Continuous/Live data** | Data that is constantly updated in real-time, reflecting ongoing changes and allowing dynamic visualization or analysis. |\n",
        "| **Data dashboard** | A centralized visual interface that presents key metrics and data points, often in real-time, allowing for quick insights and decision-making. |\n",
        "| **Dimensions** | Descriptive attributes or characteristics of data, often used in analysis to segment and filter data sets. Typically non-numerical. |\n",
        "| **End-user** | The person or group who ultimately uses a product or service, particularly in a software or data environment, often a consumer or operator. |\n",
        "| **Fields** | Individual columns in a data set or database, each representing a single type of data, such as names, dates, or values. |\n",
        "| **Heatmap** | A graphical representation of data where values are depicted by color, often used to show the intensity or frequency of data points in a specific area. |\n",
        "| **Histogram** | A chart that represents the distribution of numerical data by dividing it into intervals (bins) and displaying the frequency of values in each bin as a bar. |\n",
        "| **import plotly.express as px** | A Python command that imports the Plotly Express library, allowing for the creation of simple, declarative visualizations with minimal code. |\n",
        "| **Information hierarchy** | The organization of data or content in a structured way to prioritize what is most important, guiding users' focus and understanding. |\n",
        "| **Intuitive Design** | A design approach where the interface or product is easy to use and understand without requiring significant explanation or learning. |\n",
        "| **Line chart** | A graph that displays data points connected by a continuous line, often used to show trends over time. |\n",
        "| **Measures** | Numerical data used in analysis, representing quantities, sums, averages, or other calculations typically derived from dimensions. |\n",
        "| **Mockup/Wireframe** | A visual prototype or rough sketch of a design layout, used to plan and communicate the structure and functionality of a system before full development. |\n",
        "| **Narrative** | The story or explanation that connects data points, charts, or visualizations to provide context and meaning for the audience. |\n",
        "| **Pie chart** | A circular chart divided into segments, with each segment representing a proportion of the whole, often used to show percentages or parts of a total. |\n",
        "| **Plotly** | An open-source data visualization library in Python that allows the creation of interactive graphs and plots, often used for complex data analysis and presentation. |\n",
        "| **Production environment** | The final deployment setting where a system, application, or data solution is made accessible to the end-users and must function correctly under real-world conditions. |\n",
        "| **Px.area(data_frame, x, y, ...)** | A Plotly Express function that creates an area chart. Important arguments include `data_frame` (the data), `x` (column for x-axis, usually a time or category), and `y` (column for y-axis, representing a value to be filled). |\n",
        "| **Px.bar(data_frame, x, y, ...)** | A Plotly Express function that generates a bar chart. Key arguments include `data_frame` (the data), `x` (categories or labels on the x-axis), `y` (numeric values for the bars). Optional arguments: `color`, `orientation`. |\n",
        "| **px.chart_type(data_frame, x, y, ...)** | The generic syntax for Plotly Express charts. Replace `chart_type` with specific types like `line`, `scatter`, `pie`, etc. Core arguments include `data_frame` (the data), `x` (x-axis), and `y` (y-axis). |\n",
        "| **Px.choropleth(data_frame, locations, color, ...)** | A Plotly Express function that creates a choropleth map. Key arguments include `data_frame` (the data), `locations` (geographical locations), `color` (numeric or categorical variable mapped to color). |\n",
        "| **Px.histogram(data_frame, x, ...)** | A Plotly Express function that creates a histogram. The main argument is `x` (column representing the data to be binned), with optional arguments like `nbins` (number of bins) and `color`. |\n",
        "| **Px.imshow(img_array, ...)** | A Plotly Express function that visualizes image-like data such as heatmaps or matrices. Core arguments include `img_array` (the array or image data). Optional: `color_continuous_scale` and `aspect_ratio`. |\n",
        "| **px.line(data_frame, x, y, ...)** | A Plotly Express function that creates a line chart. Key arguments include `data_frame` (the data), `x` (x-axis, often time or categories), `y` (numeric data for the y-axis). Optional: `line_shape`, `markers`. |\n",
        "| **Px.pie(data_frame, names, values, ...)** | A Plotly Express function that creates a pie chart. Important arguments include `data_frame` (the data), `names` (labels for slices), and `values` (corresponding values). Optional: `hover_data`, `color`. |\n",
        "| **Px.scatter(data_frame, x, y, ...)** | A Plotly Express function that generates a scatter plot. Core arguments include `data_frame` (the data), `x` (x-axis values), and `y` (y-axis values). Optional: `color`, `size`, `symbol`. |\n",
        "| **Px.scatter(data_frame, x, y, size, color, ...)** | A more advanced scatter plot where `size` adjusts the marker size based on a third variable, and `color` differentiates points based on a categorical or continuous variable. |\n",
        "| **px.treemap(data_frame, path, values, ...)** | A Plotly Express function that generates a tree map. Key arguments include `data_frame` (the data), `path` (categorical groupings), and `values` (size of rectangles). Optional: `color`, `hover_data`. |\n",
        "| **Scatter plot** | A chart that uses dots to represent the values of two variables, often used to identify relationships, patterns, or correlations between the variables. |\n",
        "| **Stacked chart** | A variation of bar or area charts where the data is stacked on top of each other, showing the cumulative total while also displaying the contribution of each individual part. |\n",
        "| **Static Data** | Data that does not change or update after being recorded or loaded, typically used in situations where historical information is analyzed. |\n",
        "| **Tree Map** | A chart that represents hierarchical data as nested rectangles, where the size of each rectangle corresponds to a quantitative variable, and nested levels show categorical groupings. |\n",
        "| **User guide** | A document or resource designed to help end-users understand how to use a product, service, or system, typically containing step-by-step instructions and explanations. |\n",
        "| **User testing** | The process of evaluating a product or system by having real users interact with it to identify usability issues, areas for improvement, and to validate whether it meets user needs. |\n",
        "| **Waterfall chart** | A type of bar chart that shows the cumulative effect of sequentially added positive and negative values, often used to demonstrate how a starting value is impacted by various intermediate steps to reach an end value. |\n",
        "| **Word cloud** | A visual representation of text data where the frequency or importance of each word determines its size in the cloud, often used to depict word frequency in a text dataset. |\n",
        "| **WordCloud(...).generate(text)** | A Python function from the WordCloud library that generates a word cloud from a given text input. |"
      ],
      "metadata": {
        "id": "Zh-ig4iGQbrl"
      }
    }
  ]
}