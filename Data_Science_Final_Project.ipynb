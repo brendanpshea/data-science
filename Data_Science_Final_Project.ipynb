{
  "nbformat": 4,
  "nbformat_minor": 0,
  "metadata": {
    "colab": {
      "provenance": [],
      "authorship_tag": "ABX9TyM70fJJxp12LtuEEhkvFI1H",
      "include_colab_link": true
    },
    "kernelspec": {
      "name": "python3",
      "display_name": "Python 3"
    },
    "language_info": {
      "name": "python"
    }
  },
  "cells": [
    {
      "cell_type": "markdown",
      "metadata": {
        "id": "view-in-github",
        "colab_type": "text"
      },
      "source": [
        "<a href=\"https://colab.research.google.com/github/brendanpshea/data-science/blob/main/Data_Science_Final_Project.ipynb\" target=\"_parent\"><img src=\"https://colab.research.google.com/assets/colab-badge.svg\" alt=\"Open In Colab\"/></a>"
      ]
    },
    {
      "cell_type": "markdown",
      "source": [
        "## Task 1: Load Data\n",
        "\n",
        "Begin your data science exploration by selecting and loading a dataset from the `pydataset` library. The choice of dataset is crucial as it forms the basis of your analysis. Consider the dataset's size, complexity, and relevance to your interests. Once selected, use Python to load the dataset. Investigate its origin: who created the dataset, what was its purpose, and what context does it represent? This understanding is essential for a meaningful analysis. Describe the dataset's contents, including what each column represents, to provide a clear overview of the data you will be working with.\n",
        "\n",
        "-   Selecting a Dataset: Use `data()` to view available datasets in `pydataset`.\n",
        "-   Loading a Dataset: Load with `data('dataset_name')`.\n",
        "-   Exploring the Dataset:\n",
        "    -   Viewing the First Few Rows: Use `head()` to get a glimpse of the dataset.\n",
        "    -   Understanding the Content: Research the dataset's background. What does each column represent?"
      ],
      "metadata": {
        "id": "GnUZ2PZBbm5k"
      }
    },
    {
      "cell_type": "code",
      "execution_count": 1,
      "metadata": {
        "colab": {
          "base_uri": "https://localhost:8080/",
          "height": 493
        },
        "id": "3CocEZiMY6w0",
        "outputId": "90004dca-6f34-47de-b70c-6cc7d79a1ebd"
      },
      "outputs": [
        {
          "output_type": "stream",
          "name": "stdout",
          "text": [
            "\u001b[2K     \u001b[90m━━━━━━━━━━━━━━━━━━━━━━━━━━━━━━━━━━━━━━━━\u001b[0m \u001b[32m15.9/15.9 MB\u001b[0m \u001b[31m45.7 MB/s\u001b[0m eta \u001b[36m0:00:00\u001b[0m\n",
            "\u001b[?25h  Preparing metadata (setup.py) ... \u001b[?25l\u001b[?25hdone\n",
            "  Building wheel for pydataset (setup.py) ... \u001b[?25l\u001b[?25hdone\n",
            "initiated datasets repo at: /root/.pydataset/\n"
          ]
        },
        {
          "output_type": "execute_result",
          "data": {
            "text/plain": [
              "        dataset_id                                             title\n",
              "0    AirPassengers       Monthly Airline Passenger Numbers 1949-1960\n",
              "1          BJsales                 Sales Data with Leading Indicator\n",
              "2              BOD                         Biochemical Oxygen Demand\n",
              "3     Formaldehyde                     Determination of Formaldehyde\n",
              "4     HairEyeColor         Hair and Eye Color of Statistics Students\n",
              "..             ...                                               ...\n",
              "752        VerbAgg                  Verbal Aggression item responses\n",
              "753           cake                 Breakage Angle of Chocolate Cakes\n",
              "754           cbpp                 Contagious bovine pleuropneumonia\n",
              "755    grouseticks  Data on red grouse ticks from Elston et al. 2001\n",
              "756     sleepstudy       Reaction times in a sleep deprivation study\n",
              "\n",
              "[757 rows x 2 columns]"
            ],
            "text/html": [
              "\n",
              "  <div id=\"df-b7de836a-6bc9-416c-bb48-e4254c255f7c\" class=\"colab-df-container\">\n",
              "    <div>\n",
              "<style scoped>\n",
              "    .dataframe tbody tr th:only-of-type {\n",
              "        vertical-align: middle;\n",
              "    }\n",
              "\n",
              "    .dataframe tbody tr th {\n",
              "        vertical-align: top;\n",
              "    }\n",
              "\n",
              "    .dataframe thead th {\n",
              "        text-align: right;\n",
              "    }\n",
              "</style>\n",
              "<table border=\"1\" class=\"dataframe\">\n",
              "  <thead>\n",
              "    <tr style=\"text-align: right;\">\n",
              "      <th></th>\n",
              "      <th>dataset_id</th>\n",
              "      <th>title</th>\n",
              "    </tr>\n",
              "  </thead>\n",
              "  <tbody>\n",
              "    <tr>\n",
              "      <th>0</th>\n",
              "      <td>AirPassengers</td>\n",
              "      <td>Monthly Airline Passenger Numbers 1949-1960</td>\n",
              "    </tr>\n",
              "    <tr>\n",
              "      <th>1</th>\n",
              "      <td>BJsales</td>\n",
              "      <td>Sales Data with Leading Indicator</td>\n",
              "    </tr>\n",
              "    <tr>\n",
              "      <th>2</th>\n",
              "      <td>BOD</td>\n",
              "      <td>Biochemical Oxygen Demand</td>\n",
              "    </tr>\n",
              "    <tr>\n",
              "      <th>3</th>\n",
              "      <td>Formaldehyde</td>\n",
              "      <td>Determination of Formaldehyde</td>\n",
              "    </tr>\n",
              "    <tr>\n",
              "      <th>4</th>\n",
              "      <td>HairEyeColor</td>\n",
              "      <td>Hair and Eye Color of Statistics Students</td>\n",
              "    </tr>\n",
              "    <tr>\n",
              "      <th>...</th>\n",
              "      <td>...</td>\n",
              "      <td>...</td>\n",
              "    </tr>\n",
              "    <tr>\n",
              "      <th>752</th>\n",
              "      <td>VerbAgg</td>\n",
              "      <td>Verbal Aggression item responses</td>\n",
              "    </tr>\n",
              "    <tr>\n",
              "      <th>753</th>\n",
              "      <td>cake</td>\n",
              "      <td>Breakage Angle of Chocolate Cakes</td>\n",
              "    </tr>\n",
              "    <tr>\n",
              "      <th>754</th>\n",
              "      <td>cbpp</td>\n",
              "      <td>Contagious bovine pleuropneumonia</td>\n",
              "    </tr>\n",
              "    <tr>\n",
              "      <th>755</th>\n",
              "      <td>grouseticks</td>\n",
              "      <td>Data on red grouse ticks from Elston et al. 2001</td>\n",
              "    </tr>\n",
              "    <tr>\n",
              "      <th>756</th>\n",
              "      <td>sleepstudy</td>\n",
              "      <td>Reaction times in a sleep deprivation study</td>\n",
              "    </tr>\n",
              "  </tbody>\n",
              "</table>\n",
              "<p>757 rows × 2 columns</p>\n",
              "</div>\n",
              "    <div class=\"colab-df-buttons\">\n",
              "\n",
              "  <div class=\"colab-df-container\">\n",
              "    <button class=\"colab-df-convert\" onclick=\"convertToInteractive('df-b7de836a-6bc9-416c-bb48-e4254c255f7c')\"\n",
              "            title=\"Convert this dataframe to an interactive table.\"\n",
              "            style=\"display:none;\">\n",
              "\n",
              "  <svg xmlns=\"http://www.w3.org/2000/svg\" height=\"24px\" viewBox=\"0 -960 960 960\">\n",
              "    <path d=\"M120-120v-720h720v720H120Zm60-500h600v-160H180v160Zm220 220h160v-160H400v160Zm0 220h160v-160H400v160ZM180-400h160v-160H180v160Zm440 0h160v-160H620v160ZM180-180h160v-160H180v160Zm440 0h160v-160H620v160Z\"/>\n",
              "  </svg>\n",
              "    </button>\n",
              "\n",
              "  <style>\n",
              "    .colab-df-container {\n",
              "      display:flex;\n",
              "      gap: 12px;\n",
              "    }\n",
              "\n",
              "    .colab-df-convert {\n",
              "      background-color: #E8F0FE;\n",
              "      border: none;\n",
              "      border-radius: 50%;\n",
              "      cursor: pointer;\n",
              "      display: none;\n",
              "      fill: #1967D2;\n",
              "      height: 32px;\n",
              "      padding: 0 0 0 0;\n",
              "      width: 32px;\n",
              "    }\n",
              "\n",
              "    .colab-df-convert:hover {\n",
              "      background-color: #E2EBFA;\n",
              "      box-shadow: 0px 1px 2px rgba(60, 64, 67, 0.3), 0px 1px 3px 1px rgba(60, 64, 67, 0.15);\n",
              "      fill: #174EA6;\n",
              "    }\n",
              "\n",
              "    .colab-df-buttons div {\n",
              "      margin-bottom: 4px;\n",
              "    }\n",
              "\n",
              "    [theme=dark] .colab-df-convert {\n",
              "      background-color: #3B4455;\n",
              "      fill: #D2E3FC;\n",
              "    }\n",
              "\n",
              "    [theme=dark] .colab-df-convert:hover {\n",
              "      background-color: #434B5C;\n",
              "      box-shadow: 0px 1px 3px 1px rgba(0, 0, 0, 0.15);\n",
              "      filter: drop-shadow(0px 1px 2px rgba(0, 0, 0, 0.3));\n",
              "      fill: #FFFFFF;\n",
              "    }\n",
              "  </style>\n",
              "\n",
              "    <script>\n",
              "      const buttonEl =\n",
              "        document.querySelector('#df-b7de836a-6bc9-416c-bb48-e4254c255f7c button.colab-df-convert');\n",
              "      buttonEl.style.display =\n",
              "        google.colab.kernel.accessAllowed ? 'block' : 'none';\n",
              "\n",
              "      async function convertToInteractive(key) {\n",
              "        const element = document.querySelector('#df-b7de836a-6bc9-416c-bb48-e4254c255f7c');\n",
              "        const dataTable =\n",
              "          await google.colab.kernel.invokeFunction('convertToInteractive',\n",
              "                                                    [key], {});\n",
              "        if (!dataTable) return;\n",
              "\n",
              "        const docLinkHtml = 'Like what you see? Visit the ' +\n",
              "          '<a target=\"_blank\" href=https://colab.research.google.com/notebooks/data_table.ipynb>data table notebook</a>'\n",
              "          + ' to learn more about interactive tables.';\n",
              "        element.innerHTML = '';\n",
              "        dataTable['output_type'] = 'display_data';\n",
              "        await google.colab.output.renderOutput(dataTable, element);\n",
              "        const docLink = document.createElement('div');\n",
              "        docLink.innerHTML = docLinkHtml;\n",
              "        element.appendChild(docLink);\n",
              "      }\n",
              "    </script>\n",
              "  </div>\n",
              "\n",
              "\n",
              "<div id=\"df-5199ee21-05da-4d6c-bab3-8ac3988e4651\">\n",
              "  <button class=\"colab-df-quickchart\" onclick=\"quickchart('df-5199ee21-05da-4d6c-bab3-8ac3988e4651')\"\n",
              "            title=\"Suggest charts\"\n",
              "            style=\"display:none;\">\n",
              "\n",
              "<svg xmlns=\"http://www.w3.org/2000/svg\" height=\"24px\"viewBox=\"0 0 24 24\"\n",
              "     width=\"24px\">\n",
              "    <g>\n",
              "        <path d=\"M19 3H5c-1.1 0-2 .9-2 2v14c0 1.1.9 2 2 2h14c1.1 0 2-.9 2-2V5c0-1.1-.9-2-2-2zM9 17H7v-7h2v7zm4 0h-2V7h2v10zm4 0h-2v-4h2v4z\"/>\n",
              "    </g>\n",
              "</svg>\n",
              "  </button>\n",
              "\n",
              "<style>\n",
              "  .colab-df-quickchart {\n",
              "      --bg-color: #E8F0FE;\n",
              "      --fill-color: #1967D2;\n",
              "      --hover-bg-color: #E2EBFA;\n",
              "      --hover-fill-color: #174EA6;\n",
              "      --disabled-fill-color: #AAA;\n",
              "      --disabled-bg-color: #DDD;\n",
              "  }\n",
              "\n",
              "  [theme=dark] .colab-df-quickchart {\n",
              "      --bg-color: #3B4455;\n",
              "      --fill-color: #D2E3FC;\n",
              "      --hover-bg-color: #434B5C;\n",
              "      --hover-fill-color: #FFFFFF;\n",
              "      --disabled-bg-color: #3B4455;\n",
              "      --disabled-fill-color: #666;\n",
              "  }\n",
              "\n",
              "  .colab-df-quickchart {\n",
              "    background-color: var(--bg-color);\n",
              "    border: none;\n",
              "    border-radius: 50%;\n",
              "    cursor: pointer;\n",
              "    display: none;\n",
              "    fill: var(--fill-color);\n",
              "    height: 32px;\n",
              "    padding: 0;\n",
              "    width: 32px;\n",
              "  }\n",
              "\n",
              "  .colab-df-quickchart:hover {\n",
              "    background-color: var(--hover-bg-color);\n",
              "    box-shadow: 0 1px 2px rgba(60, 64, 67, 0.3), 0 1px 3px 1px rgba(60, 64, 67, 0.15);\n",
              "    fill: var(--button-hover-fill-color);\n",
              "  }\n",
              "\n",
              "  .colab-df-quickchart-complete:disabled,\n",
              "  .colab-df-quickchart-complete:disabled:hover {\n",
              "    background-color: var(--disabled-bg-color);\n",
              "    fill: var(--disabled-fill-color);\n",
              "    box-shadow: none;\n",
              "  }\n",
              "\n",
              "  .colab-df-spinner {\n",
              "    border: 2px solid var(--fill-color);\n",
              "    border-color: transparent;\n",
              "    border-bottom-color: var(--fill-color);\n",
              "    animation:\n",
              "      spin 1s steps(1) infinite;\n",
              "  }\n",
              "\n",
              "  @keyframes spin {\n",
              "    0% {\n",
              "      border-color: transparent;\n",
              "      border-bottom-color: var(--fill-color);\n",
              "      border-left-color: var(--fill-color);\n",
              "    }\n",
              "    20% {\n",
              "      border-color: transparent;\n",
              "      border-left-color: var(--fill-color);\n",
              "      border-top-color: var(--fill-color);\n",
              "    }\n",
              "    30% {\n",
              "      border-color: transparent;\n",
              "      border-left-color: var(--fill-color);\n",
              "      border-top-color: var(--fill-color);\n",
              "      border-right-color: var(--fill-color);\n",
              "    }\n",
              "    40% {\n",
              "      border-color: transparent;\n",
              "      border-right-color: var(--fill-color);\n",
              "      border-top-color: var(--fill-color);\n",
              "    }\n",
              "    60% {\n",
              "      border-color: transparent;\n",
              "      border-right-color: var(--fill-color);\n",
              "    }\n",
              "    80% {\n",
              "      border-color: transparent;\n",
              "      border-right-color: var(--fill-color);\n",
              "      border-bottom-color: var(--fill-color);\n",
              "    }\n",
              "    90% {\n",
              "      border-color: transparent;\n",
              "      border-bottom-color: var(--fill-color);\n",
              "    }\n",
              "  }\n",
              "</style>\n",
              "\n",
              "  <script>\n",
              "    async function quickchart(key) {\n",
              "      const quickchartButtonEl =\n",
              "        document.querySelector('#' + key + ' button');\n",
              "      quickchartButtonEl.disabled = true;  // To prevent multiple clicks.\n",
              "      quickchartButtonEl.classList.add('colab-df-spinner');\n",
              "      try {\n",
              "        const charts = await google.colab.kernel.invokeFunction(\n",
              "            'suggestCharts', [key], {});\n",
              "      } catch (error) {\n",
              "        console.error('Error during call to suggestCharts:', error);\n",
              "      }\n",
              "      quickchartButtonEl.classList.remove('colab-df-spinner');\n",
              "      quickchartButtonEl.classList.add('colab-df-quickchart-complete');\n",
              "    }\n",
              "    (() => {\n",
              "      let quickchartButtonEl =\n",
              "        document.querySelector('#df-5199ee21-05da-4d6c-bab3-8ac3988e4651 button');\n",
              "      quickchartButtonEl.style.display =\n",
              "        google.colab.kernel.accessAllowed ? 'block' : 'none';\n",
              "    })();\n",
              "  </script>\n",
              "</div>\n",
              "    </div>\n",
              "  </div>\n"
            ]
          },
          "metadata": {},
          "execution_count": 1
        }
      ],
      "source": [
        "!pip install pydataset -q # Install required packages\n",
        "from pydataset import data # Import required modules\n",
        "import pandas as pd\n",
        "\n",
        "data() # Show available data"
      ]
    },
    {
      "cell_type": "code",
      "source": [
        "# You can load your data set like this:\n",
        "# my_data_frame = data('data_set_name')"
      ],
      "metadata": {
        "id": "tUMeW6UodlZ_"
      },
      "execution_count": 2,
      "outputs": []
    },
    {
      "cell_type": "code",
      "source": [],
      "metadata": {
        "id": "wVvZqhx4dldZ"
      },
      "execution_count": null,
      "outputs": []
    },
    {
      "cell_type": "markdown",
      "source": [
        "## Task 2: Structure Analysis\n",
        "\n",
        "The structure of your dataset can significantly impact your analysis. Use Python to reveal the dataset's structure: the types of variables (numeric, categorical, etc.), and its dimensionality (number of rows and columns). This information will guide your analytical approach, dictating the types of questions you can ask and the methods you can employ. Understanding the dataset's structure is foundational to any data analysis task.\n",
        "\n",
        "-   Use `info()` to get a summary, including column names, non-null counts, and data types.\n",
        "-   Apply `describe()` for a statistical summary of numerical columns.\n",
        "-   Determine the number of rows and columns with `shape`.\n"
      ],
      "metadata": {
        "id": "M9BU60FBbtG6"
      }
    },
    {
      "cell_type": "code",
      "source": [],
      "metadata": {
        "id": "IR4ic0h7b8Ep"
      },
      "execution_count": null,
      "outputs": []
    },
    {
      "cell_type": "code",
      "source": [],
      "metadata": {
        "id": "kQb3BtXpb8ND"
      },
      "execution_count": null,
      "outputs": []
    },
    {
      "cell_type": "code",
      "source": [],
      "metadata": {
        "id": "veqw6o0tb8bO"
      },
      "execution_count": null,
      "outputs": []
    },
    {
      "cell_type": "markdown",
      "source": [
        "## Task 3: Contextual Inquiry\n",
        "\n",
        "Reflect on how the structure of your dataset influences its interpretation and usability. Consider how different types of variables and their scales of measurement can shape the analysis you perform. This task is not just about understanding the dataset but also about appreciating the philosophical aspects of data analysis: how data structure can constrain or enable certain interpretations and insights."
      ],
      "metadata": {
        "id": "890EW9ZBb8yi"
      }
    },
    {
      "cell_type": "markdown",
      "source": [
        "Answer:"
      ],
      "metadata": {
        "id": "uqaqXJu3cBS7"
      }
    },
    {
      "cell_type": "markdown",
      "source": [
        "## Task 4: Data Filtering\n",
        "\n",
        "Filtering data allows you to focus on specific segments that are most pertinent to your analysis. This task involves writing Python code to filter your dataset based on a defined criterion, such as a range of values in a numerical column or specific categories in a categorical column. Filtering is a powerful tool in data analysis, enabling you to narrow down your focus to the most relevant data points.\n",
        "\n",
        "-  Determine what criteria you want to use (e.g., a range of values).\n",
        "-   Filtering Syntax:\n",
        "    -    Apply conditions directly within `df[df['column'] <condition>]`.\n",
        "    -   Utilize `.loc[]` or `.query()` for more complex filtering needs."
      ],
      "metadata": {
        "id": "ugUSYbgQcCin"
      }
    },
    {
      "cell_type": "code",
      "source": [],
      "metadata": {
        "id": "9uze9QqBcKK-"
      },
      "execution_count": null,
      "outputs": []
    },
    {
      "cell_type": "code",
      "source": [],
      "metadata": {
        "id": "ZwKjlkv1cRoC"
      },
      "execution_count": null,
      "outputs": []
    },
    {
      "cell_type": "code",
      "source": [],
      "metadata": {
        "id": "J1z_jX1VcRua"
      },
      "execution_count": null,
      "outputs": []
    },
    {
      "cell_type": "markdown",
      "source": [
        "## Task 5: Filtering Reflection\n",
        "\n",
        "Having filtered your data, it's crucial to reflect on the implications of this action. Consider how filtering can impact the representativeness of your dataset and introduce potential biases. This reflection is an exercise in critical thinking about your methodological choices in data analysis. Discuss the implications of these choices and their potential impact on the conclusions you draw from the data.\n",
        "\n",
        "Each task is designed to deepen your understanding of both the technical and philosophical aspects of data science, encouraging a comprehensive approach to data analysis."
      ],
      "metadata": {
        "id": "2wgPtVG1cUi3"
      }
    },
    {
      "cell_type": "markdown",
      "source": [
        "Answer:"
      ],
      "metadata": {
        "id": "P5Vt7gL8c-gL"
      }
    },
    {
      "cell_type": "markdown",
      "source": [
        "## Task 6: Descriptive Statistics\n",
        "\n",
        "In this task, your objective is to compute basic descriptive statistics for your dataset. Descriptive statistics provide a summary of the central tendency, dispersion, and shape of a dataset's distribution. You will calculate statistics like mean, median, mode, range, variance, and standard deviation for relevant columns. This process helps in understanding the basic characteristics of the data, setting the stage for deeper analysis.\n",
        "\n",
        "-   Computing Descriptive Statistics:\n",
        "    -   Mean, Median, Mode: Use `mean()`, `median()`, and `mode()` functions on your DataFrame.\n",
        "    -   Variance and Standard Deviation: Employ `var()` and `std()` to understand data spread.\n",
        "    -   Summarizing Data: `describe()` offers a quick overview of key statistics for each column.\n"
      ],
      "metadata": {
        "id": "u0JA1JqCdCEp"
      }
    },
    {
      "cell_type": "code",
      "source": [],
      "metadata": {
        "id": "0PTcUOZvdEXP"
      },
      "execution_count": null,
      "outputs": []
    },
    {
      "cell_type": "code",
      "source": [],
      "metadata": {
        "id": "MEWmEgh7dEZp"
      },
      "execution_count": null,
      "outputs": []
    },
    {
      "cell_type": "code",
      "source": [],
      "metadata": {
        "id": "fxSrmgJQdEdM"
      },
      "execution_count": null,
      "outputs": []
    },
    {
      "cell_type": "code",
      "source": [],
      "metadata": {
        "id": "FAIYyz58dFRh"
      },
      "execution_count": null,
      "outputs": []
    },
    {
      "cell_type": "markdown",
      "source": [
        "## Task 7: Statistical Interpretation\n",
        "\n",
        "Upon computing the descriptive statistics, interpret what these numbers reveal about your dataset. What does the mean tell you about the average trend in your data? How does the standard deviation inform you about the variability of the data? This task involves not just stating the figures but understanding their implications on the dataset's underlying phenomena. Reflect on how these statistics can guide you in formulating hypotheses or insights about the data."
      ],
      "metadata": {
        "id": "2reGDLwmdFd8"
      }
    },
    {
      "cell_type": "markdown",
      "source": [
        "Answer:"
      ],
      "metadata": {
        "id": "vWi618hFdQlK"
      }
    },
    {
      "cell_type": "markdown",
      "source": [
        "## Task 8: Data Visualization\n",
        "\n",
        "Visual representation of data can reveal patterns and insights that numbers alone might not show. Create basic visualizations like histograms or scatter plots for key variables in your dataset. The choice of visualization should depend on the type and distribution of the data. For instance, histograms are great for showing frequency distributions, while scatter plots can help in identifying relationships between variables.\n",
        "\n",
        "-   Creating Visualizations:\n",
        "    -   Histograms: Use `hist()` for plotting the distribution of a numeric variable.\n",
        "    -   Scatter Plots: Employ `plot.scatter()` to observe relationships between two numerical variables.\n",
        "    -   Customizing Plots: Experiment with parameters like `bins` in histograms or `color` and `size` in scatter plots to enhance readability."
      ],
      "metadata": {
        "id": "4lD3XGlUdSE-"
      }
    },
    {
      "cell_type": "code",
      "source": [],
      "metadata": {
        "id": "vL7dyRKDdarJ"
      },
      "execution_count": null,
      "outputs": []
    },
    {
      "cell_type": "code",
      "source": [],
      "metadata": {
        "id": "-UI_0mgRdayg"
      },
      "execution_count": null,
      "outputs": []
    },
    {
      "cell_type": "code",
      "source": [],
      "metadata": {
        "id": "XSXUhTd-da16"
      },
      "execution_count": null,
      "outputs": []
    },
    {
      "cell_type": "markdown",
      "source": [
        "## Task 9: Visualization Philosophy\n",
        "\n",
        "After creating your visualizations, ponder on how different visualization choices can impact the interpretation of data. How might the choice of a histogram vs. a scatter plot lead to different insights? Discuss the importance of selecting the right type of visualization for your data and how this choice can lead to different interpretations or conclusions. This task encourages you to think about the role of visualizations in data storytelling and how they can both reveal and obscure aspects of your data."
      ],
      "metadata": {
        "id": "tKSYnaa1dbMD"
      }
    },
    {
      "cell_type": "markdown",
      "source": [
        "## Task 10: Hypothesis Testing\n",
        "\n",
        "Hypothesis testing is a critical component of statistical inference, allowing you to make conclusions about a population based on sample data. For this task, formulate a simple hypothesis related to your dataset. This could be a test of means, proportions, or any other statistical measure. Your hypothesis should make a specific claim that can be tested statistically. For instance, if working with a dataset on heights, you might hypothesize that the average height of individuals in the dataset is different from a known average.\n",
        "\n",
        "-   Define a null hypothesis (H0) and an alternative hypothesis (H1). The null hypothesis typically represents a statement of 'no effect' or 'no difference'.\n",
        "-   Choose an appropriate statistical test based on your data type and hypothesis. Common tests include the t-test (for means), chi-square test (for categorical data), etc.\n",
        "-   Utilize Python's statistical libraries like `scipy.stats` to perform the test. For a t-test, you can use `scipy.stats.ttest_1samp()` or `ttest_ind()` depending on your hypothesis.\n",
        "-    Decide on a significance level (commonly α = 0.05) to determine the threshold for rejecting the null hypothesis."
      ],
      "metadata": {
        "id": "V-n2VHv9esjX"
      }
    },
    {
      "cell_type": "code",
      "source": [],
      "metadata": {
        "id": "JnAU6xGYetlk"
      },
      "execution_count": null,
      "outputs": []
    },
    {
      "cell_type": "code",
      "source": [],
      "metadata": {
        "id": "xGsyE3aDetrs"
      },
      "execution_count": null,
      "outputs": []
    },
    {
      "cell_type": "code",
      "source": [],
      "metadata": {
        "id": "ZXFcVY22et1q"
      },
      "execution_count": null,
      "outputs": []
    },
    {
      "cell_type": "markdown",
      "source": [
        "## Task 11: Hypothesis Testing Interpretation\n",
        "\n",
        "After conducting the hypothesis test, the next step is to interpret the results. This involves understanding the p-value and test statistic in the context of your chosen significance level and what they imply about your hypothesis. For instance, a p-value lower than your significance level suggests that you can reject the null hypothesis. Explain what this conclusion means in the context of your dataset and the real-world phenomenon it represents. Does it support or refute your initial hypothesis? Reflect on the implications of your findings and any limitations of your testing approach."
      ],
      "metadata": {
        "id": "7bSHO3_ue07I"
      }
    },
    {
      "cell_type": "markdown",
      "source": [
        "Answer:"
      ],
      "metadata": {
        "id": "ZLpQAf8Re489"
      }
    },
    {
      "cell_type": "markdown",
      "source": [
        "## Task 12: Ethical Considerations\n",
        "\n",
        "In this task, reflect on the ethical considerations surrounding your dataset. Ethical considerations in data science encompass the principles and values that guide the collection, analysis, and interpretation of data. Consider the source of the data: was it collected in a manner that respected the privacy and consent of individuals? When analyzing the data, think about potential harms that could arise from your analysis or the conclusions you draw. Also, consider the interpretation of your results: are there ways in which your conclusions could be misused, or could they impact certain groups disproportionately?\n",
        "\n",
        "-   Reflect on the ethicality of how the data was collected. Consider aspects like consent, privacy, and data security.\n",
        "-   Think about the potential impacts of your analysis. Could it lead to harmful conclusions or actions?\n",
        "-   Consider how your conclusions could be interpreted or misinterpreted. Be mindful of overgeneralization and misrepresentation of results."
      ],
      "metadata": {
        "id": "Aoo8PeaYgIe6"
      }
    },
    {
      "cell_type": "markdown",
      "source": [
        "Answer:"
      ],
      "metadata": {
        "id": "26kaI61RgOmd"
      }
    },
    {
      "cell_type": "markdown",
      "source": [
        "## Task 13: Bias\n",
        "\n",
        "Bias in data can significantly impact the conclusions drawn from data analysis. In this task, delve into the philosophical implications of bias in data. Bias can manifest in various forms -- sampling bias, measurement bias, or bias due to missing data, among others. Discuss how these biases might influence the dataset you are working with. Reflect on the broader philosophical questions: How does bias affect the validity of data-driven conclusions? Can data ever be truly unbiased, or is some level of bias inherent in all data? How do we as data scientists recognize and mitigate the effects of bias in our analyses?\n",
        "\n",
        "-   dentify potential biases in your dataset and their sources.\n",
        "-   Discuss how bias can lead to skewed or invalid conclusions.\n",
        "-   Reflect on strategies for recognizing and reducing bias in data analysis."
      ],
      "metadata": {
        "id": "bA1y1DQGgPpY"
      }
    },
    {
      "cell_type": "markdown",
      "source": [
        "Answer:"
      ],
      "metadata": {
        "id": "PN2nRAfZgU39"
      }
    },
    {
      "cell_type": "markdown",
      "source": [
        "## Task 14: Do Something Creative\n",
        "\n",
        "This task invites you to apply more advanced data science techniques to your dataset. It's an opportunity to explore beyond the basics and demonstrate your creativity and technical skills. Here are five ideas to consider, each involving standard Python libraries:\n",
        "\n",
        "1.  Time Series Analysis (if your dataset is time-based): Use libraries like `pandas` and `statsmodels` to analyze trends, seasonal patterns, or cyclical behaviors in your data.\n",
        "2.  Text Analysis and Natural Language Processing (if your dataset includes textual data): Utilize `nltk` or `spaCy` to conduct sentiment analysis, topic modeling, or text classification.\n",
        "3.  Machine Learning Models: Apply machine learning algorithms using `scikit-learn`. For example, you could do classification, regression, or clustering depending on your dataset.\n",
        "4.  Network Analysis (if your data can be represented as a network): Use `networkx` to analyze social networks, connectivity patterns, or the structure of interactions.\n",
        "5.  Geospatial Analysis (if your dataset includes geographic data): Employ `geopandas` and `folium` to visualize geographic data, analyze spatial relationships, or explore patterns over space.\n",
        "\n",
        "These ideas are not exhaustive but serve as starting points for exploring more complex data science methodologies. The key is to choose a project that not only challenges you but also adds a unique dimension to your analysis.\n",
        "\n",
        "(Note: My expectation here is not that you \"master\" these techniques. Instead, the goal is to do a little of your **own** research on one of these things, and give it your best effort. I'll be very generous in grading!)"
      ],
      "metadata": {
        "id": "EkKTAMsQgV14"
      }
    },
    {
      "cell_type": "code",
      "source": [],
      "metadata": {
        "id": "OvOxq9jXhASR"
      },
      "execution_count": null,
      "outputs": []
    },
    {
      "cell_type": "code",
      "source": [],
      "metadata": {
        "id": "JagS02l3hAUa"
      },
      "execution_count": null,
      "outputs": []
    },
    {
      "cell_type": "code",
      "source": [],
      "metadata": {
        "id": "33i9w2lRhAX9"
      },
      "execution_count": null,
      "outputs": []
    },
    {
      "cell_type": "markdown",
      "source": [
        "## Task 15: Final Reflection\n",
        "\n",
        "For your final task, reflect on your experience with this project. This reflection should encompass both the technical aspects of your work and the broader implications. Consider the following points:\n",
        "\n",
        "-  What new skills or techniques did you learn while working on this project? How did you overcome challenges encountered during your analysis?\n",
        "-  What insights or interesting findings emerged from your analysis? How did these findings align or conflict with your initial expectations?\n",
        "-  Reflect on any ethical dilemmas you faced during your analysis. How did you address them? What philosophical questions about data science did this project raise for you?\n",
        "-   Based on your experience, what would you like to explore further in the field of data science? Are there specific skills, techniques, or areas of study you are interested in pursuing next?"
      ],
      "metadata": {
        "id": "wL_nXe-RhDPK"
      }
    }
  ]
}