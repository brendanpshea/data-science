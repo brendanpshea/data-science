{
  "nbformat": 4,
  "nbformat_minor": 0,
  "metadata": {
    "colab": {
      "provenance": [],
      "authorship_tag": "ABX9TyO1BkZCZf7AluO2WqYOFjn8",
      "include_colab_link": true
    },
    "kernelspec": {
      "name": "python3",
      "display_name": "Python 3"
    },
    "language_info": {
      "name": "python"
    }
  },
  "cells": [
    {
      "cell_type": "markdown",
      "metadata": {
        "id": "view-in-github",
        "colab_type": "text"
      },
      "source": [
        "<a href=\"https://colab.research.google.com/github/brendanpshea/data-science/blob/main/Data_Science_Final_Project.ipynb\" target=\"_parent\"><img src=\"https://colab.research.google.com/assets/colab-badge.svg\" alt=\"Open In Colab\"/></a>"
      ]
    },
    {
      "cell_type": "markdown",
      "source": [
        "## Task 1: Load Data\n",
        "\n",
        "Begin your data science exploration by selecting and loading a dataset from the `pydataset` library. The choice of dataset is crucial as it forms the basis of your analysis. Consider the dataset's size, complexity, and relevance to your interests. Once selected, use Python to load the dataset. Investigate its origin: who created the dataset, what was its purpose, and what context does it represent? This understanding is essential for a meaningful analysis. Describe the dataset's contents, including what each column represents, to provide a clear overview of the data you will be working with.\n",
        "\n",
        "-   Selecting a Dataset: Use `data()` to view available datasets in `pydataset`.\n",
        "-   Loading a Dataset: Load with `data('dataset_name')`.\n",
        "-   Exploring the Dataset:\n",
        "    -   Viewing the First Few Rows: Use `head()` to get a glimpse of the dataset.\n",
        "    -   Understanding the Content: Research the dataset's background. What does each column represent?"
      ],
      "metadata": {
        "id": "GnUZ2PZBbm5k"
      }
    },
    {
      "cell_type": "code",
      "execution_count": 1,
      "metadata": {
        "colab": {
          "base_uri": "https://localhost:8080/",
          "height": 493
        },
        "id": "3CocEZiMY6w0",
        "outputId": "90004dca-6f34-47de-b70c-6cc7d79a1ebd"
      },
      "outputs": [
        {
          "output_type": "stream",
          "name": "stdout",
          "text": [
            "\u001b[2K     \u001b[90m━━━━━━━━━━━━━━━━━━━━━━━━━━━━━━━━━━━━━━━━\u001b[0m \u001b[32m15.9/15.9 MB\u001b[0m \u001b[31m45.7 MB/s\u001b[0m eta \u001b[36m0:00:00\u001b[0m\n",
            "\u001b[?25h  Preparing metadata (setup.py) ... \u001b[?25l\u001b[?25hdone\n",
            "  Building wheel for pydataset (setup.py) ... \u001b[?25l\u001b[?25hdone\n",
            "initiated datasets repo at: /root/.pydataset/\n"
          ]
        },
        {
          "output_type": "execute_result",
          "data": {
            "text/plain": [
              "        dataset_id                                             title\n",
              "0    AirPassengers       Monthly Airline Passenger Numbers 1949-1960\n",
              "1          BJsales                 Sales Data with Leading Indicator\n",
              "2              BOD                         Biochemical Oxygen Demand\n",
              "3     Formaldehyde                     Determination of Formaldehyde\n",
              "4     HairEyeColor         Hair and Eye Color of Statistics Students\n",
              "..             ...                                               ...\n",
              "752        VerbAgg                  Verbal Aggression item responses\n",
              "753           cake                 Breakage Angle of Chocolate Cakes\n",
              "754           cbpp                 Contagious bovine pleuropneumonia\n",
              "755    grouseticks  Data on red grouse ticks from Elston et al. 2001\n",
              "756     sleepstudy       Reaction times in a sleep deprivation study\n",
              "\n",
              "[757 rows x 2 columns]"
            ],
            "text/html": [
              "\n",
              "  <div id=\"df-b7de836a-6bc9-416c-bb48-e4254c255f7c\" class=\"colab-df-container\">\n",
              "    <div>\n",
              "<style scoped>\n",
              "    .dataframe tbody tr th:only-of-type {\n",
              "        vertical-align: middle;\n",
              "    }\n",
              "\n",
              "    .dataframe tbody tr th {\n",
              "        vertical-align: top;\n",
              "    }\n",
              "\n",
              "    .dataframe thead th {\n",
              "        text-align: right;\n",
              "    }\n",
              "</style>\n",
              "<table border=\"1\" class=\"dataframe\">\n",
              "  <thead>\n",
              "    <tr style=\"text-align: right;\">\n",
              "      <th></th>\n",
              "      <th>dataset_id</th>\n",
              "      <th>title</th>\n",
              "    </tr>\n",
              "  </thead>\n",
              "  <tbody>\n",
              "    <tr>\n",
              "      <th>0</th>\n",
              "      <td>AirPassengers</td>\n",
              "      <td>Monthly Airline Passenger Numbers 1949-1960</td>\n",
              "    </tr>\n",
              "    <tr>\n",
              "      <th>1</th>\n",
              "      <td>BJsales</td>\n",
              "      <td>Sales Data with Leading Indicator</td>\n",
              "    </tr>\n",
              "    <tr>\n",
              "      <th>2</th>\n",
              "      <td>BOD</td>\n",
              "      <td>Biochemical Oxygen Demand</td>\n",
              "    </tr>\n",
              "    <tr>\n",
              "      <th>3</th>\n",
              "      <td>Formaldehyde</td>\n",
              "      <td>Determination of Formaldehyde</td>\n",
              "    </tr>\n",
              "    <tr>\n",
              "      <th>4</th>\n",
              "      <td>HairEyeColor</td>\n",
              "      <td>Hair and Eye Color of Statistics Students</td>\n",
              "    </tr>\n",
              "    <tr>\n",
              "      <th>...</th>\n",
              "      <td>...</td>\n",
              "      <td>...</td>\n",
              "    </tr>\n",
              "    <tr>\n",
              "      <th>752</th>\n",
              "      <td>VerbAgg</td>\n",
              "      <td>Verbal Aggression item responses</td>\n",
              "    </tr>\n",
              "    <tr>\n",
              "      <th>753</th>\n",
              "      <td>cake</td>\n",
              "      <td>Breakage Angle of Chocolate Cakes</td>\n",
              "    </tr>\n",
              "    <tr>\n",
              "      <th>754</th>\n",
              "      <td>cbpp</td>\n",
              "      <td>Contagious bovine pleuropneumonia</td>\n",
              "    </tr>\n",
              "    <tr>\n",
              "      <th>755</th>\n",
              "      <td>grouseticks</td>\n",
              "      <td>Data on red grouse ticks from Elston et al. 2001</td>\n",
              "    </tr>\n",
              "    <tr>\n",
              "      <th>756</th>\n",
              "      <td>sleepstudy</td>\n",
              "      <td>Reaction times in a sleep deprivation study</td>\n",
              "    </tr>\n",
              "  </tbody>\n",
              "</table>\n",
              "<p>757 rows × 2 columns</p>\n",
              "</div>\n",
              "    <div class=\"colab-df-buttons\">\n",
              "\n",
              "  <div class=\"colab-df-container\">\n",
              "    <button class=\"colab-df-convert\" onclick=\"convertToInteractive('df-b7de836a-6bc9-416c-bb48-e4254c255f7c')\"\n",
              "            title=\"Convert this dataframe to an interactive table.\"\n",
              "            style=\"display:none;\">\n",
              "\n",
              "  <svg xmlns=\"http://www.w3.org/2000/svg\" height=\"24px\" viewBox=\"0 -960 960 960\">\n",
              "    <path d=\"M120-120v-720h720v720H120Zm60-500h600v-160H180v160Zm220 220h160v-160H400v160Zm0 220h160v-160H400v160ZM180-400h160v-160H180v160Zm440 0h160v-160H620v160ZM180-180h160v-160H180v160Zm440 0h160v-160H620v160Z\"/>\n",
              "  </svg>\n",
              "    </button>\n",
              "\n",
              "  <style>\n",
              "    .colab-df-container {\n",
              "      display:flex;\n",
              "      gap: 12px;\n",
              "    }\n",
              "\n",
              "    .colab-df-convert {\n",
              "      background-color: #E8F0FE;\n",
              "      border: none;\n",
              "      border-radius: 50%;\n",
              "      cursor: pointer;\n",
              "      display: none;\n",
              "      fill: #1967D2;\n",
              "      height: 32px;\n",
              "      padding: 0 0 0 0;\n",
              "      width: 32px;\n",
              "    }\n",
              "\n",
              "    .colab-df-convert:hover {\n",
              "      background-color: #E2EBFA;\n",
              "      box-shadow: 0px 1px 2px rgba(60, 64, 67, 0.3), 0px 1px 3px 1px rgba(60, 64, 67, 0.15);\n",
              "      fill: #174EA6;\n",
              "    }\n",
              "\n",
              "    .colab-df-buttons div {\n",
              "      margin-bottom: 4px;\n",
              "    }\n",
              "\n",
              "    [theme=dark] .colab-df-convert {\n",
              "      background-color: #3B4455;\n",
              "      fill: #D2E3FC;\n",
              "    }\n",
              "\n",
              "    [theme=dark] .colab-df-convert:hover {\n",
              "      background-color: #434B5C;\n",
              "      box-shadow: 0px 1px 3px 1px rgba(0, 0, 0, 0.15);\n",
              "      filter: drop-shadow(0px 1px 2px rgba(0, 0, 0, 0.3));\n",
              "      fill: #FFFFFF;\n",
              "    }\n",
              "  </style>\n",
              "\n",
              "    <script>\n",
              "      const buttonEl =\n",
              "        document.querySelector('#df-b7de836a-6bc9-416c-bb48-e4254c255f7c button.colab-df-convert');\n",
              "      buttonEl.style.display =\n",
              "        google.colab.kernel.accessAllowed ? 'block' : 'none';\n",
              "\n",
              "      async function convertToInteractive(key) {\n",
              "        const element = document.querySelector('#df-b7de836a-6bc9-416c-bb48-e4254c255f7c');\n",
              "        const dataTable =\n",
              "          await google.colab.kernel.invokeFunction('convertToInteractive',\n",
              "                                                    [key], {});\n",
              "        if (!dataTable) return;\n",
              "\n",
              "        const docLinkHtml = 'Like what you see? Visit the ' +\n",
              "          '<a target=\"_blank\" href=https://colab.research.google.com/notebooks/data_table.ipynb>data table notebook</a>'\n",
              "          + ' to learn more about interactive tables.';\n",
              "        element.innerHTML = '';\n",
              "        dataTable['output_type'] = 'display_data';\n",
              "        await google.colab.output.renderOutput(dataTable, element);\n",
              "        const docLink = document.createElement('div');\n",
              "        docLink.innerHTML = docLinkHtml;\n",
              "        element.appendChild(docLink);\n",
              "      }\n",
              "    </script>\n",
              "  </div>\n",
              "\n",
              "\n",
              "<div id=\"df-5199ee21-05da-4d6c-bab3-8ac3988e4651\">\n",
              "  <button class=\"colab-df-quickchart\" onclick=\"quickchart('df-5199ee21-05da-4d6c-bab3-8ac3988e4651')\"\n",
              "            title=\"Suggest charts\"\n",
              "            style=\"display:none;\">\n",
              "\n",
              "<svg xmlns=\"http://www.w3.org/2000/svg\" height=\"24px\"viewBox=\"0 0 24 24\"\n",
              "     width=\"24px\">\n",
              "    <g>\n",
              "        <path d=\"M19 3H5c-1.1 0-2 .9-2 2v14c0 1.1.9 2 2 2h14c1.1 0 2-.9 2-2V5c0-1.1-.9-2-2-2zM9 17H7v-7h2v7zm4 0h-2V7h2v10zm4 0h-2v-4h2v4z\"/>\n",
              "    </g>\n",
              "</svg>\n",
              "  </button>\n",
              "\n",
              "<style>\n",
              "  .colab-df-quickchart {\n",
              "      --bg-color: #E8F0FE;\n",
              "      --fill-color: #1967D2;\n",
              "      --hover-bg-color: #E2EBFA;\n",
              "      --hover-fill-color: #174EA6;\n",
              "      --disabled-fill-color: #AAA;\n",
              "      --disabled-bg-color: #DDD;\n",
              "  }\n",
              "\n",
              "  [theme=dark] .colab-df-quickchart {\n",
              "      --bg-color: #3B4455;\n",
              "      --fill-color: #D2E3FC;\n",
              "      --hover-bg-color: #434B5C;\n",
              "      --hover-fill-color: #FFFFFF;\n",
              "      --disabled-bg-color: #3B4455;\n",
              "      --disabled-fill-color: #666;\n",
              "  }\n",
              "\n",
              "  .colab-df-quickchart {\n",
              "    background-color: var(--bg-color);\n",
              "    border: none;\n",
              "    border-radius: 50%;\n",
              "    cursor: pointer;\n",
              "    display: none;\n",
              "    fill: var(--fill-color);\n",
              "    height: 32px;\n",
              "    padding: 0;\n",
              "    width: 32px;\n",
              "  }\n",
              "\n",
              "  .colab-df-quickchart:hover {\n",
              "    background-color: var(--hover-bg-color);\n",
              "    box-shadow: 0 1px 2px rgba(60, 64, 67, 0.3), 0 1px 3px 1px rgba(60, 64, 67, 0.15);\n",
              "    fill: var(--button-hover-fill-color);\n",
              "  }\n",
              "\n",
              "  .colab-df-quickchart-complete:disabled,\n",
              "  .colab-df-quickchart-complete:disabled:hover {\n",
              "    background-color: var(--disabled-bg-color);\n",
              "    fill: var(--disabled-fill-color);\n",
              "    box-shadow: none;\n",
              "  }\n",
              "\n",
              "  .colab-df-spinner {\n",
              "    border: 2px solid var(--fill-color);\n",
              "    border-color: transparent;\n",
              "    border-bottom-color: var(--fill-color);\n",
              "    animation:\n",
              "      spin 1s steps(1) infinite;\n",
              "  }\n",
              "\n",
              "  @keyframes spin {\n",
              "    0% {\n",
              "      border-color: transparent;\n",
              "      border-bottom-color: var(--fill-color);\n",
              "      border-left-color: var(--fill-color);\n",
              "    }\n",
              "    20% {\n",
              "      border-color: transparent;\n",
              "      border-left-color: var(--fill-color);\n",
              "      border-top-color: var(--fill-color);\n",
              "    }\n",
              "    30% {\n",
              "      border-color: transparent;\n",
              "      border-left-color: var(--fill-color);\n",
              "      border-top-color: var(--fill-color);\n",
              "      border-right-color: var(--fill-color);\n",
              "    }\n",
              "    40% {\n",
              "      border-color: transparent;\n",
              "      border-right-color: var(--fill-color);\n",
              "      border-top-color: var(--fill-color);\n",
              "    }\n",
              "    60% {\n",
              "      border-color: transparent;\n",
              "      border-right-color: var(--fill-color);\n",
              "    }\n",
              "    80% {\n",
              "      border-color: transparent;\n",
              "      border-right-color: var(--fill-color);\n",
              "      border-bottom-color: var(--fill-color);\n",
              "    }\n",
              "    90% {\n",
              "      border-color: transparent;\n",
              "      border-bottom-color: var(--fill-color);\n",
              "    }\n",
              "  }\n",
              "</style>\n",
              "\n",
              "  <script>\n",
              "    async function quickchart(key) {\n",
              "      const quickchartButtonEl =\n",
              "        document.querySelector('#' + key + ' button');\n",
              "      quickchartButtonEl.disabled = true;  // To prevent multiple clicks.\n",
              "      quickchartButtonEl.classList.add('colab-df-spinner');\n",
              "      try {\n",
              "        const charts = await google.colab.kernel.invokeFunction(\n",
              "            'suggestCharts', [key], {});\n",
              "      } catch (error) {\n",
              "        console.error('Error during call to suggestCharts:', error);\n",
              "      }\n",
              "      quickchartButtonEl.classList.remove('colab-df-spinner');\n",
              "      quickchartButtonEl.classList.add('colab-df-quickchart-complete');\n",
              "    }\n",
              "    (() => {\n",
              "      let quickchartButtonEl =\n",
              "        document.querySelector('#df-5199ee21-05da-4d6c-bab3-8ac3988e4651 button');\n",
              "      quickchartButtonEl.style.display =\n",
              "        google.colab.kernel.accessAllowed ? 'block' : 'none';\n",
              "    })();\n",
              "  </script>\n",
              "</div>\n",
              "    </div>\n",
              "  </div>\n"
            ]
          },
          "metadata": {},
          "execution_count": 1
        }
      ],
      "source": [
        "!pip install pydataset -q # Install required packages\n",
        "from pydataset import data # Import required modules\n",
        "import pandas as pd\n",
        "\n",
        "data() # Show available data"
      ]
    },
    {
      "cell_type": "code",
      "source": [],
      "metadata": {
        "id": "tUMeW6UodlZ_"
      },
      "execution_count": null,
      "outputs": []
    },
    {
      "cell_type": "code",
      "source": [],
      "metadata": {
        "id": "wVvZqhx4dldZ"
      },
      "execution_count": null,
      "outputs": []
    },
    {
      "cell_type": "markdown",
      "source": [
        "## Task 2: Structure Analysis\n",
        "\n",
        "The structure of your dataset can significantly impact your analysis. Use Python to reveal the dataset's structure: the types of variables (numeric, categorical, etc.), and its dimensionality (number of rows and columns). This information will guide your analytical approach, dictating the types of questions you can ask and the methods you can employ. Understanding the dataset's structure is foundational to any data analysis task.\n",
        "\n",
        "-   Use `info()` to get a summary, including column names, non-null counts, and data types.\n",
        "-   Apply `describe()` for a statistical summary of numerical columns.\n",
        "-   Determine the number of rows and columns with `shape`.\n"
      ],
      "metadata": {
        "id": "M9BU60FBbtG6"
      }
    },
    {
      "cell_type": "code",
      "source": [],
      "metadata": {
        "id": "IR4ic0h7b8Ep"
      },
      "execution_count": null,
      "outputs": []
    },
    {
      "cell_type": "code",
      "source": [],
      "metadata": {
        "id": "kQb3BtXpb8ND"
      },
      "execution_count": null,
      "outputs": []
    },
    {
      "cell_type": "code",
      "source": [],
      "metadata": {
        "id": "veqw6o0tb8bO"
      },
      "execution_count": null,
      "outputs": []
    },
    {
      "cell_type": "markdown",
      "source": [
        "## Task 3: Contextual Inquiry\n",
        "\n",
        "Reflect on how the structure of your dataset influences its interpretation and usability. Consider how different types of variables and their scales of measurement can shape the analysis you perform. This task is not just about understanding the dataset but also about appreciating the philosophical aspects of data analysis: how data structure can constrain or enable certain interpretations and insights."
      ],
      "metadata": {
        "id": "890EW9ZBb8yi"
      }
    },
    {
      "cell_type": "markdown",
      "source": [
        "Answer:"
      ],
      "metadata": {
        "id": "uqaqXJu3cBS7"
      }
    },
    {
      "cell_type": "markdown",
      "source": [
        "## Task 4: Data Filtering\n",
        "\n",
        "Filtering data allows you to focus on specific segments that are most pertinent to your analysis. This task involves writing Python code to filter your dataset based on a defined criterion, such as a range of values in a numerical column or specific categories in a categorical column. Filtering is a powerful tool in data analysis, enabling you to narrow down your focus to the most relevant data points.\n",
        "\n",
        "-  Determine what criteria you want to use (e.g., a range of values).\n",
        "-   Filtering Syntax:\n",
        "    -    Apply conditions directly within `df[df['column'] <condition>]`.\n",
        "    -   Utilize `.loc[]` or `.query()` for more complex filtering needs."
      ],
      "metadata": {
        "id": "ugUSYbgQcCin"
      }
    },
    {
      "cell_type": "code",
      "source": [],
      "metadata": {
        "id": "9uze9QqBcKK-"
      },
      "execution_count": null,
      "outputs": []
    },
    {
      "cell_type": "code",
      "source": [],
      "metadata": {
        "id": "ZwKjlkv1cRoC"
      },
      "execution_count": null,
      "outputs": []
    },
    {
      "cell_type": "code",
      "source": [],
      "metadata": {
        "id": "J1z_jX1VcRua"
      },
      "execution_count": null,
      "outputs": []
    },
    {
      "cell_type": "markdown",
      "source": [
        "## Task 5: Filtering Reflection\n",
        "\n",
        "Having filtered your data, it's crucial to reflect on the implications of this action. Consider how filtering can impact the representativeness of your dataset and introduce potential biases. This reflection is an exercise in critical thinking about your methodological choices in data analysis. Discuss the implications of these choices and their potential impact on the conclusions you draw from the data.\n",
        "\n",
        "Each task is designed to deepen your understanding of both the technical and philosophical aspects of data science, encouraging a comprehensive approach to data analysis."
      ],
      "metadata": {
        "id": "2wgPtVG1cUi3"
      }
    },
    {
      "cell_type": "markdown",
      "source": [
        "Answer:"
      ],
      "metadata": {
        "id": "P5Vt7gL8c-gL"
      }
    },
    {
      "cell_type": "markdown",
      "source": [
        "## Task 6: Descriptive Statistics\n",
        "\n",
        "In this task, your objective is to compute basic descriptive statistics for your dataset. Descriptive statistics provide a summary of the central tendency, dispersion, and shape of a dataset's distribution. You will calculate statistics like mean, median, mode, range, variance, and standard deviation for relevant columns. This process helps in understanding the basic characteristics of the data, setting the stage for deeper analysis.\n",
        "\n",
        "-   Computing Descriptive Statistics:\n",
        "    -   Mean, Median, Mode: Use `mean()`, `median()`, and `mode()` functions on your DataFrame.\n",
        "    -   Variance and Standard Deviation: Employ `var()` and `std()` to understand data spread.\n",
        "    -   Summarizing Data: `describe()` offers a quick overview of key statistics for each column.\n"
      ],
      "metadata": {
        "id": "u0JA1JqCdCEp"
      }
    },
    {
      "cell_type": "code",
      "source": [],
      "metadata": {
        "id": "0PTcUOZvdEXP"
      },
      "execution_count": null,
      "outputs": []
    },
    {
      "cell_type": "code",
      "source": [],
      "metadata": {
        "id": "MEWmEgh7dEZp"
      },
      "execution_count": null,
      "outputs": []
    },
    {
      "cell_type": "code",
      "source": [],
      "metadata": {
        "id": "fxSrmgJQdEdM"
      },
      "execution_count": null,
      "outputs": []
    },
    {
      "cell_type": "code",
      "source": [],
      "metadata": {
        "id": "FAIYyz58dFRh"
      },
      "execution_count": null,
      "outputs": []
    },
    {
      "cell_type": "markdown",
      "source": [
        "## Task 7: Statistical Interpretation\n",
        "\n",
        "Upon computing the descriptive statistics, interpret what these numbers reveal about your dataset. What does the mean tell you about the average trend in your data? How does the standard deviation inform you about the variability of the data? This task involves not just stating the figures but understanding their implications on the dataset's underlying phenomena. Reflect on how these statistics can guide you in formulating hypotheses or insights about the data."
      ],
      "metadata": {
        "id": "2reGDLwmdFd8"
      }
    },
    {
      "cell_type": "markdown",
      "source": [
        "Answer:"
      ],
      "metadata": {
        "id": "vWi618hFdQlK"
      }
    },
    {
      "cell_type": "markdown",
      "source": [
        "## Task 8: Data Visualization\n",
        "\n",
        "Visual representation of data can reveal patterns and insights that numbers alone might not show. Create basic visualizations like histograms or scatter plots for key variables in your dataset. The choice of visualization should depend on the type and distribution of the data. For instance, histograms are great for showing frequency distributions, while scatter plots can help in identifying relationships between variables.\n",
        "\n",
        "-   Creating Visualizations:\n",
        "    -   Histograms: Use `hist()` for plotting the distribution of a numeric variable.\n",
        "    -   Scatter Plots: Employ `plot.scatter()` to observe relationships between two numerical variables.\n",
        "    -   Customizing Plots: Experiment with parameters like `bins` in histograms or `color` and `size` in scatter plots to enhance readability."
      ],
      "metadata": {
        "id": "4lD3XGlUdSE-"
      }
    },
    {
      "cell_type": "code",
      "source": [],
      "metadata": {
        "id": "vL7dyRKDdarJ"
      },
      "execution_count": null,
      "outputs": []
    },
    {
      "cell_type": "code",
      "source": [],
      "metadata": {
        "id": "-UI_0mgRdayg"
      },
      "execution_count": null,
      "outputs": []
    },
    {
      "cell_type": "code",
      "source": [],
      "metadata": {
        "id": "XSXUhTd-da16"
      },
      "execution_count": null,
      "outputs": []
    },
    {
      "cell_type": "markdown",
      "source": [
        "## Task 9: Visualization Philosophy\n",
        "\n",
        "After creating your visualizations, ponder on how different visualization choices can impact the interpretation of data. How might the choice of a histogram vs. a scatter plot lead to different insights? Discuss the importance of selecting the right type of visualization for your data and how this choice can lead to different interpretations or conclusions. This task encourages you to think about the role of visualizations in data storytelling and how they can both reveal and obscure aspects of your data."
      ],
      "metadata": {
        "id": "tKSYnaa1dbMD"
      }
    }
  ]
}