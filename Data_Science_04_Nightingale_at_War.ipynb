{
  "nbformat": 4,
  "nbformat_minor": 0,
  "metadata": {
    "colab": {
      "provenance": [],
      "authorship_tag": "ABX9TyOfRHsHzHtQvY5XRUmFcS+T",
      "include_colab_link": true
    },
    "kernelspec": {
      "name": "python3",
      "display_name": "Python 3"
    },
    "language_info": {
      "name": "python"
    }
  },
  "cells": [
    {
      "cell_type": "markdown",
      "metadata": {
        "id": "view-in-github",
        "colab_type": "text"
      },
      "source": [
        "<a href=\"https://colab.research.google.com/github/brendanpshea/data-science/blob/main/Data_Science_04_Nightingale_at_War.ipynb\" target=\"_parent\"><img src=\"https://colab.research.google.com/assets/colab-badge.svg\" alt=\"Open In Colab\"/></a>"
      ]
    },
    {
      "cell_type": "code",
      "execution_count": null,
      "metadata": {
        "id": "Xej3-TKGfsPl"
      },
      "outputs": [],
      "source": []
    },
    {
      "cell_type": "markdown",
      "source": [
        "## Florence Nightingale: Mother of Data Science?\n",
        "\n",
        "Data Science is the field of study that involves extracting insights from complex and unstructured data. It uses various techniques from statistics, machine learning, and computer science to interpret, manage, and analyze large amounts of data to assist in decision-making.  Historically, the roots of data science can be traced back to the early 20th century. However, it became more prominent with the advent of computers and digital data. The ability to process large amounts of information allowed researchers and businesses to detect patterns and make more informed decisions.\n",
        "\n",
        "Florence Nightingale, though primarily known as a pioneering nurse and social reformer, had a significant impact on the field of statistics and data visualization. Her innovative use of statistical graphics played a crucial role in changing public perceptions and influencing policy decisions. Here's her story:\n",
        "\n",
        "### Who Was Florence Nightingale?\n",
        "\n",
        "Florence Nightingale was born on 12 May 1820 in Florence, Tuscany, Italy, and was named after the city of her birth. She belonged to a wealthy and well-connected British family. Her parents were liberal-humanitarian thinkers, and her father personally educated her, fostering her analytical abilities from a young age.  Young Florence and her older sister were exposed to an advanced education, studying subjects such as history, mathematics, Italian, classical literature, and philosophy. Florence's ability to collect and analyze data was evident early on.\n",
        "\n",
        "In February 1837, Nightingale believed she experienced a call from God, sparking a strong desire to serve others. Despite her family's opposition, she announced her decision to enter the field of nursing in 1844, rejecting the conventional role of women in her status. Her determination led her to travel to Germany to receive medical training at the Lutheran religious community at Kaiserswerth-am-Rhein, forming the basis for her later care. She also took the post of superintendent at the Institute for the Care of Sick Gentlewomen in Upper Harley Street, London, in 1853.\n",
        "\n",
        "Nightingale's most celebrated contributions occurred during the Crimean War. Appalled by the conditions for the wounded soldiers at Scutari's military hospital, she led a team of 38 women volunteer nurses and 15 Catholic nuns to the Ottoman Empire in 1854. We'll talk more about what she did here later in this chapter. Known as \"The Lady with the Lamp,\" Nightingale made rounds of wounded soldiers at night, improving hygiene and living standards, and significantly reducing death rates. Her work laid the foundation of professional nursing with the establishment of her nursing school at St Thomas' Hospital in London in 1860.\n",
        "\n",
        "### How Did Florence Nightingale Influence Data Science?\n",
        "\n",
        "Nightingale's role in data science is often overlooked, but her innovations in this field were groundbreaking. She was a pioneer in statistics, utilizing graphical forms to make data more comprehensible.\n",
        "\n",
        "One of her most famous contributions is the polar area diagram, also known as the Nightingale rose diagram. It's equivalent to a modern circular histogram and is still regularly used in data visualization. Her usage of this diagram helped in drawing actionable conclusions from the data.\n",
        "\n",
        "Nightingale's statistical work extended beyond mere visualization. She used data to advocate for social reforms, including healthcare for all sections of British society, better hunger relief in India, and expanding acceptable forms of female participation in the workforce. Her ability to translate complex data into understandable insights made her a pioneer in infographics. She also wrote tracts in simple English, spreading medical knowledge to those with poor literary skills.\n",
        "\n",
        "Florence Nightingale's legacy extends beyond her profound impact on nursing and healthcare. She was a visionary in the field of data science, utilizing statistics and data visualization to drive social change. Her innovative use of data continues to inspire modern data scientists, and her life serves as a testament to the power of data in shaping our world. Her birthday, May 12th, is celebrated as International Nurses Day, but perhaps it should also be a celebration of her unique contribution to the field of data science."
      ],
      "metadata": {
        "id": "ADrKhPA6ftEC"
      }
    }
  ]
}