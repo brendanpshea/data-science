{
  "nbformat": 4,
  "nbformat_minor": 0,
  "metadata": {
    "colab": {
      "provenance": [],
      "authorship_tag": "ABX9TyO+I1t1gs0vSyOLV5TK8ADp",
      "include_colab_link": true
    },
    "kernelspec": {
      "name": "ir",
      "display_name": "R"
    },
    "language_info": {
      "name": "R"
    }
  },
  "cells": [
    {
      "cell_type": "markdown",
      "metadata": {
        "id": "view-in-github",
        "colab_type": "text"
      },
      "source": [
        "<a href=\"https://colab.research.google.com/github/brendanpshea/data-science/blob/main/Data_Science_11_R.ipynb\" target=\"_parent\"><img src=\"https://colab.research.google.com/assets/colab-badge.svg\" alt=\"Open In Colab\"/></a>"
      ]
    },
    {
      "cell_type": "markdown",
      "source": [
        "# From Python to R\n",
        "### Brendan Shea, PhD\n",
        "THis chapter will provide a brief introduction to **R**. R is a programming language and environment specifically designed for statistical computing and graphics. It is widely used among statisticians and data analysts to develop statistical software and data analysis. In the context of data science, R provides an extensive array of libraries and built-in functions for complex data analysis and graphical models, enabling detailed statistical modeling and visualization.\n",
        "\n",
        "Differences between R and Python in data science primarily revolve around their origins and design philosophies:\n",
        "\n",
        "1. R is rooted in statistical analysis, with a design that inherently understands the needs of data modeling and visualization. Python, while versatile and powerful in data science, is a general-purpose language that has been adapted for data analysis through libraries like Pandas and SciPy.\n",
        "\n",
        "2. R has a slight edge in the complexity and variety of statistical models available, and its graphics packages like `ggplot2` are considered to be more sophisticated in terms of capabilities for creating advanced statistical plots.\n",
        "\n",
        "3. R's community is traditionally composed of statisticians and academics, leading to a wealth of packages for nearly every statistical test or model imaginable. Python's data science community is broader, attracting professionals from various backgrounds including software engineering, leading to a robust set of tools that are often seen as more user-friendly.\n",
        "\n",
        "4. R's syntax is thought to have a somewhat steeper learning curve for those not already familiar with statistical software, whereas Python's syntax is often praised for being more intuitive and easier for beginners to grasp.\n",
        "\n",
        "In the end, however, both Python and R are widely used in Data Science, and its beneficial to have exposure to both languages. Google Colab supports both Python and R (and, in fact, these are the *only* languages it currently supports)."
      ],
      "metadata": {
        "id": "IS3VyoJbW5U9"
      }
    },
    {
      "cell_type": "code",
      "source": [],
      "metadata": {
        "id": "u3yDEbtxIRHb"
      },
      "execution_count": null,
      "outputs": []
    },
    {
      "cell_type": "markdown",
      "source": [
        "## Data Types in R\n",
        "**Vectors** are the most basic data structure in R. They hold elements of the same type. Let's say we're exploring a story where characters collect gems of different values. A vector could represent the values of gems that a character has collected:"
      ],
      "metadata": {
        "id": "bOxQGWHoX7SL"
      }
    },
    {
      "cell_type": "code",
      "source": [
        "gem_values <- c(50, 100, 200, 150)\n",
        "gem_values # display values"
      ],
      "metadata": {
        "colab": {
          "base_uri": "https://localhost:8080/",
          "height": 34
        },
        "id": "dOWZd5aCXywq",
        "outputId": "f9b4cb31-fba2-47d1-8c09-91fba3046683"
      },
      "execution_count": null,
      "outputs": [
        {
          "output_type": "display_data",
          "data": {
            "text/html": [
              "<style>\n",
              ".list-inline {list-style: none; margin:0; padding: 0}\n",
              ".list-inline>li {display: inline-block}\n",
              ".list-inline>li:not(:last-child)::after {content: \"\\00b7\"; padding: 0 .5ex}\n",
              "</style>\n",
              "<ol class=list-inline><li>50</li><li>100</li><li>200</li><li>150</li></ol>\n"
            ],
            "text/markdown": "1. 50\n2. 100\n3. 200\n4. 150\n\n\n",
            "text/latex": "\\begin{enumerate*}\n\\item 50\n\\item 100\n\\item 200\n\\item 150\n\\end{enumerate*}\n",
            "text/plain": [
              "[1]  50 100 200 150"
            ]
          },
          "metadata": {}
        }
      ]
    },
    {
      "cell_type": "markdown",
      "source": [
        "Here, `gem_values` is a numeric vector containing four elements. The `c()` function combines values into a vector.\n",
        "\n",
        "Moving on to Matrices, imagine our characters are in a grid-based world, and we want to represent the number of gems in different grid locations. A matrix could represent this:"
      ],
      "metadata": {
        "id": "sTIpkOgRYKFI"
      }
    },
    {
      "cell_type": "code",
      "source": [
        "grid_gems <- matrix(c(1, 0, 3, 4, 2, 0, 5, 1, 3), nrow = 3, ncol = 3)\n",
        "grid_gems # display matrix"
      ],
      "metadata": {
        "colab": {
          "base_uri": "https://localhost:8080/",
          "height": 163
        },
        "id": "gewSfzFkYONe",
        "outputId": "2313f8c9-4373-4c41-9658-3a815e5aa55d"
      },
      "execution_count": null,
      "outputs": [
        {
          "output_type": "display_data",
          "data": {
            "text/html": [
              "<table class=\"dataframe\">\n",
              "<caption>A matrix: 3 × 3 of type dbl</caption>\n",
              "<tbody>\n",
              "\t<tr><td>1</td><td>4</td><td>5</td></tr>\n",
              "\t<tr><td>0</td><td>2</td><td>1</td></tr>\n",
              "\t<tr><td>3</td><td>0</td><td>3</td></tr>\n",
              "</tbody>\n",
              "</table>\n"
            ],
            "text/markdown": "\nA matrix: 3 × 3 of type dbl\n\n| 1 | 4 | 5 |\n| 0 | 2 | 1 |\n| 3 | 0 | 3 |\n\n",
            "text/latex": "A matrix: 3 × 3 of type dbl\n\\begin{tabular}{lll}\n\t 1 & 4 & 5\\\\\n\t 0 & 2 & 1\\\\\n\t 3 & 0 & 3\\\\\n\\end{tabular}\n",
            "text/plain": [
              "     [,1] [,2] [,3]\n",
              "[1,] 1    4    5   \n",
              "[2,] 0    2    1   \n",
              "[3,] 3    0    3   "
            ]
          },
          "metadata": {}
        }
      ]
    },
    {
      "cell_type": "markdown",
      "source": [
        "This matrix `grid_gems` has 3 rows and 3 columns, showing the count of gems in a 3x3 grid.\n",
        "\n",
        "**Data Frames** are akin to datasets or tables in other software. They can have columns of different types. Suppose we're tracking different types of items (e.g., gems, keys) found by each character:"
      ],
      "metadata": {
        "id": "rJE74vrqYV18"
      }
    },
    {
      "cell_type": "code",
      "source": [
        "characters <- c(\"Aragem\", \"Rubella\", \"Topazia\")\n",
        "gems <- c(5, 3, 8)\n",
        "keys <- c(2, 2, 4)\n",
        "inventory <- data.frame(characters, gems, keys)\n",
        "\n",
        "inventory # display data frame"
      ],
      "metadata": {
        "colab": {
          "base_uri": "https://localhost:8080/",
          "height": 192
        },
        "id": "cuEUPbkfYd-u",
        "outputId": "caa223b6-29fb-471a-a3f4-98cfa9088cef"
      },
      "execution_count": null,
      "outputs": [
        {
          "output_type": "display_data",
          "data": {
            "text/html": [
              "<table class=\"dataframe\">\n",
              "<caption>A data.frame: 3 × 3</caption>\n",
              "<thead>\n",
              "\t<tr><th scope=col>characters</th><th scope=col>gems</th><th scope=col>keys</th></tr>\n",
              "\t<tr><th scope=col>&lt;chr&gt;</th><th scope=col>&lt;dbl&gt;</th><th scope=col>&lt;dbl&gt;</th></tr>\n",
              "</thead>\n",
              "<tbody>\n",
              "\t<tr><td>Aragem </td><td>5</td><td>2</td></tr>\n",
              "\t<tr><td>Rubella</td><td>3</td><td>2</td></tr>\n",
              "\t<tr><td>Topazia</td><td>8</td><td>4</td></tr>\n",
              "</tbody>\n",
              "</table>\n"
            ],
            "text/markdown": "\nA data.frame: 3 × 3\n\n| characters &lt;chr&gt; | gems &lt;dbl&gt; | keys &lt;dbl&gt; |\n|---|---|---|\n| Aragem  | 5 | 2 |\n| Rubella | 3 | 2 |\n| Topazia | 8 | 4 |\n\n",
            "text/latex": "A data.frame: 3 × 3\n\\begin{tabular}{lll}\n characters & gems & keys\\\\\n <chr> & <dbl> & <dbl>\\\\\n\\hline\n\t Aragem  & 5 & 2\\\\\n\t Rubella & 3 & 2\\\\\n\t Topazia & 8 & 4\\\\\n\\end{tabular}\n",
            "text/plain": [
              "  characters gems keys\n",
              "1 Aragem     5    2   \n",
              "2 Rubella    3    2   \n",
              "3 Topazia    8    4   "
            ]
          },
          "metadata": {}
        }
      ]
    },
    {
      "cell_type": "markdown",
      "source": [
        "The `inventory` data frame has three columns: character names, number of gems, and number of keys.\n",
        "\n",
        "**Lists** in R can contain different types and sizes of elements. For instance, a character's profile including their name, age, and the types of gems they like could be a list:"
      ],
      "metadata": {
        "id": "bIYvuPk_YtVU"
      }
    },
    {
      "cell_type": "code",
      "source": [
        "character_profile <-\n",
        "  list(name = \"Aragem\", age = 42, favorite_gems = c(\"Emerald\", \"Sapphire\"))\n",
        "\n",
        "character_profile"
      ],
      "metadata": {
        "colab": {
          "base_uri": "https://localhost:8080/",
          "height": 149
        },
        "id": "wMR1ym1FY01U",
        "outputId": "f9825aff-7df0-4daf-8b53-aa9998d17ad5"
      },
      "execution_count": null,
      "outputs": [
        {
          "output_type": "display_data",
          "data": {
            "text/html": [
              "<dl>\n",
              "\t<dt>$name</dt>\n",
              "\t\t<dd>'Aragem'</dd>\n",
              "\t<dt>$age</dt>\n",
              "\t\t<dd>42</dd>\n",
              "\t<dt>$favorite_gems</dt>\n",
              "\t\t<dd><style>\n",
              ".list-inline {list-style: none; margin:0; padding: 0}\n",
              ".list-inline>li {display: inline-block}\n",
              ".list-inline>li:not(:last-child)::after {content: \"\\00b7\"; padding: 0 .5ex}\n",
              "</style>\n",
              "<ol class=list-inline><li>'Emerald'</li><li>'Sapphire'</li></ol>\n",
              "</dd>\n",
              "</dl>\n"
            ],
            "text/markdown": "$name\n:   'Aragem'\n$age\n:   42\n$favorite_gems\n:   1. 'Emerald'\n2. 'Sapphire'\n\n\n\n\n\n",
            "text/latex": "\\begin{description}\n\\item[\\$name] 'Aragem'\n\\item[\\$age] 42\n\\item[\\$favorite\\_gems] \\begin{enumerate*}\n\\item 'Emerald'\n\\item 'Sapphire'\n\\end{enumerate*}\n\n\\end{description}\n",
            "text/plain": [
              "$name\n",
              "[1] \"Aragem\"\n",
              "\n",
              "$age\n",
              "[1] 42\n",
              "\n",
              "$favorite_gems\n",
              "[1] \"Emerald\"  \"Sapphire\"\n"
            ]
          },
          "metadata": {}
        }
      ]
    },
    {
      "cell_type": "markdown",
      "source": [
        "Here, `character_profile` includes a string, a numeric value, and a vector of strings.\n",
        "\n",
        "**Factors** are used to represent categorical data. If we have a list of characters' roles in our story, we could use a factor to categorize them:"
      ],
      "metadata": {
        "id": "3kCOn3XEZBpV"
      }
    },
    {
      "cell_type": "code",
      "source": [
        "roles <- factor(c(\"Warrior\", \"Mage\", \"Archer\", \"Mage\"))\n",
        "roles"
      ],
      "metadata": {
        "colab": {
          "base_uri": "https://localhost:8080/",
          "height": 52
        },
        "id": "qVSlV93gZVOt",
        "outputId": "679de29c-abec-4cbf-eafe-64523d017bee"
      },
      "execution_count": null,
      "outputs": [
        {
          "output_type": "display_data",
          "data": {
            "text/html": [
              "<style>\n",
              ".list-inline {list-style: none; margin:0; padding: 0}\n",
              ".list-inline>li {display: inline-block}\n",
              ".list-inline>li:not(:last-child)::after {content: \"\\00b7\"; padding: 0 .5ex}\n",
              "</style>\n",
              "<ol class=list-inline><li>Warrior</li><li>Mage</li><li>Archer</li><li>Mage</li></ol>\n",
              "\n",
              "<details>\n",
              "\t<summary style=display:list-item;cursor:pointer>\n",
              "\t\t<strong>Levels</strong>:\n",
              "\t</summary>\n",
              "\t<style>\n",
              "\t.list-inline {list-style: none; margin:0; padding: 0}\n",
              "\t.list-inline>li {display: inline-block}\n",
              "\t.list-inline>li:not(:last-child)::after {content: \"\\00b7\"; padding: 0 .5ex}\n",
              "\t</style>\n",
              "\t<ol class=list-inline><li>'Archer'</li><li>'Mage'</li><li>'Warrior'</li></ol>\n",
              "</details>"
            ],
            "text/markdown": "1. Warrior\n2. Mage\n3. Archer\n4. Mage\n\n\n\n**Levels**: 1. 'Archer'\n2. 'Mage'\n3. 'Warrior'\n\n\n",
            "text/latex": "\\begin{enumerate*}\n\\item Warrior\n\\item Mage\n\\item Archer\n\\item Mage\n\\end{enumerate*}\n\n\\emph{Levels}: \\begin{enumerate*}\n\\item 'Archer'\n\\item 'Mage'\n\\item 'Warrior'\n\\end{enumerate*}\n",
            "text/plain": [
              "[1] Warrior Mage    Archer  Mage   \n",
              "Levels: Archer Mage Warrior"
            ]
          },
          "metadata": {}
        }
      ]
    },
    {
      "cell_type": "markdown",
      "source": [
        "**Logical types** are straightforward: they represent boolean values. We could track whether a character has completed a quest:"
      ],
      "metadata": {
        "id": "-fTSKPoRZisT"
      }
    },
    {
      "cell_type": "code",
      "source": [
        "quest_completed <- c(TRUE, FALSE, TRUE)\n",
        "quest_completed"
      ],
      "metadata": {
        "colab": {
          "base_uri": "https://localhost:8080/",
          "height": 34
        },
        "id": "ET8dINxcZnXj",
        "outputId": "c16ad71c-6a3a-4eb1-fdc5-b75c973115ba"
      },
      "execution_count": null,
      "outputs": [
        {
          "output_type": "display_data",
          "data": {
            "text/html": [
              "<style>\n",
              ".list-inline {list-style: none; margin:0; padding: 0}\n",
              ".list-inline>li {display: inline-block}\n",
              ".list-inline>li:not(:last-child)::after {content: \"\\00b7\"; padding: 0 .5ex}\n",
              "</style>\n",
              "<ol class=list-inline><li>TRUE</li><li>FALSE</li><li>TRUE</li></ol>\n"
            ],
            "text/markdown": "1. TRUE\n2. FALSE\n3. TRUE\n\n\n",
            "text/latex": "\\begin{enumerate*}\n\\item TRUE\n\\item FALSE\n\\item TRUE\n\\end{enumerate*}\n",
            "text/plain": [
              "[1]  TRUE FALSE  TRUE"
            ]
          },
          "metadata": {}
        }
      ]
    },
    {
      "cell_type": "markdown",
      "source": [
        "The vector `quest_completed` tells us which characters (perhaps in the same order as our `characters` vector) have completed a quest.\n",
        "\n",
        "**Numeric** and **Integer** types are numbers, with the former including decimals and the latter being whole numbers. If each character has a certain amount of gold:"
      ],
      "metadata": {
        "id": "qKkoldFLZxMc"
      }
    },
    {
      "cell_type": "code",
      "source": [
        "gold <- c(100.5, 200, 150) # Numeric\n",
        "gold"
      ],
      "metadata": {
        "colab": {
          "base_uri": "https://localhost:8080/",
          "height": 34
        },
        "id": "NZqWBqy5ZVlO",
        "outputId": "d9898caa-7998-4310-86a7-bc61155df377"
      },
      "execution_count": null,
      "outputs": [
        {
          "output_type": "display_data",
          "data": {
            "text/html": [
              "<style>\n",
              ".list-inline {list-style: none; margin:0; padding: 0}\n",
              ".list-inline>li {display: inline-block}\n",
              ".list-inline>li:not(:last-child)::after {content: \"\\00b7\"; padding: 0 .5ex}\n",
              "</style>\n",
              "<ol class=list-inline><li>100.5</li><li>200</li><li>150</li></ol>\n"
            ],
            "text/markdown": "1. 100.5\n2. 200\n3. 150\n\n\n",
            "text/latex": "\\begin{enumerate*}\n\\item 100.5\n\\item 200\n\\item 150\n\\end{enumerate*}\n",
            "text/plain": [
              "[1] 100.5 200.0 150.0"
            ]
          },
          "metadata": {}
        }
      ]
    },
    {
      "cell_type": "code",
      "source": [
        "steps_walked <- c(500L, 700L, 450L) # Integer, denoted by 'L'\n",
        "steps_walked"
      ],
      "metadata": {
        "colab": {
          "base_uri": "https://localhost:8080/",
          "height": 34
        },
        "id": "H6cmJThMZ9pI",
        "outputId": "27de14d5-1f13-42bf-dd90-b2ddafe3eba1"
      },
      "execution_count": null,
      "outputs": [
        {
          "output_type": "display_data",
          "data": {
            "text/html": [
              "<style>\n",
              ".list-inline {list-style: none; margin:0; padding: 0}\n",
              ".list-inline>li {display: inline-block}\n",
              ".list-inline>li:not(:last-child)::after {content: \"\\00b7\"; padding: 0 .5ex}\n",
              "</style>\n",
              "<ol class=list-inline><li>500</li><li>700</li><li>450</li></ol>\n"
            ],
            "text/markdown": "1. 500\n2. 700\n3. 450\n\n\n",
            "text/latex": "\\begin{enumerate*}\n\\item 500\n\\item 700\n\\item 450\n\\end{enumerate*}\n",
            "text/plain": [
              "[1] 500 700 450"
            ]
          },
          "metadata": {}
        }
      ]
    },
    {
      "cell_type": "markdown",
      "source": [
        "`gold` is a numeric vector with decimals, whereas `steps_walked` is an integer vector showing how many steps each character has walked.\n",
        "\n",
        "Lastly, **Character** types are text strings. If we wanted to note the title given to each character after an achievement:"
      ],
      "metadata": {
        "id": "vnEB2BHpaJwg"
      }
    },
    {
      "cell_type": "code",
      "source": [
        "titles <- c(\"The Brave\", \"The Wise\", \"The Swift\")\n",
        "titles"
      ],
      "metadata": {
        "colab": {
          "base_uri": "https://localhost:8080/",
          "height": 34
        },
        "id": "hx4NYyhQaREx",
        "outputId": "f716b051-f904-4d74-cbd8-0e95252b2f21"
      },
      "execution_count": null,
      "outputs": [
        {
          "output_type": "display_data",
          "data": {
            "text/html": [
              "<style>\n",
              ".list-inline {list-style: none; margin:0; padding: 0}\n",
              ".list-inline>li {display: inline-block}\n",
              ".list-inline>li:not(:last-child)::after {content: \"\\00b7\"; padding: 0 .5ex}\n",
              "</style>\n",
              "<ol class=list-inline><li>'The Brave'</li><li>'The Wise'</li><li>'The Swift'</li></ol>\n"
            ],
            "text/markdown": "1. 'The Brave'\n2. 'The Wise'\n3. 'The Swift'\n\n\n",
            "text/latex": "\\begin{enumerate*}\n\\item 'The Brave'\n\\item 'The Wise'\n\\item 'The Swift'\n\\end{enumerate*}\n",
            "text/plain": [
              "[1] \"The Brave\" \"The Wise\"  \"The Swift\""
            ]
          },
          "metadata": {}
        }
      ]
    },
    {
      "cell_type": "markdown",
      "source": [
        "The `titles` vector holds these honorary titles as character strings."
      ],
      "metadata": {
        "id": "T6SaXsFwadmE"
      }
    },
    {
      "cell_type": "markdown",
      "source": [
        "## Printing with `cat()`\n",
        "The `cat` function in R is used to concatenate and print objects. It is particularly useful for creating custom-formatted strings and can handle different types of objects by converting them to a character string.\n",
        "\n",
        "To illustrate how `cat` can be used to print and format variables in R, let's utilize our narrative-driven examples with a focus on displaying informative messages.\n",
        "\n",
        "#### Printing a simple message with a vector value:"
      ],
      "metadata": {
        "id": "MJW_pQ3Eaqc3"
      }
    },
    {
      "cell_type": "code",
      "source": [
        "cat(\"The values of gems collected are:\", gem_values, \"\\n\")"
      ],
      "metadata": {
        "colab": {
          "base_uri": "https://localhost:8080/"
        },
        "id": "tB8BNgk9ayiW",
        "outputId": "9c90ce06-60f9-4994-c63e-b335189e52e0"
      },
      "execution_count": null,
      "outputs": [
        {
          "output_type": "stream",
          "name": "stdout",
          "text": [
            "The values of gems collected are: 50 100 200 150 \n"
          ]
        }
      ]
    },
    {
      "cell_type": "markdown",
      "source": [
        "#### Custom message for a data frame's content:"
      ],
      "metadata": {
        "id": "DrXQSCiTaxl8"
      }
    },
    {
      "cell_type": "code",
      "source": [
        "cat(\"Character inventory:\\n\",\n",
        "  \"Names:\", inventory$characters, \"\\n\",\n",
        "  \"- Gems:\", inventory$gems, \"\\n\",\n",
        "  \"- Keys:\", inventory$keys, \"\\n\")"
      ],
      "metadata": {
        "colab": {
          "base_uri": "https://localhost:8080/"
        },
        "id": "0uaWtB7EafDy",
        "outputId": "50aca33e-b7f6-4960-8173-776fe1058b5b"
      },
      "execution_count": null,
      "outputs": [
        {
          "output_type": "stream",
          "name": "stdout",
          "text": [
            "Character inventory:\n",
            " Names: Aragem Rubella Topazia \n",
            " - Gems: 5 3 8 \n",
            " - Keys: 2 2 4 \n"
          ]
        }
      ]
    },
    {
      "cell_type": "markdown",
      "source": [
        "Here, we use `$` to access each column of the data frame `inventory`.\n",
        "\n",
        "#### Printing lists:\n",
        "\n",
        "For lists, since they can contain different types of elements, we can print each element with a custom message:"
      ],
      "metadata": {
        "id": "IdhZUJtlbQcW"
      }
    },
    {
      "cell_type": "code",
      "source": [
        "cat(\"Character profile:\\n\",\n",
        "  \"Name:\", character_profile$name, \"- Age:\", character_profile$age, \"\\n\",\n",
        "  \"Favorite gems:\", toString(character_profile$favorite_gems), \"\\n\")"
      ],
      "metadata": {
        "colab": {
          "base_uri": "https://localhost:8080/"
        },
        "id": "ezJUeFfXbXoD",
        "outputId": "1a6e2fcf-1623-4463-eff4-18852e25431f"
      },
      "execution_count": null,
      "outputs": [
        {
          "output_type": "stream",
          "name": "stdout",
          "text": [
            "Character profile:\n",
            " Name: Aragem - Age: 42 \n",
            " Favorite gems: Emerald, Sapphire \n"
          ]
        }
      ]
    },
    {
      "cell_type": "markdown",
      "source": [
        "`toString()` is used to collapse the elements of the `favorite_gems` vector into a single, comma-separated string.\n",
        "\n",
        "#### To display a factor with custom formatting:"
      ],
      "metadata": {
        "id": "U4xK1xoYbs8p"
      }
    },
    {
      "cell_type": "code",
      "source": [
        "cat(\"Character roles are:\", levels(roles), \"\\n\")"
      ],
      "metadata": {
        "colab": {
          "base_uri": "https://localhost:8080/"
        },
        "id": "3cll3iNpbvoG",
        "outputId": "c1c6d3c8-1f09-48de-e948-ef44dca67b2e"
      },
      "execution_count": null,
      "outputs": [
        {
          "output_type": "stream",
          "name": "stdout",
          "text": [
            "Character roles are: Archer Mage Warrior \n"
          ]
        }
      ]
    },
    {
      "cell_type": "markdown",
      "source": [
        "This prints out the distinct levels of the factor roles.\n",
        "\n",
        "#### Printing logical values with an explanatory message:"
      ],
      "metadata": {
        "id": "NeDc5Gnqb8QS"
      }
    },
    {
      "cell_type": "code",
      "source": [
        "cat(\"Quest completion status:\",\n",
        "  ifelse(quest_completed, \"Completed\", \"Not completed\"),\n",
        "  \"\\n\")"
      ],
      "metadata": {
        "colab": {
          "base_uri": "https://localhost:8080/"
        },
        "id": "qQgLFbUbb-vW",
        "outputId": "ed320cbd-9270-472c-e3d7-09dfadfae275"
      },
      "execution_count": null,
      "outputs": [
        {
          "output_type": "stream",
          "name": "stdout",
          "text": [
            "Quest completion status: Completed Not completed Completed \n"
          ]
        }
      ]
    },
    {
      "cell_type": "markdown",
      "source": [
        "The `ifelse` function helps in printing \"Completed\" or \"Not completed\" based on the logical values in quest_completed.\n",
        "\n",
        "For numeric and integer vectors, you might want to format the output to control the number of decimal places:"
      ],
      "metadata": {
        "id": "ropFKjD_dRrK"
      }
    },
    {
      "cell_type": "code",
      "source": [
        "cat(\"Gold amounts:\", format(gold, nsmall = 2), \"\\n\") # nsmall ensures two decimal places\n",
        "cat(\"Steps walked:\", steps_walked, \"\\n\")"
      ],
      "metadata": {
        "colab": {
          "base_uri": "https://localhost:8080/"
        },
        "id": "JX8HwFn6dezz",
        "outputId": "81c83df8-cfa3-44d1-ca52-7cf5f2cff9ad"
      },
      "execution_count": null,
      "outputs": [
        {
          "output_type": "stream",
          "name": "stdout",
          "text": [
            "Gold amounts: 100.50 200.00 150.00 \n",
            "Steps walked: 500 700 450 \n"
          ]
        }
      ]
    },
    {
      "cell_type": "markdown",
      "source": [
        "As you can see `cat()` (like python's `print()`, but more highly focused on the formatted display of numerical data) is an incredibly powerful function for displaying data (and you shouldn't expect to master it all right away!)."
      ],
      "metadata": {
        "id": "_8iMOprfdmnH"
      }
    },
    {
      "cell_type": "markdown",
      "source": [
        "## Understanding Vectors\n",
        "\n",
        "**Vectors** are fundamental in R, as they are the simplest type of data structure. Unlike Python, where lists are the go-to linear data structure and can contain elements of different types, R vectors are **homogenous**, meaning all elements must be of the same type. When you attempt to mix types, such as combining numbers and strings, R will coerce the elements to the same type, following a set of hierarchy rules (e.g., numeric to character).\n",
        "\n",
        "There are six basic data types that vectors can hold in R:\n",
        "\n",
        "-   logical\n",
        "-   integer\n",
        "-   double (often called numeric)\n",
        "-   complex\n",
        "-   character\n",
        "-   raw\n",
        "\n",
        "#### Creation\n",
        "You can create vectors using the `c()` function, which stands for 'concatenate' or 'combine':"
      ],
      "metadata": {
        "id": "leVbsjN0e6lo"
      }
    },
    {
      "cell_type": "code",
      "source": [
        "numbers <- c(1, 2, 3, 4, 5)  # Numeric vector\n",
        "characters <- c(\"a\", \"b\", \"c\")  # Character vector\n",
        "booleans <- c(TRUE, FALSE, TRUE)  # Logical vector"
      ],
      "metadata": {
        "id": "y3MzSkNPe9rg"
      },
      "execution_count": null,
      "outputs": []
    },
    {
      "cell_type": "markdown",
      "source": [
        "### Basic Operations and Characteristics\n",
        "R is **vectorized**, which means that operations are applied to each element of the vector without the need for explicit looping. For instance:"
      ],
      "metadata": {
        "id": "FTONRvHXfIgn"
      }
    },
    {
      "cell_type": "code",
      "source": [
        "numbers\n",
        "numbers * 2  # Multiplies each element of the vector by 2"
      ],
      "metadata": {
        "colab": {
          "base_uri": "https://localhost:8080/",
          "height": 52
        },
        "id": "CZ7DkaFcfRUE",
        "outputId": "80f6f848-7cc3-45bf-ce28-8618f84e079a"
      },
      "execution_count": null,
      "outputs": [
        {
          "output_type": "display_data",
          "data": {
            "text/html": [
              "<style>\n",
              ".list-inline {list-style: none; margin:0; padding: 0}\n",
              ".list-inline>li {display: inline-block}\n",
              ".list-inline>li:not(:last-child)::after {content: \"\\00b7\"; padding: 0 .5ex}\n",
              "</style>\n",
              "<ol class=list-inline><li>1</li><li>2</li><li>3</li><li>4</li><li>5</li></ol>\n"
            ],
            "text/markdown": "1. 1\n2. 2\n3. 3\n4. 4\n5. 5\n\n\n",
            "text/latex": "\\begin{enumerate*}\n\\item 1\n\\item 2\n\\item 3\n\\item 4\n\\item 5\n\\end{enumerate*}\n",
            "text/plain": [
              "[1] 1 2 3 4 5"
            ]
          },
          "metadata": {}
        },
        {
          "output_type": "display_data",
          "data": {
            "text/html": [
              "<style>\n",
              ".list-inline {list-style: none; margin:0; padding: 0}\n",
              ".list-inline>li {display: inline-block}\n",
              ".list-inline>li:not(:last-child)::after {content: \"\\00b7\"; padding: 0 .5ex}\n",
              "</style>\n",
              "<ol class=list-inline><li>2</li><li>4</li><li>6</li><li>8</li><li>10</li></ol>\n"
            ],
            "text/markdown": "1. 2\n2. 4\n3. 6\n4. 8\n5. 10\n\n\n",
            "text/latex": "\\begin{enumerate*}\n\\item 2\n\\item 4\n\\item 6\n\\item 8\n\\item 10\n\\end{enumerate*}\n",
            "text/plain": [
              "[1]  2  4  6  8 10"
            ]
          },
          "metadata": {}
        }
      ]
    },
    {
      "cell_type": "markdown",
      "source": [
        "Elements in a vector are **indexed** starting with 1 (not 0 as in Python). You can access elements with square brackets:"
      ],
      "metadata": {
        "id": "CBu4In7UffH1"
      }
    },
    {
      "cell_type": "code",
      "source": [
        "characters[2] # second element (not third!)"
      ],
      "metadata": {
        "colab": {
          "base_uri": "https://localhost:8080/",
          "height": 34
        },
        "id": "EYCiFY-geDQe",
        "outputId": "625edca4-8c98-4b45-be11-4f6b9bf50b0f"
      },
      "execution_count": null,
      "outputs": [
        {
          "output_type": "display_data",
          "data": {
            "text/html": [
              "'b'"
            ],
            "text/markdown": "'b'",
            "text/latex": "'b'",
            "text/plain": [
              "[1] \"b\""
            ]
          },
          "metadata": {}
        }
      ]
    },
    {
      "cell_type": "markdown",
      "source": [
        "The `length()` function gives you the number of elements in a vector:"
      ],
      "metadata": {
        "id": "BYbLuFulfyFx"
      }
    },
    {
      "cell_type": "code",
      "source": [
        "length(numbers)"
      ],
      "metadata": {
        "colab": {
          "base_uri": "https://localhost:8080/",
          "height": 34
        },
        "id": "ipsT7fuvfzuM",
        "outputId": "ba74b48b-fac7-4958-b326-2d14aa6a3efd"
      },
      "execution_count": null,
      "outputs": [
        {
          "output_type": "display_data",
          "data": {
            "text/html": [
              "5"
            ],
            "text/markdown": "5",
            "text/latex": "5",
            "text/plain": [
              "[1] 5"
            ]
          },
          "metadata": {}
        }
      ]
    },
    {
      "cell_type": "markdown",
      "source": [
        "If you try to combine different types, R will **coerce** them into one type, with a hierarchy that generally goes from less to more informative (logical < integer < numeric < complex < character):"
      ],
      "metadata": {
        "id": "80oQbH80f9j7"
      }
    },
    {
      "cell_type": "code",
      "source": [
        "mixed <- c(1, \"a\")\n",
        "str(mixed)  # Will show that all elements are now of character type"
      ],
      "metadata": {
        "colab": {
          "base_uri": "https://localhost:8080/"
        },
        "id": "hHGiSH7hgAtN",
        "outputId": "a87f2d1b-4e12-4994-ae62-8b449143994a"
      },
      "execution_count": null,
      "outputs": [
        {
          "output_type": "stream",
          "name": "stdout",
          "text": [
            " chr [1:2] \"1\" \"a\"\n"
          ]
        }
      ]
    },
    {
      "cell_type": "markdown",
      "source": [
        "### Basic Mathematical Operations\n",
        "\n",
        "Vectors support arithmetic operations, which are performed element-wise. This means that if you add two vectors together, R will add the first element of the first vector to the first element of the second vector, the second element to the second element, and so on:"
      ],
      "metadata": {
        "id": "8x2d7_odgHWj"
      }
    },
    {
      "cell_type": "code",
      "source": [
        "v1 <- c(10, 20, 30)\n",
        "v2 <- c(1, 2, 3)\n",
        "sum <- v1 + v2  # Results in c(11, 22, 33)\n",
        "\n",
        "cat(\"The sume is:\", sum)"
      ],
      "metadata": {
        "colab": {
          "base_uri": "https://localhost:8080/"
        },
        "id": "jZSJ-rsdgOLz",
        "outputId": "64c98b2e-46ce-4be2-85ac-435930430d9f"
      },
      "execution_count": null,
      "outputs": [
        {
          "output_type": "stream",
          "name": "stdout",
          "text": [
            "The sume is: 11 22 33"
          ]
        }
      ]
    },
    {
      "cell_type": "markdown",
      "source": [
        "Similarly, subtraction, multiplication, and division are also done element-wise:"
      ],
      "metadata": {
        "id": "eUAPWzCEgaCg"
      }
    },
    {
      "cell_type": "code",
      "source": [
        "difference <- v1 - v2\n",
        "product <- v1 * v2\n",
        "quotient <- v1 / v2\n",
        "\n",
        "cat(\"Difference: \", difference,\n",
        "  \"\\nProduct: \", product,\n",
        "  \"\\nQuotient: \", quotient)\n"
      ],
      "metadata": {
        "colab": {
          "base_uri": "https://localhost:8080/"
        },
        "id": "OdrCEsV5geb6",
        "outputId": "9b7981ed-67ef-4e0e-bbc2-25a66962e9e6"
      },
      "execution_count": null,
      "outputs": [
        {
          "output_type": "stream",
          "name": "stdout",
          "text": [
            "Difference:  9 18 27 \n",
            "Product:  10 40 90 \n",
            "Quotient:  10 10 10"
          ]
        }
      ]
    },
    {
      "cell_type": "markdown",
      "source": [
        "You can also perform operations between a vector and a single number (**scalar**), where the operation is applied to each element:"
      ],
      "metadata": {
        "id": "5sRiDHZfg-oB"
      }
    },
    {
      "cell_type": "code",
      "source": [
        "doubled <- v1 * 2\n",
        "doubled\n"
      ],
      "metadata": {
        "colab": {
          "base_uri": "https://localhost:8080/",
          "height": 34
        },
        "id": "q7_NVe5vhFtN",
        "outputId": "c3d6b263-4e8e-42da-fd7f-a897c894d7c2"
      },
      "execution_count": null,
      "outputs": [
        {
          "output_type": "display_data",
          "data": {
            "text/html": [
              "<style>\n",
              ".list-inline {list-style: none; margin:0; padding: 0}\n",
              ".list-inline>li {display: inline-block}\n",
              ".list-inline>li:not(:last-child)::after {content: \"\\00b7\"; padding: 0 .5ex}\n",
              "</style>\n",
              "<ol class=list-inline><li>20</li><li>40</li><li>60</li></ol>\n"
            ],
            "text/markdown": "1. 20\n2. 40\n3. 60\n\n\n",
            "text/latex": "\\begin{enumerate*}\n\\item 20\n\\item 40\n\\item 60\n\\end{enumerate*}\n",
            "text/plain": [
              "[1] 20 40 60"
            ]
          },
          "metadata": {}
        }
      ]
    },
    {
      "cell_type": "markdown",
      "source": [
        "## Table: R Code to Know\n",
        "\n",
        "| R Code Example | Description |\n",
        "| --- | --- |\n",
        "| `vec <- c(1, 2, 3)` | R code to create a numeric vector with the elements 1, 2, and 3. |\n",
        "| `char_vec <- c(\"a\", \"b\", \"c\")` | R code to create a character vector with the elements 'a', 'b', and 'c'. |\n",
        "| `logic_vec <- c(TRUE, FALSE, TRUE)` | R code to create a logical vector with the elements TRUE, FALSE, and TRUE. |\n",
        "| `vec[2]` | R code to access the second element of a vector. |\n",
        "| `length(vec)` | R code to get the number of elements in a vector. |\n",
        "| `names(vec) <- c(\"first\", \"second\", \"third\")` | R code to assign names to the elements of a vector. |\n",
        "| `sum(vec)` | R code to calculate the sum of the elements in a vector. |\n",
        "| `mean(vec)` | R code to calculate the mean of the elements in a vector. |\n",
        "| `vec * 2` | R code to multiply each element of a vector by 2. |\n",
        "| `cat(\"The value is:\", vec[1])` | R code to print a message followed by the first element of a vector. |\n",
        "| `df$column` | R code to access a specific column in a data frame named `df`. |\n",
        "| `vec > 2` | R code to evaluate whether each element of a vector is greater than 2. |\n",
        "| `!logic_vec` | R code to negate the elements of a logical vector. |\n",
        "| `vec1 + vec2` | R code to add two vectors element-wise. |\n",
        "| `c(vec, 4)` | R code to append an element to the end of a vector. |"
      ],
      "metadata": {
        "id": "0Zjl68E4iSdY"
      }
    },
    {
      "cell_type": "markdown",
      "source": [
        "## Exercises\n",
        "### Exercise 1: Creating Numeric Vectors\n",
        "\n",
        "-   Create a numeric vector with the numbers from 1 to 5.\n",
        "-   Hint: Use the `c()` function to combine values into a vector.\n",
        "\n",
        "### Exercise 2: Creating Character Vectors\n",
        "\n",
        "-   Construct a character vector with the names of the seven days of the week.\n",
        "-   Hint: Remember that character strings must be enclosed in quotes.\n",
        "\n",
        "### Exercise 3: Mixing Types in Vectors\n",
        "\n",
        "-   Try to create a vector that contains both numbers and characters. What happens?\n",
        "-   Hint: R will coerce the data types to be consistent. Observe the result.\n",
        "\n",
        "### Exercise 4: Vector Arithmetic\n",
        "\n",
        "-   Create two numeric vectors, `a` and `b`, each with 5 elements, and calculate their sum.\n",
        "-   Hint: Use `+` to add vectors of the same length.\n",
        "\n",
        "### Exercise 5: Accessing Vector Elements\n",
        "\n",
        "-   Create a vector with 10 elements and access the 4th element.\n",
        "-   Hint: Use the square brackets `[]` with the index of the element you want to access."
      ],
      "metadata": {
        "id": "6aLwLXhbjiny"
      }
    },
    {
      "cell_type": "code",
      "source": [
        "# Exercise 1"
      ],
      "metadata": {
        "id": "g3EhP_JIjkLd"
      },
      "execution_count": null,
      "outputs": []
    },
    {
      "cell_type": "code",
      "source": [
        "# Exercise 2"
      ],
      "metadata": {
        "id": "fHDSZUpIjkUX"
      },
      "execution_count": null,
      "outputs": []
    },
    {
      "cell_type": "code",
      "source": [
        "# Exercise 3"
      ],
      "metadata": {
        "id": "3FlCX1KAjka2"
      },
      "execution_count": null,
      "outputs": []
    },
    {
      "cell_type": "code",
      "source": [
        "# Exercise 4"
      ],
      "metadata": {
        "id": "fAd5Tn_Wjkig"
      },
      "execution_count": null,
      "outputs": []
    },
    {
      "cell_type": "code",
      "source": [
        "# Exercise 5"
      ],
      "metadata": {
        "id": "xcoZ8oz8jp2l"
      },
      "execution_count": null,
      "outputs": []
    },
    {
      "cell_type": "markdown",
      "source": [
        "### Exercise 6: Basic Statistical Operations\n",
        "\n",
        "-   Calculate the mean and standard deviation of a numeric vector with at least 5 elements.\n",
        "-   Hint: Use the `mean()` and `sd()` functions.\n",
        "\n",
        "### Exercise 7: Printing with Formatting\n",
        "\n",
        "-   Use the `cat()` function to print out a statement that includes elements from a vector. For example, print \"The sum of the vector is: \" followed by the actual sum.\n",
        "-   Hint: You'll need to perform a calculation within the `cat()` function and use commas to separate text and calculation.\n",
        "\n",
        "### Exercise 8 (Challenge): Understanding Logical Vectors\n",
        "\n",
        "-   Logical vectors in R represent sequences of TRUE and FALSE values. They are the result of logical operations and are very useful for subsetting and conditional testing.\n",
        "-   Generate a logical vector that signifies whether the numbers 1 through 5 are greater than 3.\n",
        "-   To do this, you will compare a numeric vector (of numbers 1 to 5) the number 4, and R will perform the comparison element-wise and produce a new \"logical vector\".\n",
        "-   Hint: Use a comparison operator like `>` with the `c()` function to create your numeric vector.\n",
        "\n",
        "### Exercise 9 (Challenge): Exploring Named Vectors\n",
        "\n",
        "-   In R, you can assign names to the elements of a vector, which can be especially helpful for readability and referencing elements by name instead of by position.\n",
        "-   Create a numeric vector with three elements. Assign names to each element so that you have a named vector where each element corresponds to \"first\", \"second\", and \"third\".\n",
        "-   Hint: Use the `names()` function to assign names to your vector after you've created it with the `c()` function, like so: `names(my_vector) <- c(\"name1\", \"name2\", \"name3\")`."
      ],
      "metadata": {
        "id": "SlftawRBj1bT"
      }
    },
    {
      "cell_type": "code",
      "source": [
        "# Exercise 6"
      ],
      "metadata": {
        "id": "c4lwROg3kVUA"
      },
      "execution_count": null,
      "outputs": []
    },
    {
      "cell_type": "code",
      "source": [
        "# Exercise 7"
      ],
      "metadata": {
        "id": "uafSCxKFiTDc"
      },
      "execution_count": null,
      "outputs": []
    },
    {
      "cell_type": "code",
      "source": [
        "# Exercise 8"
      ],
      "metadata": {
        "id": "kqaBU_IIkaSA"
      },
      "execution_count": null,
      "outputs": []
    },
    {
      "cell_type": "code",
      "source": [
        "# Exercise 9"
      ],
      "metadata": {
        "id": "8jhyyo9ZkbPQ"
      },
      "execution_count": null,
      "outputs": []
    },
    {
      "cell_type": "markdown",
      "source": [
        "# Working With Data Frames in R\n",
        "In R, a **data frame** is the main structure you'll work with for storing tabular data. Each column can be of a different data type, and each row represents a single record. To work with a data frame, you don't always have to load data from an external file; R has several built-in datasets for practice, like `mtcars`. (We saw this data set early in the context of Python Pandas).\n",
        "\n",
        "To see what's inside `mtcars`, you can use the `head()` function. This will display the first few rows of the data frame, giving you a glimpse into the types of data it contains. Each row in `mtcars` represents a car, and each column details attributes like fuel efficiency and horsepower.\n",
        "\n",
        "Here's how you can view the first few rows of the `mtcars` dataset:"
      ],
      "metadata": {
        "id": "L5OKSLwG5A6g"
      }
    },
    {
      "cell_type": "code",
      "source": [
        "# This command shows the first six rows of the mtcars data frame.\n",
        "head(mtcars)\n",
        "\n",
        "# To see more rows, for example, the first ten, just add a number as an argument:\n",
        "# head(mtcars, 10)\n"
      ],
      "metadata": {
        "colab": {
          "base_uri": "https://localhost:8080/",
          "height": 286
        },
        "id": "fgApUcUB6nrt",
        "outputId": "b7beeb45-e2bc-41a9-b7bf-605e5a3a9cbd"
      },
      "execution_count": null,
      "outputs": [
        {
          "output_type": "display_data",
          "data": {
            "text/html": [
              "<table class=\"dataframe\">\n",
              "<caption>A data.frame: 6 × 11</caption>\n",
              "<thead>\n",
              "\t<tr><th></th><th scope=col>mpg</th><th scope=col>cyl</th><th scope=col>disp</th><th scope=col>hp</th><th scope=col>drat</th><th scope=col>wt</th><th scope=col>qsec</th><th scope=col>vs</th><th scope=col>am</th><th scope=col>gear</th><th scope=col>carb</th></tr>\n",
              "\t<tr><th></th><th scope=col>&lt;dbl&gt;</th><th scope=col>&lt;dbl&gt;</th><th scope=col>&lt;dbl&gt;</th><th scope=col>&lt;dbl&gt;</th><th scope=col>&lt;dbl&gt;</th><th scope=col>&lt;dbl&gt;</th><th scope=col>&lt;dbl&gt;</th><th scope=col>&lt;dbl&gt;</th><th scope=col>&lt;dbl&gt;</th><th scope=col>&lt;dbl&gt;</th><th scope=col>&lt;dbl&gt;</th></tr>\n",
              "</thead>\n",
              "<tbody>\n",
              "\t<tr><th scope=row>Mazda RX4</th><td>21.0</td><td>6</td><td>160</td><td>110</td><td>3.90</td><td>2.620</td><td>16.46</td><td>0</td><td>1</td><td>4</td><td>4</td></tr>\n",
              "\t<tr><th scope=row>Mazda RX4 Wag</th><td>21.0</td><td>6</td><td>160</td><td>110</td><td>3.90</td><td>2.875</td><td>17.02</td><td>0</td><td>1</td><td>4</td><td>4</td></tr>\n",
              "\t<tr><th scope=row>Datsun 710</th><td>22.8</td><td>4</td><td>108</td><td> 93</td><td>3.85</td><td>2.320</td><td>18.61</td><td>1</td><td>1</td><td>4</td><td>1</td></tr>\n",
              "\t<tr><th scope=row>Hornet 4 Drive</th><td>21.4</td><td>6</td><td>258</td><td>110</td><td>3.08</td><td>3.215</td><td>19.44</td><td>1</td><td>0</td><td>3</td><td>1</td></tr>\n",
              "\t<tr><th scope=row>Hornet Sportabout</th><td>18.7</td><td>8</td><td>360</td><td>175</td><td>3.15</td><td>3.440</td><td>17.02</td><td>0</td><td>0</td><td>3</td><td>2</td></tr>\n",
              "\t<tr><th scope=row>Valiant</th><td>18.1</td><td>6</td><td>225</td><td>105</td><td>2.76</td><td>3.460</td><td>20.22</td><td>1</td><td>0</td><td>3</td><td>1</td></tr>\n",
              "</tbody>\n",
              "</table>\n"
            ],
            "text/markdown": "\nA data.frame: 6 × 11\n\n| <!--/--> | mpg &lt;dbl&gt; | cyl &lt;dbl&gt; | disp &lt;dbl&gt; | hp &lt;dbl&gt; | drat &lt;dbl&gt; | wt &lt;dbl&gt; | qsec &lt;dbl&gt; | vs &lt;dbl&gt; | am &lt;dbl&gt; | gear &lt;dbl&gt; | carb &lt;dbl&gt; |\n|---|---|---|---|---|---|---|---|---|---|---|---|\n| Mazda RX4 | 21.0 | 6 | 160 | 110 | 3.90 | 2.620 | 16.46 | 0 | 1 | 4 | 4 |\n| Mazda RX4 Wag | 21.0 | 6 | 160 | 110 | 3.90 | 2.875 | 17.02 | 0 | 1 | 4 | 4 |\n| Datsun 710 | 22.8 | 4 | 108 |  93 | 3.85 | 2.320 | 18.61 | 1 | 1 | 4 | 1 |\n| Hornet 4 Drive | 21.4 | 6 | 258 | 110 | 3.08 | 3.215 | 19.44 | 1 | 0 | 3 | 1 |\n| Hornet Sportabout | 18.7 | 8 | 360 | 175 | 3.15 | 3.440 | 17.02 | 0 | 0 | 3 | 2 |\n| Valiant | 18.1 | 6 | 225 | 105 | 2.76 | 3.460 | 20.22 | 1 | 0 | 3 | 1 |\n\n",
            "text/latex": "A data.frame: 6 × 11\n\\begin{tabular}{r|lllllllllll}\n  & mpg & cyl & disp & hp & drat & wt & qsec & vs & am & gear & carb\\\\\n  & <dbl> & <dbl> & <dbl> & <dbl> & <dbl> & <dbl> & <dbl> & <dbl> & <dbl> & <dbl> & <dbl>\\\\\n\\hline\n\tMazda RX4 & 21.0 & 6 & 160 & 110 & 3.90 & 2.620 & 16.46 & 0 & 1 & 4 & 4\\\\\n\tMazda RX4 Wag & 21.0 & 6 & 160 & 110 & 3.90 & 2.875 & 17.02 & 0 & 1 & 4 & 4\\\\\n\tDatsun 710 & 22.8 & 4 & 108 &  93 & 3.85 & 2.320 & 18.61 & 1 & 1 & 4 & 1\\\\\n\tHornet 4 Drive & 21.4 & 6 & 258 & 110 & 3.08 & 3.215 & 19.44 & 1 & 0 & 3 & 1\\\\\n\tHornet Sportabout & 18.7 & 8 & 360 & 175 & 3.15 & 3.440 & 17.02 & 0 & 0 & 3 & 2\\\\\n\tValiant & 18.1 & 6 & 225 & 105 & 2.76 & 3.460 & 20.22 & 1 & 0 & 3 & 1\\\\\n\\end{tabular}\n",
            "text/plain": [
              "                  mpg  cyl disp hp  drat wt    qsec  vs am gear carb\n",
              "Mazda RX4         21.0 6   160  110 3.90 2.620 16.46 0  1  4    4   \n",
              "Mazda RX4 Wag     21.0 6   160  110 3.90 2.875 17.02 0  1  4    4   \n",
              "Datsun 710        22.8 4   108   93 3.85 2.320 18.61 1  1  4    1   \n",
              "Hornet 4 Drive    21.4 6   258  110 3.08 3.215 19.44 1  0  3    1   \n",
              "Hornet Sportabout 18.7 8   360  175 3.15 3.440 17.02 0  0  3    2   \n",
              "Valiant           18.1 6   225  105 2.76 3.460 20.22 1  0  3    1   "
            ]
          },
          "metadata": {}
        }
      ]
    },
    {
      "cell_type": "markdown",
      "source": [
        "The `head()` function in R is used to return the first part of the dataset. By default, it returns the first six rows, but you can specify the number of rows you wish to view by providing a second argument, as shown above.\n",
        "\n",
        "Each row in the `mtcars` dataset corresponds to a different car model, and the columns contain various specifications and measurements relevant to each car, such as miles per gallon (mpg), number of cylinders (cyl), displacement (disp), and horsepower (hp), among others. Viewing the first few rows allows students to quickly discern the types of variables included and begin to consider the kinds of analyses that might be meaningful."
      ],
      "metadata": {
        "id": "aSm8YIbD64LZ"
      }
    },
    {
      "cell_type": "markdown",
      "source": [
        "## Accessing Rows and Columns\n",
        "Accessing specific parts of a data frame is a foundational skill in R. The `mtcars` data frame, like any in R, allows you to retrieve rows, columns, and individual data points using indexing with square brackets `[]`. Here's how it works:\n",
        "\n",
        "-   To access all rows or all columns, you use a blank space before or after the comma inside the brackets.\n",
        "-   To access specific rows or columns, you specify their positions as numbers.\n",
        "-   To access individual data points, you specify both the row and the column position.\n",
        "\n",
        "Let's break this down:\n",
        "\n",
        "1.  **Accessing Rows--**If you want to access the 3rd row of `mtcars`, you'd write `mtcars[3, ]`. The comma here indicates that you want all columns for the 3rd row.\n",
        "\n",
        "2.  **Accessing Columns**--To access the `mpg` column, you'd write `mtcars[, 'mpg']`. Alternatively, using column numbers, which for `mpg` is the first column, it's `mtcars[, 1]`.\n",
        "\n",
        "3.  **Accessing Individual Data Points--**For a specific element, say the mpg value for the 3rd car, you'd write `mtcars[3, 'mpg']` or `mtcars[3, 1]`.\n",
        "\n",
        "Here's the code for accessing a range and a mix of rows and columns:"
      ],
      "metadata": {
        "id": "x2Dc7FpL64V2"
      }
    },
    {
      "cell_type": "code",
      "source": [
        "# Access rows 3 to 5\n",
        "mtcars[3:5, ]"
      ],
      "metadata": {
        "colab": {
          "base_uri": "https://localhost:8080/",
          "height": 192
        },
        "id": "ovDC2BI87TiM",
        "outputId": "07100bb4-de63-465d-a3fb-35d2f1505061"
      },
      "execution_count": null,
      "outputs": [
        {
          "output_type": "display_data",
          "data": {
            "text/html": [
              "<table class=\"dataframe\">\n",
              "<caption>A data.frame: 3 × 11</caption>\n",
              "<thead>\n",
              "\t<tr><th></th><th scope=col>mpg</th><th scope=col>cyl</th><th scope=col>disp</th><th scope=col>hp</th><th scope=col>drat</th><th scope=col>wt</th><th scope=col>qsec</th><th scope=col>vs</th><th scope=col>am</th><th scope=col>gear</th><th scope=col>carb</th></tr>\n",
              "\t<tr><th></th><th scope=col>&lt;dbl&gt;</th><th scope=col>&lt;dbl&gt;</th><th scope=col>&lt;dbl&gt;</th><th scope=col>&lt;dbl&gt;</th><th scope=col>&lt;dbl&gt;</th><th scope=col>&lt;dbl&gt;</th><th scope=col>&lt;dbl&gt;</th><th scope=col>&lt;dbl&gt;</th><th scope=col>&lt;dbl&gt;</th><th scope=col>&lt;dbl&gt;</th><th scope=col>&lt;dbl&gt;</th></tr>\n",
              "</thead>\n",
              "<tbody>\n",
              "\t<tr><th scope=row>Datsun 710</th><td>22.8</td><td>4</td><td>108</td><td> 93</td><td>3.85</td><td>2.320</td><td>18.61</td><td>1</td><td>1</td><td>4</td><td>1</td></tr>\n",
              "\t<tr><th scope=row>Hornet 4 Drive</th><td>21.4</td><td>6</td><td>258</td><td>110</td><td>3.08</td><td>3.215</td><td>19.44</td><td>1</td><td>0</td><td>3</td><td>1</td></tr>\n",
              "\t<tr><th scope=row>Hornet Sportabout</th><td>18.7</td><td>8</td><td>360</td><td>175</td><td>3.15</td><td>3.440</td><td>17.02</td><td>0</td><td>0</td><td>3</td><td>2</td></tr>\n",
              "</tbody>\n",
              "</table>\n"
            ],
            "text/markdown": "\nA data.frame: 3 × 11\n\n| <!--/--> | mpg &lt;dbl&gt; | cyl &lt;dbl&gt; | disp &lt;dbl&gt; | hp &lt;dbl&gt; | drat &lt;dbl&gt; | wt &lt;dbl&gt; | qsec &lt;dbl&gt; | vs &lt;dbl&gt; | am &lt;dbl&gt; | gear &lt;dbl&gt; | carb &lt;dbl&gt; |\n|---|---|---|---|---|---|---|---|---|---|---|---|\n| Datsun 710 | 22.8 | 4 | 108 |  93 | 3.85 | 2.320 | 18.61 | 1 | 1 | 4 | 1 |\n| Hornet 4 Drive | 21.4 | 6 | 258 | 110 | 3.08 | 3.215 | 19.44 | 1 | 0 | 3 | 1 |\n| Hornet Sportabout | 18.7 | 8 | 360 | 175 | 3.15 | 3.440 | 17.02 | 0 | 0 | 3 | 2 |\n\n",
            "text/latex": "A data.frame: 3 × 11\n\\begin{tabular}{r|lllllllllll}\n  & mpg & cyl & disp & hp & drat & wt & qsec & vs & am & gear & carb\\\\\n  & <dbl> & <dbl> & <dbl> & <dbl> & <dbl> & <dbl> & <dbl> & <dbl> & <dbl> & <dbl> & <dbl>\\\\\n\\hline\n\tDatsun 710 & 22.8 & 4 & 108 &  93 & 3.85 & 2.320 & 18.61 & 1 & 1 & 4 & 1\\\\\n\tHornet 4 Drive & 21.4 & 6 & 258 & 110 & 3.08 & 3.215 & 19.44 & 1 & 0 & 3 & 1\\\\\n\tHornet Sportabout & 18.7 & 8 & 360 & 175 & 3.15 & 3.440 & 17.02 & 0 & 0 & 3 & 2\\\\\n\\end{tabular}\n",
            "text/plain": [
              "                  mpg  cyl disp hp  drat wt    qsec  vs am gear carb\n",
              "Datsun 710        22.8 4   108   93 3.85 2.320 18.61 1  1  4    1   \n",
              "Hornet 4 Drive    21.4 6   258  110 3.08 3.215 19.44 1  0  3    1   \n",
              "Hornet Sportabout 18.7 8   360  175 3.15 3.440 17.02 0  0  3    2   "
            ]
          },
          "metadata": {}
        }
      ]
    },
    {
      "cell_type": "code",
      "source": [
        "# Access mpg and hp columns for the first six cars\n",
        "mtcars[1:6, c('mpg', 'hp')]"
      ],
      "metadata": {
        "colab": {
          "base_uri": "https://localhost:8080/",
          "height": 286
        },
        "id": "6KerX6JL7WVp",
        "outputId": "2d59aa03-888e-4522-a1a9-568acab66b51"
      },
      "execution_count": null,
      "outputs": [
        {
          "output_type": "display_data",
          "data": {
            "text/html": [
              "<table class=\"dataframe\">\n",
              "<caption>A data.frame: 6 × 2</caption>\n",
              "<thead>\n",
              "\t<tr><th></th><th scope=col>mpg</th><th scope=col>hp</th></tr>\n",
              "\t<tr><th></th><th scope=col>&lt;dbl&gt;</th><th scope=col>&lt;dbl&gt;</th></tr>\n",
              "</thead>\n",
              "<tbody>\n",
              "\t<tr><th scope=row>Mazda RX4</th><td>21.0</td><td>110</td></tr>\n",
              "\t<tr><th scope=row>Mazda RX4 Wag</th><td>21.0</td><td>110</td></tr>\n",
              "\t<tr><th scope=row>Datsun 710</th><td>22.8</td><td> 93</td></tr>\n",
              "\t<tr><th scope=row>Hornet 4 Drive</th><td>21.4</td><td>110</td></tr>\n",
              "\t<tr><th scope=row>Hornet Sportabout</th><td>18.7</td><td>175</td></tr>\n",
              "\t<tr><th scope=row>Valiant</th><td>18.1</td><td>105</td></tr>\n",
              "</tbody>\n",
              "</table>\n"
            ],
            "text/markdown": "\nA data.frame: 6 × 2\n\n| <!--/--> | mpg &lt;dbl&gt; | hp &lt;dbl&gt; |\n|---|---|---|\n| Mazda RX4 | 21.0 | 110 |\n| Mazda RX4 Wag | 21.0 | 110 |\n| Datsun 710 | 22.8 |  93 |\n| Hornet 4 Drive | 21.4 | 110 |\n| Hornet Sportabout | 18.7 | 175 |\n| Valiant | 18.1 | 105 |\n\n",
            "text/latex": "A data.frame: 6 × 2\n\\begin{tabular}{r|ll}\n  & mpg & hp\\\\\n  & <dbl> & <dbl>\\\\\n\\hline\n\tMazda RX4 & 21.0 & 110\\\\\n\tMazda RX4 Wag & 21.0 & 110\\\\\n\tDatsun 710 & 22.8 &  93\\\\\n\tHornet 4 Drive & 21.4 & 110\\\\\n\tHornet Sportabout & 18.7 & 175\\\\\n\tValiant & 18.1 & 105\\\\\n\\end{tabular}\n",
            "text/plain": [
              "                  mpg  hp \n",
              "Mazda RX4         21.0 110\n",
              "Mazda RX4 Wag     21.0 110\n",
              "Datsun 710        22.8  93\n",
              "Hornet 4 Drive    21.4 110\n",
              "Hornet Sportabout 18.7 175\n",
              "Valiant           18.1 105"
            ]
          },
          "metadata": {}
        }
      ]
    },
    {
      "cell_type": "code",
      "source": [
        "# Access the mpg value for the 4th car\n",
        "mtcars[4, 'mpg']"
      ],
      "metadata": {
        "colab": {
          "base_uri": "https://localhost:8080/",
          "height": 34
        },
        "id": "n-3DMyKZ7Z-w",
        "outputId": "990359b1-c873-4bd2-91d7-3c94a669972f"
      },
      "execution_count": null,
      "outputs": [
        {
          "output_type": "display_data",
          "data": {
            "text/html": [
              "21.4"
            ],
            "text/markdown": "21.4",
            "text/latex": "21.4",
            "text/plain": [
              "[1] 21.4"
            ]
          },
          "metadata": {}
        }
      ]
    },
    {
      "cell_type": "markdown",
      "source": [
        "## Basic Statistics With R\n",
        "\n",
        "Obtaining summary statistics and structural information about a data frame is pivotal for initial data analysis. In R, the mtcars dataset, like any data frame, can be interrogated using several functions. In this section, we'll look at some of the primary functions you'll use."
      ],
      "metadata": {
        "id": "CO1-F-G17ylF"
      }
    },
    {
      "cell_type": "markdown",
      "source": [
        "### The `summary()` Function\n",
        "This function gives you a quick statistical summary of each column in the data frame, which includes the minimum, maximum, median, mean, and the 1st and 3rd quartiles for numerical data. For categorical data, it will give you a count of each level in the factor."
      ],
      "metadata": {
        "id": "_aJYNEp-79-x"
      }
    },
    {
      "cell_type": "code",
      "source": [
        "# Summarize the entire mtcars data frame\n",
        "summary(mtcars)"
      ],
      "metadata": {
        "colab": {
          "base_uri": "https://localhost:8080/",
          "height": 381
        },
        "id": "rb_Y03tN8DQD",
        "outputId": "9345dce5-6eea-4186-b9e7-cc796d34bced"
      },
      "execution_count": null,
      "outputs": [
        {
          "output_type": "display_data",
          "data": {
            "text/plain": [
              "      mpg             cyl             disp             hp       \n",
              " Min.   :10.40   Min.   :4.000   Min.   : 71.1   Min.   : 52.0  \n",
              " 1st Qu.:15.43   1st Qu.:4.000   1st Qu.:120.8   1st Qu.: 96.5  \n",
              " Median :19.20   Median :6.000   Median :196.3   Median :123.0  \n",
              " Mean   :20.09   Mean   :6.188   Mean   :230.7   Mean   :146.7  \n",
              " 3rd Qu.:22.80   3rd Qu.:8.000   3rd Qu.:326.0   3rd Qu.:180.0  \n",
              " Max.   :33.90   Max.   :8.000   Max.   :472.0   Max.   :335.0  \n",
              "      drat             wt             qsec             vs        \n",
              " Min.   :2.760   Min.   :1.513   Min.   :14.50   Min.   :0.0000  \n",
              " 1st Qu.:3.080   1st Qu.:2.581   1st Qu.:16.89   1st Qu.:0.0000  \n",
              " Median :3.695   Median :3.325   Median :17.71   Median :0.0000  \n",
              " Mean   :3.597   Mean   :3.217   Mean   :17.85   Mean   :0.4375  \n",
              " 3rd Qu.:3.920   3rd Qu.:3.610   3rd Qu.:18.90   3rd Qu.:1.0000  \n",
              " Max.   :4.930   Max.   :5.424   Max.   :22.90   Max.   :1.0000  \n",
              "       am              gear            carb      \n",
              " Min.   :0.0000   Min.   :3.000   Min.   :1.000  \n",
              " 1st Qu.:0.0000   1st Qu.:3.000   1st Qu.:2.000  \n",
              " Median :0.0000   Median :4.000   Median :2.000  \n",
              " Mean   :0.4062   Mean   :3.688   Mean   :2.812  \n",
              " 3rd Qu.:1.0000   3rd Qu.:4.000   3rd Qu.:4.000  \n",
              " Max.   :1.0000   Max.   :5.000   Max.   :8.000  "
            ]
          },
          "metadata": {}
        }
      ]
    },
    {
      "cell_type": "markdown",
      "source": [
        "### The `str()` Function\n",
        "The structure function `str()` provides a compact, human-readable summary of the internal structure of an R object. In the case of a data frame, it tells you the number of observations (rows), the number of variables (columns), the data type of each column, and the first few entries in each column."
      ],
      "metadata": {
        "id": "cC3FtCNw8P54"
      }
    },
    {
      "cell_type": "code",
      "source": [
        "# Examine the structure of mtcars\n",
        "str(mtcars)"
      ],
      "metadata": {
        "colab": {
          "base_uri": "https://localhost:8080/"
        },
        "id": "oRl90mM-8WDX",
        "outputId": "9e6bf613-0398-4adf-a582-548bfb334f4a"
      },
      "execution_count": null,
      "outputs": [
        {
          "output_type": "stream",
          "name": "stdout",
          "text": [
            "'data.frame':\t32 obs. of  11 variables:\n",
            " $ mpg : num  21 21 22.8 21.4 18.7 18.1 14.3 24.4 22.8 19.2 ...\n",
            " $ cyl : num  6 6 4 6 8 6 8 4 4 6 ...\n",
            " $ disp: num  160 160 108 258 360 ...\n",
            " $ hp  : num  110 110 93 110 175 105 245 62 95 123 ...\n",
            " $ drat: num  3.9 3.9 3.85 3.08 3.15 2.76 3.21 3.69 3.92 3.92 ...\n",
            " $ wt  : num  2.62 2.88 2.32 3.21 3.44 ...\n",
            " $ qsec: num  16.5 17 18.6 19.4 17 ...\n",
            " $ vs  : num  0 0 1 1 0 1 0 1 1 1 ...\n",
            " $ am  : num  1 1 1 0 0 0 0 0 0 0 ...\n",
            " $ gear: num  4 4 4 3 3 3 3 4 4 4 ...\n",
            " $ carb: num  4 4 1 1 2 1 4 2 2 4 ...\n"
          ]
        }
      ]
    },
    {
      "cell_type": "markdown",
      "source": [
        "### The `dim()` Function\n",
        "This function tells you the dimensions of the object, in the case of a data frame, the number of rows and columns."
      ],
      "metadata": {
        "id": "_Wbf5vUx8fXL"
      }
    },
    {
      "cell_type": "code",
      "source": [
        "# Get the dimensions of mtcars\n",
        "dim(mtcars)"
      ],
      "metadata": {
        "colab": {
          "base_uri": "https://localhost:8080/",
          "height": 34
        },
        "id": "zJwta6088ix8",
        "outputId": "4a5a1cf0-e65e-4d82-914f-29b9a4df0720"
      },
      "execution_count": null,
      "outputs": [
        {
          "output_type": "display_data",
          "data": {
            "text/html": [
              "<style>\n",
              ".list-inline {list-style: none; margin:0; padding: 0}\n",
              ".list-inline>li {display: inline-block}\n",
              ".list-inline>li:not(:last-child)::after {content: \"\\00b7\"; padding: 0 .5ex}\n",
              "</style>\n",
              "<ol class=list-inline><li>32</li><li>11</li></ol>\n"
            ],
            "text/markdown": "1. 32\n2. 11\n\n\n",
            "text/latex": "\\begin{enumerate*}\n\\item 32\n\\item 11\n\\end{enumerate*}\n",
            "text/plain": [
              "[1] 32 11"
            ]
          },
          "metadata": {}
        }
      ]
    },
    {
      "cell_type": "markdown",
      "source": [
        "### The `colMeans()` and `rowMeans()` Functions\n",
        "These functions calculate the mean of each column or row, respectively, for datasets containing numerical data only."
      ],
      "metadata": {
        "id": "J1QlXJmW8fiW"
      }
    },
    {
      "cell_type": "code",
      "source": [
        "# Average of each column\n",
        "colMeans(mtcars)"
      ],
      "metadata": {
        "colab": {
          "base_uri": "https://localhost:8080/",
          "height": 52
        },
        "id": "erK8zrLF81YC",
        "outputId": "4df01a89-548b-401c-f104-7d338644cb8a"
      },
      "execution_count": null,
      "outputs": [
        {
          "output_type": "display_data",
          "data": {
            "text/html": [
              "<style>\n",
              ".dl-inline {width: auto; margin:0; padding: 0}\n",
              ".dl-inline>dt, .dl-inline>dd {float: none; width: auto; display: inline-block}\n",
              ".dl-inline>dt::after {content: \":\\0020\"; padding-right: .5ex}\n",
              ".dl-inline>dt:not(:first-of-type) {padding-left: .5ex}\n",
              "</style><dl class=dl-inline><dt>mpg</dt><dd>20.090625</dd><dt>cyl</dt><dd>6.1875</dd><dt>disp</dt><dd>230.721875</dd><dt>hp</dt><dd>146.6875</dd><dt>drat</dt><dd>3.5965625</dd><dt>wt</dt><dd>3.21725</dd><dt>qsec</dt><dd>17.84875</dd><dt>vs</dt><dd>0.4375</dd><dt>am</dt><dd>0.40625</dd><dt>gear</dt><dd>3.6875</dd><dt>carb</dt><dd>2.8125</dd></dl>\n"
            ],
            "text/markdown": "mpg\n:   20.090625cyl\n:   6.1875disp\n:   230.721875hp\n:   146.6875drat\n:   3.5965625wt\n:   3.21725qsec\n:   17.84875vs\n:   0.4375am\n:   0.40625gear\n:   3.6875carb\n:   2.8125\n\n",
            "text/latex": "\\begin{description*}\n\\item[mpg] 20.090625\n\\item[cyl] 6.1875\n\\item[disp] 230.721875\n\\item[hp] 146.6875\n\\item[drat] 3.5965625\n\\item[wt] 3.21725\n\\item[qsec] 17.84875\n\\item[vs] 0.4375\n\\item[am] 0.40625\n\\item[gear] 3.6875\n\\item[carb] 2.8125\n\\end{description*}\n",
            "text/plain": [
              "       mpg        cyl       disp         hp       drat         wt       qsec \n",
              " 20.090625   6.187500 230.721875 146.687500   3.596563   3.217250  17.848750 \n",
              "        vs         am       gear       carb \n",
              "  0.437500   0.406250   3.687500   2.812500 "
            ]
          },
          "metadata": {}
        }
      ]
    },
    {
      "cell_type": "code",
      "source": [
        "# Average of each row (first 6 for brevity)\n",
        "rowMeans(head(mtcars))"
      ],
      "metadata": {
        "colab": {
          "base_uri": "https://localhost:8080/",
          "height": 52
        },
        "id": "_FUvkve486m7",
        "outputId": "a1510bf2-f397-41bb-c755-73e90b1bc0f9"
      },
      "execution_count": null,
      "outputs": [
        {
          "output_type": "display_data",
          "data": {
            "text/html": [
              "<style>\n",
              ".dl-inline {width: auto; margin:0; padding: 0}\n",
              ".dl-inline>dt, .dl-inline>dd {float: none; width: auto; display: inline-block}\n",
              ".dl-inline>dt::after {content: \":\\0020\"; padding-right: .5ex}\n",
              ".dl-inline>dt:not(:first-of-type) {padding-left: .5ex}\n",
              "</style><dl class=dl-inline><dt>Mazda RX4</dt><dd>29.9072727272727</dd><dt>Mazda RX4 Wag</dt><dd>29.9813636363636</dd><dt>Datsun 710</dt><dd>23.5981818181818</dd><dt>Hornet 4 Drive</dt><dd>38.7395454545455</dd><dt>Hornet Sportabout</dt><dd>53.6645454545455</dd><dt>Valiant</dt><dd>35.0490909090909</dd></dl>\n"
            ],
            "text/markdown": "Mazda RX4\n:   29.9072727272727Mazda RX4 Wag\n:   29.9813636363636Datsun 710\n:   23.5981818181818Hornet 4 Drive\n:   38.7395454545455Hornet Sportabout\n:   53.6645454545455Valiant\n:   35.0490909090909\n\n",
            "text/latex": "\\begin{description*}\n\\item[Mazda RX4] 29.9072727272727\n\\item[Mazda RX4 Wag] 29.9813636363636\n\\item[Datsun 710] 23.5981818181818\n\\item[Hornet 4 Drive] 38.7395454545455\n\\item[Hornet Sportabout] 53.6645454545455\n\\item[Valiant] 35.0490909090909\n\\end{description*}\n",
            "text/plain": [
              "        Mazda RX4     Mazda RX4 Wag        Datsun 710    Hornet 4 Drive \n",
              "         29.90727          29.98136          23.59818          38.73955 \n",
              "Hornet Sportabout           Valiant \n",
              "         53.66455          35.04909 "
            ]
          },
          "metadata": {}
        }
      ]
    },
    {
      "cell_type": "markdown",
      "source": [
        "### The `sapply()` Function\n",
        "This function can be used to apply a summary function to each column individually. For example, if you wanted to get the median of each column:"
      ],
      "metadata": {
        "id": "D93sTy2G9G4W"
      }
    },
    {
      "cell_type": "code",
      "source": [
        "# Apply the median function to each column of mtcars\n",
        "sapply(mtcars, median)"
      ],
      "metadata": {
        "colab": {
          "base_uri": "https://localhost:8080/",
          "height": 34
        },
        "id": "-14unOiS9LTY",
        "outputId": "97295ddf-ffad-4f1a-a469-56b922ba7234"
      },
      "execution_count": null,
      "outputs": [
        {
          "output_type": "display_data",
          "data": {
            "text/html": [
              "<style>\n",
              ".dl-inline {width: auto; margin:0; padding: 0}\n",
              ".dl-inline>dt, .dl-inline>dd {float: none; width: auto; display: inline-block}\n",
              ".dl-inline>dt::after {content: \":\\0020\"; padding-right: .5ex}\n",
              ".dl-inline>dt:not(:first-of-type) {padding-left: .5ex}\n",
              "</style><dl class=dl-inline><dt>mpg</dt><dd>19.2</dd><dt>cyl</dt><dd>6</dd><dt>disp</dt><dd>196.3</dd><dt>hp</dt><dd>123</dd><dt>drat</dt><dd>3.695</dd><dt>wt</dt><dd>3.325</dd><dt>qsec</dt><dd>17.71</dd><dt>vs</dt><dd>0</dd><dt>am</dt><dd>0</dd><dt>gear</dt><dd>4</dd><dt>carb</dt><dd>2</dd></dl>\n"
            ],
            "text/markdown": "mpg\n:   19.2cyl\n:   6disp\n:   196.3hp\n:   123drat\n:   3.695wt\n:   3.325qsec\n:   17.71vs\n:   0am\n:   0gear\n:   4carb\n:   2\n\n",
            "text/latex": "\\begin{description*}\n\\item[mpg] 19.2\n\\item[cyl] 6\n\\item[disp] 196.3\n\\item[hp] 123\n\\item[drat] 3.695\n\\item[wt] 3.325\n\\item[qsec] 17.71\n\\item[vs] 0\n\\item[am] 0\n\\item[gear] 4\n\\item[carb] 2\n\\end{description*}\n",
            "text/plain": [
              "    mpg     cyl    disp      hp    drat      wt    qsec      vs      am    gear \n",
              " 19.200   6.000 196.300 123.000   3.695   3.325  17.710   0.000   0.000   4.000 \n",
              "   carb \n",
              "  2.000 "
            ]
          },
          "metadata": {}
        }
      ]
    },
    {
      "cell_type": "markdown",
      "source": [
        "Together, these functions offer a powerful toolkit for understanding the structure and statistics of your data frame before you proceed to more detailed analysis or data manipulation."
      ],
      "metadata": {
        "id": "t2MVFYon9QY6"
      }
    },
    {
      "cell_type": "markdown",
      "source": [
        "## Filtering and Sorting Data\n",
        "Filtering and sorting data within a data frame are key operations in data analysis, allowing you to view and organize your data according to specific criteria.  To filter the dataset, you can use logical operators within the square brackets `[]`.\n",
        "\n",
        "Basic concepts in filtering include:\n",
        "\n",
        "- `$` Operator: This is used to select a single column from a data frame, which returns the column as a vector. For example, `mtcars$mpg` gives you the miles per gallon for all cars in the `mtcars` data frame.\n",
        "\n",
        "- Square Brackets `[]`: These are used for indexing. They allow you to extract specific portions of a data frame.\n",
        "\n",
        "    -   `mtcars[1, ]` would return the first row of `mtcars` (all columns).\n",
        "    -   `mtcars[, 1]` would return the first column of `mtcars` (all rows).\n",
        "    -   `mtcars[, \"mpg\"]` would return the `mpg` column, similar to using `$`.\n",
        "- Logical Operators: Within the square brackets, you can use logical operators (`<`, `>`, `<=`, `>=`, `==`, `!=`, `&`, `|`) to filter rows based on conditions.\n",
        "\n",
        "### Filtering Syntax\n",
        "\n",
        "When filtering, you combine these components to specify exactly what you want to see. For example:\n",
        "\n",
        "-   `mtcars[mtcars$mpg > 25, ]` will return all rows where the `mpg` value is greater than 25.\n",
        "-   `mtcars[mtcars$cyl == 4 & mtcars$hp > 100, ]` gives you rows where the car has 4 cylinders and horsepower greater than 100.\n",
        "\n",
        "These operations can be read as:\n",
        "\n",
        "-   \"Give me all rows from `mtcars` where `mpg` is greater than 25.\"\n",
        "-   \"Give me all rows from `mtcars` where `cyl` is 4 AND `hp` is greater than 100.\"\n",
        "\n",
        "The result of these expressions is a new data frame that meets your specified conditions. This new data frame can be used as is, or you might assign it to a new variable for further analysis."
      ],
      "metadata": {
        "id": "g_XhuQxU9zzm"
      }
    },
    {
      "cell_type": "markdown",
      "source": [
        "\n",
        "###  Basic Filtering\n",
        "To select rows that meet certain conditions:"
      ],
      "metadata": {
        "id": "N2VLC66J-zWG"
      }
    },
    {
      "cell_type": "code",
      "source": [
        "# Filter mtcars for cars with more than 25 mpg\n",
        "mtcars[mtcars$mpg > 25, ]"
      ],
      "metadata": {
        "colab": {
          "base_uri": "https://localhost:8080/",
          "height": 286
        },
        "id": "DKy283hI9UiJ",
        "outputId": "73279e5b-3563-4bac-de32-a46eda9d7488"
      },
      "execution_count": null,
      "outputs": [
        {
          "output_type": "display_data",
          "data": {
            "text/html": [
              "<table class=\"dataframe\">\n",
              "<caption>A data.frame: 6 × 11</caption>\n",
              "<thead>\n",
              "\t<tr><th></th><th scope=col>mpg</th><th scope=col>cyl</th><th scope=col>disp</th><th scope=col>hp</th><th scope=col>drat</th><th scope=col>wt</th><th scope=col>qsec</th><th scope=col>vs</th><th scope=col>am</th><th scope=col>gear</th><th scope=col>carb</th></tr>\n",
              "\t<tr><th></th><th scope=col>&lt;dbl&gt;</th><th scope=col>&lt;dbl&gt;</th><th scope=col>&lt;dbl&gt;</th><th scope=col>&lt;dbl&gt;</th><th scope=col>&lt;dbl&gt;</th><th scope=col>&lt;dbl&gt;</th><th scope=col>&lt;dbl&gt;</th><th scope=col>&lt;dbl&gt;</th><th scope=col>&lt;dbl&gt;</th><th scope=col>&lt;dbl&gt;</th><th scope=col>&lt;dbl&gt;</th></tr>\n",
              "</thead>\n",
              "<tbody>\n",
              "\t<tr><th scope=row>Fiat 128</th><td>32.4</td><td>4</td><td> 78.7</td><td> 66</td><td>4.08</td><td>2.200</td><td>19.47</td><td>1</td><td>1</td><td>4</td><td>1</td></tr>\n",
              "\t<tr><th scope=row>Honda Civic</th><td>30.4</td><td>4</td><td> 75.7</td><td> 52</td><td>4.93</td><td>1.615</td><td>18.52</td><td>1</td><td>1</td><td>4</td><td>2</td></tr>\n",
              "\t<tr><th scope=row>Toyota Corolla</th><td>33.9</td><td>4</td><td> 71.1</td><td> 65</td><td>4.22</td><td>1.835</td><td>19.90</td><td>1</td><td>1</td><td>4</td><td>1</td></tr>\n",
              "\t<tr><th scope=row>Fiat X1-9</th><td>27.3</td><td>4</td><td> 79.0</td><td> 66</td><td>4.08</td><td>1.935</td><td>18.90</td><td>1</td><td>1</td><td>4</td><td>1</td></tr>\n",
              "\t<tr><th scope=row>Porsche 914-2</th><td>26.0</td><td>4</td><td>120.3</td><td> 91</td><td>4.43</td><td>2.140</td><td>16.70</td><td>0</td><td>1</td><td>5</td><td>2</td></tr>\n",
              "\t<tr><th scope=row>Lotus Europa</th><td>30.4</td><td>4</td><td> 95.1</td><td>113</td><td>3.77</td><td>1.513</td><td>16.90</td><td>1</td><td>1</td><td>5</td><td>2</td></tr>\n",
              "</tbody>\n",
              "</table>\n"
            ],
            "text/markdown": "\nA data.frame: 6 × 11\n\n| <!--/--> | mpg &lt;dbl&gt; | cyl &lt;dbl&gt; | disp &lt;dbl&gt; | hp &lt;dbl&gt; | drat &lt;dbl&gt; | wt &lt;dbl&gt; | qsec &lt;dbl&gt; | vs &lt;dbl&gt; | am &lt;dbl&gt; | gear &lt;dbl&gt; | carb &lt;dbl&gt; |\n|---|---|---|---|---|---|---|---|---|---|---|---|\n| Fiat 128 | 32.4 | 4 |  78.7 |  66 | 4.08 | 2.200 | 19.47 | 1 | 1 | 4 | 1 |\n| Honda Civic | 30.4 | 4 |  75.7 |  52 | 4.93 | 1.615 | 18.52 | 1 | 1 | 4 | 2 |\n| Toyota Corolla | 33.9 | 4 |  71.1 |  65 | 4.22 | 1.835 | 19.90 | 1 | 1 | 4 | 1 |\n| Fiat X1-9 | 27.3 | 4 |  79.0 |  66 | 4.08 | 1.935 | 18.90 | 1 | 1 | 4 | 1 |\n| Porsche 914-2 | 26.0 | 4 | 120.3 |  91 | 4.43 | 2.140 | 16.70 | 0 | 1 | 5 | 2 |\n| Lotus Europa | 30.4 | 4 |  95.1 | 113 | 3.77 | 1.513 | 16.90 | 1 | 1 | 5 | 2 |\n\n",
            "text/latex": "A data.frame: 6 × 11\n\\begin{tabular}{r|lllllllllll}\n  & mpg & cyl & disp & hp & drat & wt & qsec & vs & am & gear & carb\\\\\n  & <dbl> & <dbl> & <dbl> & <dbl> & <dbl> & <dbl> & <dbl> & <dbl> & <dbl> & <dbl> & <dbl>\\\\\n\\hline\n\tFiat 128 & 32.4 & 4 &  78.7 &  66 & 4.08 & 2.200 & 19.47 & 1 & 1 & 4 & 1\\\\\n\tHonda Civic & 30.4 & 4 &  75.7 &  52 & 4.93 & 1.615 & 18.52 & 1 & 1 & 4 & 2\\\\\n\tToyota Corolla & 33.9 & 4 &  71.1 &  65 & 4.22 & 1.835 & 19.90 & 1 & 1 & 4 & 1\\\\\n\tFiat X1-9 & 27.3 & 4 &  79.0 &  66 & 4.08 & 1.935 & 18.90 & 1 & 1 & 4 & 1\\\\\n\tPorsche 914-2 & 26.0 & 4 & 120.3 &  91 & 4.43 & 2.140 & 16.70 & 0 & 1 & 5 & 2\\\\\n\tLotus Europa & 30.4 & 4 &  95.1 & 113 & 3.77 & 1.513 & 16.90 & 1 & 1 & 5 & 2\\\\\n\\end{tabular}\n",
            "text/plain": [
              "               mpg  cyl disp  hp  drat wt    qsec  vs am gear carb\n",
              "Fiat 128       32.4 4    78.7  66 4.08 2.200 19.47 1  1  4    1   \n",
              "Honda Civic    30.4 4    75.7  52 4.93 1.615 18.52 1  1  4    2   \n",
              "Toyota Corolla 33.9 4    71.1  65 4.22 1.835 19.90 1  1  4    1   \n",
              "Fiat X1-9      27.3 4    79.0  66 4.08 1.935 18.90 1  1  4    1   \n",
              "Porsche 914-2  26.0 4   120.3  91 4.43 2.140 16.70 0  1  5    2   \n",
              "Lotus Europa   30.4 4    95.1 113 3.77 1.513 16.90 1  1  5    2   "
            ]
          },
          "metadata": {}
        }
      ]
    },
    {
      "cell_type": "markdown",
      "source": [
        "### Multiple Conditions\n",
        "Use the `&` (and) and `|` (or) operators to filter with multiple conditions:"
      ],
      "metadata": {
        "id": "v1xKcLbO-sbr"
      }
    },
    {
      "cell_type": "code",
      "source": [
        "# Cars with more than 20 mpg and 6 cylinders\n",
        "mtcars[mtcars$mpg > 20 & mtcars$cyl == 6, ]"
      ],
      "metadata": {
        "colab": {
          "base_uri": "https://localhost:8080/",
          "height": 192
        },
        "id": "dRdRfwEc_AY_",
        "outputId": "a93251cd-e88c-44f3-9942-5f6160243c82"
      },
      "execution_count": null,
      "outputs": [
        {
          "output_type": "display_data",
          "data": {
            "text/html": [
              "<table class=\"dataframe\">\n",
              "<caption>A data.frame: 3 × 11</caption>\n",
              "<thead>\n",
              "\t<tr><th></th><th scope=col>mpg</th><th scope=col>cyl</th><th scope=col>disp</th><th scope=col>hp</th><th scope=col>drat</th><th scope=col>wt</th><th scope=col>qsec</th><th scope=col>vs</th><th scope=col>am</th><th scope=col>gear</th><th scope=col>carb</th></tr>\n",
              "\t<tr><th></th><th scope=col>&lt;dbl&gt;</th><th scope=col>&lt;dbl&gt;</th><th scope=col>&lt;dbl&gt;</th><th scope=col>&lt;dbl&gt;</th><th scope=col>&lt;dbl&gt;</th><th scope=col>&lt;dbl&gt;</th><th scope=col>&lt;dbl&gt;</th><th scope=col>&lt;dbl&gt;</th><th scope=col>&lt;dbl&gt;</th><th scope=col>&lt;dbl&gt;</th><th scope=col>&lt;dbl&gt;</th></tr>\n",
              "</thead>\n",
              "<tbody>\n",
              "\t<tr><th scope=row>Mazda RX4</th><td>21.0</td><td>6</td><td>160</td><td>110</td><td>3.90</td><td>2.620</td><td>16.46</td><td>0</td><td>1</td><td>4</td><td>4</td></tr>\n",
              "\t<tr><th scope=row>Mazda RX4 Wag</th><td>21.0</td><td>6</td><td>160</td><td>110</td><td>3.90</td><td>2.875</td><td>17.02</td><td>0</td><td>1</td><td>4</td><td>4</td></tr>\n",
              "\t<tr><th scope=row>Hornet 4 Drive</th><td>21.4</td><td>6</td><td>258</td><td>110</td><td>3.08</td><td>3.215</td><td>19.44</td><td>1</td><td>0</td><td>3</td><td>1</td></tr>\n",
              "</tbody>\n",
              "</table>\n"
            ],
            "text/markdown": "\nA data.frame: 3 × 11\n\n| <!--/--> | mpg &lt;dbl&gt; | cyl &lt;dbl&gt; | disp &lt;dbl&gt; | hp &lt;dbl&gt; | drat &lt;dbl&gt; | wt &lt;dbl&gt; | qsec &lt;dbl&gt; | vs &lt;dbl&gt; | am &lt;dbl&gt; | gear &lt;dbl&gt; | carb &lt;dbl&gt; |\n|---|---|---|---|---|---|---|---|---|---|---|---|\n| Mazda RX4 | 21.0 | 6 | 160 | 110 | 3.90 | 2.620 | 16.46 | 0 | 1 | 4 | 4 |\n| Mazda RX4 Wag | 21.0 | 6 | 160 | 110 | 3.90 | 2.875 | 17.02 | 0 | 1 | 4 | 4 |\n| Hornet 4 Drive | 21.4 | 6 | 258 | 110 | 3.08 | 3.215 | 19.44 | 1 | 0 | 3 | 1 |\n\n",
            "text/latex": "A data.frame: 3 × 11\n\\begin{tabular}{r|lllllllllll}\n  & mpg & cyl & disp & hp & drat & wt & qsec & vs & am & gear & carb\\\\\n  & <dbl> & <dbl> & <dbl> & <dbl> & <dbl> & <dbl> & <dbl> & <dbl> & <dbl> & <dbl> & <dbl>\\\\\n\\hline\n\tMazda RX4 & 21.0 & 6 & 160 & 110 & 3.90 & 2.620 & 16.46 & 0 & 1 & 4 & 4\\\\\n\tMazda RX4 Wag & 21.0 & 6 & 160 & 110 & 3.90 & 2.875 & 17.02 & 0 & 1 & 4 & 4\\\\\n\tHornet 4 Drive & 21.4 & 6 & 258 & 110 & 3.08 & 3.215 & 19.44 & 1 & 0 & 3 & 1\\\\\n\\end{tabular}\n",
            "text/plain": [
              "               mpg  cyl disp hp  drat wt    qsec  vs am gear carb\n",
              "Mazda RX4      21.0 6   160  110 3.90 2.620 16.46 0  1  4    4   \n",
              "Mazda RX4 Wag  21.0 6   160  110 3.90 2.875 17.02 0  1  4    4   \n",
              "Hornet 4 Drive 21.4 6   258  110 3.08 3.215 19.44 1  0  3    1   "
            ]
          },
          "metadata": {}
        }
      ]
    },
    {
      "cell_type": "markdown",
      "source": [
        "### Subset Function\n",
        "The subset() function can make filtering more readable:"
      ],
      "metadata": {
        "id": "9it3ZJyP_IiV"
      }
    },
    {
      "cell_type": "code",
      "source": [
        "# The same filter using subset()\n",
        "subset(mtcars, mpg > 20 & cyl == 6)"
      ],
      "metadata": {
        "colab": {
          "base_uri": "https://localhost:8080/",
          "height": 192
        },
        "id": "W18zNZX0_MOy",
        "outputId": "612fd37c-3424-4ec3-c236-b071b6205b01"
      },
      "execution_count": null,
      "outputs": [
        {
          "output_type": "display_data",
          "data": {
            "text/html": [
              "<table class=\"dataframe\">\n",
              "<caption>A data.frame: 3 × 11</caption>\n",
              "<thead>\n",
              "\t<tr><th></th><th scope=col>mpg</th><th scope=col>cyl</th><th scope=col>disp</th><th scope=col>hp</th><th scope=col>drat</th><th scope=col>wt</th><th scope=col>qsec</th><th scope=col>vs</th><th scope=col>am</th><th scope=col>gear</th><th scope=col>carb</th></tr>\n",
              "\t<tr><th></th><th scope=col>&lt;dbl&gt;</th><th scope=col>&lt;dbl&gt;</th><th scope=col>&lt;dbl&gt;</th><th scope=col>&lt;dbl&gt;</th><th scope=col>&lt;dbl&gt;</th><th scope=col>&lt;dbl&gt;</th><th scope=col>&lt;dbl&gt;</th><th scope=col>&lt;dbl&gt;</th><th scope=col>&lt;dbl&gt;</th><th scope=col>&lt;dbl&gt;</th><th scope=col>&lt;dbl&gt;</th></tr>\n",
              "</thead>\n",
              "<tbody>\n",
              "\t<tr><th scope=row>Mazda RX4</th><td>21.0</td><td>6</td><td>160</td><td>110</td><td>3.90</td><td>2.620</td><td>16.46</td><td>0</td><td>1</td><td>4</td><td>4</td></tr>\n",
              "\t<tr><th scope=row>Mazda RX4 Wag</th><td>21.0</td><td>6</td><td>160</td><td>110</td><td>3.90</td><td>2.875</td><td>17.02</td><td>0</td><td>1</td><td>4</td><td>4</td></tr>\n",
              "\t<tr><th scope=row>Hornet 4 Drive</th><td>21.4</td><td>6</td><td>258</td><td>110</td><td>3.08</td><td>3.215</td><td>19.44</td><td>1</td><td>0</td><td>3</td><td>1</td></tr>\n",
              "</tbody>\n",
              "</table>\n"
            ],
            "text/markdown": "\nA data.frame: 3 × 11\n\n| <!--/--> | mpg &lt;dbl&gt; | cyl &lt;dbl&gt; | disp &lt;dbl&gt; | hp &lt;dbl&gt; | drat &lt;dbl&gt; | wt &lt;dbl&gt; | qsec &lt;dbl&gt; | vs &lt;dbl&gt; | am &lt;dbl&gt; | gear &lt;dbl&gt; | carb &lt;dbl&gt; |\n|---|---|---|---|---|---|---|---|---|---|---|---|\n| Mazda RX4 | 21.0 | 6 | 160 | 110 | 3.90 | 2.620 | 16.46 | 0 | 1 | 4 | 4 |\n| Mazda RX4 Wag | 21.0 | 6 | 160 | 110 | 3.90 | 2.875 | 17.02 | 0 | 1 | 4 | 4 |\n| Hornet 4 Drive | 21.4 | 6 | 258 | 110 | 3.08 | 3.215 | 19.44 | 1 | 0 | 3 | 1 |\n\n",
            "text/latex": "A data.frame: 3 × 11\n\\begin{tabular}{r|lllllllllll}\n  & mpg & cyl & disp & hp & drat & wt & qsec & vs & am & gear & carb\\\\\n  & <dbl> & <dbl> & <dbl> & <dbl> & <dbl> & <dbl> & <dbl> & <dbl> & <dbl> & <dbl> & <dbl>\\\\\n\\hline\n\tMazda RX4 & 21.0 & 6 & 160 & 110 & 3.90 & 2.620 & 16.46 & 0 & 1 & 4 & 4\\\\\n\tMazda RX4 Wag & 21.0 & 6 & 160 & 110 & 3.90 & 2.875 & 17.02 & 0 & 1 & 4 & 4\\\\\n\tHornet 4 Drive & 21.4 & 6 & 258 & 110 & 3.08 & 3.215 & 19.44 & 1 & 0 & 3 & 1\\\\\n\\end{tabular}\n",
            "text/plain": [
              "               mpg  cyl disp hp  drat wt    qsec  vs am gear carb\n",
              "Mazda RX4      21.0 6   160  110 3.90 2.620 16.46 0  1  4    4   \n",
              "Mazda RX4 Wag  21.0 6   160  110 3.90 2.875 17.02 0  1  4    4   \n",
              "Hornet 4 Drive 21.4 6   258  110 3.08 3.215 19.44 1  0  3    1   "
            ]
          },
          "metadata": {}
        }
      ]
    },
    {
      "cell_type": "markdown",
      "source": [
        "### Sorting the `mtcars` Dataset Using `order()\n",
        "\n",
        "Sorting involves arranging the rows in ascending or descending order based on one or more columns. One way to sort is by using the  `order()` Function, which function generates a permutation which is the order of its first argument into its second argument:"
      ],
      "metadata": {
        "id": "UHQMa5XL_Iqa"
      }
    },
    {
      "cell_type": "code",
      "source": [
        "# Sort mtcars by mpg in ascending order\n",
        "# I limited to 5 rows\n",
        "\n",
        "head(\n",
        "  mtcars[order(mtcars$mpg), ]\n",
        ")\n"
      ],
      "metadata": {
        "colab": {
          "base_uri": "https://localhost:8080/",
          "height": 286
        },
        "id": "EWU0LNim_k3E",
        "outputId": "1f081cb4-82e4-42e3-a033-cc2cceb6f3b4"
      },
      "execution_count": null,
      "outputs": [
        {
          "output_type": "display_data",
          "data": {
            "text/html": [
              "<table class=\"dataframe\">\n",
              "<caption>A data.frame: 6 × 11</caption>\n",
              "<thead>\n",
              "\t<tr><th></th><th scope=col>mpg</th><th scope=col>cyl</th><th scope=col>disp</th><th scope=col>hp</th><th scope=col>drat</th><th scope=col>wt</th><th scope=col>qsec</th><th scope=col>vs</th><th scope=col>am</th><th scope=col>gear</th><th scope=col>carb</th></tr>\n",
              "\t<tr><th></th><th scope=col>&lt;dbl&gt;</th><th scope=col>&lt;dbl&gt;</th><th scope=col>&lt;dbl&gt;</th><th scope=col>&lt;dbl&gt;</th><th scope=col>&lt;dbl&gt;</th><th scope=col>&lt;dbl&gt;</th><th scope=col>&lt;dbl&gt;</th><th scope=col>&lt;dbl&gt;</th><th scope=col>&lt;dbl&gt;</th><th scope=col>&lt;dbl&gt;</th><th scope=col>&lt;dbl&gt;</th></tr>\n",
              "</thead>\n",
              "<tbody>\n",
              "\t<tr><th scope=row>Cadillac Fleetwood</th><td>10.4</td><td>8</td><td>472</td><td>205</td><td>2.93</td><td>5.250</td><td>17.98</td><td>0</td><td>0</td><td>3</td><td>4</td></tr>\n",
              "\t<tr><th scope=row>Lincoln Continental</th><td>10.4</td><td>8</td><td>460</td><td>215</td><td>3.00</td><td>5.424</td><td>17.82</td><td>0</td><td>0</td><td>3</td><td>4</td></tr>\n",
              "\t<tr><th scope=row>Camaro Z28</th><td>13.3</td><td>8</td><td>350</td><td>245</td><td>3.73</td><td>3.840</td><td>15.41</td><td>0</td><td>0</td><td>3</td><td>4</td></tr>\n",
              "\t<tr><th scope=row>Duster 360</th><td>14.3</td><td>8</td><td>360</td><td>245</td><td>3.21</td><td>3.570</td><td>15.84</td><td>0</td><td>0</td><td>3</td><td>4</td></tr>\n",
              "\t<tr><th scope=row>Chrysler Imperial</th><td>14.7</td><td>8</td><td>440</td><td>230</td><td>3.23</td><td>5.345</td><td>17.42</td><td>0</td><td>0</td><td>3</td><td>4</td></tr>\n",
              "\t<tr><th scope=row>Maserati Bora</th><td>15.0</td><td>8</td><td>301</td><td>335</td><td>3.54</td><td>3.570</td><td>14.60</td><td>0</td><td>1</td><td>5</td><td>8</td></tr>\n",
              "</tbody>\n",
              "</table>\n"
            ],
            "text/markdown": "\nA data.frame: 6 × 11\n\n| <!--/--> | mpg &lt;dbl&gt; | cyl &lt;dbl&gt; | disp &lt;dbl&gt; | hp &lt;dbl&gt; | drat &lt;dbl&gt; | wt &lt;dbl&gt; | qsec &lt;dbl&gt; | vs &lt;dbl&gt; | am &lt;dbl&gt; | gear &lt;dbl&gt; | carb &lt;dbl&gt; |\n|---|---|---|---|---|---|---|---|---|---|---|---|\n| Cadillac Fleetwood | 10.4 | 8 | 472 | 205 | 2.93 | 5.250 | 17.98 | 0 | 0 | 3 | 4 |\n| Lincoln Continental | 10.4 | 8 | 460 | 215 | 3.00 | 5.424 | 17.82 | 0 | 0 | 3 | 4 |\n| Camaro Z28 | 13.3 | 8 | 350 | 245 | 3.73 | 3.840 | 15.41 | 0 | 0 | 3 | 4 |\n| Duster 360 | 14.3 | 8 | 360 | 245 | 3.21 | 3.570 | 15.84 | 0 | 0 | 3 | 4 |\n| Chrysler Imperial | 14.7 | 8 | 440 | 230 | 3.23 | 5.345 | 17.42 | 0 | 0 | 3 | 4 |\n| Maserati Bora | 15.0 | 8 | 301 | 335 | 3.54 | 3.570 | 14.60 | 0 | 1 | 5 | 8 |\n\n",
            "text/latex": "A data.frame: 6 × 11\n\\begin{tabular}{r|lllllllllll}\n  & mpg & cyl & disp & hp & drat & wt & qsec & vs & am & gear & carb\\\\\n  & <dbl> & <dbl> & <dbl> & <dbl> & <dbl> & <dbl> & <dbl> & <dbl> & <dbl> & <dbl> & <dbl>\\\\\n\\hline\n\tCadillac Fleetwood & 10.4 & 8 & 472 & 205 & 2.93 & 5.250 & 17.98 & 0 & 0 & 3 & 4\\\\\n\tLincoln Continental & 10.4 & 8 & 460 & 215 & 3.00 & 5.424 & 17.82 & 0 & 0 & 3 & 4\\\\\n\tCamaro Z28 & 13.3 & 8 & 350 & 245 & 3.73 & 3.840 & 15.41 & 0 & 0 & 3 & 4\\\\\n\tDuster 360 & 14.3 & 8 & 360 & 245 & 3.21 & 3.570 & 15.84 & 0 & 0 & 3 & 4\\\\\n\tChrysler Imperial & 14.7 & 8 & 440 & 230 & 3.23 & 5.345 & 17.42 & 0 & 0 & 3 & 4\\\\\n\tMaserati Bora & 15.0 & 8 & 301 & 335 & 3.54 & 3.570 & 14.60 & 0 & 1 & 5 & 8\\\\\n\\end{tabular}\n",
            "text/plain": [
              "                    mpg  cyl disp hp  drat wt    qsec  vs am gear carb\n",
              "Cadillac Fleetwood  10.4 8   472  205 2.93 5.250 17.98 0  0  3    4   \n",
              "Lincoln Continental 10.4 8   460  215 3.00 5.424 17.82 0  0  3    4   \n",
              "Camaro Z28          13.3 8   350  245 3.73 3.840 15.41 0  0  3    4   \n",
              "Duster 360          14.3 8   360  245 3.21 3.570 15.84 0  0  3    4   \n",
              "Chrysler Imperial   14.7 8   440  230 3.23 5.345 17.42 0  0  3    4   \n",
              "Maserati Bora       15.0 8   301  335 3.54 3.570 14.60 0  1  5    8   "
            ]
          },
          "metadata": {}
        }
      ]
    },
    {
      "cell_type": "code",
      "source": [
        "# For descending order\n",
        "head(\n",
        "  mtcars[order(-mtcars$mpg), ]\n",
        ")\n"
      ],
      "metadata": {
        "colab": {
          "base_uri": "https://localhost:8080/",
          "height": 286
        },
        "id": "fAdIs7Y8_muF",
        "outputId": "3080e340-8764-4f1f-e382-be8b1ef8d48c"
      },
      "execution_count": null,
      "outputs": [
        {
          "output_type": "display_data",
          "data": {
            "text/html": [
              "<table class=\"dataframe\">\n",
              "<caption>A data.frame: 6 × 11</caption>\n",
              "<thead>\n",
              "\t<tr><th></th><th scope=col>mpg</th><th scope=col>cyl</th><th scope=col>disp</th><th scope=col>hp</th><th scope=col>drat</th><th scope=col>wt</th><th scope=col>qsec</th><th scope=col>vs</th><th scope=col>am</th><th scope=col>gear</th><th scope=col>carb</th></tr>\n",
              "\t<tr><th></th><th scope=col>&lt;dbl&gt;</th><th scope=col>&lt;dbl&gt;</th><th scope=col>&lt;dbl&gt;</th><th scope=col>&lt;dbl&gt;</th><th scope=col>&lt;dbl&gt;</th><th scope=col>&lt;dbl&gt;</th><th scope=col>&lt;dbl&gt;</th><th scope=col>&lt;dbl&gt;</th><th scope=col>&lt;dbl&gt;</th><th scope=col>&lt;dbl&gt;</th><th scope=col>&lt;dbl&gt;</th></tr>\n",
              "</thead>\n",
              "<tbody>\n",
              "\t<tr><th scope=row>Toyota Corolla</th><td>33.9</td><td>4</td><td> 71.1</td><td> 65</td><td>4.22</td><td>1.835</td><td>19.90</td><td>1</td><td>1</td><td>4</td><td>1</td></tr>\n",
              "\t<tr><th scope=row>Fiat 128</th><td>32.4</td><td>4</td><td> 78.7</td><td> 66</td><td>4.08</td><td>2.200</td><td>19.47</td><td>1</td><td>1</td><td>4</td><td>1</td></tr>\n",
              "\t<tr><th scope=row>Honda Civic</th><td>30.4</td><td>4</td><td> 75.7</td><td> 52</td><td>4.93</td><td>1.615</td><td>18.52</td><td>1</td><td>1</td><td>4</td><td>2</td></tr>\n",
              "\t<tr><th scope=row>Lotus Europa</th><td>30.4</td><td>4</td><td> 95.1</td><td>113</td><td>3.77</td><td>1.513</td><td>16.90</td><td>1</td><td>1</td><td>5</td><td>2</td></tr>\n",
              "\t<tr><th scope=row>Fiat X1-9</th><td>27.3</td><td>4</td><td> 79.0</td><td> 66</td><td>4.08</td><td>1.935</td><td>18.90</td><td>1</td><td>1</td><td>4</td><td>1</td></tr>\n",
              "\t<tr><th scope=row>Porsche 914-2</th><td>26.0</td><td>4</td><td>120.3</td><td> 91</td><td>4.43</td><td>2.140</td><td>16.70</td><td>0</td><td>1</td><td>5</td><td>2</td></tr>\n",
              "</tbody>\n",
              "</table>\n"
            ],
            "text/markdown": "\nA data.frame: 6 × 11\n\n| <!--/--> | mpg &lt;dbl&gt; | cyl &lt;dbl&gt; | disp &lt;dbl&gt; | hp &lt;dbl&gt; | drat &lt;dbl&gt; | wt &lt;dbl&gt; | qsec &lt;dbl&gt; | vs &lt;dbl&gt; | am &lt;dbl&gt; | gear &lt;dbl&gt; | carb &lt;dbl&gt; |\n|---|---|---|---|---|---|---|---|---|---|---|---|\n| Toyota Corolla | 33.9 | 4 |  71.1 |  65 | 4.22 | 1.835 | 19.90 | 1 | 1 | 4 | 1 |\n| Fiat 128 | 32.4 | 4 |  78.7 |  66 | 4.08 | 2.200 | 19.47 | 1 | 1 | 4 | 1 |\n| Honda Civic | 30.4 | 4 |  75.7 |  52 | 4.93 | 1.615 | 18.52 | 1 | 1 | 4 | 2 |\n| Lotus Europa | 30.4 | 4 |  95.1 | 113 | 3.77 | 1.513 | 16.90 | 1 | 1 | 5 | 2 |\n| Fiat X1-9 | 27.3 | 4 |  79.0 |  66 | 4.08 | 1.935 | 18.90 | 1 | 1 | 4 | 1 |\n| Porsche 914-2 | 26.0 | 4 | 120.3 |  91 | 4.43 | 2.140 | 16.70 | 0 | 1 | 5 | 2 |\n\n",
            "text/latex": "A data.frame: 6 × 11\n\\begin{tabular}{r|lllllllllll}\n  & mpg & cyl & disp & hp & drat & wt & qsec & vs & am & gear & carb\\\\\n  & <dbl> & <dbl> & <dbl> & <dbl> & <dbl> & <dbl> & <dbl> & <dbl> & <dbl> & <dbl> & <dbl>\\\\\n\\hline\n\tToyota Corolla & 33.9 & 4 &  71.1 &  65 & 4.22 & 1.835 & 19.90 & 1 & 1 & 4 & 1\\\\\n\tFiat 128 & 32.4 & 4 &  78.7 &  66 & 4.08 & 2.200 & 19.47 & 1 & 1 & 4 & 1\\\\\n\tHonda Civic & 30.4 & 4 &  75.7 &  52 & 4.93 & 1.615 & 18.52 & 1 & 1 & 4 & 2\\\\\n\tLotus Europa & 30.4 & 4 &  95.1 & 113 & 3.77 & 1.513 & 16.90 & 1 & 1 & 5 & 2\\\\\n\tFiat X1-9 & 27.3 & 4 &  79.0 &  66 & 4.08 & 1.935 & 18.90 & 1 & 1 & 4 & 1\\\\\n\tPorsche 914-2 & 26.0 & 4 & 120.3 &  91 & 4.43 & 2.140 & 16.70 & 0 & 1 & 5 & 2\\\\\n\\end{tabular}\n",
            "text/plain": [
              "               mpg  cyl disp  hp  drat wt    qsec  vs am gear carb\n",
              "Toyota Corolla 33.9 4    71.1  65 4.22 1.835 19.90 1  1  4    1   \n",
              "Fiat 128       32.4 4    78.7  66 4.08 2.200 19.47 1  1  4    1   \n",
              "Honda Civic    30.4 4    75.7  52 4.93 1.615 18.52 1  1  4    2   \n",
              "Lotus Europa   30.4 4    95.1 113 3.77 1.513 16.90 1  1  5    2   \n",
              "Fiat X1-9      27.3 4    79.0  66 4.08 1.935 18.90 1  1  4    1   \n",
              "Porsche 914-2  26.0 4   120.3  91 4.43 2.140 16.70 0  1  5    2   "
            ]
          },
          "metadata": {}
        }
      ]
    },
    {
      "cell_type": "markdown",
      "source": [
        "## Basic Visualizations in R\n",
        "R is well-known for its abilities to produce good visualizations of numerical data, both on its own, and using the powerful `ggplot2` library (this is probably the best-known library for producing scientific visualizations). Here, I'll just show you some of the basic functionality.\n",
        "\n",
        "### Histograms in R\n",
        "\n",
        "A histogram is used to display the distribution of a numerical variable, grouping data into bins and showing the frequency of observations within each bin.\n",
        "\n",
        "To create a histogram, we just type `hist(vector_name)`."
      ],
      "metadata": {
        "id": "uhoAC1M7KhMV"
      }
    },
    {
      "cell_type": "code",
      "source": [
        "# Basic histogram\n",
        "hist(mtcars$mpg)"
      ],
      "metadata": {
        "id": "U4JmWbPWLKRl",
        "outputId": "255af584-23ee-4091-b6b7-d2eb519ea42f",
        "colab": {
          "base_uri": "https://localhost:8080/",
          "height": 437
        }
      },
      "execution_count": null,
      "outputs": [
        {
          "output_type": "display_data",
          "data": {
            "text/plain": [
              "Plot with title “Histogram of mtcars$mpg”"
            ],
            "image/png": "[encoded data removed]"
          },
          "metadata": {
            "image/png": {
              "width": 420,
              "height": 420
            }
          }
        }
      ]
    },
    {
      "cell_type": "markdown",
      "source": [
        "To improve the histogram with labels and a title:"
      ],
      "metadata": {
        "id": "o8aC0SEVLPur"
      }
    },
    {
      "cell_type": "code",
      "source": [
        "# Enhanced histogram with added labels and title\n",
        "hist(\n",
        "  mtcars$mpg, # The data\n",
        "  main=\"Distribution of Miles Per Gallon\",\n",
        "  xlab=\"Miles Per Gallon\",\n",
        "  ylab=\"Frequency\",\n",
        "  col=\"blue\",\n",
        "  border=\"black\"\n",
        "  )\n"
      ],
      "metadata": {
        "id": "32Rla7RjLSy3",
        "outputId": "7848ae38-19dd-4d24-dbb2-13e355d0f99c",
        "colab": {
          "base_uri": "https://localhost:8080/",
          "height": 437
        }
      },
      "execution_count": null,
      "outputs": [
        {
          "output_type": "display_data",
          "data": {
            "text/plain": [
              "Plot with title “Distribution of Miles Per Gallon”"
            ],
            "image/png": "[encoded data removed]"
          },
          "metadata": {
            "image/png": {
              "width": 420,
              "height": 420
            }
          }
        }
      ]
    },
    {
      "cell_type": "markdown",
      "source": [
        "-   `main` adds a title to the plot.\n",
        "-   `xlab` and `ylab` add labels to the x-axis and y-axis, respectively.\n",
        "-   `col` specifies the fill color for the bins.\n",
        "-   `border` defines the color of the borders around the bins.\n",
        "\n",
        "### Scatterplots in R\n",
        "\n",
        "Scatterplots are used to visualize the relationship between two continuous variables.\n",
        "\n",
        "To create a scatterplot:"
      ],
      "metadata": {
        "id": "0QOfhz0rLmkH"
      }
    },
    {
      "cell_type": "code",
      "source": [
        "# Basic scatterplot\n",
        "plot(mtcars$wt, mtcars$mpg)"
      ],
      "metadata": {
        "id": "JSK810QwLqsS",
        "outputId": "c3bbb190-61ad-4fdd-e648-b0a08c8a1cf0",
        "colab": {
          "base_uri": "https://localhost:8080/",
          "height": 437
        }
      },
      "execution_count": null,
      "outputs": [
        {
          "output_type": "display_data",
          "data": {
            "text/plain": [
              "plot without title"
            ],
            "image/png": "[encoded data removed]"
          },
          "metadata": {
            "image/png": {
              "width": 420,
              "height": 420
            }
          }
        }
      ]
    },
    {
      "cell_type": "markdown",
      "source": [
        "To create the same scatterplot with `ggplot2` and add labels and a title:"
      ],
      "metadata": {
        "id": "OUj33MFNLuAn"
      }
    },
    {
      "cell_type": "code",
      "source": [
        "# Enhanced scatterplot with ggplot2\n",
        "library(ggplot2)\n",
        "\n",
        "# Create the plot\n",
        "## ggplot needs \"data\" and \"aesthetics\"\n",
        "ggplot(data = mtcars,\n",
        "       aes(x = wt, y = mpg)) +\n",
        "\n",
        "# Add a layer of points\n",
        "geom_point() +\n",
        "\n",
        "# Add a title, x-axis label, and y-axis label\n",
        "labs(title=\"Scatterplot of MPG vs. Car Weight\",\n",
        "       x=\"Weight (1000 lbs)\",\n",
        "       y=\"Miles Per Gallon\")\n"
      ],
      "metadata": {
        "id": "eu0scM1sLzB2",
        "outputId": "6822dd1c-99d9-4bea-eb78-0303a46e3295",
        "colab": {
          "base_uri": "https://localhost:8080/",
          "height": 437
        }
      },
      "execution_count": null,
      "outputs": [
        {
          "output_type": "display_data",
          "data": {
            "text/plain": [
              "plot without title"
            ],
            "image/png": "[encoded data removed]"
          },
          "metadata": {
            "image/png": {
              "width": 420,
              "height": 420
            }
          }
        }
      ]
    },
    {
      "cell_type": "markdown",
      "source": [
        "1. The `ggplot()` function is the starting point for any ggplot2 plot. It takes two arguments:\n",
        "    -   `data`: The data frame to be used to create the plot.\n",
        "    -   `aes()`: The aesthetic mappings, which specify how to map variables in the data frame to visual elements of the plot.\n",
        "2. The `geom_point()` function adds a layer of points to the plot. It takes no arguments, but it can be customized using aesthetic mappings.\n",
        "3. The `labs()` function adds labels to the plot, such as a title, x-axis label, and y-axis label. It takes three arguments:\n",
        "  -   `title`: The title of the plot.\n",
        "  -   `x`: The label for the x-axis.\n",
        "  -   `y`: The label for the y-axis."
      ],
      "metadata": {
        "id": "HADFymzOMxaQ"
      }
    },
    {
      "cell_type": "markdown",
      "source": [
        "### Boxplots in R\n",
        "\n",
        "Boxplots are a standardized way of displaying the distribution of data based on a five-number summary: minimum, first quartile, median, third quartile, and maximum.\n",
        "\n",
        "To create a boxplot:"
      ],
      "metadata": {
        "id": "MWhqcrQzNDE0"
      }
    },
    {
      "cell_type": "code",
      "source": [
        "# Basic boxplot\n",
        "boxplot(mtcars$mpg)"
      ],
      "metadata": {
        "id": "GydRtUpQNF1Z",
        "outputId": "ada6d12b-f7db-439b-80f9-42652b13eda8",
        "colab": {
          "base_uri": "https://localhost:8080/",
          "height": 437
        }
      },
      "execution_count": null,
      "outputs": [
        {
          "output_type": "display_data",
          "data": {
            "text/plain": [
              "plot without title"
            ],
            "image/png": "[encoded data removed]"
          },
          "metadata": {
            "image/png": {
              "width": 420,
              "height": 420
            }
          }
        }
      ]
    },
    {
      "cell_type": "markdown",
      "source": [
        "To enhance the boxplot with labels and a title:"
      ],
      "metadata": {
        "id": "cVWp2eA_NM1a"
      }
    },
    {
      "cell_type": "code",
      "source": [
        "# Enhanced boxplot with labels and title\n",
        "boxplot(\n",
        "  mtcars$mpg,\n",
        "  main=\"Boxplot of Miles Per Gallon\",\n",
        "  ylab=\"Miles Per Gallon\",\n",
        "  col=\"lightblue\")\n"
      ],
      "metadata": {
        "id": "rHfrMpUKM6bO",
        "outputId": "9d91cfb0-dd88-4e1d-c26e-9d7d78da50ab",
        "colab": {
          "base_uri": "https://localhost:8080/",
          "height": 437
        }
      },
      "execution_count": null,
      "outputs": [
        {
          "output_type": "display_data",
          "data": {
            "text/plain": [
              "Plot with title “Boxplot of Miles Per Gallon”"
            ],
            "image/png": "[encoded data removed]"
          },
          "metadata": {
            "image/png": {
              "width": 420,
              "height": 420
            }
          }
        }
      ]
    },
    {
      "cell_type": "markdown",
      "source": [
        "-   `main` and `ylab` serve the same purposes as above.\n",
        "-   `col` changes the color of the box.\n",
        "\n",
        "### Titles and Axis Labels\n",
        "\n",
        "Adding titles and axis labels is crucial for making your plots understandable. They should be clear and concise, providing context to the visualized data. In base R, `main`, `xlab`, and `ylab` parameters are typically used for titles and labels within plotting functions like `hist()`, `plot()`, and `boxplot()`. In `ggplot2`, the `labs()` function is commonly employed, which allows for setting the title, subtitle, captions, and labels for aesthetics like color and fill.\n",
        "\n",
        "By using these functions, one can ensure that the plots are not just raw visualizations but carry meaningful interpretations that can be easily grasped by the audience. Remember that the true power of a plot is its ability to communicate the story your data tells."
      ],
      "metadata": {
        "id": "ynLmxtWdNctI"
      }
    },
    {
      "cell_type": "markdown",
      "source": [
        "## Table: Visualizations in Base R\n",
        "\n",
        "| R Code | Explanation |\n",
        "| --- | --- |\n",
        "| `hist(data$variable)` | R code to create a histogram for the specified variable. |\n",
        "| `plot(data$var1, data$var2)` | R code to plot var1 against var2 in a scatterplot. |\n",
        "| `boxplot(data$variable)` | R code to generate a boxplot for the specified variable. |\n",
        "| `title(\"Your Main Title\")` | R code to add a main title to your plot. |\n",
        "| `xlab(\"X-Axis Label\")` | R code to label the x-axis of a plot. |\n",
        "| `ylab(\"Y-Axis Label\")` | R code to label the y-axis of a plot. |\n",
        "| `abline(h = yvalue, col = \"color\", lty = 2)` | R code to add a horizontal line at a specified y-axis value. |\n",
        "| `abline(v = xvalue, col = \"color\", lty = 2)` | R code to add a vertical line at a specified x-axis value. |\n",
        "| `text(x, y, \"label\")` | R code to add text annotations at specified x and y coordinates. |\n",
        "| `points(data$var1, data$var2, col = \"color\")` | R code to add points to a plot; can be used to overlay on an existing plot. |\n",
        "| `lines(data$var1, data$var2, col = \"color\")` | R code to add lines connecting points in a plot. |\n",
        "| `axis(side = 1, at = seq(from, to, by), labels = c(\"label1\", \"label2\"))` | R code to customize the axis ticks and labels. |\n",
        "| `legend(\"topright\", legend = c(\"Group 1\", \"Group 2\"), fill = c(\"color1\", \"color2\"))` | R code to add a legend to a plot. |\n",
        "| `par(mfrow = c(1, 2))` | R code to set the plotting area for a multi-figure layout. |\n",
        "| `barplot(heights)` | R code to create a bar plot with the specified heights. |"
      ],
      "metadata": {
        "id": "4qpvEnknOTiE"
      }
    },
    {
      "cell_type": "markdown",
      "source": [
        "### Example: R Makes Neat Graphics"
      ],
      "metadata": {
        "id": "-BH0sLgNPg5v"
      }
    },
    {
      "cell_type": "code",
      "source": [
        "# Attach the mtcars dataset\n",
        "attach(mtcars)\n",
        "\n",
        "# Set up the graphics layout for a 2x2 panel\n",
        "par(mfrow=c(2,2))\n",
        "\n",
        "# Histogram of 'mpg' with labels and main title\n",
        "hist(mpg, main=\"Histogram of MPG\", xlab=\"Miles Per Gallon\", ylab=\"Frequency\", col=\"blue\")\n",
        "\n",
        "# Scatterplot of 'wt' vs 'mpg'\n",
        "plot(wt, mpg, main=\"Scatterplot of Weight vs MPG\", xlab=\"Weight\", ylab=\"Miles Per Gallon\", pch=19, col=\"red\")\n",
        "\n",
        "# Boxplot of 'hp'\n",
        "boxplot(hp, main=\"Boxplot of Horsepower\", ylab=\"Horsepower\", col=\"green\")\n",
        "\n",
        "# Barplot of 'cyl' count\n",
        "cyl_count <- table(cyl)\n",
        "barplot(cyl_count, main=\"Barplot of Cylinder Count\", xlab=\"Number of Cylinders\", ylab=\"Frequency\", col=\"orange\")\n",
        "\n",
        "# Detach the mtcars dataset after plotting\n",
        "detach(mtcars)\n"
      ],
      "metadata": {
        "id": "5oIQWb64PTjF",
        "outputId": "d4ce3d2c-de3e-4a52-b669-0944ded2404f",
        "colab": {
          "base_uri": "https://localhost:8080/",
          "height": 524
        }
      },
      "execution_count": 56,
      "outputs": [
        {
          "output_type": "stream",
          "name": "stderr",
          "text": [
            "The following object is masked from package:ggplot2:\n",
            "\n",
            "    mpg\n",
            "\n",
            "\n"
          ]
        },
        {
          "output_type": "display_data",
          "data": {
            "text/plain": [
              "Plot with title “Barplot of Cylinder Count”"
            ],
            "image/png": "[encoded data removed]"
          },
          "metadata": {
            "image/png": {
              "width": 420,
              "height": 420
            }
          }
        }
      ]
    }
  ]
}