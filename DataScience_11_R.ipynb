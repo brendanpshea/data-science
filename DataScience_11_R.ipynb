{
  "nbformat": 4,
  "nbformat_minor": 0,
  "metadata": {
    "colab": {
      "provenance": [],
      "authorship_tag": "ABX9TyN8QZDgKQE0uB4ofwJX8axR",
      "include_colab_link": true
    },
    "kernelspec": {
      "name": "ir",
      "display_name": "R"
    },
    "language_info": {
      "name": "R"
    }
  },
  "cells": [
    {
      "cell_type": "markdown",
      "metadata": {
        "id": "view-in-github",
        "colab_type": "text"
      },
      "source": [
        "<a href=\"https://colab.research.google.com/github/brendanpshea/data-science/blob/main/DataScience_11_R.ipynb\" target=\"_parent\"><img src=\"https://colab.research.google.com/assets/colab-badge.svg\" alt=\"Open In Colab\"/></a>"
      ]
    },
    {
      "cell_type": "markdown",
      "source": [
        "# From Python to R\n",
        "### Brendan Shea, PhD\n",
        "THis chapter will provide a brief introduction to **R**. R is a programming language and environment specifically designed for statistical computing and graphics. It is widely used among statisticians and data analysts to develop statistical software and data analysis. In the context of data science, R provides an extensive array of libraries and built-in functions for complex data analysis and graphical models, enabling detailed statistical modeling and visualization.\n",
        "\n",
        "Differences between R and Python in data science primarily revolve around their origins and design philosophies:\n",
        "\n",
        "1. R is rooted in statistical analysis, with a design that inherently understands the needs of data modeling and visualization. Python, while versatile and powerful in data science, is a general-purpose language that has been adapted for data analysis through libraries like Pandas and SciPy.\n",
        "\n",
        "2. R has a slight edge in the complexity and variety of statistical models available, and its graphics packages like `ggplot2` are considered to be more sophisticated in terms of capabilities for creating advanced statistical plots.\n",
        "\n",
        "3. R's community is traditionally composed of statisticians and academics, leading to a wealth of packages for nearly every statistical test or model imaginable. Python's data science community is broader, attracting professionals from various backgrounds including software engineering, leading to a robust set of tools that are often seen as more user-friendly.\n",
        "\n",
        "4. R's syntax is thought to have a somewhat steeper learning curve for those not already familiar with statistical software, whereas Python's syntax is often praised for being more intuitive and easier for beginners to grasp.\n",
        "\n",
        "In the end, however, both Python and R are widely used in Data Science, and its beneficial to have exposure to both languages. Google Colab supports both Python and R (and, in fact, these are the *only* languages it currently supports)."
      ],
      "metadata": {
        "id": "IS3VyoJbW5U9"
      }
    },
    {
      "cell_type": "markdown",
      "source": [
        "## Data Types in R\n",
        "**Vectors** are the most basic data structure in R. They hold elements of the same type. Let's say we're exploring a story where characters collect gems of different values. A vector could represent the values of gems that a character has collected:"
      ],
      "metadata": {
        "id": "bOxQGWHoX7SL"
      }
    },
    {
      "cell_type": "code",
      "source": [
        "gem_values <- c(50, 100, 200, 150)\n",
        "gem_values # display values"
      ],
      "metadata": {
        "colab": {
          "base_uri": "https://localhost:8080/",
          "height": 34
        },
        "id": "dOWZd5aCXywq",
        "outputId": "c7c201e3-5c2e-4e80-8fe5-22f433dd7370"
      },
      "execution_count": 4,
      "outputs": [
        {
          "output_type": "display_data",
          "data": {
            "text/html": [
              "<style>\n",
              ".list-inline {list-style: none; margin:0; padding: 0}\n",
              ".list-inline>li {display: inline-block}\n",
              ".list-inline>li:not(:last-child)::after {content: \"\\00b7\"; padding: 0 .5ex}\n",
              "</style>\n",
              "<ol class=list-inline><li>50</li><li>100</li><li>200</li><li>150</li></ol>\n"
            ],
            "text/markdown": "1. 50\n2. 100\n3. 200\n4. 150\n\n\n",
            "text/latex": "\\begin{enumerate*}\n\\item 50\n\\item 100\n\\item 200\n\\item 150\n\\end{enumerate*}\n",
            "text/plain": [
              "[1]  50 100 200 150"
            ]
          },
          "metadata": {}
        }
      ]
    },
    {
      "cell_type": "markdown",
      "source": [
        "Here, `gem_values` is a numeric vector containing four elements. The `c()` function combines values into a vector.\n",
        "\n",
        "Moving on to Matrices, imagine our characters are in a grid-based world, and we want to represent the number of gems in different grid locations. A matrix could represent this:"
      ],
      "metadata": {
        "id": "sTIpkOgRYKFI"
      }
    },
    {
      "cell_type": "code",
      "source": [
        "grid_gems <- matrix(c(1, 0, 3, 4, 2, 0, 5, 1, 3), nrow = 3, ncol = 3)\n",
        "grid_gems # display matrix"
      ],
      "metadata": {
        "colab": {
          "base_uri": "https://localhost:8080/",
          "height": 163
        },
        "id": "gewSfzFkYONe",
        "outputId": "89501504-4dd9-44a5-b46b-f389e8ee090d"
      },
      "execution_count": 2,
      "outputs": [
        {
          "output_type": "display_data",
          "data": {
            "text/html": [
              "<table class=\"dataframe\">\n",
              "<caption>A matrix: 3 × 3 of type dbl</caption>\n",
              "<tbody>\n",
              "\t<tr><td>1</td><td>4</td><td>5</td></tr>\n",
              "\t<tr><td>0</td><td>2</td><td>1</td></tr>\n",
              "\t<tr><td>3</td><td>0</td><td>3</td></tr>\n",
              "</tbody>\n",
              "</table>\n"
            ],
            "text/markdown": "\nA matrix: 3 × 3 of type dbl\n\n| 1 | 4 | 5 |\n| 0 | 2 | 1 |\n| 3 | 0 | 3 |\n\n",
            "text/latex": "A matrix: 3 × 3 of type dbl\n\\begin{tabular}{lll}\n\t 1 & 4 & 5\\\\\n\t 0 & 2 & 1\\\\\n\t 3 & 0 & 3\\\\\n\\end{tabular}\n",
            "text/plain": [
              "     [,1] [,2] [,3]\n",
              "[1,] 1    4    5   \n",
              "[2,] 0    2    1   \n",
              "[3,] 3    0    3   "
            ]
          },
          "metadata": {}
        }
      ]
    },
    {
      "cell_type": "markdown",
      "source": [
        "This matrix `grid_gems` has 3 rows and 3 columns, showing the count of gems in a 3x3 grid.\n",
        "\n",
        "**Data Frames** are akin to datasets or tables in other software. They can have columns of different types. Suppose we're tracking different types of items (e.g., gems, keys) found by each character:"
      ],
      "metadata": {
        "id": "rJE74vrqYV18"
      }
    },
    {
      "cell_type": "code",
      "source": [
        "characters <- c(\"Aragem\", \"Rubella\", \"Topazia\")\n",
        "gems <- c(5, 3, 8)\n",
        "keys <- c(2, 2, 4)\n",
        "inventory <- data.frame(characters, gems, keys)\n",
        "\n",
        "inventory # display data frame"
      ],
      "metadata": {
        "colab": {
          "base_uri": "https://localhost:8080/",
          "height": 192
        },
        "id": "cuEUPbkfYd-u",
        "outputId": "b6205ca6-b9fc-4c35-a9ca-6302c104cd1b"
      },
      "execution_count": 3,
      "outputs": [
        {
          "output_type": "display_data",
          "data": {
            "text/html": [
              "<table class=\"dataframe\">\n",
              "<caption>A data.frame: 3 × 3</caption>\n",
              "<thead>\n",
              "\t<tr><th scope=col>characters</th><th scope=col>gems</th><th scope=col>keys</th></tr>\n",
              "\t<tr><th scope=col>&lt;chr&gt;</th><th scope=col>&lt;dbl&gt;</th><th scope=col>&lt;dbl&gt;</th></tr>\n",
              "</thead>\n",
              "<tbody>\n",
              "\t<tr><td>Aragem </td><td>5</td><td>2</td></tr>\n",
              "\t<tr><td>Rubella</td><td>3</td><td>2</td></tr>\n",
              "\t<tr><td>Topazia</td><td>8</td><td>4</td></tr>\n",
              "</tbody>\n",
              "</table>\n"
            ],
            "text/markdown": "\nA data.frame: 3 × 3\n\n| characters &lt;chr&gt; | gems &lt;dbl&gt; | keys &lt;dbl&gt; |\n|---|---|---|\n| Aragem  | 5 | 2 |\n| Rubella | 3 | 2 |\n| Topazia | 8 | 4 |\n\n",
            "text/latex": "A data.frame: 3 × 3\n\\begin{tabular}{lll}\n characters & gems & keys\\\\\n <chr> & <dbl> & <dbl>\\\\\n\\hline\n\t Aragem  & 5 & 2\\\\\n\t Rubella & 3 & 2\\\\\n\t Topazia & 8 & 4\\\\\n\\end{tabular}\n",
            "text/plain": [
              "  characters gems keys\n",
              "1 Aragem     5    2   \n",
              "2 Rubella    3    2   \n",
              "3 Topazia    8    4   "
            ]
          },
          "metadata": {}
        }
      ]
    },
    {
      "cell_type": "markdown",
      "source": [
        "The `inventory` data frame has three columns: character names, number of gems, and number of keys.\n",
        "\n",
        "**Lists** in R can contain different types and sizes of elements. For instance, a character's profile including their name, age, and the types of gems they like could be a list:"
      ],
      "metadata": {
        "id": "bIYvuPk_YtVU"
      }
    },
    {
      "cell_type": "code",
      "source": [
        "character_profile <-\n",
        "  list(name = \"Aragem\", age = 42, favorite_gems = c(\"Emerald\", \"Sapphire\"))\n",
        "\n",
        "character_profile"
      ],
      "metadata": {
        "colab": {
          "base_uri": "https://localhost:8080/",
          "height": 149
        },
        "id": "wMR1ym1FY01U",
        "outputId": "6ad23b3c-3388-40db-89f4-4c945cdab08e"
      },
      "execution_count": 6,
      "outputs": [
        {
          "output_type": "display_data",
          "data": {
            "text/html": [
              "<dl>\n",
              "\t<dt>$name</dt>\n",
              "\t\t<dd>'Aragem'</dd>\n",
              "\t<dt>$age</dt>\n",
              "\t\t<dd>42</dd>\n",
              "\t<dt>$favorite_gems</dt>\n",
              "\t\t<dd><style>\n",
              ".list-inline {list-style: none; margin:0; padding: 0}\n",
              ".list-inline>li {display: inline-block}\n",
              ".list-inline>li:not(:last-child)::after {content: \"\\00b7\"; padding: 0 .5ex}\n",
              "</style>\n",
              "<ol class=list-inline><li>'Emerald'</li><li>'Sapphire'</li></ol>\n",
              "</dd>\n",
              "</dl>\n"
            ],
            "text/markdown": "$name\n:   'Aragem'\n$age\n:   42\n$favorite_gems\n:   1. 'Emerald'\n2. 'Sapphire'\n\n\n\n\n\n",
            "text/latex": "\\begin{description}\n\\item[\\$name] 'Aragem'\n\\item[\\$age] 42\n\\item[\\$favorite\\_gems] \\begin{enumerate*}\n\\item 'Emerald'\n\\item 'Sapphire'\n\\end{enumerate*}\n\n\\end{description}\n",
            "text/plain": [
              "$name\n",
              "[1] \"Aragem\"\n",
              "\n",
              "$age\n",
              "[1] 42\n",
              "\n",
              "$favorite_gems\n",
              "[1] \"Emerald\"  \"Sapphire\"\n"
            ]
          },
          "metadata": {}
        }
      ]
    },
    {
      "cell_type": "markdown",
      "source": [
        "Here, `character_profile` includes a string, a numeric value, and a vector of strings.\n",
        "\n",
        "**Factors** are used to represent categorical data. If we have a list of characters' roles in our story, we could use a factor to categorize them:"
      ],
      "metadata": {
        "id": "3kCOn3XEZBpV"
      }
    },
    {
      "cell_type": "code",
      "source": [
        "roles <- factor(c(\"Warrior\", \"Mage\", \"Archer\", \"Mage\"))\n",
        "roles"
      ],
      "metadata": {
        "colab": {
          "base_uri": "https://localhost:8080/",
          "height": 52
        },
        "id": "qVSlV93gZVOt",
        "outputId": "3207ffa6-edac-4ec7-c9b1-37f5311a4045"
      },
      "execution_count": 7,
      "outputs": [
        {
          "output_type": "display_data",
          "data": {
            "text/html": [
              "<style>\n",
              ".list-inline {list-style: none; margin:0; padding: 0}\n",
              ".list-inline>li {display: inline-block}\n",
              ".list-inline>li:not(:last-child)::after {content: \"\\00b7\"; padding: 0 .5ex}\n",
              "</style>\n",
              "<ol class=list-inline><li>Warrior</li><li>Mage</li><li>Archer</li><li>Mage</li></ol>\n",
              "\n",
              "<details>\n",
              "\t<summary style=display:list-item;cursor:pointer>\n",
              "\t\t<strong>Levels</strong>:\n",
              "\t</summary>\n",
              "\t<style>\n",
              "\t.list-inline {list-style: none; margin:0; padding: 0}\n",
              "\t.list-inline>li {display: inline-block}\n",
              "\t.list-inline>li:not(:last-child)::after {content: \"\\00b7\"; padding: 0 .5ex}\n",
              "\t</style>\n",
              "\t<ol class=list-inline><li>'Archer'</li><li>'Mage'</li><li>'Warrior'</li></ol>\n",
              "</details>"
            ],
            "text/markdown": "1. Warrior\n2. Mage\n3. Archer\n4. Mage\n\n\n\n**Levels**: 1. 'Archer'\n2. 'Mage'\n3. 'Warrior'\n\n\n",
            "text/latex": "\\begin{enumerate*}\n\\item Warrior\n\\item Mage\n\\item Archer\n\\item Mage\n\\end{enumerate*}\n\n\\emph{Levels}: \\begin{enumerate*}\n\\item 'Archer'\n\\item 'Mage'\n\\item 'Warrior'\n\\end{enumerate*}\n",
            "text/plain": [
              "[1] Warrior Mage    Archer  Mage   \n",
              "Levels: Archer Mage Warrior"
            ]
          },
          "metadata": {}
        }
      ]
    },
    {
      "cell_type": "markdown",
      "source": [
        "**Logical types** are straightforward: they represent boolean values. We could track whether a character has completed a quest:"
      ],
      "metadata": {
        "id": "-fTSKPoRZisT"
      }
    },
    {
      "cell_type": "code",
      "source": [
        "quest_completed <- c(TRUE, FALSE, TRUE)\n",
        "quest_completed"
      ],
      "metadata": {
        "colab": {
          "base_uri": "https://localhost:8080/",
          "height": 34
        },
        "id": "ET8dINxcZnXj",
        "outputId": "1d84dd90-c75d-49eb-cc15-63bb3d43d7b9"
      },
      "execution_count": 8,
      "outputs": [
        {
          "output_type": "display_data",
          "data": {
            "text/html": [
              "<style>\n",
              ".list-inline {list-style: none; margin:0; padding: 0}\n",
              ".list-inline>li {display: inline-block}\n",
              ".list-inline>li:not(:last-child)::after {content: \"\\00b7\"; padding: 0 .5ex}\n",
              "</style>\n",
              "<ol class=list-inline><li>TRUE</li><li>FALSE</li><li>TRUE</li></ol>\n"
            ],
            "text/markdown": "1. TRUE\n2. FALSE\n3. TRUE\n\n\n",
            "text/latex": "\\begin{enumerate*}\n\\item TRUE\n\\item FALSE\n\\item TRUE\n\\end{enumerate*}\n",
            "text/plain": [
              "[1]  TRUE FALSE  TRUE"
            ]
          },
          "metadata": {}
        }
      ]
    },
    {
      "cell_type": "markdown",
      "source": [
        "The vector `quest_completed` tells us which characters (perhaps in the same order as our `characters` vector) have completed a quest.\n",
        "\n",
        "**Numeric** and **Integer** types are numbers, with the former including decimals and the latter being whole numbers. If each character has a certain amount of gold:"
      ],
      "metadata": {
        "id": "qKkoldFLZxMc"
      }
    },
    {
      "cell_type": "code",
      "source": [
        "gold <- c(100.5, 200, 150) # Numeric\n",
        "gold"
      ],
      "metadata": {
        "colab": {
          "base_uri": "https://localhost:8080/",
          "height": 34
        },
        "id": "NZqWBqy5ZVlO",
        "outputId": "1b8a9695-98a6-494d-d5e8-d61595fcaf5a"
      },
      "execution_count": 9,
      "outputs": [
        {
          "output_type": "display_data",
          "data": {
            "text/html": [
              "<style>\n",
              ".list-inline {list-style: none; margin:0; padding: 0}\n",
              ".list-inline>li {display: inline-block}\n",
              ".list-inline>li:not(:last-child)::after {content: \"\\00b7\"; padding: 0 .5ex}\n",
              "</style>\n",
              "<ol class=list-inline><li>100.5</li><li>200</li><li>150</li></ol>\n"
            ],
            "text/markdown": "1. 100.5\n2. 200\n3. 150\n\n\n",
            "text/latex": "\\begin{enumerate*}\n\\item 100.5\n\\item 200\n\\item 150\n\\end{enumerate*}\n",
            "text/plain": [
              "[1] 100.5 200.0 150.0"
            ]
          },
          "metadata": {}
        }
      ]
    },
    {
      "cell_type": "code",
      "source": [
        "steps_walked <- c(500L, 700L, 450L) # Integer, denoted by 'L'\n",
        "steps_walked"
      ],
      "metadata": {
        "colab": {
          "base_uri": "https://localhost:8080/",
          "height": 34
        },
        "id": "H6cmJThMZ9pI",
        "outputId": "461127e1-fe26-4f12-c90b-5e2330b6e33f"
      },
      "execution_count": 10,
      "outputs": [
        {
          "output_type": "display_data",
          "data": {
            "text/html": [
              "<style>\n",
              ".list-inline {list-style: none; margin:0; padding: 0}\n",
              ".list-inline>li {display: inline-block}\n",
              ".list-inline>li:not(:last-child)::after {content: \"\\00b7\"; padding: 0 .5ex}\n",
              "</style>\n",
              "<ol class=list-inline><li>500</li><li>700</li><li>450</li></ol>\n"
            ],
            "text/markdown": "1. 500\n2. 700\n3. 450\n\n\n",
            "text/latex": "\\begin{enumerate*}\n\\item 500\n\\item 700\n\\item 450\n\\end{enumerate*}\n",
            "text/plain": [
              "[1] 500 700 450"
            ]
          },
          "metadata": {}
        }
      ]
    },
    {
      "cell_type": "markdown",
      "source": [
        "`gold` is a numeric vector with decimals, whereas `steps_walked` is an integer vector showing how many steps each character has walked.\n",
        "\n",
        "Lastly, **Character** types are text strings. If we wanted to note the title given to each character after an achievement:"
      ],
      "metadata": {
        "id": "vnEB2BHpaJwg"
      }
    },
    {
      "cell_type": "code",
      "source": [
        "titles <- c(\"The Brave\", \"The Wise\", \"The Swift\")\n",
        "titles"
      ],
      "metadata": {
        "colab": {
          "base_uri": "https://localhost:8080/",
          "height": 34
        },
        "id": "hx4NYyhQaREx",
        "outputId": "a3d9650d-e24f-4e91-a13a-69079a32234a"
      },
      "execution_count": 11,
      "outputs": [
        {
          "output_type": "display_data",
          "data": {
            "text/html": [
              "<style>\n",
              ".list-inline {list-style: none; margin:0; padding: 0}\n",
              ".list-inline>li {display: inline-block}\n",
              ".list-inline>li:not(:last-child)::after {content: \"\\00b7\"; padding: 0 .5ex}\n",
              "</style>\n",
              "<ol class=list-inline><li>'The Brave'</li><li>'The Wise'</li><li>'The Swift'</li></ol>\n"
            ],
            "text/markdown": "1. 'The Brave'\n2. 'The Wise'\n3. 'The Swift'\n\n\n",
            "text/latex": "\\begin{enumerate*}\n\\item 'The Brave'\n\\item 'The Wise'\n\\item 'The Swift'\n\\end{enumerate*}\n",
            "text/plain": [
              "[1] \"The Brave\" \"The Wise\"  \"The Swift\""
            ]
          },
          "metadata": {}
        }
      ]
    },
    {
      "cell_type": "markdown",
      "source": [
        "The `titles` vector holds these honorary titles as character strings."
      ],
      "metadata": {
        "id": "T6SaXsFwadmE"
      }
    },
    {
      "cell_type": "markdown",
      "source": [
        "## Printing with `cat()`\n",
        "The `cat` function in R is used to concatenate and print objects. It is particularly useful for creating custom-formatted strings and can handle different types of objects by converting them to a character string.\n",
        "\n",
        "To illustrate how `cat` can be used to print and format variables in R, let's utilize our narrative-driven examples with a focus on displaying informative messages.\n",
        "\n",
        "#### Printing a simple message with a vector value:"
      ],
      "metadata": {
        "id": "MJW_pQ3Eaqc3"
      }
    },
    {
      "cell_type": "code",
      "source": [
        "cat(\"The values of gems collected are:\", gem_values, \"\\n\")"
      ],
      "metadata": {
        "colab": {
          "base_uri": "https://localhost:8080/"
        },
        "id": "tB8BNgk9ayiW",
        "outputId": "8683ccb3-1b68-43b6-e525-a2c2317aadb9"
      },
      "execution_count": 12,
      "outputs": [
        {
          "output_type": "stream",
          "name": "stdout",
          "text": [
            "The values of gems collected are: 50 100 200 150 \n"
          ]
        }
      ]
    },
    {
      "cell_type": "markdown",
      "source": [
        "#### Custom message for a data frame's content:"
      ],
      "metadata": {
        "id": "DrXQSCiTaxl8"
      }
    },
    {
      "cell_type": "code",
      "source": [
        "cat(\"Character inventory:\\n\",\n",
        "  \"Names:\", inventory$characters, \"\\n\",\n",
        "  \"- Gems:\", inventory$gems, \"\\n\",\n",
        "  \"- Keys:\", inventory$keys, \"\\n\")"
      ],
      "metadata": {
        "colab": {
          "base_uri": "https://localhost:8080/"
        },
        "id": "0uaWtB7EafDy",
        "outputId": "a00e2fb4-1b6a-4273-cb07-f5b31b7635a2"
      },
      "execution_count": 23,
      "outputs": [
        {
          "output_type": "stream",
          "name": "stdout",
          "text": [
            "Character inventory:\n",
            " Names: Aragem Rubella Topazia \n",
            " - Gems: 5 3 8 \n",
            " - Keys: 2 2 4 \n"
          ]
        }
      ]
    },
    {
      "cell_type": "markdown",
      "source": [
        "Here, we use `$` to access each column of the data frame `inventory`.\n",
        "\n",
        "#### Printing lists:\n",
        "\n",
        "For lists, since they can contain different types of elements, we can print each element with a custom message:"
      ],
      "metadata": {
        "id": "IdhZUJtlbQcW"
      }
    },
    {
      "cell_type": "code",
      "source": [
        "cat(\"Character profile:\\n\",\n",
        "  \"Name:\", character_profile$name, \"- Age:\", character_profile$age, \"\\n\",\n",
        "  \"Favorite gems:\", toString(character_profile$favorite_gems), \"\\n\")"
      ],
      "metadata": {
        "colab": {
          "base_uri": "https://localhost:8080/"
        },
        "id": "ezJUeFfXbXoD",
        "outputId": "9bc631e3-e4e0-4425-f3fc-7db6d0d06707"
      },
      "execution_count": 22,
      "outputs": [
        {
          "output_type": "stream",
          "name": "stdout",
          "text": [
            "Character profile:\n",
            " Name: Aragem - Age: 42 \n",
            " Favorite gems: Emerald, Sapphire \n"
          ]
        }
      ]
    },
    {
      "cell_type": "markdown",
      "source": [
        "`toString()` is used to collapse the elements of the `favorite_gems` vector into a single, comma-separated string.\n",
        "\n",
        "#### To display a factor with custom formatting:"
      ],
      "metadata": {
        "id": "U4xK1xoYbs8p"
      }
    },
    {
      "cell_type": "code",
      "source": [
        "cat(\"Character roles are:\", levels(roles), \"\\n\")"
      ],
      "metadata": {
        "colab": {
          "base_uri": "https://localhost:8080/"
        },
        "id": "3cll3iNpbvoG",
        "outputId": "b83de5c3-5d5b-47f8-877c-e6561d73f4e6"
      },
      "execution_count": 19,
      "outputs": [
        {
          "output_type": "stream",
          "name": "stdout",
          "text": [
            "Character roles are: Archer Mage Warrior \n"
          ]
        }
      ]
    },
    {
      "cell_type": "markdown",
      "source": [
        "This prints out the distinct levels of the factor roles.\n",
        "\n",
        "#### Printing logical values with an explanatory message:"
      ],
      "metadata": {
        "id": "NeDc5Gnqb8QS"
      }
    },
    {
      "cell_type": "code",
      "source": [
        "cat(\"Quest completion status:\",\n",
        "  ifelse(quest_completed, \"Completed\", \"Not completed\"),\n",
        "  \"\\n\")"
      ],
      "metadata": {
        "colab": {
          "base_uri": "https://localhost:8080/"
        },
        "id": "qQgLFbUbb-vW",
        "outputId": "959af802-c900-4813-a7b4-144bc1819889"
      },
      "execution_count": 16,
      "outputs": [
        {
          "output_type": "stream",
          "name": "stdout",
          "text": [
            "Quest completion status: Completed Not completed Completed \n"
          ]
        }
      ]
    },
    {
      "cell_type": "markdown",
      "source": [
        "The `ifelse` function helps in printing \"Completed\" or \"Not completed\" based on the logical values in quest_completed.\n",
        "\n",
        "For numeric and integer vectors, you might want to format the output to control the number of decimal places:"
      ],
      "metadata": {
        "id": "ropFKjD_dRrK"
      }
    },
    {
      "cell_type": "code",
      "source": [
        "cat(\"Gold amounts:\", format(gold, nsmall = 2), \"\\n\") # nsmall ensures two decimal places\n",
        "cat(\"Steps walked:\", steps_walked, \"\\n\")"
      ],
      "metadata": {
        "colab": {
          "base_uri": "https://localhost:8080/"
        },
        "id": "JX8HwFn6dezz",
        "outputId": "1a3975e5-0624-4fd5-a50c-430167c3b03d"
      },
      "execution_count": 24,
      "outputs": [
        {
          "output_type": "stream",
          "name": "stdout",
          "text": [
            "Gold amounts: 100.50 200.00 150.00 \n",
            "Steps walked: 500 700 450 \n"
          ]
        }
      ]
    },
    {
      "cell_type": "markdown",
      "source": [
        "As you can see `cat()` (like python's `print()`, but more highly focused on the formatted display of numerical data) is an incredibly powerful function for displaying data (and you shouldn't expect to master it all right away!)."
      ],
      "metadata": {
        "id": "_8iMOprfdmnH"
      }
    },
    {
      "cell_type": "markdown",
      "source": [
        "## Understanding Vectors\n",
        "\n",
        "**Vectors** are fundamental in R, as they are the simplest type of data structure. Unlike Python, where lists are the go-to linear data structure and can contain elements of different types, R vectors are **homogenous**, meaning all elements must be of the same type. When you attempt to mix types, such as combining numbers and strings, R will coerce the elements to the same type, following a set of hierarchy rules (e.g., numeric to character).\n",
        "\n",
        "There are six basic data types that vectors can hold in R:\n",
        "\n",
        "-   logical\n",
        "-   integer\n",
        "-   double (often called numeric)\n",
        "-   complex\n",
        "-   character\n",
        "-   raw\n",
        "\n",
        "#### Creation\n",
        "You can create vectors using the `c()` function, which stands for 'concatenate' or 'combine':"
      ],
      "metadata": {
        "id": "leVbsjN0e6lo"
      }
    },
    {
      "cell_type": "code",
      "source": [
        "numbers <- c(1, 2, 3, 4, 5)  # Numeric vector\n",
        "characters <- c(\"a\", \"b\", \"c\")  # Character vector\n",
        "booleans <- c(TRUE, FALSE, TRUE)  # Logical vector"
      ],
      "metadata": {
        "id": "y3MzSkNPe9rg"
      },
      "execution_count": 25,
      "outputs": []
    },
    {
      "cell_type": "markdown",
      "source": [
        "### Basic Operations and Characteristics\n",
        "R is **vectorized**, which means that operations are applied to each element of the vector without the need for explicit looping. For instance:"
      ],
      "metadata": {
        "id": "FTONRvHXfIgn"
      }
    },
    {
      "cell_type": "code",
      "source": [
        "numbers\n",
        "numbers * 2  # Multiplies each element of the vector by 2"
      ],
      "metadata": {
        "colab": {
          "base_uri": "https://localhost:8080/",
          "height": 52
        },
        "id": "CZ7DkaFcfRUE",
        "outputId": "6295a40e-bb67-496c-f2f4-a5acb7b56a6f"
      },
      "execution_count": 27,
      "outputs": [
        {
          "output_type": "display_data",
          "data": {
            "text/html": [
              "<style>\n",
              ".list-inline {list-style: none; margin:0; padding: 0}\n",
              ".list-inline>li {display: inline-block}\n",
              ".list-inline>li:not(:last-child)::after {content: \"\\00b7\"; padding: 0 .5ex}\n",
              "</style>\n",
              "<ol class=list-inline><li>1</li><li>2</li><li>3</li><li>4</li><li>5</li></ol>\n"
            ],
            "text/markdown": "1. 1\n2. 2\n3. 3\n4. 4\n5. 5\n\n\n",
            "text/latex": "\\begin{enumerate*}\n\\item 1\n\\item 2\n\\item 3\n\\item 4\n\\item 5\n\\end{enumerate*}\n",
            "text/plain": [
              "[1] 1 2 3 4 5"
            ]
          },
          "metadata": {}
        },
        {
          "output_type": "display_data",
          "data": {
            "text/html": [
              "<style>\n",
              ".list-inline {list-style: none; margin:0; padding: 0}\n",
              ".list-inline>li {display: inline-block}\n",
              ".list-inline>li:not(:last-child)::after {content: \"\\00b7\"; padding: 0 .5ex}\n",
              "</style>\n",
              "<ol class=list-inline><li>2</li><li>4</li><li>6</li><li>8</li><li>10</li></ol>\n"
            ],
            "text/markdown": "1. 2\n2. 4\n3. 6\n4. 8\n5. 10\n\n\n",
            "text/latex": "\\begin{enumerate*}\n\\item 2\n\\item 4\n\\item 6\n\\item 8\n\\item 10\n\\end{enumerate*}\n",
            "text/plain": [
              "[1]  2  4  6  8 10"
            ]
          },
          "metadata": {}
        }
      ]
    },
    {
      "cell_type": "markdown",
      "source": [
        "Elements in a vector are **indexed** starting with 1 (not 0 as in Python). You can access elements with square brackets:"
      ],
      "metadata": {
        "id": "CBu4In7UffH1"
      }
    },
    {
      "cell_type": "code",
      "source": [
        "characters[2] # second element (not third!)"
      ],
      "metadata": {
        "colab": {
          "base_uri": "https://localhost:8080/",
          "height": 34
        },
        "id": "EYCiFY-geDQe",
        "outputId": "9663b3b7-db7c-4e95-8968-5f8827de560c"
      },
      "execution_count": 29,
      "outputs": [
        {
          "output_type": "display_data",
          "data": {
            "text/html": [
              "'b'"
            ],
            "text/markdown": "'b'",
            "text/latex": "'b'",
            "text/plain": [
              "[1] \"b\""
            ]
          },
          "metadata": {}
        }
      ]
    },
    {
      "cell_type": "markdown",
      "source": [
        "The `length()` function gives you the number of elements in a vector:"
      ],
      "metadata": {
        "id": "BYbLuFulfyFx"
      }
    },
    {
      "cell_type": "code",
      "source": [
        "length(numbers)"
      ],
      "metadata": {
        "colab": {
          "base_uri": "https://localhost:8080/",
          "height": 34
        },
        "id": "ipsT7fuvfzuM",
        "outputId": "f60c9a11-7d88-401e-e3f9-ae9dec7b7a55"
      },
      "execution_count": 30,
      "outputs": [
        {
          "output_type": "display_data",
          "data": {
            "text/html": [
              "5"
            ],
            "text/markdown": "5",
            "text/latex": "5",
            "text/plain": [
              "[1] 5"
            ]
          },
          "metadata": {}
        }
      ]
    },
    {
      "cell_type": "markdown",
      "source": [
        "If you try to combine different types, R will **coerce** them into one type, with a hierarchy that generally goes from less to more informative (logical < integer < numeric < complex < character):"
      ],
      "metadata": {
        "id": "80oQbH80f9j7"
      }
    },
    {
      "cell_type": "code",
      "source": [
        "mixed <- c(1, \"a\")\n",
        "str(mixed)  # Will show that all elements are now of character type"
      ],
      "metadata": {
        "colab": {
          "base_uri": "https://localhost:8080/"
        },
        "id": "hHGiSH7hgAtN",
        "outputId": "b2517274-3095-4bbf-bc0d-37f235dd2387"
      },
      "execution_count": 31,
      "outputs": [
        {
          "output_type": "stream",
          "name": "stdout",
          "text": [
            " chr [1:2] \"1\" \"a\"\n"
          ]
        }
      ]
    },
    {
      "cell_type": "markdown",
      "source": [
        "### Basic Mathematical Operations\n",
        "\n",
        "Vectors support arithmetic operations, which are performed element-wise. This means that if you add two vectors together, R will add the first element of the first vector to the first element of the second vector, the second element to the second element, and so on:"
      ],
      "metadata": {
        "id": "8x2d7_odgHWj"
      }
    },
    {
      "cell_type": "code",
      "source": [
        "v1 <- c(10, 20, 30)\n",
        "v2 <- c(1, 2, 3)\n",
        "sum <- v1 + v2  # Results in c(11, 22, 33)\n",
        "\n",
        "cat(\"The sume is:\", sum)"
      ],
      "metadata": {
        "colab": {
          "base_uri": "https://localhost:8080/"
        },
        "id": "jZSJ-rsdgOLz",
        "outputId": "2f88c704-d643-495d-b808-d0d73cbe72de"
      },
      "execution_count": 32,
      "outputs": [
        {
          "output_type": "stream",
          "name": "stdout",
          "text": [
            "The sume is: 11 22 33"
          ]
        }
      ]
    },
    {
      "cell_type": "markdown",
      "source": [
        "Similarly, subtraction, multiplication, and division are also done element-wise:"
      ],
      "metadata": {
        "id": "eUAPWzCEgaCg"
      }
    },
    {
      "cell_type": "code",
      "source": [
        "difference <- v1 - v2\n",
        "product <- v1 * v2\n",
        "quotient <- v1 / v2\n",
        "\n",
        "cat(\"Difference: \", difference,\n",
        "  \"\\nProduct: \", product,\n",
        "  \"\\nQuotient: \", quotient)\n"
      ],
      "metadata": {
        "colab": {
          "base_uri": "https://localhost:8080/"
        },
        "id": "OdrCEsV5geb6",
        "outputId": "b9b0ca15-55fc-49a7-d52b-eb35cd758b6a"
      },
      "execution_count": 34,
      "outputs": [
        {
          "output_type": "stream",
          "name": "stdout",
          "text": [
            "Difference:  9 18 27 \n",
            "Product:  10 40 90 \n",
            "Quotient:  10 10 10"
          ]
        }
      ]
    },
    {
      "cell_type": "markdown",
      "source": [
        "You can also perform operations between a vector and a single number (**scalar**), where the operation is applied to each element:"
      ],
      "metadata": {
        "id": "5sRiDHZfg-oB"
      }
    },
    {
      "cell_type": "code",
      "source": [
        "doubled <- v1 * 2\n",
        "doubled\n"
      ],
      "metadata": {
        "colab": {
          "base_uri": "https://localhost:8080/",
          "height": 34
        },
        "id": "q7_NVe5vhFtN",
        "outputId": "3ade86d5-0604-4cd5-d638-2384e2527963"
      },
      "execution_count": 35,
      "outputs": [
        {
          "output_type": "display_data",
          "data": {
            "text/html": [
              "<style>\n",
              ".list-inline {list-style: none; margin:0; padding: 0}\n",
              ".list-inline>li {display: inline-block}\n",
              ".list-inline>li:not(:last-child)::after {content: \"\\00b7\"; padding: 0 .5ex}\n",
              "</style>\n",
              "<ol class=list-inline><li>20</li><li>40</li><li>60</li></ol>\n"
            ],
            "text/markdown": "1. 20\n2. 40\n3. 60\n\n\n",
            "text/latex": "\\begin{enumerate*}\n\\item 20\n\\item 40\n\\item 60\n\\end{enumerate*}\n",
            "text/plain": [
              "[1] 20 40 60"
            ]
          },
          "metadata": {}
        }
      ]
    },
    {
      "cell_type": "markdown",
      "source": [
        "## Table: R Code to Know\n",
        "\n",
        "| R Code Example | Description |\n",
        "| --- | --- |\n",
        "| `vec <- c(1, 2, 3)` | R code to create a numeric vector with the elements 1, 2, and 3. |\n",
        "| `char_vec <- c(\"a\", \"b\", \"c\")` | R code to create a character vector with the elements 'a', 'b', and 'c'. |\n",
        "| `logic_vec <- c(TRUE, FALSE, TRUE)` | R code to create a logical vector with the elements TRUE, FALSE, and TRUE. |\n",
        "| `vec[2]` | R code to access the second element of a vector. |\n",
        "| `length(vec)` | R code to get the number of elements in a vector. |\n",
        "| `names(vec) <- c(\"first\", \"second\", \"third\")` | R code to assign names to the elements of a vector. |\n",
        "| `sum(vec)` | R code to calculate the sum of the elements in a vector. |\n",
        "| `mean(vec)` | R code to calculate the mean of the elements in a vector. |\n",
        "| `vec * 2` | R code to multiply each element of a vector by 2. |\n",
        "| `cat(\"The value is:\", vec[1])` | R code to print a message followed by the first element of a vector. |\n",
        "| `df$column` | R code to access a specific column in a data frame named `df`. |\n",
        "| `vec > 2` | R code to evaluate whether each element of a vector is greater than 2. |\n",
        "| `!logic_vec` | R code to negate the elements of a logical vector. |\n",
        "| `vec1 + vec2` | R code to add two vectors element-wise. |\n",
        "| `c(vec, 4)` | R code to append an element to the end of a vector. |"
      ],
      "metadata": {
        "id": "0Zjl68E4iSdY"
      }
    },
    {
      "cell_type": "markdown",
      "source": [
        "## Exercises\n",
        "### Exercise 1: Creating Numeric Vectors\n",
        "\n",
        "-   Create a numeric vector with the numbers from 1 to 5.\n",
        "-   Hint: Use the `c()` function to combine values into a vector.\n",
        "\n",
        "### Exercise 2: Creating Character Vectors\n",
        "\n",
        "-   Construct a character vector with the names of the seven days of the week.\n",
        "-   Hint: Remember that character strings must be enclosed in quotes.\n",
        "\n",
        "### Exercise 3: Mixing Types in Vectors\n",
        "\n",
        "-   Try to create a vector that contains both numbers and characters. What happens?\n",
        "-   Hint: R will coerce the data types to be consistent. Observe the result.\n",
        "\n",
        "### Exercise 4: Vector Arithmetic\n",
        "\n",
        "-   Create two numeric vectors, `a` and `b`, each with 5 elements, and calculate their sum.\n",
        "-   Hint: Use `+` to add vectors of the same length.\n",
        "\n",
        "### Exercise 5: Accessing Vector Elements\n",
        "\n",
        "-   Create a vector with 10 elements and access the 4th element.\n",
        "-   Hint: Use the square brackets `[]` with the index of the element you want to access."
      ],
      "metadata": {
        "id": "6aLwLXhbjiny"
      }
    },
    {
      "cell_type": "code",
      "source": [
        "# Exercise 1"
      ],
      "metadata": {
        "id": "g3EhP_JIjkLd"
      },
      "execution_count": null,
      "outputs": []
    },
    {
      "cell_type": "code",
      "source": [
        "# Exercise 2"
      ],
      "metadata": {
        "id": "fHDSZUpIjkUX"
      },
      "execution_count": null,
      "outputs": []
    },
    {
      "cell_type": "code",
      "source": [
        "# Exercise 3"
      ],
      "metadata": {
        "id": "3FlCX1KAjka2"
      },
      "execution_count": null,
      "outputs": []
    },
    {
      "cell_type": "code",
      "source": [
        "# Exercise 4"
      ],
      "metadata": {
        "id": "fAd5Tn_Wjkig"
      },
      "execution_count": null,
      "outputs": []
    },
    {
      "cell_type": "code",
      "source": [
        "# Exercise 5"
      ],
      "metadata": {
        "id": "xcoZ8oz8jp2l"
      },
      "execution_count": null,
      "outputs": []
    },
    {
      "cell_type": "markdown",
      "source": [
        "### Exercise 6: Basic Statistical Operations\n",
        "\n",
        "-   Calculate the mean and standard deviation of a numeric vector with at least 5 elements.\n",
        "-   Hint: Use the `mean()` and `sd()` functions.\n",
        "\n",
        "### Exercise 7: Printing with Formatting\n",
        "\n",
        "-   Use the `cat()` function to print out a statement that includes elements from a vector. For example, print \"The sum of the vector is: \" followed by the actual sum.\n",
        "-   Hint: You'll need to perform a calculation within the `cat()` function and use commas to separate text and calculation.\n",
        "\n",
        "### Exercise 8 (Challenge): Understanding Logical Vectors\n",
        "\n",
        "-   Logical vectors in R represent sequences of TRUE and FALSE values. They are the result of logical operations and are very useful for subsetting and conditional testing.\n",
        "-   Generate a logical vector that signifies whether the numbers 1 through 5 are greater than 3.\n",
        "-   To do this, you will compare a numeric vector (of numbers 1 to 5) the number 4, and R will perform the comparison element-wise and produce a new \"logical vector\".\n",
        "-   Hint: Use a comparison operator like `>` with the `c()` function to create your numeric vector.\n",
        "\n",
        "### Exercise 9 (Challenge): Exploring Named Vectors\n",
        "\n",
        "-   In R, you can assign names to the elements of a vector, which can be especially helpful for readability and referencing elements by name instead of by position.\n",
        "-   Create a numeric vector with three elements. Assign names to each element so that you have a named vector where each element corresponds to \"first\", \"second\", and \"third\".\n",
        "-   Hint: Use the `names()` function to assign names to your vector after you've created it with the `c()` function, like so: `names(my_vector) <- c(\"name1\", \"name2\", \"name3\")`."
      ],
      "metadata": {
        "id": "SlftawRBj1bT"
      }
    },
    {
      "cell_type": "code",
      "source": [
        "# Exercise 6"
      ],
      "metadata": {
        "id": "c4lwROg3kVUA"
      },
      "execution_count": null,
      "outputs": []
    },
    {
      "cell_type": "code",
      "source": [
        "# Exercise 7"
      ],
      "metadata": {
        "id": "uafSCxKFiTDc"
      },
      "execution_count": null,
      "outputs": []
    },
    {
      "cell_type": "code",
      "source": [
        "# Exercise 8"
      ],
      "metadata": {
        "id": "kqaBU_IIkaSA"
      },
      "execution_count": null,
      "outputs": []
    },
    {
      "cell_type": "code",
      "source": [
        "# Exercise 9"
      ],
      "metadata": {
        "id": "8jhyyo9ZkbPQ"
      },
      "execution_count": null,
      "outputs": []
    }
  ]
}